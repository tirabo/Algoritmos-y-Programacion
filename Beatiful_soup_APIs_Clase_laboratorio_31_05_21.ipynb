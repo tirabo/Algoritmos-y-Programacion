{
  "nbformat": 4,
  "nbformat_minor": 0,
  "metadata": {
    "colab": {
      "name": "Clase laboratorio 31-05-21.ipynb",
      "provenance": [],
      "collapsed_sections": [],
      "authorship_tag": "ABX9TyNTYXnxQLM2VreK2xWLIwqU",
      "include_colab_link": true
    },
    "kernelspec": {
      "name": "python3",
      "display_name": "Python 3"
    },
    "language_info": {
      "name": "python"
    }
  },
  "cells": [
    {
      "cell_type": "markdown",
      "metadata": {
        "id": "view-in-github",
        "colab_type": "text"
      },
      "source": [
        "<a href=\"https://colab.research.google.com/github/tirabo/Algoritmos-y-Programacion/blob/main/Beatiful_soup_APIs_Clase_laboratorio_31_05_21.ipynb\" target=\"_parent\"><img src=\"https://colab.research.google.com/assets/colab-badge.svg\" alt=\"Open In Colab\"/></a>"
      ]
    },
    {
      "cell_type": "markdown",
      "metadata": {
        "id": "Qxtgmcf8Ym8O"
      },
      "source": [
        "### Estructura básica de los documentos html\n",
        "\n",
        "- Cada página comienza con `<html>`.\n",
        "- A continuación viene la cabecera, delimitada por `<head>` y `</head>`.\n",
        "- Después, el comando `<body>`, que indica el comienzo del cuerpo de la página. \n",
        "- Las el contenido de la página y las instrucciones HTML se escribirán a continuación, y finalizarán con `</body>`.\n",
        "- La página acabará con `</html>`.\n",
        "- Todo elemento HTML  comienza con un tag tipo `<tag>` y  cierra en el mismo tag  precedido de `/`,  es decir `</tag>`. \n",
        "\n",
        "*Ejemplo.* La siguiente es una página HTML válida. `title` es el tag para el título de la página (el que aparece en la tab del navegador)  `h1` es el tag para un encabezamiento de tamaño grande y `p` es el tag correspondiente a un párrafo. \n",
        "```\n",
        "<html>\n",
        "\n",
        "<head>\n",
        "    <title>Page Title</title>\n",
        "</head>\n",
        "\n",
        "<body>\n",
        "    <h1>This is a Heading</h1>\n",
        "    <p>This is a paragraph.</p>\n",
        "    <p>Esté es otro párrafo.</p>\n",
        "</body>\n",
        "\n",
        "</html>\n",
        "```\n",
        "Las página permiten mútiples tipos de elementos,  entre ellos *tablas* que es una entidad que usaremos luego. \n",
        "\n",
        "*Ejemplo.* El siguiente es código HTML válido con una tabla incluida. \n",
        "\n",
        "\n",
        "```\n",
        "<html>\n",
        "<head>\n",
        "<title>Page Title</title>\n",
        "</head>\n",
        "<body>\n",
        "<h1>This is a Heading</h1>\n",
        "<p>This is a paragraph.</p>\n",
        "<p>A continuación una tabla.</p>\n",
        "<p>\n",
        "    <table>\n",
        "        <tr>\n",
        "            <td>a</td> <td>b</td> <td>c</td> \n",
        "        </tr>\n",
        "        <tr>\n",
        "            <td>1234</td> <td>50</td> <td>ddd</td>\n",
        "        </tr>\n",
        "    </table>\n",
        "</p>\n",
        "</body>\n",
        "</html>\n",
        "```\n",
        "\n"
      ]
    },
    {
      "cell_type": "markdown",
      "metadata": {
        "id": "_2Q4gaI9Rg8v"
      },
      "source": [
        "### Uso de `BeautifulSoup` para estructurar datos obtenidos de un sitio web"
      ]
    },
    {
      "cell_type": "code",
      "metadata": {
        "id": "1bT8TCs28p4o"
      },
      "source": [
        "import requests\n",
        "from bs4 import BeautifulSoup\n",
        "# pip install beautifulsoup4\n",
        "# pip install lxml\n",
        "# Ya están instalados en Colab. En un entorno propio deben instalarse"
      ],
      "execution_count": null,
      "outputs": []
    },
    {
      "cell_type": "markdown",
      "metadata": {
        "id": "qKMNDe_kJUcf"
      },
      "source": [
        "- Con `requests` podemos bajar una página web.\n",
        "- Con `BeautifulSoup` extraemos información estructurada de la página"
      ]
    },
    {
      "cell_type": "code",
      "metadata": {
        "id": "BWDG7i_39Ep4",
        "colab": {
          "base_uri": "https://localhost:8080/"
        },
        "outputId": "aee2ae2c-9bd2-4c3c-a4fb-e51cd1f8e6da"
      },
      "source": [
        "r = requests.get('https://www.tutiempo.net/registros/saco/5-marzo-2019.html')\n",
        "# print(r.text) # muestra la pagina\n",
        "soup = BeautifulSoup(r.text, 'lxml') # parsea la página con las reglas lxml \n",
        "table = soup.find('table', {'style': 'width: 100%'}) # extrae la tabla con style=\"width: 100%\" (es la única con ese estilo)\n",
        "# print(type(soup))\n",
        "# print(tabla)\n",
        "\n",
        "output_rows = []\n",
        "rows = table.find_all('tr') # las filas de la tabla\n",
        "for table_row in rows:\n",
        "    columns = table_row.find_all('td') # columnas de cada fila\n",
        "    output_row = []\n",
        "    for column in columns:\n",
        "        output_row.append(column.text)\n",
        "    if len(output_row) != 0:\n",
        "        output_rows.append(output_row)\n",
        "\n",
        "# output_rows es una lista de listas cada elemento de output_rows es de la forma\n",
        "# ['hora', 'descripción', 'temperatura', 'viento', 'humedad', 'presión']\n",
        "for u in output_rows:\n",
        "  print(u)\n"
      ],
      "execution_count": null,
      "outputs": [
        {
          "output_type": "stream",
          "name": "stdout",
          "text": [
            "['00:00', 'Parcialmente cubierto', '18°', '6 km/h', '100%', '1014 hPa']\n",
            "['01:00', 'Neblina', '19°', '7 km/h', '94%', '1015 hPa']\n",
            "['02:00', 'Neblina', '19°', '6 km/h', '100%', '1015 hPa']\n",
            "['03:00', 'Mayormente cubierto', '19°', 'En calma', '100%', '1015 hPa']\n",
            "['04:00', 'Mayormente cubierto', '19°', '4 km/h', '100%', '1015 hPa']\n",
            "['05:00', 'Llovizna', '19°', '6 km/h', '100%', '1015 hPa']\n",
            "['06:00', 'Llovizna', '19°', '6 km/h', '100%', '1015 hPa']\n",
            "['07:00', 'Llovizna', '19°', '6 km/h', '100%', '1015 hPa']\n",
            "['08:00', 'Llovizna', '19°', '6 km/h', '100%', '1016 hPa']\n",
            "['09:00', 'Neblina', '19°', '7 km/h', '100%', '1017 hPa']\n",
            "['10:00', 'Llovizna', '19°', '11 km/h', '100%', '1017 hPa']\n",
            "['10:38', 'Llovizna', '19°', '11 km/h', '100%', '1017 hPa']\n",
            "['11:00', 'Llovizna', '19°', '13 km/h', '94%', '1017 hPa']\n",
            "['12:00', 'Neblina', '20°', '15 km/h', '88%', '1017 hPa']\n",
            "['14:00', 'Llovizna', '20°', '15 km/h', '94%', '1017 hPa']\n",
            "['15:00', 'Mayormente cubierto', '22°', '20 km/h', '83%', '1017 hPa']\n",
            "['16:00', 'Mayormente cubierto', '22°', '20 km/h', '78%', '1016 hPa']\n",
            "['17:00', 'Cielo cubierto', '22°', '19 km/h', '83%', '1016 hPa']\n",
            "['17:18', 'Llovizna', '21°', '22 km/h', '88%', '1016 hPa']\n",
            "['18:00', 'Llovizna', '21°', '15 km/h', '88%', '1015 hPa']\n",
            "['18:30', 'Llovizna', '21°', '15 km/h', '88%', '1015 hPa']\n",
            "['19:00', 'Mayormente cubierto', '21°', '7 km/h', '94%', '1014 hPa']\n",
            "['20:00', 'Parcialmente cubierto', '20°', '4 km/h', '88%', '1014 hPa']\n",
            "['21:00', 'Despejado', '19°', '11 km/h', '100%', '1013 hPa']\n",
            "['22:00', 'Despejado', '19°', '9 km/h', '94%', '1014 hPa']\n",
            "['22:54', 'Neblina', '19°', '19 km/h', '94%', '1015 hPa']\n",
            "['23:00', 'Niebla', '19°', '20 km/h', '94%', '1015 hPa']\n"
          ]
        }
      ]
    },
    {
      "cell_type": "markdown",
      "metadata": {
        "id": "W5pEiY6LxVB_"
      },
      "source": [
        "El código anterior recupera  todos los valores de la tabla elegida. Sin embargo, hay un dato, la dirección del viento,  que no es un valor de una celda de la tabla sinó un atributo de una celda. Por lo tanto, debemos modificar un poco el código para obtener lo que deseamos. \n"
      ]
    },
    {
      "cell_type": "code",
      "metadata": {
        "colab": {
          "base_uri": "https://localhost:8080/"
        },
        "id": "JMZtn5LEwvHa",
        "outputId": "d6fef3dc-cc97-48ea-d5b5-2ea7a8ddc7c8"
      },
      "source": [
        "r = requests.get('https://www.tutiempo.net/registros/saco/5-marzo-2019.html')\n",
        "# print(r.text) # muestra la pagina\n",
        "soup = BeautifulSoup(r.text, 'lxml') # parsea la página con las reglas lxml \n",
        "table = soup.find('table', {'style': 'width: 100%'}) # extrae la tabla con style=\"width: 100%\" (es la única con ese estilo)\n",
        "# print(type(soup))\n",
        "# print(tabla)\n",
        "\n",
        "output_rows = []\n",
        "rows = table.find_all('tr') # las filas de la tabla\n",
        "for table_row in rows:\n",
        "    columns = table_row.find_all('td') # columnas de cada fila\n",
        "    output_row = []\n",
        "    for column in columns:\n",
        "        if column.img != None: # si existe el tag 'img'\n",
        "            input_tag = column.img['title'] # recupera en el tag 'img' el valor del atributo 'title'\n",
        "            output_row.append(input_tag) # dirección del viento\n",
        "        output_row.append(column.text)\n",
        "    if len(output_row) != 0:\n",
        "        output_rows.append(output_row)\n",
        "\n",
        "for u in output_rows:\n",
        "  print(u)"
      ],
      "execution_count": null,
      "outputs": [
        {
          "output_type": "stream",
          "name": "stdout",
          "text": [
            "['00:00', 'Parcialmente cubierto', '18°', 'Nordeste', '6 km/h', '100%', '1014 hPa']\n",
            "['01:00', 'Neblina', '19°', 'Este', '7 km/h', '94%', '1015 hPa']\n",
            "['02:00', 'Neblina', '19°', 'Este', '6 km/h', '100%', '1015 hPa']\n",
            "['03:00', 'Mayormente cubierto', '19°', 'En calma', 'En calma', '100%', '1015 hPa']\n",
            "['04:00', 'Mayormente cubierto', '19°', 'Variable', '4 km/h', '100%', '1015 hPa']\n",
            "['05:00', 'Llovizna', '19°', 'Sureste', '6 km/h', '100%', '1015 hPa']\n",
            "['06:00', 'Llovizna', '19°', 'Nordeste', '6 km/h', '100%', '1015 hPa']\n",
            "['07:00', 'Llovizna', '19°', 'Este', '6 km/h', '100%', '1015 hPa']\n",
            "['08:00', 'Llovizna', '19°', 'Nordeste', '6 km/h', '100%', '1016 hPa']\n",
            "['09:00', 'Neblina', '19°', 'Nordeste', '7 km/h', '100%', '1017 hPa']\n",
            "['10:00', 'Llovizna', '19°', 'Nordeste', '11 km/h', '100%', '1017 hPa']\n",
            "['10:38', 'Llovizna', '19°', 'Nordeste', '11 km/h', '100%', '1017 hPa']\n",
            "['11:00', 'Llovizna', '19°', 'Nordeste', '13 km/h', '94%', '1017 hPa']\n",
            "['12:00', 'Neblina', '20°', 'Nordeste', '15 km/h', '88%', '1017 hPa']\n",
            "['14:00', 'Llovizna', '20°', 'Nordeste', '15 km/h', '94%', '1017 hPa']\n",
            "['15:00', 'Mayormente cubierto', '22°', 'Nordeste', '20 km/h', '83%', '1017 hPa']\n",
            "['16:00', 'Mayormente cubierto', '22°', 'Nordeste', '20 km/h', '78%', '1016 hPa']\n",
            "['17:00', 'Cielo cubierto', '22°', 'Nordeste', '19 km/h', '83%', '1016 hPa']\n",
            "['17:18', 'Llovizna', '21°', 'Nordeste', '22 km/h', '88%', '1016 hPa']\n",
            "['18:00', 'Llovizna', '21°', 'Nordeste', '15 km/h', '88%', '1015 hPa']\n",
            "['18:30', 'Llovizna', '21°', 'Nordeste', '15 km/h', '88%', '1015 hPa']\n",
            "['19:00', 'Mayormente cubierto', '21°', 'Norte', '7 km/h', '94%', '1014 hPa']\n",
            "['20:00', 'Parcialmente cubierto', '20°', 'Noroeste', '4 km/h', '88%', '1014 hPa']\n",
            "['21:00', 'Despejado', '19°', 'Suroeste', '11 km/h', '100%', '1013 hPa']\n",
            "['22:00', 'Despejado', '19°', 'Sureste', '9 km/h', '94%', '1014 hPa']\n",
            "['22:54', 'Neblina', '19°', 'Nordeste', '19 km/h', '94%', '1015 hPa']\n",
            "['23:00', 'Niebla', '19°', 'Nordeste', '20 km/h', '94%', '1015 hPa']\n"
          ]
        }
      ]
    },
    {
      "cell_type": "code",
      "metadata": {
        "colab": {
          "base_uri": "https://localhost:8080/"
        },
        "id": "6DOkthv9w1MT",
        "outputId": "3a568b26-3dc3-4790-aab3-71e9da4931f2"
      },
      "source": [
        "# Convertimos la lista de listas en un diccionario de diccionarios\n",
        "# (es la lista con dirección del viento)\n",
        "keys = ['hora', 'descripción', 'temperatura', 'dirección', 'viento', 'humedad', 'presión'] \n",
        "output_dct = {}\n",
        "\n",
        "for fila in output_rows:\n",
        "    output_dct[fila[0]] = {keys[i]: fila[i] for i in range(len(fila))}\n",
        "\n",
        "for u in output_dct.keys():\n",
        "  print('clave:',u,'valor:', output_dct[u])"
      ],
      "execution_count": null,
      "outputs": [
        {
          "output_type": "stream",
          "name": "stdout",
          "text": [
            "clave: 00:00 valor: {'hora': '00:00', 'descripción': 'Parcialmente cubierto', 'temperatura': '18°', 'dirección': 'Nordeste', 'viento': '6 km/h', 'humedad': '100%', 'presión': '1014 hPa'}\n",
            "clave: 01:00 valor: {'hora': '01:00', 'descripción': 'Neblina', 'temperatura': '19°', 'dirección': 'Este', 'viento': '7 km/h', 'humedad': '94%', 'presión': '1015 hPa'}\n",
            "clave: 02:00 valor: {'hora': '02:00', 'descripción': 'Neblina', 'temperatura': '19°', 'dirección': 'Este', 'viento': '6 km/h', 'humedad': '100%', 'presión': '1015 hPa'}\n",
            "clave: 03:00 valor: {'hora': '03:00', 'descripción': 'Mayormente cubierto', 'temperatura': '19°', 'dirección': 'En calma', 'viento': 'En calma', 'humedad': '100%', 'presión': '1015 hPa'}\n",
            "clave: 04:00 valor: {'hora': '04:00', 'descripción': 'Mayormente cubierto', 'temperatura': '19°', 'dirección': 'Variable', 'viento': '4 km/h', 'humedad': '100%', 'presión': '1015 hPa'}\n",
            "clave: 05:00 valor: {'hora': '05:00', 'descripción': 'Llovizna', 'temperatura': '19°', 'dirección': 'Sureste', 'viento': '6 km/h', 'humedad': '100%', 'presión': '1015 hPa'}\n",
            "clave: 06:00 valor: {'hora': '06:00', 'descripción': 'Llovizna', 'temperatura': '19°', 'dirección': 'Nordeste', 'viento': '6 km/h', 'humedad': '100%', 'presión': '1015 hPa'}\n",
            "clave: 07:00 valor: {'hora': '07:00', 'descripción': 'Llovizna', 'temperatura': '19°', 'dirección': 'Este', 'viento': '6 km/h', 'humedad': '100%', 'presión': '1015 hPa'}\n",
            "clave: 08:00 valor: {'hora': '08:00', 'descripción': 'Llovizna', 'temperatura': '19°', 'dirección': 'Nordeste', 'viento': '6 km/h', 'humedad': '100%', 'presión': '1016 hPa'}\n",
            "clave: 09:00 valor: {'hora': '09:00', 'descripción': 'Neblina', 'temperatura': '19°', 'dirección': 'Nordeste', 'viento': '7 km/h', 'humedad': '100%', 'presión': '1017 hPa'}\n",
            "clave: 10:00 valor: {'hora': '10:00', 'descripción': 'Llovizna', 'temperatura': '19°', 'dirección': 'Nordeste', 'viento': '11 km/h', 'humedad': '100%', 'presión': '1017 hPa'}\n",
            "clave: 10:38 valor: {'hora': '10:38', 'descripción': 'Llovizna', 'temperatura': '19°', 'dirección': 'Nordeste', 'viento': '11 km/h', 'humedad': '100%', 'presión': '1017 hPa'}\n",
            "clave: 11:00 valor: {'hora': '11:00', 'descripción': 'Llovizna', 'temperatura': '19°', 'dirección': 'Nordeste', 'viento': '13 km/h', 'humedad': '94%', 'presión': '1017 hPa'}\n",
            "clave: 12:00 valor: {'hora': '12:00', 'descripción': 'Neblina', 'temperatura': '20°', 'dirección': 'Nordeste', 'viento': '15 km/h', 'humedad': '88%', 'presión': '1017 hPa'}\n",
            "clave: 14:00 valor: {'hora': '14:00', 'descripción': 'Llovizna', 'temperatura': '20°', 'dirección': 'Nordeste', 'viento': '15 km/h', 'humedad': '94%', 'presión': '1017 hPa'}\n",
            "clave: 15:00 valor: {'hora': '15:00', 'descripción': 'Mayormente cubierto', 'temperatura': '22°', 'dirección': 'Nordeste', 'viento': '20 km/h', 'humedad': '83%', 'presión': '1017 hPa'}\n",
            "clave: 16:00 valor: {'hora': '16:00', 'descripción': 'Mayormente cubierto', 'temperatura': '22°', 'dirección': 'Nordeste', 'viento': '20 km/h', 'humedad': '78%', 'presión': '1016 hPa'}\n",
            "clave: 17:00 valor: {'hora': '17:00', 'descripción': 'Cielo cubierto', 'temperatura': '22°', 'dirección': 'Nordeste', 'viento': '19 km/h', 'humedad': '83%', 'presión': '1016 hPa'}\n",
            "clave: 17:18 valor: {'hora': '17:18', 'descripción': 'Llovizna', 'temperatura': '21°', 'dirección': 'Nordeste', 'viento': '22 km/h', 'humedad': '88%', 'presión': '1016 hPa'}\n",
            "clave: 18:00 valor: {'hora': '18:00', 'descripción': 'Llovizna', 'temperatura': '21°', 'dirección': 'Nordeste', 'viento': '15 km/h', 'humedad': '88%', 'presión': '1015 hPa'}\n",
            "clave: 18:30 valor: {'hora': '18:30', 'descripción': 'Llovizna', 'temperatura': '21°', 'dirección': 'Nordeste', 'viento': '15 km/h', 'humedad': '88%', 'presión': '1015 hPa'}\n",
            "clave: 19:00 valor: {'hora': '19:00', 'descripción': 'Mayormente cubierto', 'temperatura': '21°', 'dirección': 'Norte', 'viento': '7 km/h', 'humedad': '94%', 'presión': '1014 hPa'}\n",
            "clave: 20:00 valor: {'hora': '20:00', 'descripción': 'Parcialmente cubierto', 'temperatura': '20°', 'dirección': 'Noroeste', 'viento': '4 km/h', 'humedad': '88%', 'presión': '1014 hPa'}\n",
            "clave: 21:00 valor: {'hora': '21:00', 'descripción': 'Despejado', 'temperatura': '19°', 'dirección': 'Suroeste', 'viento': '11 km/h', 'humedad': '100%', 'presión': '1013 hPa'}\n",
            "clave: 22:00 valor: {'hora': '22:00', 'descripción': 'Despejado', 'temperatura': '19°', 'dirección': 'Sureste', 'viento': '9 km/h', 'humedad': '94%', 'presión': '1014 hPa'}\n",
            "clave: 22:54 valor: {'hora': '22:54', 'descripción': 'Neblina', 'temperatura': '19°', 'dirección': 'Nordeste', 'viento': '19 km/h', 'humedad': '94%', 'presión': '1015 hPa'}\n",
            "clave: 23:00 valor: {'hora': '23:00', 'descripción': 'Niebla', 'temperatura': '19°', 'dirección': 'Nordeste', 'viento': '20 km/h', 'humedad': '94%', 'presión': '1015 hPa'}\n"
          ]
        }
      ]
    },
    {
      "cell_type": "markdown",
      "metadata": {
        "id": "jmvlHIpJKGUe"
      },
      "source": [
        "### Uso de APIs para obtener datos\n",
        "Ciertas API nos permiten, entre otras cosas, extraer información estructurada de un sitio web con el método `get` de `requests`. En  algunas casos se solicita una id para acceder. \n",
        "\n",
        "*Ejemplo.*\n",
        "```\n",
        "requests.get('https://api.tutiempo.net/json/?lan=es&apid=4CTaaaq4z44757o&ll=-31.3170,-64.2170').json()\n",
        "\n",
        "```\n",
        "Nos devuelve datos del clima actual y pronósticos de la localidad con latitud -31.3170 y longitud -64.2170. El id (que se obtiene en el sitio web [api.tutiempo.net](https://api.tutiempo.net)) es `'4CTaaaq4z44757o&ll'`. Los datos son devueltos en formato json, similar al formato de un diccionario de Python (pese a que su origen no está relacionado, js  viene de *Java Script*). \n",
        "\n"
      ]
    },
    {
      "cell_type": "code",
      "metadata": {
        "colab": {
          "base_uri": "https://localhost:8080/"
        },
        "id": "YxU3TKQ2Jwzo",
        "outputId": "e9e5df0b-3448-4cf1-aa9e-c16c9c5d4434"
      },
      "source": [
        "import datetime\n",
        "# http://api.open-notify.org provee de una API para determinar el horario de las próximas \n",
        "# 5 pasadas de la Estación Espacial Internacional por una localidad dada\n",
        "# Esta API no requiere id.\n",
        "\n",
        "query = {'lat':'-31.3170', 'lon':'-64.2170'} # -31.3170  -64.2170 (Córdoba)\n",
        "response = requests.get('http://api.open-notify.org/iss-pass.json', params=query)\n",
        "# print(response.json())\n",
        "\n",
        "for u in response.json()['response']:\n",
        "  print('Duración:',str(u['duration']) + 's')\n",
        "  print('Hora:',datetime.datetime.fromtimestamp(u['risetime']-3*3600))\n"
      ],
      "execution_count": null,
      "outputs": [
        {
          "output_type": "stream",
          "name": "stdout",
          "text": [
            "Duración: 540s\n",
            "Hora: 2021-10-18 18:07:20\n",
            "Duración: 654s\n",
            "Hora: 2021-10-18 19:42:53\n",
            "Duración: 472s\n",
            "Hora: 2021-10-18 21:21:55\n",
            "Duración: 139s\n",
            "Hora: 2021-10-18 23:03:17\n",
            "Duración: 336s\n",
            "Hora: 2021-10-19 00:40:30\n"
          ]
        }
      ]
    },
    {
      "cell_type": "code",
      "metadata": {
        "colab": {
          "base_uri": "https://localhost:8080/"
        },
        "id": "8tj4L_xqQLCg",
        "outputId": "799c8a82-fbf7-4cf0-fd76-a41e3f6106e6"
      },
      "source": [
        "# Tu tiempo\n",
        "response = requests.get('https://api.tutiempo.net/json/?lan=es&apid=4CTaaaq4z44757o&ll=-31.3170,-64.2170').json()\n",
        "#print(response)\n",
        "\n",
        "print('Pronóstico 7 días:', response['locality']['name']+', '+ response['locality']['country'] )\n",
        "for u in response.keys():\n",
        "  if u[:3] == 'day':\n",
        "    print(str(response[u]['date'])+'  max: '+str(response[u]['temperature_max'])+'  min: '+str(response[u]['temperature_min'])+'   hum: '+str(response[u]['humidity'])+'   viento: '+str(response[u]['wind'])+'   dirección: '+str(response[u]['wind_direction'])+'    descripción: '+str(response[u]['text']))"
      ],
      "execution_count": null,
      "outputs": [
        {
          "output_type": "stream",
          "name": "stdout",
          "text": [
            "Pronóstico 7 días: Cordoba Aerodrome, Argentina\n",
            "2021-10-18  max: 24  min: 13   hum: 33   viento: 14   dirección: Oeste    descripción: Muy nuboso con lluvias\n",
            "2021-10-19  max: 29  min: 13   hum: 26   viento: 25   dirección: Nordeste    descripción: Despejado\n",
            "2021-10-20  max: 29  min: 14   hum: 26   viento: 28   dirección: Nordeste    descripción: Cubierto\n",
            "2021-10-21  max: 31  min: 15   hum: 30   viento: 28   dirección: Nordeste    descripción: Parcialmente nuboso\n",
            "2021-10-22  max: 30  min: 17   hum: 44   viento: 21   dirección: Nordeste    descripción: Cubierto con lluvias\n",
            "2021-10-23  max: 28  min: 15   hum: 51   viento: 22   dirección: Sureste    descripción: Muy nuboso\n",
            "2021-10-24  max: 31  min: 12   hum: 23   viento: 21   dirección: Oeste    descripción: Despejado\n"
          ]
        }
      ]
    }
  ]
}