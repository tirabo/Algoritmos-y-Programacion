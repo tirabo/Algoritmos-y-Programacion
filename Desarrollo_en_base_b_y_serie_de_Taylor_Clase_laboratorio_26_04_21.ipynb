{
  "nbformat": 4,
  "nbformat_minor": 0,
  "metadata": {
    "colab": {
      "name": "Clase laboratorio 26-04-21.ipynb",
      "provenance": [],
      "collapsed_sections": [],
      "authorship_tag": "ABX9TyPsooQ9ljP/+JuWRcyJpRmk",
      "include_colab_link": true
    },
    "kernelspec": {
      "name": "python3",
      "display_name": "Python 3"
    },
    "language_info": {
      "name": "python"
    }
  },
  "cells": [
    {
      "cell_type": "markdown",
      "metadata": {
        "id": "view-in-github",
        "colab_type": "text"
      },
      "source": [
        "<a href=\"https://colab.research.google.com/github/tirabo/Algoritmos-y-Programacion/blob/main/Desarrollo_en_base_b_y_serie_de_Taylor_Clase_laboratorio_26_04_21.ipynb\" target=\"_parent\"><img src=\"https://colab.research.google.com/assets/colab-badge.svg\" alt=\"Open In Colab\"/></a>"
      ]
    },
    {
      "cell_type": "markdown",
      "metadata": {
        "id": "LRZ4MOWsGusR"
      },
      "source": [
        "### Desarrollo en base $b \\ge 2$\n",
        "\n",
        "Un número entero positivo se puede escribir de una única forma \n",
        "$$\n",
        "n = \\sum_{i=0}^k a_i b^i = a_kb^k + a_{k-1}b^{k-1} + \\cdots + a_1 b + a_0,\n",
        "$$\n",
        "donde $a_k \\ne 0$ y $ 0 \\le a_i < b$ ($0 \\le i \\le k$). \n",
        "\n",
        "Escribimos $n = (a_ka_{k-1} \\ldots a_0)_b$. \n",
        "\n",
        "La suma de número binarios se puede hacer directamente,  teniendo en cuenta que  $(1)_2 + (1)_2 = (10)_2$. Por ejemplo, \n",
        "$$\n",
        "(10)_2 + (10)_2 = (100)_2, \\quad (10111)_2 + (100)_2 = (11011)_2. \n",
        "$$\n",
        "\n",
        "En  forma análoga si $t \\in \\mathbb R$, $t >0$, \n",
        "$$\n",
        "t = \\sum_{i=-\\infty}^k a_i b^i.\n",
        "$$\n",
        "donde $a_k \\ne 0$ y $ 0 \\le a_i < b$ ($-\\infty \\le i \\le k$). \n",
        "\n",
        "*Ejemplos.* Escribamos $0.5$ en base $2$.\n",
        "$$\n",
        "0.5 = \\frac{1}{2} = 1\\cdot 2^{-1},\n",
        "$$\n",
        "luego $0.5 = (0.1)_2$. \n",
        "\n",
        "¿Qué  número es (en base 10) el número $(0.01)_2$? \n",
        "$$\n",
        "(0.01)_2 = 1 \\cdot 2^{-2} = 0.25. \n",
        "$$"
      ]
    },
    {
      "cell_type": "code",
      "metadata": {
        "colab": {
          "base_uri": "https://localhost:8080/"
        },
        "id": "IrACgRsYesp1",
        "outputId": "ff901dbd-d84e-4d0a-f82b-c64466acad72"
      },
      "source": [
        "# En base 2 tenemos las siguientes representaciones\n",
        "# 0.1 = (0.0001 1001 1001 1001 ....)_2\n",
        "# 0.1 + 0.1 = (0.0011 0011 0011 0011 0011 0011 ....)_2\n",
        "# 0.1 + 0.1 + 0.1 = (0.0100 1100 1100 1100 1100 ....)_2\n",
        "# 0.1 + 0.1 + 0.1 + 0.1 = (0.0110 0110 0110 0110 ....)_2\n",
        "# 0.1 + 0.1 + 0.1 + 0.1 + 0.1 = (0.1)_2 (que es = a (2**(-1)) = 1/2)\n",
        "\n",
        "print(0.1 + 0.1)\n",
        "print(0.1 + 0.1 + 0.1)\n",
        "print(0.1 + 0.1 + 0.1 + 0.1 )\n",
        "print(0.1 + 0.1 + 0.1 + 0.1 + 0.1)\n",
        "\n",
        "print(0.1 + 0.1 + 0.1 - 0.3)\n",
        "x, y = 0.1 + 0.1 + 0.1, 0.1\n",
        "print('Se pierde exactitud en los cálculos: x**2 + y =', x**2 + y,'. Debería dar', 0.19)"
      ],
      "execution_count": null,
      "outputs": [
        {
          "output_type": "stream",
          "text": [
            "0.2\n",
            "0.30000000000000004\n",
            "0.4\n",
            "0.5\n",
            "5.551115123125783e-17\n",
            "Se pierde exactitud en los cálculos: x**2 + y = 0.19000000000000003 . Debería dar 0.19\n"
          ],
          "name": "stdout"
        }
      ]
    },
    {
      "cell_type": "markdown",
      "metadata": {
        "id": "f-sLRmwNeWaM"
      },
      "source": [
        "Como se vió en la celda anterior `0.1 + 0.1 + 0.1` no da exactamente `0.3` y eso es por la representación binaria de Python. \n",
        "\n",
        "La biblioteca `Decimal` nos permite hacer operaciones con números representados en forma decimal exactas. \n",
        "\n",
        "Con la biblioteca `Decimal`  `0.1 + 0.1 + 0.1 - 0.3` es exactamente igual a cero. En `float`, el resultado es `5.551115123125783e-17`. Aunque cercanas a cero, las diferencias impiden pruebas de igualdad confiables y las diferencias pueden acumularse. Por estas razones, se recomienda el uso de `Decimal` en aplicaciones de contabilidad con estrictas restricciones de confiabilidad."
      ]
    },
    {
      "cell_type": "code",
      "metadata": {
        "colab": {
          "base_uri": "https://localhost:8080/"
        },
        "id": "J6bDcFgZk0gZ",
        "outputId": "6a93b0d0-e3d3-474f-d3f8-253306681631"
      },
      "source": [
        "from decimal import *\n",
        "import math\n",
        "getcontext().prec = 28\n",
        "x = Decimal(1)\n",
        "print(x)\n",
        "print(Decimal('0.1') + Decimal('0.1'))\n",
        "print(Decimal('0.1') + Decimal('0.1') + Decimal('0.1'))\n",
        "print(Decimal('0.1') + Decimal('0.1') + Decimal('0.1') + Decimal('0.1'))\n",
        "print(Decimal('0.1') + Decimal('0.1') + Decimal('0.1') + Decimal('0.1') + Decimal('0.1'))\n",
        "print(Decimal('0.1') + Decimal('0.1') + Decimal('0.1') - Decimal('0.3'))\n",
        "\n",
        "x, y = Decimal('0.1') + Decimal('0.1') + Decimal('0.1'), Decimal('0.1')\n",
        "print('Los cálculos son exactos: x**2 + y =', x**2 + y,'. Debería dar (y da)', 0.19)\n",
        "\n"
      ],
      "execution_count": null,
      "outputs": [
        {
          "output_type": "stream",
          "text": [
            "1\n",
            "0.2\n",
            "0.3\n",
            "0.4\n",
            "0.5\n",
            "0.0\n",
            "Los cálculos son exactos: x**2 + y = 0.19 . Debería dar (y da) 0.19\n"
          ],
          "name": "stdout"
        }
      ]
    },
    {
      "cell_type": "code",
      "source": [
        ""
      ],
      "metadata": {
        "id": "p6uZJgq9S-QD"
      },
      "execution_count": null,
      "outputs": []
    },
    {
      "cell_type": "markdown",
      "metadata": {
        "id": "5mDb5c0gmwL-"
      },
      "source": [
        "### Series de Taylor para la exponencial\n",
        "\n",
        "En  la clase pasada vimos que el número $e$ se definía como\n",
        "$$\n",
        "e = \\lim_{n \\to \\infty} \\left( 1 + \\frac{1}{n}  \\right)^n.\n",
        "$$ \n",
        "y \n",
        "$$\n",
        "e^x = \\lim_{n \\to \\infty} \\left( 1 + \\frac{1}{n}  \\right)^{nx}.\n",
        "$$\n",
        "Una mejor forma de calcular $e$ es con la serie de Taylor, \n",
        "$$\n",
        "e = \\sum_{i=0}^{\\infty} \\frac1{i!}.\n",
        "$$\n",
        "y\n",
        "$$\n",
        "e^x = \\sum_{i=0}^{\\infty} \\frac1{i!}x^i.\n",
        "$$\n",
        "Luego,  una aproximación de $e^x$, de grado $n$ es\n",
        "$$\n",
        "e^x = \\sum_{i=0}^{n} \\frac1{i!}x^i.\n",
        "$$\n"
      ]
    },
    {
      "cell_type": "code",
      "metadata": {
        "colab": {
          "base_uri": "https://localhost:8080/"
        },
        "id": "A1ruIqxYGxPk",
        "outputId": "11b9ee75-3202-44f7-8e30-43c4ca04ded2"
      },
      "source": [
        "def exp(x: float, n: int) -> float:\n",
        "  # Calcula la serie de Taylor de e**x hasta grado n\n",
        "  # e**x = \\sum_{n=0}^\\infty x**n / n!\n",
        "  ex = 0\n",
        "  for i in range(n + 1):\n",
        "    ex = ex + x**i / math.factorial(i)\n",
        "  return ex\n",
        "\n",
        "print(exp(1, 10)) # aproximación de e (e**1)\n",
        "print(exp(-1,10)) # aproximación de e**(-1)\n",
        "\n",
        "\n",
        "\n"
      ],
      "execution_count": null,
      "outputs": [
        {
          "output_type": "stream",
          "text": [
            "2.7182818011463845\n",
            "0.3678794642857144\n"
          ],
          "name": "stdout"
        }
      ]
    },
    {
      "cell_type": "markdown",
      "metadata": {
        "id": "jTjpPbLWhzrm"
      },
      "source": [
        "Podemos mejorar la precisión con `Decimal`."
      ]
    },
    {
      "cell_type": "code",
      "metadata": {
        "colab": {
          "base_uri": "https://localhost:8080/"
        },
        "id": "9ry0ogs8Fibi",
        "outputId": "01391238-3dce-4636-d8df-898f460b7761"
      },
      "source": [
        "getcontext().prec = 50 # precisión hasta 50 dígitos\n",
        "\n",
        "def expD(x: float, n: int) -> float:\n",
        "  # Calcula la serie de Taylor de e**x hasta grado n\n",
        "  # e**x = \\sum_{n=0}^\\infty x**n / n!\n",
        "  aprox_ex = Decimal('0')\n",
        "  for i in range(n + 1):\n",
        "    aprox_ex = aprox_ex + Decimal(str(x))**i / Decimal(str(math.factorial(i)))\n",
        "  return aprox_ex\n",
        "\n",
        "# Observación: debemos poner Decimal(str(x)) pues, aunque Decimal acepta float, \n",
        "#    para preservar la precisión se deben ingresar números como strings. \n",
        "\n",
        "print(Decimal(exp(1,10))- expD(1,10)) # varían a partir de decimal 16\n",
        "\n",
        "# Observación: la expresión print(exp(1,10)- expD(1,10)) nos devuelve error pues \n",
        "#   exp(1,10) es float y expD(1,10) es decimal.Decimal \n",
        "\n",
        "\n"
      ],
      "execution_count": null,
      "outputs": [
        {
          "output_type": "stream",
          "text": [
            "3.3428090787302773294730581724244225E-17\n"
          ],
          "name": "stdout"
        }
      ]
    },
    {
      "cell_type": "markdown",
      "metadata": {
        "id": "hJ-i7cBbQdEj"
      },
      "source": [
        "## Notación *dot*\n",
        "\n",
        "Veremos en clases siguientes que Python es un lenguaje orientado a objetos y que \"todo\" es un objeto en Python.  \n",
        "\n",
        "Ejemplifiquemos un poco: las cadenas son objetos de la clase `str`, las listas son objetos de la clase `list`. \n",
        "\n",
        "La notación de punto (.) es una forma de acceder a los atributos y métodos de objetos. \n",
        "\n",
        "Por lo general, está precedido por la instancia del objeto, mientras que el extremo derecho de la notación de puntos contiene los atributos y métodos."
      ]
    },
    {
      "cell_type": "code",
      "metadata": {
        "colab": {
          "base_uri": "https://localhost:8080/"
        },
        "id": "3aLPoZB0u8au",
        "outputId": "b2bd3f87-89e3-4ab9-8346-4e63c6e64380"
      },
      "source": [
        "myTuple = [\"John\", \"Peter\", \"Vicky\"]\n",
        "x = \"#\".join(myTuple)\n",
        "# El método join de la  clase string se aplica a un iterable (cadena, lista, tupla, etc.)\n",
        "# Retorna una cadena de caracteres formada por la concatenación de las cadenas en el iterable. \n",
        "# Se usa como separador entre los elementos la cadena de caracteres pasada como parámetro.\n",
        "print(x)\n",
        "\n",
        "cadena = 'Algoritmos y programación'\n",
        "x = \"_\".join(cadena)\n",
        "print(x)\n",
        "\n",
        "# Hay tres tipos de funciones o métodos \n",
        "# 1) funcion(x) # funcion se aplica directamente a x.\n",
        "# 2) x.funcion() # .funcion() devuelve un valor a ser utilizado\n",
        "# 3) x.funcion() # .funcion() modifica el objeto x (y puede devolver algo o no). \n",
        "\n",
        "# 1)  \n",
        "lista = [3, 5, 1, 7 , -2]\n",
        "lista2 = sorted(lista) # devuelve una lista ordenada\n",
        "print(lista)\n",
        "print(lista2)\n",
        "\n",
        "# 2)\n",
        "x = \" hola ! \\t \".strip() # strip() devuelve la cadena sin espacios, ni tabulaciones\n",
        "                          # al principio y al final.\n",
        "print('inicio'+\" hola ! \\t \"+'fin')\n",
        "print('inicio'+x+'fin')\n",
        "\n",
        "# 3)\n",
        "lista = [3, 5, 1, 7 , -2]\n",
        "lista.sort() # ordena la lista original\n",
        "print(lista)\n",
        "\n"
      ],
      "execution_count": null,
      "outputs": [
        {
          "output_type": "stream",
          "text": [
            "John#Peter#Vicky\n",
            "A_l_g_o_r_i_t_m_o_s_ _y_ _p_r_o_g_r_a_m_a_c_i_ó_n\n",
            "[3, 5, 1, 7, -2]\n",
            "[-2, 1, 3, 5, 7]\n",
            "inicio hola ! \t fin\n",
            "iniciohola !fin\n",
            "[-2, 1, 3, 5, 7]\n"
          ],
          "name": "stdout"
        }
      ]
    }
  ]
}