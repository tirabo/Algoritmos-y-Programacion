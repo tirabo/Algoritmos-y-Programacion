{
  "nbformat": 4,
  "nbformat_minor": 0,
  "metadata": {
    "colab": {
      "name": "2- Python como calculadora.ipynb",
      "provenance": [],
      "authorship_tag": "ABX9TyOmHCsYWvKJxo2ySZ7mSA3L"
    },
    "kernelspec": {
      "name": "python3",
      "display_name": "Python 3"
    },
    "language_info": {
      "name": "python"
    }
  },
  "cells": [
    {
      "cell_type": "code",
      "metadata": {
        "colab": {
          "base_uri": "https://localhost:8080/"
        },
        "id": "rQm8JOdCh6cW",
        "outputId": "8da51144-6521-4f7c-9487-9c2580773f4f"
      },
      "source": [
        "2 +2 \n"
      ],
      "execution_count": null,
      "outputs": [
        {
          "output_type": "execute_result",
          "data": {
            "text/plain": [
              "4"
            ]
          },
          "metadata": {},
          "execution_count": 1
        }
      ]
    },
    {
      "cell_type": "code",
      "metadata": {
        "colab": {
          "base_uri": "https://localhost:8080/"
        },
        "id": "3IjVRyBsh-3O",
        "outputId": "14c3dc56-b6cd-4cb6-a640-d361e861db84"
      },
      "source": [
        "5*7"
      ],
      "execution_count": null,
      "outputs": [
        {
          "output_type": "execute_result",
          "data": {
            "text/plain": [
              "35"
            ]
          },
          "metadata": {},
          "execution_count": 2
        }
      ]
    },
    {
      "cell_type": "code",
      "metadata": {
        "colab": {
          "base_uri": "https://localhost:8080/"
        },
        "id": "Q4wwX2j3iC3u",
        "outputId": "1a1213de-fca2-486e-8dca-0e9129f055de"
      },
      "source": [
        "3**5"
      ],
      "execution_count": null,
      "outputs": [
        {
          "output_type": "execute_result",
          "data": {
            "text/plain": [
              "243"
            ]
          },
          "metadata": {},
          "execution_count": 3
        }
      ]
    },
    {
      "cell_type": "code",
      "metadata": {
        "colab": {
          "base_uri": "https://localhost:8080/"
        },
        "id": "Y3qtPkUUiJUM",
        "outputId": "84b378cb-0053-4f7b-942d-7118d96ca4b3"
      },
      "source": [
        "10**0.5\n"
      ],
      "execution_count": null,
      "outputs": [
        {
          "output_type": "execute_result",
          "data": {
            "text/plain": [
              "3.1622776601683795"
            ]
          },
          "metadata": {},
          "execution_count": 5
        }
      ]
    },
    {
      "cell_type": "markdown",
      "metadata": {
        "id": "AK84soxpiVs4"
      },
      "source": [
        "*Recordar:* $\\sqrt[n]{a} = a^{1/n}$. Luego\n",
        "$$\n",
        "\\sqrt{10} = 10^{1/2} = 10^{0.5}.\n",
        "$$"
      ]
    },
    {
      "cell_type": "code",
      "metadata": {
        "id": "PXm6xi6IjClh"
      },
      "source": [
        "import math"
      ],
      "execution_count": null,
      "outputs": []
    },
    {
      "cell_type": "code",
      "metadata": {
        "colab": {
          "base_uri": "https://localhost:8080/"
        },
        "id": "8d6sLzcpjM18",
        "outputId": "7613e6ad-a940-416a-bb2b-b365fdc61099"
      },
      "source": [
        "math.log(10)"
      ],
      "execution_count": null,
      "outputs": [
        {
          "output_type": "execute_result",
          "data": {
            "text/plain": [
              "2.302585092994046"
            ]
          },
          "metadata": {},
          "execution_count": 7
        }
      ]
    },
    {
      "cell_type": "code",
      "metadata": {
        "id": "2q2P1aNAjUsL"
      },
      "source": [
        "math.log10(10)\n",
        "\n",
        "\n",
        "\n"
      ],
      "execution_count": null,
      "outputs": []
    },
    {
      "cell_type": "code",
      "metadata": {
        "colab": {
          "base_uri": "https://localhost:8080/"
        },
        "id": "AQl4t8TEjgPr",
        "outputId": "5f81722f-b856-4295-8042-4ae1a51e5954"
      },
      "source": [
        "math.sin(0)"
      ],
      "execution_count": null,
      "outputs": [
        {
          "output_type": "execute_result",
          "data": {
            "text/plain": [
              "0.0"
            ]
          },
          "metadata": {},
          "execution_count": 9
        }
      ]
    },
    {
      "cell_type": "code",
      "metadata": {
        "colab": {
          "base_uri": "https://localhost:8080/"
        },
        "id": "jUmKwndHjlOB",
        "outputId": "ef11ed8d-5c66-41ae-f4eb-bf4cf6d5c0d3"
      },
      "source": [
        "math.sin(360)"
      ],
      "execution_count": null,
      "outputs": [
        {
          "output_type": "execute_result",
          "data": {
            "text/plain": [
              "0.9589157234143065"
            ]
          },
          "metadata": {},
          "execution_count": 10
        }
      ]
    },
    {
      "cell_type": "code",
      "metadata": {
        "colab": {
          "base_uri": "https://localhost:8080/"
        },
        "id": "9gdrcmyCjwoT",
        "outputId": "91ec1dc0-db6f-4bc5-8e01-dbb468e63fa6"
      },
      "source": [
        "math.pi"
      ],
      "execution_count": null,
      "outputs": [
        {
          "output_type": "execute_result",
          "data": {
            "text/plain": [
              "3.141592653589793"
            ]
          },
          "metadata": {},
          "execution_count": 11
        }
      ]
    },
    {
      "cell_type": "code",
      "metadata": {
        "colab": {
          "base_uri": "https://localhost:8080/"
        },
        "id": "U3HhewRdj1Qk",
        "outputId": "2763694f-5336-4e88-b1a3-83d6a824866d"
      },
      "source": [
        "math.sin(2 * math.pi)"
      ],
      "execution_count": null,
      "outputs": [
        {
          "output_type": "execute_result",
          "data": {
            "text/plain": [
              "-2.4492935982947064e-16"
            ]
          },
          "metadata": {},
          "execution_count": 12
        }
      ]
    },
    {
      "cell_type": "markdown",
      "metadata": {
        "id": "D0Wd4M5-j_Zh"
      },
      "source": [
        "La expresión `-2.4492935982947064e-16` se lee $-2.4492935982947064 \\times 10^{-16}$. Es decir es\n",
        "$$\n",
        "-0.00000000000000024492935982947064\n",
        "$$\n",
        "\n",
        "Para devolver todas las funciones del módulo ejecutamos `dir(math)`:"
      ]
    },
    {
      "cell_type": "code",
      "metadata": {
        "colab": {
          "base_uri": "https://localhost:8080/"
        },
        "id": "Hut4aN6Zk0e8",
        "outputId": "668e40b3-a95e-4066-a77b-ddc78a944d8f"
      },
      "source": [
        "dir(math)"
      ],
      "execution_count": null,
      "outputs": [
        {
          "output_type": "execute_result",
          "data": {
            "text/plain": [
              "['__doc__',\n",
              " '__loader__',\n",
              " '__name__',\n",
              " '__package__',\n",
              " '__spec__',\n",
              " 'acos',\n",
              " 'acosh',\n",
              " 'asin',\n",
              " 'asinh',\n",
              " 'atan',\n",
              " 'atan2',\n",
              " 'atanh',\n",
              " 'ceil',\n",
              " 'copysign',\n",
              " 'cos',\n",
              " 'cosh',\n",
              " 'degrees',\n",
              " 'e',\n",
              " 'erf',\n",
              " 'erfc',\n",
              " 'exp',\n",
              " 'expm1',\n",
              " 'fabs',\n",
              " 'factorial',\n",
              " 'floor',\n",
              " 'fmod',\n",
              " 'frexp',\n",
              " 'fsum',\n",
              " 'gamma',\n",
              " 'gcd',\n",
              " 'hypot',\n",
              " 'inf',\n",
              " 'isclose',\n",
              " 'isfinite',\n",
              " 'isinf',\n",
              " 'isnan',\n",
              " 'ldexp',\n",
              " 'lgamma',\n",
              " 'log',\n",
              " 'log10',\n",
              " 'log1p',\n",
              " 'log2',\n",
              " 'modf',\n",
              " 'nan',\n",
              " 'pi',\n",
              " 'pow',\n",
              " 'radians',\n",
              " 'remainder',\n",
              " 'sin',\n",
              " 'sinh',\n",
              " 'sqrt',\n",
              " 'tan',\n",
              " 'tanh',\n",
              " 'tau',\n",
              " 'trunc']"
            ]
          },
          "metadata": {},
          "execution_count": 15
        }
      ]
    },
    {
      "cell_type": "code",
      "metadata": {
        "colab": {
          "base_uri": "https://localhost:8080/"
        },
        "id": "Qi-A0TDalU3-",
        "outputId": "d2d0a059-32bd-43a6-e2fa-e1b068cd1499"
      },
      "source": [
        "math.degrees(math.pi)"
      ],
      "execution_count": null,
      "outputs": [
        {
          "output_type": "execute_result",
          "data": {
            "text/plain": [
              "180.0"
            ]
          },
          "metadata": {},
          "execution_count": 19
        }
      ]
    },
    {
      "cell_type": "code",
      "metadata": {
        "colab": {
          "base_uri": "https://localhost:8080/"
        },
        "id": "vBvvz54NlyKm",
        "outputId": "ad02e470-8c20-4856-f1ec-71ce1c9b4fee"
      },
      "source": [
        "math.sin(math.radians(360))"
      ],
      "execution_count": null,
      "outputs": [
        {
          "output_type": "execute_result",
          "data": {
            "text/plain": [
              "-2.4492935982947064e-16"
            ]
          },
          "metadata": {},
          "execution_count": 20
        }
      ]
    },
    {
      "cell_type": "code",
      "metadata": {
        "colab": {
          "base_uri": "https://localhost:8080/"
        },
        "id": "ul0K19rnl_bm",
        "outputId": "c15d963e-1381-44a5-ad14-cc18a9644b50"
      },
      "source": [
        "math.e\n",
        "math.log(math.e)"
      ],
      "execution_count": null,
      "outputs": [
        {
          "output_type": "execute_result",
          "data": {
            "text/plain": [
              "1.0"
            ]
          },
          "metadata": {},
          "execution_count": 22
        }
      ]
    },
    {
      "cell_type": "markdown",
      "metadata": {
        "id": "mfYpGl-WmLbQ"
      },
      "source": [
        "Recordemos que $\\log(a) = b$ si y solo si $e^b = a$.\n",
        "\n",
        "En  general \n",
        "$$\n",
        "\\log_a(x) = y \\Leftrightarrow a^y = x. \n",
        "$$\n",
        "\n",
        "La función `log1p(x)` devuelve `log(1 + x)`: "
      ]
    },
    {
      "cell_type": "code",
      "metadata": {
        "colab": {
          "base_uri": "https://localhost:8080/"
        },
        "id": "khJI4gfhmxjn",
        "outputId": "6ed517b2-19d3-4a22-d46d-d196a99a31c3"
      },
      "source": [
        "math.log1p(10) # "
      ],
      "execution_count": null,
      "outputs": [
        {
          "output_type": "execute_result",
          "data": {
            "text/plain": [
              "2.3978952727983707"
            ]
          },
          "metadata": {},
          "execution_count": 2
        }
      ]
    },
    {
      "cell_type": "code",
      "metadata": {
        "colab": {
          "base_uri": "https://localhost:8080/"
        },
        "id": "d_8V9yaprmzl",
        "outputId": "a7e025a7-3e8f-4a16-cd71-a2d24839f0c1"
      },
      "source": [
        "math.log1p(math.e - 1)"
      ],
      "execution_count": null,
      "outputs": [
        {
          "output_type": "execute_result",
          "data": {
            "text/plain": [
              "1.0"
            ]
          },
          "metadata": {},
          "execution_count": 3
        }
      ]
    },
    {
      "cell_type": "code",
      "metadata": {
        "colab": {
          "base_uri": "https://localhost:8080/"
        },
        "id": "WH1LlBIonGgU",
        "outputId": "36fe172e-b374-4e34-869f-50864aa48ee1"
      },
      "source": [
        "math.log(11)"
      ],
      "execution_count": null,
      "outputs": [
        {
          "output_type": "execute_result",
          "data": {
            "text/plain": [
              "2.3978952727983707"
            ]
          },
          "metadata": {},
          "execution_count": 26
        }
      ]
    },
    {
      "cell_type": "code",
      "metadata": {
        "colab": {
          "base_uri": "https://localhost:8080/"
        },
        "id": "0XWUE-CqnRLh",
        "outputId": "9e9c6631-70e2-4b88-d229-743e00fda561"
      },
      "source": [
        "math.pow(2, 3)"
      ],
      "execution_count": null,
      "outputs": [
        {
          "output_type": "execute_result",
          "data": {
            "text/plain": [
              "8.0"
            ]
          },
          "metadata": {},
          "execution_count": 27
        }
      ]
    },
    {
      "cell_type": "code",
      "metadata": {
        "colab": {
          "base_uri": "https://localhost:8080/"
        },
        "id": "HouKvv0DnWxN",
        "outputId": "ad67b84b-f424-41b6-c5e5-2ff6a9603f04"
      },
      "source": [
        "2**3"
      ],
      "execution_count": null,
      "outputs": [
        {
          "output_type": "execute_result",
          "data": {
            "text/plain": [
              "8"
            ]
          },
          "metadata": {},
          "execution_count": 28
        }
      ]
    },
    {
      "cell_type": "code",
      "metadata": {
        "colab": {
          "base_uri": "https://localhost:8080/"
        },
        "id": "4qUt67U2nfDW",
        "outputId": "b3cc6c4d-f317-4206-8bbf-1587eb8b8bc9"
      },
      "source": [
        "5 + math.inf / 2"
      ],
      "execution_count": null,
      "outputs": [
        {
          "output_type": "execute_result",
          "data": {
            "text/plain": [
              "inf"
            ]
          },
          "metadata": {},
          "execution_count": 31
        }
      ]
    },
    {
      "cell_type": "markdown",
      "metadata": {
        "id": "Sl3zMcfPsEw_"
      },
      "source": [
        "Para evitar escribir `math.` antes de cada función ejecutamos la siguiente celda  de código:"
      ]
    },
    {
      "cell_type": "code",
      "metadata": {
        "id": "VA0U308msOTg",
        "colab": {
          "base_uri": "https://localhost:8080/"
        },
        "outputId": "1c938185-7834-424e-d9fb-90a27aa86df0"
      },
      "source": [
        "from math import *\n",
        "sin(2 * pi)"
      ],
      "execution_count": null,
      "outputs": [
        {
          "output_type": "execute_result",
          "data": {
            "text/plain": [
              "-2.4492935982947064e-16"
            ]
          },
          "metadata": {},
          "execution_count": 2
        }
      ]
    },
    {
      "cell_type": "markdown",
      "metadata": {
        "id": "DdtghJIGsSjl"
      },
      "source": [
        "Si sabemos que vamos a utilizar algunas funciones determinadas del módulo, podemos importar solamente esa funciones:"
      ]
    },
    {
      "cell_type": "code",
      "metadata": {
        "colab": {
          "base_uri": "https://localhost:8080/"
        },
        "id": "GL5zk4tzn6Zl",
        "outputId": "39744819-4df8-4dd5-da7a-5d3587bafbd6"
      },
      "source": [
        "from math import log, e\n",
        "log(e)"
      ],
      "execution_count": null,
      "outputs": [
        {
          "output_type": "execute_result",
          "data": {
            "text/plain": [
              "1.0"
            ]
          },
          "metadata": {},
          "execution_count": 2
        }
      ]
    },
    {
      "cell_type": "markdown",
      "metadata": {
        "id": "bDCuHOhosfmx"
      },
      "source": [
        "Si queremos acortar o cambiar el nombre del módulo dentro de nuestro programa podemos hacer algo como lo siguiente:"
      ]
    },
    {
      "cell_type": "code",
      "metadata": {
        "colab": {
          "base_uri": "https://localhost:8080/"
        },
        "id": "57CuD_AjoO8c",
        "outputId": "4c4203d4-5487-42fa-f488-f1ab1158c8ee"
      },
      "source": [
        "import math as mt\n",
        "mt.log(mt.e)"
      ],
      "execution_count": null,
      "outputs": [
        {
          "output_type": "execute_result",
          "data": {
            "text/plain": [
              "1.0"
            ]
          },
          "metadata": {},
          "execution_count": 6
        }
      ]
    }
  ]
}