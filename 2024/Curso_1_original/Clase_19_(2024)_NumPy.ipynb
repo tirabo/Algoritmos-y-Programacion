{
  "nbformat": 4,
  "nbformat_minor": 0,
  "metadata": {
    "colab": {
      "provenance": []
    },
    "kernelspec": {
      "name": "python3",
      "display_name": "Python 3"
    },
    "language_info": {
      "name": "python"
    }
  },
  "cells": [
    {
      "cell_type": "markdown",
      "metadata": {
        "id": "h7zwTx_hihhj"
      },
      "source": [
        "# Introducción a NumPy\n",
        "\n",
        "**Referencias:**\n",
        "\n",
        "- https://www.freecodecamp.org/espanol/news/la-guia-definitiva-del-paquete-numpy-para-computacion-cientifica-en-python/\n",
        "- https://numpy.org/doc/stable/\n",
        "- http://www.denebola.org/japp/CC/numpy.html\n",
        "\n",
        "*Esencialmente* NumPy es una biblioteca donde la estructura más destacada es la de *arreglo* o *array* en inglés. NumPy también permite a los desarrolladores de Python realizar en forma rápida una amplia variedad de cálculo numéricos.\n",
        "\n",
        "Es de mucho uso en las aplicaciones numéricas."
      ]
    },
    {
      "cell_type": "markdown",
      "source": [
        "## 1. ¿Qué es NumPy?\n",
        "NumPy es el paquete fundamental para la computación científica en Python. Es una biblioteca de Python que proporciona matrices multidimensionales, varios objetos derivados (como matrices y matrices enmascaradas), y un surtido de rutinas para realizar operaciones rápidas con matrices, incluyendo operaciones matemáticas, lógicas, de manipulación de formas, de ordenación, de selección, de E/S, de transformadas discretas de Fourier, de álgebra lineal básica, de operaciones estadísticas básicas, de simulación aleatoria y mucho más.\n",
        "\n",
        "**Principales características**\n",
        "\n",
        "1. POTENTES ARRAYS N-DIMENSIONALES.\n",
        "Rápidos y versátiles, los conceptos de vectorización, indexación y difusión de NumPy son los estándares de facto de la computación de arrays hoy en día.\n",
        "2. HERRAMIENTAS DE CÁLCULO NUMÉRICO.\n",
        "NumPy ofrece funciones matemáticas completas, generadores de números aleatorios, rutinas de álgebra lineal, transformadas de Fourier y mucho más.\n",
        "3. INTEROPERABLE. NumPy es compatible con una amplia gama de plataformas de hardware y de computación, y funciona bien con bibliotecas distribuidas, de GPU y de matrices dispersas.\n",
        "4. RENDIMIENTO. El núcleo de NumPy es un código C bien optimizado. Se utiliza la flexibilidad de Python y la velocidad del código compilado.\n",
        "5. FÁCIL DE USAR. La sintaxis de alto nivel de NumPy lo hace accesible y productivo para programadores de cualquier nivel de experiencia.\n",
        "6. CÓDIGO ABIERTO. Distribuido bajo una licencia  BSD, NumPy es desarrollado y mantenido públicamente en GitHub por una activa comunidad de programadores."
      ],
      "metadata": {
        "id": "dTWmJAGrtXH6"
      }
    },
    {
      "cell_type": "markdown",
      "metadata": {
        "id": "RedsdQwgcq0d"
      },
      "source": [
        "## 2. Instalación de NumPy\n",
        "\n",
        "Para Colab no es necesario hacer ninguna instalación para utilizar NumPy, solo hay que importarlo para usarlo.\n",
        "\n",
        "En  el caso de una instalación de Python en una PC, se debe instala haciendo\n",
        "\n",
        "\n",
        "```\n",
        "pip install numpy\n",
        "```\n",
        "\n",
        "Una vez instalado se lo puede utilizar haciendo la siguiente instrucción:\n"
      ]
    },
    {
      "cell_type": "code",
      "source": [
        "import numpy as np"
      ],
      "metadata": {
        "id": "ybSlvg1BwKe4"
      },
      "execution_count": null,
      "outputs": []
    },
    {
      "cell_type": "markdown",
      "source": [
        "La tradición es renombrar `numpy` como `np`, pero se podría haber elegido otro nombre."
      ],
      "metadata": {
        "id": "9G8zF8STxYy4"
      }
    },
    {
      "cell_type": "markdown",
      "source": [
        "## 3. Arreglos de NumPy: introducción\n",
        "En esta sección, aprenderemos sobre los arreglos de NumPy.\n",
        "\n",
        "**¿Qué son los Arreglos de NumPy?**\n",
        "\n",
        "Los arreglos NumPy son la forma principal de almacenar datos utilizando la biblioteca NumPy. Son similares a las listas normales en Python, pero tienen la ventaja de ser más rápidos y tener más métodos integrados.\n",
        "\n",
        "Los arreglos de NumPy son creados llamando al método `array()` de la biblioteca de NumPy. Dentro del método, se debería pasar una lista.\n",
        "\n",
        "A continuación, se muestra un ejemplo de un arreglo de NumPy básico.\n"
      ],
      "metadata": {
        "id": "d-qUMdu1xyVq"
      }
    },
    {
      "cell_type": "code",
      "source": [
        "sample_list = [1, 2, 3]\n",
        "\n",
        "print(type(np.array(sample_list)), np.array(sample_list))\n",
        "np.array(sample_list)"
      ],
      "metadata": {
        "id": "aR-dsYJGyYMu",
        "colab": {
          "base_uri": "https://localhost:8080/"
        },
        "outputId": "caa3704d-f5ec-49b9-c740-5b115c85a705"
      },
      "execution_count": null,
      "outputs": [
        {
          "output_type": "stream",
          "name": "stdout",
          "text": [
            "<class 'numpy.ndarray'> [1 2 3]\n"
          ]
        },
        {
          "output_type": "execute_result",
          "data": {
            "text/plain": [
              "array([1, 2, 3])"
            ]
          },
          "metadata": {},
          "execution_count": 4
        }
      ]
    },
    {
      "cell_type": "markdown",
      "source": [
        "Como hemos observado, la última línea de ese bloque de código dará como resultado una salida que se ve así.\n",
        "\n",
        "```\n",
        "array([1,2,3])\n",
        "```\n",
        "\n",
        "El contenedor `array()` indica que esta ya no es una lista normal de Python. En cambio, es un arreglo de NumPy.\n",
        "\n",
        "**Los dos tipos diferentes de arreglos de NumPy**\n",
        "\n",
        "Hay dos tipos diferentes de arreglos de NumPy: *vectores* y *matrices.* En realidad hay un solo tipo con dos aplicaciones.\n",
        "\n",
        "Los vectores son arreglos de NumPy uni-dimensionales y se ve así:\n",
        "\n",
        "```\n",
        "my_vector = np.array(['este', 'es', 'un', 'vector'])\n",
        "```\n",
        "\n",
        "Las matrices son arreglo bi-dimensionales y son creadas pasando una lista de listas dentro del método `np.array()`. Un ejemplo es el siguiente.\n",
        "\n",
        "```\n",
        "my_matrix = [[1, 2, 3],[4, 5, 6],[7, 8, 9]]\n",
        "np.array(my_matrix)\n",
        "```\n",
        "\n",
        "También se pueden expandir los arreglos de NumPy para trabajar con matrices de tres, cuatro, cinco, seis o más dimensiones."
      ],
      "metadata": {
        "id": "E9UF7oejyZ3x"
      }
    },
    {
      "cell_type": "code",
      "source": [
        "my_matrix = [[1, 2, 3],[4, 5, 6],[7, 8, 9]]\n",
        "print('Tipo de my_matrix:', type(my_matrix))\n",
        "print('Tipo de un elemento de my_matrix:',type(my_matrix[0]))\n",
        "matriz = np.array(my_matrix)\n",
        "print('Tipo de matriz:',type(matriz))\n",
        "print('Tipo de un elemento de matriz:',type(matriz[0]))\n",
        "\n",
        "f1 = np.array([1, 2, 3])\n",
        "f2 = np.array([4, 5, 6])\n",
        "f3 = np.array([7, 8, 9])\n",
        "mm = np.array([f1, f2, f3])\n",
        "print('Tipo de mm:',type(mm[0]))\n",
        "print('\\nSorpresa:\\n', matriz == mm)"
      ],
      "metadata": {
        "id": "goIu6bMD9IqG",
        "colab": {
          "base_uri": "https://localhost:8080/"
        },
        "outputId": "3a807acc-a225-4f00-cc22-e22781117dce"
      },
      "execution_count": null,
      "outputs": [
        {
          "output_type": "stream",
          "name": "stdout",
          "text": [
            "Tipo de my_matrix: <class 'list'>\n",
            "Tipo de un elemento de my_matrix: <class 'list'>\n",
            "Tipo de matriz: <class 'numpy.ndarray'>\n",
            "Tipo de un elemento de matriz: <class 'numpy.ndarray'>\n",
            "Tipo de mm: <class 'numpy.ndarray'>\n",
            "\n",
            "Sorpresa:\n",
            " [[ True  True  True]\n",
            " [ True  True  True]\n",
            " [ True  True  True]]\n"
          ]
        }
      ]
    },
    {
      "cell_type": "markdown",
      "source": [
        "Para comprobar que dos arrays NumPy son iguales existe una instrucción especial:"
      ],
      "metadata": {
        "id": "Vdq4l-FyWirm"
      }
    },
    {
      "cell_type": "code",
      "source": [
        "if np.array_equal(matriz, mm):\n",
        "    print(\"Los arrays son iguales\")\n",
        "else:\n",
        "    print(\"Los arrays son diferentes\")"
      ],
      "metadata": {
        "colab": {
          "base_uri": "https://localhost:8080/"
        },
        "id": "j7CGfuQMWpQu",
        "outputId": "cfa9e62e-ab68-49d0-c7d8-7eb072cda7e9"
      },
      "execution_count": null,
      "outputs": [
        {
          "output_type": "stream",
          "name": "stdout",
          "text": [
            "Los arrays son iguales\n"
          ]
        }
      ]
    },
    {
      "cell_type": "markdown",
      "source": [
        "**Tipos en un arreglo NumPy**\n",
        "\n",
        "A diferencia que en listas, los elementos de un arreglo de NumPy son todos del mismo tipo,  no podemos hacer arreglos heterogeneos. Los tipos de los elementos de un arreglo NumPy  son tipos propios de NumPy:"
      ],
      "metadata": {
        "id": "LifRTf6WRwPS"
      }
    },
    {
      "cell_type": "code",
      "source": [
        "arr_str = np.array(['este', 'es', 'un', 'vector'])\n",
        "type(arr_str[0])"
      ],
      "metadata": {
        "id": "2ujKqj8dSPg2",
        "colab": {
          "base_uri": "https://localhost:8080/"
        },
        "outputId": "dd3a2ec2-463f-4d9f-8350-e8d717604c3d"
      },
      "execution_count": null,
      "outputs": [
        {
          "output_type": "execute_result",
          "data": {
            "text/plain": [
              "numpy.str_"
            ]
          },
          "metadata": {},
          "execution_count": 7
        }
      ]
    },
    {
      "cell_type": "code",
      "source": [
        "arr_int = np.array([1, 2, 3, 4])\n",
        "type(arr_int[0])"
      ],
      "metadata": {
        "id": "MxNN8hQMSf7Y",
        "colab": {
          "base_uri": "https://localhost:8080/"
        },
        "outputId": "68d941fd-5475-4408-f961-e4e11333b665"
      },
      "execution_count": null,
      "outputs": [
        {
          "output_type": "execute_result",
          "data": {
            "text/plain": [
              "numpy.int64"
            ]
          },
          "metadata": {},
          "execution_count": 8
        }
      ]
    },
    {
      "cell_type": "code",
      "source": [
        "arr_int = np.array([1, '2', 3, 4])\n",
        "print(type(arr_int[0]))\n",
        "print(arr_int)"
      ],
      "metadata": {
        "colab": {
          "base_uri": "https://localhost:8080/"
        },
        "id": "XbctSkg_6Znf",
        "outputId": "8300a4b6-061c-468f-c39a-a20756691808"
      },
      "execution_count": null,
      "outputs": [
        {
          "output_type": "stream",
          "name": "stdout",
          "text": [
            "<class 'numpy.str_'>\n",
            "['1' '2' '3' '4']\n"
          ]
        }
      ]
    },
    {
      "cell_type": "code",
      "source": [
        "arr_float = np.array([1, 2., 3, 4])\n",
        "type(arr_float[0])"
      ],
      "metadata": {
        "id": "g2IL-ee2SgFS",
        "colab": {
          "base_uri": "https://localhost:8080/"
        },
        "outputId": "5a976111-448b-46b4-f6b1-9e32a4b3903e"
      },
      "execution_count": null,
      "outputs": [
        {
          "output_type": "execute_result",
          "data": {
            "text/plain": [
              "numpy.float64"
            ]
          },
          "metadata": {},
          "execution_count": 10
        }
      ]
    },
    {
      "cell_type": "markdown",
      "source": [
        "Observar que si cuando definimos un arreglo donde hay decimales y enteros,  el arreglo se considera de decimales.\n",
        "\n",
        "Otro ejemplo:"
      ],
      "metadata": {
        "id": "A-OVgxf8S2tD"
      }
    },
    {
      "cell_type": "code",
      "source": [
        "arr_sfi = np.array([1, 2., '3', 4])\n",
        "print(arr_sfi)\n",
        "type(arr_sfi[0])"
      ],
      "metadata": {
        "id": "Njcm0g-vTE3s",
        "colab": {
          "base_uri": "https://localhost:8080/"
        },
        "outputId": "6b58eaf4-bbae-42ea-c211-429873de8ec0"
      },
      "execution_count": null,
      "outputs": [
        {
          "output_type": "stream",
          "name": "stdout",
          "text": [
            "['1' '2.0' '3' '4']\n"
          ]
        },
        {
          "output_type": "execute_result",
          "data": {
            "text/plain": [
              "numpy.str_"
            ]
          },
          "metadata": {},
          "execution_count": 11
        }
      ]
    },
    {
      "cell_type": "code",
      "source": [
        "print(type(f1), f1)\n",
        "arr_h = np.array([f1, [1,2]], dtype = np.ndarray)\n",
        "print(arr_h)\n",
        "print(type(arr_h[0]))\n",
        "print(type(arr_h[1]))"
      ],
      "metadata": {
        "id": "hqBDDwDL-qoB",
        "colab": {
          "base_uri": "https://localhost:8080/"
        },
        "outputId": "8e588018-96cb-4b34-c4a7-dc1ca27bffba"
      },
      "execution_count": null,
      "outputs": [
        {
          "output_type": "stream",
          "name": "stdout",
          "text": [
            "<class 'numpy.ndarray'> [1 2 3]\n",
            "[array([1, 2, 3]) list([1, 2])]\n",
            "<class 'numpy.ndarray'>\n",
            "<class 'list'>\n"
          ]
        }
      ]
    },
    {
      "cell_type": "markdown",
      "source": [
        "**Inserción de elementos en un arreglo**\n",
        "\n",
        "Para añadir elementos, NumPy tiene las funciones `insert()` y `append()`, que funcionan de manera similar a sus equivalentes en listas, pero en este caso son funciones y no métodos que se aplican a un array:\n"
      ],
      "metadata": {
        "id": "vPMlEdsbP2js"
      }
    },
    {
      "cell_type": "code",
      "source": [
        "z = np.array([5.6, 7.3, 7.7, 2.3, 4.2, 9.2, 7.])\n",
        "# Añadimos el elemento 100 al array z, al final\n",
        "print(z)\n",
        "z = np.append(z, 100)\n",
        "print(z)"
      ],
      "metadata": {
        "id": "m2pNCiIaQQg8",
        "colab": {
          "base_uri": "https://localhost:8080/"
        },
        "outputId": "127fb94a-9e78-4753-e0b4-6bc57c5d7c91"
      },
      "execution_count": null,
      "outputs": [
        {
          "output_type": "stream",
          "name": "stdout",
          "text": [
            "[5.6 7.3 7.7 2.3 4.2 9.2 7. ]\n",
            "[  5.6   7.3   7.7   2.3   4.2   9.2   7.  100. ]\n"
          ]
        }
      ]
    },
    {
      "cell_type": "code",
      "source": [
        "# Añadimos el elemento 200 al array z, en el tercer puesto (índice 2)\n",
        "z = np.insert(z, 2, 200)\n",
        "print(z)"
      ],
      "metadata": {
        "id": "JRUG8SJwQu91",
        "colab": {
          "base_uri": "https://localhost:8080/"
        },
        "outputId": "770611d5-67dd-4d37-c326-12f690b01d2f"
      },
      "execution_count": null,
      "outputs": [
        {
          "output_type": "stream",
          "name": "stdout",
          "text": [
            "[  5.6   7.3 200.    7.7   2.3   4.2   9.2   7.  100. ]\n"
          ]
        }
      ]
    },
    {
      "cell_type": "markdown",
      "source": [
        "\n",
        "Como se ve, a diferencia de las listas, el primer parámetro es el array y luego el elemento que se quiere añadir, en el caso de `append()` y el array, la posición y luego elemento a añadir en el caso de `insert()`. Si en lugar de un elemento a insertar se da una lista y otro array, añade todos los elementos de la lista (a `append()` habría que dar también una lista de posiciones, como segundo parámetro).\n",
        "\n",
        "La inserción de un `float` en un arreglo de `int` crea un arreglo de `float`. La inserción de un `int` en un arreglo de `float` transforma el `int` en `float` y lo inserta."
      ],
      "metadata": {
        "id": "21ZvXrQ1QQxO"
      }
    },
    {
      "cell_type": "markdown",
      "source": [
        "## 4. Indexación y asignación en NumPy\n",
        "En esta sección, exploraremos la indexación y la asignación en arreglos NumPy.\n",
        "\n",
        "Primero creemos un arreglo para ejemplificar las operaciones"
      ],
      "metadata": {
        "id": "DTHYEQip0l9a"
      }
    },
    {
      "cell_type": "code",
      "source": [
        "lista_ejemplo = [0.2, 1.3, 2.4, 3.5, 4.6]\n",
        "arr = np.array(lista_ejemplo)\n",
        "print(arr)"
      ],
      "metadata": {
        "id": "IEA6Pchn1R7z",
        "colab": {
          "base_uri": "https://localhost:8080/"
        },
        "outputId": "e9439e29-8e0b-4a6f-94b8-744c80399c92"
      },
      "execution_count": null,
      "outputs": [
        {
          "output_type": "stream",
          "name": "stdout",
          "text": [
            "[0.2 1.3 2.4 3.5 4.6]\n"
          ]
        }
      ]
    },
    {
      "cell_type": "markdown",
      "source": [
        "Este ejemplo es con un arreglo de 5 elementos de tipo `float`.\n",
        "\n",
        "Podemos seleccionar (y retornar) un elemento específico desde un arreglo NumPy de la misma forma que realiza con una lista normal de Python: usando los corchetes.\n",
        "\n",
        "Un ejemplo se ve a continuación:"
      ],
      "metadata": {
        "id": "vsg7i7X71SIu"
      }
    },
    {
      "cell_type": "code",
      "source": [
        "print(arr[0] , type(arr[0]))"
      ],
      "metadata": {
        "id": "G4IouGIb2dcU",
        "colab": {
          "base_uri": "https://localhost:8080/"
        },
        "outputId": "a7f89ab4-f067-4711-e06f-0214916a9858"
      },
      "execution_count": null,
      "outputs": [
        {
          "output_type": "stream",
          "name": "stdout",
          "text": [
            "0.2 <class 'numpy.float64'>\n"
          ]
        }
      ]
    },
    {
      "cell_type": "markdown",
      "source": [
        "que imprime el valor de la primera posición del arreglo y su tipo.\n",
        "\n",
        "Como podemos observar el tipo dentro de un arreglo NumPy es propio de NumPy.\n",
        "\n",
        "También podemos referenciar múltiples elementos de un arreglo NumPy usando la notación slice. Por ejemplo,\n"
      ],
      "metadata": {
        "id": "R2lJNAoW2d-V"
      }
    },
    {
      "cell_type": "code",
      "source": [
        "print(arr)\n",
        "print(arr[0:2])\n",
        "print(arr[2:4])\n",
        "print(arr[:])\n",
        "print(arr[0:4:2]) # es el arrglo desde el corte 0 al corte 4 saltando de a 2."
      ],
      "metadata": {
        "id": "NNGurB4l3Gta",
        "colab": {
          "base_uri": "https://localhost:8080/"
        },
        "outputId": "5b3b748e-1f9d-4ee5-a28f-73d05a5e45fb"
      },
      "execution_count": null,
      "outputs": [
        {
          "output_type": "stream",
          "name": "stdout",
          "text": [
            "[0.2 1.3 2.4 3.5 4.6]\n",
            "[0.2 1.3]\n",
            "[2.4 3.5]\n",
            "[0.2 1.3 2.4 3.5 4.6]\n",
            "[0.2 2.4]\n"
          ]
        }
      ]
    },
    {
      "cell_type": "markdown",
      "source": [
        "Observamos recién que la notación corchete y la notación slice de los arreglos de NumPy  se comporta de manera similar a la de listas de Python. Por otro lado,  veremos a continuación que la asignación se comporta en forma similar, pero no idéntica.\n",
        "\n",
        "Podemos asignar nuevos valores a un elemento de un arreglo NumPy usando el operador `=`, al igual que las listas de Python normales. A continuación se muestran algunos ejemplos.\n",
        "\n"
      ],
      "metadata": {
        "id": "BuWT3A2u3HJR"
      }
    },
    {
      "cell_type": "code",
      "source": [
        "print(arr)\n",
        "arr[1] = 5.7\n",
        "print(arr)"
      ],
      "metadata": {
        "id": "Ibxpcniv4c3Z",
        "colab": {
          "base_uri": "https://localhost:8080/"
        },
        "outputId": "7861d510-9e04-4d06-cca8-e08e78fb1fb0"
      },
      "execution_count": null,
      "outputs": [
        {
          "output_type": "stream",
          "name": "stdout",
          "text": [
            "[0.2 1.3 2.4 3.5 4.6]\n",
            "[0.2 5.7 2.4 3.5 4.6]\n"
          ]
        }
      ]
    },
    {
      "cell_type": "markdown",
      "source": [
        "Pero NumPy ofrece algunas operaciones de asignación novedosas y que en muchos casos agilizan el trabajo.\n",
        "\n",
        "Por  ejemplo,  si queremos que todos los valores del array tengan un valor determinado:"
      ],
      "metadata": {
        "id": "DPC8JEyJ4dC_"
      }
    },
    {
      "cell_type": "code",
      "source": [
        "arr[:] = 0.0\n",
        "print(arr)"
      ],
      "metadata": {
        "id": "s1ynrCmK5H8y",
        "colab": {
          "base_uri": "https://localhost:8080/"
        },
        "outputId": "a643856b-54ac-419a-e710-19549863990a"
      },
      "execution_count": null,
      "outputs": [
        {
          "output_type": "stream",
          "name": "stdout",
          "text": [
            "[0. 0. 0. 0. 0.]\n"
          ]
        }
      ]
    },
    {
      "cell_type": "markdown",
      "source": [
        "reemplaza todos los valores de `arr` por `0.0`.\n",
        "\n",
        "Definamos otro array:"
      ],
      "metadata": {
        "id": "OZOYxMNV5IHb"
      }
    },
    {
      "cell_type": "code",
      "source": [
        "otro_arr = np.array([0.12, 0.94, 0.66, 0.73, 0.83])\n",
        "print(otro_arr)"
      ],
      "metadata": {
        "id": "9AkBMKHd5xeM",
        "colab": {
          "base_uri": "https://localhost:8080/"
        },
        "outputId": "9ec458c5-82f6-47f0-9d2a-a3f6f1f0dfae"
      },
      "execution_count": null,
      "outputs": [
        {
          "output_type": "stream",
          "name": "stdout",
          "text": [
            "[0.12 0.94 0.66 0.73 0.83]\n"
          ]
        }
      ]
    },
    {
      "cell_type": "markdown",
      "source": [
        "Podemos reemplazar los valores en cierto rango del array por un valor determinado:"
      ],
      "metadata": {
        "id": "gQQZ1UFq5xo3"
      }
    },
    {
      "cell_type": "code",
      "source": [
        "otro_arr[2:4] = 0.5\n",
        "print(otro_arr)"
      ],
      "metadata": {
        "id": "jYFqiXfN7rSz",
        "colab": {
          "base_uri": "https://localhost:8080/"
        },
        "outputId": "eec24a6a-11e1-4228-81bc-b6ae6e8e1cb9"
      },
      "execution_count": null,
      "outputs": [
        {
          "output_type": "stream",
          "name": "stdout",
          "text": [
            "[0.12 0.94 0.5  0.5  0.83]\n"
          ]
        }
      ]
    },
    {
      "cell_type": "markdown",
      "source": [
        "Observar que reemplazó los índices 2 y 3 por el valor `0.5`.\n",
        "\n",
        "Podemos también reemplazar una porción de un array por otro array del mismo tamaño que la porción:"
      ],
      "metadata": {
        "id": "lo6LNyj57reP"
      }
    },
    {
      "cell_type": "code",
      "source": [
        "otro_arr[2:4] = np.array([6.5, 7.1])\n",
        "print(otro_arr)"
      ],
      "metadata": {
        "id": "bBK-LdDZ8Mdy",
        "colab": {
          "base_uri": "https://localhost:8080/"
        },
        "outputId": "d5a3eeff-72e4-42d6-ca40-af5eeb9da1be"
      },
      "execution_count": null,
      "outputs": [
        {
          "output_type": "stream",
          "name": "stdout",
          "text": [
            "[0.12 0.94 6.5  7.1  0.83]\n"
          ]
        }
      ]
    },
    {
      "cell_type": "markdown",
      "source": [
        "Posiblemente hay muchas otras formas posibles de asignación  que deben resultar útiles para diversos contextos."
      ],
      "metadata": {
        "id": "91MdnXCT842m"
      }
    },
    {
      "cell_type": "markdown",
      "source": [
        "Hasta ahora en la sección, solo hemos explorado cómo hacer referencia a arreglos NumPy unidimensionales. Ahora exploraremos la indexación de matrices bidimensionales.\n",
        "\n",
        "\n",
        "Para comenzar, creemos un arreglo NumPy de dos dimensiones llamado `mat`:\n"
      ],
      "metadata": {
        "id": "dU5zT07cAQ8C"
      }
    },
    {
      "cell_type": "code",
      "source": [
        "mat = np.array([[5, 10, 15, 17],[20, 25, 30, 32],[35, 40, 45, 47]])\n",
        "print(mat)"
      ],
      "metadata": {
        "id": "y3noGvsDAvEI",
        "colab": {
          "base_uri": "https://localhost:8080/"
        },
        "outputId": "2f27528d-d791-4cc6-9837-f83bdea2cb23"
      },
      "execution_count": null,
      "outputs": [
        {
          "output_type": "stream",
          "name": "stdout",
          "text": [
            "[[ 5 10 15 17]\n",
            " [20 25 30 32]\n",
            " [35 40 45 47]]\n"
          ]
        }
      ]
    },
    {
      "cell_type": "markdown",
      "source": [
        "Hay dos formas de indexar un arreglo NumPy de dos dimensiones:\n",
        "\n",
        "```\n",
        "mat[fila, columna]\n",
        "mat[fila][columna]\n",
        "```\n",
        "\n",
        "Por ejemplo, primero obtengamos la primera fila:\n"
      ],
      "metadata": {
        "id": "GpV58yt8AvRO"
      }
    },
    {
      "cell_type": "code",
      "source": [
        "mat[0, :]"
      ],
      "metadata": {
        "id": "Sn47PzdKBa52",
        "colab": {
          "base_uri": "https://localhost:8080/"
        },
        "outputId": "edf074a0-12d8-4480-9b34-f12421ae82d8"
      },
      "execution_count": null,
      "outputs": [
        {
          "output_type": "execute_result",
          "data": {
            "text/plain": [
              "array([ 5, 10, 15, 17])"
            ]
          },
          "metadata": {},
          "execution_count": 24
        }
      ]
    },
    {
      "cell_type": "markdown",
      "source": [
        "Luego, obtengamos el último elemento de la primera fila:\n",
        "\n"
      ],
      "metadata": {
        "id": "8cFadXbRBbE5"
      }
    },
    {
      "cell_type": "code",
      "source": [
        "mat[0,-1]"
      ],
      "metadata": {
        "id": "_wBMhPf49SDm",
        "colab": {
          "base_uri": "https://localhost:8080/"
        },
        "outputId": "563f552a-6c9c-4889-d5c1-8b214307359d"
      },
      "execution_count": null,
      "outputs": [
        {
          "output_type": "execute_result",
          "data": {
            "text/plain": [
              "17"
            ]
          },
          "metadata": {},
          "execution_count": 25
        }
      ]
    },
    {
      "cell_type": "markdown",
      "source": [
        "\n",
        "También puede generar submatrices a partir de un arreglo NumPy bidimensional utilizando esta notación:"
      ],
      "metadata": {
        "id": "yb_qdf4f9SOI"
      }
    },
    {
      "cell_type": "code",
      "source": [
        "mat[1:3,:]"
      ],
      "metadata": {
        "id": "ZIuZh_Z0BuC4",
        "colab": {
          "base_uri": "https://localhost:8080/"
        },
        "outputId": "855c7b6a-85b1-4608-e7ca-3f1c6ce55875"
      },
      "execution_count": null,
      "outputs": [
        {
          "output_type": "execute_result",
          "data": {
            "text/plain": [
              "array([[20, 25, 30, 32],\n",
              "       [35, 40, 45, 47]])"
            ]
          },
          "metadata": {},
          "execution_count": 26
        }
      ]
    },
    {
      "cell_type": "code",
      "source": [
        "mat[1:3,1:2]"
      ],
      "metadata": {
        "id": "uSdMVYgGBrbw",
        "colab": {
          "base_uri": "https://localhost:8080/"
        },
        "outputId": "df934dd2-81fc-4939-92f5-db34f38214b2"
      },
      "execution_count": null,
      "outputs": [
        {
          "output_type": "execute_result",
          "data": {
            "text/plain": [
              "array([[25],\n",
              "       [40]])"
            ]
          },
          "metadata": {},
          "execution_count": 27
        }
      ]
    },
    {
      "cell_type": "code",
      "source": [
        "mat[:,1:2] # la segunda columna"
      ],
      "metadata": {
        "id": "-ZdgAqKXlzpX",
        "colab": {
          "base_uri": "https://localhost:8080/"
        },
        "outputId": "e0e6deaf-f4ce-4d16-fd11-10040ac4f61d"
      },
      "execution_count": null,
      "outputs": [
        {
          "output_type": "execute_result",
          "data": {
            "text/plain": [
              "array([[10],\n",
              "       [25],\n",
              "       [40]])"
            ]
          },
          "metadata": {},
          "execution_count": 28
        }
      ]
    },
    {
      "cell_type": "code",
      "source": [
        "mat[:,1]"
      ],
      "metadata": {
        "id": "YIyg5KU0CBNr",
        "colab": {
          "base_uri": "https://localhost:8080/"
        },
        "outputId": "23743963-a659-46b8-a789-c5004e1e8b7a"
      },
      "execution_count": null,
      "outputs": [
        {
          "output_type": "execute_result",
          "data": {
            "text/plain": [
              "array([10, 25, 40])"
            ]
          },
          "metadata": {},
          "execution_count": 29
        }
      ]
    },
    {
      "cell_type": "markdown",
      "source": [
        "## 5. Referenciación de arreglos en NumPy\n",
        "\n",
        "NumPy hace uso de un concepto llamado \"Referencia de arreglos\" (array referencing) que es una fuente común de confusiones para las personas que son nuevas en la biblioteca.\n",
        "\n",
        "Para entender la referencia de arreglos, primero veamos un ejemplo:\n"
      ],
      "metadata": {
        "id": "-2vWD9BY2sOp"
      }
    },
    {
      "cell_type": "code",
      "source": [
        "new_array = np.array([6, 7, 8, 9])\n",
        "print('new_array:', new_array)\n",
        "second_new_array = new_array[0:2]\n",
        "print(second_new_array) # imprime [6 7]"
      ],
      "metadata": {
        "id": "yNRN04NF9ZEH",
        "colab": {
          "base_uri": "https://localhost:8080/"
        },
        "outputId": "41ce1bc7-e99d-4d94-dd0a-a4c85fbb2078"
      },
      "execution_count": null,
      "outputs": [
        {
          "output_type": "stream",
          "name": "stdout",
          "text": [
            "new_array: [6 7 8 9]\n",
            "[6 7]\n"
          ]
        }
      ]
    },
    {
      "cell_type": "code",
      "source": [
        "second_new_array[1] = 4\n",
        "print(second_new_array) # imprime [6, 4], como se esperaba"
      ],
      "metadata": {
        "id": "RRIDEpZS9010",
        "colab": {
          "base_uri": "https://localhost:8080/"
        },
        "outputId": "783a2d79-a77a-4638-fc50-1eccda1d04c2"
      },
      "execution_count": null,
      "outputs": [
        {
          "output_type": "stream",
          "name": "stdout",
          "text": [
            "[6 4]\n"
          ]
        }
      ]
    },
    {
      "cell_type": "code",
      "source": [
        "print('new_array:', new_array)"
      ],
      "metadata": {
        "id": "oCjU8Nb6-OZx",
        "colab": {
          "base_uri": "https://localhost:8080/"
        },
        "outputId": "247be47a-fb48-4aa9-966f-da850c3f0a08"
      },
      "execution_count": null,
      "outputs": [
        {
          "output_type": "stream",
          "name": "stdout",
          "text": [
            "new_array: [6 4 8 9]\n"
          ]
        }
      ]
    },
    {
      "cell_type": "markdown",
      "source": [
        "Observar que aunque no hemos reasignado directamente ningún elemento de `new_array`,  el segundo elemento pasó de valer `7` a valer `4`.\n",
        "\n",
        "¿Que ha pasado? Lo  que pasó es que la modificación de `second_new_array` cambió también el valor de `new_array`.\n",
        "\n",
        "¿Por qué es esto? Por defecto, NumPy *no* crea una copia de un arreglo cuando hace referencia a la variable del arreglo original usando el operador de asignación `=`. En cambio, simplemente apunta la nueva variable a la anterior, lo que permite que la segunda variable realice modificaciones en la variable original, incluso si esta no es nuestra intención.\n",
        "\n",
        "Esto puede parecer extraño, pero tiene una explicación lógica. El propósito de la referencia de arreglos es conservar poder computacional. Al trabajar con grandes conjuntos de datos, rápidamente te quedarías sin RAM si crearas un nuevo arreglo cada vez que quisieras trabajar con una porción de él.\n",
        "\n",
        "\n",
        "En  el caso que querramos una copia del arreglo existe una solución, se puede utilizar el método `copy` para copiar explícitamente un arreglo NumPy.\n",
        "\n",
        "A continuación se muestra un ejemplo de esto.\n"
      ],
      "metadata": {
        "id": "lddsadF59ZNu"
      }
    },
    {
      "cell_type": "code",
      "source": [
        "array_to_copy = np.array([1, 2, 3])\n",
        "copied_array = array_to_copy[1:3].copy()\n",
        "print(array_to_copy)\n",
        "print(copied_array)"
      ],
      "metadata": {
        "id": "3xZ3VQVt_5WJ",
        "colab": {
          "base_uri": "https://localhost:8080/"
        },
        "outputId": "f99720b8-a4eb-4093-e6d8-e9af21849c34"
      },
      "execution_count": null,
      "outputs": [
        {
          "output_type": "stream",
          "name": "stdout",
          "text": [
            "[1 2 3]\n",
            "[2 3]\n"
          ]
        }
      ]
    },
    {
      "cell_type": "markdown",
      "source": [
        "Como se puede ver a continuación, realizar modificaciones al arreglo copiado no altera el original.\n"
      ],
      "metadata": {
        "id": "clcM_GoN_5iu"
      }
    },
    {
      "cell_type": "code",
      "source": [
        "copied_array[0] = 9\n",
        "print(copied_array)\n",
        "print(array_to_copy)"
      ],
      "metadata": {
        "id": "6B7D8WcAAQw8",
        "colab": {
          "base_uri": "https://localhost:8080/"
        },
        "outputId": "67dc7685-2e77-4566-8cf7-bf67055eac04"
      },
      "execution_count": null,
      "outputs": [
        {
          "output_type": "stream",
          "name": "stdout",
          "text": [
            "[9 3]\n",
            "[1 2 3]\n"
          ]
        }
      ]
    },
    {
      "cell_type": "markdown",
      "source": [
        "La referencia de arreglos también se aplica a arreglos bidimensionales en NumPy, así que hay que asegurarse de utilizar el método `copy()` si se desea evitar modificar inadvertidamente un arreglo original después de guardar una porción de él en un nuevo nombre de variable."
      ],
      "metadata": {
        "id": "ZGxQxsENG0Aq"
      }
    },
    {
      "cell_type": "markdown",
      "source": [
        "## 6. Operaciones aritméticas con arreglos de NumPy\n",
        "\n",
        "NumPy nos permite realizar operaciones aritméticas con arreglos. Puedes realizarlas usando el arreglo y un sólo número, o puedes realizarlas entre dos arreglos NumPy.\n",
        "\n",
        "Exploramos cada una de las principales operaciones matemáticas a continuación.\n",
        "\n",
        "Utilicemos algunos arreglos para hacer nuestro ejemplos."
      ],
      "metadata": {
        "id": "monCkM4XD9Ed"
      }
    },
    {
      "cell_type": "code",
      "source": [
        "arr_a = np.array([1, 2, 3, 4, 5])\n",
        "arr_b = np.array([5, 8, 9, 10, 11])\n",
        "arr_c = np.array([15, 28, 19, 10, 21, 5])"
      ],
      "metadata": {
        "id": "lt7Qy1BpYetx"
      },
      "execution_count": null,
      "outputs": []
    },
    {
      "cell_type": "markdown",
      "source": [
        "**Suma**\n",
        "Al sumar un sólo número a un arreglo de NumPy, ese número se suma a cada elemento en el arreglo. A continuación se ve un ejemplo:"
      ],
      "metadata": {
        "id": "kmKlOQ0FYvku"
      }
    },
    {
      "cell_type": "code",
      "source": [
        "2 + arr_a"
      ],
      "metadata": {
        "id": "Mut0vCfKYv6m",
        "colab": {
          "base_uri": "https://localhost:8080/"
        },
        "outputId": "bbef3565-4e5f-416a-a44e-69880f998e3a"
      },
      "execution_count": null,
      "outputs": [
        {
          "output_type": "execute_result",
          "data": {
            "text/plain": [
              "array([3, 4, 5, 6, 7])"
            ]
          },
          "metadata": {},
          "execution_count": 3
        }
      ]
    },
    {
      "cell_type": "markdown",
      "source": [
        "Podemos sumar dos arreglos NumPy usando el operador `+`. Los arreglos se suman elemento por elemento (lo que significa que los primeros elementos se suman entre si, los segundos elementos se suman se suman entre si, y así sucesivamente).\n",
        "\n",
        "A continuación se ve un ejemplo."
      ],
      "metadata": {
        "id": "Urx4XIQjYe6u"
      }
    },
    {
      "cell_type": "code",
      "source": [
        "arr_d = arr_a + arr_b\n",
        "print(arr_d)\n",
        "print(arr_a)\n",
        "print(arr_b)"
      ],
      "metadata": {
        "id": "7q-nMfRj8Dkl",
        "colab": {
          "base_uri": "https://localhost:8080/"
        },
        "outputId": "f4983626-0081-4cc5-d0d3-22c1ad8e7532"
      },
      "execution_count": null,
      "outputs": [
        {
          "output_type": "stream",
          "name": "stdout",
          "text": [
            "[ 6 10 12 14 16]\n",
            "[1 2 3 4 5]\n",
            "[ 5  8  9 10 11]\n"
          ]
        }
      ]
    },
    {
      "cell_type": "code",
      "source": [
        "arr_d[0] = -1\n",
        "print(arr_d)\n",
        "print(arr_a)\n",
        "print(arr_b)"
      ],
      "metadata": {
        "colab": {
          "base_uri": "https://localhost:8080/"
        },
        "id": "rZ2Wwp3BDXZJ",
        "outputId": "34e65ca3-4e35-46e9-9204-98d02ef41b85"
      },
      "execution_count": null,
      "outputs": [
        {
          "output_type": "stream",
          "name": "stdout",
          "text": [
            "[-1 10 12 14 16]\n",
            "[1 2 3 4 5]\n",
            "[ 5  8  9 10 11]\n"
          ]
        }
      ]
    },
    {
      "cell_type": "markdown",
      "source": [
        "La suma de arreglos es asociativa y conmutativa.\n",
        "\n",
        "Si intentamos sumar arreglos de distinto tamaño obtendremos una excepción. Por ejemplo\n",
        "\n",
        "\n",
        "```\n",
        "arr_a + arr_c\n",
        "```\n",
        "\n",
        "nos devuelve error."
      ],
      "metadata": {
        "id": "Bnlm1Wap9oyH"
      }
    },
    {
      "cell_type": "markdown",
      "source": [
        "**Elemento neutro de la suma y opuesto aditivo**\n",
        "\n",
        "El elemento neutro de la suma es el arreglo cuyos valores son todos cero."
      ],
      "metadata": {
        "id": "vnZJzUUj9K1I"
      }
    },
    {
      "cell_type": "code",
      "source": [
        "arr_a + np.array([0, 0, 0, 0, 0])"
      ],
      "metadata": {
        "id": "vrBZf8JE9dqV",
        "colab": {
          "base_uri": "https://localhost:8080/"
        },
        "outputId": "733f855e-8619-4f5e-ac59-33b5b86b752b"
      },
      "execution_count": null,
      "outputs": [
        {
          "output_type": "execute_result",
          "data": {
            "text/plain": [
              "array([1, 2, 3, 4, 5])"
            ]
          },
          "metadata": {},
          "execution_count": 39
        }
      ]
    },
    {
      "cell_type": "code",
      "source": [
        "arr_a + 0"
      ],
      "metadata": {
        "id": "4bAnSS6VEGaQ",
        "colab": {
          "base_uri": "https://localhost:8080/"
        },
        "outputId": "53b537ba-0acf-4ccc-e1d7-93734c440d19"
      },
      "execution_count": null,
      "outputs": [
        {
          "output_type": "execute_result",
          "data": {
            "text/plain": [
              "array([1, 2, 3, 4, 5])"
            ]
          },
          "metadata": {},
          "execution_count": 40
        }
      ]
    },
    {
      "cell_type": "markdown",
      "source": [
        "El opuesto aditivo de un arreglo se obtiene, como es lógico,  agregando el signo `-` al arreglo:"
      ],
      "metadata": {
        "id": "5Ch8edYb9d4C"
      }
    },
    {
      "cell_type": "code",
      "source": [
        "-arr_a"
      ],
      "metadata": {
        "id": "qoPLNLd59LDY",
        "colab": {
          "base_uri": "https://localhost:8080/"
        },
        "outputId": "e04cd1fe-a034-4160-beb3-10ae2001b39d"
      },
      "execution_count": null,
      "outputs": [
        {
          "output_type": "execute_result",
          "data": {
            "text/plain": [
              "array([-1, -2, -3, -4, -5])"
            ]
          },
          "metadata": {},
          "execution_count": 41
        }
      ]
    },
    {
      "cell_type": "code",
      "source": [
        "arr_a + (-arr_a)"
      ],
      "metadata": {
        "id": "vOwC1WgZ-vUy",
        "colab": {
          "base_uri": "https://localhost:8080/"
        },
        "outputId": "a8328f5c-0611-42a2-ea9e-4c2e2fd2f3f3"
      },
      "execution_count": null,
      "outputs": [
        {
          "output_type": "execute_result",
          "data": {
            "text/plain": [
              "array([0, 0, 0, 0, 0])"
            ]
          },
          "metadata": {},
          "execution_count": 42
        }
      ]
    },
    {
      "cell_type": "markdown",
      "source": [
        "**Resta**\n",
        "\n",
        "Como en los enteros o los número reales la resta se obtiene sumando el opuesto aditivo"
      ],
      "metadata": {
        "id": "NM5jv1Ci8D2D"
      }
    },
    {
      "cell_type": "code",
      "source": [
        "arr_a + (-arr_b)"
      ],
      "metadata": {
        "id": "q7eqaTFS8zwI",
        "colab": {
          "base_uri": "https://localhost:8080/"
        },
        "outputId": "f72df5e5-dfc9-49a7-cd74-1769cb1dac98"
      },
      "execution_count": null,
      "outputs": [
        {
          "output_type": "execute_result",
          "data": {
            "text/plain": [
              "array([-4, -6, -6, -6, -6])"
            ]
          },
          "metadata": {},
          "execution_count": 43
        }
      ]
    },
    {
      "cell_type": "markdown",
      "source": [
        "Obviamente, se puede simplificar la notación:"
      ],
      "metadata": {
        "id": "CrYOmWX7_dJO"
      }
    },
    {
      "cell_type": "code",
      "source": [
        "arr_a - arr_b"
      ],
      "metadata": {
        "id": "JOgmxsX2_i3Z",
        "colab": {
          "base_uri": "https://localhost:8080/"
        },
        "outputId": "6d54777a-b2f4-4748-8009-53ab9065131e"
      },
      "execution_count": null,
      "outputs": [
        {
          "output_type": "execute_result",
          "data": {
            "text/plain": [
              "array([-4, -6, -6, -6, -6])"
            ]
          },
          "metadata": {},
          "execution_count": 44
        }
      ]
    },
    {
      "cell_type": "markdown",
      "source": [
        "Operaciones con números tambiés se pueden hacer"
      ],
      "metadata": {
        "id": "vXsUdcnX_pE1"
      }
    },
    {
      "cell_type": "code",
      "source": [
        "arr_a - 2"
      ],
      "metadata": {
        "id": "gfMBMEU4AfDJ",
        "colab": {
          "base_uri": "https://localhost:8080/"
        },
        "outputId": "8977e0b8-3bb6-4de2-fb7b-f611747f26b7"
      },
      "execution_count": null,
      "outputs": [
        {
          "output_type": "execute_result",
          "data": {
            "text/plain": [
              "array([-1,  0,  1,  2,  3])"
            ]
          },
          "metadata": {},
          "execution_count": 45
        }
      ]
    },
    {
      "cell_type": "code",
      "source": [
        "2 - arr_a"
      ],
      "metadata": {
        "id": "zlk8KV6zAiuz",
        "colab": {
          "base_uri": "https://localhost:8080/"
        },
        "outputId": "7a4cd95d-e030-4aa4-f35c-b05b41e187d1"
      },
      "execution_count": null,
      "outputs": [
        {
          "output_type": "execute_result",
          "data": {
            "text/plain": [
              "array([ 1,  0, -1, -2, -3])"
            ]
          },
          "metadata": {},
          "execution_count": 46
        }
      ]
    },
    {
      "cell_type": "code",
      "source": [
        "(arr_a - 2) + (2 - arr_a)"
      ],
      "metadata": {
        "id": "CEBEVT3qEanl",
        "colab": {
          "base_uri": "https://localhost:8080/"
        },
        "outputId": "523f467a-ad25-4c18-e2fc-d1331cf76d69"
      },
      "execution_count": null,
      "outputs": [
        {
          "output_type": "execute_result",
          "data": {
            "text/plain": [
              "array([0, 0, 0, 0, 0])"
            ]
          },
          "metadata": {},
          "execution_count": 47
        }
      ]
    },
    {
      "cell_type": "markdown",
      "source": [
        "**Multiplicación**\n",
        "\n",
        "La multiplicación también se realiza elemento por elemento tanto para casos de un sólo número como para casos de operaciones entre arreglos de NumPy.\n",
        "\n",
        "A continuación se ven dos ejemplos."
      ],
      "metadata": {
        "id": "vVH3h4e980la"
      }
    },
    {
      "cell_type": "code",
      "source": [
        "6 * arr_a"
      ],
      "metadata": {
        "id": "gK4zZdeqA9Lp",
        "colab": {
          "base_uri": "https://localhost:8080/"
        },
        "outputId": "14b8efda-01f9-4f7c-cb73-5f28ff1b5126"
      },
      "execution_count": null,
      "outputs": [
        {
          "output_type": "execute_result",
          "data": {
            "text/plain": [
              "array([ 6, 12, 18, 24, 30])"
            ]
          },
          "metadata": {},
          "execution_count": 48
        }
      ]
    },
    {
      "cell_type": "code",
      "source": [
        "arr_a * arr_b"
      ],
      "metadata": {
        "id": "eEk589kqA9WY",
        "colab": {
          "base_uri": "https://localhost:8080/"
        },
        "outputId": "cadf2d10-1968-46ff-a1e0-366096b1f365"
      },
      "execution_count": null,
      "outputs": [
        {
          "output_type": "execute_result",
          "data": {
            "text/plain": [
              "array([ 5, 16, 27, 40, 55])"
            ]
          },
          "metadata": {},
          "execution_count": 49
        }
      ]
    },
    {
      "cell_type": "markdown",
      "source": [
        "*Observación.* Es posible multiplicar matrices con el operador `*` y la multiplicación se hace coordenada  a coordenada, es decir *NO* es la multiplicación de matrices del álgebra lineal\n",
        "\n",
        "Por supuesto la multiplicación de matrices, no coordenada a coordenada sino haciendo filas por columnas,  también está implementada en NumPy."
      ],
      "metadata": {
        "id": "LwteMLLmFJjz"
      }
    },
    {
      "cell_type": "code",
      "source": [
        "mat_A = np.array([[1, 0, 2, 3],[-1, 3, 2, 3],[3, 4, 4, 4]]) # matriz 3x4\n",
        "mat_B = np.array([[2,3], [-1, 0], [2, 2], [-5,1]]) # matriz 4x2\n",
        "np.dot(mat_A, mat_B) # multiplicar 3x4.4x2 resulta 3x2"
      ],
      "metadata": {
        "id": "b56M2UF_KXDK",
        "colab": {
          "base_uri": "https://localhost:8080/"
        },
        "outputId": "b9012980-764f-48e9-b570-eafcf8af7435"
      },
      "execution_count": null,
      "outputs": [
        {
          "output_type": "execute_result",
          "data": {
            "text/plain": [
              "array([[ -9,  10],\n",
              "       [-16,   4],\n",
              "       [-10,  21]])"
            ]
          },
          "metadata": {},
          "execution_count": 50
        }
      ]
    },
    {
      "cell_type": "markdown",
      "source": [
        "**División**\n",
        "\n",
        "En este punto, probablemente no te sorprende saber que la división en arreglos NumPy se realiza elemento por elemento. Un ejemplo:"
      ],
      "metadata": {
        "id": "4L07282h83Jq"
      }
    },
    {
      "cell_type": "code",
      "source": [
        "print(arr_a)\n",
        "print(arr_a / 2)"
      ],
      "metadata": {
        "id": "esSwtZyUBa7Q",
        "colab": {
          "base_uri": "https://localhost:8080/"
        },
        "outputId": "89ab576e-030a-4512-97d8-77762f412347"
      },
      "execution_count": null,
      "outputs": [
        {
          "output_type": "stream",
          "name": "stdout",
          "text": [
            "[1 2 3 4 5]\n",
            "[0.5 1.  1.5 2.  2.5]\n"
          ]
        }
      ]
    },
    {
      "cell_type": "markdown",
      "source": [
        "También funciona bien la división entera:"
      ],
      "metadata": {
        "id": "soWat6IVBlM5"
      }
    },
    {
      "cell_type": "code",
      "source": [
        "arr_a // 2"
      ],
      "metadata": {
        "id": "VqT1zjXIBgbL",
        "colab": {
          "base_uri": "https://localhost:8080/"
        },
        "outputId": "5e1ad4d5-dc49-4baa-f7ec-6cb62e5b421e"
      },
      "execution_count": null,
      "outputs": [
        {
          "output_type": "execute_result",
          "data": {
            "text/plain": [
              "array([0, 1, 1, 2, 2])"
            ]
          },
          "metadata": {},
          "execution_count": 52
        }
      ]
    },
    {
      "cell_type": "markdown",
      "source": [
        "La división entre arreglos de la misma longitud también es posible:"
      ],
      "metadata": {
        "id": "wwyn_aiukDTG"
      }
    },
    {
      "cell_type": "code",
      "source": [
        "print(arr_a)\n",
        "print(arr_b)\n",
        "print(arr_b / arr_a)\n",
        "print(arr_b // arr_a)"
      ],
      "metadata": {
        "colab": {
          "base_uri": "https://localhost:8080/"
        },
        "id": "HDWftNpKkKJB",
        "outputId": "c70723dd-1a19-4642-e14e-329dba6555ff"
      },
      "execution_count": null,
      "outputs": [
        {
          "output_type": "stream",
          "name": "stdout",
          "text": [
            "[1 2 3 4 5]\n",
            "[ 5  8  9 10 11]\n",
            "[5.  4.  3.  2.5 2.2]\n",
            "[5 4 3 2 2]\n"
          ]
        }
      ]
    },
    {
      "cell_type": "markdown",
      "source": [
        "La división tiene una excepción notable en comparación con las otras operaciones matemáticas que hemos visto en esta sección. Dado que no podemos dividir por cero, al hacerlo, el campo correspondiente se completará con un valor `nan`, que es la abreviatura de Python para \"No es un número\" (“Not A Number”). Jupyter Notebook y Colab también imprimen una advertencia.\n",
        "\n",
        "En el caso de Colab  el valor que toma la coordenada al ser dividida por 0 es `inf`\n"
      ],
      "metadata": {
        "id": "ENLhpHQ_BbN-"
      }
    },
    {
      "cell_type": "code",
      "source": [
        "arr_d = arr_a - 2\n",
        "arr_d"
      ],
      "metadata": {
        "id": "sPH7TUp8Bzcf",
        "colab": {
          "base_uri": "https://localhost:8080/"
        },
        "outputId": "c6e61903-0324-4cf3-ba9b-870942bf90b3"
      },
      "execution_count": null,
      "outputs": [
        {
          "output_type": "execute_result",
          "data": {
            "text/plain": [
              "array([-1,  0,  1,  2,  3])"
            ]
          },
          "metadata": {},
          "execution_count": 53
        }
      ]
    },
    {
      "cell_type": "code",
      "source": [
        "arr_e = arr_b / arr_d"
      ],
      "metadata": {
        "id": "6txnfb1NCVlx",
        "colab": {
          "base_uri": "https://localhost:8080/"
        },
        "outputId": "8339c3ef-14fd-4e6c-a56d-731924701403"
      },
      "execution_count": null,
      "outputs": [
        {
          "output_type": "stream",
          "name": "stderr",
          "text": [
            "<ipython-input-54-545c1364d91b>:1: RuntimeWarning: divide by zero encountered in true_divide\n",
            "  arr_e = arr_b / arr_d\n"
          ]
        }
      ]
    },
    {
      "cell_type": "code",
      "source": [
        "arr_e"
      ],
      "metadata": {
        "id": "UULlZIDkCi4G",
        "colab": {
          "base_uri": "https://localhost:8080/"
        },
        "outputId": "84caee4a-c272-409a-8328-977f736f293b"
      },
      "execution_count": null,
      "outputs": [
        {
          "output_type": "execute_result",
          "data": {
            "text/plain": [
              "array([-5.        ,         inf,  9.        ,  5.        ,  3.66666667])"
            ]
          },
          "metadata": {},
          "execution_count": 55
        }
      ]
    },
    {
      "cell_type": "code",
      "source": [
        "type(arr_e[1])"
      ],
      "metadata": {
        "id": "C34BGNeKDLAH",
        "colab": {
          "base_uri": "https://localhost:8080/"
        },
        "outputId": "8aeaa0fa-3825-4609-b634-09be09f6e812"
      },
      "execution_count": null,
      "outputs": [
        {
          "output_type": "execute_result",
          "data": {
            "text/plain": [
              "numpy.float64"
            ]
          },
          "metadata": {},
          "execution_count": 56
        }
      ]
    },
    {
      "cell_type": "markdown",
      "source": [
        "Observamos que NumPy considera `inf` un número más, pero,  sin embargo,  este número  no cumple  con los axiomas de los números reales: es más grande que cualquier número y otras particularidades del infinito."
      ],
      "metadata": {
        "id": "7uWI-FOmDVtZ"
      }
    },
    {
      "cell_type": "code",
      "source": [
        "arr_e[1] > 10**2345566"
      ],
      "metadata": {
        "id": "vQI2HUYYDs9w",
        "colab": {
          "base_uri": "https://localhost:8080/"
        },
        "outputId": "ae618aa8-16c6-41e4-fc1e-06bc1a0971c4"
      },
      "execution_count": null,
      "outputs": [
        {
          "output_type": "execute_result",
          "data": {
            "text/plain": [
              "True"
            ]
          },
          "metadata": {},
          "execution_count": 57
        }
      ]
    },
    {
      "cell_type": "markdown",
      "source": [
        "El valor `inf` tiene otras propiedades que ustedes podrán explorar."
      ],
      "metadata": {
        "id": "qmBPXLw9EOke"
      }
    },
    {
      "cell_type": "code",
      "source": [
        "-arr_e[1] > 10**2345566"
      ],
      "metadata": {
        "id": "tsw9vMOeFnIu",
        "colab": {
          "base_uri": "https://localhost:8080/"
        },
        "outputId": "e5e15b2f-2d38-4047-f72d-46b07bb6a57f"
      },
      "execution_count": null,
      "outputs": [
        {
          "output_type": "execute_result",
          "data": {
            "text/plain": [
              "False"
            ]
          },
          "metadata": {},
          "execution_count": 58
        }
      ]
    },
    {
      "cell_type": "code",
      "source": [
        "-arr_e[1] < -10**2345566"
      ],
      "metadata": {
        "id": "ySF0pIbrFuV4",
        "colab": {
          "base_uri": "https://localhost:8080/"
        },
        "outputId": "a4be5ff3-528f-47f0-bd54-c5a5b41da4c7"
      },
      "execution_count": null,
      "outputs": [
        {
          "output_type": "execute_result",
          "data": {
            "text/plain": [
              "True"
            ]
          },
          "metadata": {},
          "execution_count": 59
        }
      ]
    },
    {
      "cell_type": "markdown",
      "source": [
        "**Las funciones de NumPy actuan como un 'map' en un arreglo de NumPy**\n",
        "\n",
        "Dada una función sobre algún tipo permitido en un arreglo, un *map* (es un concepto) consiste en iterar sobre un array y modificar sus elementos utilizando la función. La función entonces se ejecutará en cada uno de los elementos del array. Conceptualmente si $f$ es una función y, por ejemplo $[x_1, x_2, x_3, \\ldots]$ es una arreglo  con $x_i$ en el dominio de $f$, entonces el *map de $f$*  en el arreglo es:\n",
        "$$\n",
        "f([x_1, x_2, x_3, \\ldots]) = [f(x_1), f(x_2), f(x_3), \\ldots]\n",
        "$$\n",
        "\n",
        "El módulo `numpy` tiene funciones similares al módulo `math`, pero que actúan sobre cada componente del arreglo,  es decir actúan como maps.\n",
        "\n",
        "Usaremos este concepto en gran medida cuando grafiquemos funciones, pero veamos un ejemplo ahora.\n"
      ],
      "metadata": {
        "id": "p7NOv7RdJMDG"
      }
    },
    {
      "cell_type": "code",
      "source": [
        "x = np.arange(0, 2*np.pi + 0.1, np.pi / 8)\n",
        " # crea un arreglo de 0 a un float menor que 2*np.pi + 0.1 incrementando np.pi / 8\n",
        " # en cada paso\n",
        "print(x)"
      ],
      "metadata": {
        "id": "WnSVuHODJaHO",
        "colab": {
          "base_uri": "https://localhost:8080/"
        },
        "outputId": "b383c8b4-7727-41d0-ec39-68086ce95225"
      },
      "execution_count": null,
      "outputs": [
        {
          "output_type": "stream",
          "name": "stdout",
          "text": [
            "[0.         0.39269908 0.78539816 1.17809725 1.57079633 1.96349541\n",
            " 2.35619449 2.74889357 3.14159265 3.53429174 3.92699082 4.3196899\n",
            " 4.71238898 5.10508806 5.49778714 5.89048623 6.28318531]\n"
          ]
        }
      ]
    },
    {
      "cell_type": "code",
      "source": [
        "print(np.sin(x))"
      ],
      "metadata": {
        "id": "3WESy-OwKAOv",
        "colab": {
          "base_uri": "https://localhost:8080/"
        },
        "outputId": "1ced8dfa-4cf6-44df-ee3b-354f73cfc20c"
      },
      "execution_count": null,
      "outputs": [
        {
          "output_type": "stream",
          "name": "stdout",
          "text": [
            "[ 0.00000000e+00  3.82683432e-01  7.07106781e-01  9.23879533e-01\n",
            "  1.00000000e+00  9.23879533e-01  7.07106781e-01  3.82683432e-01\n",
            "  1.22464680e-16 -3.82683432e-01 -7.07106781e-01 -9.23879533e-01\n",
            " -1.00000000e+00 -9.23879533e-01 -7.07106781e-01 -3.82683432e-01\n",
            " -2.44929360e-16]\n"
          ]
        }
      ]
    },
    {
      "cell_type": "markdown",
      "source": [
        "Dada una función que se aplica sobre números, podemos convertirla en un map  de un array NumPy con el método `vectorize()`, es decir si `f` es una función de números en números\n",
        "\n",
        "    v_f = np.vectorize(f)\n",
        "\n",
        "es una función que se aplica como map de `f` a arreglos numéricos. Por ejemplo,"
      ],
      "metadata": {
        "id": "7X9tYX_qZbt5"
      }
    },
    {
      "cell_type": "code",
      "source": [
        "def f(x):\n",
        "    return x**2\n",
        "\n",
        "v_f = np.vectorize(f)\n",
        "\n",
        "x = np.array([1, 2, 3, 4, 5])\n",
        "print(x)\n",
        "print(v_f(x))\n"
      ],
      "metadata": {
        "colab": {
          "base_uri": "https://localhost:8080/"
        },
        "id": "PNMzVePKaXW5",
        "outputId": "7f61352d-9f12-46b1-8b7e-bc711c750bf1"
      },
      "execution_count": null,
      "outputs": [
        {
          "output_type": "stream",
          "name": "stdout",
          "text": [
            "[1 2 3 4 5]\n",
            "[ 1  4  9 16 25]\n"
          ]
        }
      ]
    },
    {
      "cell_type": "markdown",
      "source": [
        "que hubiera sido lo mismo que"
      ],
      "metadata": {
        "id": "gxiO7hhCaxz2"
      }
    },
    {
      "cell_type": "code",
      "source": [
        "print (x**2)"
      ],
      "metadata": {
        "colab": {
          "base_uri": "https://localhost:8080/"
        },
        "id": "75twWMtZa0hn",
        "outputId": "63df08c3-7cb8-4db0-ab25-6f51cf007aac"
      },
      "execution_count": null,
      "outputs": [
        {
          "output_type": "stream",
          "name": "stdout",
          "text": [
            "[ 1  4  9 16 25]\n"
          ]
        }
      ]
    },
    {
      "cell_type": "markdown",
      "source": [
        "Pero para funciones más complejas conviene utilizar `vectorize()`."
      ],
      "metadata": {
        "id": "9WJiiRlOlHY3"
      }
    },
    {
      "cell_type": "markdown",
      "source": [
        "La documentación de NumPy aclara que vectorizar una función no aumenta la eficiencia respecto a iterar sobre el arreglo y  aplicar la función en cada elemento. El método `vectorize()` se utiliza para escribir código más compacto.  "
      ],
      "metadata": {
        "id": "rvA-pb-ha53-"
      }
    },
    {
      "cell_type": "markdown",
      "source": [
        "## 7. Métodos incorporados\n",
        "Los arreglos de NumPy vienen con un número de métodos incorporados útiles. Analizaremos a continuación algunos de estos métodos con ejemplos.\n",
        "\n",
        "**Obtener un rango de números utilizando Numpy**\n",
        "\n",
        "NumPy tiene un método útil llamado `arange` que toma dos números y devuelve un arreglo de números enteros que son mayores o iguales al primer número y menores que el segundo número. Es muy parecido al método de Python `range`, pero `arange` devuelve un objeto `array` de NumPy\n",
        "\n",
        "Un ejemplo del método `arange` es el siguiente."
      ],
      "metadata": {
        "id": "ispYRIvpEJ6t"
      }
    },
    {
      "cell_type": "code",
      "source": [
        "np.arange(1, 5)"
      ],
      "metadata": {
        "id": "dYPRKb4gFPV3",
        "colab": {
          "base_uri": "https://localhost:8080/"
        },
        "outputId": "507b4f17-0efe-49b8-9a96-eda8f898e76f"
      },
      "execution_count": null,
      "outputs": [
        {
          "output_type": "execute_result",
          "data": {
            "text/plain": [
              "array([1, 2, 3, 4])"
            ]
          },
          "metadata": {},
          "execution_count": 64
        }
      ]
    },
    {
      "cell_type": "code",
      "source": [
        "np.arange(1.5, 5.5)"
      ],
      "metadata": {
        "id": "mg05ryz4HE5u",
        "colab": {
          "base_uri": "https://localhost:8080/"
        },
        "outputId": "25973553-6701-402d-9b47-cf144de694ff"
      },
      "execution_count": null,
      "outputs": [
        {
          "output_type": "execute_result",
          "data": {
            "text/plain": [
              "array([1.5, 2.5, 3.5, 4.5])"
            ]
          },
          "metadata": {},
          "execution_count": 65
        }
      ]
    },
    {
      "cell_type": "markdown",
      "source": [
        "También se puede incluir una tercera variable en el método `arange` que proporciona un tamaño de paso. Pasar $2$ como tercera variable devolverá cada segundo número en el rango, pasar $5$ como tercera variable devolverá cada quinto número en el rango, y así sucesivamente. También podemos poner como tercer parámetro cualquier número (entero,  punto flotante)\n",
        "\n",
        "Ejemplos de ejemplo de uso de la tercera variable en el método arange se encuentra a continuación."
      ],
      "metadata": {
        "id": "7lxkfvU5FPkC"
      }
    },
    {
      "cell_type": "code",
      "source": [
        "np.arange(1,11,0.5)"
      ],
      "metadata": {
        "id": "TsTjxhnBFnqX",
        "colab": {
          "base_uri": "https://localhost:8080/"
        },
        "outputId": "4f2b5644-91b8-44d5-93ae-42898c8d136d"
      },
      "execution_count": null,
      "outputs": [
        {
          "output_type": "execute_result",
          "data": {
            "text/plain": [
              "array([ 1. ,  1.5,  2. ,  2.5,  3. ,  3.5,  4. ,  4.5,  5. ,  5.5,  6. ,\n",
              "        6.5,  7. ,  7.5,  8. ,  8.5,  9. ,  9.5, 10. , 10.5])"
            ]
          },
          "metadata": {},
          "execution_count": 66
        }
      ]
    },
    {
      "cell_type": "code",
      "source": [
        "np.arange(1,11,2)"
      ],
      "metadata": {
        "colab": {
          "base_uri": "https://localhost:8080/"
        },
        "id": "2DAqpR8H8Qvf",
        "outputId": "3beb7924-b571-4cf4-acb6-60222b7c4be8"
      },
      "execution_count": null,
      "outputs": [
        {
          "output_type": "execute_result",
          "data": {
            "text/plain": [
              "array([1, 3, 5, 7, 9])"
            ]
          },
          "metadata": {},
          "execution_count": 67
        }
      ]
    },
    {
      "cell_type": "code",
      "source": [
        "np.arange(1,11,np.pi)"
      ],
      "metadata": {
        "colab": {
          "base_uri": "https://localhost:8080/"
        },
        "id": "ilTdAYfF8Q4-",
        "outputId": "87b4b1c8-8208-426c-a489-fb8e45013a33"
      },
      "execution_count": null,
      "outputs": [
        {
          "output_type": "execute_result",
          "data": {
            "text/plain": [
              "array([ 1.        ,  4.14159265,  7.28318531, 10.42477796])"
            ]
          },
          "metadata": {},
          "execution_count": 68
        }
      ]
    },
    {
      "cell_type": "markdown",
      "source": [
        "**Generar arreglos de unos y ceros**\n",
        "\n",
        "Mientras programas, de vez en cuando necesitará crear arreglos de unos o ceros. NumPy tiene métodos incorporados que te permiten hacer ambas cosas.\n",
        "\n",
        "Podemos crear arreglos de ceros utilizando el método `zeros` de NumPy. Le pasas el número de enteros que quisieras crear como el argumento de la función. Un ejemplo es el siguiente."
      ],
      "metadata": {
        "id": "6cygqUzzFn2I"
      }
    },
    {
      "cell_type": "code",
      "source": [
        "np.zeros(4)"
      ],
      "metadata": {
        "id": "w4LReXSuGDRB",
        "colab": {
          "base_uri": "https://localhost:8080/"
        },
        "outputId": "350e58e7-d985-425c-fcf5-0986893b2b6c"
      },
      "execution_count": null,
      "outputs": [
        {
          "output_type": "execute_result",
          "data": {
            "text/plain": [
              "array([0., 0., 0., 0.])"
            ]
          },
          "metadata": {},
          "execution_count": 69
        }
      ]
    },
    {
      "cell_type": "code",
      "source": [
        "np.zeros((4,))"
      ],
      "metadata": {
        "id": "_stvel7MHq8U",
        "colab": {
          "base_uri": "https://localhost:8080/"
        },
        "outputId": "c73d358e-c4ec-476c-8814-c25c5123a239"
      },
      "execution_count": null,
      "outputs": [
        {
          "output_type": "execute_result",
          "data": {
            "text/plain": [
              "array([0., 0., 0., 0.])"
            ]
          },
          "metadata": {},
          "execution_count": 70
        }
      ]
    },
    {
      "cell_type": "markdown",
      "source": [
        "También se puedes hacer algo similar utilizando matrices. Por ejemplo,"
      ],
      "metadata": {
        "id": "SdgLfeNTGDlG"
      }
    },
    {
      "cell_type": "code",
      "source": [
        "np.zeros((5, 3))"
      ],
      "metadata": {
        "id": "KGzBRN1oGTqF",
        "colab": {
          "base_uri": "https://localhost:8080/"
        },
        "outputId": "8cd05259-25e3-4a3d-8ca2-b98d661be99c"
      },
      "execution_count": null,
      "outputs": [
        {
          "output_type": "execute_result",
          "data": {
            "text/plain": [
              "array([[0., 0., 0.],\n",
              "       [0., 0., 0.],\n",
              "       [0., 0., 0.],\n",
              "       [0., 0., 0.],\n",
              "       [0., 0., 0.]])"
            ]
          },
          "metadata": {},
          "execution_count": 71
        }
      ]
    },
    {
      "cell_type": "markdown",
      "source": [
        " crea un arreglo de $5 \\times 3$ que contiene todos ceros. Observar que debemos usar el doble paréntesis. Si queremos que los ceros sean de tipo entero, podemos hacer lo siguiente:"
      ],
      "metadata": {
        "id": "1BTt4PFCGT1B"
      }
    },
    {
      "cell_type": "code",
      "source": [
        "np.zeros((5, 3), dtype=int)"
      ],
      "metadata": {
        "id": "8xXQZhI0HJDo",
        "colab": {
          "base_uri": "https://localhost:8080/"
        },
        "outputId": "cdcbf0fc-87bc-4ede-d6c7-634c5c9abca8"
      },
      "execution_count": null,
      "outputs": [
        {
          "output_type": "execute_result",
          "data": {
            "text/plain": [
              "array([[0, 0, 0],\n",
              "       [0, 0, 0],\n",
              "       [0, 0, 0],\n",
              "       [0, 0, 0],\n",
              "       [0, 0, 0]])"
            ]
          },
          "metadata": {},
          "execution_count": 72
        }
      ]
    },
    {
      "cell_type": "markdown",
      "source": [
        "Podemos crear arreglos de unos usando un método similar llamado `ones`. Un ejemplo es el que sigue.\n"
      ],
      "metadata": {
        "id": "GIXE4m8hHJU1"
      }
    },
    {
      "cell_type": "code",
      "source": [
        "np.ones(5)"
      ],
      "metadata": {
        "id": "wGe8fjwuHmGB",
        "colab": {
          "base_uri": "https://localhost:8080/"
        },
        "outputId": "ca15d5b6-9897-484f-a87c-87b054b7513d"
      },
      "execution_count": null,
      "outputs": [
        {
          "output_type": "execute_result",
          "data": {
            "text/plain": [
              "array([1., 1., 1., 1., 1.])"
            ]
          },
          "metadata": {},
          "execution_count": 73
        }
      ]
    },
    {
      "cell_type": "markdown",
      "source": [
        "o, un arreglo de unos enteros:"
      ],
      "metadata": {
        "id": "-vbEkwyjHsSL"
      }
    },
    {
      "cell_type": "code",
      "source": [
        "np.ones(5, dtype=int)"
      ],
      "metadata": {
        "id": "PQ_pQuwxHnu5",
        "colab": {
          "base_uri": "https://localhost:8080/"
        },
        "outputId": "6bffb0b3-0292-4861-a8fc-96807de1f41e"
      },
      "execution_count": null,
      "outputs": [
        {
          "output_type": "execute_result",
          "data": {
            "text/plain": [
              "array([1, 1, 1, 1, 1])"
            ]
          },
          "metadata": {},
          "execution_count": 74
        }
      ]
    },
    {
      "cell_type": "markdown",
      "source": [
        "**Dividir uniformemente un rango de números**\n",
        "\n",
        "Hay muchas situaciones en las que se desea dividir un intervalo en intervalos regulares y  crear un arreglo con estos valores, algo así como *separe el intervalo de 1 a 10 en 10 subintervalos de igual longitud*. El método `linspace` de NumPy está diseñado para resolver este problema. `linspace` tiene tres argumentos:\n",
        "\n",
        "1. El inicio del intervalo\n",
        "2. El fin del intervalo\n",
        "3. El número de subintervalos más 1 en los que deseas que se divida el intervalo\n",
        "\n",
        "Un ejemplo del método `linspace` es el siguiente:"
      ],
      "metadata": {
        "id": "ExNb_V2tHmQ7"
      }
    },
    {
      "cell_type": "code",
      "source": [
        "print(np.linspace(0, 1, 11))\n",
        "print(len(np.linspace(0, 1, 11)))"
      ],
      "metadata": {
        "id": "yR2L1Q_oOel1",
        "colab": {
          "base_uri": "https://localhost:8080/"
        },
        "outputId": "00316791-46b8-4c52-dc75-32bd19b00cc8"
      },
      "execution_count": null,
      "outputs": [
        {
          "output_type": "stream",
          "name": "stdout",
          "text": [
            "[0.  0.1 0.2 0.3 0.4 0.5 0.6 0.7 0.8 0.9 1. ]\n",
            "11\n"
          ]
        }
      ]
    },
    {
      "cell_type": "markdown",
      "source": [
        "Lo que devuelve es el arreglo con  los puntos de separación de los intervalos."
      ],
      "metadata": {
        "id": "E-PuTFgSnZoH"
      }
    },
    {
      "cell_type": "markdown",
      "source": [
        "Haciendo una cuenta, podemos obtener  algo equivalente con `arange()`. Por ejemplo, en este caso los intervalos serán de $1/10 =0.1$ de ancho, luego:"
      ],
      "metadata": {
        "id": "wvhYAtZ09GVn"
      }
    },
    {
      "cell_type": "code",
      "source": [
        "np.arange(0, 1 + 0.1, 0.1)"
      ],
      "metadata": {
        "id": "_Pw-8Bwd83N9",
        "colab": {
          "base_uri": "https://localhost:8080/"
        },
        "outputId": "827ae91e-a5b0-403a-9d83-4ee15aaa77e1"
      },
      "execution_count": null,
      "outputs": [
        {
          "output_type": "execute_result",
          "data": {
            "text/plain": [
              "array([0. , 0.1, 0.2, 0.3, 0.4, 0.5, 0.6, 0.7, 0.8, 0.9, 1. ])"
            ]
          },
          "metadata": {},
          "execution_count": 76
        }
      ]
    },
    {
      "cell_type": "markdown",
      "source": [
        "Obviamente,  hay que utilizar `linspace()` para cometer menos errores y por ser más fácil."
      ],
      "metadata": {
        "id": "ElvuXQ1x9jrQ"
      }
    },
    {
      "cell_type": "markdown",
      "source": [
        "**Crear la matriz identidad**\n",
        "\n",
        "En álgebra lineal hay concepto muy importante y es el de *matriz identidad*, que es un arreglo cuadrado cuyos valores diagonales son todos 1 y  las otras posiciones valen 0. NumPy tiene una función incorporada para construir matrices identidad. La función es `eye`.\n",
        "\n",
        "Algunos ejemplos:"
      ],
      "metadata": {
        "id": "p8LcoNbEOex9"
      }
    },
    {
      "cell_type": "code",
      "source": [
        "np.eye(1)"
      ],
      "metadata": {
        "id": "xNYaSO27PjZ-",
        "colab": {
          "base_uri": "https://localhost:8080/"
        },
        "outputId": "d8d620e3-f157-471c-dfdf-553a8b9ed4df"
      },
      "execution_count": null,
      "outputs": [
        {
          "output_type": "execute_result",
          "data": {
            "text/plain": [
              "array([[1.]])"
            ]
          },
          "metadata": {},
          "execution_count": 77
        }
      ]
    },
    {
      "cell_type": "code",
      "source": [
        "np.eye(4)"
      ],
      "metadata": {
        "id": "aqRnTMsGPnsN",
        "colab": {
          "base_uri": "https://localhost:8080/"
        },
        "outputId": "96f3af4c-8cf3-4a29-a9d7-3e721bde9bce"
      },
      "execution_count": null,
      "outputs": [
        {
          "output_type": "execute_result",
          "data": {
            "text/plain": [
              "array([[1., 0., 0., 0.],\n",
              "       [0., 1., 0., 0.],\n",
              "       [0., 0., 1., 0.],\n",
              "       [0., 0., 0., 1.]])"
            ]
          },
          "metadata": {},
          "execution_count": 78
        }
      ]
    },
    {
      "cell_type": "code",
      "source": [
        "np.eye(50)"
      ],
      "metadata": {
        "id": "SSX0nInyPn2O",
        "colab": {
          "base_uri": "https://localhost:8080/"
        },
        "outputId": "00f0f97c-0f05-483a-d1bd-8bc7840c66f9"
      },
      "execution_count": null,
      "outputs": [
        {
          "output_type": "execute_result",
          "data": {
            "text/plain": [
              "array([[1., 0., 0., ..., 0., 0., 0.],\n",
              "       [0., 1., 0., ..., 0., 0., 0.],\n",
              "       [0., 0., 1., ..., 0., 0., 0.],\n",
              "       ...,\n",
              "       [0., 0., 0., ..., 1., 0., 0.],\n",
              "       [0., 0., 0., ..., 0., 1., 0.],\n",
              "       [0., 0., 0., ..., 0., 0., 1.]])"
            ]
          },
          "metadata": {},
          "execution_count": 79
        }
      ]
    },
    {
      "cell_type": "markdown",
      "source": [
        "\n",
        "**Números aleatorios usando NumPy**\n",
        "\n",
        "NumPy tiene varios métodos integrados que te permiten crear matrices de números aleatorios. Cada uno de estos métodos comienza con `random`. A continuación se muestran algunos ejemplos:"
      ],
      "metadata": {
        "id": "eThNwMeCPjnP"
      }
    },
    {
      "cell_type": "code",
      "source": [
        "np.random.rand(10)"
      ],
      "metadata": {
        "id": "-mVBAobmQdtn",
        "colab": {
          "base_uri": "https://localhost:8080/"
        },
        "outputId": "2b281255-af29-4dbb-b646-189339327a00"
      },
      "execution_count": null,
      "outputs": [
        {
          "output_type": "execute_result",
          "data": {
            "text/plain": [
              "array([0.05736297, 0.24097947, 0.16363286, 0.124421  , 0.20159159,\n",
              "       0.71341658, 0.39017399, 0.10706336, 0.91045992, 0.84158462])"
            ]
          },
          "metadata": {},
          "execution_count": 80
        }
      ]
    },
    {
      "cell_type": "markdown",
      "source": [
        "Devuelve un arreglo de 10 números aleatorios entre 0 y 1.\n",
        "\n",
        "El tamaño de la muestra puede ser un número entero (para un arreglo unidimensional) o dos enteros separados por comas (para un arreglo bidimensional)."
      ],
      "metadata": {
        "id": "8NeY-37bQd4U"
      }
    },
    {
      "cell_type": "code",
      "source": [
        "np.random.rand(4, 3)*10"
      ],
      "metadata": {
        "id": "CoPRdlxsRIoT",
        "colab": {
          "base_uri": "https://localhost:8080/"
        },
        "outputId": "0abbf083-84a9-441c-fe2f-34a672863792"
      },
      "execution_count": null,
      "outputs": [
        {
          "output_type": "execute_result",
          "data": {
            "text/plain": [
              "array([[2.69963173, 2.58842073, 0.1162164 ],\n",
              "       [4.20782883, 6.45066876, 6.5662356 ],\n",
              "       [5.37764693, 6.30525247, 8.40540996],\n",
              "       [6.71782839, 8.35042876, 9.29935566]])"
            ]
          },
          "metadata": {},
          "execution_count": 81
        }
      ]
    },
    {
      "cell_type": "markdown",
      "source": [
        "Lo anterior devuelve una matriz $4 \\times 3$ de números aleatorios entre 0 y 10.\n",
        "\n",
        "Se pueden obtener aleatorios entre 0 y 1, siguiendo la distribución normal:\n"
      ],
      "metadata": {
        "id": "inKst1npRJAN"
      }
    },
    {
      "cell_type": "code",
      "source": [
        "np.random.randn(30)"
      ],
      "metadata": {
        "id": "3I_RD8m2S48F",
        "colab": {
          "base_uri": "https://localhost:8080/"
        },
        "outputId": "49f20803-d2db-4dbf-c3a7-0fec8bd0f2a9"
      },
      "execution_count": null,
      "outputs": [
        {
          "output_type": "execute_result",
          "data": {
            "text/plain": [
              "array([-0.83788353,  1.29341855, -0.27465316, -1.70283307, -0.05357068,\n",
              "        0.5186259 ,  0.89688488, -0.24978704,  1.08188068,  1.74226537,\n",
              "       -0.03241249, -0.6738596 , -0.93444921, -1.13039878, -0.21032179,\n",
              "        0.88359378, -0.07535144, -0.55289213, -1.06845016, -0.39269646,\n",
              "       -1.40258949,  0.60609728, -2.42179849,  1.3752418 , -1.0980693 ,\n",
              "        1.97594618,  1.10400826,  0.83831274, -0.81563509, -0.45923303])"
            ]
          },
          "metadata": {},
          "execution_count": 82
        }
      ]
    },
    {
      "cell_type": "markdown",
      "source": [
        "\n",
        "En  el caso de números aletorios enteros se usa `randint`.\n"
      ],
      "metadata": {
        "id": "-fDNX0DPS5Go"
      }
    },
    {
      "cell_type": "code",
      "source": [
        "np.random.randint(-20, 20, 10)"
      ],
      "metadata": {
        "id": "Ld15i4SpThvO",
        "colab": {
          "base_uri": "https://localhost:8080/"
        },
        "outputId": "1ba12165-a64a-4b33-9f73-f26f18546fbf"
      },
      "execution_count": null,
      "outputs": [
        {
          "output_type": "execute_result",
          "data": {
            "text/plain": [
              "array([-18,  -9,   7,  14,  -3,  12, -16, -16,  15,  -4])"
            ]
          },
          "metadata": {},
          "execution_count": 83
        }
      ]
    },
    {
      "cell_type": "markdown",
      "source": [
        "Devuelve una muestra de 10 números enteros que son mayores o iguales que -20 y menores que 20.\n",
        "\n",
        "**Remodelar arreglos de NumPy**\n",
        "\n",
        "Es muy común tomar un arreglo con ciertas dimensiones y transformar ese arreglo en una forma diferente. Por ejemplo, es posible que tengas un arreglo unidimensional con 6 elementos y desees cambiarlo a un arreglo bidimensional de 2x3.\n",
        "\n",
        "A continuación se muestra un ejemplo:"
      ],
      "metadata": {
        "id": "OkCUKrmOTh6c"
      }
    },
    {
      "cell_type": "code",
      "source": [
        "arr = np.array([0,1,2,3,4,5])\n",
        "print(arr)\n",
        "arr.reshape(2,3)"
      ],
      "metadata": {
        "id": "WKXwLddTUHgX",
        "colab": {
          "base_uri": "https://localhost:8080/"
        },
        "outputId": "66fb5e7d-2b42-46b2-b1a0-92f9a98c79e6"
      },
      "execution_count": null,
      "outputs": [
        {
          "output_type": "stream",
          "name": "stdout",
          "text": [
            "[0 1 2 3 4 5]\n"
          ]
        },
        {
          "output_type": "execute_result",
          "data": {
            "text/plain": [
              "array([[0, 1, 2],\n",
              "       [3, 4, 5]])"
            ]
          },
          "metadata": {},
          "execution_count": 84
        }
      ]
    },
    {
      "cell_type": "markdown",
      "source": [
        "La salida de esta operación es:\n",
        "\n",
        "\n",
        "```\n",
        "array([[0, 1, 2],\n",
        "       [3, 4, 5]])\n",
        "```\n",
        "\n",
        "Hay que tener en cuenta que para usar el método `reshape`, el arreglo original debe tener la misma cantidad de elementos que la multiplicación de los argumentos del método `reshape`.\n",
        "\n",
        "Si se duda sobre las dimensiones de un arreglo NumPy, se puede determinar sus dimensiones utilizando el atributo `shape` de NumPy. Por  ejemplo:"
      ],
      "metadata": {
        "id": "D2gv_jjsUHrb"
      }
    },
    {
      "cell_type": "code",
      "source": [
        "arr = np.array([0,1,2,3,4,5])\n",
        "print(arr.shape)\n",
        "arr = arr.reshape(2,3)\n",
        "print(arr.shape)\n",
        "print(arr)\n",
        "print(type(arr[0]))\n",
        "arr_2 = np.array([[0, 1, 2],  [3, 4, 5]])\n",
        "print(arr_2)\n",
        "print(type(arr_2[0]), arr_2[0])"
      ],
      "metadata": {
        "id": "FCliQqA5VJbo",
        "colab": {
          "base_uri": "https://localhost:8080/"
        },
        "outputId": "195db465-5ef8-47d6-beb5-476bc8d65624"
      },
      "execution_count": null,
      "outputs": [
        {
          "output_type": "stream",
          "name": "stdout",
          "text": [
            "(6,)\n",
            "(2, 3)\n",
            "[[0 1 2]\n",
            " [3 4 5]]\n",
            "<class 'numpy.ndarray'>\n",
            "[[0 1 2]\n",
            " [3 4 5]]\n",
            "<class 'numpy.ndarray'> [0 1 2]\n"
          ]
        }
      ]
    },
    {
      "cell_type": "markdown",
      "source": [
        "El método `shape` es el adecuado para averiguar el tamaño de los arreglos con los cuales estamos trabajando. Aplicar la función `len` solo devuelve en número de filas del arreglo."
      ],
      "metadata": {
        "id": "01ObUJq7IMoO"
      }
    },
    {
      "cell_type": "code",
      "source": [
        "len(arr)"
      ],
      "metadata": {
        "id": "kQMG5qdeIkv4",
        "colab": {
          "base_uri": "https://localhost:8080/"
        },
        "outputId": "a672c511-db42-456e-b434-917b0a9cc15e"
      },
      "execution_count": null,
      "outputs": [
        {
          "output_type": "execute_result",
          "data": {
            "text/plain": [
              "2"
            ]
          },
          "metadata": {},
          "execution_count": 86
        }
      ]
    },
    {
      "cell_type": "markdown",
      "source": [
        "**Métodos de estadística sobre un arreglo NumPy**\n",
        "\n",
        "Aprendamos cuatro métodos útiles para identificar los valores máximo y mínimo dentro de un arreglo NumPy. Trabajaremos con este arreglo:\n"
      ],
      "metadata": {
        "id": "8zokHM1KVJoY"
      }
    },
    {
      "cell_type": "code",
      "source": [
        "simple_array = [1, 2., 3, 4, 30, 5]\n",
        "z = np.array(simple_array)\n",
        "print(z)"
      ],
      "metadata": {
        "id": "dmcJf0tnV8fx",
        "colab": {
          "base_uri": "https://localhost:8080/"
        },
        "outputId": "26d8f72a-e601-4df1-a487-b990b0482fea"
      },
      "execution_count": null,
      "outputs": [
        {
          "output_type": "stream",
          "name": "stdout",
          "text": [
            "[ 1.  2.  3.  4. 30.  5.]\n"
          ]
        }
      ]
    },
    {
      "cell_type": "markdown",
      "source": [
        "Además de las operaciones aritméticas básicas, los arrays de NumPy tienen métodos o funciones específicas para estadística. Algunas de ellas son las siguientes:\n"
      ],
      "metadata": {
        "id": "mQnZFG91VIeW"
      }
    },
    {
      "cell_type": "code",
      "source": [
        "z.max()   # Valor máximo de los elementos del array"
      ],
      "metadata": {
        "id": "Zh29IHLuVhoA",
        "colab": {
          "base_uri": "https://localhost:8080/"
        },
        "outputId": "4683e635-fb3f-44d7-b5b4-492db44b20b7"
      },
      "execution_count": null,
      "outputs": [
        {
          "output_type": "execute_result",
          "data": {
            "text/plain": [
              "30.0"
            ]
          },
          "metadata": {},
          "execution_count": 88
        }
      ]
    },
    {
      "cell_type": "code",
      "source": [
        "z.argmax() # índice donde se encuentra el máximo"
      ],
      "metadata": {
        "id": "1cScFpD30SHa",
        "colab": {
          "base_uri": "https://localhost:8080/"
        },
        "outputId": "9f2566d9-ce18-4172-85d4-ad5872b2eaa0"
      },
      "execution_count": null,
      "outputs": [
        {
          "output_type": "execute_result",
          "data": {
            "text/plain": [
              "4"
            ]
          },
          "metadata": {},
          "execution_count": 89
        }
      ]
    },
    {
      "cell_type": "code",
      "source": [
        "z.min()   # Valor mínimo de los elementos del array"
      ],
      "metadata": {
        "id": "h9ZQ688IVzwv",
        "colab": {
          "base_uri": "https://localhost:8080/"
        },
        "outputId": "e0ca6820-10cf-44c6-8243-60b23dd03183"
      },
      "execution_count": null,
      "outputs": [
        {
          "output_type": "execute_result",
          "data": {
            "text/plain": [
              "1.0"
            ]
          },
          "metadata": {},
          "execution_count": 90
        }
      ]
    },
    {
      "cell_type": "code",
      "source": [
        "z.mean()  # Valor medio de los elementos del array"
      ],
      "metadata": {
        "id": "l7afZLAnVz70",
        "colab": {
          "base_uri": "https://localhost:8080/"
        },
        "outputId": "daeb571a-2982-41d0-b20c-15eaf8def8a3"
      },
      "execution_count": null,
      "outputs": [
        {
          "output_type": "execute_result",
          "data": {
            "text/plain": [
              "7.5"
            ]
          },
          "metadata": {},
          "execution_count": 91
        }
      ]
    },
    {
      "cell_type": "code",
      "source": [
        "z.std()   # Desviación típica de los elementos del array"
      ],
      "metadata": {
        "id": "lHk2MrITV0F7",
        "colab": {
          "base_uri": "https://localhost:8080/"
        },
        "outputId": "f656124a-f148-4393-cfd8-96e890bb0497"
      },
      "execution_count": null,
      "outputs": [
        {
          "output_type": "execute_result",
          "data": {
            "text/plain": [
              "10.1447851956888"
            ]
          },
          "metadata": {},
          "execution_count": 92
        }
      ]
    },
    {
      "cell_type": "code",
      "source": [
        "z.sum()   # Suma de todos los elementos del array"
      ],
      "metadata": {
        "id": "_2qoGnqFV0RR",
        "colab": {
          "base_uri": "https://localhost:8080/"
        },
        "outputId": "365155a7-82f1-4517-fe8b-6d53400d9e77"
      },
      "execution_count": null,
      "outputs": [
        {
          "output_type": "execute_result",
          "data": {
            "text/plain": [
              "45.0"
            ]
          },
          "metadata": {},
          "execution_count": 93
        }
      ]
    },
    {
      "cell_type": "code",
      "source": [
        "np.median(z) # Mediana de los elementos del array"
      ],
      "metadata": {
        "id": "uqr9AviEV0dm",
        "colab": {
          "base_uri": "https://localhost:8080/"
        },
        "outputId": "aa020b2f-5494-4ab1-dfa7-3505ff726765"
      },
      "execution_count": null,
      "outputs": [
        {
          "output_type": "execute_result",
          "data": {
            "text/plain": [
              "3.5"
            ]
          },
          "metadata": {},
          "execution_count": 94
        }
      ]
    },
    {
      "cell_type": "markdown",
      "source": [
        "\n",
        "Los métodos, que se operan de la forma `z.sum()` también pueden usarse como funciones de tipo `sum(z)`, etc. Consulten el manual de NumPy para conocer otras propiedades y métodos de los arrays o simplemente acudan y consulten la “ayuda” de las funciones que quieran utilizar."
      ],
      "metadata": {
        "id": "sh3HIs0sVmMx"
      }
    },
    {
      "cell_type": "code",
      "source": [
        "sum(z)"
      ],
      "metadata": {
        "id": "5r92mjaNPpwv",
        "colab": {
          "base_uri": "https://localhost:8080/"
        },
        "outputId": "c0707925-c5d0-4bf2-e6a5-6ca0a2996bf6"
      },
      "execution_count": null,
      "outputs": [
        {
          "output_type": "execute_result",
          "data": {
            "text/plain": [
              "45.0"
            ]
          },
          "metadata": {},
          "execution_count": 95
        }
      ]
    },
    {
      "cell_type": "markdown",
      "source": [
        "## 8. Arrays booleanos\n",
        "\n",
        "Una gran utilidad de los arrays es la posibilidad de usarlos con datos booleanos (`True` o `False`) y operar entre ellos o incluso mezclados con arrays con números. Veamos algunos ejemplos:"
      ],
      "metadata": {
        "id": "XpPbSwFJOJRS"
      }
    },
    {
      "cell_type": "code",
      "source": [
        "A = np.array([True, False, True])\n",
        "B = np.array([False, False, True])\n",
        "print(type(A[0]))"
      ],
      "metadata": {
        "id": "Bcex3qylOj13",
        "colab": {
          "base_uri": "https://localhost:8080/"
        },
        "outputId": "0d3516a5-be33-4600-fdfa-ef32aea3dc11"
      },
      "execution_count": null,
      "outputs": [
        {
          "output_type": "stream",
          "name": "stdout",
          "text": [
            "<class 'numpy.bool_'>\n"
          ]
        }
      ]
    },
    {
      "cell_type": "markdown",
      "source": [
        "Podemos hacer el \"y\" de array booleanos con  el `*`:"
      ],
      "metadata": {
        "id": "x5RKuB7ZcAlI"
      }
    },
    {
      "cell_type": "code",
      "source": [
        "print(A*B)"
      ],
      "metadata": {
        "id": "0CHcr_SvPCrm",
        "colab": {
          "base_uri": "https://localhost:8080/"
        },
        "outputId": "a40695d0-7853-475b-ffe2-15163f783524"
      },
      "execution_count": null,
      "outputs": [
        {
          "output_type": "stream",
          "name": "stdout",
          "text": [
            "[False False  True]\n"
          ]
        }
      ]
    },
    {
      "cell_type": "markdown",
      "source": [
        "En este ejemplo vemos cómo al multiplicar dos arrays booleanos es resultado es otro array booleano hacien el \"y\" coordenada a coordenada. Para hacer el \"o\" usamos el operador `+` y para hacer la negación el `~`:"
      ],
      "metadata": {
        "id": "BmhiHH-dcWoI"
      }
    },
    {
      "cell_type": "code",
      "source": [
        "print(A+B)\n",
        "print(~A)"
      ],
      "metadata": {
        "colab": {
          "base_uri": "https://localhost:8080/"
        },
        "id": "WsQ8kVG5cmeR",
        "outputId": "40450078-92a2-46f7-a5a8-18128d965f4d"
      },
      "execution_count": null,
      "outputs": [
        {
          "output_type": "stream",
          "name": "stdout",
          "text": [
            "[ True False  True]\n",
            "[False  True False]\n"
          ]
        }
      ]
    },
    {
      "cell_type": "markdown",
      "source": [
        "Pero al multiplicar los arrays booleanos con arrays numéricos, el resultado es un array numérico con los mismos elementos, pero con los elementos que fueron multiplicados por `False` iguales a cero."
      ],
      "metadata": {
        "id": "bjSMmN1VdBM-"
      }
    },
    {
      "cell_type": "code",
      "source": [
        "C = np.array([1, 2, 3])\n",
        "print('A =',A)\n",
        "print('C =',C)\n",
        "print('A*C =',A*C)"
      ],
      "metadata": {
        "id": "9AcNgw_VPJsd",
        "colab": {
          "base_uri": "https://localhost:8080/"
        },
        "outputId": "0bda01c2-b640-46fc-aa3d-8e71f500c703"
      },
      "execution_count": null,
      "outputs": [
        {
          "output_type": "stream",
          "name": "stdout",
          "text": [
            "A = [ True False  True]\n",
            "C = [1 2 3]\n",
            "A*C = [1 0 3]\n"
          ]
        }
      ]
    },
    {
      "cell_type": "markdown",
      "source": [
        "En  realidad en este tipo de operaciones el array booleano puede ser visto como un array numérico con `0` en `False` y `1` en `True`, como podemos ver en este ejemplo:  "
      ],
      "metadata": {
        "id": "qPQmRi9powC5"
      }
    },
    {
      "cell_type": "code",
      "source": [
        "print('B =',B)\n",
        "print('C =',C)\n",
        "print('B+C =',B+C)"
      ],
      "metadata": {
        "id": "UsFQmj8iPTw1",
        "colab": {
          "base_uri": "https://localhost:8080/"
        },
        "outputId": "9da670c2-2860-4547-935d-e6d703743010"
      },
      "execution_count": null,
      "outputs": [
        {
          "output_type": "stream",
          "name": "stdout",
          "text": [
            "B = [False False  True]\n",
            "C = [1 2 3]\n",
            "B+C = [1 2 4]\n"
          ]
        }
      ]
    },
    {
      "cell_type": "markdown",
      "source": [
        "Tambíén es posible usar los arrays como índices de otro array y como índices se pueden usar arrays numéricos o booleanos. El resultado será:\n",
        "\n",
        "- si el array que se usa de índice es numérico (enteros no negativos), se devolverá el subarray con eso índices,\n",
        "- si el array que se usa de índice es booleano (de `True` y `False`), debe tener la misma longitud del array original y devuelve  el subarray de las posiciones correspondientes a `True`\n",
        "\n",
        "Hagamos algunos ejemplos.\n"
      ],
      "metadata": {
        "id": "Biq7EHmCOkPw"
      }
    },
    {
      "cell_type": "code",
      "source": [
        "# Array con enteros de 0 a 90, de 10 en 10\n",
        "mi_array = np.arange(0,100,10)\n",
        "print(mi_array)"
      ],
      "metadata": {
        "id": "jSdAjGqNQAer",
        "colab": {
          "base_uri": "https://localhost:8080/"
        },
        "outputId": "48d8c234-480d-4e46-f1f3-8d858f1f5805"
      },
      "execution_count": null,
      "outputs": [
        {
          "output_type": "stream",
          "name": "stdout",
          "text": [
            "[ 0 10 20 30 40 50 60 70 80 90]\n"
          ]
        }
      ]
    },
    {
      "cell_type": "code",
      "source": [
        "# Array de índices numericos con numeros de 0-9 de 2 en 2\n",
        "indices1 = np.arange(0,10,2)\n",
        "print(indices1)"
      ],
      "metadata": {
        "id": "6YaK2HK3QlaU",
        "colab": {
          "base_uri": "https://localhost:8080/"
        },
        "outputId": "1b16f02a-5238-4cb8-da07-8727dace5e7b"
      },
      "execution_count": null,
      "outputs": [
        {
          "output_type": "stream",
          "name": "stdout",
          "text": [
            "[0 2 4 6 8]\n"
          ]
        }
      ]
    },
    {
      "cell_type": "code",
      "source": [
        "# Array de 10 índices booleanos\n",
        "indices2 = np.array([False, True, True, False, False, True, False, False, True, True])\n",
        "print(indices2)"
      ],
      "metadata": {
        "id": "eVG5IIYhQlo0",
        "colab": {
          "base_uri": "https://localhost:8080/"
        },
        "outputId": "3df64c21-eb42-4fec-e90a-bcfabeafc408"
      },
      "execution_count": null,
      "outputs": [
        {
          "output_type": "stream",
          "name": "stdout",
          "text": [
            "[False  True  True False False  True False False  True  True]\n"
          ]
        }
      ]
    },
    {
      "cell_type": "code",
      "source": [
        "print(mi_array)\n",
        "print(mi_array[indices1]) # solo aprecen los valores con índice en indices1\n",
        "print(mi_array[indices2]) # solo aparecen  los valores con índices True en indices2"
      ],
      "metadata": {
        "id": "21FWlgf6RUXD",
        "colab": {
          "base_uri": "https://localhost:8080/"
        },
        "outputId": "6c739f7b-13c0-4304-fc26-aeb95ac6914f"
      },
      "execution_count": null,
      "outputs": [
        {
          "output_type": "stream",
          "name": "stdout",
          "text": [
            "[ 0 10 20 30 40 50 60 70 80 90]\n",
            "[ 0 20 40 60 80]\n",
            "[10 20 50 80 90]\n"
          ]
        }
      ]
    },
    {
      "cell_type": "markdown",
      "source": [
        "Solo es admisible utilizar como índices arreglos de enteros o arreglos de booleanos y  estos últimos deben tener la misma longitud que el arreglo que se está indizando."
      ],
      "metadata": {
        "id": "bfdTrDivq1G2"
      }
    },
    {
      "cell_type": "markdown",
      "source": [
        "También es muy sencillo crear arrays booleanos usando operadores lógicos y luego usalos como índices, por ejemplo:"
      ],
      "metadata": {
        "id": "aN_VyxuPQFzf"
      }
    },
    {
      "cell_type": "code",
      "source": [
        "# Creamos un array booleano usando un operador booleano\n",
        "mayores50 = mi_array > 50\n",
        "print(mayores50)"
      ],
      "metadata": {
        "id": "5zED4VTkSyLb",
        "colab": {
          "base_uri": "https://localhost:8080/"
        },
        "outputId": "374a3a52-57d6-4dc4-c1c4-47655f01aa6b"
      },
      "execution_count": null,
      "outputs": [
        {
          "output_type": "stream",
          "name": "stdout",
          "text": [
            "[False False False False False False  True  True  True  True]\n"
          ]
        }
      ]
    },
    {
      "cell_type": "markdown",
      "source": [
        "Este array puede servir como índice para recuperar un subarray."
      ],
      "metadata": {
        "id": "RAXYhDoJUHU4"
      }
    },
    {
      "cell_type": "code",
      "source": [
        "print(mi_array[mayores50])"
      ],
      "metadata": {
        "id": "37xfR0oXT4ZI",
        "colab": {
          "base_uri": "https://localhost:8080/"
        },
        "outputId": "2eae8595-70ca-446d-8fb7-4106209fa2b8"
      },
      "execution_count": null,
      "outputs": [
        {
          "output_type": "stream",
          "name": "stdout",
          "text": [
            "[60 70 80 90]\n"
          ]
        }
      ]
    },
    {
      "cell_type": "markdown",
      "source": [
        "La creación de array booleanos para ser usados como índices de arrays numéricos es una característica *muy útil* y *muy utilizada* en NumPy (remarcamos esto). A estos array booleanos suele llamárselos *máscaras* y se utilizan, por ejemplo, para \"limpiar\" datos espurios de una muestra."
      ],
      "metadata": {
        "id": "H6nqBDyL_wj4"
      }
    },
    {
      "cell_type": "markdown",
      "source": [
        "## Ejemplos"
      ],
      "metadata": {
        "id": "u4TLZwV0YVWj"
      }
    },
    {
      "cell_type": "markdown",
      "source": [
        "1. Crear un array de 100 números enteros aleatorios con valores de -100 a +100. Usando arrays de booleanos crear otros arrays que contengan los positivos, los negativos, los mayores de 50 y los $x$ tal que $-50 < x < 50$ del array original."
      ],
      "metadata": {
        "id": "KrTm2GBaYres"
      }
    },
    {
      "cell_type": "markdown",
      "source": [
        "**Solución:**"
      ],
      "metadata": {
        "id": "gT7Nt38Vvnh1"
      }
    },
    {
      "cell_type": "code",
      "source": [
        "original = np.random.randint(-100, 101, 100)\n",
        "print(original)"
      ],
      "metadata": {
        "id": "a2qxSNNNYr10",
        "colab": {
          "base_uri": "https://localhost:8080/"
        },
        "outputId": "06c05d0f-3c15-469a-bcdc-4c812750dcb7"
      },
      "execution_count": null,
      "outputs": [
        {
          "output_type": "stream",
          "name": "stdout",
          "text": [
            "[-19 -59   2 -13 -84 -76 -95  30 -31 -73 -19  66  93 -85  -1  42  22 -55\n",
            " -14  40  28  -4 -59 -19 -59 -37 -54  47 -61  54  69  70 -36 -68  62 -72\n",
            " -41   2 -30  30  90  73 -20 -10 -27 -61 -74  -8  45  -1 -76 -13  -2  -4\n",
            " -26 -95 -97  96 -71  46  81 -33  64  51  13  21  -1  96 -31 -97  20 -16\n",
            "  36  57  25  84 -82 -65 -53  85  60  79  22  44 -84 -97  -1 -39   0  21\n",
            "  16  74  33 -49  20 -96 -40 -19 -91  79]\n"
          ]
        }
      ]
    },
    {
      "cell_type": "code",
      "source": [
        "positivos = original > 0\n",
        "orig_pos = original[positivos]\n",
        "print(orig_pos)"
      ],
      "metadata": {
        "id": "cDa7K8HDSgN4",
        "colab": {
          "base_uri": "https://localhost:8080/"
        },
        "outputId": "3b5a7cbd-659d-4d73-909b-94f0b742e972"
      },
      "execution_count": null,
      "outputs": [
        {
          "output_type": "stream",
          "name": "stdout",
          "text": [
            "[ 2 30 66 93 42 22 40 28 47 54 69 70 62  2 30 90 73 45 96 46 81 64 51 13\n",
            " 21 96 20 36 57 25 84 85 60 79 22 44 21 16 74 33 20 79]\n"
          ]
        }
      ]
    },
    {
      "cell_type": "code",
      "source": [
        "negativos = original < 0\n",
        "orig_neg = original[negativos]\n",
        "print(orig_neg)"
      ],
      "metadata": {
        "id": "R8nsvWaCThxp",
        "colab": {
          "base_uri": "https://localhost:8080/"
        },
        "outputId": "62c73507-9632-4664-f154-37a30cc3286b"
      },
      "execution_count": null,
      "outputs": [
        {
          "output_type": "stream",
          "name": "stdout",
          "text": [
            "[-19 -59 -13 -84 -76 -95 -31 -73 -19 -85  -1 -55 -14  -4 -59 -19 -59 -37\n",
            " -54 -61 -36 -68 -72 -41 -30 -20 -10 -27 -61 -74  -8  -1 -76 -13  -2  -4\n",
            " -26 -95 -97 -71 -33  -1 -31 -97 -16 -82 -65 -53 -84 -97  -1 -39 -49 -96\n",
            " -40 -19 -91]\n"
          ]
        }
      ]
    },
    {
      "cell_type": "code",
      "source": [
        "mayores50 = original > 50\n",
        "orig_may50 = original[mayores50]\n",
        "print(orig_may50)"
      ],
      "metadata": {
        "id": "5XDHxH_9T7Vo",
        "colab": {
          "base_uri": "https://localhost:8080/"
        },
        "outputId": "aa0810c3-0e75-4b6d-d35f-ba6009d2fc9c"
      },
      "execution_count": null,
      "outputs": [
        {
          "output_type": "stream",
          "name": "stdout",
          "text": [
            "[66 93 54 69 70 62 90 73 96 81 64 51 96 57 84 85 60 79 74 79]\n"
          ]
        }
      ]
    },
    {
      "cell_type": "code",
      "source": [
        "intervalo1 = -50 < original # mayores que -50\n",
        "intervalo2 = original < 50 # menores que 50\n",
        "intervalo = intervalo1 * intervalo2 # los x tales que -50 < x < 50\n",
        "orig_int = original[intervalo]\n",
        "print(orig_int)"
      ],
      "metadata": {
        "id": "1usahRRNUP_S",
        "colab": {
          "base_uri": "https://localhost:8080/"
        },
        "outputId": "01b3cde6-5dff-4e4b-8c40-1513ebb92c18"
      },
      "execution_count": null,
      "outputs": [
        {
          "output_type": "stream",
          "name": "stdout",
          "text": [
            "[-19   2 -13  30 -31 -19  -1  42  22 -14  40  28  -4 -19 -37  47 -36 -41\n",
            "   2 -30  30 -20 -10 -27  -8  45  -1 -13  -2  -4 -26  46 -33  13  21  -1\n",
            " -31  20 -16  36  25  22  44  -1 -39   0  21  16  33 -49  20 -40 -19]\n"
          ]
        }
      ]
    },
    {
      "cell_type": "markdown",
      "source": [
        "Así como el  `*` actúa como un  `and` entre booleanos,  el `+` actúa como un `or`. Veamos un ejemplo:"
      ],
      "metadata": {
        "id": "Lx9XAuAAwi20"
      }
    },
    {
      "cell_type": "code",
      "source": [
        "intervalo = ( original < -50) + (original > 50) # los extremos,  es decir los x tal (x < -50) or (x > 50)\n",
        "orig_extremos = original[intervalo]\n",
        "print(orig_extremos)"
      ],
      "metadata": {
        "id": "XrSARCrXVyQG",
        "colab": {
          "base_uri": "https://localhost:8080/"
        },
        "outputId": "f2fe2e53-f223-4140-9079-2989f643eb70"
      },
      "execution_count": null,
      "outputs": [
        {
          "output_type": "stream",
          "name": "stdout",
          "text": [
            "[-59 -84 -76 -95 -73  66  93 -85 -55 -59 -59 -54 -61  54  69  70 -68  62\n",
            " -72  90  73 -61 -74 -76 -95 -97  96 -71  81  64  51  96 -97  57  84 -82\n",
            " -65 -53  85  60  79 -84 -97  74 -96 -91  79]\n"
          ]
        }
      ]
    },
    {
      "cell_type": "markdown",
      "source": [
        "2. La nota final de una materia de la Facultad, digamos $F$, se calcula añadiendo a la nota del examen final ($Z$) una ponderación de la evaluación contínua ($C$) a lo largo del curso de la forma:\n",
        "$$\n",
        "P = 0.6\\,C + Z \\frac{(10 - 0.6\\,C)}{10}\n",
        "$$\n",
        "El alumno estará aprobado cuando $P$ sea mayor o igual a cinco, siempre que $Z$ supere un tercio de la nota máxima ($Z>10/3$). En  ese cas $F= P$. En caso contrario, se queda con $F=Z$. Un grupo de alumnos ha obtenido las siguientes calificaciones en la evaluación contínua y en el examen final:\n",
        "$$\n",
        "\\begin{matrix}\n",
        "&&\ta_0& a_1& a_2& a_3& a_4& a_5& a_6& a_7& a_8& a_9 \\\\\n",
        "C&&\t8.2& 0.0& 9.0& 5.0& 8.4& 7.2& 5.0& 9.2& 4.9& 7.9 \\\\\n",
        "Z&&\t7.1& 5.1& 8.8& 3.1& 4.6& 2.0& 4.1& 7.4& 4.4& 8.8\n",
        "\\end{matrix}\n",
        "$$\n",
        "\n",
        "Usando arrays de NumPy hacer un programa que calcule sus notas finales indicando además quién ha aprobado y quién no. Calcular también la nota media de la evaluación continua, del examen final y de la nota final."
      ],
      "metadata": {
        "id": "3xBz9qz_YsUj"
      }
    },
    {
      "cell_type": "markdown",
      "source": [
        "**Solución:** Primero creemos las estructuras necesarias para poder trabajar."
      ],
      "metadata": {
        "id": "MfTGN7x_SPQT"
      }
    },
    {
      "cell_type": "code",
      "source": [
        "import numpy as np\n",
        "alumnos = np.array(['a_0', 'a_1', 'a_2', 'a_3', 'a_4', 'a_5', 'a_6', 'a_7', 'a_8', 'a_9'])\n",
        "eval_c = np.array([8.2, 0.0, 9.0, 5.0, 8.4, 7.2, 5.0, 9.2, 4.9, 7.9])\n",
        "eval_z = np.array([7.1, 3.1, 8.8, 3.1, 4.6, 2.0, 4.1, 7.4, 4.4, 8.8])\n",
        "eval_p = 0.6 * eval_c + eval_z * (10 - 0.6 * eval_c) / 10\n",
        "print(eval_c)\n",
        "print(eval_z)\n",
        "print(eval_p)"
      ],
      "metadata": {
        "id": "DHCydz4SYsnf",
        "colab": {
          "base_uri": "https://localhost:8080/"
        },
        "outputId": "78ea4aa2-dcf1-4b52-9949-8ea0887a44d4"
      },
      "execution_count": null,
      "outputs": [
        {
          "output_type": "stream",
          "name": "stdout",
          "text": [
            "[8.2 0.  9.  5.  8.4 7.2 5.  9.2 4.9 7.9]\n",
            "[7.1 3.1 8.8 3.1 4.6 2.  4.1 7.4 4.4 8.8]\n",
            "[8.5268 3.1    9.448  5.17   7.3216 5.456  5.87   8.8352 6.0464 9.3688]\n"
          ]
        }
      ]
    },
    {
      "cell_type": "markdown",
      "source": [
        "Antes de hacer las cuentas escribamos la lógica de la nota para un alumno. Si\n",
        "$$\n",
        "P =  0.6\\,C + Z \\displaystyle\\frac{(10 - 0.6\\,C)}{10},\n",
        "$$\n",
        "entonces\n",
        "$$\n",
        "F = \\left\\{\n",
        "    \\begin{matrix}\n",
        "    P & &\\text{si }&\\quad Z > 1/3 \\;\\wedge\\; P \\ge 5 \\\\\n",
        "    Z & &\\text{}& \\text{en caso contrario.}\n",
        "    \\end{matrix}\n",
        "    \\right.\n",
        "$$\n",
        "Entonces $F$  será la nota final."
      ],
      "metadata": {
        "id": "WKNwNMFetxFQ"
      }
    },
    {
      "cell_type": "markdown",
      "source": [
        "Veamos los alumnos aprobados:"
      ],
      "metadata": {
        "id": "rJH5Y24kSqf8"
      }
    },
    {
      "cell_type": "code",
      "source": [
        "criterio_1 = eval_z >= 10/3\n",
        "criterio_2 = eval_p >= 5\n",
        "criterio_aprobado = criterio_1 * criterio_2\n",
        "aprobados = alumnos[criterio_aprobado]\n",
        "print(aprobados)"
      ],
      "metadata": {
        "id": "lvYAGMKMmILc",
        "colab": {
          "base_uri": "https://localhost:8080/"
        },
        "outputId": "dbd44902-dbeb-46fa-e8f1-5be17904153b"
      },
      "execution_count": null,
      "outputs": [
        {
          "output_type": "stream",
          "name": "stdout",
          "text": [
            "['a_0' 'a_2' 'a_4' 'a_6' 'a_7' 'a_8' 'a_9']\n"
          ]
        }
      ]
    },
    {
      "cell_type": "markdown",
      "source": [
        "Hacer el array con las notas finales es un poco más complicado. Recordemos que multiplicar por un array lógico es como multiplicar por 1s y 0s (`True` y `False`, respectivamente)."
      ],
      "metadata": {
        "id": "1s-fFtI-0sVm"
      }
    },
    {
      "cell_type": "code",
      "source": [
        "print(eval_p * criterio_aprobado)\n",
        "print(eval_z * ~criterio_aprobado)\n",
        "eval_f = eval_p * criterio_aprobado + eval_z * ~criterio_aprobado\n",
        "eval_f = np.round(eval_f)\n",
        "print('Notas finales:', eval_f)"
      ],
      "metadata": {
        "colab": {
          "base_uri": "https://localhost:8080/"
        },
        "id": "-DKQRLQA00D3",
        "outputId": "b73dd490-62c6-48a7-9e2b-51caa9ff12b2"
      },
      "execution_count": null,
      "outputs": [
        {
          "output_type": "stream",
          "name": "stdout",
          "text": [
            "[8.5268 0.     9.448  0.     7.3216 0.     5.87   8.8352 6.0464 9.3688]\n",
            "[0.  3.1 0.  3.1 0.  2.  0.  0.  0.  0. ]\n",
            "Notas finales: [9. 3. 9. 3. 7. 2. 6. 9. 6. 9.]\n"
          ]
        }
      ]
    },
    {
      "cell_type": "markdown",
      "source": [
        "Podemos,  además, como pide la consigna, calcular algunos datos estadísticos sobre el curso:"
      ],
      "metadata": {
        "id": "s8mrXgbRxmsB"
      }
    },
    {
      "cell_type": "code",
      "source": [
        "print('Promedio de las evaluaciones continuas:', eval_c.mean())\n",
        "print('Promedio de las notas del examen final:', eval_z.mean())\n",
        "print('Promedio de las notas finales:', eval_f.mean())"
      ],
      "metadata": {
        "id": "afdgj8FsmjWc",
        "colab": {
          "base_uri": "https://localhost:8080/"
        },
        "outputId": "03b49b21-ae85-42ae-94c7-2dc4a94258a8"
      },
      "execution_count": null,
      "outputs": [
        {
          "output_type": "stream",
          "name": "stdout",
          "text": [
            "Promedio de las evaluaciones continuas: 6.4799999999999995\n",
            "Promedio de las notas del examen final: 5.340000000000001\n",
            "Promedio de las notas finales: 6.3\n"
          ]
        }
      ]
    },
    {
      "cell_type": "code",
      "source": [],
      "metadata": {
        "id": "ZWKdP1m1u5uu"
      },
      "execution_count": null,
      "outputs": []
    },
    {
      "cell_type": "markdown",
      "source": [
        "## 9. Eficiencia\n",
        "\n",
        "Un artículo sobre la eficiencia de las diferentes librerías y lenguajes de programación  para el tratamiento de datos:\n",
        "\n",
        "https://datapythonista.me/blog/how-fast-can-we-process-a-csv-file\n",
        "\n",
        "El repositorio de los archivos que utiliza el artículo es:\n",
        "\n",
        " https://github.com/datapythonista/bench_csv"
      ],
      "metadata": {
        "id": "Ujo9-uBWh438"
      }
    },
    {
      "cell_type": "markdown",
      "source": [
        "Estudiaremos ahora un caso muy particular para analizar la eficiencia de Python, Numpy y Pandas.\n",
        "\n",
        "Creamos un archivo CSV de 1 millon de líneas con 8 campos por línea cada campo tiene un entero aleatorio entre  $-2 \\cdot 10^{8}$ y $2 \\cdot 10^{8}$. Cada fila es considerada una $8$-upla y nuestra tarea es contar el número de $8$-uplas a distancia del origen menor que $2 \\cdot 10^{8}$, es decir debemos contar las $8$-uplas de enteros $(x_1,x_2,\\ldots,x_8)$ tales que\n",
        "$$\n",
        "\\sqrt{x_1^2+x_2^2 +\\cdots+x_8^2} < 2 \\cdot 10^{8}.\n",
        "$$\n",
        "Programáticamente es muy sencillo hacerlo en Python puro, pero lo que nos interesa ahora es comparar eficiencias de hacerlo con Python puro, Numpy y Pandas. Estas eficiencias son en Colab y pueden no ser representativas en otras arquitecturas."
      ],
      "metadata": {
        "id": "B_SM8l8Gj9vB"
      }
    },
    {
      "cell_type": "markdown",
      "source": [
        "Cargamos algunas librerías genéricas y dos parámentros"
      ],
      "metadata": {
        "id": "Us5VQ5TYoOsp"
      }
    },
    {
      "cell_type": "code",
      "source": [
        "from random import randint\n",
        "import csv\n",
        "import math\n",
        "import time\n",
        "\n",
        "limite, distancia = 2*10**8, 2*10**8"
      ],
      "metadata": {
        "id": "RpzXE7WfiPgB"
      },
      "execution_count": null,
      "outputs": []
    },
    {
      "cell_type": "markdown",
      "source": [
        "Cramos el archivo CSV:"
      ],
      "metadata": {
        "id": "8bqocJfBm8UK"
      }
    },
    {
      "cell_type": "code",
      "source": [
        "with open(\"archivo.csv\", \"w\") as f:\n",
        "    f.write('camp0,camp1,camp2,camp3,camp4,camp5,camp6,camp7\\n')\n",
        "    for i in range(10**6):\n",
        "        f.write(str(randint(-limite,limite))+','+\n",
        "                str(randint(-limite,limite))+','+\n",
        "                str(randint(-limite,limite))+','+\n",
        "                str(randint(-limite,limite))+','+\n",
        "                str(randint(-limite,limite))+','+\n",
        "                str(randint(-limite,limite))+','+\n",
        "                str(randint(-limite,limite))+','+\n",
        "                str(randint(-limite,limite))+'\\n')"
      ],
      "metadata": {
        "id": "Z228Sp8IodDD"
      },
      "execution_count": null,
      "outputs": []
    },
    {
      "cell_type": "markdown",
      "source": [
        "El archivo generado tiene varias decenas de Mb."
      ],
      "metadata": {
        "id": "i3VGzQVTqLMT"
      }
    },
    {
      "cell_type": "markdown",
      "source": [
        "Solución con Python puro:"
      ],
      "metadata": {
        "id": "19ZpAinHt5ra"
      }
    },
    {
      "cell_type": "code",
      "source": [
        "# Python puro cargando el archivo\n",
        "t_0 = time.time()\n",
        "with open(\"archivo.csv\") as f:\n",
        "    counter = 0\n",
        "    reader = csv.reader(f)\n",
        "    next(reader) # omite la primera linea\n",
        "    for row in reader:\n",
        "        result = math.sqrt(sum([float(value)**2 for value in row]))\n",
        "        if result < distancia:\n",
        "            counter += 1\n",
        "print('ok:',counter)\n",
        "t_1 = time.time()\n",
        "print('Tiempo:', t_1-t_0)"
      ],
      "metadata": {
        "colab": {
          "base_uri": "https://localhost:8080/"
        },
        "id": "X7soFMzZpLrm",
        "outputId": "ed1b8c53-07aa-4f17-f57c-0dcfc6f34e6b"
      },
      "execution_count": null,
      "outputs": [
        {
          "output_type": "stream",
          "name": "stdout",
          "text": [
            "ok: 15958\n",
            "Tiempo: 5.3513569831848145\n"
          ]
        }
      ]
    },
    {
      "cell_type": "markdown",
      "source": [
        "Podemos partir la solución en dos pasos. Primero cargamos el archivo cvs a una arreglo de Python  y luego contamos las filas que cumplen con la condición."
      ],
      "metadata": {
        "id": "Q5MCJzMIoj-s"
      }
    },
    {
      "cell_type": "code",
      "source": [
        "# Abrir archivo y cargarlo a lista\n",
        "t_0 = time.time()\n",
        "archivo = []\n",
        "with open(\"archivo.csv\") as f:\n",
        "    reader = csv.reader(f)\n",
        "    next(reader)\n",
        "    for row in reader:\n",
        "        archivo.append(row)\n",
        "t_1 = time.time()\n",
        "print('Tiempo:', t_1-t_0)"
      ],
      "metadata": {
        "colab": {
          "base_uri": "https://localhost:8080/"
        },
        "id": "QOLqMZ2D32TK",
        "outputId": "0843ec3d-d505-47f7-d9af-b0fb6b37be8b"
      },
      "execution_count": null,
      "outputs": [
        {
          "output_type": "stream",
          "name": "stdout",
          "text": [
            "Tiempo: 3.979163408279419\n"
          ]
        }
      ]
    },
    {
      "cell_type": "code",
      "source": [
        "# Python puro con archivo precargado\n",
        "t_0 = time.time()\n",
        "counter = 0\n",
        "for row in archivo:\n",
        "    result = math.sqrt(sum([int(value)**2 for value in row]))\n",
        "    if result < distancia:\n",
        "        counter += 1\n",
        "print('ok:', counter)\n",
        "t_1 = time.time()\n",
        "print('Tiempo:', t_1-t_0)"
      ],
      "metadata": {
        "colab": {
          "base_uri": "https://localhost:8080/"
        },
        "id": "gNh38vww4S6A",
        "outputId": "cfbc67a8-e21c-4f4d-cd0f-24f01275c4a1"
      },
      "execution_count": null,
      "outputs": [
        {
          "output_type": "stream",
          "name": "stdout",
          "text": [
            "ok: 15958\n",
            "Tiempo: 4.610809087753296\n"
          ]
        }
      ]
    },
    {
      "cell_type": "markdown",
      "source": [
        "Aparentemente, conviene hacerlo de un solo paso."
      ],
      "metadata": {
        "id": "haHU0XtIo-20"
      }
    },
    {
      "cell_type": "markdown",
      "source": [
        "Veamos una solución con Numpy."
      ],
      "metadata": {
        "id": "CvjLNymnR9Fr"
      }
    },
    {
      "cell_type": "code",
      "source": [
        "import numpy as np"
      ],
      "metadata": {
        "id": "hDQuozLOSAXL"
      },
      "execution_count": null,
      "outputs": []
    },
    {
      "cell_type": "markdown",
      "source": [
        "Primero en dos pasos."
      ],
      "metadata": {
        "id": "JQeEhPPWpJxW"
      }
    },
    {
      "cell_type": "code",
      "source": [
        "# Abrir archivo y cargarlo a array numpy\n",
        "t_0 = time.time()\n",
        "archivo_np = np.array(archivo, dtype=np.float64)\n",
        "t_1 = time.time()\n",
        "print('Tiempo:', t_1-t_0)"
      ],
      "metadata": {
        "colab": {
          "base_uri": "https://localhost:8080/"
        },
        "id": "Y9-RK8A567lm",
        "outputId": "c75449b1-fe68-4d28-cf72-68ae8800a300"
      },
      "execution_count": null,
      "outputs": [
        {
          "output_type": "stream",
          "name": "stdout",
          "text": [
            "Tiempo: 1.4530086517333984\n"
          ]
        }
      ]
    },
    {
      "cell_type": "code",
      "source": [
        "# Con numpy con array precargado\n",
        "t_0 = time.time()\n",
        "counter = np.sum(np.sqrt(np.sum(archivo_np ** 2, axis = 1)) < distancia)\n",
        "print('ok:',counter)\n",
        "t_1 = time.time()\n",
        "print('Tiempo:', t_1-t_0)"
      ],
      "metadata": {
        "colab": {
          "base_uri": "https://localhost:8080/"
        },
        "id": "wlQQjWk2osN_",
        "outputId": "2c10b6c2-1790-444c-a842-830b6dac9da8"
      },
      "execution_count": null,
      "outputs": [
        {
          "output_type": "stream",
          "name": "stdout",
          "text": [
            "ok: 15958\n",
            "Tiempo: 0.08679556846618652\n"
          ]
        }
      ]
    },
    {
      "cell_type": "markdown",
      "source": [
        "Con Numpy en un solo paso:"
      ],
      "metadata": {
        "id": "CAn_XYENpSil"
      }
    },
    {
      "cell_type": "code",
      "source": [
        "t_0 = time.time()\n",
        "counter = np.sum(np.sqrt(np.sum(np.loadtxt('archivo.csv', delimiter=\",\", skiprows=1, dtype = np.float64) ** 2, axis = 1)) < distancia)\n",
        "print('ok:',counter)\n",
        "t_1 = time.time()\n",
        "print('Tiempo:', t_1-t_0)"
      ],
      "metadata": {
        "colab": {
          "base_uri": "https://localhost:8080/"
        },
        "id": "Kgt9kngiF9gM",
        "outputId": "2fca957f-c7a9-4b1b-b1ea-19aef20c3059"
      },
      "execution_count": null,
      "outputs": [
        {
          "output_type": "stream",
          "name": "stdout",
          "text": [
            "ok: 15958\n",
            "Tiempo: 1.079932451248169\n"
          ]
        }
      ]
    },
    {
      "cell_type": "markdown",
      "source": [
        "De lo que hemos visto,  claramente esto es  lo más conveniente."
      ],
      "metadata": {
        "id": "gR7bXH-ipb-N"
      }
    },
    {
      "cell_type": "markdown",
      "source": [
        "Con Pandas:"
      ],
      "metadata": {
        "id": "w9Tkqfd-6CUC"
      }
    },
    {
      "cell_type": "code",
      "source": [
        "import pandas as pd"
      ],
      "metadata": {
        "id": "v9kCsfPocAqF"
      },
      "execution_count": null,
      "outputs": []
    },
    {
      "cell_type": "code",
      "source": [
        "t_0 = time.time()\n",
        "\n",
        "values = pd.read_csv(\"archivo.csv\", engine=\"python\").pow(2).sum(axis=1).pow(.5)\n",
        "print(values[values < distancia].count())\n",
        "\n",
        "t_1 = time.time()\n",
        "print('Tiempo:', t_1-t_0)"
      ],
      "metadata": {
        "colab": {
          "base_uri": "https://localhost:8080/"
        },
        "id": "gXTmbFL5Lndh",
        "outputId": "6ca69d91-c365-440f-add8-1af159875f6e"
      },
      "execution_count": null,
      "outputs": [
        {
          "output_type": "stream",
          "name": "stdout",
          "text": [
            "15958\n",
            "Tiempo: 12.092356443405151\n"
          ]
        }
      ]
    },
    {
      "cell_type": "markdown",
      "source": [
        "Esto parece ser mucho más lento que Python puro  y Numpy. Sin embargo la literatura dice que es más eficiente. Eso se debe a que en realidad Colab no es la herramienta adecuada para analizar los problemas de eficiencia."
      ],
      "metadata": {
        "id": "GTbR8F3fpq_6"
      }
    }
  ]
}