{
  "cells": [
    {
      "cell_type": "markdown",
      "metadata": {
        "id": "cENPUdKsVYDm"
      },
      "source": [
        "# Input y output\n",
        "\n",
        "Python,  como todo lenguaje de programación de alto nivel, ofrece diversas formas de entrada y salida de datos. Esto incluye manejo local de archivos o  lectura y escritura de archivos remotas. Para esta última opción hay varías formas de las cuales veremos algunas.  "
      ]
    },
    {
      "cell_type": "markdown",
      "metadata": {
        "id": "sp0XGdXMRraU"
      },
      "source": [
        "## 1. Manejo de archivos\n",
        "\n",
        "Hay diferentes tipos de archivos: *archivos de texto* y *archivos binarios*. Los primeros son aquéllos que pueden leerse con Notepad (en Windows) o editores como kate, gedit, vi, emacs, vscode, etc. (en Linux). Un programa Python (o en casi cualquier otro lenguaje de programación) se escribe en un archivo de texto.\n",
        "\n",
        "Los archivos binarios son archivos donde se encuentra codificada en binario información de distinto tipo: imágenes, videos, sonido, programas ejecutables, pero también puede ser texto formateado (.doc por ejemplo).\n",
        "\n",
        "Ambos tipos de archivos se pueden acceder y modificar de manera automática desde un programa Python (o cualquier otro lenguaje). Manipularemos solamente archivos de texto, por ser más sencillo comprender lo que se está haciendo, pero los archivos binarios se manipulan de manera muy similar.\n",
        "\n",
        "Se puede crear un archivo de la siguiente manera:"
      ]
    },
    {
      "cell_type": "code",
      "execution_count": null,
      "metadata": {
        "id": "vekDSGtGQqzW"
      },
      "outputs": [],
      "source": [
        "archivo = open('mi_archivo.txt','w')    # la 'w' significa que el archivo se abre para escritura (writing)\n",
        "                                        # si el archivo ya existía, se borran sus contenidos al momento de abrirse\n",
        "print(type(archivo))\n",
        "archivo.write('hola\\n')                 # escribe una línea en el archivo\n",
        "archivo.write('¿qué tal?\\n')            # escribe una línea en el archivo\n",
        "archivo.write('chau, nos vemos')                 # escribe una línea en el archivo\n",
        "archivo.close()                         # cierra el archivo"
      ]
    },
    {
      "cell_type": "markdown",
      "metadata": {
        "id": "-RF4428gT9q1"
      },
      "source": [
        "para revisar lo que se escribió podríamos simplemente abrir el archivo"
      ]
    },
    {
      "cell_type": "code",
      "execution_count": null,
      "metadata": {
        "id": "LC8zmtc_UTzj"
      },
      "outputs": [],
      "source": [
        "archivo = open('mi_archivo.txt','r')     # la 'r' significa que el archivo se abre para lectura (reading)\n",
        "contenido = archivo.read()               # lee todo el archivo\n",
        "print(type(contenido))\n",
        "print(contenido)                         # muestra el contenido del archivo\n",
        "archivo.close()                          # cierra el archivo"
      ]
    },
    {
      "cell_type": "markdown",
      "metadata": {
        "id": "Gbc2Pl9kUkSG"
      },
      "source": [
        "Procesar un archivo tiene 3 etapas:\n",
        "\n",
        "1.   abrir el archivo\n",
        "2.   procesamiento propiamente dicho\n",
        "3.   cerrar el archivo\n",
        "\n",
        "El primer paso es inevitable, no se puede procesar sin abrir. El tercero no, pero si no se lo hace se pueden obtener errores. Es importante recordar cerrar los archivos.\n",
        "\n",
        "Un archivo también puede abrirse para agregar información:"
      ]
    },
    {
      "cell_type": "code",
      "execution_count": null,
      "metadata": {
        "id": "sdIVAOsxVu6H"
      },
      "outputs": [],
      "source": [
        "archivo = open('mi_archivo.txt','a')     # la 'a' significa que el archivo se abre para agregar al final (append)\n",
        "archivo.write('\\nhola de nuevo\\n\\n\\n')   # escribe una línea en el archivo\n",
        "archivo.write('regresé\\n')               # escribe una línea en el archivo\n",
        "archivo.close()                          # cierra el archivo\n",
        "\n",
        "archivo = open('mi_archivo.txt','r')     # la 'r' significa que el archivo se abre para lectura (reading)\n",
        "contenido = archivo.read()               # lee todo el archivo\n",
        "archivo.close()                          # cierra el archivo\n",
        "print(contenido)                         # muestra el contenido del archivo\n"
      ]
    },
    {
      "cell_type": "markdown",
      "metadata": {
        "id": "BdDUEY7XY34g"
      },
      "source": [
        "El método `read()` permite cargar todo el archivo de una vez. Eso frecuentemente facilita el procesamiento de su contenido, pero no siempre es lo que uno desea: la  intrucción `read()` carga todo el archivo en memoria y si el archivo es muy grande, por ejemplo de varios Gigabytes, seguramente esto puede ocasionar algún problema durante la ejecución de dicha instrucción.\n",
        "\n",
        "Si queremos limitar la lectura del archivo podemos leer de una vez cierta cantidad de caracteres:"
      ]
    },
    {
      "cell_type": "code",
      "execution_count": null,
      "metadata": {
        "id": "6Iam2LT3ZeMS"
      },
      "outputs": [],
      "source": [
        "archivo = open('mi_archivo.txt','r')     # la 'r' significa que el archivo se abre para lectura (reading)\n",
        "contenido = archivo.read(13)             # lee el archivo hasta el 13 avo caracter\n",
        "print(contenido)\n",
        "archivo.close()"
      ]
    },
    {
      "cell_type": "markdown",
      "metadata": {
        "id": "ioHn-qlzZcqP"
      },
      "source": [
        "La siguiente vez que se lee, se lee a partir del último caracter leído:"
      ]
    },
    {
      "cell_type": "code",
      "execution_count": null,
      "metadata": {
        "id": "QFtDGClZZ77m"
      },
      "outputs": [],
      "source": [
        "archivo = open('mi_archivo.txt','r')           # la 'r' significa que el archivo se abre para lectura (reading)\n",
        "contenido = archivo.read(3)                    # lee el archivo hasta el 3 avo caracter\n",
        "print('Hasta el 3er caracter:',contenido)      # muestra el contenido de lo leido\n",
        "contenido = archivo.read(10)                    # lee el archivo hasta el 5 avo caracter\n",
        "print('5 caracteres desde el 4to:',contenido)  # muestra el contenido de lo leido\n",
        "archivo.close()                                # cierra el archivo"
      ]
    },
    {
      "cell_type": "markdown",
      "metadata": {
        "id": "1sTwmnPcaOm4"
      },
      "source": [
        "Pero la forma más adecuada para leer archivos grandes de texto con líneas,  es línea por línea. Esto es posible hacerlo con la instrucción `readline()`:"
      ]
    },
    {
      "cell_type": "code",
      "execution_count": null,
      "metadata": {
        "id": "NAGgCP8FaUw6"
      },
      "outputs": [],
      "source": [
        "archivo = open('mi_archivo.txt','r')     # la 'r' significa que el archivo se abre para lectura (reading)\n",
        "contenido = archivo.readline()\n",
        "print('primera línea:', contenido, end='')\n",
        "contenido = archivo.readline()\n",
        "print('segunda línea:', contenido, end='')\n",
        "archivo.close()"
      ]
    },
    {
      "cell_type": "markdown",
      "metadata": {
        "id": "e7uyvXYQcj6S"
      },
      "source": [
        "Podemos iterar línea por línea para leer archivos:"
      ]
    },
    {
      "cell_type": "code",
      "execution_count": null,
      "metadata": {
        "id": "6PHZpexzc1T8"
      },
      "outputs": [],
      "source": [
        "archivo = open('mi_archivo.txt','r')     # la 'r' significa que el archivo se abre para lectura (reading)\n",
        "linea = archivo.readline()\n",
        "while linea != '':\n",
        "    print(linea, end='')\n",
        "    linea = archivo.readline()\n",
        "\n",
        "archivo.close()"
      ]
    },
    {
      "cell_type": "markdown",
      "metadata": {
        "id": "teBKSm99fnLW"
      },
      "source": [
        "Python ofrece una notación más compacta, y equivalente,  para procesar todas las líneas de un archivo y conciste en iterar sobre el archivo abierto."
      ]
    },
    {
      "cell_type": "code",
      "execution_count": null,
      "metadata": {
        "id": "iWc92UVzgb2o"
      },
      "outputs": [],
      "source": [
        "archivo = open('mi_archivo.txt','r')     # la 'r' significa que el archivo se abre para lectura (reading)\n",
        "for linea in archivo:                    # lee el archivo linea por linea\n",
        "    print(linea, end='')\n",
        "print('\\ny eso es todo.')\n",
        "archivo.close()"
      ]
    },
    {
      "cell_type": "markdown",
      "metadata": {
        "id": "AXxNbiTibHuY"
      },
      "source": [
        "## 2. Programación defensiva: comprobando si un archivo existe:\n",
        "\n",
        "Un error típico cuando se quiere abrir un archivo para lectura es que el archivo puede no existir. Peor aún, cuando uno quiere abrir para escritura, si el archivo ya existe se borra. En ambas situaciones puede resultar conveniente chequear si existe antes de abrirlo:"
      ]
    },
    {
      "cell_type": "code",
      "source": [
        "nombre_de_archivo = 'mi_archivo2.txt'\n",
        "archivo = open(nombre_de_archivo, 'r')"
      ],
      "metadata": {
        "id": "OUO2RYtE_zcV"
      },
      "execution_count": null,
      "outputs": []
    },
    {
      "cell_type": "code",
      "execution_count": null,
      "metadata": {
        "id": "P7dbRGyu0BuN"
      },
      "outputs": [],
      "source": [
        "nombre_de_archivo = 'mi_archivo2.txt'\n",
        "try:\n",
        "    archivo = open(nombre_de_archivo, 'r')\n",
        "    linea = archivo.readline()\n",
        "    while linea != '':\n",
        "        print(linea, end='')\n",
        "        linea = archivo.readline()\n",
        "    archivo.close()\n",
        "except IOError:\n",
        "    print(nombre_de_archivo + ' no existe.')\n",
        "finally:\n",
        "    print('Se puede seguir escribiendo código')\n"
      ]
    },
    {
      "cell_type": "markdown",
      "metadata": {
        "id": "T92ZCEkTVYD5"
      },
      "source": [
        "Lo  que hemos definido arriba es un manejador de excepciones:  el `try` trata de hacer lo que está en su cuerpo, si lo del cuerpo del `try` falla, es decir se produce una excepción,  entonces se ejecuta el `except`,  que en este caso da un mensaje de error. Pase lo que pase se ejecuta el `finally` que  en el ejemplo cierra el archivo.   \n",
        "\n",
        "Más precisamente la sentencia `try` funciona de la siguiente manera.\n",
        "\n",
        "1. Primero se ejecuta la cláusula `try` (la(s) sentencia(s) entre las palabras clave `try` y `except`).\n",
        "2. Si no se produce ninguna excepción, se salta la cláusula `except` y se termina la ejecución de la sentencia `try`.\n",
        "3. Si se produce una excepción durante la ejecución de la cláusula `try`, se salta el resto de la cláusula. Entonces, si el tipo de la excepción coincide con la excepción nombrada después de la palabra clave `except`, se ejecuta la cláusula `except`, y luego la ejecución continúa después del bloque try/except.\n",
        "4. Si se produce una excepción que no coincide con la excepción nombrada en la cláusula `except`, se pasa a las sentencias `try` externas, en este caso las que tiene Python.\n",
        "5. Si hay una cláusula `finally`, ésta se ejecutará como la última tarea. La cláusula `finally` se ejecuta tanto si la sentencia `try` produce una excepción como si no."
      ]
    },
    {
      "cell_type": "code",
      "execution_count": null,
      "metadata": {
        "id": "o03k46_Sbitd"
      },
      "outputs": [],
      "source": [
        "def existe_archivo(nombre: str) -> bool:\n",
        "    res = True\n",
        "    try:\n",
        "        archivo = open(nombre_de_archivo, 'r')\n",
        "        archivo.close()\n",
        "    except IOError:\n",
        "        res = False\n",
        "    return res\n",
        "\n",
        "nombre_de_archivo = 'sample_data/california_housing_test.csv'\n",
        "if existe_archivo(nombre_de_archivo):\n",
        "    archivo = open(nombre_de_archivo, 'r')\n",
        "    linea = archivo.readline()\n",
        "    print(linea)\n",
        "    archivo.close()\n",
        "else:\n",
        "    print(nombre_de_archivo + ' no existe.')\n",
        "\n",
        "nombre_de_archivo = 'notas.csv'\n",
        "if existe_archivo(nombre_de_archivo):\n",
        "    archivo = open(nombre_de_archivo, 'r')\n",
        "    linea = archivo.readline()\n",
        "    print(linea)\n",
        "    archivo.close()\n",
        "else:\n",
        "    print(nombre_de_archivo + ' no existe.')\n",
        "\n"
      ]
    },
    {
      "cell_type": "markdown",
      "metadata": {
        "id": "juNqYE_MhZIa"
      },
      "source": [
        "Otra manera es usando el módulo `os.path`"
      ]
    },
    {
      "cell_type": "code",
      "execution_count": null,
      "metadata": {
        "id": "btYnigXqhjXT"
      },
      "outputs": [],
      "source": [
        "import os.path\n",
        "\n",
        "nombre_de_archivo = 'mi_archivo2.txt'\n",
        "if os.path.isfile(nombre_de_archivo):\n",
        "    print('Archivo de nombre', nombre_de_archivo, 'existe.')\n",
        "else:\n",
        "    print('Archivo de nombre', nombre_de_archivo, 'no existe.')"
      ]
    },
    {
      "cell_type": "code",
      "source": [
        "dir(os)"
      ],
      "metadata": {
        "id": "OhOITEGSDFCq"
      },
      "execution_count": null,
      "outputs": []
    },
    {
      "cell_type": "markdown",
      "metadata": {
        "id": "hH806h_nVYD7"
      },
      "source": [
        "## 2. Manejo de archivos. Usos y costumbres\n",
        "\n",
        "La forma anterior de leer y escribir archivos es la más directa, pero hay una forma más conveniente, implementada a partir de Python 2.5, que es con el uso del `with`.\n",
        "\n",
        "El uso del `with` asegura que el archivo sea cerrado al finalizar su utilización, incluso si se produce un error (una excepción).\n",
        "\n",
        "Veamos un ejemplo de lectura:"
      ]
    },
    {
      "cell_type": "code",
      "source": [
        "with open(\"archivo.txt\", \"w\") as f:\n",
        "    f.write('Hola\\n')\n",
        "    f.write('Adios')\n",
        "print(f.closed)  # True"
      ],
      "metadata": {
        "id": "AAKyvmGk03eW"
      },
      "execution_count": null,
      "outputs": []
    },
    {
      "cell_type": "code",
      "source": [
        "with open(\"archivo.txt\", \"r\") as f:\n",
        "    content = f.read()\n",
        "print(f.closed)  # True"
      ],
      "metadata": {
        "id": "0m9rS2KoDo88"
      },
      "execution_count": null,
      "outputs": []
    },
    {
      "cell_type": "code",
      "execution_count": null,
      "metadata": {
        "id": "tpTP1TawVYD7"
      },
      "outputs": [],
      "source": [
        "with open('archivo.txt', 'r') as f:\n",
        "    linea_1 =f.readline()\n",
        "print(linea_1)"
      ]
    },
    {
      "cell_type": "code",
      "source": [
        "with open('archivo.txt', 'r') as f:\n",
        "    linea = f.readline()\n",
        "    while linea != '':\n",
        "        print(linea, end='')\n",
        "        linea = f.readline()"
      ],
      "metadata": {
        "id": "r5olkP3We3LV"
      },
      "execution_count": null,
      "outputs": []
    },
    {
      "cell_type": "markdown",
      "source": [
        "Como antes,  si el archivo es grande podemos leer línea por línea:"
      ],
      "metadata": {
        "id": "fmHHATIFeR78"
      }
    },
    {
      "cell_type": "code",
      "source": [
        "with open('archivo.txt', 'r') as f:\n",
        "    for linea in f:\n",
        "        print(f)"
      ],
      "metadata": {
        "id": "WfSd00lneYT5"
      },
      "execution_count": null,
      "outputs": []
    },
    {
      "cell_type": "markdown",
      "metadata": {
        "id": "se6Q96csVYD7"
      },
      "source": [
        "¿Qué pasa si el archivo no existe?"
      ]
    },
    {
      "cell_type": "code",
      "execution_count": null,
      "metadata": {
        "id": "zQsI4c52VYD8"
      },
      "outputs": [],
      "source": [
        "with open('archivo_2.txt', 'r') as f:\n",
        "    contenido = f.read()\n",
        "print(contenido)"
      ]
    },
    {
      "cell_type": "markdown",
      "metadata": {
        "id": "KcxyREaeVYD8"
      },
      "source": [
        "Si queremos que aunque el archivo no existe el programa siga (algo que no es muy usual), podemos mezclar el `with` con las instrucciones que habíamos visto usando la biblioteca  `os`."
      ]
    },
    {
      "cell_type": "code",
      "execution_count": null,
      "metadata": {
        "id": "eGPxs4vfVYD8"
      },
      "outputs": [],
      "source": [
        "import os.path\n",
        "contenido = ''\n",
        "nombre_de_archivo = 'archivo_2.txt'\n",
        "if os.path.isfile(nombre_de_archivo):\n",
        "    with open(nombre_de_archivo, 'r') as f:\n",
        "        contenido = f.read()\n",
        "\n",
        "print(contenido)"
      ]
    },
    {
      "cell_type": "markdown",
      "metadata": {
        "id": "lTq5YuePVYD8"
      },
      "source": [
        "O, más convenientemente,  usar excepciones:"
      ]
    },
    {
      "cell_type": "code",
      "execution_count": null,
      "metadata": {
        "id": "X6zABfaZVYD8"
      },
      "outputs": [],
      "source": [
        "contenido = ''\n",
        "nombre_de_archivo = 'archivo_2.txt'\n",
        "try:\n",
        "    with open(nombre_de_archivo, 'r') as f:\n",
        "        contenido = f.read()\n",
        "except IOError:\n",
        "    print(nombre_de_archivo + ' no existe.')\n",
        "\n",
        "print('Contenido\\n', contenido)\n",
        "\n",
        "contenido = ''\n",
        "nombre_de_archivo = 'mi_archivo.txt'\n",
        "try:\n",
        "    with open(nombre_de_archivo, 'r') as f:\n",
        "        contenido = f.read()\n",
        "except IOError:\n",
        "    print(nombre_de_archivo + ' no existe.')\n",
        "\n",
        "print('Contenido\\n', contenido)\n"
      ]
    },
    {
      "cell_type": "markdown",
      "metadata": {
        "id": "9LnTiXfbirmd"
      },
      "source": [
        "# 3. Lectura de carpetas o directorios\n",
        "\n",
        "Podemos desear procesar una carpeta y saber los archivos que contiene. Lo podemos hacer de la siguiente manera:"
      ]
    },
    {
      "cell_type": "code",
      "execution_count": null,
      "metadata": {
        "id": "g7Z15Sogj5pM"
      },
      "outputs": [],
      "source": [
        "import os\n",
        "\n",
        "print('El directorio actual es:', os.getcwd())\n",
        "\n",
        "nombres = os.scandir('.')   # '.' es la carpeta actual, donde \"estamos parados\"\n",
        "print('Devuelve un objeto iterable:',nombres, '\\n')\n",
        "for nombre in nombres:\n",
        "    print(nombre)\n",
        "\n",
        "nombres = os.scandir('..')   # '..' es la carpeta precedente a la actual.\n",
        "print('Devuelve un objeto iterable:',nombres, '\\n')\n",
        "for nombre in nombres:\n",
        "    print(nombre)\n",
        "\n",
        "nombres = os.scandir('../content/sample_data')   #\n",
        "print('Devuelve un objeto iterable:',nombres, '\\n')\n",
        "for nombre in nombres:\n",
        "    print(nombre)\n"
      ]
    },
    {
      "cell_type": "markdown",
      "metadata": {
        "id": "rdFSRXSbVYD9"
      },
      "source": [
        "También podemos poner el nombre específico de una carpeta:"
      ]
    },
    {
      "cell_type": "code",
      "execution_count": null,
      "metadata": {
        "id": "UDmHcPehVYD9"
      },
      "outputs": [],
      "source": [
        "import os\n",
        "nombre_de_carpeta = 'sample_data'\n",
        "nombres = os.scandir(nombre_de_carpeta)\n",
        "# print(nombres)\n",
        "for nombre in nombres:\n",
        "    print(nombre)"
      ]
    },
    {
      "cell_type": "markdown",
      "metadata": {
        "id": "eCmAAbSCVYD9"
      },
      "source": [
        "Si  la carpeta no existe obtendremos una excepción."
      ]
    },
    {
      "cell_type": "markdown",
      "metadata": {
        "id": "c-DBWojhVYD9"
      },
      "source": [
        "## 4. Creación de carpetas\n",
        "\n",
        "Hay diferentes métodos disponibles en el módulo `os` para crear un directorio, pero nosotros solo explicaremos `os.mkdir()`\n",
        "\n",
        "El método `os.mkdir()` en Python se utiliza para crear un directorio en la ruta indicada. Este método devuelve  una excepción `FileExistsError` si el directorio a crear ya existe.\n",
        "\n",
        "Veamos un ejemplo:"
      ]
    },
    {
      "cell_type": "code",
      "source": [],
      "metadata": {
        "id": "E8jlyfNG-Mr-"
      },
      "execution_count": null,
      "outputs": []
    },
    {
      "cell_type": "code",
      "execution_count": null,
      "metadata": {
        "id": "lfpKY2pEVYD-"
      },
      "outputs": [],
      "source": [
        "import os\n",
        "\n",
        "directorio = 'mi_carpeta/'     # Directorio a crear\n",
        "parent_dir = \"..\"    # Directorio precedente al actual\n",
        "\n",
        "path = os.path.join(parent_dir, directorio) # ruta completa. Más \"robusto\" que pegar cadenas.\n",
        "print(path)\n",
        "\n",
        "os.mkdir('mi_carpeta')"
      ]
    },
    {
      "cell_type": "code",
      "source": [
        "nombres = os.scandir('.')\n",
        "# print(nombres)\n",
        "for nombre in nombres:\n",
        "    print(nombre)"
      ],
      "metadata": {
        "id": "UctTSsfOM6dr"
      },
      "execution_count": null,
      "outputs": []
    },
    {
      "cell_type": "markdown",
      "metadata": {
        "id": "iLis_IBXVYD-"
      },
      "source": [
        "Si ejecutamos la celda anterior más de una vez obtenemos un error, pues el directorio `mi_carpeta` ya está creado.\n",
        "\n",
        "Podemos remover un directorio vacío con la instrucción `os.rmdir`:"
      ]
    },
    {
      "cell_type": "code",
      "execution_count": null,
      "metadata": {
        "id": "0_PQfLigVYD-"
      },
      "outputs": [],
      "source": [
        "os.rmdir('mi_carpeta')"
      ]
    },
    {
      "cell_type": "markdown",
      "metadata": {
        "id": "eQJDIqDoVYD-"
      },
      "source": [
        "Podemos remover archivos con la instrucción `os.remove`:"
      ]
    },
    {
      "cell_type": "code",
      "execution_count": null,
      "metadata": {
        "id": "JWMpWV0cVYD-"
      },
      "outputs": [],
      "source": [
        "os.remove('mi_archivo.txt')"
      ]
    },
    {
      "cell_type": "markdown",
      "metadata": {
        "id": "9PjAeZrxVYD_"
      },
      "source": [
        "Las instrucciones del módulo `os` nos permiten hacer un completo manejo del sistema de archivos. Hay otro módulos que  ayudan al manejo de archivos,  como ser `pathlib` y `shutil`,  que no explicaremos en esta clase."
      ]
    },
    {
      "cell_type": "markdown",
      "metadata": {
        "id": "3mv4KtnFYaKn"
      },
      "source": [
        "## 5. Lectura de archivos en la red\n",
        "\n",
        "Para leer un archivo en la red hay,  como suele ocurrir  en Python,  varias forma de hacerlo. Nosotros lo haremos, por lo menos en este lección,  con la biblioteca `requests`.\n",
        "\n",
        "La biblioteca `requests` es el estándar de facto para hacer peticiones HTTP en Python. Abstrae las complejidades de hacer peticiones detrás de una agradable y sencilla API que nos permite centrarnos en interactuar con los servicios y consumir datos en nuestras aplicaciones.\n",
        "\n",
        "A lo largo de esta sección veremos algunas de las características más útiles que `requests` tiene para ofrecer, así como la forma de personalizar y optimizar esas características para diferentes situaciones que podamos encontrar.\n"
      ]
    },
    {
      "cell_type": "markdown",
      "metadata": {
        "id": "fFq-GTyUVYD_"
      },
      "source": [
        "**Empezar con `requests`**\n",
        "\n",
        "Comencemos por instalar la biblioteca `requests`. Para ello, se ejecuta el siguiente comando:\n",
        "\n",
        "`pip install requests`\n",
        "\n",
        "\n",
        "Una vez instalada `requests`, podemos utilizarla. En Google Colab la biblioteca `requests` ya está instalada.\n",
        "\n",
        "La importación de `requests` se hace como la de cualquier biblioteca:"
      ]
    },
    {
      "cell_type": "code",
      "execution_count": null,
      "metadata": {
        "id": "AMTIwisxVYD_"
      },
      "outputs": [],
      "source": [
        "import requests"
      ]
    },
    {
      "cell_type": "markdown",
      "metadata": {
        "id": "-jYH3wEnVYD_"
      },
      "source": [
        "Ahora que ya tenemos todo preparado, es hora de comenzar a utilizar `requests`. Nuestro primer objetivo será aprender a hacer una petición GET."
      ]
    },
    {
      "cell_type": "markdown",
      "metadata": {
        "id": "eHRpf2DoVYD_"
      },
      "source": [
        "**Protocolo HTTP**\n",
        "\n",
        "El Protocolo de Transferencia de Hipertexto (HTTP) está diseñado para permitir la comunicación entre clientes y servidores.\n",
        "\n",
        "HTTP funciona como un protocolo de petición-respuesta entre un cliente y un servidor. Estas acciones se hacen mediante métodos específicos del protocola HTTP.\n",
        "\n",
        "*Ejemplo:* un cliente (navegador) envía una petición HTTP al servidor; entonces el servidor devuelve una respuesta al cliente. La respuesta contiene información de estado sobre la solicitud y también puede contener el contenido solicitado.\n",
        "\n",
        "Los métodos HTTP, como GET y POST, determinan la acción que se intenta realizar al hacer una petición HTTP. GET indica que queremos \"conseguir\" y POST  es un método HTTP  que  indica que queremos \"enviar\".\n",
        "\n",
        "Explicamos lo anterior, debido a que ahora debemos interactuar con servidores HTTP,  no con sistemas de archivos.\n",
        "\n",
        "**El  método get()**\n",
        "\n",
        "Uno de los métodos HTTP más comunes es GET. El método GET indica que estás tratando de obtener o recuperar datos de un recurso específico. Para hacer una petición GET con  la biblioteca `requests`, hay que invocar  `requests.get()`.\n",
        "\n",
        "Para probar esto, puedes hacer una petición GET a la API REST raíz de GitHub llamando a `get()` con la siguiente URL:"
      ]
    },
    {
      "cell_type": "code",
      "execution_count": null,
      "metadata": {
        "id": "1e70bxTPVYD_"
      },
      "outputs": [],
      "source": [
        "requests.get('https://api.github.com')"
      ]
    },
    {
      "cell_type": "code",
      "source": [
        "requests.get('https://wikipedia.org')"
      ],
      "metadata": {
        "id": "bWLwkE2RPEbi"
      },
      "execution_count": null,
      "outputs": []
    },
    {
      "cell_type": "markdown",
      "metadata": {
        "id": "W0wVE0oyVYEA"
      },
      "source": [
        "\n",
        "¡Excelente! Hemos hecho nuestro primer GET. Vamos a profundizar un poco más en la respuesta de esa petición."
      ]
    },
    {
      "cell_type": "markdown",
      "source": [
        "¿Qué pasa si queremos explorar un sitio que no existe?"
      ],
      "metadata": {
        "id": "5an6BaK6dH8n"
      }
    },
    {
      "cell_type": "code",
      "source": [
        "requests.get('https://wikipedia.arg')"
      ],
      "metadata": {
        "id": "09l8SQ1sdQHt"
      },
      "execution_count": null,
      "outputs": []
    },
    {
      "cell_type": "markdown",
      "source": [
        "Vemos que se produce una excepción y el programa termina. Evidentemente esto puede ocurrir muy frecuentemente, por ejemplo cuando el sitio está caido, y esta situación debería ser manejada con excepciones: debemos hacer los `requests.get()` dentro de un `try()`. Por ejemplo,  "
      ],
      "metadata": {
        "id": "HrTKV0WndaIq"
      }
    },
    {
      "cell_type": "code",
      "source": [
        "archivo = 'https://wikipedia.org'\n",
        "try :\n",
        "    response = requests.get(archivo)\n",
        "    if response.status_code == 200:\n",
        "        status_code = 200\n",
        "    else:\n",
        "        status_code = response.status_code\n",
        "except requests.exceptions.RequestException as e:\n",
        "    print(e)\n",
        "    status_code = 550\n",
        "\n",
        "print(status_code)\n",
        "\n",
        "\n",
        "archivo = 'https://wikipedia.arg'\n",
        "try :\n",
        "    response = requests.get(archivo)\n",
        "    if response.status_code == 200:\n",
        "        status_code = 200\n",
        "    else:\n",
        "        status_code = response.status_code\n",
        "except requests.exceptions.RequestException as e:\n",
        "    print(e) # imprime en la terminal el error que se produjo\n",
        "    status_code = 550\n",
        "\n",
        "print(status_code)"
      ],
      "metadata": {
        "id": "TOYVzM6afMXM"
      },
      "execution_count": null,
      "outputs": []
    },
    {
      "cell_type": "markdown",
      "source": [
        "El valor de `response.status_code` puede ser un código de estado HTTP que indica el resultado de la solicitud. Algunos valores posibles y sus significados son:\n",
        "\n",
        "- `200`: Indica que la solicitud ha tenido éxito.\n",
        "- `404`: Significa que el recurso solicitado no se ha encontrado en el servidor.\n",
        "- `500`: Indica un error interno en el servidor que impide transmitir el recurso solicitado.\n",
        "- `503`: Muestra que el servidor no está disponible temporalmente debido a sobrecarga o mantenimiento.\n",
        "\n",
        "En  el ejemplo, luego de intentar recuperar un documento en internet obtenemos la variable `status_code` que nos dice que ocurrió en el intento. Si el valor de `status_code` es `550`, código que definimos nosotros,  significa que el sitio no está disponible."
      ],
      "metadata": {
        "id": "VvAPrf0fghIh"
      }
    },
    {
      "cell_type": "markdown",
      "metadata": {
        "id": "4Q_1OE40VYEA"
      },
      "source": [
        "**Los objetos de la clase `Response`**\n",
        "\n",
        "El output del método `get()` devuelve un objeto del tipo `Response`. Este es un objeto poderoso que permite inspeccionar los resultados de la solicitud.\n",
        "\n",
        "Hagamos de nuevo esa misma petición, pero esta vez almacenando el valor de retorno en una variable para que podamos ver más de cerca sus atributos y comportamientos.\n",
        "\n",
        "No usaremos excepciones para no escribir demasiado, pero siempre deberían usarse con el  método `get()`."
      ]
    },
    {
      "cell_type": "code",
      "execution_count": null,
      "metadata": {
        "id": "fcxjG2_LVYEB"
      },
      "outputs": [],
      "source": [
        "respuesta = requests.get('https://api.github.com')\n",
        "print(respuesta)"
      ]
    },
    {
      "cell_type": "markdown",
      "metadata": {
        "id": "7RWS9sQ4VYEB"
      },
      "source": [
        "En este ejemplo, hemos capturado el valor de retorno de `get()`, que es una instancia de `Response`, y lo almacenamos en una variable llamada `respuesta`. Ahora podemos usar `respuesta ` para ver información sobre los resultados de tu petición GET.\n",
        "\n",
        "La primera información que se puede obtener de `Response` es el código de estado. Un código de estado nos informa del estado de la solicitud.\n",
        "\n",
        "Como ya dijimos, un estado `200` significa que su solicitud fue exitosa, mientras que un estado `404 NOT FOUND` significa que el recurso que estaba buscando no fue encontrado. Hay muchos otros códigos de estado posibles que nos dan información específica sobre lo que sucedió con su solicitud.\n",
        "\n",
        "Con el  atributo `status_code` podemos ver el código de estado que el servidor devolvió:"
      ]
    },
    {
      "cell_type": "code",
      "execution_count": null,
      "metadata": {
        "id": "kayuLDhCVYEB"
      },
      "outputs": [],
      "source": [
        "respuesta.status_code"
      ]
    },
    {
      "cell_type": "markdown",
      "metadata": {
        "id": "yyuhrX7VVYEC"
      },
      "source": [
        "`status_code` devolvió un `200`, lo que significa que la solicitud fue exitosa y el servidor respondió con los datos que solicitamos.\n",
        "\n",
        "*Observación:* un atributo de una clase es una variable de instancia,  no privada obviamente."
      ]
    },
    {
      "cell_type": "markdown",
      "metadata": {
        "id": "wbN1q8OqVYEC"
      },
      "source": [
        "**El contenido**\n",
        "\n",
        "La respuesta de una solicitud GET a menudo tiene alguna información valiosa, conocida como *carga útil* o *payload* (en inglés), en el cuerpo del mensaje. Utilizando los atributos y métodos de los objetos de la clase `Response`, podemos ver la carga útil en una variedad de formatos diferentes.\n",
        "\n",
        "Para ver el contenido de la respuesta en bytes, se utiliza `.content`:"
      ]
    },
    {
      "cell_type": "code",
      "execution_count": null,
      "metadata": {
        "id": "UrP9jXrZVYEC"
      },
      "outputs": [],
      "source": [
        "respuesta = requests.get('https://api.github.com')\n",
        "print(respuesta.content)"
      ]
    },
    {
      "cell_type": "code",
      "source": [
        "respuesta = requests.get('https://es.wikipedia.org')\n",
        "respuesta.content"
      ],
      "metadata": {
        "id": "jzMXv9eNQQ13"
      },
      "execution_count": null,
      "outputs": []
    },
    {
      "cell_type": "markdown",
      "metadata": {
        "id": "XCxB7p2PVYEC"
      },
      "source": [
        "Mientras que `.content` le da acceso a los bytes brutos de la carga útil de la respuesta, a menudo querremos convertirlos en una cadena utilizando una codificación de caracteres como UTF-8. `Response` lo hará por nosotros cuando accedamos a `.text`:"
      ]
    },
    {
      "cell_type": "code",
      "execution_count": null,
      "metadata": {
        "id": "mFraZYApVYEC"
      },
      "outputs": [],
      "source": [
        "print(respuesta.text)"
      ]
    },
    {
      "cell_type": "markdown",
      "metadata": {
        "id": "N5XfnxQ0VYED"
      },
      "source": [
        "Dado que la decodificación de bytes a una cadena requiere un esquema de codificación, las peticiones intentarán adivinar la codificación basándose en las cabeceras de la respuesta si no se especifica una."
      ]
    },
    {
      "cell_type": "code",
      "source": [
        "print(respuesta.text)"
      ],
      "metadata": {
        "id": "fSJbpQ4cD4I8"
      },
      "execution_count": null,
      "outputs": []
    },
    {
      "cell_type": "markdown",
      "metadata": {
        "id": "L2KD0HdbVYED"
      },
      "source": [
        "**Headers (cabeceras)**\n",
        "Las headers pueden proporcionar información útil, como el tipo de contenido de la carga útil de la respuesta y un límite de tiempo para almacenar en caché la respuesta. Para ver estas cabeceras, acceda a `.headers`:"
      ]
    },
    {
      "cell_type": "code",
      "execution_count": null,
      "metadata": {
        "id": "NebrqKvNVYED"
      },
      "outputs": [],
      "source": [
        "respuesta.headers"
      ]
    },
    {
      "cell_type": "code",
      "source": [
        "print(type(respuesta.headers))\n",
        "respuesta.headers['date']"
      ],
      "metadata": {
        "id": "7nqH5T6CEeSR"
      },
      "execution_count": null,
      "outputs": []
    },
    {
      "cell_type": "markdown",
      "metadata": {
        "id": "sFrHsWP0VYED"
      },
      "source": [
        "`.headers` devuelve un objeto similar a un diccionario, que permite acceder a los valores de las cabeceras por su clave. Por ejemplo, para ver el tipo de contenido de la carga útil de la respuesta, puede acceder a Content-Type:"
      ]
    },
    {
      "cell_type": "code",
      "execution_count": null,
      "metadata": {
        "id": "ycFw21QYVYED"
      },
      "outputs": [],
      "source": [
        "respuesta.headers['Content-Type']"
      ]
    },
    {
      "cell_type": "markdown",
      "metadata": {
        "id": "6V49iZmCVYED"
      },
      "source": [
        "Sin embargo, hay algo especial en este objeto de cabecera tipo diccionario. La especificación HTTP define que las cabeceras no distinguen entre mayúsculas y minúsculas, lo que significa que podemos acceder a estas cabeceras sin preocuparnos por sus mayúsculas:"
      ]
    },
    {
      "cell_type": "code",
      "execution_count": null,
      "metadata": {
        "id": "FiQKNM0wVYED"
      },
      "outputs": [],
      "source": [
        "respuesta.headers['content-type']"
      ]
    },
    {
      "cell_type": "markdown",
      "metadata": {
        "id": "3BBNYcz9VYED"
      },
      "source": [
        "Tanto si utilizamos la clave `'content-type'` como `'Content-Type'`, obtendremos el mismo valor."
      ]
    },
    {
      "cell_type": "markdown",
      "source": [
        "## 6. Ejemplo: contando las vocales de un sitio\n",
        "\n",
        "Haremos un script que solicita el nombre de un sitio y  si el sitio existe cuenta cuantas ocurrencias tiene cada vocal no acentuada. Además el script devuelve un código. Si el sitio existe y está accesible el código devuelto es `200`. Si el sitio no existe o está caido u otro problema, devuelve el código del problema.\n",
        "\n",
        "Escribimos el escript completo y luego ingresemos tres sitios para ver como funciona: primero `https://wikipedia.org`,  que es un nombre válido, luego `wikipedia.org`, que no es válido y finalmente `https://wikipedia.arg`,  que tampoco es válido."
      ],
      "metadata": {
        "id": "PAnh7bmom8XT"
      }
    },
    {
      "cell_type": "code",
      "source": [
        "import requests\n",
        "\n",
        "def solicitar_nombre_del_sitio():\n",
        "    \"\"\"\n",
        "    Solicita el nombre de un sitio web\n",
        "    \"\"\"\n",
        "    nombre_sitio = input(\"Ingrese un sitio web: \").strip()\n",
        "    return nombre_sitio\n",
        "\n",
        "\n",
        "def contar_vocales(sitio):\n",
        "    \"\"\"\n",
        "    pre: sitio es un nómbre de un sitio web (debe incluir http o https en su nombre)\n",
        "    post: devuelve la ocurrencia de cada vocal no acentuada\n",
        "    \"\"\"\n",
        "    contador = {'a' : 0, 'e' : 0, 'i' : 0, 'o' : 0, 'u' : 0}\n",
        "    try :\n",
        "        response = requests.get(sitio)\n",
        "        if response.status_code == 200:\n",
        "            status_code = 200\n",
        "        else:\n",
        "            status_code = response.status_code\n",
        "    except requests.exceptions.RequestException as e:\n",
        "        print(e) # imprime en la terminal el error que se produjo\n",
        "        status_code = 550\n",
        "    if status_code == 200:\n",
        "        texto_sitio = response.text.lower()\n",
        "        for letra in texto_sitio:\n",
        "            if letra in contador.keys():\n",
        "                contador[letra] += 1\n",
        "    return contador, status_code\n",
        "\n",
        "\n",
        "def main():\n",
        "    sitio = solicitar_nombre_del_sitio()\n",
        "    # probar con https://wikipedia.org, wikipedia.org y https://wikipedia.arg\n",
        "    vocales, status_code = contar_vocales(sitio)\n",
        "    print(vocales)\n",
        "    print(status_code)\n",
        "\n",
        "if __name__ == \"__main__\":\n",
        "    main()"
      ],
      "metadata": {
        "id": "Ba2xhmiYoEhp"
      },
      "execution_count": null,
      "outputs": []
    },
    {
      "cell_type": "markdown",
      "source": [
        "El código que devuelve en la segunda coordenada la  función `contar_vocales()` nos permite saber que ocurrió cuando se quizo acceder al sitio y nos permite saber que el resultado es válido si y solo si  ese código  es `200`."
      ],
      "metadata": {
        "id": "I8q--NTVtjJp"
      }
    }
  ],
  "metadata": {
    "colab": {
      "provenance": []
    },
    "interpreter": {
      "hash": "df45a1d593e760cb2f2d0116876d0d9854c557dc207c92c5b1e029045d5f17a5"
    },
    "kernelspec": {
      "display_name": "Python 3.9.6 64-bit",
      "language": "python",
      "name": "python3"
    },
    "language_info": {
      "codemirror_mode": {
        "name": "ipython",
        "version": 3
      },
      "file_extension": ".py",
      "mimetype": "text/x-python",
      "name": "python",
      "nbconvert_exporter": "python",
      "pygments_lexer": "ipython3",
      "version": "3.9.6"
    }
  },
  "nbformat": 4,
  "nbformat_minor": 0
}