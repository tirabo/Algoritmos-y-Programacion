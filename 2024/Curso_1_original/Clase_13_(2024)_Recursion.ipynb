{
  "cells": [
    {
      "cell_type": "markdown",
      "metadata": {
        "id": "9avbKk3_5aPP"
      },
      "source": [
        "# Recursión"
      ]
    },
    {
      "cell_type": "markdown",
      "metadata": {
        "id": "1986cj15yw2x"
      },
      "source": [
        "## 1. Definiciones por recursión\n",
        "\n",
        "Frecuentemente encontramos definida una sucesión de números $u_n$, donde $n$ indica cualquier entero positivo, por una fórmula donde aparecen operadores y funciones conocidas y se pueden calcular de un solo paso. Por ejemplo, podríamos tener $u_n=3n+2$, o $u_n = (n+1)(n+2)(n+3)$. En estos ejemplos $u_n$ es dado por una fórmula explícita llamada *fórmula cerrada* y no existe dificultad en calcular $u_n$ cuando se nos da un valor específico para $n$.\n",
        "\n",
        "Sin embargo, en muchos casos no conocemos una fórmula cerrada para $u_n$; es más, nuestro problema puede ser encontrarla. En estos casos pueden darnos ciertos valores de $u_n$ para enteros positivos $n$ pequeños, y una relación entre el $u_n$ general y algunos de los $u_r$ con $r < n$.\n",
        "\n",
        "Por ejemplo, supongamos nos es dado\n",
        "$$\n",
        "u_1=1, \\qquad u_2=2, \\qquad u_n =u_{n-1} +u_{n-2}, \\qquad n\\ge 3.\n",
        "$$\n",
        "Para calcular los valores de $u_n$ para todo $n$ de $\\mathbb N$ podemos proceder como sigue:\n",
        "$$\n",
        "\\begin{matrix}\n",
        "u_3 & = & u_2 + u_1 & = & 2+1 &=& 3, \\\\\n",
        "u_4 & = & u_3 + u_2 & = & 3+2 &=& 5, \\\\\n",
        "u_5 & = & u_4 + u_3 & = & 5+3 &=& 8,\n",
        "\\end{matrix}\n",
        "$$\n",
        "y así siguiendo.  Éste es un ejemplo de una *definición recursiva*.\n",
        "\n",
        "Una función definida por recursión debe:\n",
        "\n",
        "*   determinar el valor deseado para el *caso base* (o los casos base), por ejemplo, para $n = 1$ o $n = 2$.\n",
        "*   determinar la manera de calcular el valor para $n$ conociendo el valor de la función para algunos valores menores, por ejemplo  $n-1$ o $n-1$ y $n-2$.\n",
        "\n",
        "Los lenguajes de programación modernos permiten la definición de funciones recursivas. Un  esquema de una definición recursiva podría ser (partiendo  de $n =1$):\n",
        "\n",
        "```\n",
        "def f(n):\n",
        "    if n == 1:\n",
        "       res = caso base\n",
        "    else:\n",
        "        <bloque>\n",
        "        res = ... f(n-1) ...\n",
        "        <bloque>\n",
        "    <bloque>\n",
        "    return res\n",
        "```"
      ]
    },
    {
      "cell_type": "markdown",
      "metadata": {
        "id": "80tXgDEr0kdM"
      },
      "source": [
        "## 2. Ejemplo de definición recursiva: función factorial.\n",
        "\n",
        "Hemos visto una manera iterativa de definir la función factorial:"
      ]
    },
    {
      "cell_type": "code",
      "execution_count": null,
      "metadata": {
        "id": "lAglmA6e0s1e"
      },
      "outputs": [],
      "source": [
        "def factorial(n: int) -> int:\n",
        "    # pre: n >= 0\n",
        "    # post: devuelve el valor de 1 * 2 * 3 * ... * (n-1) * n\n",
        "    res = 1\n",
        "    for i in range(2, n+1):\n",
        "        res = res * i\n",
        "    return res"
      ]
    },
    {
      "cell_type": "code",
      "execution_count": null,
      "metadata": {
        "id": "7t7wX_49XyQh",
        "colab": {
          "base_uri": "https://localhost:8080/"
        },
        "outputId": "0ec7acbd-d643-41ef-da91-9b835057fd3c"
      },
      "outputs": [
        {
          "output_type": "stream",
          "name": "stdout",
          "text": [
            "120\n"
          ]
        }
      ],
      "source": [
        "print(factorial(5))"
      ]
    },
    {
      "cell_type": "markdown",
      "metadata": {
        "id": "QrE7zfXM1IF0"
      },
      "source": [
        "La definición anterior *no* es recursiva,  es *iterativa.* También se puede definir por recursión, valiéndonos de que sabemos:\n",
        "\n",
        "\n",
        "*   $0! = 1$\n",
        "*   $n! = n \\cdot (n-1)!$, si $n > 0$"
      ]
    },
    {
      "cell_type": "code",
      "execution_count": null,
      "metadata": {
        "id": "BB-MqWbQ1uVC"
      },
      "outputs": [],
      "source": [
        "def factorial_r(n: int) -> int:\n",
        "    # pre: n >= 0\n",
        "    # post: devuelve el valor de 1 * 2 * 3 * ... * (n-1) * n\n",
        "    if n == 0:\n",
        "        res = 1\n",
        "    else:\n",
        "        res = n * factorial_r(n - 1)\n",
        "    return res"
      ]
    },
    {
      "cell_type": "code",
      "source": [
        "factorial_r(5)"
      ],
      "metadata": {
        "id": "LB8sijExR2UJ"
      },
      "execution_count": null,
      "outputs": []
    },
    {
      "cell_type": "markdown",
      "metadata": {
        "id": "4VcwoKuDeU42"
      },
      "source": [
        "Para probar que el programa es correcto se puede hacer una demostración por inducción.\n",
        "\n",
        "Probemos por inducción en `n` que para todo `n` entero no negativo, `factorial(n) == n!`.\n",
        "\n",
        "- Caso base: `n == 0`. `factorial(n) == factorial(0) == 1 == 0! == n!`.\n",
        "- Paso inductivo: asumimos que `factorial(n) == n!`. Probemos que `factorial(n+1) == (n+1)!`:\n",
        "\n",
        "```\n",
        "    factorial(n+1) == (n+1) * factorial(n + 1 - 1) == (n+1) * factorial(n) == (n+1) * n! == (n+1)!.\n",
        "```\n",
        "\n",
        "Así queda demostrada la afirmación."
      ]
    },
    {
      "cell_type": "code",
      "execution_count": null,
      "metadata": {
        "id": "lC7vT0-MeCYI"
      },
      "outputs": [],
      "source": [
        "print(factorial(4))\n",
        "#print(factorial(-3))"
      ]
    },
    {
      "cell_type": "markdown",
      "metadata": {
        "id": "l8sO0v1YAv-P"
      },
      "source": [
        "## 3. Ejemplo: potencia de un número.\n",
        "\n",
        "La definición de la potencia entera de un número es una definición recursiva.\n",
        "\n",
        "**Definición.** Sea $a \\in \\mathbb R$ y $n \\in \\mathbb N_0$, definimos *$a$ a la $n$* por\n",
        "*   $a^0 = 1$\n",
        "*   $a^n = a \\cdot a^{n-1}$, si $n > 0$\n",
        "\n",
        "A partir de esta definición podemos hacer directamente una definición recursiva en Python:"
      ]
    },
    {
      "cell_type": "code",
      "execution_count": null,
      "metadata": {
        "id": "4PvjlzMrCN9P"
      },
      "outputs": [],
      "source": [
        "def potencia(a, n: int) -> int:\n",
        "    # pre: a numero real, n >= 0\n",
        "    # post: devuelve el valor de a * a * a * ... * a * a , n veces\n",
        "    if n == 0:\n",
        "        res = 1\n",
        "    else:\n",
        "        res = a * potencia(a, n-1)\n",
        "    return res"
      ]
    },
    {
      "cell_type": "markdown",
      "metadata": {
        "id": "C0sT_1r_5aPe"
      },
      "source": [
        "Hagamos alguna pruebas:\n"
      ]
    },
    {
      "cell_type": "code",
      "source": [
        "potencia(2, 3)"
      ],
      "metadata": {
        "colab": {
          "base_uri": "https://localhost:8080/"
        },
        "id": "P5wcW0oxUq62",
        "outputId": "ed089c14-cd11-450a-97e8-f1216e1efd52"
      },
      "execution_count": null,
      "outputs": [
        {
          "output_type": "execute_result",
          "data": {
            "text/plain": [
              "8"
            ]
          },
          "metadata": {},
          "execution_count": 28
        }
      ]
    },
    {
      "cell_type": "code",
      "execution_count": null,
      "metadata": {
        "id": "9fDTFd6xg4JW",
        "colab": {
          "base_uri": "https://localhost:8080/"
        },
        "outputId": "fcf8faa7-4df2-4a77-9e37-881af2922f13"
      },
      "outputs": [
        {
          "output_type": "stream",
          "name": "stdout",
          "text": [
            "9\n",
            "1125899906842624\n"
          ]
        }
      ],
      "source": [
        "print(potencia(3,2))\n",
        "print(potencia(2,50))"
      ]
    },
    {
      "cell_type": "code",
      "source": [
        "potencia(2, 800) * potencia (2, 299) # 2**1099"
      ],
      "metadata": {
        "id": "WoCw84XqBIZI"
      },
      "execution_count": null,
      "outputs": []
    },
    {
      "cell_type": "code",
      "source": [
        "# potencia(2,1099) # excede el límite de llamadas recursivas"
      ],
      "metadata": {
        "id": "L7VkBmevTvhU"
      },
      "execution_count": null,
      "outputs": []
    },
    {
      "cell_type": "markdown",
      "source": [
        "La versión iterativa de potencia sería:"
      ],
      "metadata": {
        "id": "AXKumqJqVioB"
      }
    },
    {
      "cell_type": "code",
      "source": [
        "def potencia(a, n: int) -> int:\n",
        "    # pre: a numero real, n >= 0\n",
        "    # post: devuelve el valor de a * a * a * ... * a * a , n veces\n",
        "    res = 1\n",
        "    for i in range(1, n+1):\n",
        "        res = a * res\n",
        "    return res\n",
        "\n",
        "potencia(2, 3)"
      ],
      "metadata": {
        "colab": {
          "base_uri": "https://localhost:8080/"
        },
        "id": "6BMEe7FGVhgs",
        "outputId": "02ecd263-b1a3-4d81-f0c4-9bf2616c89c7"
      },
      "execution_count": null,
      "outputs": [
        {
          "output_type": "execute_result",
          "data": {
            "text/plain": [
              "8"
            ]
          },
          "metadata": {},
          "execution_count": 30
        }
      ]
    },
    {
      "cell_type": "markdown",
      "metadata": {
        "id": "mHUWsfUCCve3"
      },
      "source": [
        "### Versión optimizada de potencia de un número.\n",
        "\n",
        "Observemos que la definición recursiva anterior de $a^n$ requiere $n$ pasos pues `potencia(a, n)` se basa en `potencia(a, n - 1)`,  que a su vez se basa en `potencia(a, n - 2)` y así sucesivamente.\n",
        "\n",
        "Observemos que si $n$  es potencia de $2$,  entonces podemos simplificar el cálculo de la siguiente manera, por ejemplo para $n = 32$:\n",
        "\n",
        "\\begin{align*}\n",
        "&1.& &a^{32} = a^{16}\\cdot a^{16} \\\\\n",
        "&2.& &a^{16} =   a^{8} \\cdot a^{8} \\\\\n",
        "&3.& &a^{8} =   a^{4} \\cdot a^{4} \\\\\n",
        "&4.& &a^{4} =   a^{2} \\cdot a^{2} \\\\\n",
        "&5.& &a^{2} =   a^{1} \\cdot a^{1} = a \\cdot a\n",
        "\\end{align*}\n",
        "\n",
        "Es decir, para averiguar $a^{32}$, averiguamos\n",
        "\n",
        "- $a^2 = a \\cdot a$ (1º paso),\n",
        "- $a^4 = a^2 \\cdot a^2$ (2º paso),\n",
        "- $a^8 = a^4 \\cdot a^4$ (3º paso),\n",
        "- $a^{16} = a^8 \\cdot a^8$ (4º paso), y\n",
        "- $a^{32} = a^{16} \\cdot a^{16}$ (5º paso).\n",
        "\n",
        "Son 5 pasos en vez de 32.   \n",
        "\n"
      ]
    },
    {
      "cell_type": "markdown",
      "source": [
        "En general, si quisieramos calcular $a$ a la una potencia de $2$,  es decir $a^{2^k}$, podríamos hacer,  recursivamente,\n",
        "\\begin{align*}\n",
        "&1.& &a^{2^k} = a^{2 \\cdot 2^{k-1}} = a^{2^{k-1} + 2^{k-1}} = a^{2^{k-1}} \\cdot a^{2^{k-1}} \\\\\n",
        "&2.& &a^{2^{k-1}} =   a^{2^{k-2}} \\cdot a^{2^{k-2}} \\\\\n",
        "&3.& &a^{2^{k-2}} =   a^{2^{k-3}} \\cdot a^{2^{k-3}} \\\\\n",
        "&&...& \\\\\n",
        "&k-1.& &a^{2} =   a^{1} \\cdot a^{1}\n",
        "\\end{align*}\n",
        "\n",
        "Es decir $a^{2^k}$ se pueder calcular en alrededor de  $k = \\operatorname{log}_2(2^k)$ pasos, muchos menos que con el método directo."
      ],
      "metadata": {
        "id": "Kz2xiPAZ_Wr6"
      }
    },
    {
      "cell_type": "markdown",
      "source": [
        "¿Para qué nos sirve esto para calcular la potencia arbitraria de un número?\n",
        "\n",
        "Veamos como se aplica esto en un ejemplo, por ejemplo calculemos $a^{27}$:\n",
        "\n",
        "\\begin{align*}\n",
        "&1.& &a^{27} = a^{26}\\cdot a \\\\\n",
        "&2.& &a^{26} =   a^{13} \\cdot a^{13} \\\\\n",
        "&3.& &a^{13} =   a^{12} \\cdot a \\\\\n",
        "&4.& &a^{12} =   a^{6} \\cdot a^{6} \\\\\n",
        "&5.& &a^{6} =   a^{3} \\cdot a^{3} \\\\\n",
        "&6.& &a^{3} =   a^{2} \\cdot a \\\\\n",
        "&7.& &a^{2} =   a^{1} \\cdot a^{1} = a \\cdot a\n",
        "\\end{align*}\n",
        "\n",
        "Luego, para calucular $a^{27}$, calculamos $a^2$, luego $a^3$, $a^6$, $a^{12}$, $a^{13}$, $a^{26}$ y finalmente $a^{27}$. Es decir, lo podemos hacer en 7 pasos en vez de 27."
      ],
      "metadata": {
        "id": "Xz1IRLw1BZF5"
      }
    },
    {
      "cell_type": "markdown",
      "source": [
        "Basándonos en la idea anterior se puede definir recursivamente $a^n$ para cualquier $n$ en una recursión que lleva alrededor de $\\operatorname{log}_2(n)$ pasos:\n",
        "\n",
        "*   $a^0 = 1$\n",
        "*   $a^n = a \\cdot a^{n-1}$, si $n > 0$, $n$ impar.\n",
        "*   $a^n = {(a^{\\frac{n}{2}})}^2$, si $n > 0$, $n$ par.\n",
        "\n",
        "Su implementación en Python es sencilla:"
      ],
      "metadata": {
        "id": "zb3tp455BSYx"
      }
    },
    {
      "cell_type": "code",
      "execution_count": null,
      "metadata": {
        "id": "fa8JqFCxCmJ-"
      },
      "outputs": [],
      "source": [
        "def potencia(a, n: int) -> int:\n",
        "    # pre: n >= 0\n",
        "    # post: devuelve el valor de a * a * a * ... * a * a , n veces\n",
        "    if n == 0:\n",
        "        res = 1\n",
        "    elif n % 2 == 1:\n",
        "        res = a * potencia(a, n - 1)\n",
        "    else:\n",
        "        res_aux = potencia(a, n // 2)\n",
        "        res = res_aux * res_aux\n",
        "    return res"
      ]
    },
    {
      "cell_type": "code",
      "source": [
        "potencia(2, 10099)"
      ],
      "metadata": {
        "id": "aZw7DGxWD_3V",
        "colab": {
          "base_uri": "https://localhost:8080/"
        },
        "outputId": "e0d8ec8a-a4b8-481a-b59f-722b779e16a4"
      },
      "execution_count": null,
      "outputs": [
        {
          "output_type": "execute_result",
          "data": {
            "text/plain": [
              "12645214788035477780833747012304970973185843332835288169848789914254502838560051538629491431436156796205715003374944844127559425637068683357188426288310422673615829329615482105090787197616047243677777129144729546461873025383421382927863498442017413919712457287165999262436053613531013670776465543932306291728643872290754779836194232892577359642555497241328726605939213467874189066226238245056424852556877028877151433085117049154611172427502198888865653013856460717504264919853261316908657529859703796479777359329935749443077374265028907660789404653113637841680729928789865210492003550947294897430466021778462772260419168612135639828803131570274659511259626235038143319808431446706260017525369783755792689868998090492677503466114400168908381661508455456084257429757257062175242905694426821880093530730680369069544584035931252641870022643653594540294784946757510800799520910668754858105736212123089921563860914710785322491778082476583470858058052318299784868883571045360724199681777240102907341316983263659164136520492908991835007304886117790962457060842552692082889427794951233041692131840302594325406414298806168382294857269968846138067710596292767446655452221403803137266262567486246120326813578875966486378577207282816897342055112334904588942947560897203722982091422376097235368497996002797826568260213356557341344930497956381424742918345330249698148968619393055681250544551352635398573111679450260451360616474285437441053553149204703140172701695848252296012738656785843484918044867812953476371973401159267266126186749010820498912280835466741013066401488906981357628317758542670637769040538377601600801127127651677410766985504275293166173368803836255029309001925919529323216355263577147409279932998067779574934333189747922021274236785732951740511155163495750570472884381145197332793843045477318577211683262576702239449224062113320802536510377868081548128006639163295662471761914522800675793271444303222869459654634088157498355662353294830798017531834735031092167822676948827512390739156574240885472898572635663451255234871995376902518987523240405660419852661336545890875314752405288301427719819689583140365641889452256066964680070867128072676281112330564299303468255662635680271661185964687087594282757361003337555059527458901936293518525222666227509025715596352501994177174193487571959134275200735779086804242834692781866729760838107456547895632480696881492076739343520010992444715746013041940770610891687692420045185134613700343702971278488975163107207569359889101632994205444493143414586918107103760645484912194839740898021641392659033599664272468493725522430850067867209505572207603255435288288442709463279286317320275424560868739830751050735462450898992544548593850073633318333810544633575553792188214557716157945737199220457596426262506373678788715940256059572848458575558327459162150792099648977792879617534861296965843756541076879500848168712945402734744770690132941452173899334638465542587618596050976003414297002917105679841151363059485450826333637259008242051047475247141786221981998309981447313676866623742466174098764556402688"
            ]
          },
          "metadata": {},
          "execution_count": 2
        }
      ]
    },
    {
      "cell_type": "code",
      "source": [
        "print('2**10099 tiene',len(str(potencia(2, 10099))), 'dígitos')"
      ],
      "metadata": {
        "id": "pvN1ek-N9ywD",
        "colab": {
          "base_uri": "https://localhost:8080/"
        },
        "outputId": "bc7c04e5-8fd9-4977-b7a7-f4e69d1a07d5"
      },
      "execution_count": null,
      "outputs": [
        {
          "output_type": "stream",
          "name": "stdout",
          "text": [
            "2**10099 tiene 3041 dígitos\n"
          ]
        }
      ]
    },
    {
      "cell_type": "code",
      "source": [
        "from math import log2\n",
        "print('Para calcular 2**10099 utilizamos alrededor de',int(log2(10099)), 'pasos.') # en"
      ],
      "metadata": {
        "colab": {
          "base_uri": "https://localhost:8080/"
        },
        "id": "9phNfQKjYjq0",
        "outputId": "b2df60e5-ca9e-4980-d185-6e72694b6c8a"
      },
      "execution_count": null,
      "outputs": [
        {
          "output_type": "stream",
          "name": "stdout",
          "text": [
            "Para calcular 2**10099 utilizamos alrededor de 13 pasos.\n"
          ]
        }
      ]
    },
    {
      "cell_type": "markdown",
      "metadata": {
        "id": "EJwra_cdfAHy"
      },
      "source": [
        "## 4. Ejemplo: sucesión de Fibonacci\n",
        "\n",
        "La *sucesión de Fibonacci* es la siguiente sucesión infinita de números naturales:\n",
        "$$\n",
        "0,1,1,2,3,5,8,13,21,34,55,89,144,233,377,610,987,1597, \\ldots \\,\n",
        "$$\n",
        "\n",
        "La sucesión comienza con los números 0 y 1 y a partir de estos, \"el siguiente término es la suma de los dos anteriores\", es decir, si $a_n$ denota el $n$-ésimo término de la sucesión de Fibonacci:\n",
        "\n",
        "*   $a_0 = 0$\n",
        "*   $a_1 = 1$\n",
        "*   $a_n = a_{n-1} + a_{n-2}\\quad $ si $n > 1$\n",
        "\n"
      ]
    },
    {
      "cell_type": "markdown",
      "source": [
        "La primera implementación recursiva que se nos ocurre de la sucesión de Fibonacci es la transcripción directa de la definición:"
      ],
      "metadata": {
        "id": "0yNIZK9JqbCi"
      }
    },
    {
      "cell_type": "code",
      "execution_count": null,
      "metadata": {
        "id": "Z-D3k92RX9DF"
      },
      "outputs": [],
      "source": [
        "def fib(n: int) -> int:\n",
        "    # pre: n >= 0\n",
        "    # post: devuelve el n-ésimo término de la sucesión de Fibonacci\n",
        "    assert type(n) == int and n >= 0\n",
        "    if n == 0:\n",
        "        res = 0\n",
        "    elif n== 1:\n",
        "        res = 1\n",
        "    else:\n",
        "        res = fib(n-1) + fib(n-2)\n",
        "    return res"
      ]
    },
    {
      "cell_type": "markdown",
      "metadata": {
        "id": "kJ-MhTe05aPi"
      },
      "source": [
        "Verifiquemos contrastando con la lista de más arriba"
      ]
    },
    {
      "cell_type": "code",
      "execution_count": null,
      "metadata": {
        "id": "CsezItWN327m",
        "colab": {
          "base_uri": "https://localhost:8080/"
        },
        "outputId": "aaf94cd7-9903-439d-9e4a-55474ed1a487"
      },
      "outputs": [
        {
          "output_type": "stream",
          "name": "stdout",
          "text": [
            "0, 1, 1, 2, 3, 5, 8, 13, 21, 34, 55, 89, 144, 233, 377, 610, 987, 1597, "
          ]
        }
      ],
      "source": [
        "for i in range(18):\n",
        "    print(fib(i), end=', ')"
      ]
    },
    {
      "cell_type": "markdown",
      "metadata": {
        "id": "sqo_V2i_5aPj"
      },
      "source": [
        "También podríamos haber hecho algo parecido utilizando listas por comprensión:"
      ]
    },
    {
      "cell_type": "code",
      "execution_count": null,
      "metadata": {
        "id": "a9d5twqlgwvL",
        "colab": {
          "base_uri": "https://localhost:8080/"
        },
        "outputId": "f665c770-0d8c-4482-967b-9d14b51b5adb"
      },
      "outputs": [
        {
          "output_type": "stream",
          "name": "stdout",
          "text": [
            "[0, 1, 1, 2, 3, 5, 8, 13, 21, 34, 55, 89, 144, 233, 377, 610, 987, 1597]\n"
          ]
        }
      ],
      "source": [
        "print([fib(x) for x in range(18)])"
      ]
    },
    {
      "cell_type": "markdown",
      "source": [
        "O más prolijo:"
      ],
      "metadata": {
        "id": "EFVu6xQ3-H7L"
      }
    },
    {
      "cell_type": "code",
      "source": [
        "print(str([fib(x) for x in range(18)])[1:-1])"
      ],
      "metadata": {
        "id": "yHqBi6RZ-Gph",
        "colab": {
          "base_uri": "https://localhost:8080/"
        },
        "outputId": "c5e167f2-e1d3-45f1-e4ee-748949aa1475"
      },
      "execution_count": null,
      "outputs": [
        {
          "output_type": "stream",
          "name": "stdout",
          "text": [
            "0, 1, 1, 2, 3, 5, 8, 13, 21, 34, 55, 89, 144, 233, 377, 610, 987, 1597\n"
          ]
        }
      ]
    },
    {
      "cell_type": "markdown",
      "metadata": {
        "id": "Vp9diih95aPk"
      },
      "source": [
        "Ahora bien, esta implementación no es una buena implementación de la sucesión de Fibonacci pues como cada caso se basa en dos anteriores y el compilador si alguna vez calcula `fib(k)` para `k < n` y después lo necesita de nuevo, no lo recuerda y lo hace otra vez. Con este algoritmo podemos estimar que `fib(n)` necesita alrededor de $2^n$ pasos y esto computacionalmente no es admisible. Por ejemplo, podemos calcular fácilmente *a mano* el término $50$  de la sucesión de Fibonacci, pero si ejecutamos `fib(50)` veremos que no termina.  "
      ]
    },
    {
      "cell_type": "code",
      "execution_count": null,
      "metadata": {
        "id": "NiK9sTym5aPk"
      },
      "outputs": [],
      "source": [
        "# fib(50)"
      ]
    },
    {
      "cell_type": "markdown",
      "metadata": {
        "id": "utmEwswu5aPl"
      },
      "source": [
        "Una solución a este problema es una implementación iterativa con el uso de la llamada *programación dinámica*. No explicaremos lo que es programación dinámica en este curso, pero diremos que evita la repetición de cálculos guardando algunos resultados anteriores en una tabla. Solo daremos la sucesión de Fibonacci  con programación dinámica a modo ilustrativo:"
      ]
    },
    {
      "cell_type": "code",
      "execution_count": null,
      "metadata": {
        "id": "NrU5GOL55aPl"
      },
      "outputs": [],
      "source": [
        "def fib_din(n):\n",
        "    # pre: n >= 0\n",
        "    # post: devuelve el n-ésimo término de la sucesión de Fibonacci\n",
        "    f = [0, 1]\n",
        "    for i in range(2, n+1):\n",
        "        f.append(f[i-1] + f[i-2])\n",
        "    return f[n]"
      ]
    },
    {
      "cell_type": "markdown",
      "metadata": {
        "id": "bNJqPV535aPl"
      },
      "source": [
        "Este algoritmo es mucho más eficiente que el anterior."
      ]
    },
    {
      "cell_type": "code",
      "execution_count": null,
      "metadata": {
        "id": "QoeT-hlJ5aPl",
        "colab": {
          "base_uri": "https://localhost:8080/"
        },
        "outputId": "29c50e73-1f51-4980-b34b-5b55fd6faeef"
      },
      "outputs": [
        {
          "output_type": "execute_result",
          "data": {
            "text/plain": [
              "43466557686937456435688527675040625802564660517371780402481729089536555417949051890403879840079255169295922593080322634775209689623239873322471161642996440906533187938298969649928516003704476137795166849228875"
            ]
          },
          "metadata": {},
          "execution_count": 48
        }
      ],
      "source": [
        "fib_din(1000)"
      ]
    },
    {
      "cell_type": "markdown",
      "metadata": {
        "id": "NoqKmj0P5aPm"
      },
      "source": [
        "Observemos que el algoritmo no es recursivo en el sentido que nosotros definimos, sin embargo tiene cierta similitud a una definición recursiva debido a  que para calcular el término $i$-ésimo de `f` se utilizan los términos $i-1$ y $i-2$."
      ]
    },
    {
      "cell_type": "markdown",
      "source": [
        "En  el espíritu de la definición anterior podemos hacer un algoritmo recursivo y eficiente:"
      ],
      "metadata": {
        "id": "deJzXz8TSE07"
      }
    },
    {
      "cell_type": "code",
      "source": [
        "def fib_2(n):\n",
        "    # pre: n >= 1\n",
        "    # post: devuelve el (fn, fn_1) de Fibonacci\n",
        "    if n == 1:\n",
        "        res = (1, 0)\n",
        "    else:\n",
        "        x = fib_2(n-1)\n",
        "        res = (x[0] + x[1], x[0])\n",
        "    return res"
      ],
      "metadata": {
        "id": "x5khG-iQGZTL"
      },
      "execution_count": null,
      "outputs": []
    },
    {
      "cell_type": "code",
      "source": [
        "print(fib_2(50)[0])\n",
        "print(fib_din(50))"
      ],
      "metadata": {
        "id": "tt8n3ZvpHfjd",
        "colab": {
          "base_uri": "https://localhost:8080/"
        },
        "outputId": "944ab7aa-2203-45f5-cf05-18967b6b0157"
      },
      "execution_count": null,
      "outputs": [
        {
          "output_type": "stream",
          "name": "stdout",
          "text": [
            "12586269025\n",
            "12586269025\n"
          ]
        }
      ]
    },
    {
      "cell_type": "markdown",
      "metadata": {
        "id": "1FRoQoqG5aPm"
      },
      "source": [
        "Sin embargo, la versión más conveniente para calcular la sucesión de Fibonacci es una versión iterativa muy similar a la versión de programación dinámica pero que  ocupa menos espacio en memoria, pues solo se acuerda de los dos últimos números de la serie:"
      ]
    },
    {
      "cell_type": "code",
      "execution_count": null,
      "metadata": {
        "id": "mcD0rgkGkKqU"
      },
      "outputs": [],
      "source": [
        "def fibonacci(n: int) -> int:\n",
        "    if n <= 1:\n",
        "        res = n\n",
        "    else:\n",
        "        x, y = 0, 1\n",
        "        for _ in range(2, n+1):\n",
        "            x, y = y, x + y\n",
        "        res = y\n",
        "    return res"
      ]
    },
    {
      "cell_type": "code",
      "execution_count": null,
      "metadata": {
        "id": "6XoVkbJcllLE",
        "colab": {
          "base_uri": "https://localhost:8080/"
        },
        "outputId": "0d9bd14c-d52a-446f-a936-e6ffcfec0473"
      },
      "outputs": [
        {
          "output_type": "stream",
          "name": "stdout",
          "text": [
            "0 :\t 0\n",
            "1 :\t 1\n",
            "2 :\t 1\n",
            "3 :\t 2\n",
            "4 :\t 3\n",
            "5 :\t 5\n",
            "6 :\t 8\n",
            "7 :\t 13\n",
            "8 :\t 21\n",
            "9 :\t 34\n",
            "10 :\t 55\n",
            "11 :\t 89\n",
            "12 :\t 144\n",
            "13 :\t 233\n",
            "14 :\t 377\n",
            "15 :\t 610\n",
            "16 :\t 987\n",
            "17 :\t 1597\n",
            "18 :\t 2584\n",
            "19 :\t 4181\n",
            "20 :\t 6765\n",
            "21 :\t 10946\n",
            "22 :\t 17711\n",
            "23 :\t 28657\n",
            "24 :\t 46368\n",
            "25 :\t 75025\n",
            "26 :\t 121393\n",
            "27 :\t 196418\n",
            "28 :\t 317811\n",
            "29 :\t 514229\n",
            "30 :\t 832040\n",
            "31 :\t 1346269\n",
            "32 :\t 2178309\n",
            "33 :\t 3524578\n",
            "34 :\t 5702887\n",
            "35 :\t 9227465\n",
            "36 :\t 14930352\n",
            "37 :\t 24157817\n",
            "38 :\t 39088169\n",
            "39 :\t 63245986\n",
            "40 :\t 102334155\n",
            "41 :\t 165580141\n",
            "42 :\t 267914296\n",
            "43 :\t 433494437\n",
            "44 :\t 701408733\n",
            "45 :\t 1134903170\n",
            "46 :\t 1836311903\n",
            "47 :\t 2971215073\n",
            "48 :\t 4807526976\n",
            "49 :\t 7778742049\n",
            "50 :\t 12586269025\n"
          ]
        }
      ],
      "source": [
        "for i in range(51):\n",
        "    print(i,':\\t',fibonacci(i))"
      ]
    },
    {
      "cell_type": "code",
      "execution_count": null,
      "metadata": {
        "id": "ozqOkLOhlzzM",
        "colab": {
          "base_uri": "https://localhost:8080/"
        },
        "outputId": "8b131e8b-f416-4ed3-bad7-d266630c52b1"
      },
      "outputs": [
        {
          "output_type": "stream",
          "name": "stdout",
          "text": [
            "209\n"
          ]
        }
      ],
      "source": [
        "print(len(str(fibonacci(1000))))"
      ]
    },
    {
      "cell_type": "markdown",
      "source": [
        "El algoritmo anterior es tan eficiente como el primero de programación dinámica, pero ocupa menos espacio \"aprovechándose\"  de que Fibonacci de un entero usa el Fibonacci de los dos enteros anteriores."
      ],
      "metadata": {
        "id": "tx6NtLsZAvay"
      }
    },
    {
      "cell_type": "markdown",
      "metadata": {
        "id": "bLhthOPIJNYQ"
      },
      "source": [
        "## 5. Ejemplo: el número combinatorio\n",
        "\n",
        "\n",
        "El número combinatorio $\\displaystyle\\binom{n}{m}$ debe su nombre a que cuenta el número exacto de combinaciones posibles de $m$ elementos de un universo de $n$ elementos. Es decir, dado un conjunto de $n$ elementos, cuántos subconjuntos de $m$ elementos tiene.\n",
        "\n",
        "Es de gran utilidad en múltiples ramas de la matemática: teoría de números, combinatoria, probabilidades, etc.\n"
      ]
    },
    {
      "cell_type": "markdown",
      "metadata": {
        "id": "VZ5x5iGPtn4c"
      },
      "source": [
        "**Definición.** Sean $n$, $m$ números naturales o 0 tal que $m \\le n$, definimos el *número combinatorio $n$, $m$* denotado $\\displaystyle\\binom{n}{m}$, por:\n",
        "\n",
        "$$\\binom{n}{m} = \\frac{n!}{(n-m)!m! }.$$\n",
        "\n",
        "Una forma de calcular el número combinatorio sería calcular $n!$, $m!$, $(n-m)!$ y después hacer las multiplicaciones y divisiones correspondientes. Este método no presenta inconvenientes y se podría implementar de la siguiente manera:"
      ]
    },
    {
      "cell_type": "code",
      "execution_count": null,
      "metadata": {
        "id": "LWLe-rbTtn4d"
      },
      "outputs": [],
      "source": [
        "def factorial_iter(n: int) -> int:\n",
        "    # pre: n >= 0\n",
        "    # post: devuelve el valor de 1 * 2 * 3 * ... * (n-1) * n\n",
        "    res = 1\n",
        "    for i in range(2, n+1):\n",
        "        res = res * i\n",
        "    return res\n",
        "\n",
        "def combinatorio(n, m):\n",
        "    # pre: n >= 0, m >= 0, m <= n\n",
        "    # post: devuelve el valor de n! / ((n-m)! * m!)\n",
        "    return factorial_iter(n) // (factorial_iter(n-m) * factorial_iter(m))"
      ]
    },
    {
      "cell_type": "markdown",
      "metadata": {
        "id": "51PPXZL_tn4e"
      },
      "source": [
        "Funciona bien para números no demasiado grandes, por ejemplo:"
      ]
    },
    {
      "cell_type": "code",
      "execution_count": null,
      "metadata": {
        "id": "o_5Usxumtn4e",
        "colab": {
          "base_uri": "https://localhost:8080/"
        },
        "outputId": "30606816-d789-4feb-9e20-b189de402e1f"
      },
      "outputs": [
        {
          "output_type": "execute_result",
          "data": {
            "text/plain": [
              "347037219422984055239946843485683195580755864868346398088954443243876858031326934041766900371421981603299332669125824443513273758730486737240388293753111040271376864820662935047743500565974068858958660864508319978485472663185175258151990702870976299330246762698109020782440494028587404516961987864170936153949349357936578831033231820646380406118118751945715370379524709132263015522289636564532743071925775700930595659527798993201077754709658538159822996393987723794876174961139726360694255939081404708123162873769320381438691114830516816142328311152120564780303157035369684339130036470841518815949034843718202973695637705600"
            ]
          },
          "metadata": {},
          "execution_count": 3
        }
      ],
      "source": [
        "combinatorio(3528, 500)"
      ]
    },
    {
      "cell_type": "markdown",
      "metadata": {
        "id": "muA_rNzVtn4f"
      },
      "source": [
        "Pero mejor no intentés descomentar y correr la siguiente línea:"
      ]
    },
    {
      "cell_type": "code",
      "execution_count": null,
      "metadata": {
        "id": "pEsRYbi5tn4f"
      },
      "outputs": [],
      "source": [
        "# combinatorio(10**50, 500)"
      ]
    },
    {
      "cell_type": "markdown",
      "metadata": {
        "id": "RJWuxb96tn4f"
      },
      "source": [
        "Veremos a continuación una forma recursiva de definir el número combinatorio."
      ]
    },
    {
      "cell_type": "markdown",
      "metadata": {
        "id": "SEeqhTm9tn4g"
      },
      "source": [
        "### 5.1 Triángulo de Pascal\n",
        "\n",
        "Si escribimos los números combinatorios de tal manera que en la fila $n$ se encuentren todos los números combinatorios $\\displaystyle\\binom{n}{k}$ con $0 \\le k  \\le n$,  en ese orden, y los acomodamos convenientemente, obtenemos el *triángulo de Pascal* o *Tartaglia*.\n",
        "\n",
        "$$\\begin{array}{lcccccccccccccccc}\n",
        "n = 0 & & & & & & & & & 0 \\choose 0 \\\\\n",
        "n = 1 & & & & & & & & 1 \\choose 0 & & 1 \\choose 1 \\\\\n",
        "n = 2 & & & & & & & 2 \\choose 0 & & 2 \\choose 1 & & 2 \\choose 2 \\\\\n",
        "n = 3 & & & & & & 3 \\choose 0 & & 3 \\choose 1 & & 3 \\choose 2 & & 3 \\choose 3\\\\\n",
        "n = 4 & & & & & 4 \\choose 0 & & 4 \\choose 1 & & 4 \\choose 2 & & 4 \\choose 3 & & 4 \\choose 4\\\\\n",
        "n = 5 & & & & 5 \\choose 0 & & 5 \\choose 1 & & 5 \\choose 2 & & 5 \\choose 3 & & 5 \\choose 4 & & 5 \\choose 5\\\\\n",
        "n = 6 & & & 6 \\choose 0 & & 6 \\choose 1 & & 6 \\choose 2 & & 6 \\choose 3 & & 6 \\choose 4 & & 6 \\choose 5 & & 6 \\choose 6\\\\\n",
        "n = 7 & & 7 \\choose 0 & & 7 \\choose 1 & & 7 \\choose 2 & & 7 \\choose 3 & & 7 \\choose 4 & & 7 \\choose 5 & & 7 \\choose 6 & & 7 \\choose 7\n",
        "\\end{array}$$\n",
        "\n",
        "\n",
        "Si reemplazamos cada expresión por su valor, observamos que cada uno de los valores que están en su interior, pueden calcularse como la suma de los dos que se encuentran inmediatamente arriba:\n",
        "\n",
        "$$\\begin{array}{lcccccccccccccccc}\n",
        "n = 0 & & & & & & & & & 1 \\\\\n",
        "n = 1 & & & & & & & & 1 & & 1 \\\\\n",
        "n = 2 & & & & & & & 1 & & 2 & & 1 \\\\\n",
        "n = 3 & & & & & & 1 & & 3 & & 3 & & 1\\\\\n",
        "n = 4 & & & & & 1 & & 4 & & 6 & & 4 & & 1\\\\\n",
        "n = 5 & & & & 1 & & 5 & & 10 & & 10 & & 5 & & 1\\\\\n",
        "n = 6 & & & 1 & & 6 & & 15 & & 20 & & 15 & & 6 & & 1\\\\\n",
        "n = 7 & & 1 & & 7 & & 21 & & 35 & & 35 & & 21 & & 7 & & 1\n",
        "\\end{array}$$\n",
        "\n",
        "Esto nos permite obtener  una fórmula recursiva para calcular el número combinatorio:\n",
        "\n",
        "*   $\\displaystyle\\binom{n}{0} = 1$\n",
        "*   $\\displaystyle\\binom{n}{n} = 1$\n",
        "*   $\\displaystyle\\binom{n}{m}= \\displaystyle\\binom{n-1}{m-1} + \\displaystyle\\binom{n-1}{m}$, si $m \\not= 0 \\wedge m \\not= n$\n",
        "\n",
        "Estas tres ecuaciones se pueden demostrar matemáticamente.\n",
        "\n",
        "A nosotros nos interesan estas ecuaciones porque podemos tomarlo como una definición recursiva del número combinatorio"
      ]
    },
    {
      "cell_type": "code",
      "execution_count": null,
      "metadata": {
        "id": "Laj1DN3ytn4h"
      },
      "outputs": [],
      "source": [
        "def combinatorio(n, m: int) -> int:\n",
        "    # pre: n >= 0 and 0 <= m <= n\n",
        "    # post: devuelve el número combinatorio de \"n elementos tomados de a m\"\n",
        "    assert type(n) == type(m) == int and n >= 0 and 0 <= m <= n, 'Error en los parámetros de la función \"combinatorio\"'\n",
        "    if m == 0 or m == n:\n",
        "        res = 1\n",
        "    else:\n",
        "        res = combinatorio(n - 1, m - 1) + combinatorio(n - 1, m)\n",
        "    return res"
      ]
    },
    {
      "cell_type": "markdown",
      "metadata": {
        "id": "Zzq37YAOtn4h"
      },
      "source": [
        "Probemos algunos ejemplos:"
      ]
    },
    {
      "cell_type": "code",
      "execution_count": null,
      "metadata": {
        "id": "25vlFfBStn4i",
        "colab": {
          "base_uri": "https://localhost:8080/"
        },
        "outputId": "e0742519-eb67-4fe7-f368-c34f5d8998fe"
      },
      "outputs": [
        {
          "output_type": "stream",
          "name": "stdout",
          "text": [
            "3\n",
            "35\n",
            "780\n"
          ]
        }
      ],
      "source": [
        "print(combinatorio(3,2))\n",
        "print(combinatorio(7,4))\n",
        "print(combinatorio(40,2))\n",
        "# print(combinatorio(40,20)) # mejor no descomentar"
      ]
    },
    {
      "cell_type": "markdown",
      "metadata": {
        "id": "bfGD6yuQtn4i"
      },
      "source": [
        "Este es un buen ejemplo de recursión, pero no es para nada eficiente. Como en el caso de la sucesión de Fibonacci, la llamada recursiva a la función en dos valores aumenta enormemente el tiempo de ejecución para casos no demasiado grandes."
      ]
    },
    {
      "cell_type": "markdown",
      "source": [
        "Como ejercicio, definir `combinatorio()` con programación dinámica. En  este caso habrá que usar una lista de listas."
      ],
      "metadata": {
        "id": "ZnmWlUham8n2"
      }
    },
    {
      "cell_type": "markdown",
      "metadata": {
        "id": "1ioKUIP1tn4i"
      },
      "source": [
        "### 5.2. Otra implementación recursiva del número combinatorio\n",
        "\n",
        "Observemos  que si $n,m > 0$ y $n \\ge m$,\n",
        "\n",
        "\\begin{equation*}\n",
        "\\binom{n}{m} = \\frac{n!}{ (n-m)!m!} =  \\frac{n}{m} \\frac{(n-1)!}{(n-m)!(m-1)! } . \\tag{*}\n",
        "\\end{equation*}\n",
        "\n",
        "Observar que\n",
        "\n",
        "$$\n",
        "\\binom{n-1}{m-1} = \\frac{(n-1)!}{(n-1-(m-1))!(m-1)!}  = \\frac{(n-1)!}{(n-1-m+1))!(m-1)!} =  \\frac{(n-1)!}{(n-m)!(m-1)!}\n",
        "$$\n",
        "\n",
        "Luego, reemplazando en (*) obtenenmos:\n",
        "\n",
        "\\begin{equation*}\n",
        "\\binom{n}{m} =  \\frac{n}{m} \\binom{n-1}{m-1} .\n",
        "\\end{equation*}\n",
        "\n",
        "En  base a esta última recursión podemos definir una función para obtener el número combinatorio."
      ]
    },
    {
      "cell_type": "code",
      "execution_count": null,
      "metadata": {
        "id": "O5QrUvCKtn4j"
      },
      "outputs": [],
      "source": [
        "def combinatorio_recursivo(n, m):\n",
        "    # pre: n >= 0, m >= 0, m <= n\n",
        "    # post: devuelve el valor de n! / (m! * (n-m)!)\n",
        "    if m == 0 or n == 0:\n",
        "        res = 1\n",
        "    else:\n",
        "        res = n * combinatorio_recursivo(n - 1, m - 1) // m\n",
        "    return res"
      ]
    },
    {
      "cell_type": "markdown",
      "metadata": {
        "id": "xQSdgoiutn4j"
      },
      "source": [
        "Este es un algoritmo eficiente para calcular el número combinatorio y vemos por la definición misma de la función que el cálculo del combinatorio $\\displaystyle\\binom{n}{m}$ se concreta en alrededor de $m$ pasos. Por lo tanto si $m$ no es muy grande calcula rápidamente el número combinatorio incluso para valores grandes de $n$.   "
      ]
    },
    {
      "cell_type": "code",
      "execution_count": null,
      "metadata": {
        "id": "0awBiMEdtn4j",
        "colab": {
          "base_uri": "https://localhost:8080/"
        },
        "outputId": "65dd0bf2-756b-4655-dbc2-aaab6f9146fb"
      },
      "outputs": [
        {
          "output_type": "execute_result",
          "data": {
            "text/plain": [
              "23865.913591464865"
            ]
          },
          "metadata": {},
          "execution_count": 9
        }
      ],
      "source": [
        "x = combinatorio_recursivo(10**50, 500)\n",
        "import math\n",
        "math.log10(x)"
      ]
    },
    {
      "cell_type": "markdown",
      "source": [
        "El número anterior tiene 23865 dígitos. Python puede manejar números inmensos, sin embargo si tratan de imprimir el número obtendrán una excepción, pues Python no maneja la conversión a cadenas de enteros de más de 4300 dígitos."
      ],
      "metadata": {
        "id": "UbvW_-auDzdN"
      }
    },
    {
      "cell_type": "markdown",
      "source": [
        "*Observación.* Existen métodos iterativos relativamente eficientes para calcular el número combinatorio. Si definimos la función\n",
        "$$\n",
        "\\operatorname{Var}(n, k) = \\frac{n!}{k!} = n \\cdot (n-1) \\cdot \\ldots \\cdot (k + 1),\n",
        "$$\n",
        "entonces esta función se puede implementar fácilmente por la segunda igualdad, sin calcular $n!$ y $k!$:"
      ],
      "metadata": {
        "id": "2oRPjyHSRWc2"
      }
    },
    {
      "cell_type": "code",
      "source": [
        "def var(n, k):\n",
        "    # pre: n, k enteros no negativos, n >= k.\n",
        "    # post: devuelve n! / k!\n",
        "    res = 1\n",
        "    for i in range(k + 1, n + 1):\n",
        "        res = res * i\n",
        "    return res\n",
        "\n",
        "print(var(12,4))\n",
        "import math\n",
        "print(math.factorial(12) // math.factorial(4)) # para incrédulos, lo comprobamos"
      ],
      "metadata": {
        "id": "f4yiYq0ZShDs",
        "colab": {
          "base_uri": "https://localhost:8080/"
        },
        "outputId": "4459639b-2140-4155-ebf1-b464f6856ff9"
      },
      "execution_count": null,
      "outputs": [
        {
          "output_type": "stream",
          "name": "stdout",
          "text": [
            "19958400\n",
            "19958400\n"
          ]
        }
      ]
    },
    {
      "cell_type": "markdown",
      "source": [
        "Para calcular el número combinatorio usaremos la función $\\operatorname{Var}(n, k)$:\n",
        "$$\n",
        "\\binom{n}{m} = \\frac{n!}{(n-m)!m!} =  \\frac{n!}{(n-m)!} \\frac{1}{m!} = \\operatorname{Var}(n, n-m) / m!.\n",
        "$$\n",
        "Como $\\operatorname{Var}(i, 0) = i!$, tenemos:\n",
        "$$\n",
        "\\binom{n}{m} = \\operatorname{Var}(n, n-m) /\\operatorname{Var}(m, 0).\n",
        "$$\n",
        "Entonces, hagamos una implementación del número combinatorio  utilizando solo la función $\\operatorname{Var}$:"
      ],
      "metadata": {
        "id": "FGS8mFoNUekN"
      }
    },
    {
      "cell_type": "code",
      "source": [
        "def combinatorio_var(n, m):\n",
        "    # pre: n >= 0, m >= 0, m <= n\n",
        "    # post: devuelve el valor de n! / (m! * (n-m)!)\n",
        "    return var(n, n - m) // var(m, 0)\n",
        "\n",
        "print(combinatorio_var(30, 20))\n"
      ],
      "metadata": {
        "id": "ifmuBum7VmQ4",
        "colab": {
          "base_uri": "https://localhost:8080/"
        },
        "outputId": "5a418b98-9f5c-4978-a5ce-de2b699125ad"
      },
      "execution_count": null,
      "outputs": [
        {
          "output_type": "stream",
          "name": "stdout",
          "text": [
            "30045015\n"
          ]
        }
      ]
    },
    {
      "cell_type": "code",
      "source": [
        "math.log10(combinatorio_var(10**50, 500))"
      ],
      "metadata": {
        "id": "jv4LBm5BDITg",
        "colab": {
          "base_uri": "https://localhost:8080/"
        },
        "outputId": "27b812a5-60ab-4e6d-ec12-df72c65c3073"
      },
      "execution_count": null,
      "outputs": [
        {
          "output_type": "execute_result",
          "data": {
            "text/plain": [
              "23865.913591464865"
            ]
          },
          "metadata": {},
          "execution_count": 12
        }
      ]
    },
    {
      "cell_type": "markdown",
      "metadata": {
        "id": "Woo98vCf5aPu"
      },
      "source": [
        "## 6. Recursión sobre listas\n",
        "\n",
        "La recursión sobre listas es una técnica de programación que consiste en dividir una lista en sub-listas más pequeñas y resolver el problema en cada una de las sub-listas de forma recursiva.\n",
        "\n",
        "La idea principal para la recusión más sencilla sobre una lista es que una lista se puede dividir en dos partes, la cabeza y la cola, donde la cabeza es el primer elemento de la lista y la cola es el resto de la lista. Luego, el problema se puede resolver aplicando una función recursiva en la cola de la lista y combinando el resultado con la cabeza.\n",
        "\n",
        "Por ejemplo, si se quiere calcular la suma de los elementos de una lista, se puede utilizar la recursión sobre listas para sumar el primer elemento con la suma del resto de los elementos de la lista.\n",
        "\n",
        "Escribamos entonces una función recursiva, `suma_lista()` que tome una lista de enteros y devuelva la suma de todos los enteros en la lista\". Por ejemplo\n",
        "\n",
        "    suma_lista([1, 3, 4, 5, 6])\n",
        "\n",
        "debe devolver `19`. Es decir, el algoritmo debe devolver la sumatoria de todos los elementos de la lista.\n",
        "\n",
        "Sabemos como hacer esto de la manera iterativa:"
      ]
    },
    {
      "cell_type": "code",
      "execution_count": null,
      "metadata": {
        "id": "-Wls-vkV5aPu"
      },
      "outputs": [],
      "source": [
        "def suma_lista_iter(xs):\n",
        "    s = 0\n",
        "    i = 0\n",
        "    while i < len(xs):\n",
        "        s = s + xs[i]\n",
        "        i = i + 1\n",
        "    return s"
      ]
    },
    {
      "cell_type": "markdown",
      "source": [
        "o con un `for`:"
      ],
      "metadata": {
        "id": "8oIcz_fnjrhN"
      }
    },
    {
      "cell_type": "code",
      "source": [
        "def suma_lista_iter(xs):\n",
        "    s = 0\n",
        "    for i in range(len(xs)):\n",
        "        s = s + xs[i]\n",
        "    return s"
      ],
      "metadata": {
        "id": "ow0eK4Rsjuvn"
      },
      "execution_count": null,
      "outputs": []
    },
    {
      "cell_type": "markdown",
      "metadata": {
        "id": "JKTKZVzm5aPu"
      },
      "source": [
        "Sin embargo,  ahora estamos interesados en hacer este programa en forma recursiva. Recordemos que primero debemos hacer el caso cuando la lista tiene longitud 1 y  luego hacer el caso inductivo:"
      ]
    },
    {
      "cell_type": "code",
      "execution_count": null,
      "metadata": {
        "id": "HsEiO_dY5aPv",
        "colab": {
          "base_uri": "https://localhost:8080/"
        },
        "outputId": "754a2feb-1a4a-4ef3-a74a-44a24dc4c59f"
      },
      "outputs": [
        {
          "output_type": "execute_result",
          "data": {
            "text/plain": [
              "19"
            ]
          },
          "metadata": {},
          "execution_count": 63
        }
      ],
      "source": [
        "def suma_lista_rec(xs):\n",
        "    s = 0\n",
        "    if len(xs) == 1:\n",
        "        s = xs[0]\n",
        "    else:\n",
        "        s = xs[0] + suma_lista_rec(xs[1:])\n",
        "    return s\n",
        "\n",
        "suma_lista_rec([1, 3, 4, 5, 6])"
      ]
    },
    {
      "cell_type": "markdown",
      "metadata": {
        "id": "6O65RJPE5aPw"
      },
      "source": [
        "El algoritmo anterior tiene un problema: si tratamos de hacer\n",
        "\n",
        "    suma_lista([])\n",
        "\n",
        "obtenemos un error. Esto se de bebe que cuando en el cuerpo de la función se ingresa al `else` el programa trata de calcular `xs[0]` y ese valor no existe. Una opción es tener cuidado de no ingresar una lista vacía a esta función o cambiar levemente la definición recursiva:"
      ]
    },
    {
      "cell_type": "code",
      "execution_count": null,
      "metadata": {
        "id": "l2Cpoj4B5aPw",
        "colab": {
          "base_uri": "https://localhost:8080/"
        },
        "outputId": "712ef5fe-1f17-4b29-88de-cb3adfccdc7b"
      },
      "outputs": [
        {
          "output_type": "stream",
          "name": "stdout",
          "text": [
            "19\n",
            "0\n"
          ]
        }
      ],
      "source": [
        "def suma_lista_rec(xs):\n",
        "    # pre: xs es lista de números\n",
        "    # post: devuelve la suma de todos los elementos de la lista\n",
        "    assert type(xs) == list, 'el input debe ser una lista'\n",
        "\n",
        "    if len(xs) == 0:\n",
        "        s = 0\n",
        "    else:\n",
        "        s = xs[0] + suma_lista_rec(xs[1:])\n",
        "    return s\n",
        "\n",
        "print(suma_lista_rec([1, 3, 4, 5, 6]))\n",
        "print(suma_lista_rec([]))\n",
        "# suma_lista_rec(5) # genera excepción"
      ]
    }
  ],
  "metadata": {
    "colab": {
      "provenance": []
    },
    "kernelspec": {
      "display_name": "Python 3",
      "name": "python3"
    },
    "language_info": {
      "codemirror_mode": {
        "name": "ipython",
        "version": 3
      },
      "file_extension": ".py",
      "mimetype": "text/x-python",
      "name": "python",
      "nbconvert_exporter": "python",
      "pygments_lexer": "ipython3",
      "version": "3.9.6"
    }
  },
  "nbformat": 4,
  "nbformat_minor": 0
}