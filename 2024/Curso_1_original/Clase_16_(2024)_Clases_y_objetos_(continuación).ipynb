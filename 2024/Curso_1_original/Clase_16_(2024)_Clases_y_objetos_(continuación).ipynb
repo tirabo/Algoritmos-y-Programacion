{
  "cells": [
    {
      "cell_type": "markdown",
      "metadata": {
        "id": "8L6Rn79DPQgi"
      },
      "source": [
        "# Clases y objetos (continuación)\n",
        "\n",
        "Veremos ejemplos de implementaciones de clases"
      ]
    },
    {
      "cell_type": "markdown",
      "metadata": {
        "id": "4MCFgeVOUDc8"
      },
      "source": [
        "\n",
        "## 1. Ejemplo. Rectángulos.\n",
        "\n",
        "Hagamos un ejemplo sencillo, con una clase análoga a `Circulo` de la clase pasada, pero dependiendo de dos variables de estado que representen el ancho y el alto."
      ]
    },
    {
      "cell_type": "code",
      "execution_count": null,
      "metadata": {
        "id": "A7Hm6u9vUOwj"
      },
      "outputs": [],
      "source": [
        "class Rectangulo:\n",
        "# Construye un objeto rectángulo con los lados dados\n",
        "    def __init__(self, ancho = 1, alto = 1):\n",
        "        self.__ancho = ancho\n",
        "        self.__alto = alto\n",
        "    def get_ancho(self):\n",
        "        return self.__ancho\n",
        "    def get_alto(self):\n",
        "        return self.__alto\n",
        "    def get_lados(self):\n",
        "        return (self.__ancho, self.__alto)\n",
        "    def get_perimetro(self):\n",
        "        return 2 * self.__alto + 2 * self.__ancho\n",
        "    def get_area(self):\n",
        "        return self.__alto * self.__ancho\n",
        "    def set_alto(self, alto):\n",
        "        self.__alto = alto\n",
        "    def set_ancho(self, ancho):\n",
        "        self.__ancho = ancho\n",
        "    def __eq__(self, otro):\n",
        "        return set(self.get_lados()) == set(otro.get_lados())\n",
        "    def __str__(self):\n",
        "        # return \"Rectangulo(ancho = {}, alto = {})\".format(self.__ancho, self.__alto)\n",
        "        return \"Rectangulo(\" + str(self.__alto) + ', ' + str(self.__ancho) + \")\""
      ]
    },
    {
      "cell_type": "code",
      "execution_count": null,
      "metadata": {
        "id": "WZSiFAsDVdT7",
        "colab": {
          "base_uri": "https://localhost:8080/"
        },
        "outputId": "1a797547-8bf8-4521-945e-f7ecba0aecec"
      },
      "outputs": [
        {
          "output_type": "stream",
          "name": "stdout",
          "text": [
            "Rectangulo(3, 5)\n",
            "(5, 3)\n",
            "16\n",
            "15\n",
            "(20, 10)\n"
          ]
        }
      ],
      "source": [
        "s = Rectangulo(5, 3)\n",
        "print(s)\n",
        "print(s.get_lados())\n",
        "print(s.get_perimetro())\n",
        "print(s.get_area())\n",
        "s.set_alto(10)\n",
        "s.set_ancho(20)\n",
        "print(s.get_lados())\n"
      ]
    },
    {
      "cell_type": "code",
      "source": [
        "print(s)\n",
        "t = Rectangulo(10, 20)\n",
        "print(t)\n",
        "print(t == s)"
      ],
      "metadata": {
        "id": "rJZKVfdcltKc",
        "colab": {
          "base_uri": "https://localhost:8080/"
        },
        "outputId": "18b4722f-3154-44f0-ac5c-49d6ba0e4005"
      },
      "execution_count": null,
      "outputs": [
        {
          "output_type": "stream",
          "name": "stdout",
          "text": [
            "Rectangulo(10, 20)\n",
            "Rectangulo(20, 10)\n",
            "True\n"
          ]
        }
      ]
    },
    {
      "cell_type": "markdown",
      "metadata": {
        "id": "lo41MOE6V7Sc"
      },
      "source": [
        "## 2. Ejemplo. Clase Personas.\n",
        "\n",
        "Definamos una clase que sirva para almacenar datos de personas."
      ]
    },
    {
      "cell_type": "code",
      "execution_count": null,
      "metadata": {
        "id": "0R-AZeBEV6Nc"
      },
      "outputs": [],
      "source": [
        "class Persona:\n",
        "    def __init__(self, dni = '00000000'):\n",
        "        assert type(dni) == str and dni.isnumeric(), 'El DNI debe ser una cadena de dígitos'\n",
        "        assert 7 <= len(dni) <= 8, 'El DNI debe tener 7 u 8 dígitos'\n",
        "        self.__dni = dni\n",
        "        self.__nombres = ''\n",
        "        self.__apellidos = ''\n",
        "        self.__celular = ''\n",
        "        self.__nacionalidad = ''\n",
        "        self.__nacimiento = ''\n",
        "    def dni(self):\n",
        "        return self.__dni\n",
        "    def nombres(self):\n",
        "        return self.__nombres\n",
        "    def celular(self):\n",
        "        return self.__celular\n",
        "    def nombre_completo(self):\n",
        "        return self.__nombres + ' ' + self.__apellidos\n",
        "    def nacimiento(self):\n",
        "        return self.__nacimiento\n",
        "    def set_nombres(self, nombres):\n",
        "        self.__nombres = str(nombres)\n",
        "    def set_apellidos(self, apellidos):\n",
        "        self.__apellidos = str(apellidos)\n",
        "    def set_celular(self, nro_celular):\n",
        "        self.__celular = str(nro_celular)\n",
        "    def set_fecha_de_nacimiento(self, fecha):\n",
        "        \"\"\"\n",
        "        pre: fecha debe tener el formato DD-MM-AAAA\n",
        "        \"\"\"\n",
        "        self.__nacimiento = fecha\n",
        "    def __str__(self):\n",
        "        return self.__nombres +' '+ self.__apellidos +' (DNI: ' + self.__dni + ')'"
      ]
    },
    {
      "cell_type": "code",
      "execution_count": null,
      "metadata": {
        "id": "1jhDfwX0YLo4",
        "colab": {
          "base_uri": "https://localhost:8080/"
        },
        "outputId": "f0842852-c42b-48f9-a2a2-0937e43e60b3"
      },
      "outputs": [
        {
          "output_type": "stream",
          "name": "stdout",
          "text": [
            "  (DNI: 38678543)\n",
            "Pedro Luis\n",
            "Pedro Luis Ramirez\n",
            "Pedro Luis Ramirez (DNI: 38678543)\n",
            "23-03-1989\n"
          ]
        }
      ],
      "source": [
        "pedro = Persona('38678543')\n",
        "print(pedro)\n",
        "pedro.set_nombres('Pedro Luis')\n",
        "pedro.set_apellidos('Ramirez')\n",
        "pedro.set_fecha_de_nacimiento('23-03-1989')\n",
        "print(pedro.nombres())\n",
        "print(pedro.nombre_completo())\n",
        "print(pedro)\n",
        "print(pedro.nacimiento())"
      ]
    },
    {
      "cell_type": "markdown",
      "source": [
        "## 3. El tipo abstracto pila y  su implementación\n",
        "\n",
        "En ciencias de la computación, un tipo abstracto de datos (TAD) es una especificación matemática de una estructura de datos que define un conjunto de operaciones sobre la estructura sin definir la implementación subyacente. Una pila es un ejemplo común de TAD que se utiliza para almacenar y administrar elementos de datos de una manera específica.\n",
        "\n",
        "Una pila es una estructura de datos que permite almacenar y recuperar elementos en un orden específico llamado \"último en entrar, primero en salir\" (LIFO, por sus siglas en inglés). Es decir, el último elemento que se agrega a la pila es el primero que se elimina de ella. Las operaciones básicas de una pila incluyen la inserción de elementos en la parte superior de la pila (conocida como \"push\"), la eliminación del elemento superior de la pila (conocida como \"pop\"), y la consulta del elemento superior sin eliminarlo (conocida como \"top\" o \"peek\").\n",
        "\n",
        "La utilidad de una pila radica en su capacidad para mantener un seguimiento de los elementos en un orden específico, lo que es especialmente útil en algoritmos que requieren un seguimiento de las llamadas a funciones o de las expresiones en notación polaca inversa. Además, las pilas son útiles para la inversión del orden de una secuencia de elementos, como en la impresión de una cadena en orden inverso, o en la evaluación de expresiones aritméticas en notación polaca inversa.\n",
        "\n",
        "En resumen, una pila es un tipo abstracto de datos que permite almacenar y recuperar elementos en un orden específico LIFO. Su utilidad radica en su capacidad para mantener un seguimiento de los elementos en ese orden específico, lo que es especialmente útil en algoritmos que requieren un seguimiento de las llamadas a funciones o de las expresiones en notación polaca inversa."
      ],
      "metadata": {
        "id": "P47-JlRznp2_"
      }
    },
    {
      "cell_type": "markdown",
      "source": [
        " El tipo abstracto pila se describe de la siguiente manera:\n",
        "- `Stack()` crea una nueva pila que está vacía. No necesita parámetros y devuelve una pila vacía.\n",
        "- `push(item)` agrega un nuevo ítem en el tope de la pila. Es obligatorio el parámetro y no devuelve valor.\n",
        "- `pop()` elimina el ítem en el tope de la pila. No requiere parámetros y devuelve el ítem. La pila se modifica. No se aplica a la pila vacía.\n",
        "- `top()` devuelve el ítem en el tope de la pila pero no lo elimina. No requiere parámetros. La pila no se modifica. No se aplica a la pila vacía.\n",
        "- `is_empty()` comprueba si la pila está vacía: es `True` si la pila está vaciá y `False` si no lo está."
      ],
      "metadata": {
        "id": "XHFgOTH1oN6h"
      }
    },
    {
      "cell_type": "markdown",
      "source": [
        "Podemos implementar el TAD pila con listas de la siguiente manera:"
      ],
      "metadata": {
        "id": "2s8JJPAjpeX0"
      }
    },
    {
      "cell_type": "code",
      "source": [
        "class Stack:\n",
        "    def __init__(self):\n",
        "         self.__items = []\n",
        "\n",
        "    def is_empty(self):\n",
        "         return self.__items == []\n",
        "\n",
        "    def push(self, item):\n",
        "         self.__items.append(item)\n",
        "\n",
        "    def pop(self):\n",
        "         assert len(self.__items) > 0, 'La pila no debe estar vacía'\n",
        "         return self.__items.pop()\n",
        "\n",
        "    def top(self):\n",
        "         assert len(self.__items) > 0, 'La pila no debe estar vacía'\n",
        "         return self.__items[len(self.__items)-1]\n"
      ],
      "metadata": {
        "id": "bMPtsmLppjfD"
      },
      "execution_count": null,
      "outputs": []
    },
    {
      "cell_type": "markdown",
      "source": [
        "Aunque no suela hacerse podemos implementar el  método `__str__` para ir viendo las pilas con las que trabajamos.\n",
        "\n",
        "Pondremos todos los nombres y definiciones en inglés, pues es lo usual."
      ],
      "metadata": {
        "id": "IjMi5MytqbMZ"
      }
    },
    {
      "cell_type": "code",
      "source": [
        "class Stack:\n",
        "    def __init__(self):\n",
        "         self.__items = []\n",
        "\n",
        "    def is_empty(self):\n",
        "         return self.__items == []\n",
        "\n",
        "    def push(self, item):\n",
        "         self.__items.append(item)\n",
        "\n",
        "    def pop(self):\n",
        "         assert len(self.__items) > 0, 'La pila no debe estar vacía'\n",
        "         return self.__items.pop()\n",
        "\n",
        "    def top(self):\n",
        "         assert len(self.__items) > 0, 'La pila no debe estar vacía'\n",
        "         return self.__items[len(self.__items)-1]\n",
        "\n",
        "    def __str__(self):\n",
        "        ret = ''\n",
        "        for item in self.__items:\n",
        "            ret =  '|'+str(item)+'|\\n' + ret\n",
        "        return ret"
      ],
      "metadata": {
        "id": "NBGv0-mcqsP_"
      },
      "execution_count": null,
      "outputs": []
    },
    {
      "cell_type": "markdown",
      "source": [
        "Veamos en un ejemplo como se utiliza la clase pila."
      ],
      "metadata": {
        "id": "Mh4lsfI4rT1N"
      }
    },
    {
      "cell_type": "code",
      "source": [
        "pila = Stack()\n",
        "print(pila)"
      ],
      "metadata": {
        "id": "LaoFv5yXrbjV",
        "colab": {
          "base_uri": "https://localhost:8080/"
        },
        "outputId": "81cf39cf-8d32-472c-d970-2d7e3bc482e1"
      },
      "execution_count": null,
      "outputs": [
        {
          "output_type": "stream",
          "name": "stdout",
          "text": [
            "\n"
          ]
        }
      ]
    },
    {
      "cell_type": "code",
      "source": [
        "pila.push(1)\n",
        "print(pila)"
      ],
      "metadata": {
        "id": "mihqgXgHpuIS",
        "colab": {
          "base_uri": "https://localhost:8080/"
        },
        "outputId": "92a50cff-a96c-49d1-8d8f-44a6320def36"
      },
      "execution_count": null,
      "outputs": [
        {
          "output_type": "stream",
          "name": "stdout",
          "text": [
            "|1|\n",
            "\n"
          ]
        }
      ]
    },
    {
      "cell_type": "code",
      "source": [
        "pila.push(3)\n",
        "print(pila)"
      ],
      "metadata": {
        "id": "z2tDOB1opuUw",
        "colab": {
          "base_uri": "https://localhost:8080/"
        },
        "outputId": "b80e539f-e6dd-473c-cd33-fb86614a9d96"
      },
      "execution_count": null,
      "outputs": [
        {
          "output_type": "stream",
          "name": "stdout",
          "text": [
            "|3|\n",
            "|1|\n",
            "\n"
          ]
        }
      ]
    },
    {
      "cell_type": "code",
      "source": [
        "pila.push(5)\n",
        "print(pila)\n",
        "print(pila.is_empty())"
      ],
      "metadata": {
        "id": "q5acrRCzpufY",
        "colab": {
          "base_uri": "https://localhost:8080/"
        },
        "outputId": "92d4c606-c6fe-43dc-d697-a5699a8c93b5"
      },
      "execution_count": null,
      "outputs": [
        {
          "output_type": "stream",
          "name": "stdout",
          "text": [
            "|5|\n",
            "|3|\n",
            "|1|\n",
            "\n",
            "False\n"
          ]
        }
      ]
    },
    {
      "cell_type": "code",
      "source": [
        "pila = Stack()\n",
        "pila.push(1)\n",
        "pila.push(3)\n",
        "pila.push(5)\n",
        "print(pila)\n",
        "x = pila.pop()\n",
        "print(x)\n",
        "print(pila)\n"
      ],
      "metadata": {
        "colab": {
          "base_uri": "https://localhost:8080/"
        },
        "id": "DFqsGxsasuuA",
        "outputId": "fcfaf01b-d336-42c3-e406-847eeb146c00"
      },
      "execution_count": null,
      "outputs": [
        {
          "output_type": "stream",
          "name": "stdout",
          "text": [
            "|5|\n",
            "|3|\n",
            "|1|\n",
            "\n",
            "5\n",
            "|3|\n",
            "|1|\n",
            "\n"
          ]
        }
      ]
    },
    {
      "cell_type": "code",
      "source": [
        "pila.pop()\n",
        "pila.pop()\n",
        "print('La pila actual:', pila)\n",
        "print(pila.is_empty())"
      ],
      "metadata": {
        "colab": {
          "base_uri": "https://localhost:8080/"
        },
        "id": "5ZUlPDPrqNEz",
        "outputId": "4d0d7248-fd0c-4fc8-b46e-1f493bdfab43"
      },
      "execution_count": null,
      "outputs": [
        {
          "output_type": "stream",
          "name": "stdout",
          "text": [
            "La pila actual: \n",
            "True\n"
          ]
        }
      ]
    },
    {
      "cell_type": "markdown",
      "metadata": {
        "id": "rwiEU81iFrqL"
      },
      "source": [
        "Daremos un ejemplo de la utilidad del TAD pila. Podemos preguntarnos si en una expresión matemática los paréntesis, corchetes y llaves están balanceados y si la expresión es correcta. El problema se resuelve con una pila.  \n",
        "\n",
        "Observar que los paréntesis corchetes y llaves no pueden ser ubicados arbitrariamente: cada símbolo que abre  debe cerrarse y no se pueden intercalar un símbolo de un tipo antes que cierre uno de otro tipo. Por ejemplo\n",
        "```\n",
        "(a + b) * [c * ( d - e)]\n",
        "```\n",
        "es una expresión permitida, mientras que\n",
        "\n",
        "```\n",
        "(a + [b *)  c * ( d - e)]\n",
        "```\n",
        "no lo es. Para verificar la correctitud sintáctica de una expresión necesitamos una pila.\n",
        "\n",
        "Escribamos un algoritmo que revise si los delimitadores (paréntesis, corchetes, llaves) de una expresión dada por una secuencia de caracteres están correctamente ubicados usando el tipo abstracto de datos pila.\n",
        "\n",
        "En la pila se pondrán y quitarán los símbolos `(`, `[` y `{` según la cadena de caracteres de input. La pila comienza vacía y si los caracteres están balanceados debe terminar vacía."
      ]
    },
    {
      "cell_type": "markdown",
      "source": [
        "A continuación se describe un posible algoritmo para realizar esta tarea:\n",
        "\n",
        "1. Crear una pila vacía.\n",
        "\n",
        "2. Recorrer la expresión carácter por carácter:\n",
        "\n",
        "    1. Si el carácter es una apertura de paréntesis, llave o corchete, agregarlo a la pila.\n",
        "    2. Si el carácter es un cierre de paréntesis, llave o corchete:\n",
        "       1. Si la pila está vacía, la expresión no está balanceada.\n",
        "       2. Si el carácter coincide con el tipo de apertura que se encuentra en la cima de la pila, eliminar el elemento de la cima de la pila.\n",
        "       3. Si el carácter no coincide con el tipo de apertura que se encuentra en la cima de la pila, la expresión no está balanceada.\n",
        "\n",
        "3. Si la pila está vacía al final del recorrido de la expresión, la expresión está balanceada. Si la pila no está vacía, la expresión no está balanceada.\n",
        "\n",
        "A partir de esto no es difícil implementar el código:"
      ],
      "metadata": {
        "id": "PdD82kXpAZBy"
      }
    },
    {
      "cell_type": "code",
      "metadata": {
        "id": "Fura7JoYGDHI"
      },
      "source": [
        "def balanceados(cadena: str) -> bool:\n",
        "    \"\"\"\n",
        "    pre: cadena es una str\n",
        "    post: devuelve True si los paréntesis, llaves y corchetes están balanceados.\n",
        "    \"\"\"\n",
        "    bal = True # si no hemos explorado nada todo está balanceado\n",
        "    pila = Stack()\n",
        "    for caracter in cadena:\n",
        "        if caracter == '(' or caracter == '{' or caracter == '[':\n",
        "            pila.push(caracter)\n",
        "        elif caracter == ')' or caracter == '}' or caracter == ']':\n",
        "            if pila.is_empty():\n",
        "                bal = False\n",
        "            elif (caracter == ')' and pila.top() == '(') or (caracter == '}' and pila.top() == '{') or (caracter == ']' and pila.top() == '['):\n",
        "                pila.pop()\n",
        "            else:\n",
        "                bal = False\n",
        "    if not pila.is_empty():\n",
        "        bal = False\n",
        "    return bal"
      ],
      "execution_count": null,
      "outputs": []
    },
    {
      "cell_type": "code",
      "metadata": {
        "id": "N6cwL_zwLPh9",
        "colab": {
          "base_uri": "https://localhost:8080/"
        },
        "outputId": "f9d328a2-b027-4056-ede5-062a6fc3ad83"
      },
      "source": [
        "# Tests\n",
        "print(balanceados('(a + b) * [c * ( d - e)]')) # True\n",
        "print(balanceados('(a + [b *)  c * ( d - e)]')) # False\n",
        "print(balanceados('(a + b ) * c * (] d - e)')) # False\n",
        "print(balanceados('x * ((a + b) * c)')) # True\n",
        "print(balanceados('x * ((a + b)))')) # False\n",
        "print(balanceados('x * [[[a + b]] * y')) # False"
      ],
      "execution_count": null,
      "outputs": [
        {
          "output_type": "stream",
          "name": "stdout",
          "text": [
            "True\n",
            "False\n",
            "False\n",
            "True\n",
            "False\n",
            "False\n"
          ]
        }
      ]
    },
    {
      "cell_type": "markdown",
      "source": [
        "El algorimo anterior tiene el inconveniente de que no se detiene hasta que no termina de recorrer toda la cadena, pese a que se puede detener antes cuando encuentra una pila vacía sin haber terminado el recorrido, o cuando el caracter de cierre no coincide con el de apertura en la cima de la pila. Esto se puede arreglar de dos formas. La primera es agregando `return` en esas ocaciones:"
      ],
      "metadata": {
        "id": "ai0tbAq3FArE"
      }
    },
    {
      "cell_type": "code",
      "source": [
        "def balanceados(cadena: str) -> bool:\n",
        "    \"\"\"\n",
        "    pre: cadena es una str\n",
        "    post: devuelve True si los paréntesis, llaves y corchetes están balanceados.\n",
        "    \"\"\"\n",
        "    pila = Stack()\n",
        "    for caracter in cadena:\n",
        "        if caracter == '(' or caracter == '{' or caracter == '[':\n",
        "            pila.push(caracter)\n",
        "        elif caracter == ')' or caracter == '}' or caracter == ']':\n",
        "            if pila.is_empty():\n",
        "                return False\n",
        "            elif (caracter == ')' and pila.top() == '(') or (caracter == '}' and pila.top() == '{') or (caracter == ']' and pila.top() == '['):\n",
        "                pila.pop()\n",
        "            else:\n",
        "                return False\n",
        "    if not pila.is_empty():\n",
        "        return False\n",
        "    return True"
      ],
      "metadata": {
        "id": "GzCnVCy7F7lY"
      },
      "execution_count": null,
      "outputs": []
    },
    {
      "cell_type": "markdown",
      "source": [
        "La segunda,  más correcta pero más difícil de leer,  con el uso de `while`:"
      ],
      "metadata": {
        "id": "P2K_FWueGQmd"
      }
    },
    {
      "cell_type": "code",
      "source": [
        "def balanceados(cadena: str) -> bool:\n",
        "    \"\"\"\n",
        "    pre: cadena es una str\n",
        "    post: devuelve True si los paréntesis, llaves y corchetes están balanceados.\n",
        "    \"\"\"\n",
        "    bal = True # si no hemos explorado nada todo está balanceado\n",
        "    pila = Stack()\n",
        "    i = 0\n",
        "    while i < len(cadena) and bal == True:\n",
        "        if cadena[i] == '(' or cadena[i] == '{' or cadena[i] == '[':\n",
        "            pila.push(cadena[i])\n",
        "        elif cadena[i] == ')' or cadena[i] == '}' or cadena[i] == ']':\n",
        "            if pila.is_empty():\n",
        "                bal = False\n",
        "            elif (cadena[i] == ')' and pila.top() == '(') or (cadena[i] == '}' and pila.top() == '{') or (cadena[i] == ']' and pila.top() == '['):\n",
        "                pila.pop()\n",
        "            else:\n",
        "                bal = False\n",
        "        i += 1\n",
        "    if not pila.is_empty():\n",
        "        bal = False\n",
        "    return bal"
      ],
      "metadata": {
        "id": "2lZWoheeGaJQ"
      },
      "execution_count": null,
      "outputs": []
    },
    {
      "cell_type": "markdown",
      "source": [
        "Obviamente los tests funcionan de la misma manera:"
      ],
      "metadata": {
        "id": "5v2I7ZFqHIsi"
      }
    },
    {
      "cell_type": "code",
      "source": [
        "# Tests\n",
        "print(balanceados('(a + b) * [c * ( d - e)]')) # True\n",
        "print(balanceados('(a + [b *)  c * ( d - e)]')) # False\n",
        "print(balanceados('(a + b ) * c * (] d - e)')) # False\n",
        "print(balanceados('x * ((a + b) * c)')) # True\n",
        "print(balanceados('x * ((a + b)))')) # False\n",
        "print(balanceados('x * [[[a + b]] * y')) # False"
      ],
      "metadata": {
        "colab": {
          "base_uri": "https://localhost:8080/"
        },
        "id": "LlxZzBEjHNMx",
        "outputId": "18ab5774-902d-4fa6-9740-48f5c458a1c0"
      },
      "execution_count": null,
      "outputs": [
        {
          "output_type": "stream",
          "name": "stdout",
          "text": [
            "True\n",
            "False\n",
            "False\n",
            "True\n",
            "False\n",
            "False\n"
          ]
        }
      ]
    },
    {
      "cell_type": "markdown",
      "metadata": {
        "id": "PItO6omtaO3o"
      },
      "source": [
        "## 4. Ejemplo. Fracciones\n",
        "\n",
        "Otro  ejemplo interesante de definición de clases es el de las fracciones, que llamamos `Racional` por su correspondencia con los números racionales\n",
        "\n",
        "Lo que queremos representar son las fracciones  $\\displaystyle\\frac{a}{b}$ donde $a, b \\in \\mathbb Z$ y $b \\ne 0$. En las fracciones queremos definir igualdad, suma, resta, multiplicación y división.\n",
        "\n",
        "Las variables de estado de la clase `Racional` serán 3: el valor absoluto del numerador,  el valor absoluto del denominador y  el signo de la fracción."
      ]
    },
    {
      "cell_type": "code",
      "execution_count": null,
      "metadata": {
        "id": "xooATxYaaUI2"
      },
      "outputs": [],
      "source": [
        "class Racional:\n",
        "    def __init__(self, num = 0, den = 1):\n",
        "        assert type(num) == type(den) == int and den != 0, 'Error: intento de crear fracción no válida.'\n",
        "        self.__numerador = abs(num)\n",
        "        self.__denominador = abs(den)\n",
        "        self.__signo = 1 if num * den >= 0 else -1\n",
        "    def numerador(self):\n",
        "        return self.__signo * self.__numerador\n",
        "    def denominador(self):\n",
        "        return self.__denominador\n",
        "    # setters, no queremos que racional sea mutable, no hay setters\n",
        "    def __str__(self):\n",
        "        if self.numerador() == 0:\n",
        "            return '0'\n",
        "        elif self.__denominador == 1:\n",
        "            return str(self.numerador())\n",
        "        else:\n",
        "            return str(self.numerador()) + '/' + str(self.denominador())\n",
        "    def __eq__(self, otro) -> bool:\n",
        "        assert isinstance(otro, Racional), 'Error: el parámetro debe ser instancia de Racional.'\n",
        "        return self.numerador() * otro.denominador() == self.denominador() * otro.numerador()\n",
        "    def __add__(self, otro):\n",
        "        assert isinstance(otro, Racional), 'Error: el parámetro debe ser instancia de Racional.'\n",
        "        # a/b + c/d = (a*d + c*b)/(b*d)\n",
        "        numerador = self.numerador() *  otro.denominador() +  otro.numerador() * self.denominador()\n",
        "        denominador = self.denominador() * otro.denominador()\n",
        "        return Racional(numerador, denominador)\n",
        "    def __mul__(self, otro):\n",
        "        assert isinstance(otro, Racional), 'Error: otro debe ser instancia de Racional.'\n",
        "        # a/b * c/d = (a*c)/(b*d)\n",
        "        numerador = self.numerador() * otro.numerador()\n",
        "        denominador = self.denominador() * otro.denominador()\n",
        "        return Racional(numerador, denominador)"
      ]
    },
    {
      "cell_type": "code",
      "execution_count": null,
      "metadata": {
        "id": "EEAnWxhYf9hQ",
        "colab": {
          "base_uri": "https://localhost:8080/"
        },
        "outputId": "82f5f7b6-3832-4d0d-a5b0-6e2495df9a36"
      },
      "outputs": [
        {
          "output_type": "stream",
          "name": "stdout",
          "text": [
            "0\n",
            "1/2\n",
            "2/4\n",
            "-2\n",
            "0\n",
            "1/2\n",
            "2/4\n",
            "8/8\n",
            "-2/6\n",
            "True\n",
            "True\n"
          ]
        }
      ],
      "source": [
        "r1 = Racional()\n",
        "r2 = Racional(1,2)\n",
        "r3 = Racional(-2,-4)\n",
        "r4 = Racional(-2,1)\n",
        "print(r1)\n",
        "print(r2)\n",
        "print(r3)\n",
        "print(r4)\n",
        "r4 = r2 + r3\n",
        "print(r1)\n",
        "print(r2)\n",
        "print(r3)\n",
        "print(r4)\n",
        "r5 = r2 * Racional(2,-3)\n",
        "print(r5)\n",
        "print(Racional(1,2) == Racional(2, 4))\n",
        "print(Racional(1,2) == Racional(-1, -2))"
      ]
    },
    {
      "cell_type": "markdown",
      "metadata": {
        "id": "w4fAQA4k5_Le"
      },
      "source": [
        "Aún faltan métodos, el que hace la resta y el que divide, pero los dejamos para otra ocasión.  Lo  que vamos a agregar a nuestra clase es un método que reduce la fracción a la forma  $\\displaystyle\\frac{a}{b}$  con $\\operatorname{mcd}(a,b) = 1$,  es decir modifica la representación de la fracción original a una representación como fracción reducida. Más aún,  usaremos este método para que todos los resultados se expresen como fracciones reducidas.\n",
        "\n",
        "Algebraicamente para reducir una fracción $\\displaystyle\\frac{a}{b}$ debemos hacer:\n",
        "$$\n",
        "\\frac{a}{b} = \\frac{(a/\\operatorname{mcd}(a,b))}{(b/\\operatorname{mcd}(a,b))}.\n",
        "$$"
      ]
    },
    {
      "cell_type": "code",
      "execution_count": null,
      "metadata": {
        "id": "xQhsT2z_5_Lg"
      },
      "outputs": [],
      "source": [
        "class Racional:\n",
        "    def __init__(self, num = 0, den = 1):\n",
        "        assert type(num) == type(den) == int and den != 0, 'Error: intento de crear fracción no válida.'\n",
        "        num_p, den_p = abs(num), abs(den)\n",
        "        self.__numerador = num_p // Racional.__mcd(num_p, den_p)\n",
        "        self.__denominador = den_p // Racional.__mcd(num_p, den_p)\n",
        "        self.__signo = 1 if num * den >= 0 else -1\n",
        "\n",
        "    def __mcd(a, b: int) -> int: # método oculto para calcular el máximo común divisor de 2 enteros no negativos, b > 0\n",
        "        x, y = min(a, b), max(a, b)\n",
        "        while x != 0: # \"mientras x distinto de 0\"\n",
        "            # invariante: mcd(a, b) == mcd(x, y)\n",
        "            x, y = min(x, y - x), max(x, y - x)\n",
        "        return y\n",
        "\n",
        "    def numerador(self):\n",
        "        return self.__signo * self.__numerador\n",
        "\n",
        "    def denominador(self):\n",
        "        return self.__denominador\n",
        "\n",
        "    def __str__(self):\n",
        "        if self.numerador() == 0:\n",
        "            return '0'\n",
        "        elif self.__denominador == 1:\n",
        "           return str(self.numerador())\n",
        "        else:\n",
        "            return str(self.numerador()) + '/' + str(self.denominador())\n",
        "\n",
        "    def __eq__(self, otro) -> bool:\n",
        "        assert isinstance(otro, Racional), 'Error: el parámetro debe ser instancia de Racional.'\n",
        "        return self.numerador() == otro.numerador() and self.denominador() == otro.denominador()\n",
        "\n",
        "    def __add__(self, otro):\n",
        "        assert isinstance(otro, Racional), 'Error: el parámetro debe ser instancia de Racional.'\n",
        "        # a/b + c/d = (a*d + c*b)/(b*d)\n",
        "        numerador = self.numerador() *  otro.denominador() +  otro.numerador() * self.denominador()\n",
        "        denominador = self.denominador() * otro.denominador()\n",
        "        return Racional(numerador, denominador)\n",
        "\n",
        "    def __mul__(self, otro):\n",
        "        assert isinstance(otro, Racional), 'Error: otro debe ser instancia de Racional.'\n",
        "        # a/b * c/d = (a*c)/(b*d)\n",
        "        numerador = self.numerador() * otro.numerador()\n",
        "        denominador = self.denominador() * otro.denominador()\n",
        "        return Racional(numerador, denominador)"
      ]
    },
    {
      "cell_type": "markdown",
      "metadata": {
        "id": "6kIiVndK5_Lj"
      },
      "source": [
        "Observar que al modificar el método `__init__` de tal forma que la fracción se represente en modo irreducible y al estar bien definidos los métodos, todos los demás métodos trabajan sin problemas con las representaciones irreducibles."
      ]
    },
    {
      "cell_type": "code",
      "execution_count": null,
      "metadata": {
        "id": "fi8fOrOM5_Lk",
        "colab": {
          "base_uri": "https://localhost:8080/"
        },
        "outputId": "0c0f2165-5e13-40fa-f9ef-488d672a066f"
      },
      "outputs": [
        {
          "output_type": "stream",
          "name": "stdout",
          "text": [
            "0\n",
            "1/2\n",
            "1/2\n",
            "-2\n",
            "0\n",
            "1/2\n",
            "1/2\n",
            "1\n",
            "-1/3\n",
            "True\n",
            "True\n"
          ]
        }
      ],
      "source": [
        "r1 = Racional()\n",
        "r2 = Racional(1,2)\n",
        "r3 = Racional(-2,-4)\n",
        "r4 = Racional(-2,1)\n",
        "print(r1)\n",
        "print(r2)\n",
        "print(r3)\n",
        "print(r4)\n",
        "r4 = r2 + r3\n",
        "print(r1)\n",
        "print(r2)\n",
        "print(r3)\n",
        "print(r4)\n",
        "r5 = r2 * Racional(2,-3)\n",
        "print(r5)\n",
        "print(Racional(1,2) == Racional(2, 4))\n",
        "print(Racional(1,2) == Racional(-1, -2))"
      ]
    },
    {
      "cell_type": "markdown",
      "metadata": {
        "id": "Z9wJ8lsv5_Lm"
      },
      "source": [
        "Finalmente,  notemos que es posible definir métodos en la clase que no tienen como primer parámetro `self`. Estos métodos no son de cada instancia sino  de la clase misma y deben ser invocados de la siguiente manera\n",
        "\n",
        "```\n",
        "Nombre_de_la_clase.nombre_del_metodo(parámetros ...)\n",
        "```\n",
        "\n",
        "Si el comienzo del nombre de un método es `__` (dos guiones bajos) el método solo puede ser usado en el cuerpo de la definición de la clase,  es decir es un método privado."
      ]
    },
    {
      "cell_type": "code",
      "source": [
        "# Racional.__mcd(6,15) # descomentar esta línea resulta en un error."
      ],
      "metadata": {
        "id": "i_csGEot2Nrv"
      },
      "execution_count": null,
      "outputs": []
    }
  ],
  "metadata": {
    "colab": {
      "provenance": []
    },
    "kernelspec": {
      "display_name": "Python 3",
      "name": "python3"
    },
    "language_info": {
      "codemirror_mode": {
        "name": "ipython",
        "version": 3
      },
      "file_extension": ".py",
      "mimetype": "text/x-python",
      "name": "python",
      "nbconvert_exporter": "python",
      "pygments_lexer": "ipython3",
      "version": "3.9.6"
    }
  },
  "nbformat": 4,
  "nbformat_minor": 0
}