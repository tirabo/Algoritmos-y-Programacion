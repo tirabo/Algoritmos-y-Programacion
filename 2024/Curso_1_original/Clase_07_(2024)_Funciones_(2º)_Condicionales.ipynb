{
  "cells": [
    {
      "cell_type": "markdown",
      "source": [
        "# Funciones (2º parte)"
      ],
      "metadata": {
        "id": "fvph1eSinuIG"
      }
    },
    {
      "cell_type": "markdown",
      "metadata": {
        "id": "g9IXxYHPlbWI"
      },
      "source": [
        "## 12. Ejemplo: conversión de formatos de grados (revisado)\n",
        "\n",
        "Hemos visto en la clase anterior la conversión de grados sexagesimales a grados decimales y viceversa.\n",
        "\n",
        "En  general, una función en un programa es una pequeña parte de una larga secuencia de instrucciones y funciones que se conectan y donde los resultados de una parte del programa se reutilizan en otra parte del programa. Es por eso que en general no tiene utilidad imprimir los valores que se obtienen de una función. Lo  que se debe hacer es devolver los valores con un `return`.\n",
        "\n",
        "Repasemos las dos funciones."
      ]
    },
    {
      "cell_type": "code",
      "execution_count": null,
      "metadata": {
        "id": "fjWBKR0glbWI"
      },
      "outputs": [],
      "source": [
        "def sexa_a_deci(grados: int , minutos: int , segundos: float) -> float:\n",
        "    # pre: 0 <= grados, 0 <= minutos < 60, 0 <= segundos < 60\n",
        "    # post: devuelve el ángulo en grados sexagesimales en notación decimal\n",
        "    return grados + minutos / 60 + segundos / 3600"
      ]
    },
    {
      "cell_type": "markdown",
      "metadata": {
        "id": "cJj1RTPAlbWI"
      },
      "source": [
        "Análogamente hacemos la conversión de grados decimales a sexagesimales:"
      ]
    },
    {
      "cell_type": "code",
      "execution_count": null,
      "metadata": {
        "id": "n8GBaw27lbWJ"
      },
      "outputs": [],
      "source": [
        "import math\n",
        "\n",
        "def deci_a_sexa(pos: float) -> tuple:\n",
        "    # pre: pos son grados en notación decimal, pos >= 0\n",
        "    # post:  devuelve pos en una 3-upla grados, minutos, segundos\n",
        "    grados = math.floor(pos)\n",
        "    resto = pos - grados\n",
        "    minutos = math.floor(resto * 60)\n",
        "    resto = resto * 60 - minutos\n",
        "    segundos = 60 * resto\n",
        "    return (grados, minutos, segundos)\n",
        "\n"
      ]
    },
    {
      "cell_type": "markdown",
      "metadata": {
        "id": "g-jRBzSMlbWJ"
      },
      "source": [
        "Esta última función devuelve una 3-upla con (grados, minutos, segundos) sexagesimales. Veremos el tipo tupla de Python en las próximas clases.\n",
        "\n",
        "El  tener funciones  que devuelven valor nos da una herramienta poderosa para contruir programas complejos.\n",
        "\n",
        "Veamos un ejemplo, no muy complicado,  del uso de estas funciones: recordemos que sumar grados sexagesimales,  aunque es algorítmico,  no se basa en un algoritmo muy sencillo. Un  forma sencilla de sumar dos ángulos en grados sexagesimales es  hacer la conversión a decimal, sumar y  el resultado convertirlo a sexagesimal.\n",
        "\n",
        "Sumemos 33° 23' 52'' y 77° 45' 12'':"
      ]
    },
    {
      "cell_type": "code",
      "execution_count": null,
      "metadata": {
        "id": "srb2AhJrlbWJ",
        "colab": {
          "base_uri": "https://localhost:8080/"
        },
        "outputId": "59b0cd54-8ea6-481a-e989-4d514cb79169"
      },
      "outputs": [
        {
          "output_type": "stream",
          "name": "stdout",
          "text": [
            "(111, 9, 3.9999999999827196)\n"
          ]
        }
      ],
      "source": [
        "ang1 = sexa_a_deci(33, 23, 52)\n",
        "ang2 = sexa_a_deci(77, 45, 12)\n",
        "ang = ang1 + ang2 # se suman grados decimales\n",
        "suma_sexa = deci_a_sexa(ang)\n",
        "print(suma_sexa)"
      ]
    },
    {
      "cell_type": "markdown",
      "metadata": {
        "id": "dIkC74lm2yIf"
      },
      "source": [
        "## 13. ¿Por qué funciones?\n",
        "\n",
        "Puede que no quede claro por qué vale la pena dividir un programa en funciones. Hay varias razones:\n",
        "\n",
        "- La creación de una nueva función te brinda la oportunidad de nombrar a un grupo de declaraciones, lo que hace que tu programa sea más fácil de leer y depurar.\n",
        "\n",
        "- Las funciones pueden hacer que un programa sea más pequeño al eliminar el código repetitivo. Posteriormente, si se realiza algún cambio, solo se debe hacer en un lugar.\n",
        "\n",
        "- Dividir un programa largo en funciones te permite depurar las partes de una en una y luego ensamblarlas en un todo funcional.\n",
        "\n",
        "- Las funciones bien diseñadas suelen ser útiles para muchos programas. Una vez que escribas y depures una, podés reutilizarla."
      ]
    },
    {
      "cell_type": "markdown",
      "metadata": {
        "id": "C3-Ti_9J22Lq"
      },
      "source": [
        "## 14. Depuración\n",
        "\n",
        "Una de las habilidades más importantes que adquirirás es la depuración. Aunque puede resultar frustrante, la depuración es una de las partes de la programación más interesantes, desafiantes e intelectualmente más enriquecedoras.\n",
        "\n",
        "De alguna manera, la depuración es como un trabajo de detective. Te enfrentás a pistas y tenés que inferir los procesos y eventos que llevaron a los resultados que ves.\n",
        "\n",
        "La depuración también es como una ciencia experimental. Una vez que tengas una idea de lo que va mal, modificá tu programa y volvé a intentarlo. Si tu hipótesis era correcta, podés predecir el resultado de la modificación y dar un paso más hacia un programa que funcione. Si tu hipótesis fue incorrecta, debés idear una nueva. Como señaló Sherlock Holmes:\n",
        "\n",
        "*Cuando hayas eliminado lo imposible, lo que quede, por improbable que sea, debe ser la verdad.*\n",
        "\n",
        "(A. Conan Doyle, El signo de los cuatro)\n",
        "\n",
        "Para algunas personas, programar y depurar son lo mismo. Es decir, la programación es el proceso de depurar gradualmente un programa hasta que hace lo que se desea. La idea es que debe comenzar con un programa que funcione y hacer pequeñas modificaciones, depurándolas a medida que se avanza."
      ]
    },
    {
      "cell_type": "markdown",
      "metadata": {
        "id": "a_zPZuG7lbWK"
      },
      "source": [
        "## 15. Signatura\n",
        "\n",
        "La signatura o firma de una función define su entrada y su salida. Incluye por lo menos el nombre de la función y el número de sus parámetros. En algunos lenguajes de programación, puede incluir el tipo que devuelve la función o el tipo de sus parámetros.\n",
        "\n",
        "Por ejemplo, la signatura de la función que vimos antes:\n",
        "```\n",
        "def imprimir_4_veces_v2(nombre):\n",
        "    for _ in range(4):\n",
        "        print(nombre)\n",
        "```\n",
        "es su nombre `imprimir_4_veces_v2` y que admite un parámetro. Aunque no está aclarado y el lenguage no exige aclararlo en forma explícita,  nosotros estamos pensando en que ese parámetro sea una cadena.\n",
        "\n",
        "En Python,  como ya vimos, no es obligatorio declarar los tipos de los parámetros y el tipo del valor que se devuelve en el caso de las funciones que devuelven valor. Sin embargo,  es una buena práctica y está permitido realizar anotaciones explicitando los tipos de todos los parámetros y valores. Veamos, por ejemplo, la función que ingresa dos parámetros, la base y la altura de un triángulo, números reales, y nos devuelve el área del triángulo, otro número real."
      ]
    },
    {
      "cell_type": "code",
      "execution_count": null,
      "metadata": {
        "id": "sg5IwjnhlbWL"
      },
      "outputs": [],
      "source": [
        "def area_triángulo(base, altura):\n",
        "    area = base * altura / 2\n",
        "    return area"
      ]
    },
    {
      "cell_type": "markdown",
      "metadata": {
        "id": "MtiX5NNxlbWL"
      },
      "source": [
        "La función anterior es perfectamente funcional y sirve a nuestro propósitos, pero si explicitamos su signatura es mucha más clara para el usuario:"
      ]
    },
    {
      "cell_type": "code",
      "execution_count": null,
      "metadata": {
        "id": "2FMtLcKslbWL"
      },
      "outputs": [],
      "source": [
        "def area_triángulo(base, altura: float) -> float:\n",
        "    area = base * altura / 2\n",
        "    return area"
      ]
    },
    {
      "cell_type": "markdown",
      "metadata": {
        "id": "PRctQ8zPlbWM"
      },
      "source": [
        "Una vez explicitada la signatura, Python no controla que la misma se satisfaga. La signatura explícita es simplemente una notación que ayuda al programador a no cometer errores."
      ]
    },
    {
      "cell_type": "markdown",
      "metadata": {
        "id": "ckUuJzhHlbWM"
      },
      "source": [
        "## 16. Precondiciones y postcondiciones\n",
        "\n",
        "Cuando definimos una función además de la signatura hay otras dos anotaciones importantes que veremos ahora:\n",
        "- Una *precondición* de la función es algo que debe ser cierto al comienzo de la función para que esta funcione correctamente.\n",
        "- Una *postcondición* es algo que la función garantiza que es cierto cuando ella termina.\n",
        "\n",
        "Parte de la precondición puede ser la signatura explícita, pero no siempre es así:\n"
      ]
    },
    {
      "cell_type": "code",
      "execution_count": null,
      "metadata": {
        "id": "XmkqNHbSlbWM"
      },
      "outputs": [],
      "source": [
        "def area_triangulo(base, altura: float) -> float:\n",
        "    assert type(base) == type(altura) == float, \"Los argumentos deben ser números decimales\"\n",
        "    assert base > 0 and altura > 0,'La altura y la base deben ser > 0'\n",
        "    # pre:  base, altura > 0\n",
        "    # post: devuelve area, la superficie de un triángulo de base base y altura altura\n",
        "    area = base * altura / 2\n",
        "    return area"
      ]
    },
    {
      "cell_type": "markdown",
      "metadata": {
        "id": "H_QYNFCZlbWN"
      },
      "source": [
        "Las precondiciones y postcondiciones pueden ser formales o coloquiales y su objetivo es ayudar al programador que está leyendo el código a entender que prerequisitos tiene la función y qué es lo que hace.  \n",
        "\n",
        "Introdujimos la función `assert` que permite chequear, usualmente en parte,  si las precondiciones, o cualquier afirmación, se cumplen.\n",
        "\n",
        "A partir de ahora, al definir funciones, usaremos continuamente las anotaciones corespondientes a signaturas, precondiciones y postcondiciones. Con esta metodología el código es más \"largo\" pero mucho más legible."
      ]
    },
    {
      "cell_type": "markdown",
      "source": [
        "La instrucción `assert` tiene el siguiente formato:\n",
        "\n",
        "\n",
        "```\n",
        "assert <condición>, \"Mensaje de error\"\n",
        "```\n",
        "Cuando esta instrucción se ejecuta verifica que se cumpla la condición y en caso de no cumplirse el programa lanza una excepción (error) y devuelve el mensaje que hemos puesto.\n",
        "\n",
        "Probemos, por ejemplo,  la función definida más arriba con alguna coordenada entera (no  `float`):\n",
        "\n",
        "\n",
        "\n"
      ],
      "metadata": {
        "id": "nmU1W_VVor3w"
      }
    },
    {
      "cell_type": "code",
      "source": [
        "area_triangulo(5, 3.0)"
      ],
      "metadata": {
        "id": "rpmV6jgWpmm0"
      },
      "execution_count": null,
      "outputs": []
    },
    {
      "cell_type": "markdown",
      "source": [
        "Esto nos dice que el `assert` (y  la signatura) no es el que deberíamos haber puesto. Una formas de arreglar esto es agregar los  `int` como admisibles:"
      ],
      "metadata": {
        "id": "VBCcQJsTqHAY"
      }
    },
    {
      "cell_type": "code",
      "source": [
        "def area_triangulo(base, altura) -> float:\n",
        "    assert (type(base) == float or type(base) == int) and (type(altura) == float or type(altura) == int), \"Los argumentos deben ser números\"\n",
        "    assert base > 0 and altura > 0,'La altura y la base deben ser > 0'\n",
        "    # pre:  base, altura > 0\n",
        "    # post: devuelve area, la superficie de un triángulo de base base y altura altura\n",
        "    area = base * altura / 2\n",
        "    return area\n",
        "\n",
        "area_triangulo(5, 3.0)"
      ],
      "metadata": {
        "id": "p7rpmT7bq-aP",
        "colab": {
          "base_uri": "https://localhost:8080/"
        },
        "outputId": "5a5e1971-682b-4354-8016-015e7e37aea6"
      },
      "execution_count": null,
      "outputs": [
        {
          "output_type": "execute_result",
          "data": {
            "text/plain": [
              "7.5"
            ]
          },
          "metadata": {},
          "execution_count": 16
        }
      ]
    },
    {
      "cell_type": "markdown",
      "source": [
        "Se puede simplificar un poco el `assert` usando conjuntos:"
      ],
      "metadata": {
        "id": "dI3UtHkDrkbM"
      }
    },
    {
      "cell_type": "code",
      "source": [
        "def area_triangulo(base, altura) -> float:\n",
        "    assert type(base) in {float, int} and type(altura) in {float, int}, \"Los argumentos deben ser números\"\n",
        "    assert base > 0 and altura > 0,'La altura y la base deben ser > 0'\n",
        "    # pre:  base, altura > 0\n",
        "    # post: devuelve area, la superficie de un triángulo de base base y altura altura\n",
        "    area = base * altura / 2\n",
        "    return area\n",
        "\n",
        "area_triangulo(5, 3)"
      ],
      "metadata": {
        "id": "0-Nb7EUDr0ep",
        "colab": {
          "base_uri": "https://localhost:8080/"
        },
        "outputId": "70294b21-a73f-46ae-d6f0-8587963393f0"
      },
      "execution_count": null,
      "outputs": [
        {
          "output_type": "execute_result",
          "data": {
            "text/plain": [
              "7.5"
            ]
          },
          "metadata": {},
          "execution_count": 17
        }
      ]
    },
    {
      "cell_type": "markdown",
      "metadata": {
        "id": "cOYLJzZBlbWO"
      },
      "source": [
        "## 17.  El ángulo comprendido entre dos vectores\n",
        "Definiremos ahora una función que nos permitirá encontrar el ángulo comprendido entre dos vectores de $\\mathbb R^2$.  \tEl  *producto escalar* o *producto interno canónico* en $\\mathbb R^2$ se define\n",
        "\\begin{equation*}\n",
        "\\langle v_1 | v_2 \\rangle :=x_1x_2 + y_1y_2,\n",
        "\\end{equation*}\n",
        "donde  $v_1= (x_1,y_1)$ y $v_2= (x_2,y_2)$.\n",
        "\n",
        "Veremos más abajo  que\n",
        "\\begin{equation*}\n",
        "\\langle v_1 | v_2 \\rangle = ||v_1||\\, ||v_2|| \\cos(\\theta)\n",
        "\\end{equation*}\n",
        "donde  $||v_1||$ y  $||v_2||$ denotan las longitudes de $v_1$ y $v_2$ respectivamente y $\\theta$ es el ángulo comprendido entre $v_1$ y $v_2$.\n",
        "\n",
        "\n",
        "Definamos la función producto escalar en Python.\n"
      ]
    },
    {
      "cell_type": "code",
      "execution_count": null,
      "metadata": {
        "id": "-b5eCJG8lbWP"
      },
      "outputs": [],
      "source": [
        "def producto_escalar(v1, v2: tuple) -> float:\n",
        "    assert len(v1) == len(v2), \"Los vectores tienen distinta dimensión\"\n",
        "    assert all(type(x) == float or type(x) == int for x in v1) and all(type(x) == float or type(x) == int for x in v2) , \"Los argumentos deben ser números\"\n",
        "    # pre: v1, v2 son vectores numéricos de la misma dimensión\n",
        "    # post: devuelve el producto escalar de v1 y v2\n",
        "    producto = 0\n",
        "    for i in range(len(v1)):\n",
        "        producto += v1[i] * v2[i]\n",
        "    return producto"
      ]
    },
    {
      "cell_type": "markdown",
      "metadata": {
        "id": "0CJnixuUlbWP"
      },
      "source": [
        "Lo anterior es una generalización del producto escalar de $\\mathbb R^2$  a cualquier dimensión. Veamos como es su uso:"
      ]
    },
    {
      "cell_type": "code",
      "execution_count": null,
      "metadata": {
        "id": "1dWhw9JClbWP",
        "colab": {
          "base_uri": "https://localhost:8080/"
        },
        "outputId": "91ebaeda-3844-4a30-fb23-73fb2a4a7a99"
      },
      "outputs": [
        {
          "output_type": "execute_result",
          "data": {
            "text/plain": [
              "14"
            ]
          },
          "metadata": {},
          "execution_count": 19
        }
      ],
      "source": [
        "v1, v2 = (1, 2), (4, 5)\n",
        "producto_escalar(v1, v2) # 1*4 + 2*5 = 14"
      ]
    },
    {
      "cell_type": "markdown",
      "metadata": {
        "id": "4i8_LN1glbWQ"
      },
      "source": [
        "\n",
        "Si $v = (x,y)$, entonces, por el  teorema de Pitágoras, la longitud de $v$ es igual a $\\sqrt{x^2+y^2}$.  Luego\n",
        "$$\n",
        "||v||^2 = {x^2+y^2} = \\langle v | v \\rangle.\n",
        "$$\n",
        "Es decir, *el producto escalar de un vector consigo mismo es la longitud del  vector al cuadrado.*\n",
        "\n",
        "Sean   $v_1= (x_1,y_1)$ y $v_2= (x_2,y_2)$ en $\\mathbb R^2$ y  sea $\\alpha_1$ el ángulo comprendido  entre $v_1$ y el eje horizontal y $\\alpha_2$ el ángulo comprendido  entre $v_2$ y el eje horizontal.  Entonces,\n",
        "\\begin{equation*}\n",
        "v_1 = ||v_1||(\\cos (\\alpha_1), \\sin(\\alpha_1) ), \\quad v_2 = ||v_2||(\\cos (\\alpha_2), \\sin(\\alpha_2) ),\n",
        "\\end{equation*}\n",
        "por lo tanto\n",
        "\\begin{equation*}\n",
        "\\langle v_1 | v_2 \\rangle =  ||v_1|| \\,  ||v_2|| (\\cos (\\alpha_1)\\cos(\\alpha_2)+  \\sin(\\alpha_1)\\sin\\alpha_2)).\n",
        "\\end{equation*}\n",
        "Por otro  lado, por la propiedad de la suma de los cosenos tenemos que\n",
        "\\begin{equation*}\n",
        "\\cos (\\alpha_1)\\cos(\\alpha_2)+  \\sin(\\alpha_1)\\sin(\\alpha_2) = \\cos(\\alpha_1- \\alpha_2).\n",
        "\\end{equation*}\n",
        "Es decir,\n",
        "\\begin{equation*}\n",
        "\\langle v | w \\rangle =   ||v_1|| \\,  ||v_2|| \\cos (\\alpha_1-\\alpha_2),\n",
        "\\end{equation*}\n",
        "y precisamente, el ángulo comprendido entre  $v$ y $w$ es $\\theta =  \\alpha_1-\\alpha_2$. Luego,\n",
        "\\begin{equation*}\n",
        "\t\\theta = \\arccos\\left(\\frac{\\langle v | w \\rangle}{ ||v_1|| \\,  ||v_2||}\\right).\n",
        "\\end{equation*}\n",
        "Es decir, el producto escalar no sólo es útil para encontrar la longitud de un vector, sino que nos permite averiguar el ángulo comprendido entre dos vectores.\n",
        "\n",
        "En particular, si $v_1$ y $v_2$ se encuentran en la circunferencia de radio $r$, obtenemos\n",
        "\\begin{equation}\n",
        "\\theta = \t\\operatorname{arcos}\\left(\\frac{\\langle v_1 | v_2 \\rangle}{r^2}\\right). \\tag{2}\n",
        "\\end{equation}  \n"
      ]
    },
    {
      "cell_type": "markdown",
      "metadata": {
        "id": "SBt4ZVdXlbWQ"
      },
      "source": [
        "\n",
        "\n",
        "La ley esférica de los cosenos nos permite demostrar una fórmula idéntica en el caso que ambos vectores se encuentren en $\\mathbb R^n$ con $n \\ge 2$.\n",
        "\n",
        "Definamos entonces la función que nos permite encontra el ángulo comprendido entre dos vectores:\n"
      ]
    },
    {
      "cell_type": "code",
      "execution_count": null,
      "metadata": {
        "id": "jrij57dilbWR"
      },
      "outputs": [],
      "source": [
        "def angulo_comprendido(v1, v2: tuple) -> float:\n",
        "    assert len(v1) == len(v2), \"los vectores tienen distinta dimensión\"\n",
        "    assert all(type(x) == float or type(x) == int for x in v1) and all(type(x) == float or type(x) == int for x in v2) , \"Los argumentos deben ser números\"\n",
        "    # pre: v1, v2 son vectores numéricos de la misma dimensión\n",
        "    # post: devuelve el ángulo comprendido entre v1 y v2\n",
        "    angulo = acos(producto_escalar(v1, v2) / (sqrt(producto_escalar(v1, v1)) * sqrt(producto_escalar(v2, v2))))\n",
        "    return angulo"
      ]
    },
    {
      "cell_type": "markdown",
      "metadata": {
        "id": "PdzsOy3ClbWR"
      },
      "source": [
        "Probemos la definición con algunos ejemplos:"
      ]
    },
    {
      "cell_type": "code",
      "execution_count": null,
      "metadata": {
        "id": "mAZtDR07lbWR",
        "colab": {
          "base_uri": "https://localhost:8080/"
        },
        "outputId": "613f5282-b1c1-450e-decb-2fdf40a269e7"
      },
      "outputs": [
        {
          "output_type": "stream",
          "name": "stdout",
          "text": [
            "12.094757077012119\n",
            "90.0\n",
            "45.00000000000001\n"
          ]
        }
      ],
      "source": [
        "from math import * # importa la biblioteca o módulo de matemática\n",
        "\n",
        "v1, v2 = (1, 2), (4, 5)\n",
        "ang = angulo_comprendido(v1, v2)\n",
        "print(ang * 180 / pi)\n",
        "\n",
        "v1, v2 = (1, 0), (0, 5)\n",
        "ang = angulo_comprendido(v1, v2)\n",
        "print(ang * 180 / pi)\n",
        "\n",
        "v1, v2 = (1, 0), (1, 1)\n",
        "ang = angulo_comprendido(v1, v2)\n",
        "print(ang * 180 / pi)\n"
      ]
    },
    {
      "cell_type": "markdown",
      "metadata": {
        "id": "RaWgUaPviYMW"
      },
      "source": [
        "# Condicionales\n",
        "\n",
        "Aunque este tema ya ha sido  parcialmente estudiado,  aqui lo presentamos en foma sistemática y más formalmente.\n",
        "\n",
        "\n",
        "## 1. Expresiones booleanas\n",
        "\n",
        "Una expresión booleana es una expresión verdadera o falsa. Los siguientes ejemplos usan el operador `==`, que compara dos operandos y produce `True` si son iguales y `False` en caso contrario:\n",
        "\n",
        "\n"
      ]
    },
    {
      "cell_type": "code",
      "execution_count": null,
      "metadata": {
        "id": "LEzLpZx18jw3",
        "colab": {
          "base_uri": "https://localhost:8080/"
        },
        "outputId": "05e8adad-15e5-482a-ec45-fb8bee5ef567"
      },
      "outputs": [
        {
          "output_type": "stream",
          "name": "stdout",
          "text": [
            "True\n",
            "False\n"
          ]
        }
      ],
      "source": [
        "print(5 == 5)\n",
        "print(5 == 6)"
      ]
    },
    {
      "cell_type": "markdown",
      "metadata": {
        "id": "vPMbctm3ugjk"
      },
      "source": [
        "`True` y` False` son valores especiales que pertenecen al tipo `bool`; no son cadenas:"
      ]
    },
    {
      "cell_type": "code",
      "execution_count": null,
      "metadata": {
        "id": "QOJwbsDqj4jm",
        "colab": {
          "base_uri": "https://localhost:8080/"
        },
        "outputId": "5a0294e9-fedb-4a8d-ffd0-942c869c8379"
      },
      "outputs": [
        {
          "output_type": "execute_result",
          "data": {
            "text/plain": [
              "bool"
            ]
          },
          "metadata": {},
          "execution_count": 26
        }
      ],
      "source": [
        "type(True)"
      ]
    },
    {
      "cell_type": "code",
      "execution_count": null,
      "metadata": {
        "id": "7McHB0naj4vA",
        "colab": {
          "base_uri": "https://localhost:8080/"
        },
        "outputId": "c2f8bda7-f949-479b-9609-c0ead27eefa0"
      },
      "outputs": [
        {
          "output_type": "execute_result",
          "data": {
            "text/plain": [
              "bool"
            ]
          },
          "metadata": {},
          "execution_count": 25
        }
      ],
      "source": [
        "type(False)"
      ]
    },
    {
      "cell_type": "markdown",
      "metadata": {
        "id": "G5kDjT7Cugjn"
      },
      "source": [
        "El tipo `bool` es muy especial: solo contiene dos valores `True` y `False`."
      ]
    },
    {
      "cell_type": "markdown",
      "metadata": {
        "id": "6yOQWxxU8j7Y"
      },
      "source": [
        "\n",
        "El operador `==` es uno de los *operadores relacionales*. La siguiente es la lista de todos los operadores relacionales:\n",
        "\n",
        "```\n",
        "    x == y # x es igual a y\n",
        "    x != y # x no es igual a y\n",
        "    x > y # x es mayor que y\n",
        "    x < y # x es menor que y\n",
        "    x >= y # x es mayor o igual que y\n",
        "    x <= y # x es menor o igual que y\n",
        "```\n",
        "Aunque estas operaciones probablemente le resulten familiares, a veces el uso de los símbolos en Python es diferente al uso en la matemática. Un error común es usar un solo signo igual (`=`) en lugar de un doble signo igual (`==`). Recordá que `=` es un operador de asignación y `==` es un operador relacional. No existe tal cosa como `=<` o `=>`."
      ]
    },
    {
      "cell_type": "markdown",
      "metadata": {
        "id": "CMAp1edElB_R"
      },
      "source": [
        "## 2. Operadores lógicos\n",
        "\n",
        "Los operadores lógicos toman sentencias lógicas escritas en Python (que pueden ser `True` o `False`) y hacen operaciones lógicas.\n",
        "\n",
        "Los operadores lógicos son:\n",
        "\n",
        "- `p and q`: es $p \\wedge q$ y devuelve `True` si `p` y `q` son `True`.\n",
        "- `p or q`: es $p \\vee q$ y devuelve `True` si `p` es `True`  o `q` es `True`\n",
        "- `not p`: es $\\neg p$ y devuelve `True` si `p` es `False`.\n",
        "\n",
        "No existe `p` implica `q`  u otros operadores lógicos. Solo los de arriba y estos nos permiten escribir todos los operadores lógicos, por ejemplo:\n",
        "\n",
        "- `not p or q` es $(\\neg p) \\vee q$ y es equivalente a  `p` implica `q` ($p ⇒q$) y  solo devuelve `False` cuando `p` es `True` y `q` es `False`.\n",
        "\n",
        "Corramos los siguiente ejemplos:"
      ]
    },
    {
      "cell_type": "code",
      "execution_count": null,
      "metadata": {
        "id": "gqomZVL2mqX9",
        "colab": {
          "base_uri": "https://localhost:8080/"
        },
        "outputId": "786ee9f9-000d-4fd7-c1c4-462eeee8965c"
      },
      "outputs": [
        {
          "output_type": "stream",
          "name": "stdout",
          "text": [
            "<class 'bool'> <class 'bool'> <class 'bool'> <class 'bool'>\n",
            "p : True \n",
            "q : True \n",
            "r : False \n",
            "t : False\n"
          ]
        }
      ],
      "source": [
        "x, y, z = 1, -2, 2\n",
        "p = x > 0\n",
        "q = y < 0\n",
        "r = z < 0\n",
        "t = y > 0\n",
        "print(type(p), type(q), type(r), type(t))\n",
        "print('p :', p,'\\nq :', q,'\\nr :', r,'\\nt :', t)"
      ]
    },
    {
      "cell_type": "code",
      "execution_count": null,
      "metadata": {
        "id": "bR7a9L8dnRbQ",
        "colab": {
          "base_uri": "https://localhost:8080/"
        },
        "outputId": "06a25d6e-a994-4975-8671-66679c02d79d"
      },
      "outputs": [
        {
          "output_type": "execute_result",
          "data": {
            "text/plain": [
              "True"
            ]
          },
          "metadata": {},
          "execution_count": 28
        }
      ],
      "source": [
        "p and q"
      ]
    },
    {
      "cell_type": "code",
      "execution_count": null,
      "metadata": {
        "id": "RR4OAM1XnRiQ",
        "colab": {
          "base_uri": "https://localhost:8080/"
        },
        "outputId": "2927e45f-dbbe-4113-9bd0-f17936655e3c"
      },
      "outputs": [
        {
          "output_type": "execute_result",
          "data": {
            "text/plain": [
              "False"
            ]
          },
          "metadata": {},
          "execution_count": 29
        }
      ],
      "source": [
        "p and r"
      ]
    },
    {
      "cell_type": "code",
      "execution_count": null,
      "metadata": {
        "id": "nY_-OJ07nRqw",
        "colab": {
          "base_uri": "https://localhost:8080/"
        },
        "outputId": "44e69a37-0594-4757-dbcb-f354b7a2dd16"
      },
      "outputs": [
        {
          "output_type": "execute_result",
          "data": {
            "text/plain": [
              "True"
            ]
          },
          "metadata": {},
          "execution_count": 30
        }
      ],
      "source": [
        "p or r"
      ]
    },
    {
      "cell_type": "code",
      "execution_count": null,
      "metadata": {
        "id": "aXjwyEGYnRzs",
        "colab": {
          "base_uri": "https://localhost:8080/"
        },
        "outputId": "040cdda8-73c6-44e5-84e6-e3a67b465f7f"
      },
      "outputs": [
        {
          "output_type": "stream",
          "name": "stdout",
          "text": [
            "False\n",
            "True\n",
            "False\n",
            "True\n"
          ]
        }
      ],
      "source": [
        "print(not p)\n",
        "print(not r)\n",
        "print(r or t)\n",
        "print((p or r) and not t)"
      ]
    },
    {
      "cell_type": "code",
      "execution_count": null,
      "metadata": {
        "id": "8VYDRoRhoLsK",
        "colab": {
          "base_uri": "https://localhost:8080/"
        },
        "outputId": "1cd4ef76-0dab-4195-a2c4-6e8841ee05a0"
      },
      "outputs": [
        {
          "output_type": "stream",
          "name": "stdout",
          "text": [
            "True\n",
            "False\n",
            "True\n",
            "True\n"
          ]
        }
      ],
      "source": [
        "# La tabla de verdad de => es\n",
        "# True => False es False\n",
        "# True => True es True\n",
        "# False => p es True\n",
        "# Ahora bien p => q es equivalente a  (not p) or q\n",
        "print((not True) or True)\n",
        "print((not True) or False)\n",
        "print((not False) or True)\n",
        "print((not False) or False)"
      ]
    },
    {
      "cell_type": "code",
      "source": [
        "for p in [True, False]:\n",
        "    for q in [True, False]:\n",
        "        print(p,'=>', q,':',(not p) or q)"
      ],
      "metadata": {
        "id": "PBCQU2ZG4IQ2",
        "colab": {
          "base_uri": "https://localhost:8080/"
        },
        "outputId": "d25df86c-d82e-4807-d289-46e13670ebb3"
      },
      "execution_count": null,
      "outputs": [
        {
          "output_type": "stream",
          "name": "stdout",
          "text": [
            "True => True : True\n",
            "True => False : False\n",
            "False => True : True\n",
            "False => False : True\n"
          ]
        }
      ]
    },
    {
      "cell_type": "code",
      "execution_count": null,
      "metadata": {
        "id": "QEk4s6BkpWDV",
        "colab": {
          "base_uri": "https://localhost:8080/"
        },
        "outputId": "8fc2b798-c8bd-4a56-a1bb-6662ca63a304"
      },
      "outputs": [
        {
          "output_type": "stream",
          "name": "stdout",
          "text": [
            "True\n",
            "True\n",
            "True\n",
            "False\n"
          ]
        }
      ],
      "source": [
        "# p or q es equivalente not (not p and not q)\n",
        "print(not (not True and not True)) # True or  False\n",
        "print(not (not True and not False)) # True or True\n",
        "print(not (not False and not True)) # False or True\n",
        "print(not (not False and not False)) # False or False"
      ]
    },
    {
      "cell_type": "code",
      "source": [
        "for p in {True, False}:\n",
        "    for q in {True, False}:\n",
        "        print(p, q, not (not p and not q) == (p or q))"
      ],
      "metadata": {
        "id": "FWObdkDt5OY1",
        "colab": {
          "base_uri": "https://localhost:8080/"
        },
        "outputId": "35f96222-6e53-420d-c968-19efefcf8ae5"
      },
      "execution_count": null,
      "outputs": [
        {
          "output_type": "stream",
          "name": "stdout",
          "text": [
            "False False True\n",
            "False True True\n",
            "True False True\n",
            "True True True\n"
          ]
        }
      ]
    },
    {
      "cell_type": "markdown",
      "metadata": {
        "id": "eoIrNKx1qU8J"
      },
      "source": [
        "*Ejercicio (difícil).* Obtener con el operador `not p and not q` los operadores `p or q`, `p and q`, `not p`. Es decir con el operador $\\neg p \\wedge \\neg q$ se pueden obtener todos los operadores lógicos."
      ]
    },
    {
      "cell_type": "markdown",
      "metadata": {
        "id": "K7HUVDefiZ5c"
      },
      "source": [
        "## 3. Ejecución condicional\n",
        "\n",
        "Para escribir programas útiles, casi siempre necesitamos la capacidad de verificar condiciones y cambiar el comportamiento del programa en consecuencia. Las *declaraciones condicionales* nos dan esta capacidad. La forma más simple es la declaración `if`:"
      ]
    },
    {
      "cell_type": "code",
      "execution_count": null,
      "metadata": {
        "id": "_worOxbWiaBg"
      },
      "outputs": [],
      "source": [
        "x = 1 # cambiar el valor para hacer pruebas\n",
        "if x > 0:\n",
        "    print('x es positivo')"
      ]
    },
    {
      "cell_type": "markdown",
      "metadata": {
        "id": "RYuGDlbWiaKR"
      },
      "source": [
        "La expresión booleana después de `if` se llama *condición*. Si es verdadera, se ejecuta la declaración con sangría. Si no, no pasa nada.\n",
        "\n",
        "Las declaraciones `if` tienen la misma estructura que las definiciones de funciones: un encabezado seguido de un cuerpo con sangría. Las declaraciones como ésta se denominan *declaraciones compuestas*.\n",
        "\n",
        "No hay límite en la cantidad de declaraciones que pueden aparecer en el cuerpo, pero debe haber al menos una. De vez en cuando, es útil tener un cuerpo sin declaraciones (generalmente como un lugar para guardar el código que aún no ha escrito). En ese caso, puede usar la instrucción `pass`, que no hace nada.\n"
      ]
    },
    {
      "cell_type": "code",
      "execution_count": null,
      "metadata": {
        "id": "ixbHvurXiaSG"
      },
      "outputs": [],
      "source": [
        "if x < 0:\n",
        "    pass # TODO ('Por Hacer'): ¡es necesario manejar valores negativos!"
      ]
    },
    {
      "cell_type": "markdown",
      "metadata": {
        "id": "EVpCTwxTiabI"
      },
      "source": [
        "## 4. Ejecución alternativa\n",
        "\n",
        "Una segunda forma de la instrucción `if` es la *ejecución alternativa*, en la que hay dos posibilidades y la condición determina cuál se ejecuta. La sintaxis se ve así:\n",
        "\n",
        "\n",
        "```\n",
        "if condición:\n",
        "    ejecutar1\n",
        "else:\n",
        "    ejecutar2\n",
        "```\n",
        "Si se cumple `condición` se hace `ejecutar1`. En caso contrario se hace `ejecutar2`. Por ejemplo:\n"
      ]
    },
    {
      "cell_type": "code",
      "execution_count": null,
      "metadata": {
        "id": "cWt1Cg7Viaib"
      },
      "outputs": [],
      "source": [
        "x = 4\n",
        "if x % 2 == 0:\n",
        "    print('x es par')\n",
        "else:\n",
        "    print('x es impar')"
      ]
    },
    {
      "cell_type": "markdown",
      "metadata": {
        "id": "wLpWuq24iaq7"
      },
      "source": [
        "Si el resto cuando `x` se divide por 2 es 0, entonces sabemos que `x` es par y el programa muestra un mensaje apropiado. Si la condición es falsa, se ejecuta el segundo conjunto de declaraciones. Dado que la condición debe ser verdadera o falsa, se ejecutará exactamente una de las alternativas. Las alternativas se denominan *ramas*, porque son ramas en el flujo de ejecución.\n",
        "\n",
        "Cuando en *cada rama* de la ejecución alternativa hay *una sola instrucción*, Python permite escribirla en forma más compacta:"
      ]
    },
    {
      "cell_type": "code",
      "execution_count": null,
      "metadata": {
        "id": "EKpYMs6wajGs"
      },
      "outputs": [],
      "source": [
        "print('x es par') if  x % 2 == 0 else print('x es impar')"
      ]
    },
    {
      "cell_type": "markdown",
      "metadata": {
        "id": "eUPC9glxia8u"
      },
      "source": [
        "## 5.Condicionales encadenados\n",
        "\n",
        "A veces hay más de dos posibilidades y necesitamos más de dos ramas. Una forma de expresar un cálculo como ese es un *condicional encadenado*:"
      ]
    },
    {
      "cell_type": "code",
      "execution_count": null,
      "metadata": {
        "id": "MLIqPuzZibFy",
        "colab": {
          "base_uri": "https://localhost:8080/"
        },
        "outputId": "53d93089-3852-4dcf-a52d-073341b22410"
      },
      "outputs": [
        {
          "output_type": "stream",
          "name": "stdout",
          "text": [
            "x es mayor que y\n"
          ]
        }
      ],
      "source": [
        "x, y = 2, 1 # cambiar valores para hacer pruebas\n",
        "if x < y:\n",
        "    print('x es menor que y')\n",
        "elif x > y:\n",
        "    print('x es mayor que y')\n",
        "else:\n",
        "    print('x e y son iguales')"
      ]
    },
    {
      "cell_type": "markdown",
      "metadata": {
        "id": "LenC24BJ8e_K"
      },
      "source": [
        "`elif` es una abreviatura de \"else if\". Nuevamente, se ejecutará exactamente una rama. No hay límite en el número de declaraciones `elif`. Si hay una cláusula `else`, tiene que estar al final, pero no tiene que haberla. Por ejemplo,"
      ]
    },
    {
      "cell_type": "code",
      "execution_count": null,
      "metadata": {
        "id": "wa6sQ7I69CUl",
        "colab": {
          "base_uri": "https://localhost:8080/"
        },
        "outputId": "cd33b4d0-3ed9-48b1-ac3b-1287013c1388"
      },
      "outputs": [
        {
          "output_type": "stream",
          "name": "stdout",
          "text": [
            "El valor es a\n"
          ]
        }
      ],
      "source": [
        "elección = 'a' # cambiar valor para hacer pruebas\n",
        "if elección == 'a':\n",
        "    print('El valor es a')\n",
        "elif elección == 'b':\n",
        "    print('El valor es b')\n",
        "elif elección == 'c':\n",
        "    print('El valor es c')"
      ]
    },
    {
      "cell_type": "markdown",
      "metadata": {
        "id": "rwBdCih39Cf3"
      },
      "source": [
        "Cada condición se comprueba en orden. Si el primero es falso, se marca el siguiente y así sucesivamente. Si uno de ellos es verdadero, se ejecuta la rama correspondiente y finaliza la declaración. Incluso si más de una condición es verdadera, solo se ejecuta la primera rama verdadera.\n",
        "\n",
        "*Observación.* Un  error muy común al escribir condicionales encadenados es reemplazar los `elif` por  los `if`. Por ejemplo, en la celda de código anterior como `elección` puede tormar solo un valor,  entonces ese código es lógicamente equivalente a:"
      ]
    },
    {
      "cell_type": "code",
      "execution_count": null,
      "metadata": {
        "id": "mUm4EPtSdi39",
        "colab": {
          "base_uri": "https://localhost:8080/"
        },
        "outputId": "3604d305-d055-47c3-b1bd-5b8a3497db8f"
      },
      "outputs": [
        {
          "output_type": "stream",
          "name": "stdout",
          "text": [
            "El valor es c\n"
          ]
        }
      ],
      "source": [
        "elección = 'c' # cambiar valor para hacer pruebas\n",
        "if elección == 'a':\n",
        "    print('El valor es a')\n",
        "if elección == 'b':\n",
        "    print('El valor es b')\n",
        "if elección == 'c':\n",
        "    print('El valor es c')"
      ]
    },
    {
      "cell_type": "markdown",
      "metadata": {
        "id": "eKR44_OudwHC"
      },
      "source": [
        "Sin embargo, el hecho de que `elif` termina el condicional encadenado es importante en otros casos. Por ejemplo,  si queremos determinar que vocales se encuentran en determinada palabra, podemos hacer:"
      ]
    },
    {
      "cell_type": "code",
      "execution_count": null,
      "metadata": {
        "id": "2UEgfE1ZeBKr",
        "colab": {
          "base_uri": "https://localhost:8080/"
        },
        "outputId": "12cd23b7-f62a-4257-99c9-c164ce4b7033"
      },
      "outputs": [
        {
          "output_type": "stream",
          "name": "stdout",
          "text": [
            "a es una vocal que aparece en piragua\n",
            "i es una vocal que aparece en piragua\n",
            "u es una vocal que aparece en piragua\n"
          ]
        }
      ],
      "source": [
        "palabra = 'piragua'\n",
        "if 'a' in palabra:\n",
        "    print('a es una vocal que aparece en', palabra)\n",
        "if 'e' in palabra:\n",
        "    print('e es una vocal que aparece en', palabra)\n",
        "if 'i' in palabra:\n",
        "    print('i es una vocal que aparece en', palabra)\n",
        "if 'o' in palabra:\n",
        "    print('o es una vocal que aparece en', palabra)\n",
        "if 'u' in palabra:\n",
        "    print('u es una vocal que aparece en', palabra)"
      ]
    },
    {
      "cell_type": "markdown",
      "metadata": {
        "id": "q_9Lwidkexul"
      },
      "source": [
        "que no hace lo mismo que"
      ]
    },
    {
      "cell_type": "code",
      "execution_count": null,
      "metadata": {
        "id": "jy7-tVIKe3oZ",
        "colab": {
          "base_uri": "https://localhost:8080/"
        },
        "outputId": "b13c4c4f-fe0c-46c9-b74f-1d12e582b211"
      },
      "outputs": [
        {
          "output_type": "stream",
          "name": "stdout",
          "text": [
            "a es una vocal que aparece en piragua\n"
          ]
        }
      ],
      "source": [
        "palabra = 'piragua'\n",
        "if 'a' in palabra:\n",
        "    print('a es una vocal que aparece en', palabra)\n",
        "elif 'e' in palabra:\n",
        "    print('e es una vocal que aparece en', palabra)\n",
        "elif 'i' in palabra:\n",
        "    print('i es una vocal que aparece en', palabra)\n",
        "elif 'o' in palabra:\n",
        "    print('o es una vocal que aparece en', palabra)\n",
        "elif 'u' in palabra:\n",
        "    print('u es una vocal que aparece en', palabra)"
      ]
    },
    {
      "cell_type": "markdown",
      "metadata": {
        "id": "b9aNcYpWf_go"
      },
      "source": [
        "En  realidad,  la primera secuencia de código no es un \"condicional encadenado\", sino una sucesión de condicionales, uno tras otro."
      ]
    },
    {
      "cell_type": "markdown",
      "metadata": {
        "id": "G55Bd1Hi_MkP"
      },
      "source": [
        "## 6. Condicionales anidados\n",
        "\n",
        "Un condicional también se puede anidar dentro de otro. Podríamos haber escrito el ejemplo en la sección anterior así:"
      ]
    },
    {
      "cell_type": "code",
      "execution_count": null,
      "metadata": {
        "id": "rGhS68aD_W0U"
      },
      "outputs": [],
      "source": [
        "x, y = 3, 2\n",
        "if x == y:\n",
        "    print('x e y son iguales')\n",
        "else:\n",
        "    if x < y:\n",
        "        print ('x es menor que y')\n",
        "    else:\n",
        "        print('x es mayor que y')"
      ]
    },
    {
      "cell_type": "markdown",
      "metadata": {
        "id": "yoKHh8i9_XDU"
      },
      "source": [
        "El primer condicional contiene dos ramas. La primera rama contiene una declaración simple. La segunda rama contiene otra instrucción `if`, que a su vez tiene dos ramas propias. Esas dos ramas son declaraciones simples, aunque también podrían haber sido declaraciones condicionales.\n",
        "\n",
        "Aunque la sangría de las declaraciones hace que la estructura sea evidente, los *condicionales anidados* en general no son fáciles de leer. Es una buena idea evitarlos siempre que pueda.\n",
        "\n",
        "Los operadores lógicos a menudo proporcionan una forma de simplificar las declaraciones condicionales anidadas. Por ejemplo, el siguiente código:\n",
        "```\n",
        "if 0 < x:\n",
        "    if x < 10:\n",
        "        print('x es un número positivo de un solo dígito.')\n",
        "```\n",
        " se puede reescribir usando un solo condicional. La instrucción `print` se ejecuta solo si superamos ambos condicionales, por lo que podemos obtener el mismo efecto con el operador `and`:\n",
        "```\n",
        "if 0 < x and x < 10:\n",
        "    print ('x es un número positivo de un solo dígito.')\n",
        "```\n",
        "Para este tipo de condición, Python incluso proporciona una opción más concisa:\n",
        "\n",
        "\n",
        "```\n",
        "if 0 < x < 10:\n",
        "    print('x es un número positivo de un solo dígito.')\n",
        "```\n"
      ]
    },
    {
      "cell_type": "markdown",
      "metadata": {
        "id": "MIebnYQ6ugj9"
      },
      "source": [
        "## 7. Ejemplo: conversión de formatos de coordenadas\n",
        "\n",
        "Vimos en una clase anterior las funciones que convierten grados decimales a grados sexagesimales, donde grados es no negativo. Estas funciones son:"
      ]
    },
    {
      "cell_type": "code",
      "execution_count": null,
      "metadata": {
        "id": "IMXeSclfugj9"
      },
      "outputs": [],
      "source": [
        "import math\n",
        "\n",
        "def sexa_a_deci(grados: int , minutos: int , segundos: float) -> float:\n",
        "    # pre: 0 <= grados, 0 <= minutos < 60, 0 <= segundos < 60\n",
        "    # post: devuelve los grados en notación decimal\n",
        "    return grados + minutos / 60 + segundos / 3600\n",
        "\n",
        "def deci_a_sexa(pos: float) -> tuple:\n",
        "    # pre: pos son grados en notación decimal, pos >= 0\n",
        "    # post:  devuelve pos en una 3-upla grados, minutos, segundos\n",
        "    grados = math.floor(pos)\n",
        "    resto = pos - grados\n",
        "    minutos = math.floor(resto * 60)\n",
        "    resto = resto * 60 - minutos\n",
        "    segundos = 60 * resto\n",
        "    return grados, minutos, segundos"
      ]
    },
    {
      "cell_type": "markdown",
      "metadata": {
        "id": "0Dh8BWrOugj-"
      },
      "source": [
        "Veamos ahora las conversiones que nos servirán para convertir coordenadas terrestres decimales  a coordenadas terrestres sexagesimales,  y viceversa."
      ]
    },
    {
      "cell_type": "code",
      "execution_count": null,
      "metadata": {
        "id": "XatXau1Cugj-"
      },
      "outputs": [],
      "source": [
        "def gms2gd(lat_g, lat_m, lat_s, hem_ns, lon_g, lon_m, lon_s, hem_eo):\n",
        "    # pre: lat_g, lat_m, lat_s, es la latitud en grados, minutos, segundos,\n",
        "    #      hem_ns es 'N' o 'S'. 0 <= lat_g < 90, 0 <= lat_m, lat_s < 60\n",
        "    #      lon_g, lon_m, lon_s, es la longitud en grados, minutos, segundos,\n",
        "    #      hem_eo es 'E' u 'O' 0 <= lon_g < 180, 0 <=  lon_m, lon_s < 60\n",
        "    # post: devuelve latitud_d, longitud_d donde\n",
        "    #      latitud_d : latitud en decimales, longitud_d : longitud en decimales\n",
        "    latitud_d = sexa_a_deci(lat_g, lat_m, lat_s)\n",
        "    longitud_d = sexa_a_deci(lon_g, lon_m, lon_s)\n",
        "    if hem_ns == 'S':\n",
        "        latitud_d = -latitud_d\n",
        "    if hem_eo == 'O':\n",
        "        longitud_d = -longitud_d\n",
        "\n",
        "    return latitud_d, longitud_d"
      ]
    },
    {
      "cell_type": "markdown",
      "metadata": {
        "id": "DHfQ_BmUugj-"
      },
      "source": [
        "Por ejemplo, podemos ver que las coordenadas de la cidad de Bogotá 4°36′45.5″N, 74°4′13.8″ O en decimales es  4.612639°, -74.0705°."
      ]
    },
    {
      "cell_type": "code",
      "execution_count": null,
      "metadata": {
        "id": "Pke5PUIPugj-",
        "colab": {
          "base_uri": "https://localhost:8080/"
        },
        "outputId": "31661c55-26cb-4002-9204-0ff8b80ab109"
      },
      "outputs": [
        {
          "output_type": "stream",
          "name": "stdout",
          "text": [
            "(4.612638888888888, -74.0705)\n"
          ]
        }
      ],
      "source": [
        "gdec = gms2gd(4, 36, 45.5, 'N', 74, 4, 13.8, 'O')\n",
        "print(gdec)"
      ]
    },
    {
      "cell_type": "markdown",
      "metadata": {
        "id": "-qIn4rE5ugj_"
      },
      "source": [
        "La funión recíproca es:"
      ]
    },
    {
      "cell_type": "code",
      "execution_count": null,
      "metadata": {
        "id": "k_hLoxXSugj_"
      },
      "outputs": [],
      "source": [
        "def gd2gms(latitud_d, longitud_d: float) -> tuple:\n",
        "    # pre: -90 < latitud_d < 90, -180 < longitud_d < 180 indican un punto en\n",
        "    #      la Tierra en esas coordenadas decimales.\n",
        "    # post: devuelve lat, lon coordenadas sexagesimales\n",
        "    lat_g, lat_m, lat_s = deci_a_sexa(abs(latitud_d))\n",
        "    lon_g, lon_m, lon_s = deci_a_sexa(abs(longitud_d))\n",
        "    hem_ns, hem_eo = 'N', 'E'\n",
        "    if latitud_d < 0:\n",
        "        hem_ns = 'S'\n",
        "    if longitud_d < 0:\n",
        "        hem_eo = 'O'\n",
        "\n",
        "    return lat_g, lat_m, lat_s,hem_ns, lon_g, lon_m, lon_s, hem_eo"
      ]
    },
    {
      "cell_type": "markdown",
      "metadata": {
        "id": "5eJmpVEMugkA"
      },
      "source": [
        "Hagamos de nuevo el cálculo para Bogotá:"
      ]
    },
    {
      "cell_type": "code",
      "execution_count": null,
      "metadata": {
        "id": "kIMYwuljugkA",
        "colab": {
          "base_uri": "https://localhost:8080/"
        },
        "outputId": "3cfedc7e-cea8-448b-82aa-2b59ad78b4ca"
      },
      "outputs": [
        {
          "output_type": "stream",
          "name": "stdout",
          "text": [
            "(4, 36, 45.50039999999896, 'N', 74, 4, 13.799999999984038, 'O')\n"
          ]
        }
      ],
      "source": [
        "coord = gd2gms(4.612639, -74.0705)\n",
        "print(coord)"
      ]
    },
    {
      "cell_type": "code",
      "source": [
        "lat, lon = gms2gd(4, 36, 45.5, 'N', 74, 4, 13.8, 'O')\n",
        "print(gdec)\n",
        "coord = gd2gms(lat, lon)\n",
        "print(coord)\n"
      ],
      "metadata": {
        "id": "By1lBmZSJhn7",
        "colab": {
          "base_uri": "https://localhost:8080/"
        },
        "outputId": "e4f5d3dd-1928-4722-9138-c5ef58da3bb6"
      },
      "execution_count": null,
      "outputs": [
        {
          "output_type": "stream",
          "name": "stdout",
          "text": [
            "(4.612638888888888, -74.0705)\n",
            "(4, 36, 45.49999999999784, 'N', 74, 4, 13.799999999984038, 'O')\n"
          ]
        }
      ]
    },
    {
      "cell_type": "markdown",
      "metadata": {
        "id": "yJAIw8k3ugkA"
      },
      "source": [
        "Podemos mejorar las dos funciones escribiendo en forma más completa la signaturra y utilizando `assert` para comprobar las precondiciones:"
      ]
    },
    {
      "cell_type": "code",
      "execution_count": null,
      "metadata": {
        "id": "rGtqSGsmugkA"
      },
      "outputs": [],
      "source": [
        "def gms2gd(lat_g, lat_m: int, lat_s: float, hem_ns: str, lon_g, lon_m: int, lon_s: float, hem_eo: str) -> tuple:\n",
        "    # pre: lat_g, lat_m, lat_s, es la latitud en grados, minutos, segundos, hem_ns es 'N' o 'S'. 0 <= lat_g < 90\n",
        "    #      lon_g, lon_m, lon_s, es la longitud en grados, minutos, segundos, hem_eo es 'E' u 'O' 0 <= lon_g < 180\n",
        "    # post: devuelve latitud, longitud_d latitud y longitud decimales\n",
        "    assert type(lat_g) == int and type(lat_m) == int and type(lat_s) == float and type(lon_g) == int and type(lon_m) == int and type(lon_s) == float, 'Error en los tipos de datos'\n",
        "    assert 0 <= lat_g < 90 and 0 <= lat_m < 60 and 0 <= lat_s < 60  and 0 <= lon_g < 180 and 0 <= lon_m < 60 and 0 <= lon_s < 60 , 'Error en los valores de latitud y longitud'\n",
        "    assert hem_ns == 'N' or hem_ns == 'S' and hem_eo == 'E' or hem_eo == 'O', 'Error en los valores de hemisferio'\n",
        "\n",
        "    latitud_d, longitud_d = sexa_a_deci(lat_g, lat_m, lat_s), sexa_a_deci(lon_g, lon_m, lon_s)\n",
        "    if hem_ns == 'S':\n",
        "        latitud_d = -latitud_d\n",
        "    if hem_eo == 'O':\n",
        "        longitud_d = -longitud_d\n",
        "    return latitud_d, longitud_d\n",
        "\n",
        "\n",
        "def gd2gms(latitud_d, longitud_d: float) -> tuple:\n",
        "    # pre: -90 < latitud < 90, -180 < longitud_d < 180 indican un punto en la Tierra en esas coordenadas decimales.\n",
        "    # post: devuelve lat, lon coordenadas sexagesimales\n",
        "    assert type(latitud_d) == float and type(longitud_d) == float, 'Los tipos de datos son incorrectos'\n",
        "    assert -90 < latitud_d < 90 and -180 < longitud_d < 180, 'los valores de latitud y longitud están fuera de rango'\n",
        "    lat_g, lat_m, lat_s = deci_a_sexa(abs(latitud_d))\n",
        "    lon_g, lon_m, lon_s = deci_a_sexa(abs(longitud_d))\n",
        "    hem_ns, hem_eo = 'N', 'E'\n",
        "    if latitud_d < 0:\n",
        "        hem_ns = 'S'\n",
        "    if longitud_d < 0:\n",
        "        hem_eo = 'O'\n",
        "    return lat_g, lat_m, lat_s,hem_ns, lon_g, lon_m, lon_s, hem_eo\n"
      ]
    },
    {
      "cell_type": "markdown",
      "metadata": {
        "id": "l7-uaMdJugkB"
      },
      "source": [
        "Los `assert` hacen un poco más complicada la lectura del código pero aseguran las precondiciones.\n",
        "\n",
        "Observar que entre las dos funciones se dejan dos líneas. Esa es la práctica recomendada. A  veces es conveniente agregar líneas vacías para separar porciones de código, eso depende del criterio de cada programador, pero es conveniente dejar una sola línea vacía (no dos o más) excepto para separar funciones donde usamos dos líneas vacías."
      ]
    },
    {
      "cell_type": "markdown",
      "metadata": {
        "id": "r8O_EZCjugkB"
      },
      "source": [
        "## 8. Indentación o sangría en Python\n",
        "\n",
        "Como ya habrán observado en todo el código que hemos escrito anteriormente la indentación es un concepto muy importante de Python. Sin una indentación adecuada del código Python, terminarás obteniendo `IndentationError` y el código no será compilado.\n",
        "\n",
        "### Indentación\n",
        "\n",
        "En términos simples, la indentación se refiere a la adición de espacio en blanco antes de una declaración. Pero la pregunta que surge es si es necesario.\n",
        "\n",
        "Para entender esto considera una situación en la que estás leyendo un libro y de repente todos los números de página del libro desaparecen. Así que no sabes dónde continuar leyendo y te confundes. Esta situación es similar con Python. Sin la indentación, Python no sabe qué declaración ejecutar a continuación o qué declaración pertenece a qué bloque. Esto conducirá a `IndentationError`.\n",
        "\n",
        "    1 sentencia1                                                  comienza bloque 1\n",
        "    2 if condición1:                                              bloque 1 continúa\n",
        "    3     if condición2:                                              comienza bloque 2\n",
        "    4         sentencia2      ---visualización del interprete-->          comienza bloque 3\n",
        "    5     else:                                                       bloque 2 continúa\n",
        "    6         sentencia3                                                  bloque 3 continúa\n",
        "    7 sentencia4                                                  bloque 1 continúa\n",
        "\n",
        "En el ejemplo anterior,\n",
        "\n",
        "- La `sentencia1`, la condición if de línea 2 y la `sentencia4` pertenecen al mismo bloque, lo que significa que después de la `sentencia1` se ejecutará la condición if, y si la condición if se convierte en `False`, Python saltará a la última sentencia para ejecutarla.\n",
        "- El if-else anidado pertenece al bloque 2, lo que significa que si el if anidado se convierte en False, entonces Python ejecutará las sentencias dentro de la condición else.\n",
        "- Las sentencias dentro del if-else anidado pertenecen al bloque 3 y sólo se ejecutará una sentencia dependiendo de la condición if-else.\n",
        "\n",
        "La indentación en Python es una forma de indicar al intérprete de Python que el grupo de sentencias pertenece a un bloque de código particular. Un bloque es una combinación de todas estas sentencias. Un bloque puede ser considerado como una agrupación de sentencias para un propósito específico. La mayoría de los lenguajes de programación como C, C++, Java utilizan llaves `{` `}` para definir un bloque de código.\n",
        "Python utiliza la indentación para resaltar los bloques de código. Es conveniente utilizar 4 espacios en blanco para hacer la indentación. Todas las sentencias con la misma distancia a la derecha pertenecen al mismo bloque de código. Si un bloque tiene que ser anidado más profundamente, simplemente se indenta más a la derecha. Puedes entenderlo mejor mirando las siguientes líneas de código."
      ]
    },
    {
      "cell_type": "code",
      "execution_count": null,
      "metadata": {
        "id": "lf9Ga1VzugkB"
      },
      "outputs": [],
      "source": [
        "# Programa Python mostrando indentación\n",
        "\n",
        "facultad = 'FAMAF'\n",
        "if facultad == 'FAMAF':\n",
        "    print('Usted está ingresando a la FAMAF')\n",
        "else:\n",
        "    print('Volvé a escribir el nombre de la facultad.')\n",
        "print('¡Todo listo!')"
      ]
    },
    {
      "cell_type": "markdown",
      "metadata": {
        "id": "oUcM10DwugkB"
      },
      "source": [
        "Las líneas `print('Usted está ingresando a la FAMAF')` y `print('Volvé a escribir el nombre de la facultad.')` son dos bloques de código separados. Los dos bloques de código en nuestro ejemplo de declaración if tienen una sangría de cuatro espacios. El `print('¡Todo listo!')` final no tiene sangría, por lo que no pertenece al bloque else."
      ]
    }
  ],
  "metadata": {
    "colab": {
      "provenance": []
    },
    "kernelspec": {
      "display_name": "Python 3 (ipykernel)",
      "language": "python",
      "name": "python3"
    },
    "language_info": {
      "codemirror_mode": {
        "name": "ipython",
        "version": 3
      },
      "file_extension": ".py",
      "mimetype": "text/x-python",
      "name": "python",
      "nbconvert_exporter": "python",
      "pygments_lexer": "ipython3",
      "version": "3.9.6"
    }
  },
  "nbformat": 4,
  "nbformat_minor": 0
}