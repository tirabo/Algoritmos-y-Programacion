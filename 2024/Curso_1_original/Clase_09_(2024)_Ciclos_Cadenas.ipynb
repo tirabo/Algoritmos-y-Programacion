{
  "cells": [
    {
      "cell_type": "markdown",
      "source": [
        "# Ciclos\n",
        "\n",
        "\n"
      ],
      "metadata": {
        "id": "dRUMDTm1qL8c"
      }
    },
    {
      "cell_type": "markdown",
      "source": [
        "## 7. Implementación iterativa de funciones recursivas\n",
        "\n",
        "Se puede implementar de forma iterativa una función recursiva y veremos a continuación algunos ejemplos.\n",
        "\n"
      ],
      "metadata": {
        "id": "M3Cs_dZLqdkH"
      }
    },
    {
      "cell_type": "markdown",
      "source": [
        "Implementemos la función $n!$,  es decir la función definida recursivamente como $0!=1$ y $n! = n \\cdot (n-1)!$ para $n \\ge 1$."
      ],
      "metadata": {
        "id": "b9eI1fhXr1b0"
      }
    },
    {
      "cell_type": "code",
      "source": [
        "def  factorial(n: int) -> int:\n",
        "    \"\"\"\n",
        "    pre: n entero >= 0.\n",
        "    post: devuelve n!\n",
        "    \"\"\"\n",
        "    ret = 1\n",
        "    if n == 0:\n",
        "        ret = 1\n",
        "    else:\n",
        "        for i in range(1, n+1):\n",
        "            ret = i * ret\n",
        "    return ret"
      ],
      "metadata": {
        "id": "UxFQWJtLs071"
      },
      "execution_count": null,
      "outputs": []
    },
    {
      "cell_type": "code",
      "source": [
        "factorial(5)"
      ],
      "metadata": {
        "colab": {
          "base_uri": "https://localhost:8080/"
        },
        "id": "uQtb7YyWH64J",
        "outputId": "0cba011d-128e-4494-98c0-6af22f832f2b"
      },
      "execution_count": null,
      "outputs": [
        {
          "output_type": "execute_result",
          "data": {
            "text/plain": [
              "120"
            ]
          },
          "metadata": {},
          "execution_count": 2
        }
      ]
    },
    {
      "cell_type": "markdown",
      "source": [
        "que se podría escribir en forma más simple:"
      ],
      "metadata": {
        "id": "X3iB1MjOwmfg"
      }
    },
    {
      "cell_type": "code",
      "source": [
        "def  factorial(n: int) -> int:\n",
        "    \"\"\"\n",
        "    pre: n entero >= 0.\n",
        "    post: devuelve n!\n",
        "    \"\"\"\n",
        "    ret = 1\n",
        "    for i in range(1, n+1):\n",
        "        ret = i * ret\n",
        "    return ret"
      ],
      "metadata": {
        "id": "jh_eyJ-iwp1u"
      },
      "execution_count": null,
      "outputs": []
    },
    {
      "cell_type": "markdown",
      "source": [
        "Como se puede observar la implementación iterativa de la recursión  es bastante sencilla:  sa va guardando  en una variable los valores intermedios y se van obteniendo nuevos valores usando la fórmula recursiva.\n",
        "\n",
        "Probemos la función para algunos valores:"
      ],
      "metadata": {
        "id": "a3r7j3pgtXG6"
      }
    },
    {
      "cell_type": "code",
      "source": [
        "for  i in range(10):\n",
        "    print(str(i)+'! =',factorial(i))"
      ],
      "metadata": {
        "id": "fcDfZsgoua41",
        "colab": {
          "base_uri": "https://localhost:8080/"
        },
        "outputId": "0b7033d0-f2dc-42ff-c738-fd3d3f6baa93"
      },
      "execution_count": null,
      "outputs": [
        {
          "output_type": "stream",
          "name": "stdout",
          "text": [
            "0! = 1\n",
            "1! = 1\n",
            "2! = 2\n",
            "3! = 6\n",
            "4! = 24\n",
            "5! = 120\n",
            "6! = 720\n",
            "7! = 5040\n",
            "8! = 40320\n",
            "9! = 362880\n"
          ]
        }
      ]
    },
    {
      "cell_type": "markdown",
      "source": [
        "Ahora implementemos  la siguiente función:\n",
        " $$f(n) = \\begin{cases}\n",
        "  7,  \\qquad\\qquad\\qquad\\;\\text{ si $n=1$}  \\\\n^2f({n-1}) +2n, \\text{ para $n\\geq 2$}.\n",
        "  \\end{cases}$$"
      ],
      "metadata": {
        "id": "2fWuLtujts5U"
      }
    },
    {
      "cell_type": "code",
      "source": [
        "def f(n: int) -> int:\n",
        "    \"\"\"\n",
        "    pre: n entero >= 1.\n",
        "    post: devuelve f(n)\n",
        "    \"\"\"\n",
        "    if n == 1:\n",
        "        ret = 7\n",
        "    else:\n",
        "        ret = 7\n",
        "        for i in range(2, n + 1):\n",
        "            ret = i**2 * ret + 2 * i\n",
        "    return ret"
      ],
      "metadata": {
        "id": "jR-cbWQ2wDvP"
      },
      "execution_count": null,
      "outputs": []
    },
    {
      "cell_type": "markdown",
      "source": [
        "Que podemos escribir en forma equivalente:"
      ],
      "metadata": {
        "id": "8YrbQ1C1xN6c"
      }
    },
    {
      "cell_type": "code",
      "source": [
        "def f(n: int) -> int:\n",
        "    \"\"\"\n",
        "    pre: n entero >= 1.\n",
        "    post: devuelve f(n)\n",
        "    \"\"\"\n",
        "    ret = 7\n",
        "    for i in range(2, n + 1):\n",
        "        ret = i**2 * ret + 2 * i\n",
        "    return ret"
      ],
      "metadata": {
        "id": "3SvNxCAKxSCt"
      },
      "execution_count": null,
      "outputs": []
    },
    {
      "cell_type": "markdown",
      "source": [
        "Es interesante ver la función en Python Tutor.\n",
        "\n",
        "Python Tutor es una herramienta en línea que permite visualizar el flujo de ejecución de programas escritos en Python. Python Tutor muestra el estado de las variables en cada línea de código y permite avanzar o retroceder en la ejecución del programa.\n",
        "\n",
        "Pegue el código anterior en Python Tutor ([https://pythontutor.com](https://pythontutor.com)) y calcule `f(4)`."
      ],
      "metadata": {
        "id": "_aUAuDcI1bBx"
      }
    },
    {
      "cell_type": "code",
      "source": [
        "for  i in range(1, 10):\n",
        "    print('f('+str(i)+') =',f(i))"
      ],
      "metadata": {
        "colab": {
          "base_uri": "https://localhost:8080/"
        },
        "id": "88OPf3_aJmr3",
        "outputId": "736a295b-8655-4d88-f24e-23dd92e3ac06"
      },
      "execution_count": null,
      "outputs": [
        {
          "output_type": "stream",
          "name": "stdout",
          "text": [
            "f(1) = 7\n",
            "f(2) = 32\n",
            "f(3) = 294\n",
            "f(4) = 4712\n",
            "f(5) = 117810\n",
            "f(6) = 4241172\n",
            "f(7) = 207817442\n",
            "f(8) = 13300316304\n",
            "f(9) = 1077325620642\n"
          ]
        }
      ]
    },
    {
      "cell_type": "markdown",
      "source": [
        "Cuando la función se basa en más de un caso anterior, también es posible obtenerla de forma iterativa. Por ejemplo sea:\n",
        "\n",
        " $$\n",
        " g(n) = \\begin{cases}\n",
        "     3, \\text{ si $n=0$}\\\\\n",
        "     5, \\text{ si $n=1$}\\\\ n\\cdot g(n-1)+6g(n-2), \\text{ para $n\\geq 2$}.\n",
        "    \\end{cases}\n",
        "$$\n",
        "\n",
        "Su implementación en Python podría ser:"
      ],
      "metadata": {
        "id": "__VeYwk_xy0A"
      }
    },
    {
      "cell_type": "code",
      "source": [
        "def g(n: int) -> int:\n",
        "    \"\"\"\n",
        "    pre: n >= 0\n",
        "    post: devuelve g(n)\n",
        "    \"\"\"\n",
        "    if n == 0:\n",
        "        res = 3\n",
        "    elif n == 1:\n",
        "        res = 5\n",
        "    else:\n",
        "        x, y = 5, 3 # x es el anterior, y  es el anterior del anterior\n",
        "        for i in range(2, n + 1):\n",
        "            x, y = i * x + 6 * y, x\n",
        "        res = x\n",
        "    return res"
      ],
      "metadata": {
        "id": "xSxKm-sWy7wx"
      },
      "execution_count": null,
      "outputs": []
    },
    {
      "cell_type": "markdown",
      "source": [
        "Como se observará,  ya no es tan sencillo como en los casos anteriores. Veamos como funciona la iteración, como para aclarar un poco.\n",
        "\n",
        "Supongamos que queremos calcular `g(3)`,  entonces se ingresa a la rama del `else` y  en el primer renglón establecemos que\n",
        "\n",
        "    x = 3 (es g(0))\n",
        "    y = 5 (es g(1))\n",
        "\n",
        "Estos son los dos valores que se utilizarán para hallar el próximo valor. En la primera iteración del `for` tenemos  que `i = 2` y por  lo tanto\n",
        "\n",
        "    x = 2 * 5 + 6 * 3 = 28 (es g(2))\n",
        "    y = 5                  (es g(1))\n",
        "\n",
        "Finalmente, `i = 3` y\n",
        "\n",
        "    x = 3 * 28 + 6 * 5 = 114 (es g(3))\n",
        "    y = 28                   (es g(2))\n",
        "\n",
        "Es decir, obtenemos que `g(3) = 114`.\n",
        "\n",
        "\n",
        "Verifiquemos algunos valores:"
      ],
      "metadata": {
        "id": "BQVFwpNn1Frc"
      }
    },
    {
      "cell_type": "code",
      "source": [
        "for  i in range(5):\n",
        "    print('g('+str(i)+') = '+str(g(i)))"
      ],
      "metadata": {
        "id": "ZiOe8XEV1Ri9",
        "colab": {
          "base_uri": "https://localhost:8080/"
        },
        "outputId": "40bb97f8-29e8-48ab-e3ff-3a469614793f"
      },
      "execution_count": null,
      "outputs": [
        {
          "output_type": "stream",
          "name": "stdout",
          "text": [
            "g(0) = 3\n",
            "g(1) = 5\n",
            "g(2) = 28\n",
            "g(3) = 114\n",
            "g(4) = 624\n"
          ]
        }
      ]
    },
    {
      "cell_type": "markdown",
      "source": [
        "Podemos visualizar todos estos pasos en Python Tutor."
      ],
      "metadata": {
        "id": "pX-I74zL2bMW"
      }
    },
    {
      "cell_type": "markdown",
      "source": [
        "Finalmente, implementaremos la sumatoria de un serie de valores numéricos.\n",
        "\n",
        "Para ello necesitamos definir una función en Python con un número variable de parámetros. Para definir en Python una función con un número variable de parámetros, se utiliza el carácter asterisco (`*`) antes del nombre del último parámetro en la lista de parámetros de la función. Este parámetro se llama *parámetro de expansión* o *parámetro de lista*, y permite que la función acepte cualquier número de argumentos posicionales. Los argumentos se pasan separados por comas.\n",
        "\n",
        "En el caso que querramos definir sumatoria lo podremos hacer de la siguiente manera:\n"
      ],
      "metadata": {
        "id": "kkK_zzfl1-tI"
      }
    },
    {
      "cell_type": "code",
      "source": [
        "def sumatoria(*numeros):\n",
        "    \"\"\"\n",
        "    pre: numeros es una lista de números separados por comas\n",
        "    post: devuelve la suma de todo los números de la lista numeros\n",
        "    \"\"\"\n",
        "    suma = 0\n",
        "    for numero in numeros:\n",
        "        suma = suma + numero\n",
        "    return suma"
      ],
      "metadata": {
        "id": "6hyICf3E3IhF"
      },
      "execution_count": null,
      "outputs": []
    },
    {
      "cell_type": "markdown",
      "source": [
        "Probemos la función en algunos casos:"
      ],
      "metadata": {
        "id": "4uUVkisr3qtF"
      }
    },
    {
      "cell_type": "code",
      "source": [
        "print(sumatoria(1, 2, 3))  # imprime 6\n",
        "print(sumatoria(10, 20, 30, 40, 50))  # imprime 150\n",
        "print(sumatoria(-1, 0, 1))  # imprime 0\n",
        "print(sumatoria()) # imprime 0\n"
      ],
      "metadata": {
        "id": "nPMXKU5V3vQL",
        "colab": {
          "base_uri": "https://localhost:8080/"
        },
        "outputId": "aba2e17d-e7fc-4fd1-cbaf-3b71cb637446"
      },
      "execution_count": null,
      "outputs": [
        {
          "output_type": "stream",
          "name": "stdout",
          "text": [
            "6\n",
            "150\n",
            "0\n",
            "0\n"
          ]
        },
        {
          "output_type": "execute_result",
          "data": {
            "text/plain": [
              "3"
            ]
          },
          "metadata": {},
          "execution_count": 17
        }
      ]
    },
    {
      "cell_type": "markdown",
      "metadata": {
        "id": "XguM2IyO0vVa"
      },
      "source": [
        "# Cadenas\n"
      ]
    },
    {
      "cell_type": "markdown",
      "metadata": {
        "id": "R22rHsKNE6_r"
      },
      "source": [
        "## 1. Cadenas\n",
        "\n",
        "Las cadenas no son entidades que representan un concepto matemático como los números enteros, números punto flotante o los booleanos. Una cadena es una *secuencia de caracteres*, lo que significa que es una colección ordenada de  caracteres.\n",
        "\n",
        "Las cadenas, el tipo `str`, son de suma utilidad en la programación y Python provee un manejo muy intuitivo de ellas que hace que las podamos manejar con facilidad\n",
        "\n",
        "**Una cadena es una secuencia.** Como ya dijimos, una cadena es una secuencia de caracteres.  Para especificar una cadena  en Python hay que escribir una secuencia de caracteres encerrados entre comillas simple o dobles:\n"
      ]
    },
    {
      "cell_type": "code",
      "execution_count": null,
      "metadata": {
        "id": "DaQczli56Odm",
        "colab": {
          "base_uri": "https://localhost:8080/"
        },
        "outputId": "9b0778c8-5829-41dc-98c3-bcc7d7e1703d"
      },
      "outputs": [
        {
          "output_type": "stream",
          "name": "stdout",
          "text": [
            "Hola\n",
            "Hola\n"
          ]
        }
      ],
      "source": [
        "print('Hola')\n",
        "print(\"Hola\")"
      ]
    },
    {
      "cell_type": "markdown",
      "metadata": {
        "id": "RoH0iNin6Onw"
      },
      "source": [
        "Se puede acceder a los caracteres de uno en uno con el operador de corchetes:"
      ]
    },
    {
      "cell_type": "code",
      "execution_count": null,
      "metadata": {
        "id": "rcwj_ZQDKInV",
        "colab": {
          "base_uri": "https://localhost:8080/"
        },
        "outputId": "1eb98c62-8341-48b7-b6af-3d156dcc00de"
      },
      "outputs": [
        {
          "output_type": "stream",
          "name": "stdout",
          "text": [
            "a\n"
          ]
        }
      ],
      "source": [
        "fruta = 'banana'\n",
        "letra = fruta[1]\n",
        "print(letra)"
      ]
    },
    {
      "cell_type": "markdown",
      "metadata": {
        "id": "U--zhAMmKIwK"
      },
      "source": [
        "La segunda declaración selecciona el carácter número 1 de `fruta` y lo asigna a la variable `letra`.\n",
        "\n",
        "La expresión entre corchetes se llama *índice*. El índice indica qué carácter de la secuencia desea (de ahí el nombre).\n",
        "\n",
        "En  una cadena el primer carácter tiene índice `0`, el segundo tiene índice `1` y así sucesivamente. Por ejemplo:"
      ]
    },
    {
      "cell_type": "code",
      "execution_count": null,
      "metadata": {
        "id": "cmlfEQ8SKx9h",
        "colab": {
          "base_uri": "https://localhost:8080/"
        },
        "outputId": "b4d20452-c6d4-4915-a021-1f5c4dd6a829"
      },
      "outputs": [
        {
          "output_type": "stream",
          "name": "stdout",
          "text": [
            "b\n",
            "a\n",
            "n\n"
          ]
        }
      ],
      "source": [
        "print(fruta[0])\n",
        "print(letra)\n",
        "print(fruta[2])"
      ]
    },
    {
      "cell_type": "markdown",
      "metadata": {
        "id": "CfT4MxfTKyEg"
      },
      "source": [
        "nos imprime en patalla `b`, `a`, `n` respectivamente.\n",
        "\n",
        "Se puede usar como índices expresiones que contengan variables y operadores:"
      ]
    },
    {
      "cell_type": "code",
      "execution_count": null,
      "metadata": {
        "id": "4bCZooFoLeqE",
        "colab": {
          "base_uri": "https://localhost:8080/"
        },
        "outputId": "7f33ce70-2207-40ad-c7dc-c98ab7cfc90a"
      },
      "outputs": [
        {
          "output_type": "stream",
          "name": "stdout",
          "text": [
            "banana\n",
            "a\n",
            "n\n"
          ]
        }
      ],
      "source": [
        "i = 1\n",
        "print(fruta)\n",
        "print(fruta[i])\n",
        "print(fruta[i + 1])"
      ]
    },
    {
      "cell_type": "markdown",
      "metadata": {
        "id": "iyfVlXhqLeyw"
      },
      "source": [
        "Pero el valor del índice debe ser un número entero. De lo contrario, se obtiene un error.\n",
        "\n",
        "Si tratamos de acceder a una posición no negativa donde la cadena no está definida, obtenemos error. Por ejemplo\n",
        "\n",
        "\n",
        "```\n",
        "'banana'[5]\n",
        "```\n",
        "es legal, mientras que\n",
        "\n",
        "\n",
        "```\n",
        "'banana'[6]\n",
        "'banana'[10]\n",
        "```\n",
        "son expresiones que devuelven error.\n",
        "\n",
        "\n",
        "\n",
        "\n"
      ]
    },
    {
      "cell_type": "code",
      "source": [
        "'banana'[5]"
      ],
      "metadata": {
        "colab": {
          "base_uri": "https://localhost:8080/",
          "height": 35
        },
        "id": "btcir8_TPtxi",
        "outputId": "aa75e748-5d0a-4476-8bfd-aec14065965c"
      },
      "execution_count": null,
      "outputs": [
        {
          "output_type": "execute_result",
          "data": {
            "text/plain": [
              "'a'"
            ],
            "application/vnd.google.colaboratory.intrinsic+json": {
              "type": "string"
            }
          },
          "metadata": {},
          "execution_count": 24
        }
      ]
    },
    {
      "cell_type": "code",
      "source": [
        "'banana'[6]"
      ],
      "metadata": {
        "id": "G0e3cV5V5y9y",
        "colab": {
          "base_uri": "https://localhost:8080/",
          "height": 167
        },
        "outputId": "8e865e67-6586-455c-e1f6-eb91baad73bf"
      },
      "execution_count": null,
      "outputs": [
        {
          "output_type": "error",
          "ename": "IndexError",
          "evalue": "ignored",
          "traceback": [
            "\u001b[0;31m---------------------------------------------------------------------------\u001b[0m",
            "\u001b[0;31mIndexError\u001b[0m                                Traceback (most recent call last)",
            "\u001b[0;32m<ipython-input-23-df58d66cfa59>\u001b[0m in \u001b[0;36m<cell line: 1>\u001b[0;34m()\u001b[0m\n\u001b[0;32m----> 1\u001b[0;31m \u001b[0;34m'banana'\u001b[0m\u001b[0;34m[\u001b[0m\u001b[0;36m6\u001b[0m\u001b[0;34m]\u001b[0m\u001b[0;34m\u001b[0m\u001b[0;34m\u001b[0m\u001b[0m\n\u001b[0m",
            "\u001b[0;31mIndexError\u001b[0m: string index out of range"
          ]
        }
      ]
    },
    {
      "cell_type": "markdown",
      "source": [
        "**Concatenar cadenas.** Una de las operaciones más útiles entre cadenas es la de  *concatenación* que simplemente \"pega\" dos cadenas,  una después de otra. Para concatenar  cadenas se usa el operador `+`. Por ejemplo:"
      ],
      "metadata": {
        "id": "zWw3aYHz5zo6"
      }
    },
    {
      "cell_type": "code",
      "execution_count": null,
      "metadata": {
        "id": "CxsRUVNSR3pr",
        "colab": {
          "base_uri": "https://localhost:8080/",
          "height": 35
        },
        "outputId": "af3e2014-b77d-4b14-a424-ca81bcb53ae3"
      },
      "outputs": [
        {
          "output_type": "execute_result",
          "data": {
            "text/plain": [
              "'DNI: 99456321'"
            ],
            "application/vnd.google.colaboratory.intrinsic+json": {
              "type": "string"
            }
          },
          "metadata": {},
          "execution_count": 25
        }
      ],
      "source": [
        "tipo_doc = 'DNI: '\n",
        "nro_doc = '99456321'\n",
        "tipo_doc + nro_doc"
      ]
    },
    {
      "cell_type": "markdown",
      "metadata": {
        "id": "dM60fcGfScw1"
      },
      "source": [
        "Se puede aplicar varias veces en una misma expresión entre cadenas el operador `+`. El operador `+` es asociativo,  pero, obviamente, no es conmutativo. El *neutro* es la cadena vacía `''`,  es decir\n",
        "```\n",
        "cadena + '' == cadena\n",
        "```"
      ]
    },
    {
      "cell_type": "markdown",
      "metadata": {
        "id": "gBJSu0evR3xA"
      },
      "source": [
        "\n",
        "\n",
        "**La función `len`.** `len` es una función incorporada que devuelve el número de caracteres en una cadena:"
      ]
    },
    {
      "cell_type": "code",
      "execution_count": null,
      "metadata": {
        "id": "3Cl_0a8AMNg0",
        "colab": {
          "base_uri": "https://localhost:8080/"
        },
        "outputId": "e2b83a40-9e76-4029-dbbc-eae65fe8e10f"
      },
      "outputs": [
        {
          "output_type": "execute_result",
          "data": {
            "text/plain": [
              "6"
            ]
          },
          "metadata": {},
          "execution_count": 26
        }
      ],
      "source": [
        "fruta = 'banana'\n",
        "len(fruta)"
      ]
    },
    {
      "cell_type": "markdown",
      "metadata": {
        "id": "tXVW8bqwMNpF"
      },
      "source": [
        "Observar que para obtener la última letra de una cadena debemos  usar como índice la longitud de la cadena menos 1:"
      ]
    },
    {
      "cell_type": "code",
      "execution_count": null,
      "metadata": {
        "id": "d1pokptKMhNr"
      },
      "outputs": [],
      "source": [
        "fruta[len(fruta) - 1]"
      ]
    },
    {
      "cell_type": "markdown",
      "metadata": {
        "id": "lJMlhDEJMhV9"
      },
      "source": [
        "La instrucción `fruta[len(fruta)]` nos devoverá un error pues el índice `len(fruta)` se refiere al elemento   `len(fruta)+1`-ésimo de la cadena y  ese elemento no existe. En este caso particular, el motivo del error es que no hay ninguna letra en` 'banana'` con el índice 6. Como empezamos a contar desde cero, las seis letras están numeradas del 0 al 5. Para obtener el último carácter, se debe restar 1 de `len(fruta)`:\n",
        "\n",
        "También se  pueden usar índices negativos, que cuentan hacia atrás desde el final de la cadena. La expresión `fruta[-1]` da como resultado la última letra, `fruta[-2]` da como resultado la penúltima, y ​​así sucesivamente.\n"
      ]
    },
    {
      "cell_type": "code",
      "source": [
        "# Ejemplo de uso de len en el for\n",
        "palabra = 'anocheciendo'\n",
        "for i in range(len(palabra)):\n",
        "    print(i, palabra[i])"
      ],
      "metadata": {
        "id": "Hk9cr8Mb7GAN",
        "colab": {
          "base_uri": "https://localhost:8080/"
        },
        "outputId": "dc3a2fcc-ccf1-4efa-9990-e24b97a7a997"
      },
      "execution_count": null,
      "outputs": [
        {
          "output_type": "stream",
          "name": "stdout",
          "text": [
            "0 a\n",
            "1 n\n",
            "2 o\n",
            "3 c\n",
            "4 h\n",
            "5 e\n",
            "6 c\n",
            "7 i\n",
            "8 e\n",
            "9 n\n",
            "10 d\n",
            "11 o\n"
          ]
        }
      ]
    },
    {
      "cell_type": "markdown",
      "source": [
        "Tambié podríamos haber hecho:"
      ],
      "metadata": {
        "id": "npvKWTT07zVh"
      }
    },
    {
      "cell_type": "code",
      "source": [
        "for letra in palabra:\n",
        "    print(letra)"
      ],
      "metadata": {
        "id": "IE19uRfB72qi",
        "colab": {
          "base_uri": "https://localhost:8080/"
        },
        "outputId": "3e4c31af-54a0-4a34-823c-d9a8163a9527"
      },
      "execution_count": null,
      "outputs": [
        {
          "output_type": "stream",
          "name": "stdout",
          "text": [
            "a\n",
            "n\n",
            "o\n",
            "c\n",
            "h\n",
            "e\n",
            "c\n",
            "i\n",
            "e\n",
            "n\n",
            "d\n",
            "o\n"
          ]
        }
      ]
    },
    {
      "cell_type": "code",
      "source": [
        "# Ejemplo. Letras que están en índices pares\n",
        "for i in range(len(palabra)):\n",
        "    if i % 2 == 0:\n",
        "        print(i, palabra[i])"
      ],
      "metadata": {
        "id": "sgLMo0st7whL",
        "colab": {
          "base_uri": "https://localhost:8080/"
        },
        "outputId": "f955208b-32a4-4928-ab1a-8c4c0bf6d730"
      },
      "execution_count": null,
      "outputs": [
        {
          "output_type": "stream",
          "name": "stdout",
          "text": [
            "0 a\n",
            "2 o\n",
            "4 h\n",
            "6 c\n",
            "8 e\n",
            "10 d\n"
          ]
        }
      ]
    },
    {
      "cell_type": "code",
      "source": [
        "for i in range(len(palabra) // 2):\n",
        "    print(2*i, palabra[2*i])"
      ],
      "metadata": {
        "id": "g35779GX8k15",
        "colab": {
          "base_uri": "https://localhost:8080/"
        },
        "outputId": "1a0506b7-60f4-4f27-e762-be9355d3f08f"
      },
      "execution_count": null,
      "outputs": [
        {
          "output_type": "stream",
          "name": "stdout",
          "text": [
            "0 a\n",
            "2 o\n",
            "4 h\n",
            "6 c\n",
            "8 e\n",
            "10 d\n"
          ]
        }
      ]
    },
    {
      "cell_type": "code",
      "source": [
        "for i in range(0, len(palabra),2):\n",
        "    print(i, palabra[i])"
      ],
      "metadata": {
        "id": "1e2-3sbw81xx",
        "colab": {
          "base_uri": "https://localhost:8080/"
        },
        "outputId": "e5ceed69-5c27-440d-ec8e-c1539a725596"
      },
      "execution_count": null,
      "outputs": [
        {
          "output_type": "stream",
          "name": "stdout",
          "text": [
            "0 a\n",
            "2 o\n",
            "4 h\n",
            "6 c\n",
            "8 e\n",
            "10 d\n"
          ]
        }
      ]
    },
    {
      "cell_type": "markdown",
      "source": [
        "\n",
        "**Las cadenas son inmutables.**  Es tentador usar el operador `[]` en el lado izquierdo de una asignación, con la intención de cambiar un carácter en una cadena. Por ejemplo, si ejecutamos:"
      ],
      "metadata": {
        "id": "90Ef7WyW6_1q"
      }
    },
    {
      "cell_type": "code",
      "execution_count": null,
      "metadata": {
        "id": "IqbrVJdpOpOQ"
      },
      "outputs": [],
      "source": [
        "cadena = 'ab'\n",
        "cadena[0] = 'x'"
      ]
    },
    {
      "cell_type": "markdown",
      "metadata": {
        "id": "XuCRtmS7OpWl"
      },
      "source": [
        "nos devuelve\n",
        "\n",
        "    TypeError: 'str' object does not support item assignment\n",
        "\n",
        "que nos dice que el tipo `str` no admite asignación de items.\n",
        "\n",
        "El motivo del error es que las cadenas son *inmutables*, lo que significa que no se puede cambiar un cadena existente. Lo que sí se puede hacer es crear una nueva cadena que es una variación del original:"
      ]
    },
    {
      "cell_type": "code",
      "execution_count": null,
      "metadata": {
        "id": "GCyliraaPn1o",
        "colab": {
          "base_uri": "https://localhost:8080/",
          "height": 35
        },
        "outputId": "919beb1b-f934-4421-bedb-5c4669f7aaf0"
      },
      "outputs": [
        {
          "output_type": "execute_result",
          "data": {
            "text/plain": [
              "'xb'"
            ],
            "application/vnd.google.colaboratory.intrinsic+json": {
              "type": "string"
            }
          },
          "metadata": {},
          "execution_count": 33
        }
      ],
      "source": [
        "cadena = 'ab'\n",
        "cadena2 = 'x' + cadena[1]\n",
        "cadena2"
      ]
    },
    {
      "cell_type": "markdown",
      "metadata": {
        "id": "wspe4zkvPn9O"
      },
      "source": [
        "Este ejemplo concatena una nueva primera letra con el final de `cadena` y no tiene ningún efecto sobre la cadena original. Por supuesto, que también podríamos haber hecho"
      ]
    },
    {
      "cell_type": "code",
      "execution_count": null,
      "metadata": {
        "id": "hBu8JfswyYPk",
        "colab": {
          "base_uri": "https://localhost:8080/",
          "height": 35
        },
        "outputId": "e840cdf7-73e7-4d83-9536-9057163e8a15"
      },
      "outputs": [
        {
          "output_type": "execute_result",
          "data": {
            "text/plain": [
              "'xb'"
            ],
            "application/vnd.google.colaboratory.intrinsic+json": {
              "type": "string"
            }
          },
          "metadata": {},
          "execution_count": 35
        }
      ],
      "source": [
        "cadena = 'ab'\n",
        "cadena = 'x' + cadena[1]\n",
        "cadena"
      ]
    },
    {
      "cell_type": "markdown",
      "metadata": {
        "id": "mVnOqaYUQHVx"
      },
      "source": [
        "En este caso, en la segunda instrucción se destruye la variable original `cadena` y se crea otra variable,  que llamamos nuevamente `cadena`,  con otros valores. Estas tres líneas de programación *simulan* el cambio de un caracter en una cadena.  "
      ]
    },
    {
      "cell_type": "markdown",
      "metadata": {
        "id": "3AFavLV2Tgne"
      },
      "source": [
        "## 2. Recorriendo cadenas\n",
        "\n",
        "Muchos cálculos implican procesar una cadena de un carácter a la vez. A menudo se comienza por el principio, seleccionan un carácter por vez, se hace algo y se continúa hasta el final. Este patrón de procesamiento se llama *recorrido*. Una forma de escribir un recorrido es con un ciclo `while`:"
      ]
    },
    {
      "cell_type": "code",
      "execution_count": null,
      "metadata": {
        "id": "baub315EWNNZ"
      },
      "outputs": [],
      "source": [
        "fruta = 'banana'\n",
        "índice = 0\n",
        "while índice < len(fruta):\n",
        "    letra = fruta[índice]\n",
        "    print(letra)\n",
        "    índice = índice + 1"
      ]
    },
    {
      "cell_type": "markdown",
      "metadata": {
        "id": "7aRJriD4WNUH"
      },
      "source": [
        "Este ciclo recorre la cadena y muestra cada letra en una línea. La condición del ciclo es `índice < len(fruta)`, por lo que cuando `índice` es igual a la longitud de la cadena, la condición es falsa y el cuerpo del ciclo no se ejecuta. El último carácter al que se accede es el que tiene el índice `len(fruta) - 1`, que es el último carácter de la cadena.\n",
        "\n",
        "Como ejercicio, escribamos una función que tome una cadena como argumento y muestre las letras al revés, una por línea."
      ]
    },
    {
      "cell_type": "code",
      "execution_count": null,
      "metadata": {
        "id": "vMNeDgrD_1c6",
        "colab": {
          "base_uri": "https://localhost:8080/"
        },
        "outputId": "25f562ad-db54-490f-e03f-418d54274e78"
      },
      "outputs": [
        {
          "output_type": "stream",
          "name": "stdout",
          "text": [
            "a\n",
            "n\n",
            "a\n",
            "n\n",
            "a\n",
            "b\n"
          ]
        }
      ],
      "source": [
        "fruta = 'banana'\n",
        "índice = len(fruta) - 1\n",
        "while índice >= 0:\n",
        "    letra = fruta[índice]\n",
        "    print(letra)\n",
        "    índice = índice - 1"
      ]
    },
    {
      "cell_type": "markdown",
      "metadata": {
        "id": "DA0HpGrH_5bP"
      },
      "source": [
        "Como ya mencionamos, las cadena son iterables y por lo tanto pueden ser recorridas por un ciclo `for`. Por ejemplo,"
      ]
    },
    {
      "cell_type": "code",
      "execution_count": null,
      "metadata": {
        "id": "4WNPPROYXlKo",
        "colab": {
          "base_uri": "https://localhost:8080/"
        },
        "outputId": "ec7f7ea0-bb84-4556-9432-8a2fa7f433b7"
      },
      "outputs": [
        {
          "output_type": "stream",
          "name": "stdout",
          "text": [
            "b\n",
            "a\n",
            "n\n",
            "a\n",
            "n\n",
            "a\n"
          ]
        }
      ],
      "source": [
        "for letra in fruta:\n",
        "    print(letra)"
      ]
    },
    {
      "cell_type": "markdown",
      "metadata": {
        "id": "LKs-NgroXlSQ"
      },
      "source": [
        "Cada vez que pasa por el ciclo, el siguiente carácter de la cadena se asigna a la variable `letra`. El ciclo continúa hasta que no quedan caracteres.\n",
        "\n",
        "El siguiente ejemplo muestra cómo usar la concatenación (suma de cadenas) y un ciclo `for` para generar una serie de 9 items numerados, donde el contenido del ítem siempre es el mismo."
      ]
    },
    {
      "cell_type": "code",
      "execution_count": null,
      "metadata": {
        "id": "qnWsFTo6Ys6i",
        "colab": {
          "base_uri": "https://localhost:8080/"
        },
        "outputId": "c46792f7-4232-4bb3-e123-1973822a9d64"
      },
      "outputs": [
        {
          "output_type": "stream",
          "name": "stdout",
          "text": [
            "1. valija\n",
            "2. valija\n",
            "3. valija\n",
            "4. valija\n",
            "5. valija\n",
            "6. valija\n",
            "7. valija\n",
            "8. valija\n",
            "9. valija\n"
          ]
        }
      ],
      "source": [
        "prefijo = '123456789'\n",
        "item = 'valija'\n",
        "for x in prefijo:\n",
        "    print(x + '. ' + item)"
      ]
    },
    {
      "cell_type": "markdown",
      "metadata": {
        "id": "Vsvb8_lQYtB7"
      },
      "source": [
        "## 3. Notación slice\n",
        "\n",
        "\n",
        "Un segmento de una cadena es lo que se llama una *rebanada* o *slice* por su traducción al inglés. Seleccionar una slice es similar a seleccionar un carácter:"
      ]
    },
    {
      "cell_type": "code",
      "execution_count": null,
      "metadata": {
        "id": "QEHOP_9RZgxV",
        "colab": {
          "base_uri": "https://localhost:8080/"
        },
        "outputId": "e1d63cb8-c256-4960-8b78-9bc0ec4f10f5"
      },
      "outputs": [
        {
          "output_type": "stream",
          "name": "stdout",
          "text": [
            "ba\n",
            "nana\n"
          ]
        }
      ],
      "source": [
        "fruta = 'banana'\n",
        "print(fruta[0:2])\n",
        "print(fruta[2:6])"
      ]
    },
    {
      "cell_type": "markdown",
      "metadata": {
        "id": "uYzXS4Z4Zg5Q"
      },
      "source": [
        "El operador `[n : m]` devuelve la rebanada de la cadena del caracteres entre el \"corte\" `n`y el \"corte\" `m`. Ahora explicaremos lo que significa \"corte\", pero primero debemos aclarar que *no* se refiere a un índice,  sinó al corte entre dos elementos. Ejemplifiquemos con la cadena `banana`:\n",
        "$$\n",
        "\\begin{matrix}\n",
        "\\text{Cadena:} &|&\\tt b&|&\\tt a&|&\\tt n&|&\\tt a&|&\\tt n&|&\\tt a&|& \\\\\n",
        "\\text{Corte:}\\;\\;\\;&0&&1&&2&&3&&4&&5&&6& \\\\\n",
        "\\end{matrix}\n",
        "$$\n",
        "\n",
        "Observar que (imaginariamente) hemos puesto cada carácter en una casilla y  los cortes son las paredes de las casillas. Entonces las primeras 2 letras están entre las paredes 0 y 2  y las últimas 4 letras entre las paredes 2 y 6.\n",
        "\n",
        "Si se omite el primer índice (antes de los dos puntos), el segmento comienza al principio de la cadena. Si omite el segundo índice, el segmento va al final de la cadena:\n"
      ]
    },
    {
      "cell_type": "code",
      "execution_count": null,
      "metadata": {
        "id": "3XjTVEeKc1R1",
        "colab": {
          "base_uri": "https://localhost:8080/"
        },
        "outputId": "64889b53-1573-4610-fbea-022fa2dd53af"
      },
      "outputs": [
        {
          "output_type": "stream",
          "name": "stdout",
          "text": [
            "ba\n",
            "nana\n",
            "sobretodo\n",
            "sobre\n",
            "todo\n",
            "sobre\n",
            "sobretodo\n"
          ]
        }
      ],
      "source": [
        "fruta = 'banana'\n",
        "print(fruta[:2])\n",
        "print(fruta[2:])\n",
        "\n",
        "cadena = 'sobretodo'\n",
        "print(cadena)\n",
        "print(cadena[:5])\n",
        "print(cadena[5:])\n",
        "print(cadena[:5])\n",
        "print(cadena[:5] + cadena[5:])"
      ]
    },
    {
      "cell_type": "markdown",
      "metadata": {
        "id": "7FhBJtL9c1Z5"
      },
      "source": [
        "En la notación slice siempre `cadena == cadena[:n] + cadena[n:]`.\n",
        "\n",
        "Si el primer índice es mayor o igual que el segundo, el resultado es una cadena vacía, representada por dos comillas:"
      ]
    },
    {
      "cell_type": "code",
      "execution_count": null,
      "metadata": {
        "id": "RBOXsau5dIWb",
        "colab": {
          "base_uri": "https://localhost:8080/",
          "height": 36
        },
        "outputId": "74f9837d-3654-40d7-f508-b7bba91e49a8"
      },
      "outputs": [
        {
          "output_type": "execute_result",
          "data": {
            "text/plain": [
              "''"
            ],
            "application/vnd.google.colaboratory.intrinsic+json": {
              "type": "string"
            }
          },
          "metadata": {},
          "execution_count": 2
        }
      ],
      "source": [
        "fruta[3:3]"
      ]
    },
    {
      "cell_type": "markdown",
      "metadata": {
        "id": "i8wp_qRtdIfa"
      },
      "source": [
        "\n",
        "Una cadena vacía no contiene caracteres y tiene una longitud 0, pero aparte de eso, es igual que cualquier otra cadena.\n",
        "\n",
        "Continuando con este ejemplo, ¿qué crees que significa `fruta[:]`? Veamos:  "
      ]
    },
    {
      "cell_type": "code",
      "execution_count": null,
      "metadata": {
        "id": "oYa1QyGjTgzJ",
        "colab": {
          "base_uri": "https://localhost:8080/"
        },
        "outputId": "7f30d3f4-7700-4bd9-8fb9-6992775d9edb"
      },
      "outputs": [
        {
          "output_type": "stream",
          "name": "stdout",
          "text": [
            "banana\n",
            "banana\n",
            "banana\n"
          ]
        }
      ],
      "source": [
        "print(fruta)\n",
        "fruta2 = fruta[:]\n",
        "print(fruta2)\n",
        "\n",
        "fruta3 = ''\n",
        "for x in fruta:\n",
        "    fruta3 = fruta3 + x\n",
        "print(fruta3)"
      ]
    },
    {
      "cell_type": "markdown",
      "metadata": {
        "id": "soIOjxmzdcVU"
      },
      "source": [
        "Como habrás observado, `fruta[:]` reproduce la cadena original. Está instrucción es muy útil cuando queremos crear otra cadena copia de la cadena original:"
      ]
    },
    {
      "cell_type": "code",
      "execution_count": null,
      "metadata": {
        "id": "-1toMXOedcI4"
      },
      "outputs": [],
      "source": [
        "fruta = 'banana'\n",
        "fruta_2 = fruta[:]\n",
        "fruta_3 = fruta"
      ]
    },
    {
      "cell_type": "markdown",
      "metadata": {
        "id": "aW1XQCvDeBfW"
      },
      "source": [
        "Las variables `fruta`, `fruta_2` y `fruta_3` son variable diferentes que tienen el mismo valor. Es una diferencia sutil, pero es importante saber que existe. Por ejemplo, si yo destruyo y rehago por asignación la variable `fruta_2` o `frunta_3`, la variable `fruta` no cambia:"
      ]
    },
    {
      "cell_type": "code",
      "execution_count": null,
      "metadata": {
        "id": "K2mxgwBceiuC",
        "colab": {
          "base_uri": "https://localhost:8080/"
        },
        "outputId": "d2083e0a-35dc-4460-b84e-5f3c38175ff6"
      },
      "outputs": [
        {
          "output_type": "stream",
          "name": "stdout",
          "text": [
            "banana banana banana\n",
            "banana pera manzana\n"
          ]
        }
      ],
      "source": [
        "print(fruta, fruta_2, fruta_3)\n",
        "fruta_2 = 'pera'\n",
        "fruta_3 = 'manzana'\n",
        "print(fruta, fruta_2, fruta_3)"
      ]
    },
    {
      "cell_type": "markdown",
      "metadata": {
        "id": "0DyagKF1gx0g"
      },
      "source": [
        "Una propiedad importante de la notación slice, es que nunca devuelve error si los cortes son números enteros,  aunque a veces devuelve la cadena vacía:"
      ]
    },
    {
      "cell_type": "code",
      "execution_count": null,
      "metadata": {
        "id": "Xi6qHluDg91a",
        "colab": {
          "base_uri": "https://localhost:8080/"
        },
        "outputId": "47612d19-bf5c-44e1-b3e7-3857fbbf6e17"
      },
      "outputs": [
        {
          "output_type": "stream",
          "name": "stdout",
          "text": [
            "6789\n",
            "6789\n",
            "6789\n",
            "67\n",
            "\n",
            "orden[-4: 8] =  67\n",
            "orden[6: 8] =  67\n",
            "0123456789\n"
          ]
        }
      ],
      "source": [
        "orden = '0123456789'\n",
        "\n",
        "print(orden[-4:])  # desde el corte -4 (contando desde el último corte) hasta el corte 0\n",
        "print(orden[-4: len(orden)])\n",
        "print(orden[len(orden) -4: len(orden)])\n",
        "\n",
        "print(orden[-4: -2]) # desde el corte -4 (contando desde el último corte) hasta el corte -2\n",
        "print(orden[-4: 0])  # desde el corte -4 hasta el corte 0 (es la cadena vacía)\n",
        "print('orden[-4: 8] = ',orden[-4: 8]) # desde el corte -4 (contando desde el último corte) hasta el corte 8\n",
        "print('orden[6: 8] = ',orden[len(orden) - 4: 8])\n",
        "print(orden[-100:])"
      ]
    },
    {
      "cell_type": "markdown",
      "metadata": {
        "id": "8rUudI1DjXhV"
      },
      "source": [
        "Para no confundirse, solo hay que tener en cuenta que un entero negativo indica la posición (negativa) desde el último corte (que es `len(cadena)`)  y  un entero positivo indica la posición desde el primer corte.\n",
        "\n",
        "$$\n",
        "\\begin{matrix}\n",
        "\\text{Cadena:} &|&\\tt b&|&\\tt a&|&\\tt n&|&\\tt a&|&\\tt n&|&\\tt a&|& \\\\\n",
        "\\text{Corte:}\\;\\;\\;&-6&&-5&&-4&&-3&&-2&&-1&&& \\\\\n",
        "\\end{matrix}\n",
        "$$\n",
        "\n",
        "\n",
        "Es decir, si `-len(cadena) <= n < 0`,  el corte `n` de `cadena` es igual  al corte `n + len(cadena)` y si `n < -len(cadena)` el corte `n` es el corte `0`.\n",
        "\n"
      ]
    },
    {
      "cell_type": "code",
      "source": [
        "orden = '0123456789'\n",
        "lon = len(orden)\n",
        "print(orden[-4: 8])\n",
        "print(orden[-4 + lon: 8])"
      ],
      "metadata": {
        "id": "N51GhXJxEX-s",
        "colab": {
          "base_uri": "https://localhost:8080/"
        },
        "outputId": "860b6ff4-ba06-472f-87cd-3d7f7868be60"
      },
      "execution_count": null,
      "outputs": [
        {
          "output_type": "stream",
          "name": "stdout",
          "text": [
            "67\n",
            "67\n"
          ]
        }
      ]
    },
    {
      "cell_type": "markdown",
      "source": [
        "Finalmente, observar que si `n > 0`, `cadena[n-1 : n]` devuelve `cadena[n - 1]` si existe, y si no, devuelve la cadena vacía, mientras que  `cadena[n - 1]` devuelve  el ítem `n`-ésimo de `cadena` si existe y si no produce un error."
      ],
      "metadata": {
        "id": "_vjub5tZET3e"
      }
    },
    {
      "cell_type": "code",
      "execution_count": null,
      "metadata": {
        "id": "g-axabSVl_tE",
        "colab": {
          "base_uri": "https://localhost:8080/"
        },
        "outputId": "6df0572b-b89c-4b2b-a14d-f41769db284f"
      },
      "outputs": [
        {
          "output_type": "stream",
          "name": "stdout",
          "text": [
            "0123456789\n",
            "0\n",
            "1\n",
            "2\n",
            "8\n",
            "9 9\n",
            "\n"
          ]
        }
      ],
      "source": [
        "orden = '0123456789'\n",
        "print(orden)\n",
        "print(orden[0:1]) # imprime 0\n",
        "print(orden[1:2]) # imprime 1\n",
        "print(orden[2:3]) # imprime 2\n",
        "print(orden[8:9]) # imprime 8\n",
        "print(orden[9:10], orden[9]) # imprime 9 dos veces\n",
        "print(orden[10:11]) # imprime la cadena vacía\n",
        "# print(orden[10]) # descomentada devuelve error"
      ]
    },
    {
      "cell_type": "markdown",
      "metadata": {
        "id": "BiZfB8sNo3uM"
      },
      "source": [
        "## 4. Métodos de cadenas\n",
        "\n",
        "\n",
        "Las cadenas proporcionan métodos que realizan una variedad de operaciones útiles. Un método es similar a una función, toma argumentos y\n",
        "devuelve un valor, pero la sintaxis es diferente. Por ejemplo, el método `upper()` toma una cadena y devuelve una nueva cadena con todas las letras mayúsculas.\n",
        "\n",
        "En lugar de utilizar la sintaxis de función `upper(palabra)`, se utiliza la sintaxis de método `palabra.upper()`.\n"
      ]
    },
    {
      "cell_type": "code",
      "execution_count": null,
      "metadata": {
        "id": "66M1O3fRpTjG",
        "colab": {
          "base_uri": "https://localhost:8080/"
        },
        "outputId": "8734ba7e-8669-4c79-ab48-bc2bdd113941"
      },
      "outputs": [
        {
          "output_type": "stream",
          "name": "stdout",
          "text": [
            "LECCIÓN AÑO 2019\n"
          ]
        }
      ],
      "source": [
        "palabra = 'colección año 2019'\n",
        "nueva_palabra = palabra[2:].upper()\n",
        "print(nueva_palabra)"
      ]
    },
    {
      "cell_type": "markdown",
      "metadata": {
        "id": "QkLN_IOopTqQ"
      },
      "source": [
        "\n",
        "\n",
        "\n",
        "Esta forma de notación con puntos especifica el nombre del método, `upper()`, y el nombre de la cadena a la que aplicar el método,`palabra`. Los paréntesis vacíos indican que este método  acepta ser utilizado sin argumentos. En  realidad, el método `upper()` no acepta argumentos.\n",
        "\n",
        "Una llamada a un método se denomina *invocación*; en este caso, diríamos que estamos invocando `upper()` en `palabra`.\n",
        "\n",
        "Hay un método de cadena llamado `find()` que devuelve la coordenada de la primera ocurrencia de una cadena en otra cadena:"
      ]
    },
    {
      "cell_type": "code",
      "execution_count": null,
      "metadata": {
        "id": "6scwQQp_qD_f",
        "colab": {
          "base_uri": "https://localhost:8080/"
        },
        "outputId": "3edf75be-cb7a-4f89-8c76-cb2f67fd6480"
      },
      "outputs": [
        {
          "output_type": "stream",
          "name": "stdout",
          "text": [
            "3\n",
            "0\n",
            "-1\n",
            "5\n",
            "-1\n",
            "-1\n"
          ]
        }
      ],
      "source": [
        "palabra = 'colección'\n",
        "print(palabra.find('e'))\n",
        "print(palabra.find('c'))\n",
        "print(palabra.find('a'))\n",
        "print(palabra.find('ci'))\n",
        "print(palabra.find('x'))\n",
        "print(palabra.find('ce'))"
      ]
    },
    {
      "cell_type": "markdown",
      "metadata": {
        "id": "PeFlu2miqELt"
      },
      "source": [
        "En este ejemplo, invocamos `find()` en `palabra` y pasamos la cadena que estamos buscando como parámetro. Cuando `find()` no encuentra lo que busca devuelve `-1`.\n",
        "\n",
        "De forma predeterminada, `find()` comienza al principio de la cadena, pero puede tomar un segundo argumento, el índice donde comienza a buscar:"
      ]
    },
    {
      "cell_type": "code",
      "execution_count": null,
      "metadata": {
        "id": "UD9LygZSq44S",
        "colab": {
          "base_uri": "https://localhost:8080/"
        },
        "outputId": "6255e540-a5b6-485c-83f3-00af75812d83"
      },
      "outputs": [
        {
          "output_type": "stream",
          "name": "stdout",
          "text": [
            "colección año 2019\n",
            "2\n",
            "0\n",
            "4\n"
          ]
        }
      ],
      "source": [
        "print(palabra)\n",
        "print(palabra.find('le'))\n",
        "print(palabra.find('c'))\n",
        "print(palabra.find('c',1))\n"
      ]
    },
    {
      "cell_type": "markdown",
      "metadata": {
        "id": "C3YD74lxq5Ap"
      },
      "source": [
        "Este es un ejemplo de un *argumento opcional*; `find()` también puede tomar un tercer argumento, el índice donde detiene la búsqueda:\n"
      ]
    },
    {
      "cell_type": "code",
      "execution_count": null,
      "metadata": {
        "id": "qPGl1rN2rVT9",
        "colab": {
          "base_uri": "https://localhost:8080/"
        },
        "outputId": "10d744fd-b3df-43bf-cda3-fa3ed0289fb9"
      },
      "outputs": [
        {
          "output_type": "stream",
          "name": "stdout",
          "text": [
            "3\n"
          ]
        }
      ],
      "source": [
        "fruta = 'banana'\n",
        "print(fruta.find('a', 2, 6))"
      ]
    },
    {
      "cell_type": "markdown",
      "metadata": {
        "id": "TGQV5cLirVeR"
      },
      "source": [
        "El código anterior encuentra la primera ocurrencia de `a` en la palabra `banana` entre los índices 2 y 6.\n",
        "\n",
        "**Otros métodos útiles.** Hay una gran cantidad de métodos del tipo `str` incorporados al lenguaje Python. Veremos a continuación algunos que resultan útiles con alguna breve explicación de que es lo que hacen.\n",
        "\n",
        "| Método | |  |\n",
        "| :--- | :---: |:--- |\n",
        "|find() |:| busca en la cadena un valor especificado y devuelve la posición de donde lo encontró|\n",
        "|rfind() |:| busca en la cadena un valor especificado y devuelve la última posición donde lo encontró|\n",
        "|replace() |:| devuelve una cadena donde un el 1º valor especificado se reemplaza por el 2º valor especificado|\n",
        "|strip() |:| devuelve la cadena sin espacios, tabs, saltos al comienzo y al final|\n",
        "|lstrip() |:| devuelve la cadena sin espacios, tabs, saltos al comienzo|\n",
        "|rstrip() |:| devuelve la cadena sin espacios, tabs, saltos al final|\n",
        "|upper() |:| devuelve la cadena original convertida a mayúsculas|\n",
        "|lower() |:| devuelve la cadena original convertida a minúsculas|\n",
        "|capitalize() |:| devuelve la cadena original con el primer carácter a mayúsculas|\n",
        "|title() |:| devuelve la cadena original con el primer carácter de cada palabra a mayúsculas|\n",
        "|islower() |:| devuelve `True` si todos los caracteres de la cadena son minúsculas|\n",
        "|isupper() |:| devuelve `True` si todos los caracteres de la cadena están en mayúsculas|\n",
        "|isnumeric() |:| devuelve `True` si todos los caracteres de la cadena son dígitos|\n",
        "\n",
        "Ninguno de estos métodos modifica la cadena original.\n",
        "\n",
        "Hay algunos métodos más y si importamos la biblioteca `string` aún habrá más métodos disponibles. No es necesario saberse de memoria muchos métodos, siempre está el recurso de internet para saber cual es el nombre de un método o cuales son los métodos disponibles.\n",
        "\n",
        "Veamos ejemplos:\n",
        "\n"
      ]
    },
    {
      "cell_type": "code",
      "execution_count": null,
      "metadata": {
        "id": "qkt_h-8lykY7",
        "colab": {
          "base_uri": "https://localhost:8080/"
        },
        "outputId": "f85c0c1e-fcf2-4d76-a827-d3d912c27a6c"
      },
      "outputs": [
        {
          "output_type": "stream",
          "name": "stdout",
          "text": [
            "5\n",
            "xolexxión\n",
            "colección\n",
            "  banana\n",
            "banana\n",
            "Álgebra Lineal\n",
            "álgebra lineal\n"
          ]
        }
      ],
      "source": [
        "palabra = 'colección'\n",
        "print(palabra.rfind('c'))\n",
        "print(palabra.replace('c', 'x')) # reemplaza todas la ocurrencias de 'c' por 'x'\n",
        "print(palabra) # el método replace() no modifica la variable original\n",
        "fruta = '  banana'\n",
        "print(fruta)\n",
        "fruta = fruta.strip()\n",
        "print(fruta)\n",
        "materia = 'álgebra lineal'\n",
        "mat = materia.title()\n",
        "print(mat) # Observar que capitaliza también palabras con tilde\n",
        "print(materia) # el método title() no modifica la variable original"
      ]
    },
    {
      "cell_type": "markdown",
      "metadata": {
        "id": "gy7JCBoAykkD"
      },
      "source": [
        "**Caracteres especiales.** Hay en Python algunos pocos caracteres especiales que sirven para representar ciertas cadenas:\n",
        "- `\\n` - nueva línea.\n",
        "- `\\t` - tabulación.\n",
        "- `\\r` - carriage return.\n",
        "- `\\b` - retroceso.\n",
        "- `\\'` - comilla simple.\n",
        "- `\\\"` - comilla doble.\n",
        "- `\\\\` - barra invertida.  \n",
        "\n",
        "Por ejemplo:"
      ]
    },
    {
      "cell_type": "code",
      "execution_count": null,
      "metadata": {
        "id": "AYKgTexG45Ku",
        "colab": {
          "base_uri": "https://localhost:8080/"
        },
        "outputId": "06599e63-7da8-485d-bc3f-ef4411f57c43"
      },
      "outputs": [
        {
          "output_type": "stream",
          "name": "stdout",
          "text": [
            "La lista de nominados es:     \n",
            "\t1. Alberto \"el bocha\" Gandolfo,\n",
            "\t2. Carlos 'terremoto' Rodríguez. \n"
          ]
        }
      ],
      "source": [
        "print('La lista de nominados es: \\\n",
        "    \\n\\t1. Alberto \"el bocha\\\" Gandolfo,\\n\\t2. Carlos \\'terremoto\\' Rodríguez. ')"
      ]
    },
    {
      "cell_type": "markdown",
      "metadata": {
        "id": "NrKr68wT6mvK"
      },
      "source": [
        "## 5. El operador `in`\n",
        "\n",
        "La palabra `in` es un operador booleano que toma dos cadenas y devuelve `True` si el primero aparece como una subcadena en el segundo:"
      ]
    },
    {
      "cell_type": "code",
      "execution_count": null,
      "metadata": {
        "id": "LFDg9_ns6m5A",
        "colab": {
          "base_uri": "https://localhost:8080/"
        },
        "outputId": "d0532e9f-3aee-4ead-c5f1-8a34cdc5c5b5"
      },
      "outputs": [
        {
          "output_type": "stream",
          "name": "stdout",
          "text": [
            "True\n",
            "True\n",
            "False\n"
          ]
        }
      ],
      "source": [
        "print('a' in 'banana')\n",
        "print('an' in 'banana')\n",
        "print('es' in  'banana')"
      ]
    },
    {
      "cell_type": "markdown",
      "metadata": {
        "id": "BQcLN_dV7EGj"
      },
      "source": [
        "Por ejemplo, la siguiente función imprime todas los\n",
        "letras de `palabra1` que también aparecen en `palabra2`:"
      ]
    },
    {
      "cell_type": "code",
      "execution_count": null,
      "metadata": {
        "id": "NjJDL-Nf7fTL",
        "colab": {
          "base_uri": "https://localhost:8080/"
        },
        "outputId": "89a20788-37f6-432e-db5f-27f76b5217f6"
      },
      "outputs": [
        {
          "output_type": "stream",
          "name": "stdout",
          "text": [
            "anana\n",
            "coc"
          ]
        }
      ],
      "source": [
        "def en_ambas(palabra1, palabra2: str):\n",
        "     assert type(palabra1) == type(palabra2) == str, 'Los parametros deben ser \\'str\\''\n",
        "     # post: imprime todas los letras (una tras otra) de palabra1 que también aparecen en palabra2\n",
        "     for letra in palabra1:\n",
        "         if letra in palabra2:\n",
        "             print(letra, end = '') # end = '' no pasa de línea\n",
        "\n",
        "en_ambas('banana', 'pajaron')\n",
        "print() # pasa de línea\n",
        "en_ambas('recolectar', 'coz')"
      ]
    },
    {
      "cell_type": "markdown",
      "metadata": {
        "id": "nznxDKhn-3EY"
      },
      "source": [
        "## 6. Comparación de cadenas\n",
        "\n",
        "Los operadores relacionales funcionan con cadenas. Para ver si dos cadenas son iguales, por ejemplo:"
      ]
    },
    {
      "cell_type": "code",
      "execution_count": null,
      "metadata": {
        "id": "aY-MEMwG_EyY",
        "colab": {
          "base_uri": "https://localhost:8080/"
        },
        "outputId": "11df27c0-735d-4c0c-8e65-803ddea54b48"
      },
      "outputs": [
        {
          "output_type": "stream",
          "name": "stdout",
          "text": [
            "False\n",
            "True\n"
          ]
        }
      ],
      "source": [
        "palabra1, palabra2, palabra3 = 'banana', 'anana', 'banana'\n",
        "print(palabra1 == palabra2)\n",
        "print(palabra1 == palabra3)"
      ]
    },
    {
      "cell_type": "markdown",
      "metadata": {
        "id": "caC22gLP_E6M"
      },
      "source": [
        "Otras operaciones relacionales son útiles para poner palabras en orden alfabético. El operador `<` funciona como orden alfabético, llamado *orden lexicogáfico*, en las cadenas donde todos los caracteres son letras minúsculas y sin tilde:"
      ]
    },
    {
      "cell_type": "code",
      "execution_count": null,
      "metadata": {
        "id": "UUzrSn9V_nm7",
        "colab": {
          "base_uri": "https://localhost:8080/"
        },
        "outputId": "f9d886ce-166c-4b99-d967-fce34adbe179"
      },
      "outputs": [
        {
          "output_type": "stream",
          "name": "stdout",
          "text": [
            "La primera palabra: \"anana\", viene antes que la segunda palabra: \"banana\".\n",
            "La segunda palabra: \"anana\", viene antes que la primera palabra: \"banana\".\n",
            "Ambas balabras son iguales: \"anana\".\n"
          ]
        }
      ],
      "source": [
        "def orden_alfabetico(palabra1, palabra2):\n",
        "    if palabra1 < palabra2:\n",
        "        print('La primera palabra: \"' + palabra1 + '\", viene antes que la segunda palabra: \"' + palabra2 + '\".')\n",
        "    elif palabra1 > palabra2:\n",
        "        print('La segunda palabra: \"' + palabra2 + '\", viene antes que la primera palabra: \"' + palabra1 + '\".')\n",
        "    else:\n",
        "        print('Ambas balabras son iguales: \"' + palabra1 + '\".')\n",
        "\n",
        "orden_alfabetico('anana', 'banana')\n",
        "orden_alfabetico('banana', 'anana')\n",
        "orden_alfabetico('anana', 'anana')"
      ]
    },
    {
      "cell_type": "markdown",
      "metadata": {
        "id": "CX8kdhQn_nt6"
      },
      "source": [
        "\n",
        "Python no maneja letras mayúsculas y minúsculas de la misma manera\n",
        "lo hace la gente. Todas las letras mayúsculas vienen antes de todas las\n",
        "letras minúsculas, entonces:"
      ]
    },
    {
      "cell_type": "code",
      "execution_count": null,
      "metadata": {
        "id": "aZr3O751Bb6H",
        "colab": {
          "base_uri": "https://localhost:8080/"
        },
        "outputId": "9d56dfde-1d63-4311-bdb6-609c63cdb9dc"
      },
      "outputs": [
        {
          "output_type": "stream",
          "name": "stdout",
          "text": [
            "La primera palabra: \"Banana\", viene antes que la segunda palabra: \"anana\".\n"
          ]
        }
      ],
      "source": [
        "orden_alfabetico('Banana', 'anana')"
      ]
    },
    {
      "cell_type": "markdown",
      "metadata": {
        "id": "PsQKSk60Bu66"
      },
      "source": [
        "Una forma común de abordar el problema de hacer un órden alfabético con palabras que admitan mayúsculas es convertir las cadenas en un\n",
        "formato estándar, como ser todo en minúsculas, antes de realizar la\n",
        "comparación.\n",
        "\n",
        "Mofificamos la función:"
      ]
    },
    {
      "cell_type": "code",
      "execution_count": null,
      "metadata": {
        "id": "vPJg5VCG0vWP",
        "colab": {
          "base_uri": "https://localhost:8080/"
        },
        "outputId": "3180ac00-9a91-41a4-f66f-bc5483160321"
      },
      "outputs": [
        {
          "output_type": "stream",
          "name": "stdout",
          "text": [
            "La primera palabra: \"anana\", viene antes que la segunda palabra: \"banana\".\n",
            "La segunda palabra: \"anana\", viene antes que la primera palabra: \"Banana\".\n",
            "Ambas balabras tienen la misma posición: \"anana\".\n"
          ]
        }
      ],
      "source": [
        "def orden_alfabetico(palabra1, palabra2):\n",
        "    p1, p2 = palabra1.lower(), palabra2.lower()\n",
        "    if p1 < p2:\n",
        "        print('La primera palabra: \"' + palabra1 + '\", viene antes que la segunda palabra: \"' + palabra2 + '\".')\n",
        "    elif p1 > p2:\n",
        "        print('La segunda palabra: \"' + palabra2 + '\", viene antes que la primera palabra: \"' + palabra1 + '\".')\n",
        "    else:\n",
        "        print('Ambas balabras tienen la misma posición: \"' + p1 + '\".')\n",
        "\n",
        "orden_alfabetico('anana', 'banana')\n",
        "orden_alfabetico('Banana', 'anana')\n",
        "orden_alfabetico('anana', 'Anana')"
      ]
    },
    {
      "cell_type": "markdown",
      "metadata": {
        "id": "Cuz4O5PC0vWQ"
      },
      "source": [
        "Otro problema es con las letras con tilde: estas van después de todas las letras mayúsculas y minúsculas sin tilde"
      ]
    },
    {
      "cell_type": "code",
      "execution_count": null,
      "metadata": {
        "id": "_kRxivZ6BvIP",
        "colab": {
          "base_uri": "https://localhost:8080/"
        },
        "outputId": "2c8698d1-43cc-463a-f379-99bb123a1530"
      },
      "outputs": [
        {
          "output_type": "stream",
          "name": "stdout",
          "text": [
            "La segunda palabra: \"calculadora\", viene antes que la primera palabra: \"ábaco\".\n"
          ]
        }
      ],
      "source": [
        "orden_alfabetico('ábaco', 'calculadora')"
      ]
    },
    {
      "cell_type": "markdown",
      "metadata": {
        "id": "6WsqrEdhBcCl"
      },
      "source": [
        "Esto es un poco más complicado de solucionar que el caso anterior y no lo veremos aquí."
      ]
    }
  ],
  "metadata": {
    "colab": {
      "provenance": []
    },
    "kernelspec": {
      "display_name": "Python 3 (ipykernel)",
      "language": "python",
      "name": "python3"
    },
    "language_info": {
      "codemirror_mode": {
        "name": "ipython",
        "version": 3
      },
      "file_extension": ".py",
      "mimetype": "text/x-python",
      "name": "python",
      "nbconvert_exporter": "python",
      "pygments_lexer": "ipython3",
      "version": "3.8.12"
    }
  },
  "nbformat": 4,
  "nbformat_minor": 0
}