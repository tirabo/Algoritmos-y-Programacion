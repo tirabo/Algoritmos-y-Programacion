{
  "cells": [
    {
      "cell_type": "markdown",
      "metadata": {
        "id": "yIRnNcJ664Qq"
      },
      "source": [
        "# Ciclos"
      ]
    },
    {
      "cell_type": "markdown",
      "metadata": {
        "id": "R22rHsKNE6_r"
      },
      "source": [
        "\n",
        "\n",
        "## 1. La instrucción `for`\n",
        "\n",
        "Ya hemos visto la instrucción `for`, la cual permite iterar una cantidad determinada de veces. El  esquema general del `for` es\n",
        "```\n",
        "for <var> in <iterable>:\n",
        "    <instrucción(es)>\n",
        "```\n",
        "Aquí `<var>` denota una variable cualquiera e `<iterable>` es un objeto iterable,  es decir un objeto que puede ser recorrido secuencialmente, como puede ser una cadena o una lista, un diccionario, un conjunto, etc.,  estructuras que veremos más adelante.\n",
        "\n",
        "El primer uso que dimos del `for` fue recorrer una lista de enteros de `0` a `n - 1` (para un `n` determinado) y  eso se hace con una instrucción del tipo:\n",
        "```\n",
        "for <var> in range(n):\n",
        "    <instrucción(es)>\n",
        "```\n",
        "Es decir `range(n)` es un iterable que contiene todos los números enteros de `0` a `n - 1` en orden. El `for` la va dando a la variable todos los valores de `0` a `n - 1`  y en ese orden. Por ejemplo,\n"
      ]
    },
    {
      "cell_type": "code",
      "execution_count": null,
      "metadata": {
        "colab": {
          "base_uri": "https://localhost:8080/"
        },
        "id": "lh3f8OWRE7Sc",
        "outputId": "1baf2aff-81da-42b4-c657-844bfcced9e1"
      },
      "outputs": [
        {
          "name": "stdout",
          "output_type": "stream",
          "text": [
            "0\n",
            "1\n",
            "2\n",
            "3\n",
            "4\n"
          ]
        }
      ],
      "source": [
        "for i in range(5):\n",
        "    print(i)"
      ]
    },
    {
      "cell_type": "markdown",
      "metadata": {
        "id": "rRJ39DYtNlTO"
      },
      "source": [
        "imprime `0`, `1`, `2`, `3`, `4`, en ese orden.\n",
        "\n",
        "La  función `range()` además puede tomar otros argumentos: si `m`, `n` son dos enteros,  entonces `range(m, n)` es un iterable  que tiene todos los enteros de `m` a `n - 1`. Por  ejemplo,   "
      ]
    },
    {
      "cell_type": "code",
      "execution_count": null,
      "metadata": {
        "colab": {
          "base_uri": "https://localhost:8080/"
        },
        "id": "gDaKRFqYlOUb",
        "outputId": "5150403c-8f74-4cbe-ae09-ece681a6ac09"
      },
      "outputs": [
        {
          "name": "stdout",
          "output_type": "stream",
          "text": [
            "2\n",
            "3\n",
            "4\n"
          ]
        }
      ],
      "source": [
        "for i in range(2, 5):\n",
        "    print(i)"
      ]
    },
    {
      "cell_type": "markdown",
      "metadata": {
        "id": "v2ashjuMugkC"
      },
      "source": [
        "Un iterable conocido son las cadenas. Con el `for` podemos recorrer una cadena desde el primer caracter hasta el último, por ejemplo"
      ]
    },
    {
      "cell_type": "code",
      "execution_count": null,
      "metadata": {
        "colab": {
          "base_uri": "https://localhost:8080/"
        },
        "id": "hx343wrnugkD",
        "outputId": "400781bc-c49c-46b6-f09e-1bebb4921cee"
      },
      "outputs": [
        {
          "name": "stdout",
          "output_type": "stream",
          "text": [
            "d\n",
            "i\n",
            "c\n",
            "c\n",
            "i\n",
            "o\n",
            "n\n",
            "a\n",
            "r\n",
            "i\n",
            "o\n"
          ]
        }
      ],
      "source": [
        "for x in 'diccionario':\n",
        "    print(x)"
      ]
    },
    {
      "cell_type": "markdown",
      "metadata": {
        "id": "iOijjL2TugkD"
      },
      "source": [
        "Definamos una función que dada una palabra devuelva la palabra con las vocales eliminadas:"
      ]
    },
    {
      "cell_type": "code",
      "execution_count": null,
      "metadata": {
        "id": "-_yMyXXcugkD"
      },
      "outputs": [],
      "source": [
        "def eliminar_vocales(cadena: str) -> str:\n",
        "    # pre: cadena es una cadena de caracteres\n",
        "    # post: devuelve cadena sin vocales minúsculas\n",
        "    sin_vocales = ''\n",
        "    for x in cadena:\n",
        "        if x != 'a' and x != 'e' and x != 'i' and x != 'o' and x != 'u':\n",
        "            sin_vocales += x\n",
        "    return sin_vocales"
      ]
    },
    {
      "cell_type": "markdown",
      "metadata": {
        "id": "2vE6seOH-uab"
      },
      "source": [
        "Usando reglas elementales de lógica (`not (p or q) == not p and not q`) podemos hacer una segunda definición de la función:"
      ]
    },
    {
      "cell_type": "code",
      "execution_count": null,
      "metadata": {
        "id": "cBZbmFit-um-"
      },
      "outputs": [],
      "source": [
        "def eliminar_vocales(cadena: str) -> str:\n",
        "    # pre: cadena es una cadena de caracteres\n",
        "    # post: devuelve cadena sin vocales minúsculas\n",
        "    sin_vocales = ''\n",
        "    for x in cadena:\n",
        "        if not(x == 'a' or x == 'e' or x == 'i' or x == 'o' or x == 'u'):\n",
        "            sin_vocales += x\n",
        "    return sin_vocales"
      ]
    },
    {
      "cell_type": "markdown",
      "metadata": {
        "id": "1oEuPUQu-ux6"
      },
      "source": [
        "También podemos simplificar un poc la definición de la función con el uso de conjuntos (que veremos más adelante)"
      ]
    },
    {
      "cell_type": "code",
      "execution_count": null,
      "metadata": {
        "id": "209FfWxC-u9_"
      },
      "outputs": [],
      "source": [
        "def eliminar_vocales(cadena: str) -> str:\n",
        "    # pre: cadena es una cadena de caracteres\n",
        "    # post: devuelve cadena sin vocales minúsculas\n",
        "    sin_vocales = ''\n",
        "    for x in cadena:\n",
        "        if x not in {'a', 'e', 'i', 'o', 'u'}:\n",
        "            sin_vocales += x\n",
        "    return sin_vocales"
      ]
    },
    {
      "cell_type": "markdown",
      "metadata": {
        "id": "DfAtAsf9ZQ2o"
      },
      "source": [
        "O con listas:"
      ]
    },
    {
      "cell_type": "code",
      "execution_count": null,
      "metadata": {
        "id": "vZJaucOFZTN7"
      },
      "outputs": [],
      "source": [
        "def eliminar_vocales(cadena: str) -> str:\n",
        "    # pre: cadena es una cadena de caracteres\n",
        "    # post: devuelve cadena sin vocales minúsculas\n",
        "    sin_vocales = ''\n",
        "    for x in cadena:\n",
        "        if x not in ['a', 'e', 'i', 'o', 'u']:\n",
        "            sin_vocales += x\n",
        "    return sin_vocales"
      ]
    },
    {
      "cell_type": "markdown",
      "metadata": {
        "id": "TbEKCvy5_jd_"
      },
      "source": [
        "Esta última definición es quizás la más clara."
      ]
    },
    {
      "cell_type": "markdown",
      "metadata": {
        "id": "Kv7g4xUBugkD"
      },
      "source": [
        "Probemos la función:"
      ]
    },
    {
      "cell_type": "code",
      "execution_count": null,
      "metadata": {
        "colab": {
          "base_uri": "https://localhost:8080/"
        },
        "id": "OkTLbVdTugkD",
        "outputId": "d79f3f2b-1ac6-4c41-eaa1-67b2db9350a2"
      },
      "outputs": [
        {
          "name": "stdout",
          "output_type": "stream",
          "text": [
            "hl\n",
            "brcdbr\n",
            "mrclg\n",
            "Algrtms y prgrmcón\n"
          ]
        }
      ],
      "source": [
        "print(eliminar_vocales('hola'))\n",
        "print(eliminar_vocales('abracadabra'))\n",
        "print(eliminar_vocales('murcielago'))\n",
        "print(eliminar_vocales('Algoritmos y programación')) # elimina vocales en cadenas de caracteres pero no detecta mayúsculas y acentos"
      ]
    },
    {
      "cell_type": "markdown",
      "metadata": {
        "id": "cCxZhWfmugkD"
      },
      "source": [
        "### La función `range()`\n",
        "\n",
        "La función `range()` además de tomar como argumento un entero positivo puede tomar otros argumentos: si `m`, `n` son dos enteros, entonces `range(m, n)` es un iterable que tiene todos los enteros de `m` a `n - 1`. Por ejemplo,"
      ]
    },
    {
      "cell_type": "code",
      "execution_count": null,
      "metadata": {
        "colab": {
          "base_uri": "https://localhost:8080/"
        },
        "id": "trInLgs0Nlcd",
        "outputId": "8a5377f9-dd67-49c7-a851-9aea91412efc"
      },
      "outputs": [
        {
          "name": "stdout",
          "output_type": "stream",
          "text": [
            "3\n",
            "4\n",
            "5\n",
            "6\n",
            "7\n"
          ]
        }
      ],
      "source": [
        "for i in range(3, 8):\n",
        "    print(i)"
      ]
    },
    {
      "cell_type": "markdown",
      "metadata": {
        "id": "V_HvB_eyFFg4"
      },
      "source": [
        "imprime `3`, `4`, `5`, `6`, `7`, en ese orden. Observar que\n"
      ]
    },
    {
      "cell_type": "code",
      "execution_count": null,
      "metadata": {
        "id": "tbDBS7B8OUOi"
      },
      "outputs": [],
      "source": [
        "for i in range(8, 3):\n",
        "    print(i)"
      ]
    },
    {
      "cell_type": "markdown",
      "metadata": {
        "id": "Yv_J4kgfOK05"
      },
      "source": [
        "Es un conjunto de instrucciones correctas pero no imprime nada porque el iterable `range(8, 3)` es vacío.\n",
        "\n",
        "La  función `range()` también puede tomar tres argumentos: si `m`, `n`, `k` son tres enteros,  entonces\n",
        "\n",
        "    range(m, n, k)\n",
        "    \n",
        "es un iterable  que tiene todos los enteros desde `m` al entero *anterior* a `n ` \"saltando\"  de `k` en `k`. Por  ejemplo,   "
      ]
    },
    {
      "cell_type": "code",
      "execution_count": null,
      "metadata": {
        "id": "k0BFZp0zFFot",
        "colab": {
          "base_uri": "https://localhost:8080/"
        },
        "outputId": "c149a682-866d-4c69-da94-c9971f6c87d8"
      },
      "outputs": [
        {
          "output_type": "stream",
          "name": "stdout",
          "text": [
            "8\n",
            "10\n",
            "12\n",
            "14\n"
          ]
        }
      ],
      "source": [
        "for i in range(8, 16, 2):\n",
        "    print(i)"
      ]
    },
    {
      "cell_type": "markdown",
      "metadata": {
        "id": "3E5tZnlQFFyG"
      },
      "source": [
        "imprime todo los enteros pares de `8` a `15`. Otro ejemplo:"
      ]
    },
    {
      "cell_type": "code",
      "execution_count": null,
      "metadata": {
        "id": "Fl5oTe_-FF7U",
        "colab": {
          "base_uri": "https://localhost:8080/"
        },
        "outputId": "0537b29e-b1e9-4fe2-8607-7b6ce3ebebb5"
      },
      "outputs": [
        {
          "output_type": "stream",
          "name": "stdout",
          "text": [
            "16\n",
            "14\n",
            "12\n",
            "10\n"
          ]
        }
      ],
      "source": [
        "for i in range(16, 8, -2):\n",
        "    print(i)"
      ]
    },
    {
      "cell_type": "markdown",
      "metadata": {
        "id": "HqhhOpPcFGFV"
      },
      "source": [
        "imprime todo los enteros pares de `16` a `10` en orden descendente. Es decir,  en este caso  `range(16, 8, -2)` representa los enteros `16`, `14`, `12`,  `10`, en ese orden.   \n",
        "\n",
        "Es importante observar que `range(m, n, 1)` es lo mismo que `range(m, n)` y  que `range(0, n, 1)` es lo mismo que `range(n)`. Si los argumentos de `range()` no son enteros obtenemos un error.\n",
        "\n",
        "Cerremos esta sección con un ejemplo:\n"
      ]
    },
    {
      "cell_type": "code",
      "execution_count": null,
      "metadata": {
        "id": "ERRPdc0OQ-b7",
        "colab": {
          "base_uri": "https://localhost:8080/"
        },
        "outputId": "b246cce6-371b-4b32-b5d9-0ce2806974ab"
      },
      "outputs": [
        {
          "output_type": "stream",
          "name": "stdout",
          "text": [
            "10\n",
            "9\n",
            "8\n",
            "7\n",
            "6\n",
            "5\n",
            "4\n",
            "3\n",
            "2\n",
            "1\n",
            "¡Despegue!\n"
          ]
        }
      ],
      "source": [
        "def cuenta_regresiva(n: int):\n",
        "    # pre: n  es un entero positivo\n",
        "    # post: imprime los enteros de n a 1 y finalmente la palabra ¡Despegue!\n",
        "    for i in range(n, 0, -1):\n",
        "        print(i)\n",
        "    print('¡Despegue!')\n",
        "\n",
        "cuenta_regresiva(10)"
      ]
    },
    {
      "cell_type": "markdown",
      "metadata": {
        "id": "oU6C_CAQRw4C"
      },
      "source": [
        "Observar que fue necesario poner como segundo argumento de `range()` el  número `0` pues el `for` recorre desde el  primer número (en este caso `10`) hasta el anterior a `0`,  que en este caso es `1`, pues el recorrido se hace de mayor a menor (eso es lo que indica el tercer parámetro de `range()`)."
      ]
    },
    {
      "cell_type": "markdown",
      "metadata": {
        "id": "HjQjcqwiFGeI"
      },
      "source": [
        "## 2. La instrucción `while`\n",
        "\n",
        "Las computadoras se utilizan a menudo para automatizar tareas repetitivas. Repetir tareas idénticas o similares sin cometer errores es algo que las computadoras hacen bien y las personas hacen mal. En un programa de computadora, la repetición también se llama *iteración*.\n",
        "\n",
        "Python proporciona instrucciones para hacer iteración. Una es la instrucción `for` que vimos más arriba.\n",
        "\n",
        "Otra es la intrucción `while`. El uso del `while` nos permite ejecutar una sección de código repetidas veces, de ahí su nombre. El código se ejecutará mientras una condición determinada se cumpla. Cuando se deje de cumplir, se saldrá del bucle y se continuará la ejecución normal. Llamaremos *iteración* a una ejecución completa del bloque de código.\n",
        "\n",
        "La sintaxis es:\n",
        "```\n",
        "while <condición>:\n",
        "    <instrucción(es)>\n",
        "```\n",
        "Mientras se cumpla la `<condición>` se ejecutará el cuerpo del `while`,  es decir las `<instrucción(es)>`, y cuando estas se terminen de ejecutar se  vuelve a comprobar la `<condiciòn>`. Cuando deje de cumplirse la `<condición>`, la ejecución abandonará el `while` y pasará a la instrucción siguiente.\n",
        "\n",
        "Aquí hay una versión de `cuenta_regresiva()` que usa  `while`:"
      ]
    },
    {
      "cell_type": "code",
      "execution_count": null,
      "metadata": {
        "id": "Yn7Ry6HQFGn2",
        "colab": {
          "base_uri": "https://localhost:8080/"
        },
        "outputId": "8e107708-d037-444e-92e4-8b83b93e4f22"
      },
      "outputs": [
        {
          "output_type": "stream",
          "name": "stdout",
          "text": [
            "10\n",
            "9\n",
            "8\n",
            "7\n",
            "6\n",
            "5\n",
            "4\n",
            "3\n",
            "2\n",
            "1\n",
            "¡Despegue!\n"
          ]
        }
      ],
      "source": [
        "def cuenta_regresiva(n: int):\n",
        "    assert type(n) == int and n > 0, 'el parámetro debe ser un entero positivo'\n",
        "    \"\"\"\n",
        "    pre: n  es un entero positivo\n",
        "    post: imprime los enteros de n a 1 y finalmente la palabra ¡Despegue!\n",
        "    \"\"\"\n",
        "    while n > 0:\n",
        "        print(n)\n",
        "        n = n - 1\n",
        "    print ('¡Despegue!')\n",
        "\n",
        "cuenta_regresiva(10)"
      ]
    },
    {
      "cell_type": "markdown",
      "metadata": {
        "id": "4FwaYK0_FHHT"
      },
      "source": [
        "Si traducimos del inglés la palabra `while` (\"mientras\" en castellano) la declaración dice casi textualmente lo que hace: \"Mientras `n` es mayor  que `0`, imprimir `n` y luego disminuir `n` en `1`. Cuando llegués a `0`, imprimir `¡Despegue!`\"\n",
        "\n",
        "Más formalmente, aquí está el flujo de ejecución para una declaración `while`:\n",
        "\n",
        "1. Determinar si la condición es verdadera o falsa.\n",
        "2. Si es falsa, salir de la instrucción `while` y continuar la ejecución de la siguiente instrucción.\n",
        "3. Si la condición es verdadera, ejecutar el cuerpo y volver al paso 1.\n",
        "\n",
        "Este tipo de flujo se llama *bucle* o *ciclo* porque el tercer paso vuelve a la parte superior.\n",
        "\n",
        "El cuerpo del ciclo debe cambiar el valor de una o más variables para que la condición en algún momento se vuelva falsa y el ciclo termine. De lo contrario, el ciclo se repetirá para siempre, lo que se denomina *ciclo infinito*.\n",
        "\n",
        "En el caso de `cuenta_regresiva()` podemos probar que el ciclo termina: si `n` es negativo, el ciclo nunca se ejecuta. De lo contrario, `n` se vuelve más pequeño cada vez que pasa por el ciclo, por lo que siempre llegaremos a 0.\n",
        "\n",
        "Para algunos otros bucles, no es tan fácil de decir. Por ejemplo:"
      ]
    },
    {
      "cell_type": "code",
      "execution_count": null,
      "metadata": {
        "id": "6mvU-lKaFG9L"
      },
      "outputs": [],
      "source": [
        "def collatz(m: int): # tambien llamado \"Algoritmo de Siracusa\"\n",
        "    \"\"\"\n",
        "    pre: m > 0\n",
        "    post: imprime el todos los n (intermedios y final) que resultan de aplicar\n",
        "          el algoritmo de Collatz\n",
        "    \"\"\"\n",
        "    n = m\n",
        "    i = 0\n",
        "    while n != 1:\n",
        "        i += 1\n",
        "        print(n)\n",
        "        if n % 2 == 0: # n es par\n",
        "            n = n // 2\n",
        "        else: # n es impar\n",
        "            n = n * 3 + 1\n",
        "    print(n)\n",
        "    print('fin de Collatz para m =', m, 'en', i, 'pasos')\n",
        "\n",
        "collatz(645646456437465346536576756747456746774663655677)"
      ]
    },
    {
      "cell_type": "markdown",
      "metadata": {
        "id": "ICnkulTTFGyk"
      },
      "source": [
        "\n",
        "La condición para este ciclo es `n != 1`, por lo que el ciclo continuará hasta que `n` sea `1`, lo que hace que la condición sea falsa.\n",
        "\n",
        "Cada vez que pasa por el ciclo, el programa genera el valor de `n` y luego verifica si es par o impar. Si es par, `n` se divide por 2. Si es impar, el valor de `n` se reemplaza con `n * 3 + 1`. Por ejemplo, si el argumento pasado a `collatz()` es 3, los valores resultantes de `n` son 3, 10, 5, 16, 8, 4, 2, 1.\n"
      ]
    },
    {
      "cell_type": "code",
      "execution_count": null,
      "metadata": {
        "id": "4zv4EwqQHuCX"
      },
      "outputs": [],
      "source": [
        "collatz(3)\n",
        "collatz(31242341) # probar para números grandes"
      ]
    },
    {
      "cell_type": "markdown",
      "metadata": {
        "id": "Rg_P46JQHvuA"
      },
      "source": [
        "Dado que `n` a veces aumenta y a veces disminuye, no hay pruebas obvias de que `n` alguna vez llegue a 1, o de que el programa finalice. Para algunos valores particulares de `n`, podemos probar la terminación. Por ejemplo, si el valor inicial es una potencia de dos, `n` será par y  mas chico cada vez que pase por el ciclo hasta que llegue a 1. El ejemplo anterior termina con una secuencia de este tipo, comenzando con 16.\n",
        "\n",
        "Otro ejemplo:"
      ]
    },
    {
      "cell_type": "code",
      "execution_count": null,
      "metadata": {
        "id": "_1k9xnicRB0b",
        "colab": {
          "base_uri": "https://localhost:8080/"
        },
        "outputId": "13b7f167-5b2b-4488-b05b-0e9c05ab0b76"
      },
      "outputs": [
        {
          "output_type": "stream",
          "name": "stdout",
          "text": [
            "1048576\n",
            "524288\n",
            "262144\n",
            "131072\n",
            "65536\n",
            "32768\n",
            "16384\n",
            "8192\n",
            "4096\n",
            "2048\n",
            "1024\n",
            "512\n",
            "256\n",
            "128\n",
            "64\n",
            "32\n",
            "16\n",
            "8\n",
            "4\n",
            "2\n",
            "1\n",
            "fin de Collatz para m = 1048576 en 20 pasos\n"
          ]
        }
      ],
      "source": [
        "collatz(2**20)"
      ]
    },
    {
      "cell_type": "markdown",
      "metadata": {
        "id": "6hy2vNTMRB-A"
      },
      "source": [
        "La pregunta difícil es si podemos probar que este programa termina para *todos* los valores positivos de `n`. Hasta ahora, nadie ha podido probarlo o refutarlo, pero se conjetura que el algoritmo siempre termina. Para más información ver en Wikipedia [\"Conjetura de Collatz\"](https://es.wikipedia.org/wiki/Conjetura_de_Collatz) o el vídeo [\"El problema matemático más simple que nadie puede resolver - Conjetura de Collatz\"](https://youtu.be/094y1Z2wpJg).\n",
        "\n",
        "Veamos otro ejemplo del ciclo `while`. Definamos la función `raiz_entera()` que dado un entero no negativo  `n` devuelve la raíz cuadrada entera de `n`.\n",
        "\n",
        "*Definición.* Sea $n \\in \\mathbb N$. Entonces $k$ es la *raíz entera de $n$* si $$k^2 \\le n < (k+1)^2.$$\n",
        "\n",
        "Imprimiendo la lista de cuadrados de 1 a 19 podemos ver que la raíz entera de `200` es `14`."
      ]
    },
    {
      "cell_type": "code",
      "execution_count": null,
      "metadata": {
        "id": "NDn9cYeevvtp",
        "colab": {
          "base_uri": "https://localhost:8080/"
        },
        "outputId": "b775095b-4f61-4946-aa1f-0994b70b92e5"
      },
      "outputs": [
        {
          "output_type": "stream",
          "name": "stdout",
          "text": [
            "0 0\n",
            "1 1\n",
            "2 4\n",
            "3 9\n",
            "4 16\n",
            "5 25\n",
            "6 36\n",
            "7 49\n",
            "8 64\n",
            "9 81\n",
            "10 100\n",
            "11 121\n",
            "12 144\n",
            "13 169\n",
            "14 196\n",
            "15 225\n",
            "16 256\n",
            "17 289\n",
            "18 324\n",
            "19 361\n"
          ]
        }
      ],
      "source": [
        "for i in range(20):\n",
        "  print(i, i**2)"
      ]
    },
    {
      "cell_type": "markdown",
      "metadata": {
        "id": "fsiqa1NeSvCN"
      },
      "source": [
        "Obviamente el método anterior, \"por inspección\"  no es el más conveniente para encontrar la raíz entera de un número.\n",
        "\n",
        "A  continuación, una forma de implemetar la función raíz entera de `n`:"
      ]
    },
    {
      "cell_type": "code",
      "execution_count": null,
      "metadata": {
        "id": "pcSClhiLFHRJ",
        "colab": {
          "base_uri": "https://localhost:8080/"
        },
        "outputId": "36e731d8-5f87-4f32-af48-59a84fc5c1d4"
      },
      "outputs": [
        {
          "output_type": "stream",
          "name": "stdout",
          "text": [
            "4\n",
            "14\n",
            "1414\n"
          ]
        }
      ],
      "source": [
        "def raiz_entera(n: int) -> int:\n",
        "    \"\"\"\n",
        "    pre: n >= 0\n",
        "    post: devuelve k tal que k**2 <= n < (k + 1)**2\n",
        "    \"\"\"\n",
        "    k = 0\n",
        "    while k**2 <= n:\n",
        "        k = k + 1\n",
        "    return k - 1\n",
        "\n",
        "print(raiz_entera(17))\n",
        "print(raiz_entera(200))\n",
        "print(raiz_entera(2000000))"
      ]
    },
    {
      "cell_type": "markdown",
      "metadata": {
        "id": "7pO6DSBmFHds"
      },
      "source": [
        "Observar que el ciclo termina debido a que en cada paso `k` aumenta en 1 y entonces en algún paso `k**2` va a superar a `n`.\n",
        "\n",
        "En  el ejemplo anterior no podemos reemplazar el `while` por un `for` debido que *a priori* no sabemos cuantos pasos debemos hacer."
      ]
    },
    {
      "cell_type": "markdown",
      "metadata": {
        "id": "fsAdn21cugkI"
      },
      "source": [
        "**Observación.** Todo ciclo `for` con argumentos enteros puede ser reemplazado fácilmente   por un `while`,  por ejemplo\n",
        "\n",
        "```\n",
        "for i in range(n):\n",
        "    <bloque de código>\n",
        "```\n",
        "\n",
        "puede ser reemplazado por\n",
        "\n",
        "```\n",
        "i = 0\n",
        "while i < n:\n",
        "    <bloque de código>\n",
        "    i += 1\n",
        "```\n",
        "\n",
        "En el caso de trabajar con iterables es un poco más complicado pero es posible hacerlo. No lo veremos en este curso."
      ]
    },
    {
      "cell_type": "markdown",
      "metadata": {
        "id": "FmgmVihb6nWU"
      },
      "source": [
        "## 3. ¿`break` o no `break`?\n",
        "\n",
        "La respuesta corta es (casi) nunca usar `break`, pero veamos primero que significa esta instrucción.\n",
        "\n",
        "A veces no es clara cual es la condición para terminar un bucle hasta que se llega a una parte intermedia del cuerpo de instrucciones. En ese caso, es posible utilizar la instrucción `break` para terminar el ciclo.\n",
        "\n",
        "Por ejemplo, suponga que desea recibir información que el usuario ingresa por teclado hasta que escribe `listo`. Podrías escribir:\n"
      ]
    },
    {
      "cell_type": "code",
      "execution_count": null,
      "metadata": {
        "id": "ZpYxqP8sFHmR",
        "colab": {
          "base_uri": "https://localhost:8080/"
        },
        "outputId": "22ab06c3-1eb8-49b7-cc54-9b6068591cc8"
      },
      "outputs": [
        {
          "output_type": "stream",
          "name": "stdout",
          "text": [
            "> hola\n",
            "hola\n",
            "> adios\n",
            "adios\n",
            "> listo\n",
            "¡Listo!\n"
          ]
        }
      ],
      "source": [
        "while True:\n",
        "    linea = input('> ')\n",
        "    if linea == 'listo':\n",
        "        break\n",
        "    print(linea)\n",
        "print('¡Listo!')"
      ]
    },
    {
      "cell_type": "markdown",
      "metadata": {
        "id": "z-M_ya3kbfUs"
      },
      "source": [
        "\n",
        "\n",
        "La condición del bucle es `True`, que siempre es verdadera, por lo que el bucle se ejecuta hasta que llega a la sentencia `break`.\n",
        "\n",
        "Cada vez ingresa al cuerpo del `while` el programa  le muestra al usuario un corchete angular. Si el usuario escribe `listo`, la instrucción `break` termina el ciclo. De lo contrario, el programa imprime lo que escribe el usuario y vuelve al principio del ciclo. Aquí hay una muestra de ejecución:\n",
        "```\n",
        "> Hola\n",
        "Hola\n",
        "> listo\n",
        "¡Listo!\n",
        "```\n",
        "\n",
        "Sin embargo, no se recomienda escribir bucles con `break`. En  general, debe controlarse la iteración en el bucle por la condición  del `while`. Agregar un medio para detener repentinamente el ciclo fuera del enfoque normal puede hacer que el código sea difícil de entender y depurar. En el código anterior podría haberse evitado fácilmente el uso del `break` con lo siguiente:"
      ]
    },
    {
      "cell_type": "code",
      "execution_count": null,
      "metadata": {
        "id": "FtTM0PGvbfgu",
        "colab": {
          "base_uri": "https://localhost:8080/"
        },
        "outputId": "ba5e8532-f2db-4103-a6b5-60c743182ada"
      },
      "outputs": [
        {
          "output_type": "stream",
          "name": "stdout",
          "text": [
            "> hola\n",
            "hola\n",
            "> adios\n",
            "adios\n",
            "> listo\n",
            "listo\n",
            "¡Listo!\n"
          ]
        }
      ],
      "source": [
        "linea = ''\n",
        "while linea != 'listo':\n",
        "    linea = input('> ')\n",
        "    print(linea)\n",
        "print('¡Listo!')"
      ]
    },
    {
      "cell_type": "markdown",
      "metadata": {
        "id": "3VIPcr6lyMdp"
      },
      "source": [
        "Otro ejemplo de lo que *no* hay que hacer:"
      ]
    },
    {
      "cell_type": "code",
      "execution_count": null,
      "metadata": {
        "id": "qMhnjVEdxau1",
        "colab": {
          "base_uri": "https://localhost:8080/"
        },
        "outputId": "859f8ee4-a38d-4663-edc1-638492b4dca3"
      },
      "outputs": [
        {
          "output_type": "stream",
          "name": "stdout",
          "text": [
            "14\n"
          ]
        }
      ],
      "source": [
        "def raiz_entera(n: int) -> int:\n",
        "    # pre: n >= 0\n",
        "    # post: devuelve k tal que k**2 <= n < (k + 1)**2\n",
        "    k = 0\n",
        "    for x in range(n):\n",
        "        if x**2 > n:\n",
        "            k = x -1\n",
        "            break\n",
        "    return k\n",
        "\n",
        "print(raiz_entera(200))"
      ]
    },
    {
      "cell_type": "markdown",
      "metadata": {
        "id": "6-HpQJDt6nWZ"
      },
      "source": [
        "La forma correcta de calcular la raíz entera es como se vió en la sección anterior, es decir:"
      ]
    },
    {
      "cell_type": "code",
      "execution_count": null,
      "metadata": {
        "id": "OvkxZtOqugkK"
      },
      "outputs": [],
      "source": [
        "def raiz_entera(n: int) -> int:\n",
        "    # pre: n >= 0\n",
        "    # post: devuelve k tal que k**2 <= n < (k + 1)**2\n",
        "    k = 0\n",
        "    while k**2 <= n:\n",
        "        k = k + 1\n",
        "    return k - 1"
      ]
    },
    {
      "cell_type": "markdown",
      "metadata": {
        "id": "2z6zqILjbeY5"
      },
      "source": [
        "## 4. Ejemplos de uso correcto de ciclos\n",
        "\n",
        "Como ya vimos (casi) nunca debemos usar `break` en los ciclos.\n"
      ]
    },
    {
      "cell_type": "markdown",
      "metadata": {
        "id": "oSqRUwVNfafH"
      },
      "source": [
        "Veamos otro ejemplo, ahora con el `for`: supongamos  que queremos averiguar si un número `n` es primo o no. Una forma sencilla de hacerlo es ir dividiendo por todos los números de `2` hasta `n-1` y si encontramos que uno de esos número divide a `n` el número es compuesto, en caso contrario es primo. Una implementación rápida podría ser"
      ]
    },
    {
      "cell_type": "code",
      "execution_count": null,
      "metadata": {
        "id": "KSuTuVrdgK33",
        "colab": {
          "base_uri": "https://localhost:8080/",
          "height": 540
        },
        "outputId": "5bcfc079-7253-44ac-95ac-8cb216a4e2fd"
      },
      "outputs": [
        {
          "output_type": "stream",
          "name": "stdout",
          "text": [
            "True\n",
            "3 es divisor de 10705671\n",
            "9 es divisor de 10705671\n",
            "107 es divisor de 10705671\n",
            "321 es divisor de 10705671\n",
            "963 es divisor de 10705671\n",
            "11117 es divisor de 10705671\n",
            "33351 es divisor de 10705671\n",
            "100053 es divisor de 10705671\n",
            "1189519 es divisor de 10705671\n",
            "3568557 es divisor de 10705671\n",
            "False\n",
            "19 es divisor de 10705670567056811\n"
          ]
        },
        {
          "output_type": "error",
          "ename": "KeyboardInterrupt",
          "evalue": "",
          "traceback": [
            "\u001b[0;31m---------------------------------------------------------------------------\u001b[0m",
            "\u001b[0;31mKeyboardInterrupt\u001b[0m                         Traceback (most recent call last)",
            "\u001b[0;32m<ipython-input-3-0b5aafccee26>\u001b[0m in \u001b[0;36m<cell line: 13>\u001b[0;34m()\u001b[0m\n\u001b[1;32m     11\u001b[0m \u001b[0mprint\u001b[0m\u001b[0;34m(\u001b[0m\u001b[0mes_primo\u001b[0m\u001b[0;34m(\u001b[0m\u001b[0;36m1070567\u001b[0m\u001b[0;34m)\u001b[0m\u001b[0;34m)\u001b[0m \u001b[0;31m# True\u001b[0m\u001b[0;34m\u001b[0m\u001b[0;34m\u001b[0m\u001b[0m\n\u001b[1;32m     12\u001b[0m \u001b[0mprint\u001b[0m\u001b[0;34m(\u001b[0m\u001b[0mes_primo\u001b[0m\u001b[0;34m(\u001b[0m\u001b[0;36m10705671\u001b[0m\u001b[0;34m)\u001b[0m\u001b[0;34m)\u001b[0m \u001b[0;31m# False\u001b[0m\u001b[0;34m\u001b[0m\u001b[0;34m\u001b[0m\u001b[0m\n\u001b[0;32m---> 13\u001b[0;31m \u001b[0mprint\u001b[0m\u001b[0;34m(\u001b[0m\u001b[0mes_primo\u001b[0m\u001b[0;34m(\u001b[0m\u001b[0;36m10705670567056811\u001b[0m\u001b[0;34m)\u001b[0m\u001b[0;34m)\u001b[0m \u001b[0;31m# False\u001b[0m\u001b[0;34m\u001b[0m\u001b[0;34m\u001b[0m\u001b[0m\n\u001b[0m\u001b[1;32m     14\u001b[0m \u001b[0;31m# print(es_primo(563456345634569)) # True (tarda mucho)\u001b[0m\u001b[0;34m\u001b[0m\u001b[0;34m\u001b[0m\u001b[0m\n",
            "\u001b[0;32m<ipython-input-3-0b5aafccee26>\u001b[0m in \u001b[0;36mes_primo\u001b[0;34m(n)\u001b[0m\n\u001b[1;32m      4\u001b[0m     \u001b[0mprimo\u001b[0m \u001b[0;34m=\u001b[0m \u001b[0;32mTrue\u001b[0m\u001b[0;34m\u001b[0m\u001b[0;34m\u001b[0m\u001b[0m\n\u001b[1;32m      5\u001b[0m     \u001b[0;32mfor\u001b[0m \u001b[0mi\u001b[0m \u001b[0;32min\u001b[0m \u001b[0mrange\u001b[0m\u001b[0;34m(\u001b[0m\u001b[0;36m2\u001b[0m\u001b[0;34m,\u001b[0m \u001b[0mn\u001b[0m\u001b[0;34m)\u001b[0m\u001b[0;34m:\u001b[0m\u001b[0;34m\u001b[0m\u001b[0;34m\u001b[0m\u001b[0m\n\u001b[0;32m----> 6\u001b[0;31m         \u001b[0;32mif\u001b[0m \u001b[0mn\u001b[0m \u001b[0;34m%\u001b[0m \u001b[0mi\u001b[0m \u001b[0;34m==\u001b[0m \u001b[0;36m0\u001b[0m\u001b[0;34m:\u001b[0m\u001b[0;34m\u001b[0m\u001b[0;34m\u001b[0m\u001b[0m\n\u001b[0m\u001b[1;32m      7\u001b[0m             \u001b[0mprimo\u001b[0m \u001b[0;34m=\u001b[0m \u001b[0;32mFalse\u001b[0m\u001b[0;34m\u001b[0m\u001b[0;34m\u001b[0m\u001b[0m\n\u001b[1;32m      8\u001b[0m             \u001b[0mprint\u001b[0m\u001b[0;34m(\u001b[0m\u001b[0mi\u001b[0m\u001b[0;34m,\u001b[0m \u001b[0;34m'es divisor de'\u001b[0m\u001b[0;34m,\u001b[0m \u001b[0mn\u001b[0m\u001b[0;34m)\u001b[0m\u001b[0;34m\u001b[0m\u001b[0;34m\u001b[0m\u001b[0m\n",
            "\u001b[0;31mKeyboardInterrupt\u001b[0m: "
          ]
        }
      ],
      "source": [
        "def es_primo(n: int) -> bool:\n",
        "    # pre: n > 0\n",
        "    # post: devuelve True si n  es primo, en caso contrario devuelve False\n",
        "    primo = True\n",
        "    for i in range(2, n):\n",
        "        if n % i == 0:\n",
        "            primo = False\n",
        "            print(i, 'es divisor de', n)\n",
        "    return primo\n",
        "\n",
        "print(es_primo(1070567)) # True\n",
        "print(es_primo(10705671)) # False\n",
        "# print(es_primo(10705670567056811)) # False (tarda mucho)\n",
        "# print(es_primo(563456345634569)) # True (tarda mucho)"
      ]
    },
    {
      "cell_type": "markdown",
      "source": [
        "Observar que esta función verifica *todos* los números menores que el número de input. En particular `es_primo(n)` imprime todos los divisores de `n`. Por lo tanto,  no es una función eficiente, ni mucho menos, especialmente cuando el número es divisible por primos \"pequeños\".\n",
        "\n",
        "Con eso en mente, podemos implementar un  código que refleje la siguiente idea: \"todo número es primo hasta que se demuestre lo contrario y en ese caso devuelvo `False`\"."
      ],
      "metadata": {
        "id": "2L2Kd9uwCiBT"
      }
    },
    {
      "cell_type": "code",
      "source": [
        "def es_primo(n: int) -> bool:\n",
        "    # pre: n > 0\n",
        "    # post: devuelve True si n  es primo, en caso contrario devuelve False\n",
        "    primo = True\n",
        "    for i in range(2, n):\n",
        "        if n % i == 0:\n",
        "            primo = False\n",
        "            # print(i, 'es divisor de', n)\n",
        "            break\n",
        "    return primo\n",
        "\n",
        "print(es_primo(1070567)) # True\n",
        "print(es_primo(10705671)) # False\n",
        "print(es_primo(10705670567056811)) # False\n",
        "# print(es_primo(563456345634569)) # True (tarda mucho)"
      ],
      "metadata": {
        "colab": {
          "base_uri": "https://localhost:8080/"
        },
        "id": "Yfp0fAmWB8n7",
        "outputId": "811b015a-6969-499b-b2c9-88ff6826c7bc"
      },
      "execution_count": null,
      "outputs": [
        {
          "output_type": "stream",
          "name": "stdout",
          "text": [
            "True\n",
            "False\n",
            "False\n"
          ]
        }
      ]
    },
    {
      "cell_type": "markdown",
      "metadata": {
        "id": "42Gf7Eudg7bV"
      },
      "source": [
        "\n",
        "\n",
        "Esta implementación es correcta y traduce eficientemente el algoritmo que habíamos pensado.  Sin embargo, \"romper\" un ciclo `for` con un `break` no es una práctica recomendada. En este caso, donde el código es muy sencillo, no habría problemas, pero para códigos más complejos,  como ya dijimos, puede traer problemas.\n",
        "\n",
        "Una propuesta sin el uso de `break` puede ser la siguiente:"
      ]
    },
    {
      "cell_type": "code",
      "execution_count": null,
      "metadata": {
        "id": "UuQM_F_sh6JO",
        "colab": {
          "base_uri": "https://localhost:8080/"
        },
        "outputId": "326a0d8d-f3ca-4c22-a65d-96dc41583c33"
      },
      "outputs": [
        {
          "output_type": "stream",
          "name": "stdout",
          "text": [
            "True\n",
            "False\n",
            "False\n"
          ]
        }
      ],
      "source": [
        "def es_primo(n: int) -> bool:\n",
        "    # pre: n > 0\n",
        "    # post: devuelve True si n  es primo, en caso contrario devuelve False\n",
        "    primo = True\n",
        "    i = 2\n",
        "    while i < n and primo == True:\n",
        "        if n % i == 0:\n",
        "            primo = False\n",
        "        i += 1\n",
        "    return primo\n",
        "\n",
        "print(es_primo(1070567)) # True\n",
        "print(es_primo(10705671)) # False\n",
        "print(es_primo(10705670567056811)) # False\n",
        "# print(es_primo(563456345634569)) # True (tarda mucho)"
      ]
    },
    {
      "cell_type": "markdown",
      "source": [
        "El código anterior es igual de eficiente que el del `for` con un `break` pero está mejor estructurado."
      ],
      "metadata": {
        "id": "RwOygMfGtk0B"
      }
    },
    {
      "cell_type": "markdown",
      "metadata": {
        "id": "GzECkc2piPKH"
      },
      "source": [
        "Observemos que el `for` debió ser reemplazado por el `while` puesto que estamos en el caso de un ciclo que no sabemos cuantas repeticiones tendrá.\n",
        "\n",
        "Hay muchas formas  de hacer este programa, veamos otra forma. Usualmente podemos usar la negación de la condición que disparaba el `break` como una condición del `while`:"
      ]
    },
    {
      "cell_type": "code",
      "execution_count": null,
      "metadata": {
        "id": "6cjakvoVjm3w",
        "colab": {
          "base_uri": "https://localhost:8080/"
        },
        "outputId": "995f7986-562e-478b-876b-a1e8b50239ce"
      },
      "outputs": [
        {
          "output_type": "stream",
          "name": "stdout",
          "text": [
            "3\n",
            "False\n"
          ]
        }
      ],
      "source": [
        "def es_primo(n: int) -> bool:\n",
        "    # pre: n > 0\n",
        "    # post: devuelve True si n  es primo, en caso contrario devuelve False\n",
        "    i = 2\n",
        "    while i < n and n % i != 0:\n",
        "        i += 1\n",
        "    if i < n:\n",
        "        return False\n",
        "    else:\n",
        "        return True\n",
        "\n",
        "print(es_primo(563456345634567)) # False"
      ]
    },
    {
      "cell_type": "markdown",
      "metadata": {
        "id": "pj3Bo_dzCfcE"
      },
      "source": [
        "La función definida arriba tiene dos `return` y eso es algo que debería evitarse, lo ideal es que haya un solo `return` al final del cuerpo de la función.  "
      ]
    },
    {
      "cell_type": "markdown",
      "metadata": {
        "id": "emyaBhcO2U2y"
      },
      "source": [
        "Es preferible la siguiente definición:"
      ]
    },
    {
      "cell_type": "code",
      "execution_count": null,
      "metadata": {
        "id": "wlGSQXSa2che",
        "colab": {
          "base_uri": "https://localhost:8080/"
        },
        "outputId": "ccefa683-40cf-4f55-888e-9c19197fcef0"
      },
      "outputs": [
        {
          "output_type": "stream",
          "name": "stdout",
          "text": [
            "3\n",
            "False\n"
          ]
        }
      ],
      "source": [
        "def es_primo(n: int) -> bool:\n",
        "    # pre: n > 0\n",
        "    # post: devuelve True si n  es primo, en caso contrario devuelve False\n",
        "    primo = True\n",
        "    i = 2\n",
        "    while i < n and n % i != 0:\n",
        "        i += 1\n",
        "    if i < n:\n",
        "        primo =  False\n",
        "    return primo\n",
        "\n",
        "print(es_primo(563456345634567)) # False"
      ]
    },
    {
      "cell_type": "markdown",
      "metadata": {
        "id": "5ygpXiERkA7r"
      },
      "source": [
        "O la forma más concisa,  que pareciera ser la mejor con este algoritmo en mente:"
      ]
    },
    {
      "cell_type": "code",
      "execution_count": null,
      "metadata": {
        "id": "RMw19YgYkEDD"
      },
      "outputs": [],
      "source": [
        "def es_primo(n: int) -> bool:\n",
        "    # pre: n > 0\n",
        "    # post: devuelve True si n  es primo, en caso contrario devuelve False\n",
        "    i = 2\n",
        "    while i < n and n % i != 0:\n",
        "        i += 1\n",
        "    return i == n"
      ]
    },
    {
      "cell_type": "markdown",
      "metadata": {
        "id": "v3VOTTs9bfp6"
      },
      "source": [
        "## 5. Método de Newton para la raíz cuadrada\n",
        "\n",
        "El *método de Newton* o de *Newton-Raphson* es un algoritmo para encontrar aproximaciones de los ceros o raíces de una función real. Una explicación completa se puede encontrar en Wikipedia en el artículo [Método de Newton](https://es.wikipedia.org/wiki/M%C3%A9todo_de_Newton).\n",
        "\n",
        "Se puede utilizar el  método de Newton para encontrar una aproximación numérica de la raíz cuadrada de un número real. Observar que si $a >0$\n",
        "$$\n",
        "b = \\sqrt{a}\\quad \\Leftrightarrow \\quad b^2 = a \\quad\\Leftrightarrow\\quad b^2-a=0.\n",
        "$$\n",
        "Es decir, $\\sqrt{a}$ es raíz de la función $f(x) = x^2 -a$. El algoritmo que se obtiene de aplicar el  método de Newton a $f$ se puede describir de la siguiente forma:\n",
        "1. Sea $x_0$ un valor inicial arbitrario ($>0$).\n",
        "2. Sea\n",
        "\\begin{equation}\n",
        "x_{n+1} = \\frac12(x_n + \\frac{a}{x_n}) \\tag{*}\n",
        "\\end{equation}\n",
        "para $n \\ge 0$.\n",
        "\n",
        "3. Aplique la fórmula (*) desde $n=0$ en adelante hasta obtener un $x_n$ que se aproxime \"lo suficiente\".\n",
        "\n",
        "En el ítem 3. la frase \"lo suficiente\" no es del todo clara y  trataremos de interpretarla a lo largo de la sección.\n",
        "\n",
        "Veamos como funciona en algún caso particular, por ejemplo, si $a$ es $4$ y $x_0$ es $3$. De ahora en más, por ser más cómodo; llamaremos $x$  a $x_n$ (el valor original) e $y$ a $x_{n+1}$ (el valor que se obtiene). Luego la fórmula (*) se reescribe:\n",
        "\\begin{equation}\n",
        "y = \\frac12(x + \\frac{a}{x}) \\tag{*}\n",
        "\\end{equation}\n",
        "\n",
        "Con esta fórmula en mente, la primera aproximación a $\\sqrt{4} =2$ es\n"
      ]
    },
    {
      "cell_type": "code",
      "execution_count": null,
      "metadata": {
        "id": "vKZOkNKjbfy4",
        "colab": {
          "base_uri": "https://localhost:8080/"
        },
        "outputId": "98d18728-bef8-46a7-c84c-605e74074b7b"
      },
      "outputs": [
        {
          "output_type": "stream",
          "name": "stdout",
          "text": [
            "2.1666666666666665\n"
          ]
        }
      ],
      "source": [
        "a = 4\n",
        "x = 3\n",
        "y = (1/2)*(x + a/x)\n",
        "print(y)"
      ]
    },
    {
      "cell_type": "markdown",
      "metadata": {
        "id": "lW51NjoXbf8B"
      },
      "source": [
        "El resultado es `2.1666666666666665` que está más cerca que `3` de la respuesta correcta ($\\sqrt{4} = 2$). Si nosotros repetimos el proceso con la nueva estimación, se acerca aún más:\n"
      ]
    },
    {
      "cell_type": "code",
      "execution_count": null,
      "metadata": {
        "id": "6GzSJcFrbgE-",
        "colab": {
          "base_uri": "https://localhost:8080/"
        },
        "outputId": "68ab7faa-e85a-4094-c48a-5fe58e07b73e"
      },
      "outputs": [
        {
          "output_type": "stream",
          "name": "stdout",
          "text": [
            "2.0064102564102564\n"
          ]
        }
      ],
      "source": [
        "x = y # el nuevo x es el y  anterior\n",
        "y = (1/2)*(x + a/x)\n",
        "print(y)"
      ]
    },
    {
      "cell_type": "markdown",
      "metadata": {
        "id": "l2ks9L7rbgPc"
      },
      "source": [
        "De la celda anterior obtenemos `2.0064102564102564`. Después de algunas actualizaciones más, la estimación es muy precisa:"
      ]
    },
    {
      "cell_type": "code",
      "execution_count": null,
      "metadata": {
        "id": "1JgqkRFobgaR",
        "colab": {
          "base_uri": "https://localhost:8080/"
        },
        "outputId": "c2217001-1669-4ceb-f5aa-a141c31665db"
      },
      "outputs": [
        {
          "output_type": "stream",
          "name": "stdout",
          "text": [
            "2.0000102400262145\n",
            "2.0000000000262146\n"
          ]
        }
      ],
      "source": [
        "x = y\n",
        "y = (1/2)*(x + a/x)\n",
        "print(y)\n",
        "x = y\n",
        "y = (1/2)*(x + a/x)\n",
        "print(y)"
      ]
    },
    {
      "cell_type": "markdown",
      "metadata": {
        "id": "9qrl_WUm8X4W"
      },
      "source": [
        "Finalmente,  con una aproximación más obtenemos el resultado exacto:"
      ]
    },
    {
      "cell_type": "code",
      "execution_count": null,
      "metadata": {
        "id": "XHZ-OT_N8YCs",
        "colab": {
          "base_uri": "https://localhost:8080/"
        },
        "outputId": "7fb08f9f-e815-41aa-8c3b-372c685763b4"
      },
      "outputs": [
        {
          "output_type": "stream",
          "name": "stdout",
          "text": [
            "2.0\n"
          ]
        }
      ],
      "source": [
        "x = y\n",
        "y = (1/2)*(x + a/x)\n",
        "print(y)"
      ]
    },
    {
      "cell_type": "markdown",
      "metadata": {
        "id": "qfyJxcFt7hUC"
      },
      "source": [
        "En general, no sabemos de antemano cuántos pasos se necesitan para llegar a la respuesta correcta, pero sabemos cuándo llegamos porque la estimación\n",
        "deja de cambiar:"
      ]
    },
    {
      "cell_type": "code",
      "execution_count": null,
      "metadata": {
        "id": "uuUEI_9_7hbQ",
        "colab": {
          "base_uri": "https://localhost:8080/"
        },
        "outputId": "a2380aa6-5aca-4f03-c327-59f1342acb09"
      },
      "outputs": [
        {
          "output_type": "stream",
          "name": "stdout",
          "text": [
            "2.0\n"
          ]
        }
      ],
      "source": [
        "x = y\n",
        "y = (1/2)*(x + a/x)\n",
        "print(y)"
      ]
    },
    {
      "cell_type": "markdown",
      "metadata": {
        "id": "pAAuPwpK7hkP"
      },
      "source": [
        "Cuando `y == x`, podemos detenernos. Aquí hay un bucle que comienza\n",
        "con una estimación inicial, `x`, y la mejora hasta que deja de cambiar. Podemos escribir la función `raiz_cuadrada()` de la siguiente forma:\n"
      ]
    },
    {
      "cell_type": "code",
      "execution_count": null,
      "metadata": {
        "id": "eI8lPcie7hs1",
        "colab": {
          "base_uri": "https://localhost:8080/"
        },
        "outputId": "4e606dc7-ab04-4f97-deca-078a7dc3ec5e"
      },
      "outputs": [
        {
          "output_type": "stream",
          "name": "stdout",
          "text": [
            "2.0 4.0\n",
            "3.0 9.0\n",
            "5.477225575051661 30.0\n",
            "10.04987562112089 101.0\n",
            "10.099504938362077 101.99999999999999\n"
          ]
        }
      ],
      "source": [
        "def raiz_cuadrada(a: float) -> float:\n",
        "    # pre: a > 0\n",
        "    # post: devuelve y una aproximación de la raíz cuadrada de a\n",
        "    x = a / 2 # aproximamos la raíz de a por a/2\n",
        "    y = (1/2)*(x + a/x)\n",
        "    while y != x:\n",
        "        x = y # el último calculado pasa a ser el que se usa para calcular el próximo\n",
        "        y = (1/2)*(x + a/x)\n",
        "    return y\n",
        "\n",
        "print(raiz_cuadrada(4), raiz_cuadrada(4)**2)\n",
        "print(raiz_cuadrada(9), raiz_cuadrada(9)**2)\n",
        "print(raiz_cuadrada(30), raiz_cuadrada(30)**2)\n",
        "print(raiz_cuadrada(101), raiz_cuadrada(101)**2)\n",
        "print(raiz_cuadrada(102), raiz_cuadrada(102)**2)"
      ]
    },
    {
      "cell_type": "markdown",
      "metadata": {
        "id": "Zj48R0CC7h04"
      },
      "source": [
        "Para muchos de los valores de `a` esto funciona bien, pero en general no es recomendable probar la igualdad de dos `float`. Los valores de coma flotante son solo aproximadamente correctos: la mayoría de los números racionales, como $ 1/3 $, y los números irracionales, como $\\sqrt{2}$, no se pueden representar exactamente con un `float`.\n",
        "\n",
        "En lugar de comprobar si `x` e `y` son exactamente iguales, es más seguro usar la función `abs` que devuelve el valor absoluto de un número real:  detenemos el bucle cuando `abs(x - y)` es menor que un error que consideramos aceptable. Redefinamos la función:"
      ]
    },
    {
      "cell_type": "code",
      "execution_count": null,
      "metadata": {
        "id": "EmotVaV07h98",
        "colab": {
          "base_uri": "https://localhost:8080/"
        },
        "outputId": "b7be1321-ef17-4e4b-f0ae-cff600256d64"
      },
      "outputs": [
        {
          "output_type": "stream",
          "name": "stdout",
          "text": [
            "2.0 4.0\n",
            "3.0000000000393214 9.000000000235929\n",
            "5.477225575302472 30.0000000027475\n",
            "10.049875621244148 101.00000000247745\n",
            "10.099504938503184 102.0000000028502\n"
          ]
        }
      ],
      "source": [
        "def raiz_cuadrada(a: float) -> float:\n",
        "    # pre: a > 0\n",
        "    # post: devuelve y una aproximación de la raíz cuadrada de a\n",
        "    x = a / 2 # aproximamos la raíz de a por a/2\n",
        "    y = (1/2)*(x + a/x)\n",
        "    error = 0.0001\n",
        "    while abs(x - y) > error:\n",
        "        x = y\n",
        "        y = (1/2)*(x + a/x)\n",
        "    return y\n",
        "\n",
        "print(raiz_cuadrada(4), raiz_cuadrada(4)**2)\n",
        "print(raiz_cuadrada(9), raiz_cuadrada(9)**2)\n",
        "print(raiz_cuadrada(30), raiz_cuadrada(30)**2)\n",
        "print(raiz_cuadrada(101), raiz_cuadrada(101)**2)\n",
        "print(raiz_cuadrada(102), raiz_cuadrada(102)**2)"
      ]
    },
    {
      "cell_type": "code",
      "execution_count": null,
      "metadata": {
        "id": "XZSaplFc9xRu",
        "colab": {
          "base_uri": "https://localhost:8080/"
        },
        "outputId": "c062155d-b65d-4e2c-99cc-e219ce81152c"
      },
      "outputs": [
        {
          "output_type": "stream",
          "name": "stdout",
          "text": [
            "raíz cuadrada de: 4 es 2.0 que elevado al cuadrado  es 4.0\n",
            "raíz cuadrada de: 9 es 3.0 que elevado al cuadrado  es 9.0\n",
            "raíz cuadrada de: 30 es 5.477225575051661 que elevado al cuadrado  es 30.0\n",
            "raíz cuadrada de: 101 es 10.04987562112089 que elevado al cuadrado  es 101.0\n",
            "raíz cuadrada de: 102 es 10.099504938362077 que elevado al cuadrado  es 101.99999999999999\n"
          ]
        }
      ],
      "source": [
        "def raiz_cuadrada(a: float) -> float:\n",
        "    \"\"\"\n",
        "    pre: a > 0\n",
        "    post: devuelve y una aproximación de la raíz cuadrada de a\n",
        "    \"\"\"\n",
        "    x = a / 2 # aproximamos la raíz de a por a/2\n",
        "    y = (1/2)*(x + a/x)\n",
        "    error = 0.00001\n",
        "    while abs(x**2 - a) > error:\n",
        "        x = y\n",
        "        y = (1/2)*(x + a/x)\n",
        "    return y\n",
        "n = 4\n",
        "print('raíz cuadrada de:', n, 'es', raiz_cuadrada(n),'que elevado al cuadrado  es', raiz_cuadrada(n)**2)\n",
        "n = 9\n",
        "print('raíz cuadrada de:', n, 'es', raiz_cuadrada(n),'que elevado al cuadrado  es', raiz_cuadrada(n)**2)\n",
        "n = 30\n",
        "print('raíz cuadrada de:', n, 'es', raiz_cuadrada(n),'que elevado al cuadrado  es', raiz_cuadrada(n)**2)\n",
        "n = 101\n",
        "print('raíz cuadrada de:', n, 'es', raiz_cuadrada(n),'que elevado al cuadrado  es', raiz_cuadrada(n)**2)\n",
        "n = 102\n",
        "print('raíz cuadrada de:', n, 'es', raiz_cuadrada(n),'que elevado al cuadrado  es', raiz_cuadrada(n)**2)\n",
        "\n"
      ]
    },
    {
      "cell_type": "markdown",
      "metadata": {
        "id": "15isWc-3DjtS"
      },
      "source": [
        "Esta última sería la forma más correcta de escribir la función. La primera forma, sin el error, depende mucho de la implementación del compilador y se pueden obtener resultados inciertos."
      ]
    },
    {
      "cell_type": "markdown",
      "metadata": {
        "id": "AQacMVGhibPD"
      },
      "source": [
        "## 6. Programación defensiva\n",
        "\n",
        "El primer paso para obtener las resultados correctos de nuestros programas es asumir que los errores sucederán y protegerse contra ellos. Esto se llama programación defensiva, y la forma más común de hacerlo es agregar aserciones a nuestro código para que se compruebe a sí mismo a medida que se ejecuta. Una *aserción* es simplemente una declaración de que algo debe ser cierto en un cierto punto de un programa. La sintaxis de la aserción es la siguiente\n",
        "\n",
        "```\n",
        "assert condición, 'Cadena  que se imprime cuando condición == False'\n",
        "```\n",
        "\n",
        "\n",
        "\n",
        "Cuando Python ve una aserción, evalúa la condición de la aserción. Si es cierta, Python no hace nada, pero si es falsa, Python detiene el programa inmediatamente e imprime el mensaje de error explicitado por el programador. Por ejemplo, este fragmento de código suma todos los números de una lista de números positivos:\n"
      ]
    },
    {
      "cell_type": "code",
      "execution_count": null,
      "metadata": {
        "id": "THihhUwziwKq"
      },
      "outputs": [],
      "source": [
        "numeros = [1.5, 2.3, 0.7, 0.001, 4.4] # lista de números (veremos esto en profundidad más adelante)\n",
        "total = 0.0\n",
        "for n in numeros:\n",
        "    assert n > 0.0, 'Los datos solo deben contener valores positivos (' + str(n) + ' <= 0).'\n",
        "    total += n\n",
        "print('El total es:', total)"
      ]
    },
    {
      "cell_type": "markdown",
      "metadata": {
        "id": "JjwfI58xzqqY"
      },
      "source": [
        "En  caso que la lista de números contenga un número no positivo,  obtendremos un error por el `assert`:"
      ]
    },
    {
      "cell_type": "code",
      "execution_count": null,
      "metadata": {
        "id": "UX0btmvRz2zj"
      },
      "outputs": [],
      "source": [
        "numeros = [1.5, 2.3, 0.7, -0.001, 4.4]\n",
        "total = 0.0\n",
        "for n in numeros:\n",
        "    assert n > 0.0, 'Los datos solo deben contener valores positivos (' + str(n) + ' <= 0).'\n",
        "    total += n\n",
        "print('El total es:', total)"
      ]
    },
    {
      "cell_type": "markdown",
      "metadata": {
        "id": "guHfD7NP0AjJ"
      },
      "source": [
        "### Precondiciones y postcondiciones (revisado)\n",
        "Repasemos el concepto de precondición y postcondición y veamos que en algunos casos pueden verificarse con el comando `assert`. Como ya vimos, las *precondiciones* y *postcondiciones* son anotaciones dentro del cuerpo de una función que nos sirven para saber como deben ser los parámetros que recibe la función y  que es lo que hace la función:\n",
        "\n",
        "- *Precondición:* es algo que debe ser cierto cuando comienza la la función, para que esta funcione correctamente.\n",
        "- *Postcondición:* es algo que la función garantiza cierto cuando la misma termina.\n",
        "\n",
        "Las precondiciones y postcondiciones son parte de la documentación del programa y suelen escribirse como comentarios formales cuando se puede, o en caso contrario informales.\n",
        "\n",
        "En el caso que se puedan formalizar en Python,  se pueden reemplazar o completar con `assert`.\n",
        "\n",
        "Veamos un ejemplo con el máximo común divisor. La función escrita en la siguiente celda de código determina  el máximo común divisor de `a` y `b` cuando `a` y `b` son enteros no negativos y uno de ellos es mayor que 0.\n",
        "\n",
        "El algoritmo se basa en la dos propiedades siguientes: si $x$, $y$  son enteros,  con $y$ no nulo,  entonces:\n",
        "\\begin{align}\n",
        "\\operatorname{mcd}(x, y) &= \\operatorname{mcd}(x, y - x) \\\\\n",
        "\\operatorname{mcd}(0, y) &= y.\n",
        "\\end{align}"
      ]
    },
    {
      "cell_type": "code",
      "execution_count": null,
      "metadata": {
        "id": "4cfEdgrM3-La"
      },
      "outputs": [],
      "source": [
        "# 1º versión.\n",
        "def mcd(a, b: int) -> int:\n",
        "    x, y = min(a, b), max(a, b)\n",
        "    while x != 0: # \"mientras x distinto de 0\"\n",
        "        x, y = min(x, y - x), max(x, y - x)\n",
        "    return y\n",
        "\n",
        "mcd(15, 24)\n",
        "#mcd(-3, 2)"
      ]
    },
    {
      "cell_type": "markdown",
      "metadata": {
        "id": "CQbh3XNNHBTl"
      },
      "source": [
        "Esta función se comporta bien mientras `a` y `b` cumplan que son no negativos y al menos uno sea no nulo. Verificar, por ejemplo, que\n",
        "\n",
        "\n",
        "```\n",
        "mcd(-3, 2)\n",
        "```\n",
        "es una instrucción que no termina.\n",
        "\n",
        "Agreguemos ahora precondiciones y postcondiciones de manera informal:\n",
        "\n",
        "\n"
      ]
    },
    {
      "cell_type": "code",
      "execution_count": null,
      "metadata": {
        "id": "TElaRuxx1dfd"
      },
      "outputs": [],
      "source": [
        "# 2º versión.\n",
        "def mcd(a, b: int) -> int:\n",
        "    # pre: a y b no negativos, al menos uno de ellos no nulo.\n",
        "    # post: devuelve el mcd de a y b\n",
        "    x, y = min(a, b), max(a, b)\n",
        "    while x != 0: # \"mientras x distinto de 0\"\n",
        "      x, y = min(x, y - x), max(x, y - x)\n",
        "    return y"
      ]
    },
    {
      "cell_type": "markdown",
      "metadata": {
        "id": "xgPp3EqLD0_l"
      },
      "source": [
        "En  la tercera versión la precondición se escribe de manera formal, pero sigue siendo un comentario:"
      ]
    },
    {
      "cell_type": "code",
      "execution_count": null,
      "metadata": {
        "id": "VvQQvyPh2Rf9"
      },
      "outputs": [],
      "source": [
        "# 3º versión\n",
        "def mcd(a, b: int) -> int:\n",
        "    # pre: (a >= 0 and b >=0) and (a != 0 or b != 0).\n",
        "    # post: devuelve el mdc de a y b\n",
        "    x, y = min(a, b), max(a, b)\n",
        "    while x != 0: # \"mientras x distinto de 0\"\n",
        "        x, y = min(x, y - x), max(x, y - x)\n",
        "    return y"
      ]
    },
    {
      "cell_type": "markdown",
      "metadata": {
        "id": "zO95CrpMD_-1"
      },
      "source": [
        "La tercera versión no difiere en nada, al tiempo de ejecutarse, a la segunda versión, por lo tanto existe la posiblidad de entrar en un ciclo infinito para ciertos valores de `a`  y `b`.\n",
        "\n",
        "En  la tercera versión hemos formalizado la precondición en lenguaje Python y por lo tanto  la podemos formalizar programáticamente con `assert`:"
      ]
    },
    {
      "cell_type": "code",
      "execution_count": null,
      "metadata": {
        "id": "3j6SIAWB2ziP"
      },
      "outputs": [],
      "source": [
        "# 4º versión\n",
        "def mcd(a, b: int) -> int:\n",
        "    # pre: (a >= 0 and b >=0) and (a != 0 or b != 0).\n",
        "    assert type(a) == int and type(b) == int, \"Los parámetros deben ser enteros\"\n",
        "    assert (a >= 0 and b >=0) and (a != 0 or b != 0), \"Los parámetros deben ser no negativos, al menos uno de ellos no nulo\"\n",
        "    # post: devuelve el mdc de a y b\n",
        "    x, y = min(a, b), max(a, b)\n",
        "    while x != 0: # \"mientras x distinto de 0\"\n",
        "      x, y = min(x, y - x), max(x, y - x)\n",
        "    return y\n",
        "\n",
        "print(mcd(15, 24))\n",
        "# print(mcd(-3, 2))"
      ]
    },
    {
      "cell_type": "markdown",
      "metadata": {
        "id": "cK11z4vzJ1Vw"
      },
      "source": [
        "Esta cuarta versión produce un error y detiene el programa cuando `a` y `b` no cumplen la precondición. En  este caso el `assert` nos garantiza que no se producirá un ciclo infinito y por lo tanto juega un rol importante em el programa.\n",
        "\n",
        "En el caso de la función `mcd()` formalizar matemáticamente la  postcondición es posible, pero en general la postcondición no se implementa con un `assert`. Por lo tanto la podemos dejar escrita de manera informal o la escribimos con el fomalismo de la matemática, pero sin hacer un `assert` para verificarla.\n",
        "\n",
        "Por otro  lado, hacer un `assert` para la postcondición no parece razonable, puesto que si la función está bien implementada la postcondición siempre debe cumplirse y si ocurriera en algún caso que no se cumple es porque la función está mal definida.\n"
      ]
    },
    {
      "cell_type": "code",
      "execution_count": null,
      "metadata": {
        "id": "UZMRX0H9KnFX"
      },
      "outputs": [],
      "source": [
        "# 5º versión\n",
        "def mcd(a, b: int) -> int:\n",
        "    # pre: (a >= 0 and b >=0) and (a != 0 or b != 0).\n",
        "    assert type(a) == int and type(b) == int, \"Los parámetros deben ser enteros\"\n",
        "    assert (a >= 0 and b >=0) and (a != 0 or b != 0), \"Los parámetros deben ser no negativos, al menos uno de ellos no nulo\"\n",
        "    # post: devuelve d tal que\n",
        "    #       1) a % d == 0 and b % d == 0, y\n",
        "    #       2) si c entero y (a % c == 0 and b % c == 0) => d % c == 0\n",
        "    x, y = min(a, b), max(a, b)\n",
        "    while x != 0: # \"mientras x distinto de 0\"\n",
        "      x, y = min(x, y - x), max(x, y - x)\n",
        "    return y"
      ]
    }
  ],
  "metadata": {
    "colab": {
      "provenance": []
    },
    "kernelspec": {
      "display_name": "Python 3 (ipykernel)",
      "language": "python",
      "name": "python3"
    },
    "language_info": {
      "codemirror_mode": {
        "name": "ipython",
        "version": 3
      },
      "file_extension": ".py",
      "mimetype": "text/x-python",
      "name": "python",
      "nbconvert_exporter": "python",
      "pygments_lexer": "ipython3",
      "version": "3.8.12"
    }
  },
  "nbformat": 4,
  "nbformat_minor": 0
}