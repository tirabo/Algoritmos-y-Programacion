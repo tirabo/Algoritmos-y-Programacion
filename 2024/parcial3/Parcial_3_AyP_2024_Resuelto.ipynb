{
  "cells": [
    {
      "cell_type": "markdown",
      "metadata": {
        "id": "s-Kal5lP3PI4"
      },
      "source": [
        "# Parcial 3\n",
        "\n",
        "**IMPORTANTE**\n",
        "- El código que incorpores *debe* poder ejecutarse en *este* Notebook en Visual Studio Code, en caso contrario el ejercicio ***será inválido***. Por favor,  verificá que el código se ejecute sin errores (aún en el caso en que la solución no sea del todo correcta).\n",
        "- Al clicar \"Ejecutar celda\" en las celdas donde están los test deberían devolverse los resultados correctos.\n",
        "- En estos ejercicios **no está permitido** importar ninguna biblioteca.\n",
        "- **No está permitido** consultar internet. Cualquier consulta, por ejemplo el nombre de una instrucción que se hayan olvidado, debe ser hecha a los profesores.\n",
        "- **No está permitido** utilizar el celular bajo ningún aspecto. Al alumno que utilce el celular le será retirado el examen.\n",
        "\n",
        "**IMPORTANTE 2**\n",
        "- Es conveniente escribír las pre y post condiciones.\n",
        "- Seguí las convenciones respecto de nombres de variables, funciones y constantes.\n",
        "- Evitar la utilización de funciones sofisticadas de Python. Toda función o método no visto en el curso no está permitido.\n",
        "\n",
        "El parcial se aprueba con el 50% resuelto correctamente y eso equivale a una nota de 4."
      ]
    },
    {
      "cell_type": "markdown",
      "metadata": {
        "id": "VfoKSMH33qil"
      },
      "source": [
        "**Ejercicio 1 (20%):  recursión sobre listas.**\n",
        "\n",
        "1. Escribir  la función recursiva `suma_multiplos()` que recibe como parámetros una lista de enteros positivos  y un número entero positivo `m` y  devuelve la suma de los elementos de la lista que son múltiplos de `m`.\n",
        "2. Escribir  la función recursiva `min_max()` que dada una lista no vacía  devuelve una $2$-úpla con el menor elemento de la lista y el mayor elemento de la lista."
      ]
    },
    {
      "cell_type": "code",
      "execution_count": 29,
      "metadata": {
        "id": "YbHJ9toa_cS0"
      },
      "outputs": [],
      "source": [
        "# definición de la funcion suma_multiplos\n",
        "def suma_multiplos(lista, m):\n",
        "    if len(lista) == 0:\n",
        "        return 0\n",
        "    else:\n",
        "        if lista[0] % m == 0:\n",
        "            return lista[0] + suma_multiplos(lista[1:], m)\n",
        "        else:\n",
        "            return suma_multiplos(lista[1:], m)"
      ]
    },
    {
      "cell_type": "code",
      "execution_count": 30,
      "metadata": {},
      "outputs": [
        {
          "name": "stdout",
          "output_type": "stream",
          "text": [
            "18\n",
            "30\n",
            "15\n",
            "1683\n",
            "816\n",
            "315\n"
          ]
        }
      ],
      "source": [
        "# Test de la función suma_multiplos\n",
        "lista = [1, 2, 3, 4, 5, 6, 7, 8, 9, 10]\n",
        "m = 3\n",
        "print(suma_multiplos(lista, m)) # 18\n",
        "m = 2\n",
        "print(suma_multiplos(lista, m)) # 30\n",
        "m = 5\n",
        "print(suma_multiplos(lista, m)) # 15\n",
        "lista = [i  for i in range(100) if i%3 == 0]\n",
        "m = 3\n",
        "print(suma_multiplos(lista, m)) # 1683  \n",
        "m = 2\n",
        "print(suma_multiplos(lista, m)) # 816\n",
        "m = 5\n",
        "print(suma_multiplos(lista, m)) # 315\n"
      ]
    },
    {
      "cell_type": "code",
      "execution_count": 31,
      "metadata": {
        "id": "bwiptJNJ33JH"
      },
      "outputs": [],
      "source": [
        "# definición de la función min_max\n",
        "def  min_max(lista):\n",
        "    if len(lista) == 1:\n",
        "        return (lista[0], lista[0])\n",
        "    else:\n",
        "        minimo, maximo = min_max(lista[1:])\n",
        "        if lista[0] > maximo:\n",
        "            maximo = lista[0]\n",
        "        if lista[0] < minimo:\n",
        "            minimo = lista[0]\n",
        "        return (minimo, maximo)"
      ]
    },
    {
      "cell_type": "code",
      "execution_count": 28,
      "metadata": {},
      "outputs": [
        {
          "name": "stdout",
          "output_type": "stream",
          "text": [
            "(1, 10)\n",
            "(0, 99)\n",
            "(-19, 20)\n",
            "(-89, 78)\n"
          ]
        }
      ],
      "source": [
        "# Test de la función min_max\n",
        "lista = [1, 2, 3, 4, 5, 6, 7, 8, 9, 10]\n",
        "print(min_max(lista)) # (1, 10)\n",
        "lista = [i  for i in range(100) if i%3 == 0]\n",
        "print(min_max(lista)) # (0, 99)\n",
        "lista = [-19, -5, -18, 13, -11, 20, 1, 7, -16, 8]\n",
        "print(min_max(lista)) # (-19, 20)\n",
        "lista = [-89, 1, 24, -83, -76, 38, 78, 49, -61, 26, 22, -43, -15, 75, -18]\n",
        "print(min_max(lista)) # (-89, 78)"
      ]
    },
    {
      "cell_type": "markdown",
      "metadata": {
        "id": "R9C0ngEw4e7O"
      },
      "source": [
        "**Ejercicio 2 (25%): clases.**\n",
        "\n",
        "\n",
        "Desarrollar la clase `Evaluacion` para representar los alumnos de una clase y sus respectivas evaluaciones de  una materia. Cada alumno está determinado por su DNI y  como dato adicional se agrega su  nombre y apellido.\n",
        "\n",
        "La clase `Evaluacion` debe tener los siguientes atributos y métodos:\n",
        "\n",
        "Atributos:\n",
        "\n",
        "* `dni`: el DNI del alumno evaluado.\n",
        "* `nombre`: nombre y apellido del alumno.\n",
        "* `materia`: la materia en que se lo evalúa al alumno.\n",
        "* `notas`: un lista de enteros que representa las notas.\n",
        "\n",
        "Los atributos deben ser privados.\n",
        "\n",
        "Métodos getter:\n",
        "\n",
        "* `dni()` :  devuelve el DNI  del alumno.\n",
        "* `nombre()`: devuelve el nombre y apellido del alumno.\n",
        "* `materia()`: devuelve el nombre de la materia.\n",
        "* `regular()`:  devuelve `True` si regularizó la materia, `False` en caso contrario. Más abajo se explica el criterio de regularización.\n",
        "* `promocionado()`:  devuelve `True` si promocionó la materia, `False` en caso contrario. Más abajo se explica el criterio de promoción.\n",
        "* `promedio()`:  devuelve el promedio de todas las notas (sin redondear)\n",
        "\n",
        "Además el `print()` debe mostrar por pantalla la información de la evaluación: nombre y apellido del alumno, DNI  del alumno, materia, notas obtenidas, si es regular o no,  si promocionó o no. En caso de haber promocionado la nota obtenida redondeada.\n",
        "\n",
        "Métodos setter:\n",
        "\n",
        "* `establecer_dni()`: se ingresa el número de DNI.\n",
        "* `establecer_nombre()`: se establece el nombre y apellido del alumno.\n",
        "* `establecer_materia()`: se establece la materia.     \n",
        "* `agregar_nota(nota)`: recibe un entero `nota` del 0 al 10 y  agrega ese entero a las notas.\n",
        "\n",
        "**Criterios para regularizar y promocionar**.\n",
        "\n",
        "* Para regularizar el alumno debe haber aprobado al menos $2/3$  de los exámenes rendidos. Un  examen se aprueba con $4$.\n",
        "* Para promocionar el alumno debe haber obtenido nota $6$ o superior en todos los exámenes y  debe tener promedio $\\ge 7$. La nota que obtiene en ese caso es el promedio redondeado ($7.1$ redondea a $7$, $7.5$ redondea a $8$).    \n",
        "\n"
      ]
    },
    {
      "cell_type": "code",
      "execution_count": 53,
      "metadata": {
        "id": "1_HI315e_4fT"
      },
      "outputs": [],
      "source": [
        "class Evaluacion:\n",
        "    def __init__(self, nombre ='', dni = '', materia= ''):\n",
        "        self.__dni = dni\n",
        "        self.__nombre = nombre\n",
        "        self.__materia = materia\n",
        "        self.__notas = []\n",
        "\n",
        "    def dni(self):\n",
        "        return self.__dni\n",
        "\n",
        "    def nombre(self):\n",
        "        return self.__nombre\n",
        "\n",
        "    def materia(self):\n",
        "        return self.__materia\n",
        "\n",
        "    def notas(self):\n",
        "        return self.__notas\n",
        "\n",
        "    def regular(self):\n",
        "        aprobados = 0\n",
        "        for  nota in self.__notas:\n",
        "            if nota >= 4:\n",
        "                aprobados += 1\n",
        "        if len(self.__notas) == 0:\n",
        "            return False    \n",
        "        else:\n",
        "            return aprobados / len(self.__notas) >= 2/3\n",
        "\n",
        "    def promedio(self):\n",
        "        if  len(self.__notas) == 0:\n",
        "            return None\n",
        "        else:\n",
        "            return sum(self.__notas) / len(self.__notas)\n",
        "\n",
        "    def promocionado(self):\n",
        "        mayor_eq_6 = True\n",
        "        for nota in self.__notas:\n",
        "            if nota < 6:\n",
        "                mayor_eq_6 = False\n",
        "        if mayor_eq_6 and len(self.__notas) >= 1:\n",
        "            return self.promedio() >= 7\n",
        "        else:\n",
        "            return  False\n",
        "\n",
        "    def  establecer_dni(self, dni):\n",
        "        self.__dni = dni\n",
        "\n",
        "    def establecer_nombre(self, nombre):\n",
        "        self.__nombre = nombre\n",
        "\n",
        "    def establecer_materia(self, materia):\n",
        "        self.__materia = materia\n",
        "\n",
        "    def agregar_nota(self, nota):\n",
        "        self.__notas.append(nota)\n",
        "\n",
        "    def __str__(self):\n",
        "        \"\"\"\n",
        "        Muestra por pantalla la información de la evaluación: nombre y apellido del alumno, \n",
        "        DNI  del alumno, la materia, notas obtenidas, si es regular o no,  si promocionó o no. \n",
        "        En caso de haber promocionado la nota obtenida.\n",
        "        \"\"\"\n",
        "        cadena = f'{self.__nombre} ({self.__dni})\\n'\n",
        "        cadena += f'Materia: {self.__materia}\\n'\n",
        "        cadena += 'Notas: '\n",
        "        for nota in self.__notas:\n",
        "            cadena += f'{nota} '\n",
        "        cadena += f'\\nRegular: {self.regular()}\\n'\n",
        "        cadena += f'Promocionado: {self.promocionado()}'\n",
        "        if self.promocionado():\n",
        "            cadena += f' con {round(self.promedio())}'\n",
        "        return cadena+'\\n'\n",
        "        "
      ]
    },
    {
      "cell_type": "code",
      "execution_count": 54,
      "metadata": {
        "id": "ID4eTJML40Ka"
      },
      "outputs": [],
      "source": [
        "# Tests\n",
        "alumno1 = Evaluacion('Juan Pérez', '12345678', 'Álgebra I')\n",
        "alumno2 = Evaluacion('Ana López', '23456789', 'Álgebra I')\n",
        "alumno3 = Evaluacion()\n",
        "alumno3.establecer_nombre('Carlos Gómez')\n",
        "alumno3.establecer_dni('34567890')\n",
        "alumno3.establecer_materia('Álgebra II')\n",
        "alumno4 = Evaluacion('María Rodríguez', '45678901', 'Álgebra II')"
      ]
    },
    {
      "cell_type": "code",
      "execution_count": 55,
      "metadata": {},
      "outputs": [
        {
          "name": "stdout",
          "output_type": "stream",
          "text": [
            "Juan Pérez (12345678)\n",
            "Materia: Álgebra I\n",
            "Notas: \n",
            "Regular: False\n",
            "Promocionado: False\n",
            "\n",
            "Ana López (23456789)\n",
            "Materia: Álgebra I\n",
            "Notas: \n",
            "Regular: False\n",
            "Promocionado: False\n",
            "\n",
            "Carlos Gómez (34567890)\n",
            "Materia: Álgebra II\n",
            "Notas: \n",
            "Regular: False\n",
            "Promocionado: False\n",
            "\n"
          ]
        },
        {
          "data": {
            "text/plain": [
              "'\\nImprime:\\nJuan Pérez (12345678)\\nMateria: Álgebra I\\nNotas: \\nRegular: False\\nPromocionado: False\\n\\nAna López (23456789)\\nMateria: Álgebra I\\nNotas: \\nRegular: False\\nPromocionado: False\\n\\nCarlos Gómez (34567890)\\nMateria: Álgebra II\\nNotas: \\nRegular: False\\nPromocionado: False\\n'"
            ]
          },
          "execution_count": 55,
          "metadata": {},
          "output_type": "execute_result"
        }
      ],
      "source": [
        "print(alumno1)\n",
        "print(alumno2)\n",
        "print(alumno3)\n",
        "\"\"\"\n",
        "Imprime:\n",
        "Juan Pérez (12345678)\n",
        "Materia: Álgebra I\n",
        "Notas: \n",
        "Regular: False\n",
        "Promocionado: False\n",
        "\n",
        "Ana López (23456789)\n",
        "Materia: Álgebra I\n",
        "Notas: \n",
        "Regular: False\n",
        "Promocionado: False\n",
        "\n",
        "Carlos Gómez (34567890)\n",
        "Materia: Álgebra II\n",
        "Notas: \n",
        "Regular: False\n",
        "Promocionado: False\n",
        "\"\"\""
      ]
    },
    {
      "cell_type": "code",
      "execution_count": 56,
      "metadata": {},
      "outputs": [
        {
          "name": "stdout",
          "output_type": "stream",
          "text": [
            "Juan Pérez (12345678)\n",
            "Materia: Álgebra I\n",
            "Notas: 2 4 6 8 2 \n",
            "Regular: False\n",
            "Promocionado: False\n",
            "\n",
            "Ana López (23456789)\n",
            "Materia: Álgebra I\n",
            "Notas: 2 4 4 8 \n",
            "Regular: True\n",
            "Promocionado: False\n",
            "\n",
            "Carlos Gómez (34567890)\n",
            "Materia: Álgebra II\n",
            "Notas: 6 7 8 8 \n",
            "Regular: True\n",
            "Promocionado: True con 7\n",
            "\n",
            "María Rodríguez (45678901)\n",
            "Materia: Álgebra II\n",
            "Notas: 7 5 8 9 \n",
            "Regular: True\n",
            "Promocionado: False\n",
            "\n"
          ]
        },
        {
          "data": {
            "text/plain": [
              "'\\nImprime:\\nJuan Pérez (12345678)\\nMateria: Álgebra I\\nNotas: 2 4 6 8 2 \\nRegular: False\\nPromocionado: False\\n\\nAna López (23456789)\\nMateria: Álgebra I\\nNotas: 2 4 4 8 \\nRegular: True\\nPromocionado: False\\n\\nCarlos Gómez (34567890)\\nMateria: Álgebra II\\nNotas: 6 7 8 \\nRegular: True\\nPromocionado: True con 7\\n\\nMaría Rodríguez (45678901)\\nMateria: Álgebra II\\nNotas: 7 5 8 9 \\nRegular: True\\nPromocionado: False\\n'"
            ]
          },
          "execution_count": 56,
          "metadata": {},
          "output_type": "execute_result"
        }
      ],
      "source": [
        "alumno1.agregar_nota(2)\n",
        "alumno1.agregar_nota(4)\n",
        "alumno1.agregar_nota(6)\n",
        "alumno1.agregar_nota(8)\n",
        "alumno1.agregar_nota(2)\n",
        "print(alumno1)\n",
        "alumno2.agregar_nota(2)\n",
        "alumno2.agregar_nota(4)\n",
        "alumno2.agregar_nota(4)\n",
        "alumno2.agregar_nota(8)\n",
        "print(alumno2)\n",
        "alumno3.agregar_nota(6)\n",
        "alumno3.agregar_nota(7)\n",
        "alumno3.agregar_nota(8)\n",
        "alumno3.agregar_nota(8)\n",
        "print(alumno3)\n",
        "alumno4.agregar_nota(7)\n",
        "alumno4.agregar_nota(5)\n",
        "alumno4.agregar_nota(8)\n",
        "alumno4.agregar_nota(9)\n",
        "print(alumno4)\n",
        "\"\"\"\n",
        "Imprime:\n",
        "Juan Pérez (12345678)\n",
        "Materia: Álgebra I\n",
        "Notas: 2 4 6 8 2 \n",
        "Regular: False\n",
        "Promocionado: False\n",
        "\n",
        "Ana López (23456789)\n",
        "Materia: Álgebra I\n",
        "Notas: 2 4 4 8 \n",
        "Regular: True\n",
        "Promocionado: False\n",
        "\n",
        "Carlos Gómez (34567890)\n",
        "Materia: Álgebra II\n",
        "Notas: 6 7 8 8 \n",
        "Regular: True\n",
        "Promocionado: True con 7\n",
        "\n",
        "María Rodríguez (45678901)\n",
        "Materia: Álgebra II\n",
        "Notas: 7 5 8 9 \n",
        "Regular: True\n",
        "Promocionado: False\n",
        "\"\"\""
      ]
    },
    {
      "cell_type": "markdown",
      "metadata": {
        "id": "-HhhFCRZ5TSa"
      },
      "source": [
        "**Ejercicio 3 (25%): entrada y salida.**\n",
        "\n",
        "1. Crear un archivo `ejemplo.txt`. \n",
        "2. Escribir en `ejemplo.txt`  las siguientes tres líneas\n",
        "\n",
        "\n",
        "```\n",
        "    Línea 1.\n",
        "    La segunda línea.\n",
        "    Otra línea.\n",
        "    La cuarta línea\n",
        "```\n",
        "\n",
        "3. A  continuación abrir el archivo en modo lectura e imprimir las líneas pares (la primera línea es la línea 1). \n",
        "\n",
        "\n",
        "\n"
      ]
    },
    {
      "cell_type": "code",
      "execution_count": null,
      "metadata": {
        "id": "3mzGj7wMxD8z"
      },
      "outputs": [],
      "source": []
    },
    {
      "cell_type": "markdown",
      "metadata": {
        "id": "xLSRoSYeWjLg"
      },
      "source": [
        "**Ejercicio 4 (20%): NumPy.**\n",
        "\n",
        "\n",
        "1. Crear un  arreglo en NumPy a partir de la lista `[1, 2, 3, 4, 5, 6, 7, 8, 9, 10] ` e imprimirlo.\n",
        "2. Usar una máscara booleana para identificar los elementos múltiplos de $3$  de una lista y mostrarlos. Probarlo para las listas\n",
        "\n"
      ]
    },
    {
      "cell_type": "code",
      "execution_count": 44,
      "metadata": {
        "id": "7FaBgY5UbjIe"
      },
      "outputs": [
        {
          "name": "stdout",
          "output_type": "stream",
          "text": [
            "[ 1  2  3  4  5  6  7  8  9 10]\n"
          ]
        }
      ],
      "source": [
        "import numpy as np\n",
        "lista = np.array([1, 2, 3, 4, 5, 6, 7, 8, 9, 10])\n",
        "print(lista)"
      ]
    },
    {
      "cell_type": "code",
      "execution_count": 45,
      "metadata": {
        "id": "DIwWzFBhfA4P"
      },
      "outputs": [
        {
          "name": "stdout",
          "output_type": "stream",
          "text": [
            "[3 6 9]\n",
            "[3 3]\n",
            "[9 6 9 6 3 3 9 6]\n"
          ]
        }
      ],
      "source": [
        "# Tests. Probar la solución de 2. para las siguientes listas\n",
        "lista1 = [1, 2, 3, 4, 5, 6, 7, 8, 9, 10] # imprime [3 6 9]\n",
        "np_lista1 = np.array(lista1)\n",
        "print(np_lista1[np_lista1 % 3 == 0])\n",
        "lista2 = [7, 1, 3, 4, 1, 8, 4, 3, 5, 4] # imprime [3 3]\n",
        "np_lista2 = np.array(lista2)\n",
        "print(np_lista2[np_lista2 % 3 == 0])\n",
        "lista3 = [9, 6, 9, 6, 7, 7, 7, 4, 3, 2, 3, 9, 6, 1, 7] # imprime [9 6 9 6 3 3 9 6]\n",
        "np_lista3 = np.array(lista3)\n",
        "print(np_lista3[np_lista3 % 3 == 0])"
      ]
    },
    {
      "cell_type": "markdown",
      "metadata": {
        "id": "k6I5ThO-Rx6s"
      },
      "source": [
        "**Ejercicio 5 (10%).**\n",
        "\n",
        " Escribir una función `guardar_datos()` que reciba un diccionario y un nombre de archivo, y guarde el contenido del diccionario en el archivo json llamado `archivo.json`.\n"
      ]
    },
    {
      "cell_type": "code",
      "execution_count": null,
      "metadata": {
        "id": "WVFqBaOEz8YE"
      },
      "outputs": [],
      "source": []
    }
  ],
  "metadata": {
    "colab": {
      "provenance": []
    },
    "kernelspec": {
      "display_name": "Python 3",
      "name": "python3"
    },
    "language_info": {
      "codemirror_mode": {
        "name": "ipython",
        "version": 3
      },
      "file_extension": ".py",
      "mimetype": "text/x-python",
      "name": "python",
      "nbconvert_exporter": "python",
      "pygments_lexer": "ipython3",
      "version": "3.9.6"
    }
  },
  "nbformat": 4,
  "nbformat_minor": 0
}
