{
  "cells": [
    {
      "cell_type": "markdown",
      "metadata": {
        "id": "Zda19wT79cyq"
      },
      "source": [
        "# Condicionales y ciclos\n",
        " Veremos brevemente la sintaxis de condicionales y ciclos y  luego haremos un ejemplo de dibujo con la tortuga relativamente complicado. Ambos temas serán profundizado en clases posteriores."
      ]
    },
    {
      "cell_type": "markdown",
      "metadata": {
        "id": "aE5EHsPj9XKR"
      },
      "source": [
        "## 1. Condicionales\n",
        "\n",
        "Las instrucciones condicionales son las que nos permiten decidir que ejecutar según alguna condición lógica. Aqui veremos un ejemplo y no profundizaremos o formalizaremos demasiado. Tendremos una idea de como utilizar una instrucción condicional."
      ]
    },
    {
      "cell_type": "markdown",
      "metadata": {
        "id": "d3Q2sgtw97JU"
      },
      "source": [
        "Por ejemplo, supongamos que deseamos definir una función que tiene como argumento un número entero y devuelve:\n",
        "\n",
        "- si el número es mayor o igual que 100 devuelve el número menos 100,\n",
        "- si el número es no negativo y  menor que 100  devuelve el número multiplicado por 2, finalmente\n",
        "- si el número es negativo devuelve el opuesto.\n",
        "\n",
        "La función no parece ser muy interesante, pero nos servirá para ejemplificar el uso de condicionales.\n",
        "\n",
        "Primero, hagamos una función que no hace nada pero plantea la función que servirá de base para la función definitiva."
      ]
    },
    {
      "cell_type": "code",
      "execution_count": null,
      "metadata": {
        "id": "5Xvqpa3HAcDQ"
      },
      "outputs": [],
      "source": [
        "def ejemplo_condicional(n: int):\n",
        "    \"\"\"\n",
        "       pre: n  es entero\n",
        "       post: si  n >= 100 devuelve n - 100,  si 0 <= n < 100  devuelve 2 * n,\n",
        "             si n < 0 devuelve -n.\n",
        "    \"\"\"\n",
        "    pass\n"
      ]
    },
    {
      "cell_type": "markdown",
      "metadata": {
        "id": "nPbTcCqdBKUF"
      },
      "source": [
        "El condicional que utilizaremos aquí tendrá la forma:\n",
        "\n",
        "```\n",
        "1.    if condicion1:\n",
        "2.       <intrucciones identadas 1>\n",
        "3.    elif condicion2:\n",
        "4.       <intrucciones identadas 2>\n",
        "5.    else:\n",
        "6.       <intrucciones identadas 3>\n",
        "7.    <instruciones>\n",
        "```\n",
        "Si se cumple la `condicion1` entonces se deben ejecutar las `<intrucciones identadas 1>` y luego `<intrucciones>`.\n",
        "\n",
        "Si no se cumple la `condicion1` entonces `elif condicion2` indica que se chequea la `condicion2` y  si esta se cumple se ejecutan las `<intrucciones identadas 2>` y luego `<intrucciones>`.\n",
        "\n",
        "Si  no se cumple la `condicion2` (es decir no se cumplen  `condicion1`, ni  `condicion2`) entonces la instrucción `else` indica que se deben ejecutar `<intrucciones identadas 3>` y luego `<intrucciones>`.\n",
        "\n",
        "Es decir,  se ejecuta una y solo una de las instrucciones identadas."
      ]
    },
    {
      "cell_type": "markdown",
      "metadata": {
        "id": "eR5-CI-CzKuR"
      },
      "source": [
        "Volvamos al ejemplo: en este caso, escribir la postcondición (lo que se quiere hacer) en forma algebraica nos da muchos indicios de como hacer la función definitiva:"
      ]
    },
    {
      "cell_type": "code",
      "execution_count": null,
      "metadata": {
        "id": "pWqFE33vBc6O"
      },
      "outputs": [],
      "source": [
        "def ejemplo_condicional(n: int):\n",
        "    \"\"\"\n",
        "       pre: n  es entero\n",
        "       post: si  n >= 100 devuelve n - 100,  si 0 <= n < 100  devuelve 2 * n,\n",
        "             si n < 0 devuelve -n.\n",
        "    \"\"\"\n",
        "    if n >= 100:\n",
        "        return n - 100\n",
        "    elif 0 <= n < 100:\n",
        "        return 2 * n\n",
        "    else:\n",
        "        return -n"
      ]
    },
    {
      "cell_type": "markdown",
      "metadata": {
        "id": "m4orFxNOSVpi"
      },
      "source": [
        "Esto está bien, pero en general no es conveniente poner varios `return`. ¿Cómo evitamos esto? De la siguiente manera:"
      ]
    },
    {
      "cell_type": "code",
      "execution_count": null,
      "metadata": {
        "id": "4Lhw3fKiSkY0"
      },
      "outputs": [],
      "source": [
        "def ejemplo_condicional(n: int):\n",
        "    \"\"\"\n",
        "       pre: n  es entero\n",
        "       post: si  n >= 100 devuelve n - 100,  si 0 <= n < 100  devuelve 2 * n,\n",
        "             si n < 0 devuelve -n.\n",
        "    \"\"\"\n",
        "    devuelve = 0\n",
        "    if n >= 100:\n",
        "        devuelve = n - 100\n",
        "    elif 0 <= n < 100:\n",
        "        devuelve = 2 * n\n",
        "    else:\n",
        "        devuelve = -n\n",
        "    return  devuelve"
      ]
    },
    {
      "cell_type": "markdown",
      "metadata": {
        "id": "p4J1Q-D_B5Ts"
      },
      "source": [
        "Si testeamos la función veremos que no hay problema:"
      ]
    },
    {
      "cell_type": "code",
      "execution_count": null,
      "metadata": {
        "colab": {
          "base_uri": "https://localhost:8080/"
        },
        "id": "7d20E2hSCDP8",
        "outputId": "8160652c-ae7b-4774-c0c3-487d3329a71d"
      },
      "outputs": [
        {
          "output_type": "stream",
          "name": "stdout",
          "text": [
            "50\n",
            "120\n",
            "156\n",
            "50\n",
            "950\n"
          ]
        }
      ],
      "source": [
        "print(ejemplo_condicional(-50))\n",
        "print(ejemplo_condicional(60))\n",
        "print(ejemplo_condicional(78))\n",
        "print(ejemplo_condicional(150))\n",
        "print(ejemplo_condicional(1050))"
      ]
    },
    {
      "cell_type": "markdown",
      "metadata": {
        "id": "u2fXhVP1CzG_"
      },
      "source": [
        "En  general la instrucción condicional tiene la siguiente estructura\n",
        "\n",
        "1.\n",
        "\n",
        "```\n",
        "if condición1:\n",
        "       <intrucciones identadas>\n",
        "```\n",
        "Si se cumple la `condición1` es ejecutan `<intrucciones identadas>`,  en caso contrario se ejecuta la siguiente instrucción fuera del condicional.\n",
        "\n",
        "\n",
        "2.\n",
        "\n",
        "```\n",
        "if condición1:\n",
        "       <intrucciones identadas 1>\n",
        "else:\n",
        "       <intrucciones identadas 2>\n",
        "```\n",
        "Si se cumple la `condición1` es ejecutan `<intrucciones identadas 1>`,  en caso contrario se ejecutan `<intrucciones identadas 2>`.\n",
        "\n",
        "3.\n",
        "```\n",
        "if condición1:\n",
        "       <intrucciones identadas 1>\n",
        "elif condicion2:\n",
        "       <intrucciones identadas 2>\n",
        "elif condicion3:\n",
        "       <intrucciones identadas 3>\n",
        "           .\n",
        "           .\n",
        "           .\n",
        "else:\n",
        "       <intrucciones identadas>\n",
        "```\n",
        "Si se cumple la `condición1` es ejecutan `<intrucciones identadas 1>`,  en caso contrario si se cumple `condición2` es ejecutan `<intrucciones identadas 2>` y\n",
        " así sucesivamente. Si no se cumple `condicioni` para ningún `i`, se ejecutan `<intrucciones identadas>`."
      ]
    },
    {
      "cell_type": "markdown",
      "metadata": {
        "id": "lF5fh4XQD7BK"
      },
      "source": [
        "Respecto al ejemplo anterior, haremos dos observacines.\n",
        "\n",
        "La primera observación  es que no se recomienda poner `return` en el \"medio\"  de la función. La práctica recomendable es poner un solo `return` y que esté en la última línea de código de la función. De esta manera, la función es más legible y portable. El `return` detiene la ejecución de la función y en general no es conveniente \"salir\" de la función en un paso intermedio.\n"
      ]
    },
    {
      "cell_type": "markdown",
      "metadata": {
        "id": "5oxArTw7E0YX"
      },
      "source": [
        "En general agregando variables podemos hacer  que haya un solo `return` en la función.\n",
        "\n",
        "La segunda observación  es que suele haber varias formas logicamente equivalente de escribir las  funciones condicionales. Por ejemplo:"
      ]
    },
    {
      "cell_type": "code",
      "execution_count": null,
      "metadata": {
        "id": "XWbpkhUIFNvy"
      },
      "outputs": [],
      "source": [
        "def ejemplo_condicional(n: int):\n",
        "    # pre: n  es entero\n",
        "    # post: si  n >= 100 devuelve n - 100,  si 0 <= n < 100  devuelve 2 * n, si n < 0 devuelve -n.\n",
        "    resultado = 0\n",
        "    if n < 0:\n",
        "        resultado = -n\n",
        "    elif 0 <= n < 100:\n",
        "        resultado = 2 * n\n",
        "    elif n >= 100:\n",
        "        resultado = n - 100\n",
        "    return resultado"
      ]
    },
    {
      "cell_type": "code",
      "execution_count": null,
      "metadata": {
        "colab": {
          "base_uri": "https://localhost:8080/"
        },
        "id": "N6P9G5pYwDvM",
        "outputId": "f23d62fb-b63f-4de0-8fed-b4e15ac16392"
      },
      "outputs": [
        {
          "output_type": "execute_result",
          "data": {
            "text/plain": [
              "100"
            ]
          },
          "metadata": {},
          "execution_count": 8
        }
      ],
      "source": [
        "ejemplo_condicional(200)"
      ]
    },
    {
      "cell_type": "markdown",
      "metadata": {
        "id": "VUSJ4CvbFdA0"
      },
      "source": [
        "## 2. El ciclo `while`\n",
        "\n",
        "El ciclo  `while` (es decir \"mientras\") es una generalizazacón del `if`, pues repite una serie de instrucciones *mientras* se cumple cierta condición. Es decir\n",
        "\n",
        "```\n",
        "while condicion:\n",
        "    <cuerpo del while (una serie de instrucciones identadas)>\n",
        "```\n",
        "ejecuta el cuerpo del `while` mientras  `condición` sea verdadera. Cuando `condicion` es falsa,  no se ejecuta el cuerpo del  `while` y se pasa a la instrucción siguiente.\n",
        "\n",
        "Un  `while` perfectamente puede simular un `for`. Por ejemplo  \n",
        "\n"
      ]
    },
    {
      "cell_type": "code",
      "execution_count": null,
      "metadata": {
        "colab": {
          "base_uri": "https://localhost:8080/"
        },
        "id": "9xpNwjYlHq1_",
        "outputId": "43a4f54b-19fc-4c6e-a40f-e2c6a32613c1"
      },
      "outputs": [
        {
          "output_type": "stream",
          "name": "stdout",
          "text": [
            "0\n",
            "1\n",
            "2\n",
            "3\n",
            "4\n",
            "5\n",
            "6\n",
            "7\n",
            "8\n",
            "9\n"
          ]
        }
      ],
      "source": [
        "for i in range(10):\n",
        "    print(i)"
      ]
    },
    {
      "cell_type": "markdown",
      "metadata": {
        "id": "xxNK9XjuHvo7"
      },
      "source": [
        "es lo mismo que hacer:"
      ]
    },
    {
      "cell_type": "code",
      "execution_count": null,
      "metadata": {
        "colab": {
          "base_uri": "https://localhost:8080/"
        },
        "id": "DJn9pm8eHyEk",
        "outputId": "bcd3066c-4fdf-4362-9ea5-23d16af6f849"
      },
      "outputs": [
        {
          "output_type": "stream",
          "name": "stdout",
          "text": [
            "0\n",
            "1\n",
            "2\n",
            "3\n",
            "4\n",
            "5\n",
            "6\n",
            "7\n",
            "8\n",
            "9\n"
          ]
        }
      ],
      "source": [
        "i = 0\n",
        "while i < 10:\n",
        "    print(i)\n",
        "    i = i + 1"
      ]
    },
    {
      "cell_type": "markdown",
      "metadata": {
        "id": "xvHaKCcRIA3s"
      },
      "source": [
        "En estos casos se prefiere el `for`, pues es más compacto y fácil de leer.\n",
        "\n",
        "Sin  embargo,  hay situaciones donde debemos hacer iteraciones pero no conocemos a priori la cantidad de iteraciones que debemos hacer.\n",
        "\n",
        "Por ejemplo,  dado $m$  entero positivo calculemos el primer $n$ entero tal que $2^n \\ge m$. Vemos los primeros casos:\n",
        "\n",
        "- Si $m=1$, $n=0$, pues $2^0 = 1$,\n",
        "- si $m=2$, $n=1$, pues $2^1 = 2$,\n",
        "- si $m=3$, $n=2$, pues $2^2 = 4$,\n",
        "- si $m=4$, $n=2$,\n",
        "- si $m=5$, $n=3$, pues $2^3 = 8$,\n",
        "- si $m=6$, $n=3$,\n",
        "- si $m=7$, $n=3$,\n",
        "- si $m=8$, $n=3$,\n",
        "- si $m=9$, $n=4$, pues $2^4 = 16$,\n",
        "- etc.  \n",
        "\n",
        "Obviamente, no tenemos una idea clara de como calcular  $n$ con un `for`,  es más no hay forma en Python de encontrar $n$ usando `for`.\n",
        "\n",
        "Encontremos una solución. Primero escribamos la función base:"
      ]
    },
    {
      "cell_type": "code",
      "execution_count": null,
      "metadata": {
        "id": "8Hn2wBqmKv9P"
      },
      "outputs": [],
      "source": [
        "def ejemplo_mientras(m: int):\n",
        "    \"\"\"\n",
        "    pre: m entero, m >= 0\n",
        "    post: devuelve n tal 2**(n -1) < m y 2**n >= m\n",
        "          (el primer entero n tal que 2**n >= m)\n",
        "    \"\"\"\n",
        "    n = 0\n",
        "    return n"
      ]
    },
    {
      "cell_type": "markdown",
      "metadata": {
        "id": "W7HUHNxvLX8i"
      },
      "source": [
        "La postcondición nos ayuda a hacer la función:"
      ]
    },
    {
      "cell_type": "code",
      "execution_count": null,
      "metadata": {
        "id": "laTboKvEKmBc"
      },
      "outputs": [],
      "source": [
        "def ejemplo_mientras(m: int):\n",
        "    \"\"\"\n",
        "    pre: m entero, m >= 0\n",
        "    post: devuelve n tal 2**(n -1) < m y 2**n >= m\n",
        "    \"\"\"\n",
        "    n = 0\n",
        "    while 2**n < m: # la condición se deja de cumplir en el primer n tq 2**n >= m\n",
        "        n = n + 1\n",
        "    return n"
      ]
    },
    {
      "cell_type": "markdown",
      "metadata": {
        "id": "beogzNWVMExv"
      },
      "source": [
        "Probemos la función:"
      ]
    },
    {
      "cell_type": "code",
      "execution_count": null,
      "metadata": {
        "colab": {
          "base_uri": "https://localhost:8080/"
        },
        "id": "Mm6HGgRDMJP6",
        "outputId": "4396640a-0905-49af-afd5-0131abfdeb12"
      },
      "outputs": [
        {
          "output_type": "stream",
          "name": "stdout",
          "text": [
            "1 0\n",
            "2 1\n",
            "3 2\n",
            "4 2\n",
            "5 3\n",
            "6 3\n",
            "7 3\n",
            "8 3\n",
            "9 4\n",
            "28 5\n"
          ]
        }
      ],
      "source": [
        "for i in range(1, 10):\n",
        "    print(i, ejemplo_mientras(i))\n",
        "print(28, ejemplo_mientras(28))"
      ]
    },
    {
      "cell_type": "markdown",
      "metadata": {
        "id": "R1GwK6ByMv16"
      },
      "source": [
        "Hemos verificado que funciona perfectamente. Aquí también debemos hacer una observación: pese a que el código  es  totalmente correcto, en cada iteración se calcula $2^n$ lo cual es un cálculo \"costoso\". Recordemos que $2^n = 2^{n-1}\\cdot 2$ para $n >0$ (y $2^0=1$),  entonces, pensando recursivamente, podemos modificar el código de la siguiente manera:"
      ]
    },
    {
      "cell_type": "code",
      "execution_count": null,
      "metadata": {
        "id": "e08HEhapNe9B"
      },
      "outputs": [],
      "source": [
        "def ejemplo_mientras_r(m: int):\n",
        "    # pre: m entero, m >= 0\n",
        "    # post: devuelve n tal 2**(n -1) < m y 2**n >= m\n",
        "    n = 0\n",
        "    k = 1 # k == 2**n\n",
        "    while k < m:\n",
        "        n = n + 1\n",
        "        k = k * 2 # k == 2**n\n",
        "    return n"
      ]
    },
    {
      "cell_type": "markdown",
      "metadata": {
        "id": "dmvHm5e5Nzba"
      },
      "source": [
        "y el resultado es el mismo."
      ]
    },
    {
      "cell_type": "code",
      "execution_count": null,
      "metadata": {
        "colab": {
          "base_uri": "https://localhost:8080/"
        },
        "id": "Ui-yVToLN1pR",
        "outputId": "94006ff1-c50d-4bfd-e810-ae2ab227a5c4"
      },
      "outputs": [
        {
          "output_type": "stream",
          "name": "stdout",
          "text": [
            "1 0\n",
            "2 1\n",
            "3 2\n",
            "4 2\n",
            "5 3\n",
            "6 3\n",
            "7 3\n",
            "8 3\n",
            "9 4\n",
            "28 5\n"
          ]
        }
      ],
      "source": [
        "for i in range(1, 10):\n",
        "    print(i, ejemplo_mientras_r(i))\n",
        "print(28, ejemplo_mientras(28))"
      ]
    },
    {
      "cell_type": "code",
      "source": [
        "from math import log2\n",
        "from math import ceil\n",
        "\n",
        "for i in range(1, 10):\n",
        "    print(i, ejemplo_mientras_r(i), ceil(log2(i)))\n",
        "print(28, ejemplo_mientras(28),ceil(log2(28)))"
      ],
      "metadata": {
        "colab": {
          "base_uri": "https://localhost:8080/"
        },
        "id": "M-kLScndqvGo",
        "outputId": "0ec53f36-233f-4eb7-8343-4350076dac16"
      },
      "execution_count": null,
      "outputs": [
        {
          "output_type": "stream",
          "name": "stdout",
          "text": [
            "1 0 0\n",
            "2 1 1\n",
            "3 2 2\n",
            "4 2 2\n",
            "5 3 3\n",
            "6 3 3\n",
            "7 3 3\n",
            "8 3 3\n",
            "9 4 4\n",
            "28 5 5\n"
          ]
        }
      ]
    },
    {
      "cell_type": "markdown",
      "metadata": {
        "id": "3byjckehOAJC"
      },
      "source": [
        "La seguna forma de escribir la función es mucho más eficiente que la primera, pero a esta altura se pretende que se escriba código correcto y no mucho más.  "
      ]
    },
    {
      "cell_type": "code",
      "execution_count": null,
      "metadata": {
        "colab": {
          "base_uri": "https://localhost:8080/"
        },
        "id": "Jnod1qfXP3U4",
        "outputId": "5c6eded9-c6cf-4215-9f2d-a71bc89a9ddd"
      },
      "outputs": [
        {
          "output_type": "execute_result",
          "data": {
            "text/plain": [
              "33220"
            ]
          },
          "metadata": {},
          "execution_count": 14
        }
      ],
      "source": [
        "ejemplo_mientras(10**10000)"
      ]
    },
    {
      "cell_type": "code",
      "execution_count": null,
      "metadata": {
        "colab": {
          "base_uri": "https://localhost:8080/"
        },
        "id": "oKbd8kTRP3eM",
        "outputId": "4176dfdf-5fa7-4db7-d02c-081b621a3ea7"
      },
      "outputs": [
        {
          "output_type": "execute_result",
          "data": {
            "text/plain": [
              "33220"
            ]
          },
          "metadata": {},
          "execution_count": 15
        }
      ],
      "source": [
        "ejemplo_mientras_r(10**10000) # en el caso de  10**10000 no se nota diferencia"
      ]
    },
    {
      "cell_type": "code",
      "execution_count": null,
      "metadata": {
        "colab": {
          "base_uri": "https://localhost:8080/"
        },
        "id": "Y3kTchm6PRvV",
        "outputId": "f5963e70-7ad2-4465-ce28-53b9a06bc3a6"
      },
      "outputs": [
        {
          "output_type": "execute_result",
          "data": {
            "text/plain": [
              "66439"
            ]
          },
          "metadata": {},
          "execution_count": 18
        }
      ],
      "source": [
        "ejemplo_mientras(10**20000)"
      ]
    },
    {
      "cell_type": "code",
      "execution_count": null,
      "metadata": {
        "colab": {
          "base_uri": "https://localhost:8080/"
        },
        "id": "OkgtF74BPiaz",
        "outputId": "0b2e290e-ae5f-4f0d-e857-68f54b4bdddb"
      },
      "outputs": [
        {
          "output_type": "execute_result",
          "data": {
            "text/plain": [
              "66439"
            ]
          },
          "metadata": {},
          "execution_count": 19
        }
      ],
      "source": [
        "ejemplo_mientras_r(10**20000) # en el caso de  10**20000 hay una diferencia notable"
      ]
    },
    {
      "cell_type": "markdown",
      "metadata": {
        "id": "8NOvK5BrQtaA"
      },
      "source": [
        "Es muy sencillo implementar estas funciones en Python puro (un archivo `.py`). Lo podemos ver, por ejemplo  en Visual Studio Code o directamente desde la línea de comando.   "
      ]
    },
    {
      "cell_type": "markdown",
      "metadata": {
        "id": "fbJjmppyObQn"
      },
      "source": [
        "## 3. Ejemplo de condicionales y ciclos en `turtle`\n",
        "\n",
        "Haremos un ejemplo, relativamente complejo, que utilizará condicionales y ciclos para dibujar.\n",
        "\n",
        "Primero instalamos `turtle`,  lo importamos  y también importamos la biblioteca `random`, pues nos hará falta."
      ]
    },
    {
      "cell_type": "code",
      "execution_count": null,
      "metadata": {
        "colab": {
          "base_uri": "https://localhost:8080/"
        },
        "id": "KfEiwuw49PXX",
        "outputId": "4b0da144-8c0f-4e8e-c860-169d9eb09669"
      },
      "outputs": [
        {
          "output_type": "stream",
          "name": "stdout",
          "text": [
            "Collecting ColabTurtle\n",
            "  Downloading ColabTurtle-2.1.0.tar.gz (6.8 kB)\n",
            "  Preparing metadata (setup.py) ... \u001b[?25l\u001b[?25hdone\n",
            "Building wheels for collected packages: ColabTurtle\n",
            "  Building wheel for ColabTurtle (setup.py) ... \u001b[?25l\u001b[?25hdone\n",
            "  Created wheel for ColabTurtle: filename=ColabTurtle-2.1.0-py3-none-any.whl size=7642 sha256=cfae9bf7d67519082076d561a04d08de0e79a20a3ce9df26c7b874772c937e71\n",
            "  Stored in directory: /root/.cache/pip/wheels/5b/86/e8/54f5c8c853606e3a3060bb2e60363cbed632374a12e0f33ffc\n",
            "Successfully built ColabTurtle\n",
            "Installing collected packages: ColabTurtle\n",
            "Successfully installed ColabTurtle-2.1.0\n"
          ]
        }
      ],
      "source": [
        "!pip3 install ColabTurtle"
      ]
    },
    {
      "cell_type": "code",
      "execution_count": null,
      "metadata": {
        "id": "IlVWqkoJ9mmU"
      },
      "outputs": [],
      "source": [
        "from ColabTurtle.Turtle import *\n",
        "from random import *"
      ]
    },
    {
      "cell_type": "markdown",
      "metadata": {
        "id": "13ThgQG_PNcN"
      },
      "source": [
        "Hacemos la función para inicializar la pizarra parecida a lo que habíamos hecho en la clase pasada."
      ]
    },
    {
      "cell_type": "code",
      "execution_count": null,
      "metadata": {
        "id": "MkJpJCyh-Iu9"
      },
      "outputs": [],
      "source": [
        "def pizarra_vacia(velocidad = 5, grosor_lapiz = 5):\n",
        "    # inicializa la pizarra con velocidad 5 y ancho del lápiz igual 5\n",
        "    initializeTurtle()\n",
        "    hideturtle()\n",
        "    bgcolor('white')\n",
        "    color('black')\n",
        "    speed(velocidad)\n",
        "    pensize(grosor_lapiz)"
      ]
    },
    {
      "cell_type": "code",
      "execution_count": null,
      "metadata": {
        "colab": {
          "base_uri": "https://localhost:8080/",
          "height": 541
        },
        "id": "gRJYFJvS9MA1",
        "outputId": "31210977-4319-4a35-9200-e4ee1581593b"
      },
      "outputs": [
        {
          "output_type": "display_data",
          "data": {
            "text/plain": [
              "<IPython.core.display.HTML object>"
            ],
            "text/html": [
              "\n",
              "      <svg width=\"800\" height=\"500\">\n",
              "        <rect width=\"100%\" height=\"100%\" fill=\"white\"/>\n",
              "        <line x1=\"400\" y1=\"250\" x2=\"400.0\" y2=\"200.0\" stroke-linecap=\"round\" style=\"stroke:black;stroke-width:10\"/>\n",
              "        <g visibility=hidden transform=\"rotate(360,400.0,200.0) translate(382.0, 182.0)\">\n",
              "<path style=\" stroke:none;fill-rule:evenodd;fill:black;fill-opacity:1;\" d=\"M 18.214844 0.632812 C 16.109375 1.800781 15.011719 4.074219 15.074219 7.132812 L 15.085938 7.652344 L 14.785156 7.496094 C 13.476562 6.824219 11.957031 6.671875 10.40625 7.066406 C 8.46875 7.550781 6.515625 9.15625 4.394531 11.992188 C 3.0625 13.777344 2.679688 14.636719 3.042969 15.027344 L 3.15625 15.152344 L 3.519531 15.152344 C 4.238281 15.152344 4.828125 14.886719 8.1875 13.039062 C 9.386719 12.378906 10.371094 11.839844 10.378906 11.839844 C 10.386719 11.839844 10.355469 11.929688 10.304688 12.035156 C 9.832031 13.09375 9.257812 14.820312 8.96875 16.078125 C 7.914062 20.652344 8.617188 24.53125 11.070312 27.660156 C 11.351562 28.015625 11.363281 27.914062 10.972656 28.382812 C 8.925781 30.84375 7.945312 33.28125 8.238281 35.1875 C 8.289062 35.527344 8.28125 35.523438 8.917969 35.523438 C 10.941406 35.523438 13.074219 34.207031 15.136719 31.6875 C 15.359375 31.417969 15.328125 31.425781 15.5625 31.574219 C 16.292969 32.042969 18.023438 32.964844 18.175781 32.964844 C 18.335938 32.964844 19.941406 32.210938 20.828125 31.71875 C 20.996094 31.625 21.136719 31.554688 21.136719 31.558594 C 21.203125 31.664062 21.898438 32.414062 22.222656 32.730469 C 23.835938 34.300781 25.5625 35.132812 27.582031 35.300781 C 27.90625 35.328125 27.9375 35.308594 28.007812 34.984375 C 28.382812 33.242188 27.625 30.925781 25.863281 28.425781 L 25.542969 27.96875 L 25.699219 27.785156 C 28.945312 23.960938 29.132812 18.699219 26.257812 11.96875 L 26.207031 11.84375 L 27.945312 12.703125 C 31.53125 14.476562 32.316406 14.800781 33.03125 14.800781 C 33.976562 14.800781 33.78125 13.9375 32.472656 12.292969 C 28.519531 7.355469 25.394531 5.925781 21.921875 7.472656 L 21.558594 7.636719 L 21.578125 7.542969 C 21.699219 6.992188 21.761719 5.742188 21.699219 5.164062 C 21.496094 3.296875 20.664062 1.964844 19.003906 0.855469 C 18.480469 0.503906 18.457031 0.5 18.214844 0.632812\"/>\n",
              "</g>\n",
              "      </svg>\n",
              "    "
            ]
          },
          "metadata": {}
        }
      ],
      "source": [
        "pizarra_vacia(grosor_lapiz = 10)\n",
        "forward(50)"
      ]
    },
    {
      "cell_type": "markdown",
      "metadata": {
        "id": "f1-xup4rPeLD"
      },
      "source": [
        "**Observación.** Si necesitamos saber las funciones de un módulo o biblioteca podemos usar la función `dir` (después de importar el módulo)."
      ]
    },
    {
      "cell_type": "code",
      "execution_count": null,
      "metadata": {
        "colab": {
          "base_uri": "https://localhost:8080/"
        },
        "id": "kIAuVVPc9x97",
        "outputId": "fb47084b-e8d0-4f51-bf63-5da0e7bf0387"
      },
      "outputs": [
        {
          "output_type": "execute_result",
          "data": {
            "text/plain": [
              "['DEFAULT_BACKGROUND_COLOR',\n",
              " 'DEFAULT_IS_PEN_DOWN',\n",
              " 'DEFAULT_PEN_COLOR',\n",
              " 'DEFAULT_PEN_WIDTH',\n",
              " 'DEFAULT_SPEED',\n",
              " 'DEFAULT_SVG_LINES_STRING',\n",
              " 'DEFAULT_TURTLE_DEGREE',\n",
              " 'DEFAULT_TURTLE_SHAPE',\n",
              " 'DEFAULT_TURTLE_VISIBILITY',\n",
              " 'DEFAULT_WINDOW_SIZE',\n",
              " 'HTML',\n",
              " 'SPEED_TO_SEC_MAP',\n",
              " 'SVG_TEMPLATE',\n",
              " 'TURTLE_CIRCLE_SVG_TEMPLATE',\n",
              " 'TURTLE_TURTLE_SVG_TEMPLATE',\n",
              " 'VALID_COLORS',\n",
              " 'VALID_COLORS_SET',\n",
              " 'VALID_TURTLE_SHAPES',\n",
              " '__builtins__',\n",
              " '__cached__',\n",
              " '__doc__',\n",
              " '__file__',\n",
              " '__loader__',\n",
              " '__name__',\n",
              " '__package__',\n",
              " '__spec__',\n",
              " '_generateSvgDrawing',\n",
              " '_generateTurtleSvgDrawing',\n",
              " '_moveToNewPosition',\n",
              " '_processColor',\n",
              " '_speedToSec',\n",
              " '_updateDrawing',\n",
              " '_validateColorString',\n",
              " '_validateColorTuple',\n",
              " 'back',\n",
              " 'background_color',\n",
              " 'backward',\n",
              " 'bgcolor',\n",
              " 'bk',\n",
              " 'clear',\n",
              " 'color',\n",
              " 'display',\n",
              " 'distance',\n",
              " 'down',\n",
              " 'drawing_window',\n",
              " 'face',\n",
              " 'fd',\n",
              " 'forward',\n",
              " 'getheading',\n",
              " 'getx',\n",
              " 'gety',\n",
              " 'goto',\n",
              " 'heading',\n",
              " 'hideturtle',\n",
              " 'home',\n",
              " 'ht',\n",
              " 'initializeTurtle',\n",
              " 'is_pen_down',\n",
              " 'is_turtle_visible',\n",
              " 'isdown',\n",
              " 'isvisible',\n",
              " 'left',\n",
              " 'lt',\n",
              " 'math',\n",
              " 'pd',\n",
              " 'pen_color',\n",
              " 'pen_width',\n",
              " 'pencolor',\n",
              " 'pendown',\n",
              " 'pensize',\n",
              " 'penup',\n",
              " 'pos',\n",
              " 'position',\n",
              " 'pu',\n",
              " 're',\n",
              " 'right',\n",
              " 'rt',\n",
              " 'seth',\n",
              " 'setheading',\n",
              " 'setpos',\n",
              " 'setposition',\n",
              " 'setx',\n",
              " 'sety',\n",
              " 'shape',\n",
              " 'showturtle',\n",
              " 'speed',\n",
              " 'st',\n",
              " 'svg_lines_string',\n",
              " 'time',\n",
              " 'turtle_degree',\n",
              " 'turtle_pos',\n",
              " 'turtle_shape',\n",
              " 'turtle_speed',\n",
              " 'up',\n",
              " 'width',\n",
              " 'window_height',\n",
              " 'window_size',\n",
              " 'window_width',\n",
              " 'write',\n",
              " 'xcor',\n",
              " 'ycor']"
            ]
          },
          "metadata": {},
          "execution_count": 24
        }
      ],
      "source": [
        "import ColabTurtle.Turtle\n",
        "dir(ColabTurtle.Turtle)"
      ]
    },
    {
      "cell_type": "markdown",
      "metadata": {
        "id": "OAacOvI93U0O"
      },
      "source": [
        "El módulo `math` nos provee funciones matemáticas. Listemos las funciones que tiene:"
      ]
    },
    {
      "cell_type": "code",
      "execution_count": null,
      "metadata": {
        "colab": {
          "base_uri": "https://localhost:8080/"
        },
        "id": "JGPck9OUZwni",
        "outputId": "dddc2b03-36bf-4168-807d-9c54cb1b94e2"
      },
      "outputs": [
        {
          "output_type": "execute_result",
          "data": {
            "text/plain": [
              "['__doc__',\n",
              " '__loader__',\n",
              " '__name__',\n",
              " '__package__',\n",
              " '__spec__',\n",
              " 'acos',\n",
              " 'acosh',\n",
              " 'asin',\n",
              " 'asinh',\n",
              " 'atan',\n",
              " 'atan2',\n",
              " 'atanh',\n",
              " 'ceil',\n",
              " 'comb',\n",
              " 'copysign',\n",
              " 'cos',\n",
              " 'cosh',\n",
              " 'degrees',\n",
              " 'dist',\n",
              " 'e',\n",
              " 'erf',\n",
              " 'erfc',\n",
              " 'exp',\n",
              " 'expm1',\n",
              " 'fabs',\n",
              " 'factorial',\n",
              " 'floor',\n",
              " 'fmod',\n",
              " 'frexp',\n",
              " 'fsum',\n",
              " 'gamma',\n",
              " 'gcd',\n",
              " 'hypot',\n",
              " 'inf',\n",
              " 'isclose',\n",
              " 'isfinite',\n",
              " 'isinf',\n",
              " 'isnan',\n",
              " 'isqrt',\n",
              " 'lcm',\n",
              " 'ldexp',\n",
              " 'lgamma',\n",
              " 'log',\n",
              " 'log10',\n",
              " 'log1p',\n",
              " 'log2',\n",
              " 'modf',\n",
              " 'nan',\n",
              " 'nextafter',\n",
              " 'perm',\n",
              " 'pi',\n",
              " 'pow',\n",
              " 'prod',\n",
              " 'radians',\n",
              " 'remainder',\n",
              " 'sin',\n",
              " 'sinh',\n",
              " 'sqrt',\n",
              " 'tan',\n",
              " 'tanh',\n",
              " 'tau',\n",
              " 'trunc',\n",
              " 'ulp']"
            ]
          },
          "metadata": {},
          "execution_count": 25
        }
      ],
      "source": [
        "import math\n",
        "dir(math)"
      ]
    },
    {
      "cell_type": "markdown",
      "metadata": {
        "id": "-vUXsD7IQaVD"
      },
      "source": [
        "En algunos casos el nombre de la función nos indica lo que hace, en otros caso debemos ver la documentación"
      ]
    },
    {
      "cell_type": "markdown",
      "metadata": {
        "id": "Tg7Jnn3eHpV6"
      },
      "source": [
        "### La mesa de billar\n",
        "\n",
        "Haremos la simulación de una bola de billar rebotando contra las paredes de la mesa. En nuestro caso la mesa tiene  800 x 500 pixeles (así es por defecto turtle) y pondremos la bola de billar de 10 pixeles. Los movimientos continuos,  como el de una bola de billar deslizándose sobre el paño, no son reproducibles en un programa de computadora y  uno debe implementar una aproximación *discreta*.\n",
        "\n",
        "En  nuestro caso la bola de billar avanzará paso a paso y los pasos que haremos serán de 10 unidades.\n",
        "\n",
        "Por ejemplo, simulemos que la bola avanza 50  unidades hacia arriba y luego hacia la derecha."
      ]
    },
    {
      "cell_type": "code",
      "execution_count": null,
      "metadata": {
        "colab": {
          "base_uri": "https://localhost:8080/",
          "height": 558
        },
        "id": "3BboX2hAIOUr",
        "outputId": "4ae070cd-f2d5-40dc-cff1-e46e0c3487bf"
      },
      "outputs": [
        {
          "output_type": "display_data",
          "data": {
            "text/plain": [
              "<IPython.core.display.HTML object>"
            ],
            "text/html": [
              "\n",
              "      <svg width=\"800\" height=\"500\">\n",
              "        <rect width=\"100%\" height=\"100%\" fill=\"white\"/>\n",
              "        <line x1=\"400\" y1=\"250\" x2=\"400.0\" y2=\"240.0\" stroke-linecap=\"round\" style=\"stroke:black;stroke-width:10\"/><line x1=\"400.0\" y1=\"240.0\" x2=\"400.0\" y2=\"230.0\" stroke-linecap=\"round\" style=\"stroke:black;stroke-width:10\"/><line x1=\"400.0\" y1=\"230.0\" x2=\"400.0\" y2=\"220.0\" stroke-linecap=\"round\" style=\"stroke:black;stroke-width:10\"/><line x1=\"400.0\" y1=\"220.0\" x2=\"400.0\" y2=\"210.0\" stroke-linecap=\"round\" style=\"stroke:black;stroke-width:10\"/><line x1=\"400.0\" y1=\"210.0\" x2=\"400.0\" y2=\"200.0\" stroke-linecap=\"round\" style=\"stroke:black;stroke-width:10\"/><line x1=\"400.0\" y1=\"200.0\" x2=\"410.0\" y2=\"200.0\" stroke-linecap=\"round\" style=\"stroke:black;stroke-width:10\"/><line x1=\"410.0\" y1=\"200.0\" x2=\"420.0\" y2=\"200.0\" stroke-linecap=\"round\" style=\"stroke:black;stroke-width:10\"/><line x1=\"420.0\" y1=\"200.0\" x2=\"430.0\" y2=\"200.0\" stroke-linecap=\"round\" style=\"stroke:black;stroke-width:10\"/><line x1=\"430.0\" y1=\"200.0\" x2=\"440.0\" y2=\"200.0\" stroke-linecap=\"round\" style=\"stroke:black;stroke-width:10\"/><line x1=\"440.0\" y1=\"200.0\" x2=\"450.0\" y2=\"200.0\" stroke-linecap=\"round\" style=\"stroke:black;stroke-width:10\"/>\n",
              "        <g visibility=hidden transform=\"rotate(90,450.0,200.0) translate(432.0, 182.0)\">\n",
              "<path style=\" stroke:none;fill-rule:evenodd;fill:black;fill-opacity:1;\" d=\"M 18.214844 0.632812 C 16.109375 1.800781 15.011719 4.074219 15.074219 7.132812 L 15.085938 7.652344 L 14.785156 7.496094 C 13.476562 6.824219 11.957031 6.671875 10.40625 7.066406 C 8.46875 7.550781 6.515625 9.15625 4.394531 11.992188 C 3.0625 13.777344 2.679688 14.636719 3.042969 15.027344 L 3.15625 15.152344 L 3.519531 15.152344 C 4.238281 15.152344 4.828125 14.886719 8.1875 13.039062 C 9.386719 12.378906 10.371094 11.839844 10.378906 11.839844 C 10.386719 11.839844 10.355469 11.929688 10.304688 12.035156 C 9.832031 13.09375 9.257812 14.820312 8.96875 16.078125 C 7.914062 20.652344 8.617188 24.53125 11.070312 27.660156 C 11.351562 28.015625 11.363281 27.914062 10.972656 28.382812 C 8.925781 30.84375 7.945312 33.28125 8.238281 35.1875 C 8.289062 35.527344 8.28125 35.523438 8.917969 35.523438 C 10.941406 35.523438 13.074219 34.207031 15.136719 31.6875 C 15.359375 31.417969 15.328125 31.425781 15.5625 31.574219 C 16.292969 32.042969 18.023438 32.964844 18.175781 32.964844 C 18.335938 32.964844 19.941406 32.210938 20.828125 31.71875 C 20.996094 31.625 21.136719 31.554688 21.136719 31.558594 C 21.203125 31.664062 21.898438 32.414062 22.222656 32.730469 C 23.835938 34.300781 25.5625 35.132812 27.582031 35.300781 C 27.90625 35.328125 27.9375 35.308594 28.007812 34.984375 C 28.382812 33.242188 27.625 30.925781 25.863281 28.425781 L 25.542969 27.96875 L 25.699219 27.785156 C 28.945312 23.960938 29.132812 18.699219 26.257812 11.96875 L 26.207031 11.84375 L 27.945312 12.703125 C 31.53125 14.476562 32.316406 14.800781 33.03125 14.800781 C 33.976562 14.800781 33.78125 13.9375 32.472656 12.292969 C 28.519531 7.355469 25.394531 5.925781 21.921875 7.472656 L 21.558594 7.636719 L 21.578125 7.542969 C 21.699219 6.992188 21.761719 5.742188 21.699219 5.164062 C 21.496094 3.296875 20.664062 1.964844 19.003906 0.855469 C 18.480469 0.503906 18.457031 0.5 18.214844 0.632812\"/>\n",
              "</g>\n",
              "      </svg>\n",
              "    "
            ]
          },
          "metadata": {}
        },
        {
          "output_type": "stream",
          "name": "stdout",
          "text": [
            "270\n"
          ]
        }
      ],
      "source": [
        "pizarra_vacia(grosor_lapiz = 10)\n",
        "print(getheading())\n",
        "for _ in range(5):\n",
        "    forward(10)\n",
        "setheading(0)\n",
        "for _ in range(5):\n",
        "    forward(10)"
      ]
    },
    {
      "cell_type": "markdown",
      "source": [
        "Por supuesto podríamos avanzar directamente 50 en cada  dirección, pero preferimos hacerlo como arriba para mostrar como se moverá en nuestra simulación."
      ],
      "metadata": {
        "id": "klGfQd6T542P"
      }
    },
    {
      "cell_type": "markdown",
      "metadata": {
        "id": "bI1KoX6xIcWq"
      },
      "source": [
        "Elegiremos al azar un punto cualquiera de la mesa y arrojaremos una bola de billar con una dirección también elegida  al azar. Para ello utilizaremos la función `randint()` de la biblioteca `random`."
      ]
    },
    {
      "cell_type": "markdown",
      "metadata": {
        "id": "jwNKZLR8JItj"
      },
      "source": [
        "La instrucción `randint(n, m)` devuelve un número al azar entre `n`y `m`. Probemos:"
      ]
    },
    {
      "cell_type": "code",
      "execution_count": null,
      "metadata": {
        "colab": {
          "base_uri": "https://localhost:8080/"
        },
        "id": "zA8YuM_6JYPN",
        "outputId": "d7b65b36-ba7c-4b3f-cd1e-b17369dea191"
      },
      "outputs": [
        {
          "output_type": "stream",
          "name": "stdout",
          "text": [
            "3, 5, 3, 4, 4, 1, 5, 2, 4, 3, 2, 2, 5, 2, 5, 1, 5, 2, 3, 3, "
          ]
        }
      ],
      "source": [
        "for _ in range(20):\n",
        "    print(randint(1, 5), end = ', ')"
      ]
    },
    {
      "cell_type": "markdown",
      "metadata": {
        "id": "28UZ_uAEOPJV"
      },
      "source": [
        "Ahora veremos como definir la función. Comenzaremos con una función que no hace nada y la iremos mejorando hasta que haga lo que nosotros queremos."
      ]
    },
    {
      "cell_type": "code",
      "execution_count": null,
      "metadata": {
        "id": "TP6uyO7rOaWI"
      },
      "outputs": [],
      "source": [
        "def bola_de_billar(n: int):\n",
        "    \"\"\"\n",
        "    pre: n de 1 a 12\n",
        "    post: dibuja la trayectoria de una bola de billar con velocidad n que parte de\n",
        "          (pos_x, pos_y) con direccion direc.\n",
        "          Los tres números pos_x, pos_y, direc son elegidos al azar\n",
        "          1 <= pos_x <= 800, 1 <= pos_y <= 500, 1 <= direc <= 360\n",
        "    \"\"\"\n",
        "    pass #instrucción que no hace nada (necesaria aqui por sintaxis)"
      ]
    },
    {
      "cell_type": "markdown",
      "metadata": {
        "id": "_iVqhNgNP5nD"
      },
      "source": [
        "La función anterior no devuelve error pero está lejos de hacer lo que nosotros queremos.\n",
        "\n",
        "Podemos primero darle la velocidad adecuada a la bola:"
      ]
    },
    {
      "cell_type": "code",
      "execution_count": null,
      "metadata": {
        "id": "gVvIP6nmQAZo"
      },
      "outputs": [],
      "source": [
        "def bola_de_billar(n: int):\n",
        "    \"\"\"\n",
        "    pre: n de 1 a 12\n",
        "    post: dibuja la trayectoria de una bola de billar con velocidad n que parte de\n",
        "          (pos_x, pos_y) con direccion direc.\n",
        "          Los tres números pos_x, pos_y, direc son elegidos al azar\n",
        "          1 <= pos_x <= 800, 1 <= pos_y <= 500, 1 <= direc <= 360\n",
        "    \"\"\"\n",
        "    speed(n)"
      ]
    },
    {
      "cell_type": "markdown",
      "metadata": {
        "id": "FBgPSRAdKEWv"
      },
      "source": [
        "Ahora, es claro que si tenemos que elegir unas coordenadas al azar en la ventana debemos hacer algo así:\n",
        "\n",
        "```\n",
        "pos_x, pos_y = randint(1, 800), randint(1,500)\n",
        "```\n",
        "y luego\n",
        "\n",
        "\n",
        "```\n",
        "setposition(pos_x, pos_y) # ubica la tortuga en (pos_x, pos_y)\n",
        "```"
      ]
    },
    {
      "cell_type": "markdown",
      "metadata": {
        "id": "h4xRbP7sPbi_"
      },
      "source": [
        "Agregamos esto a la función:"
      ]
    },
    {
      "cell_type": "code",
      "execution_count": null,
      "metadata": {
        "id": "VFb9SXaqPehT"
      },
      "outputs": [],
      "source": [
        "def bola_de_billar(n: int):\n",
        "    \"\"\"\n",
        "    pre: n de 1 a 12\n",
        "    post: dibuja la trayectoria de una bola de billar con velocidad n que parte de\n",
        "          (pos_x, pos_y) con direccion direc.\n",
        "          Los tres números pos_x, pos_y, direc son elegidos al azar\n",
        "          1 <= pos_x <= 800, 1 <= pos_y <= 500, 1 <= direc <= 360\n",
        "    \"\"\"\n",
        "    speed(n)\n",
        "    penup()\n",
        "    pos_x, pos_y = randint(1, 800), randint(1,500)\n",
        "    setposition(pos_x, pos_y) # ubica la tortuga en (pos_x, pos_y)"
      ]
    },
    {
      "cell_type": "markdown",
      "source": [
        "Mostremos como funciona `bola_de_billar()` agregando un primer movimiento:"
      ],
      "metadata": {
        "id": "pIzMMAYT6ktp"
      }
    },
    {
      "cell_type": "code",
      "execution_count": null,
      "metadata": {
        "colab": {
          "base_uri": "https://localhost:8080/",
          "height": 558
        },
        "id": "rY-d0v0QRlxx",
        "outputId": "be7327f3-dd7a-46c6-a657-07297c0005f5"
      },
      "outputs": [
        {
          "output_type": "display_data",
          "data": {
            "text/plain": [
              "<IPython.core.display.HTML object>"
            ],
            "text/html": [
              "\n",
              "      <svg width=\"800\" height=\"500\">\n",
              "        <rect width=\"100%\" height=\"100%\" fill=\"white\"/>\n",
              "        <line x1=\"498\" y1=\"95\" x2=\"498.0\" y2=\"94.0\" stroke-linecap=\"round\" style=\"stroke:black;stroke-width:10\"/>\n",
              "        <g visibility=hidden transform=\"rotate(360,498.0,94.0) translate(480.0, 76.0)\">\n",
              "<path style=\" stroke:none;fill-rule:evenodd;fill:black;fill-opacity:1;\" d=\"M 18.214844 0.632812 C 16.109375 1.800781 15.011719 4.074219 15.074219 7.132812 L 15.085938 7.652344 L 14.785156 7.496094 C 13.476562 6.824219 11.957031 6.671875 10.40625 7.066406 C 8.46875 7.550781 6.515625 9.15625 4.394531 11.992188 C 3.0625 13.777344 2.679688 14.636719 3.042969 15.027344 L 3.15625 15.152344 L 3.519531 15.152344 C 4.238281 15.152344 4.828125 14.886719 8.1875 13.039062 C 9.386719 12.378906 10.371094 11.839844 10.378906 11.839844 C 10.386719 11.839844 10.355469 11.929688 10.304688 12.035156 C 9.832031 13.09375 9.257812 14.820312 8.96875 16.078125 C 7.914062 20.652344 8.617188 24.53125 11.070312 27.660156 C 11.351562 28.015625 11.363281 27.914062 10.972656 28.382812 C 8.925781 30.84375 7.945312 33.28125 8.238281 35.1875 C 8.289062 35.527344 8.28125 35.523438 8.917969 35.523438 C 10.941406 35.523438 13.074219 34.207031 15.136719 31.6875 C 15.359375 31.417969 15.328125 31.425781 15.5625 31.574219 C 16.292969 32.042969 18.023438 32.964844 18.175781 32.964844 C 18.335938 32.964844 19.941406 32.210938 20.828125 31.71875 C 20.996094 31.625 21.136719 31.554688 21.136719 31.558594 C 21.203125 31.664062 21.898438 32.414062 22.222656 32.730469 C 23.835938 34.300781 25.5625 35.132812 27.582031 35.300781 C 27.90625 35.328125 27.9375 35.308594 28.007812 34.984375 C 28.382812 33.242188 27.625 30.925781 25.863281 28.425781 L 25.542969 27.96875 L 25.699219 27.785156 C 28.945312 23.960938 29.132812 18.699219 26.257812 11.96875 L 26.207031 11.84375 L 27.945312 12.703125 C 31.53125 14.476562 32.316406 14.800781 33.03125 14.800781 C 33.976562 14.800781 33.78125 13.9375 32.472656 12.292969 C 28.519531 7.355469 25.394531 5.925781 21.921875 7.472656 L 21.558594 7.636719 L 21.578125 7.542969 C 21.699219 6.992188 21.761719 5.742188 21.699219 5.164062 C 21.496094 3.296875 20.664062 1.964844 19.003906 0.855469 C 18.480469 0.503906 18.457031 0.5 18.214844 0.632812\"/>\n",
              "</g>\n",
              "      </svg>\n",
              "    "
            ]
          },
          "metadata": {}
        },
        {
          "output_type": "stream",
          "name": "stdout",
          "text": [
            "498 95\n"
          ]
        }
      ],
      "source": [
        "pizarra_vacia(grosor_lapiz = 10)\n",
        "bola_de_billar(10)\n",
        "pendown()\n",
        "print(getx(), gety())\n",
        "forward(1)"
      ]
    },
    {
      "cell_type": "markdown",
      "metadata": {
        "id": "EcUbsm4zKhF8"
      },
      "source": [
        "Siempre arrancará hacia arriba si no indicamos otra cosa. Si queremos elegir una dirección de partida al azar, podemos hacer algo así:\n",
        "\n",
        "```\n",
        "direc = randint(1, 360)\n",
        "setheading(direc) # la tortuga apunta a direc\n",
        "```"
      ]
    },
    {
      "cell_type": "markdown",
      "metadata": {
        "id": "ytmQoZLlPml4"
      },
      "source": [
        "Lo  agregamos a la función:"
      ]
    },
    {
      "cell_type": "code",
      "execution_count": null,
      "metadata": {
        "id": "vVLoazpfPqDi"
      },
      "outputs": [],
      "source": [
        "def bola_de_billar(n: int):\n",
        "    \"\"\"\n",
        "    pre: n de 1 a 12\n",
        "    post: dibuja la trayectoria de una bola de billar con velocidad n que parte de\n",
        "          (pos_x, pos_y) con direccion direc.\n",
        "          Los tres números pos_x, pos_y, direc son elegidos al azar\n",
        "          1 <= pos_x <= 800, 1 <= pos_y <= 500, 1 <= direc <= 360\n",
        "    \"\"\"\n",
        "    speed(n)\n",
        "    pos_x, pos_y = randint(1, 800), randint(1,500)\n",
        "    penup()\n",
        "    setposition(pos_x, pos_y) # ubica la tortuga en (pos_x, pos_y)\n",
        "    direc = randint(1, 360)\n",
        "    setheading(direc) # la tortuga apunta a direc\n",
        "    pendown()\n",
        "    return pos_x, pos_y, direc"
      ]
    },
    {
      "cell_type": "markdown",
      "metadata": {
        "id": "mfUR-CQ5RnjX"
      },
      "source": [
        "Probemos ahora esta función,  que lo único que hace es ubicar la tortuga y darle dirección. Además devuelve la posición inicial y dirección inicial de la tortuga"
      ]
    },
    {
      "cell_type": "code",
      "execution_count": null,
      "metadata": {
        "colab": {
          "base_uri": "https://localhost:8080/",
          "height": 558
        },
        "id": "FIn-KlMLR2Yp",
        "outputId": "bc60c358-5f6d-4afa-f194-3a80e8076933"
      },
      "outputs": [
        {
          "output_type": "display_data",
          "data": {
            "text/plain": [
              "<IPython.core.display.HTML object>"
            ],
            "text/html": [
              "\n",
              "      <svg width=\"800\" height=\"500\">\n",
              "        <rect width=\"100%\" height=\"100%\" fill=\"white\"/>\n",
              "        <line x1=\"283\" y1=\"87\" x2=\"291.91\" y2=\"91.54\" stroke-linecap=\"round\" style=\"stroke:black;stroke-width:10\"/>\n",
              "        <g visibility=hidden transform=\"rotate(117,291.91,91.54) translate(273.91, 73.54)\">\n",
              "<path style=\" stroke:none;fill-rule:evenodd;fill:black;fill-opacity:1;\" d=\"M 18.214844 0.632812 C 16.109375 1.800781 15.011719 4.074219 15.074219 7.132812 L 15.085938 7.652344 L 14.785156 7.496094 C 13.476562 6.824219 11.957031 6.671875 10.40625 7.066406 C 8.46875 7.550781 6.515625 9.15625 4.394531 11.992188 C 3.0625 13.777344 2.679688 14.636719 3.042969 15.027344 L 3.15625 15.152344 L 3.519531 15.152344 C 4.238281 15.152344 4.828125 14.886719 8.1875 13.039062 C 9.386719 12.378906 10.371094 11.839844 10.378906 11.839844 C 10.386719 11.839844 10.355469 11.929688 10.304688 12.035156 C 9.832031 13.09375 9.257812 14.820312 8.96875 16.078125 C 7.914062 20.652344 8.617188 24.53125 11.070312 27.660156 C 11.351562 28.015625 11.363281 27.914062 10.972656 28.382812 C 8.925781 30.84375 7.945312 33.28125 8.238281 35.1875 C 8.289062 35.527344 8.28125 35.523438 8.917969 35.523438 C 10.941406 35.523438 13.074219 34.207031 15.136719 31.6875 C 15.359375 31.417969 15.328125 31.425781 15.5625 31.574219 C 16.292969 32.042969 18.023438 32.964844 18.175781 32.964844 C 18.335938 32.964844 19.941406 32.210938 20.828125 31.71875 C 20.996094 31.625 21.136719 31.554688 21.136719 31.558594 C 21.203125 31.664062 21.898438 32.414062 22.222656 32.730469 C 23.835938 34.300781 25.5625 35.132812 27.582031 35.300781 C 27.90625 35.328125 27.9375 35.308594 28.007812 34.984375 C 28.382812 33.242188 27.625 30.925781 25.863281 28.425781 L 25.542969 27.96875 L 25.699219 27.785156 C 28.945312 23.960938 29.132812 18.699219 26.257812 11.96875 L 26.207031 11.84375 L 27.945312 12.703125 C 31.53125 14.476562 32.316406 14.800781 33.03125 14.800781 C 33.976562 14.800781 33.78125 13.9375 32.472656 12.292969 C 28.519531 7.355469 25.394531 5.925781 21.921875 7.472656 L 21.558594 7.636719 L 21.578125 7.542969 C 21.699219 6.992188 21.761719 5.742188 21.699219 5.164062 C 21.496094 3.296875 20.664062 1.964844 19.003906 0.855469 C 18.480469 0.503906 18.457031 0.5 18.214844 0.632812\"/>\n",
              "</g>\n",
              "      </svg>\n",
              "    "
            ]
          },
          "metadata": {}
        },
        {
          "output_type": "stream",
          "name": "stdout",
          "text": [
            "(283, 87, 27)\n"
          ]
        }
      ],
      "source": [
        "pizarra_vacia(grosor_lapiz = 10)\n",
        "iniciales = bola_de_billar(10)\n",
        "print(iniciales)\n",
        "forward(10) # primer movimiento"
      ]
    },
    {
      "cell_type": "markdown",
      "metadata": {
        "id": "RYjE7QkZK7Af"
      },
      "source": [
        "Una vez elegido el punto de partida y la dirección, debemos hacer un ciclo que vaya dibujando la pelota y la rebote con las paredes. Las reglas de reflexión más intuitivas (y correctas por la geometría) nos dicen lo siguiente:\n",
        "\n",
        "1. Si llega a la pared de la derecha o de la izquierda con un ángulo $\\alpha$ rebota con un ángulo $180 - \\alpha$.\n",
        "2. Si llega a la pared de arriba o de abajo con un ángulo $\\alpha$ rebota con un ángulo $- \\alpha$.\n",
        "\n"
      ]
    },
    {
      "cell_type": "markdown",
      "metadata": {
        "id": "k4XOpgGqWH5h"
      },
      "source": [
        "Agreguemos un ingrediente más a este programa: dejará de dibujar  cuando  lleguemos a la posición `(x, y)` con `x // 10 == 40 and y // 10 == 25` es decir cuano la bola se encuentre cerca del centro del cuadrado. Nada nos garantiza que podamos lograrlo, pero pongamos esa condición."
      ]
    },
    {
      "cell_type": "code",
      "execution_count": null,
      "metadata": {
        "id": "EaXlxjiKK5Sr"
      },
      "outputs": [],
      "source": [
        "def bola_de_billar(n: int):\n",
        "    \"\"\"\n",
        "    pre: n de 1 a 12\n",
        "    post: dibuja la trayectoria de una bola de billar con velocidad n que parte de\n",
        "          (pos_x, pos_y) con direccion direc.\n",
        "          Los tres números pos_x, pos_y, direc son elegidos al azar\n",
        "          1 <= pos_x <= 800, 1 <= pos_y <= 500, 1 <= direc <= 360\n",
        "          Si pos_x == 400 and pos_y == 250 se detiene\n",
        "    \"\"\"\n",
        "\n",
        "    speed(n)\n",
        "    pos_x0, pos_y0 = randint(1, 800), randint(1,500)\n",
        "    penup()\n",
        "    setposition(pos_x0, pos_y0) # ubica la tortuga en (pos_x0, pos_y0)\n",
        "    direc0 = randint(1, 360)\n",
        "    setheading(direc0) # la tortuga apunta a direc\n",
        "    pendown()\n",
        "    pos_x, pos_y, direc = pos_x0, pos_y0, direc0\n",
        "    while not(pos_x == 400 and pos_y == 250):\n",
        "        pass # aquí vendran los movimientos\n",
        "    return pos_x0, pos_y0, direc0"
      ]
    },
    {
      "cell_type": "markdown",
      "metadata": {
        "id": "bv_qt4T2XKHJ"
      },
      "source": [
        "Esta función es correcta sintácticamente y corre sin ningún problema, pero no se detendrá jamás. Solo podemos interrumpirla cliqueando alguna x en alguna parte o quizás con Control-C.\n",
        "\n",
        "Agreguemos un parametro que nos  indique la cantidad máxima de iteraciones:"
      ]
    },
    {
      "cell_type": "code",
      "execution_count": null,
      "metadata": {
        "id": "Z9bX01xBSTsg"
      },
      "outputs": [],
      "source": [
        "def bola_de_billar(n: int, repet: int):\n",
        "    \"\"\"\n",
        "    pre: n de 1 a 12\n",
        "    post: dibuja la trayectoria de una bola de billar con velocidad n que parte de\n",
        "          (pos_x, pos_y) con direccion direc.\n",
        "          Los tres números pos_x, pos_y, direc son elegidos al azar\n",
        "          1 <= pos_x <= 800, 1 <= pos_y <= 500, 1 <= direc <= 360\n",
        "          Si  pos_x == 400 and pos_y == 250 se detiene\n",
        "          después de repet iteraciones se detiene\n",
        "    \"\"\"\n",
        "    speed(n)\n",
        "    pos_x0, pos_y0 = randint(1, 800), randint(1,500)\n",
        "    penup()\n",
        "    setposition(pos_x0, pos_y0) # ubica la tortuga en (pos_x0, pos_y0)\n",
        "    direc0 = randint(1, 360)\n",
        "    setheading(direc0) # la tortuga apunta a direc\n",
        "    pendown()\n",
        "    pos_x, pos_y, direc = pos_x0, pos_y0, direc0\n",
        "    limite = 0\n",
        "    while not(pos_x == 400 and pos_y == 250) and limite < repet:\n",
        "        pass # aquí vendran los movimientos\n",
        "        limite = limite + 1\n",
        "    return pos_x0, pos_y0, direc0"
      ]
    },
    {
      "cell_type": "code",
      "execution_count": null,
      "metadata": {
        "colab": {
          "base_uri": "https://localhost:8080/",
          "height": 558
        },
        "id": "1rwxFCPIk-Wu",
        "outputId": "670251d3-7125-4bb4-f153-c53c912b5cde"
      },
      "outputs": [
        {
          "output_type": "display_data",
          "data": {
            "text/plain": [
              "<IPython.core.display.HTML object>"
            ],
            "text/html": [
              "\n",
              "      <svg width=\"800\" height=\"500\">\n",
              "        <rect width=\"100%\" height=\"100%\" fill=\"white\"/>\n",
              "        \n",
              "        <g visibility=hidden transform=\"rotate(276,616,460) translate(598, 442)\">\n",
              "<path style=\" stroke:none;fill-rule:evenodd;fill:black;fill-opacity:1;\" d=\"M 18.214844 0.632812 C 16.109375 1.800781 15.011719 4.074219 15.074219 7.132812 L 15.085938 7.652344 L 14.785156 7.496094 C 13.476562 6.824219 11.957031 6.671875 10.40625 7.066406 C 8.46875 7.550781 6.515625 9.15625 4.394531 11.992188 C 3.0625 13.777344 2.679688 14.636719 3.042969 15.027344 L 3.15625 15.152344 L 3.519531 15.152344 C 4.238281 15.152344 4.828125 14.886719 8.1875 13.039062 C 9.386719 12.378906 10.371094 11.839844 10.378906 11.839844 C 10.386719 11.839844 10.355469 11.929688 10.304688 12.035156 C 9.832031 13.09375 9.257812 14.820312 8.96875 16.078125 C 7.914062 20.652344 8.617188 24.53125 11.070312 27.660156 C 11.351562 28.015625 11.363281 27.914062 10.972656 28.382812 C 8.925781 30.84375 7.945312 33.28125 8.238281 35.1875 C 8.289062 35.527344 8.28125 35.523438 8.917969 35.523438 C 10.941406 35.523438 13.074219 34.207031 15.136719 31.6875 C 15.359375 31.417969 15.328125 31.425781 15.5625 31.574219 C 16.292969 32.042969 18.023438 32.964844 18.175781 32.964844 C 18.335938 32.964844 19.941406 32.210938 20.828125 31.71875 C 20.996094 31.625 21.136719 31.554688 21.136719 31.558594 C 21.203125 31.664062 21.898438 32.414062 22.222656 32.730469 C 23.835938 34.300781 25.5625 35.132812 27.582031 35.300781 C 27.90625 35.328125 27.9375 35.308594 28.007812 34.984375 C 28.382812 33.242188 27.625 30.925781 25.863281 28.425781 L 25.542969 27.96875 L 25.699219 27.785156 C 28.945312 23.960938 29.132812 18.699219 26.257812 11.96875 L 26.207031 11.84375 L 27.945312 12.703125 C 31.53125 14.476562 32.316406 14.800781 33.03125 14.800781 C 33.976562 14.800781 33.78125 13.9375 32.472656 12.292969 C 28.519531 7.355469 25.394531 5.925781 21.921875 7.472656 L 21.558594 7.636719 L 21.578125 7.542969 C 21.699219 6.992188 21.761719 5.742188 21.699219 5.164062 C 21.496094 3.296875 20.664062 1.964844 19.003906 0.855469 C 18.480469 0.503906 18.457031 0.5 18.214844 0.632812\"/>\n",
              "</g>\n",
              "      </svg>\n",
              "    "
            ]
          },
          "metadata": {}
        },
        {
          "output_type": "execute_result",
          "data": {
            "text/plain": [
              "(616, 460, 186)"
            ]
          },
          "metadata": {},
          "execution_count": 38
        }
      ],
      "source": [
        "pizarra_vacia(grosor_lapiz = 10)\n",
        "bola_de_billar(10, 2000)"
      ]
    },
    {
      "cell_type": "markdown",
      "metadata": {
        "id": "-d50MgNeXnK0"
      },
      "source": [
        "Llegar a la pared de la derecha es alcanzar una coordenada $(800, y)$, llegar a la pared de la izquierda es alcanzar una coordenada $(0, y)$, llegar arriba es alcanzar una coordenada $(x, 0)$ y  llegar abajo es alcanzar una coordenada $(x, 500)$.  Estas condiciones nos permiten armar los condicionales:"
      ]
    },
    {
      "cell_type": "code",
      "execution_count": null,
      "metadata": {
        "id": "D--nPMdCTuQg"
      },
      "outputs": [],
      "source": [
        "def bola_de_billar(n: int, repet: int):\n",
        "    \"\"\"\n",
        "    pre: n de 1 a 12\n",
        "    post: dibuja la trayectoria de una bola de billar con velocidad n que parte de\n",
        "          (pos_x, pos_y) con direccion direc.\n",
        "          Los tres números pos_x, pos_y, direc son elegidos al azar\n",
        "          1 <= pos_x <= 800, 1 <= pos_y <= 500, 1 <= direc <= 360\n",
        "          Si  pos_x == 400 and pos_y == 250 se detiene\n",
        "          después de repet iteraciones se detiene\n",
        "    \"\"\"\n",
        "    speed(n)\n",
        "    pos_x0, pos_y0 = randint(1, 800), randint(1,500)\n",
        "    penup()\n",
        "    setposition(pos_x0, pos_y0) # ubica la tortuga en (pos_x0, pos_y0)\n",
        "    direc0 = randint(1, 360)\n",
        "    setheading(direc0) # la tortuga apunta a direc\n",
        "    pendown()\n",
        "    pos_x, pos_y, direc = pos_x0, pos_y0, direc0\n",
        "    limite = 0\n",
        "    while not(pos_x == 400 and pos_y == 250) and limite < repet:\n",
        "        if pos_x >= 800 or pos_x <= 0:\n",
        "            pass\n",
        "        elif pos_y >= 500 or pos_y <= 0:\n",
        "            pass\n",
        "        else:\n",
        "            forward(10) # si no está en una pared avanza 10\n",
        "        limite += 1\n",
        "    print('limite:', limite)\n",
        "    return pos_x0, pos_y0, direc0"
      ]
    },
    {
      "cell_type": "code",
      "execution_count": null,
      "metadata": {
        "colab": {
          "base_uri": "https://localhost:8080/",
          "height": 575
        },
        "id": "2Q93kWWol8I9",
        "outputId": "8a9a24fb-af8e-4167-96ec-b3136e26e2db"
      },
      "outputs": [
        {
          "output_type": "display_data",
          "data": {
            "text/plain": [
              "<IPython.core.display.HTML object>"
            ],
            "text/html": [
              "\n",
              "      <svg width=\"800\" height=\"500\">\n",
              "        <rect width=\"100%\" height=\"100%\" fill=\"white\"/>\n",
              "        <line x1=\"459\" y1=\"153\" x2=\"454.305\" y2=\"161.829\" stroke-linecap=\"round\" style=\"stroke:black;stroke-width:10\"/><line x1=\"454.305\" y1=\"161.829\" x2=\"449.61\" y2=\"170.658\" stroke-linecap=\"round\" style=\"stroke:black;stroke-width:10\"/><line x1=\"449.61\" y1=\"170.658\" x2=\"444.915\" y2=\"179.487\" stroke-linecap=\"round\" style=\"stroke:black;stroke-width:10\"/><line x1=\"444.915\" y1=\"179.487\" x2=\"440.22\" y2=\"188.316\" stroke-linecap=\"round\" style=\"stroke:black;stroke-width:10\"/><line x1=\"440.22\" y1=\"188.316\" x2=\"435.525\" y2=\"197.145\" stroke-linecap=\"round\" style=\"stroke:black;stroke-width:10\"/><line x1=\"435.525\" y1=\"197.145\" x2=\"430.83\" y2=\"205.974\" stroke-linecap=\"round\" style=\"stroke:black;stroke-width:10\"/><line x1=\"430.83\" y1=\"205.974\" x2=\"426.135\" y2=\"214.803\" stroke-linecap=\"round\" style=\"stroke:black;stroke-width:10\"/><line x1=\"426.135\" y1=\"214.803\" x2=\"421.44\" y2=\"223.632\" stroke-linecap=\"round\" style=\"stroke:black;stroke-width:10\"/><line x1=\"421.44\" y1=\"223.632\" x2=\"416.745\" y2=\"232.461\" stroke-linecap=\"round\" style=\"stroke:black;stroke-width:10\"/><line x1=\"416.745\" y1=\"232.461\" x2=\"412.05\" y2=\"241.29\" stroke-linecap=\"round\" style=\"stroke:black;stroke-width:10\"/><line x1=\"412.05\" y1=\"241.29\" x2=\"407.355\" y2=\"250.119\" stroke-linecap=\"round\" style=\"stroke:black;stroke-width:10\"/><line x1=\"407.355\" y1=\"250.119\" x2=\"402.66\" y2=\"258.948\" stroke-linecap=\"round\" style=\"stroke:black;stroke-width:10\"/><line x1=\"402.66\" y1=\"258.948\" x2=\"397.965\" y2=\"267.777\" stroke-linecap=\"round\" style=\"stroke:black;stroke-width:10\"/><line x1=\"397.965\" y1=\"267.777\" x2=\"393.27\" y2=\"276.606\" stroke-linecap=\"round\" style=\"stroke:black;stroke-width:10\"/><line x1=\"393.27\" y1=\"276.606\" x2=\"388.575\" y2=\"285.435\" stroke-linecap=\"round\" style=\"stroke:black;stroke-width:10\"/><line x1=\"388.575\" y1=\"285.435\" x2=\"383.88\" y2=\"294.264\" stroke-linecap=\"round\" style=\"stroke:black;stroke-width:10\"/><line x1=\"383.88\" y1=\"294.264\" x2=\"379.185\" y2=\"303.093\" stroke-linecap=\"round\" style=\"stroke:black;stroke-width:10\"/><line x1=\"379.185\" y1=\"303.093\" x2=\"374.49\" y2=\"311.922\" stroke-linecap=\"round\" style=\"stroke:black;stroke-width:10\"/><line x1=\"374.49\" y1=\"311.922\" x2=\"369.795\" y2=\"320.751\" stroke-linecap=\"round\" style=\"stroke:black;stroke-width:10\"/><line x1=\"369.795\" y1=\"320.751\" x2=\"365.1\" y2=\"329.58\" stroke-linecap=\"round\" style=\"stroke:black;stroke-width:10\"/><line x1=\"365.1\" y1=\"329.58\" x2=\"360.405\" y2=\"338.409\" stroke-linecap=\"round\" style=\"stroke:black;stroke-width:10\"/><line x1=\"360.405\" y1=\"338.409\" x2=\"355.71\" y2=\"347.238\" stroke-linecap=\"round\" style=\"stroke:black;stroke-width:10\"/><line x1=\"355.71\" y1=\"347.238\" x2=\"351.015\" y2=\"356.067\" stroke-linecap=\"round\" style=\"stroke:black;stroke-width:10\"/><line x1=\"351.015\" y1=\"356.067\" x2=\"346.32\" y2=\"364.896\" stroke-linecap=\"round\" style=\"stroke:black;stroke-width:10\"/><line x1=\"346.32\" y1=\"364.896\" x2=\"341.625\" y2=\"373.725\" stroke-linecap=\"round\" style=\"stroke:black;stroke-width:10\"/><line x1=\"341.625\" y1=\"373.725\" x2=\"336.93\" y2=\"382.554\" stroke-linecap=\"round\" style=\"stroke:black;stroke-width:10\"/><line x1=\"336.93\" y1=\"382.554\" x2=\"332.235\" y2=\"391.383\" stroke-linecap=\"round\" style=\"stroke:black;stroke-width:10\"/><line x1=\"332.235\" y1=\"391.383\" x2=\"327.54\" y2=\"400.212\" stroke-linecap=\"round\" style=\"stroke:black;stroke-width:10\"/><line x1=\"327.54\" y1=\"400.212\" x2=\"322.845\" y2=\"409.041\" stroke-linecap=\"round\" style=\"stroke:black;stroke-width:10\"/><line x1=\"322.845\" y1=\"409.041\" x2=\"318.15\" y2=\"417.87\" stroke-linecap=\"round\" style=\"stroke:black;stroke-width:10\"/><line x1=\"318.15\" y1=\"417.87\" x2=\"313.455\" y2=\"426.699\" stroke-linecap=\"round\" style=\"stroke:black;stroke-width:10\"/><line x1=\"313.455\" y1=\"426.699\" x2=\"308.76\" y2=\"435.528\" stroke-linecap=\"round\" style=\"stroke:black;stroke-width:10\"/><line x1=\"308.76\" y1=\"435.528\" x2=\"304.065\" y2=\"444.357\" stroke-linecap=\"round\" style=\"stroke:black;stroke-width:10\"/><line x1=\"304.065\" y1=\"444.357\" x2=\"299.37\" y2=\"453.186\" stroke-linecap=\"round\" style=\"stroke:black;stroke-width:10\"/><line x1=\"299.37\" y1=\"453.186\" x2=\"294.675\" y2=\"462.015\" stroke-linecap=\"round\" style=\"stroke:black;stroke-width:10\"/><line x1=\"294.675\" y1=\"462.015\" x2=\"289.98\" y2=\"470.844\" stroke-linecap=\"round\" style=\"stroke:black;stroke-width:10\"/><line x1=\"289.98\" y1=\"470.844\" x2=\"285.285\" y2=\"479.673\" stroke-linecap=\"round\" style=\"stroke:black;stroke-width:10\"/><line x1=\"285.285\" y1=\"479.673\" x2=\"280.59\" y2=\"488.502\" stroke-linecap=\"round\" style=\"stroke:black;stroke-width:10\"/><line x1=\"280.59\" y1=\"488.502\" x2=\"275.895\" y2=\"497.331\" stroke-linecap=\"round\" style=\"stroke:black;stroke-width:10\"/><line x1=\"275.895\" y1=\"497.331\" x2=\"271.2\" y2=\"506.16\" stroke-linecap=\"round\" style=\"stroke:black;stroke-width:10\"/><line x1=\"271.2\" y1=\"506.16\" x2=\"266.505\" y2=\"514.989\" stroke-linecap=\"round\" style=\"stroke:black;stroke-width:10\"/><line x1=\"266.505\" y1=\"514.989\" x2=\"261.81\" y2=\"523.818\" stroke-linecap=\"round\" style=\"stroke:black;stroke-width:10\"/><line x1=\"261.81\" y1=\"523.818\" x2=\"257.115\" y2=\"532.647\" stroke-linecap=\"round\" style=\"stroke:black;stroke-width:10\"/><line x1=\"257.115\" y1=\"532.647\" x2=\"252.42\" y2=\"541.476\" stroke-linecap=\"round\" style=\"stroke:black;stroke-width:10\"/><line x1=\"252.42\" y1=\"541.476\" x2=\"247.725\" y2=\"550.305\" stroke-linecap=\"round\" style=\"stroke:black;stroke-width:10\"/><line x1=\"247.725\" y1=\"550.305\" x2=\"243.03\" y2=\"559.134\" stroke-linecap=\"round\" style=\"stroke:black;stroke-width:10\"/><line x1=\"243.03\" y1=\"559.134\" x2=\"238.335\" y2=\"567.963\" stroke-linecap=\"round\" style=\"stroke:black;stroke-width:10\"/><line x1=\"238.335\" y1=\"567.963\" x2=\"233.64\" y2=\"576.792\" stroke-linecap=\"round\" style=\"stroke:black;stroke-width:10\"/><line x1=\"233.64\" y1=\"576.792\" x2=\"228.945\" y2=\"585.621\" stroke-linecap=\"round\" style=\"stroke:black;stroke-width:10\"/><line x1=\"228.945\" y1=\"585.621\" x2=\"224.25\" y2=\"594.45\" stroke-linecap=\"round\" style=\"stroke:black;stroke-width:10\"/><line x1=\"224.25\" y1=\"594.45\" x2=\"219.555\" y2=\"603.279\" stroke-linecap=\"round\" style=\"stroke:black;stroke-width:10\"/><line x1=\"219.555\" y1=\"603.279\" x2=\"214.86\" y2=\"612.108\" stroke-linecap=\"round\" style=\"stroke:black;stroke-width:10\"/><line x1=\"214.86\" y1=\"612.108\" x2=\"210.165\" y2=\"620.937\" stroke-linecap=\"round\" style=\"stroke:black;stroke-width:10\"/><line x1=\"210.165\" y1=\"620.937\" x2=\"205.47\" y2=\"629.766\" stroke-linecap=\"round\" style=\"stroke:black;stroke-width:10\"/><line x1=\"205.47\" y1=\"629.766\" x2=\"200.775\" y2=\"638.595\" stroke-linecap=\"round\" style=\"stroke:black;stroke-width:10\"/><line x1=\"200.775\" y1=\"638.595\" x2=\"196.08\" y2=\"647.424\" stroke-linecap=\"round\" style=\"stroke:black;stroke-width:10\"/><line x1=\"196.08\" y1=\"647.424\" x2=\"191.385\" y2=\"656.253\" stroke-linecap=\"round\" style=\"stroke:black;stroke-width:10\"/><line x1=\"191.385\" y1=\"656.253\" x2=\"186.69\" y2=\"665.082\" stroke-linecap=\"round\" style=\"stroke:black;stroke-width:10\"/><line x1=\"186.69\" y1=\"665.082\" x2=\"181.995\" y2=\"673.911\" stroke-linecap=\"round\" style=\"stroke:black;stroke-width:10\"/><line x1=\"181.995\" y1=\"673.911\" x2=\"177.3\" y2=\"682.74\" stroke-linecap=\"round\" style=\"stroke:black;stroke-width:10\"/><line x1=\"177.3\" y1=\"682.74\" x2=\"172.605\" y2=\"691.569\" stroke-linecap=\"round\" style=\"stroke:black;stroke-width:10\"/><line x1=\"172.605\" y1=\"691.569\" x2=\"167.91\" y2=\"700.398\" stroke-linecap=\"round\" style=\"stroke:black;stroke-width:10\"/><line x1=\"167.91\" y1=\"700.398\" x2=\"163.215\" y2=\"709.227\" stroke-linecap=\"round\" style=\"stroke:black;stroke-width:10\"/><line x1=\"163.215\" y1=\"709.227\" x2=\"158.52\" y2=\"718.056\" stroke-linecap=\"round\" style=\"stroke:black;stroke-width:10\"/><line x1=\"158.52\" y1=\"718.056\" x2=\"153.825\" y2=\"726.885\" stroke-linecap=\"round\" style=\"stroke:black;stroke-width:10\"/><line x1=\"153.825\" y1=\"726.885\" x2=\"149.13\" y2=\"735.714\" stroke-linecap=\"round\" style=\"stroke:black;stroke-width:10\"/><line x1=\"149.13\" y1=\"735.714\" x2=\"144.435\" y2=\"744.543\" stroke-linecap=\"round\" style=\"stroke:black;stroke-width:10\"/><line x1=\"144.435\" y1=\"744.543\" x2=\"139.74\" y2=\"753.372\" stroke-linecap=\"round\" style=\"stroke:black;stroke-width:10\"/><line x1=\"139.74\" y1=\"753.372\" x2=\"135.045\" y2=\"762.201\" stroke-linecap=\"round\" style=\"stroke:black;stroke-width:10\"/><line x1=\"135.045\" y1=\"762.201\" x2=\"130.35\" y2=\"771.03\" stroke-linecap=\"round\" style=\"stroke:black;stroke-width:10\"/><line x1=\"130.35\" y1=\"771.03\" x2=\"125.655\" y2=\"779.859\" stroke-linecap=\"round\" style=\"stroke:black;stroke-width:10\"/><line x1=\"125.655\" y1=\"779.859\" x2=\"120.96\" y2=\"788.688\" stroke-linecap=\"round\" style=\"stroke:black;stroke-width:10\"/><line x1=\"120.96\" y1=\"788.688\" x2=\"116.265\" y2=\"797.517\" stroke-linecap=\"round\" style=\"stroke:black;stroke-width:10\"/><line x1=\"116.265\" y1=\"797.517\" x2=\"111.57\" y2=\"806.346\" stroke-linecap=\"round\" style=\"stroke:black;stroke-width:10\"/><line x1=\"111.57\" y1=\"806.346\" x2=\"106.875\" y2=\"815.175\" stroke-linecap=\"round\" style=\"stroke:black;stroke-width:10\"/><line x1=\"106.875\" y1=\"815.175\" x2=\"102.18\" y2=\"824.004\" stroke-linecap=\"round\" style=\"stroke:black;stroke-width:10\"/><line x1=\"102.18\" y1=\"824.004\" x2=\"97.485\" y2=\"832.833\" stroke-linecap=\"round\" style=\"stroke:black;stroke-width:10\"/><line x1=\"97.485\" y1=\"832.833\" x2=\"92.79\" y2=\"841.662\" stroke-linecap=\"round\" style=\"stroke:black;stroke-width:10\"/><line x1=\"92.79\" y1=\"841.662\" x2=\"88.095\" y2=\"850.491\" stroke-linecap=\"round\" style=\"stroke:black;stroke-width:10\"/><line x1=\"88.095\" y1=\"850.491\" x2=\"83.4\" y2=\"859.32\" stroke-linecap=\"round\" style=\"stroke:black;stroke-width:10\"/><line x1=\"83.4\" y1=\"859.32\" x2=\"78.705\" y2=\"868.149\" stroke-linecap=\"round\" style=\"stroke:black;stroke-width:10\"/><line x1=\"78.705\" y1=\"868.149\" x2=\"74.01\" y2=\"876.978\" stroke-linecap=\"round\" style=\"stroke:black;stroke-width:10\"/><line x1=\"74.01\" y1=\"876.978\" x2=\"69.315\" y2=\"885.807\" stroke-linecap=\"round\" style=\"stroke:black;stroke-width:10\"/><line x1=\"69.315\" y1=\"885.807\" x2=\"64.62\" y2=\"894.636\" stroke-linecap=\"round\" style=\"stroke:black;stroke-width:10\"/><line x1=\"64.62\" y1=\"894.636\" x2=\"59.925\" y2=\"903.465\" stroke-linecap=\"round\" style=\"stroke:black;stroke-width:10\"/><line x1=\"59.925\" y1=\"903.465\" x2=\"55.23\" y2=\"912.294\" stroke-linecap=\"round\" style=\"stroke:black;stroke-width:10\"/><line x1=\"55.23\" y1=\"912.294\" x2=\"50.535\" y2=\"921.123\" stroke-linecap=\"round\" style=\"stroke:black;stroke-width:10\"/><line x1=\"50.535\" y1=\"921.123\" x2=\"45.84\" y2=\"929.952\" stroke-linecap=\"round\" style=\"stroke:black;stroke-width:10\"/><line x1=\"45.84\" y1=\"929.952\" x2=\"41.145\" y2=\"938.781\" stroke-linecap=\"round\" style=\"stroke:black;stroke-width:10\"/><line x1=\"41.145\" y1=\"938.781\" x2=\"36.45\" y2=\"947.61\" stroke-linecap=\"round\" style=\"stroke:black;stroke-width:10\"/><line x1=\"36.45\" y1=\"947.61\" x2=\"31.755\" y2=\"956.439\" stroke-linecap=\"round\" style=\"stroke:black;stroke-width:10\"/><line x1=\"31.755\" y1=\"956.439\" x2=\"27.06\" y2=\"965.268\" stroke-linecap=\"round\" style=\"stroke:black;stroke-width:10\"/><line x1=\"27.06\" y1=\"965.268\" x2=\"22.365\" y2=\"974.097\" stroke-linecap=\"round\" style=\"stroke:black;stroke-width:10\"/><line x1=\"22.365\" y1=\"974.097\" x2=\"17.67\" y2=\"982.926\" stroke-linecap=\"round\" style=\"stroke:black;stroke-width:10\"/><line x1=\"17.67\" y1=\"982.926\" x2=\"12.975\" y2=\"991.755\" stroke-linecap=\"round\" style=\"stroke:black;stroke-width:10\"/><line x1=\"12.975\" y1=\"991.755\" x2=\"8.28\" y2=\"1000.584\" stroke-linecap=\"round\" style=\"stroke:black;stroke-width:10\"/><line x1=\"8.28\" y1=\"1000.584\" x2=\"3.585\" y2=\"1009.413\" stroke-linecap=\"round\" style=\"stroke:black;stroke-width:10\"/><line x1=\"3.585\" y1=\"1009.413\" x2=\"-1.11\" y2=\"1018.242\" stroke-linecap=\"round\" style=\"stroke:black;stroke-width:10\"/><line x1=\"-1.11\" y1=\"1018.242\" x2=\"-5.805\" y2=\"1027.071\" stroke-linecap=\"round\" style=\"stroke:black;stroke-width:10\"/><line x1=\"-5.805\" y1=\"1027.071\" x2=\"-10.5\" y2=\"1035.9\" stroke-linecap=\"round\" style=\"stroke:black;stroke-width:10\"/><line x1=\"-10.5\" y1=\"1035.9\" x2=\"-15.195\" y2=\"1044.729\" stroke-linecap=\"round\" style=\"stroke:black;stroke-width:10\"/><line x1=\"-15.195\" y1=\"1044.729\" x2=\"-19.89\" y2=\"1053.558\" stroke-linecap=\"round\" style=\"stroke:black;stroke-width:10\"/><line x1=\"-19.89\" y1=\"1053.558\" x2=\"-24.585\" y2=\"1062.387\" stroke-linecap=\"round\" style=\"stroke:black;stroke-width:10\"/><line x1=\"-24.585\" y1=\"1062.387\" x2=\"-29.28\" y2=\"1071.216\" stroke-linecap=\"round\" style=\"stroke:black;stroke-width:10\"/><line x1=\"-29.28\" y1=\"1071.216\" x2=\"-33.975\" y2=\"1080.045\" stroke-linecap=\"round\" style=\"stroke:black;stroke-width:10\"/><line x1=\"-33.975\" y1=\"1080.045\" x2=\"-38.67\" y2=\"1088.874\" stroke-linecap=\"round\" style=\"stroke:black;stroke-width:10\"/><line x1=\"-38.67\" y1=\"1088.874\" x2=\"-43.365\" y2=\"1097.703\" stroke-linecap=\"round\" style=\"stroke:black;stroke-width:10\"/><line x1=\"-43.365\" y1=\"1097.703\" x2=\"-48.06\" y2=\"1106.532\" stroke-linecap=\"round\" style=\"stroke:black;stroke-width:10\"/><line x1=\"-48.06\" y1=\"1106.532\" x2=\"-52.755\" y2=\"1115.361\" stroke-linecap=\"round\" style=\"stroke:black;stroke-width:10\"/><line x1=\"-52.755\" y1=\"1115.361\" x2=\"-57.45\" y2=\"1124.19\" stroke-linecap=\"round\" style=\"stroke:black;stroke-width:10\"/><line x1=\"-57.45\" y1=\"1124.19\" x2=\"-62.145\" y2=\"1133.019\" stroke-linecap=\"round\" style=\"stroke:black;stroke-width:10\"/><line x1=\"-62.145\" y1=\"1133.019\" x2=\"-66.84\" y2=\"1141.848\" stroke-linecap=\"round\" style=\"stroke:black;stroke-width:10\"/><line x1=\"-66.84\" y1=\"1141.848\" x2=\"-71.535\" y2=\"1150.677\" stroke-linecap=\"round\" style=\"stroke:black;stroke-width:10\"/><line x1=\"-71.535\" y1=\"1150.677\" x2=\"-76.23\" y2=\"1159.506\" stroke-linecap=\"round\" style=\"stroke:black;stroke-width:10\"/><line x1=\"-76.23\" y1=\"1159.506\" x2=\"-80.925\" y2=\"1168.335\" stroke-linecap=\"round\" style=\"stroke:black;stroke-width:10\"/><line x1=\"-80.925\" y1=\"1168.335\" x2=\"-85.62\" y2=\"1177.164\" stroke-linecap=\"round\" style=\"stroke:black;stroke-width:10\"/><line x1=\"-85.62\" y1=\"1177.164\" x2=\"-90.315\" y2=\"1185.993\" stroke-linecap=\"round\" style=\"stroke:black;stroke-width:10\"/><line x1=\"-90.315\" y1=\"1185.993\" x2=\"-95.01\" y2=\"1194.822\" stroke-linecap=\"round\" style=\"stroke:black;stroke-width:10\"/><line x1=\"-95.01\" y1=\"1194.822\" x2=\"-99.705\" y2=\"1203.651\" stroke-linecap=\"round\" style=\"stroke:black;stroke-width:10\"/><line x1=\"-99.705\" y1=\"1203.651\" x2=\"-104.4\" y2=\"1212.48\" stroke-linecap=\"round\" style=\"stroke:black;stroke-width:10\"/><line x1=\"-104.4\" y1=\"1212.48\" x2=\"-109.095\" y2=\"1221.309\" stroke-linecap=\"round\" style=\"stroke:black;stroke-width:10\"/><line x1=\"-109.095\" y1=\"1221.309\" x2=\"-113.79\" y2=\"1230.138\" stroke-linecap=\"round\" style=\"stroke:black;stroke-width:10\"/><line x1=\"-113.79\" y1=\"1230.138\" x2=\"-118.485\" y2=\"1238.967\" stroke-linecap=\"round\" style=\"stroke:black;stroke-width:10\"/><line x1=\"-118.485\" y1=\"1238.967\" x2=\"-123.18\" y2=\"1247.796\" stroke-linecap=\"round\" style=\"stroke:black;stroke-width:10\"/><line x1=\"-123.18\" y1=\"1247.796\" x2=\"-127.875\" y2=\"1256.625\" stroke-linecap=\"round\" style=\"stroke:black;stroke-width:10\"/><line x1=\"-127.875\" y1=\"1256.625\" x2=\"-132.57\" y2=\"1265.454\" stroke-linecap=\"round\" style=\"stroke:black;stroke-width:10\"/><line x1=\"-132.57\" y1=\"1265.454\" x2=\"-137.265\" y2=\"1274.283\" stroke-linecap=\"round\" style=\"stroke:black;stroke-width:10\"/><line x1=\"-137.265\" y1=\"1274.283\" x2=\"-141.96\" y2=\"1283.112\" stroke-linecap=\"round\" style=\"stroke:black;stroke-width:10\"/><line x1=\"-141.96\" y1=\"1283.112\" x2=\"-146.655\" y2=\"1291.941\" stroke-linecap=\"round\" style=\"stroke:black;stroke-width:10\"/><line x1=\"-146.655\" y1=\"1291.941\" x2=\"-151.35\" y2=\"1300.77\" stroke-linecap=\"round\" style=\"stroke:black;stroke-width:10\"/><line x1=\"-151.35\" y1=\"1300.77\" x2=\"-156.045\" y2=\"1309.599\" stroke-linecap=\"round\" style=\"stroke:black;stroke-width:10\"/><line x1=\"-156.045\" y1=\"1309.599\" x2=\"-160.74\" y2=\"1318.428\" stroke-linecap=\"round\" style=\"stroke:black;stroke-width:10\"/><line x1=\"-160.74\" y1=\"1318.428\" x2=\"-165.435\" y2=\"1327.257\" stroke-linecap=\"round\" style=\"stroke:black;stroke-width:10\"/><line x1=\"-165.435\" y1=\"1327.257\" x2=\"-170.13\" y2=\"1336.086\" stroke-linecap=\"round\" style=\"stroke:black;stroke-width:10\"/><line x1=\"-170.13\" y1=\"1336.086\" x2=\"-174.825\" y2=\"1344.915\" stroke-linecap=\"round\" style=\"stroke:black;stroke-width:10\"/><line x1=\"-174.825\" y1=\"1344.915\" x2=\"-179.52\" y2=\"1353.744\" stroke-linecap=\"round\" style=\"stroke:black;stroke-width:10\"/><line x1=\"-179.52\" y1=\"1353.744\" x2=\"-184.215\" y2=\"1362.573\" stroke-linecap=\"round\" style=\"stroke:black;stroke-width:10\"/><line x1=\"-184.215\" y1=\"1362.573\" x2=\"-188.91\" y2=\"1371.402\" stroke-linecap=\"round\" style=\"stroke:black;stroke-width:10\"/><line x1=\"-188.91\" y1=\"1371.402\" x2=\"-193.605\" y2=\"1380.231\" stroke-linecap=\"round\" style=\"stroke:black;stroke-width:10\"/><line x1=\"-193.605\" y1=\"1380.231\" x2=\"-198.3\" y2=\"1389.06\" stroke-linecap=\"round\" style=\"stroke:black;stroke-width:10\"/><line x1=\"-198.3\" y1=\"1389.06\" x2=\"-202.995\" y2=\"1397.889\" stroke-linecap=\"round\" style=\"stroke:black;stroke-width:10\"/><line x1=\"-202.995\" y1=\"1397.889\" x2=\"-207.69\" y2=\"1406.718\" stroke-linecap=\"round\" style=\"stroke:black;stroke-width:10\"/><line x1=\"-207.69\" y1=\"1406.718\" x2=\"-212.385\" y2=\"1415.547\" stroke-linecap=\"round\" style=\"stroke:black;stroke-width:10\"/><line x1=\"-212.385\" y1=\"1415.547\" x2=\"-217.08\" y2=\"1424.376\" stroke-linecap=\"round\" style=\"stroke:black;stroke-width:10\"/><line x1=\"-217.08\" y1=\"1424.376\" x2=\"-221.775\" y2=\"1433.205\" stroke-linecap=\"round\" style=\"stroke:black;stroke-width:10\"/><line x1=\"-221.775\" y1=\"1433.205\" x2=\"-226.47\" y2=\"1442.034\" stroke-linecap=\"round\" style=\"stroke:black;stroke-width:10\"/><line x1=\"-226.47\" y1=\"1442.034\" x2=\"-231.165\" y2=\"1450.863\" stroke-linecap=\"round\" style=\"stroke:black;stroke-width:10\"/><line x1=\"-231.165\" y1=\"1450.863\" x2=\"-235.86\" y2=\"1459.692\" stroke-linecap=\"round\" style=\"stroke:black;stroke-width:10\"/><line x1=\"-235.86\" y1=\"1459.692\" x2=\"-240.555\" y2=\"1468.521\" stroke-linecap=\"round\" style=\"stroke:black;stroke-width:10\"/><line x1=\"-240.555\" y1=\"1468.521\" x2=\"-245.25\" y2=\"1477.35\" stroke-linecap=\"round\" style=\"stroke:black;stroke-width:10\"/><line x1=\"-245.25\" y1=\"1477.35\" x2=\"-249.945\" y2=\"1486.179\" stroke-linecap=\"round\" style=\"stroke:black;stroke-width:10\"/><line x1=\"-249.945\" y1=\"1486.179\" x2=\"-254.64\" y2=\"1495.008\" stroke-linecap=\"round\" style=\"stroke:black;stroke-width:10\"/><line x1=\"-254.64\" y1=\"1495.008\" x2=\"-259.335\" y2=\"1503.837\" stroke-linecap=\"round\" style=\"stroke:black;stroke-width:10\"/><line x1=\"-259.335\" y1=\"1503.837\" x2=\"-264.03\" y2=\"1512.666\" stroke-linecap=\"round\" style=\"stroke:black;stroke-width:10\"/><line x1=\"-264.03\" y1=\"1512.666\" x2=\"-268.725\" y2=\"1521.495\" stroke-linecap=\"round\" style=\"stroke:black;stroke-width:10\"/><line x1=\"-268.725\" y1=\"1521.495\" x2=\"-273.42\" y2=\"1530.324\" stroke-linecap=\"round\" style=\"stroke:black;stroke-width:10\"/><line x1=\"-273.42\" y1=\"1530.324\" x2=\"-278.115\" y2=\"1539.153\" stroke-linecap=\"round\" style=\"stroke:black;stroke-width:10\"/><line x1=\"-278.115\" y1=\"1539.153\" x2=\"-282.81\" y2=\"1547.982\" stroke-linecap=\"round\" style=\"stroke:black;stroke-width:10\"/><line x1=\"-282.81\" y1=\"1547.982\" x2=\"-287.505\" y2=\"1556.811\" stroke-linecap=\"round\" style=\"stroke:black;stroke-width:10\"/><line x1=\"-287.505\" y1=\"1556.811\" x2=\"-292.2\" y2=\"1565.64\" stroke-linecap=\"round\" style=\"stroke:black;stroke-width:10\"/><line x1=\"-292.2\" y1=\"1565.64\" x2=\"-296.895\" y2=\"1574.469\" stroke-linecap=\"round\" style=\"stroke:black;stroke-width:10\"/><line x1=\"-296.895\" y1=\"1574.469\" x2=\"-301.59\" y2=\"1583.298\" stroke-linecap=\"round\" style=\"stroke:black;stroke-width:10\"/><line x1=\"-301.59\" y1=\"1583.298\" x2=\"-306.285\" y2=\"1592.127\" stroke-linecap=\"round\" style=\"stroke:black;stroke-width:10\"/><line x1=\"-306.285\" y1=\"1592.127\" x2=\"-310.98\" y2=\"1600.956\" stroke-linecap=\"round\" style=\"stroke:black;stroke-width:10\"/><line x1=\"-310.98\" y1=\"1600.956\" x2=\"-315.675\" y2=\"1609.785\" stroke-linecap=\"round\" style=\"stroke:black;stroke-width:10\"/><line x1=\"-315.675\" y1=\"1609.785\" x2=\"-320.37\" y2=\"1618.614\" stroke-linecap=\"round\" style=\"stroke:black;stroke-width:10\"/><line x1=\"-320.37\" y1=\"1618.614\" x2=\"-325.065\" y2=\"1627.443\" stroke-linecap=\"round\" style=\"stroke:black;stroke-width:10\"/><line x1=\"-325.065\" y1=\"1627.443\" x2=\"-329.76\" y2=\"1636.272\" stroke-linecap=\"round\" style=\"stroke:black;stroke-width:10\"/><line x1=\"-329.76\" y1=\"1636.272\" x2=\"-334.455\" y2=\"1645.101\" stroke-linecap=\"round\" style=\"stroke:black;stroke-width:10\"/><line x1=\"-334.455\" y1=\"1645.101\" x2=\"-339.15\" y2=\"1653.93\" stroke-linecap=\"round\" style=\"stroke:black;stroke-width:10\"/><line x1=\"-339.15\" y1=\"1653.93\" x2=\"-343.845\" y2=\"1662.759\" stroke-linecap=\"round\" style=\"stroke:black;stroke-width:10\"/><line x1=\"-343.845\" y1=\"1662.759\" x2=\"-348.54\" y2=\"1671.588\" stroke-linecap=\"round\" style=\"stroke:black;stroke-width:10\"/><line x1=\"-348.54\" y1=\"1671.588\" x2=\"-353.235\" y2=\"1680.417\" stroke-linecap=\"round\" style=\"stroke:black;stroke-width:10\"/><line x1=\"-353.235\" y1=\"1680.417\" x2=\"-357.93\" y2=\"1689.246\" stroke-linecap=\"round\" style=\"stroke:black;stroke-width:10\"/><line x1=\"-357.93\" y1=\"1689.246\" x2=\"-362.625\" y2=\"1698.075\" stroke-linecap=\"round\" style=\"stroke:black;stroke-width:10\"/><line x1=\"-362.625\" y1=\"1698.075\" x2=\"-367.32\" y2=\"1706.904\" stroke-linecap=\"round\" style=\"stroke:black;stroke-width:10\"/><line x1=\"-367.32\" y1=\"1706.904\" x2=\"-372.015\" y2=\"1715.733\" stroke-linecap=\"round\" style=\"stroke:black;stroke-width:10\"/><line x1=\"-372.015\" y1=\"1715.733\" x2=\"-376.71\" y2=\"1724.562\" stroke-linecap=\"round\" style=\"stroke:black;stroke-width:10\"/><line x1=\"-376.71\" y1=\"1724.562\" x2=\"-381.405\" y2=\"1733.391\" stroke-linecap=\"round\" style=\"stroke:black;stroke-width:10\"/><line x1=\"-381.405\" y1=\"1733.391\" x2=\"-386.1\" y2=\"1742.22\" stroke-linecap=\"round\" style=\"stroke:black;stroke-width:10\"/><line x1=\"-386.1\" y1=\"1742.22\" x2=\"-390.795\" y2=\"1751.049\" stroke-linecap=\"round\" style=\"stroke:black;stroke-width:10\"/><line x1=\"-390.795\" y1=\"1751.049\" x2=\"-395.49\" y2=\"1759.878\" stroke-linecap=\"round\" style=\"stroke:black;stroke-width:10\"/><line x1=\"-395.49\" y1=\"1759.878\" x2=\"-400.185\" y2=\"1768.707\" stroke-linecap=\"round\" style=\"stroke:black;stroke-width:10\"/><line x1=\"-400.185\" y1=\"1768.707\" x2=\"-404.88\" y2=\"1777.536\" stroke-linecap=\"round\" style=\"stroke:black;stroke-width:10\"/><line x1=\"-404.88\" y1=\"1777.536\" x2=\"-409.575\" y2=\"1786.365\" stroke-linecap=\"round\" style=\"stroke:black;stroke-width:10\"/><line x1=\"-409.575\" y1=\"1786.365\" x2=\"-414.27\" y2=\"1795.194\" stroke-linecap=\"round\" style=\"stroke:black;stroke-width:10\"/><line x1=\"-414.27\" y1=\"1795.194\" x2=\"-418.965\" y2=\"1804.023\" stroke-linecap=\"round\" style=\"stroke:black;stroke-width:10\"/><line x1=\"-418.965\" y1=\"1804.023\" x2=\"-423.66\" y2=\"1812.852\" stroke-linecap=\"round\" style=\"stroke:black;stroke-width:10\"/><line x1=\"-423.66\" y1=\"1812.852\" x2=\"-428.355\" y2=\"1821.681\" stroke-linecap=\"round\" style=\"stroke:black;stroke-width:10\"/><line x1=\"-428.355\" y1=\"1821.681\" x2=\"-433.05\" y2=\"1830.51\" stroke-linecap=\"round\" style=\"stroke:black;stroke-width:10\"/><line x1=\"-433.05\" y1=\"1830.51\" x2=\"-437.745\" y2=\"1839.339\" stroke-linecap=\"round\" style=\"stroke:black;stroke-width:10\"/><line x1=\"-437.745\" y1=\"1839.339\" x2=\"-442.44\" y2=\"1848.168\" stroke-linecap=\"round\" style=\"stroke:black;stroke-width:10\"/><line x1=\"-442.44\" y1=\"1848.168\" x2=\"-447.135\" y2=\"1856.997\" stroke-linecap=\"round\" style=\"stroke:black;stroke-width:10\"/><line x1=\"-447.135\" y1=\"1856.997\" x2=\"-451.83\" y2=\"1865.826\" stroke-linecap=\"round\" style=\"stroke:black;stroke-width:10\"/><line x1=\"-451.83\" y1=\"1865.826\" x2=\"-456.525\" y2=\"1874.655\" stroke-linecap=\"round\" style=\"stroke:black;stroke-width:10\"/><line x1=\"-456.525\" y1=\"1874.655\" x2=\"-461.22\" y2=\"1883.484\" stroke-linecap=\"round\" style=\"stroke:black;stroke-width:10\"/><line x1=\"-461.22\" y1=\"1883.484\" x2=\"-465.915\" y2=\"1892.313\" stroke-linecap=\"round\" style=\"stroke:black;stroke-width:10\"/><line x1=\"-465.915\" y1=\"1892.313\" x2=\"-470.61\" y2=\"1901.142\" stroke-linecap=\"round\" style=\"stroke:black;stroke-width:10\"/><line x1=\"-470.61\" y1=\"1901.142\" x2=\"-475.305\" y2=\"1909.971\" stroke-linecap=\"round\" style=\"stroke:black;stroke-width:10\"/><line x1=\"-475.305\" y1=\"1909.971\" x2=\"-480.0\" y2=\"1918.8\" stroke-linecap=\"round\" style=\"stroke:black;stroke-width:10\"/>\n",
              "        <g visibility=hidden transform=\"rotate(208,-480.0,1918.8) translate(-498.0, 1900.8)\">\n",
              "<path style=\" stroke:none;fill-rule:evenodd;fill:black;fill-opacity:1;\" d=\"M 18.214844 0.632812 C 16.109375 1.800781 15.011719 4.074219 15.074219 7.132812 L 15.085938 7.652344 L 14.785156 7.496094 C 13.476562 6.824219 11.957031 6.671875 10.40625 7.066406 C 8.46875 7.550781 6.515625 9.15625 4.394531 11.992188 C 3.0625 13.777344 2.679688 14.636719 3.042969 15.027344 L 3.15625 15.152344 L 3.519531 15.152344 C 4.238281 15.152344 4.828125 14.886719 8.1875 13.039062 C 9.386719 12.378906 10.371094 11.839844 10.378906 11.839844 C 10.386719 11.839844 10.355469 11.929688 10.304688 12.035156 C 9.832031 13.09375 9.257812 14.820312 8.96875 16.078125 C 7.914062 20.652344 8.617188 24.53125 11.070312 27.660156 C 11.351562 28.015625 11.363281 27.914062 10.972656 28.382812 C 8.925781 30.84375 7.945312 33.28125 8.238281 35.1875 C 8.289062 35.527344 8.28125 35.523438 8.917969 35.523438 C 10.941406 35.523438 13.074219 34.207031 15.136719 31.6875 C 15.359375 31.417969 15.328125 31.425781 15.5625 31.574219 C 16.292969 32.042969 18.023438 32.964844 18.175781 32.964844 C 18.335938 32.964844 19.941406 32.210938 20.828125 31.71875 C 20.996094 31.625 21.136719 31.554688 21.136719 31.558594 C 21.203125 31.664062 21.898438 32.414062 22.222656 32.730469 C 23.835938 34.300781 25.5625 35.132812 27.582031 35.300781 C 27.90625 35.328125 27.9375 35.308594 28.007812 34.984375 C 28.382812 33.242188 27.625 30.925781 25.863281 28.425781 L 25.542969 27.96875 L 25.699219 27.785156 C 28.945312 23.960938 29.132812 18.699219 26.257812 11.96875 L 26.207031 11.84375 L 27.945312 12.703125 C 31.53125 14.476562 32.316406 14.800781 33.03125 14.800781 C 33.976562 14.800781 33.78125 13.9375 32.472656 12.292969 C 28.519531 7.355469 25.394531 5.925781 21.921875 7.472656 L 21.558594 7.636719 L 21.578125 7.542969 C 21.699219 6.992188 21.761719 5.742188 21.699219 5.164062 C 21.496094 3.296875 20.664062 1.964844 19.003906 0.855469 C 18.480469 0.503906 18.457031 0.5 18.214844 0.632812\"/>\n",
              "</g>\n",
              "      </svg>\n",
              "    "
            ]
          },
          "metadata": {}
        },
        {
          "output_type": "stream",
          "name": "stdout",
          "text": [
            "limite: 200\n"
          ]
        },
        {
          "output_type": "execute_result",
          "data": {
            "text/plain": [
              "(459, 153, 118)"
            ]
          },
          "metadata": {},
          "execution_count": 42
        }
      ],
      "source": [
        "pizarra_vacia(grosor_lapiz = 10)\n",
        "bola_de_billar(10, 200)"
      ]
    },
    {
      "cell_type": "markdown",
      "metadata": {
        "id": "Dq4Xl04KmCpk"
      },
      "source": [
        "Como verá,  no rebota, tenemos que agregar el cuerpo de los condicionales."
      ]
    },
    {
      "cell_type": "markdown",
      "metadata": {
        "id": "AmjCWDZ4UBzq"
      },
      "source": [
        "Ahora nos rebotar en las paredes y luego movernos y en la dirección correcta. Debido a problemas de redondeo (y otras cuestiones) la forma más \"matemática\"  proseguir después que choca una pared no funciona bien: cuando rebota no debemos avanzar 10, pues a veces no alcanza  y hacemos una variante (avanzar 15):"
      ]
    },
    {
      "cell_type": "code",
      "execution_count": null,
      "metadata": {
        "id": "hbEbcXK3Xr6b"
      },
      "outputs": [],
      "source": [
        "def bola_de_billar(n: int, repet: int):\n",
        "    \"\"\"\n",
        "    pre: n de 1 a 12\n",
        "    post: dibuja la trayectoria de una bola de billar con velocidad n que parte de\n",
        "          (pos_x, pos_y) con direccion direc.\n",
        "          Los tres números pos_x, pos_y, direc son elegidos al azar\n",
        "          1 <= pos_x <= 800, 1 <= pos_y <= 500, 1 <= direc <= 360\n",
        "          Si  pos_x == 400 and pos_y == 250 se detiene\n",
        "          después de repet iteraciones se detiene\n",
        "    \"\"\"\n",
        "    speed(n)\n",
        "    pos_x0, pos_y0 = randint(1, 800), randint(1,500)\n",
        "    penup()\n",
        "    setposition(pos_x0, pos_y0) # ubica la tortuga en (pos_x0, pos_y0)\n",
        "    direc0 = randint(1, 360)\n",
        "    setheading(direc0) # la tortuga apunta a direc\n",
        "    pendown()\n",
        "    pos_x, pos_y, direc = pos_x0, pos_y0, direc0\n",
        "    limite = 0\n",
        "    salto = 10\n",
        "    while not(pos_x // 10 == 40 and pos_y // 10 == 25) and limite < repet:\n",
        "        # print(pos_x, pos_y, direc )\n",
        "        pos_x, pos_y = position()\n",
        "        if pos_x >= 800 or pos_x <= 0:\n",
        "            direc = 180 - direc\n",
        "            print('pos_x == 800 or pos_x == 0:', pos_x, pos_y, direc)\n",
        "            setheading(direc)\n",
        "            forward(1.5 * salto) # sale de la encerrona\n",
        "        elif pos_y >= 500 or pos_y <= 0:\n",
        "            direc = 360 - direc\n",
        "            print('pos_y == 500 or pos_y == 0:', pos_x, pos_y, direc)\n",
        "            setheading(direc)\n",
        "            forward(1.5 * salto) # sale de la encerrona\n",
        "        else:\n",
        "            forward(salto) # si no está en una pared avanza salto\n",
        "        limite += 1\n",
        "    print('limite:', limite)\n",
        "    return pos_x0, pos_y0, direc0"
      ]
    },
    {
      "cell_type": "code",
      "execution_count": null,
      "metadata": {
        "colab": {
          "base_uri": "https://localhost:8080/",
          "height": 1000
        },
        "id": "8TfjCtSxbObZ",
        "outputId": "483629d5-927b-4759-d34c-613d61217785"
      },
      "outputs": [
        {
          "output_type": "display_data",
          "data": {
            "text/plain": [
              "<IPython.core.display.HTML object>"
            ],
            "text/html": [
              "\n",
              "      <svg width=\"800\" height=\"500\">\n",
              "        <rect width=\"100%\" height=\"100%\" fill=\"white\"/>\n",
              "        <line x1=\"400\" y1=\"250\" x2=\"400\" y2=\"250\" stroke-linecap=\"round\" style=\"stroke:red;stroke-width:12\"/><line x1=\"400\" y1=\"250\" x2=\"409\" y2=\"250\" stroke-linecap=\"round\" style=\"stroke:red;stroke-width:12\"/><line x1=\"409\" y1=\"250\" x2=\"409\" y2=\"259\" stroke-linecap=\"round\" style=\"stroke:red;stroke-width:12\"/><line x1=\"409\" y1=\"259\" x2=\"400\" y2=\"259\" stroke-linecap=\"round\" style=\"stroke:red;stroke-width:12\"/><line x1=\"400\" y1=\"259\" x2=\"400\" y2=\"250\" stroke-linecap=\"round\" style=\"stroke:red;stroke-width:12\"/><line x1=\"106\" y1=\"52\" x2=\"112.428\" y2=\"59.66\" stroke-linecap=\"round\" style=\"stroke:black;stroke-width:12\"/><line x1=\"112.428\" y1=\"59.66\" x2=\"118.856\" y2=\"67.32\" stroke-linecap=\"round\" style=\"stroke:black;stroke-width:12\"/><line x1=\"118.856\" y1=\"67.32\" x2=\"125.284\" y2=\"74.98\" stroke-linecap=\"round\" style=\"stroke:black;stroke-width:12\"/><line x1=\"125.284\" y1=\"74.98\" x2=\"131.712\" y2=\"82.64\" stroke-linecap=\"round\" style=\"stroke:black;stroke-width:12\"/><line x1=\"131.712\" y1=\"82.64\" x2=\"138.14\" y2=\"90.3\" stroke-linecap=\"round\" style=\"stroke:black;stroke-width:12\"/><line x1=\"138.14\" y1=\"90.3\" x2=\"144.568\" y2=\"97.96\" stroke-linecap=\"round\" style=\"stroke:black;stroke-width:12\"/><line x1=\"144.568\" y1=\"97.96\" x2=\"150.996\" y2=\"105.62\" stroke-linecap=\"round\" style=\"stroke:black;stroke-width:12\"/><line x1=\"150.996\" y1=\"105.62\" x2=\"157.424\" y2=\"113.28\" stroke-linecap=\"round\" style=\"stroke:black;stroke-width:12\"/><line x1=\"157.424\" y1=\"113.28\" x2=\"163.852\" y2=\"120.94\" stroke-linecap=\"round\" style=\"stroke:black;stroke-width:12\"/><line x1=\"163.852\" y1=\"120.94\" x2=\"170.28\" y2=\"128.6\" stroke-linecap=\"round\" style=\"stroke:black;stroke-width:12\"/><line x1=\"170.28\" y1=\"128.6\" x2=\"176.708\" y2=\"136.26\" stroke-linecap=\"round\" style=\"stroke:black;stroke-width:12\"/><line x1=\"176.708\" y1=\"136.26\" x2=\"183.136\" y2=\"143.92\" stroke-linecap=\"round\" style=\"stroke:black;stroke-width:12\"/><line x1=\"183.136\" y1=\"143.92\" x2=\"189.564\" y2=\"151.58\" stroke-linecap=\"round\" style=\"stroke:black;stroke-width:12\"/><line x1=\"189.564\" y1=\"151.58\" x2=\"195.992\" y2=\"159.24\" stroke-linecap=\"round\" style=\"stroke:black;stroke-width:12\"/><line x1=\"195.992\" y1=\"159.24\" x2=\"202.42\" y2=\"166.9\" stroke-linecap=\"round\" style=\"stroke:black;stroke-width:12\"/><line x1=\"202.42\" y1=\"166.9\" x2=\"208.848\" y2=\"174.56\" stroke-linecap=\"round\" style=\"stroke:black;stroke-width:12\"/><line x1=\"208.848\" y1=\"174.56\" x2=\"215.276\" y2=\"182.22\" stroke-linecap=\"round\" style=\"stroke:black;stroke-width:12\"/><line x1=\"215.276\" y1=\"182.22\" x2=\"221.704\" y2=\"189.88\" stroke-linecap=\"round\" style=\"stroke:black;stroke-width:12\"/><line x1=\"221.704\" y1=\"189.88\" x2=\"228.132\" y2=\"197.54\" stroke-linecap=\"round\" style=\"stroke:black;stroke-width:12\"/><line x1=\"228.132\" y1=\"197.54\" x2=\"234.56\" y2=\"205.2\" stroke-linecap=\"round\" style=\"stroke:black;stroke-width:12\"/><line x1=\"234.56\" y1=\"205.2\" x2=\"240.988\" y2=\"212.86\" stroke-linecap=\"round\" style=\"stroke:black;stroke-width:12\"/><line x1=\"240.988\" y1=\"212.86\" x2=\"247.416\" y2=\"220.52\" stroke-linecap=\"round\" style=\"stroke:black;stroke-width:12\"/><line x1=\"247.416\" y1=\"220.52\" x2=\"253.844\" y2=\"228.18\" stroke-linecap=\"round\" style=\"stroke:black;stroke-width:12\"/><line x1=\"253.844\" y1=\"228.18\" x2=\"260.272\" y2=\"235.84\" stroke-linecap=\"round\" style=\"stroke:black;stroke-width:12\"/><line x1=\"260.272\" y1=\"235.84\" x2=\"266.7\" y2=\"243.5\" stroke-linecap=\"round\" style=\"stroke:black;stroke-width:12\"/><line x1=\"266.7\" y1=\"243.5\" x2=\"273.128\" y2=\"251.16\" stroke-linecap=\"round\" style=\"stroke:black;stroke-width:12\"/><line x1=\"273.128\" y1=\"251.16\" x2=\"279.556\" y2=\"258.82\" stroke-linecap=\"round\" style=\"stroke:black;stroke-width:12\"/><line x1=\"279.556\" y1=\"258.82\" x2=\"285.984\" y2=\"266.48\" stroke-linecap=\"round\" style=\"stroke:black;stroke-width:12\"/><line x1=\"285.984\" y1=\"266.48\" x2=\"292.412\" y2=\"274.14\" stroke-linecap=\"round\" style=\"stroke:black;stroke-width:12\"/><line x1=\"292.412\" y1=\"274.14\" x2=\"298.84\" y2=\"281.8\" stroke-linecap=\"round\" style=\"stroke:black;stroke-width:12\"/><line x1=\"298.84\" y1=\"281.8\" x2=\"305.268\" y2=\"289.46\" stroke-linecap=\"round\" style=\"stroke:black;stroke-width:12\"/><line x1=\"305.268\" y1=\"289.46\" x2=\"311.696\" y2=\"297.12\" stroke-linecap=\"round\" style=\"stroke:black;stroke-width:12\"/><line x1=\"311.696\" y1=\"297.12\" x2=\"318.124\" y2=\"304.78\" stroke-linecap=\"round\" style=\"stroke:black;stroke-width:12\"/><line x1=\"318.124\" y1=\"304.78\" x2=\"324.552\" y2=\"312.44\" stroke-linecap=\"round\" style=\"stroke:black;stroke-width:12\"/><line x1=\"324.552\" y1=\"312.44\" x2=\"330.98\" y2=\"320.1\" stroke-linecap=\"round\" style=\"stroke:black;stroke-width:12\"/><line x1=\"330.98\" y1=\"320.1\" x2=\"337.408\" y2=\"327.76\" stroke-linecap=\"round\" style=\"stroke:black;stroke-width:12\"/><line x1=\"337.408\" y1=\"327.76\" x2=\"343.836\" y2=\"335.42\" stroke-linecap=\"round\" style=\"stroke:black;stroke-width:12\"/><line x1=\"343.836\" y1=\"335.42\" x2=\"350.264\" y2=\"343.08\" stroke-linecap=\"round\" style=\"stroke:black;stroke-width:12\"/><line x1=\"350.264\" y1=\"343.08\" x2=\"356.692\" y2=\"350.74\" stroke-linecap=\"round\" style=\"stroke:black;stroke-width:12\"/><line x1=\"356.692\" y1=\"350.74\" x2=\"363.12\" y2=\"358.4\" stroke-linecap=\"round\" style=\"stroke:black;stroke-width:12\"/><line x1=\"363.12\" y1=\"358.4\" x2=\"369.548\" y2=\"366.06\" stroke-linecap=\"round\" style=\"stroke:black;stroke-width:12\"/><line x1=\"369.548\" y1=\"366.06\" x2=\"375.976\" y2=\"373.72\" stroke-linecap=\"round\" style=\"stroke:black;stroke-width:12\"/><line x1=\"375.976\" y1=\"373.72\" x2=\"382.404\" y2=\"381.38\" stroke-linecap=\"round\" style=\"stroke:black;stroke-width:12\"/><line x1=\"382.404\" y1=\"381.38\" x2=\"388.832\" y2=\"389.04\" stroke-linecap=\"round\" style=\"stroke:black;stroke-width:12\"/><line x1=\"388.832\" y1=\"389.04\" x2=\"395.26\" y2=\"396.7\" stroke-linecap=\"round\" style=\"stroke:black;stroke-width:12\"/><line x1=\"395.26\" y1=\"396.7\" x2=\"401.688\" y2=\"404.36\" stroke-linecap=\"round\" style=\"stroke:black;stroke-width:12\"/><line x1=\"401.688\" y1=\"404.36\" x2=\"408.116\" y2=\"412.02\" stroke-linecap=\"round\" style=\"stroke:black;stroke-width:12\"/><line x1=\"408.116\" y1=\"412.02\" x2=\"414.544\" y2=\"419.68\" stroke-linecap=\"round\" style=\"stroke:black;stroke-width:12\"/><line x1=\"414.544\" y1=\"419.68\" x2=\"420.972\" y2=\"427.34\" stroke-linecap=\"round\" style=\"stroke:black;stroke-width:12\"/><line x1=\"420.972\" y1=\"427.34\" x2=\"427.4\" y2=\"435.0\" stroke-linecap=\"round\" style=\"stroke:black;stroke-width:12\"/><line x1=\"427.4\" y1=\"435.0\" x2=\"433.828\" y2=\"442.66\" stroke-linecap=\"round\" style=\"stroke:black;stroke-width:12\"/><line x1=\"433.828\" y1=\"442.66\" x2=\"440.256\" y2=\"450.32\" stroke-linecap=\"round\" style=\"stroke:black;stroke-width:12\"/><line x1=\"440.256\" y1=\"450.32\" x2=\"446.684\" y2=\"457.98\" stroke-linecap=\"round\" style=\"stroke:black;stroke-width:12\"/><line x1=\"446.684\" y1=\"457.98\" x2=\"453.112\" y2=\"465.64\" stroke-linecap=\"round\" style=\"stroke:black;stroke-width:12\"/><line x1=\"453.112\" y1=\"465.64\" x2=\"459.54\" y2=\"473.3\" stroke-linecap=\"round\" style=\"stroke:black;stroke-width:12\"/><line x1=\"459.54\" y1=\"473.3\" x2=\"465.968\" y2=\"480.96\" stroke-linecap=\"round\" style=\"stroke:black;stroke-width:12\"/><line x1=\"465.968\" y1=\"480.96\" x2=\"472.396\" y2=\"488.62\" stroke-linecap=\"round\" style=\"stroke:black;stroke-width:12\"/><line x1=\"472.396\" y1=\"488.62\" x2=\"478.824\" y2=\"496.28\" stroke-linecap=\"round\" style=\"stroke:black;stroke-width:12\"/><line x1=\"478.824\" y1=\"496.28\" x2=\"485.252\" y2=\"503.94\" stroke-linecap=\"round\" style=\"stroke:black;stroke-width:12\"/><line x1=\"485.252\" y1=\"503.94\" x2=\"494.894\" y2=\"492.449\" stroke-linecap=\"round\" style=\"stroke:black;stroke-width:12\"/><line x1=\"494.894\" y1=\"492.449\" x2=\"501.322\" y2=\"484.789\" stroke-linecap=\"round\" style=\"stroke:black;stroke-width:12\"/><line x1=\"501.322\" y1=\"484.789\" x2=\"507.75\" y2=\"477.129\" stroke-linecap=\"round\" style=\"stroke:black;stroke-width:12\"/><line x1=\"507.75\" y1=\"477.129\" x2=\"514.178\" y2=\"469.469\" stroke-linecap=\"round\" style=\"stroke:black;stroke-width:12\"/><line x1=\"514.178\" y1=\"469.469\" x2=\"520.606\" y2=\"461.809\" stroke-linecap=\"round\" style=\"stroke:black;stroke-width:12\"/><line x1=\"520.606\" y1=\"461.809\" x2=\"527.034\" y2=\"454.149\" stroke-linecap=\"round\" style=\"stroke:black;stroke-width:12\"/><line x1=\"527.034\" y1=\"454.149\" x2=\"533.462\" y2=\"446.489\" stroke-linecap=\"round\" style=\"stroke:black;stroke-width:12\"/><line x1=\"533.462\" y1=\"446.489\" x2=\"539.89\" y2=\"438.829\" stroke-linecap=\"round\" style=\"stroke:black;stroke-width:12\"/><line x1=\"539.89\" y1=\"438.829\" x2=\"546.318\" y2=\"431.169\" stroke-linecap=\"round\" style=\"stroke:black;stroke-width:12\"/><line x1=\"546.318\" y1=\"431.169\" x2=\"552.746\" y2=\"423.509\" stroke-linecap=\"round\" style=\"stroke:black;stroke-width:12\"/><line x1=\"552.746\" y1=\"423.509\" x2=\"559.174\" y2=\"415.849\" stroke-linecap=\"round\" style=\"stroke:black;stroke-width:12\"/><line x1=\"559.174\" y1=\"415.849\" x2=\"565.602\" y2=\"408.189\" stroke-linecap=\"round\" style=\"stroke:black;stroke-width:12\"/><line x1=\"565.602\" y1=\"408.189\" x2=\"572.03\" y2=\"400.529\" stroke-linecap=\"round\" style=\"stroke:black;stroke-width:12\"/><line x1=\"572.03\" y1=\"400.529\" x2=\"578.458\" y2=\"392.869\" stroke-linecap=\"round\" style=\"stroke:black;stroke-width:12\"/><line x1=\"578.458\" y1=\"392.869\" x2=\"584.886\" y2=\"385.209\" stroke-linecap=\"round\" style=\"stroke:black;stroke-width:12\"/><line x1=\"584.886\" y1=\"385.209\" x2=\"591.314\" y2=\"377.549\" stroke-linecap=\"round\" style=\"stroke:black;stroke-width:12\"/><line x1=\"591.314\" y1=\"377.549\" x2=\"597.742\" y2=\"369.889\" stroke-linecap=\"round\" style=\"stroke:black;stroke-width:12\"/><line x1=\"597.742\" y1=\"369.889\" x2=\"604.17\" y2=\"362.229\" stroke-linecap=\"round\" style=\"stroke:black;stroke-width:12\"/><line x1=\"604.17\" y1=\"362.229\" x2=\"610.598\" y2=\"354.569\" stroke-linecap=\"round\" style=\"stroke:black;stroke-width:12\"/><line x1=\"610.598\" y1=\"354.569\" x2=\"617.026\" y2=\"346.909\" stroke-linecap=\"round\" style=\"stroke:black;stroke-width:12\"/><line x1=\"617.026\" y1=\"346.909\" x2=\"623.454\" y2=\"339.249\" stroke-linecap=\"round\" style=\"stroke:black;stroke-width:12\"/><line x1=\"623.454\" y1=\"339.249\" x2=\"629.882\" y2=\"331.589\" stroke-linecap=\"round\" style=\"stroke:black;stroke-width:12\"/><line x1=\"629.882\" y1=\"331.589\" x2=\"636.31\" y2=\"323.929\" stroke-linecap=\"round\" style=\"stroke:black;stroke-width:12\"/><line x1=\"636.31\" y1=\"323.929\" x2=\"642.738\" y2=\"316.269\" stroke-linecap=\"round\" style=\"stroke:black;stroke-width:12\"/><line x1=\"642.738\" y1=\"316.269\" x2=\"649.166\" y2=\"308.609\" stroke-linecap=\"round\" style=\"stroke:black;stroke-width:12\"/><line x1=\"649.166\" y1=\"308.609\" x2=\"655.594\" y2=\"300.949\" stroke-linecap=\"round\" style=\"stroke:black;stroke-width:12\"/><line x1=\"655.594\" y1=\"300.949\" x2=\"662.022\" y2=\"293.289\" stroke-linecap=\"round\" style=\"stroke:black;stroke-width:12\"/><line x1=\"662.022\" y1=\"293.289\" x2=\"668.45\" y2=\"285.629\" stroke-linecap=\"round\" style=\"stroke:black;stroke-width:12\"/><line x1=\"668.45\" y1=\"285.629\" x2=\"674.878\" y2=\"277.969\" stroke-linecap=\"round\" style=\"stroke:black;stroke-width:12\"/><line x1=\"674.878\" y1=\"277.969\" x2=\"681.306\" y2=\"270.309\" stroke-linecap=\"round\" style=\"stroke:black;stroke-width:12\"/><line x1=\"681.306\" y1=\"270.309\" x2=\"687.734\" y2=\"262.649\" stroke-linecap=\"round\" style=\"stroke:black;stroke-width:12\"/><line x1=\"687.734\" y1=\"262.649\" x2=\"694.162\" y2=\"254.989\" stroke-linecap=\"round\" style=\"stroke:black;stroke-width:12\"/><line x1=\"694.162\" y1=\"254.989\" x2=\"700.59\" y2=\"247.329\" stroke-linecap=\"round\" style=\"stroke:black;stroke-width:12\"/><line x1=\"700.59\" y1=\"247.329\" x2=\"707.018\" y2=\"239.669\" stroke-linecap=\"round\" style=\"stroke:black;stroke-width:12\"/><line x1=\"707.018\" y1=\"239.669\" x2=\"713.446\" y2=\"232.009\" stroke-linecap=\"round\" style=\"stroke:black;stroke-width:12\"/><line x1=\"713.446\" y1=\"232.009\" x2=\"719.874\" y2=\"224.349\" stroke-linecap=\"round\" style=\"stroke:black;stroke-width:12\"/><line x1=\"719.874\" y1=\"224.349\" x2=\"726.302\" y2=\"216.689\" stroke-linecap=\"round\" style=\"stroke:black;stroke-width:12\"/><line x1=\"726.302\" y1=\"216.689\" x2=\"732.73\" y2=\"209.029\" stroke-linecap=\"round\" style=\"stroke:black;stroke-width:12\"/><line x1=\"732.73\" y1=\"209.029\" x2=\"739.158\" y2=\"201.369\" stroke-linecap=\"round\" style=\"stroke:black;stroke-width:12\"/><line x1=\"739.158\" y1=\"201.369\" x2=\"745.586\" y2=\"193.709\" stroke-linecap=\"round\" style=\"stroke:black;stroke-width:12\"/><line x1=\"745.586\" y1=\"193.709\" x2=\"752.014\" y2=\"186.049\" stroke-linecap=\"round\" style=\"stroke:black;stroke-width:12\"/><line x1=\"752.014\" y1=\"186.049\" x2=\"758.442\" y2=\"178.389\" stroke-linecap=\"round\" style=\"stroke:black;stroke-width:12\"/><line x1=\"758.442\" y1=\"178.389\" x2=\"764.87\" y2=\"170.729\" stroke-linecap=\"round\" style=\"stroke:black;stroke-width:12\"/><line x1=\"764.87\" y1=\"170.729\" x2=\"771.298\" y2=\"163.069\" stroke-linecap=\"round\" style=\"stroke:black;stroke-width:12\"/><line x1=\"771.298\" y1=\"163.069\" x2=\"777.726\" y2=\"155.409\" stroke-linecap=\"round\" style=\"stroke:black;stroke-width:12\"/><line x1=\"777.726\" y1=\"155.409\" x2=\"784.154\" y2=\"147.749\" stroke-linecap=\"round\" style=\"stroke:black;stroke-width:12\"/><line x1=\"784.154\" y1=\"147.749\" x2=\"790.582\" y2=\"140.089\" stroke-linecap=\"round\" style=\"stroke:black;stroke-width:12\"/><line x1=\"790.582\" y1=\"140.089\" x2=\"797.01\" y2=\"132.429\" stroke-linecap=\"round\" style=\"stroke:black;stroke-width:12\"/><line x1=\"797.01\" y1=\"132.429\" x2=\"803.438\" y2=\"124.769\" stroke-linecap=\"round\" style=\"stroke:black;stroke-width:12\"/><line x1=\"803.438\" y1=\"124.769\" x2=\"793.796\" y2=\"113.278\" stroke-linecap=\"round\" style=\"stroke:black;stroke-width:12\"/><line x1=\"793.796\" y1=\"113.278\" x2=\"787.368\" y2=\"105.618\" stroke-linecap=\"round\" style=\"stroke:black;stroke-width:12\"/><line x1=\"787.368\" y1=\"105.618\" x2=\"780.94\" y2=\"97.958\" stroke-linecap=\"round\" style=\"stroke:black;stroke-width:12\"/><line x1=\"780.94\" y1=\"97.958\" x2=\"774.512\" y2=\"90.298\" stroke-linecap=\"round\" style=\"stroke:black;stroke-width:12\"/><line x1=\"774.512\" y1=\"90.298\" x2=\"768.084\" y2=\"82.638\" stroke-linecap=\"round\" style=\"stroke:black;stroke-width:12\"/><line x1=\"768.084\" y1=\"82.638\" x2=\"761.656\" y2=\"74.978\" stroke-linecap=\"round\" style=\"stroke:black;stroke-width:12\"/><line x1=\"761.656\" y1=\"74.978\" x2=\"755.228\" y2=\"67.318\" stroke-linecap=\"round\" style=\"stroke:black;stroke-width:12\"/><line x1=\"755.228\" y1=\"67.318\" x2=\"748.8\" y2=\"59.658\" stroke-linecap=\"round\" style=\"stroke:black;stroke-width:12\"/><line x1=\"748.8\" y1=\"59.658\" x2=\"742.372\" y2=\"51.998\" stroke-linecap=\"round\" style=\"stroke:black;stroke-width:12\"/><line x1=\"742.372\" y1=\"51.998\" x2=\"735.944\" y2=\"44.338\" stroke-linecap=\"round\" style=\"stroke:black;stroke-width:12\"/><line x1=\"735.944\" y1=\"44.338\" x2=\"729.516\" y2=\"36.678\" stroke-linecap=\"round\" style=\"stroke:black;stroke-width:12\"/><line x1=\"729.516\" y1=\"36.678\" x2=\"723.088\" y2=\"29.018\" stroke-linecap=\"round\" style=\"stroke:black;stroke-width:12\"/><line x1=\"723.088\" y1=\"29.018\" x2=\"716.66\" y2=\"21.358\" stroke-linecap=\"round\" style=\"stroke:black;stroke-width:12\"/><line x1=\"716.66\" y1=\"21.358\" x2=\"710.232\" y2=\"13.698\" stroke-linecap=\"round\" style=\"stroke:black;stroke-width:12\"/><line x1=\"710.232\" y1=\"13.698\" x2=\"703.804\" y2=\"6.038\" stroke-linecap=\"round\" style=\"stroke:black;stroke-width:12\"/><line x1=\"703.804\" y1=\"6.038\" x2=\"697.376\" y2=\"-1.622\" stroke-linecap=\"round\" style=\"stroke:black;stroke-width:12\"/><line x1=\"697.376\" y1=\"-1.622\" x2=\"687.734\" y2=\"9.869\" stroke-linecap=\"round\" style=\"stroke:black;stroke-width:12\"/><line x1=\"687.734\" y1=\"9.869\" x2=\"681.306\" y2=\"17.529\" stroke-linecap=\"round\" style=\"stroke:black;stroke-width:12\"/><line x1=\"681.306\" y1=\"17.529\" x2=\"674.878\" y2=\"25.189\" stroke-linecap=\"round\" style=\"stroke:black;stroke-width:12\"/><line x1=\"674.878\" y1=\"25.189\" x2=\"668.45\" y2=\"32.849\" stroke-linecap=\"round\" style=\"stroke:black;stroke-width:12\"/><line x1=\"668.45\" y1=\"32.849\" x2=\"662.022\" y2=\"40.509\" stroke-linecap=\"round\" style=\"stroke:black;stroke-width:12\"/><line x1=\"662.022\" y1=\"40.509\" x2=\"655.594\" y2=\"48.169\" stroke-linecap=\"round\" style=\"stroke:black;stroke-width:12\"/><line x1=\"655.594\" y1=\"48.169\" x2=\"649.166\" y2=\"55.829\" stroke-linecap=\"round\" style=\"stroke:black;stroke-width:12\"/><line x1=\"649.166\" y1=\"55.829\" x2=\"642.738\" y2=\"63.489\" stroke-linecap=\"round\" style=\"stroke:black;stroke-width:12\"/><line x1=\"642.738\" y1=\"63.489\" x2=\"636.31\" y2=\"71.149\" stroke-linecap=\"round\" style=\"stroke:black;stroke-width:12\"/><line x1=\"636.31\" y1=\"71.149\" x2=\"629.882\" y2=\"78.809\" stroke-linecap=\"round\" style=\"stroke:black;stroke-width:12\"/><line x1=\"629.882\" y1=\"78.809\" x2=\"623.454\" y2=\"86.469\" stroke-linecap=\"round\" style=\"stroke:black;stroke-width:12\"/><line x1=\"623.454\" y1=\"86.469\" x2=\"617.026\" y2=\"94.129\" stroke-linecap=\"round\" style=\"stroke:black;stroke-width:12\"/><line x1=\"617.026\" y1=\"94.129\" x2=\"610.598\" y2=\"101.789\" stroke-linecap=\"round\" style=\"stroke:black;stroke-width:12\"/><line x1=\"610.598\" y1=\"101.789\" x2=\"604.17\" y2=\"109.449\" stroke-linecap=\"round\" style=\"stroke:black;stroke-width:12\"/><line x1=\"604.17\" y1=\"109.449\" x2=\"597.742\" y2=\"117.109\" stroke-linecap=\"round\" style=\"stroke:black;stroke-width:12\"/><line x1=\"597.742\" y1=\"117.109\" x2=\"591.314\" y2=\"124.769\" stroke-linecap=\"round\" style=\"stroke:black;stroke-width:12\"/><line x1=\"591.314\" y1=\"124.769\" x2=\"584.886\" y2=\"132.429\" stroke-linecap=\"round\" style=\"stroke:black;stroke-width:12\"/><line x1=\"584.886\" y1=\"132.429\" x2=\"578.458\" y2=\"140.089\" stroke-linecap=\"round\" style=\"stroke:black;stroke-width:12\"/><line x1=\"578.458\" y1=\"140.089\" x2=\"572.03\" y2=\"147.749\" stroke-linecap=\"round\" style=\"stroke:black;stroke-width:12\"/><line x1=\"572.03\" y1=\"147.749\" x2=\"565.602\" y2=\"155.409\" stroke-linecap=\"round\" style=\"stroke:black;stroke-width:12\"/><line x1=\"565.602\" y1=\"155.409\" x2=\"559.174\" y2=\"163.069\" stroke-linecap=\"round\" style=\"stroke:black;stroke-width:12\"/><line x1=\"559.174\" y1=\"163.069\" x2=\"552.746\" y2=\"170.729\" stroke-linecap=\"round\" style=\"stroke:black;stroke-width:12\"/><line x1=\"552.746\" y1=\"170.729\" x2=\"546.318\" y2=\"178.389\" stroke-linecap=\"round\" style=\"stroke:black;stroke-width:12\"/><line x1=\"546.318\" y1=\"178.389\" x2=\"539.89\" y2=\"186.049\" stroke-linecap=\"round\" style=\"stroke:black;stroke-width:12\"/><line x1=\"539.89\" y1=\"186.049\" x2=\"533.462\" y2=\"193.709\" stroke-linecap=\"round\" style=\"stroke:black;stroke-width:12\"/><line x1=\"533.462\" y1=\"193.709\" x2=\"527.034\" y2=\"201.369\" stroke-linecap=\"round\" style=\"stroke:black;stroke-width:12\"/><line x1=\"527.034\" y1=\"201.369\" x2=\"520.606\" y2=\"209.029\" stroke-linecap=\"round\" style=\"stroke:black;stroke-width:12\"/><line x1=\"520.606\" y1=\"209.029\" x2=\"514.178\" y2=\"216.689\" stroke-linecap=\"round\" style=\"stroke:black;stroke-width:12\"/><line x1=\"514.178\" y1=\"216.689\" x2=\"507.75\" y2=\"224.349\" stroke-linecap=\"round\" style=\"stroke:black;stroke-width:12\"/><line x1=\"507.75\" y1=\"224.349\" x2=\"501.322\" y2=\"232.009\" stroke-linecap=\"round\" style=\"stroke:black;stroke-width:12\"/><line x1=\"501.322\" y1=\"232.009\" x2=\"494.894\" y2=\"239.669\" stroke-linecap=\"round\" style=\"stroke:black;stroke-width:12\"/><line x1=\"494.894\" y1=\"239.669\" x2=\"488.466\" y2=\"247.329\" stroke-linecap=\"round\" style=\"stroke:black;stroke-width:12\"/><line x1=\"488.466\" y1=\"247.329\" x2=\"482.038\" y2=\"254.989\" stroke-linecap=\"round\" style=\"stroke:black;stroke-width:12\"/><line x1=\"482.038\" y1=\"254.989\" x2=\"475.61\" y2=\"262.649\" stroke-linecap=\"round\" style=\"stroke:black;stroke-width:12\"/><line x1=\"475.61\" y1=\"262.649\" x2=\"469.182\" y2=\"270.309\" stroke-linecap=\"round\" style=\"stroke:black;stroke-width:12\"/><line x1=\"469.182\" y1=\"270.309\" x2=\"462.754\" y2=\"277.969\" stroke-linecap=\"round\" style=\"stroke:black;stroke-width:12\"/><line x1=\"462.754\" y1=\"277.969\" x2=\"456.326\" y2=\"285.629\" stroke-linecap=\"round\" style=\"stroke:black;stroke-width:12\"/><line x1=\"456.326\" y1=\"285.629\" x2=\"449.898\" y2=\"293.289\" stroke-linecap=\"round\" style=\"stroke:black;stroke-width:12\"/><line x1=\"449.898\" y1=\"293.289\" x2=\"443.47\" y2=\"300.949\" stroke-linecap=\"round\" style=\"stroke:black;stroke-width:12\"/><line x1=\"443.47\" y1=\"300.949\" x2=\"437.042\" y2=\"308.609\" stroke-linecap=\"round\" style=\"stroke:black;stroke-width:12\"/><line x1=\"437.042\" y1=\"308.609\" x2=\"430.614\" y2=\"316.269\" stroke-linecap=\"round\" style=\"stroke:black;stroke-width:12\"/><line x1=\"430.614\" y1=\"316.269\" x2=\"424.186\" y2=\"323.929\" stroke-linecap=\"round\" style=\"stroke:black;stroke-width:12\"/><line x1=\"424.186\" y1=\"323.929\" x2=\"417.758\" y2=\"331.589\" stroke-linecap=\"round\" style=\"stroke:black;stroke-width:12\"/><line x1=\"417.758\" y1=\"331.589\" x2=\"411.33\" y2=\"339.249\" stroke-linecap=\"round\" style=\"stroke:black;stroke-width:12\"/><line x1=\"411.33\" y1=\"339.249\" x2=\"404.902\" y2=\"346.909\" stroke-linecap=\"round\" style=\"stroke:black;stroke-width:12\"/><line x1=\"404.902\" y1=\"346.909\" x2=\"398.474\" y2=\"354.569\" stroke-linecap=\"round\" style=\"stroke:black;stroke-width:12\"/><line x1=\"398.474\" y1=\"354.569\" x2=\"392.046\" y2=\"362.229\" stroke-linecap=\"round\" style=\"stroke:black;stroke-width:12\"/><line x1=\"392.046\" y1=\"362.229\" x2=\"385.618\" y2=\"369.889\" stroke-linecap=\"round\" style=\"stroke:black;stroke-width:12\"/><line x1=\"385.618\" y1=\"369.889\" x2=\"379.19\" y2=\"377.549\" stroke-linecap=\"round\" style=\"stroke:black;stroke-width:12\"/><line x1=\"379.19\" y1=\"377.549\" x2=\"372.762\" y2=\"385.209\" stroke-linecap=\"round\" style=\"stroke:black;stroke-width:12\"/><line x1=\"372.762\" y1=\"385.209\" x2=\"366.334\" y2=\"392.869\" stroke-linecap=\"round\" style=\"stroke:black;stroke-width:12\"/><line x1=\"366.334\" y1=\"392.869\" x2=\"359.906\" y2=\"400.529\" stroke-linecap=\"round\" style=\"stroke:black;stroke-width:12\"/><line x1=\"359.906\" y1=\"400.529\" x2=\"353.478\" y2=\"408.189\" stroke-linecap=\"round\" style=\"stroke:black;stroke-width:12\"/><line x1=\"353.478\" y1=\"408.189\" x2=\"347.05\" y2=\"415.849\" stroke-linecap=\"round\" style=\"stroke:black;stroke-width:12\"/><line x1=\"347.05\" y1=\"415.849\" x2=\"340.622\" y2=\"423.509\" stroke-linecap=\"round\" style=\"stroke:black;stroke-width:12\"/><line x1=\"340.622\" y1=\"423.509\" x2=\"334.194\" y2=\"431.169\" stroke-linecap=\"round\" style=\"stroke:black;stroke-width:12\"/><line x1=\"334.194\" y1=\"431.169\" x2=\"327.766\" y2=\"438.829\" stroke-linecap=\"round\" style=\"stroke:black;stroke-width:12\"/><line x1=\"327.766\" y1=\"438.829\" x2=\"321.338\" y2=\"446.489\" stroke-linecap=\"round\" style=\"stroke:black;stroke-width:12\"/><line x1=\"321.338\" y1=\"446.489\" x2=\"314.91\" y2=\"454.149\" stroke-linecap=\"round\" style=\"stroke:black;stroke-width:12\"/><line x1=\"314.91\" y1=\"454.149\" x2=\"308.482\" y2=\"461.809\" stroke-linecap=\"round\" style=\"stroke:black;stroke-width:12\"/><line x1=\"308.482\" y1=\"461.809\" x2=\"302.054\" y2=\"469.469\" stroke-linecap=\"round\" style=\"stroke:black;stroke-width:12\"/><line x1=\"302.054\" y1=\"469.469\" x2=\"295.626\" y2=\"477.129\" stroke-linecap=\"round\" style=\"stroke:black;stroke-width:12\"/><line x1=\"295.626\" y1=\"477.129\" x2=\"289.198\" y2=\"484.789\" stroke-linecap=\"round\" style=\"stroke:black;stroke-width:12\"/><line x1=\"289.198\" y1=\"484.789\" x2=\"282.77\" y2=\"492.449\" stroke-linecap=\"round\" style=\"stroke:black;stroke-width:12\"/><line x1=\"282.77\" y1=\"492.449\" x2=\"276.342\" y2=\"500.109\" stroke-linecap=\"round\" style=\"stroke:black;stroke-width:12\"/><line x1=\"276.342\" y1=\"500.109\" x2=\"266.7\" y2=\"488.618\" stroke-linecap=\"round\" style=\"stroke:black;stroke-width:12\"/><line x1=\"266.7\" y1=\"488.618\" x2=\"260.272\" y2=\"480.958\" stroke-linecap=\"round\" style=\"stroke:black;stroke-width:12\"/><line x1=\"260.272\" y1=\"480.958\" x2=\"253.844\" y2=\"473.298\" stroke-linecap=\"round\" style=\"stroke:black;stroke-width:12\"/><line x1=\"253.844\" y1=\"473.298\" x2=\"247.416\" y2=\"465.638\" stroke-linecap=\"round\" style=\"stroke:black;stroke-width:12\"/><line x1=\"247.416\" y1=\"465.638\" x2=\"240.988\" y2=\"457.978\" stroke-linecap=\"round\" style=\"stroke:black;stroke-width:12\"/><line x1=\"240.988\" y1=\"457.978\" x2=\"234.56\" y2=\"450.318\" stroke-linecap=\"round\" style=\"stroke:black;stroke-width:12\"/><line x1=\"234.56\" y1=\"450.318\" x2=\"228.132\" y2=\"442.658\" stroke-linecap=\"round\" style=\"stroke:black;stroke-width:12\"/><line x1=\"228.132\" y1=\"442.658\" x2=\"221.704\" y2=\"434.998\" stroke-linecap=\"round\" style=\"stroke:black;stroke-width:12\"/><line x1=\"221.704\" y1=\"434.998\" x2=\"215.276\" y2=\"427.338\" stroke-linecap=\"round\" style=\"stroke:black;stroke-width:12\"/><line x1=\"215.276\" y1=\"427.338\" x2=\"208.848\" y2=\"419.678\" stroke-linecap=\"round\" style=\"stroke:black;stroke-width:12\"/><line x1=\"208.848\" y1=\"419.678\" x2=\"202.42\" y2=\"412.018\" stroke-linecap=\"round\" style=\"stroke:black;stroke-width:12\"/><line x1=\"202.42\" y1=\"412.018\" x2=\"195.992\" y2=\"404.358\" stroke-linecap=\"round\" style=\"stroke:black;stroke-width:12\"/><line x1=\"195.992\" y1=\"404.358\" x2=\"189.564\" y2=\"396.698\" stroke-linecap=\"round\" style=\"stroke:black;stroke-width:12\"/><line x1=\"189.564\" y1=\"396.698\" x2=\"183.136\" y2=\"389.038\" stroke-linecap=\"round\" style=\"stroke:black;stroke-width:12\"/><line x1=\"183.136\" y1=\"389.038\" x2=\"176.708\" y2=\"381.378\" stroke-linecap=\"round\" style=\"stroke:black;stroke-width:12\"/><line x1=\"176.708\" y1=\"381.378\" x2=\"170.28\" y2=\"373.718\" stroke-linecap=\"round\" style=\"stroke:black;stroke-width:12\"/><line x1=\"170.28\" y1=\"373.718\" x2=\"163.852\" y2=\"366.058\" stroke-linecap=\"round\" style=\"stroke:black;stroke-width:12\"/><line x1=\"163.852\" y1=\"366.058\" x2=\"157.424\" y2=\"358.398\" stroke-linecap=\"round\" style=\"stroke:black;stroke-width:12\"/><line x1=\"157.424\" y1=\"358.398\" x2=\"150.996\" y2=\"350.738\" stroke-linecap=\"round\" style=\"stroke:black;stroke-width:12\"/><line x1=\"150.996\" y1=\"350.738\" x2=\"144.568\" y2=\"343.078\" stroke-linecap=\"round\" style=\"stroke:black;stroke-width:12\"/><line x1=\"144.568\" y1=\"343.078\" x2=\"138.14\" y2=\"335.418\" stroke-linecap=\"round\" style=\"stroke:black;stroke-width:12\"/><line x1=\"138.14\" y1=\"335.418\" x2=\"131.712\" y2=\"327.758\" stroke-linecap=\"round\" style=\"stroke:black;stroke-width:12\"/><line x1=\"131.712\" y1=\"327.758\" x2=\"125.284\" y2=\"320.098\" stroke-linecap=\"round\" style=\"stroke:black;stroke-width:12\"/><line x1=\"125.284\" y1=\"320.098\" x2=\"118.856\" y2=\"312.438\" stroke-linecap=\"round\" style=\"stroke:black;stroke-width:12\"/><line x1=\"118.856\" y1=\"312.438\" x2=\"112.428\" y2=\"304.778\" stroke-linecap=\"round\" style=\"stroke:black;stroke-width:12\"/><line x1=\"112.428\" y1=\"304.778\" x2=\"106.0\" y2=\"297.118\" stroke-linecap=\"round\" style=\"stroke:black;stroke-width:12\"/><line x1=\"106.0\" y1=\"297.118\" x2=\"99.572\" y2=\"289.458\" stroke-linecap=\"round\" style=\"stroke:black;stroke-width:12\"/><line x1=\"99.572\" y1=\"289.458\" x2=\"93.144\" y2=\"281.798\" stroke-linecap=\"round\" style=\"stroke:black;stroke-width:12\"/><line x1=\"93.144\" y1=\"281.798\" x2=\"86.716\" y2=\"274.138\" stroke-linecap=\"round\" style=\"stroke:black;stroke-width:12\"/><line x1=\"86.716\" y1=\"274.138\" x2=\"80.288\" y2=\"266.478\" stroke-linecap=\"round\" style=\"stroke:black;stroke-width:12\"/><line x1=\"80.288\" y1=\"266.478\" x2=\"73.86\" y2=\"258.818\" stroke-linecap=\"round\" style=\"stroke:black;stroke-width:12\"/><line x1=\"73.86\" y1=\"258.818\" x2=\"67.432\" y2=\"251.158\" stroke-linecap=\"round\" style=\"stroke:black;stroke-width:12\"/><line x1=\"67.432\" y1=\"251.158\" x2=\"61.004\" y2=\"243.498\" stroke-linecap=\"round\" style=\"stroke:black;stroke-width:12\"/><line x1=\"61.004\" y1=\"243.498\" x2=\"54.576\" y2=\"235.838\" stroke-linecap=\"round\" style=\"stroke:black;stroke-width:12\"/><line x1=\"54.576\" y1=\"235.838\" x2=\"48.148\" y2=\"228.178\" stroke-linecap=\"round\" style=\"stroke:black;stroke-width:12\"/><line x1=\"48.148\" y1=\"228.178\" x2=\"41.72\" y2=\"220.518\" stroke-linecap=\"round\" style=\"stroke:black;stroke-width:12\"/><line x1=\"41.72\" y1=\"220.518\" x2=\"35.292\" y2=\"212.858\" stroke-linecap=\"round\" style=\"stroke:black;stroke-width:12\"/><line x1=\"35.292\" y1=\"212.858\" x2=\"28.864\" y2=\"205.198\" stroke-linecap=\"round\" style=\"stroke:black;stroke-width:12\"/><line x1=\"28.864\" y1=\"205.198\" x2=\"22.436\" y2=\"197.538\" stroke-linecap=\"round\" style=\"stroke:black;stroke-width:12\"/><line x1=\"22.436\" y1=\"197.538\" x2=\"16.008\" y2=\"189.878\" stroke-linecap=\"round\" style=\"stroke:black;stroke-width:12\"/><line x1=\"16.008\" y1=\"189.878\" x2=\"9.58\" y2=\"182.218\" stroke-linecap=\"round\" style=\"stroke:black;stroke-width:12\"/><line x1=\"9.58\" y1=\"182.218\" x2=\"3.152\" y2=\"174.558\" stroke-linecap=\"round\" style=\"stroke:black;stroke-width:12\"/><line x1=\"3.152\" y1=\"174.558\" x2=\"-3.276\" y2=\"166.898\" stroke-linecap=\"round\" style=\"stroke:black;stroke-width:12\"/><line x1=\"-3.276\" y1=\"166.898\" x2=\"6.366\" y2=\"155.407\" stroke-linecap=\"round\" style=\"stroke:black;stroke-width:12\"/><line x1=\"6.366\" y1=\"155.407\" x2=\"12.794\" y2=\"147.747\" stroke-linecap=\"round\" style=\"stroke:black;stroke-width:12\"/><line x1=\"12.794\" y1=\"147.747\" x2=\"19.222\" y2=\"140.087\" stroke-linecap=\"round\" style=\"stroke:black;stroke-width:12\"/><line x1=\"19.222\" y1=\"140.087\" x2=\"25.65\" y2=\"132.427\" stroke-linecap=\"round\" style=\"stroke:black;stroke-width:12\"/><line x1=\"25.65\" y1=\"132.427\" x2=\"32.078\" y2=\"124.767\" stroke-linecap=\"round\" style=\"stroke:black;stroke-width:12\"/><line x1=\"32.078\" y1=\"124.767\" x2=\"38.506\" y2=\"117.107\" stroke-linecap=\"round\" style=\"stroke:black;stroke-width:12\"/><line x1=\"38.506\" y1=\"117.107\" x2=\"44.934\" y2=\"109.447\" stroke-linecap=\"round\" style=\"stroke:black;stroke-width:12\"/><line x1=\"44.934\" y1=\"109.447\" x2=\"51.362\" y2=\"101.787\" stroke-linecap=\"round\" style=\"stroke:black;stroke-width:12\"/><line x1=\"51.362\" y1=\"101.787\" x2=\"57.79\" y2=\"94.127\" stroke-linecap=\"round\" style=\"stroke:black;stroke-width:12\"/><line x1=\"57.79\" y1=\"94.127\" x2=\"64.218\" y2=\"86.467\" stroke-linecap=\"round\" style=\"stroke:black;stroke-width:12\"/><line x1=\"64.218\" y1=\"86.467\" x2=\"70.646\" y2=\"78.807\" stroke-linecap=\"round\" style=\"stroke:black;stroke-width:12\"/><line x1=\"70.646\" y1=\"78.807\" x2=\"77.074\" y2=\"71.147\" stroke-linecap=\"round\" style=\"stroke:black;stroke-width:12\"/><line x1=\"77.074\" y1=\"71.147\" x2=\"83.502\" y2=\"63.487\" stroke-linecap=\"round\" style=\"stroke:black;stroke-width:12\"/><line x1=\"83.502\" y1=\"63.487\" x2=\"89.93\" y2=\"55.827\" stroke-linecap=\"round\" style=\"stroke:black;stroke-width:12\"/><line x1=\"89.93\" y1=\"55.827\" x2=\"96.358\" y2=\"48.167\" stroke-linecap=\"round\" style=\"stroke:black;stroke-width:12\"/><line x1=\"96.358\" y1=\"48.167\" x2=\"102.786\" y2=\"40.507\" stroke-linecap=\"round\" style=\"stroke:black;stroke-width:12\"/><line x1=\"102.786\" y1=\"40.507\" x2=\"109.214\" y2=\"32.847\" stroke-linecap=\"round\" style=\"stroke:black;stroke-width:12\"/><line x1=\"109.214\" y1=\"32.847\" x2=\"115.642\" y2=\"25.187\" stroke-linecap=\"round\" style=\"stroke:black;stroke-width:12\"/><line x1=\"115.642\" y1=\"25.187\" x2=\"122.07\" y2=\"17.527\" stroke-linecap=\"round\" style=\"stroke:black;stroke-width:12\"/><line x1=\"122.07\" y1=\"17.527\" x2=\"128.498\" y2=\"9.867\" stroke-linecap=\"round\" style=\"stroke:black;stroke-width:12\"/><line x1=\"128.498\" y1=\"9.867\" x2=\"134.926\" y2=\"2.207\" stroke-linecap=\"round\" style=\"stroke:black;stroke-width:12\"/><line x1=\"134.926\" y1=\"2.207\" x2=\"141.354\" y2=\"-5.453\" stroke-linecap=\"round\" style=\"stroke:black;stroke-width:12\"/><line x1=\"141.354\" y1=\"-5.453\" x2=\"150.996\" y2=\"6.038\" stroke-linecap=\"round\" style=\"stroke:black;stroke-width:12\"/><line x1=\"150.996\" y1=\"6.038\" x2=\"157.424\" y2=\"13.698\" stroke-linecap=\"round\" style=\"stroke:black;stroke-width:12\"/><line x1=\"157.424\" y1=\"13.698\" x2=\"163.852\" y2=\"21.358\" stroke-linecap=\"round\" style=\"stroke:black;stroke-width:12\"/><line x1=\"163.852\" y1=\"21.358\" x2=\"170.28\" y2=\"29.018\" stroke-linecap=\"round\" style=\"stroke:black;stroke-width:12\"/><line x1=\"170.28\" y1=\"29.018\" x2=\"176.708\" y2=\"36.678\" stroke-linecap=\"round\" style=\"stroke:black;stroke-width:12\"/><line x1=\"176.708\" y1=\"36.678\" x2=\"183.136\" y2=\"44.338\" stroke-linecap=\"round\" style=\"stroke:black;stroke-width:12\"/><line x1=\"183.136\" y1=\"44.338\" x2=\"189.564\" y2=\"51.998\" stroke-linecap=\"round\" style=\"stroke:black;stroke-width:12\"/><line x1=\"189.564\" y1=\"51.998\" x2=\"195.992\" y2=\"59.658\" stroke-linecap=\"round\" style=\"stroke:black;stroke-width:12\"/><line x1=\"195.992\" y1=\"59.658\" x2=\"202.42\" y2=\"67.318\" stroke-linecap=\"round\" style=\"stroke:black;stroke-width:12\"/><line x1=\"202.42\" y1=\"67.318\" x2=\"208.848\" y2=\"74.978\" stroke-linecap=\"round\" style=\"stroke:black;stroke-width:12\"/><line x1=\"208.848\" y1=\"74.978\" x2=\"215.276\" y2=\"82.638\" stroke-linecap=\"round\" style=\"stroke:black;stroke-width:12\"/><line x1=\"215.276\" y1=\"82.638\" x2=\"221.704\" y2=\"90.298\" stroke-linecap=\"round\" style=\"stroke:black;stroke-width:12\"/><line x1=\"221.704\" y1=\"90.298\" x2=\"228.132\" y2=\"97.958\" stroke-linecap=\"round\" style=\"stroke:black;stroke-width:12\"/><line x1=\"228.132\" y1=\"97.958\" x2=\"234.56\" y2=\"105.618\" stroke-linecap=\"round\" style=\"stroke:black;stroke-width:12\"/><line x1=\"234.56\" y1=\"105.618\" x2=\"240.988\" y2=\"113.278\" stroke-linecap=\"round\" style=\"stroke:black;stroke-width:12\"/><line x1=\"240.988\" y1=\"113.278\" x2=\"247.416\" y2=\"120.938\" stroke-linecap=\"round\" style=\"stroke:black;stroke-width:12\"/><line x1=\"247.416\" y1=\"120.938\" x2=\"253.844\" y2=\"128.598\" stroke-linecap=\"round\" style=\"stroke:black;stroke-width:12\"/><line x1=\"253.844\" y1=\"128.598\" x2=\"260.272\" y2=\"136.258\" stroke-linecap=\"round\" style=\"stroke:black;stroke-width:12\"/><line x1=\"260.272\" y1=\"136.258\" x2=\"266.7\" y2=\"143.918\" stroke-linecap=\"round\" style=\"stroke:black;stroke-width:12\"/><line x1=\"266.7\" y1=\"143.918\" x2=\"273.128\" y2=\"151.578\" stroke-linecap=\"round\" style=\"stroke:black;stroke-width:12\"/><line x1=\"273.128\" y1=\"151.578\" x2=\"279.556\" y2=\"159.238\" stroke-linecap=\"round\" style=\"stroke:black;stroke-width:12\"/><line x1=\"279.556\" y1=\"159.238\" x2=\"285.984\" y2=\"166.898\" stroke-linecap=\"round\" style=\"stroke:black;stroke-width:12\"/><line x1=\"285.984\" y1=\"166.898\" x2=\"292.412\" y2=\"174.558\" stroke-linecap=\"round\" style=\"stroke:black;stroke-width:12\"/><line x1=\"292.412\" y1=\"174.558\" x2=\"298.84\" y2=\"182.218\" stroke-linecap=\"round\" style=\"stroke:black;stroke-width:12\"/><line x1=\"298.84\" y1=\"182.218\" x2=\"305.268\" y2=\"189.878\" stroke-linecap=\"round\" style=\"stroke:black;stroke-width:12\"/><line x1=\"305.268\" y1=\"189.878\" x2=\"311.696\" y2=\"197.538\" stroke-linecap=\"round\" style=\"stroke:black;stroke-width:12\"/><line x1=\"311.696\" y1=\"197.538\" x2=\"318.124\" y2=\"205.198\" stroke-linecap=\"round\" style=\"stroke:black;stroke-width:12\"/><line x1=\"318.124\" y1=\"205.198\" x2=\"324.552\" y2=\"212.858\" stroke-linecap=\"round\" style=\"stroke:black;stroke-width:12\"/><line x1=\"324.552\" y1=\"212.858\" x2=\"330.98\" y2=\"220.518\" stroke-linecap=\"round\" style=\"stroke:black;stroke-width:12\"/><line x1=\"330.98\" y1=\"220.518\" x2=\"337.408\" y2=\"228.178\" stroke-linecap=\"round\" style=\"stroke:black;stroke-width:12\"/><line x1=\"337.408\" y1=\"228.178\" x2=\"343.836\" y2=\"235.838\" stroke-linecap=\"round\" style=\"stroke:black;stroke-width:12\"/><line x1=\"343.836\" y1=\"235.838\" x2=\"350.264\" y2=\"243.498\" stroke-linecap=\"round\" style=\"stroke:black;stroke-width:12\"/><line x1=\"350.264\" y1=\"243.498\" x2=\"356.692\" y2=\"251.158\" stroke-linecap=\"round\" style=\"stroke:black;stroke-width:12\"/><line x1=\"356.692\" y1=\"251.158\" x2=\"363.12\" y2=\"258.818\" stroke-linecap=\"round\" style=\"stroke:black;stroke-width:12\"/><line x1=\"363.12\" y1=\"258.818\" x2=\"369.548\" y2=\"266.478\" stroke-linecap=\"round\" style=\"stroke:black;stroke-width:12\"/><line x1=\"369.548\" y1=\"266.478\" x2=\"375.976\" y2=\"274.138\" stroke-linecap=\"round\" style=\"stroke:black;stroke-width:12\"/><line x1=\"375.976\" y1=\"274.138\" x2=\"382.404\" y2=\"281.798\" stroke-linecap=\"round\" style=\"stroke:black;stroke-width:12\"/><line x1=\"382.404\" y1=\"281.798\" x2=\"388.832\" y2=\"289.458\" stroke-linecap=\"round\" style=\"stroke:black;stroke-width:12\"/><line x1=\"388.832\" y1=\"289.458\" x2=\"395.26\" y2=\"297.118\" stroke-linecap=\"round\" style=\"stroke:black;stroke-width:12\"/><line x1=\"395.26\" y1=\"297.118\" x2=\"401.688\" y2=\"304.778\" stroke-linecap=\"round\" style=\"stroke:black;stroke-width:12\"/><line x1=\"401.688\" y1=\"304.778\" x2=\"408.116\" y2=\"312.438\" stroke-linecap=\"round\" style=\"stroke:black;stroke-width:12\"/><line x1=\"408.116\" y1=\"312.438\" x2=\"414.544\" y2=\"320.098\" stroke-linecap=\"round\" style=\"stroke:black;stroke-width:12\"/><line x1=\"414.544\" y1=\"320.098\" x2=\"420.972\" y2=\"327.758\" stroke-linecap=\"round\" style=\"stroke:black;stroke-width:12\"/><line x1=\"420.972\" y1=\"327.758\" x2=\"427.4\" y2=\"335.418\" stroke-linecap=\"round\" style=\"stroke:black;stroke-width:12\"/><line x1=\"427.4\" y1=\"335.418\" x2=\"433.828\" y2=\"343.078\" stroke-linecap=\"round\" style=\"stroke:black;stroke-width:12\"/><line x1=\"433.828\" y1=\"343.078\" x2=\"440.256\" y2=\"350.738\" stroke-linecap=\"round\" style=\"stroke:black;stroke-width:12\"/><line x1=\"440.256\" y1=\"350.738\" x2=\"446.684\" y2=\"358.398\" stroke-linecap=\"round\" style=\"stroke:black;stroke-width:12\"/><line x1=\"446.684\" y1=\"358.398\" x2=\"453.112\" y2=\"366.058\" stroke-linecap=\"round\" style=\"stroke:black;stroke-width:12\"/><line x1=\"453.112\" y1=\"366.058\" x2=\"459.54\" y2=\"373.718\" stroke-linecap=\"round\" style=\"stroke:black;stroke-width:12\"/><line x1=\"459.54\" y1=\"373.718\" x2=\"465.968\" y2=\"381.378\" stroke-linecap=\"round\" style=\"stroke:black;stroke-width:12\"/><line x1=\"465.968\" y1=\"381.378\" x2=\"472.396\" y2=\"389.038\" stroke-linecap=\"round\" style=\"stroke:black;stroke-width:12\"/><line x1=\"472.396\" y1=\"389.038\" x2=\"478.824\" y2=\"396.698\" stroke-linecap=\"round\" style=\"stroke:black;stroke-width:12\"/><line x1=\"478.824\" y1=\"396.698\" x2=\"485.252\" y2=\"404.358\" stroke-linecap=\"round\" style=\"stroke:black;stroke-width:12\"/><line x1=\"485.252\" y1=\"404.358\" x2=\"491.68\" y2=\"412.018\" stroke-linecap=\"round\" style=\"stroke:black;stroke-width:12\"/><line x1=\"491.68\" y1=\"412.018\" x2=\"498.108\" y2=\"419.678\" stroke-linecap=\"round\" style=\"stroke:black;stroke-width:12\"/><line x1=\"498.108\" y1=\"419.678\" x2=\"504.536\" y2=\"427.338\" stroke-linecap=\"round\" style=\"stroke:black;stroke-width:12\"/><line x1=\"504.536\" y1=\"427.338\" x2=\"510.964\" y2=\"434.998\" stroke-linecap=\"round\" style=\"stroke:black;stroke-width:12\"/><line x1=\"510.964\" y1=\"434.998\" x2=\"517.392\" y2=\"442.658\" stroke-linecap=\"round\" style=\"stroke:black;stroke-width:12\"/><line x1=\"517.392\" y1=\"442.658\" x2=\"523.82\" y2=\"450.318\" stroke-linecap=\"round\" style=\"stroke:black;stroke-width:12\"/><line x1=\"523.82\" y1=\"450.318\" x2=\"530.248\" y2=\"457.978\" stroke-linecap=\"round\" style=\"stroke:black;stroke-width:12\"/><line x1=\"530.248\" y1=\"457.978\" x2=\"536.676\" y2=\"465.638\" stroke-linecap=\"round\" style=\"stroke:black;stroke-width:12\"/><line x1=\"536.676\" y1=\"465.638\" x2=\"543.104\" y2=\"473.298\" stroke-linecap=\"round\" style=\"stroke:black;stroke-width:12\"/><line x1=\"543.104\" y1=\"473.298\" x2=\"549.532\" y2=\"480.958\" stroke-linecap=\"round\" style=\"stroke:black;stroke-width:12\"/><line x1=\"549.532\" y1=\"480.958\" x2=\"555.96\" y2=\"488.618\" stroke-linecap=\"round\" style=\"stroke:black;stroke-width:12\"/><line x1=\"555.96\" y1=\"488.618\" x2=\"562.388\" y2=\"496.278\" stroke-linecap=\"round\" style=\"stroke:black;stroke-width:12\"/><line x1=\"562.388\" y1=\"496.278\" x2=\"568.816\" y2=\"503.938\" stroke-linecap=\"round\" style=\"stroke:black;stroke-width:12\"/><line x1=\"568.816\" y1=\"503.938\" x2=\"578.458\" y2=\"492.447\" stroke-linecap=\"round\" style=\"stroke:black;stroke-width:12\"/><line x1=\"578.458\" y1=\"492.447\" x2=\"584.886\" y2=\"484.787\" stroke-linecap=\"round\" style=\"stroke:black;stroke-width:12\"/><line x1=\"584.886\" y1=\"484.787\" x2=\"591.314\" y2=\"477.127\" stroke-linecap=\"round\" style=\"stroke:black;stroke-width:12\"/><line x1=\"591.314\" y1=\"477.127\" x2=\"597.742\" y2=\"469.467\" stroke-linecap=\"round\" style=\"stroke:black;stroke-width:12\"/><line x1=\"597.742\" y1=\"469.467\" x2=\"604.17\" y2=\"461.807\" stroke-linecap=\"round\" style=\"stroke:black;stroke-width:12\"/><line x1=\"604.17\" y1=\"461.807\" x2=\"610.598\" y2=\"454.147\" stroke-linecap=\"round\" style=\"stroke:black;stroke-width:12\"/><line x1=\"610.598\" y1=\"454.147\" x2=\"617.026\" y2=\"446.487\" stroke-linecap=\"round\" style=\"stroke:black;stroke-width:12\"/><line x1=\"617.026\" y1=\"446.487\" x2=\"623.454\" y2=\"438.827\" stroke-linecap=\"round\" style=\"stroke:black;stroke-width:12\"/><line x1=\"623.454\" y1=\"438.827\" x2=\"629.882\" y2=\"431.167\" stroke-linecap=\"round\" style=\"stroke:black;stroke-width:12\"/><line x1=\"629.882\" y1=\"431.167\" x2=\"636.31\" y2=\"423.507\" stroke-linecap=\"round\" style=\"stroke:black;stroke-width:12\"/><line x1=\"636.31\" y1=\"423.507\" x2=\"642.738\" y2=\"415.847\" stroke-linecap=\"round\" style=\"stroke:black;stroke-width:12\"/><line x1=\"642.738\" y1=\"415.847\" x2=\"649.166\" y2=\"408.187\" stroke-linecap=\"round\" style=\"stroke:black;stroke-width:12\"/><line x1=\"649.166\" y1=\"408.187\" x2=\"655.594\" y2=\"400.527\" stroke-linecap=\"round\" style=\"stroke:black;stroke-width:12\"/><line x1=\"655.594\" y1=\"400.527\" x2=\"662.022\" y2=\"392.867\" stroke-linecap=\"round\" style=\"stroke:black;stroke-width:12\"/><line x1=\"662.022\" y1=\"392.867\" x2=\"668.45\" y2=\"385.207\" stroke-linecap=\"round\" style=\"stroke:black;stroke-width:12\"/><line x1=\"668.45\" y1=\"385.207\" x2=\"674.878\" y2=\"377.547\" stroke-linecap=\"round\" style=\"stroke:black;stroke-width:12\"/><line x1=\"674.878\" y1=\"377.547\" x2=\"681.306\" y2=\"369.887\" stroke-linecap=\"round\" style=\"stroke:black;stroke-width:12\"/><line x1=\"681.306\" y1=\"369.887\" x2=\"687.734\" y2=\"362.227\" stroke-linecap=\"round\" style=\"stroke:black;stroke-width:12\"/><line x1=\"687.734\" y1=\"362.227\" x2=\"694.162\" y2=\"354.567\" stroke-linecap=\"round\" style=\"stroke:black;stroke-width:12\"/><line x1=\"694.162\" y1=\"354.567\" x2=\"700.59\" y2=\"346.907\" stroke-linecap=\"round\" style=\"stroke:black;stroke-width:12\"/><line x1=\"700.59\" y1=\"346.907\" x2=\"707.018\" y2=\"339.247\" stroke-linecap=\"round\" style=\"stroke:black;stroke-width:12\"/><line x1=\"707.018\" y1=\"339.247\" x2=\"713.446\" y2=\"331.587\" stroke-linecap=\"round\" style=\"stroke:black;stroke-width:12\"/><line x1=\"713.446\" y1=\"331.587\" x2=\"719.874\" y2=\"323.927\" stroke-linecap=\"round\" style=\"stroke:black;stroke-width:12\"/><line x1=\"719.874\" y1=\"323.927\" x2=\"726.302\" y2=\"316.267\" stroke-linecap=\"round\" style=\"stroke:black;stroke-width:12\"/><line x1=\"726.302\" y1=\"316.267\" x2=\"732.73\" y2=\"308.607\" stroke-linecap=\"round\" style=\"stroke:black;stroke-width:12\"/><line x1=\"732.73\" y1=\"308.607\" x2=\"739.158\" y2=\"300.947\" stroke-linecap=\"round\" style=\"stroke:black;stroke-width:12\"/><line x1=\"739.158\" y1=\"300.947\" x2=\"745.586\" y2=\"293.287\" stroke-linecap=\"round\" style=\"stroke:black;stroke-width:12\"/><line x1=\"745.586\" y1=\"293.287\" x2=\"752.014\" y2=\"285.627\" stroke-linecap=\"round\" style=\"stroke:black;stroke-width:12\"/><line x1=\"752.014\" y1=\"285.627\" x2=\"758.442\" y2=\"277.967\" stroke-linecap=\"round\" style=\"stroke:black;stroke-width:12\"/><line x1=\"758.442\" y1=\"277.967\" x2=\"764.87\" y2=\"270.307\" stroke-linecap=\"round\" style=\"stroke:black;stroke-width:12\"/><line x1=\"764.87\" y1=\"270.307\" x2=\"771.298\" y2=\"262.647\" stroke-linecap=\"round\" style=\"stroke:black;stroke-width:12\"/><line x1=\"771.298\" y1=\"262.647\" x2=\"777.726\" y2=\"254.987\" stroke-linecap=\"round\" style=\"stroke:black;stroke-width:12\"/><line x1=\"777.726\" y1=\"254.987\" x2=\"784.154\" y2=\"247.327\" stroke-linecap=\"round\" style=\"stroke:black;stroke-width:12\"/><line x1=\"784.154\" y1=\"247.327\" x2=\"790.582\" y2=\"239.667\" stroke-linecap=\"round\" style=\"stroke:black;stroke-width:12\"/><line x1=\"790.582\" y1=\"239.667\" x2=\"797.01\" y2=\"232.007\" stroke-linecap=\"round\" style=\"stroke:black;stroke-width:12\"/><line x1=\"797.01\" y1=\"232.007\" x2=\"803.438\" y2=\"224.347\" stroke-linecap=\"round\" style=\"stroke:black;stroke-width:12\"/><line x1=\"803.438\" y1=\"224.347\" x2=\"793.796\" y2=\"212.856\" stroke-linecap=\"round\" style=\"stroke:black;stroke-width:12\"/><line x1=\"793.796\" y1=\"212.856\" x2=\"787.368\" y2=\"205.196\" stroke-linecap=\"round\" style=\"stroke:black;stroke-width:12\"/><line x1=\"787.368\" y1=\"205.196\" x2=\"780.94\" y2=\"197.536\" stroke-linecap=\"round\" style=\"stroke:black;stroke-width:12\"/><line x1=\"780.94\" y1=\"197.536\" x2=\"774.512\" y2=\"189.876\" stroke-linecap=\"round\" style=\"stroke:black;stroke-width:12\"/><line x1=\"774.512\" y1=\"189.876\" x2=\"768.084\" y2=\"182.216\" stroke-linecap=\"round\" style=\"stroke:black;stroke-width:12\"/><line x1=\"768.084\" y1=\"182.216\" x2=\"761.656\" y2=\"174.556\" stroke-linecap=\"round\" style=\"stroke:black;stroke-width:12\"/><line x1=\"761.656\" y1=\"174.556\" x2=\"755.228\" y2=\"166.896\" stroke-linecap=\"round\" style=\"stroke:black;stroke-width:12\"/><line x1=\"755.228\" y1=\"166.896\" x2=\"748.8\" y2=\"159.236\" stroke-linecap=\"round\" style=\"stroke:black;stroke-width:12\"/><line x1=\"748.8\" y1=\"159.236\" x2=\"742.372\" y2=\"151.576\" stroke-linecap=\"round\" style=\"stroke:black;stroke-width:12\"/><line x1=\"742.372\" y1=\"151.576\" x2=\"735.944\" y2=\"143.916\" stroke-linecap=\"round\" style=\"stroke:black;stroke-width:12\"/><line x1=\"735.944\" y1=\"143.916\" x2=\"729.516\" y2=\"136.256\" stroke-linecap=\"round\" style=\"stroke:black;stroke-width:12\"/><line x1=\"729.516\" y1=\"136.256\" x2=\"723.088\" y2=\"128.596\" stroke-linecap=\"round\" style=\"stroke:black;stroke-width:12\"/><line x1=\"723.088\" y1=\"128.596\" x2=\"716.66\" y2=\"120.936\" stroke-linecap=\"round\" style=\"stroke:black;stroke-width:12\"/><line x1=\"716.66\" y1=\"120.936\" x2=\"710.232\" y2=\"113.276\" stroke-linecap=\"round\" style=\"stroke:black;stroke-width:12\"/><line x1=\"710.232\" y1=\"113.276\" x2=\"703.804\" y2=\"105.616\" stroke-linecap=\"round\" style=\"stroke:black;stroke-width:12\"/><line x1=\"703.804\" y1=\"105.616\" x2=\"697.376\" y2=\"97.956\" stroke-linecap=\"round\" style=\"stroke:black;stroke-width:12\"/><line x1=\"697.376\" y1=\"97.956\" x2=\"690.948\" y2=\"90.296\" stroke-linecap=\"round\" style=\"stroke:black;stroke-width:12\"/><line x1=\"690.948\" y1=\"90.296\" x2=\"684.52\" y2=\"82.636\" stroke-linecap=\"round\" style=\"stroke:black;stroke-width:12\"/><line x1=\"684.52\" y1=\"82.636\" x2=\"678.092\" y2=\"74.976\" stroke-linecap=\"round\" style=\"stroke:black;stroke-width:12\"/><line x1=\"678.092\" y1=\"74.976\" x2=\"671.664\" y2=\"67.316\" stroke-linecap=\"round\" style=\"stroke:black;stroke-width:12\"/><line x1=\"671.664\" y1=\"67.316\" x2=\"665.236\" y2=\"59.656\" stroke-linecap=\"round\" style=\"stroke:black;stroke-width:12\"/><line x1=\"665.236\" y1=\"59.656\" x2=\"658.808\" y2=\"51.996\" stroke-linecap=\"round\" style=\"stroke:black;stroke-width:12\"/><line x1=\"658.808\" y1=\"51.996\" x2=\"652.38\" y2=\"44.336\" stroke-linecap=\"round\" style=\"stroke:black;stroke-width:12\"/><line x1=\"652.38\" y1=\"44.336\" x2=\"645.952\" y2=\"36.676\" stroke-linecap=\"round\" style=\"stroke:black;stroke-width:12\"/><line x1=\"645.952\" y1=\"36.676\" x2=\"639.524\" y2=\"29.016\" stroke-linecap=\"round\" style=\"stroke:black;stroke-width:12\"/><line x1=\"639.524\" y1=\"29.016\" x2=\"633.096\" y2=\"21.356\" stroke-linecap=\"round\" style=\"stroke:black;stroke-width:12\"/><line x1=\"633.096\" y1=\"21.356\" x2=\"626.668\" y2=\"13.696\" stroke-linecap=\"round\" style=\"stroke:black;stroke-width:12\"/><line x1=\"626.668\" y1=\"13.696\" x2=\"620.24\" y2=\"6.036\" stroke-linecap=\"round\" style=\"stroke:black;stroke-width:12\"/><line x1=\"620.24\" y1=\"6.036\" x2=\"613.812\" y2=\"-1.624\" stroke-linecap=\"round\" style=\"stroke:black;stroke-width:12\"/><line x1=\"613.812\" y1=\"-1.624\" x2=\"604.17\" y2=\"9.867\" stroke-linecap=\"round\" style=\"stroke:black;stroke-width:12\"/><line x1=\"604.17\" y1=\"9.867\" x2=\"597.742\" y2=\"17.527\" stroke-linecap=\"round\" style=\"stroke:black;stroke-width:12\"/><line x1=\"597.742\" y1=\"17.527\" x2=\"591.314\" y2=\"25.187\" stroke-linecap=\"round\" style=\"stroke:black;stroke-width:12\"/><line x1=\"591.314\" y1=\"25.187\" x2=\"584.886\" y2=\"32.847\" stroke-linecap=\"round\" style=\"stroke:black;stroke-width:12\"/><line x1=\"584.886\" y1=\"32.847\" x2=\"578.458\" y2=\"40.507\" stroke-linecap=\"round\" style=\"stroke:black;stroke-width:12\"/><line x1=\"578.458\" y1=\"40.507\" x2=\"572.03\" y2=\"48.167\" stroke-linecap=\"round\" style=\"stroke:black;stroke-width:12\"/><line x1=\"572.03\" y1=\"48.167\" x2=\"565.602\" y2=\"55.827\" stroke-linecap=\"round\" style=\"stroke:black;stroke-width:12\"/><line x1=\"565.602\" y1=\"55.827\" x2=\"559.174\" y2=\"63.487\" stroke-linecap=\"round\" style=\"stroke:black;stroke-width:12\"/><line x1=\"559.174\" y1=\"63.487\" x2=\"552.746\" y2=\"71.147\" stroke-linecap=\"round\" style=\"stroke:black;stroke-width:12\"/><line x1=\"552.746\" y1=\"71.147\" x2=\"546.318\" y2=\"78.807\" stroke-linecap=\"round\" style=\"stroke:black;stroke-width:12\"/><line x1=\"546.318\" y1=\"78.807\" x2=\"539.89\" y2=\"86.467\" stroke-linecap=\"round\" style=\"stroke:black;stroke-width:12\"/><line x1=\"539.89\" y1=\"86.467\" x2=\"533.462\" y2=\"94.127\" stroke-linecap=\"round\" style=\"stroke:black;stroke-width:12\"/><line x1=\"533.462\" y1=\"94.127\" x2=\"527.034\" y2=\"101.787\" stroke-linecap=\"round\" style=\"stroke:black;stroke-width:12\"/><line x1=\"527.034\" y1=\"101.787\" x2=\"520.606\" y2=\"109.447\" stroke-linecap=\"round\" style=\"stroke:black;stroke-width:12\"/><line x1=\"520.606\" y1=\"109.447\" x2=\"514.178\" y2=\"117.107\" stroke-linecap=\"round\" style=\"stroke:black;stroke-width:12\"/><line x1=\"514.178\" y1=\"117.107\" x2=\"507.75\" y2=\"124.767\" stroke-linecap=\"round\" style=\"stroke:black;stroke-width:12\"/><line x1=\"507.75\" y1=\"124.767\" x2=\"501.322\" y2=\"132.427\" stroke-linecap=\"round\" style=\"stroke:black;stroke-width:12\"/><line x1=\"501.322\" y1=\"132.427\" x2=\"494.894\" y2=\"140.087\" stroke-linecap=\"round\" style=\"stroke:black;stroke-width:12\"/><line x1=\"494.894\" y1=\"140.087\" x2=\"488.466\" y2=\"147.747\" stroke-linecap=\"round\" style=\"stroke:black;stroke-width:12\"/><line x1=\"488.466\" y1=\"147.747\" x2=\"482.038\" y2=\"155.407\" stroke-linecap=\"round\" style=\"stroke:black;stroke-width:12\"/><line x1=\"482.038\" y1=\"155.407\" x2=\"475.61\" y2=\"163.067\" stroke-linecap=\"round\" style=\"stroke:black;stroke-width:12\"/><line x1=\"475.61\" y1=\"163.067\" x2=\"469.182\" y2=\"170.727\" stroke-linecap=\"round\" style=\"stroke:black;stroke-width:12\"/><line x1=\"469.182\" y1=\"170.727\" x2=\"462.754\" y2=\"178.387\" stroke-linecap=\"round\" style=\"stroke:black;stroke-width:12\"/><line x1=\"462.754\" y1=\"178.387\" x2=\"456.326\" y2=\"186.047\" stroke-linecap=\"round\" style=\"stroke:black;stroke-width:12\"/><line x1=\"456.326\" y1=\"186.047\" x2=\"449.898\" y2=\"193.707\" stroke-linecap=\"round\" style=\"stroke:black;stroke-width:12\"/><line x1=\"449.898\" y1=\"193.707\" x2=\"443.47\" y2=\"201.367\" stroke-linecap=\"round\" style=\"stroke:black;stroke-width:12\"/><line x1=\"443.47\" y1=\"201.367\" x2=\"437.042\" y2=\"209.027\" stroke-linecap=\"round\" style=\"stroke:black;stroke-width:12\"/><line x1=\"437.042\" y1=\"209.027\" x2=\"430.614\" y2=\"216.687\" stroke-linecap=\"round\" style=\"stroke:black;stroke-width:12\"/><line x1=\"430.614\" y1=\"216.687\" x2=\"424.186\" y2=\"224.347\" stroke-linecap=\"round\" style=\"stroke:black;stroke-width:12\"/><line x1=\"424.186\" y1=\"224.347\" x2=\"417.758\" y2=\"232.007\" stroke-linecap=\"round\" style=\"stroke:black;stroke-width:12\"/><line x1=\"417.758\" y1=\"232.007\" x2=\"411.33\" y2=\"239.667\" stroke-linecap=\"round\" style=\"stroke:black;stroke-width:12\"/><line x1=\"411.33\" y1=\"239.667\" x2=\"404.902\" y2=\"247.327\" stroke-linecap=\"round\" style=\"stroke:black;stroke-width:12\"/><line x1=\"404.902\" y1=\"247.327\" x2=\"398.474\" y2=\"254.987\" stroke-linecap=\"round\" style=\"stroke:black;stroke-width:12\"/><line x1=\"398.474\" y1=\"254.987\" x2=\"392.046\" y2=\"262.647\" stroke-linecap=\"round\" style=\"stroke:black;stroke-width:12\"/><line x1=\"392.046\" y1=\"262.647\" x2=\"385.618\" y2=\"270.307\" stroke-linecap=\"round\" style=\"stroke:black;stroke-width:12\"/><line x1=\"385.618\" y1=\"270.307\" x2=\"379.19\" y2=\"277.967\" stroke-linecap=\"round\" style=\"stroke:black;stroke-width:12\"/><line x1=\"379.19\" y1=\"277.967\" x2=\"372.762\" y2=\"285.627\" stroke-linecap=\"round\" style=\"stroke:black;stroke-width:12\"/><line x1=\"372.762\" y1=\"285.627\" x2=\"366.334\" y2=\"293.287\" stroke-linecap=\"round\" style=\"stroke:black;stroke-width:12\"/><line x1=\"366.334\" y1=\"293.287\" x2=\"359.906\" y2=\"300.947\" stroke-linecap=\"round\" style=\"stroke:black;stroke-width:12\"/><line x1=\"359.906\" y1=\"300.947\" x2=\"353.478\" y2=\"308.607\" stroke-linecap=\"round\" style=\"stroke:black;stroke-width:12\"/><line x1=\"353.478\" y1=\"308.607\" x2=\"347.05\" y2=\"316.267\" stroke-linecap=\"round\" style=\"stroke:black;stroke-width:12\"/><line x1=\"347.05\" y1=\"316.267\" x2=\"340.622\" y2=\"323.927\" stroke-linecap=\"round\" style=\"stroke:black;stroke-width:12\"/><line x1=\"340.622\" y1=\"323.927\" x2=\"334.194\" y2=\"331.587\" stroke-linecap=\"round\" style=\"stroke:black;stroke-width:12\"/><line x1=\"334.194\" y1=\"331.587\" x2=\"327.766\" y2=\"339.247\" stroke-linecap=\"round\" style=\"stroke:black;stroke-width:12\"/><line x1=\"327.766\" y1=\"339.247\" x2=\"321.338\" y2=\"346.907\" stroke-linecap=\"round\" style=\"stroke:black;stroke-width:12\"/><line x1=\"321.338\" y1=\"346.907\" x2=\"314.91\" y2=\"354.567\" stroke-linecap=\"round\" style=\"stroke:black;stroke-width:12\"/><line x1=\"314.91\" y1=\"354.567\" x2=\"308.482\" y2=\"362.227\" stroke-linecap=\"round\" style=\"stroke:black;stroke-width:12\"/><line x1=\"308.482\" y1=\"362.227\" x2=\"302.054\" y2=\"369.887\" stroke-linecap=\"round\" style=\"stroke:black;stroke-width:12\"/><line x1=\"302.054\" y1=\"369.887\" x2=\"295.626\" y2=\"377.547\" stroke-linecap=\"round\" style=\"stroke:black;stroke-width:12\"/><line x1=\"295.626\" y1=\"377.547\" x2=\"289.198\" y2=\"385.207\" stroke-linecap=\"round\" style=\"stroke:black;stroke-width:12\"/><line x1=\"289.198\" y1=\"385.207\" x2=\"282.77\" y2=\"392.867\" stroke-linecap=\"round\" style=\"stroke:black;stroke-width:12\"/><line x1=\"282.77\" y1=\"392.867\" x2=\"276.342\" y2=\"400.527\" stroke-linecap=\"round\" style=\"stroke:black;stroke-width:12\"/><line x1=\"276.342\" y1=\"400.527\" x2=\"269.914\" y2=\"408.187\" stroke-linecap=\"round\" style=\"stroke:black;stroke-width:12\"/><line x1=\"269.914\" y1=\"408.187\" x2=\"263.486\" y2=\"415.847\" stroke-linecap=\"round\" style=\"stroke:black;stroke-width:12\"/><line x1=\"263.486\" y1=\"415.847\" x2=\"257.058\" y2=\"423.507\" stroke-linecap=\"round\" style=\"stroke:black;stroke-width:12\"/><line x1=\"257.058\" y1=\"423.507\" x2=\"250.63\" y2=\"431.167\" stroke-linecap=\"round\" style=\"stroke:black;stroke-width:12\"/><line x1=\"250.63\" y1=\"431.167\" x2=\"244.202\" y2=\"438.827\" stroke-linecap=\"round\" style=\"stroke:black;stroke-width:12\"/><line x1=\"244.202\" y1=\"438.827\" x2=\"237.774\" y2=\"446.487\" stroke-linecap=\"round\" style=\"stroke:black;stroke-width:12\"/><line x1=\"237.774\" y1=\"446.487\" x2=\"231.346\" y2=\"454.147\" stroke-linecap=\"round\" style=\"stroke:black;stroke-width:12\"/><line x1=\"231.346\" y1=\"454.147\" x2=\"224.918\" y2=\"461.807\" stroke-linecap=\"round\" style=\"stroke:black;stroke-width:12\"/><line x1=\"224.918\" y1=\"461.807\" x2=\"218.49\" y2=\"469.467\" stroke-linecap=\"round\" style=\"stroke:black;stroke-width:12\"/><line x1=\"218.49\" y1=\"469.467\" x2=\"212.062\" y2=\"477.127\" stroke-linecap=\"round\" style=\"stroke:black;stroke-width:12\"/><line x1=\"212.062\" y1=\"477.127\" x2=\"205.634\" y2=\"484.787\" stroke-linecap=\"round\" style=\"stroke:black;stroke-width:12\"/><line x1=\"205.634\" y1=\"484.787\" x2=\"199.206\" y2=\"492.447\" stroke-linecap=\"round\" style=\"stroke:black;stroke-width:12\"/><line x1=\"199.206\" y1=\"492.447\" x2=\"192.778\" y2=\"500.107\" stroke-linecap=\"round\" style=\"stroke:black;stroke-width:12\"/><line x1=\"192.778\" y1=\"500.107\" x2=\"183.136\" y2=\"488.616\" stroke-linecap=\"round\" style=\"stroke:black;stroke-width:12\"/><line x1=\"183.136\" y1=\"488.616\" x2=\"176.708\" y2=\"480.956\" stroke-linecap=\"round\" style=\"stroke:black;stroke-width:12\"/><line x1=\"176.708\" y1=\"480.956\" x2=\"170.28\" y2=\"473.296\" stroke-linecap=\"round\" style=\"stroke:black;stroke-width:12\"/><line x1=\"170.28\" y1=\"473.296\" x2=\"163.852\" y2=\"465.636\" stroke-linecap=\"round\" style=\"stroke:black;stroke-width:12\"/><line x1=\"163.852\" y1=\"465.636\" x2=\"157.424\" y2=\"457.976\" stroke-linecap=\"round\" style=\"stroke:black;stroke-width:12\"/><line x1=\"157.424\" y1=\"457.976\" x2=\"150.996\" y2=\"450.316\" stroke-linecap=\"round\" style=\"stroke:black;stroke-width:12\"/><line x1=\"150.996\" y1=\"450.316\" x2=\"144.568\" y2=\"442.656\" stroke-linecap=\"round\" style=\"stroke:black;stroke-width:12\"/><line x1=\"144.568\" y1=\"442.656\" x2=\"138.14\" y2=\"434.996\" stroke-linecap=\"round\" style=\"stroke:black;stroke-width:12\"/><line x1=\"138.14\" y1=\"434.996\" x2=\"131.712\" y2=\"427.336\" stroke-linecap=\"round\" style=\"stroke:black;stroke-width:12\"/><line x1=\"131.712\" y1=\"427.336\" x2=\"125.284\" y2=\"419.676\" stroke-linecap=\"round\" style=\"stroke:black;stroke-width:12\"/><line x1=\"125.284\" y1=\"419.676\" x2=\"118.856\" y2=\"412.016\" stroke-linecap=\"round\" style=\"stroke:black;stroke-width:12\"/><line x1=\"118.856\" y1=\"412.016\" x2=\"112.428\" y2=\"404.356\" stroke-linecap=\"round\" style=\"stroke:black;stroke-width:12\"/><line x1=\"112.428\" y1=\"404.356\" x2=\"106.0\" y2=\"396.696\" stroke-linecap=\"round\" style=\"stroke:black;stroke-width:12\"/><line x1=\"106.0\" y1=\"396.696\" x2=\"99.572\" y2=\"389.036\" stroke-linecap=\"round\" style=\"stroke:black;stroke-width:12\"/><line x1=\"99.572\" y1=\"389.036\" x2=\"93.144\" y2=\"381.376\" stroke-linecap=\"round\" style=\"stroke:black;stroke-width:12\"/><line x1=\"93.144\" y1=\"381.376\" x2=\"86.716\" y2=\"373.716\" stroke-linecap=\"round\" style=\"stroke:black;stroke-width:12\"/><line x1=\"86.716\" y1=\"373.716\" x2=\"80.288\" y2=\"366.056\" stroke-linecap=\"round\" style=\"stroke:black;stroke-width:12\"/><line x1=\"80.288\" y1=\"366.056\" x2=\"73.86\" y2=\"358.396\" stroke-linecap=\"round\" style=\"stroke:black;stroke-width:12\"/><line x1=\"73.86\" y1=\"358.396\" x2=\"67.432\" y2=\"350.736\" stroke-linecap=\"round\" style=\"stroke:black;stroke-width:12\"/><line x1=\"67.432\" y1=\"350.736\" x2=\"61.004\" y2=\"343.076\" stroke-linecap=\"round\" style=\"stroke:black;stroke-width:12\"/><line x1=\"61.004\" y1=\"343.076\" x2=\"54.576\" y2=\"335.416\" stroke-linecap=\"round\" style=\"stroke:black;stroke-width:12\"/><line x1=\"54.576\" y1=\"335.416\" x2=\"48.148\" y2=\"327.756\" stroke-linecap=\"round\" style=\"stroke:black;stroke-width:12\"/><line x1=\"48.148\" y1=\"327.756\" x2=\"41.72\" y2=\"320.096\" stroke-linecap=\"round\" style=\"stroke:black;stroke-width:12\"/><line x1=\"41.72\" y1=\"320.096\" x2=\"35.292\" y2=\"312.436\" stroke-linecap=\"round\" style=\"stroke:black;stroke-width:12\"/><line x1=\"35.292\" y1=\"312.436\" x2=\"28.864\" y2=\"304.776\" stroke-linecap=\"round\" style=\"stroke:black;stroke-width:12\"/><line x1=\"28.864\" y1=\"304.776\" x2=\"22.436\" y2=\"297.116\" stroke-linecap=\"round\" style=\"stroke:black;stroke-width:12\"/><line x1=\"22.436\" y1=\"297.116\" x2=\"16.008\" y2=\"289.456\" stroke-linecap=\"round\" style=\"stroke:black;stroke-width:12\"/><line x1=\"16.008\" y1=\"289.456\" x2=\"9.58\" y2=\"281.796\" stroke-linecap=\"round\" style=\"stroke:black;stroke-width:12\"/><line x1=\"9.58\" y1=\"281.796\" x2=\"3.152\" y2=\"274.136\" stroke-linecap=\"round\" style=\"stroke:black;stroke-width:12\"/><line x1=\"3.152\" y1=\"274.136\" x2=\"-3.276\" y2=\"266.476\" stroke-linecap=\"round\" style=\"stroke:black;stroke-width:12\"/><line x1=\"-3.276\" y1=\"266.476\" x2=\"6.366\" y2=\"254.985\" stroke-linecap=\"round\" style=\"stroke:black;stroke-width:12\"/><line x1=\"6.366\" y1=\"254.985\" x2=\"12.794\" y2=\"247.325\" stroke-linecap=\"round\" style=\"stroke:black;stroke-width:12\"/><line x1=\"12.794\" y1=\"247.325\" x2=\"19.222\" y2=\"239.665\" stroke-linecap=\"round\" style=\"stroke:black;stroke-width:12\"/><line x1=\"19.222\" y1=\"239.665\" x2=\"25.65\" y2=\"232.005\" stroke-linecap=\"round\" style=\"stroke:black;stroke-width:12\"/><line x1=\"25.65\" y1=\"232.005\" x2=\"32.078\" y2=\"224.345\" stroke-linecap=\"round\" style=\"stroke:black;stroke-width:12\"/><line x1=\"32.078\" y1=\"224.345\" x2=\"38.506\" y2=\"216.685\" stroke-linecap=\"round\" style=\"stroke:black;stroke-width:12\"/><line x1=\"38.506\" y1=\"216.685\" x2=\"44.934\" y2=\"209.025\" stroke-linecap=\"round\" style=\"stroke:black;stroke-width:12\"/><line x1=\"44.934\" y1=\"209.025\" x2=\"51.362\" y2=\"201.365\" stroke-linecap=\"round\" style=\"stroke:black;stroke-width:12\"/><line x1=\"51.362\" y1=\"201.365\" x2=\"57.79\" y2=\"193.705\" stroke-linecap=\"round\" style=\"stroke:black;stroke-width:12\"/><line x1=\"57.79\" y1=\"193.705\" x2=\"64.218\" y2=\"186.045\" stroke-linecap=\"round\" style=\"stroke:black;stroke-width:12\"/><line x1=\"64.218\" y1=\"186.045\" x2=\"70.646\" y2=\"178.385\" stroke-linecap=\"round\" style=\"stroke:black;stroke-width:12\"/><line x1=\"70.646\" y1=\"178.385\" x2=\"77.074\" y2=\"170.725\" stroke-linecap=\"round\" style=\"stroke:black;stroke-width:12\"/><line x1=\"77.074\" y1=\"170.725\" x2=\"83.502\" y2=\"163.065\" stroke-linecap=\"round\" style=\"stroke:black;stroke-width:12\"/><line x1=\"83.502\" y1=\"163.065\" x2=\"89.93\" y2=\"155.405\" stroke-linecap=\"round\" style=\"stroke:black;stroke-width:12\"/><line x1=\"89.93\" y1=\"155.405\" x2=\"96.358\" y2=\"147.745\" stroke-linecap=\"round\" style=\"stroke:black;stroke-width:12\"/><line x1=\"96.358\" y1=\"147.745\" x2=\"102.786\" y2=\"140.085\" stroke-linecap=\"round\" style=\"stroke:black;stroke-width:12\"/><line x1=\"102.786\" y1=\"140.085\" x2=\"109.214\" y2=\"132.425\" stroke-linecap=\"round\" style=\"stroke:black;stroke-width:12\"/><line x1=\"109.214\" y1=\"132.425\" x2=\"115.642\" y2=\"124.765\" stroke-linecap=\"round\" style=\"stroke:black;stroke-width:12\"/><line x1=\"115.642\" y1=\"124.765\" x2=\"122.07\" y2=\"117.105\" stroke-linecap=\"round\" style=\"stroke:black;stroke-width:12\"/><line x1=\"122.07\" y1=\"117.105\" x2=\"128.498\" y2=\"109.445\" stroke-linecap=\"round\" style=\"stroke:black;stroke-width:12\"/><line x1=\"128.498\" y1=\"109.445\" x2=\"134.926\" y2=\"101.785\" stroke-linecap=\"round\" style=\"stroke:black;stroke-width:12\"/><line x1=\"134.926\" y1=\"101.785\" x2=\"141.354\" y2=\"94.125\" stroke-linecap=\"round\" style=\"stroke:black;stroke-width:12\"/><line x1=\"141.354\" y1=\"94.125\" x2=\"147.782\" y2=\"86.465\" stroke-linecap=\"round\" style=\"stroke:black;stroke-width:12\"/><line x1=\"147.782\" y1=\"86.465\" x2=\"154.21\" y2=\"78.805\" stroke-linecap=\"round\" style=\"stroke:black;stroke-width:12\"/><line x1=\"154.21\" y1=\"78.805\" x2=\"160.638\" y2=\"71.145\" stroke-linecap=\"round\" style=\"stroke:black;stroke-width:12\"/><line x1=\"160.638\" y1=\"71.145\" x2=\"167.066\" y2=\"63.485\" stroke-linecap=\"round\" style=\"stroke:black;stroke-width:12\"/><line x1=\"167.066\" y1=\"63.485\" x2=\"173.494\" y2=\"55.825\" stroke-linecap=\"round\" style=\"stroke:black;stroke-width:12\"/><line x1=\"173.494\" y1=\"55.825\" x2=\"179.922\" y2=\"48.165\" stroke-linecap=\"round\" style=\"stroke:black;stroke-width:12\"/><line x1=\"179.922\" y1=\"48.165\" x2=\"186.35\" y2=\"40.505\" stroke-linecap=\"round\" style=\"stroke:black;stroke-width:12\"/><line x1=\"186.35\" y1=\"40.505\" x2=\"192.778\" y2=\"32.845\" stroke-linecap=\"round\" style=\"stroke:black;stroke-width:12\"/><line x1=\"192.778\" y1=\"32.845\" x2=\"199.206\" y2=\"25.185\" stroke-linecap=\"round\" style=\"stroke:black;stroke-width:12\"/><line x1=\"199.206\" y1=\"25.185\" x2=\"205.634\" y2=\"17.525\" stroke-linecap=\"round\" style=\"stroke:black;stroke-width:12\"/><line x1=\"205.634\" y1=\"17.525\" x2=\"212.062\" y2=\"9.865\" stroke-linecap=\"round\" style=\"stroke:black;stroke-width:12\"/><line x1=\"212.062\" y1=\"9.865\" x2=\"218.49\" y2=\"2.205\" stroke-linecap=\"round\" style=\"stroke:black;stroke-width:12\"/><line x1=\"218.49\" y1=\"2.205\" x2=\"224.918\" y2=\"-5.455\" stroke-linecap=\"round\" style=\"stroke:black;stroke-width:12\"/><line x1=\"224.918\" y1=\"-5.455\" x2=\"234.56\" y2=\"6.036\" stroke-linecap=\"round\" style=\"stroke:black;stroke-width:12\"/><line x1=\"234.56\" y1=\"6.036\" x2=\"240.988\" y2=\"13.696\" stroke-linecap=\"round\" style=\"stroke:black;stroke-width:12\"/><line x1=\"240.988\" y1=\"13.696\" x2=\"247.416\" y2=\"21.356\" stroke-linecap=\"round\" style=\"stroke:black;stroke-width:12\"/><line x1=\"247.416\" y1=\"21.356\" x2=\"253.844\" y2=\"29.016\" stroke-linecap=\"round\" style=\"stroke:black;stroke-width:12\"/><line x1=\"253.844\" y1=\"29.016\" x2=\"260.272\" y2=\"36.676\" stroke-linecap=\"round\" style=\"stroke:black;stroke-width:12\"/><line x1=\"260.272\" y1=\"36.676\" x2=\"266.7\" y2=\"44.336\" stroke-linecap=\"round\" style=\"stroke:black;stroke-width:12\"/><line x1=\"266.7\" y1=\"44.336\" x2=\"273.128\" y2=\"51.996\" stroke-linecap=\"round\" style=\"stroke:black;stroke-width:12\"/><line x1=\"273.128\" y1=\"51.996\" x2=\"279.556\" y2=\"59.656\" stroke-linecap=\"round\" style=\"stroke:black;stroke-width:12\"/><line x1=\"279.556\" y1=\"59.656\" x2=\"285.984\" y2=\"67.316\" stroke-linecap=\"round\" style=\"stroke:black;stroke-width:12\"/><line x1=\"285.984\" y1=\"67.316\" x2=\"292.412\" y2=\"74.976\" stroke-linecap=\"round\" style=\"stroke:black;stroke-width:12\"/><line x1=\"292.412\" y1=\"74.976\" x2=\"298.84\" y2=\"82.636\" stroke-linecap=\"round\" style=\"stroke:black;stroke-width:12\"/><line x1=\"298.84\" y1=\"82.636\" x2=\"305.268\" y2=\"90.296\" stroke-linecap=\"round\" style=\"stroke:black;stroke-width:12\"/><line x1=\"305.268\" y1=\"90.296\" x2=\"311.696\" y2=\"97.956\" stroke-linecap=\"round\" style=\"stroke:black;stroke-width:12\"/><line x1=\"311.696\" y1=\"97.956\" x2=\"318.124\" y2=\"105.616\" stroke-linecap=\"round\" style=\"stroke:black;stroke-width:12\"/><line x1=\"318.124\" y1=\"105.616\" x2=\"324.552\" y2=\"113.276\" stroke-linecap=\"round\" style=\"stroke:black;stroke-width:12\"/><line x1=\"324.552\" y1=\"113.276\" x2=\"330.98\" y2=\"120.936\" stroke-linecap=\"round\" style=\"stroke:black;stroke-width:12\"/><line x1=\"330.98\" y1=\"120.936\" x2=\"337.408\" y2=\"128.596\" stroke-linecap=\"round\" style=\"stroke:black;stroke-width:12\"/><line x1=\"337.408\" y1=\"128.596\" x2=\"343.836\" y2=\"136.256\" stroke-linecap=\"round\" style=\"stroke:black;stroke-width:12\"/><line x1=\"343.836\" y1=\"136.256\" x2=\"350.264\" y2=\"143.916\" stroke-linecap=\"round\" style=\"stroke:black;stroke-width:12\"/><line x1=\"350.264\" y1=\"143.916\" x2=\"356.692\" y2=\"151.576\" stroke-linecap=\"round\" style=\"stroke:black;stroke-width:12\"/><line x1=\"356.692\" y1=\"151.576\" x2=\"363.12\" y2=\"159.236\" stroke-linecap=\"round\" style=\"stroke:black;stroke-width:12\"/><line x1=\"363.12\" y1=\"159.236\" x2=\"369.548\" y2=\"166.896\" stroke-linecap=\"round\" style=\"stroke:black;stroke-width:12\"/><line x1=\"369.548\" y1=\"166.896\" x2=\"375.976\" y2=\"174.556\" stroke-linecap=\"round\" style=\"stroke:black;stroke-width:12\"/><line x1=\"375.976\" y1=\"174.556\" x2=\"382.404\" y2=\"182.216\" stroke-linecap=\"round\" style=\"stroke:black;stroke-width:12\"/><line x1=\"382.404\" y1=\"182.216\" x2=\"388.832\" y2=\"189.876\" stroke-linecap=\"round\" style=\"stroke:black;stroke-width:12\"/><line x1=\"388.832\" y1=\"189.876\" x2=\"395.26\" y2=\"197.536\" stroke-linecap=\"round\" style=\"stroke:black;stroke-width:12\"/><line x1=\"395.26\" y1=\"197.536\" x2=\"401.688\" y2=\"205.196\" stroke-linecap=\"round\" style=\"stroke:black;stroke-width:12\"/><line x1=\"401.688\" y1=\"205.196\" x2=\"408.116\" y2=\"212.856\" stroke-linecap=\"round\" style=\"stroke:black;stroke-width:12\"/><line x1=\"408.116\" y1=\"212.856\" x2=\"414.544\" y2=\"220.516\" stroke-linecap=\"round\" style=\"stroke:black;stroke-width:12\"/><line x1=\"414.544\" y1=\"220.516\" x2=\"420.972\" y2=\"228.176\" stroke-linecap=\"round\" style=\"stroke:black;stroke-width:12\"/><line x1=\"420.972\" y1=\"228.176\" x2=\"427.4\" y2=\"235.836\" stroke-linecap=\"round\" style=\"stroke:black;stroke-width:12\"/><line x1=\"427.4\" y1=\"235.836\" x2=\"433.828\" y2=\"243.496\" stroke-linecap=\"round\" style=\"stroke:black;stroke-width:12\"/><line x1=\"433.828\" y1=\"243.496\" x2=\"440.256\" y2=\"251.156\" stroke-linecap=\"round\" style=\"stroke:black;stroke-width:12\"/><line x1=\"440.256\" y1=\"251.156\" x2=\"446.684\" y2=\"258.816\" stroke-linecap=\"round\" style=\"stroke:black;stroke-width:12\"/><line x1=\"446.684\" y1=\"258.816\" x2=\"453.112\" y2=\"266.476\" stroke-linecap=\"round\" style=\"stroke:black;stroke-width:12\"/><line x1=\"453.112\" y1=\"266.476\" x2=\"459.54\" y2=\"274.136\" stroke-linecap=\"round\" style=\"stroke:black;stroke-width:12\"/><line x1=\"459.54\" y1=\"274.136\" x2=\"465.968\" y2=\"281.796\" stroke-linecap=\"round\" style=\"stroke:black;stroke-width:12\"/><line x1=\"465.968\" y1=\"281.796\" x2=\"472.396\" y2=\"289.456\" stroke-linecap=\"round\" style=\"stroke:black;stroke-width:12\"/><line x1=\"472.396\" y1=\"289.456\" x2=\"478.824\" y2=\"297.116\" stroke-linecap=\"round\" style=\"stroke:black;stroke-width:12\"/><line x1=\"478.824\" y1=\"297.116\" x2=\"485.252\" y2=\"304.776\" stroke-linecap=\"round\" style=\"stroke:black;stroke-width:12\"/><line x1=\"485.252\" y1=\"304.776\" x2=\"491.68\" y2=\"312.436\" stroke-linecap=\"round\" style=\"stroke:black;stroke-width:12\"/><line x1=\"491.68\" y1=\"312.436\" x2=\"498.108\" y2=\"320.096\" stroke-linecap=\"round\" style=\"stroke:black;stroke-width:12\"/><line x1=\"498.108\" y1=\"320.096\" x2=\"504.536\" y2=\"327.756\" stroke-linecap=\"round\" style=\"stroke:black;stroke-width:12\"/><line x1=\"504.536\" y1=\"327.756\" x2=\"510.964\" y2=\"335.416\" stroke-linecap=\"round\" style=\"stroke:black;stroke-width:12\"/><line x1=\"510.964\" y1=\"335.416\" x2=\"517.392\" y2=\"343.076\" stroke-linecap=\"round\" style=\"stroke:black;stroke-width:12\"/><line x1=\"517.392\" y1=\"343.076\" x2=\"523.82\" y2=\"350.736\" stroke-linecap=\"round\" style=\"stroke:black;stroke-width:12\"/><line x1=\"523.82\" y1=\"350.736\" x2=\"530.248\" y2=\"358.396\" stroke-linecap=\"round\" style=\"stroke:black;stroke-width:12\"/><line x1=\"530.248\" y1=\"358.396\" x2=\"536.676\" y2=\"366.056\" stroke-linecap=\"round\" style=\"stroke:black;stroke-width:12\"/><line x1=\"536.676\" y1=\"366.056\" x2=\"543.104\" y2=\"373.716\" stroke-linecap=\"round\" style=\"stroke:black;stroke-width:12\"/><line x1=\"543.104\" y1=\"373.716\" x2=\"549.532\" y2=\"381.376\" stroke-linecap=\"round\" style=\"stroke:black;stroke-width:12\"/><line x1=\"549.532\" y1=\"381.376\" x2=\"555.96\" y2=\"389.036\" stroke-linecap=\"round\" style=\"stroke:black;stroke-width:12\"/><line x1=\"555.96\" y1=\"389.036\" x2=\"562.388\" y2=\"396.696\" stroke-linecap=\"round\" style=\"stroke:black;stroke-width:12\"/><line x1=\"562.388\" y1=\"396.696\" x2=\"568.816\" y2=\"404.356\" stroke-linecap=\"round\" style=\"stroke:black;stroke-width:12\"/><line x1=\"568.816\" y1=\"404.356\" x2=\"575.244\" y2=\"412.016\" stroke-linecap=\"round\" style=\"stroke:black;stroke-width:12\"/><line x1=\"575.244\" y1=\"412.016\" x2=\"581.672\" y2=\"419.676\" stroke-linecap=\"round\" style=\"stroke:black;stroke-width:12\"/><line x1=\"581.672\" y1=\"419.676\" x2=\"588.1\" y2=\"427.336\" stroke-linecap=\"round\" style=\"stroke:black;stroke-width:12\"/><line x1=\"588.1\" y1=\"427.336\" x2=\"594.528\" y2=\"434.996\" stroke-linecap=\"round\" style=\"stroke:black;stroke-width:12\"/><line x1=\"594.528\" y1=\"434.996\" x2=\"600.956\" y2=\"442.656\" stroke-linecap=\"round\" style=\"stroke:black;stroke-width:12\"/><line x1=\"600.956\" y1=\"442.656\" x2=\"607.384\" y2=\"450.316\" stroke-linecap=\"round\" style=\"stroke:black;stroke-width:12\"/><line x1=\"607.384\" y1=\"450.316\" x2=\"613.812\" y2=\"457.976\" stroke-linecap=\"round\" style=\"stroke:black;stroke-width:12\"/><line x1=\"613.812\" y1=\"457.976\" x2=\"620.24\" y2=\"465.636\" stroke-linecap=\"round\" style=\"stroke:black;stroke-width:12\"/><line x1=\"620.24\" y1=\"465.636\" x2=\"626.668\" y2=\"473.296\" stroke-linecap=\"round\" style=\"stroke:black;stroke-width:12\"/><line x1=\"626.668\" y1=\"473.296\" x2=\"633.096\" y2=\"480.956\" stroke-linecap=\"round\" style=\"stroke:black;stroke-width:12\"/><line x1=\"633.096\" y1=\"480.956\" x2=\"639.524\" y2=\"488.616\" stroke-linecap=\"round\" style=\"stroke:black;stroke-width:12\"/><line x1=\"639.524\" y1=\"488.616\" x2=\"645.952\" y2=\"496.276\" stroke-linecap=\"round\" style=\"stroke:black;stroke-width:12\"/><line x1=\"645.952\" y1=\"496.276\" x2=\"652.38\" y2=\"503.936\" stroke-linecap=\"round\" style=\"stroke:black;stroke-width:12\"/><line x1=\"652.38\" y1=\"503.936\" x2=\"662.022\" y2=\"492.445\" stroke-linecap=\"round\" style=\"stroke:black;stroke-width:12\"/><line x1=\"662.022\" y1=\"492.445\" x2=\"668.45\" y2=\"484.785\" stroke-linecap=\"round\" style=\"stroke:black;stroke-width:12\"/><line x1=\"668.45\" y1=\"484.785\" x2=\"674.878\" y2=\"477.125\" stroke-linecap=\"round\" style=\"stroke:black;stroke-width:12\"/><line x1=\"674.878\" y1=\"477.125\" x2=\"681.306\" y2=\"469.465\" stroke-linecap=\"round\" style=\"stroke:black;stroke-width:12\"/><line x1=\"681.306\" y1=\"469.465\" x2=\"687.734\" y2=\"461.805\" stroke-linecap=\"round\" style=\"stroke:black;stroke-width:12\"/><line x1=\"687.734\" y1=\"461.805\" x2=\"694.162\" y2=\"454.145\" stroke-linecap=\"round\" style=\"stroke:black;stroke-width:12\"/><line x1=\"694.162\" y1=\"454.145\" x2=\"700.59\" y2=\"446.485\" stroke-linecap=\"round\" style=\"stroke:black;stroke-width:12\"/><line x1=\"700.59\" y1=\"446.485\" x2=\"707.018\" y2=\"438.825\" stroke-linecap=\"round\" style=\"stroke:black;stroke-width:12\"/><line x1=\"707.018\" y1=\"438.825\" x2=\"713.446\" y2=\"431.165\" stroke-linecap=\"round\" style=\"stroke:black;stroke-width:12\"/><line x1=\"713.446\" y1=\"431.165\" x2=\"719.874\" y2=\"423.505\" stroke-linecap=\"round\" style=\"stroke:black;stroke-width:12\"/><line x1=\"719.874\" y1=\"423.505\" x2=\"726.302\" y2=\"415.845\" stroke-linecap=\"round\" style=\"stroke:black;stroke-width:12\"/><line x1=\"726.302\" y1=\"415.845\" x2=\"732.73\" y2=\"408.185\" stroke-linecap=\"round\" style=\"stroke:black;stroke-width:12\"/><line x1=\"732.73\" y1=\"408.185\" x2=\"739.158\" y2=\"400.525\" stroke-linecap=\"round\" style=\"stroke:black;stroke-width:12\"/><line x1=\"739.158\" y1=\"400.525\" x2=\"745.586\" y2=\"392.865\" stroke-linecap=\"round\" style=\"stroke:black;stroke-width:12\"/><line x1=\"745.586\" y1=\"392.865\" x2=\"752.014\" y2=\"385.205\" stroke-linecap=\"round\" style=\"stroke:black;stroke-width:12\"/><line x1=\"752.014\" y1=\"385.205\" x2=\"758.442\" y2=\"377.545\" stroke-linecap=\"round\" style=\"stroke:black;stroke-width:12\"/><line x1=\"758.442\" y1=\"377.545\" x2=\"764.87\" y2=\"369.885\" stroke-linecap=\"round\" style=\"stroke:black;stroke-width:12\"/><line x1=\"764.87\" y1=\"369.885\" x2=\"771.298\" y2=\"362.225\" stroke-linecap=\"round\" style=\"stroke:black;stroke-width:12\"/><line x1=\"771.298\" y1=\"362.225\" x2=\"777.726\" y2=\"354.565\" stroke-linecap=\"round\" style=\"stroke:black;stroke-width:12\"/><line x1=\"777.726\" y1=\"354.565\" x2=\"784.154\" y2=\"346.905\" stroke-linecap=\"round\" style=\"stroke:black;stroke-width:12\"/><line x1=\"784.154\" y1=\"346.905\" x2=\"790.582\" y2=\"339.245\" stroke-linecap=\"round\" style=\"stroke:black;stroke-width:12\"/><line x1=\"790.582\" y1=\"339.245\" x2=\"797.01\" y2=\"331.585\" stroke-linecap=\"round\" style=\"stroke:black;stroke-width:12\"/><line x1=\"797.01\" y1=\"331.585\" x2=\"803.438\" y2=\"323.925\" stroke-linecap=\"round\" style=\"stroke:black;stroke-width:12\"/><line x1=\"803.438\" y1=\"323.925\" x2=\"793.796\" y2=\"312.434\" stroke-linecap=\"round\" style=\"stroke:black;stroke-width:12\"/><line x1=\"793.796\" y1=\"312.434\" x2=\"787.368\" y2=\"304.774\" stroke-linecap=\"round\" style=\"stroke:black;stroke-width:12\"/><line x1=\"787.368\" y1=\"304.774\" x2=\"780.94\" y2=\"297.114\" stroke-linecap=\"round\" style=\"stroke:black;stroke-width:12\"/><line x1=\"780.94\" y1=\"297.114\" x2=\"774.512\" y2=\"289.454\" stroke-linecap=\"round\" style=\"stroke:black;stroke-width:12\"/><line x1=\"774.512\" y1=\"289.454\" x2=\"768.084\" y2=\"281.794\" stroke-linecap=\"round\" style=\"stroke:black;stroke-width:12\"/><line x1=\"768.084\" y1=\"281.794\" x2=\"761.656\" y2=\"274.134\" stroke-linecap=\"round\" style=\"stroke:black;stroke-width:12\"/><line x1=\"761.656\" y1=\"274.134\" x2=\"755.228\" y2=\"266.474\" stroke-linecap=\"round\" style=\"stroke:black;stroke-width:12\"/><line x1=\"755.228\" y1=\"266.474\" x2=\"748.8\" y2=\"258.814\" stroke-linecap=\"round\" style=\"stroke:black;stroke-width:12\"/><line x1=\"748.8\" y1=\"258.814\" x2=\"742.372\" y2=\"251.154\" stroke-linecap=\"round\" style=\"stroke:black;stroke-width:12\"/><line x1=\"742.372\" y1=\"251.154\" x2=\"735.944\" y2=\"243.494\" stroke-linecap=\"round\" style=\"stroke:black;stroke-width:12\"/><line x1=\"735.944\" y1=\"243.494\" x2=\"729.516\" y2=\"235.834\" stroke-linecap=\"round\" style=\"stroke:black;stroke-width:12\"/><line x1=\"729.516\" y1=\"235.834\" x2=\"723.088\" y2=\"228.174\" stroke-linecap=\"round\" style=\"stroke:black;stroke-width:12\"/><line x1=\"723.088\" y1=\"228.174\" x2=\"716.66\" y2=\"220.514\" stroke-linecap=\"round\" style=\"stroke:black;stroke-width:12\"/><line x1=\"716.66\" y1=\"220.514\" x2=\"710.232\" y2=\"212.854\" stroke-linecap=\"round\" style=\"stroke:black;stroke-width:12\"/><line x1=\"710.232\" y1=\"212.854\" x2=\"703.804\" y2=\"205.194\" stroke-linecap=\"round\" style=\"stroke:black;stroke-width:12\"/><line x1=\"703.804\" y1=\"205.194\" x2=\"697.376\" y2=\"197.534\" stroke-linecap=\"round\" style=\"stroke:black;stroke-width:12\"/><line x1=\"697.376\" y1=\"197.534\" x2=\"690.948\" y2=\"189.874\" stroke-linecap=\"round\" style=\"stroke:black;stroke-width:12\"/><line x1=\"690.948\" y1=\"189.874\" x2=\"684.52\" y2=\"182.214\" stroke-linecap=\"round\" style=\"stroke:black;stroke-width:12\"/><line x1=\"684.52\" y1=\"182.214\" x2=\"678.092\" y2=\"174.554\" stroke-linecap=\"round\" style=\"stroke:black;stroke-width:12\"/><line x1=\"678.092\" y1=\"174.554\" x2=\"671.664\" y2=\"166.894\" stroke-linecap=\"round\" style=\"stroke:black;stroke-width:12\"/><line x1=\"671.664\" y1=\"166.894\" x2=\"665.236\" y2=\"159.234\" stroke-linecap=\"round\" style=\"stroke:black;stroke-width:12\"/><line x1=\"665.236\" y1=\"159.234\" x2=\"658.808\" y2=\"151.574\" stroke-linecap=\"round\" style=\"stroke:black;stroke-width:12\"/><line x1=\"658.808\" y1=\"151.574\" x2=\"652.38\" y2=\"143.914\" stroke-linecap=\"round\" style=\"stroke:black;stroke-width:12\"/><line x1=\"652.38\" y1=\"143.914\" x2=\"645.952\" y2=\"136.254\" stroke-linecap=\"round\" style=\"stroke:black;stroke-width:12\"/><line x1=\"645.952\" y1=\"136.254\" x2=\"639.524\" y2=\"128.594\" stroke-linecap=\"round\" style=\"stroke:black;stroke-width:12\"/><line x1=\"639.524\" y1=\"128.594\" x2=\"633.096\" y2=\"120.934\" stroke-linecap=\"round\" style=\"stroke:black;stroke-width:12\"/><line x1=\"633.096\" y1=\"120.934\" x2=\"626.668\" y2=\"113.274\" stroke-linecap=\"round\" style=\"stroke:black;stroke-width:12\"/><line x1=\"626.668\" y1=\"113.274\" x2=\"620.24\" y2=\"105.614\" stroke-linecap=\"round\" style=\"stroke:black;stroke-width:12\"/><line x1=\"620.24\" y1=\"105.614\" x2=\"613.812\" y2=\"97.954\" stroke-linecap=\"round\" style=\"stroke:black;stroke-width:12\"/><line x1=\"613.812\" y1=\"97.954\" x2=\"607.384\" y2=\"90.294\" stroke-linecap=\"round\" style=\"stroke:black;stroke-width:12\"/><line x1=\"607.384\" y1=\"90.294\" x2=\"600.956\" y2=\"82.634\" stroke-linecap=\"round\" style=\"stroke:black;stroke-width:12\"/><line x1=\"600.956\" y1=\"82.634\" x2=\"594.528\" y2=\"74.974\" stroke-linecap=\"round\" style=\"stroke:black;stroke-width:12\"/><line x1=\"594.528\" y1=\"74.974\" x2=\"588.1\" y2=\"67.314\" stroke-linecap=\"round\" style=\"stroke:black;stroke-width:12\"/><line x1=\"588.1\" y1=\"67.314\" x2=\"581.672\" y2=\"59.654\" stroke-linecap=\"round\" style=\"stroke:black;stroke-width:12\"/><line x1=\"581.672\" y1=\"59.654\" x2=\"575.244\" y2=\"51.994\" stroke-linecap=\"round\" style=\"stroke:black;stroke-width:12\"/><line x1=\"575.244\" y1=\"51.994\" x2=\"568.816\" y2=\"44.334\" stroke-linecap=\"round\" style=\"stroke:black;stroke-width:12\"/><line x1=\"568.816\" y1=\"44.334\" x2=\"562.388\" y2=\"36.674\" stroke-linecap=\"round\" style=\"stroke:black;stroke-width:12\"/><line x1=\"562.388\" y1=\"36.674\" x2=\"555.96\" y2=\"29.014\" stroke-linecap=\"round\" style=\"stroke:black;stroke-width:12\"/><line x1=\"555.96\" y1=\"29.014\" x2=\"549.532\" y2=\"21.354\" stroke-linecap=\"round\" style=\"stroke:black;stroke-width:12\"/><line x1=\"549.532\" y1=\"21.354\" x2=\"543.104\" y2=\"13.694\" stroke-linecap=\"round\" style=\"stroke:black;stroke-width:12\"/><line x1=\"543.104\" y1=\"13.694\" x2=\"536.676\" y2=\"6.034\" stroke-linecap=\"round\" style=\"stroke:black;stroke-width:12\"/><line x1=\"536.676\" y1=\"6.034\" x2=\"530.248\" y2=\"-1.626\" stroke-linecap=\"round\" style=\"stroke:black;stroke-width:12\"/><line x1=\"530.248\" y1=\"-1.626\" x2=\"520.606\" y2=\"9.865\" stroke-linecap=\"round\" style=\"stroke:black;stroke-width:12\"/><line x1=\"520.606\" y1=\"9.865\" x2=\"514.178\" y2=\"17.525\" stroke-linecap=\"round\" style=\"stroke:black;stroke-width:12\"/><line x1=\"514.178\" y1=\"17.525\" x2=\"507.75\" y2=\"25.185\" stroke-linecap=\"round\" style=\"stroke:black;stroke-width:12\"/><line x1=\"507.75\" y1=\"25.185\" x2=\"501.322\" y2=\"32.845\" stroke-linecap=\"round\" style=\"stroke:black;stroke-width:12\"/><line x1=\"501.322\" y1=\"32.845\" x2=\"494.894\" y2=\"40.505\" stroke-linecap=\"round\" style=\"stroke:black;stroke-width:12\"/><line x1=\"494.894\" y1=\"40.505\" x2=\"488.466\" y2=\"48.165\" stroke-linecap=\"round\" style=\"stroke:black;stroke-width:12\"/><line x1=\"488.466\" y1=\"48.165\" x2=\"482.038\" y2=\"55.825\" stroke-linecap=\"round\" style=\"stroke:black;stroke-width:12\"/><line x1=\"482.038\" y1=\"55.825\" x2=\"475.61\" y2=\"63.485\" stroke-linecap=\"round\" style=\"stroke:black;stroke-width:12\"/><line x1=\"475.61\" y1=\"63.485\" x2=\"469.182\" y2=\"71.145\" stroke-linecap=\"round\" style=\"stroke:black;stroke-width:12\"/><line x1=\"469.182\" y1=\"71.145\" x2=\"462.754\" y2=\"78.805\" stroke-linecap=\"round\" style=\"stroke:black;stroke-width:12\"/><line x1=\"462.754\" y1=\"78.805\" x2=\"456.326\" y2=\"86.465\" stroke-linecap=\"round\" style=\"stroke:black;stroke-width:12\"/><line x1=\"456.326\" y1=\"86.465\" x2=\"449.898\" y2=\"94.125\" stroke-linecap=\"round\" style=\"stroke:black;stroke-width:12\"/><line x1=\"449.898\" y1=\"94.125\" x2=\"443.47\" y2=\"101.785\" stroke-linecap=\"round\" style=\"stroke:black;stroke-width:12\"/><line x1=\"443.47\" y1=\"101.785\" x2=\"437.042\" y2=\"109.445\" stroke-linecap=\"round\" style=\"stroke:black;stroke-width:12\"/><line x1=\"437.042\" y1=\"109.445\" x2=\"430.614\" y2=\"117.105\" stroke-linecap=\"round\" style=\"stroke:black;stroke-width:12\"/><line x1=\"430.614\" y1=\"117.105\" x2=\"424.186\" y2=\"124.765\" stroke-linecap=\"round\" style=\"stroke:black;stroke-width:12\"/><line x1=\"424.186\" y1=\"124.765\" x2=\"417.758\" y2=\"132.425\" stroke-linecap=\"round\" style=\"stroke:black;stroke-width:12\"/><line x1=\"417.758\" y1=\"132.425\" x2=\"411.33\" y2=\"140.085\" stroke-linecap=\"round\" style=\"stroke:black;stroke-width:12\"/><line x1=\"411.33\" y1=\"140.085\" x2=\"404.902\" y2=\"147.745\" stroke-linecap=\"round\" style=\"stroke:black;stroke-width:12\"/><line x1=\"404.902\" y1=\"147.745\" x2=\"398.474\" y2=\"155.405\" stroke-linecap=\"round\" style=\"stroke:black;stroke-width:12\"/><line x1=\"398.474\" y1=\"155.405\" x2=\"392.046\" y2=\"163.065\" stroke-linecap=\"round\" style=\"stroke:black;stroke-width:12\"/><line x1=\"392.046\" y1=\"163.065\" x2=\"385.618\" y2=\"170.725\" stroke-linecap=\"round\" style=\"stroke:black;stroke-width:12\"/><line x1=\"385.618\" y1=\"170.725\" x2=\"379.19\" y2=\"178.385\" stroke-linecap=\"round\" style=\"stroke:black;stroke-width:12\"/><line x1=\"379.19\" y1=\"178.385\" x2=\"372.762\" y2=\"186.045\" stroke-linecap=\"round\" style=\"stroke:black;stroke-width:12\"/><line x1=\"372.762\" y1=\"186.045\" x2=\"366.334\" y2=\"193.705\" stroke-linecap=\"round\" style=\"stroke:black;stroke-width:12\"/><line x1=\"366.334\" y1=\"193.705\" x2=\"359.906\" y2=\"201.365\" stroke-linecap=\"round\" style=\"stroke:black;stroke-width:12\"/><line x1=\"359.906\" y1=\"201.365\" x2=\"353.478\" y2=\"209.025\" stroke-linecap=\"round\" style=\"stroke:black;stroke-width:12\"/><line x1=\"353.478\" y1=\"209.025\" x2=\"347.05\" y2=\"216.685\" stroke-linecap=\"round\" style=\"stroke:black;stroke-width:12\"/><line x1=\"347.05\" y1=\"216.685\" x2=\"340.622\" y2=\"224.345\" stroke-linecap=\"round\" style=\"stroke:black;stroke-width:12\"/><line x1=\"340.622\" y1=\"224.345\" x2=\"334.194\" y2=\"232.005\" stroke-linecap=\"round\" style=\"stroke:black;stroke-width:12\"/><line x1=\"334.194\" y1=\"232.005\" x2=\"327.766\" y2=\"239.665\" stroke-linecap=\"round\" style=\"stroke:black;stroke-width:12\"/><line x1=\"327.766\" y1=\"239.665\" x2=\"321.338\" y2=\"247.325\" stroke-linecap=\"round\" style=\"stroke:black;stroke-width:12\"/><line x1=\"321.338\" y1=\"247.325\" x2=\"314.91\" y2=\"254.985\" stroke-linecap=\"round\" style=\"stroke:black;stroke-width:12\"/><line x1=\"314.91\" y1=\"254.985\" x2=\"308.482\" y2=\"262.645\" stroke-linecap=\"round\" style=\"stroke:black;stroke-width:12\"/><line x1=\"308.482\" y1=\"262.645\" x2=\"302.054\" y2=\"270.305\" stroke-linecap=\"round\" style=\"stroke:black;stroke-width:12\"/><line x1=\"302.054\" y1=\"270.305\" x2=\"295.626\" y2=\"277.965\" stroke-linecap=\"round\" style=\"stroke:black;stroke-width:12\"/><line x1=\"295.626\" y1=\"277.965\" x2=\"289.198\" y2=\"285.625\" stroke-linecap=\"round\" style=\"stroke:black;stroke-width:12\"/><line x1=\"289.198\" y1=\"285.625\" x2=\"282.77\" y2=\"293.285\" stroke-linecap=\"round\" style=\"stroke:black;stroke-width:12\"/><line x1=\"282.77\" y1=\"293.285\" x2=\"276.342\" y2=\"300.945\" stroke-linecap=\"round\" style=\"stroke:black;stroke-width:12\"/><line x1=\"276.342\" y1=\"300.945\" x2=\"269.914\" y2=\"308.605\" stroke-linecap=\"round\" style=\"stroke:black;stroke-width:12\"/><line x1=\"269.914\" y1=\"308.605\" x2=\"263.486\" y2=\"316.265\" stroke-linecap=\"round\" style=\"stroke:black;stroke-width:12\"/><line x1=\"263.486\" y1=\"316.265\" x2=\"257.058\" y2=\"323.925\" stroke-linecap=\"round\" style=\"stroke:black;stroke-width:12\"/><line x1=\"257.058\" y1=\"323.925\" x2=\"250.63\" y2=\"331.585\" stroke-linecap=\"round\" style=\"stroke:black;stroke-width:12\"/><line x1=\"250.63\" y1=\"331.585\" x2=\"244.202\" y2=\"339.245\" stroke-linecap=\"round\" style=\"stroke:black;stroke-width:12\"/><line x1=\"244.202\" y1=\"339.245\" x2=\"237.774\" y2=\"346.905\" stroke-linecap=\"round\" style=\"stroke:black;stroke-width:12\"/><line x1=\"237.774\" y1=\"346.905\" x2=\"231.346\" y2=\"354.565\" stroke-linecap=\"round\" style=\"stroke:black;stroke-width:12\"/><line x1=\"231.346\" y1=\"354.565\" x2=\"224.918\" y2=\"362.225\" stroke-linecap=\"round\" style=\"stroke:black;stroke-width:12\"/><line x1=\"224.918\" y1=\"362.225\" x2=\"218.49\" y2=\"369.885\" stroke-linecap=\"round\" style=\"stroke:black;stroke-width:12\"/><line x1=\"218.49\" y1=\"369.885\" x2=\"212.062\" y2=\"377.545\" stroke-linecap=\"round\" style=\"stroke:black;stroke-width:12\"/><line x1=\"212.062\" y1=\"377.545\" x2=\"205.634\" y2=\"385.205\" stroke-linecap=\"round\" style=\"stroke:black;stroke-width:12\"/><line x1=\"205.634\" y1=\"385.205\" x2=\"199.206\" y2=\"392.865\" stroke-linecap=\"round\" style=\"stroke:black;stroke-width:12\"/><line x1=\"199.206\" y1=\"392.865\" x2=\"192.778\" y2=\"400.525\" stroke-linecap=\"round\" style=\"stroke:black;stroke-width:12\"/><line x1=\"192.778\" y1=\"400.525\" x2=\"186.35\" y2=\"408.185\" stroke-linecap=\"round\" style=\"stroke:black;stroke-width:12\"/><line x1=\"186.35\" y1=\"408.185\" x2=\"179.922\" y2=\"415.845\" stroke-linecap=\"round\" style=\"stroke:black;stroke-width:12\"/><line x1=\"179.922\" y1=\"415.845\" x2=\"173.494\" y2=\"423.505\" stroke-linecap=\"round\" style=\"stroke:black;stroke-width:12\"/><line x1=\"173.494\" y1=\"423.505\" x2=\"167.066\" y2=\"431.165\" stroke-linecap=\"round\" style=\"stroke:black;stroke-width:12\"/><line x1=\"167.066\" y1=\"431.165\" x2=\"160.638\" y2=\"438.825\" stroke-linecap=\"round\" style=\"stroke:black;stroke-width:12\"/><line x1=\"160.638\" y1=\"438.825\" x2=\"154.21\" y2=\"446.485\" stroke-linecap=\"round\" style=\"stroke:black;stroke-width:12\"/><line x1=\"154.21\" y1=\"446.485\" x2=\"147.782\" y2=\"454.145\" stroke-linecap=\"round\" style=\"stroke:black;stroke-width:12\"/><line x1=\"147.782\" y1=\"454.145\" x2=\"141.354\" y2=\"461.805\" stroke-linecap=\"round\" style=\"stroke:black;stroke-width:12\"/><line x1=\"141.354\" y1=\"461.805\" x2=\"134.926\" y2=\"469.465\" stroke-linecap=\"round\" style=\"stroke:black;stroke-width:12\"/><line x1=\"134.926\" y1=\"469.465\" x2=\"128.498\" y2=\"477.125\" stroke-linecap=\"round\" style=\"stroke:black;stroke-width:12\"/><line x1=\"128.498\" y1=\"477.125\" x2=\"122.07\" y2=\"484.785\" stroke-linecap=\"round\" style=\"stroke:black;stroke-width:12\"/><line x1=\"122.07\" y1=\"484.785\" x2=\"115.642\" y2=\"492.445\" stroke-linecap=\"round\" style=\"stroke:black;stroke-width:12\"/><line x1=\"115.642\" y1=\"492.445\" x2=\"109.214\" y2=\"500.105\" stroke-linecap=\"round\" style=\"stroke:black;stroke-width:12\"/><line x1=\"109.214\" y1=\"500.105\" x2=\"99.572\" y2=\"488.614\" stroke-linecap=\"round\" style=\"stroke:black;stroke-width:12\"/><line x1=\"99.572\" y1=\"488.614\" x2=\"93.144\" y2=\"480.954\" stroke-linecap=\"round\" style=\"stroke:black;stroke-width:12\"/><line x1=\"93.144\" y1=\"480.954\" x2=\"86.716\" y2=\"473.294\" stroke-linecap=\"round\" style=\"stroke:black;stroke-width:12\"/><line x1=\"86.716\" y1=\"473.294\" x2=\"80.288\" y2=\"465.634\" stroke-linecap=\"round\" style=\"stroke:black;stroke-width:12\"/><line x1=\"80.288\" y1=\"465.634\" x2=\"73.86\" y2=\"457.974\" stroke-linecap=\"round\" style=\"stroke:black;stroke-width:12\"/><line x1=\"73.86\" y1=\"457.974\" x2=\"67.432\" y2=\"450.314\" stroke-linecap=\"round\" style=\"stroke:black;stroke-width:12\"/><line x1=\"67.432\" y1=\"450.314\" x2=\"61.004\" y2=\"442.654\" stroke-linecap=\"round\" style=\"stroke:black;stroke-width:12\"/><line x1=\"61.004\" y1=\"442.654\" x2=\"54.576\" y2=\"434.994\" stroke-linecap=\"round\" style=\"stroke:black;stroke-width:12\"/><line x1=\"54.576\" y1=\"434.994\" x2=\"48.148\" y2=\"427.334\" stroke-linecap=\"round\" style=\"stroke:black;stroke-width:12\"/><line x1=\"48.148\" y1=\"427.334\" x2=\"41.72\" y2=\"419.674\" stroke-linecap=\"round\" style=\"stroke:black;stroke-width:12\"/><line x1=\"41.72\" y1=\"419.674\" x2=\"35.292\" y2=\"412.014\" stroke-linecap=\"round\" style=\"stroke:black;stroke-width:12\"/><line x1=\"35.292\" y1=\"412.014\" x2=\"28.864\" y2=\"404.354\" stroke-linecap=\"round\" style=\"stroke:black;stroke-width:12\"/><line x1=\"28.864\" y1=\"404.354\" x2=\"22.436\" y2=\"396.694\" stroke-linecap=\"round\" style=\"stroke:black;stroke-width:12\"/><line x1=\"22.436\" y1=\"396.694\" x2=\"16.008\" y2=\"389.034\" stroke-linecap=\"round\" style=\"stroke:black;stroke-width:12\"/><line x1=\"16.008\" y1=\"389.034\" x2=\"9.58\" y2=\"381.374\" stroke-linecap=\"round\" style=\"stroke:black;stroke-width:12\"/><line x1=\"9.58\" y1=\"381.374\" x2=\"3.152\" y2=\"373.714\" stroke-linecap=\"round\" style=\"stroke:black;stroke-width:12\"/><line x1=\"3.152\" y1=\"373.714\" x2=\"-3.276\" y2=\"366.054\" stroke-linecap=\"round\" style=\"stroke:black;stroke-width:12\"/><line x1=\"-3.276\" y1=\"366.054\" x2=\"6.366\" y2=\"354.563\" stroke-linecap=\"round\" style=\"stroke:black;stroke-width:12\"/><line x1=\"6.366\" y1=\"354.563\" x2=\"12.794\" y2=\"346.903\" stroke-linecap=\"round\" style=\"stroke:black;stroke-width:12\"/><line x1=\"12.794\" y1=\"346.903\" x2=\"19.222\" y2=\"339.243\" stroke-linecap=\"round\" style=\"stroke:black;stroke-width:12\"/><line x1=\"19.222\" y1=\"339.243\" x2=\"25.65\" y2=\"331.583\" stroke-linecap=\"round\" style=\"stroke:black;stroke-width:12\"/><line x1=\"25.65\" y1=\"331.583\" x2=\"32.078\" y2=\"323.923\" stroke-linecap=\"round\" style=\"stroke:black;stroke-width:12\"/><line x1=\"32.078\" y1=\"323.923\" x2=\"38.506\" y2=\"316.263\" stroke-linecap=\"round\" style=\"stroke:black;stroke-width:12\"/><line x1=\"38.506\" y1=\"316.263\" x2=\"44.934\" y2=\"308.603\" stroke-linecap=\"round\" style=\"stroke:black;stroke-width:12\"/><line x1=\"44.934\" y1=\"308.603\" x2=\"51.362\" y2=\"300.943\" stroke-linecap=\"round\" style=\"stroke:black;stroke-width:12\"/><line x1=\"51.362\" y1=\"300.943\" x2=\"57.79\" y2=\"293.283\" stroke-linecap=\"round\" style=\"stroke:black;stroke-width:12\"/><line x1=\"57.79\" y1=\"293.283\" x2=\"64.218\" y2=\"285.623\" stroke-linecap=\"round\" style=\"stroke:black;stroke-width:12\"/><line x1=\"64.218\" y1=\"285.623\" x2=\"70.646\" y2=\"277.963\" stroke-linecap=\"round\" style=\"stroke:black;stroke-width:12\"/><line x1=\"70.646\" y1=\"277.963\" x2=\"77.074\" y2=\"270.303\" stroke-linecap=\"round\" style=\"stroke:black;stroke-width:12\"/><line x1=\"77.074\" y1=\"270.303\" x2=\"83.502\" y2=\"262.643\" stroke-linecap=\"round\" style=\"stroke:black;stroke-width:12\"/><line x1=\"83.502\" y1=\"262.643\" x2=\"89.93\" y2=\"254.983\" stroke-linecap=\"round\" style=\"stroke:black;stroke-width:12\"/><line x1=\"89.93\" y1=\"254.983\" x2=\"96.358\" y2=\"247.323\" stroke-linecap=\"round\" style=\"stroke:black;stroke-width:12\"/><line x1=\"96.358\" y1=\"247.323\" x2=\"102.786\" y2=\"239.663\" stroke-linecap=\"round\" style=\"stroke:black;stroke-width:12\"/><line x1=\"102.786\" y1=\"239.663\" x2=\"109.214\" y2=\"232.003\" stroke-linecap=\"round\" style=\"stroke:black;stroke-width:12\"/><line x1=\"109.214\" y1=\"232.003\" x2=\"115.642\" y2=\"224.343\" stroke-linecap=\"round\" style=\"stroke:black;stroke-width:12\"/><line x1=\"115.642\" y1=\"224.343\" x2=\"122.07\" y2=\"216.683\" stroke-linecap=\"round\" style=\"stroke:black;stroke-width:12\"/><line x1=\"122.07\" y1=\"216.683\" x2=\"128.498\" y2=\"209.023\" stroke-linecap=\"round\" style=\"stroke:black;stroke-width:12\"/><line x1=\"128.498\" y1=\"209.023\" x2=\"134.926\" y2=\"201.363\" stroke-linecap=\"round\" style=\"stroke:black;stroke-width:12\"/><line x1=\"134.926\" y1=\"201.363\" x2=\"141.354\" y2=\"193.703\" stroke-linecap=\"round\" style=\"stroke:black;stroke-width:12\"/><line x1=\"141.354\" y1=\"193.703\" x2=\"147.782\" y2=\"186.043\" stroke-linecap=\"round\" style=\"stroke:black;stroke-width:12\"/><line x1=\"147.782\" y1=\"186.043\" x2=\"154.21\" y2=\"178.383\" stroke-linecap=\"round\" style=\"stroke:black;stroke-width:12\"/><line x1=\"154.21\" y1=\"178.383\" x2=\"160.638\" y2=\"170.723\" stroke-linecap=\"round\" style=\"stroke:black;stroke-width:12\"/><line x1=\"160.638\" y1=\"170.723\" x2=\"167.066\" y2=\"163.063\" stroke-linecap=\"round\" style=\"stroke:black;stroke-width:12\"/><line x1=\"167.066\" y1=\"163.063\" x2=\"173.494\" y2=\"155.403\" stroke-linecap=\"round\" style=\"stroke:black;stroke-width:12\"/><line x1=\"173.494\" y1=\"155.403\" x2=\"179.922\" y2=\"147.743\" stroke-linecap=\"round\" style=\"stroke:black;stroke-width:12\"/><line x1=\"179.922\" y1=\"147.743\" x2=\"186.35\" y2=\"140.083\" stroke-linecap=\"round\" style=\"stroke:black;stroke-width:12\"/><line x1=\"186.35\" y1=\"140.083\" x2=\"192.778\" y2=\"132.423\" stroke-linecap=\"round\" style=\"stroke:black;stroke-width:12\"/><line x1=\"192.778\" y1=\"132.423\" x2=\"199.206\" y2=\"124.763\" stroke-linecap=\"round\" style=\"stroke:black;stroke-width:12\"/><line x1=\"199.206\" y1=\"124.763\" x2=\"205.634\" y2=\"117.103\" stroke-linecap=\"round\" style=\"stroke:black;stroke-width:12\"/><line x1=\"205.634\" y1=\"117.103\" x2=\"212.062\" y2=\"109.443\" stroke-linecap=\"round\" style=\"stroke:black;stroke-width:12\"/><line x1=\"212.062\" y1=\"109.443\" x2=\"218.49\" y2=\"101.783\" stroke-linecap=\"round\" style=\"stroke:black;stroke-width:12\"/><line x1=\"218.49\" y1=\"101.783\" x2=\"224.918\" y2=\"94.123\" stroke-linecap=\"round\" style=\"stroke:black;stroke-width:12\"/><line x1=\"224.918\" y1=\"94.123\" x2=\"231.346\" y2=\"86.463\" stroke-linecap=\"round\" style=\"stroke:black;stroke-width:12\"/><line x1=\"231.346\" y1=\"86.463\" x2=\"237.774\" y2=\"78.803\" stroke-linecap=\"round\" style=\"stroke:black;stroke-width:12\"/><line x1=\"237.774\" y1=\"78.803\" x2=\"244.202\" y2=\"71.143\" stroke-linecap=\"round\" style=\"stroke:black;stroke-width:12\"/><line x1=\"244.202\" y1=\"71.143\" x2=\"250.63\" y2=\"63.483\" stroke-linecap=\"round\" style=\"stroke:black;stroke-width:12\"/><line x1=\"250.63\" y1=\"63.483\" x2=\"257.058\" y2=\"55.823\" stroke-linecap=\"round\" style=\"stroke:black;stroke-width:12\"/><line x1=\"257.058\" y1=\"55.823\" x2=\"263.486\" y2=\"48.163\" stroke-linecap=\"round\" style=\"stroke:black;stroke-width:12\"/><line x1=\"263.486\" y1=\"48.163\" x2=\"269.914\" y2=\"40.503\" stroke-linecap=\"round\" style=\"stroke:black;stroke-width:12\"/><line x1=\"269.914\" y1=\"40.503\" x2=\"276.342\" y2=\"32.843\" stroke-linecap=\"round\" style=\"stroke:black;stroke-width:12\"/><line x1=\"276.342\" y1=\"32.843\" x2=\"282.77\" y2=\"25.183\" stroke-linecap=\"round\" style=\"stroke:black;stroke-width:12\"/><line x1=\"282.77\" y1=\"25.183\" x2=\"289.198\" y2=\"17.523\" stroke-linecap=\"round\" style=\"stroke:black;stroke-width:12\"/><line x1=\"289.198\" y1=\"17.523\" x2=\"295.626\" y2=\"9.863\" stroke-linecap=\"round\" style=\"stroke:black;stroke-width:12\"/><line x1=\"295.626\" y1=\"9.863\" x2=\"302.054\" y2=\"2.203\" stroke-linecap=\"round\" style=\"stroke:black;stroke-width:12\"/><line x1=\"302.054\" y1=\"2.203\" x2=\"308.482\" y2=\"-5.457\" stroke-linecap=\"round\" style=\"stroke:black;stroke-width:12\"/><line x1=\"308.482\" y1=\"-5.457\" x2=\"318.124\" y2=\"6.034\" stroke-linecap=\"round\" style=\"stroke:black;stroke-width:12\"/><line x1=\"318.124\" y1=\"6.034\" x2=\"324.552\" y2=\"13.694\" stroke-linecap=\"round\" style=\"stroke:black;stroke-width:12\"/><line x1=\"324.552\" y1=\"13.694\" x2=\"330.98\" y2=\"21.354\" stroke-linecap=\"round\" style=\"stroke:black;stroke-width:12\"/><line x1=\"330.98\" y1=\"21.354\" x2=\"337.408\" y2=\"29.014\" stroke-linecap=\"round\" style=\"stroke:black;stroke-width:12\"/><line x1=\"337.408\" y1=\"29.014\" x2=\"343.836\" y2=\"36.674\" stroke-linecap=\"round\" style=\"stroke:black;stroke-width:12\"/><line x1=\"343.836\" y1=\"36.674\" x2=\"350.264\" y2=\"44.334\" stroke-linecap=\"round\" style=\"stroke:black;stroke-width:12\"/><line x1=\"350.264\" y1=\"44.334\" x2=\"356.692\" y2=\"51.994\" stroke-linecap=\"round\" style=\"stroke:black;stroke-width:12\"/><line x1=\"356.692\" y1=\"51.994\" x2=\"363.12\" y2=\"59.654\" stroke-linecap=\"round\" style=\"stroke:black;stroke-width:12\"/><line x1=\"363.12\" y1=\"59.654\" x2=\"369.548\" y2=\"67.314\" stroke-linecap=\"round\" style=\"stroke:black;stroke-width:12\"/><line x1=\"369.548\" y1=\"67.314\" x2=\"375.976\" y2=\"74.974\" stroke-linecap=\"round\" style=\"stroke:black;stroke-width:12\"/><line x1=\"375.976\" y1=\"74.974\" x2=\"382.404\" y2=\"82.634\" stroke-linecap=\"round\" style=\"stroke:black;stroke-width:12\"/><line x1=\"382.404\" y1=\"82.634\" x2=\"388.832\" y2=\"90.294\" stroke-linecap=\"round\" style=\"stroke:black;stroke-width:12\"/><line x1=\"388.832\" y1=\"90.294\" x2=\"395.26\" y2=\"97.954\" stroke-linecap=\"round\" style=\"stroke:black;stroke-width:12\"/><line x1=\"395.26\" y1=\"97.954\" x2=\"401.688\" y2=\"105.614\" stroke-linecap=\"round\" style=\"stroke:black;stroke-width:12\"/><line x1=\"401.688\" y1=\"105.614\" x2=\"408.116\" y2=\"113.274\" stroke-linecap=\"round\" style=\"stroke:black;stroke-width:12\"/><line x1=\"408.116\" y1=\"113.274\" x2=\"414.544\" y2=\"120.934\" stroke-linecap=\"round\" style=\"stroke:black;stroke-width:12\"/><line x1=\"414.544\" y1=\"120.934\" x2=\"420.972\" y2=\"128.594\" stroke-linecap=\"round\" style=\"stroke:black;stroke-width:12\"/><line x1=\"420.972\" y1=\"128.594\" x2=\"427.4\" y2=\"136.254\" stroke-linecap=\"round\" style=\"stroke:black;stroke-width:12\"/><line x1=\"427.4\" y1=\"136.254\" x2=\"433.828\" y2=\"143.914\" stroke-linecap=\"round\" style=\"stroke:black;stroke-width:12\"/><line x1=\"433.828\" y1=\"143.914\" x2=\"440.256\" y2=\"151.574\" stroke-linecap=\"round\" style=\"stroke:black;stroke-width:12\"/><line x1=\"440.256\" y1=\"151.574\" x2=\"446.684\" y2=\"159.234\" stroke-linecap=\"round\" style=\"stroke:black;stroke-width:12\"/><line x1=\"446.684\" y1=\"159.234\" x2=\"453.112\" y2=\"166.894\" stroke-linecap=\"round\" style=\"stroke:black;stroke-width:12\"/><line x1=\"453.112\" y1=\"166.894\" x2=\"459.54\" y2=\"174.554\" stroke-linecap=\"round\" style=\"stroke:black;stroke-width:12\"/><line x1=\"459.54\" y1=\"174.554\" x2=\"465.968\" y2=\"182.214\" stroke-linecap=\"round\" style=\"stroke:black;stroke-width:12\"/><line x1=\"465.968\" y1=\"182.214\" x2=\"472.396\" y2=\"189.874\" stroke-linecap=\"round\" style=\"stroke:black;stroke-width:12\"/><line x1=\"472.396\" y1=\"189.874\" x2=\"478.824\" y2=\"197.534\" stroke-linecap=\"round\" style=\"stroke:black;stroke-width:12\"/><line x1=\"478.824\" y1=\"197.534\" x2=\"485.252\" y2=\"205.194\" stroke-linecap=\"round\" style=\"stroke:black;stroke-width:12\"/><line x1=\"485.252\" y1=\"205.194\" x2=\"491.68\" y2=\"212.854\" stroke-linecap=\"round\" style=\"stroke:black;stroke-width:12\"/><line x1=\"491.68\" y1=\"212.854\" x2=\"498.108\" y2=\"220.514\" stroke-linecap=\"round\" style=\"stroke:black;stroke-width:12\"/><line x1=\"498.108\" y1=\"220.514\" x2=\"504.536\" y2=\"228.174\" stroke-linecap=\"round\" style=\"stroke:black;stroke-width:12\"/><line x1=\"504.536\" y1=\"228.174\" x2=\"510.964\" y2=\"235.834\" stroke-linecap=\"round\" style=\"stroke:black;stroke-width:12\"/><line x1=\"510.964\" y1=\"235.834\" x2=\"517.392\" y2=\"243.494\" stroke-linecap=\"round\" style=\"stroke:black;stroke-width:12\"/><line x1=\"517.392\" y1=\"243.494\" x2=\"523.82\" y2=\"251.154\" stroke-linecap=\"round\" style=\"stroke:black;stroke-width:12\"/><line x1=\"523.82\" y1=\"251.154\" x2=\"530.248\" y2=\"258.814\" stroke-linecap=\"round\" style=\"stroke:black;stroke-width:12\"/><line x1=\"530.248\" y1=\"258.814\" x2=\"536.676\" y2=\"266.474\" stroke-linecap=\"round\" style=\"stroke:black;stroke-width:12\"/><line x1=\"536.676\" y1=\"266.474\" x2=\"543.104\" y2=\"274.134\" stroke-linecap=\"round\" style=\"stroke:black;stroke-width:12\"/><line x1=\"543.104\" y1=\"274.134\" x2=\"549.532\" y2=\"281.794\" stroke-linecap=\"round\" style=\"stroke:black;stroke-width:12\"/><line x1=\"549.532\" y1=\"281.794\" x2=\"555.96\" y2=\"289.454\" stroke-linecap=\"round\" style=\"stroke:black;stroke-width:12\"/><line x1=\"555.96\" y1=\"289.454\" x2=\"562.388\" y2=\"297.114\" stroke-linecap=\"round\" style=\"stroke:black;stroke-width:12\"/><line x1=\"562.388\" y1=\"297.114\" x2=\"568.816\" y2=\"304.774\" stroke-linecap=\"round\" style=\"stroke:black;stroke-width:12\"/><line x1=\"568.816\" y1=\"304.774\" x2=\"575.244\" y2=\"312.434\" stroke-linecap=\"round\" style=\"stroke:black;stroke-width:12\"/><line x1=\"575.244\" y1=\"312.434\" x2=\"581.672\" y2=\"320.094\" stroke-linecap=\"round\" style=\"stroke:black;stroke-width:12\"/><line x1=\"581.672\" y1=\"320.094\" x2=\"588.1\" y2=\"327.754\" stroke-linecap=\"round\" style=\"stroke:black;stroke-width:12\"/><line x1=\"588.1\" y1=\"327.754\" x2=\"594.528\" y2=\"335.414\" stroke-linecap=\"round\" style=\"stroke:black;stroke-width:12\"/><line x1=\"594.528\" y1=\"335.414\" x2=\"600.956\" y2=\"343.074\" stroke-linecap=\"round\" style=\"stroke:black;stroke-width:12\"/><line x1=\"600.956\" y1=\"343.074\" x2=\"607.384\" y2=\"350.734\" stroke-linecap=\"round\" style=\"stroke:black;stroke-width:12\"/><line x1=\"607.384\" y1=\"350.734\" x2=\"613.812\" y2=\"358.394\" stroke-linecap=\"round\" style=\"stroke:black;stroke-width:12\"/><line x1=\"613.812\" y1=\"358.394\" x2=\"620.24\" y2=\"366.054\" stroke-linecap=\"round\" style=\"stroke:black;stroke-width:12\"/><line x1=\"620.24\" y1=\"366.054\" x2=\"626.668\" y2=\"373.714\" stroke-linecap=\"round\" style=\"stroke:black;stroke-width:12\"/><line x1=\"626.668\" y1=\"373.714\" x2=\"633.096\" y2=\"381.374\" stroke-linecap=\"round\" style=\"stroke:black;stroke-width:12\"/><line x1=\"633.096\" y1=\"381.374\" x2=\"639.524\" y2=\"389.034\" stroke-linecap=\"round\" style=\"stroke:black;stroke-width:12\"/><line x1=\"639.524\" y1=\"389.034\" x2=\"645.952\" y2=\"396.694\" stroke-linecap=\"round\" style=\"stroke:black;stroke-width:12\"/><line x1=\"645.952\" y1=\"396.694\" x2=\"652.38\" y2=\"404.354\" stroke-linecap=\"round\" style=\"stroke:black;stroke-width:12\"/><line x1=\"652.38\" y1=\"404.354\" x2=\"658.808\" y2=\"412.014\" stroke-linecap=\"round\" style=\"stroke:black;stroke-width:12\"/><line x1=\"658.808\" y1=\"412.014\" x2=\"665.236\" y2=\"419.674\" stroke-linecap=\"round\" style=\"stroke:black;stroke-width:12\"/><line x1=\"665.236\" y1=\"419.674\" x2=\"671.664\" y2=\"427.334\" stroke-linecap=\"round\" style=\"stroke:black;stroke-width:12\"/><line x1=\"671.664\" y1=\"427.334\" x2=\"678.092\" y2=\"434.994\" stroke-linecap=\"round\" style=\"stroke:black;stroke-width:12\"/><line x1=\"678.092\" y1=\"434.994\" x2=\"684.52\" y2=\"442.654\" stroke-linecap=\"round\" style=\"stroke:black;stroke-width:12\"/><line x1=\"684.52\" y1=\"442.654\" x2=\"690.948\" y2=\"450.314\" stroke-linecap=\"round\" style=\"stroke:black;stroke-width:12\"/><line x1=\"690.948\" y1=\"450.314\" x2=\"697.376\" y2=\"457.974\" stroke-linecap=\"round\" style=\"stroke:black;stroke-width:12\"/><line x1=\"697.376\" y1=\"457.974\" x2=\"703.804\" y2=\"465.634\" stroke-linecap=\"round\" style=\"stroke:black;stroke-width:12\"/><line x1=\"703.804\" y1=\"465.634\" x2=\"710.232\" y2=\"473.294\" stroke-linecap=\"round\" style=\"stroke:black;stroke-width:12\"/><line x1=\"710.232\" y1=\"473.294\" x2=\"716.66\" y2=\"480.954\" stroke-linecap=\"round\" style=\"stroke:black;stroke-width:12\"/><line x1=\"716.66\" y1=\"480.954\" x2=\"723.088\" y2=\"488.614\" stroke-linecap=\"round\" style=\"stroke:black;stroke-width:12\"/><line x1=\"723.088\" y1=\"488.614\" x2=\"729.516\" y2=\"496.274\" stroke-linecap=\"round\" style=\"stroke:black;stroke-width:12\"/><line x1=\"729.516\" y1=\"496.274\" x2=\"735.944\" y2=\"503.934\" stroke-linecap=\"round\" style=\"stroke:black;stroke-width:12\"/><line x1=\"735.944\" y1=\"503.934\" x2=\"745.586\" y2=\"492.443\" stroke-linecap=\"round\" style=\"stroke:black;stroke-width:12\"/><line x1=\"745.586\" y1=\"492.443\" x2=\"752.014\" y2=\"484.783\" stroke-linecap=\"round\" style=\"stroke:black;stroke-width:12\"/><line x1=\"752.014\" y1=\"484.783\" x2=\"758.442\" y2=\"477.123\" stroke-linecap=\"round\" style=\"stroke:black;stroke-width:12\"/><line x1=\"758.442\" y1=\"477.123\" x2=\"764.87\" y2=\"469.463\" stroke-linecap=\"round\" style=\"stroke:black;stroke-width:12\"/><line x1=\"764.87\" y1=\"469.463\" x2=\"771.298\" y2=\"461.803\" stroke-linecap=\"round\" style=\"stroke:black;stroke-width:12\"/><line x1=\"771.298\" y1=\"461.803\" x2=\"777.726\" y2=\"454.143\" stroke-linecap=\"round\" style=\"stroke:black;stroke-width:12\"/><line x1=\"777.726\" y1=\"454.143\" x2=\"784.154\" y2=\"446.483\" stroke-linecap=\"round\" style=\"stroke:black;stroke-width:12\"/><line x1=\"784.154\" y1=\"446.483\" x2=\"790.582\" y2=\"438.823\" stroke-linecap=\"round\" style=\"stroke:black;stroke-width:12\"/><line x1=\"790.582\" y1=\"438.823\" x2=\"797.01\" y2=\"431.163\" stroke-linecap=\"round\" style=\"stroke:black;stroke-width:12\"/><line x1=\"797.01\" y1=\"431.163\" x2=\"803.438\" y2=\"423.503\" stroke-linecap=\"round\" style=\"stroke:black;stroke-width:12\"/><line x1=\"803.438\" y1=\"423.503\" x2=\"793.796\" y2=\"412.012\" stroke-linecap=\"round\" style=\"stroke:black;stroke-width:12\"/><line x1=\"793.796\" y1=\"412.012\" x2=\"787.368\" y2=\"404.352\" stroke-linecap=\"round\" style=\"stroke:black;stroke-width:12\"/><line x1=\"787.368\" y1=\"404.352\" x2=\"780.94\" y2=\"396.692\" stroke-linecap=\"round\" style=\"stroke:black;stroke-width:12\"/><line x1=\"780.94\" y1=\"396.692\" x2=\"774.512\" y2=\"389.032\" stroke-linecap=\"round\" style=\"stroke:black;stroke-width:12\"/><line x1=\"774.512\" y1=\"389.032\" x2=\"768.084\" y2=\"381.372\" stroke-linecap=\"round\" style=\"stroke:black;stroke-width:12\"/><line x1=\"768.084\" y1=\"381.372\" x2=\"761.656\" y2=\"373.712\" stroke-linecap=\"round\" style=\"stroke:black;stroke-width:12\"/><line x1=\"761.656\" y1=\"373.712\" x2=\"755.228\" y2=\"366.052\" stroke-linecap=\"round\" style=\"stroke:black;stroke-width:12\"/><line x1=\"755.228\" y1=\"366.052\" x2=\"748.8\" y2=\"358.392\" stroke-linecap=\"round\" style=\"stroke:black;stroke-width:12\"/><line x1=\"748.8\" y1=\"358.392\" x2=\"742.372\" y2=\"350.732\" stroke-linecap=\"round\" style=\"stroke:black;stroke-width:12\"/><line x1=\"742.372\" y1=\"350.732\" x2=\"735.944\" y2=\"343.072\" stroke-linecap=\"round\" style=\"stroke:black;stroke-width:12\"/><line x1=\"735.944\" y1=\"343.072\" x2=\"729.516\" y2=\"335.412\" stroke-linecap=\"round\" style=\"stroke:black;stroke-width:12\"/><line x1=\"729.516\" y1=\"335.412\" x2=\"723.088\" y2=\"327.752\" stroke-linecap=\"round\" style=\"stroke:black;stroke-width:12\"/><line x1=\"723.088\" y1=\"327.752\" x2=\"716.66\" y2=\"320.092\" stroke-linecap=\"round\" style=\"stroke:black;stroke-width:12\"/><line x1=\"716.66\" y1=\"320.092\" x2=\"710.232\" y2=\"312.432\" stroke-linecap=\"round\" style=\"stroke:black;stroke-width:12\"/><line x1=\"710.232\" y1=\"312.432\" x2=\"703.804\" y2=\"304.772\" stroke-linecap=\"round\" style=\"stroke:black;stroke-width:12\"/><line x1=\"703.804\" y1=\"304.772\" x2=\"697.376\" y2=\"297.112\" stroke-linecap=\"round\" style=\"stroke:black;stroke-width:12\"/><line x1=\"697.376\" y1=\"297.112\" x2=\"690.948\" y2=\"289.452\" stroke-linecap=\"round\" style=\"stroke:black;stroke-width:12\"/><line x1=\"690.948\" y1=\"289.452\" x2=\"684.52\" y2=\"281.792\" stroke-linecap=\"round\" style=\"stroke:black;stroke-width:12\"/><line x1=\"684.52\" y1=\"281.792\" x2=\"678.092\" y2=\"274.132\" stroke-linecap=\"round\" style=\"stroke:black;stroke-width:12\"/><line x1=\"678.092\" y1=\"274.132\" x2=\"671.664\" y2=\"266.472\" stroke-linecap=\"round\" style=\"stroke:black;stroke-width:12\"/><line x1=\"671.664\" y1=\"266.472\" x2=\"665.236\" y2=\"258.812\" stroke-linecap=\"round\" style=\"stroke:black;stroke-width:12\"/><line x1=\"665.236\" y1=\"258.812\" x2=\"658.808\" y2=\"251.152\" stroke-linecap=\"round\" style=\"stroke:black;stroke-width:12\"/><line x1=\"658.808\" y1=\"251.152\" x2=\"652.38\" y2=\"243.492\" stroke-linecap=\"round\" style=\"stroke:black;stroke-width:12\"/><line x1=\"652.38\" y1=\"243.492\" x2=\"645.952\" y2=\"235.832\" stroke-linecap=\"round\" style=\"stroke:black;stroke-width:12\"/><line x1=\"645.952\" y1=\"235.832\" x2=\"639.524\" y2=\"228.172\" stroke-linecap=\"round\" style=\"stroke:black;stroke-width:12\"/><line x1=\"639.524\" y1=\"228.172\" x2=\"633.096\" y2=\"220.512\" stroke-linecap=\"round\" style=\"stroke:black;stroke-width:12\"/><line x1=\"633.096\" y1=\"220.512\" x2=\"626.668\" y2=\"212.852\" stroke-linecap=\"round\" style=\"stroke:black;stroke-width:12\"/><line x1=\"626.668\" y1=\"212.852\" x2=\"620.24\" y2=\"205.192\" stroke-linecap=\"round\" style=\"stroke:black;stroke-width:12\"/><line x1=\"620.24\" y1=\"205.192\" x2=\"613.812\" y2=\"197.532\" stroke-linecap=\"round\" style=\"stroke:black;stroke-width:12\"/><line x1=\"613.812\" y1=\"197.532\" x2=\"607.384\" y2=\"189.872\" stroke-linecap=\"round\" style=\"stroke:black;stroke-width:12\"/><line x1=\"607.384\" y1=\"189.872\" x2=\"600.956\" y2=\"182.212\" stroke-linecap=\"round\" style=\"stroke:black;stroke-width:12\"/><line x1=\"600.956\" y1=\"182.212\" x2=\"594.528\" y2=\"174.552\" stroke-linecap=\"round\" style=\"stroke:black;stroke-width:12\"/><line x1=\"594.528\" y1=\"174.552\" x2=\"588.1\" y2=\"166.892\" stroke-linecap=\"round\" style=\"stroke:black;stroke-width:12\"/><line x1=\"588.1\" y1=\"166.892\" x2=\"581.672\" y2=\"159.232\" stroke-linecap=\"round\" style=\"stroke:black;stroke-width:12\"/><line x1=\"581.672\" y1=\"159.232\" x2=\"575.244\" y2=\"151.572\" stroke-linecap=\"round\" style=\"stroke:black;stroke-width:12\"/><line x1=\"575.244\" y1=\"151.572\" x2=\"568.816\" y2=\"143.912\" stroke-linecap=\"round\" style=\"stroke:black;stroke-width:12\"/><line x1=\"568.816\" y1=\"143.912\" x2=\"562.388\" y2=\"136.252\" stroke-linecap=\"round\" style=\"stroke:black;stroke-width:12\"/><line x1=\"562.388\" y1=\"136.252\" x2=\"555.96\" y2=\"128.592\" stroke-linecap=\"round\" style=\"stroke:black;stroke-width:12\"/><line x1=\"555.96\" y1=\"128.592\" x2=\"549.532\" y2=\"120.932\" stroke-linecap=\"round\" style=\"stroke:black;stroke-width:12\"/><line x1=\"549.532\" y1=\"120.932\" x2=\"543.104\" y2=\"113.272\" stroke-linecap=\"round\" style=\"stroke:black;stroke-width:12\"/><line x1=\"543.104\" y1=\"113.272\" x2=\"536.676\" y2=\"105.612\" stroke-linecap=\"round\" style=\"stroke:black;stroke-width:12\"/><line x1=\"536.676\" y1=\"105.612\" x2=\"530.248\" y2=\"97.952\" stroke-linecap=\"round\" style=\"stroke:black;stroke-width:12\"/><line x1=\"530.248\" y1=\"97.952\" x2=\"523.82\" y2=\"90.292\" stroke-linecap=\"round\" style=\"stroke:black;stroke-width:12\"/><line x1=\"523.82\" y1=\"90.292\" x2=\"517.392\" y2=\"82.632\" stroke-linecap=\"round\" style=\"stroke:black;stroke-width:12\"/><line x1=\"517.392\" y1=\"82.632\" x2=\"510.964\" y2=\"74.972\" stroke-linecap=\"round\" style=\"stroke:black;stroke-width:12\"/><line x1=\"510.964\" y1=\"74.972\" x2=\"504.536\" y2=\"67.312\" stroke-linecap=\"round\" style=\"stroke:black;stroke-width:12\"/><line x1=\"504.536\" y1=\"67.312\" x2=\"498.108\" y2=\"59.652\" stroke-linecap=\"round\" style=\"stroke:black;stroke-width:12\"/><line x1=\"498.108\" y1=\"59.652\" x2=\"491.68\" y2=\"51.992\" stroke-linecap=\"round\" style=\"stroke:black;stroke-width:12\"/><line x1=\"491.68\" y1=\"51.992\" x2=\"485.252\" y2=\"44.332\" stroke-linecap=\"round\" style=\"stroke:black;stroke-width:12\"/><line x1=\"485.252\" y1=\"44.332\" x2=\"478.824\" y2=\"36.672\" stroke-linecap=\"round\" style=\"stroke:black;stroke-width:12\"/><line x1=\"478.824\" y1=\"36.672\" x2=\"472.396\" y2=\"29.012\" stroke-linecap=\"round\" style=\"stroke:black;stroke-width:12\"/><line x1=\"472.396\" y1=\"29.012\" x2=\"465.968\" y2=\"21.352\" stroke-linecap=\"round\" style=\"stroke:black;stroke-width:12\"/><line x1=\"465.968\" y1=\"21.352\" x2=\"459.54\" y2=\"13.692\" stroke-linecap=\"round\" style=\"stroke:black;stroke-width:12\"/><line x1=\"459.54\" y1=\"13.692\" x2=\"453.112\" y2=\"6.032\" stroke-linecap=\"round\" style=\"stroke:black;stroke-width:12\"/><line x1=\"453.112\" y1=\"6.032\" x2=\"446.684\" y2=\"-1.628\" stroke-linecap=\"round\" style=\"stroke:black;stroke-width:12\"/><line x1=\"446.684\" y1=\"-1.628\" x2=\"437.042\" y2=\"9.863\" stroke-linecap=\"round\" style=\"stroke:black;stroke-width:12\"/><line x1=\"437.042\" y1=\"9.863\" x2=\"430.614\" y2=\"17.523\" stroke-linecap=\"round\" style=\"stroke:black;stroke-width:12\"/><line x1=\"430.614\" y1=\"17.523\" x2=\"424.186\" y2=\"25.183\" stroke-linecap=\"round\" style=\"stroke:black;stroke-width:12\"/><line x1=\"424.186\" y1=\"25.183\" x2=\"417.758\" y2=\"32.843\" stroke-linecap=\"round\" style=\"stroke:black;stroke-width:12\"/><line x1=\"417.758\" y1=\"32.843\" x2=\"411.33\" y2=\"40.503\" stroke-linecap=\"round\" style=\"stroke:black;stroke-width:12\"/><line x1=\"411.33\" y1=\"40.503\" x2=\"404.902\" y2=\"48.163\" stroke-linecap=\"round\" style=\"stroke:black;stroke-width:12\"/><line x1=\"404.902\" y1=\"48.163\" x2=\"398.474\" y2=\"55.823\" stroke-linecap=\"round\" style=\"stroke:black;stroke-width:12\"/><line x1=\"398.474\" y1=\"55.823\" x2=\"392.046\" y2=\"63.483\" stroke-linecap=\"round\" style=\"stroke:black;stroke-width:12\"/><line x1=\"392.046\" y1=\"63.483\" x2=\"385.618\" y2=\"71.143\" stroke-linecap=\"round\" style=\"stroke:black;stroke-width:12\"/><line x1=\"385.618\" y1=\"71.143\" x2=\"379.19\" y2=\"78.803\" stroke-linecap=\"round\" style=\"stroke:black;stroke-width:12\"/><line x1=\"379.19\" y1=\"78.803\" x2=\"372.762\" y2=\"86.463\" stroke-linecap=\"round\" style=\"stroke:black;stroke-width:12\"/><line x1=\"372.762\" y1=\"86.463\" x2=\"366.334\" y2=\"94.123\" stroke-linecap=\"round\" style=\"stroke:black;stroke-width:12\"/><line x1=\"366.334\" y1=\"94.123\" x2=\"359.906\" y2=\"101.783\" stroke-linecap=\"round\" style=\"stroke:black;stroke-width:12\"/><line x1=\"359.906\" y1=\"101.783\" x2=\"353.478\" y2=\"109.443\" stroke-linecap=\"round\" style=\"stroke:black;stroke-width:12\"/><line x1=\"353.478\" y1=\"109.443\" x2=\"347.05\" y2=\"117.103\" stroke-linecap=\"round\" style=\"stroke:black;stroke-width:12\"/><line x1=\"347.05\" y1=\"117.103\" x2=\"340.622\" y2=\"124.763\" stroke-linecap=\"round\" style=\"stroke:black;stroke-width:12\"/><line x1=\"340.622\" y1=\"124.763\" x2=\"334.194\" y2=\"132.423\" stroke-linecap=\"round\" style=\"stroke:black;stroke-width:12\"/><line x1=\"334.194\" y1=\"132.423\" x2=\"327.766\" y2=\"140.083\" stroke-linecap=\"round\" style=\"stroke:black;stroke-width:12\"/><line x1=\"327.766\" y1=\"140.083\" x2=\"321.338\" y2=\"147.743\" stroke-linecap=\"round\" style=\"stroke:black;stroke-width:12\"/><line x1=\"321.338\" y1=\"147.743\" x2=\"314.91\" y2=\"155.403\" stroke-linecap=\"round\" style=\"stroke:black;stroke-width:12\"/><line x1=\"314.91\" y1=\"155.403\" x2=\"308.482\" y2=\"163.063\" stroke-linecap=\"round\" style=\"stroke:black;stroke-width:12\"/><line x1=\"308.482\" y1=\"163.063\" x2=\"302.054\" y2=\"170.723\" stroke-linecap=\"round\" style=\"stroke:black;stroke-width:12\"/><line x1=\"302.054\" y1=\"170.723\" x2=\"295.626\" y2=\"178.383\" stroke-linecap=\"round\" style=\"stroke:black;stroke-width:12\"/><line x1=\"295.626\" y1=\"178.383\" x2=\"289.198\" y2=\"186.043\" stroke-linecap=\"round\" style=\"stroke:black;stroke-width:12\"/><line x1=\"289.198\" y1=\"186.043\" x2=\"282.77\" y2=\"193.703\" stroke-linecap=\"round\" style=\"stroke:black;stroke-width:12\"/><line x1=\"282.77\" y1=\"193.703\" x2=\"276.342\" y2=\"201.363\" stroke-linecap=\"round\" style=\"stroke:black;stroke-width:12\"/><line x1=\"276.342\" y1=\"201.363\" x2=\"269.914\" y2=\"209.023\" stroke-linecap=\"round\" style=\"stroke:black;stroke-width:12\"/><line x1=\"269.914\" y1=\"209.023\" x2=\"263.486\" y2=\"216.683\" stroke-linecap=\"round\" style=\"stroke:black;stroke-width:12\"/><line x1=\"263.486\" y1=\"216.683\" x2=\"257.058\" y2=\"224.343\" stroke-linecap=\"round\" style=\"stroke:black;stroke-width:12\"/><line x1=\"257.058\" y1=\"224.343\" x2=\"250.63\" y2=\"232.003\" stroke-linecap=\"round\" style=\"stroke:black;stroke-width:12\"/><line x1=\"250.63\" y1=\"232.003\" x2=\"244.202\" y2=\"239.663\" stroke-linecap=\"round\" style=\"stroke:black;stroke-width:12\"/><line x1=\"244.202\" y1=\"239.663\" x2=\"237.774\" y2=\"247.323\" stroke-linecap=\"round\" style=\"stroke:black;stroke-width:12\"/><line x1=\"237.774\" y1=\"247.323\" x2=\"231.346\" y2=\"254.983\" stroke-linecap=\"round\" style=\"stroke:black;stroke-width:12\"/><line x1=\"231.346\" y1=\"254.983\" x2=\"224.918\" y2=\"262.643\" stroke-linecap=\"round\" style=\"stroke:black;stroke-width:12\"/><line x1=\"224.918\" y1=\"262.643\" x2=\"218.49\" y2=\"270.303\" stroke-linecap=\"round\" style=\"stroke:black;stroke-width:12\"/><line x1=\"218.49\" y1=\"270.303\" x2=\"212.062\" y2=\"277.963\" stroke-linecap=\"round\" style=\"stroke:black;stroke-width:12\"/><line x1=\"212.062\" y1=\"277.963\" x2=\"205.634\" y2=\"285.623\" stroke-linecap=\"round\" style=\"stroke:black;stroke-width:12\"/><line x1=\"205.634\" y1=\"285.623\" x2=\"199.206\" y2=\"293.283\" stroke-linecap=\"round\" style=\"stroke:black;stroke-width:12\"/><line x1=\"199.206\" y1=\"293.283\" x2=\"192.778\" y2=\"300.943\" stroke-linecap=\"round\" style=\"stroke:black;stroke-width:12\"/><line x1=\"192.778\" y1=\"300.943\" x2=\"186.35\" y2=\"308.603\" stroke-linecap=\"round\" style=\"stroke:black;stroke-width:12\"/><line x1=\"186.35\" y1=\"308.603\" x2=\"179.922\" y2=\"316.263\" stroke-linecap=\"round\" style=\"stroke:black;stroke-width:12\"/><line x1=\"179.922\" y1=\"316.263\" x2=\"173.494\" y2=\"323.923\" stroke-linecap=\"round\" style=\"stroke:black;stroke-width:12\"/><line x1=\"173.494\" y1=\"323.923\" x2=\"167.066\" y2=\"331.583\" stroke-linecap=\"round\" style=\"stroke:black;stroke-width:12\"/><line x1=\"167.066\" y1=\"331.583\" x2=\"160.638\" y2=\"339.243\" stroke-linecap=\"round\" style=\"stroke:black;stroke-width:12\"/><line x1=\"160.638\" y1=\"339.243\" x2=\"154.21\" y2=\"346.903\" stroke-linecap=\"round\" style=\"stroke:black;stroke-width:12\"/><line x1=\"154.21\" y1=\"346.903\" x2=\"147.782\" y2=\"354.563\" stroke-linecap=\"round\" style=\"stroke:black;stroke-width:12\"/><line x1=\"147.782\" y1=\"354.563\" x2=\"141.354\" y2=\"362.223\" stroke-linecap=\"round\" style=\"stroke:black;stroke-width:12\"/><line x1=\"141.354\" y1=\"362.223\" x2=\"134.926\" y2=\"369.883\" stroke-linecap=\"round\" style=\"stroke:black;stroke-width:12\"/><line x1=\"134.926\" y1=\"369.883\" x2=\"128.498\" y2=\"377.543\" stroke-linecap=\"round\" style=\"stroke:black;stroke-width:12\"/><line x1=\"128.498\" y1=\"377.543\" x2=\"122.07\" y2=\"385.203\" stroke-linecap=\"round\" style=\"stroke:black;stroke-width:12\"/><line x1=\"122.07\" y1=\"385.203\" x2=\"115.642\" y2=\"392.863\" stroke-linecap=\"round\" style=\"stroke:black;stroke-width:12\"/><line x1=\"115.642\" y1=\"392.863\" x2=\"109.214\" y2=\"400.523\" stroke-linecap=\"round\" style=\"stroke:black;stroke-width:12\"/><line x1=\"109.214\" y1=\"400.523\" x2=\"102.786\" y2=\"408.183\" stroke-linecap=\"round\" style=\"stroke:black;stroke-width:12\"/><line x1=\"102.786\" y1=\"408.183\" x2=\"96.358\" y2=\"415.843\" stroke-linecap=\"round\" style=\"stroke:black;stroke-width:12\"/><line x1=\"96.358\" y1=\"415.843\" x2=\"89.93\" y2=\"423.503\" stroke-linecap=\"round\" style=\"stroke:black;stroke-width:12\"/><line x1=\"89.93\" y1=\"423.503\" x2=\"83.502\" y2=\"431.163\" stroke-linecap=\"round\" style=\"stroke:black;stroke-width:12\"/><line x1=\"83.502\" y1=\"431.163\" x2=\"77.074\" y2=\"438.823\" stroke-linecap=\"round\" style=\"stroke:black;stroke-width:12\"/><line x1=\"77.074\" y1=\"438.823\" x2=\"70.646\" y2=\"446.483\" stroke-linecap=\"round\" style=\"stroke:black;stroke-width:12\"/><line x1=\"70.646\" y1=\"446.483\" x2=\"64.218\" y2=\"454.143\" stroke-linecap=\"round\" style=\"stroke:black;stroke-width:12\"/><line x1=\"64.218\" y1=\"454.143\" x2=\"57.79\" y2=\"461.803\" stroke-linecap=\"round\" style=\"stroke:black;stroke-width:12\"/><line x1=\"57.79\" y1=\"461.803\" x2=\"51.362\" y2=\"469.463\" stroke-linecap=\"round\" style=\"stroke:black;stroke-width:12\"/><line x1=\"51.362\" y1=\"469.463\" x2=\"44.934\" y2=\"477.123\" stroke-linecap=\"round\" style=\"stroke:black;stroke-width:12\"/><line x1=\"44.934\" y1=\"477.123\" x2=\"38.506\" y2=\"484.783\" stroke-linecap=\"round\" style=\"stroke:black;stroke-width:12\"/><line x1=\"38.506\" y1=\"484.783\" x2=\"32.078\" y2=\"492.443\" stroke-linecap=\"round\" style=\"stroke:black;stroke-width:12\"/><line x1=\"32.078\" y1=\"492.443\" x2=\"25.65\" y2=\"500.103\" stroke-linecap=\"round\" style=\"stroke:black;stroke-width:12\"/><line x1=\"25.65\" y1=\"500.103\" x2=\"16.008\" y2=\"488.612\" stroke-linecap=\"round\" style=\"stroke:black;stroke-width:12\"/><line x1=\"16.008\" y1=\"488.612\" x2=\"9.58\" y2=\"480.952\" stroke-linecap=\"round\" style=\"stroke:black;stroke-width:12\"/><line x1=\"9.58\" y1=\"480.952\" x2=\"3.152\" y2=\"473.292\" stroke-linecap=\"round\" style=\"stroke:black;stroke-width:12\"/><line x1=\"3.152\" y1=\"473.292\" x2=\"-3.276\" y2=\"465.632\" stroke-linecap=\"round\" style=\"stroke:black;stroke-width:12\"/><line x1=\"-3.276\" y1=\"465.632\" x2=\"6.366\" y2=\"454.141\" stroke-linecap=\"round\" style=\"stroke:black;stroke-width:12\"/><line x1=\"6.366\" y1=\"454.141\" x2=\"12.794\" y2=\"446.481\" stroke-linecap=\"round\" style=\"stroke:black;stroke-width:12\"/><line x1=\"12.794\" y1=\"446.481\" x2=\"19.222\" y2=\"438.821\" stroke-linecap=\"round\" style=\"stroke:black;stroke-width:12\"/><line x1=\"19.222\" y1=\"438.821\" x2=\"25.65\" y2=\"431.161\" stroke-linecap=\"round\" style=\"stroke:black;stroke-width:12\"/><line x1=\"25.65\" y1=\"431.161\" x2=\"32.078\" y2=\"423.501\" stroke-linecap=\"round\" style=\"stroke:black;stroke-width:12\"/><line x1=\"32.078\" y1=\"423.501\" x2=\"38.506\" y2=\"415.841\" stroke-linecap=\"round\" style=\"stroke:black;stroke-width:12\"/><line x1=\"38.506\" y1=\"415.841\" x2=\"44.934\" y2=\"408.181\" stroke-linecap=\"round\" style=\"stroke:black;stroke-width:12\"/><line x1=\"44.934\" y1=\"408.181\" x2=\"51.362\" y2=\"400.521\" stroke-linecap=\"round\" style=\"stroke:black;stroke-width:12\"/><line x1=\"51.362\" y1=\"400.521\" x2=\"57.79\" y2=\"392.861\" stroke-linecap=\"round\" style=\"stroke:black;stroke-width:12\"/><line x1=\"57.79\" y1=\"392.861\" x2=\"64.218\" y2=\"385.201\" stroke-linecap=\"round\" style=\"stroke:black;stroke-width:12\"/><line x1=\"64.218\" y1=\"385.201\" x2=\"70.646\" y2=\"377.541\" stroke-linecap=\"round\" style=\"stroke:black;stroke-width:12\"/><line x1=\"70.646\" y1=\"377.541\" x2=\"77.074\" y2=\"369.881\" stroke-linecap=\"round\" style=\"stroke:black;stroke-width:12\"/><line x1=\"77.074\" y1=\"369.881\" x2=\"83.502\" y2=\"362.221\" stroke-linecap=\"round\" style=\"stroke:black;stroke-width:12\"/><line x1=\"83.502\" y1=\"362.221\" x2=\"89.93\" y2=\"354.561\" stroke-linecap=\"round\" style=\"stroke:black;stroke-width:12\"/><line x1=\"89.93\" y1=\"354.561\" x2=\"96.358\" y2=\"346.901\" stroke-linecap=\"round\" style=\"stroke:black;stroke-width:12\"/><line x1=\"96.358\" y1=\"346.901\" x2=\"102.786\" y2=\"339.241\" stroke-linecap=\"round\" style=\"stroke:black;stroke-width:12\"/><line x1=\"102.786\" y1=\"339.241\" x2=\"109.214\" y2=\"331.581\" stroke-linecap=\"round\" style=\"stroke:black;stroke-width:12\"/><line x1=\"109.214\" y1=\"331.581\" x2=\"115.642\" y2=\"323.921\" stroke-linecap=\"round\" style=\"stroke:black;stroke-width:12\"/><line x1=\"115.642\" y1=\"323.921\" x2=\"122.07\" y2=\"316.261\" stroke-linecap=\"round\" style=\"stroke:black;stroke-width:12\"/><line x1=\"122.07\" y1=\"316.261\" x2=\"128.498\" y2=\"308.601\" stroke-linecap=\"round\" style=\"stroke:black;stroke-width:12\"/><line x1=\"128.498\" y1=\"308.601\" x2=\"134.926\" y2=\"300.941\" stroke-linecap=\"round\" style=\"stroke:black;stroke-width:12\"/><line x1=\"134.926\" y1=\"300.941\" x2=\"141.354\" y2=\"293.281\" stroke-linecap=\"round\" style=\"stroke:black;stroke-width:12\"/><line x1=\"141.354\" y1=\"293.281\" x2=\"147.782\" y2=\"285.621\" stroke-linecap=\"round\" style=\"stroke:black;stroke-width:12\"/><line x1=\"147.782\" y1=\"285.621\" x2=\"154.21\" y2=\"277.961\" stroke-linecap=\"round\" style=\"stroke:black;stroke-width:12\"/><line x1=\"154.21\" y1=\"277.961\" x2=\"160.638\" y2=\"270.301\" stroke-linecap=\"round\" style=\"stroke:black;stroke-width:12\"/><line x1=\"160.638\" y1=\"270.301\" x2=\"167.066\" y2=\"262.641\" stroke-linecap=\"round\" style=\"stroke:black;stroke-width:12\"/><line x1=\"167.066\" y1=\"262.641\" x2=\"173.494\" y2=\"254.981\" stroke-linecap=\"round\" style=\"stroke:black;stroke-width:12\"/><line x1=\"173.494\" y1=\"254.981\" x2=\"179.922\" y2=\"247.321\" stroke-linecap=\"round\" style=\"stroke:black;stroke-width:12\"/><line x1=\"179.922\" y1=\"247.321\" x2=\"186.35\" y2=\"239.661\" stroke-linecap=\"round\" style=\"stroke:black;stroke-width:12\"/><line x1=\"186.35\" y1=\"239.661\" x2=\"192.778\" y2=\"232.001\" stroke-linecap=\"round\" style=\"stroke:black;stroke-width:12\"/><line x1=\"192.778\" y1=\"232.001\" x2=\"199.206\" y2=\"224.341\" stroke-linecap=\"round\" style=\"stroke:black;stroke-width:12\"/><line x1=\"199.206\" y1=\"224.341\" x2=\"205.634\" y2=\"216.681\" stroke-linecap=\"round\" style=\"stroke:black;stroke-width:12\"/><line x1=\"205.634\" y1=\"216.681\" x2=\"212.062\" y2=\"209.021\" stroke-linecap=\"round\" style=\"stroke:black;stroke-width:12\"/><line x1=\"212.062\" y1=\"209.021\" x2=\"218.49\" y2=\"201.361\" stroke-linecap=\"round\" style=\"stroke:black;stroke-width:12\"/><line x1=\"218.49\" y1=\"201.361\" x2=\"224.918\" y2=\"193.701\" stroke-linecap=\"round\" style=\"stroke:black;stroke-width:12\"/><line x1=\"224.918\" y1=\"193.701\" x2=\"231.346\" y2=\"186.041\" stroke-linecap=\"round\" style=\"stroke:black;stroke-width:12\"/><line x1=\"231.346\" y1=\"186.041\" x2=\"237.774\" y2=\"178.381\" stroke-linecap=\"round\" style=\"stroke:black;stroke-width:12\"/><line x1=\"237.774\" y1=\"178.381\" x2=\"244.202\" y2=\"170.721\" stroke-linecap=\"round\" style=\"stroke:black;stroke-width:12\"/><line x1=\"244.202\" y1=\"170.721\" x2=\"250.63\" y2=\"163.061\" stroke-linecap=\"round\" style=\"stroke:black;stroke-width:12\"/><line x1=\"250.63\" y1=\"163.061\" x2=\"257.058\" y2=\"155.401\" stroke-linecap=\"round\" style=\"stroke:black;stroke-width:12\"/><line x1=\"257.058\" y1=\"155.401\" x2=\"263.486\" y2=\"147.741\" stroke-linecap=\"round\" style=\"stroke:black;stroke-width:12\"/><line x1=\"263.486\" y1=\"147.741\" x2=\"269.914\" y2=\"140.081\" stroke-linecap=\"round\" style=\"stroke:black;stroke-width:12\"/><line x1=\"269.914\" y1=\"140.081\" x2=\"276.342\" y2=\"132.421\" stroke-linecap=\"round\" style=\"stroke:black;stroke-width:12\"/><line x1=\"276.342\" y1=\"132.421\" x2=\"282.77\" y2=\"124.761\" stroke-linecap=\"round\" style=\"stroke:black;stroke-width:12\"/><line x1=\"282.77\" y1=\"124.761\" x2=\"289.198\" y2=\"117.101\" stroke-linecap=\"round\" style=\"stroke:black;stroke-width:12\"/><line x1=\"289.198\" y1=\"117.101\" x2=\"295.626\" y2=\"109.441\" stroke-linecap=\"round\" style=\"stroke:black;stroke-width:12\"/><line x1=\"295.626\" y1=\"109.441\" x2=\"302.054\" y2=\"101.781\" stroke-linecap=\"round\" style=\"stroke:black;stroke-width:12\"/><line x1=\"302.054\" y1=\"101.781\" x2=\"308.482\" y2=\"94.121\" stroke-linecap=\"round\" style=\"stroke:black;stroke-width:12\"/><line x1=\"308.482\" y1=\"94.121\" x2=\"314.91\" y2=\"86.461\" stroke-linecap=\"round\" style=\"stroke:black;stroke-width:12\"/><line x1=\"314.91\" y1=\"86.461\" x2=\"321.338\" y2=\"78.801\" stroke-linecap=\"round\" style=\"stroke:black;stroke-width:12\"/><line x1=\"321.338\" y1=\"78.801\" x2=\"327.766\" y2=\"71.141\" stroke-linecap=\"round\" style=\"stroke:black;stroke-width:12\"/><line x1=\"327.766\" y1=\"71.141\" x2=\"334.194\" y2=\"63.481\" stroke-linecap=\"round\" style=\"stroke:black;stroke-width:12\"/><line x1=\"334.194\" y1=\"63.481\" x2=\"340.622\" y2=\"55.821\" stroke-linecap=\"round\" style=\"stroke:black;stroke-width:12\"/><line x1=\"340.622\" y1=\"55.821\" x2=\"347.05\" y2=\"48.161\" stroke-linecap=\"round\" style=\"stroke:black;stroke-width:12\"/><line x1=\"347.05\" y1=\"48.161\" x2=\"353.478\" y2=\"40.501\" stroke-linecap=\"round\" style=\"stroke:black;stroke-width:12\"/><line x1=\"353.478\" y1=\"40.501\" x2=\"359.906\" y2=\"32.841\" stroke-linecap=\"round\" style=\"stroke:black;stroke-width:12\"/><line x1=\"359.906\" y1=\"32.841\" x2=\"366.334\" y2=\"25.181\" stroke-linecap=\"round\" style=\"stroke:black;stroke-width:12\"/><line x1=\"366.334\" y1=\"25.181\" x2=\"372.762\" y2=\"17.521\" stroke-linecap=\"round\" style=\"stroke:black;stroke-width:12\"/><line x1=\"372.762\" y1=\"17.521\" x2=\"379.19\" y2=\"9.861\" stroke-linecap=\"round\" style=\"stroke:black;stroke-width:12\"/><line x1=\"379.19\" y1=\"9.861\" x2=\"385.618\" y2=\"2.201\" stroke-linecap=\"round\" style=\"stroke:black;stroke-width:12\"/><line x1=\"385.618\" y1=\"2.201\" x2=\"392.046\" y2=\"-5.459\" stroke-linecap=\"round\" style=\"stroke:black;stroke-width:12\"/><line x1=\"392.046\" y1=\"-5.459\" x2=\"401.688\" y2=\"6.032\" stroke-linecap=\"round\" style=\"stroke:black;stroke-width:12\"/><line x1=\"401.688\" y1=\"6.032\" x2=\"408.116\" y2=\"13.692\" stroke-linecap=\"round\" style=\"stroke:black;stroke-width:12\"/><line x1=\"408.116\" y1=\"13.692\" x2=\"414.544\" y2=\"21.352\" stroke-linecap=\"round\" style=\"stroke:black;stroke-width:12\"/><line x1=\"414.544\" y1=\"21.352\" x2=\"420.972\" y2=\"29.012\" stroke-linecap=\"round\" style=\"stroke:black;stroke-width:12\"/><line x1=\"420.972\" y1=\"29.012\" x2=\"427.4\" y2=\"36.672\" stroke-linecap=\"round\" style=\"stroke:black;stroke-width:12\"/><line x1=\"427.4\" y1=\"36.672\" x2=\"433.828\" y2=\"44.332\" stroke-linecap=\"round\" style=\"stroke:black;stroke-width:12\"/><line x1=\"433.828\" y1=\"44.332\" x2=\"440.256\" y2=\"51.992\" stroke-linecap=\"round\" style=\"stroke:black;stroke-width:12\"/><line x1=\"440.256\" y1=\"51.992\" x2=\"446.684\" y2=\"59.652\" stroke-linecap=\"round\" style=\"stroke:black;stroke-width:12\"/><line x1=\"446.684\" y1=\"59.652\" x2=\"453.112\" y2=\"67.312\" stroke-linecap=\"round\" style=\"stroke:black;stroke-width:12\"/><line x1=\"453.112\" y1=\"67.312\" x2=\"459.54\" y2=\"74.972\" stroke-linecap=\"round\" style=\"stroke:black;stroke-width:12\"/><line x1=\"459.54\" y1=\"74.972\" x2=\"465.968\" y2=\"82.632\" stroke-linecap=\"round\" style=\"stroke:black;stroke-width:12\"/><line x1=\"465.968\" y1=\"82.632\" x2=\"472.396\" y2=\"90.292\" stroke-linecap=\"round\" style=\"stroke:black;stroke-width:12\"/><line x1=\"472.396\" y1=\"90.292\" x2=\"478.824\" y2=\"97.952\" stroke-linecap=\"round\" style=\"stroke:black;stroke-width:12\"/><line x1=\"478.824\" y1=\"97.952\" x2=\"485.252\" y2=\"105.612\" stroke-linecap=\"round\" style=\"stroke:black;stroke-width:12\"/><line x1=\"485.252\" y1=\"105.612\" x2=\"491.68\" y2=\"113.272\" stroke-linecap=\"round\" style=\"stroke:black;stroke-width:12\"/><line x1=\"491.68\" y1=\"113.272\" x2=\"498.108\" y2=\"120.932\" stroke-linecap=\"round\" style=\"stroke:black;stroke-width:12\"/><line x1=\"498.108\" y1=\"120.932\" x2=\"504.536\" y2=\"128.592\" stroke-linecap=\"round\" style=\"stroke:black;stroke-width:12\"/><line x1=\"504.536\" y1=\"128.592\" x2=\"510.964\" y2=\"136.252\" stroke-linecap=\"round\" style=\"stroke:black;stroke-width:12\"/><line x1=\"510.964\" y1=\"136.252\" x2=\"517.392\" y2=\"143.912\" stroke-linecap=\"round\" style=\"stroke:black;stroke-width:12\"/><line x1=\"517.392\" y1=\"143.912\" x2=\"523.82\" y2=\"151.572\" stroke-linecap=\"round\" style=\"stroke:black;stroke-width:12\"/><line x1=\"523.82\" y1=\"151.572\" x2=\"530.248\" y2=\"159.232\" stroke-linecap=\"round\" style=\"stroke:black;stroke-width:12\"/><line x1=\"530.248\" y1=\"159.232\" x2=\"536.676\" y2=\"166.892\" stroke-linecap=\"round\" style=\"stroke:black;stroke-width:12\"/><line x1=\"536.676\" y1=\"166.892\" x2=\"543.104\" y2=\"174.552\" stroke-linecap=\"round\" style=\"stroke:black;stroke-width:12\"/><line x1=\"543.104\" y1=\"174.552\" x2=\"549.532\" y2=\"182.212\" stroke-linecap=\"round\" style=\"stroke:black;stroke-width:12\"/><line x1=\"549.532\" y1=\"182.212\" x2=\"555.96\" y2=\"189.872\" stroke-linecap=\"round\" style=\"stroke:black;stroke-width:12\"/><line x1=\"555.96\" y1=\"189.872\" x2=\"562.388\" y2=\"197.532\" stroke-linecap=\"round\" style=\"stroke:black;stroke-width:12\"/><line x1=\"562.388\" y1=\"197.532\" x2=\"568.816\" y2=\"205.192\" stroke-linecap=\"round\" style=\"stroke:black;stroke-width:12\"/><line x1=\"568.816\" y1=\"205.192\" x2=\"575.244\" y2=\"212.852\" stroke-linecap=\"round\" style=\"stroke:black;stroke-width:12\"/><line x1=\"575.244\" y1=\"212.852\" x2=\"581.672\" y2=\"220.512\" stroke-linecap=\"round\" style=\"stroke:black;stroke-width:12\"/><line x1=\"581.672\" y1=\"220.512\" x2=\"588.1\" y2=\"228.172\" stroke-linecap=\"round\" style=\"stroke:black;stroke-width:12\"/><line x1=\"588.1\" y1=\"228.172\" x2=\"594.528\" y2=\"235.832\" stroke-linecap=\"round\" style=\"stroke:black;stroke-width:12\"/><line x1=\"594.528\" y1=\"235.832\" x2=\"600.956\" y2=\"243.492\" stroke-linecap=\"round\" style=\"stroke:black;stroke-width:12\"/><line x1=\"600.956\" y1=\"243.492\" x2=\"607.384\" y2=\"251.152\" stroke-linecap=\"round\" style=\"stroke:black;stroke-width:12\"/><line x1=\"607.384\" y1=\"251.152\" x2=\"613.812\" y2=\"258.812\" stroke-linecap=\"round\" style=\"stroke:black;stroke-width:12\"/><line x1=\"613.812\" y1=\"258.812\" x2=\"620.24\" y2=\"266.472\" stroke-linecap=\"round\" style=\"stroke:black;stroke-width:12\"/><line x1=\"620.24\" y1=\"266.472\" x2=\"626.668\" y2=\"274.132\" stroke-linecap=\"round\" style=\"stroke:black;stroke-width:12\"/><line x1=\"626.668\" y1=\"274.132\" x2=\"633.096\" y2=\"281.792\" stroke-linecap=\"round\" style=\"stroke:black;stroke-width:12\"/><line x1=\"633.096\" y1=\"281.792\" x2=\"639.524\" y2=\"289.452\" stroke-linecap=\"round\" style=\"stroke:black;stroke-width:12\"/><line x1=\"639.524\" y1=\"289.452\" x2=\"645.952\" y2=\"297.112\" stroke-linecap=\"round\" style=\"stroke:black;stroke-width:12\"/><line x1=\"645.952\" y1=\"297.112\" x2=\"652.38\" y2=\"304.772\" stroke-linecap=\"round\" style=\"stroke:black;stroke-width:12\"/><line x1=\"652.38\" y1=\"304.772\" x2=\"658.808\" y2=\"312.432\" stroke-linecap=\"round\" style=\"stroke:black;stroke-width:12\"/><line x1=\"658.808\" y1=\"312.432\" x2=\"665.236\" y2=\"320.092\" stroke-linecap=\"round\" style=\"stroke:black;stroke-width:12\"/><line x1=\"665.236\" y1=\"320.092\" x2=\"671.664\" y2=\"327.752\" stroke-linecap=\"round\" style=\"stroke:black;stroke-width:12\"/><line x1=\"671.664\" y1=\"327.752\" x2=\"678.092\" y2=\"335.412\" stroke-linecap=\"round\" style=\"stroke:black;stroke-width:12\"/><line x1=\"678.092\" y1=\"335.412\" x2=\"684.52\" y2=\"343.072\" stroke-linecap=\"round\" style=\"stroke:black;stroke-width:12\"/><line x1=\"684.52\" y1=\"343.072\" x2=\"690.948\" y2=\"350.732\" stroke-linecap=\"round\" style=\"stroke:black;stroke-width:12\"/><line x1=\"690.948\" y1=\"350.732\" x2=\"697.376\" y2=\"358.392\" stroke-linecap=\"round\" style=\"stroke:black;stroke-width:12\"/><line x1=\"697.376\" y1=\"358.392\" x2=\"703.804\" y2=\"366.052\" stroke-linecap=\"round\" style=\"stroke:black;stroke-width:12\"/><line x1=\"703.804\" y1=\"366.052\" x2=\"710.232\" y2=\"373.712\" stroke-linecap=\"round\" style=\"stroke:black;stroke-width:12\"/><line x1=\"710.232\" y1=\"373.712\" x2=\"716.66\" y2=\"381.372\" stroke-linecap=\"round\" style=\"stroke:black;stroke-width:12\"/><line x1=\"716.66\" y1=\"381.372\" x2=\"723.088\" y2=\"389.032\" stroke-linecap=\"round\" style=\"stroke:black;stroke-width:12\"/><line x1=\"723.088\" y1=\"389.032\" x2=\"729.516\" y2=\"396.692\" stroke-linecap=\"round\" style=\"stroke:black;stroke-width:12\"/><line x1=\"729.516\" y1=\"396.692\" x2=\"735.944\" y2=\"404.352\" stroke-linecap=\"round\" style=\"stroke:black;stroke-width:12\"/><line x1=\"735.944\" y1=\"404.352\" x2=\"742.372\" y2=\"412.012\" stroke-linecap=\"round\" style=\"stroke:black;stroke-width:12\"/><line x1=\"742.372\" y1=\"412.012\" x2=\"748.8\" y2=\"419.672\" stroke-linecap=\"round\" style=\"stroke:black;stroke-width:12\"/><line x1=\"748.8\" y1=\"419.672\" x2=\"755.228\" y2=\"427.332\" stroke-linecap=\"round\" style=\"stroke:black;stroke-width:12\"/><line x1=\"755.228\" y1=\"427.332\" x2=\"761.656\" y2=\"434.992\" stroke-linecap=\"round\" style=\"stroke:black;stroke-width:12\"/><line x1=\"761.656\" y1=\"434.992\" x2=\"768.084\" y2=\"442.652\" stroke-linecap=\"round\" style=\"stroke:black;stroke-width:12\"/><line x1=\"768.084\" y1=\"442.652\" x2=\"774.512\" y2=\"450.312\" stroke-linecap=\"round\" style=\"stroke:black;stroke-width:12\"/><line x1=\"774.512\" y1=\"450.312\" x2=\"780.94\" y2=\"457.972\" stroke-linecap=\"round\" style=\"stroke:black;stroke-width:12\"/><line x1=\"780.94\" y1=\"457.972\" x2=\"787.368\" y2=\"465.632\" stroke-linecap=\"round\" style=\"stroke:black;stroke-width:12\"/><line x1=\"787.368\" y1=\"465.632\" x2=\"793.796\" y2=\"473.292\" stroke-linecap=\"round\" style=\"stroke:black;stroke-width:12\"/><line x1=\"793.796\" y1=\"473.292\" x2=\"800.224\" y2=\"480.952\" stroke-linecap=\"round\" style=\"stroke:black;stroke-width:12\"/><line x1=\"800.224\" y1=\"480.952\" x2=\"790.582\" y2=\"492.443\" stroke-linecap=\"round\" style=\"stroke:black;stroke-width:12\"/><line x1=\"790.582\" y1=\"492.443\" x2=\"784.154\" y2=\"500.103\" stroke-linecap=\"round\" style=\"stroke:black;stroke-width:12\"/><line x1=\"784.154\" y1=\"500.103\" x2=\"774.512\" y2=\"488.612\" stroke-linecap=\"round\" style=\"stroke:black;stroke-width:12\"/><line x1=\"774.512\" y1=\"488.612\" x2=\"768.084\" y2=\"480.952\" stroke-linecap=\"round\" style=\"stroke:black;stroke-width:12\"/><line x1=\"768.084\" y1=\"480.952\" x2=\"761.656\" y2=\"473.292\" stroke-linecap=\"round\" style=\"stroke:black;stroke-width:12\"/><line x1=\"761.656\" y1=\"473.292\" x2=\"755.228\" y2=\"465.632\" stroke-linecap=\"round\" style=\"stroke:black;stroke-width:12\"/><line x1=\"755.228\" y1=\"465.632\" x2=\"748.8\" y2=\"457.972\" stroke-linecap=\"round\" style=\"stroke:black;stroke-width:12\"/><line x1=\"748.8\" y1=\"457.972\" x2=\"742.372\" y2=\"450.312\" stroke-linecap=\"round\" style=\"stroke:black;stroke-width:12\"/><line x1=\"742.372\" y1=\"450.312\" x2=\"735.944\" y2=\"442.652\" stroke-linecap=\"round\" style=\"stroke:black;stroke-width:12\"/><line x1=\"735.944\" y1=\"442.652\" x2=\"729.516\" y2=\"434.992\" stroke-linecap=\"round\" style=\"stroke:black;stroke-width:12\"/><line x1=\"729.516\" y1=\"434.992\" x2=\"723.088\" y2=\"427.332\" stroke-linecap=\"round\" style=\"stroke:black;stroke-width:12\"/><line x1=\"723.088\" y1=\"427.332\" x2=\"716.66\" y2=\"419.672\" stroke-linecap=\"round\" style=\"stroke:black;stroke-width:12\"/><line x1=\"716.66\" y1=\"419.672\" x2=\"710.232\" y2=\"412.012\" stroke-linecap=\"round\" style=\"stroke:black;stroke-width:12\"/><line x1=\"710.232\" y1=\"412.012\" x2=\"703.804\" y2=\"404.352\" stroke-linecap=\"round\" style=\"stroke:black;stroke-width:12\"/><line x1=\"703.804\" y1=\"404.352\" x2=\"697.376\" y2=\"396.692\" stroke-linecap=\"round\" style=\"stroke:black;stroke-width:12\"/><line x1=\"697.376\" y1=\"396.692\" x2=\"690.948\" y2=\"389.032\" stroke-linecap=\"round\" style=\"stroke:black;stroke-width:12\"/><line x1=\"690.948\" y1=\"389.032\" x2=\"684.52\" y2=\"381.372\" stroke-linecap=\"round\" style=\"stroke:black;stroke-width:12\"/><line x1=\"684.52\" y1=\"381.372\" x2=\"678.092\" y2=\"373.712\" stroke-linecap=\"round\" style=\"stroke:black;stroke-width:12\"/><line x1=\"678.092\" y1=\"373.712\" x2=\"671.664\" y2=\"366.052\" stroke-linecap=\"round\" style=\"stroke:black;stroke-width:12\"/><line x1=\"671.664\" y1=\"366.052\" x2=\"665.236\" y2=\"358.392\" stroke-linecap=\"round\" style=\"stroke:black;stroke-width:12\"/><line x1=\"665.236\" y1=\"358.392\" x2=\"658.808\" y2=\"350.732\" stroke-linecap=\"round\" style=\"stroke:black;stroke-width:12\"/><line x1=\"658.808\" y1=\"350.732\" x2=\"652.38\" y2=\"343.072\" stroke-linecap=\"round\" style=\"stroke:black;stroke-width:12\"/><line x1=\"652.38\" y1=\"343.072\" x2=\"645.952\" y2=\"335.412\" stroke-linecap=\"round\" style=\"stroke:black;stroke-width:12\"/><line x1=\"645.952\" y1=\"335.412\" x2=\"639.524\" y2=\"327.752\" stroke-linecap=\"round\" style=\"stroke:black;stroke-width:12\"/><line x1=\"639.524\" y1=\"327.752\" x2=\"633.096\" y2=\"320.092\" stroke-linecap=\"round\" style=\"stroke:black;stroke-width:12\"/><line x1=\"633.096\" y1=\"320.092\" x2=\"626.668\" y2=\"312.432\" stroke-linecap=\"round\" style=\"stroke:black;stroke-width:12\"/><line x1=\"626.668\" y1=\"312.432\" x2=\"620.24\" y2=\"304.772\" stroke-linecap=\"round\" style=\"stroke:black;stroke-width:12\"/><line x1=\"620.24\" y1=\"304.772\" x2=\"613.812\" y2=\"297.112\" stroke-linecap=\"round\" style=\"stroke:black;stroke-width:12\"/><line x1=\"613.812\" y1=\"297.112\" x2=\"607.384\" y2=\"289.452\" stroke-linecap=\"round\" style=\"stroke:black;stroke-width:12\"/><line x1=\"607.384\" y1=\"289.452\" x2=\"600.956\" y2=\"281.792\" stroke-linecap=\"round\" style=\"stroke:black;stroke-width:12\"/><line x1=\"600.956\" y1=\"281.792\" x2=\"594.528\" y2=\"274.132\" stroke-linecap=\"round\" style=\"stroke:black;stroke-width:12\"/><line x1=\"594.528\" y1=\"274.132\" x2=\"588.1\" y2=\"266.472\" stroke-linecap=\"round\" style=\"stroke:black;stroke-width:12\"/><line x1=\"588.1\" y1=\"266.472\" x2=\"581.672\" y2=\"258.812\" stroke-linecap=\"round\" style=\"stroke:black;stroke-width:12\"/><line x1=\"581.672\" y1=\"258.812\" x2=\"575.244\" y2=\"251.152\" stroke-linecap=\"round\" style=\"stroke:black;stroke-width:12\"/><line x1=\"575.244\" y1=\"251.152\" x2=\"568.816\" y2=\"243.492\" stroke-linecap=\"round\" style=\"stroke:black;stroke-width:12\"/><line x1=\"568.816\" y1=\"243.492\" x2=\"562.388\" y2=\"235.832\" stroke-linecap=\"round\" style=\"stroke:black;stroke-width:12\"/><line x1=\"562.388\" y1=\"235.832\" x2=\"555.96\" y2=\"228.172\" stroke-linecap=\"round\" style=\"stroke:black;stroke-width:12\"/><line x1=\"555.96\" y1=\"228.172\" x2=\"549.532\" y2=\"220.512\" stroke-linecap=\"round\" style=\"stroke:black;stroke-width:12\"/><line x1=\"549.532\" y1=\"220.512\" x2=\"543.104\" y2=\"212.852\" stroke-linecap=\"round\" style=\"stroke:black;stroke-width:12\"/><line x1=\"543.104\" y1=\"212.852\" x2=\"536.676\" y2=\"205.192\" stroke-linecap=\"round\" style=\"stroke:black;stroke-width:12\"/><line x1=\"536.676\" y1=\"205.192\" x2=\"530.248\" y2=\"197.532\" stroke-linecap=\"round\" style=\"stroke:black;stroke-width:12\"/><line x1=\"530.248\" y1=\"197.532\" x2=\"523.82\" y2=\"189.872\" stroke-linecap=\"round\" style=\"stroke:black;stroke-width:12\"/><line x1=\"523.82\" y1=\"189.872\" x2=\"517.392\" y2=\"182.212\" stroke-linecap=\"round\" style=\"stroke:black;stroke-width:12\"/><line x1=\"517.392\" y1=\"182.212\" x2=\"510.964\" y2=\"174.552\" stroke-linecap=\"round\" style=\"stroke:black;stroke-width:12\"/><line x1=\"510.964\" y1=\"174.552\" x2=\"504.536\" y2=\"166.892\" stroke-linecap=\"round\" style=\"stroke:black;stroke-width:12\"/><line x1=\"504.536\" y1=\"166.892\" x2=\"498.108\" y2=\"159.232\" stroke-linecap=\"round\" style=\"stroke:black;stroke-width:12\"/><line x1=\"498.108\" y1=\"159.232\" x2=\"491.68\" y2=\"151.572\" stroke-linecap=\"round\" style=\"stroke:black;stroke-width:12\"/><line x1=\"491.68\" y1=\"151.572\" x2=\"485.252\" y2=\"143.912\" stroke-linecap=\"round\" style=\"stroke:black;stroke-width:12\"/><line x1=\"485.252\" y1=\"143.912\" x2=\"478.824\" y2=\"136.252\" stroke-linecap=\"round\" style=\"stroke:black;stroke-width:12\"/><line x1=\"478.824\" y1=\"136.252\" x2=\"472.396\" y2=\"128.592\" stroke-linecap=\"round\" style=\"stroke:black;stroke-width:12\"/><line x1=\"472.396\" y1=\"128.592\" x2=\"465.968\" y2=\"120.932\" stroke-linecap=\"round\" style=\"stroke:black;stroke-width:12\"/><line x1=\"465.968\" y1=\"120.932\" x2=\"459.54\" y2=\"113.272\" stroke-linecap=\"round\" style=\"stroke:black;stroke-width:12\"/><line x1=\"459.54\" y1=\"113.272\" x2=\"453.112\" y2=\"105.612\" stroke-linecap=\"round\" style=\"stroke:black;stroke-width:12\"/><line x1=\"453.112\" y1=\"105.612\" x2=\"446.684\" y2=\"97.952\" stroke-linecap=\"round\" style=\"stroke:black;stroke-width:12\"/><line x1=\"446.684\" y1=\"97.952\" x2=\"440.256\" y2=\"90.292\" stroke-linecap=\"round\" style=\"stroke:black;stroke-width:12\"/><line x1=\"440.256\" y1=\"90.292\" x2=\"433.828\" y2=\"82.632\" stroke-linecap=\"round\" style=\"stroke:black;stroke-width:12\"/><line x1=\"433.828\" y1=\"82.632\" x2=\"427.4\" y2=\"74.972\" stroke-linecap=\"round\" style=\"stroke:black;stroke-width:12\"/><line x1=\"427.4\" y1=\"74.972\" x2=\"420.972\" y2=\"67.312\" stroke-linecap=\"round\" style=\"stroke:black;stroke-width:12\"/><line x1=\"420.972\" y1=\"67.312\" x2=\"414.544\" y2=\"59.652\" stroke-linecap=\"round\" style=\"stroke:black;stroke-width:12\"/><line x1=\"414.544\" y1=\"59.652\" x2=\"408.116\" y2=\"51.992\" stroke-linecap=\"round\" style=\"stroke:black;stroke-width:12\"/><line x1=\"408.116\" y1=\"51.992\" x2=\"401.688\" y2=\"44.332\" stroke-linecap=\"round\" style=\"stroke:black;stroke-width:12\"/><line x1=\"401.688\" y1=\"44.332\" x2=\"395.26\" y2=\"36.672\" stroke-linecap=\"round\" style=\"stroke:black;stroke-width:12\"/><line x1=\"395.26\" y1=\"36.672\" x2=\"388.832\" y2=\"29.012\" stroke-linecap=\"round\" style=\"stroke:black;stroke-width:12\"/><line x1=\"388.832\" y1=\"29.012\" x2=\"382.404\" y2=\"21.352\" stroke-linecap=\"round\" style=\"stroke:black;stroke-width:12\"/><line x1=\"382.404\" y1=\"21.352\" x2=\"375.976\" y2=\"13.692\" stroke-linecap=\"round\" style=\"stroke:black;stroke-width:12\"/><line x1=\"375.976\" y1=\"13.692\" x2=\"369.548\" y2=\"6.032\" stroke-linecap=\"round\" style=\"stroke:black;stroke-width:12\"/><line x1=\"369.548\" y1=\"6.032\" x2=\"363.12\" y2=\"-1.628\" stroke-linecap=\"round\" style=\"stroke:black;stroke-width:12\"/><line x1=\"363.12\" y1=\"-1.628\" x2=\"353.478\" y2=\"9.863\" stroke-linecap=\"round\" style=\"stroke:black;stroke-width:12\"/><line x1=\"353.478\" y1=\"9.863\" x2=\"347.05\" y2=\"17.523\" stroke-linecap=\"round\" style=\"stroke:black;stroke-width:12\"/><line x1=\"347.05\" y1=\"17.523\" x2=\"340.622\" y2=\"25.183\" stroke-linecap=\"round\" style=\"stroke:black;stroke-width:12\"/><line x1=\"340.622\" y1=\"25.183\" x2=\"334.194\" y2=\"32.843\" stroke-linecap=\"round\" style=\"stroke:black;stroke-width:12\"/><line x1=\"334.194\" y1=\"32.843\" x2=\"327.766\" y2=\"40.503\" stroke-linecap=\"round\" style=\"stroke:black;stroke-width:12\"/><line x1=\"327.766\" y1=\"40.503\" x2=\"321.338\" y2=\"48.163\" stroke-linecap=\"round\" style=\"stroke:black;stroke-width:12\"/><line x1=\"321.338\" y1=\"48.163\" x2=\"314.91\" y2=\"55.823\" stroke-linecap=\"round\" style=\"stroke:black;stroke-width:12\"/><line x1=\"314.91\" y1=\"55.823\" x2=\"308.482\" y2=\"63.483\" stroke-linecap=\"round\" style=\"stroke:black;stroke-width:12\"/><line x1=\"308.482\" y1=\"63.483\" x2=\"302.054\" y2=\"71.143\" stroke-linecap=\"round\" style=\"stroke:black;stroke-width:12\"/><line x1=\"302.054\" y1=\"71.143\" x2=\"295.626\" y2=\"78.803\" stroke-linecap=\"round\" style=\"stroke:black;stroke-width:12\"/><line x1=\"295.626\" y1=\"78.803\" x2=\"289.198\" y2=\"86.463\" stroke-linecap=\"round\" style=\"stroke:black;stroke-width:12\"/><line x1=\"289.198\" y1=\"86.463\" x2=\"282.77\" y2=\"94.123\" stroke-linecap=\"round\" style=\"stroke:black;stroke-width:12\"/><line x1=\"282.77\" y1=\"94.123\" x2=\"276.342\" y2=\"101.783\" stroke-linecap=\"round\" style=\"stroke:black;stroke-width:12\"/><line x1=\"276.342\" y1=\"101.783\" x2=\"269.914\" y2=\"109.443\" stroke-linecap=\"round\" style=\"stroke:black;stroke-width:12\"/><line x1=\"269.914\" y1=\"109.443\" x2=\"263.486\" y2=\"117.103\" stroke-linecap=\"round\" style=\"stroke:black;stroke-width:12\"/><line x1=\"263.486\" y1=\"117.103\" x2=\"257.058\" y2=\"124.763\" stroke-linecap=\"round\" style=\"stroke:black;stroke-width:12\"/><line x1=\"257.058\" y1=\"124.763\" x2=\"250.63\" y2=\"132.423\" stroke-linecap=\"round\" style=\"stroke:black;stroke-width:12\"/><line x1=\"250.63\" y1=\"132.423\" x2=\"244.202\" y2=\"140.083\" stroke-linecap=\"round\" style=\"stroke:black;stroke-width:12\"/><line x1=\"244.202\" y1=\"140.083\" x2=\"237.774\" y2=\"147.743\" stroke-linecap=\"round\" style=\"stroke:black;stroke-width:12\"/><line x1=\"237.774\" y1=\"147.743\" x2=\"231.346\" y2=\"155.403\" stroke-linecap=\"round\" style=\"stroke:black;stroke-width:12\"/><line x1=\"231.346\" y1=\"155.403\" x2=\"224.918\" y2=\"163.063\" stroke-linecap=\"round\" style=\"stroke:black;stroke-width:12\"/><line x1=\"224.918\" y1=\"163.063\" x2=\"218.49\" y2=\"170.723\" stroke-linecap=\"round\" style=\"stroke:black;stroke-width:12\"/><line x1=\"218.49\" y1=\"170.723\" x2=\"212.062\" y2=\"178.383\" stroke-linecap=\"round\" style=\"stroke:black;stroke-width:12\"/><line x1=\"212.062\" y1=\"178.383\" x2=\"205.634\" y2=\"186.043\" stroke-linecap=\"round\" style=\"stroke:black;stroke-width:12\"/><line x1=\"205.634\" y1=\"186.043\" x2=\"199.206\" y2=\"193.703\" stroke-linecap=\"round\" style=\"stroke:black;stroke-width:12\"/><line x1=\"199.206\" y1=\"193.703\" x2=\"192.778\" y2=\"201.363\" stroke-linecap=\"round\" style=\"stroke:black;stroke-width:12\"/><line x1=\"192.778\" y1=\"201.363\" x2=\"186.35\" y2=\"209.023\" stroke-linecap=\"round\" style=\"stroke:black;stroke-width:12\"/><line x1=\"186.35\" y1=\"209.023\" x2=\"179.922\" y2=\"216.683\" stroke-linecap=\"round\" style=\"stroke:black;stroke-width:12\"/><line x1=\"179.922\" y1=\"216.683\" x2=\"173.494\" y2=\"224.343\" stroke-linecap=\"round\" style=\"stroke:black;stroke-width:12\"/><line x1=\"173.494\" y1=\"224.343\" x2=\"167.066\" y2=\"232.003\" stroke-linecap=\"round\" style=\"stroke:black;stroke-width:12\"/><line x1=\"167.066\" y1=\"232.003\" x2=\"160.638\" y2=\"239.663\" stroke-linecap=\"round\" style=\"stroke:black;stroke-width:12\"/><line x1=\"160.638\" y1=\"239.663\" x2=\"154.21\" y2=\"247.323\" stroke-linecap=\"round\" style=\"stroke:black;stroke-width:12\"/><line x1=\"154.21\" y1=\"247.323\" x2=\"147.782\" y2=\"254.983\" stroke-linecap=\"round\" style=\"stroke:black;stroke-width:12\"/><line x1=\"147.782\" y1=\"254.983\" x2=\"141.354\" y2=\"262.643\" stroke-linecap=\"round\" style=\"stroke:black;stroke-width:12\"/><line x1=\"141.354\" y1=\"262.643\" x2=\"134.926\" y2=\"270.303\" stroke-linecap=\"round\" style=\"stroke:black;stroke-width:12\"/><line x1=\"134.926\" y1=\"270.303\" x2=\"128.498\" y2=\"277.963\" stroke-linecap=\"round\" style=\"stroke:black;stroke-width:12\"/><line x1=\"128.498\" y1=\"277.963\" x2=\"122.07\" y2=\"285.623\" stroke-linecap=\"round\" style=\"stroke:black;stroke-width:12\"/><line x1=\"122.07\" y1=\"285.623\" x2=\"115.642\" y2=\"293.283\" stroke-linecap=\"round\" style=\"stroke:black;stroke-width:12\"/><line x1=\"115.642\" y1=\"293.283\" x2=\"109.214\" y2=\"300.943\" stroke-linecap=\"round\" style=\"stroke:black;stroke-width:12\"/><line x1=\"109.214\" y1=\"300.943\" x2=\"102.786\" y2=\"308.603\" stroke-linecap=\"round\" style=\"stroke:black;stroke-width:12\"/><line x1=\"102.786\" y1=\"308.603\" x2=\"96.358\" y2=\"316.263\" stroke-linecap=\"round\" style=\"stroke:black;stroke-width:12\"/><line x1=\"96.358\" y1=\"316.263\" x2=\"89.93\" y2=\"323.923\" stroke-linecap=\"round\" style=\"stroke:black;stroke-width:12\"/><line x1=\"89.93\" y1=\"323.923\" x2=\"83.502\" y2=\"331.583\" stroke-linecap=\"round\" style=\"stroke:black;stroke-width:12\"/><line x1=\"83.502\" y1=\"331.583\" x2=\"77.074\" y2=\"339.243\" stroke-linecap=\"round\" style=\"stroke:black;stroke-width:12\"/><line x1=\"77.074\" y1=\"339.243\" x2=\"70.646\" y2=\"346.903\" stroke-linecap=\"round\" style=\"stroke:black;stroke-width:12\"/><line x1=\"70.646\" y1=\"346.903\" x2=\"64.218\" y2=\"354.563\" stroke-linecap=\"round\" style=\"stroke:black;stroke-width:12\"/><line x1=\"64.218\" y1=\"354.563\" x2=\"57.79\" y2=\"362.223\" stroke-linecap=\"round\" style=\"stroke:black;stroke-width:12\"/><line x1=\"57.79\" y1=\"362.223\" x2=\"51.362\" y2=\"369.883\" stroke-linecap=\"round\" style=\"stroke:black;stroke-width:12\"/><line x1=\"51.362\" y1=\"369.883\" x2=\"44.934\" y2=\"377.543\" stroke-linecap=\"round\" style=\"stroke:black;stroke-width:12\"/><line x1=\"44.934\" y1=\"377.543\" x2=\"38.506\" y2=\"385.203\" stroke-linecap=\"round\" style=\"stroke:black;stroke-width:12\"/><line x1=\"38.506\" y1=\"385.203\" x2=\"32.078\" y2=\"392.863\" stroke-linecap=\"round\" style=\"stroke:black;stroke-width:12\"/><line x1=\"32.078\" y1=\"392.863\" x2=\"25.65\" y2=\"400.523\" stroke-linecap=\"round\" style=\"stroke:black;stroke-width:12\"/><line x1=\"25.65\" y1=\"400.523\" x2=\"19.222\" y2=\"408.183\" stroke-linecap=\"round\" style=\"stroke:black;stroke-width:12\"/><line x1=\"19.222\" y1=\"408.183\" x2=\"12.794\" y2=\"415.843\" stroke-linecap=\"round\" style=\"stroke:black;stroke-width:12\"/><line x1=\"12.794\" y1=\"415.843\" x2=\"6.366\" y2=\"423.503\" stroke-linecap=\"round\" style=\"stroke:black;stroke-width:12\"/><line x1=\"6.366\" y1=\"423.503\" x2=\"-0.062\" y2=\"431.163\" stroke-linecap=\"round\" style=\"stroke:black;stroke-width:12\"/><line x1=\"-0.062\" y1=\"431.163\" x2=\"9.58\" y2=\"442.654\" stroke-linecap=\"round\" style=\"stroke:black;stroke-width:12\"/><line x1=\"9.58\" y1=\"442.654\" x2=\"16.008\" y2=\"450.314\" stroke-linecap=\"round\" style=\"stroke:black;stroke-width:12\"/><line x1=\"16.008\" y1=\"450.314\" x2=\"22.436\" y2=\"457.974\" stroke-linecap=\"round\" style=\"stroke:black;stroke-width:12\"/><line x1=\"22.436\" y1=\"457.974\" x2=\"28.864\" y2=\"465.634\" stroke-linecap=\"round\" style=\"stroke:black;stroke-width:12\"/><line x1=\"28.864\" y1=\"465.634\" x2=\"35.292\" y2=\"473.294\" stroke-linecap=\"round\" style=\"stroke:black;stroke-width:12\"/><line x1=\"35.292\" y1=\"473.294\" x2=\"41.72\" y2=\"480.954\" stroke-linecap=\"round\" style=\"stroke:black;stroke-width:12\"/><line x1=\"41.72\" y1=\"480.954\" x2=\"48.148\" y2=\"488.614\" stroke-linecap=\"round\" style=\"stroke:black;stroke-width:12\"/><line x1=\"48.148\" y1=\"488.614\" x2=\"54.576\" y2=\"496.274\" stroke-linecap=\"round\" style=\"stroke:black;stroke-width:12\"/><line x1=\"54.576\" y1=\"496.274\" x2=\"61.004\" y2=\"503.934\" stroke-linecap=\"round\" style=\"stroke:black;stroke-width:12\"/><line x1=\"61.004\" y1=\"503.934\" x2=\"70.646\" y2=\"492.443\" stroke-linecap=\"round\" style=\"stroke:black;stroke-width:12\"/><line x1=\"70.646\" y1=\"492.443\" x2=\"77.074\" y2=\"484.783\" stroke-linecap=\"round\" style=\"stroke:black;stroke-width:12\"/><line x1=\"77.074\" y1=\"484.783\" x2=\"83.502\" y2=\"477.123\" stroke-linecap=\"round\" style=\"stroke:black;stroke-width:12\"/><line x1=\"83.502\" y1=\"477.123\" x2=\"89.93\" y2=\"469.463\" stroke-linecap=\"round\" style=\"stroke:black;stroke-width:12\"/><line x1=\"89.93\" y1=\"469.463\" x2=\"96.358\" y2=\"461.803\" stroke-linecap=\"round\" style=\"stroke:black;stroke-width:12\"/><line x1=\"96.358\" y1=\"461.803\" x2=\"102.786\" y2=\"454.143\" stroke-linecap=\"round\" style=\"stroke:black;stroke-width:12\"/><line x1=\"102.786\" y1=\"454.143\" x2=\"109.214\" y2=\"446.483\" stroke-linecap=\"round\" style=\"stroke:black;stroke-width:12\"/><line x1=\"109.214\" y1=\"446.483\" x2=\"115.642\" y2=\"438.823\" stroke-linecap=\"round\" style=\"stroke:black;stroke-width:12\"/><line x1=\"115.642\" y1=\"438.823\" x2=\"122.07\" y2=\"431.163\" stroke-linecap=\"round\" style=\"stroke:black;stroke-width:12\"/><line x1=\"122.07\" y1=\"431.163\" x2=\"128.498\" y2=\"423.503\" stroke-linecap=\"round\" style=\"stroke:black;stroke-width:12\"/><line x1=\"128.498\" y1=\"423.503\" x2=\"134.926\" y2=\"415.843\" stroke-linecap=\"round\" style=\"stroke:black;stroke-width:12\"/><line x1=\"134.926\" y1=\"415.843\" x2=\"141.354\" y2=\"408.183\" stroke-linecap=\"round\" style=\"stroke:black;stroke-width:12\"/><line x1=\"141.354\" y1=\"408.183\" x2=\"147.782\" y2=\"400.523\" stroke-linecap=\"round\" style=\"stroke:black;stroke-width:12\"/><line x1=\"147.782\" y1=\"400.523\" x2=\"154.21\" y2=\"392.863\" stroke-linecap=\"round\" style=\"stroke:black;stroke-width:12\"/><line x1=\"154.21\" y1=\"392.863\" x2=\"160.638\" y2=\"385.203\" stroke-linecap=\"round\" style=\"stroke:black;stroke-width:12\"/><line x1=\"160.638\" y1=\"385.203\" x2=\"167.066\" y2=\"377.543\" stroke-linecap=\"round\" style=\"stroke:black;stroke-width:12\"/><line x1=\"167.066\" y1=\"377.543\" x2=\"173.494\" y2=\"369.883\" stroke-linecap=\"round\" style=\"stroke:black;stroke-width:12\"/><line x1=\"173.494\" y1=\"369.883\" x2=\"179.922\" y2=\"362.223\" stroke-linecap=\"round\" style=\"stroke:black;stroke-width:12\"/><line x1=\"179.922\" y1=\"362.223\" x2=\"186.35\" y2=\"354.563\" stroke-linecap=\"round\" style=\"stroke:black;stroke-width:12\"/><line x1=\"186.35\" y1=\"354.563\" x2=\"192.778\" y2=\"346.903\" stroke-linecap=\"round\" style=\"stroke:black;stroke-width:12\"/><line x1=\"192.778\" y1=\"346.903\" x2=\"199.206\" y2=\"339.243\" stroke-linecap=\"round\" style=\"stroke:black;stroke-width:12\"/><line x1=\"199.206\" y1=\"339.243\" x2=\"205.634\" y2=\"331.583\" stroke-linecap=\"round\" style=\"stroke:black;stroke-width:12\"/><line x1=\"205.634\" y1=\"331.583\" x2=\"212.062\" y2=\"323.923\" stroke-linecap=\"round\" style=\"stroke:black;stroke-width:12\"/><line x1=\"212.062\" y1=\"323.923\" x2=\"218.49\" y2=\"316.263\" stroke-linecap=\"round\" style=\"stroke:black;stroke-width:12\"/><line x1=\"218.49\" y1=\"316.263\" x2=\"224.918\" y2=\"308.603\" stroke-linecap=\"round\" style=\"stroke:black;stroke-width:12\"/><line x1=\"224.918\" y1=\"308.603\" x2=\"231.346\" y2=\"300.943\" stroke-linecap=\"round\" style=\"stroke:black;stroke-width:12\"/><line x1=\"231.346\" y1=\"300.943\" x2=\"237.774\" y2=\"293.283\" stroke-linecap=\"round\" style=\"stroke:black;stroke-width:12\"/><line x1=\"237.774\" y1=\"293.283\" x2=\"244.202\" y2=\"285.623\" stroke-linecap=\"round\" style=\"stroke:black;stroke-width:12\"/><line x1=\"244.202\" y1=\"285.623\" x2=\"250.63\" y2=\"277.963\" stroke-linecap=\"round\" style=\"stroke:black;stroke-width:12\"/><line x1=\"250.63\" y1=\"277.963\" x2=\"257.058\" y2=\"270.303\" stroke-linecap=\"round\" style=\"stroke:black;stroke-width:12\"/><line x1=\"257.058\" y1=\"270.303\" x2=\"263.486\" y2=\"262.643\" stroke-linecap=\"round\" style=\"stroke:black;stroke-width:12\"/><line x1=\"263.486\" y1=\"262.643\" x2=\"269.914\" y2=\"254.983\" stroke-linecap=\"round\" style=\"stroke:black;stroke-width:12\"/><line x1=\"269.914\" y1=\"254.983\" x2=\"276.342\" y2=\"247.323\" stroke-linecap=\"round\" style=\"stroke:black;stroke-width:12\"/><line x1=\"276.342\" y1=\"247.323\" x2=\"282.77\" y2=\"239.663\" stroke-linecap=\"round\" style=\"stroke:black;stroke-width:12\"/><line x1=\"282.77\" y1=\"239.663\" x2=\"289.198\" y2=\"232.003\" stroke-linecap=\"round\" style=\"stroke:black;stroke-width:12\"/><line x1=\"289.198\" y1=\"232.003\" x2=\"295.626\" y2=\"224.343\" stroke-linecap=\"round\" style=\"stroke:black;stroke-width:12\"/><line x1=\"295.626\" y1=\"224.343\" x2=\"302.054\" y2=\"216.683\" stroke-linecap=\"round\" style=\"stroke:black;stroke-width:12\"/><line x1=\"302.054\" y1=\"216.683\" x2=\"308.482\" y2=\"209.023\" stroke-linecap=\"round\" style=\"stroke:black;stroke-width:12\"/><line x1=\"308.482\" y1=\"209.023\" x2=\"314.91\" y2=\"201.363\" stroke-linecap=\"round\" style=\"stroke:black;stroke-width:12\"/><line x1=\"314.91\" y1=\"201.363\" x2=\"321.338\" y2=\"193.703\" stroke-linecap=\"round\" style=\"stroke:black;stroke-width:12\"/><line x1=\"321.338\" y1=\"193.703\" x2=\"327.766\" y2=\"186.043\" stroke-linecap=\"round\" style=\"stroke:black;stroke-width:12\"/><line x1=\"327.766\" y1=\"186.043\" x2=\"334.194\" y2=\"178.383\" stroke-linecap=\"round\" style=\"stroke:black;stroke-width:12\"/><line x1=\"334.194\" y1=\"178.383\" x2=\"340.622\" y2=\"170.723\" stroke-linecap=\"round\" style=\"stroke:black;stroke-width:12\"/><line x1=\"340.622\" y1=\"170.723\" x2=\"347.05\" y2=\"163.063\" stroke-linecap=\"round\" style=\"stroke:black;stroke-width:12\"/><line x1=\"347.05\" y1=\"163.063\" x2=\"353.478\" y2=\"155.403\" stroke-linecap=\"round\" style=\"stroke:black;stroke-width:12\"/><line x1=\"353.478\" y1=\"155.403\" x2=\"359.906\" y2=\"147.743\" stroke-linecap=\"round\" style=\"stroke:black;stroke-width:12\"/><line x1=\"359.906\" y1=\"147.743\" x2=\"366.334\" y2=\"140.083\" stroke-linecap=\"round\" style=\"stroke:black;stroke-width:12\"/><line x1=\"366.334\" y1=\"140.083\" x2=\"372.762\" y2=\"132.423\" stroke-linecap=\"round\" style=\"stroke:black;stroke-width:12\"/><line x1=\"372.762\" y1=\"132.423\" x2=\"379.19\" y2=\"124.763\" stroke-linecap=\"round\" style=\"stroke:black;stroke-width:12\"/><line x1=\"379.19\" y1=\"124.763\" x2=\"385.618\" y2=\"117.103\" stroke-linecap=\"round\" style=\"stroke:black;stroke-width:12\"/><line x1=\"385.618\" y1=\"117.103\" x2=\"392.046\" y2=\"109.443\" stroke-linecap=\"round\" style=\"stroke:black;stroke-width:12\"/><line x1=\"392.046\" y1=\"109.443\" x2=\"398.474\" y2=\"101.783\" stroke-linecap=\"round\" style=\"stroke:black;stroke-width:12\"/><line x1=\"398.474\" y1=\"101.783\" x2=\"404.902\" y2=\"94.123\" stroke-linecap=\"round\" style=\"stroke:black;stroke-width:12\"/><line x1=\"404.902\" y1=\"94.123\" x2=\"411.33\" y2=\"86.463\" stroke-linecap=\"round\" style=\"stroke:black;stroke-width:12\"/><line x1=\"411.33\" y1=\"86.463\" x2=\"417.758\" y2=\"78.803\" stroke-linecap=\"round\" style=\"stroke:black;stroke-width:12\"/><line x1=\"417.758\" y1=\"78.803\" x2=\"424.186\" y2=\"71.143\" stroke-linecap=\"round\" style=\"stroke:black;stroke-width:12\"/><line x1=\"424.186\" y1=\"71.143\" x2=\"430.614\" y2=\"63.483\" stroke-linecap=\"round\" style=\"stroke:black;stroke-width:12\"/><line x1=\"430.614\" y1=\"63.483\" x2=\"437.042\" y2=\"55.823\" stroke-linecap=\"round\" style=\"stroke:black;stroke-width:12\"/><line x1=\"437.042\" y1=\"55.823\" x2=\"443.47\" y2=\"48.163\" stroke-linecap=\"round\" style=\"stroke:black;stroke-width:12\"/><line x1=\"443.47\" y1=\"48.163\" x2=\"449.898\" y2=\"40.503\" stroke-linecap=\"round\" style=\"stroke:black;stroke-width:12\"/><line x1=\"449.898\" y1=\"40.503\" x2=\"456.326\" y2=\"32.843\" stroke-linecap=\"round\" style=\"stroke:black;stroke-width:12\"/><line x1=\"456.326\" y1=\"32.843\" x2=\"462.754\" y2=\"25.183\" stroke-linecap=\"round\" style=\"stroke:black;stroke-width:12\"/><line x1=\"462.754\" y1=\"25.183\" x2=\"469.182\" y2=\"17.523\" stroke-linecap=\"round\" style=\"stroke:black;stroke-width:12\"/><line x1=\"469.182\" y1=\"17.523\" x2=\"475.61\" y2=\"9.863\" stroke-linecap=\"round\" style=\"stroke:black;stroke-width:12\"/><line x1=\"475.61\" y1=\"9.863\" x2=\"482.038\" y2=\"2.203\" stroke-linecap=\"round\" style=\"stroke:black;stroke-width:12\"/><line x1=\"482.038\" y1=\"2.203\" x2=\"488.466\" y2=\"-5.457\" stroke-linecap=\"round\" style=\"stroke:black;stroke-width:12\"/><line x1=\"488.466\" y1=\"-5.457\" x2=\"498.108\" y2=\"6.034\" stroke-linecap=\"round\" style=\"stroke:black;stroke-width:12\"/><line x1=\"498.108\" y1=\"6.034\" x2=\"504.536\" y2=\"13.694\" stroke-linecap=\"round\" style=\"stroke:black;stroke-width:12\"/><line x1=\"504.536\" y1=\"13.694\" x2=\"510.964\" y2=\"21.354\" stroke-linecap=\"round\" style=\"stroke:black;stroke-width:12\"/><line x1=\"510.964\" y1=\"21.354\" x2=\"517.392\" y2=\"29.014\" stroke-linecap=\"round\" style=\"stroke:black;stroke-width:12\"/><line x1=\"517.392\" y1=\"29.014\" x2=\"523.82\" y2=\"36.674\" stroke-linecap=\"round\" style=\"stroke:black;stroke-width:12\"/><line x1=\"523.82\" y1=\"36.674\" x2=\"530.248\" y2=\"44.334\" stroke-linecap=\"round\" style=\"stroke:black;stroke-width:12\"/><line x1=\"530.248\" y1=\"44.334\" x2=\"536.676\" y2=\"51.994\" stroke-linecap=\"round\" style=\"stroke:black;stroke-width:12\"/><line x1=\"536.676\" y1=\"51.994\" x2=\"543.104\" y2=\"59.654\" stroke-linecap=\"round\" style=\"stroke:black;stroke-width:12\"/><line x1=\"543.104\" y1=\"59.654\" x2=\"549.532\" y2=\"67.314\" stroke-linecap=\"round\" style=\"stroke:black;stroke-width:12\"/><line x1=\"549.532\" y1=\"67.314\" x2=\"555.96\" y2=\"74.974\" stroke-linecap=\"round\" style=\"stroke:black;stroke-width:12\"/><line x1=\"555.96\" y1=\"74.974\" x2=\"562.388\" y2=\"82.634\" stroke-linecap=\"round\" style=\"stroke:black;stroke-width:12\"/><line x1=\"562.388\" y1=\"82.634\" x2=\"568.816\" y2=\"90.294\" stroke-linecap=\"round\" style=\"stroke:black;stroke-width:12\"/><line x1=\"568.816\" y1=\"90.294\" x2=\"575.244\" y2=\"97.954\" stroke-linecap=\"round\" style=\"stroke:black;stroke-width:12\"/><line x1=\"575.244\" y1=\"97.954\" x2=\"581.672\" y2=\"105.614\" stroke-linecap=\"round\" style=\"stroke:black;stroke-width:12\"/><line x1=\"581.672\" y1=\"105.614\" x2=\"588.1\" y2=\"113.274\" stroke-linecap=\"round\" style=\"stroke:black;stroke-width:12\"/><line x1=\"588.1\" y1=\"113.274\" x2=\"594.528\" y2=\"120.934\" stroke-linecap=\"round\" style=\"stroke:black;stroke-width:12\"/><line x1=\"594.528\" y1=\"120.934\" x2=\"600.956\" y2=\"128.594\" stroke-linecap=\"round\" style=\"stroke:black;stroke-width:12\"/><line x1=\"600.956\" y1=\"128.594\" x2=\"607.384\" y2=\"136.254\" stroke-linecap=\"round\" style=\"stroke:black;stroke-width:12\"/><line x1=\"607.384\" y1=\"136.254\" x2=\"613.812\" y2=\"143.914\" stroke-linecap=\"round\" style=\"stroke:black;stroke-width:12\"/><line x1=\"613.812\" y1=\"143.914\" x2=\"620.24\" y2=\"151.574\" stroke-linecap=\"round\" style=\"stroke:black;stroke-width:12\"/><line x1=\"620.24\" y1=\"151.574\" x2=\"626.668\" y2=\"159.234\" stroke-linecap=\"round\" style=\"stroke:black;stroke-width:12\"/><line x1=\"626.668\" y1=\"159.234\" x2=\"633.096\" y2=\"166.894\" stroke-linecap=\"round\" style=\"stroke:black;stroke-width:12\"/><line x1=\"633.096\" y1=\"166.894\" x2=\"639.524\" y2=\"174.554\" stroke-linecap=\"round\" style=\"stroke:black;stroke-width:12\"/><line x1=\"639.524\" y1=\"174.554\" x2=\"645.952\" y2=\"182.214\" stroke-linecap=\"round\" style=\"stroke:black;stroke-width:12\"/><line x1=\"645.952\" y1=\"182.214\" x2=\"652.38\" y2=\"189.874\" stroke-linecap=\"round\" style=\"stroke:black;stroke-width:12\"/><line x1=\"652.38\" y1=\"189.874\" x2=\"658.808\" y2=\"197.534\" stroke-linecap=\"round\" style=\"stroke:black;stroke-width:12\"/><line x1=\"658.808\" y1=\"197.534\" x2=\"665.236\" y2=\"205.194\" stroke-linecap=\"round\" style=\"stroke:black;stroke-width:12\"/><line x1=\"665.236\" y1=\"205.194\" x2=\"671.664\" y2=\"212.854\" stroke-linecap=\"round\" style=\"stroke:black;stroke-width:12\"/><line x1=\"671.664\" y1=\"212.854\" x2=\"678.092\" y2=\"220.514\" stroke-linecap=\"round\" style=\"stroke:black;stroke-width:12\"/><line x1=\"678.092\" y1=\"220.514\" x2=\"684.52\" y2=\"228.174\" stroke-linecap=\"round\" style=\"stroke:black;stroke-width:12\"/><line x1=\"684.52\" y1=\"228.174\" x2=\"690.948\" y2=\"235.834\" stroke-linecap=\"round\" style=\"stroke:black;stroke-width:12\"/><line x1=\"690.948\" y1=\"235.834\" x2=\"697.376\" y2=\"243.494\" stroke-linecap=\"round\" style=\"stroke:black;stroke-width:12\"/><line x1=\"697.376\" y1=\"243.494\" x2=\"703.804\" y2=\"251.154\" stroke-linecap=\"round\" style=\"stroke:black;stroke-width:12\"/><line x1=\"703.804\" y1=\"251.154\" x2=\"710.232\" y2=\"258.814\" stroke-linecap=\"round\" style=\"stroke:black;stroke-width:12\"/><line x1=\"710.232\" y1=\"258.814\" x2=\"716.66\" y2=\"266.474\" stroke-linecap=\"round\" style=\"stroke:black;stroke-width:12\"/><line x1=\"716.66\" y1=\"266.474\" x2=\"723.088\" y2=\"274.134\" stroke-linecap=\"round\" style=\"stroke:black;stroke-width:12\"/><line x1=\"723.088\" y1=\"274.134\" x2=\"729.516\" y2=\"281.794\" stroke-linecap=\"round\" style=\"stroke:black;stroke-width:12\"/><line x1=\"729.516\" y1=\"281.794\" x2=\"735.944\" y2=\"289.454\" stroke-linecap=\"round\" style=\"stroke:black;stroke-width:12\"/><line x1=\"735.944\" y1=\"289.454\" x2=\"742.372\" y2=\"297.114\" stroke-linecap=\"round\" style=\"stroke:black;stroke-width:12\"/><line x1=\"742.372\" y1=\"297.114\" x2=\"748.8\" y2=\"304.774\" stroke-linecap=\"round\" style=\"stroke:black;stroke-width:12\"/><line x1=\"748.8\" y1=\"304.774\" x2=\"755.228\" y2=\"312.434\" stroke-linecap=\"round\" style=\"stroke:black;stroke-width:12\"/><line x1=\"755.228\" y1=\"312.434\" x2=\"761.656\" y2=\"320.094\" stroke-linecap=\"round\" style=\"stroke:black;stroke-width:12\"/><line x1=\"761.656\" y1=\"320.094\" x2=\"768.084\" y2=\"327.754\" stroke-linecap=\"round\" style=\"stroke:black;stroke-width:12\"/><line x1=\"768.084\" y1=\"327.754\" x2=\"774.512\" y2=\"335.414\" stroke-linecap=\"round\" style=\"stroke:black;stroke-width:12\"/><line x1=\"774.512\" y1=\"335.414\" x2=\"780.94\" y2=\"343.074\" stroke-linecap=\"round\" style=\"stroke:black;stroke-width:12\"/><line x1=\"780.94\" y1=\"343.074\" x2=\"787.368\" y2=\"350.734\" stroke-linecap=\"round\" style=\"stroke:black;stroke-width:12\"/><line x1=\"787.368\" y1=\"350.734\" x2=\"793.796\" y2=\"358.394\" stroke-linecap=\"round\" style=\"stroke:black;stroke-width:12\"/><line x1=\"793.796\" y1=\"358.394\" x2=\"800.224\" y2=\"366.054\" stroke-linecap=\"round\" style=\"stroke:black;stroke-width:12\"/><line x1=\"800.224\" y1=\"366.054\" x2=\"790.582\" y2=\"377.545\" stroke-linecap=\"round\" style=\"stroke:black;stroke-width:12\"/><line x1=\"790.582\" y1=\"377.545\" x2=\"784.154\" y2=\"385.205\" stroke-linecap=\"round\" style=\"stroke:black;stroke-width:12\"/><line x1=\"784.154\" y1=\"385.205\" x2=\"777.726\" y2=\"392.865\" stroke-linecap=\"round\" style=\"stroke:black;stroke-width:12\"/><line x1=\"777.726\" y1=\"392.865\" x2=\"771.298\" y2=\"400.525\" stroke-linecap=\"round\" style=\"stroke:black;stroke-width:12\"/><line x1=\"771.298\" y1=\"400.525\" x2=\"764.87\" y2=\"408.185\" stroke-linecap=\"round\" style=\"stroke:black;stroke-width:12\"/><line x1=\"764.87\" y1=\"408.185\" x2=\"758.442\" y2=\"415.845\" stroke-linecap=\"round\" style=\"stroke:black;stroke-width:12\"/><line x1=\"758.442\" y1=\"415.845\" x2=\"752.014\" y2=\"423.505\" stroke-linecap=\"round\" style=\"stroke:black;stroke-width:12\"/><line x1=\"752.014\" y1=\"423.505\" x2=\"745.586\" y2=\"431.165\" stroke-linecap=\"round\" style=\"stroke:black;stroke-width:12\"/><line x1=\"745.586\" y1=\"431.165\" x2=\"739.158\" y2=\"438.825\" stroke-linecap=\"round\" style=\"stroke:black;stroke-width:12\"/><line x1=\"739.158\" y1=\"438.825\" x2=\"732.73\" y2=\"446.485\" stroke-linecap=\"round\" style=\"stroke:black;stroke-width:12\"/><line x1=\"732.73\" y1=\"446.485\" x2=\"726.302\" y2=\"454.145\" stroke-linecap=\"round\" style=\"stroke:black;stroke-width:12\"/><line x1=\"726.302\" y1=\"454.145\" x2=\"719.874\" y2=\"461.805\" stroke-linecap=\"round\" style=\"stroke:black;stroke-width:12\"/><line x1=\"719.874\" y1=\"461.805\" x2=\"713.446\" y2=\"469.465\" stroke-linecap=\"round\" style=\"stroke:black;stroke-width:12\"/><line x1=\"713.446\" y1=\"469.465\" x2=\"707.018\" y2=\"477.125\" stroke-linecap=\"round\" style=\"stroke:black;stroke-width:12\"/><line x1=\"707.018\" y1=\"477.125\" x2=\"700.59\" y2=\"484.785\" stroke-linecap=\"round\" style=\"stroke:black;stroke-width:12\"/><line x1=\"700.59\" y1=\"484.785\" x2=\"694.162\" y2=\"492.445\" stroke-linecap=\"round\" style=\"stroke:black;stroke-width:12\"/><line x1=\"694.162\" y1=\"492.445\" x2=\"687.734\" y2=\"500.105\" stroke-linecap=\"round\" style=\"stroke:black;stroke-width:12\"/><line x1=\"687.734\" y1=\"500.105\" x2=\"678.092\" y2=\"488.614\" stroke-linecap=\"round\" style=\"stroke:black;stroke-width:12\"/><line x1=\"678.092\" y1=\"488.614\" x2=\"671.664\" y2=\"480.954\" stroke-linecap=\"round\" style=\"stroke:black;stroke-width:12\"/><line x1=\"671.664\" y1=\"480.954\" x2=\"665.236\" y2=\"473.294\" stroke-linecap=\"round\" style=\"stroke:black;stroke-width:12\"/><line x1=\"665.236\" y1=\"473.294\" x2=\"658.808\" y2=\"465.634\" stroke-linecap=\"round\" style=\"stroke:black;stroke-width:12\"/><line x1=\"658.808\" y1=\"465.634\" x2=\"652.38\" y2=\"457.974\" stroke-linecap=\"round\" style=\"stroke:black;stroke-width:12\"/><line x1=\"652.38\" y1=\"457.974\" x2=\"645.952\" y2=\"450.314\" stroke-linecap=\"round\" style=\"stroke:black;stroke-width:12\"/><line x1=\"645.952\" y1=\"450.314\" x2=\"639.524\" y2=\"442.654\" stroke-linecap=\"round\" style=\"stroke:black;stroke-width:12\"/><line x1=\"639.524\" y1=\"442.654\" x2=\"633.096\" y2=\"434.994\" stroke-linecap=\"round\" style=\"stroke:black;stroke-width:12\"/><line x1=\"633.096\" y1=\"434.994\" x2=\"626.668\" y2=\"427.334\" stroke-linecap=\"round\" style=\"stroke:black;stroke-width:12\"/><line x1=\"626.668\" y1=\"427.334\" x2=\"620.24\" y2=\"419.674\" stroke-linecap=\"round\" style=\"stroke:black;stroke-width:12\"/><line x1=\"620.24\" y1=\"419.674\" x2=\"613.812\" y2=\"412.014\" stroke-linecap=\"round\" style=\"stroke:black;stroke-width:12\"/><line x1=\"613.812\" y1=\"412.014\" x2=\"607.384\" y2=\"404.354\" stroke-linecap=\"round\" style=\"stroke:black;stroke-width:12\"/><line x1=\"607.384\" y1=\"404.354\" x2=\"600.956\" y2=\"396.694\" stroke-linecap=\"round\" style=\"stroke:black;stroke-width:12\"/><line x1=\"600.956\" y1=\"396.694\" x2=\"594.528\" y2=\"389.034\" stroke-linecap=\"round\" style=\"stroke:black;stroke-width:12\"/><line x1=\"594.528\" y1=\"389.034\" x2=\"588.1\" y2=\"381.374\" stroke-linecap=\"round\" style=\"stroke:black;stroke-width:12\"/><line x1=\"588.1\" y1=\"381.374\" x2=\"581.672\" y2=\"373.714\" stroke-linecap=\"round\" style=\"stroke:black;stroke-width:12\"/><line x1=\"581.672\" y1=\"373.714\" x2=\"575.244\" y2=\"366.054\" stroke-linecap=\"round\" style=\"stroke:black;stroke-width:12\"/><line x1=\"575.244\" y1=\"366.054\" x2=\"568.816\" y2=\"358.394\" stroke-linecap=\"round\" style=\"stroke:black;stroke-width:12\"/><line x1=\"568.816\" y1=\"358.394\" x2=\"562.388\" y2=\"350.734\" stroke-linecap=\"round\" style=\"stroke:black;stroke-width:12\"/><line x1=\"562.388\" y1=\"350.734\" x2=\"555.96\" y2=\"343.074\" stroke-linecap=\"round\" style=\"stroke:black;stroke-width:12\"/><line x1=\"555.96\" y1=\"343.074\" x2=\"549.532\" y2=\"335.414\" stroke-linecap=\"round\" style=\"stroke:black;stroke-width:12\"/><line x1=\"549.532\" y1=\"335.414\" x2=\"543.104\" y2=\"327.754\" stroke-linecap=\"round\" style=\"stroke:black;stroke-width:12\"/><line x1=\"543.104\" y1=\"327.754\" x2=\"536.676\" y2=\"320.094\" stroke-linecap=\"round\" style=\"stroke:black;stroke-width:12\"/><line x1=\"536.676\" y1=\"320.094\" x2=\"530.248\" y2=\"312.434\" stroke-linecap=\"round\" style=\"stroke:black;stroke-width:12\"/><line x1=\"530.248\" y1=\"312.434\" x2=\"523.82\" y2=\"304.774\" stroke-linecap=\"round\" style=\"stroke:black;stroke-width:12\"/><line x1=\"523.82\" y1=\"304.774\" x2=\"517.392\" y2=\"297.114\" stroke-linecap=\"round\" style=\"stroke:black;stroke-width:12\"/><line x1=\"517.392\" y1=\"297.114\" x2=\"510.964\" y2=\"289.454\" stroke-linecap=\"round\" style=\"stroke:black;stroke-width:12\"/><line x1=\"510.964\" y1=\"289.454\" x2=\"504.536\" y2=\"281.794\" stroke-linecap=\"round\" style=\"stroke:black;stroke-width:12\"/><line x1=\"504.536\" y1=\"281.794\" x2=\"498.108\" y2=\"274.134\" stroke-linecap=\"round\" style=\"stroke:black;stroke-width:12\"/><line x1=\"498.108\" y1=\"274.134\" x2=\"491.68\" y2=\"266.474\" stroke-linecap=\"round\" style=\"stroke:black;stroke-width:12\"/><line x1=\"491.68\" y1=\"266.474\" x2=\"485.252\" y2=\"258.814\" stroke-linecap=\"round\" style=\"stroke:black;stroke-width:12\"/><line x1=\"485.252\" y1=\"258.814\" x2=\"478.824\" y2=\"251.154\" stroke-linecap=\"round\" style=\"stroke:black;stroke-width:12\"/><line x1=\"478.824\" y1=\"251.154\" x2=\"472.396\" y2=\"243.494\" stroke-linecap=\"round\" style=\"stroke:black;stroke-width:12\"/><line x1=\"472.396\" y1=\"243.494\" x2=\"465.968\" y2=\"235.834\" stroke-linecap=\"round\" style=\"stroke:black;stroke-width:12\"/><line x1=\"465.968\" y1=\"235.834\" x2=\"459.54\" y2=\"228.174\" stroke-linecap=\"round\" style=\"stroke:black;stroke-width:12\"/><line x1=\"459.54\" y1=\"228.174\" x2=\"453.112\" y2=\"220.514\" stroke-linecap=\"round\" style=\"stroke:black;stroke-width:12\"/><line x1=\"453.112\" y1=\"220.514\" x2=\"446.684\" y2=\"212.854\" stroke-linecap=\"round\" style=\"stroke:black;stroke-width:12\"/><line x1=\"446.684\" y1=\"212.854\" x2=\"440.256\" y2=\"205.194\" stroke-linecap=\"round\" style=\"stroke:black;stroke-width:12\"/><line x1=\"440.256\" y1=\"205.194\" x2=\"433.828\" y2=\"197.534\" stroke-linecap=\"round\" style=\"stroke:black;stroke-width:12\"/><line x1=\"433.828\" y1=\"197.534\" x2=\"427.4\" y2=\"189.874\" stroke-linecap=\"round\" style=\"stroke:black;stroke-width:12\"/><line x1=\"427.4\" y1=\"189.874\" x2=\"420.972\" y2=\"182.214\" stroke-linecap=\"round\" style=\"stroke:black;stroke-width:12\"/><line x1=\"420.972\" y1=\"182.214\" x2=\"414.544\" y2=\"174.554\" stroke-linecap=\"round\" style=\"stroke:black;stroke-width:12\"/><line x1=\"414.544\" y1=\"174.554\" x2=\"408.116\" y2=\"166.894\" stroke-linecap=\"round\" style=\"stroke:black;stroke-width:12\"/><line x1=\"408.116\" y1=\"166.894\" x2=\"401.688\" y2=\"159.234\" stroke-linecap=\"round\" style=\"stroke:black;stroke-width:12\"/><line x1=\"401.688\" y1=\"159.234\" x2=\"395.26\" y2=\"151.574\" stroke-linecap=\"round\" style=\"stroke:black;stroke-width:12\"/><line x1=\"395.26\" y1=\"151.574\" x2=\"388.832\" y2=\"143.914\" stroke-linecap=\"round\" style=\"stroke:black;stroke-width:12\"/><line x1=\"388.832\" y1=\"143.914\" x2=\"382.404\" y2=\"136.254\" stroke-linecap=\"round\" style=\"stroke:black;stroke-width:12\"/><line x1=\"382.404\" y1=\"136.254\" x2=\"375.976\" y2=\"128.594\" stroke-linecap=\"round\" style=\"stroke:black;stroke-width:12\"/><line x1=\"375.976\" y1=\"128.594\" x2=\"369.548\" y2=\"120.934\" stroke-linecap=\"round\" style=\"stroke:black;stroke-width:12\"/><line x1=\"369.548\" y1=\"120.934\" x2=\"363.12\" y2=\"113.274\" stroke-linecap=\"round\" style=\"stroke:black;stroke-width:12\"/><line x1=\"363.12\" y1=\"113.274\" x2=\"356.692\" y2=\"105.614\" stroke-linecap=\"round\" style=\"stroke:black;stroke-width:12\"/><line x1=\"356.692\" y1=\"105.614\" x2=\"350.264\" y2=\"97.954\" stroke-linecap=\"round\" style=\"stroke:black;stroke-width:12\"/><line x1=\"350.264\" y1=\"97.954\" x2=\"343.836\" y2=\"90.294\" stroke-linecap=\"round\" style=\"stroke:black;stroke-width:12\"/><line x1=\"343.836\" y1=\"90.294\" x2=\"337.408\" y2=\"82.634\" stroke-linecap=\"round\" style=\"stroke:black;stroke-width:12\"/><line x1=\"337.408\" y1=\"82.634\" x2=\"330.98\" y2=\"74.974\" stroke-linecap=\"round\" style=\"stroke:black;stroke-width:12\"/><line x1=\"330.98\" y1=\"74.974\" x2=\"324.552\" y2=\"67.314\" stroke-linecap=\"round\" style=\"stroke:black;stroke-width:12\"/><line x1=\"324.552\" y1=\"67.314\" x2=\"318.124\" y2=\"59.654\" stroke-linecap=\"round\" style=\"stroke:black;stroke-width:12\"/><line x1=\"318.124\" y1=\"59.654\" x2=\"311.696\" y2=\"51.994\" stroke-linecap=\"round\" style=\"stroke:black;stroke-width:12\"/><line x1=\"311.696\" y1=\"51.994\" x2=\"305.268\" y2=\"44.334\" stroke-linecap=\"round\" style=\"stroke:black;stroke-width:12\"/><line x1=\"305.268\" y1=\"44.334\" x2=\"298.84\" y2=\"36.674\" stroke-linecap=\"round\" style=\"stroke:black;stroke-width:12\"/><line x1=\"298.84\" y1=\"36.674\" x2=\"292.412\" y2=\"29.014\" stroke-linecap=\"round\" style=\"stroke:black;stroke-width:12\"/><line x1=\"292.412\" y1=\"29.014\" x2=\"285.984\" y2=\"21.354\" stroke-linecap=\"round\" style=\"stroke:black;stroke-width:12\"/><line x1=\"285.984\" y1=\"21.354\" x2=\"279.556\" y2=\"13.694\" stroke-linecap=\"round\" style=\"stroke:black;stroke-width:12\"/><line x1=\"279.556\" y1=\"13.694\" x2=\"273.128\" y2=\"6.034\" stroke-linecap=\"round\" style=\"stroke:black;stroke-width:12\"/><line x1=\"273.128\" y1=\"6.034\" x2=\"266.7\" y2=\"-1.626\" stroke-linecap=\"round\" style=\"stroke:black;stroke-width:12\"/><line x1=\"266.7\" y1=\"-1.626\" x2=\"257.058\" y2=\"9.865\" stroke-linecap=\"round\" style=\"stroke:black;stroke-width:12\"/><line x1=\"257.058\" y1=\"9.865\" x2=\"250.63\" y2=\"17.525\" stroke-linecap=\"round\" style=\"stroke:black;stroke-width:12\"/><line x1=\"250.63\" y1=\"17.525\" x2=\"244.202\" y2=\"25.185\" stroke-linecap=\"round\" style=\"stroke:black;stroke-width:12\"/><line x1=\"244.202\" y1=\"25.185\" x2=\"237.774\" y2=\"32.845\" stroke-linecap=\"round\" style=\"stroke:black;stroke-width:12\"/><line x1=\"237.774\" y1=\"32.845\" x2=\"231.346\" y2=\"40.505\" stroke-linecap=\"round\" style=\"stroke:black;stroke-width:12\"/><line x1=\"231.346\" y1=\"40.505\" x2=\"224.918\" y2=\"48.165\" stroke-linecap=\"round\" style=\"stroke:black;stroke-width:12\"/><line x1=\"224.918\" y1=\"48.165\" x2=\"218.49\" y2=\"55.825\" stroke-linecap=\"round\" style=\"stroke:black;stroke-width:12\"/><line x1=\"218.49\" y1=\"55.825\" x2=\"212.062\" y2=\"63.485\" stroke-linecap=\"round\" style=\"stroke:black;stroke-width:12\"/><line x1=\"212.062\" y1=\"63.485\" x2=\"205.634\" y2=\"71.145\" stroke-linecap=\"round\" style=\"stroke:black;stroke-width:12\"/><line x1=\"205.634\" y1=\"71.145\" x2=\"199.206\" y2=\"78.805\" stroke-linecap=\"round\" style=\"stroke:black;stroke-width:12\"/><line x1=\"199.206\" y1=\"78.805\" x2=\"192.778\" y2=\"86.465\" stroke-linecap=\"round\" style=\"stroke:black;stroke-width:12\"/><line x1=\"192.778\" y1=\"86.465\" x2=\"186.35\" y2=\"94.125\" stroke-linecap=\"round\" style=\"stroke:black;stroke-width:12\"/><line x1=\"186.35\" y1=\"94.125\" x2=\"179.922\" y2=\"101.785\" stroke-linecap=\"round\" style=\"stroke:black;stroke-width:12\"/><line x1=\"179.922\" y1=\"101.785\" x2=\"173.494\" y2=\"109.445\" stroke-linecap=\"round\" style=\"stroke:black;stroke-width:12\"/><line x1=\"173.494\" y1=\"109.445\" x2=\"167.066\" y2=\"117.105\" stroke-linecap=\"round\" style=\"stroke:black;stroke-width:12\"/><line x1=\"167.066\" y1=\"117.105\" x2=\"160.638\" y2=\"124.765\" stroke-linecap=\"round\" style=\"stroke:black;stroke-width:12\"/><line x1=\"160.638\" y1=\"124.765\" x2=\"154.21\" y2=\"132.425\" stroke-linecap=\"round\" style=\"stroke:black;stroke-width:12\"/><line x1=\"154.21\" y1=\"132.425\" x2=\"147.782\" y2=\"140.085\" stroke-linecap=\"round\" style=\"stroke:black;stroke-width:12\"/><line x1=\"147.782\" y1=\"140.085\" x2=\"141.354\" y2=\"147.745\" stroke-linecap=\"round\" style=\"stroke:black;stroke-width:12\"/><line x1=\"141.354\" y1=\"147.745\" x2=\"134.926\" y2=\"155.405\" stroke-linecap=\"round\" style=\"stroke:black;stroke-width:12\"/><line x1=\"134.926\" y1=\"155.405\" x2=\"128.498\" y2=\"163.065\" stroke-linecap=\"round\" style=\"stroke:black;stroke-width:12\"/><line x1=\"128.498\" y1=\"163.065\" x2=\"122.07\" y2=\"170.725\" stroke-linecap=\"round\" style=\"stroke:black;stroke-width:12\"/><line x1=\"122.07\" y1=\"170.725\" x2=\"115.642\" y2=\"178.385\" stroke-linecap=\"round\" style=\"stroke:black;stroke-width:12\"/><line x1=\"115.642\" y1=\"178.385\" x2=\"109.214\" y2=\"186.045\" stroke-linecap=\"round\" style=\"stroke:black;stroke-width:12\"/><line x1=\"109.214\" y1=\"186.045\" x2=\"102.786\" y2=\"193.705\" stroke-linecap=\"round\" style=\"stroke:black;stroke-width:12\"/><line x1=\"102.786\" y1=\"193.705\" x2=\"96.358\" y2=\"201.365\" stroke-linecap=\"round\" style=\"stroke:black;stroke-width:12\"/><line x1=\"96.358\" y1=\"201.365\" x2=\"89.93\" y2=\"209.025\" stroke-linecap=\"round\" style=\"stroke:black;stroke-width:12\"/><line x1=\"89.93\" y1=\"209.025\" x2=\"83.502\" y2=\"216.685\" stroke-linecap=\"round\" style=\"stroke:black;stroke-width:12\"/><line x1=\"83.502\" y1=\"216.685\" x2=\"77.074\" y2=\"224.345\" stroke-linecap=\"round\" style=\"stroke:black;stroke-width:12\"/><line x1=\"77.074\" y1=\"224.345\" x2=\"70.646\" y2=\"232.005\" stroke-linecap=\"round\" style=\"stroke:black;stroke-width:12\"/><line x1=\"70.646\" y1=\"232.005\" x2=\"64.218\" y2=\"239.665\" stroke-linecap=\"round\" style=\"stroke:black;stroke-width:12\"/><line x1=\"64.218\" y1=\"239.665\" x2=\"57.79\" y2=\"247.325\" stroke-linecap=\"round\" style=\"stroke:black;stroke-width:12\"/><line x1=\"57.79\" y1=\"247.325\" x2=\"51.362\" y2=\"254.985\" stroke-linecap=\"round\" style=\"stroke:black;stroke-width:12\"/><line x1=\"51.362\" y1=\"254.985\" x2=\"44.934\" y2=\"262.645\" stroke-linecap=\"round\" style=\"stroke:black;stroke-width:12\"/><line x1=\"44.934\" y1=\"262.645\" x2=\"38.506\" y2=\"270.305\" stroke-linecap=\"round\" style=\"stroke:black;stroke-width:12\"/><line x1=\"38.506\" y1=\"270.305\" x2=\"32.078\" y2=\"277.965\" stroke-linecap=\"round\" style=\"stroke:black;stroke-width:12\"/><line x1=\"32.078\" y1=\"277.965\" x2=\"25.65\" y2=\"285.625\" stroke-linecap=\"round\" style=\"stroke:black;stroke-width:12\"/><line x1=\"25.65\" y1=\"285.625\" x2=\"19.222\" y2=\"293.285\" stroke-linecap=\"round\" style=\"stroke:black;stroke-width:12\"/><line x1=\"19.222\" y1=\"293.285\" x2=\"12.794\" y2=\"300.945\" stroke-linecap=\"round\" style=\"stroke:black;stroke-width:12\"/><line x1=\"12.794\" y1=\"300.945\" x2=\"6.366\" y2=\"308.605\" stroke-linecap=\"round\" style=\"stroke:black;stroke-width:12\"/><line x1=\"6.366\" y1=\"308.605\" x2=\"-0.062\" y2=\"316.265\" stroke-linecap=\"round\" style=\"stroke:black;stroke-width:12\"/><line x1=\"-0.062\" y1=\"316.265\" x2=\"9.58\" y2=\"327.756\" stroke-linecap=\"round\" style=\"stroke:black;stroke-width:12\"/><line x1=\"9.58\" y1=\"327.756\" x2=\"16.008\" y2=\"335.416\" stroke-linecap=\"round\" style=\"stroke:black;stroke-width:12\"/><line x1=\"16.008\" y1=\"335.416\" x2=\"22.436\" y2=\"343.076\" stroke-linecap=\"round\" style=\"stroke:black;stroke-width:12\"/><line x1=\"22.436\" y1=\"343.076\" x2=\"28.864\" y2=\"350.736\" stroke-linecap=\"round\" style=\"stroke:black;stroke-width:12\"/><line x1=\"28.864\" y1=\"350.736\" x2=\"35.292\" y2=\"358.396\" stroke-linecap=\"round\" style=\"stroke:black;stroke-width:12\"/><line x1=\"35.292\" y1=\"358.396\" x2=\"41.72\" y2=\"366.056\" stroke-linecap=\"round\" style=\"stroke:black;stroke-width:12\"/><line x1=\"41.72\" y1=\"366.056\" x2=\"48.148\" y2=\"373.716\" stroke-linecap=\"round\" style=\"stroke:black;stroke-width:12\"/><line x1=\"48.148\" y1=\"373.716\" x2=\"54.576\" y2=\"381.376\" stroke-linecap=\"round\" style=\"stroke:black;stroke-width:12\"/><line x1=\"54.576\" y1=\"381.376\" x2=\"61.004\" y2=\"389.036\" stroke-linecap=\"round\" style=\"stroke:black;stroke-width:12\"/><line x1=\"61.004\" y1=\"389.036\" x2=\"67.432\" y2=\"396.696\" stroke-linecap=\"round\" style=\"stroke:black;stroke-width:12\"/><line x1=\"67.432\" y1=\"396.696\" x2=\"73.86\" y2=\"404.356\" stroke-linecap=\"round\" style=\"stroke:black;stroke-width:12\"/><line x1=\"73.86\" y1=\"404.356\" x2=\"80.288\" y2=\"412.016\" stroke-linecap=\"round\" style=\"stroke:black;stroke-width:12\"/><line x1=\"80.288\" y1=\"412.016\" x2=\"86.716\" y2=\"419.676\" stroke-linecap=\"round\" style=\"stroke:black;stroke-width:12\"/><line x1=\"86.716\" y1=\"419.676\" x2=\"93.144\" y2=\"427.336\" stroke-linecap=\"round\" style=\"stroke:black;stroke-width:12\"/><line x1=\"93.144\" y1=\"427.336\" x2=\"99.572\" y2=\"434.996\" stroke-linecap=\"round\" style=\"stroke:black;stroke-width:12\"/><line x1=\"99.572\" y1=\"434.996\" x2=\"106.0\" y2=\"442.656\" stroke-linecap=\"round\" style=\"stroke:black;stroke-width:12\"/><line x1=\"106.0\" y1=\"442.656\" x2=\"112.428\" y2=\"450.316\" stroke-linecap=\"round\" style=\"stroke:black;stroke-width:12\"/><line x1=\"112.428\" y1=\"450.316\" x2=\"118.856\" y2=\"457.976\" stroke-linecap=\"round\" style=\"stroke:black;stroke-width:12\"/><line x1=\"118.856\" y1=\"457.976\" x2=\"125.284\" y2=\"465.636\" stroke-linecap=\"round\" style=\"stroke:black;stroke-width:12\"/><line x1=\"125.284\" y1=\"465.636\" x2=\"131.712\" y2=\"473.296\" stroke-linecap=\"round\" style=\"stroke:black;stroke-width:12\"/><line x1=\"131.712\" y1=\"473.296\" x2=\"138.14\" y2=\"480.956\" stroke-linecap=\"round\" style=\"stroke:black;stroke-width:12\"/><line x1=\"138.14\" y1=\"480.956\" x2=\"144.568\" y2=\"488.616\" stroke-linecap=\"round\" style=\"stroke:black;stroke-width:12\"/><line x1=\"144.568\" y1=\"488.616\" x2=\"150.996\" y2=\"496.276\" stroke-linecap=\"round\" style=\"stroke:black;stroke-width:12\"/><line x1=\"150.996\" y1=\"496.276\" x2=\"157.424\" y2=\"503.936\" stroke-linecap=\"round\" style=\"stroke:black;stroke-width:12\"/><line x1=\"157.424\" y1=\"503.936\" x2=\"167.066\" y2=\"492.445\" stroke-linecap=\"round\" style=\"stroke:black;stroke-width:12\"/><line x1=\"167.066\" y1=\"492.445\" x2=\"173.494\" y2=\"484.785\" stroke-linecap=\"round\" style=\"stroke:black;stroke-width:12\"/><line x1=\"173.494\" y1=\"484.785\" x2=\"179.922\" y2=\"477.125\" stroke-linecap=\"round\" style=\"stroke:black;stroke-width:12\"/><line x1=\"179.922\" y1=\"477.125\" x2=\"186.35\" y2=\"469.465\" stroke-linecap=\"round\" style=\"stroke:black;stroke-width:12\"/><line x1=\"186.35\" y1=\"469.465\" x2=\"192.778\" y2=\"461.805\" stroke-linecap=\"round\" style=\"stroke:black;stroke-width:12\"/><line x1=\"192.778\" y1=\"461.805\" x2=\"199.206\" y2=\"454.145\" stroke-linecap=\"round\" style=\"stroke:black;stroke-width:12\"/><line x1=\"199.206\" y1=\"454.145\" x2=\"205.634\" y2=\"446.485\" stroke-linecap=\"round\" style=\"stroke:black;stroke-width:12\"/><line x1=\"205.634\" y1=\"446.485\" x2=\"212.062\" y2=\"438.825\" stroke-linecap=\"round\" style=\"stroke:black;stroke-width:12\"/><line x1=\"212.062\" y1=\"438.825\" x2=\"218.49\" y2=\"431.165\" stroke-linecap=\"round\" style=\"stroke:black;stroke-width:12\"/><line x1=\"218.49\" y1=\"431.165\" x2=\"224.918\" y2=\"423.505\" stroke-linecap=\"round\" style=\"stroke:black;stroke-width:12\"/><line x1=\"224.918\" y1=\"423.505\" x2=\"231.346\" y2=\"415.845\" stroke-linecap=\"round\" style=\"stroke:black;stroke-width:12\"/><line x1=\"231.346\" y1=\"415.845\" x2=\"237.774\" y2=\"408.185\" stroke-linecap=\"round\" style=\"stroke:black;stroke-width:12\"/><line x1=\"237.774\" y1=\"408.185\" x2=\"244.202\" y2=\"400.525\" stroke-linecap=\"round\" style=\"stroke:black;stroke-width:12\"/><line x1=\"244.202\" y1=\"400.525\" x2=\"250.63\" y2=\"392.865\" stroke-linecap=\"round\" style=\"stroke:black;stroke-width:12\"/><line x1=\"250.63\" y1=\"392.865\" x2=\"257.058\" y2=\"385.205\" stroke-linecap=\"round\" style=\"stroke:black;stroke-width:12\"/><line x1=\"257.058\" y1=\"385.205\" x2=\"263.486\" y2=\"377.545\" stroke-linecap=\"round\" style=\"stroke:black;stroke-width:12\"/><line x1=\"263.486\" y1=\"377.545\" x2=\"269.914\" y2=\"369.885\" stroke-linecap=\"round\" style=\"stroke:black;stroke-width:12\"/><line x1=\"269.914\" y1=\"369.885\" x2=\"276.342\" y2=\"362.225\" stroke-linecap=\"round\" style=\"stroke:black;stroke-width:12\"/><line x1=\"276.342\" y1=\"362.225\" x2=\"282.77\" y2=\"354.565\" stroke-linecap=\"round\" style=\"stroke:black;stroke-width:12\"/><line x1=\"282.77\" y1=\"354.565\" x2=\"289.198\" y2=\"346.905\" stroke-linecap=\"round\" style=\"stroke:black;stroke-width:12\"/><line x1=\"289.198\" y1=\"346.905\" x2=\"295.626\" y2=\"339.245\" stroke-linecap=\"round\" style=\"stroke:black;stroke-width:12\"/><line x1=\"295.626\" y1=\"339.245\" x2=\"302.054\" y2=\"331.585\" stroke-linecap=\"round\" style=\"stroke:black;stroke-width:12\"/><line x1=\"302.054\" y1=\"331.585\" x2=\"308.482\" y2=\"323.925\" stroke-linecap=\"round\" style=\"stroke:black;stroke-width:12\"/><line x1=\"308.482\" y1=\"323.925\" x2=\"314.91\" y2=\"316.265\" stroke-linecap=\"round\" style=\"stroke:black;stroke-width:12\"/><line x1=\"314.91\" y1=\"316.265\" x2=\"321.338\" y2=\"308.605\" stroke-linecap=\"round\" style=\"stroke:black;stroke-width:12\"/><line x1=\"321.338\" y1=\"308.605\" x2=\"327.766\" y2=\"300.945\" stroke-linecap=\"round\" style=\"stroke:black;stroke-width:12\"/><line x1=\"327.766\" y1=\"300.945\" x2=\"334.194\" y2=\"293.285\" stroke-linecap=\"round\" style=\"stroke:black;stroke-width:12\"/><line x1=\"334.194\" y1=\"293.285\" x2=\"340.622\" y2=\"285.625\" stroke-linecap=\"round\" style=\"stroke:black;stroke-width:12\"/><line x1=\"340.622\" y1=\"285.625\" x2=\"347.05\" y2=\"277.965\" stroke-linecap=\"round\" style=\"stroke:black;stroke-width:12\"/><line x1=\"347.05\" y1=\"277.965\" x2=\"353.478\" y2=\"270.305\" stroke-linecap=\"round\" style=\"stroke:black;stroke-width:12\"/><line x1=\"353.478\" y1=\"270.305\" x2=\"359.906\" y2=\"262.645\" stroke-linecap=\"round\" style=\"stroke:black;stroke-width:12\"/><line x1=\"359.906\" y1=\"262.645\" x2=\"366.334\" y2=\"254.985\" stroke-linecap=\"round\" style=\"stroke:black;stroke-width:12\"/><line x1=\"366.334\" y1=\"254.985\" x2=\"372.762\" y2=\"247.325\" stroke-linecap=\"round\" style=\"stroke:black;stroke-width:12\"/><line x1=\"372.762\" y1=\"247.325\" x2=\"379.19\" y2=\"239.665\" stroke-linecap=\"round\" style=\"stroke:black;stroke-width:12\"/><line x1=\"379.19\" y1=\"239.665\" x2=\"385.618\" y2=\"232.005\" stroke-linecap=\"round\" style=\"stroke:black;stroke-width:12\"/><line x1=\"385.618\" y1=\"232.005\" x2=\"392.046\" y2=\"224.345\" stroke-linecap=\"round\" style=\"stroke:black;stroke-width:12\"/><line x1=\"392.046\" y1=\"224.345\" x2=\"398.474\" y2=\"216.685\" stroke-linecap=\"round\" style=\"stroke:black;stroke-width:12\"/><line x1=\"398.474\" y1=\"216.685\" x2=\"404.902\" y2=\"209.025\" stroke-linecap=\"round\" style=\"stroke:black;stroke-width:12\"/><line x1=\"404.902\" y1=\"209.025\" x2=\"411.33\" y2=\"201.365\" stroke-linecap=\"round\" style=\"stroke:black;stroke-width:12\"/><line x1=\"411.33\" y1=\"201.365\" x2=\"417.758\" y2=\"193.705\" stroke-linecap=\"round\" style=\"stroke:black;stroke-width:12\"/><line x1=\"417.758\" y1=\"193.705\" x2=\"424.186\" y2=\"186.045\" stroke-linecap=\"round\" style=\"stroke:black;stroke-width:12\"/><line x1=\"424.186\" y1=\"186.045\" x2=\"430.614\" y2=\"178.385\" stroke-linecap=\"round\" style=\"stroke:black;stroke-width:12\"/><line x1=\"430.614\" y1=\"178.385\" x2=\"437.042\" y2=\"170.725\" stroke-linecap=\"round\" style=\"stroke:black;stroke-width:12\"/><line x1=\"437.042\" y1=\"170.725\" x2=\"443.47\" y2=\"163.065\" stroke-linecap=\"round\" style=\"stroke:black;stroke-width:12\"/><line x1=\"443.47\" y1=\"163.065\" x2=\"449.898\" y2=\"155.405\" stroke-linecap=\"round\" style=\"stroke:black;stroke-width:12\"/><line x1=\"449.898\" y1=\"155.405\" x2=\"456.326\" y2=\"147.745\" stroke-linecap=\"round\" style=\"stroke:black;stroke-width:12\"/><line x1=\"456.326\" y1=\"147.745\" x2=\"462.754\" y2=\"140.085\" stroke-linecap=\"round\" style=\"stroke:black;stroke-width:12\"/><line x1=\"462.754\" y1=\"140.085\" x2=\"469.182\" y2=\"132.425\" stroke-linecap=\"round\" style=\"stroke:black;stroke-width:12\"/><line x1=\"469.182\" y1=\"132.425\" x2=\"475.61\" y2=\"124.765\" stroke-linecap=\"round\" style=\"stroke:black;stroke-width:12\"/><line x1=\"475.61\" y1=\"124.765\" x2=\"482.038\" y2=\"117.105\" stroke-linecap=\"round\" style=\"stroke:black;stroke-width:12\"/><line x1=\"482.038\" y1=\"117.105\" x2=\"488.466\" y2=\"109.445\" stroke-linecap=\"round\" style=\"stroke:black;stroke-width:12\"/><line x1=\"488.466\" y1=\"109.445\" x2=\"494.894\" y2=\"101.785\" stroke-linecap=\"round\" style=\"stroke:black;stroke-width:12\"/><line x1=\"494.894\" y1=\"101.785\" x2=\"501.322\" y2=\"94.125\" stroke-linecap=\"round\" style=\"stroke:black;stroke-width:12\"/><line x1=\"501.322\" y1=\"94.125\" x2=\"507.75\" y2=\"86.465\" stroke-linecap=\"round\" style=\"stroke:black;stroke-width:12\"/><line x1=\"507.75\" y1=\"86.465\" x2=\"514.178\" y2=\"78.805\" stroke-linecap=\"round\" style=\"stroke:black;stroke-width:12\"/><line x1=\"514.178\" y1=\"78.805\" x2=\"520.606\" y2=\"71.145\" stroke-linecap=\"round\" style=\"stroke:black;stroke-width:12\"/><line x1=\"520.606\" y1=\"71.145\" x2=\"527.034\" y2=\"63.485\" stroke-linecap=\"round\" style=\"stroke:black;stroke-width:12\"/><line x1=\"527.034\" y1=\"63.485\" x2=\"533.462\" y2=\"55.825\" stroke-linecap=\"round\" style=\"stroke:black;stroke-width:12\"/><line x1=\"533.462\" y1=\"55.825\" x2=\"539.89\" y2=\"48.165\" stroke-linecap=\"round\" style=\"stroke:black;stroke-width:12\"/><line x1=\"539.89\" y1=\"48.165\" x2=\"546.318\" y2=\"40.505\" stroke-linecap=\"round\" style=\"stroke:black;stroke-width:12\"/><line x1=\"546.318\" y1=\"40.505\" x2=\"552.746\" y2=\"32.845\" stroke-linecap=\"round\" style=\"stroke:black;stroke-width:12\"/><line x1=\"552.746\" y1=\"32.845\" x2=\"559.174\" y2=\"25.185\" stroke-linecap=\"round\" style=\"stroke:black;stroke-width:12\"/><line x1=\"559.174\" y1=\"25.185\" x2=\"565.602\" y2=\"17.525\" stroke-linecap=\"round\" style=\"stroke:black;stroke-width:12\"/><line x1=\"565.602\" y1=\"17.525\" x2=\"572.03\" y2=\"9.865\" stroke-linecap=\"round\" style=\"stroke:black;stroke-width:12\"/><line x1=\"572.03\" y1=\"9.865\" x2=\"578.458\" y2=\"2.205\" stroke-linecap=\"round\" style=\"stroke:black;stroke-width:12\"/><line x1=\"578.458\" y1=\"2.205\" x2=\"584.886\" y2=\"-5.455\" stroke-linecap=\"round\" style=\"stroke:black;stroke-width:12\"/><line x1=\"584.886\" y1=\"-5.455\" x2=\"594.528\" y2=\"6.036\" stroke-linecap=\"round\" style=\"stroke:black;stroke-width:12\"/><line x1=\"594.528\" y1=\"6.036\" x2=\"600.956\" y2=\"13.696\" stroke-linecap=\"round\" style=\"stroke:black;stroke-width:12\"/><line x1=\"600.956\" y1=\"13.696\" x2=\"607.384\" y2=\"21.356\" stroke-linecap=\"round\" style=\"stroke:black;stroke-width:12\"/><line x1=\"607.384\" y1=\"21.356\" x2=\"613.812\" y2=\"29.016\" stroke-linecap=\"round\" style=\"stroke:black;stroke-width:12\"/><line x1=\"613.812\" y1=\"29.016\" x2=\"620.24\" y2=\"36.676\" stroke-linecap=\"round\" style=\"stroke:black;stroke-width:12\"/><line x1=\"620.24\" y1=\"36.676\" x2=\"626.668\" y2=\"44.336\" stroke-linecap=\"round\" style=\"stroke:black;stroke-width:12\"/><line x1=\"626.668\" y1=\"44.336\" x2=\"633.096\" y2=\"51.996\" stroke-linecap=\"round\" style=\"stroke:black;stroke-width:12\"/><line x1=\"633.096\" y1=\"51.996\" x2=\"639.524\" y2=\"59.656\" stroke-linecap=\"round\" style=\"stroke:black;stroke-width:12\"/><line x1=\"639.524\" y1=\"59.656\" x2=\"645.952\" y2=\"67.316\" stroke-linecap=\"round\" style=\"stroke:black;stroke-width:12\"/><line x1=\"645.952\" y1=\"67.316\" x2=\"652.38\" y2=\"74.976\" stroke-linecap=\"round\" style=\"stroke:black;stroke-width:12\"/><line x1=\"652.38\" y1=\"74.976\" x2=\"658.808\" y2=\"82.636\" stroke-linecap=\"round\" style=\"stroke:black;stroke-width:12\"/><line x1=\"658.808\" y1=\"82.636\" x2=\"665.236\" y2=\"90.296\" stroke-linecap=\"round\" style=\"stroke:black;stroke-width:12\"/><line x1=\"665.236\" y1=\"90.296\" x2=\"671.664\" y2=\"97.956\" stroke-linecap=\"round\" style=\"stroke:black;stroke-width:12\"/><line x1=\"671.664\" y1=\"97.956\" x2=\"678.092\" y2=\"105.616\" stroke-linecap=\"round\" style=\"stroke:black;stroke-width:12\"/><line x1=\"678.092\" y1=\"105.616\" x2=\"684.52\" y2=\"113.276\" stroke-linecap=\"round\" style=\"stroke:black;stroke-width:12\"/><line x1=\"684.52\" y1=\"113.276\" x2=\"690.948\" y2=\"120.936\" stroke-linecap=\"round\" style=\"stroke:black;stroke-width:12\"/><line x1=\"690.948\" y1=\"120.936\" x2=\"697.376\" y2=\"128.596\" stroke-linecap=\"round\" style=\"stroke:black;stroke-width:12\"/><line x1=\"697.376\" y1=\"128.596\" x2=\"703.804\" y2=\"136.256\" stroke-linecap=\"round\" style=\"stroke:black;stroke-width:12\"/><line x1=\"703.804\" y1=\"136.256\" x2=\"710.232\" y2=\"143.916\" stroke-linecap=\"round\" style=\"stroke:black;stroke-width:12\"/><line x1=\"710.232\" y1=\"143.916\" x2=\"716.66\" y2=\"151.576\" stroke-linecap=\"round\" style=\"stroke:black;stroke-width:12\"/><line x1=\"716.66\" y1=\"151.576\" x2=\"723.088\" y2=\"159.236\" stroke-linecap=\"round\" style=\"stroke:black;stroke-width:12\"/><line x1=\"723.088\" y1=\"159.236\" x2=\"729.516\" y2=\"166.896\" stroke-linecap=\"round\" style=\"stroke:black;stroke-width:12\"/><line x1=\"729.516\" y1=\"166.896\" x2=\"735.944\" y2=\"174.556\" stroke-linecap=\"round\" style=\"stroke:black;stroke-width:12\"/><line x1=\"735.944\" y1=\"174.556\" x2=\"742.372\" y2=\"182.216\" stroke-linecap=\"round\" style=\"stroke:black;stroke-width:12\"/><line x1=\"742.372\" y1=\"182.216\" x2=\"748.8\" y2=\"189.876\" stroke-linecap=\"round\" style=\"stroke:black;stroke-width:12\"/><line x1=\"748.8\" y1=\"189.876\" x2=\"755.228\" y2=\"197.536\" stroke-linecap=\"round\" style=\"stroke:black;stroke-width:12\"/><line x1=\"755.228\" y1=\"197.536\" x2=\"761.656\" y2=\"205.196\" stroke-linecap=\"round\" style=\"stroke:black;stroke-width:12\"/><line x1=\"761.656\" y1=\"205.196\" x2=\"768.084\" y2=\"212.856\" stroke-linecap=\"round\" style=\"stroke:black;stroke-width:12\"/><line x1=\"768.084\" y1=\"212.856\" x2=\"774.512\" y2=\"220.516\" stroke-linecap=\"round\" style=\"stroke:black;stroke-width:12\"/><line x1=\"774.512\" y1=\"220.516\" x2=\"780.94\" y2=\"228.176\" stroke-linecap=\"round\" style=\"stroke:black;stroke-width:12\"/><line x1=\"780.94\" y1=\"228.176\" x2=\"787.368\" y2=\"235.836\" stroke-linecap=\"round\" style=\"stroke:black;stroke-width:12\"/><line x1=\"787.368\" y1=\"235.836\" x2=\"793.796\" y2=\"243.496\" stroke-linecap=\"round\" style=\"stroke:black;stroke-width:12\"/><line x1=\"793.796\" y1=\"243.496\" x2=\"800.224\" y2=\"251.156\" stroke-linecap=\"round\" style=\"stroke:black;stroke-width:12\"/><line x1=\"800.224\" y1=\"251.156\" x2=\"790.582\" y2=\"262.647\" stroke-linecap=\"round\" style=\"stroke:black;stroke-width:12\"/><line x1=\"790.582\" y1=\"262.647\" x2=\"784.154\" y2=\"270.307\" stroke-linecap=\"round\" style=\"stroke:black;stroke-width:12\"/><line x1=\"784.154\" y1=\"270.307\" x2=\"777.726\" y2=\"277.967\" stroke-linecap=\"round\" style=\"stroke:black;stroke-width:12\"/><line x1=\"777.726\" y1=\"277.967\" x2=\"771.298\" y2=\"285.627\" stroke-linecap=\"round\" style=\"stroke:black;stroke-width:12\"/><line x1=\"771.298\" y1=\"285.627\" x2=\"764.87\" y2=\"293.287\" stroke-linecap=\"round\" style=\"stroke:black;stroke-width:12\"/><line x1=\"764.87\" y1=\"293.287\" x2=\"758.442\" y2=\"300.947\" stroke-linecap=\"round\" style=\"stroke:black;stroke-width:12\"/><line x1=\"758.442\" y1=\"300.947\" x2=\"752.014\" y2=\"308.607\" stroke-linecap=\"round\" style=\"stroke:black;stroke-width:12\"/><line x1=\"752.014\" y1=\"308.607\" x2=\"745.586\" y2=\"316.267\" stroke-linecap=\"round\" style=\"stroke:black;stroke-width:12\"/><line x1=\"745.586\" y1=\"316.267\" x2=\"739.158\" y2=\"323.927\" stroke-linecap=\"round\" style=\"stroke:black;stroke-width:12\"/><line x1=\"739.158\" y1=\"323.927\" x2=\"732.73\" y2=\"331.587\" stroke-linecap=\"round\" style=\"stroke:black;stroke-width:12\"/><line x1=\"732.73\" y1=\"331.587\" x2=\"726.302\" y2=\"339.247\" stroke-linecap=\"round\" style=\"stroke:black;stroke-width:12\"/><line x1=\"726.302\" y1=\"339.247\" x2=\"719.874\" y2=\"346.907\" stroke-linecap=\"round\" style=\"stroke:black;stroke-width:12\"/><line x1=\"719.874\" y1=\"346.907\" x2=\"713.446\" y2=\"354.567\" stroke-linecap=\"round\" style=\"stroke:black;stroke-width:12\"/><line x1=\"713.446\" y1=\"354.567\" x2=\"707.018\" y2=\"362.227\" stroke-linecap=\"round\" style=\"stroke:black;stroke-width:12\"/><line x1=\"707.018\" y1=\"362.227\" x2=\"700.59\" y2=\"369.887\" stroke-linecap=\"round\" style=\"stroke:black;stroke-width:12\"/><line x1=\"700.59\" y1=\"369.887\" x2=\"694.162\" y2=\"377.547\" stroke-linecap=\"round\" style=\"stroke:black;stroke-width:12\"/><line x1=\"694.162\" y1=\"377.547\" x2=\"687.734\" y2=\"385.207\" stroke-linecap=\"round\" style=\"stroke:black;stroke-width:12\"/><line x1=\"687.734\" y1=\"385.207\" x2=\"681.306\" y2=\"392.867\" stroke-linecap=\"round\" style=\"stroke:black;stroke-width:12\"/><line x1=\"681.306\" y1=\"392.867\" x2=\"674.878\" y2=\"400.527\" stroke-linecap=\"round\" style=\"stroke:black;stroke-width:12\"/><line x1=\"674.878\" y1=\"400.527\" x2=\"668.45\" y2=\"408.187\" stroke-linecap=\"round\" style=\"stroke:black;stroke-width:12\"/><line x1=\"668.45\" y1=\"408.187\" x2=\"662.022\" y2=\"415.847\" stroke-linecap=\"round\" style=\"stroke:black;stroke-width:12\"/><line x1=\"662.022\" y1=\"415.847\" x2=\"655.594\" y2=\"423.507\" stroke-linecap=\"round\" style=\"stroke:black;stroke-width:12\"/><line x1=\"655.594\" y1=\"423.507\" x2=\"649.166\" y2=\"431.167\" stroke-linecap=\"round\" style=\"stroke:black;stroke-width:12\"/><line x1=\"649.166\" y1=\"431.167\" x2=\"642.738\" y2=\"438.827\" stroke-linecap=\"round\" style=\"stroke:black;stroke-width:12\"/><line x1=\"642.738\" y1=\"438.827\" x2=\"636.31\" y2=\"446.487\" stroke-linecap=\"round\" style=\"stroke:black;stroke-width:12\"/><line x1=\"636.31\" y1=\"446.487\" x2=\"629.882\" y2=\"454.147\" stroke-linecap=\"round\" style=\"stroke:black;stroke-width:12\"/><line x1=\"629.882\" y1=\"454.147\" x2=\"623.454\" y2=\"461.807\" stroke-linecap=\"round\" style=\"stroke:black;stroke-width:12\"/><line x1=\"623.454\" y1=\"461.807\" x2=\"617.026\" y2=\"469.467\" stroke-linecap=\"round\" style=\"stroke:black;stroke-width:12\"/><line x1=\"617.026\" y1=\"469.467\" x2=\"610.598\" y2=\"477.127\" stroke-linecap=\"round\" style=\"stroke:black;stroke-width:12\"/><line x1=\"610.598\" y1=\"477.127\" x2=\"604.17\" y2=\"484.787\" stroke-linecap=\"round\" style=\"stroke:black;stroke-width:12\"/><line x1=\"604.17\" y1=\"484.787\" x2=\"597.742\" y2=\"492.447\" stroke-linecap=\"round\" style=\"stroke:black;stroke-width:12\"/><line x1=\"597.742\" y1=\"492.447\" x2=\"591.314\" y2=\"500.107\" stroke-linecap=\"round\" style=\"stroke:black;stroke-width:12\"/><line x1=\"591.314\" y1=\"500.107\" x2=\"581.672\" y2=\"488.616\" stroke-linecap=\"round\" style=\"stroke:black;stroke-width:12\"/><line x1=\"581.672\" y1=\"488.616\" x2=\"575.244\" y2=\"480.956\" stroke-linecap=\"round\" style=\"stroke:black;stroke-width:12\"/><line x1=\"575.244\" y1=\"480.956\" x2=\"568.816\" y2=\"473.296\" stroke-linecap=\"round\" style=\"stroke:black;stroke-width:12\"/><line x1=\"568.816\" y1=\"473.296\" x2=\"562.388\" y2=\"465.636\" stroke-linecap=\"round\" style=\"stroke:black;stroke-width:12\"/><line x1=\"562.388\" y1=\"465.636\" x2=\"555.96\" y2=\"457.976\" stroke-linecap=\"round\" style=\"stroke:black;stroke-width:12\"/><line x1=\"555.96\" y1=\"457.976\" x2=\"549.532\" y2=\"450.316\" stroke-linecap=\"round\" style=\"stroke:black;stroke-width:12\"/><line x1=\"549.532\" y1=\"450.316\" x2=\"543.104\" y2=\"442.656\" stroke-linecap=\"round\" style=\"stroke:black;stroke-width:12\"/><line x1=\"543.104\" y1=\"442.656\" x2=\"536.676\" y2=\"434.996\" stroke-linecap=\"round\" style=\"stroke:black;stroke-width:12\"/><line x1=\"536.676\" y1=\"434.996\" x2=\"530.248\" y2=\"427.336\" stroke-linecap=\"round\" style=\"stroke:black;stroke-width:12\"/><line x1=\"530.248\" y1=\"427.336\" x2=\"523.82\" y2=\"419.676\" stroke-linecap=\"round\" style=\"stroke:black;stroke-width:12\"/><line x1=\"523.82\" y1=\"419.676\" x2=\"517.392\" y2=\"412.016\" stroke-linecap=\"round\" style=\"stroke:black;stroke-width:12\"/><line x1=\"517.392\" y1=\"412.016\" x2=\"510.964\" y2=\"404.356\" stroke-linecap=\"round\" style=\"stroke:black;stroke-width:12\"/><line x1=\"510.964\" y1=\"404.356\" x2=\"504.536\" y2=\"396.696\" stroke-linecap=\"round\" style=\"stroke:black;stroke-width:12\"/><line x1=\"504.536\" y1=\"396.696\" x2=\"498.108\" y2=\"389.036\" stroke-linecap=\"round\" style=\"stroke:black;stroke-width:12\"/><line x1=\"498.108\" y1=\"389.036\" x2=\"491.68\" y2=\"381.376\" stroke-linecap=\"round\" style=\"stroke:black;stroke-width:12\"/><line x1=\"491.68\" y1=\"381.376\" x2=\"485.252\" y2=\"373.716\" stroke-linecap=\"round\" style=\"stroke:black;stroke-width:12\"/><line x1=\"485.252\" y1=\"373.716\" x2=\"478.824\" y2=\"366.056\" stroke-linecap=\"round\" style=\"stroke:black;stroke-width:12\"/><line x1=\"478.824\" y1=\"366.056\" x2=\"472.396\" y2=\"358.396\" stroke-linecap=\"round\" style=\"stroke:black;stroke-width:12\"/><line x1=\"472.396\" y1=\"358.396\" x2=\"465.968\" y2=\"350.736\" stroke-linecap=\"round\" style=\"stroke:black;stroke-width:12\"/><line x1=\"465.968\" y1=\"350.736\" x2=\"459.54\" y2=\"343.076\" stroke-linecap=\"round\" style=\"stroke:black;stroke-width:12\"/><line x1=\"459.54\" y1=\"343.076\" x2=\"453.112\" y2=\"335.416\" stroke-linecap=\"round\" style=\"stroke:black;stroke-width:12\"/><line x1=\"453.112\" y1=\"335.416\" x2=\"446.684\" y2=\"327.756\" stroke-linecap=\"round\" style=\"stroke:black;stroke-width:12\"/><line x1=\"446.684\" y1=\"327.756\" x2=\"440.256\" y2=\"320.096\" stroke-linecap=\"round\" style=\"stroke:black;stroke-width:12\"/><line x1=\"440.256\" y1=\"320.096\" x2=\"433.828\" y2=\"312.436\" stroke-linecap=\"round\" style=\"stroke:black;stroke-width:12\"/><line x1=\"433.828\" y1=\"312.436\" x2=\"427.4\" y2=\"304.776\" stroke-linecap=\"round\" style=\"stroke:black;stroke-width:12\"/><line x1=\"427.4\" y1=\"304.776\" x2=\"420.972\" y2=\"297.116\" stroke-linecap=\"round\" style=\"stroke:black;stroke-width:12\"/><line x1=\"420.972\" y1=\"297.116\" x2=\"414.544\" y2=\"289.456\" stroke-linecap=\"round\" style=\"stroke:black;stroke-width:12\"/><line x1=\"414.544\" y1=\"289.456\" x2=\"408.116\" y2=\"281.796\" stroke-linecap=\"round\" style=\"stroke:black;stroke-width:12\"/><line x1=\"408.116\" y1=\"281.796\" x2=\"401.688\" y2=\"274.136\" stroke-linecap=\"round\" style=\"stroke:black;stroke-width:12\"/><line x1=\"401.688\" y1=\"274.136\" x2=\"395.26\" y2=\"266.476\" stroke-linecap=\"round\" style=\"stroke:black;stroke-width:12\"/><line x1=\"395.26\" y1=\"266.476\" x2=\"388.832\" y2=\"258.816\" stroke-linecap=\"round\" style=\"stroke:black;stroke-width:12\"/><line x1=\"388.832\" y1=\"258.816\" x2=\"382.404\" y2=\"251.156\" stroke-linecap=\"round\" style=\"stroke:black;stroke-width:12\"/><line x1=\"382.404\" y1=\"251.156\" x2=\"375.976\" y2=\"243.496\" stroke-linecap=\"round\" style=\"stroke:black;stroke-width:12\"/><line x1=\"375.976\" y1=\"243.496\" x2=\"369.548\" y2=\"235.836\" stroke-linecap=\"round\" style=\"stroke:black;stroke-width:12\"/><line x1=\"369.548\" y1=\"235.836\" x2=\"363.12\" y2=\"228.176\" stroke-linecap=\"round\" style=\"stroke:black;stroke-width:12\"/><line x1=\"363.12\" y1=\"228.176\" x2=\"356.692\" y2=\"220.516\" stroke-linecap=\"round\" style=\"stroke:black;stroke-width:12\"/><line x1=\"356.692\" y1=\"220.516\" x2=\"350.264\" y2=\"212.856\" stroke-linecap=\"round\" style=\"stroke:black;stroke-width:12\"/><line x1=\"350.264\" y1=\"212.856\" x2=\"343.836\" y2=\"205.196\" stroke-linecap=\"round\" style=\"stroke:black;stroke-width:12\"/><line x1=\"343.836\" y1=\"205.196\" x2=\"337.408\" y2=\"197.536\" stroke-linecap=\"round\" style=\"stroke:black;stroke-width:12\"/><line x1=\"337.408\" y1=\"197.536\" x2=\"330.98\" y2=\"189.876\" stroke-linecap=\"round\" style=\"stroke:black;stroke-width:12\"/><line x1=\"330.98\" y1=\"189.876\" x2=\"324.552\" y2=\"182.216\" stroke-linecap=\"round\" style=\"stroke:black;stroke-width:12\"/><line x1=\"324.552\" y1=\"182.216\" x2=\"318.124\" y2=\"174.556\" stroke-linecap=\"round\" style=\"stroke:black;stroke-width:12\"/><line x1=\"318.124\" y1=\"174.556\" x2=\"311.696\" y2=\"166.896\" stroke-linecap=\"round\" style=\"stroke:black;stroke-width:12\"/><line x1=\"311.696\" y1=\"166.896\" x2=\"305.268\" y2=\"159.236\" stroke-linecap=\"round\" style=\"stroke:black;stroke-width:12\"/><line x1=\"305.268\" y1=\"159.236\" x2=\"298.84\" y2=\"151.576\" stroke-linecap=\"round\" style=\"stroke:black;stroke-width:12\"/><line x1=\"298.84\" y1=\"151.576\" x2=\"292.412\" y2=\"143.916\" stroke-linecap=\"round\" style=\"stroke:black;stroke-width:12\"/><line x1=\"292.412\" y1=\"143.916\" x2=\"285.984\" y2=\"136.256\" stroke-linecap=\"round\" style=\"stroke:black;stroke-width:12\"/><line x1=\"285.984\" y1=\"136.256\" x2=\"279.556\" y2=\"128.596\" stroke-linecap=\"round\" style=\"stroke:black;stroke-width:12\"/><line x1=\"279.556\" y1=\"128.596\" x2=\"273.128\" y2=\"120.936\" stroke-linecap=\"round\" style=\"stroke:black;stroke-width:12\"/><line x1=\"273.128\" y1=\"120.936\" x2=\"266.7\" y2=\"113.276\" stroke-linecap=\"round\" style=\"stroke:black;stroke-width:12\"/><line x1=\"266.7\" y1=\"113.276\" x2=\"260.272\" y2=\"105.616\" stroke-linecap=\"round\" style=\"stroke:black;stroke-width:12\"/><line x1=\"260.272\" y1=\"105.616\" x2=\"253.844\" y2=\"97.956\" stroke-linecap=\"round\" style=\"stroke:black;stroke-width:12\"/><line x1=\"253.844\" y1=\"97.956\" x2=\"247.416\" y2=\"90.296\" stroke-linecap=\"round\" style=\"stroke:black;stroke-width:12\"/><line x1=\"247.416\" y1=\"90.296\" x2=\"240.988\" y2=\"82.636\" stroke-linecap=\"round\" style=\"stroke:black;stroke-width:12\"/><line x1=\"240.988\" y1=\"82.636\" x2=\"234.56\" y2=\"74.976\" stroke-linecap=\"round\" style=\"stroke:black;stroke-width:12\"/><line x1=\"234.56\" y1=\"74.976\" x2=\"228.132\" y2=\"67.316\" stroke-linecap=\"round\" style=\"stroke:black;stroke-width:12\"/><line x1=\"228.132\" y1=\"67.316\" x2=\"221.704\" y2=\"59.656\" stroke-linecap=\"round\" style=\"stroke:black;stroke-width:12\"/><line x1=\"221.704\" y1=\"59.656\" x2=\"215.276\" y2=\"51.996\" stroke-linecap=\"round\" style=\"stroke:black;stroke-width:12\"/><line x1=\"215.276\" y1=\"51.996\" x2=\"208.848\" y2=\"44.336\" stroke-linecap=\"round\" style=\"stroke:black;stroke-width:12\"/><line x1=\"208.848\" y1=\"44.336\" x2=\"202.42\" y2=\"36.676\" stroke-linecap=\"round\" style=\"stroke:black;stroke-width:12\"/><line x1=\"202.42\" y1=\"36.676\" x2=\"195.992\" y2=\"29.016\" stroke-linecap=\"round\" style=\"stroke:black;stroke-width:12\"/><line x1=\"195.992\" y1=\"29.016\" x2=\"189.564\" y2=\"21.356\" stroke-linecap=\"round\" style=\"stroke:black;stroke-width:12\"/><line x1=\"189.564\" y1=\"21.356\" x2=\"183.136\" y2=\"13.696\" stroke-linecap=\"round\" style=\"stroke:black;stroke-width:12\"/><line x1=\"183.136\" y1=\"13.696\" x2=\"176.708\" y2=\"6.036\" stroke-linecap=\"round\" style=\"stroke:black;stroke-width:12\"/><line x1=\"176.708\" y1=\"6.036\" x2=\"170.28\" y2=\"-1.624\" stroke-linecap=\"round\" style=\"stroke:black;stroke-width:12\"/><line x1=\"170.28\" y1=\"-1.624\" x2=\"160.638\" y2=\"9.867\" stroke-linecap=\"round\" style=\"stroke:black;stroke-width:12\"/><line x1=\"160.638\" y1=\"9.867\" x2=\"154.21\" y2=\"17.527\" stroke-linecap=\"round\" style=\"stroke:black;stroke-width:12\"/><line x1=\"154.21\" y1=\"17.527\" x2=\"147.782\" y2=\"25.187\" stroke-linecap=\"round\" style=\"stroke:black;stroke-width:12\"/><line x1=\"147.782\" y1=\"25.187\" x2=\"141.354\" y2=\"32.847\" stroke-linecap=\"round\" style=\"stroke:black;stroke-width:12\"/><line x1=\"141.354\" y1=\"32.847\" x2=\"134.926\" y2=\"40.507\" stroke-linecap=\"round\" style=\"stroke:black;stroke-width:12\"/><line x1=\"134.926\" y1=\"40.507\" x2=\"128.498\" y2=\"48.167\" stroke-linecap=\"round\" style=\"stroke:black;stroke-width:12\"/><line x1=\"128.498\" y1=\"48.167\" x2=\"122.07\" y2=\"55.827\" stroke-linecap=\"round\" style=\"stroke:black;stroke-width:12\"/><line x1=\"122.07\" y1=\"55.827\" x2=\"115.642\" y2=\"63.487\" stroke-linecap=\"round\" style=\"stroke:black;stroke-width:12\"/><line x1=\"115.642\" y1=\"63.487\" x2=\"109.214\" y2=\"71.147\" stroke-linecap=\"round\" style=\"stroke:black;stroke-width:12\"/><line x1=\"109.214\" y1=\"71.147\" x2=\"102.786\" y2=\"78.807\" stroke-linecap=\"round\" style=\"stroke:black;stroke-width:12\"/><line x1=\"102.786\" y1=\"78.807\" x2=\"96.358\" y2=\"86.467\" stroke-linecap=\"round\" style=\"stroke:black;stroke-width:12\"/><line x1=\"96.358\" y1=\"86.467\" x2=\"89.93\" y2=\"94.127\" stroke-linecap=\"round\" style=\"stroke:black;stroke-width:12\"/><line x1=\"89.93\" y1=\"94.127\" x2=\"83.502\" y2=\"101.787\" stroke-linecap=\"round\" style=\"stroke:black;stroke-width:12\"/><line x1=\"83.502\" y1=\"101.787\" x2=\"77.074\" y2=\"109.447\" stroke-linecap=\"round\" style=\"stroke:black;stroke-width:12\"/><line x1=\"77.074\" y1=\"109.447\" x2=\"70.646\" y2=\"117.107\" stroke-linecap=\"round\" style=\"stroke:black;stroke-width:12\"/><line x1=\"70.646\" y1=\"117.107\" x2=\"64.218\" y2=\"124.767\" stroke-linecap=\"round\" style=\"stroke:black;stroke-width:12\"/><line x1=\"64.218\" y1=\"124.767\" x2=\"57.79\" y2=\"132.427\" stroke-linecap=\"round\" style=\"stroke:black;stroke-width:12\"/><line x1=\"57.79\" y1=\"132.427\" x2=\"51.362\" y2=\"140.087\" stroke-linecap=\"round\" style=\"stroke:black;stroke-width:12\"/><line x1=\"51.362\" y1=\"140.087\" x2=\"44.934\" y2=\"147.747\" stroke-linecap=\"round\" style=\"stroke:black;stroke-width:12\"/><line x1=\"44.934\" y1=\"147.747\" x2=\"38.506\" y2=\"155.407\" stroke-linecap=\"round\" style=\"stroke:black;stroke-width:12\"/><line x1=\"38.506\" y1=\"155.407\" x2=\"32.078\" y2=\"163.067\" stroke-linecap=\"round\" style=\"stroke:black;stroke-width:12\"/><line x1=\"32.078\" y1=\"163.067\" x2=\"25.65\" y2=\"170.727\" stroke-linecap=\"round\" style=\"stroke:black;stroke-width:12\"/><line x1=\"25.65\" y1=\"170.727\" x2=\"19.222\" y2=\"178.387\" stroke-linecap=\"round\" style=\"stroke:black;stroke-width:12\"/><line x1=\"19.222\" y1=\"178.387\" x2=\"12.794\" y2=\"186.047\" stroke-linecap=\"round\" style=\"stroke:black;stroke-width:12\"/><line x1=\"12.794\" y1=\"186.047\" x2=\"6.366\" y2=\"193.707\" stroke-linecap=\"round\" style=\"stroke:black;stroke-width:12\"/><line x1=\"6.366\" y1=\"193.707\" x2=\"-0.062\" y2=\"201.367\" stroke-linecap=\"round\" style=\"stroke:black;stroke-width:12\"/><line x1=\"-0.062\" y1=\"201.367\" x2=\"9.58\" y2=\"212.858\" stroke-linecap=\"round\" style=\"stroke:black;stroke-width:12\"/><line x1=\"9.58\" y1=\"212.858\" x2=\"16.008\" y2=\"220.518\" stroke-linecap=\"round\" style=\"stroke:black;stroke-width:12\"/><line x1=\"16.008\" y1=\"220.518\" x2=\"22.436\" y2=\"228.178\" stroke-linecap=\"round\" style=\"stroke:black;stroke-width:12\"/><line x1=\"22.436\" y1=\"228.178\" x2=\"28.864\" y2=\"235.838\" stroke-linecap=\"round\" style=\"stroke:black;stroke-width:12\"/><line x1=\"28.864\" y1=\"235.838\" x2=\"35.292\" y2=\"243.498\" stroke-linecap=\"round\" style=\"stroke:black;stroke-width:12\"/><line x1=\"35.292\" y1=\"243.498\" x2=\"41.72\" y2=\"251.158\" stroke-linecap=\"round\" style=\"stroke:black;stroke-width:12\"/><line x1=\"41.72\" y1=\"251.158\" x2=\"48.148\" y2=\"258.818\" stroke-linecap=\"round\" style=\"stroke:black;stroke-width:12\"/><line x1=\"48.148\" y1=\"258.818\" x2=\"54.576\" y2=\"266.478\" stroke-linecap=\"round\" style=\"stroke:black;stroke-width:12\"/><line x1=\"54.576\" y1=\"266.478\" x2=\"61.004\" y2=\"274.138\" stroke-linecap=\"round\" style=\"stroke:black;stroke-width:12\"/><line x1=\"61.004\" y1=\"274.138\" x2=\"67.432\" y2=\"281.798\" stroke-linecap=\"round\" style=\"stroke:black;stroke-width:12\"/><line x1=\"67.432\" y1=\"281.798\" x2=\"73.86\" y2=\"289.458\" stroke-linecap=\"round\" style=\"stroke:black;stroke-width:12\"/><line x1=\"73.86\" y1=\"289.458\" x2=\"80.288\" y2=\"297.118\" stroke-linecap=\"round\" style=\"stroke:black;stroke-width:12\"/><line x1=\"80.288\" y1=\"297.118\" x2=\"86.716\" y2=\"304.778\" stroke-linecap=\"round\" style=\"stroke:black;stroke-width:12\"/><line x1=\"86.716\" y1=\"304.778\" x2=\"93.144\" y2=\"312.438\" stroke-linecap=\"round\" style=\"stroke:black;stroke-width:12\"/><line x1=\"93.144\" y1=\"312.438\" x2=\"99.572\" y2=\"320.098\" stroke-linecap=\"round\" style=\"stroke:black;stroke-width:12\"/><line x1=\"99.572\" y1=\"320.098\" x2=\"106.0\" y2=\"327.758\" stroke-linecap=\"round\" style=\"stroke:black;stroke-width:12\"/><line x1=\"106.0\" y1=\"327.758\" x2=\"112.428\" y2=\"335.418\" stroke-linecap=\"round\" style=\"stroke:black;stroke-width:12\"/><line x1=\"112.428\" y1=\"335.418\" x2=\"118.856\" y2=\"343.078\" stroke-linecap=\"round\" style=\"stroke:black;stroke-width:12\"/><line x1=\"118.856\" y1=\"343.078\" x2=\"125.284\" y2=\"350.738\" stroke-linecap=\"round\" style=\"stroke:black;stroke-width:12\"/><line x1=\"125.284\" y1=\"350.738\" x2=\"131.712\" y2=\"358.398\" stroke-linecap=\"round\" style=\"stroke:black;stroke-width:12\"/><line x1=\"131.712\" y1=\"358.398\" x2=\"138.14\" y2=\"366.058\" stroke-linecap=\"round\" style=\"stroke:black;stroke-width:12\"/><line x1=\"138.14\" y1=\"366.058\" x2=\"144.568\" y2=\"373.718\" stroke-linecap=\"round\" style=\"stroke:black;stroke-width:12\"/><line x1=\"144.568\" y1=\"373.718\" x2=\"150.996\" y2=\"381.378\" stroke-linecap=\"round\" style=\"stroke:black;stroke-width:12\"/><line x1=\"150.996\" y1=\"381.378\" x2=\"157.424\" y2=\"389.038\" stroke-linecap=\"round\" style=\"stroke:black;stroke-width:12\"/><line x1=\"157.424\" y1=\"389.038\" x2=\"163.852\" y2=\"396.698\" stroke-linecap=\"round\" style=\"stroke:black;stroke-width:12\"/><line x1=\"163.852\" y1=\"396.698\" x2=\"170.28\" y2=\"404.358\" stroke-linecap=\"round\" style=\"stroke:black;stroke-width:12\"/><line x1=\"170.28\" y1=\"404.358\" x2=\"176.708\" y2=\"412.018\" stroke-linecap=\"round\" style=\"stroke:black;stroke-width:12\"/><line x1=\"176.708\" y1=\"412.018\" x2=\"183.136\" y2=\"419.678\" stroke-linecap=\"round\" style=\"stroke:black;stroke-width:12\"/><line x1=\"183.136\" y1=\"419.678\" x2=\"189.564\" y2=\"427.338\" stroke-linecap=\"round\" style=\"stroke:black;stroke-width:12\"/><line x1=\"189.564\" y1=\"427.338\" x2=\"195.992\" y2=\"434.998\" stroke-linecap=\"round\" style=\"stroke:black;stroke-width:12\"/><line x1=\"195.992\" y1=\"434.998\" x2=\"202.42\" y2=\"442.658\" stroke-linecap=\"round\" style=\"stroke:black;stroke-width:12\"/><line x1=\"202.42\" y1=\"442.658\" x2=\"208.848\" y2=\"450.318\" stroke-linecap=\"round\" style=\"stroke:black;stroke-width:12\"/><line x1=\"208.848\" y1=\"450.318\" x2=\"215.276\" y2=\"457.978\" stroke-linecap=\"round\" style=\"stroke:black;stroke-width:12\"/><line x1=\"215.276\" y1=\"457.978\" x2=\"221.704\" y2=\"465.638\" stroke-linecap=\"round\" style=\"stroke:black;stroke-width:12\"/><line x1=\"221.704\" y1=\"465.638\" x2=\"228.132\" y2=\"473.298\" stroke-linecap=\"round\" style=\"stroke:black;stroke-width:12\"/><line x1=\"228.132\" y1=\"473.298\" x2=\"234.56\" y2=\"480.958\" stroke-linecap=\"round\" style=\"stroke:black;stroke-width:12\"/><line x1=\"234.56\" y1=\"480.958\" x2=\"240.988\" y2=\"488.618\" stroke-linecap=\"round\" style=\"stroke:black;stroke-width:12\"/><line x1=\"240.988\" y1=\"488.618\" x2=\"247.416\" y2=\"496.278\" stroke-linecap=\"round\" style=\"stroke:black;stroke-width:12\"/><line x1=\"247.416\" y1=\"496.278\" x2=\"253.844\" y2=\"503.938\" stroke-linecap=\"round\" style=\"stroke:black;stroke-width:12\"/><line x1=\"253.844\" y1=\"503.938\" x2=\"263.486\" y2=\"492.447\" stroke-linecap=\"round\" style=\"stroke:black;stroke-width:12\"/><line x1=\"263.486\" y1=\"492.447\" x2=\"269.914\" y2=\"484.787\" stroke-linecap=\"round\" style=\"stroke:black;stroke-width:12\"/><line x1=\"269.914\" y1=\"484.787\" x2=\"276.342\" y2=\"477.127\" stroke-linecap=\"round\" style=\"stroke:black;stroke-width:12\"/><line x1=\"276.342\" y1=\"477.127\" x2=\"282.77\" y2=\"469.467\" stroke-linecap=\"round\" style=\"stroke:black;stroke-width:12\"/><line x1=\"282.77\" y1=\"469.467\" x2=\"289.198\" y2=\"461.807\" stroke-linecap=\"round\" style=\"stroke:black;stroke-width:12\"/><line x1=\"289.198\" y1=\"461.807\" x2=\"295.626\" y2=\"454.147\" stroke-linecap=\"round\" style=\"stroke:black;stroke-width:12\"/><line x1=\"295.626\" y1=\"454.147\" x2=\"302.054\" y2=\"446.487\" stroke-linecap=\"round\" style=\"stroke:black;stroke-width:12\"/><line x1=\"302.054\" y1=\"446.487\" x2=\"308.482\" y2=\"438.827\" stroke-linecap=\"round\" style=\"stroke:black;stroke-width:12\"/><line x1=\"308.482\" y1=\"438.827\" x2=\"314.91\" y2=\"431.167\" stroke-linecap=\"round\" style=\"stroke:black;stroke-width:12\"/><line x1=\"314.91\" y1=\"431.167\" x2=\"321.338\" y2=\"423.507\" stroke-linecap=\"round\" style=\"stroke:black;stroke-width:12\"/><line x1=\"321.338\" y1=\"423.507\" x2=\"327.766\" y2=\"415.847\" stroke-linecap=\"round\" style=\"stroke:black;stroke-width:12\"/><line x1=\"327.766\" y1=\"415.847\" x2=\"334.194\" y2=\"408.187\" stroke-linecap=\"round\" style=\"stroke:black;stroke-width:12\"/><line x1=\"334.194\" y1=\"408.187\" x2=\"340.622\" y2=\"400.527\" stroke-linecap=\"round\" style=\"stroke:black;stroke-width:12\"/><line x1=\"340.622\" y1=\"400.527\" x2=\"347.05\" y2=\"392.867\" stroke-linecap=\"round\" style=\"stroke:black;stroke-width:12\"/><line x1=\"347.05\" y1=\"392.867\" x2=\"353.478\" y2=\"385.207\" stroke-linecap=\"round\" style=\"stroke:black;stroke-width:12\"/><line x1=\"353.478\" y1=\"385.207\" x2=\"359.906\" y2=\"377.547\" stroke-linecap=\"round\" style=\"stroke:black;stroke-width:12\"/><line x1=\"359.906\" y1=\"377.547\" x2=\"366.334\" y2=\"369.887\" stroke-linecap=\"round\" style=\"stroke:black;stroke-width:12\"/><line x1=\"366.334\" y1=\"369.887\" x2=\"372.762\" y2=\"362.227\" stroke-linecap=\"round\" style=\"stroke:black;stroke-width:12\"/><line x1=\"372.762\" y1=\"362.227\" x2=\"379.19\" y2=\"354.567\" stroke-linecap=\"round\" style=\"stroke:black;stroke-width:12\"/><line x1=\"379.19\" y1=\"354.567\" x2=\"385.618\" y2=\"346.907\" stroke-linecap=\"round\" style=\"stroke:black;stroke-width:12\"/><line x1=\"385.618\" y1=\"346.907\" x2=\"392.046\" y2=\"339.247\" stroke-linecap=\"round\" style=\"stroke:black;stroke-width:12\"/><line x1=\"392.046\" y1=\"339.247\" x2=\"398.474\" y2=\"331.587\" stroke-linecap=\"round\" style=\"stroke:black;stroke-width:12\"/><line x1=\"398.474\" y1=\"331.587\" x2=\"404.902\" y2=\"323.927\" stroke-linecap=\"round\" style=\"stroke:black;stroke-width:12\"/><line x1=\"404.902\" y1=\"323.927\" x2=\"411.33\" y2=\"316.267\" stroke-linecap=\"round\" style=\"stroke:black;stroke-width:12\"/><line x1=\"411.33\" y1=\"316.267\" x2=\"417.758\" y2=\"308.607\" stroke-linecap=\"round\" style=\"stroke:black;stroke-width:12\"/><line x1=\"417.758\" y1=\"308.607\" x2=\"424.186\" y2=\"300.947\" stroke-linecap=\"round\" style=\"stroke:black;stroke-width:12\"/><line x1=\"424.186\" y1=\"300.947\" x2=\"430.614\" y2=\"293.287\" stroke-linecap=\"round\" style=\"stroke:black;stroke-width:12\"/><line x1=\"430.614\" y1=\"293.287\" x2=\"437.042\" y2=\"285.627\" stroke-linecap=\"round\" style=\"stroke:black;stroke-width:12\"/><line x1=\"437.042\" y1=\"285.627\" x2=\"443.47\" y2=\"277.967\" stroke-linecap=\"round\" style=\"stroke:black;stroke-width:12\"/><line x1=\"443.47\" y1=\"277.967\" x2=\"449.898\" y2=\"270.307\" stroke-linecap=\"round\" style=\"stroke:black;stroke-width:12\"/><line x1=\"449.898\" y1=\"270.307\" x2=\"456.326\" y2=\"262.647\" stroke-linecap=\"round\" style=\"stroke:black;stroke-width:12\"/><line x1=\"456.326\" y1=\"262.647\" x2=\"462.754\" y2=\"254.987\" stroke-linecap=\"round\" style=\"stroke:black;stroke-width:12\"/><line x1=\"462.754\" y1=\"254.987\" x2=\"469.182\" y2=\"247.327\" stroke-linecap=\"round\" style=\"stroke:black;stroke-width:12\"/><line x1=\"469.182\" y1=\"247.327\" x2=\"475.61\" y2=\"239.667\" stroke-linecap=\"round\" style=\"stroke:black;stroke-width:12\"/><line x1=\"475.61\" y1=\"239.667\" x2=\"482.038\" y2=\"232.007\" stroke-linecap=\"round\" style=\"stroke:black;stroke-width:12\"/><line x1=\"482.038\" y1=\"232.007\" x2=\"488.466\" y2=\"224.347\" stroke-linecap=\"round\" style=\"stroke:black;stroke-width:12\"/><line x1=\"488.466\" y1=\"224.347\" x2=\"494.894\" y2=\"216.687\" stroke-linecap=\"round\" style=\"stroke:black;stroke-width:12\"/><line x1=\"494.894\" y1=\"216.687\" x2=\"501.322\" y2=\"209.027\" stroke-linecap=\"round\" style=\"stroke:black;stroke-width:12\"/><line x1=\"501.322\" y1=\"209.027\" x2=\"507.75\" y2=\"201.367\" stroke-linecap=\"round\" style=\"stroke:black;stroke-width:12\"/><line x1=\"507.75\" y1=\"201.367\" x2=\"514.178\" y2=\"193.707\" stroke-linecap=\"round\" style=\"stroke:black;stroke-width:12\"/><line x1=\"514.178\" y1=\"193.707\" x2=\"520.606\" y2=\"186.047\" stroke-linecap=\"round\" style=\"stroke:black;stroke-width:12\"/><line x1=\"520.606\" y1=\"186.047\" x2=\"527.034\" y2=\"178.387\" stroke-linecap=\"round\" style=\"stroke:black;stroke-width:12\"/><line x1=\"527.034\" y1=\"178.387\" x2=\"533.462\" y2=\"170.727\" stroke-linecap=\"round\" style=\"stroke:black;stroke-width:12\"/><line x1=\"533.462\" y1=\"170.727\" x2=\"539.89\" y2=\"163.067\" stroke-linecap=\"round\" style=\"stroke:black;stroke-width:12\"/><line x1=\"539.89\" y1=\"163.067\" x2=\"546.318\" y2=\"155.407\" stroke-linecap=\"round\" style=\"stroke:black;stroke-width:12\"/><line x1=\"546.318\" y1=\"155.407\" x2=\"552.746\" y2=\"147.747\" stroke-linecap=\"round\" style=\"stroke:black;stroke-width:12\"/><line x1=\"552.746\" y1=\"147.747\" x2=\"559.174\" y2=\"140.087\" stroke-linecap=\"round\" style=\"stroke:black;stroke-width:12\"/><line x1=\"559.174\" y1=\"140.087\" x2=\"565.602\" y2=\"132.427\" stroke-linecap=\"round\" style=\"stroke:black;stroke-width:12\"/><line x1=\"565.602\" y1=\"132.427\" x2=\"572.03\" y2=\"124.767\" stroke-linecap=\"round\" style=\"stroke:black;stroke-width:12\"/><line x1=\"572.03\" y1=\"124.767\" x2=\"578.458\" y2=\"117.107\" stroke-linecap=\"round\" style=\"stroke:black;stroke-width:12\"/><line x1=\"578.458\" y1=\"117.107\" x2=\"584.886\" y2=\"109.447\" stroke-linecap=\"round\" style=\"stroke:black;stroke-width:12\"/><line x1=\"584.886\" y1=\"109.447\" x2=\"591.314\" y2=\"101.787\" stroke-linecap=\"round\" style=\"stroke:black;stroke-width:12\"/><line x1=\"591.314\" y1=\"101.787\" x2=\"597.742\" y2=\"94.127\" stroke-linecap=\"round\" style=\"stroke:black;stroke-width:12\"/><line x1=\"597.742\" y1=\"94.127\" x2=\"604.17\" y2=\"86.467\" stroke-linecap=\"round\" style=\"stroke:black;stroke-width:12\"/><line x1=\"604.17\" y1=\"86.467\" x2=\"610.598\" y2=\"78.807\" stroke-linecap=\"round\" style=\"stroke:black;stroke-width:12\"/><line x1=\"610.598\" y1=\"78.807\" x2=\"617.026\" y2=\"71.147\" stroke-linecap=\"round\" style=\"stroke:black;stroke-width:12\"/><line x1=\"617.026\" y1=\"71.147\" x2=\"623.454\" y2=\"63.487\" stroke-linecap=\"round\" style=\"stroke:black;stroke-width:12\"/><line x1=\"623.454\" y1=\"63.487\" x2=\"629.882\" y2=\"55.827\" stroke-linecap=\"round\" style=\"stroke:black;stroke-width:12\"/><line x1=\"629.882\" y1=\"55.827\" x2=\"636.31\" y2=\"48.167\" stroke-linecap=\"round\" style=\"stroke:black;stroke-width:12\"/><line x1=\"636.31\" y1=\"48.167\" x2=\"642.738\" y2=\"40.507\" stroke-linecap=\"round\" style=\"stroke:black;stroke-width:12\"/><line x1=\"642.738\" y1=\"40.507\" x2=\"649.166\" y2=\"32.847\" stroke-linecap=\"round\" style=\"stroke:black;stroke-width:12\"/><line x1=\"649.166\" y1=\"32.847\" x2=\"655.594\" y2=\"25.187\" stroke-linecap=\"round\" style=\"stroke:black;stroke-width:12\"/><line x1=\"655.594\" y1=\"25.187\" x2=\"662.022\" y2=\"17.527\" stroke-linecap=\"round\" style=\"stroke:black;stroke-width:12\"/><line x1=\"662.022\" y1=\"17.527\" x2=\"668.45\" y2=\"9.867\" stroke-linecap=\"round\" style=\"stroke:black;stroke-width:12\"/><line x1=\"668.45\" y1=\"9.867\" x2=\"674.878\" y2=\"2.207\" stroke-linecap=\"round\" style=\"stroke:black;stroke-width:12\"/><line x1=\"674.878\" y1=\"2.207\" x2=\"681.306\" y2=\"-5.453\" stroke-linecap=\"round\" style=\"stroke:black;stroke-width:12\"/><line x1=\"681.306\" y1=\"-5.453\" x2=\"690.948\" y2=\"6.038\" stroke-linecap=\"round\" style=\"stroke:black;stroke-width:12\"/><line x1=\"690.948\" y1=\"6.038\" x2=\"697.376\" y2=\"13.698\" stroke-linecap=\"round\" style=\"stroke:black;stroke-width:12\"/><line x1=\"697.376\" y1=\"13.698\" x2=\"703.804\" y2=\"21.358\" stroke-linecap=\"round\" style=\"stroke:black;stroke-width:12\"/><line x1=\"703.804\" y1=\"21.358\" x2=\"710.232\" y2=\"29.018\" stroke-linecap=\"round\" style=\"stroke:black;stroke-width:12\"/><line x1=\"710.232\" y1=\"29.018\" x2=\"716.66\" y2=\"36.678\" stroke-linecap=\"round\" style=\"stroke:black;stroke-width:12\"/><line x1=\"716.66\" y1=\"36.678\" x2=\"723.088\" y2=\"44.338\" stroke-linecap=\"round\" style=\"stroke:black;stroke-width:12\"/><line x1=\"723.088\" y1=\"44.338\" x2=\"729.516\" y2=\"51.998\" stroke-linecap=\"round\" style=\"stroke:black;stroke-width:12\"/><line x1=\"729.516\" y1=\"51.998\" x2=\"735.944\" y2=\"59.658\" stroke-linecap=\"round\" style=\"stroke:black;stroke-width:12\"/><line x1=\"735.944\" y1=\"59.658\" x2=\"742.372\" y2=\"67.318\" stroke-linecap=\"round\" style=\"stroke:black;stroke-width:12\"/><line x1=\"742.372\" y1=\"67.318\" x2=\"748.8\" y2=\"74.978\" stroke-linecap=\"round\" style=\"stroke:black;stroke-width:12\"/><line x1=\"748.8\" y1=\"74.978\" x2=\"755.228\" y2=\"82.638\" stroke-linecap=\"round\" style=\"stroke:black;stroke-width:12\"/><line x1=\"755.228\" y1=\"82.638\" x2=\"761.656\" y2=\"90.298\" stroke-linecap=\"round\" style=\"stroke:black;stroke-width:12\"/><line x1=\"761.656\" y1=\"90.298\" x2=\"768.084\" y2=\"97.958\" stroke-linecap=\"round\" style=\"stroke:black;stroke-width:12\"/><line x1=\"768.084\" y1=\"97.958\" x2=\"774.512\" y2=\"105.618\" stroke-linecap=\"round\" style=\"stroke:black;stroke-width:12\"/><line x1=\"774.512\" y1=\"105.618\" x2=\"780.94\" y2=\"113.278\" stroke-linecap=\"round\" style=\"stroke:black;stroke-width:12\"/><line x1=\"780.94\" y1=\"113.278\" x2=\"787.368\" y2=\"120.938\" stroke-linecap=\"round\" style=\"stroke:black;stroke-width:12\"/><line x1=\"787.368\" y1=\"120.938\" x2=\"793.796\" y2=\"128.598\" stroke-linecap=\"round\" style=\"stroke:black;stroke-width:12\"/><line x1=\"793.796\" y1=\"128.598\" x2=\"800.224\" y2=\"136.258\" stroke-linecap=\"round\" style=\"stroke:black;stroke-width:12\"/><line x1=\"800.224\" y1=\"136.258\" x2=\"790.582\" y2=\"147.749\" stroke-linecap=\"round\" style=\"stroke:black;stroke-width:12\"/><line x1=\"790.582\" y1=\"147.749\" x2=\"784.154\" y2=\"155.409\" stroke-linecap=\"round\" style=\"stroke:black;stroke-width:12\"/><line x1=\"784.154\" y1=\"155.409\" x2=\"777.726\" y2=\"163.069\" stroke-linecap=\"round\" style=\"stroke:black;stroke-width:12\"/><line x1=\"777.726\" y1=\"163.069\" x2=\"771.298\" y2=\"170.729\" stroke-linecap=\"round\" style=\"stroke:black;stroke-width:12\"/><line x1=\"771.298\" y1=\"170.729\" x2=\"764.87\" y2=\"178.389\" stroke-linecap=\"round\" style=\"stroke:black;stroke-width:12\"/><line x1=\"764.87\" y1=\"178.389\" x2=\"758.442\" y2=\"186.049\" stroke-linecap=\"round\" style=\"stroke:black;stroke-width:12\"/><line x1=\"758.442\" y1=\"186.049\" x2=\"752.014\" y2=\"193.709\" stroke-linecap=\"round\" style=\"stroke:black;stroke-width:12\"/><line x1=\"752.014\" y1=\"193.709\" x2=\"745.586\" y2=\"201.369\" stroke-linecap=\"round\" style=\"stroke:black;stroke-width:12\"/><line x1=\"745.586\" y1=\"201.369\" x2=\"739.158\" y2=\"209.029\" stroke-linecap=\"round\" style=\"stroke:black;stroke-width:12\"/><line x1=\"739.158\" y1=\"209.029\" x2=\"732.73\" y2=\"216.689\" stroke-linecap=\"round\" style=\"stroke:black;stroke-width:12\"/><line x1=\"732.73\" y1=\"216.689\" x2=\"726.302\" y2=\"224.349\" stroke-linecap=\"round\" style=\"stroke:black;stroke-width:12\"/><line x1=\"726.302\" y1=\"224.349\" x2=\"719.874\" y2=\"232.009\" stroke-linecap=\"round\" style=\"stroke:black;stroke-width:12\"/><line x1=\"719.874\" y1=\"232.009\" x2=\"713.446\" y2=\"239.669\" stroke-linecap=\"round\" style=\"stroke:black;stroke-width:12\"/><line x1=\"713.446\" y1=\"239.669\" x2=\"707.018\" y2=\"247.329\" stroke-linecap=\"round\" style=\"stroke:black;stroke-width:12\"/><line x1=\"707.018\" y1=\"247.329\" x2=\"700.59\" y2=\"254.989\" stroke-linecap=\"round\" style=\"stroke:black;stroke-width:12\"/><line x1=\"700.59\" y1=\"254.989\" x2=\"694.162\" y2=\"262.649\" stroke-linecap=\"round\" style=\"stroke:black;stroke-width:12\"/><line x1=\"694.162\" y1=\"262.649\" x2=\"687.734\" y2=\"270.309\" stroke-linecap=\"round\" style=\"stroke:black;stroke-width:12\"/><line x1=\"687.734\" y1=\"270.309\" x2=\"681.306\" y2=\"277.969\" stroke-linecap=\"round\" style=\"stroke:black;stroke-width:12\"/><line x1=\"681.306\" y1=\"277.969\" x2=\"674.878\" y2=\"285.629\" stroke-linecap=\"round\" style=\"stroke:black;stroke-width:12\"/><line x1=\"674.878\" y1=\"285.629\" x2=\"668.45\" y2=\"293.289\" stroke-linecap=\"round\" style=\"stroke:black;stroke-width:12\"/><line x1=\"668.45\" y1=\"293.289\" x2=\"662.022\" y2=\"300.949\" stroke-linecap=\"round\" style=\"stroke:black;stroke-width:12\"/><line x1=\"662.022\" y1=\"300.949\" x2=\"655.594\" y2=\"308.609\" stroke-linecap=\"round\" style=\"stroke:black;stroke-width:12\"/><line x1=\"655.594\" y1=\"308.609\" x2=\"649.166\" y2=\"316.269\" stroke-linecap=\"round\" style=\"stroke:black;stroke-width:12\"/><line x1=\"649.166\" y1=\"316.269\" x2=\"642.738\" y2=\"323.929\" stroke-linecap=\"round\" style=\"stroke:black;stroke-width:12\"/><line x1=\"642.738\" y1=\"323.929\" x2=\"636.31\" y2=\"331.589\" stroke-linecap=\"round\" style=\"stroke:black;stroke-width:12\"/><line x1=\"636.31\" y1=\"331.589\" x2=\"629.882\" y2=\"339.249\" stroke-linecap=\"round\" style=\"stroke:black;stroke-width:12\"/><line x1=\"629.882\" y1=\"339.249\" x2=\"623.454\" y2=\"346.909\" stroke-linecap=\"round\" style=\"stroke:black;stroke-width:12\"/><line x1=\"623.454\" y1=\"346.909\" x2=\"617.026\" y2=\"354.569\" stroke-linecap=\"round\" style=\"stroke:black;stroke-width:12\"/><line x1=\"617.026\" y1=\"354.569\" x2=\"610.598\" y2=\"362.229\" stroke-linecap=\"round\" style=\"stroke:black;stroke-width:12\"/><line x1=\"610.598\" y1=\"362.229\" x2=\"604.17\" y2=\"369.889\" stroke-linecap=\"round\" style=\"stroke:black;stroke-width:12\"/><line x1=\"604.17\" y1=\"369.889\" x2=\"597.742\" y2=\"377.549\" stroke-linecap=\"round\" style=\"stroke:black;stroke-width:12\"/><line x1=\"597.742\" y1=\"377.549\" x2=\"591.314\" y2=\"385.209\" stroke-linecap=\"round\" style=\"stroke:black;stroke-width:12\"/><line x1=\"591.314\" y1=\"385.209\" x2=\"584.886\" y2=\"392.869\" stroke-linecap=\"round\" style=\"stroke:black;stroke-width:12\"/><line x1=\"584.886\" y1=\"392.869\" x2=\"578.458\" y2=\"400.529\" stroke-linecap=\"round\" style=\"stroke:black;stroke-width:12\"/><line x1=\"578.458\" y1=\"400.529\" x2=\"572.03\" y2=\"408.189\" stroke-linecap=\"round\" style=\"stroke:black;stroke-width:12\"/><line x1=\"572.03\" y1=\"408.189\" x2=\"565.602\" y2=\"415.849\" stroke-linecap=\"round\" style=\"stroke:black;stroke-width:12\"/><line x1=\"565.602\" y1=\"415.849\" x2=\"559.174\" y2=\"423.509\" stroke-linecap=\"round\" style=\"stroke:black;stroke-width:12\"/><line x1=\"559.174\" y1=\"423.509\" x2=\"552.746\" y2=\"431.169\" stroke-linecap=\"round\" style=\"stroke:black;stroke-width:12\"/><line x1=\"552.746\" y1=\"431.169\" x2=\"546.318\" y2=\"438.829\" stroke-linecap=\"round\" style=\"stroke:black;stroke-width:12\"/><line x1=\"546.318\" y1=\"438.829\" x2=\"539.89\" y2=\"446.489\" stroke-linecap=\"round\" style=\"stroke:black;stroke-width:12\"/><line x1=\"539.89\" y1=\"446.489\" x2=\"533.462\" y2=\"454.149\" stroke-linecap=\"round\" style=\"stroke:black;stroke-width:12\"/><line x1=\"533.462\" y1=\"454.149\" x2=\"527.034\" y2=\"461.809\" stroke-linecap=\"round\" style=\"stroke:black;stroke-width:12\"/><line x1=\"527.034\" y1=\"461.809\" x2=\"520.606\" y2=\"469.469\" stroke-linecap=\"round\" style=\"stroke:black;stroke-width:12\"/><line x1=\"520.606\" y1=\"469.469\" x2=\"514.178\" y2=\"477.129\" stroke-linecap=\"round\" style=\"stroke:black;stroke-width:12\"/><line x1=\"514.178\" y1=\"477.129\" x2=\"507.75\" y2=\"484.789\" stroke-linecap=\"round\" style=\"stroke:black;stroke-width:12\"/><line x1=\"507.75\" y1=\"484.789\" x2=\"501.322\" y2=\"492.449\" stroke-linecap=\"round\" style=\"stroke:black;stroke-width:12\"/><line x1=\"501.322\" y1=\"492.449\" x2=\"494.894\" y2=\"500.109\" stroke-linecap=\"round\" style=\"stroke:black;stroke-width:12\"/><line x1=\"494.894\" y1=\"500.109\" x2=\"485.252\" y2=\"488.618\" stroke-linecap=\"round\" style=\"stroke:black;stroke-width:12\"/><line x1=\"485.252\" y1=\"488.618\" x2=\"478.824\" y2=\"480.958\" stroke-linecap=\"round\" style=\"stroke:black;stroke-width:12\"/><line x1=\"478.824\" y1=\"480.958\" x2=\"472.396\" y2=\"473.298\" stroke-linecap=\"round\" style=\"stroke:black;stroke-width:12\"/><line x1=\"472.396\" y1=\"473.298\" x2=\"465.968\" y2=\"465.638\" stroke-linecap=\"round\" style=\"stroke:black;stroke-width:12\"/><line x1=\"465.968\" y1=\"465.638\" x2=\"459.54\" y2=\"457.978\" stroke-linecap=\"round\" style=\"stroke:black;stroke-width:12\"/><line x1=\"459.54\" y1=\"457.978\" x2=\"453.112\" y2=\"450.318\" stroke-linecap=\"round\" style=\"stroke:black;stroke-width:12\"/><line x1=\"453.112\" y1=\"450.318\" x2=\"446.684\" y2=\"442.658\" stroke-linecap=\"round\" style=\"stroke:black;stroke-width:12\"/><line x1=\"446.684\" y1=\"442.658\" x2=\"440.256\" y2=\"434.998\" stroke-linecap=\"round\" style=\"stroke:black;stroke-width:12\"/><line x1=\"440.256\" y1=\"434.998\" x2=\"433.828\" y2=\"427.338\" stroke-linecap=\"round\" style=\"stroke:black;stroke-width:12\"/><line x1=\"433.828\" y1=\"427.338\" x2=\"427.4\" y2=\"419.678\" stroke-linecap=\"round\" style=\"stroke:black;stroke-width:12\"/><line x1=\"427.4\" y1=\"419.678\" x2=\"420.972\" y2=\"412.018\" stroke-linecap=\"round\" style=\"stroke:black;stroke-width:12\"/><line x1=\"420.972\" y1=\"412.018\" x2=\"414.544\" y2=\"404.358\" stroke-linecap=\"round\" style=\"stroke:black;stroke-width:12\"/><line x1=\"414.544\" y1=\"404.358\" x2=\"408.116\" y2=\"396.698\" stroke-linecap=\"round\" style=\"stroke:black;stroke-width:12\"/><line x1=\"408.116\" y1=\"396.698\" x2=\"401.688\" y2=\"389.038\" stroke-linecap=\"round\" style=\"stroke:black;stroke-width:12\"/><line x1=\"401.688\" y1=\"389.038\" x2=\"395.26\" y2=\"381.378\" stroke-linecap=\"round\" style=\"stroke:black;stroke-width:12\"/><line x1=\"395.26\" y1=\"381.378\" x2=\"388.832\" y2=\"373.718\" stroke-linecap=\"round\" style=\"stroke:black;stroke-width:12\"/><line x1=\"388.832\" y1=\"373.718\" x2=\"382.404\" y2=\"366.058\" stroke-linecap=\"round\" style=\"stroke:black;stroke-width:12\"/><line x1=\"382.404\" y1=\"366.058\" x2=\"375.976\" y2=\"358.398\" stroke-linecap=\"round\" style=\"stroke:black;stroke-width:12\"/><line x1=\"375.976\" y1=\"358.398\" x2=\"369.548\" y2=\"350.738\" stroke-linecap=\"round\" style=\"stroke:black;stroke-width:12\"/><line x1=\"369.548\" y1=\"350.738\" x2=\"363.12\" y2=\"343.078\" stroke-linecap=\"round\" style=\"stroke:black;stroke-width:12\"/><line x1=\"363.12\" y1=\"343.078\" x2=\"356.692\" y2=\"335.418\" stroke-linecap=\"round\" style=\"stroke:black;stroke-width:12\"/><line x1=\"356.692\" y1=\"335.418\" x2=\"350.264\" y2=\"327.758\" stroke-linecap=\"round\" style=\"stroke:black;stroke-width:12\"/><line x1=\"350.264\" y1=\"327.758\" x2=\"343.836\" y2=\"320.098\" stroke-linecap=\"round\" style=\"stroke:black;stroke-width:12\"/><line x1=\"343.836\" y1=\"320.098\" x2=\"337.408\" y2=\"312.438\" stroke-linecap=\"round\" style=\"stroke:black;stroke-width:12\"/><line x1=\"337.408\" y1=\"312.438\" x2=\"330.98\" y2=\"304.778\" stroke-linecap=\"round\" style=\"stroke:black;stroke-width:12\"/><line x1=\"330.98\" y1=\"304.778\" x2=\"324.552\" y2=\"297.118\" stroke-linecap=\"round\" style=\"stroke:black;stroke-width:12\"/><line x1=\"324.552\" y1=\"297.118\" x2=\"318.124\" y2=\"289.458\" stroke-linecap=\"round\" style=\"stroke:black;stroke-width:12\"/><line x1=\"318.124\" y1=\"289.458\" x2=\"311.696\" y2=\"281.798\" stroke-linecap=\"round\" style=\"stroke:black;stroke-width:12\"/><line x1=\"311.696\" y1=\"281.798\" x2=\"305.268\" y2=\"274.138\" stroke-linecap=\"round\" style=\"stroke:black;stroke-width:12\"/><line x1=\"305.268\" y1=\"274.138\" x2=\"298.84\" y2=\"266.478\" stroke-linecap=\"round\" style=\"stroke:black;stroke-width:12\"/><line x1=\"298.84\" y1=\"266.478\" x2=\"292.412\" y2=\"258.818\" stroke-linecap=\"round\" style=\"stroke:black;stroke-width:12\"/><line x1=\"292.412\" y1=\"258.818\" x2=\"285.984\" y2=\"251.158\" stroke-linecap=\"round\" style=\"stroke:black;stroke-width:12\"/><line x1=\"285.984\" y1=\"251.158\" x2=\"279.556\" y2=\"243.498\" stroke-linecap=\"round\" style=\"stroke:black;stroke-width:12\"/><line x1=\"279.556\" y1=\"243.498\" x2=\"273.128\" y2=\"235.838\" stroke-linecap=\"round\" style=\"stroke:black;stroke-width:12\"/><line x1=\"273.128\" y1=\"235.838\" x2=\"266.7\" y2=\"228.178\" stroke-linecap=\"round\" style=\"stroke:black;stroke-width:12\"/><line x1=\"266.7\" y1=\"228.178\" x2=\"260.272\" y2=\"220.518\" stroke-linecap=\"round\" style=\"stroke:black;stroke-width:12\"/><line x1=\"260.272\" y1=\"220.518\" x2=\"253.844\" y2=\"212.858\" stroke-linecap=\"round\" style=\"stroke:black;stroke-width:12\"/><line x1=\"253.844\" y1=\"212.858\" x2=\"247.416\" y2=\"205.198\" stroke-linecap=\"round\" style=\"stroke:black;stroke-width:12\"/><line x1=\"247.416\" y1=\"205.198\" x2=\"240.988\" y2=\"197.538\" stroke-linecap=\"round\" style=\"stroke:black;stroke-width:12\"/><line x1=\"240.988\" y1=\"197.538\" x2=\"234.56\" y2=\"189.878\" stroke-linecap=\"round\" style=\"stroke:black;stroke-width:12\"/><line x1=\"234.56\" y1=\"189.878\" x2=\"228.132\" y2=\"182.218\" stroke-linecap=\"round\" style=\"stroke:black;stroke-width:12\"/><line x1=\"228.132\" y1=\"182.218\" x2=\"221.704\" y2=\"174.558\" stroke-linecap=\"round\" style=\"stroke:black;stroke-width:12\"/><line x1=\"221.704\" y1=\"174.558\" x2=\"215.276\" y2=\"166.898\" stroke-linecap=\"round\" style=\"stroke:black;stroke-width:12\"/><line x1=\"215.276\" y1=\"166.898\" x2=\"208.848\" y2=\"159.238\" stroke-linecap=\"round\" style=\"stroke:black;stroke-width:12\"/><line x1=\"208.848\" y1=\"159.238\" x2=\"202.42\" y2=\"151.578\" stroke-linecap=\"round\" style=\"stroke:black;stroke-width:12\"/><line x1=\"202.42\" y1=\"151.578\" x2=\"195.992\" y2=\"143.918\" stroke-linecap=\"round\" style=\"stroke:black;stroke-width:12\"/><line x1=\"195.992\" y1=\"143.918\" x2=\"189.564\" y2=\"136.258\" stroke-linecap=\"round\" style=\"stroke:black;stroke-width:12\"/><line x1=\"189.564\" y1=\"136.258\" x2=\"183.136\" y2=\"128.598\" stroke-linecap=\"round\" style=\"stroke:black;stroke-width:12\"/><line x1=\"183.136\" y1=\"128.598\" x2=\"176.708\" y2=\"120.938\" stroke-linecap=\"round\" style=\"stroke:black;stroke-width:12\"/><line x1=\"176.708\" y1=\"120.938\" x2=\"170.28\" y2=\"113.278\" stroke-linecap=\"round\" style=\"stroke:black;stroke-width:12\"/><line x1=\"170.28\" y1=\"113.278\" x2=\"163.852\" y2=\"105.618\" stroke-linecap=\"round\" style=\"stroke:black;stroke-width:12\"/><line x1=\"163.852\" y1=\"105.618\" x2=\"157.424\" y2=\"97.958\" stroke-linecap=\"round\" style=\"stroke:black;stroke-width:12\"/><line x1=\"157.424\" y1=\"97.958\" x2=\"150.996\" y2=\"90.298\" stroke-linecap=\"round\" style=\"stroke:black;stroke-width:12\"/><line x1=\"150.996\" y1=\"90.298\" x2=\"144.568\" y2=\"82.638\" stroke-linecap=\"round\" style=\"stroke:black;stroke-width:12\"/><line x1=\"144.568\" y1=\"82.638\" x2=\"138.14\" y2=\"74.978\" stroke-linecap=\"round\" style=\"stroke:black;stroke-width:12\"/><line x1=\"138.14\" y1=\"74.978\" x2=\"131.712\" y2=\"67.318\" stroke-linecap=\"round\" style=\"stroke:black;stroke-width:12\"/><line x1=\"131.712\" y1=\"67.318\" x2=\"125.284\" y2=\"59.658\" stroke-linecap=\"round\" style=\"stroke:black;stroke-width:12\"/><line x1=\"125.284\" y1=\"59.658\" x2=\"118.856\" y2=\"51.998\" stroke-linecap=\"round\" style=\"stroke:black;stroke-width:12\"/><line x1=\"118.856\" y1=\"51.998\" x2=\"112.428\" y2=\"44.338\" stroke-linecap=\"round\" style=\"stroke:black;stroke-width:12\"/><line x1=\"112.428\" y1=\"44.338\" x2=\"106.0\" y2=\"36.678\" stroke-linecap=\"round\" style=\"stroke:black;stroke-width:12\"/><line x1=\"106.0\" y1=\"36.678\" x2=\"99.572\" y2=\"29.018\" stroke-linecap=\"round\" style=\"stroke:black;stroke-width:12\"/><line x1=\"99.572\" y1=\"29.018\" x2=\"93.144\" y2=\"21.358\" stroke-linecap=\"round\" style=\"stroke:black;stroke-width:12\"/><line x1=\"93.144\" y1=\"21.358\" x2=\"86.716\" y2=\"13.698\" stroke-linecap=\"round\" style=\"stroke:black;stroke-width:12\"/><line x1=\"86.716\" y1=\"13.698\" x2=\"80.288\" y2=\"6.038\" stroke-linecap=\"round\" style=\"stroke:black;stroke-width:12\"/><line x1=\"80.288\" y1=\"6.038\" x2=\"73.86\" y2=\"-1.622\" stroke-linecap=\"round\" style=\"stroke:black;stroke-width:12\"/><line x1=\"73.86\" y1=\"-1.622\" x2=\"64.218\" y2=\"9.869\" stroke-linecap=\"round\" style=\"stroke:black;stroke-width:12\"/><line x1=\"64.218\" y1=\"9.869\" x2=\"57.79\" y2=\"17.529\" stroke-linecap=\"round\" style=\"stroke:black;stroke-width:12\"/><line x1=\"57.79\" y1=\"17.529\" x2=\"51.362\" y2=\"25.189\" stroke-linecap=\"round\" style=\"stroke:black;stroke-width:12\"/><line x1=\"51.362\" y1=\"25.189\" x2=\"44.934\" y2=\"32.849\" stroke-linecap=\"round\" style=\"stroke:black;stroke-width:12\"/><line x1=\"44.934\" y1=\"32.849\" x2=\"38.506\" y2=\"40.509\" stroke-linecap=\"round\" style=\"stroke:black;stroke-width:12\"/><line x1=\"38.506\" y1=\"40.509\" x2=\"32.078\" y2=\"48.169\" stroke-linecap=\"round\" style=\"stroke:black;stroke-width:12\"/><line x1=\"32.078\" y1=\"48.169\" x2=\"25.65\" y2=\"55.829\" stroke-linecap=\"round\" style=\"stroke:black;stroke-width:12\"/><line x1=\"25.65\" y1=\"55.829\" x2=\"19.222\" y2=\"63.489\" stroke-linecap=\"round\" style=\"stroke:black;stroke-width:12\"/><line x1=\"19.222\" y1=\"63.489\" x2=\"12.794\" y2=\"71.149\" stroke-linecap=\"round\" style=\"stroke:black;stroke-width:12\"/><line x1=\"12.794\" y1=\"71.149\" x2=\"6.366\" y2=\"78.809\" stroke-linecap=\"round\" style=\"stroke:black;stroke-width:12\"/><line x1=\"6.366\" y1=\"78.809\" x2=\"-0.062\" y2=\"86.469\" stroke-linecap=\"round\" style=\"stroke:black;stroke-width:12\"/><line x1=\"-0.062\" y1=\"86.469\" x2=\"9.58\" y2=\"97.96\" stroke-linecap=\"round\" style=\"stroke:black;stroke-width:12\"/><line x1=\"9.58\" y1=\"97.96\" x2=\"16.008\" y2=\"105.62\" stroke-linecap=\"round\" style=\"stroke:black;stroke-width:12\"/><line x1=\"16.008\" y1=\"105.62\" x2=\"22.436\" y2=\"113.28\" stroke-linecap=\"round\" style=\"stroke:black;stroke-width:12\"/><line x1=\"22.436\" y1=\"113.28\" x2=\"28.864\" y2=\"120.94\" stroke-linecap=\"round\" style=\"stroke:black;stroke-width:12\"/><line x1=\"28.864\" y1=\"120.94\" x2=\"35.292\" y2=\"128.6\" stroke-linecap=\"round\" style=\"stroke:black;stroke-width:12\"/><line x1=\"35.292\" y1=\"128.6\" x2=\"41.72\" y2=\"136.26\" stroke-linecap=\"round\" style=\"stroke:black;stroke-width:12\"/><line x1=\"41.72\" y1=\"136.26\" x2=\"48.148\" y2=\"143.92\" stroke-linecap=\"round\" style=\"stroke:black;stroke-width:12\"/><line x1=\"48.148\" y1=\"143.92\" x2=\"54.576\" y2=\"151.58\" stroke-linecap=\"round\" style=\"stroke:black;stroke-width:12\"/><line x1=\"54.576\" y1=\"151.58\" x2=\"61.004\" y2=\"159.24\" stroke-linecap=\"round\" style=\"stroke:black;stroke-width:12\"/><line x1=\"61.004\" y1=\"159.24\" x2=\"67.432\" y2=\"166.9\" stroke-linecap=\"round\" style=\"stroke:black;stroke-width:12\"/><line x1=\"67.432\" y1=\"166.9\" x2=\"73.86\" y2=\"174.56\" stroke-linecap=\"round\" style=\"stroke:black;stroke-width:12\"/><line x1=\"73.86\" y1=\"174.56\" x2=\"80.288\" y2=\"182.22\" stroke-linecap=\"round\" style=\"stroke:black;stroke-width:12\"/><line x1=\"80.288\" y1=\"182.22\" x2=\"86.716\" y2=\"189.88\" stroke-linecap=\"round\" style=\"stroke:black;stroke-width:12\"/><line x1=\"86.716\" y1=\"189.88\" x2=\"93.144\" y2=\"197.54\" stroke-linecap=\"round\" style=\"stroke:black;stroke-width:12\"/><line x1=\"93.144\" y1=\"197.54\" x2=\"99.572\" y2=\"205.2\" stroke-linecap=\"round\" style=\"stroke:black;stroke-width:12\"/><line x1=\"99.572\" y1=\"205.2\" x2=\"106.0\" y2=\"212.86\" stroke-linecap=\"round\" style=\"stroke:black;stroke-width:12\"/><line x1=\"106.0\" y1=\"212.86\" x2=\"112.428\" y2=\"220.52\" stroke-linecap=\"round\" style=\"stroke:black;stroke-width:12\"/><line x1=\"112.428\" y1=\"220.52\" x2=\"118.856\" y2=\"228.18\" stroke-linecap=\"round\" style=\"stroke:black;stroke-width:12\"/><line x1=\"118.856\" y1=\"228.18\" x2=\"125.284\" y2=\"235.84\" stroke-linecap=\"round\" style=\"stroke:black;stroke-width:12\"/><line x1=\"125.284\" y1=\"235.84\" x2=\"131.712\" y2=\"243.5\" stroke-linecap=\"round\" style=\"stroke:black;stroke-width:12\"/><line x1=\"131.712\" y1=\"243.5\" x2=\"138.14\" y2=\"251.16\" stroke-linecap=\"round\" style=\"stroke:black;stroke-width:12\"/><line x1=\"138.14\" y1=\"251.16\" x2=\"144.568\" y2=\"258.82\" stroke-linecap=\"round\" style=\"stroke:black;stroke-width:12\"/><line x1=\"144.568\" y1=\"258.82\" x2=\"150.996\" y2=\"266.48\" stroke-linecap=\"round\" style=\"stroke:black;stroke-width:12\"/><line x1=\"150.996\" y1=\"266.48\" x2=\"157.424\" y2=\"274.14\" stroke-linecap=\"round\" style=\"stroke:black;stroke-width:12\"/><line x1=\"157.424\" y1=\"274.14\" x2=\"163.852\" y2=\"281.8\" stroke-linecap=\"round\" style=\"stroke:black;stroke-width:12\"/><line x1=\"163.852\" y1=\"281.8\" x2=\"170.28\" y2=\"289.46\" stroke-linecap=\"round\" style=\"stroke:black;stroke-width:12\"/><line x1=\"170.28\" y1=\"289.46\" x2=\"176.708\" y2=\"297.12\" stroke-linecap=\"round\" style=\"stroke:black;stroke-width:12\"/><line x1=\"176.708\" y1=\"297.12\" x2=\"183.136\" y2=\"304.78\" stroke-linecap=\"round\" style=\"stroke:black;stroke-width:12\"/><line x1=\"183.136\" y1=\"304.78\" x2=\"189.564\" y2=\"312.44\" stroke-linecap=\"round\" style=\"stroke:black;stroke-width:12\"/><line x1=\"189.564\" y1=\"312.44\" x2=\"195.992\" y2=\"320.1\" stroke-linecap=\"round\" style=\"stroke:black;stroke-width:12\"/><line x1=\"195.992\" y1=\"320.1\" x2=\"202.42\" y2=\"327.76\" stroke-linecap=\"round\" style=\"stroke:black;stroke-width:12\"/><line x1=\"202.42\" y1=\"327.76\" x2=\"208.848\" y2=\"335.42\" stroke-linecap=\"round\" style=\"stroke:black;stroke-width:12\"/><line x1=\"208.848\" y1=\"335.42\" x2=\"215.276\" y2=\"343.08\" stroke-linecap=\"round\" style=\"stroke:black;stroke-width:12\"/><line x1=\"215.276\" y1=\"343.08\" x2=\"221.704\" y2=\"350.74\" stroke-linecap=\"round\" style=\"stroke:black;stroke-width:12\"/><line x1=\"221.704\" y1=\"350.74\" x2=\"228.132\" y2=\"358.4\" stroke-linecap=\"round\" style=\"stroke:black;stroke-width:12\"/><line x1=\"228.132\" y1=\"358.4\" x2=\"234.56\" y2=\"366.06\" stroke-linecap=\"round\" style=\"stroke:black;stroke-width:12\"/><line x1=\"234.56\" y1=\"366.06\" x2=\"240.988\" y2=\"373.72\" stroke-linecap=\"round\" style=\"stroke:black;stroke-width:12\"/><line x1=\"240.988\" y1=\"373.72\" x2=\"247.416\" y2=\"381.38\" stroke-linecap=\"round\" style=\"stroke:black;stroke-width:12\"/><line x1=\"247.416\" y1=\"381.38\" x2=\"253.844\" y2=\"389.04\" stroke-linecap=\"round\" style=\"stroke:black;stroke-width:12\"/>\n",
              "        <g visibility=hidden transform=\"rotate(140,253.844,389.04) translate(235.844, 371.04)\">\n",
              "<path style=\" stroke:none;fill-rule:evenodd;fill:black;fill-opacity:1;\" d=\"M 18.214844 0.632812 C 16.109375 1.800781 15.011719 4.074219 15.074219 7.132812 L 15.085938 7.652344 L 14.785156 7.496094 C 13.476562 6.824219 11.957031 6.671875 10.40625 7.066406 C 8.46875 7.550781 6.515625 9.15625 4.394531 11.992188 C 3.0625 13.777344 2.679688 14.636719 3.042969 15.027344 L 3.15625 15.152344 L 3.519531 15.152344 C 4.238281 15.152344 4.828125 14.886719 8.1875 13.039062 C 9.386719 12.378906 10.371094 11.839844 10.378906 11.839844 C 10.386719 11.839844 10.355469 11.929688 10.304688 12.035156 C 9.832031 13.09375 9.257812 14.820312 8.96875 16.078125 C 7.914062 20.652344 8.617188 24.53125 11.070312 27.660156 C 11.351562 28.015625 11.363281 27.914062 10.972656 28.382812 C 8.925781 30.84375 7.945312 33.28125 8.238281 35.1875 C 8.289062 35.527344 8.28125 35.523438 8.917969 35.523438 C 10.941406 35.523438 13.074219 34.207031 15.136719 31.6875 C 15.359375 31.417969 15.328125 31.425781 15.5625 31.574219 C 16.292969 32.042969 18.023438 32.964844 18.175781 32.964844 C 18.335938 32.964844 19.941406 32.210938 20.828125 31.71875 C 20.996094 31.625 21.136719 31.554688 21.136719 31.558594 C 21.203125 31.664062 21.898438 32.414062 22.222656 32.730469 C 23.835938 34.300781 25.5625 35.132812 27.582031 35.300781 C 27.90625 35.328125 27.9375 35.308594 28.007812 34.984375 C 28.382812 33.242188 27.625 30.925781 25.863281 28.425781 L 25.542969 27.96875 L 25.699219 27.785156 C 28.945312 23.960938 29.132812 18.699219 26.257812 11.96875 L 26.207031 11.84375 L 27.945312 12.703125 C 31.53125 14.476562 32.316406 14.800781 33.03125 14.800781 C 33.976562 14.800781 33.78125 13.9375 32.472656 12.292969 C 28.519531 7.355469 25.394531 5.925781 21.921875 7.472656 L 21.558594 7.636719 L 21.578125 7.542969 C 21.699219 6.992188 21.761719 5.742188 21.699219 5.164062 C 21.496094 3.296875 20.664062 1.964844 19.003906 0.855469 C 18.480469 0.503906 18.457031 0.5 18.214844 0.632812\"/>\n",
              "</g>\n",
              "      </svg>\n",
              "    "
            ]
          },
          "metadata": {}
        },
        {
          "output_type": "stream",
          "name": "stdout",
          "text": [
            "pos_y == 500 or pos_y == 0: 485.252 503.94 310\n",
            "pos_x == 800 or pos_x == 0: 803.438 124.769 -130\n",
            "pos_y == 500 or pos_y == 0: 697.376 -1.622 490\n",
            "pos_y == 500 or pos_y == 0: 276.342 500.109 -130\n",
            "pos_x == 800 or pos_x == 0: -3.276 166.898 310\n",
            "pos_y == 500 or pos_y == 0: 141.354 -5.453 50\n",
            "pos_y == 500 or pos_y == 0: 568.816 503.938 310\n",
            "pos_x == 800 or pos_x == 0: 803.438 224.347 -130\n",
            "pos_y == 500 or pos_y == 0: 613.812 -1.624 490\n",
            "pos_y == 500 or pos_y == 0: 192.778 500.107 -130\n",
            "pos_x == 800 or pos_x == 0: -3.276 266.476 310\n",
            "pos_y == 500 or pos_y == 0: 224.918 -5.455 50\n",
            "pos_y == 500 or pos_y == 0: 652.38 503.936 310\n",
            "pos_x == 800 or pos_x == 0: 803.438 323.925 -130\n",
            "pos_y == 500 or pos_y == 0: 530.248 -1.626 490\n",
            "pos_y == 500 or pos_y == 0: 109.214 500.105 -130\n",
            "pos_x == 800 or pos_x == 0: -3.276 366.054 310\n",
            "pos_y == 500 or pos_y == 0: 308.482 -5.457 50\n",
            "pos_y == 500 or pos_y == 0: 735.944 503.934 310\n",
            "pos_x == 800 or pos_x == 0: 803.438 423.503 -130\n",
            "pos_y == 500 or pos_y == 0: 446.684 -1.628 490\n",
            "pos_y == 500 or pos_y == 0: 25.65 500.103 -130\n",
            "pos_x == 800 or pos_x == 0: -3.276 465.632 310\n",
            "pos_y == 500 or pos_y == 0: 392.046 -5.459 50\n",
            "pos_x == 800 or pos_x == 0: 800.224 480.952 130\n",
            "pos_y == 500 or pos_y == 0: 784.154 500.103 230\n",
            "pos_y == 500 or pos_y == 0: 363.12 -1.628 130\n",
            "pos_x == 800 or pos_x == 0: -0.062 431.163 50\n",
            "pos_y == 500 or pos_y == 0: 61.004 503.934 310\n",
            "pos_y == 500 or pos_y == 0: 488.466 -5.457 50\n",
            "pos_x == 800 or pos_x == 0: 800.224 366.054 130\n",
            "pos_y == 500 or pos_y == 0: 687.734 500.105 230\n",
            "pos_y == 500 or pos_y == 0: 266.7 -1.626 130\n",
            "pos_x == 800 or pos_x == 0: -0.062 316.265 50\n",
            "pos_y == 500 or pos_y == 0: 157.424 503.936 310\n",
            "pos_y == 500 or pos_y == 0: 584.886 -5.455 50\n",
            "pos_x == 800 or pos_x == 0: 800.224 251.156 130\n",
            "pos_y == 500 or pos_y == 0: 591.314 500.107 230\n",
            "pos_y == 500 or pos_y == 0: 170.28 -1.624 130\n",
            "pos_x == 800 or pos_x == 0: -0.062 201.367 50\n",
            "pos_y == 500 or pos_y == 0: 253.844 503.938 310\n",
            "pos_y == 500 or pos_y == 0: 681.306 -5.453 50\n",
            "pos_x == 800 or pos_x == 0: 800.224 136.258 130\n",
            "pos_y == 500 or pos_y == 0: 494.894 500.109 230\n",
            "pos_y == 500 or pos_y == 0: 73.86 -1.622 130\n",
            "pos_x == 800 or pos_x == 0: -0.062 86.469 50\n",
            "limite: 2000\n",
            "(106, 52, 50)\n"
          ]
        }
      ],
      "source": [
        "pizarra_vacia(grosor_lapiz = 12)\n",
        "color('red')\n",
        "setposition(400, 250)\n",
        "goto(409, 250)\n",
        "goto(409,259)\n",
        "goto(400, 259)\n",
        "goto(400,250)\n",
        "# Hemos dibujado el centro\n",
        "color('black')\n",
        "iniciales = bola_de_billar(12, 2000)\n",
        "print(iniciales)"
      ]
    },
    {
      "cell_type": "markdown",
      "metadata": {
        "id": "QpLUr1gNddUn"
      },
      "source": [
        "Este tipo de programas es mejor correrlos en Python (con un archivo `.py`) pues en Colab se hacen muy lentos.\n",
        "\n",
        "La implementación en Python puro de la función `bola_de_billar()` con la biblioteca  `turtle` no es inmediata, pues el sistema de coordenadas y otras cuestiones no son exactamente iguales. De  cualquier forma es un buen ejercicio, para el que se anime, tratar de hacerlo.  Recuerden que hay excelentes entornos de programación para hacer desarrollo en Python, en particular  Visual Studio Code (gratuito) y Pycharm (licencia académica gratuita).  "
      ]
    }
  ],
  "metadata": {
    "colab": {
      "provenance": []
    },
    "kernelspec": {
      "display_name": "Python 3",
      "name": "python3"
    },
    "language_info": {
      "name": "python"
    }
  },
  "nbformat": 4,
  "nbformat_minor": 0
}