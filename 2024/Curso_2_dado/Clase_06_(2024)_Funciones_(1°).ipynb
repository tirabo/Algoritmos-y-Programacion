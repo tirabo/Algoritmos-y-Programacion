{
  "cells": [
    {
      "cell_type": "markdown",
      "metadata": {
        "id": "r9jXO5qqhcbr"
      },
      "source": [
        "# Funciones\n",
        "\n",
        "En este cuaderno repasaremos el concepto de función y profundizaremos en algunos aspectos del tema.\n",
        "\n",
        "En el contexto de la programación, una *función* es una expresión que se aplica a cierto dominio y devuelve un resultado. Python tiene incorporadas algunas funciones (ya vimos `print()`, `sin()`, etc.) y permite que el programador defina sus propias funciones. Una función definida por el programador consta de una secuencia de declaraciones que realiza un cálculo y esa secuencia tiene nombre. Cuando se define una función, se especifica el nombre y la secuencia de declaraciones. Más tarde, se puede \"llamar\" a la función por su nombre.\n",
        "\n"
      ]
    },
    {
      "cell_type": "markdown",
      "metadata": {
        "id": "1p7V2a6siBJN"
      },
      "source": [
        "## 1. Llamadas a funciones\n",
        "\n",
        "Ya hemos visto un ejemplo de llamada a función. Si ejecutamos\n",
        "```\n",
        "type(42)\n",
        "```\n",
        "se imprime\n",
        "```\n",
        "<clase 'int'>\n",
        "```\n",
        "El nombre de la función es `type`. La expresión entre paréntesis\n",
        "se llama el *argumento* de la función. El resultado, para esta función, es el tipo del argumento.\n",
        "\n",
        "Es común decir que una función \"toma\" un argumento y \"devuelve\" un resultado. El resultado también se denomina *valor de retorno*.\n",
        "\n",
        "En  el caso de `type` es una función que toma cualquier valor y  devuelve el tipo del valor.\n"
      ]
    },
    {
      "cell_type": "code",
      "execution_count": null,
      "metadata": {
        "colab": {
          "base_uri": "https://localhost:8080/"
        },
        "id": "mOYFEcIO5ibn",
        "outputId": "46af5805-5037-4535-b7a8-f7098c111526"
      },
      "outputs": [
        {
          "output_type": "execute_result",
          "data": {
            "text/plain": [
              "bool"
            ]
          },
          "metadata": {},
          "execution_count": 2
        }
      ],
      "source": [
        "type(2 < 5)"
      ]
    },
    {
      "cell_type": "markdown",
      "metadata": {
        "id": "hBXLj_xP5iNL"
      },
      "source": [
        "\n",
        "Otra función que hemos visto es `print`. Esta función toma un  argumento  o varios separados por comas e imprime en pantalla su valor o, en el caso de varios  argumentos,  sus valores separados por espacios. Es una función que no devuelve nada,  es decir no devuelve un valor que pueda ser utilizado posteriormente. Profundizaremos el concepto de \"funciones que no devuelven nada\" más adelante.\n",
        "\n",
        "Ejemplos de la función `print`:"
      ]
    },
    {
      "cell_type": "code",
      "execution_count": null,
      "metadata": {
        "colab": {
          "base_uri": "https://localhost:8080/"
        },
        "id": "ata_WaVema2j",
        "outputId": "8eeb1950-6b4c-4b88-931f-5aed6b6a55da"
      },
      "outputs": [
        {
          "output_type": "stream",
          "name": "stdout",
          "text": [
            "23\n",
            "-1\n",
            "hola adiós\n"
          ]
        }
      ],
      "source": [
        "print('23')\n",
        "x = -1\n",
        "print(x)\n",
        "print('hola','adiós')"
      ]
    },
    {
      "cell_type": "markdown",
      "metadata": {
        "id": "5lZ7P-tezddh"
      },
      "source": [
        "Si querés comprobar que `print` no devuelve nada, podès correr la siguiente celda de código."
      ]
    },
    {
      "cell_type": "code",
      "execution_count": null,
      "metadata": {
        "colab": {
          "base_uri": "https://localhost:8080/"
        },
        "id": "uQATk9Q5-XPT",
        "outputId": "35e36c73-c1de-4d96-d1e1-7cdae4e86915"
      },
      "outputs": [
        {
          "output_type": "stream",
          "name": "stdout",
          "text": [
            "2\n",
            "None\n",
            "<class 'NoneType'>\n"
          ]
        }
      ],
      "source": [
        "x = print(2)\n",
        "print(x)\n",
        "print(type(x))"
      ]
    },
    {
      "cell_type": "markdown",
      "metadata": {
        "id": "gK_51szkl90_"
      },
      "source": [
        "Python proporciona funciones que convierten valores de un tipo a otro. La función `int` toma cualquier valor y si puede lo convierte en un número entero. En caso que no pueda se produce un error. Todo esto se puede verificar ejecutando la siguiente celda de código:"
      ]
    },
    {
      "cell_type": "code",
      "execution_count": null,
      "metadata": {
        "colab": {
          "base_uri": "https://localhost:8080/"
        },
        "id": "y8AfCXWTjBxW",
        "outputId": "e2459e31-2356-4212-b06e-29e787a72567"
      },
      "outputs": [
        {
          "output_type": "stream",
          "name": "stdout",
          "text": [
            "32\n",
            "42\n"
          ]
        }
      ],
      "source": [
        "print(int('32'))\n",
        "print(int(42.0))\n",
        "# int('Hola') # descomentar la línea produce un error"
      ]
    },
    {
      "cell_type": "markdown",
      "metadata": {
        "id": "UPr5DsIYjKbT"
      },
      "source": [
        "\n",
        "`int` puede convertir valores de coma flotante en números enteros, pero no redondea; corta la parte decimal:\n"
      ]
    },
    {
      "cell_type": "code",
      "execution_count": null,
      "metadata": {
        "colab": {
          "base_uri": "https://localhost:8080/"
        },
        "id": "BLy-nk4RjlVu",
        "outputId": "e58bfb98-901e-4687-ae52-a93322974504"
      },
      "outputs": [
        {
          "output_type": "stream",
          "name": "stdout",
          "text": [
            "3\n",
            "-2\n"
          ]
        }
      ],
      "source": [
        "print(int(3.99999))\n",
        "print(int(-2.3))"
      ]
    },
    {
      "cell_type": "markdown",
      "metadata": {
        "id": "0GQjNjl6jpk5"
      },
      "source": [
        "`float` convierte enteros y cadenas que representan números en números punto flotante:\n"
      ]
    },
    {
      "cell_type": "code",
      "execution_count": null,
      "metadata": {
        "colab": {
          "base_uri": "https://localhost:8080/"
        },
        "id": "Y3s6fRQkhbfy",
        "outputId": "a994ca73-4891-45c6-a43e-9e6c674b0d48"
      },
      "outputs": [
        {
          "output_type": "stream",
          "name": "stdout",
          "text": [
            "32.0\n",
            "<class 'float'>\n"
          ]
        }
      ],
      "source": [
        "print(float(32))\n",
        "print(type(float('3.14159')))\n",
        "\n",
        "# print(float('hola')) # descomentar la línea produce error"
      ]
    },
    {
      "cell_type": "markdown",
      "metadata": {
        "id": "zWtBpoyYkOmw"
      },
      "source": [
        "Finalmente, `str` convierte cualquier argumento válido en una cadena:"
      ]
    },
    {
      "cell_type": "code",
      "execution_count": null,
      "metadata": {
        "colab": {
          "base_uri": "https://localhost:8080/"
        },
        "id": "gILmpf3_lNxt",
        "outputId": "8fe95faf-cb0f-41ce-d86e-c00df0e62eac"
      },
      "outputs": [
        {
          "output_type": "stream",
          "name": "stdout",
          "text": [
            "32 <class 'str'>\n",
            "3.14159 <class 'str'>\n"
          ]
        }
      ],
      "source": [
        "print(str(32), type(str(32)))\n",
        "print(str(3.14159), type(str(3.14159)))"
      ]
    },
    {
      "cell_type": "markdown",
      "metadata": {
        "id": "0RFfiBT7ntxM"
      },
      "source": [
        "## 2. Funciones matemáticas\n",
        "\n",
        "Hemos visto que Python tiene un módulo matemático que proporciona la mayoría de las funciones matemáticas familiares. Un *módulo* o *biblioteca* es un archivo que contiene una colección de funciones relacionadas.\n",
        "\n",
        "Antes de que podamos usar las funciones en un módulo, tenemos que importarlo con una declaración de importación. Para poder usar el módulo `math` en este cuaderno Jupyter debemos ejecutar la siguiente celda de código:\n"
      ]
    },
    {
      "cell_type": "code",
      "execution_count": null,
      "metadata": {
        "id": "_3EzJtdQo7zQ"
      },
      "outputs": [],
      "source": [
        "import math"
      ]
    },
    {
      "cell_type": "markdown",
      "metadata": {
        "id": "TlMdGZECo_hG"
      },
      "source": [
        "Esta declaración crea un *objeto módulo* llamado math. Si imprime el objeto módulo, obtendrá información sobre él:\n"
      ]
    },
    {
      "cell_type": "code",
      "execution_count": null,
      "metadata": {
        "id": "xYc61KF_p3Fe",
        "outputId": "6baa91c5-64b6-44c2-9d2c-81a84712bcee",
        "colab": {
          "base_uri": "https://localhost:8080/"
        }
      },
      "outputs": [
        {
          "output_type": "stream",
          "name": "stdout",
          "text": [
            "<module 'math' (built-in)>\n"
          ]
        }
      ],
      "source": [
        "print(math)"
      ]
    },
    {
      "cell_type": "markdown",
      "metadata": {
        "id": "5sxKBTdop_Aj"
      },
      "source": [
        "El objeto módulo contiene las funciones y variables definidas en el\n",
        "módulo. Para acceder a una de las funciones, debés especificar el nombre\n",
        "del módulo y el nombre de la función, separados por un punto. Este formato se llama *notación punto* o *dot  notation* en inglés.\n",
        "```\n",
        "radio = potencia_señal / potencia_ruido\n",
        "decibeles = 10 * math.log10 (radio)\n",
        "```\n",
        "\n",
        "```\n",
        "radianes = 0.7\n",
        "altura = math.sin(radianes)\n",
        "```\n",
        "El primer ejemplo usa `math.log10` para calcular una relación señal-ruido en decibelios (asumiendo que `potencia_señal` y `potencia_ruido` están definidos). El módulo math también proporciona `log`, que calcula logaritmos en base `e`.\n",
        "\n",
        "El segundo ejemplo encuentra el seno de `radianes`. El nombre de la variable `radianes` es una pista de que `sin` (seno) y las otras funciones trigonométricas (`cos`, `tan`, etc.) toman argumentos en radianes. Para convertir de grados a radianes, hay que dividir por 180 y multiplicar por $\\pi$. Para ejemplificar,  ejecute el siguiente código:\n"
      ]
    },
    {
      "cell_type": "code",
      "execution_count": null,
      "metadata": {
        "id": "42R52Nj-r3o7"
      },
      "outputs": [],
      "source": [
        "grados = 45\n",
        "radianes = grados / 180.0 * math.pi\n",
        "print(grados,'grados son',radianes,'radianes')\n",
        "sen45 = math.sin(radianes)\n",
        "print('sen(45º) = ', sen45)"
      ]
    },
    {
      "cell_type": "markdown",
      "metadata": {
        "id": "xumnMj1Nr5Tq"
      },
      "source": [
        "La expresión `math.pi` obtiene la variable `pi` del módulo math. Su valor es una aproximación en punto flotante de $\\pi$, con una precisión de aproximadamente 15 dígitos.\n",
        "\n",
        "Usando trigonometría, podemos verificar el resultado anterior comparándolo con $\\sqrt{2}/2$:\n"
      ]
    },
    {
      "cell_type": "code",
      "execution_count": null,
      "metadata": {
        "colab": {
          "base_uri": "https://localhost:8080/"
        },
        "id": "BDo8TtGBsYQs",
        "outputId": "11e1e4c2-6db2-420d-c9c8-0f894802efe0"
      },
      "outputs": [
        {
          "output_type": "execute_result",
          "data": {
            "text/plain": [
              "0.7071067811865476"
            ]
          },
          "metadata": {},
          "execution_count": 16
        }
      ],
      "source": [
        "math.sqrt(2) / 2.0"
      ]
    },
    {
      "cell_type": "code",
      "source": [
        "2**0.5 / 2"
      ],
      "metadata": {
        "colab": {
          "base_uri": "https://localhost:8080/"
        },
        "id": "36lXhAVLL8vk",
        "outputId": "c9c61f89-05bf-4e40-81c1-e774e7d38bb4"
      },
      "execution_count": null,
      "outputs": [
        {
          "output_type": "execute_result",
          "data": {
            "text/plain": [
              "0.7071067811865476"
            ]
          },
          "metadata": {},
          "execution_count": 17
        }
      ]
    },
    {
      "cell_type": "markdown",
      "metadata": {
        "id": "qWEpy6bK4ObE"
      },
      "source": [
        "Para convertir de radianes a grados en formato decimal se hace la operación inversa: para convertir de grados a radianes dividíamos por 180  y multiplicábamos por $\\pi$. Ahora debemos multiplicar por 180 y dividir por $\\pi$."
      ]
    },
    {
      "cell_type": "code",
      "execution_count": null,
      "metadata": {
        "id": "o0FMw-S-4ObF"
      },
      "outputs": [],
      "source": [
        "radianes = math.pi / 6\n",
        "grados = 180.0 * radianes / math.pi\n",
        "print(grados)"
      ]
    },
    {
      "cell_type": "markdown",
      "metadata": {
        "id": "UffkmrtD__vv"
      },
      "source": [
        "## 3. Composición\n",
        "\n",
        "Hasta ahora, hemos examinado los elementos de un programa; variables, expresiones y declaraciones; de forma aislada, sin hablar de cómo combinarlos.\n",
        "\n",
        "Una de las características más útiles de los lenguajes de programación es su capacidad para tomar pequeños bloques de construcción y *componer*. Por ejemplo, el argumento de una función puede ser cualquier tipo de expresión, incluidos los operadores aritméticos:\n",
        "```\n",
        "x = math.sin(grados / 360.0 * 2 * math.pi)\n",
        "```\n",
        "E incluso llamadas a funciones:\n",
        "```\n",
        "x = math.exp (math.log (x + 1))\n",
        "```\n",
        "Casi en cualquier lugar donde se pueda poner un valor, se puede poner una expresión arbitraria, con una excepción: el lado izquierdo de una declaración de asignación tiene que ser un nombre de variable. Cualquier otra expresión en el lado izquierdo es un error de sintaxis (veremos excepciones a esta regla más adelante). Si ejecutamos\n",
        "```\n",
        "minutos = horas * 60 # correcto\n",
        "```\n",
        "asignamos a `minutos` un valor. Si ejecutamos\n",
        "```\n",
        "horas * 60 = minutos # incorrecto!\n",
        "```\n",
        "obtenemos\n",
        "```\n",
        "SyntaxError: can't assign to operator\n",
        "```"
      ]
    },
    {
      "cell_type": "markdown",
      "metadata": {
        "id": "_5L0vYmA__71"
      },
      "source": [
        "## 4. Añadiendo nuevas funciones\n",
        "\n",
        "Hasta ahora, hemos estado usando principalmente las funciones incorporadas en Python, pero también es posible, como ya vimos, agregar nuevas funciones. Una definición de función especifica el nombre de una nueva función y la secuencia de instrucciones que se ejecutan cuando se llama a la función.\n",
        "\n",
        "Veamos el siguiente  ejemplo:\n",
        "\n",
        "```\n",
        "def imprimir_instrucciones():\n",
        "    print (\"Abra el  recipiente.\")\n",
        "    print (\"Complete el recipiente con agua.\")\n",
        "```\n",
        "`def` es una palabra clave (reservada de Python) que indica que se trata de una definición de función. El nombre de la función es `imprimir_instrucciones` y es una función que no tiene argumentos y no devuelve nada.\n",
        "\n",
        "Las reglas para los nombres de las funciones son las mismas que para los nombres de las variables: las letras, los números y el subrayado son legales, pero el primer carácter no puede ser un número. No puede usar una palabra clave como nombre de una función, y debe evitar tener una variable y una función con el mismo nombre.\n",
        "\n",
        "Los paréntesis vacíos después del nombre indican que esta función no acepta argumentos.\n",
        "\n",
        "La primera línea de la definición de la función se llama *header* o *encabezado*; el resto se llama *body* o *cuerpo de la función*. El encabezado debe terminar con dos puntos y el cuerpo debe tener sangría. Por convención, la sangría es siempre de cuatro espacios. El cuerpo puede contener cualquier número de declaraciones.\n",
        "\n",
        "Hablando propiamente del cuerpo de la función `imprimir_instrucciones()`, las cadenas de las declaraciones de impresión están entre comillas dobles. Las comillas simples y las dobles hacen lo mismo; la mayoría de la gente usa comillas simples. En  el caso  donde aparece una comilla simple (que también es un apostrofe) en la cadena se utilizan las comillas dobles (este no es el caso).Todas las comillas (simples y dobles) deben ser \"comillas rectas\" las \"comillas inclinadas compuestas de tildes (como ser \\` o bien ´) no son legales en Python.\n",
        "\n",
        "\n",
        "La definición de una función crea un *objeto función*, que tiene el tipo `function`. Probá con el siguiente código:\n"
      ]
    },
    {
      "cell_type": "code",
      "execution_count": null,
      "metadata": {
        "id": "lYdlVQPBD9k0"
      },
      "outputs": [],
      "source": [
        "def imprimir_instrucciones():\n",
        "    print (\"Abra el  recipiente.\")\n",
        "    print (\"Complete el recipiente con agua.\")\n",
        "\n",
        "print(imprimir_instrucciones)\n",
        "type(imprimir_instrucciones)"
      ]
    },
    {
      "cell_type": "markdown",
      "metadata": {
        "id": "26zGBrpuECc9"
      },
      "source": [
        "La sintaxis para llamar a la nueva función es la misma que para las funciones integradas:\n"
      ]
    },
    {
      "cell_type": "code",
      "execution_count": null,
      "metadata": {
        "id": "Xon9ZWa3En5p"
      },
      "outputs": [],
      "source": [
        "imprimir_instrucciones()"
      ]
    },
    {
      "cell_type": "markdown",
      "metadata": {
        "id": "n4pvEBaKEoCf"
      },
      "source": [
        "Una vez que haya definido una función, puede usarla dentro de otra función. Por ejemplo, para repetir el texto anterior, podríamos escribir una función llamada `repetir_instrucciones`:"
      ]
    },
    {
      "cell_type": "code",
      "execution_count": null,
      "metadata": {
        "id": "zP8T9yvSE9Tv"
      },
      "outputs": [],
      "source": [
        "def repetir_instrucciones():\n",
        "    imprimir_instrucciones()\n",
        "    imprimir_instrucciones()"
      ]
    },
    {
      "cell_type": "markdown",
      "metadata": {
        "id": "75173mYUFOuq"
      },
      "source": [
        "Si ejecutamos la celda anterior y la siguiente repetimos las instrucciones:"
      ]
    },
    {
      "cell_type": "code",
      "execution_count": null,
      "metadata": {
        "id": "8D6ZdDqoFc4J"
      },
      "outputs": [],
      "source": [
        "repetir_instrucciones()"
      ]
    },
    {
      "cell_type": "markdown",
      "metadata": {
        "id": "gHZFSM12Gpup"
      },
      "source": [
        "Al reunir los fragmentos de código, todo el programa se ve así:\n",
        "\n",
        "\n",
        "```\n",
        "def imprimir_instrucciones():\n",
        "    print (\"Abra el  recipiente.\")\n",
        "    print (\"Complete el recipiente con agua.\")\n",
        "\n",
        "def repetir_instrucciones():\n",
        "    imprimir_instrucciones()\n",
        "    imprimir_instrucciones()\n",
        "\n",
        "repetir_instrucciones()\n",
        "```\n",
        "Este programa contiene dos definiciones de función: `imprimir_instrucciones` y `repetir_instrucciones`. Las definiciones de funciones se ejecutan al igual que otras declaraciones, pero el efecto es crear objetos de función. Las declaraciones dentro de la función no se ejecutan hasta que se llama a la función y la definición de la función no genera salida.\n",
        "\n",
        "Como era de esperar, hay que crear una función antes de poder ejecutarla. En otras palabras, la definición de la función debe ejecutarse antes de que se llame a la función.\n",
        "\n",
        "Como ejercicio, mové la última línea de este programa hacia arriba, para que la llamada a la función aparezca antes de las definiciones. Ejecutá el programa y observá qué mensaje de error se obtiene.\n",
        "\n",
        "Ahora mové la llamada a la función al final y move la definición de `imprimir_instrucciones` después de la definición de `repetir_instrucciones`. ¿Qué sucede cuando ejecutás este programa? (antes de cada ejecución reiniciar el entorno de ejecución).\n",
        "\n",
        "\n"
      ]
    },
    {
      "cell_type": "code",
      "source": [
        "# Orden correcto\n",
        "def imprimir_instrucciones():\n",
        "    print (\"Abra el  recipiente.\")\n",
        "    print (\"Complete el recipiente con agua.\")\n",
        "\n",
        "def repetir_instrucciones():\n",
        "    imprimir_instrucciones()\n",
        "    imprimir_instrucciones()\n",
        "\n",
        "repetir_instrucciones()\n"
      ],
      "metadata": {
        "id": "5KImnusBdbjI"
      },
      "execution_count": null,
      "outputs": []
    },
    {
      "cell_type": "code",
      "source": [
        "# Orden incorrecto 1\n",
        "repetir_instrucciones()\n",
        "\n",
        "def imprimir_instrucciones():\n",
        "    print (\"Abra el  recipiente.\")\n",
        "    print (\"Complete el recipiente con agua.\")\n",
        "\n",
        "def repetir_instrucciones():\n",
        "    imprimir_instrucciones()\n",
        "    imprimir_instrucciones()"
      ],
      "metadata": {
        "id": "SJQer8ebdrz0"
      },
      "execution_count": null,
      "outputs": []
    },
    {
      "cell_type": "code",
      "source": [
        "# Orden correcto 2\n",
        "def repetir_instrucciones():\n",
        "    imprimir_instrucciones()\n",
        "    imprimir_instrucciones()\n",
        "\n",
        "def imprimir_instrucciones():\n",
        "    print (\"Abra el  recipiente.\")\n",
        "    print (\"Complete el recipiente con agua.\")\n",
        "\n",
        "repetir_instrucciones()"
      ],
      "metadata": {
        "id": "vox44k0Kd_Go"
      },
      "execution_count": null,
      "outputs": []
    },
    {
      "cell_type": "markdown",
      "metadata": {
        "id": "WR2dqlI64ObJ"
      },
      "source": [
        "## 5. Cadenas de documentación en Python\n",
        "\n",
        "Una *cadena de documentación* es un tipo de comentario que comienza y termina  con `\"\"\"`. Por  ejemplo\n",
        "\n",
        "    \"\"\"Comentario en una línea\"\"\"\n",
        "   \n",
        "o\n",
        "\n",
        "    \"\"\"\n",
        "    Esta es una línea de comentario\n",
        "    Esta también\n",
        "    ...\n",
        "    \"\"\"\n",
        "\n",
        "Esta forma de comentar permite hacer comentarios extensos y además lo que se encuentra en estos comentarios permite generar automáticamente la documentación del código, tema que no veremos en este curso.\n",
        "\n",
        "Las cadenas de documentación se llaman *docstrings*.\n",
        "\n",
        "Técnicamente hablando, los docstrings no son comentarios. Crean variables anónimas que hacen referencia a las cadenas. Además, no son ignoradas por el intérprete de Python. Como dijimos más arriba se utilizan para generar documentación.\n",
        "\n",
        "Python proporciona dos tipos de docstrings: docstrings de una línea y docstrings de varias líneas.\n",
        "\n",
        "### 1) Docstrings de una línea\n",
        "\n",
        "Como su nombre indica, un docstring de una línea cabe en una línea. Un docstring de una línea comienza con comillas triples (\"\"\") y también termina con comillas triples (\"\"\"). Además, no habrá ninguna línea en blanco ni antes ni después de la docstring de una línea.\n",
        "\n",
        "El siguiente ejemplo ilustra un docstring de una línea en la función quicksort():\n",
        "\n",
        "    def quicksort():\n",
        "        \"\"\" ordenar la lista usando el algoritmo quicksort \"\"\"\n",
        "        ...\n",
        "\n",
        "### 2) Docstrings multilínea\n",
        "\n",
        "A diferencia de los docstrings de una línea, los docstrings de varias líneas pueden abarcar varias líneas. Una docstring multilínea también comienza con comillas triples (`\"\"\"`) y termina con comillas triples (`\"\"\"`).\n",
        "\n",
        "El siguiente ejemplo muestra cómo utilizar las cadenas de documentos multilínea:\n",
        "\n",
        "    def incrementar(sueldo, rating):\n",
        "        \"\"\"\n",
        "        pre: sueldo - número decimal\n",
        "             rating - número entero de 1 al 6\n",
        "        post: incrementa el sueldo en base rating\n",
        "                rating 1 - 2 no incrementa\n",
        "                rating 3 - 4 incrementa 5%\n",
        "                rating 4 - 6 incrementa 10%\n",
        "        \"\"\""
      ]
    },
    {
      "cell_type": "markdown",
      "metadata": {
        "id": "K6HJoUT1zddu"
      },
      "source": [
        "Otra forma de definir la función, quizás más intuitiva:"
      ]
    },
    {
      "cell_type": "markdown",
      "source": [
        "##6. Ejemplo. Dibujando un cuadrado con cuadrados\n",
        "\n",
        "Ejemplificaremos dibujando con Colab Turtle. Hemos visto este tipo de ejemplos, incluso implementados con funciones, pero nunca está demás repasar estos conocimientos.\n",
        "\n",
        "La consigna es: *dibujar un cuadrado de 200 x 200 formado por 4 cuadrados de 100 x 100.*   \n",
        "\n",
        "Como siempre, primero instalamos Colab Turtle:"
      ],
      "metadata": {
        "id": "_Rkw0TMmlOx6"
      }
    },
    {
      "cell_type": "code",
      "source": [
        "!pip3 install ColabTurtle"
      ],
      "metadata": {
        "id": "yc2faB08vy5A"
      },
      "execution_count": null,
      "outputs": []
    },
    {
      "cell_type": "markdown",
      "source": [
        "Y después importamos las librerías que utilizaremos:"
      ],
      "metadata": {
        "id": "lNqeHJc-v8pA"
      }
    },
    {
      "cell_type": "code",
      "source": [
        "from ColabTurtle.Turtle import *"
      ],
      "metadata": {
        "id": "DMT6ibMZwBin"
      },
      "execution_count": null,
      "outputs": []
    },
    {
      "cell_type": "markdown",
      "source": [
        "La función será muy sencilla y quizás no sea la mejor implementación en pos de la modularidad, pero servirá a nuestros propósitos."
      ],
      "metadata": {
        "id": "JgyCvIrawN9U"
      }
    },
    {
      "cell_type": "code",
      "source": [
        "def gran_cuadrado():\n",
        "    forward(200) # 200 hacia arriba\n",
        "    right(90) # apunta hacia la derecha\n",
        "    forward(200) # 200  hacia la derecha\n",
        "    right(90) # apunta hacia abajo\n",
        "    forward(200) # 200  hacia abajo\n",
        "    right(90) # apunta hacia la izquierda\n",
        "    forward(200) # 200  hacia la izquierda (y cierra el cuadrado exterior)\n",
        "    right(90) # apunta hacia arriba (deja el cursor como empezó)\n",
        "    forward(100) # deja la tortuga en la mitad del lado de la izquierda\n",
        "    right(90) # apunta hacia la derecha\n",
        "    forward(200) # 200  hacia la derecha (dibuja el segmento que divide horizontalmente el cuadrado)\n",
        "    right(90) # apunta hacia abajo\n",
        "    forward(100) # deja la tortuga en el vértice inferior derecho\n",
        "    right(90) # apunta hacia la izquierda\n",
        "    forward(100) # deja la tortuga en la mitad del lado de abajo\n",
        "    right(90) # apunta hacia arriba\n",
        "    forward(200) # 200 hacia arriba (dibuja el segmento que divide verticalmente el cuadrado)"
      ],
      "metadata": {
        "id": "JzwmwUl0xHKw"
      },
      "execution_count": null,
      "outputs": []
    },
    {
      "cell_type": "markdown",
      "source": [
        "El código no es muy elegante (dibujar con palabras nunca lo es), pero funciona:"
      ],
      "metadata": {
        "id": "dwoOkOIOzePI"
      }
    },
    {
      "cell_type": "code",
      "source": [
        "initializeTurtle()\n",
        "gran_cuadrado()"
      ],
      "metadata": {
        "id": "ScU9tGalzqOD"
      },
      "execution_count": null,
      "outputs": []
    },
    {
      "cell_type": "markdown",
      "source": [
        "Como hay tareas repetitivas, sepuede mejorar un poco el código:"
      ],
      "metadata": {
        "id": "RdjSYmeT0zqC"
      }
    },
    {
      "cell_type": "code",
      "source": [
        "def gran_cuadrado():\n",
        "    for _ in range(4): # dibuja el cuadrado exterior\n",
        "        forward(200) # 200 hacia arriba\n",
        "        right(90) # apunta hacia la derecha\n",
        "    forward(100) # deja la tortuga en la mitad del lado de la izquierda\n",
        "    right(90) # apunta hacia la derecha\n",
        "    forward(200) # 200  hacia la derecha (dibuja el segmento que divide horizontalmente el cuadrado)\n",
        "    right(90) # apunta hacia abajo\n",
        "    forward(100) # deja la tortuga en el vértice inferior derecho\n",
        "    right(90) # apunta hacia la izquierda\n",
        "    forward(100) # deja la tortuga en la mitad del lado de abajo\n",
        "    right(90) # apunta hacia arriba\n",
        "    forward(200) # 200 hacia arriba (dibuja el segmento que divide verticalmente el cuadrado)"
      ],
      "metadata": {
        "id": "a0-ldL8y09XK"
      },
      "execution_count": null,
      "outputs": []
    },
    {
      "cell_type": "code",
      "source": [
        "initializeTurtle()\n",
        "gran_cuadrado()"
      ],
      "metadata": {
        "id": "ku1OaoKK1gy2"
      },
      "execution_count": null,
      "outputs": []
    },
    {
      "cell_type": "markdown",
      "metadata": {
        "id": "v-ZlYiBFGv6t"
      },
      "source": [
        "## 7. Flujo de ejecución\n",
        "\n",
        "Para asegurarse de que una función esté definida antes de su primer uso, debe conocer las instrucciones de orden en que se ejecutan, lo que se denomina flujo de ejecución.\n",
        "\n",
        "La ejecución siempre comienza en la primera declaración del programa. Las declaraciones se ejecutan de una en una, en orden de arriba hacia abajo.\n",
        "\n",
        "Las definiciones de funciones no alteran el flujo de ejecución del programa, pero hay que recordar que las declaraciones dentro de la función no se ejecutan hasta que se llama a la función.\n",
        "\n",
        "Una llamada a una función es como un desvío en el flujo de ejecución. En lugar de ir a la siguiente declaración, el flujo salta al cuerpo de la función, ejecuta las declaraciones allí y luego regresa para continuar donde lo dejó.\n",
        "\n",
        "Eso suena bastante simple, hasta que recordamos que una función puede llamar a otra. Mientras esté en medio de una función, el programa podría tener que ejecutar las instrucciones en otra función. Luego, mientras se ejecuta esa nueva función, ¡es posible que el programa tenga que ejecutar otra función más!\n",
        "\n",
        "Afortunadamente, Python es bueno para realizar un seguimiento de dónde se encuentra, por lo que cada vez que se completa una función, el programa retoma donde lo dejó en la función que la llamó. Cuando llega al final del programa, termina.\n",
        "\n",
        "En resumen, cuando lees un programa, no siempre hay leer de arriba a abajo. En  general tiene más sentido seguir el flujo de ejecución."
      ]
    },
    {
      "cell_type": "markdown",
      "metadata": {
        "id": "0beOSufSKYZZ"
      },
      "source": [
        "## 8. Parámetros y argumentos\n",
        "\n",
        "Algunas de las funciones que hemos visto requieren argumentos. Por ejemplo, cuando llamamos a `math.sin` se pasa un número como argumento. Algunas funciones toman más de un argumento: `math.pow` toma dos, la base y el exponente.\n",
        "\n",
        "Dentro de la función, los argumentos se asignan a variables llamadas *parámetros*. A continuación, una definición de una función que toma un argumento:\n",
        "\n"
      ]
    },
    {
      "cell_type": "code",
      "execution_count": null,
      "metadata": {
        "id": "zGHGBqoaEXsR"
      },
      "outputs": [],
      "source": [
        "# Ejecutar esta función\n",
        "def imprimir_4_veces(nombre):\n",
        "    print(nombre)\n",
        "    print(nombre)\n",
        "    print(nombre)\n",
        "    print(nombre)"
      ]
    },
    {
      "cell_type": "markdown",
      "metadata": {
        "id": "t-edvW6PEZJt"
      },
      "source": [
        "Esta función asigna el argumento a un parámetro llamado `nombre`. Cuando se llama a la función, imprime el valor del parámetro (cualquiera que sea) cuatro veces.\n",
        "\n",
        "La función trabaja con cualquier valor que se pueda imprimir. Por ejemplo:\n"
      ]
    },
    {
      "cell_type": "code",
      "execution_count": null,
      "metadata": {
        "id": "yDRU3O-LE6hm"
      },
      "outputs": [],
      "source": [
        "import math\n",
        "imprimir_4_veces('Spam')\n",
        "imprimir_4_veces(42)\n",
        "imprimir_4_veces(math.pi)"
      ]
    },
    {
      "cell_type": "markdown",
      "metadata": {
        "id": "uoBR2j1aE6q8"
      },
      "source": [
        "Las mismas reglas de composición que se aplican a las funciones predeefinidas también se aplican a las funciones definidas por el programador, por lo que podemos usar cualquier tipo de expresión como argumento para `imprimir_4_veces`:"
      ]
    },
    {
      "cell_type": "code",
      "execution_count": null,
      "metadata": {
        "id": "1AXhVHICFiXc"
      },
      "outputs": [],
      "source": [
        "imprimir_4_veces('Spam' * 2)\n",
        "imprimir_4_veces(42 + 3)\n",
        "imprimir_4_veces(math.cos(math.pi))"
      ]
    },
    {
      "cell_type": "markdown",
      "metadata": {
        "id": "bSJ89aB7Fifw"
      },
      "source": [
        "El argumento se evalúa antes de llamar a la función, por lo que en los ejemplos las expresiones `'Spam' * 2`, `42 + 3` y `math.cos(math.pi)` solo se evalúan una vez.\n",
        "\n",
        "También se puede utilizar una variable como argumento:"
      ]
    },
    {
      "cell_type": "code",
      "execution_count": null,
      "metadata": {
        "id": "SjhC0idLGHZj"
      },
      "outputs": [],
      "source": [
        "miguel = 'el hombre que escaló la montaña'\n",
        "imprimir_4_veces(miguel)"
      ]
    },
    {
      "cell_type": "markdown",
      "metadata": {
        "id": "49KjtSFjGHia"
      },
      "source": [
        "El nombre de la variable que pasamos como argumento (`miguel`) no tiene nada que ver con el nombre del parámetro (`nombre`). No importa cuál sea el nombre del argumento que se utilizó en la definición; cuando aplicamos la función `imprimir_4_veces`  al parámetro `miguel` toda ocurrencia de `nombre` es cambiada por `miguel`.\n",
        "\n",
        "Para ejecuciones repetidas  de una misma instrucción o similares, podemos hacer un código más corto y mas legible utilizando la instrucción `for`:\n"
      ]
    },
    {
      "cell_type": "code",
      "execution_count": null,
      "metadata": {
        "id": "D_7nIegodZWv"
      },
      "outputs": [],
      "source": [
        "def imprimir_4_veces_v2(nombre):\n",
        "    for _ in range(4):\n",
        "        print(nombre)"
      ]
    },
    {
      "cell_type": "markdown",
      "metadata": {
        "id": "t3glu1jvdcp2"
      },
      "source": [
        "Si ejecutamos\n"
      ]
    },
    {
      "cell_type": "code",
      "execution_count": null,
      "metadata": {
        "id": "FbfCzSoufQzy"
      },
      "outputs": [],
      "source": [
        "imprimir_4_veces_v2('¡Hola!')"
      ]
    },
    {
      "cell_type": "markdown",
      "metadata": {
        "id": "HEra2xHufQ9k"
      },
      "source": [
        "deberíamos ver algo como esto:\n",
        "```\n",
        "¡Hola!\n",
        "¡Hola!\n",
        "¡Hola!\n",
        "¡Hola!\n",
        "```\n",
        "\n",
        "Este es el uso más simple de la instrucción `for` que veremos con más profundidad después. Pero esto que explicamos es suficiente para permitirnos escribir un programa que generaliza la función anterior a un número determinado de repeticiones. Es decir,  podemos definir la función\n",
        "```\n",
        "imprimir_veces(n, nombre)\n",
        "```\n",
        "que imprime `n` veces la cadena nombre:"
      ]
    },
    {
      "cell_type": "code",
      "execution_count": null,
      "metadata": {
        "id": "pmat_DvFgNL1"
      },
      "outputs": [],
      "source": [
        "def imprimir_veces(n, nombre):\n",
        "    for _ in range(n):\n",
        "        print(nombre)\n",
        "\n",
        "imprimir_veces(5, '¡Adios!')"
      ]
    },
    {
      "cell_type": "markdown",
      "metadata": {
        "id": "Oi2GEKETgNWP"
      },
      "source": [
        "La sintaxis de una instrucción `for` es similar a la definición de una función. Tiene un encabezado que termina con dos puntos y un cuerpo justificado, generalmente a 4 espacios del `for`. El cuerpo puede contener cualquier número de declaraciones.\n",
        "\n",
        "Una instrucción `for` también se llama un *ciclo* porque el flujo de ejecución corre a través del cuerpo y luego regresa a la parte superior. En el caso de `imprimir_4_veces_v2` recorre el cuerpo cuatro veces. En  el caso de `imprimir_veces(n, nombre)` recorre el cuerpo la cantidad de veces que especifiquemos que vale `n`.\n"
      ]
    },
    {
      "cell_type": "markdown",
      "metadata": {
        "id": "sdnHXZBbic0b"
      },
      "source": [
        "## 9. Las variables y los parámetros de una función son locales\n",
        "\n",
        "Cuando crea una variable dentro de una función, es *local*, lo que significa que solo existe dentro de la función. Por ejemplo:"
      ]
    },
    {
      "cell_type": "code",
      "execution_count": null,
      "metadata": {
        "id": "K9f05EIoiXWJ"
      },
      "outputs": [],
      "source": [
        "def imprimir_dos_veces(nombre):\n",
        "    print(nombre)\n",
        "    print(nombre)\n",
        "\n",
        "def cat_dos_veces (parte_1, parte_2):\n",
        "    concatenado = parte_1 + parte_2\n",
        "    imprimir_dos_veces(concatenado)"
      ]
    },
    {
      "cell_type": "markdown",
      "metadata": {
        "id": "rSJZCmETjbHq"
      },
      "source": [
        "Esta función toma dos argumentos, los concatena e imprime el resultado dos veces. Aquí hay un ejemplo que lo usa:"
      ]
    },
    {
      "cell_type": "code",
      "execution_count": null,
      "metadata": {
        "id": "mi3cLm5WjbQK",
        "colab": {
          "base_uri": "https://localhost:8080/"
        },
        "outputId": "17b2bd7b-63ab-449b-dbab-97791a3ebf9a"
      },
      "outputs": [
        {
          "output_type": "stream",
          "name": "stdout",
          "text": [
            "Buenas tardes, mucho gusto.\n",
            "Buenas tardes, mucho gusto.\n"
          ]
        }
      ],
      "source": [
        "linea_1 = 'Buenas tardes, '\n",
        "linea_2 = 'mucho gusto.'\n",
        "cat_dos_veces(linea_1, linea_2)"
      ]
    },
    {
      "cell_type": "markdown",
      "metadata": {
        "id": "xUpVqxT_jbYB"
      },
      "source": [
        "Cuando termina `cat_dos_veces`, la variable `concatenado` se destruye. Si intentamos imprimirla, obtenemos una excepción:"
      ]
    },
    {
      "cell_type": "code",
      "execution_count": null,
      "metadata": {
        "id": "Wifkz2d8jbgx",
        "colab": {
          "base_uri": "https://localhost:8080/"
        },
        "outputId": "6df96285-fe50-463c-b6a1-671da5515cea"
      },
      "outputs": [
        {
          "output_type": "stream",
          "name": "stdout",
          "text": [
            "Buenas tardes, mucho gusto.\n",
            "Buenas tardes, mucho gusto.\n"
          ]
        }
      ],
      "source": [
        "linea_1 = 'Buenas tardes, '\n",
        "linea_2 = 'mucho gusto.'\n",
        "cat_dos_veces(linea_1, linea_2)\n",
        "# print(concatenado) # descomentar la línea produce un error"
      ]
    },
    {
      "cell_type": "markdown",
      "metadata": {
        "id": "nYvCbDrbjbqd"
      },
      "source": [
        "Los parámetros también son locales. Por ejemplo, fuera de `imprimir_dos_veces`, no existe `nombre`."
      ]
    },
    {
      "cell_type": "code",
      "source": [
        "nombre = 'hola'\n",
        "imprimir_dos_veces('adios')"
      ],
      "metadata": {
        "colab": {
          "base_uri": "https://localhost:8080/"
        },
        "id": "Wo04NcgFNxAn",
        "outputId": "49732803-2e50-40b2-a759-3eb65f873e20"
      },
      "execution_count": null,
      "outputs": [
        {
          "output_type": "stream",
          "name": "stdout",
          "text": [
            "adios\n",
            "adios\n"
          ]
        }
      ]
    },
    {
      "cell_type": "markdown",
      "metadata": {
        "id": "NfgTPiFJjb8W"
      },
      "source": [
        "## 10. Funciones que devuelven valor y funciones nulas\n",
        "\n",
        "Algunas de las funciones que hemos utilizado, como las funciones matemáticas, devuelven resultados; a falta de un nombre mejor, las llamamos *funciones que devuelven valor*. Otras funciones, como `imprimir_dos_veces`, realizan una acción pero no devuelven un valor. Se llaman *funciones vacías*.\n",
        "\n",
        "A veces,  a las funciones que devuelven valor se las llama simplemente *funciones* y  a las funciones nulas se las llama *procedimientos*.\n",
        "\n",
        "Cuando se llama a una función que devuelve valor, casi siempre se quiere hacer algo con el resultado; por ejemplo, se puede asignar a una variable o usarse como parte de una expresión. Por ejemplo,  si corremos la siguiente celda de código\n"
      ]
    },
    {
      "cell_type": "code",
      "execution_count": null,
      "metadata": {
        "id": "pIaR_659jcFR"
      },
      "outputs": [],
      "source": [
        "import math\n",
        "(math.sqrt(5) + 1) / 2\n",
        "pass"
      ]
    },
    {
      "cell_type": "markdown",
      "metadata": {
        "id": "WjHqZivIjcPR"
      },
      "source": [
        "La función `math.sqrt()` aplicada a `5` nos devuelve un valor y si ejecutamos la celda de código anterior imprimimos su valor sumado `1` y dividido por `2`. Pero  ese valor se pierde, no puede ser reutilizado y por lo tanto la instrucción no es muy útil. Pero  si escribimos y ejecutamos:"
      ]
    },
    {
      "cell_type": "code",
      "execution_count": null,
      "metadata": {
        "id": "BpsWnvjmjcZQ"
      },
      "outputs": [],
      "source": [
        "def num_aureo():\n",
        "    return (math.sqrt(5) + 1) / 2"
      ]
    },
    {
      "cell_type": "markdown",
      "metadata": {
        "id": "jtpKXNic2Fmi"
      },
      "source": [
        "entonces `num_aureo` puede ser reutilizado. Por ejemplo, podemos comprobar  que si $\\rho$ es el *número áureo*,  entonces $$\\rho^2 - \\frac{1}{\\rho} - 2 = 0$$"
      ]
    },
    {
      "cell_type": "code",
      "source": [
        "print(num_aureo())\n",
        "print(1 / num_aureo())"
      ],
      "metadata": {
        "colab": {
          "base_uri": "https://localhost:8080/"
        },
        "id": "OENFrwkDOkgZ",
        "outputId": "531c2f91-fc4f-4772-ffa9-19a052c2d9f4"
      },
      "execution_count": null,
      "outputs": [
        {
          "output_type": "stream",
          "name": "stdout",
          "text": [
            "1.618033988749895\n",
            "0.6180339887498948\n"
          ]
        }
      ]
    },
    {
      "cell_type": "code",
      "execution_count": null,
      "metadata": {
        "id": "APeM7lds2Fw7",
        "colab": {
          "base_uri": "https://localhost:8080/"
        },
        "outputId": "c57990cc-2222-4c0a-fa79-47f4d8eadb8b"
      },
      "outputs": [
        {
          "output_type": "execute_result",
          "data": {
            "text/plain": [
              "0.0"
            ]
          },
          "metadata": {},
          "execution_count": 31
        }
      ],
      "source": [
        "num_aureo()**2 - (1 / num_aureo()) - 2"
      ]
    },
    {
      "cell_type": "markdown",
      "metadata": {
        "id": "YTmKThM02F57"
      },
      "source": [
        "Las funciones nulas pueden mostrar algo en la pantalla o tener algún otro efecto, pero no tienen un valor de retorno. Si se asigna el resultado a una variable, obtiene un valor especial llamado `None`.\n"
      ]
    },
    {
      "cell_type": "code",
      "execution_count": null,
      "metadata": {
        "id": "m4-FBXDq2GCG",
        "colab": {
          "base_uri": "https://localhost:8080/"
        },
        "outputId": "fc70d768-95b7-4860-b0d1-ca0ee4194a1e"
      },
      "outputs": [
        {
          "output_type": "stream",
          "name": "stdout",
          "text": [
            "Bing\n",
            "Bing\n",
            "None\n"
          ]
        }
      ],
      "source": [
        "resultado = imprimir_dos_veces('Bing')\n",
        "print(resultado)"
      ]
    },
    {
      "cell_type": "markdown",
      "metadata": {
        "id": "qYvZS8Fb2GL3"
      },
      "source": [
        "El valor `None` no es el mismo que la cadena `'None'`. Es un valor especial que tiene su propio tipo:\n"
      ]
    },
    {
      "cell_type": "code",
      "execution_count": null,
      "metadata": {
        "id": "s3YLlg-t2GT-"
      },
      "outputs": [],
      "source": [
        "type(None) # ejecutar esta celda"
      ]
    },
    {
      "cell_type": "markdown",
      "metadata": {
        "id": "sAUVYNTT2GcI"
      },
      "source": [
        "Las funciones que hemos escrito hasta ahora en este cuaderno son todas nulas. Comenzaremos a escribir funciones que devuelven valor en la próxima sección."
      ]
    },
    {
      "cell_type": "markdown",
      "metadata": {
        "id": "xs4M1ZMf2dxH"
      },
      "source": [
        "## 11. Funciones que devuelven valor\n",
        "Muchas de las funciones de Python que hemos utilizado, como las funciones matemáticas, producen valores de retorno. Pero las funciones que hemos definido son todas nulas: tienen un efecto, como imprimir un valor, pero no tienen un valor de retorno. En esta sección veremos como escribir funciones que devuelven valor.\n",
        "\n",
        "Llamar a una función que devuelve un valor,  generalmente  asigna este valor a una variable o usamos el valor como parte de una expresión. Por ejemplo:\n",
        "```\n",
        "e = math.exp(1.0)\n",
        "altura = radio * math.sin(radianes)\n",
        "```\n",
        "\n",
        "Veamos ahora un ejemplo de una función que devuelve valor definida por nosotros. La función será  `area()`, que devuelve el área de un círculo con el radio dado:\n",
        "\n"
      ]
    },
    {
      "cell_type": "code",
      "execution_count": null,
      "metadata": {
        "id": "6Blq-wVZ2Gje"
      },
      "outputs": [],
      "source": [
        "def area(radio):\n",
        "    a = math.pi * radio ** 2\n",
        "    return a"
      ]
    },
    {
      "cell_type": "markdown",
      "metadata": {
        "id": "TWLvc0ok2Gsc"
      },
      "source": [
        "La expresión `return` significa: \"termine inmediatamente esta función y use la siguiente expresión como valor de retorno\". La expresión a continuación del `return` puede ser arbitrariamente complicada, por lo que podríamos haber escrito esta función de manera más concisa:\n"
      ]
    },
    {
      "cell_type": "code",
      "execution_count": null,
      "metadata": {
        "id": "jf3ZgOK22G1k"
      },
      "outputs": [],
      "source": [
        "def area(radio):\n",
        "    return math.pi * radio ** 2\n",
        "\n",
        "ar = area(4)\n",
        "print(area)\n",
        "print(ar)"
      ]
    },
    {
      "cell_type": "markdown",
      "metadata": {
        "id": "WygmyMQB2G94"
      },
      "source": [
        "Sin embargo, las variables temporales, como `a` en el ejemplo, pueden facilitar la comprensión de la definición de la función y también puede facilitar la depuración.\n",
        "\n",
        "Tan pronto como se ejecuta una instrucción de retorno o devolución,  es decir  `return`, la función termina sin ejecutar ninguna instrucción posterior. El código que aparece después o a posteriori de una instrucción `return` se llama *código muerto*. Por ejemplo, si ejecutamos\n"
      ]
    },
    {
      "cell_type": "code",
      "execution_count": null,
      "metadata": {
        "id": "h-Id9Rfk2HGk"
      },
      "outputs": [],
      "source": [
        "def area(radio):\n",
        "    a = math.pi * radio ** 2\n",
        "    return radio, a\n",
        "    b = 2 # código  muerto\n",
        "    return b # código muerto"
      ]
    },
    {
      "cell_type": "markdown",
      "metadata": {
        "id": "J2Lx9TFD2HPA"
      },
      "source": [
        "entonces `area(1)` nos devuelve un valor aproximado de $\\pi$:"
      ]
    },
    {
      "cell_type": "code",
      "execution_count": null,
      "metadata": {
        "id": "HY9dBok2lbWG"
      },
      "outputs": [],
      "source": [
        "r, a = area(2)\n",
        "print('radio:', r, 'area:', a)"
      ]
    },
    {
      "cell_type": "markdown",
      "metadata": {
        "id": "Nq91LAES4ObK"
      },
      "source": [
        "## 12. Ejemplo: conversión de formatos de grados\n",
        "\n",
        "Las coordenadas de los mapas se representaban tradicionalmente como grados, minutos y segundos (GMS), llamados  *grado sexagesimales*. Sin embargo, en los *sistemas de información geográfica* (SIG) que se utilizan en las computadoras, la latitud y la longitud se representan como números decimales conocidos como *grados decimales*. El formato de grados, minutos y segundos se sigue utilizando. A veces, hay que convertir entre ese formato y los grados decimales para realizar cálculos y elaborar informes.\n",
        "\n",
        "Escribiremos las funciones que imprimen la conversión de un sistema a otro.\n",
        "\n",
        "Primero convertiremos grados sexagesimales en  grados decimales y eso es muy sencillo cuando usamos grados positivos:"
      ]
    },
    {
      "cell_type": "code",
      "execution_count": null,
      "metadata": {
        "colab": {
          "base_uri": "https://localhost:8080/"
        },
        "id": "MQxMr3Uz4ObL",
        "outputId": "6b936f54-c486-44d8-e6e0-f6b502391243"
      },
      "outputs": [
        {
          "output_type": "stream",
          "name": "stdout",
          "text": [
            "33.906527777777775\n",
            "33.5\n",
            "33.00833333333333\n",
            "33.5\n",
            "33.50833333333333\n"
          ]
        }
      ],
      "source": [
        "def sexa_a_deci(grados: int , minutos: int , segundos: float) -> float:\n",
        "    # pre: 0 <= grados, 0 <= minutos < 60, 0 <= segundos < 60\n",
        "    # post: devuelve los grados sexagesimales en notación decimal\n",
        "    return grados + minutos / 60 + segundos / 3600\n",
        "\n",
        "print(sexa_a_deci(33, 54, 23.5))\n",
        "print(sexa_a_deci(33, 30, 0))\n",
        "print(sexa_a_deci(33, 0, 30))\n",
        "print(sexa_a_deci(33, 0, 1800))\n",
        "print(sexa_a_deci(33, 0.5, 1800))"
      ]
    },
    {
      "cell_type": "markdown",
      "metadata": {
        "id": "GOjcJYhy4ObL"
      },
      "source": [
        "El  cuerpo  de la función termina con `return` seguido  con  el valor que queremos obtener.\n",
        "\n",
        "Un poco más laboriosa es la conversión de grados decimales a sexagesimales:"
      ]
    },
    {
      "cell_type": "code",
      "execution_count": null,
      "metadata": {
        "colab": {
          "base_uri": "https://localhost:8080/"
        },
        "id": "HDQJuyDk4ObL",
        "outputId": "a1949ce9-f782-4358-8aaf-9b4018aa19f7"
      },
      "outputs": [
        {
          "output_type": "execute_result",
          "data": {
            "text/plain": [
              "(33, 54, 23.499999999990564)"
            ]
          },
          "metadata": {},
          "execution_count": 34
        }
      ],
      "source": [
        "import math\n",
        "\n",
        "def deci_a_sexa(pos: float) -> tuple:\n",
        "    # pre: pos son grados en notación decimal, pos >= 0\n",
        "    # post:  devuelve la conversión de pos a grados, minutos, segundos sexagesimales\n",
        "    grados = math.floor(pos)\n",
        "    minutos_segundos_10 = pos - grados\n",
        "    minutos = math.floor(minutos_segundos_10 * 60)\n",
        "    segundos_10 = minutos_segundos_10 * 60 - minutos\n",
        "    segundos = 60 * segundos_10\n",
        "    return grados, minutos, segundos\n",
        "\n",
        "deci_a_sexa(33.906527777777775)"
      ]
    },
    {
      "cell_type": "code",
      "execution_count": null,
      "metadata": {
        "id": "tcJHRCyeFsc3"
      },
      "outputs": [],
      "source": [
        "def deci_a_sexa(posicion: float) -> tuple:\n",
        "    # pre: pos son grados en notación decimal, pos >= 0\n",
        "    # post:  devuelve la conversión de pos a grados, minutos, segundos sexagesimales\n",
        "    grados = math.floor(posicion) # grados totales\n",
        "    segundos = (posicion - grados) * 3600 # estos son los segundos totales restados los grados\n",
        "    minutos = math.floor(segundos / 60) # estos son los minutos totales restados los grados\n",
        "    segundos = segundos - 60 * minutos # estos son los segundos totales restados los grados y minutos\n",
        "\n",
        "    return grados, minutos, segundos\n",
        "\n",
        "deci_a_sexa(33.906527777777775)"
      ]
    },
    {
      "cell_type": "markdown",
      "metadata": {
        "id": "MkKNfEKa4ObM"
      },
      "source": [
        "La función `math.floor()` trunca un número positivo a su parte entera.\n",
        "\n",
        "Las funciones `sexa_a_deci()` y  `deci_a_sexa()` deben considerarse funciones auxiliares que ayudarán a resolver el problema, un poco más complejo, de pasar de coordenadas terrestres sexagesimales a coordenadas terrestres decimales y viceversa. Eso lo podremos hacer usando condicionales."
      ]
    }
  ],
  "metadata": {
    "colab": {
      "provenance": []
    },
    "kernelspec": {
      "display_name": "Python 3 (ipykernel)",
      "language": "python",
      "name": "python3"
    },
    "language_info": {
      "codemirror_mode": {
        "name": "ipython",
        "version": 3
      },
      "file_extension": ".py",
      "mimetype": "text/x-python",
      "name": "python",
      "nbconvert_exporter": "python",
      "pygments_lexer": "ipython3",
      "version": "3.8.5"
    }
  },
  "nbformat": 4,
  "nbformat_minor": 0
}