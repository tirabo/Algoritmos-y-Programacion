{
  "nbformat": 4,
  "nbformat_minor": 0,
  "metadata": {
    "colab": {
      "name": "2021-05-19  Algoritmos y Programación tipos de datos.ipynb",
      "provenance": [],
      "collapsed_sections": [],
      "include_colab_link": true
    },
    "kernelspec": {
      "name": "python3",
      "display_name": "Python 3"
    },
    "language_info": {
      "name": "python"
    }
  },
  "cells": [
    {
      "cell_type": "markdown",
      "metadata": {
        "id": "view-in-github",
        "colab_type": "text"
      },
      "source": [
        "<a href=\"https://colab.research.google.com/github/tirabo/Algoritmos-y-Programacion/blob/main/Objetos_1_2021_05_19_Algoritmos_y_Programaci%C3%B3n_tipos_de_datos.ipynb\" target=\"_parent\"><img src=\"https://colab.research.google.com/assets/colab-badge.svg\" alt=\"Open In Colab\"/></a>"
      ]
    },
    {
      "cell_type": "markdown",
      "metadata": {
        "id": "iPv6OiFI7kTA"
      },
      "source": [
        "# Tipos abstractos de datos"
      ]
    },
    {
      "cell_type": "markdown",
      "metadata": {
        "id": "uSSdgOQM9fcS"
      },
      "source": [
        "Hemos visto ejemplos y ejercicios con muchas de las estructuras de datos usuales de los lenguajes de programación: enteros, reales, booleanos, strings, arreglos, tuplas, listas.\n",
        "\n",
        "Con estas estructuras de datos también es posible representar otras. Por ejemplo, hemos representado los naturales usando enteros y hemos representado las fechas utilizando ternas de enteros.\n",
        "\n",
        "De todas formas, no se obtiene el mismo grado de confianza en el funcionamiento de las operaciones sobre los tipos de datos nuestros que sobre los de Python: cuando representamos, por ejemplo, a las fechas como ternas de enteros, no hay ninguna garantía de que el programador los utilice apropiadamente: por error puede alterar el valor de uno de los elementos de la terna y transformar una fecha válida en una que no lo es.\n",
        "\n",
        "De la misma manera, cuando representamos a los naturales como enteros, puede ocurrir que por error modificamos el número y pasa a ser negativo.\n",
        "\n",
        "En nuestro auxilio surge la posibilidad que tienen la mayoría de los lenguajes de programación de definir apropiadamente un tipo nuevo, de manera de que el funcionamiento sea más confiable, entre muchas otras ventajas. La idea es definir un tipo nuevo y sus operaciones, de manera de que luego solamente se lo pueda manipular a través de dichas operaciones.\n",
        "\n",
        "En Python, definir un tipo nuevo es definir una clase."
      ]
    },
    {
      "cell_type": "code",
      "metadata": {
        "id": "DVXbjpkQ7myp"
      },
      "source": [
        "def es_bisiesto(anho: int) -> bool:\n",
        "    # pre: anho > 0\n",
        "    # post: devuelve True si anho  es divisible por 4 (NO corresponde siempre a un año bisiesto)\n",
        "    precondición = type(anho) == int and anho > 0\n",
        "    assert precondición, 'Error: anho debe ser un entero positivo.'\n",
        "\n",
        "    return anho % 4 == 0 and anho % 100 != 0 or anho % 400 == 0\n",
        "\n",
        "def es_fecha_valida(fecha: tuple) -> bool:\n",
        "    # pre: fecha es una terna de enteros positivos\n",
        "    # post: devuelve True sii la terna se corresponde con el día, mes y año de una fecha válida\n",
        "    precondición = type(fecha) == tuple and all(type(x) == int and x > 0 for x in fecha)\n",
        "    assert precondición, 'Error: fecha debe ser una terna de enteros positivos.'\n",
        "\n",
        "    dia, mes, anho = fecha\n",
        "\n",
        "    anho_ok = 1 <= anho\n",
        "    mes_ok = 1 <= mes <= 12\n",
        "    if mes in [4, 6, 9, 11]:\n",
        "        dia_ok = 1 <= dia <= 30\n",
        "    elif mes == 2:\n",
        "        dia_ok = 1 <= dia <= 28 or (dia == 29 and es_bisiesto(anho))\n",
        "    else:\n",
        "        dia_ok = 1 <= dia <= 31\n",
        "    \n",
        "    return dia_ok and mes_ok and anho_ok\n",
        "\n",
        "def bisiestos_hasta(anho: int) -> int:\n",
        "    # pre: anho es un año válido\n",
        "    # post: devuelve el número de años bisiestos pasados incluyendo anho, si es bisiesto\n",
        "    precondición = type(anho) == int and anho > 0\n",
        "    assert precondición, 'Error: anho debe ser un entero positivo.'\n",
        "\n",
        "    bisiestos_anteriores = anho // 4 - anho // 100 + anho // 400\n",
        "    return bisiestos_anteriores\n",
        "\n",
        "def dias_del_anho_actual(fecha: tuple) -> int:\n",
        "    # pre: fecha es una fecha válida\n",
        "    # post: devuelve el número de días transcurridos en el corriente año, contando el actual\n",
        "    precondición = es_fecha_valida(fecha)\n",
        "    assert precondición, 'Error: fecha debe ser una fecha válida.'\n",
        "\n",
        "    # [días antes de enero, días antes de febrero, etc.] de un año no bisiesto\n",
        "    DIAS_MESES_ANTERIORES = [0, 31, 59, 90, 120, 151, 181, 212, 243, 273, 304, 334]\n",
        "    dia, mes, anho = fecha\n",
        "\n",
        "    dias = dia + DIAS_MESES_ANTERIORES[mes-1]\n",
        "    # si el año es bisiesto y la fecha es después de febrero, pasó un día más\n",
        "    if es_bisiesto(anho) and mes > 2:\n",
        "        dias = dias + 1\n",
        "    return dias\n",
        "\n",
        "def dias_de_la_era(fecha: tuple) -> int:\n",
        "    # pre: fecha es una fecha válida\n",
        "    # post: devuelve el número de días desde el 1/1/1 (asumiendo siempre Gregoriano) hasta la fecha, contando ambos extremos\n",
        "    precondición = es_fecha_valida(fecha)\n",
        "    assert precondición, 'Error: fecha debe ser una fecha válida.'\n",
        "\n",
        "    dia, mes, anho = fecha\n",
        "\n",
        "    nro_de_dias = (anho - 1) * 365 + bisiestos_hasta(anho-1) + dias_del_anho_actual(fecha)\n",
        "    return nro_de_dias\n",
        "\n",
        "def dia_de_la_semana(fecha: tuple) -> str:\n",
        "    # pre: fecha es una fecha válida\n",
        "    # post: devuelve el día de la semana en que cae la fecha dada\n",
        "    precondición = es_fecha_valida(fecha)\n",
        "    assert precondición, 'Error: fecha debe ser una fecha válida.'\n",
        "\n",
        "    DIAS_DE_LA_SEMANA = ['domingo', 'lunes', 'martes', 'miércoles', 'jueves', 'viernes', 'sábado']\n",
        "    return DIAS_DE_LA_SEMANA[dias_de_la_era(fecha) % 7]\n",
        "\n",
        "def ingresar_fecha() -> tuple:\n",
        "    # post: devuelve la primera terna de enteros positivos ingresada con formato día/mes/año\n",
        "\n",
        "    esperando_fecha = True\n",
        "    while esperando_fecha:\n",
        "        cadena_ingresada = input('Ingrese fecha con formato día/mes/año: ')\n",
        "        cadena_sin_espacios = ''.join(cadena_ingresada.split())\n",
        "        cadenas_fecha = cadena_sin_espacios.split('/')\n",
        "        if len(cadenas_fecha) == 3 and all(cadena.isdecimal() for cadena in cadenas_fecha):\n",
        "            terna = [int(cadena) for cadena in cadenas_fecha]\n",
        "            esperando_fecha = False\n",
        "        else:\n",
        "            print('Error: debe ingresar una fecha con formato día/mes/año, donde día, mes y año deben ser números enteros positivos. Inténtelo nuevamente.')\n",
        "    return terna\n",
        "\n",
        "def ingresar_fecha_valida() -> tuple:\n",
        "    fecha = ingresar_fecha()\n",
        "    while not es_fecha_valida(fecha):\n",
        "        print('Error: debe ingresar una fecha válida. Inténtelo nuevamente.')\n",
        "        fecha = ingresar_fecha()\n",
        "    return fecha\n"
      ],
      "execution_count": null,
      "outputs": []
    },
    {
      "cell_type": "markdown",
      "metadata": {
        "id": "axBChZPvP-SV"
      },
      "source": [
        "Comencemos con la definición de la clase. Definir una **clase**, es similar a definir un **tipo**. Estamos diciendo qué características tendrán todos los **elementos** de dicho **tipo**.\n",
        "\n",
        "En términos de lenguajes orientados a objetos, estamos diciendo qué características tendrán todos los **objetos** de dicha **clase**.\n",
        "\n",
        "A cada objeto de la clase se le llama **instancia** de la clase.\n",
        "\n",
        "Los ingredientes más importantes de la definición de una clase son\n",
        "\n",
        "*   sus **atributos**, también llamados **campos** (fields) o **variables de instancias** (instance variables)\n",
        "*   sus **métodos**, también llamados **métodos de instancias** (instance methods).\n",
        "\n",
        "Los primeros son los datos que utilizamos para representar el estado de un objeto. Los segundos son las funciones que se utilizan para acceder a los datos y modificarlos."
      ]
    },
    {
      "cell_type": "code",
      "metadata": {
        "id": "zXE1ETWcPKLK"
      },
      "source": [
        "class Fecha:                                              # nombre de la clase\n",
        "    def __init__(self, dma : tuple):                      # método inicializador\n",
        "        self.terna = dma                                  # terna es un atributo"
      ],
      "execution_count": null,
      "outputs": []
    },
    {
      "cell_type": "code",
      "metadata": {
        "id": "xrfz6b9MPjLy"
      },
      "source": [
        "t = (19, 5, 2021)\n",
        "fecha = Fecha(t)                                          # Fecha() es el constructor\n",
        "print(fecha.terna)\n",
        "print(fecha)"
      ],
      "execution_count": null,
      "outputs": []
    },
    {
      "cell_type": "markdown",
      "metadata": {
        "id": "uKh4Oc_4QXW0"
      },
      "source": [
        "Notemos que el método `__init__()` se invoca implícitamente cuando escribimos `Fecha()`.\n",
        "\n",
        "Spoiler: una de las características que deseamos es que no se conozca la representación de las fechas.\n"
      ]
    },
    {
      "cell_type": "code",
      "metadata": {
        "id": "rHrygSY4QphU"
      },
      "source": [
        "class Fecha:\n",
        "    def __init__(self, dma):\n",
        "        self.__terna = dma"
      ],
      "execution_count": null,
      "outputs": []
    },
    {
      "cell_type": "code",
      "metadata": {
        "id": "6eSrVeBORAZX"
      },
      "source": [
        "fecha = Fecha((19,5,2021))\n",
        "print(fecha.__terna)"
      ],
      "execution_count": null,
      "outputs": []
    },
    {
      "cell_type": "markdown",
      "metadata": {
        "id": "weKrRIAwRU2Q"
      },
      "source": [
        "Parece muy inútil un tipo nuevo del que no podemos obtener ninguna información:"
      ]
    },
    {
      "cell_type": "code",
      "metadata": {
        "id": "DNmAibVfRTZG"
      },
      "source": [
        "class Fecha:\n",
        "    def __init__(self, dma):\n",
        "        self.__terna = dma\n",
        "    def terna(self):\n",
        "        return self.__terna"
      ],
      "execution_count": null,
      "outputs": []
    },
    {
      "cell_type": "code",
      "metadata": {
        "id": "oORSK-kaRiZk"
      },
      "source": [
        "fecha = Fecha((19,5,2021))\n",
        "print(fecha.terna())"
      ],
      "execution_count": null,
      "outputs": []
    },
    {
      "cell_type": "markdown",
      "metadata": {
        "id": "_jpnuJuCSGVw"
      },
      "source": [
        "Entonces, ¿para qué tanto lío?\n",
        "\n",
        "De esta manera no se revela la representación interna. Puede haber otra representación interna, por el motivo que fuera. Pero siempre se debe definir adecuadamente el método `terna()`.\n",
        "\n",
        "Por ejemplo, puedo querer representar con una terna en orden amd:"
      ]
    },
    {
      "cell_type": "code",
      "metadata": {
        "id": "8ro5la9ISuGf"
      },
      "source": [
        "class Fecha:\n",
        "    def __init__(self, dma):\n",
        "        self.__terna = (dma[2], dma[1], dma[0])\n",
        "    def terna(self):\n",
        "        return self.__terna"
      ],
      "execution_count": null,
      "outputs": []
    },
    {
      "cell_type": "code",
      "metadata": {
        "id": "4Qjpg5f8S2U8"
      },
      "source": [
        "fecha = Fecha((19,5,2021))\n",
        "print(fecha.terna())"
      ],
      "execution_count": null,
      "outputs": []
    },
    {
      "cell_type": "markdown",
      "metadata": {
        "id": "4UEsGMjqTNBx"
      },
      "source": [
        "Claramente deberíamos volver a darlo vuelta para que el método `terna()` devuelva lo mismo independientemente de la representación."
      ]
    },
    {
      "cell_type": "code",
      "metadata": {
        "id": "6Inwbz_ATJDO"
      },
      "source": [
        "class Fecha:\n",
        "    def __init__(self, dma):\n",
        "        self.__terna = (dma[2], dma[1], dma[0])\n",
        "    def terna(self):\n",
        "        return (self.__terna[2], self.__terna[1], self.__terna[0])"
      ],
      "execution_count": null,
      "outputs": []
    },
    {
      "cell_type": "code",
      "metadata": {
        "id": "c0X6HHeeTbYN"
      },
      "source": [
        "fecha = Fecha((19,5,2021))\n",
        "print(fecha.terna())"
      ],
      "execution_count": null,
      "outputs": []
    },
    {
      "cell_type": "markdown",
      "metadata": {
        "id": "xOrOFJI7Tcx4"
      },
      "source": [
        "Esto nos lleva a reconsiderar el nombre del método, sería mejor llamarle `dma()` y no `terna()`"
      ]
    },
    {
      "cell_type": "code",
      "metadata": {
        "id": "qXMR4arPTs4Y"
      },
      "source": [
        "class Fecha:\n",
        "    def __init__(self, x):\n",
        "        self.__terna = x\n",
        "    def dma(self):\n",
        "        return self.__terna\n",
        "    def amd(self):\n",
        "        return (self.__terna[2], self.__terna[1], self.__terna[0])"
      ],
      "execution_count": null,
      "outputs": []
    },
    {
      "cell_type": "code",
      "metadata": {
        "id": "35zwH-QUT_pc"
      },
      "source": [
        "fecha = Fecha((19,5,2021))\n",
        "print(fecha.dma())\n",
        "print(fecha.amd())"
      ],
      "execution_count": null,
      "outputs": []
    },
    {
      "cell_type": "markdown",
      "metadata": {
        "id": "wICpbdKBWhkB"
      },
      "source": [
        "Podríamos permitir que al crear una fecha, se la pueda omitir, adoptando un valor por defecto:"
      ]
    },
    {
      "cell_type": "code",
      "metadata": {
        "id": "ZjhsnjFVWskl"
      },
      "source": [
        "class Fecha:\n",
        "    def __init__(self, dma = (1,1,1)):\n",
        "        self.__terna = dma\n",
        "    def dma(self):\n",
        "        return self.__terna\n",
        "    def amd(self):\n",
        "        return (self.__terna[2], self.__terna[1], self.__terna[0])"
      ],
      "execution_count": null,
      "outputs": []
    },
    {
      "cell_type": "code",
      "metadata": {
        "id": "L3ayGizYW1ZU"
      },
      "source": [
        "fecha = Fecha((19,5,2021))\n",
        "print(fecha.dma())\n",
        "print(fecha.amd())\n",
        "fecha = Fecha()\n",
        "print(fecha.dma())\n",
        "print(fecha.amd())"
      ],
      "execution_count": null,
      "outputs": []
    },
    {
      "cell_type": "markdown",
      "metadata": {
        "id": "GGiO7pIKUQ2L"
      },
      "source": [
        "Aunque en realidad sería más interesante que como valor por defecto tome la fecha actual. Más adelante veremos cómo hacerlo.\n",
        "\n",
        "También podríamos agregarle robustez a nuestra definición. Que cuando tengamos un objeto Fecha, sea una fecha válida:"
      ]
    },
    {
      "cell_type": "code",
      "metadata": {
        "id": "OtyRvW2RUf56"
      },
      "source": [
        "class Fecha:\n",
        "    def __init__(self, dma):\n",
        "        assert es_fecha_valida(dma), 'Error: intento de crear una fecha no válida.'\n",
        "        self.__terna = dma\n",
        "    def dma(self):\n",
        "        return self.__terna\n",
        "    def amd(self):\n",
        "        return (self.__terna[2], self.__terna[1], self.__terna[0])"
      ],
      "execution_count": null,
      "outputs": []
    },
    {
      "cell_type": "code",
      "metadata": {
        "id": "1NNQPZ3rUoUN"
      },
      "source": [
        "fecha = Fecha((19,5,2021))\n",
        "print(fecha.dma())\n",
        "print(fecha.amd())"
      ],
      "execution_count": null,
      "outputs": []
    },
    {
      "cell_type": "code",
      "metadata": {
        "id": "qDyVd3SfU5x2"
      },
      "source": [
        "fecha = Fecha((39,5,2021))\n",
        "print(fecha.dma())\n",
        "print(fecha.amd())"
      ],
      "execution_count": null,
      "outputs": []
    },
    {
      "cell_type": "markdown",
      "metadata": {
        "id": "lSYQzGAvVAys"
      },
      "source": [
        "Incorporemos algunos métodos sencillos: para conocer el día, el mes, el año, el siglo:"
      ]
    },
    {
      "cell_type": "code",
      "metadata": {
        "id": "IPswiwDzVVTG"
      },
      "source": [
        "class Fecha:\n",
        "    def __init__(self, dma):\n",
        "        assert type(dma) == tuple and all(type(z) == int for z in dma) and es_fecha_valida(dma), 'Error: intento de crear una fecha no válida.'\n",
        "        self.__terna = dma\n",
        "    def dma(self):\n",
        "        return self.__terna\n",
        "    def amd(self):\n",
        "        return (self.__terna[2], self.__terna[1], self.__terna[0])\n",
        "    def dia(self):\n",
        "        return self.__terna[0]\n",
        "    def mes(self):\n",
        "        return self.__terna[1]\n",
        "    def anho(self):\n",
        "        return self.__terna[2]\n",
        "    def siglo(self):\n",
        "        return self.anho() // 100 + 1"
      ],
      "execution_count": null,
      "outputs": []
    },
    {
      "cell_type": "code",
      "metadata": {
        "id": "fspfDRCNbbYl"
      },
      "source": [
        "fecha = Fecha([19,5,2021])\n",
        "print(fecha.dma())\n",
        "print(fecha.amd())\n",
        "print(fecha.dia())\n",
        "print(fecha.mes())\n",
        "print(fecha.anho())\n",
        "print(fecha.siglo())"
      ],
      "execution_count": null,
      "outputs": []
    },
    {
      "cell_type": "markdown",
      "metadata": {
        "id": "6Zj9e5QSXj56"
      },
      "source": [
        "Podríamos agregar funciones para ver el día como día de la semana, el mes en letras, etc.\n",
        "\n",
        "A estos métodos se les suele llamar 'getters', permiten al programador acceder a datos, no necesariamente su representación.\n",
        "\n",
        "Existen también 'setters', son métodos que se utilizan para modificar datos del objeto, por ejemplo, un atributo.\n",
        "\n",
        "En este caso, el objeto que definimos es inmutable, por lo que no tenemos manera de modificar sus datos:"
      ]
    },
    {
      "cell_type": "code",
      "metadata": {
        "id": "2dwkpAfLcELJ"
      },
      "source": [
        "class Fecha:\n",
        "    def __init__(self, dma):\n",
        "        assert es_fecha_valida(dma), 'Error: intento de crear una fecha no válida.'\n",
        "        self.__terna = dma\n",
        "    def dma(self):\n",
        "        return self.__terna\n",
        "    def amd(self):\n",
        "        return (self.__terna[2], self.__terna[1], self.__terna[0])\n",
        "    def dia(self):\n",
        "        return self.__terna[0]\n",
        "    def mes(self):\n",
        "        return self.__terna[1]\n",
        "    def anho(self):\n",
        "        return self.__terna[2]\n",
        "    def siglo(self):\n",
        "        return self.__terna[2] // 100 + 1\n",
        "    def establecer_anho(self, anho):\n",
        "        assert type(anho) == int and anho > 0, 'Error: intento de establecer un anho no válido'\n",
        "        self.__terna[2] = anho"
      ],
      "execution_count": null,
      "outputs": []
    },
    {
      "cell_type": "code",
      "metadata": {
        "id": "agnhmOF8cfjX"
      },
      "source": [
        "fecha = Fecha((19,5,2021))\n",
        "fecha.establecer_anho(2000)\n",
        "print(fecha.dma())\n",
        "print(fecha.amd())\n",
        "print(fecha.dia())\n",
        "print(fecha.mes())\n",
        "print(fecha.anho())\n",
        "print(fecha.siglo())\n"
      ],
      "execution_count": null,
      "outputs": []
    },
    {
      "cell_type": "markdown",
      "metadata": {
        "id": "2O6cFC2pc9QC"
      },
      "source": [
        "Dos posibilidades:\n",
        "\n",
        "1.   que el método establecer devuelva otro objeto de la clase Fecha\n",
        "2.   definir la clase Fecha como una clase de objetos mutables\n"
      ]
    },
    {
      "cell_type": "markdown",
      "metadata": {
        "id": "usGJ8AFYeJ4K"
      },
      "source": [
        "## Que devuelva otro objeto"
      ]
    },
    {
      "cell_type": "code",
      "metadata": {
        "id": "ahTPn3YYdq-r"
      },
      "source": [
        "class Fecha:\n",
        "    def __init__(self, dma):\n",
        "        assert es_fecha_valida(dma), 'Error: intento de crear una fecha no válida.'\n",
        "        self.__terna = dma\n",
        "    def dma(self):\n",
        "        return self.__terna\n",
        "    def amd(self):\n",
        "        return (self.__terna[2], self.__terna[1], self.__terna[0])\n",
        "    def dia(self):\n",
        "        return self.__terna[0]\n",
        "    def mes(self):\n",
        "        return self.__terna[1]\n",
        "    def anho(self):\n",
        "        return self.__terna[2]\n",
        "    def siglo(self):\n",
        "        return self.__terna[2] // 100 + 1\n",
        "    def establecer_anho(self, anho):\n",
        "        assert type(anho) == int and anho > 0, 'Error: intento de establecer un anho no válido'\n",
        "        return Fecha((self.__terna[0], self.__terna[1], anho))"
      ],
      "execution_count": null,
      "outputs": []
    },
    {
      "cell_type": "code",
      "metadata": {
        "id": "08_4kgF_d8xd"
      },
      "source": [
        "fecha = Fecha((19,5,2021))\n",
        "fecha2 = fecha.establecer_anho(2000)\n",
        "print(fecha.dma())\n",
        "print(fecha.amd())\n",
        "print(fecha.dia())\n",
        "print(fecha.mes())\n",
        "print(fecha.anho())\n",
        "print(fecha.siglo())\n",
        "print(fecha2.dma())\n",
        "print(fecha2.amd())\n",
        "print(fecha2.dia())\n",
        "print(fecha2.mes())\n",
        "print(fecha2.anho())\n",
        "print(fecha2.siglo())\n"
      ],
      "execution_count": null,
      "outputs": []
    },
    {
      "cell_type": "markdown",
      "metadata": {
        "id": "WB0Y9AaseNjq"
      },
      "source": [
        "## Que sea mutable"
      ]
    },
    {
      "cell_type": "code",
      "metadata": {
        "id": "3OEGSN15eTXz"
      },
      "source": [
        "class Fecha:\n",
        "    def __init__(self, dma):\n",
        "        assert es_fecha_valida(dma), 'Error: intento de crear una fecha no válida.'\n",
        "        self.__terna = list(dma)\n",
        "    def dma(self):\n",
        "        return tuple(self.__terna)\n",
        "    def amd(self):\n",
        "        return (self.__terna[2], self.__terna[1], self.__terna[0])\n",
        "    def dia(self):\n",
        "        return self.__terna[0]\n",
        "    def mes(self):\n",
        "        return self.__terna[1]\n",
        "    def anho(self):\n",
        "        return self.__terna[2]\n",
        "    def siglo(self):\n",
        "        return self.__terna[2] // 100 + 1\n",
        "    def establecer_anho(self, anho):\n",
        "        assert type(anho) == int and anho > 0, 'Error: intento de establecer un anho no válido'\n",
        "        self.__terna[2] = anho"
      ],
      "execution_count": null,
      "outputs": []
    },
    {
      "cell_type": "code",
      "metadata": {
        "id": "5OJUYoE5ejA-"
      },
      "source": [
        "fecha = Fecha((19,5,2021))\n",
        "fecha.establecer_anho(2000)\n",
        "print(fecha.dma())\n",
        "print(fecha.amd())\n",
        "print(fecha.dia())\n",
        "print(fecha.mes())\n",
        "print(fecha.anho())\n",
        "print(fecha.siglo())\n"
      ],
      "execution_count": null,
      "outputs": []
    },
    {
      "cell_type": "markdown",
      "metadata": {
        "id": "ZRqrLNP4ev7H"
      },
      "source": [
        "¿Por qué escribió la lista en la primera línea? ¿Acaso estamos exhibiendo la representación interna?"
      ]
    },
    {
      "cell_type": "code",
      "metadata": {
        "id": "c1lgxsfTwdXv"
      },
      "source": [
        "t = (19, 5, 2021)\n",
        "print(t)\n",
        "lt = list(t)\n",
        "print(lt)"
      ],
      "execution_count": null,
      "outputs": []
    },
    {
      "cell_type": "markdown",
      "metadata": {
        "id": "NL38574YxmNu"
      },
      "source": [
        "¿No puede la clase Fecha ser mutable a pesar de haberse elegido tuplas (que son inmutables) para la representacion?"
      ]
    },
    {
      "cell_type": "code",
      "metadata": {
        "id": "swRjuifcxlVe"
      },
      "source": [
        "class Fecha:\n",
        "    def __init__(self, dma):\n",
        "        assert es_fecha_valida(dma), 'Error: intento de crear una fecha no válida.'\n",
        "        self.__terna = dma\n",
        "    def dma(self):\n",
        "        return self.__terna\n",
        "    def amd(self):\n",
        "        return (self.__terna[2], self.__terna[1], self.__terna[0])\n",
        "    def dia(self):\n",
        "        return self.__terna[0]\n",
        "    def mes(self):\n",
        "        return self.__terna[1]\n",
        "    def anho(self):\n",
        "        return self.__terna[2]\n",
        "    def siglo(self):\n",
        "        return self.__terna[2] // 100 + 1\n",
        "    def establecer_anho(self, anho):\n",
        "        assert type(anho) == int and anho > 0, 'Error: intento de establecer un anho no válido'\n",
        "        self.__terna = (self.__terna[0], self.__terna[1], anho)"
      ],
      "execution_count": null,
      "outputs": []
    },
    {
      "cell_type": "code",
      "metadata": {
        "id": "xYJGl8U9x_sM"
      },
      "source": [
        "fecha = Fecha((19,5,2021))\n",
        "fecha.establecer_anho(2000)\n",
        "print(fecha.dma())\n",
        "print(fecha.amd())\n",
        "print(fecha.dia())\n",
        "print(fecha.mes())\n",
        "print(fecha.anho())\n",
        "print(fecha.siglo())\n"
      ],
      "execution_count": null,
      "outputs": []
    },
    {
      "cell_type": "markdown",
      "metadata": {
        "id": "9lVARPLq5dfs"
      },
      "source": [
        "Si aceptamos que un objeto pueda ser construido con una lista, debe tomarse el recaudo de generar una nueva lista como representación interna (en caso de optarse por lista como representación interna), para evitar que desde afuera del objeto pueda modificarse la representación interna al modificar la lista que se usó para construir el objeto."
      ]
    },
    {
      "cell_type": "code",
      "metadata": {
        "id": "RUqTzrz_yb85"
      },
      "source": [
        "class Fecha:\n",
        "    def __init__(self, dma):\n",
        "        assert type(dma) == list and all(type(z) == int for z in dma), 'Error: el argumento debe ser una lista de enteros'\n",
        "        self.__terna = dma\n",
        "    def dma(self):\n",
        "        return self.__terna\n",
        "    def amd(self):\n",
        "        return [self.__terna[2], self.__terna[1], self.__terna[0]]\n",
        "    def dia(self):\n",
        "        return self.__terna[0]\n",
        "    def mes(self):\n",
        "        return self.__terna[1]\n",
        "    def anho(self):\n",
        "        return self.__terna[2]\n",
        "    def siglo(self):\n",
        "        return self.__terna[2] // 100 + 1\n",
        "    def establecer_anho(self, anho):\n",
        "        assert type(anho) == int and anho > 0, 'Error: intento de establecer un anho no válido'\n",
        "        self.__terna[2] = anho"
      ],
      "execution_count": null,
      "outputs": []
    },
    {
      "cell_type": "code",
      "metadata": {
        "id": "ZvlzbYyIyoIR"
      },
      "source": [
        "lista = [19, 5, 2021]\n",
        "fecha = Fecha(lista)\n",
        "print(fecha.dma())\n",
        "print(fecha.amd())\n",
        "lista[2] = 2000\n",
        "print(fecha.dma())\n",
        "print(fecha.amd())\n"
      ],
      "execution_count": null,
      "outputs": []
    },
    {
      "cell_type": "markdown",
      "metadata": {
        "id": "1gEEn5056Dzb"
      },
      "source": [
        "Como vemos, al modificar la lista se modificó el objeto. Esto implica un acceso \"escandaloso\" a la representación interna: se la modificó sin apelar a ninguno de los métodos del objeto.\n",
        "\n",
        "Se solucionando generando una copia de la lista en el constructor."
      ]
    },
    {
      "cell_type": "code",
      "metadata": {
        "id": "7aRnNQ7D6DJ8"
      },
      "source": [
        "class Fecha:\n",
        "    def __init__(self, dma):\n",
        "        assert type(dma) == list and all(type(z) == int for z in dma), 'Error: el argumento debe ser una lista de enteros'\n",
        "        self.__terna = dma[:]\n",
        "    def dma(self):\n",
        "        return self.__terna\n",
        "    def amd(self):\n",
        "        return [self.__terna[2], self.__terna[1], self.__terna[0]]\n",
        "    def dia(self):\n",
        "        return self.__terna[0]\n",
        "    def mes(self):\n",
        "        return self.__terna[1]\n",
        "    def anho(self):\n",
        "        return self.__terna[2]\n",
        "    def siglo(self):\n",
        "        return self.__terna[2] // 100 + 1\n",
        "    def establecer_anho(self, anho):\n",
        "        assert type(anho) == int and anho > 0, 'Error: intento de establecer un anho no válido'\n",
        "        self.__terna[2] = anho"
      ],
      "execution_count": null,
      "outputs": []
    },
    {
      "cell_type": "code",
      "metadata": {
        "id": "BpMIVPib6hrG"
      },
      "source": [
        "lista = [19, 5, 2021]\n",
        "fecha = Fecha(lista)\n",
        "print(fecha.dma())\n",
        "print(fecha.amd())\n",
        "lista[2] = 2000\n",
        "print(fecha.dma())\n",
        "print(fecha.amd())\n",
        "fecha.establecer_anho(2000)\n",
        "print(fecha.dma())\n",
        "print(fecha.amd())\n"
      ],
      "execution_count": null,
      "outputs": []
    }
  ]
}