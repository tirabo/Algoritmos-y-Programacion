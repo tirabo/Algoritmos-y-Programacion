{
  "nbformat": 4,
  "nbformat_minor": 0,
  "metadata": {
    "colab": {
      "name": "Clase práctica 03-11-21.ipynb",
      "provenance": [],
      "authorship_tag": "ABX9TyOJ+miEy7R4RZ2rRU1rv3/5",
      "include_colab_link": true
    },
    "kernelspec": {
      "name": "python3",
      "display_name": "Python 3"
    },
    "language_info": {
      "name": "python"
    }
  },
  "cells": [
    {
      "cell_type": "markdown",
      "metadata": {
        "id": "view-in-github",
        "colab_type": "text"
      },
      "source": [
        "<a href=\"https://colab.research.google.com/github/tirabo/Algoritmos-y-Programacion/blob/main/Clases_y_objetos_Clase_pr%C3%A1ctica_03_11_21.ipynb\" target=\"_parent\"><img src=\"https://colab.research.google.com/assets/colab-badge.svg\" alt=\"Open In Colab\"/></a>"
      ]
    },
    {
      "cell_type": "markdown",
      "metadata": {
        "id": "8L6Rn79DPQgi"
      },
      "source": [
        "## Clases\n",
        "\n",
        "Una clase permite trabajar con un conjunto de objetos que comparten características. \n",
        "\n",
        "**Ejemplo. Círculos.** Ejemplifiquemos clases con  el ejemplo de  la  página 217 de Liang. \n",
        "\n"
      ]
    },
    {
      "cell_type": "code",
      "metadata": {
        "id": "udM4WQoKP5u4"
      },
      "source": [
        "import math\n",
        "class Circle:\n",
        "# Construct a circle object\n",
        "    def __init__(self, radius = 1):\n",
        "        self.__radius = radius\n",
        "    def getRadius(self):\n",
        "        return self.__radius\n",
        "    def getPerimeter(self):\n",
        "        return 2 * self.__radius * math.pi\n",
        "    def getArea(self):\n",
        "        return self.__radius * self.__radius * math.pi\n",
        "    def setRadius(self, radius):\n",
        "        self.__radius = radius"
      ],
      "execution_count": null,
      "outputs": []
    },
    {
      "cell_type": "markdown",
      "metadata": {
        "id": "tGFG2im4QD96"
      },
      "source": [
        "Cada clase comienza con una definición `def __init__()` que crea el objeto cuando se invoca la clase.  En  el `__init__` se determinan los estados iniciales del objeto.\n",
        "\n",
        "Cadá método debe ser tipo `def metodo(self, ... otros parámetros ...):`\n",
        "\n",
        "Por ejemplo"
      ]
    },
    {
      "cell_type": "code",
      "metadata": {
        "colab": {
          "base_uri": "https://localhost:8080/"
        },
        "id": "r3kcSLBfQcW-",
        "outputId": "dfc449ed-82dc-482a-ce3a-c6a5bfef641c"
      },
      "source": [
        "s = Circle(5)\n",
        "print(s)\n",
        "print(s.getRadius())\n",
        "print(s.getPerimeter())\n",
        "print(s.getArea())\n",
        "s.setRadius(3)\n",
        "print(s.getRadius())"
      ],
      "execution_count": null,
      "outputs": [
        {
          "output_type": "stream",
          "name": "stdout",
          "text": [
            "<__main__.Circle object at 0x7f3ca7b03e10>\n",
            "5\n",
            "31.41592653589793\n",
            "78.53981633974483\n",
            "3\n"
          ]
        }
      ]
    },
    {
      "cell_type": "markdown",
      "metadata": {
        "id": "4MCFgeVOUDc8"
      },
      "source": [
        "\n",
        "**Ejemplo. Rectángulos.** "
      ]
    },
    {
      "cell_type": "code",
      "metadata": {
        "id": "A7Hm6u9vUOwj"
      },
      "source": [
        "class Rectangulo:\n",
        "# Construct a circle object\n",
        "    def __init__(self, ancho = 1, alto = 1):\n",
        "        self.__ancho = ancho\n",
        "        self.__alto = alto\n",
        "    def get_alto(self):\n",
        "        return self.__alto\n",
        "    def get_ancho(self):\n",
        "        return self.__ancho\n",
        "    def get_lados(self):\n",
        "        return (self.__alto, self.__ancho)\n",
        "    def get_perimetro(self):\n",
        "        return 2 * self.__alto + 2 * self.__ancho\n",
        "    def get_area(self):\n",
        "        return self.__alto * self.__ancho \n",
        "    def set_alto(self, alto):\n",
        "        self.__alto = alto\n",
        "    def set_ancho(self, ancho):\n",
        "        self.__ancho = ancho"
      ],
      "execution_count": null,
      "outputs": []
    },
    {
      "cell_type": "code",
      "metadata": {
        "colab": {
          "base_uri": "https://localhost:8080/"
        },
        "id": "WZSiFAsDVdT7",
        "outputId": "9a5724f0-bf83-434d-fc2f-6c3c5730367f"
      },
      "source": [
        "s = Rectangulo(5, 3)\n",
        "print(s.get_lados())\n",
        "print(s.get_perimetro())\n",
        "print(s.get_area())"
      ],
      "execution_count": null,
      "outputs": [
        {
          "output_type": "stream",
          "name": "stdout",
          "text": [
            "(3, 5)\n",
            "16\n",
            "15\n"
          ]
        }
      ]
    },
    {
      "cell_type": "markdown",
      "metadata": {
        "id": "lo41MOE6V7Sc"
      },
      "source": [
        "**Ejemplo. Clase Personas.** Definamos una clase que sirva para almacenar datos de personas."
      ]
    },
    {
      "cell_type": "code",
      "metadata": {
        "id": "0R-AZeBEV6Nc"
      },
      "source": [
        "class Persona:\n",
        "# Construct a circle object\n",
        "    def __init__(self, dni = ''):\n",
        "        self.__dni = dni\n",
        "        self.__nombres = ''\n",
        "        self.__apellidos = ''\n",
        "        self.__celular = ''\n",
        "        self.__nac = ''\n",
        "    def dni(self):\n",
        "        return self.__dni\n",
        "    def nombres(self):\n",
        "        return self.__nombres\n",
        "    def nombre_completo(self):\n",
        "        return self.__nombres + ' ' + self.__apellidos\n",
        "    def set_nombres(self, nombres):\n",
        "        self.__nombres = nombres\n",
        "    def set_apellidos(self, apellidos):\n",
        "        self.__apellidos = apellidos\n",
        "    \n",
        "    def __str__(self):\n",
        "        return self.__nombres +' '+ self.__apellidos +' (DNI: ' + self.__dni + ')'"
      ],
      "execution_count": null,
      "outputs": []
    },
    {
      "cell_type": "code",
      "metadata": {
        "colab": {
          "base_uri": "https://localhost:8080/"
        },
        "id": "1jhDfwX0YLo4",
        "outputId": "fba3c01e-685e-4f0d-8561-cec33b927550"
      },
      "source": [
        "pedro = Persona('38678543')\n",
        "pedro.set_nombres('Pedro Luis')\n",
        "pedro.set_apellidos('Ramirez')\n",
        "print(pedro.nombres())\n",
        "print(pedro.nombre_completo())\n",
        "print(pedro)"
      ],
      "execution_count": null,
      "outputs": [
        {
          "output_type": "stream",
          "name": "stdout",
          "text": [
            "Pedro Luis\n",
            "Pedro Luis Ramirez\n",
            "Pedro Luis Ramirez (DNI: 38678543)\n"
          ]
        }
      ]
    },
    {
      "cell_type": "markdown",
      "metadata": {
        "id": "BrFPEdbZNndL"
      },
      "source": [
        "**Práctico 8. Ejercicio 1.** El tipo contador se define por lo que sabemos de él: sus cuatro\n",
        "operaciones\n",
        "- `Contador()` crea un contador en `0`.\n",
        "- `incrementar()` incrementa en `1` el contador.\n",
        "- `comprobar()` comprueba si el contador está en `0`.\n",
        "- `decrementar()` baja el contador en `1` si el estado no es `0`, si no da error.\n",
        "\n",
        "Ninguna otra operación está permitida (por ejemplo no se puede saber el estado del contador,  salvo que esté en `0` o no). \n",
        "\n",
        "Implementar contador  y escribir un algoritmo que revise si los paréntesis de una expresión dada por una secuencia de caracteres están balanceados, usando el tipo abstracto de datos contador.\n",
        "\n",
        "*Observación.* Para que una expresión tenga los paréntesis balanceados no solo es necesario que la cantidad de paréntesis que abren sea igual a la de los que cierran, sino que también en ningún lugar de la expresión puede haber más paréntesis que cierran de los que abren. Por ejemplo,\n",
        "\n",
        "```\n",
        "(a + b)) + ((a - b)\n",
        "```\n",
        "no es una expresión válida.\n",
        "\n",
        "\n"
      ]
    },
    {
      "cell_type": "code",
      "metadata": {
        "id": "-G0JD2gHNjGk"
      },
      "source": [
        "class Contador:\n",
        "    def __init__(self):\n",
        "        self.__contador = 0\n",
        "    \n",
        "    def incrementar(self):\n",
        "        self.__contador = self.__contador + 1\n",
        "    \n",
        "    def decrementar(self):\n",
        "        assert self.__contador > 0, 'Para decrementar el contador debe ser > 0'\n",
        "        self.__contador = self.__contador - 1\n",
        "    \n",
        "    def comprobar(self):\n",
        "        return self.__contador == 0\n"
      ],
      "execution_count": null,
      "outputs": []
    },
    {
      "cell_type": "code",
      "metadata": {
        "colab": {
          "base_uri": "https://localhost:8080/"
        },
        "id": "vTVb2vw0bRTv",
        "outputId": "bb07b43f-fa91-49a1-ea85-aa9cfa5c7edc"
      },
      "source": [
        "c = Contador()\n",
        "c.incrementar()\n",
        "c.incrementar()\n",
        "c.comprobar()\n",
        "c.decrementar()\n",
        "c.decrementar()\n",
        "c.comprobar()\n",
        "# c.decrementar() # da error"
      ],
      "execution_count": null,
      "outputs": [
        {
          "output_type": "execute_result",
          "data": {
            "text/plain": [
              "True"
            ]
          },
          "metadata": {},
          "execution_count": 47
        }
      ]
    },
    {
      "cell_type": "markdown",
      "metadata": {
        "id": "Aeu_Zml0cgah"
      },
      "source": [
        "**Práctico 8. Ejercicio 2.** El tipo abstracto pila se describe de la siguiente manera:\n",
        "- `Pila()` crea una nueva pila que está vacía. No necesita parámetros y devuelve una pila vacía.\n",
        "- `incluir(item)` agrega un nuevo ítem en el tope de la pila. Requiere el ítem y no devuelve valor.\n",
        "- `extraer()` elimina el ítem en el tope de la pila. No requiere parámetros y devuelve el ítem. La pila se modifica. Si se aplica a la pila vacía devuelve error.\n",
        "- `inspeccionar()` devuelve el ítem en el tope de la pila pero no lo elimina. No requiere parámetros. La pila no se modifica. Si se aplica a la pila vacía devuelve error.\n",
        "- `esta_vacia()` comprueba si la pila está vacía. No requiere parámetros y devuelve un valor booleano.\n",
        "\n",
        "(ver https://runestone.academy/runestone/static/pythoned/BasicDS/ElTipoAbstractoDeDatosPila.html)\n",
        "\n",
        "Para su implementación utilizamos listas:"
      ]
    },
    {
      "cell_type": "code",
      "metadata": {
        "id": "VEv3kcPccnOI"
      },
      "source": [
        "class Pila:\n",
        "     def __init__(self):\n",
        "         self.__items = []\n",
        "\n",
        "     def esta_vacia(self):\n",
        "         return self.__items == []\n",
        "\n",
        "     def incluir(self, item):\n",
        "         self.__items.append(item)\n",
        "\n",
        "     def extraer(self):\n",
        "         assert len(self.__items) > 0, 'La pila no debe estar vacía'  \n",
        "         x = self.__items[-1]\n",
        "         self.__items.remove()\n",
        "         return x\n",
        "\n",
        "     def inspeccionar(self):\n",
        "         assert len(self.__items) > 0, 'La pila no debe estar vacía'  \n",
        "         return self.__items[-1]"
      ],
      "execution_count": null,
      "outputs": []
    },
    {
      "cell_type": "markdown",
      "metadata": {
        "id": "VdaHZBF4fhSF"
      },
      "source": [
        "Para el ejercicio hay que hacer una pila de paréntesis y corchetes que abren; ir agregándolos cuando abren y sacarlos cuando cierran,  si se puede. si no se puede no está balanciado. \n",
        "\n",
        "Por ejemplo \n",
        "```\n",
        "(a + b) * [c * ( d - e)] \n",
        "```\n",
        "Produce la siguiente pila\n",
        "```\n",
        "Aparece '(' -> ['(']\n",
        "Aparece ')' -> []\n",
        "Aparece '[' -> ['[']\n",
        "Aparece '(' -> ['[', '(']\n",
        "Aparece ')' -> ['[']\n",
        "Aparece ']' -> []\n",
        "```\n",
        "Como terminamos en la pila vacía,  la expresión está balanceado. \n",
        "\n",
        "Un  ejemplo no balanceado:\n",
        "```\n",
        "(a + [b *)  c * ( d - e)] \n",
        "```\n",
        "Produce la siguiente pila\n",
        "```\n",
        "Aparece '(' -> ['(']\n",
        "Aparece '[' -> ['(', '[']\n",
        "Aparece ')' -> al tope de la pila hay un corchete que abre => no balanceado\n",
        "```\n",
        "Se corta el proceso y sabemos que la expresión no está balanceada.  \n",
        "\n",
        "\n",
        "\n",
        "\n"
      ]
    }
  ]
}