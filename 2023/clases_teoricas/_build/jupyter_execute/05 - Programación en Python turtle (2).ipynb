{
 "cells": [
  {
   "cell_type": "markdown",
   "metadata": {
    "id": "ELY2TD-rKBs5"
   },
   "source": [
    "# El Artista en Python Colab\n",
    "\n",
    "Para comenzar a programar en Python traduciremos los programas que hemos construido durante las lecciones del artista del [\"Curso acelerado de introducción a CS\"](https://studio.code.org/s/20-hour) de code.org code.org a Python.\n",
    "\n",
    "Necesitamos instalar la biblioteca de instrucciones del artista (mover..., girar..., etc.), que en Python Colab se llama \"ColabTurtle\". La instalamos ejecutando la siguiente línea, clicando ![image.png](data:image/png;base64,iVBORw0KGgoAAAANSUhEUgAAACIAAAAkCAYAAADsHujfAAABcklEQVRYCe2VvQ2DMBCFMxsttNBCyw4wBEMwBC1DULOJo1c86XKyzz+JIgoX1tnGPn9595PXfd/uCeP1BAgwVBAdiapIVUQroNc1R36myHmebts2N8/zx8AevumHYuvs0BzH4YZhcE3TmGOaJoezMQB+zwJZlsV83Ae3rmsSTDLIOI7ZEASDOvzlIZsEUqIEIWhjykRBEGc6+9ZaORMF6fs+CIJw5ahlhcgEQRlaKqB0EfN9313btuZZ+gmVtgmCnkAHPksQwOCBlISGT1/CmiB4yAfAPQkC59d1RUOl7xDqpyB0aoXq7yBd13nV/AsIQoN+wdD5bBFIbrKiPH2Py72iZM0p31AoJATmReWL5LMaGhSIhUKCoLyZ0NqaVYPDj2nxgMlp41IBOYcPrYJcRxXh4ZSuKR+Wcysk9J8MggslysSUKALBJeRMijo4Y/3tE4A2SxFegkUZoiegQcmBvVCJyvt6XgyiHX27riBawcco8gakA+ZpeypPEgAAAABJRU5ErkJggg==):"
   ]
  },
  {
   "cell_type": "code",
   "execution_count": 1,
   "metadata": {
    "id": "Iz-52mhxKgMG",
    "vscode": {
     "languageId": "python"
    }
   },
   "outputs": [],
   "source": [
    "!pip3 install ColabTurtle"
   ]
  },
  {
   "cell_type": "markdown",
   "metadata": {
    "id": "xaAmCnh9Lt0E"
   },
   "source": [
    "Hemos instalado la biblioteca. La primera linea de la siguiente celda de código nos permite utilizar *todas* las instrucciones de esa biblioteca. La segunda línea nos permite usar la función `choice` de la biblioteca `random`."
   ]
  },
  {
   "cell_type": "code",
   "execution_count": 2,
   "metadata": {
    "id": "2aPB_Yl0MKnN",
    "vscode": {
     "languageId": "python"
    }
   },
   "outputs": [],
   "source": [
    "from ColabTurtle.Turtle import *\n",
    "from random import choice"
   ]
  },
  {
   "cell_type": "markdown",
   "metadata": {
    "id": "4ZrItKVDhzsJ"
   },
   "source": [
    "En la clase pasada definimos la función `pizarra_vacía()` que inicializa la panrtalla de la forma que nosotros consideramos conveniente: "
   ]
  },
  {
   "cell_type": "code",
   "execution_count": 3,
   "metadata": {
    "id": "KGde0qtmNREd",
    "vscode": {
     "languageId": "python"
    }
   },
   "outputs": [],
   "source": [
    "def pizarra_vacia():\n",
    "    initializeTurtle()\n",
    "    bgcolor('white')\n",
    "    color('black')\n",
    "    right(90)"
   ]
  },
  {
   "cell_type": "markdown",
   "metadata": {
    "id": "6PnHnMqvq01J"
   },
   "source": [
    "Como ya mencionamos una función debe comenzar con la palabra reservada `def`,  a continuación colocamos el nombre de la función (y sus argumentos) y finalizamos la línea con `:` (dos puntos). Las líneas siguientes si están identadas forman parte del *cuerpo* de la función y son las sentencias que se ejecutan cuando utilizamos la función. La definición de la función termina cuando termina el código o comenzamos una línea pegada al margen. \n",
    "\n",
    "Podemos definir, por ejemplo, una función para dibujar triángulos:"
   ]
  },
  {
   "cell_type": "code",
   "execution_count": 4,
   "metadata": {
    "id": "IEnhNjzurAC2",
    "vscode": {
     "languageId": "python"
    }
   },
   "outputs": [],
   "source": [
    "def dibujar_triangulo():\n",
    "    for _ in range(3):\n",
    "        forward(100)\n",
    "        right(120)"
   ]
  },
  {
   "cell_type": "markdown",
   "metadata": {
    "id": "3eJaDaMyjNVV"
   },
   "source": [
    "Dentro de esta función utilizamos el ciclo `for` para dibujar los tres lados del triángulo. Esta función no tiene argumentos y simpre dibuja un triángulo equilátero de lados `100`."
   ]
  },
  {
   "cell_type": "code",
   "execution_count": 5,
   "metadata": {
    "id": "K_hVj04Ijic_",
    "vscode": {
     "languageId": "python"
    }
   },
   "outputs": [
    {
     "data": {
      "text/html": [
       "\n",
       "      <svg width=\"800\" height=\"500\">\n",
       "        <rect width=\"100%\" height=\"100%\" fill=\"white\"/>\n",
       "        <line x1=\"400\" y1=\"250\" x2=\"500.0\" y2=\"250.0\" stroke-linecap=\"round\" style=\"stroke:black;stroke-width:4\"/><line x1=\"500.0\" y1=\"250.0\" x2=\"450.0\" y2=\"336.603\" stroke-linecap=\"round\" style=\"stroke:black;stroke-width:4\"/><line x1=\"450.0\" y1=\"336.603\" x2=\"400.0\" y2=\"250.0\" stroke-linecap=\"round\" style=\"stroke:black;stroke-width:4\"/>\n",
       "        <g visibility=visible transform=\"rotate(90,400.0,250.0) translate(382.0, 232.0)\">\n",
       "<path style=\" stroke:none;fill-rule:evenodd;fill:black;fill-opacity:1;\" d=\"M 18.214844 0.632812 C 16.109375 1.800781 15.011719 4.074219 15.074219 7.132812 L 15.085938 7.652344 L 14.785156 7.496094 C 13.476562 6.824219 11.957031 6.671875 10.40625 7.066406 C 8.46875 7.550781 6.515625 9.15625 4.394531 11.992188 C 3.0625 13.777344 2.679688 14.636719 3.042969 15.027344 L 3.15625 15.152344 L 3.519531 15.152344 C 4.238281 15.152344 4.828125 14.886719 8.1875 13.039062 C 9.386719 12.378906 10.371094 11.839844 10.378906 11.839844 C 10.386719 11.839844 10.355469 11.929688 10.304688 12.035156 C 9.832031 13.09375 9.257812 14.820312 8.96875 16.078125 C 7.914062 20.652344 8.617188 24.53125 11.070312 27.660156 C 11.351562 28.015625 11.363281 27.914062 10.972656 28.382812 C 8.925781 30.84375 7.945312 33.28125 8.238281 35.1875 C 8.289062 35.527344 8.28125 35.523438 8.917969 35.523438 C 10.941406 35.523438 13.074219 34.207031 15.136719 31.6875 C 15.359375 31.417969 15.328125 31.425781 15.5625 31.574219 C 16.292969 32.042969 18.023438 32.964844 18.175781 32.964844 C 18.335938 32.964844 19.941406 32.210938 20.828125 31.71875 C 20.996094 31.625 21.136719 31.554688 21.136719 31.558594 C 21.203125 31.664062 21.898438 32.414062 22.222656 32.730469 C 23.835938 34.300781 25.5625 35.132812 27.582031 35.300781 C 27.90625 35.328125 27.9375 35.308594 28.007812 34.984375 C 28.382812 33.242188 27.625 30.925781 25.863281 28.425781 L 25.542969 27.96875 L 25.699219 27.785156 C 28.945312 23.960938 29.132812 18.699219 26.257812 11.96875 L 26.207031 11.84375 L 27.945312 12.703125 C 31.53125 14.476562 32.316406 14.800781 33.03125 14.800781 C 33.976562 14.800781 33.78125 13.9375 32.472656 12.292969 C 28.519531 7.355469 25.394531 5.925781 21.921875 7.472656 L 21.558594 7.636719 L 21.578125 7.542969 C 21.699219 6.992188 21.761719 5.742188 21.699219 5.164062 C 21.496094 3.296875 20.664062 1.964844 19.003906 0.855469 C 18.480469 0.503906 18.457031 0.5 18.214844 0.632812\"/>\n",
       "</g>\n",
       "      </svg>\n",
       "    "
      ],
      "text/plain": [
       "<IPython.core.display.HTML object>"
      ]
     },
     "metadata": {},
     "output_type": "display_data"
    }
   ],
   "source": [
    "pizarra_vacia() # inicializar pantalla\n",
    "dibujar_triangulo()"
   ]
  },
  {
   "cell_type": "markdown",
   "metadata": {
    "id": "7UmT1tKbtl9w"
   },
   "source": [
    "# Otros ciclos"
   ]
  },
  {
   "cell_type": "markdown",
   "metadata": {
    "id": "uW5W2BxXtqT7"
   },
   "source": [
    "Además del ciclo `for`, que permite hacer un número determinado de repeticiones, ya vimos en code.org que en diferentes situaciones puede resultar natural diferentes maneras de repetición\n",
    "\n",
    "*   ciclo `para` o `for`\n",
    "*   ciclo `repetir hasta`\n",
    "*   ciclo `repetir mientras`\n",
    "\n",
    "en todos ellos, se suele llamar *cuerpo* a las instrucciones que siguen a cada ciclo y se repiten. Dentro del cuerpo muy frecuentemente pueden distinguirse instrucciones que son para el procesamiento propiamente dicho, y otras instrucciones que son preparatorias del siguiente procesamiento. Se recomienda que esas dos porciones de código sean nítidamente identificables.\n"
   ]
  },
  {
   "cell_type": "markdown",
   "metadata": {
    "id": "TZbLvqvPBPr9"
   },
   "source": [
    "Si bien ya hemos tenido ocasión de utilizar  ciclos `repetir hasta` y `repetir mientras` en el contexto de la programación con bloques de code.org, son ciclos de una complejidad mayor. Hemos notado que pueden dar lugar a programas cuya ejecución nunca termina.\n",
    "\n",
    "Por ello, y por no resultar especialmente necesarios para resolver los ejercicios de \"el artista\", demoraremos un poco más su abordaje en Python.\n",
    "\n",
    "Veamos, en cambio, el ciclo `para` o `for`."
   ]
  },
  {
   "cell_type": "markdown",
   "metadata": {
    "id": "fin8W894fkrt"
   },
   "source": [
    "## Ciclo para"
   ]
  },
  {
   "cell_type": "markdown",
   "metadata": {
    "id": "MlWKHVJqfoHn"
   },
   "source": [
    "Recordemos la solución al ejercicio 7 de la lección 11, \"el artista 3\" del  [\"Curso acelerado de introducción a CS\"](https://studio.code.org/s/20-hour) de code.org:\n",
    "![Captura de pantalla de 2021-03-28 08-31-22.png](data:image/png;base64,iVBORw0KGgoAAAANSUhEUgAAA5UAAAGGCAYAAADrdaXPAAAABHNCSVQICAgIfAhkiAAAABl0RVh0U29mdHdhcmUAZ25vbWUtc2NyZWVuc2hvdO8Dvz4AACAASURBVHic7N13eJPV28Dxb9rSwWpToIsCHUCZWiggZVn2kC1DEERBQUFEEfdeiCIqQxRBkC1LVBBUUEA2skehQAerpWWkA9p05bx/lK4kbZO0UH1/9+e6el2QnJxzn5HzPOdZ0SilFEKIuy4lJaVUn485caOMIhFCCCGEEKLs2JV3AEIIIYQQQggh/rtkUSmEEEIIIYQQwmayqBRCCCGEEEIIYTNZVAohhBBCCCGEsJksKoUQQgghhBBC2EwWlUIIIYQQQgghbCaLSiGEEEIIIYQQNpNFpRBCCCGEEEIIm8miUghx1ySfWcOSFcs5eK2Mppq0eC5ciubaLU3Z5FdKmqur+HTaFD7eGFneoQghhBBClBtZVAoh7pr0s7+xffd2jiaVzSIw/eQs3vvkXVad+3dMXZq0eOIuR3Pl8u3yDkUIIYQQotz8O/bMhBD/c5TdLRJvZxSdIPMWxbxbrMx0Wz5UcjzG7xv8n+OLOeuY8/R9JsmV3S3SUopfTCtNBmm628XWU5N6k6Rizsxm3bK1lYQQQgghyoZDeQcghPjfcWXDk7y/WYNPcHV0Z86SlKXBoZI/Lfu9ytjW1QDIitvEd0uXs+9yOthXwtu3HV16DaFV4odMXhmNsoNDiwbwxCKoEvg2X0zWMe+ZLzgY+BCDPM+x/Z9Ikn1fYvqDG3nx+4u0GL2csc2zAci238G8Z77geNBbfDMxJKe82C0sXreGw2dvkqoBh6pN6DBkMiPvq1ry+zdX8f5760l/4FM+Gl4bgMwbW/hhxRr2Rd8gNUtDxapNaNltHMM7eOMI2J39jEmzDqGp3wTXy4eI0duBnZZGIc8y5rFg3JUCIClqDUvWbubE5WQyVQVq1OrL8LGPEuxmQGkyiD86n4Wr/+ZcSjY4eRDYqA99+nTl/uoyrQshhBDi3pIzlUKIe0aTARkOOi6cSqJmq4fp1TEU3+xI9i/7hPWx9mRXiGTj/K/Zf6Me7fs+ykOhDXG6+ifbz6Zh79GOB+pXAUAb1Im2LbvRulkNADI1GlT076zZe4kU9yDqBuW8noWGDKOTfJkaDXb6O/+58StffjGXPedcqN9mIIO6PUh9dYwdc99i+cXskt/PvE1GVmZ+5jd+Zea0uWw/54Jfq4cZ1O1B6tqH8/fqV5n+19W8ZBmaTHTnTpIa2JNeXXsRUiOJ8APT+G57Uk6MCYv4ctZKTiTW5cE+TzCoc0OIW8s3ny8nKksDyVtYtPBPLld9kIEPD6dbkyrcPPQbB8roMmMhhBBCCGvIIW0hxL2lKlC33we81DnnzKQ+4BYvLjjByaMJ9PWNJzbBHkf3INq1GUj9iopBA25xq0JlXOjHiAcOsPvMZQLaTOTJZnfOPnIWAI2hEvW7fcDkvrVxBNL/UcWHYXeLk2sXcialNh1e+pxRgfYAPBQWxvYjzoT46zkxt+j3W9S2h/iS8+vV7UFWfPAm239cyv7QVwi9k76K3yTeGteayoAK82Tay98Rte8oKZ1COLdmPZcMrRn+ypt0cjUAD/Gg50tMXr6Z9UcH8FK1SBKyNWirt6Nt2P24q4EMGnQbVcm+TLpICCGEEMIasqgUQtxT9pke+AV6ADmLQmevWmgNx8mIv40d99GxvQdHd69j2su/4dHwATq1HkJYSOUS83Wo0Im+A+rgmF38YjKXoUIUh6KzsPPoQfe6DnDnslMqNyWsPWQ7HC/2fUvz0zjeR9cwX/788SynojSEVshJX6NhPXJrZaheC2/XbKJv3ybZMYrjlzRkO8azf/U0TpKTT0ZGCtilEn/qClmjutGjzjZ+OPY+L07xoGHdbrTv0Z3QShZVXQghhBCiTMnlr0KIfw2NoTINHpnDe+Mfo9v9XhjO/8nK7yfywYaLJT60x8EjiLpGC0qlycCuwPWvmswMyMx/T1PMA31Ket+a9BUq5KwkM8y8lsvxziJUkZ9PZnYmmVk5fxo7X4IaBuNXqxJ2NKDb5G947ZHuPFDbjgsnl7FgxqssOKNHCCGEEOJek0WlEOJfQ2kyuHrhGlUa9OWRpz7hk0/eoYvbbeJ37eainSYvjZ3xjZIADoUXaQ6VK1BBk0nczfxrVNX548Q45Ex79hkNaNKwAoaE39h2LisvjUFFcvDvc6RlNiz2/VtGxefkZzCbfsf2KOw19WkcUPJZVPusAILqKewzPGk37C1efOZNXnzmTSaPG0WPNqN5spMXBod4Ll9yon6bp3h64hy+fOsh6mRd4uj2syXmL4QQQghR1uTyVyHEv0bWlYV8+ekWkn1a065FMN4VjnE+xQF775q4K3Bx1VKRTM7s/ppfE7K54NSFcT3N52Xn15HgCkc5tPl9vrzVkboVIzm+YzeJdna4kHNWtEXfwQSeWsWWr18lvnVbGjtd5cTJvzh1qTodas7m8RLeH1Xgqtyc/EYQeGoVf3wzmfgHOtLQ/QZnD//FkQR36j80kvYuhhLbQJPlTki/AWw8u5EfPvmQC2EtqeN8lfCdGzh6wY9Or8+gS+R7fLD+Ftqm7Wlfvw5O18NJsHPCs3bNMukHIYQQQghryKJSCPGv4eA7gmdHZfPDxr1s3bgfADfPvowZHYa7MpDVaCRPtD7Ht/t/Z+2lStR+oGuReWlcHmTEuDPolvzOsZ3LOKYq4BrUAI8zEaTcSaO8hvL8lCosWbGGQzuXcQyo4NKEsGcmMzLQHkXx7xd8UE+R+VUMIvThsQzr6GVxO1So+QQvPVeZpSt+4u+Nh3PapmoTuj77AkP9ssHrdcYmLWD9vj9ZdyoLjaEStYKf5omu1QHL7ikVQgghhCgrGqWU7IEIcQ+kpKSUnKgYMSdulFEk/w2a1JvoVGXcKjmavnf7NrcqVMLMW2alJsWTae+Fa+Viprusm1y75YSrWyXMZlvS+2bSJ6VUxlVrYZBF0KTeJCGj6HKzEm+SXtHd4rYQQgghhChrsqgU4h6RRaUQQgghhPj/SB7UI4QQQgghhBDCZrKoFEIIIYQQQghhM1lUCiGEEEIIIYSwmSwqhRBCCCGEEELYTBaVQgghhBBCCCFsJotKIYQQQgghhBA2k0WlEEIIIYQQQgibOZR3AEKI/44nnhtU3iGIMrRo1tryDkEIIYQQ/w/ImUohhBBCCCGEEDbTKKVUeQchxP+ClJSUUn3+2rVrZRSJEEIIIYQQZUfOVAohhBBCCCGEsJksKoUQQgghhBBC2EwWlUIIIYQQQgghbCaLSiGEEEIIIYQQNpNFpRBCCCGEEEIIm8miUgghhBBCCCGEzWRRKYQQQgghhBDCZrKoFEIIIYQQQghhM1lUCiGEEEIIIYSwmSwqhRBCCCGEEELYzKG8AxBCiH8zBwcHKlasiLOzM46Ojjg4OGBnJ8fjhBBCCCFyyaJSCCHMsLOzQ6vVUrVqVTQaTXmHI4QQQgjxryWLSiGEMGJvb4+3tzeOjo7lHYoQQgghxL+eLCqFEKKAChUq4O3tjYODTI9CCCGEEJaQG4OEEKKAGjVqyIJSCCGEEMIKsqgUQog73NzccHZ2Lu8whBBCCCH+U2RRKYQQ5DyYx83NrbzDEEIIIYT4z5FFpRBCAJUqVZKfChFCCCGEsIHsQQkhBDmLSiGEEEIIYT1ZVAohBMjPhwghhBBC2EgWlUIIQc5vUwohhBBCCOvJolIIIQCNRlPeIQghhBBC/CfJolIIIYQQQgghhM1kUSmEEEIIIYQQwmayqBRCCCGEEEIIYTNZVAohhBBCCCGEsJksKoUQQgghhBBC2EwWlUIIIYQQQgghbCaLSiGEEEIIIYQQNpNFpRBC2Co5nB2bf+O334r+23Q4obyjFEIARH7B4KbDmBud899sTvHjlGeZvPpyfpqTb9G38RMsuFq2RSv0nFr8NM99uoXLJScXFrhrbapbzMjg7kz7pywz/fcybBlKWJ03+OUelxu7uDthbRdw1ML0x6Y0od0jG7lxV6MSBcUuaUdI+zf4Oc6y9A53NxwhhPh/7Pi7DO+1hpuOrji5mE/i0XUdvdZ0tjjL6HkdeHztWOZvGUH9MgpTCAGkn+PCydNcTsv5ryKW/Su+ZXfsEzDEN+fFxAgiwq+jSyv74i+vn8dvx5sw+uWu+JZ99v+T7kqb6q8Qc+wMFe7CGPg3StfFcOaiA/f68GdG7B9E7mlBqoXpE2NPcflo4l2N6X/CP2/RbeQNRh6Yy8iqxaTTLeb5seG4vj2Pbt6WZS2LSiGEKAV7WvNqxF7e8Sub/DLO7eTC1r4Wb2iFELZxoCufxGbck7I0ONP9J8XZe1La/wZpUyFskB7BuYhbOQfOillU3jhwlfuX7mfy4HoUcczchFz+KoQQ91hiwmmOHbpArL7w6+lJcejSIaOKjviEZBITE0nSpZtmkBHHsb37OBKdbFP5GfHh7Nu3j9NxxexQZ8Rx6fARzkQlYckBe4WexMRE82nTdYXqUTCtQk9CxB727z1GtM7yOqTrCpSVEce5PXs5Ep1sUfn65GiTuiv0pJw+zL59lrWrPjnapA/SdYmFz3CVUK5CT3LMaY4diSAm1kw/G+WZER/Osb2m/ZYby97TCUX2lSVlFRFAXh0UepIvHGb/7giTsWttWcZtlRxzulD/2xxvARnx4ezfe4yoxKI/b9JnZvI4vudo0d8Voz7OpdAXHqMlpLWkvdLy0uu4diqm+MsArYirUBskRZU4lopjydyiT44m4shR8/1i7XgzU88S2yoxjtMRRzly+kKZX0pp1bxUUAlzukX9n3mn744U//20hkLHxaN72WbB/FzUds2yciybW4pkRd0VehLOHCmc1ngcFfH9yXmrmDnDkm2zldtW49gtaaci+yJdx43EDBR6biZdK3IfI+NqNNc9uvNwiIf5Agq2T7qOiGN72XskQhaVQghxz9zYwNvttHjXCqVDl/r4ujhTu+1oZh7MwkAUP3TxIXQOxKVMpYenK1qtlvtD1+TvPFzfyhedfXB38qfdwz1oG+CBb5MJLAnPtKj4W//MZMR9djjVbku/gQ/S2MeTVl2Xsb/A/p9CT/i3DxGirUVg5440C3SjSoVmDJywtdgzAprIz+mrfYAJf5u+F/GGO/d7zM/7vGbXYzygHchne1cxqZELng3a0rpNMHWr+dP1rYMl7uhlsoqx7lp6LbnC4Zm9aVTdh/qdO9I8wJVqXp14ek3hO6xiPnenifv77OYMK0fWJtA1gN6v5N8wdW3XuwyuV4WqjUIICwsjJMAD7+DRzD+YZVJ2+pU1vNS+OlrXAII7hdE2wIPAli+yPOY3XnbX0n/hjRLLVejY80kXWnhWxtW/EcHNGxBQ0xXfJhNYFJPflwZi+bmzlqbD1rLtlWD8ajcmuE0ojX08CXlkI2ezr7LtlWACagQQ3CaUto1qU7/5G/yWlB+vpWUVJbcO2+N/5OUOlfHya0NYuwb4umhp0XMB/xS4Gs3aerV4dHdOe3ZwwMu/GZM3lj5egMyTX/JUEw1OXo1p3SaYwBp+tHl0LaczKhRKl80hPm6opfv7kSZ5ZKvjrBxZGy+vxrTs3IzGPlXNftd2POFe+DuaV8dVjHT34PEfi05raV1zx3v/725zbfdE+vi6U7fJeJbHF90GlsZVcIzt+SSUgBqBBLcJpU0jT+oEjuH7qKLLKMiSucVAFOvHNiSgegMe6BhGY60zWv9ejF9yPm/n2prxZq6exbbVucWMCfPCXetDowbNaN7IjxouDek1reQ5xxLWzkuARXN6Sf2vsk6x/qkWBFQKJLhTGJ2aN8BX25Cez261+V5ThY7weYNpV6Mafs060qNTMIHuWpr3ns3fxlegFrNds0SGhX1tNk4r6q7Qc37NSNrVqIhnw+aEtWlA7SrN6D/rIKeWtKaJ++tsvZNWv7ItjdzHs9IoDwNR/NBNS9iThwq/YUE/2rptzf1s1OKc2F3rPkT/3g2obW7sltAXEW+4U73Pz1xgG+8FeaDVaqlXoJ43f3mSh4KccPIOoEHzZjQMdMOzei+e33C9UDy539NNv42ni487DYLb0KZ5A1lUCiHEvaDQs2NiXxbdeIO/43OODuovbuST+yvh6u6AHQE8sjWWvc9CDc/JbE6IJy4ujr17B1MNMBh28U6brnyue4Lvo1JIiU0k9dpG3qwxj5eaP19oIWFW5BcMaP0apxv9wvFkHfGx6SSd+ISg6JEM77E2bwOsifycceNO4rc4hiRdImnpsRz5cSC1azlRrQzbI5twvhoxj8zXT3AzVaGSTvHr6Aoc+XAwk3/KtiiPS18PYuSyIF7dkUBqmp70i1v4qv0xlg/pyiNbbxdKm+p+lU2PtmbCgXaMX/gz895tBcCt3WPo2P5rLnRcycHYdNL0iSSeXcvL1VbycstufHA6f8dIpW5g4v1DWKQbyrzDOWWmZoSzeOxlvuo2iY0OhRctRZWrQYtHg+5MWHSYSJ0eg0ojfv8CBlScyxv3vcseozyubZvIK4ensOpCOio9lgPfBpO4aiC92vdg7B8P8c2ZDAwqjQtbxtHg5FQmDv0zb0fD2rLM0VXZxmvd3iey93ZO3dSTpr/J0Q2P43bgKYY1zH/QhrVlRdtv4uXQIayyn8SMZX/wYe8yiDf2Gwa2e4EdlT5lw6lkUpUiMWoZIzLH0++JHcShKbG+2USxfsRgPrs9lZ/j0tGnpRF/YDYDKs7l2ftGldlDfKyta1r4mwxs/wtJ3WbxzcZpDPQsmzgAEva+xCvbR/PtnbF07e9pPKhfyJtd55R8eamFc0vS4n5MmN+QF4/dzrlSIekUq1/zo6KjW6HL6ywdb8Ux21Y1fejYaya/hsdzM1WRlnyK36f7EvFab4YuKrtzlpbOS9bO6ebqlM0pFndpwhMb6zP297NcT9OTlh7L/vlNSVjUg37d/7R6YanQc2ZaAzqMP0/Njw8QeVOPPu0mF3a+RsDZ5xjU4EW2ZeSnLW67VpLS9LW1db+5sQ/dh2whY8BqDsbmfK/j9oyn+rLeDP/a9lO7lvZjabatujWd6PD4QdynHud6ZhyxujTOrG5Bwvsd6fXZFcCyvgj66CaXNvanDh354EgCcXFxnIj9nP53yqnq14GuU7ZwKi6R2yqNxItbmdlxP4v7DmF6dOGYEqou5KVX9Az9JYFUpdBd2gBKCHFPJCcnl+ovMjJS/u7in012DlY+OKpqDRqooKAgk78H2s5XR+4kzVaR6utWqIb9d6nUYrI88yKqDtPzPpfr5vdNlDcD1Py4wq8bUlepkY6oVtMvF5mnQd1Uv/VH+fnPNsk3a9cQVZdgNe6fOy/83kvVoaOaerXk6hdy/iPVnvrqiR1F1MlhtorIfWHnYBVIVdVhzvXCsaiD6h1PVMCAXcUWlaF+UI+BquE5Wf2VXvi9bBWpfmiP8q2W34bRU1FOTk7Kv/lsdVxvWl7j7ltV4UiUylIn1TeNUIFBS9WlvHy0qgbD1JIk05hu/9JJ+eBYqE5FlVukE2+qFgTl9UW2uqJWNUNVZ7LamFGwjlfUD+1RleioPo0qnMWZF1FejFYrrCyrKNFTURrcVM85xi2kVOahx1VjPNTD67NsqheObqrN2IMmbW9rvAaVprYPQ3lXed3MuLiiVvZAVaCZeu1Uzmu5/d/y1fP5CXcOVgGYHxOG1FVqpAfqvuEH817bPgxVJ2ipmfHzvRpMBTVknSoxbUl1zR3vVQhWwzdY1FoWx1VwjBm32Y3VocrLzBgryJq5pai5rSBrx5txPa1tq9z4azVfk99WsR+pdtQ2O5cVx9p5ydI5vbg63VgdqjwIVR+cNI3n9i99VSAN1KidxX8/U1e1Up4MV/NzX4j9SHXBxWwfqJtfq97kf2cs3a6ZU9q+tqbumWqnerlmEd/r27+op6qjPJmsttx5LW1RQ+VjZh7NVpHq+xaF5wCLt802bluzDX+oV5xRLcecNGnj8I9R3oxXGzOs6Iudg5UfPdVMC+PINvyhnquKCnk3fx8jeirKldC8uTSXPKhHCCFKxYcHHppMn7pmzq5Vuo9ad/5pRwDdh9XljRceosWgCUx5/HH69q5n0dk/hY6/V57EvtM7PKzVoy9wUFU5tKdXZ9i+ci83pgwym18WO/nxJ/CYPoAGej0Fj8kamo+gE305sv0KtKiJavc03ar15ePGvTj/2jOMGdCdNgGOljeHhexoRNewakavNSY0FBZeiCMNSnw4QINnJtPRKDQ7AhgyJYzn+21ic/wUgu+czTGk+9Nt3rM0dcpPax/+Hevig2j1emeTdrOnMY+904r3hq5gdcoIXqii4/ivOqo0eZRBZh5u4NRnEr35izNGr5srF4CMOA6u+5G/jp0lWqfBuUoAjdrqceMiuotAi/ykFbv3olOBk6B2+NCgKVQ9Gkpb/8LZ1u8QhmGGjuRk8h/CYEVZ5ngykMfHmo4sTfMpPFX7e+Yt3gf921pdllvGQCbNCTEdszbGm81OfvwVqk0YbWZc+DD4zYd46bcrxVcW0NCAdh+ajgmNyxAm9B7K0IXbOLo8hOASc7KAFXWt0fwNZvUuy+sF8lXs3ovWRm3mHtIZX9YQeQPwN/sxq+aWwGHjqT7jVXoGhzPh5cd5tGcH/LWmeVo13opQVFsln9vIT7+e4PSFGG4a3PELaoaXA9gdv8oNKJOrMSyZl+73tHxOz/0aG9dJoWPnd3txar6GZxqbxuHU521GeLZg/ddHoV2IxfHH/TKfkwxjppk+UNrHmTLsGUZ9tpmzHz9L/VJs18D2vra27g5Rv/PXldq0WmHme12xDy+Ogs0zLAzaKA5L+9Hdxm2r3en1/KoPpt8zQWiMvmP1uo6n2mt/suEYPNSidH2RUx89V3asZdO+45yOSkbj4E/NVl4oX8g8exWomZe2IqF0amQUqxVlCSGEMGKPF62efYqnn37a9G9kq0ITut/zJ9j/82RCr61k8qD61HFoxqD3LLmfQsfVS3DlrxF4u7rh5pb/p63iz+N/OeEYm1jkfUEOeh064MBbgYU+6+bmhrt2MEscXVFncm5g0VTsw7end/L1o4ozs/vRLrAqfq3H8+3hlDJorXwaXHCqaPyaM853VpKWPP1WW9fLfN4161AdHSkFGsSDTvQyXoxcvsB1fKgXZD5/l8CGVEbH9Us5/0+zg0xH6x6tYLbcGxuYVM+HHi//yRltIPc3a0AdjyscXruNcBy5bZTcoaKzyQLb2QUcU7QYNSEaFwOFLsK1sixznGhIfdMre7HDB686kHLjzkNErCyrSvOe9DHOtxTxatCRmAw1vM2PC3vvZnijSqyvPd7UqWX+PY/73Mggmosl5mIBK+tafVhomV6CXpC5MYZywaWE9rJmbnEI+YptxxcxpkEEC8c/SICHN6GD57MrtnCeFo+3Yhi3lULP6ZktaRj0JHN2puDRoBnN/TxxOLuBtcdzduzL6onblsxLtszppnXKyaNCHW+z40KDNw3rQ1qUdT/DkXwuBk0VL3zN9IEGZ+o0heys/O+Ards1sL2vra77lUsk4UNAEV8gj6ZNLIi26Dgs6Uebt62XL3CFo3zWtrLJd6xy2++IIp1bd255LE1fGIhi1SAX6g2YwdbL1QlqFkxQfQPX969ld4w9xo/zscfZZPsjZyqFEOIe0eBM3b5vs6Dv2yxIDmfXqveY9HwP+mYe48yHZg635n1Oi1ctqFNtLeF/97b48d65sp190AJt3rvC7pct2C2t0Y5HZ25m+Ew91w+sZdabE3kzJBGXpBVF/65VxZwdN3P0ZfQkQmNXzhc+cppLXbnADbzxKlBVDW5UN07oWwdffuVcBGDm/rS0yNMkUZM6vjl98EBP0L/+I8uvDuJJo/3G9A0z2YgjdY3yMFfu0U/68kP8eJbFf0UP1/zXs1lN6ophZfpEyrIoK53TnM2EYKOdPwOxXL0Aldp54WJDWZXcvE3GcmniVfjg7Qynj8cApt8nQ+RRC++pjCtyTCQcT8S+mj+1jV433vG116Whx67Y76q1da3mauGPxZUyLmtYO7dUaTqSD38YyYfpOk78MYf3XhzL4yEaNsU9mfe7vJaOt+KYtJV+Fe88fwzf6dHsn1J4zhjsuYywt0sM3WKWzEvWzOm5j3oxrlNuHtnh0VymrcnvdCriOH0WnHqbX+QWxbOuL4aUGM5mQRujVYJCz4UToALyvwO2btfA9r62uu41a+HJJsKvZENje5P8Lh44CXQzikFPehaFVkqKNBITIHewWr1ttmXb6luHmgTT5/ARpjYqIg258djeF2yZxEvrghl56CDfNs9vIwOxBJ+syTsl1Q05UymEEOWjaiPaPbWKuY9ko197JG8H0lA95ydFCh4116Clw7Am6HfOZU60aVbpuuKPRNvTnuHD4OKniwo9jTFXUY9O1+BMjVYj+GD12wRziG3FPDVBaWvizUVObi78JE2VfYgftxQbns0ip001eZiFgSgWf74dR++B9CjhQSbZjcbQq95F9ryw1vRJgVmnmPfBASo3H85Ddzb2fuNW0cNjJa92mcDSQ3eOLmfEcXDpKDq/eQO3yoYSY1boiT8HLn6htHQt/J59+HZOmRz7tV1ZlRXPj8yYaeay0V2fMf9iHZqPCraprAyjdKWN154WDBgOl7+by49mxsXS1zYSb8GiUnGGHe+aGRNpq/lqGXj375l36auXD6RGbGKb0S8I3Ny6hN04F1PG3R0HtsZlLVvnFpy0NO3zFms+CyPz6l4KPkvTkvFmLU3seaLxpnGrwos9hY5jO6zOrliWzEulndMhJ49uo1uRGjGDj3eZ3n6RvuFllscH0/bpEhYTRtz6TqYp6/l2mulTkTWx3/PZSgh4bEDeQYBCitiuFcXWvra27tkB/enseY3Dr603fXCRbjEzvstfvAM4+/hjz2G27yuct33cz2wscJmCrf1ozbY1q9FwetU8yuY3dpu0p0JX9M+bFNMXCr3JlRBJsTFk0oguTY0W3eoUe44VHV9BsqgUQohSUOg5u28n27dvN/v35+mEf8E7nwAAIABJREFUnHRpqxlbK5B+z69h953fLcs8v4Tv/gKPds3yLuHx93qArJRNzF13nrhrp9l/MOfzbiO+551Wm/m4x3Bm/3kp5wxERhyHvh1CO/fWPG5mw5pLgzMPfvY1ofqXGNZrOhvDcxZE6QmHWT+2Ic3cx+fthMd87E7A/aOZs+k4V2/mHKU8Mm8B4YTwQHH7cs59GT4Qjk0bycgVB4lMSiL+3K9803coqzOqlKqNi1It+DATm41m1rZzxCUlknDsV77s05bndgTz0OonzO/0FGBPCC8tGk3lw4/Qoct0Nh1O4GZGIhf3r+PL7i348OQAXlw7KP8ouPsQvtu9mGEuCxnboiqOWjecq/ozdFZ1nv15Gl1uZWGfXfwOuwZnWvVvQmrEDF5YcznvTNK1g7N48oklRGN6FN1WZVVWxSoNsZ8fSvfnNnIkOhldSjQHl46iw4DFZDX/jE+72ZdJWaXNQ4MzD7z/Pe0qz2VC0wks+CtnXFzcv453uoUxzTOMOhZc/qqhDtXTJ9MzbDabDiegS7rK2Z2zGdtyKL9rxvPqjPyd9KDH36Q2q3m/3xw2nEnIa5tBH11HW0xZd3sc2BqXtSydWwxEsaq9huB+01lz9GLOjnDKIRbP204Fr1AK3vFnyXizlsG/A51qXmT7C3PyfhJDZZ1i86t9eH13yRft7X+2KsEBb/CLBWVZOi+VZk7P5TRkJbN6HGVB+/Y8seAgUYnpZMSH8/fyobR/ZAeuI+fwUQn3TBtTPs8we2ptzrzbjrYvrGV3dDL65GiOb5nOyA7PcNJ/NtNfy1mcW7pdK0pp+tqautsTwkvL+mB/dBhd+8zO+U4kXeX4lukMDvmQq13qFrptwND1eR52PcNPg0fy3dZLeXPAU31WcN6r8GlVS/vR1m2rA+14aXE/kn96mP6TNvJPUs7Rm+Tza3mnnTstOy7jsjV9ERhMLQ6w5d1dRCXEcH7XGW4A2vb98eUXPp+0K+/3LTMubWVe72dYbeFqURaVQghRCgaOsmJYBzp27Gj2b8yAP3KOELr05eWvRlFl7yR6N3SlokaDc71XONVsKbPn5u+kOo34jk97HWXdoHr4eDRixJsnSAM09iE8vfUgX7U6xhc9a1NRo0Hj5EP7t6/TcvFGvm5Xwo6Wz9MsP7qYh9O/4rHGVdG4OOPi2YbxB0J57tBMBt45W+L35C+80TqaRU80x7uaBntNTUK/qcOgX2YxrqjLc8g5Ytt/6R9M63SEtY+2pK6bG973TeHnB79n4ZCyvR8zl9/Yjfz8SgqrhgTh46bFK/hhZkR05O3fd/JVSe1xR+W237Htnw8JvfUBD4d4Us1Ji1/rJ5mfOZmvolYx3ugBJRXqPsbsf9JIunqKXet+Y+/pBCL/mcGjrjFE404N30olluk66ndWflKdg2Nq4ebqjbebE/c9eZR6386hN2XbVmVRljalI1N3zKPVmfG0CXDFvWoALcf/jcOA1azZk7/oLouySp1HzVEsP7KYEXVWMbFzfXzctPiFvcmR0BVsm9HEogWVPQEMXLKV9+st5tnWnri7edOgw9vsdn+db6O/yvuuAKgmb/DDmn5UCZ9I34aeVKvakP6fVGbMqldpXsKdf3dzHJQmLqtZMLfYEUCvuUvobLeQV8Lq4F5Rg13VtnyQMJmpu58sdADI0vFmDTtNVz7a/A2dHF6lh9YZT29XKlUZxMzUV5kzoeSDXolXUoiNvmrRPciWzkulntPJaddHfonkp2ft2TGlJYFaZ5y8GtPrmUsEfbyP35e0tfo+XA3OBL12lJ0Lu+K8bjDtAlxxcQ2gWfe5XA5dyg9nnuWB3OfLWLhdK0pp+traulfq8gu//T6egLNT6Nsw53vdeuRmqn2yjcV9Cv+mpp2mK5/t+oI+FX/gya61cXfzpsWAzVSYuohXahf+rVpL+9HWbStA9c4/sf+PIXhuGkAHNyecXDS4NpzIRrdZfL1+RE47WdgXynsys6bV4czC9gR6+tOx/VKOACrgDX765REqbWxPTVctnt6ueLecyq6Ri3inpCO0uW2hlCq7Q1ZCiCKlpJRuJ+HatWtlFIkwJyAg4J6VpdCREJ2Eo5cf2iJuwtAnRxN32x1/b1eT9xR6rodHc8PZhzoBrtbfH5Wu40JUPMrVHz8f48eSmsbg5W1dGRlXo4nW2eHhV6fI+pVGJqt4UvMI177NZtNTdij0JFyIJrVqQ7NPk7RURnw4MVfscAjwJ8DNtF0MxHJqVwo+7YJMHgJy7KUqdPtsMDOKuzfGWLqOa5FXue0WUGw/lAkby4r5WEP7119nlfqINuSMiegbFfHz9yx6TJRFvcoij4w4YmLTcfUs+ntmSR4Xz6dTxb/4PBQ6Lp6Ox+DmbfY7C7BjuIZRh5dy6MyIwjv6d3EcWBJXmbJgblHouRUVxzV3H5PvmU3jzUo2zU+JX9BTe5237sRlTmnmpVLP6ZDT9jEx6LN8qN24bNortw6xqRXx9K+DTzEXYliyXStOqfrayrrrk6OJue6e19aJ39Si6TNDWKRm0KVAOoWelJhorih3i+KytB9t3bbmfvbCFTtcPevg5V5UHBb0RUYcF67Y4WFUL2vrXJAsKoW4R2RR+e92LxeVonSMd97umdgv6NNoMgcChjFkcBjBjTyplBTFP+u/5Puf7Gjz/S42jDJ9QMd/mfFOvrBB/CF2HNjOnHFTONvxIMeWW/7zDv9r/pXjLXULL3d+n/jnf2Lx0KLP+5XbvCRKrahFpbCOPP1VCCHEf4oGd7zuC6Fi9Xt8TNTnBTZc7M6GRV+xbv9alq+M54aLO35NJvDlwWcYGXJ37h0tT44+3Qhs41+Gjw/6HxTxHa9P3oNLs1nM/koWlMX5N443VbE9H/y1E6cSTtmU27wkSs3gHkJgsN+/atz9F8mZSiHuETlT+e8mZyqFEEIIIWwj5+eFEEIIIYQQQthMFpVCCCGEEEIIIWwmi0ohhBBCCCGEEDaTRaUQQgghhBBCCJvJolIIIYQQQgghhM1kUSmEEEIIIYQQwmayqBRCCCGEEEIIYTOH8g7gf5VSCr1ez+3UVAwGAy7OzrhUrIiDvX15hyaEEEIIIYQQFpNF5T2WnZ3N8ePH2HdsL9d1cThUtqNKlSqkJd/Cxdmd2tVq0rZ1R6pVq1beoQohhBBCCCFEiWRReQ8ppfh10yb+PPoHjVvXp1W7YCpWdcGxggMVK7mggIS4m8xd9iUj+o3G38+/vEMWQgghhBBCiGLJPZX30JkzZ1i5YQVunq7cSkklPu4G8VducC0+kdhL10i8kUSlKs50fawdy35aTFJycnmHLIQoScohVjwVRpug2gQ0HMgXp8o7IODGBj6bOIkFB8o7kLsrK+JPft96lhtFvG8glpObNnM49p6GJcT/PIWeU4uf5rlPt3D5zmvZnOLrXvcz8Osreelu/z2NKeO+5e/E8onTUgo92yfWpfX4XeUdik0UOn4fFkSbtw9alN5cX/1/cevIn/yx4VjOuMyMYsfm39gTlVHeYf2/IIvKe2j9+vUoZ3syMjPJzjKQmZlFuj6D27fSSEvVk3TzFkm6W9xOSaNyLRdOnDha3iELIYqh0LFjXAueXl+Rnu8t4Iu3h9DEvbyjAuIO8NPSn/gtNru8I7mrIud34cmui4ko4n3FLt5/qBevbb59T+MS4n/GP2/RrcF4lpo5Bn55/Tx++yaC63mv6Ik/fJzLF/V5rySf/oE1y37jaPq9CLZ0ks5FcuVkUnmHYRNFGkkRZ4k/aWlDm/bV/wcKPXte6cLYvltyxuXx9xnT62nmnP/3PM8kel4HHuy6jLPlHYgN5PLXeyQ7O5uLsRewr6AhMyOLTH0GaWnpKKVwcnJEKYW9vR1ZWdmkAdU83TgRHkG7th3KO3QhRBGyOciPK6H+u/N565Ga5R1OviYfsCvxg/KOQgjx/116BOcibqFLA6rmv6zBme4/qRJ3jL3HHeXCuLsZoBD5FLFEX4EqY3oSDKjYU9ymM/07/nsWlRnndnJha19SyzsQG8iZynvJXkNWVjaZmVmkpqWTdkvP7ZQ0bt/Wk3o7DX1aBvr0DG7f1nMrJY2U2zoMBkN5Ry2EMEOhJzkxjkTAo7ozer0evV6f915iYiJp5j6YriNJl270Un7azJjD7Nu3jyORxV+Oo9Bx8ehe9h6JyNmhM4qtyPKBjPhw9u3bx97TCWbTFPy8Qk9CxB727z1GtK6YgBLjOB1xlCOnL5i9HNWmPO+mEuIlXUdiYmKRf0W1be5njfs4/63EQv1V2nax6vNFxKXQFxqDxnLHy+k4ozGZVvw4M65rblkpp++M8WjLb/EwHtMZ8eEc33PUNKb8wgvVVZ8cbZLW2lj0ydEc21s4rXEdjf+fHHO6UF8o9CTHnObYkQhiYkseIxnx4Rzba9r2ubEU9R22tKySyjfOr1B/p+u4kZiBQs/NpGskJiYWHl/FfA/ypOkLpckto6g/c+PJmvYkKarEdsvJ9878WkK6PJl38j0SQawVJ/csbmvjtBbWoyi59dt3uIj5rwQlbUPMlVUobbqucL3Lem4qgoFYoq/VoeVjjQGIjzxJ1fYD6FPBXNx6ki8cLnk+tqDvLd3GpyfFoUuHjCo64hOSTb9T2DDmMZ2HipURx7k9ezkaHl/s3GJu7pRF5T3koHEhLU3PtSsJxB08y414Ham39KTeSiX1lp60VD2pt9JI16eTlZlFmuE25yPPlXfYQggzNIeepqV2FEuAzc9Wx8XFhcouDRn9N2giP6ev9gEm/G36uYg33LnfY37eEfxMVjHWXUuP7w6yaHA1PP1DCA0NJaRuVZr0XMB+o+2OyjrFinGNqOnkTp3QjnRq3oBq7g3p/c6uvHuXNHGf00d7v2n5lzbwVjctrl6NCe0YRptGnlTz6sT4JecLbTw0ux7jAe1APtu7ikmNXPBs0JbWbYKpW82frm8dLLwTcm4xY8K8cNf60KhBM5o38qOGS0N6TSuczqo87yYL4z32ojtardbsn692IF/GF12EfmVbGrmPZ6XR6wai+KGblrAnD+W9Vtp2sebzO55w5/7QNSZ5GljFSHcPHv+x8Ou3/pnJiPvscKrdln4DH6Sxjyetui7LH5Oxn9NH60v/70wvL1Zpq3nKS0u/T/Pvybq2610G16tC1UYhhIWFERLggXfwaOYfzCqhlvn1nBl1nJUja+Pl1ZiWnZvR2Kcqvk0msCQ8s1D6mM/daeL+Prs5w8qRtQl0DaD3K//YFEv6lTW81L46WtcAgjuF0TbAg8CWL7I85jdedtfSf+GNO+0Yy8+dtbR4dHfOZzo44OXfjMkbc3as93zShRaelXH1b0Rw8wYE1HTFt8kEFsXkx56bR9Nha9n2SjB+tRsT3CaUxj6ehDyykbPZV9n2SjABNQIIbhNK20a1qd/8DX4rcFWmpWWZk8Uu3m6qpeunpvfSaXY9THPtaJbc2YeMeMOd6n1+5gLbeC/IA61WS70C476o8VZQ2oYHCXIfzYLc2NO/57EivndarZa2w3dbVceC7bnnk1ACagQS3CaUNo08qRM4hu+jCsdjIJZtL7cl0NEdv2Yd6dTIk1q1BvLuX9cxR2WdYv1TLQioFEhwpzA6NW+Ar7YhPZ/dmjcfl0VbW1uPomTa67m46z36+ObULzQkZ/4ruP0oloXbkNyYzbXlO39d5ud+7tzX/de8tGU+NxVBQyzx13rS/85FgPHnsvEb1RGXAmkUOg7N700Lz8q4+bWhQ6dgAjy8CR68gH8K3Ptrad9buo03EMUPXXwInQNxKVPp4emKVqvNaxdrx7y5eahYl1czpUd1XJx8aNqpI6GNvfCs3otJvxYeGcXNnbKovEfs7e3x9fIkNTmVqzuO0X/BfpJn/kLMmYvcSk4lLVVPuj6DjIxMMtIzSdbdYuTgYfy59w+UUuUdvhDCiAr5hoOx8xgMdPj8PHFxcVyJPcpXNl6xHvHuUyxuuoqdNxUqPZbjSzuh/niGiePzn/yTzSkWd2nChBUNeGbdJa6n6UlLj+WfWYHEfPgkb+4q5h7Km6t5rEVfViW9zurT8aSm6dHHH2LZI7H8/Hg7+hs9kCGbcL4aMY/M109wM1Whkk7x6+gKHPlwMJN/KlBOTR869prJr+Hx3ExVpCWf4vfpvkS81puhi27YlufdZGG8909PIy2t8F/8wXdo61iJoNdn87xn2YVU2na5K+0a+QUDWr/G6Ua/cDxZR3xsOkknPiEoeiTDe6zlMmAIfJwp3W8T8dZKkx3SxNUfsC1jGI++kHNZ+K3dY+jY/msudFzJwdh00vSJJJ5dy8vVVvJyy258cLrkhWU2UawfMZjPbk/l57h09GlpxB+YzYCKc3n2vlEsuFo4far7VTY92poJB9oxfuHPzHu3ldWxqNQNTLx/CIt0Q5l3OIHUND2pGeEsHnuZr7pNYqOD6SmOaPtNvBw6hFX2k5ix7A8+7A0atHg06M6ERYeJ1OkxqDTi9y9gQMW5vHHfu+wxyuPatom8cngKqy6ko9JjOfBtMImrBtKrfQ/G/vEQ35zJwKDSuLBlHA1OTmXi0D/zdsitLctWQR/d5NLG/tShIx8cSSAuLo4TsZ/TvxR52jk9zWqj711aUhTrB0A1+2G89XVbwPo6Jux9iVe2j+bbO+127e9pPKhfyJtd5+Qd4FPoODCxJn0+T6XF3H+4fGd+3f55DfYMe4h3LhXOM3c+fmJjfcb+fjZvPt4/vykJi3rQr/ufli3UrGBJPYpz9dybDBy+j1bfnuVGqh6VdIot7/lyemonho85VfxZRyu2Ida2pVUsmJuKYpcdyMMrX6Dvnf9X6r2INx6uVCBuPWemNaDbxEhqvrWds3o9+rQ0Lm16Gt+9zzLhk0jAtr4vaRtvRwCPbI1l77NQw3MymxPiiYuLY+/ewVTD+jFvbh4qkm4xj4UMZVXCOBaHJ6PT60lLPsg3g06yrvc7efdMlzR3osQ9c+HiBdWjX0/Vtns7NcTJXR2htnrf0UcNHDNAvfHNa+qjpe+pz9Z8rD754SP17udvqgPHdqlPZn2sDAZDeYcuykBycnKp/iIjI+XvLv7ZIkP9oB4D1W3BrcJvnP9Itae+emKH6WfOvIiq4zBbRRjlUb/9BnW9QDqDSlPbh6G8q7yudt957cbqUOVBqPrgpGm++pu6/P/EfqTaUTuvfINKU9vGoGp4TlZ/pRf+nEGlqaPjUTUYppYk3Xlx52AVSFXVYc71Qmmz1EH1jicqYMCuYlpFKYO6qX7rj6rVfE1+nUqZpzlnXkS52HupWg2CVFCQ6V/9BrWVFifT/rEkXmPXf1FP+aHu77VBXSohrrRFDZUPo9UKo9ezVaT6vgXqvuEH818sbbtY8fntw1B1gpaa1DFLfa8GU0ENWZfz/9z28POfrY4Yp901RNUlWI37p/D/XztVML+T6ptGqIb9d6nUArE07r7VTNk5aQODlhbfrjsHqwDM52FIXaVGehRu1+ipKCcnJ+XffLY6rjdtF0tjiZ6qLfzdKOD2L52UD455bZ+trqhVzVA4uqk2Yw8WPZYKOvGmakFQXnvm5lGdyWpjRn6ybHVF/dAeVYmO6tOowlmceRHlZWa8lVSWOZlqp3q5Jirk3cumb+7spfwZoL4p2BY7Bys/eqqZV02TG4+33LZv+er5vDSpq1opT4ar+UXEY1Bp6tTMIOVBRzX1YGZJNSy2PY3nvhurQ5VXwfaM/Ui1o5LqvNC05zIPjlchoHzbbyz0+aLm49u/9FWBNFCjdmYVGao1bW1VPczI/bxzEfFGT9Uq9wL9aNxXVm9DrGzLuzE32ST2I9UFF9Vzjplv742befFZ0/fWbOOVurOPwHST+hWpiDFv6TxUUt8m3syZQC2ZO+VBPfdQLd9avDRpCu9NfZfwetWYE5nIuDQX3FcfYfON69Ru3pRKVZzJyswmfP8p9EmZjH18HBqNprxDF0LcZTUHdaRagf9rcOa+7k1QK69ynZwjvzu/24t966U809j0805atyLzzmYn67+D2u9OpqNj4fc0OHP/mx9x/9wP+fmvbEb2z3lggR2N6BpWrVBaOxoTGgoLL8SRBnmXDCWf28hPv57g9IUYbhrc8QtqhpcD2B2/yg3Iq5c1eVrKwaEhHcf3p1m26f3nyrCT5S/+bPK6pfHm5ZN9iHm9+rJdM5t1P/bG18oYS1Ladinrds1iJz/+BB7TB9BAr6fgbUKG5iPoRF+ObL8CLWpC25cZXq8FP310iLeWh+AC2B+azlfhrem/pm1OueHfsS4+iFavdzZpW3sa89g7rXhv6ApWp4xgcpWi49LQgHYfmuahcRnChN5DGbpwG0eXhxCcG2u6P93mPUtTpwLlWRHLC1V0HP9VR5UmjzKoKiac+kyiN39xxuh1t4yBTJoTYpI/GXEcXPcjfx07S7ROg3OVABq11ePGRXQXgRb5SSt270WnAidB7fChQVOoejSUtkY/YV2/QxiGGTqSk8l/WI4VZf2b3dz4CEMnQesNa3gtxGiX1cr2bG0097mHdMaXNUTeAPxB98dKztGPaSNNeg67kBeZ2GIub975f+587NR8jfn5uM/bjPBswfqvj0K7kNI0QSGW1KM4NZpPNhuv39NTaf76ZP7cms1zj5o+tMbabYg1bWkNq+YmG8T9Mp+TDGPmWNO4cddSDdv7vqRtvEWsGPNFzkNGSupbV23Ovy2ZO2VReQ9pNBrCwjoS4B/A6tWrmPvph7hlaXgoxYlKm2OYf/wimbU8qeRWhQxdMo8PewJ/vxJmCPGflnzrNomJSRjuXOLsYO+AV41qOFSQr+b/GmcX091+F5Vz6eJtcjZkVy+BS5B/iRsJY/b6WOIAt3peZt/P9q6LD2lcuqgHci4F0uCCU8XC6TQ443wnzFTAGT1nZranywuXqDlgNMO6NcMvVU/y2Q2sPe6Yly7/8yXnae2i0jU9lHETn6ONuXrhw94XfyT3djNlZbyQc3/Klodb8M6x8XwdX3iBUlZK2y5l3a4Oeh064MBbgbiZ2fPTOLrS9EwiUBN7Qnhhsi+LnpnLhu+/Y3AFPX/PWExq0FLGN7rzgcsXuI4P9YLMl+cS2JDKRHD9EtDIfBoAe7ypU8v8ex73uZFBNBchb1HpQSd6GS+erIwlzQ4yHa17FEqV5j1NH/xxYwOTmvdluWEAfZ8No5WfI/rkaA6v3UY4jjQzSu5Q0dmkz5xdwDFFi1FXo3ExUKg4K8v6t8o89Tb9BuzB/fO9/NDbaNYrg/ZEueBC/u1FSbEnqUA3fM1sfjX44OULudcY587HFYK8zc7HGrxpWB9WRJXtD3BaUo/iVK5tPt5MrQ8BpHEoMRHTw2rWb0OsaUtrWDM32SL5XAyaKl74mnlwTy5b+76kbXyJrBzzZuchM0rq2zwWzJ2y53qP2Wk0+Pn58fDAQaxaOIuNhls4J2vokO7Is1FZfJZ+BX3dWnRu3wVf37I+Hi7+bS5duYpShc+w2Nlp8PHyKKeIRJmomLOAMUdv489+adDiVQuyw6O5TFurzpZlO/vgDZw+EQMEmrxvH3eeKGrgWdvZuqD0q3jn+WP4To9m/5TCG/HBnssIe9u67O46K+NV6Dn6SStG/dyTV09+xUBXy4syoCc9i0I/3KVIIzEBqG9zDcqE8RLJXpeGHru8ndVsZx+0QJv3rrD75ZIPYbiOmkHYxGF8/+2nDB6zka9W1iR4/bD8MepbB19+5VwEYOZe1LTI0yRRkzolDOps4orMI+F4IvbV/Kld4DUNblQ3TmhFLBq0PNAT9K//yPKrg3jSaJ8rfcNMNuJIXaM8Krl5m+z4H/2kLz/Ej2dZ/Ff0KDCOsllN6ophZfqgqrIoK93MRKVuppLBXTiqYo5uMWM6fYB+2C5+fyHwnrSnq08T0okmMhm6GJ2ZVsQSc5a89VZJ87EijtNnwal3CTvq3Nu2Tj0dzQ3amiyGKiRGEoULNd3MX/Fi7TbEmrYsqKznJmt51vXFkBLD2SxoU8QKqSz73hrWjnlz85A5JfVtHgvmTnlQTzlJTtZRuYI9LtVcWFMljV12GeirONFSU4GmTQKY+NzzVKpUqeSMxH+a8YISIMvMZXziv0Vpa+LNRU5ujiz8evYhftxiW54atHQb3YrsiBl8bOaBPFlR0UXuSNnTnuGjIWHaVH40+u1uhZ59U98gksEMeci63+rSxJ4nGm8atyq8QFPoOLbDqqzuCWvjjV3bhSGv1uChLWt4wcxlTkVx9vHHnsNs31e4n+zjfmbjRVsiLxtePpAasYltRr+ecXPrEnaTf0DBnvYMHwYXP11k9mmKJo/+d+nLi2MNHP98JbsXTGd/lVFM7p8/lrIbjaFXvYvsecH0IRoq6xTzPjhA5ebDecjMJaaF0nKGHe+aySNtNV8tA+/+PfPOUhbF2lj8xq2ih8dKXu0ygaWHUnJezIjj4NJRdH7zBm6VTefrDKODDwo98efAxS+Ulkbv2Ydv55TJuUfblbYsO3zwrwlp6/cWah+Fnr9/2G72t/MUesvOtFjIYNjFO50fZ4//UlYsMV0A3a321HYdzf38xuJZkSbvpe55ndnh+f/PnY9Ti5iP0ze8zPL4YNo+XfTEYUtbl1ZsxOe8drhwvAo9p7+ZxjF60KuP+W2AtdsQa9oS7uLcZCW3vpNpynq+nWYaN0lRxOrLpu+LY6ie85MiBfvfljFvPA8VJbdvb0z73GzfXjuf86Ilc6csKstJZHQMDs72pGZkQ1Unlntk8Peg+1FPdqdFvwf4Yd1K0tNL9+UQQpQT574MHwjHpo1k5IqDRCYlEX/uV77pO5TVGcXcNFYCpyErmd7jKMvat+eJBQeJSkxHnxzNzgV9CG7Ykad+Mb9rp8GZB6avol+1hTzdfAyztp3jSno6CRF7WD+pHQ/P8aPtqvcZYsGlMgUZ/DvQqeZFtr8wh7/vXOmjsk6x+dU+vL7b9gth9Kv60bxRTz5lxhL0AAAgAElEQVQ8VXJaa1gT763dY+g3+BjO78xmSr1rxMTE5P1diC7697sADF2f52HXM/w0eCTfbb2ELukqZ3fO5qk+KzjvZWUjl6Ggx9+kNqt5v98cNpxJQJcSzcGloxj00XW0BS6f0+DMg599Taj+JYb1ms7G8JzFVHrCYdaPbUgz9/GFdj5y76nyj3qfh6eew+vt8YUuR7YnhJcWjaby4Ufo0GU6mw4ncDMjkYv71/Fl9xZ8eHIAL64dVOLZdw11qJ4+mZ5hs9l0OCGvXce2HMrvmvG8OqPknTirY3Efwne7FzPMZSFjW1TFUeuGc1V/hs6qzrM/T6PLrSzss4s/w6/BmVb9m5AaMYMX1lzOGzvXDs7iySeWEE3Z/fB6acuyI4B+o/3QRbzEsEkbORifTOK1w2x+tQvPH66NyegNDKYWB9jy7i6iEmI4v+tMqc66Gohi9UPt+er4MN76pgOOBb53MTExRCWm37X2VD7PMH1KJsfe6kKHDzdyJDqZxITT7Jo/lAcfjae20RELpyErmdXjKAsKzMcZ8eH8vXwo7R/ZgevIOXxUzL2rVrd1WbjfiSNduzBhwT9EJiWRfCGnvN5v6Kn7wXTGFXFgx9ptiLVtebfmJmspn2eYObM2EW91of2knLjTMuM4t/V9ejcOpOeYQ6RR+r4vjr/XA2SlbGLuuvPEXTvN/oMJd3UOye3b3tXmFurbpIt7WPl0fYLrPcGseMvmTllUlgOlFAnxV0lKSScpRU+1qo5Ucq1MlnsVqtVw4+rl65xauoKln83AYJCzVv+vmXkGk508mOk/T4OW/kv/YNr/sXef8VEVewPHf2f7JtlU0iGEAFJVuoCAgHQBERVFxX4tiHpFrnrFdm1XL5ZrQb12bIhdwAqiSO9FWoA0QnrZbDbZbD3zvAglPZsG4jPfzycvsnv2nDlzZmb3f2bOzOgdfHH1QLqEhhJ7zjy+veB93p1hb/Z+NSRx5dIUPp2jZfM9Q+gcZsIcksT4h8oZ9MpyPp7awOiG8Bm8mbyUB3p+z2Ojz6K9yURM99HcsCKBW1Zs4fMZTR9KpFHG8tQPbzBa9wATwkxEx4YQaLmMlxwP8OodzQ+endbtHN6fztHmrOrdAH/Tq5LNl39/l22Usfdfw+mZ2IlOnU7+9UqayatpDR/nubUvMiXgU24em0B4aCwDLvkB/dPvcX9Cw+sEtiXRez6ffn4xln13MrVHNBHBPZj2bBA3LXmAfjXD5Ljb+HjnIi51LeTaXsEoZhPm6KHM3jyEu7a9VGsosIi9nXnjC3DnXMacW2o/zxR0/jv8uuVJhpQ9waX9o4kwhpE4+Gbe8sxlYeoSZvsxfYCWJKZ/sJLHuy5izuBowkNj6T7iEdaFP8ibaf4PT25qWvRdruWVLRXYcvey9ssf2bA/n5Qtz3N1SDpphBPZvvFRRSHX/cTiZ9ux9aYOhIbEEhtq5Jybd9L1zVeZTPPbhLY4VvSt6/hyTjQpb0xhYEwI4VEX8vDB21j0wkBqnqmIncvLz3TkwLvD6RzdiVHDP2RHC9KuWfsA83+EIt9iru/bsVq969SpE2Nv3Noq51gXBRPnLsjn55d6U/7KNPolhRAe3ZcrX2rHXd8v5dYaQ/6Ot8ffzNGyet5AOoeZMMb0YtLtmXT790Z+qqOXtaam5HVriOn6JD98M4G8Z4fSJTSUkMT+zHhNZeDr6/jloQaGPkKTvkOampdt2TY1hYKJHnft5PdFwzF+NYN+SSEEGOLoNmUx6vhlfPlu5WRkrXHt62O85h3+M2knX17Wlbionlzz0B9U0MZtyIlr+zvPTKi8tmEdR3PP5mE8sOYD7jp2vRprOxUh5CKIp0NKagpjL5yJx+XF7SnAqHMQ1+ssvE4PoXlWbjjspeC28Zj69icxoSMGg6HVZ4FVVRWfz0e/fv1o167WkydSK7Pba1f63IJCiq02jtdCrUZDh/gYAgNqj4QvKCho6yT+v5aUlNQm+3XnppFm1RCV2JGwps5C0wCBE3t6GlkinMRO0U2b4MaWSnJqKb7YTvSMacE3cBVtdZ5t5VSkt0XXqA0JrBzZn4caGkunWD+uv8tKRmoeIqQTiXENPOdV4cSKqdH8dOftIz1Lgy6pE0mhfj43tnYG3YYXcnPqKv7RCXDncOSwC0unxBZdv8bSopLN3rV24oZ1q/YjUeBk1z8sjHvucp63fcKsRobunuCyUpCSS3loUsN52Rpaeix3DgdSbRhi/LhO7hwysjREnepy3ob5aU9No8gU599+XVYy0tNxeuNI6NWMPGhKXrcCgZPSvBysPj/Pr6YmfodUzUuBk6UTzMxxLCfz94tqpKuN2qZm8ut7oqXXvh7O0jRyysNr50MbtyHHr0FjeVpX2ymDytPE5/Px3HPP8d67G/B6HZTaDtOrZzxHjqYT4lHpfE43ug8ezKHUg1wwLAJrrp4uZ43AbGr95josLIxhw4a1+n6l6uoKKptCBpVtq62CSkmSWkHNoPJUyX6RKT3nsjlpJjMuH0mfntEE2lLZ8vV/ef8bDUPfX8uy65o306Qk/X/UUFApndnk7K+niVarZcDAAbz37loMulBM5jjOHzGC4fqRDB44lPXr17D+11UM7BXCLZfEUlro5JOVR+nZo3UmA1dVFYej8jFgOSHQ6aUKUWUUrMKfcfSrz+ejoKAAk8mExWJBq61//L4QAqfTiU6nQ68/fc+PSZL0FxLajW49A099L3jcPSw7Mp5l7y3ky01f8PHiPIrM4ST2voP/br2dWf2bP8xbkv6/CunamXhf64ySkf48ZFB5mrjdbp5/8QXCLL0wmcJR89y8/9abvPb2u0yYOAGP18PeTT8y/oIAHMUuNEJgNgiGjxiBroEf9P4qKyvj119/BWj1YbWS/47m5FFiOzndmYJCQvtYLEFtE+gLIfD5fCiK0mBgWBej0UheXh4mk6nWZ48/+6vRaBBCUF5ejtVqpUOHDphMTVymQpIkqabeT7C0lSdu8ltwT6bcvZApp+nwkvRXomBi5CuH2Xi6EyK1OjlRz2mSl5vL0TQLGo2esrJsYtvto4OhkAfvm4fb5SLAbCYwKJSDaWXs2lvE2i15FOetITcn53QnXWpFVlv1+bMFgpLSsjY7nqqqlJeXk5mZSUZGRoMzDKuqitPpxG63Y7PZUBQFq7UYu92Oz1d9Gm2Px0N5eeXMo4qiEBgYiN1u5/DhwydelyRJkiRJkv6aZE/laaLV6bB4fyPKuYRu8VrCzD6ytWCP7oZWq0Wn0zFy8lXs3L6WDfusBGhsdO9i4uuv32fKlGua1MskhMBut9OhQweCg/2dTUA6FerqI27Lx5w1Gg16vR6NRkN+fj55eXn06NEDgJycHPJyc7CV2vD6fAiNwKd6cVQ4UFUVjUZDia2E1PQUzKYALBYLYaFhhISE4na7cTor6NmzFyaTCZPJRGRkJCkphwkIMBMTE4vZbJa94pIkSZIkSX9BMqg8TYIsFpJ69sWZtY1DBR60GgVtYATTLr8KrbbyskRHRXPJ9FmcN3gw5WVlpKSmkJaaxh9//NGsY6ampjJq1CiCgoJa81SkM4iiKJhMJsLCwnA6nRw6dJD09DTKHHasZUW4PQ4UrYJGp0Fj0KA3GPD4vCeCSg8uKqw2tFotRpsJU54RrWLCbi1DURVUVaV79x4EBQXRrl07MjLSKS4uxmQyV37GWDlDmM/no6KiAofDgVarJSKiuZNvS5IkSZIkSaebDCpPk2CLhTc//oq9+/ax548/0Gg19O3Tl969e1frzdFoNAQFBhIUGIher8dabG3R2pVer7c1ki+1Eq1Wg89X/Xq2xjOzDdFoNBiNRnQ6LRkZGWzduQk0PsLig4mMbYcl2IJWr0Oj1aDV6VEUBSFEZVDpdiGEinLs2Um3x4XX6aBC60T4BH+kbqOk3EpcZDxxcfHo9QbKy8txOByEh4efSIOiKCiKgtfr5ciRDBlUSpIkSZIkncFkUHkamc1moiIjT/ygDgkJaXB4YHh4OEOGDKGsrGnP3GVmZlJcXAyATicv+Z9Jx/ZxlNjKgMohr1qthnZVgq+24na7SU1NYf+hPegCfZgtJiJjwwiJCMFoCkCj0QDixPqZx8ul3mCsVkaNRlAsCqFR4PN4cHsqSMndT05OJtnZ7SkvdxAYEIROp8Pn8+FyuU4Mvw0ICAAgJeVwm5+vJEmSJEmS1HZkhHGGCQ8Pr9bj4w+r1XoiqJT+XALMZgLMp3aOfJfLRVbWUbbv3oI+xEdCxwRUBBoNeDxudHoDilL/UiA1n/k8/r9Or8ccZEaLhuKcQjbsTsVIIP3OGYjb7SYnJwev10tQUBBhYWEYjUZUVSUoSE7JL0mSJEmSdCaTQeX/A2058YvUMnaHg5IS+4lrpNVpiI6IQKdrmyGwQggKCwvYvH0TmYWpdOweU3ncKu83Vl6qvl+119LnU/E53CgKhMSGY7AEYC8oo8LrID0jDYSCx+NCo9GSkJBAu3aRlJWVtWg4tyRJkiRJknT6yaBSkk6jzKO5qKqv1uvx0VFtcryysjIOHjrA3v3biOlY+zlGrUaDRml4pSGhqscCQQWtVlP5zCUnA0whwOlwozcaiO7Ujj/27iDcEMUFQ0cSHh5BRkY6WVlZFBYWotPpiImJbYMzlSRJkiRJkk4VGVRK0mlUV0Dp87Zdz11eXi679uzAo3ViNFcfdqrTGtHqDGi1WrTaysBSCIGqnuyZ1Bt1eN3gdXkoKy5DuL0YzAaMIQGYTOZq23o9XlSfQlKvDhQdLeFgWjLnmvty1lknl83RaDQYDIY2O19JkiRJkiSp7cmgUpL+4nw+H4qiUF5ezr6De0jLPUhsYlit7YwBAQSFBGEOMGMyGtHpdag+FWeFE3tpOaoqcJY7seZbcTnK8Xg8uL1eNDbQFekwBwUQHB6KwWA8sU+h1eLx+ghvH0rqwQPkZGXT5+x+hIWFoygKsbGxJ5YZkSRJkiRJks5MDY9zkySpTdX19GJDMwA3RXl5OcXFxaSlpZGcnMy2rVtIPrAPo0mLXl99Ih6TOYig4CAMej1ej5fycgcVjgoMWh3tI6MJbxeKRlOZrrCoMKI7xhMe247g0GCMRhNen4rdZsdWVIy10Irb7cTrdSOEwOv2YTQaieoUSWA7E1pt5TOVcXFxf5qAstmzIntS2fLdb+y1tm56TiUfe/lq3hzmfnb0dCelSVK+/4otJaf2mGU7fuHnZbs4CuBJZfUPP7I+1X1qE3EaFX82jZF9X2F9G+y7pXkrsJL22Q/84WqDxDXAx15en3Qu01/POrUH/n9EYOWnmd0YddNyDrZgPyrZ7Pn+B1btK23keE4yN37P99vzW3C0k1rUxu55mKm9buDtXP82V1dcwciO81na9CM1rmwt36w4QkVb7PsMIHDy251dGDx77YnXyn9/hnm3vsnvJce3qSyrQx/Z2voJKFrGc3fezdubW3/XLbFrXm+GXbmcImRQKUmnVURoaLXAUqPREhraOrOharVazGYz0dHRBAcHk1+QT1ZuJiaLCVElbjUYAzEHBOF0OinIzSUtOYU9m/5g04rNrPl5HevXb6awoBCjSY/RbMBgNGA0GQkJCyM2IY74zh2I6xhPZFw0IeHhhEaEYjIHYDSZTgSiqk8lPjoSS4iJXGvlLLCBx9ZePd0TSVksFhISEpr34SOfMnfydfx708mXVLL55uoejJ+/t3US2MYE2Wz65E3WfZN3upPiN5VU9rx9NZM6T+LRdU1bYqm5BE7W3z+GW6auoBBg9+PcNOk2Xj3ctuvK+utUlDtN8TZSdqbjaOX9tjhvy9byxuRIBt/4FmuyWzlxjXKSt303R484T/WB/bflYcZ1n82HDcdSf1qOldcx54s4Rtw4krNauK+9z0zixnM/YGcD2yglr3PjkMt4dkPr1O0WtbElySTvy8DqZyTnsqZz4Eg6rRMOV+c98DOvXtGdoVd/weFTfPPmz8J2KIWsPbYT/5fu/5TPP/qRncfyQ1CBLfkgeXvaIINyNvPNh9/wY3btx6ZOp5LsvRzdWRlVy+GvknQaxcVEEhcT2Sb71uv1KIqC2WzGbrfj8DjAqBIQWL130GA0oaoqJUVWbEUlmLVG2gVYMAbrMJkMqDrIy8wFRSEyNhqdTle5fqWioFE0KAYtAVot4tjkPRrtyXtVQlD5vwJeRcWr8VBqLyAzM5OePXu2yXk3hcViITKy9fPfdvAAh7WnuButmXSM5dnsM6u3TUMSU7/K5udnhzFl+HCO/ryWd8YEtukxBdmkZYHlpon0AUT2Xsq5kGmj/hxBJZxZ5a6qFuWtYwWPjhjHuzzIoqynmBDS5sk987iSOZRcVhmYBJ/uxDSNwMrOg4N4dP39XDOw/qWu/KEhjssfnsy94xby8u9zeHdE3dulvz6XPdzIwmtqT2bXHGdiG1sX3YDHWbm7N7cMv5yLL/iQT1dfw9l/jsFGp03srTvJuPUUHaz3E6wteeIUHax5ZE+lJP1FabVaNBoNbrebo5mZ5GZn4Xa78HhOTgSkKApCqJQUFVNWYicxJpKRg/sycewwJk8ayeRJY7hozIWMGjiAKLOF/KxcHOUOVNWHUAU+n4rqqwwmFY0WRaNBCE78KQpoNBoqKirIycklvyCPgoIcMo+mn7Z8qcpkMrXq/gROPPm5WJ2gL7aSYyuhpKSkzrvM7rx9bNy4kf05df/YcFlLTgwzElgp2JtOUfUNyEjewY7kA2Q30kkisHJk5wY27EiuMy0ua91prJrODfvz6x32VDWtnvTtbNy4kR0pjfyIcuewa8NGdqTV330icJJ/YAc79+VVP3dAIYw+92/ju3sL+WHsLF5La/hwuKyUlJTUew4VrhJs1vrvLqtkk1bQkYHX9gIgL2UPwcMvYUodv3MFTkoztrNpwy7SGhoa7Ull14aNbNiRXO819Cdv/S13Aiel6fvZtSOZ9OyG76Qfz/uG0tacc6maptL0/aRZm5a3Valk880143g9ey5v/Vp/QNmUuuZ3+fVHSQ77k3eyY39GrfLrD3/LkTs3jeQdOzmQaqtdvl1WikrcCJwU2wooKam7nB9vIzZubzytx9OUWuI6kc766pbAiX3/sTytr667rNXS5CxNq3KtzPS6ag6X1hFQNnje9VDH3s/N0QdY8/QvdX5GFSt443GIumo206uWJz/a24ba7Hrb2Ca041BZlnev31lvWW7IifK0ruE6XZK/n13bMurepv0M3tz+Pv3TZnHzDdv8yveq+YI7h0PrN7AjrbThzzZSd2qVOXcOGWl51ffZ4vp37Huzge8+KpwNfm80Vq8aqjs160VD2zZaFxqsYw1rStsgg0pJ+gvz+XzY7XaOHMkgPz8f1StwOqs3JGV2O/aCUrrERzN04Nn0PbcbXc/qSJcunejcuRO9evVi/KjJTJt4KTGBoTjLyvB6vA0eV1EUvF4PRQVFJO9OZuvq7WxatZWUveng0WAJOv23yy0WCxZL6ww1Pk5lCbOi+3PPHkj+bgpxoWGEh8Uw9j8nn7cq2/IS15yjwZhwPhdPv4BecdEMGvsRm6pcFg9LuCU8jGnvlFOw7k6mtA+nS+/ZfJwHwreN9y47myRLOInd+9Gvew86mGPpP736PgCEdy+f3NqTeGM4HYeMYnS/7kSE92Dyo2s5/nSPj238u0cY4x9Pqf7hzGU8PC6MkJheDBk1kqE9o4mIGc3sDw5X+9I6ntYJ72zlvcsjiO7UnyFDhtC/SzC9J75dK00UruTFC+MIN3Zi2KUTOD8piva97+CDfZ5qm9m3PcrkbmY6njuKUf1iaKePZcjFC/jx5MgjFEz0XvAN9/X+mhdv/6XhL7yjrzMl7Cwu/7S89nUTK3ggKozznj9c78cVsskrmMi0Y70beYd8JF43CnOVbQRWtr01mQHRQYQmDmXE6D4kRcXS5/K3qz3/Kbx7+fpvA0gK7Eyf0SMZ3a877cN6MHHOSqo+deVv3jZW7gRW1j87hgHRQYR06kmfft1Jig+hfe87eC+9er4LnBz+fBbDIgOI7tGPkUO7k2Dpy7SXt5KlDaiVL/6ei0o2314YxoCr1+HK+px/jNAR06kvc5f7l7d1Eevu4R9f9+HyL/5TZ0DZlLrmd/n1x6FF3DQyhvCwOHp270u/nolEmnsw6Zmtfv249bccFS+9mYu6GTHGJtG9X196dA4lut0k/r6s8MQ2yfPDaTflWzL4lX91iyIsLIyu4bNZfOx9lVR+uKsfnQ3hdL1gOhOHJtIhZnS1fRxXsPYxLuqmEJLYnwtGnUfnyETOn/4ROzc+wLiwkTyxr/b2l3e1ENyzPyNHjqR/UhSxfW7kra3Vvz/SXwind/jjrOMAi2cl0Dkkicn3bwFAyXmBKWHncsfvTTvv+ugYxm33J2L7aSFv1TEa1bn8GT5xDmb6U/0rr4Wf7W1DbXZdbWxT2nEAn9jN4lkJxMT0YuCFfekVF1xnu1kXgZPURZV1OqTLRUyb3J2Euspj0TIeGRZGbIchjBhzFu3NJhLOv5GXalwvwq7jjbdHk7N4Ds83Mtr+eL5M+iCL7S9Npme7OM66cBT9kkKIiBnNbZ/XeM7Uz7qjrL2W88Km8/IRO9tfHk3PdnFckPQhyU3YR31Usvn1vvPpbAgnse8oRveMpkOH6Ty2qnb5qlh2Ad3Cb+TtmuetdXJk7b+Y0r5yH0P6V6ah6ncvgJLyAlPDzqtWvo9Lnh/OuVFvnXiOuCV1oaE6Vn8++N82HCeDSkn6ixJC4PV6qaiooMJdgdakITg8CKOx+h3fknwrFp2Jvj260T42pvI5yCpLnSiKjuDgePr0HcqooeehU8HjcR8b7lo31eclJz2brJSjFGfmU5iRT05qPsKhp0fnczjrrO5tdt6NsVgshIWFtcmwVw1X8Gb+Nl7sDd0uWkZqbg7ZOemsuC++coOUF7lk8D/Z33Mpu0ut5GW7sP3xLN3SZnHVhC+oOY1Dxb6HmD58KbZxL/PG8meYHg1CG0vCqNt57rcMsioEwpXNjmVXErZ6Fjdcse5EwOdjL4vG9OaOT7pz+5eZFFY4qXBls+XlzqQ/eTMPrW3guYziz7h2wFSW2B7ks/15OCqcOPO28dGV2Xx7/TCm1TEpSfJjf2PR2UtYU1yZpt0fjkb8fDt3zj75q0NV1/Lo0LG8YL2B91Pt2LNLcBQs56HI//GPfn8/ETB6WcuTFz9O3nlrOeQqodhZQf66BYyJDiGsRqShpT+3PjwIx08L+aKBZ8ZE59u5d3oBe+Yurj3Zx8qX+bZ0FDfd1Kvez2t8nbl08T1MPfZ/4OT3mH/pySG3AicHnunOuDtTiH/4Nw46nTgrKsj8/jbab5jDHc9W/qA8fl1uWH4Wt/x08MR12fTW2eS/N4GLx/9Sqxw0lreNlTuFMKK6j+eO97aTYnWiigryNr3NJQGvMf+cx6pNvFO8fArjZ6zAfclnbM124ayoIGf9bNp9NJmrXq/eddGcc0nTfs99Q2awRHs3z3/0M09Objxv6yKwsvK5z/B0u5d/DqtjmGwT65o/5ddv8XGMmvQS3+3Lo9ghqCjdy08L2pP8z8lc8V7DP2v9LUcAwYkjGDtvBXtzSigXFZQcWclLozaxaOoMFhzrue/2VDGZy6fRkVE8sSOfnJwc/sh+gWnH8vD3mztzxScx3PJbAS5bDlZ7Ct9dV8yXU8dyy/aTbYR32x1MHP48eUlvsSLFjdPpxJn9BbMTXmLm9T+STvUJ5srW3cSo4a+TMWoxW7NdVDhLKDn4BfdFLOa+geN4Yn/1QMURnsv3Vw/mjs3DmP3ut/zvsUH15pE/592Q6NsfYyRf88Eb1dsxlWyWLViFvt+9zEk8dj38bG+Pq6vNrktT9usjla+vuZznyp/m25zKOpm3+RUuCXiNOedc1+gkPtbPRzPi+q2EP72bQk8O2dYKDnw2gPzHRzHpueM3npysvnMq7xXN5/e8yt5s55HlPHtuICHhtZ+UM075DzdGb+Tjl7c1fPBjMl+/jFkfdeOB1fk4Kpy4jqxg4fBdfDxjLFeurHKjrwl1R1DBgXemM/XBCvo88AEvrrmObk3cR00CK5vvjGfKCw4GvLaFo8fatN9eiGT9zIt4NNOv0yX30ENMv2ojg948SJHDibDtZcW/2rP/6dFcddPeVpvsqCl1oSl1rCltQ/UPSqdVRkaGWLp0qVi6dKnIyMg48fqqVavE0qVLxapVq1p8jB07dpw4ht1uF0IIYbfbT7y2Y8eOFh9DalxpaWmL/lJSUpr0d+DAAbFv3z6xceNG8eIrz4tb510rbn7wMnH7o1dW+xt/yfni2RfmivXrF4lduxeLXbsXi737vhFp6atEQeFmYbPvFR5fmfD4ykRB4WbxyDN3iLufvFE88N+7xUML59X6m//KXHHrQ9eIaZeOFnfOvVq8+OqD4oWX/inm3XereOyJh8RPP/8oDh061OTzaY2//Pz81r2oh58Sw0gQV/9w8iWfyBLvD0AkzVpbbVNVFIsfpyESO70iatY479oZogt9xK1bKv93i0/FtSAs9BFXLSv0KynW19uLGG4Unxz7v+izISKKIeKJPbW3dRZbTx5bbBWPRiMGPnD4WDorxK83ISKj54pVruqfU0WF2DkbEclM8YGtelrPGr5MFNbY9reZiFjLg2LdsdeK3+8tYrlEvJVTY7+OJWKWATFowdFjaXpfXI5eXLS4zK9zF9YXxBjaiUu/9ja4mWfb9aI33cSc1VXTWSy+GY9I6ve58C+n65H9lBiDWUx8tY69FBWf2HdD16V86VTRme7iujWV59GUvK2v3DXoj4fEALqdKHcesUbcF4/oNX5lrbxQy5eKv7VDRDNXrGjGufhElljSF4EhVAy9ZWvL8loI4RE/i7uCEf0fO1rrvebUNX/yuC416099jqepQ2PlzM9yVB+fWke+rLlcJDJRvJRbY+OUh8QAEsQl31avZz6RItDuFFsAACAASURBVN7vf7JO+ESW+HQ4onPMWyK51nlViA1zEHr6in/urXzteJ7UVY68Yo94oyeic7cPReax19KeRhiNRtGp3ytit7N2fgwjQdywWjSozvOuhyoqxMYbEe2pcW1THhLDSBAzf2q4HRGidnvbUJvtbxmpa79izeUiiXrqpGOJmBWFOOeqrSdecywZJKK5Srx17H+f+rO434QYeNMe4ajx+X3/RsQyWyx3V17z1wchekxbW2u7+my8EdFR90qtMlHV8Xyp6/vEJ1LEp8MR7SMW1Kqn1c6zrrqz5nKRhF5EaGeK91IaT2tT6t8wAsWF79beyrN1tugPov3w5Sdeq5Xfx9o5Uz3tYtrTYSK8al08/JQYzll1lu8D99bI3xbUhQbrWF38bBuEEOK3mYiO3T4UhUIIOVGPJP1FCSHQaDSEhIQQHh5OYGEADlFlfL4AVJXSIjtR8e3RGLT4vF58Pi/WYicms8BsNuJ2V2AwVt5XU1UVi8GEze1AraOnUgiB0+kkLzWHoUP6MHbMUKKjozCaAikucrL7j8Pk5GUREx1LUFDQqcoKoPL5ybbonfSXlzV89Q1ELbiE7k4nVft81H7XMJqp7PgtCwbEn3g9st98Xp5cx2QRedtY+uNqkrcfINUZQHDHnvQ39MREDjl2EBYra97ZgHbwh9xeR+ebMSy03nT6WMPX70DCY3MZZaj+noKJcx96inNfe5JvV/mYNe1kD1H8ZaOIqLHtOeN7IxbnUsixO5+L96Ad/SiXhjlxVskAoRvOpAvht8UbKJp3GWGMZfoED1fdMICLf5/LrTdfzKh+UfUOh/SEdiaJQg5klQD1T66h6fcw8wZ05smnf6FoxIVEAIp1Ce/8FE7fry9p4JONy1n6FnuYyUu31LGX8DAijuXBmnc2YOz3ed3XZcojXBM9gK9f3wnD+p94vbG89Ys7h61ffsWqXQdJsyqYLEn0PN9JKEewHgEGgC71J1ZlJTDokwtr5YUSMIV7r4Mfnq/8v7nnEuqezt2v9m9RXkPlkNmcUojvElPrvebUtVbJ4ypKDy3nm+/+YH9GOsVqOInd+hKjA83uXIqov5T6U46OEzjJWv0F32/czf7UUhRdJ+IHxSDag+dgLhBfex9V5C59jixu5PGRepxVKyRxjLimC457fmAdlzGRraxaA9HPXlJr9lUFE4Ovu51ur2448Zp23zt8mdeNQQ/WLkdaenHto4P41xWf8Jn9GuYeewJBdXVi3P/m+DXxS0vPW8HEefMfIubdD3jhm8cZOk2LwMnu558kkwU8O65Gz3cj7S1VnqKot82ui5/7VejOsCfrqJPmGdwx+QquePdXdn7cnz51HEKz/2u+c/bh4tu7odSoC13Hzibin7+wbBdcNCCJ8TO7MP+eixhw2R3Mu/56pk7u2mA97Xi2CZ83jSPQ6Ky83W+v/X2iIYkZ80by94u/54e8efQ51qvblLrT8+EFXJ9U+3jNrX/WnxdziIt5ZlbtLTT97+XOAa/xUCPnChDZb26d7WLibU/T78G5/LLSx11Xt3ySt6bUhabUMX/bhqk1PieDyj8pcWyZBYfDwa+//tqifblcVQOJ07t8g3TqGAwnW3B3uZOyklJEkIpOd7Ihczq92B0OAnQBKD7wqh48Hg/FRSVo9TZi4oLQeJz4vIcqt3eXI4RAURQ0GtBqNQghUNVj5UqouCscJEbHM378YIJDgnF5nCgaHTFx7fG6DezatZecnGy6dm3p5PBNU3NtzlNN57RiBTY/3JnQOr6VFEMIZx8ooeqXQLuZQ2p9+ZWtncOEMa9xpP/1zJhxHueYKrCn7eWnjbsoox9Q+YM/NxPM3To1+ce71plNDhDatfaPdQBfbBfiqCDziBM4OUTRZK4d8plF5RCZ8ippytp3DbF1TqhipH1YybEv/DiuXJpC+/ce59+v3c+lr9+CKXEi1y94macv61JvcKn1NTzxkoYkLn9kNI9OfZ438y7kn9GQu+getjKbD6a17Au+9FA6iiWG9g0Us+N5oO8WW+d1UYilx1nwSWr1GVwby9tGFS3j7n5T+Vi9hKlzRjIo0YCzNI3tX/zKPgz0Pb5dViY24kiqp9BEnd27xedi6Tex0Ql4mqK8jmV9m1PXWpzHxwicHHhpOGPuyST+khuZOa4viQ4npQeX8cXuyja5oSVZ/ClHUPm802eXdeaGVX2YcvVMRvdNQnFZSd/0BevStbjqijBqsB11ksNrXBL1Tp3vh+Ik00vjvxRrPmp7NINC4ujare7NzZ17EEQyhZnAsUnAoxjNpAGNp7k1zhtATbqdecOf5MEnvqZo2mWEVyzl+Tc1dH32BoZW2c6f9raqutrsujRlv1pi6dih7v1EnROKm8rArs5TP5pBFjt57vwgnqvjbS2xnHvsrkni3/9gU9J/eOb595l72dPc6e3DhIcX8PSjY+oMGisU/ye6C6vj5g+AEt+RduzCXgQiuml1R6EzPS+qfgOhpfXPlr0HPeNoX0eZV4gjpj3482BmUELd7aInLI4kKthW0vANUH80tS74W8eg+W2DDCr/pLzeyucNVFWlrKz11mE7vl/p/x+fWyDcAl0dtb7EZUNog9CiQa/Xk9AxBoPRSEW5HUVR8BgqJwNwuxw4VTeKVouqChQt6HV6PG4fPq8PVRUY9Hp69IrHYglBVVVs1kI8bjtR0QJTgIPIKAWP59Te3GirpUOawmeKIwwY+q8s1t3n35dJREhstf9VUvn41oXkDP2c9asuo33VN7fZ6D6gcnUyhTBiOoBvXxpHOb/6dn6kMxbY/0c60LnW+9qcw6QSSXRC02bOPZ6mjhFfsO/3yY1OwoI+iWG3vM93t4A7cyWfP/9P7rt8LHk/HeaTGj0J+uwUUmlH3FmNLytinPIfrus6gK/n7+W+t2HJi07aPzCbMU06m9qiu7RHtadz0AtD6/lmbey6CHLYfxCMk+v+AdZcO5+dyqd5s/kob2G1CW18fIbjk5knfyPFdyCa79mX5YNetYPsI5v3AONadC6BobGNX3s/CDqTZIL0Osppc+paq3Eu4dG/76L9gjQ2zav+g/fy6I8Y+UjDH/enHAGw4m7+8WUfZm3bypv9Tl4rlWz67InnUT+SGtw1kVgm8YZzYa0eh6pUBjB0APz03685eN/N1QIMgZPdC18nmb5MOf5i+4605zsOJQN1PFNYkbIfG/F0rFJoFEJp50eaW+O8oXJ5kSn/GM39U1/j1fTLuGv1E6zyXsG/bztZXvxtb6uq2WbXpan79ZFTb17m7y5BG9GJeldabt+RePowZfsOnm5kFS8FE12mPsLbUx/h7dJ9rF3yL+7++wSmenZx4Mna3W75u0vQxvao/9hVZB2uuwdZZGVQRCwxETS57miJJbZmoWlh/QuJ642LNFJKYUyN+QQF2aQfxK9Y0LE/jSLOr7WpviSFVMzEhx4bLRRQWYfq4mxsNuAm1gW/6xj+tw01yYl6/kQU5eQt1w4dOmA0GgkMDCQoKKjFf0ajkYiICIKDa8+6WfW40l9TeEQUQYGhlNuq3nMX6PWV137r5m2Ul1Xg9al4PF5U1Yfb5cLjdiOEwO1y4HY5SDl8hCJbKSqC/Jw89mz5g6yMLAwmHeYgIyaTAV+ZhyOZBbicbjwuJ4GWUKJiLGh1TsrLS3C6XKfs5obFYiEuLu70BJQ17gVpGc5VM+HIf96rc3a/hqYlP04lm7RUiDivb60f8TlbV58IDhTCGHfjIHzJz/PvOibk8aam1XuzVctwrroR8p95mq9s1d8TONn49HxSuJwZFzWtZ08hjBEze+Nc8xqv1jGZhsta//qKhg5juPK/73NfQjr7NqfXet+64l12MZzhQ2t/tiYt/fn7/N5kv/MCX/6+kHePTOSav9cOnpsqdOpczuZr3nwmpfabtlSynSevi6Oe6+Jadh8f5/Xh/NvqnzCoUTXKncBJ3iEwJw5hYI0eYu2+39hbpZvJlzSNC6ML2P7Pr2tNZIN1Ec+/A8fnmmzuubhbaR1JLQOYeAnkL/q11sRLrVHXmkvJPkwasfQaVLMHxcqu1Y1/3p9yBGDLTsdDT8acXaMeir2s31X7owJnrR7X2DF/ozOf805dk5e4rCfaCA1xXPPi9QTm3c5VE99mTe6xTLVv4+u7h3Ht+rOI5uSNQl/Pm5jU9Qjr76k9IZLw7uV/T2wmqN9VXNSMScCbet4NMUz5F1fE/8qrL3/Bouf2EHHVvVxWJU3+trdN1dT9Cg6w+rE68rLiMxZ+BLHTJtbdSwl4e17FpPid/DB/XR37tda7lBTBPRn2tyW8dqUP5xc7an3Wy1q++gmiJg1pdOgrQMozT1ebuRsqg+tFL/yGIXY6E6KbV3cCatyfbmn9Cxt7I+fyI4terl3/HOsf5JV9dXyoDtnJL/DPGpPZCJzsf+MZdjGBSVMqy68IiyeWI+z5ofrxhG8bX61o+BitWRdq8rdtqEkGlX9SPXr0YNy4cYwePZpRo0a1+G/cuHEMHToUrfbPs1C3dOokJiaSmNAZjU+H8J18FlKr1xHfIYrN63ayZdMe7KUOhBBUVDhxuZy4XBU4ystwVlRQVFjAhk378AkFFIW8zHys+SX4PD7yswo4tCsZh8OBVw8bNm/nYPIhysrs+DwunC4HFQ47+flllJZARETbB3nHeydbey3KxiiEk9gVbEsX8r8dBeQe2cGOFDcKJi547nWGOP/BzEkLWL7PDoArfztf39KDvuGzawVxNWnpxagJkLrgYV4/UPl5gZU/vriWWU9Wnx/fOGMxCybs5KPhw7nh7a2klrhwlqax5u0p9Okxir8trXtQn4KJ8xYs4eKId7mt3028/Oshslwu8pPX8/Xdw7j01UTOX/I4M5oxhDH0mvd5dNAP/HvCVbzyS2blDHjuHLa9OYNh4YO5/lhw4t1+AwMjRnH7O2vYn1O5xl72L//lw+wEeg5KrLZPVV3Lf5/aQ7tp93Ktnz9Sg697ikkR7zLn+q9wDp/N1fXM0NgUIu52XnopgeSHxzD87uWV67B5cji08nEm9+rMxJsq13QzzljMyxN28naV6+LO28fvH1/B8CtXEzLrVZ7yc4hSVQ2Vu0HTeuNIfp57Pj96YtbBgq0vc/MNH5DGye8ELf35x0dT0O6cydgpr7DsQD5WWy67Vyzg8v5PkjumC1Uve1udi3/na+L8eddjyXmOx3721XqvpXWtudROIxgdf4Tf7nmV34/dJxHevfzwwBQeXNf44DB/y1HY8Gm0Zykv3L32RKDpzlzJ/ybfzmc1f9l17kMHNrPisbWk5qdzeO0BigDReS6vzi7htxuncMPbW8l2VrYnR3/+D5cnRnHhkyd/6GqHvcfqH28nZO/fuCA2mNDQUALCJvN85t959/2JxGI68QNfS3/+8d6NBG2/khFjFvD99nyK3SUc2fQl/x0/gCf3XMK9X1zWpBEUxzXpvBuhYxj3zDNhf+0aHtszhMsf7F+tF70p7W1TNHW/Ch1p55rLxJGv8P32yjp5cM0r3DLwCn5SZvPA8/XfhNIxjH8supjSby5l2t3L2WKrvCFQevgLHh0WzsBRH3GUygD1lg6dufjvn7Pu2BqSnsMf8M4qiBrWt1aPm33RfbyfNYrL5/t3Ayyiz3bu7HsjL/96iBxbCfm7vuO/U87nrtV9uOizGziLltcdWmEfIu52FszzsOvhMYx4srL+leTvZ+1bV3DB1Xkk+Dm8mnON7Bg7hjve3kKKzUZpxnZ+eGAMk+c76fLEAm49/l1lmspV02HXM7OY9clWUmw28g59xxtTr+Azd8NLnrVmXaipKW1DVTKolKT/B4KCgogMj0LjM1CQW/lrSlEUFEUhplM7AgNM/LRyHat/305hYQlCCDweLxUVTkpspfyxO5WvvlpLtq0IU3AgBoOekPBg4hLjsYQG4yp3Yi8po8xWjikwAK9QeeO9L/l99XYOHzpC8r40Vq3Zxv6DuUREJBAeHt7m5xwWFtbmx6iLgokLFrzP9A6Lua1fFHEdRzP/x8ofDsTdxsc7F3GpayHX9gpGMZswRw9l9uYh3LXtpeqLbde57zDGf7iGx6dvYn6PSIJjY4gwdOLGVwcy/80Z1b74NSRx5dIUPp2jZfM9Q+gcZsIcksT4h8oZ9MpyPp7awFDR8Bm8mbyUB3p+z2Ojz6K9yURM99HcsCKBW1Zs4fMZzRtSqGj7c9vKrSwctIsXJyYQoCgoxjiGP1LIwEXLef3Y0hC6sx/mv49EcfA/l9AvzohGMdNpwlYSn/iSV6oMfRVY2XLXJBamzuTh18/3e1illqk8eC9UpJnp/9DEFk8aA5XXvcddO/l90XCMX82gX1IIAYY4uk1ZjDp+GV++W/mD9fh1+WaOltXzBtI5zIQxpheTbs+k27838tMHtYdM+Xv8+spdyHU/sfjZdmy9qQOhIbHEhho55+addH3zVSZjr7afwDFL+fGn2SQdnMfUHtGEh8YyeNYPRDz7K4umVB9h0Fbn4i9tvxd4dWYyP828hW9zarzZwrrWXBplLE/98AajdQ8wIcxEdGwIgZbLeMnxAK/e0fi6uP6WI5E0n2+WXkng8uHEh4QRHRtC7MCnWTvrPR6t0XUkYufy8jMdOfDucDpHd2LU8A/ZcexY5yzM49f/hrN7/mDizQoaJZyEi9/DN/0HPnuoeg9+u7Evs/JIBdkZG/j265/YlpnBuq+uoV/GLrKJJbLKc39B57/Dr1ueZEjZE1zaP5oIYxiJg2/mLc9cFqYuYXan5uVvU87bH9G3vcFUl4uIfnO5vkZ81JT2timaul8tSUz/YCWPd13EnMGVdbL7iEdYF/4gb6YtbLQst7vwGzb9PIPo7y9hRKgRo1khpMedLA99mde/vqYyuDdP5b6F12HZcDeTe4QQoCiYut7P3r4f8sprNTIm5UWuvWs77R98hTl+XsfEW5bz7f12lszoRlxoGDF9LuX55FE88tMaFh5r91tad1pjHwomzl2Qz88v9ab8lWn0SwohPLovV77Ujru+X8qtft6AjOn6JD98M4G8Z4fSJTSUkMT+zHhNZeDr6/ilSr1SCGPahz/zzOgdfHH1QLqEhhJ7zjy+veB93p1hb+AIrV8Xqmpq23Dic0LO3HJaHTlyhF27KvupO3ToQERE7Wbq+MQo9f3fVEIIXC4XBw4cACAhIYFzzz232fuT/GO3N9xANKagoKBZn3O5XBxMTmbdrz+zfdtanBof8d07Eh4bjKqqeN0qpUVlZKfmokNDdFQ4UTFhBIdaEB6BtaSUomI7wqglrnMcQSEhKAo4HBXodFoMRiMupwuXw4kp0IzRaCAr7Shbf99ORHAIIcGBqAIUg45zzx7A+FFTiIuLa1FeNObP8AylwElpXg4OQxyxYXVMt+aykpGahwjpRGKcH9Ox1eTO4chhF4aYRGIaidEFTuzpaWSJcBI7RTftmTZbKsmppfhiO9EzpvV+iQucFO5Lo8gUR8ekkPrT5M4hI0tDVI10q2Tz+50juOLVBG5bu5R/ne//bMICJ7vvMHPxawv4RMzDj1GzTebOTSPNqiEqsWOttTVPcFnJSE/H6Y0joVcTr0s9Gix3LisFKbmUhyb5VeacpWmkF4Y3fH2q7Lu1z8UfwreN/w0ZwL9yZ/PGpoVcXNcjbS2ta83kVxlo4T6aVLfrqUvHleTvJ68ooM5jCe9eNu/owHkDg2u9/r/ze/Oc7UN+O3BNnb2P7rx9pGdp0CV1Iim0dfK/RW1aDS5rCQ5TaMPXqAntbZM0db/Htrd0SmxWmXKWppGRpSEkumO9xxNYyU+zYYipfQx3yv+4evhtHO7+OUtWXdbo0FcPS7hZuZKCN318/zcNAif5GWk4gnvQqYH7vqei7vjDnlr5HdXcduN4e2z1Nb6PRtOb8jQjuiyiy+pk3h1R/RitVRfq01DbUJUMKk+z5ORkDh6stRT3KRUZGcngwYNPaxr+PzgdQaXL5WLvnt2sXvkd+3duwl6cj1fRYYqKpOO5SVhCzVjz7QSHhVJmKyXvaAHWAhs+n4pep0en1WE06QiNC6V9UgIRUe3QaDUoGs2Jpa6FqD6rsBACn9dD6oF0irILsJeWodVqiIiIZEj/EYy/cBKhofUvadESOp0Os9l82gNKqW2ppPLZxM7cvXMmTy77gL8N8GNYE062v/ccGwO6EnT0PZ6Yd4Bzvt3LVw312EpnBOHdy7fXj+e2j8/h/j3fc08LHkmV6uZYdiFnT9uKetHV3DryPBK6GHHlb2Pl2//j+03DeETm+1+eb80dnDfmcwL/9gkfvzrGr+HLNYNKqekETo5uXMWa9+Zx55uJPJr7PXe1wiMbbUHO/nqaBQTUnIv7/2capNbncrnYvXsnv//yHXu3rcNZWowGgVb4cBYUUHxYj+mcrrjdXkyBAQQGmzFbzIS0K8FuK8fr9mIwGQhvF0psxzgsoaF4fR6c5Z7KKRkU0Csa9Iq2Msg06zAFmlBVgceloWuvLsS2j8JRVoHqdhMeGEPnTl0IDGybH/F/ht5J6dTQkMTYh9axbsBQuvh5A1mQTf72n/hozYc4tT0Zt2glz8uA8i9B0fXi4o8OM2D2DhwysGkTAVN+YX/Gcj549VNW/fwu3y6yUR4WS78hC1n21SyGte3gE+lPQDNkNgvX/rtWb3VDFMKJOac/Ae1k/1VzCbJZt+B2/nOkJ1csevlPG1CC7Kn8U8jMzMThcGCuY52stuT1enE6nXTv3h2NRt5BamunsqfS7XZz4MA+flz+Bck7N1FhK0Q5PjufRkFR9ASFWWjX92ycbjdJ3TqjM+ioKLfhclbg86koonIiH6MpAHOABa/HS0lREfbDeaiKD0tUO0waPQanB4PFRGiXeJI6J1Du8LF/8268qo9ynwedSY/Gp9A98Rz6nzOY6KjWbxFlQClJkiRJknT6yJ7KP4EOHepZ1VaSmsHj8XBg/z5+WP4FB3asx223ngwoAQ0KZrMOU2AQTnflTHBejxdzoBm3VodGozlxk0GrM6IoWgoy87BnFVFmLcG25TCWpDC6dknEW+oma18aQeEBdO3ZlQFdumGzatj99Xp8Ahw+N/ogA5GRcXSITaRdhL+rJDXNqZ7hVZIkSZIkSTpJBpWS9Bfi9XrJzs5i2bdLOLRrAxqvA71Bg6pWBpVCFei0Gsx6PVrFWLm8iEahJL8Yg8lA1XELGo0enUZHeZGdfSu3oc2yEqDTozo8RCYm0qNnN/JTcjhQuguXy4tGBZ9PS2hkNN0G9ccSEntiQqmIiAji4uLbZEkbi8WCxeLfzHCSJEmSJElS65NBpST9RaiqSmFhIT98t4wDW34j0CAwmLUoyslq7vYIFFUh1GTGpzFR4RYII1Q4HTjLy0A5HlUq6A0G1ApBwe4M2J9NiFaL6nGiKCoFyRn8+P5ynEV2SjPz0Zr1rP72Nw6m5hCb2JmEuM706nU2Ol3bNTEWiwWdTnfalg6RJEmSJEmSKsmgUpL+IkpLbaz8+UfWLF9MiBl0eqXOpWd0Gi0WfRBERJKYeBZ/pG7BLcBeasNsNoBGQaszYDCZKbMWUJhxCH1cBO0H9sZWZKVsezKeP45SSCYARsBdorBn9Rb2p6VzwaSLmTzm0hYte9OYqs9Qer3eas+rVg0y7XY7Xm/l2npms7naMFmr1Vptf20ZAEuSJEmSJP2VyV9RkvQXUFpayvatW/l56WL0Oi86gw5qzMHl9vhwVPiwmEEfKHBWeAgPDadXYj/2pewmr7yIyPZhBAZXThglhMDnAo3bTI/+PXjwufv4/df9LDnyAhUl5dX2bTCbSOjekZhBvdAadRQUFBAZGdlmgaXdbq934qOqwaI/rx9/r1OnTm0aCEuSJEmSJP1VySk/JekM53K5OLBvDyu//wKd106QSQtC1AqQvD7wCjAb9FiMoHMWY7PbCAsJp1tiL4yKiaLsEspLKxDChwJYwixERkVQnm3lm6Ur2LriVyqEF4dBR6lGe+LPFxpAl3O6M+bCC9EoOtZtWk1JSQmqqp6eTGmG4z2akiRJkiRJUtPInkpJOoMJIThyJIP1q1eSm7YHs0FFq637XpEAhApoFXR6gdHsw+fzYTaZ6dIpiZCQYHbt2UZRjg2NVguqgkboiR3em6K0PA4czcQYriNxTB8qyisQVQJGvcmA2iGYtJKjmOO1WCvySUk7RM8evQkwnxnroLrdbvR6/elOhiRJkiRJ0hlHBpWSdAYrLi5mz85tHNyzBR1udNqGgyKtRsGg1yBU8LhUfPZyAjoaiYwMxuF0YMi1U1aQTXGpk7LYUMyWIAIDA9DHBoIRguOiCdIq+HxqteG1iqayV9RabiM8IByv3YfBYEBzBg0ndTgcBAYGnu5kSJIkSZIknXFkUClJZyiXy8XBA/vYsXkN7rJCzIaGq7OqCjSKhgCdFo2iYDYK8kvz0el64/Op5O0/CAePEJqdi3LUhjM+mJIOkVS0Dyck3ILOoMWlejgRJlaJF4UAt8uDr0IlRp/AoN7nEBMVj15vaLPzb23l5eVEREScWKNTkiRJkiRJ8o8MKiXpDJWensb2TWvJTd+PQQcaTcO9gj5VoKAlQGdCq1MwKIK8whycTjdut4/8w6k48q1YcGKyOTHZrFit5WSV2ihrH0VETCgiVEXRnwy6NDodeoMOrVaLoiqoTogIjqJHt95tffqtTlVVSkpKCA8PP91JkSRJkiRJOqPIoFKSzkA2m41d2zZzcO9W8JahN/n3LKBOq8V4bOkMrQZcpXZycwtQFAVfgBlnTAi+oxWE4saIQOdVUVwurGnplBdY8MREoAsKxRxkQavTYjSCQWMm2BKCxqwBo46OHTu25am3qZKSEsxmM2az+XQnRZIkSZIk6Ywhg0pJOsN4vV72/LGLP7ato7w4G5Nei6hjtteatBoFo15BZwKNAoF6DZFaLznZWRiMJtp1PQun00mFvRxsxfg0gahJ0UTFhlJx6WVVRgAAIABJREFU9DAZh47gycnCHNuVcwckEhEagUGvwxJsoV1YFIFBgZhNAcTGxp6inGgb+fn5xMfHy3UrJUmSJEmS/CR/NUnSGaawsJCdm9eRl5mCRlFRVVCFgr6R2mzUawkyadAeCz61QtBO8eFRvQRZAgkPj4CyUiqOZBNhUwlIjCIzNIAMpwu93gyUE2zSEhhkYsSQ8+neozdGo7HtT/gU8/l8ZGVlERsbi8Fw5jwTKkmSJEmSdLrIGSkk6Qzi9XrZuGEdhw7sQnjsGPUafCq4PT5EldlY66LVCExGLUZjZbVXtBAQqlBWnktAoJnAgADMkdGIngmYx51L9z796aWLol2pm3boUBQQQsFQUYzqcpxRa1A2lc/nIzs7G5vNdrqTIkmSJEmS9Kcneyol6QySl5fHlrUrseZlYtYrxybnUfF6fPj0GnS6+ofAelUod6o4nD6CA3RoFIWQQD2p2QUIjxdzgIHg0CDyfAaytiejFK7DhRcLGgoGxxJiEjg9PtRGgte/ClVVKSoqwmazERAQgMlkwmAwoNPp5AyxkiRJkiRJVSiise4NSZJahd1ub9HnCwoKWiklkiRJkiRJktR65O12SZIkSZIkSZIkqdlkUClJkiRJkiRJkiQ1mwwqJUmSJEmSJEmSpGaTQaUkSZIkSZIkSZLUbDKolCRJkiRJkiRJkppNBpWSJEmSJEmSJElSs8mgUpIkSZIkSZIkSWo2GVRKkiRJkiRJkiRJzSaDSkmSJEmSJEmSpP9j777jo6jzx4+/ZnazyaYX0gskBAgk9NCUIiiiIEVFPMtX1FMRT+Vsp8fp77yznOdZ7s5T0bPAYcWG2BsqXaUXaQESSO9lk022zPz+2IS0TSWQAO/n45HHI5n5zGc+M9mZnfd8mug0CSqFEEIIIYQQQnSaouu63t2FEOJsUFFR0d1FEEIIIYQQostJTaUQQgghhBBCiE6ToFIIIYQQQgghRKcZu7sAQgghhBBCnHk0NK3+L1VtUpejaWj1K5vU9DTcVqXppkL0NBJUCiGEEEII0YW06gIOHy2lukFQqXgG06d3L3wMNZQePUZmZYOVmAiIiSXWV8VhyeFQlgX78VFPFAw+4STE+eEpI6GIHkreewghhBBCCNGF7OWWRgElgF5tocwGOCsptTRZiQ1LeTWgUV1W2SCgBNBxVpRjcSontcxCnAgJKoUQQgghhOhKJ1KjKLWR4jQkQaUQQgghhBBCiE6ToFIIIYQQQogupHq4aaqqGzAaAAwo7lqyqgZAxWBws1JVcbdYiJ5C0XVdKtmFOAUqKiq6uwhCCCGEOBU0G2WFxZTXdo7UVQUP7xDCAzxQAbuliPwK2/ERXhWDN0GhgfgYdNAqKSmowOKofURXDXj5hhDqZ+ieYxGiHSSoFOIUkaBSCCGEEEKciaT5qxBCCCGEEEKITpOgUgghhBBCCCFEp0lQKYQQQgghhBCi04zdXQAhRPsUFBR0dxGEEEIIIYRoRoJKIU4Ty+5f391FEGcYNeUw2u6E7i6GEEIIIU5z0vxVCCGEEEIIIUSnSVAphBBCCCGEEKLTpPmrEEIIIYQQQpymVFUlom8QfkFmTF4e3VIGCSqFEEIIIYQQ4jTk7e9FzIBeeJq7J5isI81fhRBCCCGEEOI05Btk7vaAEiSoFEIIIYQQQojTUkCoT3cXAZCgUgghhBBCCCFOO6qq4mnuGb0Ze0YphBBCCCGEEEK0m6ZpKIpywvkYA4OISggiNNQTT6MTe0UlBUcLyU6vxkb78pegUgghhBBCCCHOAnpQPFOuisLn8H5+3KATO6kvA/qYMDRJ13toPFpFEYfWprHrkB2tjXyl+asQQgghhOgxFD2YxOmxhDV9yhVCnDA9wAtfg4JXvySmzR/IIDcBZR3VL4R+04czYZhXm0GjBJVCiB4jdPQghiTJU4QQojHdK4DeQ4Lwa+tVeWc4zMRO6U//cP0kZN5xWlQcY88PO+FjPannrM2dq5hj/ekV2LkRKc3TxzB7qIbV3kX70EyETxnEwL6tnwzdL4Ih0yMJc3SsvEKc/jRqcgs5vPUIu9ZnceRQJZXH15noNSGFMb1bz0GavwohTipFC+X8JRcxIbThUifVZWXk/LiNVUuzKTYAukrwBSOZsP8IO/dZu6m0QpxFdJXed13Fjee28H55y2oe+VsWjhPvrnPClEHDuewBIz9d/TUbHF37PlxRfUmaM4zQqn0cyOvcwepB8Vw438T+f+3jqH5iJ0yJ6ceUOcXkfJlHhdr5vE7mOWuRw0zk/PHMuTCMoJoaNF8TesZhvnx+Ezsy25eF4ojgnOlGfv13pvvj78Q+FIeZftNH0v/zXew91PK+jUG9OWeekfWfZZPfzn5kQpwJ9PwjrPsgmxKt/nNvDI5ixMwE4vxBwYvoSTEELz1GcQv3JQkqhRAnna442P/0m7y1yfVgY/D2ImRgMlMXTuHqkg/4z6cSRArRLRQnlnVf89zzRdibPSdoOHvKc/XWH3h2HvTUBlaKZwgJo7wpcu7l6AkEgl2qG86Z74XnMX+KnZ8ee4fvDziBAPrdPokr7k+l8o5fSGtHoGaeOZyh2Vt5eb/ituhdsQ8hRGNKWF/OPc/C56srjveddBRn88tnZnyuiCTECHpABImxR/k5S4JKIUR3UZyN/nRWVZO/eRvf/ZTAzSnBGD/JoqXWRmpoKAOHhxMb40HZgSwObcwn39kkkWcw/SfGkxCrUZp2mO3raug1ORrv3WkcyFNQeseRGlXOtg2lx2tdFD2YvjN8qPryKNl1b+ZUX+LGxdFvgDdqQT67v8sgp0pptJ9BU/sQGVRDWUYu+zYUYZFmUuJ0Z3PisLceQHpGxpE8rhchSgW5B7PYu6MKh1J3HflT+X0GZdF9GTopiKCSUg5uTuPg0QbNSXUV/5TeJA4IIsinhqr0XHZtbHL96CrmATEMSg4nNMhB0b6D7FpnoVp1NUscNlrh2Nc5rpYNAJqJsJFx9E4OItBayrE9R9m3r6bt421yv9i52k0aXSVoRAKJyUGEqCUc+uFQ4+NpmNQvgsEXBeFjNNH3koF4GDSKdxzgYLonERPjCcrYx978EBKnReF/YDdb97bjXAAYTfQa34+h/b0xZOWwa21m4/uRwUxkahwx/X3wV6oo2XaUnTurjt/jOnPOtKg4UofZyVyVQ76bJ0S/4QNI8sprdC+to9gC6D+jF9bP3q8N9gDKSPvnz/z038lMmrKZNHfnugHVHs3EVmopu2Ifhl4RDJsQS5hvBXnbG58zt9rzOdNV/FMSGDw8iICqUtLWpZFmiGVEv3J2/1BKjdOX6IvCMW1J43Bp/c68khMZpGazdVfV8WWm3nEMHhFOaHAV+T8faVw+XcVvZAKDk/3xKSklfcdRDh6TLyHRMUpxGXkVgUR4NLinKRp2Z/Pm4XrBUfZnRnJOH1dtZXC8GbLc32d75is/IcQZT7H7EZrgQVl2WYtf6H5jJrDg6fOYPNQPRfMmZs553PqfiYyNrk+jJgzhmucvZOZ4Lzw0E1FTJrPgj8M5d+4IUuNdN0zjwCHMmB6EueH9Uw9j5A3J9A2qXegbzYVPzuSKC/0x1TgxDhnB9c9MIjXUdZNV1Dgu+tcFTOkHGP1IuOg8FtzXu3v6KwlxChnixnDdo8MZGKrhDIlk+I0zuHGWN1B3HaUw8eoLuXFhHJFOHaVvErMencP8yd4Y66651HO5bkEiSVEeeJuDSfzNxSx6LIkotTaBw0zc9TNZ9OAwkqM1MPqRcsNsfrc4gTCHq1niuP9LILo2vaKFkvrIpdx0Sx/6+OiY4hK48I+Xcsdvw/Bq5Zp0d7+4+c+JBDd4uFLsviTefRm33hJLpO4Av75c9NhM5o1x/x5e9zUTGe2Dh27Cb0AoMf1CCfJWUBxmEueMZtzIeGY+O515F0UT7a23fS4A3cOPlPtmcPXUYLw1A96TxjL/uSmcO6AugUrI/13IVbOj6WP2wCskhjH3zmLhTSHHj78z58wjIYmLrk8kRnVzEnWV4EmpTJ/Tq9G99Ph5c5rwN4KltHHLE8VhQ6sxEjwguP7z0AKvWUNIzt7Kuv3uvxROdB+eA8dx/UOpJIVqaP6uc3bHwkiCm76orMu3HedMsfvS7/bZ3HZ/f3oHaTijYjjvL9OZdWUKl8wIx1sHhQBSrhjGsOjGL1oCzxnORZN9XGXWVUKnXMgdjwwjKcyO3RnC0EWzuO26+v9pwMXTuPXmPvTSdNTeCZz38DRmJ/aMvsDi9KGUZ/Pz0o2s+u+m+p+Xf+arHyubj/Cq2KkorQ8iPc2mFoNHqakUQpx0im4i9PxzmZPqelDQTSYC4kIJzd3E229UgLvmSgFJTLsjlLIlH/HWuto3sQ4zfRZdwjV3JnH4nn0UOoI557ahhG35jOefL6ZaBTQToddczM3DdNLbW0BdJXr+OYwsXM9Ljx11vdXX9rDnntlcc1Msux/LonpEAoMdB3n3n1uP95kyeIBTXs2J05luwCMphUvuaFzboWv5bHvxIEc1A4GTo+m1dwP/WJLregGkqxjRGly2QfSPXsdLfzhyvBXBmvHnc/Ot5zBq19dsLFRhy1r+s6U+f0XNYPorYzlv9K+8tUnBY9QY5k6t5If7v2VTVm0Z3o4gZUhlfS3b8cKphC+YwDSvHSy/bW/99RidzLwnJnHZ7vd566fmD9pqdfvuF6YpY5iTlMmHizayv9qV9/odF3L7jcNI/Kl580o15wjfvBpCwtPebH96DVtV102hLlX4JclY31zFk6vLcSgK0Pq5AHCGxBC34XNe+EdtjaC2jeg7ZnPTgiGk37GDLA+NoqUf80zDcvQ7h5seH8Hwd79io6XJjamd58yxbS0v3atTpri5sSkax5Z9zPN6DRVuVmteRaTvtzPpkiH03bCDQ9UK6CoBFwxneDSYj5mab9Sw/LW1lHv/0UJfyi7YR8QIIyvvWsW2ctcBGFckc8Uz45m5+32WrWvymWnnOTOcO4aZ40r58fffuT7ruPrYXv6P8SiFrXTgbEIPG8j0Gz1Ie/hjPk6r3dfXQ7j2ybFMWbOKL9IC6DexF8XvLWdVbW2s7qHiYVPcfoUK0TUUFM/6C97ppjazjjwOCSFOCcVeg6XU6vopqaY8vRxrvxTOn+H+zbLHOfEkF+zh2x8aPOwarWT8dxdpCYmkxjrRoxLo3zuXTcsLXQ+IAKqNoqXb2OHuqacFqiOS5JEK2T8VokX6EBjmQ2CEB6XrC7D170MfVYfDWaSZk7j0TyMZNS4QPw2crY1MKMRpQnE4qSmx1l+fpVYqKm04bYCiUbargIrUccxf2J8hAzwxojVuXaCXs/PttEbN0iu/3camokgGDam9DnWVoGEDOPeasVyyIJUL5nhDkYmgUC/XgEEXRGNYv5XNDQZaUSpy2bO+onkzS2cYw0YaOfLRr40GxXFm7uW7TdB3cpTbe0q77he6SuzYCJRth8jz93XdC8J8MO7P4KBPNMn9Ot40wZi2nY++K2/UhLHFc1FXLMsh1i0rqd9GtZH9v185HBPLgN61ZVB9iZ08mPNvcOUzvq9GTY03YcHND76950yptFJ0tLrF1iNaiYXC0hZufIpG+v/Wsq46hWuem80Nfzqf656aw/UzS9j2kw2HvYXqwFp1tZRr01uJkE5wH/mfbz4eUAI48veydqOBqLHhzT4z7TpnmkrUpAgM63fwS0F9vkrJEb5dVU5HxmwyjYynT/4xtpbVf+78bMfYczSY+FQzurGKrP2VhF09jcsviyMhXEGxaz1iIC1x5lLwJy6mboRlDWtBVYvzVUpNpRDipNMVG/lrNvPtpsaBnjEilflPjWHils9YndV4nU+QCbXE2qyWQqmowlLhiVewgmIz4W2roaacxq/INCuVFghoZ/kUpyfeHiaCZ0zkiqmNv6HLskpcv5QeZNX9FQyeOYgR117ERb8tYffSH/loXXU79yJED6Q4saXt5Zs3ips/nHq4Fji2ruW1BxMZM6sv5y4exczCdL79z3p+OlKXRw0lOY031oxWKkvAK8gEDgOJ983gypgcfvkqk/R0I56BAfTzqU3s9MTkq1J12NKuB2TV4Y2nXw2VRU2jAI3qYzYMo0wYdZoHoyHtuF/UlsUjfgRXxDV5MXW4lINqx9/F523LrQ9iHebWz0VdWSutFDuABrNlqAVWyu1G/HxAMURzwTMTGVSwn5/X55BnM+LduzdmXafUs3kZOnvOOsySxXd/fIfNfSIJ7+uFZ0E+aVt0Ep9Opmxzy10dVHs0E+YY2Pv4USrUNqaV6uQ+dMWJJc8KDWfkUzQspVa8ejWv4WzPOfPQDJg9VGoqrc32W1rSsQHofIINaCG9ueiu6MYrlFyKKj1AsZHz+qe8cmAw46YM5dIrxsHeHax8cq+rxlaIDlPwTU5idHwZO7/OotDW9HOk4DsukX5+tX9qZRw74qSlOkkJKoUQ3UZPL6aQOAKDFMhqvM6SZqF6UiSJSgb7GrTtUfpFEutZwo4M0G3FFHgMIL4/bE2r31aLjSQuXD8++I/T5kT38cPfqR9vVqVF+RKoQzagU0p+iUbIZ9/y6vfuBj2obZJWmMv213PZ/ppK0ITJXLNwNCPW/HC8uZsQZ6qqtDS+fyaN7w1mohdezC03JnJwcRqlCihaIH1Gm1izuv7aUUyhxMTVUPJlNYr3IEaeU822O9fwdU7tA71mwjo6mckAhhqKM6sJTo7A772jbptWNqRTSlGOP0OTzHDQVr/CYSZysA+VLfTT1jPacb8w1FCeZ4eirbz+rwI3+XT84d1ht1EXyCjevVs/F7WcoZEkRGwnq6jhvS+CcFM5u3IUtJFJpHod5L1HtxxvjquuthM6dbjbB7vOnrNOUTTKMrIoy6j9Oy6VUX2L2ftck4CuAb+ZQ0hJ38bLRwzta0PXiX0ouoGwkRF4rSloFOTHxPtgKShrlr4958yuOikrqCagTwR+2pH6z65mImFwMOAqoK44sesm/IIa9qk04htogtruapY0C85xxXz1p60tT0uj2ijYuIVVG7eARwQT/jKF2Vdk8sxySztOmhCNmQelMGFKAD6EMH6umd1rjnI4044GKL5B9D43nsH9zcevqOqDR0m3tHyjkCchIcSpp6uYoqIZ8tAIhliy2HOo+U3KuWknmyoSmPFAX+JqR4UwRMQz7Z4EzOu280uFil59mE0bzaTcOY6hMa7tDMFxTLmnH5Fa/Ze3tqeY3Oi+TDrPy9XEyRTKsN/2JURxpdG8itm5soTQaycwpk/9g174jPFcPtsfow7GYYOZPiuUIAOuB5o8K3bArsgbYnEG01XCLhnNpLG+rmvHUUPFURt2xVk/BYluIHb2BM5Lqa3t8QwmadFoRlYeZN1PCordRk2NmdCE+io07yGpnNO/9g9FI2flr6T1G8NVc0Ncg1/pKv4jx3DN4v5E2xvXFGlexexYmY3XvMnMHFN7TTvMxFx2HjP75rD2k0L3QWV77heKRu6HaeSPGse88T7Hm0Sah6Qy97b4lgd0qbRS5eFHRB9XHz+DRwvp2joXx09JIKl/SKV/WG3AGBnHlEW9CVi7l23lKoYSKxafICKiag9UMxFxwxAG+boftKW950zpl8hF18U3O+d1gsaNZMZFLQ+G4zV2Atfe15+EgNo+gRHxXHhvP0LW/8yGTPfBnmqPZuylBva+1fYLhc7uo47nyFHMu9jPNfCNZiJi5gSmJRWxcVVJs89Mu86ZqpHz2X6yB6XWf3Y1E5EXTODC4fV56WoxGYdVYi4Z7vo+q/18TxpRn8a5YQ+/aEnMujXc9T1Te2xT70slOUAHAhh00wiGxrteGyhVFoornTiU1pv8CuGegjHEi7pG98aQSIZdOobLFo5lxs3ncPkNyaT296buTqWXZrHt+3JsrbxYk5pKIcRJp2ieDLhnPn9psMxZaqEw4yirHv35+GAYDelqAasfX49h0Siuem0UWoWCl2cN2Wt+YOnS2qZ6io2jz3zNe7ePZ9aTVzPD4kRXS9n/31/YfMNYwusyy9nGZ2/5c+ntc/nD/BpsqpWjyw9xaFiv4/uzfP0Db/iNZ+ZfrmCSpYoakzdehel8+7KrL5RHhQ113EQWXK5QbXFiNjlJe/U7dklQKU5nugHfKTN4aIqbdYc38tS9h9HLDfS+cibjFlZTbTFiNuTxwxOuWhlVA91QxNY3c+h10+Us9raj+ZogbR/vP7K9tsblMD+8HM286+dy16WlWI2eGHIPcGAfHI8rC/aw8jGVObdeyO9n2bHiidlRyO6lu8kzNr/GKtas5U3Pccy66XIW/7aGKpMnalE66/++iU2ZLUQmavvuF47czaz45xhm/3Ym911fQ4XNE3+1kF1LdzcfNKhOcQYbNw7kN0/8hiF2J4deXMH7a5on0/S2zwWAofAQP3zpx3mPXclcXUf1c1KwaQNv/ieHalWBvdv47NspXPa3uQzOsqD5GLFtyiStoncLBWzfOVPDExhxiZX8pYfIavrwqKv4j0kiNbKMNZ8XU+Hm1mc/kMGx80dz1Sup6CVOVD8nhWvWsuzlBrWDTXS0lrIz+6iT/e520s+Zxu+vBofuibc1mzV/X8+6LPcbtuecKdk7ee8xE9MXXsyiK6qpthnQD+3go/dNXFd3Xak2Dryxge33jOW3rw7EYlFw5u1lw081xz93ujGX1X/bhHrneSx4zU5NkRHPEAe5321gU4lrzs6aqhDGL57LdGqowhND7l4+XlGFjNQjOk7H8uNO1hmSGTu4PnjEaMTcJDp0FGWx+ZNDZNlbv8AUXddlLGIhToGKiooT2v6pG1d2UUlOQwYzIdE6ZRktDyCBwUxIlEplbiU1NaFc8J/JhL71Dm817MdpMBMS6UFNbnnL80vqKuY4X3wsFgpL3MzZZDQRGOVBTU4l1af5QD1qymG03QndXQxxmtDNvvQKqKEsx378OlS1JK74oA8FCz5jdZEH5jhfvIoslFS1cO1EeqG2sL6OITCAQP+a1q/3BkzhAXhbyiit7MDBNLhftHYdd7QsapAv/koVpcWtD+jT3nNRl86Z4/6epfuY6RXk/p6m9juH3/1J45vrNzbqQgCdPGcdYDD7EhCpUpNfTmUrLTNVezRTXxuO4fGP+Tyjjb6UndyH220DAwj0qqIot/038facM1N4AP62CgpLNAzjL+ShmRn8+979jV5GmMID8FNa37du9qVXL73Fz2d7P2fi7DB4YvwJbK1gjoqif2oY0dE+eB8PKDVqCkvJ2XWMPbvKsbbjBbrUVAohej6nlaKjtP4y1mml6Jjr1xaTOa0UZbYxeIKiYT1WTkupFIeNsqO2FtYKceZSrBaKrLR8gbXn2jnW9rXjLC2jqLSV/TRhyyujw1dkg/tFV5ZFK7FQ2o507T0XbaVTKq0UVTY/4yEXjGf6ZTEE7dtAlqY0qwHs1DnrAKfVQvHhttOZJiTQ59ftLGtvX8pO7MPttqVlFHVwm/acM1teGYXtSNPWvhWrpdXPZ3s/Z0K0TceancWOVVnsQMHTzwsvo5Oa8hqqnbU3vna2yJKgUghxxtEpY/vSjXgdkSZBQpxMmjGTDc+WUFPWsVomcXJVHT3KtuV7+fTnonb1U+wu1ZvW8tImzsgRPuz7dvJOeSXlZ+CxiTOVTk2FtXbsqI4/P0lQKYQ486g2CrYeQ/qZCHGSaRaObZCRJ3sa64Gj7O7uQpzl1MJc9hUiX0PirCHvT4QQQgghhBDiNFRd1TMGeJCgUgghhBBCCCFOQ2UFJ2nErQ6SoFIIIYQQQgghTkOFGWVUV3X/AIISVAohhBBCCCHEaUhD49DWHIpyyqmpbmm+tJNPBuoRQgghhBBCiNOUpmlkHyyCDk+W03WkplIIIYQQQgghRKdJUCmEEEIIIYQQotMUXdf17i6EEGeDioqKE9q+oKCgi0oiBAQEBBASEtLdxRBCCCHEGUBqKoUQQgghhBBCdJoElUIIIYQQQgghOk2CSiGEEEIIIYQQnSZBpRBCCCGEEEKITpOgUgghhBBCCCFEp0lQKYQQQgghhBCi0ySoFEIIIYQQQgjRaRJUCiGEEEIIIYToNAkqhRBCCCGEEEJ0mgSVQgghhBBCCCE6TYJKIURjio2c7atZvavwlO1SLdrAp0te57s0wynbpxBCCCGE6BrGioqK7i6DEKIHUYo/Y8kTb3DQeQ7GZfcx0Vs7+fu0ZvLLuvX4pMzn/ER51yWEEEIIcTpRysvL9e4uhBCibQUFBSd/J4qN9Ndv4oFtifSv3Ev19Od58rLgk79fccoFBAQQEhLS3cUQQgghxBlAqgSEEMfpto18/LVOyqV3c+tkb46tWsluR+u3CV21UJC+n/3p2ZTYlM6lU2xUVlZS425zxYY18wgHdx/gSF6V+8wbbq/YKMvez8H96eRZWi4PgL0skwMHDpBZYm8lUQmFR9LJyq1yXz4hhBBCiLOcsbsLIIToOQo+f4etpsncN96fqJrfMOKj5Xy89hpSJns2T+w8xvoXn2PZxiOU2kyYFDt2JZrhcxdw87yBhOh6u9MpxZ/xj1s+I+ivS1k00HF8F+X73uOVJe+zKbu+QYV31GTmLrqBS+K9ji8z7l3CvYvzmfTIBZS9/grfHbUBoDgDSfzN/TwwLxE/vT4P66GVvPjvD9iUreHtC1UWiEy9kTvuvoBEj9p0io3Mb57k2Ve3k+Ppi1pVhc0rmqHnXssNC1OJ0qSRhxBCCCEESFAphKil6zv54vNCwmfNIcWogcckZpz3Kn9/52vSz59FnwZBlGY8xtqH7uGVjOHMvvcupo2Iws9WzKE1z/Ovl55jxeDnWJiktjudO9W7nuMvj23Gc/xdPPHwSBKCdKpytvDJkpd4875s7P94mEvj6wf20cnk25e/Zfjcv/H66Dh8taNsevMf/Oftv/Ny/BLuSXXtR837iKcfXkHZsEU89dQ44jx0qjI/56XHX+Yfj/ry+F/HEqJ7/2ErAAAgAElEQVTrqHkreWFJDmF3vsTjk0LwtJVwdMdqvjrsg5/Ek0IIIYQQx0lQKYQAoGrtu6wrGsuVF/cCNNBNpFw6ldBvVvHJ9hncMaQ++Kta/yLL9/Rnxr8fZG6ME3QdPILoe/6D/G1sJT4+aofSNaV5HOaDl7+hfPDDPHPHSFctow7eEeO44tEY/O5bxNvP/8DEpy+orxFV7PSa8QC/m+AL6OjEknrbQi7acT9fr/4VUlPQVQvbXn+DA0E389f7xhFXGyh7x0znzkWHuOfed/jo0LnclODAkJdBvjOc0UPD8NSd4BFEXOrl3JyK6zhEy2y5UPgllGwAW1F3l+bsFjIZYm8GxU1rAyGEEKKLSFAphEAzHmPNR3sxTnmKCd4a1LVcjbuMy1JX8eLbGygaOoEQXUdXLez9cRc1A+5nRmx92jo+Pj4A7U7njjH9e7ZnxDLyttH46Y5G61RHLOfPTmLF337mp6oLmW52upbXRDNsUADgPJ7WYO9LSozGV0WVVCgK3h77+HmHgZhrRhNVXYOt4TmIP4dkv+84sD0fEoKxDTiXMYFP8v6iP5MzdypTUkcxIEJuma0qXQd7FiDd9XuQqgPYDLGYomd3d0mEEEKcweQJSQgB297l4wx/Avr+xPtvbGy0SjNE4NjzCd8cm8RvYpzoSiWlxU7MgaGN+ik21d507qjFuZQ6g4iIcr+dT2AE3s5MyouAmNr9mUwYTU0LYUJvsEy1lFBa5SRt2R3c8LabjBUfQoqqgGAU0znc8q8nSPhoJV9//G8eWqbilzSFq268mgvizR06nrPC7luhbD2NAkrbbjj5M9KIVpSUQpG2l0QJKoUQQpxEElQKcZbTDSWsWbGOsoj+BBfu52BhkwRKLyKD9/PdWzu49P4UTLoPgcEGrPmZFClJ9c1Pm27WznTuaMERBBg3kZmuwNDm66vyc6kyBOHfwRkxNN8gAr0N9LvqJR6b5dtmet0/ifPnP8D519soP7CJL958jdf+UAr/u48LzBItHbd1NlgPu36v2Q3lQDUSUPYA23dC+HTv7i6GEEKIM5wElUKc5QxHP+SzHdFMfPKJFgfNqfrmPha+8CFflA5lToAvQyek4vnEp6zYO7nZNta8fBwR4fhp7UznJth09JnMmLiP+eKdHygaNqFRQKo7D/PdR/tQht/PGO/mzWpbo9qTGDXayZqvPiXt4qvqR3qtVWmx4ePbtLoT0E3495vIlX+o4NC1n5GWrnLBQImYAMh4rj6gLNwNld1bHCGEEEKceo2f8nRnC8mEaECXh+kzha5a2Lric/L6zGT2IEOL6bym/obRQdtYvSIDAOP4W/ntyEy+f/QBXlh9iGNVdmzWTPZ9+Rj33/knXlhX3aF0Tan2BC65fQZB6S/w5wdXsTG9AIu9koK0tax45K/8L2cUVy08p0O1nwCK5svw+bcyuGwl//zrKrZmWgGwlx9m3St3suiWJfxc5botFnz8e25Z9CIfbztKnkVBN5Sw77vvOKL2JbGPXAMA2Esg8wXX70USUAohhBBnKyOaHfOxpzAe+xvYkIcC0TYfwASOuMVYY+4FVSq8T1dq0Tes3OhL4u8ntzrvospILj0/mPs+/JA11/yeid7hjPvTM6hvLGH5/x7ghyUKACaf/qTe8v/47Xgv0HVUZ/vSuWMesIBHHw3nlSXv8uwflrsW6h6E9p/G7f++mnPDOvcSTA+eyt1Pmfjfkrd45u7lrsF6dA8Co8Yz57EbGO3tChjDJt/KlQVv8Nk/H+BNq2uwII+g4Uz94y3S9LVO+tOAEez7wdLdhRFCCCFEd1H0j9HlYUB0mj9UTCwBpeVaLtE1CgoKursI7ik2rHn5FOt+9IoIwLOl2LS96dyoLMukoFjBKyyMCB+PLik2APYSCvKr0L3DCAtqOV97aR7F+BEY5N2hcvdkAQEBhIR0sFNqU5smgrMEyndDSdeUS3St73dC+PR/MWjind1dFCGEEGcwVQJKcUIs4JX9QneXQnQn3YQ5LIbo8DYCxfamc8MnIIY+8dFdG1ACeAQRGh3dakAJ4BEYTnjgmRNQdhlH7YsOa1dmOgL9klUQ0QVZ9XkIhrsZ6UkIIYQQXUomExMnRgOP9D91dymEEN1B79Jo0kVNRPdPBc8uyCtkNs7YcV2Q0QkIegjt8nehmwZglS95IYQQp4J0hhMnzoZrkCdpAivE2UWpreFVurcYLdqSimFLN5dBDUbzjOq2rufS+1cIIcSpIC8xxYmzIAGlEKJ9Ag3Qfz4MXQhJcSdWg2cGEubDqAehH9D0NhQ2HHq3UIakhTDmOvfr60QOh8EPwrC5EN5kXcxECHWzTczE+qa7gQaI6QsEQe+LYcD0xvszADHTIXkhpMyFaDf59ZkIwbW/R0yHga2UVwghhOgmElQKIYQ4NWI/Qbu4APrfBOFXQ9J+tDmbWw/sWhL1LMywoqdcDr6jYYAV56Uvgn+DNNEf4Bj5f423G/IN2vRjEHse+NwMo6xoF13eOCD1ioep2WiT3ofo0dDrL+iTm6Tr/xUkuSlXwlfodcu9n4KYVFT6oic8Aol/RY8f7FqnAlOtaOOehJjLIPbvaJOsaDMa7EMxQcpXEAucewh9ymc4Bv5f830KIYQQ3UyavwohhDg18maifgjU1P5tAHV0No4xj2LMeLD9+fjMQD93PkqmGWVj7TIPMEyw4py4EsOnX7nfLmIZzpRIDOujIKN2mf881ClvwLAPoK6pbOpWnL6vY/j8bih3LVJCrofhPh05Wsi+C2pAm5aK8fsJUN6gpbAGbDCjltcnV4MeQrvovzDgA/i1dqHuBTGb0Ywfo35zN8YeOgi0EEKIs5vUVAohhDg1bLgCSgOuGkUj8Ou76MbRHWsGG/lXnMal8HODZXZg1zJ0/wcb11Y21H8eSsmC+oASoHwFHD6Mo2/tgGOBj+OMy8KwsT6gBKBoKcq3/4POTY/qXl3+3rjKXPIIaoYZPbJxMqffL6hf3g0SUAohhOihuqamsu7Vqwy3L4QQoiURD8GIu9D8S1AtoHuaUTQvYE/Hvo16JWDQqmDSu42X2/uiEAVBNA4IwdWU1M8LxXA/TGkyaq0hCIyDXcFuwCg0NmM42QGcCoxahx43CBw5KFoQuicoeKGXDkZhV33S3IX1tbtCCCFED9Q1QWUkEHgllK+B/BzX22ghhBCijucMGL8Y8syon7sWKQCBj6NMn9CxvDQrum03ytG3m60y5JS7r9HTbOAAat6Ho+lNVj6PMX2NqxZSq8Y1AtBJlrIHR9/dGL8cD8WuRQrA+JLGtbZKNUrJyS+OEEIIcSK6JqgMuBzi7wTtDshfCRlPQQld20xICCHE6ct/Jg7TZow7miz3CHabvFU5W9ASo1Gz10BVO7dRgJIcnDE6xrQ1Lacr/ACD/gwMoL5fYx0D9d9rDnAGTMNAg/6bxhEQ5AVl7ShPrwQMuVOPB5THmbyap5XvUiGEED1c1/SpNHiDKRQCU6H3HTD4Teh9Dvh2Se5CiFNFsVGesZWNX3/KypUr+ezLDWw7XE7NicxDWPkNz//+z6w4LNPOnNUsm1D1ZEhusCx4Ogyf1/G8smZiLJiK88LH6qfbMAEjN+O8ZFrL2+1djFF9GX3yReBZuyxgOEw5BCNr/7YuRd2Tg3PYZldZDbU//VbgvOLr+v6ax7aA/wv1afyMMHZ5fb51ag66jjuuNl1Q7fKyHPTQx+vzMwBJn0AvN0GlEEII0cN17eiviid4xkCvaeAVDaEb4NhiyMfV7EgI0WM5cn9k+XNL+eJgJd5+0YSG6FSV5lNQ6sA7ajLXLrqeC+I73ixQsVkoyMrCcUKRqTjtWZeibhoLQ63oc7NR7GY041rUHcugV2rH8tKAtYMwjP0U/aLFYC9B9zCDZSmGjS2M/ApQsRS+B2XkW2iXm1FtoHlYofj3qLsbpNuZjEFZBQOt6ENBcXjhVNZh2DGhvq9mxngM4XvQh+ooQ0HnMMqRSyH3p8avay0voB64EX2IjjIEtJLxqF+sh50DUH33oc0oRrWWoHmBmvM7yB5/YnN3CiGEEN2g66cUUVTwCIHAc8EnCXz6Q8BbkPMhlHb53oQQXcCRuYK/Ln6XjIjp3P7E1UxMqA0eFRvlad/y9otv8dpiBf9Xb2O0t9a9hRWnryO3wpFbUYIABdTapp/GtAZptBWob61oO6/qI/BDMooBCAalhuaD8wBK06ajRUvh66WoJiAI1FLcD4KzYxbswFVWwNC0X6MGbEpG2Qn4gFJel4+ZZq9PtqSi7HKlU+vysdvhx76ucgTgmlqkBiCoPibVbfDpKejfKYQQQpygkzdPpWIEUxiEzQCfRAgcB1kvQ+7BnjOQTxCuvipuHkSEOFvo2l7e/fsbZAfexkOPXUyiR4NhnHUT/n2ns+CJkUzL8aNP04BSsWE9lkVmqR1jaAzx4R2sYmnP9oqNSosdo68PnjpgLyE7VyUkLsD1tzj9dOXAM06aD8zjAQx4FnpHopYud7+dDchrR/5tlbWK9vXrtOH+u8+GTBUihBDitHfygkrA9SraC/yGgLk3BIwA/9ch6w2ooOuaxBpmwMx/t5lM8/gY9cO7XQ8h6jy4+F206utQP2zhoaO7mYHooZC9o/2DUQjRQfZ1y/k6I4mLX5hBokcLI4IYw+kT23hR+b73eGXJ+2zKro/svKMmM3fRDVwS33a/sPZub9y7hHsX5zP55QdJ/eVpnl2+nSK/63j8v7Poo0tUKdxJgJAgyL0MZVt3l0UIIYQ4853koLKOAsZACJ4C3n3BbzhkvwqFv7qCpRN9LlRDwTsBvfoTlKKmQ+k1SKaur/9DXwHpk1EtPTSgBAhYhjb6AtRN0XC4uwsjzkiKjV+37MQeuYCxcZqrSV87VO96jr88thnP8XfxxMMjSQjSqcrZwidLXuLN+7Kx/+NhLo1veWCezmxf/NXjPPp5NUOvuINrBw4iUgJK0RL7Yfjx+u4uhRBCCHHWOEVBZQNevaHPnRAwFLLfgbxXXM2LuqBJrFI8C35sZ2Id2LDwxHcqxGlMU0soyNNQw6PbHaRpHof54OVvKB/8MM/cMRI/XQcdvCPGccWjMfjdt4i3n/+BiU9fQIibPDuzvabuZ90PY7npmcc4L7y2NlViSiGEEEKIHqFrphTpKMUIwedDv7/AwKUQOwkCOPUhbhT1w7s3ZQIS5kLKfOhX+3drGqZPGlo/THx79xdYu75OL8A/CgUzBMa41kXRPF8ViBwGAy6GARMgvIX8zbXb1x2HCeh7MYS2cVzijKZgwsOko6v2dm9jTP+e7RmxjLxstCsgbEB1xHL+7CQMB3/mpyr3t5fObh918Q31AaUQQgghhOgxTn1NZUOeURB5DfiPgfwPIONB14AFp2T6kREwdgu6dTDKF7sbr0pYBsOuQ/eqRrFawbwUPXUPyvYU2Osmq4ErYPAVrrOpVYPqhT6iBCXnaljzpasPpz4Jxv8AhVGwOqd5HvHZOAauwfjub1zpk3SIc83XTdIxSKpNd0yBtbW/96vdb5Pua3rNCpQ1VzYe/CHwE7TzRqCujwZtCYxa4NpujyKDRJzFFGcQMaH+aFv2sF8dxxBn2+1f1eJcSp1BRES5ryr0CYzA25lJeREQ0zXbq7YY+g8LQ+YmEkIIIYToebqnprIhxQi+SdB7EQz+AmKGdm95Yj9BHzsPyueirDTDR8HwkQEly4w2/BD0bpI+eTP68JlQPB++UOAdM3ykoBz4FT3yI0jpZDm2KLDhU3RKYIfiyvsLBX5qkKZiF2RdAd8p8L4CHymw6Z8o+jycFzzjmky7qZAlcO58qHoWdk2HI50snzhjxE8bRUDZRr5YY21Xei04ggBjHpnp7uedrMrPpcoQhH9IF25v9CHQV9q7CiGEEEL0RN1bU9mQwRe848EnGdjRqSz0kLUo06rdr1R2wZq7Wx9F1TgcRlyCXjkX5dsP6pdbNVg7AHW6HeeoBRgyXnItD7wNkkdCyXj4tsEgQFZg83iUbCC7U4fiyqO6GB0rihX3w9rnPgK5TZYdvgvsiagTrofedzca4EchGD1pFsoec2dPsTgDKQP/j/nDb+efLz/DJ33+wMzo5m8jrIdWsuyLYKYvmERMn8mMifuYL975gaJhExr1m9Sdh/nuo30ow+9njLfmtt+j4wS3Fz1IrznoeZ/yzvdg7cQI1R4GmDAA+kR0Yt8O2JQGv3b2HnsWaalXhBBCCNFVekZQ6ayAoh/g8BOQtaHT2ShqkJsZql10o5sJqZvq9Xt0nxLUzR80X6c74Miv6MOuBf+XXHNbxv0Op3ELhk3rm6eHzgeUHRXWG/zjwFEO1h1Q8gUKl4Bf42QKXmjV96NIQCkaUJ3hjLv/AQ4vfoLlf7yX/ZfOY9qoQcQE6zgKD7P/+09Y/slubH2vY6JNQfVI4JLbZ7Dp4Rf484MlXPPbsQyO9saasZXVb7zKypxR3PDAOYTo7vs/qvYT2170IAMvQuF8rjqBLGwPwmaPixnuB4a2+q7XKi6HdTth/MuPMNaZQrM+AKKxV1Xg2+4uhRBCiDPB3EB4eSgEeTRa3L1BpaMMqg5C5lJIfx4snFiXqYIU+MH9qjYDSgBzX8AM/VdBnJv1hiBUvFzBWjngmwAsdf3eHeKXwND56N6g2LLBbgbPSFDd19bqVKMe6sFTqIju4zmSa558hoHvLOfdz//NI2/XB3TG4BTG/PYJrp2eSIju6nNpHrCARx8N55Ul7/LsH2o/U7oHof2ncfu/r+bcsNYDwhPdXvQUGuDRZqrWmB6FVL4l660dGEruISKwlcRO2HwYTJsuYdaXvzvhfQshhBCig94vo3zybvxvG95ocfcFldZ0KFoNGc9C7m7XlCI9oqmbFcp/djU/beZn1NKjUFH7pwN0zKewbA0EPwvjFqCXXYeycnnjZr0Bj8OMP7rZyFpfdiGaMsQy4prFjLjWhjUvn7xKBXNQEOGB3q71TUZqNfedwx3/mMONZZkUFCt4hYUR4dP8IV8PupSH37uUpm+M2ru9I+lOXvwQXCNYiZ6pFGj/CML1PKkb0jr66qFw83r2Db+AJG9rs3ixzAJbNsOk/76OgdjapU6gDPlsCCGEEKfGz+wl3HNaswkpTn1QaS+Gwq8g63Uo+MZVO9mZZ5GToXQ3MBKKH4XdbaaG4l9RmQARQFYbaZUKVxDqmYCCm9FfzS3NNdKCuNk4+QbD98ub9xO1HXC7iY4VRZ69RFt0E+awGPq0M7lPQAw+AZ3f3YluL7pTXRsQG9BCf/ZWWXF9CYQAnvBfK0msovxfx8isuRFH7fzF9moI/fIupmye3mCfFbiC2R7xNlIIIYQ4K5RR5rav/qkNKsu3Qv7HkPUYFDqh5pTuvW2lt6IULcCZ8iKGAwtdz0kNhQ4Dx/b6QXOyn0CtXoE29k+onzzWPH3/+ZC7zNU8Vt8KZaCF34nBe33jQDDwNohx3ydIIdj1Mt8NHbP7/2DMTW0eqhBCnDgdV5DXrg4GLXAAeYAvrgl7VfwXxTGI73AG5UAVGGpCqK+6rAGKkOllhBBCiJ7j5AeVuuaqnSxeDcdehrzvoJKT0lpJD3gGZejBlhOou2Dnupb3rQOb/4bh/D+izY5G3fU7yDsGHr0h9jnoOxO9ZDDKN7XVmFXvweb3UMc/ij5zCMre/0DRWvC6Ano/gR4ThLJvGWzF9cx16FMM4fPQLwZlz+NQVgr+f4TBU8FS4nqeaqjsexTHdWiDlqJW/z/wmAw1yyADOPYOxkF/RJ/8DMqmu6EQ8OsD/f4LUQkndiKFEKJdurKW0ILrbVsAro7rOoaShsPCarje6FV24T6FaMxBNblo5ODT3UVpUxyehKPR/I12z2DFQhpmqnvImJDtEYWBaAz0vFoPcSarpIISDOTg3W1lCMREIgYU9/3/mnD/3X/yrnRdA60KLHshbyVkPQ4FnNSXy4rPXZDc8noH6zAemtD6wDpFi+G7/aipf4MRR48v1vU9KEeGovzSpF3s0Xmw5kGUIXfDsHn16Z3rUHb0hT0N0qbPBM9VKEPnwYh59el29gWv7OZBpXUpbL0MdcR8GDcfnWqUPbVBZdFiWA/K4Lvg/LtceVGCUvI0rHsDpi1t5SCFEKIrnEgNpTt1gWMVrr6WdVMp23D1ndS6eH9CNHaQPDYn+WK4aWB3F6VNB4HzVtQQ9XMpnWt+fnL9RDpHFp+HZ3DPD9DrHAQmv2MjcnMVrnuOECffJg6TNzoB5vXu1nKkZ9qY+k+Vtl/eKihK8+//kxNUanawZUPJBsh8FbK+a31+yBNlXwpvLW0zmduDdRfkFi2Dr5a5nmciADsoxbRcw5n5qOsnEPCuTV/QQtr9s1x3rV6A3jDfKIzb3KRPm+WaazIYlCoan8eMxa6fIMAESgn1LyzfWtY4n5yZqG+1UCYhhOiUui+Vru7XWIPrLaQQp17A2Cgstb9XVvS8YK1Ota2S/dUWonpwrapqdjVbt1U7sNt7fpN1q83CYXs1kUhHf3FqRV2efHwmwu647zg1B7n5mUwlrF3pdb35937XBpWa3TVNiPUA5H0GmY9DbpfuoWuYgPBbwAuUglZG5NHo2FyTpbU/bdGA/A7kq+Fq3toS91NzCiGEEOIEZO7ruS83DubsYuix/t1djHYpL66kKKu75l9rvwPZOxiTMai7iyHOct1x3ym3luKTkQPtDCrd6ZqgUreDvQK0NChZD1lvQPaPLUzL0c0UYKoOAaA5l6Hu6O4CCSGEEEIIIcTpq2uCyspfofALqM6GzBdar1XrbjrwkwIGUAuR6c2EEEIIIYQQ4gR0TVCZsxPydrr6850OQVpPDnqFEEII0S1cQ0F19QBUJ0kPL6YOKKfbNLJq20mE6GoaOobuLkSHnMzRX2XkZSGEEEL0eA5+JJ3s21IxptuZ+HkV4Q0ekKqxo3m0Hq359/Ihok8wvSL9TlopC3MqyE0vpryw9VEYFUP3RZbVVPJVgEL5jbEkPFvMOYDS4FzasKO1MYhX3IAwgqP88fZtYULuLlSUU86x/flUVbTx0Kr18GhdnHYqqeAnjpB/20Qc5U4S3qjiHDTqgrManHgYVXAz+E0dbz9PYgaEdeq+U1lhoyi3rAv7ap7K0V/r91nvdHtbJcTZxHqY1a++xle/llCpRjPlgYe4LKZ7mx1U7/2Yt1b7MPb6CxnkI1NJCNF1kmFdMIxf290FcWMiLMuD+ftPSu47OcahkWF4JQRQGlrNC35WIvbbuHG7CU90SqikytRynUFMUigpY/vgYWr++KSrNeTt2cSujCK04Fj6JY0mwb/xw4/l2Fb2FzUfBVVRY+g7LJoAzZU+JDKAASNi2LYmrccOFrSONErvuhAPXy/W3WTlm+JKpn4I59Y+/JVgxaHpmNxs6+FpZNSFAwiJ9G8x/+LDP7I5LZtyzZ8+AyaRGu/rPqE9n4Pbf2JnbiWe/gMZPm4Y0abmD50hkf7Ep0Tw68YMju5vebRExdGTgkpfuCIZ1u+D7DNtihNfeOY8+GoNfNWdgzipcN8MKNoEr52ca20tByke2AcSAlCBr+yV/GjRmPMZDEShDCuKpoGbQA0gJMqfURcOaH7fqUpjy4HiZukVzY/wlEHHr4OQSIjrH0pcv1B++Wo/dtuJPt+d6nkqW96nEKIH0VULO158kJd2DOaiW+eQolVg8un+i9ea9TM/b/Il8tppyFh84uw0Cvb4QfLqLs7XD22Uf89s6Tc9AEafvOH0D5GPOmVEo2W5Azx5NNFJ0vtllOFJZY2TaMDpbPwyy7+XT4sBpVL4JU/+eRGrMmJI7B+NPW83aQVxzLr/Nf50fvDxdHuXX8VdP4TiE9D4HhvIXO776B5StcbLh09MpLywqs0ay1PPzlEq8fL1Or5E9zDw9ZWwJtvC4LUVZMYk4udwHY/mbHxcA0bGthhQavoePnnkFp5a40XMkHgCK9PYn/5nYsb8gT/e9xsG+tX/Xyxpz/Hgg/9hS1kCCcl+lB7cQX71WK54/FnuHhncLG8Pk5FB43pTmF3WYo2lbuz+7796nnBDHAzNgAc7GlSerPtHVzHAuBCoMsFX3VyU1GAoNcFrXZ+1Tg25VOB7TQo26qcLqfY18M6V4HusEvOGKAqOlhHWu+mE9eBhMrgPKAHr+ntZ9HQmPn6Na/o9agZx9ZLXuDqqcfAYEhnAgFGx7F6f3mXH19DJDSqFED2eZjzML7uqCJ+9gBvG1X0Jd3/NYNAFj7HkAjg9OmoLcTKY0BLNPTP4Oy05KaMavTYQsjYIKlSDgQNXBgPBUFFD/rFSairtjbaOjA92X0NZs5F/376ITd4P8tJH80n20NCM+Wz5+1QefPwxUsc+yzQfDV2twVIOfS99k2UL3Uxy7nB/340bEMpud0FlN8Y+RViwE0ldSFnVYF696ihffrnSVatozy6jpsrWLCiOT4lwm69uKGPrXy/jPzuv4v+9+1emhrjOSU32x7y+XMc3UK//Sij5H/ff9ir2qW/xwf2phGk6mjGfzf+cz4N/WIjvK+9zS3zz7w8Pk5HYpDD2/3KseQG6/6uviSKY/l4nt5X7R0+QhwUDRipVFQ+av2CxxPpguTIR8itwahpakxdLMUlhbu87ABV2GxHe/48XPphNmNb0huD+2Sk+ObILgkr3NaryWRPibKbYqCrNp6rCi0BfEzabDZvNVrvKQqXF5nYze2UllTVKo3wqKyupUVy/l2Xv5+D+dPIsbTQjspeQs/8A6cfKqGmSVLFZqKxs4e28YsOaeYSDuw9wJK+qhSQNym8vIStjPwf3ZVNia71M9rJMDhw4QGaJvcU0tqo80tPTyW8ljXAnHvDF9dXTD+5KhQnxuP8qUoHecEkyXJMMhLaSH0AMXBrfYF0AkARXDandh0cXlN+3vtyzE1sod22aeakwsHcL+60rty/EJMM9Q8A7skmaSLjNB91kglmJkJhYe0x1zK79TB8CswZQfx6aMvDpxY0AACAASURBVNeXeZKbQKbTZYfm57yjAuqPP9jd/7ehSBg1BO4dBJ2cmN6C637i1F2RQ9OHu4ZKcisaBUoAIRHua9Z0n76Mue5pHnnJFVACqI4wUhfeTT828MtO1+dEV8uoKAdfv5abfLrjH+zT4jq9lWNwr2uuiwqq8Zga1Wa66ko7RVnlOBsEzCHRLf//1MPLeG51Ehc+9uDxgBLAM2o2t94/h9ja49UNZaz/52PkORfz0AOpxx+oVUcYqXe9zO0DtvP1nz+jTHV/v+/VSrNb1M5E6yFAsus683QXMLfnmndbmNptG/6fuuL+UZumxWvKXLsfleP366ERruNMaumaj4SUmAZ/n8hnrbZs1w4Amtc4u4S50sxqLU0reV8ziJbvm3D8O+jK1NpydO5aKcdKMDGotf2fa6rcP1cBlBdWYilu/Ezz/9k77/A4qqsPvzPbtEVl1XuzbMuSLORuywUbDASbGkIAQ4DQO/4Ak0ASQmgJ2JCYkJhiMIEAoZOATXAwtsHdxr3b6r2utJJ2tW3m+2PVtZK1sowL8z6PnkeavXPn7OjeO/c359xzg8P67v/OpjKICCSon7WYvgiL9W8M8oXs45qKp1JB4UeMKu9lHnr4OyyiAEtv4rqlIHhCyH3qDe6seYa7F0dz27/nk9tlQiCpqlj75B18nPg8S+5KBUB94GUeerSas5+cTeOypawqbhOmnhDSrv4Vv/55GoFdBiCxbgNv/fUf/He/BYdGg+ByoQ7NYtYNd3PrlDAAHJue4Z4/RfOLlfM5p8v1rQc/ZOnLH7GpvLM+Q+wsfnb/L7kopTMUq+aD+3lg7UzuvNvJly+s4GCrd52UoBnJuQ88zG3jui92t+d9xpIXP2ZTuYTBBLZmiBl/E/c+MJs0jdzx3bctfpqX19TRGgjuFq/d0+bdxs1nR6M7laKmTjlEeGMqGHdB3Qi4zAWbXHDDSEjPgYvXwv/qO8s+dxXc4oY9TSDrYPFEaM6H5LXd6wvcCItmIG2KQrQWwqcFQDaSLQexogGOuCAmGCk7F/HmlcexZiYbjuSAsQG2NMNVafCv8XDXGlhW2VYmE46M85bZbIcH0uAsYNF38Luy7nYn5EFgEqgaoFYHT4yDooOQsbGtXCrcHoqIFp7O9O77vG4HPNAIRMLOCyHSCrtbIcSE/O9JCCs2wdzDXWxOhY25MNIBWxvgkhRIz4Krm3x8Pz9s93nP/WUClI4Cse1612eAuwje7bmeUQt3nov8QjDCV9UgGaBuPKzaBD8/7LPmvrDjQYcZbZunsqcncrCI7kgmzbmInm4u0erAQTBqvfdvWbTibAWjn6KyT/xe+jd0/cKOE02yN1SvpcnPcOV+JsBHN79FvXAHl2ZooB/BLMkb+GqdhmGPXNQhNNsRXQnMvmE6rzz6BWua5nCpj+UcfZowKFfLVKgbBvkVcEiAPRngzoeMdZ2VDqjP+yIQNs6AVcvht7V+1NXf+DGQPhUCR2bAIyvgolnINxgRNm2CKXXwrxmwpgnmd91KQYTfT4dL82BsKYNvayb4w2xYYIRt1d7vtngSVBZD5rd09rEJ3ufI/gqo0cHfJ3nvefK6furWQu5M5K+jEfLq4IgEz46Br7eCAWjoWjYMPjoXznXBCguYE+G1MXD3Kr/7igMXwWdHU+VwozJocTn8i77qL4lVS1UrAcFBBJwicw9FVCocPyZA9oBweiVEVgB32k38cWkmb9/6N6rnLWHBLO/gpTJ7YO0xTu6BTClfv/o1Y372R5ZNTMQkFbPpnYW89N6zvJryMg+Ob3tat6zlhQWL2Rl2OXe98DPGJejR2fJZ/8Zilv31HUaeNZ8ZBt8xSK17/sofnt6Gbtr/8afHx5FqlrFVfM/nL7/COwvKcS18nMtTOttha8t3vLtsDJc9uozfjArCXbud5c8v4rM/vUra0oc5J9g7uItVn/L84x/QmHM/ixZNIVEjYytdwSvPvMrCp0w888RkwmQZ++oXeem7GK5c/GcujlMh2EvYvfoLdqiMiqAcCLIKLs6Gt9ZDbGHbQS3MnQ3/OQf0n+CdNEjw8OfwcHOXk+Nh57nwylG4vazzcHoWvOdAFD4B2tccHUQ0HADaRYOIOOknyGsnIryxfBCGJyOX5iB88y1c3263CEyDR7qWGYewaj3ckNetjGybifDd57DS2nEf5NlxCImfQ0m7N34Ckm0U4i37YKkVWA9nTUV2hCCM7mlzNeR8DHTeH4EJSLYJiJOLYVMrEAyrpoN0AEK3dDnXK+YEbV2P7zdA26GPe+4Pw5HrRiF8uAbuKG475p3w8T8zFJd3KTsV+c8BCAGfAe3iJR1KJ8MtlW33amDIyARgxt72t8vZO2HOUCGrGtnz9l8o41buG+8BNyC0UtsEhzfexy8/205RrYgpahjZ2ddw4x1zSPORXKb/i/hr1dD1CwkZjN4UPP15fP1BFh0Ub2/CkJlB0NaXePjlf7AhrxE5OJURWedx7Z33MjvG6y1SF23jCJmcnxGIrzA//ciJxPIJB46IXJrjR0yr3+Gvw5HrkhGeXwHPtIusSFh1ISyvgLlt/WlAfX6AHPf4McA+JYvwcC44SxCEbXS0m1vr4YtMmN91kpCIfKsG4dZ9bX8Psq1dOAvud4Hh4y62RcLyc6FoEiRtBER4aSR8sw6uLGwrowefKaG6Mhl5VTDC1C9ge/sLzDD4+0zkG0SEV9vLifDATBhfBeau33EWcus0hDf+jT8NxYOMPjGIAIPXPreforI/nFYorXuZ++47wt5Dzahj4hmWOpd5t9zI9NihiM7pG1/ZX5XwV4XjR4ciKE9TBMlEcLQejaRBYwghJMT7E+hnKIW3Mhfhc3/N3dMTMOpkZH0C4++6k5/EVbL7m/1tZZzsX7aETerLeeiPN5Abr/eKMX0qU+9ZyOJX7+hTUEqafD5+9X9YR9/PI/dOITVEA7IWQ/QUrnzqSX4xfB+f/G0NdV0GOlWzmakL7uHc9CB0MhjDxnLVgisZ4drGxu3eEBNZbGbHsn9y2HwDdy/wCkoAQ/wc7rt/Gvrt/+LTPG/7tuYVI4enMDLR+z5O1icwes6dXD/1xG0tcMZRkw93FHY54ITl38IGI7zVNXSqXTDp235K4VeNMKFLaJmsQs4SIXUl3cWNE+9kRqQjvGnzfqSWEBgxiMyOc0YjaIq6CErwTiq+hT+2eSkntJXpEGXtZdYhPOuC19K7VSls2tdlQgiwC/FzAX460DCuZjq/n6btfDXc1B7GNgp5qhWmbutx3la4zdJ9SuSP7X3ecz+Yk47gLuoiKAGcsOE7WN7Ve6iHzxMRPt9B5wQT4CC80AIPDvf/2qM7vYQux4kRlbLooOTzW3jkv6P52Qv3MtrdHpqZwIx5cxkXMYPr71vG0pdf4tfXZNK8YT4Lfvk+h/3dHsTvpjx0/UJAQDR5J639hfP5Q3t4cK3jOR5+Pp/sm9/mgw/X8eEL85ltf4+F1/2aL+q8Y7FoteAmiMCAPuoKDCaQBtx235/3ib+z4gsyEZrzuwhKgGo4twBp9lD3+aGoy88+FVkH0zbSKQ6BrQeR1fEwucvNjx6JoCmFL9vrHExbi0d+zQwPfdfDtmqYuwMpYnjnNW0eGJ8KHat67fQ/Hmnh/RSEb7Z3EZQAdXDX91DatWwi0m+McOfmHnVsRVgfBK8MJGy5E7HH9huSNHSiMn7u9Zybks7saxfz99ff5vn7riSlYQlP/KKzr5wofIe/ipyCC5MVThtEcCU9c7KtUDgFEB1x5GQE0/Wtsco1jKx4ia/qWmgSBAza3azf0Erkz+aSpe4x8MhajP0sb1AXrmZnUQLj7ppIoNx9Mii6Ezj30nQ++OMWNtvOZ47ea4MQkkVGktztRbY7ahgpwR72WVoAHZLmIFt2qYi/diKxrQ66To+klFwyA1dxeGc1pIYSMXMqkSs/4rmHLMy5eCYTcjJIMCkuygEjeGBLhY8PbPCFHa5vn/BrYdp0+FccCHaoA8JUEKCF6u4PSmHnEXo/xFJh+TiYpYWjdjBoQQ9iqAoiAb+iJkVvRtJt+/svc0NfZST4Qw3yo6GdGkDwQGnP2a4bap1gGshEIAxemOK9ZoMdZK13SZFOhI/bQ6WCERwN+HzAr6hBcIYNznb6uucDRYS5Jtjna8sQO7zZCM+3/x0CI0VoHA7/TO1eNFYDw/wLI1UhIOzpnFAGGDW0DlEIbDuyqpGD793AgqVBnPunJdx0VmdAmOAJJuPyF7pls06NG0Nulp5b5i3hg3Xz+O0UP4Su30PP0PULEQHJ5kIVAvrAodljUpB16HTg3B3BJR/+hZ+Ftg3coRdwzcJw6q6ex4cf3MdFdybhCU/GwCoaq/C5nE6sraKJKDJD/LxJfjVrEa4ygdYF/zyn+0eeQGStng6Vetx9vgvHVZeffeqzIz7qyEN4Ywz8OQWmHACC4Z1oeK2rB3IwbS0UOcyOsLTZx2cViLsEuDoYNlXBw99B5hRk+ecI+6rh7UPwbH9h+CEwEviw9/YbUIywoes/PgIpFMT5uXBtj6IJMhiCgDIGSk8JLYoquon048A85jf8bkyXA/GjyBybTkCXvnKi8L1PZSDeF55KgkUFf1EBRmiNvetkW6JwCiBrtah7Rp/IWuQux8RmCxZXANEhvdNmHwuxvpIGj5noWN+TBGNINAZPKdY6oM3hpdFoCOg189Kg6RKrKjZbaLB5OPqPe/nlez4qFoyE1dmAUNQpd/DUsxn8+/0VrP77Y7zvMJMw6afcfOscRpmVt3MDwtDHpCcIaG1/EE1F/joIIeBjoP1tvAgT5sJbXc4RPFDRcwLSFvYpbAHDgS7H46G0x8RvoNg8EHqM0Kp+y4h44x+HgrbQrHn1ELaCzlmwFj74eZdybuQAVR/OrB52+mO7z3vuJy14XxD4IqFr+/CADdhXBjf2nEQXgMG/tXwioMKNxyOhUolDOrkDkNTVbHju5zy1MosbXv0L1yQPbIWRO2kq2QF/I7/EClMMA7+gX87Foe0XAgKizdsuVKohCnqTAwiNgDBmkB0hdZuXCmIW40bC2oNlQBKemNGMVP2NrTvLuHlU78Q4DXvWUEomKcP9FJX+fhW7x7t/5HW9RYbqhrZQ/lMqKNCPPiVIsNmX90+CBQV4WtNRcQAYhTStFvHcdm/tYNuaB+/E0hdqb8BKc3ujKIW5HyIQAz8dDn+aDncmdllz76tuQO+rfl2PNZUOxFYnvFPQ/XkDQAHgS5j2jQoRh8uDvcWB3qhDZ9T0SgI2lIiMI3d4Z185Ufj0VDZNt6CtegddwT1e7/GpthWSwqmHETCAI+UlnJHXgXAqDZgKQ4rDhdNB93FecOLqmap1gEjGKMymVvZV1wBR/p0bGk2wehOlhYI3gUgPbNWV2FRmgsJ6f9ZvvSYzIQYVw695hacv6S8TnBd94gyuXjCDq10Wind9w8dvLOOZpzU8+8JsYnul9FbohqyCqcOBvB4fRMF1eni/LQHCraEIBSV0fyBJkONDiPR6ZoXhmSKjOv9gj+PeN+X+I8HD1citqQgc6PFZe6hPf2X08EYMwvrvB3NxH+i8nr5/b6K7W0Xr9eZ2zG0rkT05CJMD2tZYdim3MBpB237jBmH7cc0TJHi4Hrk1CYG9PT6LhDvNQPuaylpY3wpjZbyTuR74TvzcJwFocOPG2epCb9ShD9IO2eROkvfx+cPX8vLhy3jwnSe6ZS5tR5aOsnNPCGPOCu92XFW/l8OtsUQnBOHXywe/hpuh7RcBaFA1u5CgY63Y8SJIOjLPnQ6rdlJgvYERXRLsSJoj7CmEsMlxAIjkcsVFMH/py6y5+Almmrokk+N73lq6j6ipfyBXI/l3n/x6NyjB3fXQqMdn+zwl8bNPNfQu4mUvqq9Hwp/jwJWC+J+uyYYG29ZqEA/pvMsgri/u8dlw5JE2hJyegq4CPqmAT4qRS2cgTBNgna9/uAVWOuGK1LaERz3qPkdE+Gf735WIh8bAiCagZ1n/0aGhyeFBG+ANFxf9DXPvA1nVSN7mciImZhDcZe7h0R7lcB6YpscNyXX6wrenUlDhjL4eZ/T1SrIVhYGhtJMfBUazGZW6gJ1H3MxM73xxoKrZxqYKAQaxnEnlSmfquABWrfyELZfczcSu6ycFJ9YKG0HRvr2Y7uRZTEr8N1/+aw11OdMJ6/KWTPbks+rTgwhjfsUkg3+TCNGVzoSJHr796guOXnhNR6bXdlqanRhNPiZNGjOJ46/gfmEPN/9uHwfF8xRReSwED7QEwv6ZkLENb5hMPHw4HQKLOx/2rzXAX+PwrpdpxSveJsLvjeArcWk3GlEdFuCR4V0yoUbCP8b4l3W+GzsRNlwIBedAypY2u8Pg+WlwTimM+b6PMpHw/BSYZ4UAX+Gex6IJPMlwfhCsbPeoOWC7Ha5MAyrwzoJNcHEuTBbh4/ZzjyD+LRO+PB9mbYSdNV6bn5gCF8jQbd/3E2F7f+xA2HEh7DsHMtuvlwQrxoHJ3sV5KMHdu6FuAixxwp3tLyOSYPlE+ORreN0y4Kvq0dNKM6I4xC9CrRt55eEb+aT4Cu5edCNZrhIqKjs/1pjjCdfJNK56nEefKyD5Jw9z88+mkpkSiCfvv7z+3J8p4x5un+4ZOod2L4a2XwShQyy0IOV415ep1GK3bUMGi27GfK4bdQWv/Doe44O3Mi3ZRGvrPtb8aT6fl17EnT9PBTwIko4Rd7zMOZvuYOGDOlrvvZHcEaG4ytbw/isPsbzmGp5YehYB8omOINkB+y+E9RPb1i9LQBj8YTpM2ANzer5A+yHxNX7Yh6hP2eGiMqifDrghtKsIHGxbq4acAmTbdITa9fBAMd58oulwZATCF+vpuL+fTIF/74F/lLQdi/aGzq4T8D0BkODh3XDzOO9Si4sO4vVejoLdaQjdtGo15JQi22chrF4Dq2rwPoOyYE8KjP4cf94+mAigrKQJabyMSjV04eJi2fv8+bcvUDH8dm67/WqmZMcSYPme1Use5q2qGdx+aSonMgz12FuKKEJBYSAo7eRHgTPrAmZE/46Vf32JL++Yx+RhauzFG/nktdXUBQxyUiZrybjxPqbtX8jiBS5+cfOVTBwdRkBjPjveX8Kyb6O54tXfcmFw74FQdKVy0T1z2fT43/n9by1ce/NkRscZsBdt55t/vs5nFRP45a9zCZP9G0QFycSYG+5g9H2v85cnjNx0+2zGxutxWfPZ/MFfePObNG5bOp/xgRVsfuxR/qW+jKuvnUx2TCRGKY9vV+QhpU4nXRGUA2PDdng0Dmqv9G7thgfWH4HorkkRNsNj05FtP0cot3tDlg7kw5MWmH+sC9RBzmbYNQHsY72eO4MNbj2AkDthkEbXwTkrYckUaLkS8CAbQPi+GMbs7rMMBmB/KQRsYHBrEI8gLkxF/uoKb6TjR6u92Q4XfAcp08F2DZQ7vRO1ZdtheWSXc52wYAUU5sL6i7y24IQPd0C22ZsVsp/vd/y290c1TFkJ/5iCLF/ptaO1Cf6wEf46Fl7oWnaft51snIIsT/VO/vQe+GKHX4LSi4oAJESjFo8kd5vcOd0OKhqLsDbXkRadjV7X995wPSld8SjvHAEHH/P0vR/3+FTLlLu+5cUrzARf8DrLwpbytyVPMf8mKw5AIIhh2ffw6Pu3MdpfUSb0+qUfhrZfmDEhriuGy7wrRHX6Tq9vfVM1VQ0l6HVGkiPT+6umFypHFlcsehfpuUf5/c0v06rV4nRC/MgruHXpb7korHN8F7SzWPDym8Q892sW3v8mVtrv5/089f5tTDANot12PNoGOp5Xw5RV8NFEZDkTod6JHKpCWF8A006297KP8WPI+tQ+KE4GeSvdx4jjaWvrEAwT4chU+L9ZXs+p2ARLvoUHCtvKWOCntbBrCvKb5yDUe8BgQ/zDscaqfRDmgY3jQR7vPVRZATGr4P3LepRdjaCfBqUXQqgH7Crv+v7n/B8PIzCybWsF4XcH0Vjb0i1c3ONxU2UtpdnRSHRwEkH6gS8NkqNv44U3ovj7K4tZeP/LeHP2aomOuJhfLnmUy2MHKygH70kVrFarMhNSUDgNqKkZ7P56/eMJ2MArcxdTfdtbPH5B9zdo7pLlvPj8Wx17QmoNWcx6YB5J7y7ovk/lwRe59dFqzn35j/wssvtAtvPPF/FC5e/423OTO7LKCk3f894ry/hqRxUtLu8Apo+bxuW338Zl6d5sbs5vH+V2H/tU2vM+Y+nLH/FdUVtKHVlDxIgLmHf/PKZGdr4nq/3nzTy4+jx+8+Y1jPB0DQ05wPs3PsbOn7zCc10y5bkr1/LWy+/yzX6LN1mPrCEkdhqXzO/c/9Je8jUfvbWC7/aX0NBmd3DyBVz74G3MjDq9FqYHBwcTFuZnrHBPhK/xPoCq6Z6tzxcivDEPAtvTwGvxZgXsI5kM0Jn5tb8y/VwPM16X3HGuAexGu91N9L0ebyDfzR9MeN8491wD1Z7p9VhZWP2xZ6htPxbtWwEMJJNsMN5Y/MHbtoM8LK/OodLaSktTK6UHa6i0FFNhKURCYoIzhpRfTKW+pBWXU+q2EXnuxZmExQzNHpOOllIqqwMwx0QQdIxN5uoqrGz4fF+v40cq93DnvpFMrw1h4G186PrFSnZS+ce5qDVqSg7W0GBpoKDmIM32BkKkAGYHpFKZGY/RpMdS1dThyQyLCyZ3bsYxagehuZqCWhemGK+n91hl8+ubCQoeRljwsae19ZVW1v+n9z09XLmL/9uaxURbKODvS4v28aq/seFk0Nf4Acffp/R91AvH39aC8WaR7S+Frx6v/f7WP5C62wnDG0IwyGzXwFfsZvieh9n01QE8Homj28uw2hsorjmIw93KNH0yw6+bRtEuCx5J7jbu5MxKI2F4RP8XcFVTWeZCPYC+ArDhi33UlXffxsZqb8BYVMFTuyYA/W9x8z92MvL1q0m8aUq344qoVFA4TThRovKYCE7sVdXUy4GERwcP6X6MsthMbUkjrUYzCSF+JKgAWhpLqakXCIiMJNo4hPsxuSzUVNuQDZFEmvuoV3Bir2yg0WQe2mv/gJx8UamgcDJwUWw28d2twewuLqCw5CgtzkaS3cE8tCObZoopfyaXWq0aj0vi6M7OBCxZU5NJyfRvO4GhoGBfBXvXF/Y6PjhROXS00MSB+0ayXmpgz4H9VLeUI3ncXF07iusKkviKDVQ8NQdtgIbqkgYslZ2x6xffNqWfmk88h3eUcmhrSe/jlbuYvyOTSdYw/BeVCgq+acIK949hi8fO13VHKCzPp8lmIdpj5JHt2RxgN4lf3s3efd7s6F3bZkp2DFmTk4fUns9f3djrmH+ichcjX7+ql6gcWGoyBQWFHy+yFn1kPHEwiBT2/SNIJiLijp0cxxfG4HiMwccu5zcaMxFx5v7LyFr0UZGDy/vyY2ZhAcQp2eAUTiYaEi0Orn2uDkbYMelNZO2K53KiADf7AHdVMySEoNJ0D/MvPlRzUkRl8aGT9ELxGBgJZPyL5aQhsDjbTbYnkQv3xTIcDWBDi7ojkK5ncpLK4nqiEwe9yPm4qSzwL4OngsLxEEgQLM7jXIxow3WsjzGRsyeOnxAOSOSjwlrou01WFdSTPi4BtWZolp5V9nEd//A9GVREpYKCgoLCD4AEB9bTK8GogsJJwcO1h2OAWLxhcN4MOSLgsTt9nmGtbWHHt0cZMyPthzKSvZsKsdb28SLmFIkzC0Hm97uz8IZ8emhPDiIA+EjmAbBzdR65F+sICh342tWhYtfaPBr7uqfKzlAKJ5QWptcGMr02DW8/8TY4EQG3zfe4Y2tysGdjAaOnpBy3sLTWt7BzzdHjqsOL73WXiqhUUFBQUFBQ+BHie92b7OxbWZQerMFaayN1dAwG09BkcfSFrdlByaHqXuueeiJ7ZE4Ndenf1iwuh5u1H+0mNTuWmORjRIYMEbYmJ/l7yvsWlO2IMseTrERBoX/6WMfplqCP7Ubax53EkRGDfhFTUVRPwe6KAZQc2Hhy7OyvCgoKCgoKCgoKfWKtbWHn6qF426+Qv7uc/N3lxy6ooPAjx1rbwt5jvRA5ySi71isoKCgoKCgoKCgoKCgMGkVUKigoKCgoKCgoKCgoKAwaJfxVQUFBQUFBQQFIJ5H4N0P4fBE0NjZyuHLXyTapT2zO9i06Ts31fzPIYl2JSOkIKK0poKSy9GSbdEzsjvZ7eiqsU1X4sTCTHDy/cvHRIi0ul/ukjDsel5sRGBjYeKJkf1VQUFBQUFBQ6BMBE4HouOIhicIQJ+c1TDjZJvVLAoEMbAP3Hx4RMzNeVVGU2cTEfTHAD78dy2BIIoi+kjgpKJwIVJhRoWHeQzKHQixMPUnjjomB7rstIAi9xaciKhUUFBQUFBQUAGgB3OgQGdkAp6oXsJNmwHGyjegDC2AnaZ/AqX8fu9KEIioVfljqARsgnORxx0379krHQsn+qqCgoKCgoKDQL6eqSDsd8W+rEQWFHy+nf19REvUoKCicNCR1Cf97Yj5P/6/+ZJuioKCgoKCgoKAwSBRPpYKCwklDFpupKS2jpq4z1Ejie96a/y7OGxdzW87AwjAUflzYaaG1nxAdDSImAo/rGhYaj+t8BQUFBQWFMxFHH+HhiqhUUFA4tRCaaSwto7np2EUVfjwcoIQKLJRhZ//YZJxjI9GGGHyW1TslrnyxglGYAK1f12nAypeUseGieIwjI3wmI1BQUFBQ+OGIq7Yz8pOqk22GQhs6EgiICe51XBGVCgo/YgRnM80uAbXJiM5HhmhXSwsuyYQhUPaWdWoxmnpP0l0tLTjVJow+KnE1llJQZcMQkUK8+RiZxQQnNksLTic47A00NLiRNRoMPewTnM1U19TQ4tQSEh5PSKCS/v1MpZ4GVlDGX5edz5ZR0aAZ2GPr9zdk83G5zOSLVxJL6ADOcLOVAl5aMJq3rj7v+IxWUFBQUBhSljwVwh0JsSfbDIV+UESlF529fQAAIABJREFUwqDZvHkzTU1NhIWFkZycjNlsPtkmKfiJ0LCCp+5djumOV/nNLF23z2TnBv5222LKr1jCcz8NxbHpGe5eHM1t/55PrlvqKCepqlj75B18nPg8S+5K7Thuz/uMJS9+zKZyCYMJbM0QM/4m7n1gNmka3yJQs3sx9z2xleYAYOlN3LYURFckM595mTtGuZE9+axd9CLv7i6jweX1IAmSkcQJ13F7P/UqnJ7sp4hnHk3nncvPB9Ffj6HIFbEwbddFvHTfbrLW1qIiwGfJSup4N97Nr966Anew/vgNV1BQUFAYOpxONu0/qIjKUxxFVCoMiqqqKiwWC/n5+ZSWluJyuYiMjCQ7O5u0tDR0Oh3x8fEn20yFY+CJOY+Ls95hyfJ1lJ87m1ipU5TZNn/CDudEfnFhOCD1XYkPxKpPef7xD2jMuZ9Fi6aQqJGxla7glWdeZeFTJp55YjJhPtJRO8+6k0WvZfL69W9hve/vPDjem0tMZfZ499rVmgkfNZubL53MiNQIzEI9RXs+4u2//J1n/xzFS7/K8ulxVTj9aMLKLUsmsnFisveAJIHdAS4XONwg99MmVSIEGUGnY53bQ87zGSx0qrkq9wsSMNOZrt3JV1Tw5yWT+WpiYtt1ZGixQcupufefgoKCwo+OA3swjUw9djmFk4qS/VVhUBiNRsLDwzGbzQQFBdHQ0MD27dtZsWIFy5cvZ//+/dTXKxk9T3UEj5nJl00n8OBXfFvcORxI6hK+/SQf47SLmG7wT1DKYjM7lv2Tw+YbuHuBV1ACGOLncN/909Bv/xef5ql82yOZCDEb0WohQBdJSEgIISEhBLYJUMFjJuuSi5iUHo5ZK4PGTNLYW3ngF6m4N3zH9yplSDsz8PCHa4M6BaXdDjUN0NQCrc7+BSWARwJLE1is4PaAILBA52Hi9jn8+/k43mIdb7KWB28Q+cnmn3UKSocD6hoUQamgoKCgoOAnx+Wp9Hg8OBwO3G43arUarVaLWq04P38MmEwmhg0bRlhYGGlpaSQlJXHkyBGKi4vZtm0b1dXVqFQqxowZg9lsVpJdnMqM/SmzUuaz5sMjXP5AKjoZNIeX89/iNGY8mIFO9vhVnaQ5yJZdKuKvnUhsqwNn189ScskMXMXhndWQOpB1br0RG/PZsnkXh8trqHcLhIQlk6oxopYbaGgSQIlePO0poIHn7/+J9w+7AxpbBleRw+n9MRog0EClLHPZzAT4/sHu5dwer2B1OH3Xo6CgoKCgoNAvg1KAdXV17Nmzh4MHD1JRUUFjYyNGo5H4+HgyMjIYM2YMJpMJUVS8BmcyZrMZs9lMVFQU8fHxZGVlUVhYyL59+zh69CgrV64kLy+PKVOmEB8fT3BwsNImTkFEVyqzLx3J8iVfsPn2+cwwtrJnxRrqR9zDeQmSN+zUn/qaLTTYPBz9x7388j0fBQQjYXU2GFDylO60HlzG48+spDF5BlMmpTFC68ReU8C274txisl+16dwavLyLxO9IaySBxqHIA1wi83rhTQZIKD72mGabN7PFRR+LBQVQHUFn6mHn2xLfpS4NWq+HBHO6yYRnL63ZlDoieKYOB3wW1Tm5eWxbds2Vq9eTV5eHm53515hGo2GPXv2UF9fz/jx44mJiVE8l2cQHo8Hi8VCXV0dRUVFyLJMUFAQkZGRmM1mRowY0ZGwp7W1lQMHDtDQ0EBdXR3nnXcew4cPx2QyoVL5Dn1UOHmEzLiciW8s5ut1NzF91vd8scFIzgO5vdc9Olw4HUDXf6HgxOXoHPAlk5kQg4rh17zC05eYhsxGSVXFd29+SFXq71n0h+5rMtUHW7nt15Yhu5bCyWXV+dHeX+xD6Dl0e6ChCTSt0B454XF7Q2UVFH5M2FqYkxhPqMV34iqFE8/cA2W8PmOYIioHjIyoRLyd8vil+Gpqavj000/ZuHGjz/VykiRx4MABysrKKC8vZ9q0aQwbNgyTaegmlgonj5aWFjZs2MDWrVvZuHEjHo+HuLg4MjIySElJITU1lcjISDweDwaDAZ1Oh8lkYvPmzYSHh2MwGEhKSsJoNJ7sr6LQA0E3njnn63jsi3Xs4X/s05/HbyapwNMp3IxmMyp1ATuPuJmZ3ulxVtVsY1OFAG0vvUVXOhMmevj2qy84euE1vTKytjQ7fW5L0ssml5Ouy75lVRXlFVqCL0zuJXZryvKwOcIG8c0VTkW+Twjy/nIiwlFdyiROQSHFHAJt7+Fsdc24lX7xg+FyO9lQsB+mDzvZppxWSD6S+ymcWgxYVLa2trJ69Wq2bt2KxWJBFEUEQehYKycIAlqtFrvdTnNzMx999BFFRUVcc801pKen43A48Hg8qNVqxVt1GuJyuaisrOSbb75h165dHcfLysooKytDo9EwcuRIxo4di9VqZfv27bS0tGCxWFCr1VRWVmKxWIiNVdJBn5LIWlIvvJy4L9/jhffchF9xPiM83QdwZ9YFzIj+HSv/+hJf3jGPycPU2Is38slrq6kL6BR/gmRizA13MPq+1/nLE0Zuun02Y+P1uKz5bP7gL7z5TRq3LZ3PxD4SAMmaSCLC7Oz4ZiUHs6YQZqukNTyd+KBUzspRsXzVP/l60l3MTtEji82UrnmL19614NArovKMQUm4pKDwg2Gva6a1ufVkm/GjocXRTF1Tw8k2Q0FhyBmwqNy+fTuffvopNTU16HQ6NBoNGo2mQxzKsozT6ezwSra0tLBz507S09NpaGigsLAQi8VCTEwMU6dOJT4+XllfdxpRUVHB8uXLuwnKrrhcLvbu3cvevXsRBAFRFNHr9eh0OhISEhg/fjxJSUno9UoWlVMVT+xMLs56k5d2z+DSc3pvIyII2Vz7m9uoe/4tlj25jmWA1pDFrAfu47J3F/Bxl7Jy6Hk8sEjLWy+/ywsPvO1N1iNrCImdxmVP/7JPQQmgco7ionvPY/fCpTx2zxuopJFc+ZdnSDCZyLnzaW558UXeffgG3jAaEJwQnnkFN97h5LWnG0/AXVE4KSiiUkFBQUGhC0rw66mPYLVaB+RPvummmygpKekQklqttl9vo8PhID4+HoPBQElJCVVVVajVaiIiIhgzZgw333wzoaGDy/6o8MOzadMmnnzySWy2/hNaqNVqAgICkCQJSZLIzc3lpptuQqvVEhISgkaj+YEsPvOoqak54dcQnM00y4EY+9vsUXBir6qmXg4kPDr42PtCuizUVNuQDZFEmgf+/5fFZqwVNiRzlHf7kC6ILRaqGmxoguIJCVRCYgZDcHAwYWHH6d0Vvsb7qK8Ghs7TIWyZ4BWW9Y3KmiMFhaHm4F7uTk3kqnzvNL3ucKXiqfwBaXE0s95yhGWP3wnWQWa2/rFxYA93j0zlpYsuPNmWKPTDMT2VNpuNr7/+moqKCrRaLQEBAej1+mOKg5iYGLRaLc3NzahUKsLDwwFvspfq6uqhsV7hhGO32zl48CDffPMNWq2WsLAw7HbvHm4OhwO5jxj39jDndhRBeXoga00Yj5XuVdaij4wnDgaWGVZjJiLO7LctgmQiOMrk8yKS0UyE0TxAAxQUzhC0Gu+PwonDI3kzBUun+djS2AjqAHDJENIjIY/bTYBH8fsoKCgMLX2KSovFwsGDBykuLqapqYmcnByqq6txu93HDFvNyMhAq9VSUFCA0+lEo9F0ywKrZIQ9PTh8+DAbNmxg9+7d1NXVodfriY6OZsSIETQ2NlJRUUFFRQVOpzeZhlqtRqPRYLfbsdvtJCUlMXPmTNRqNU1NTQQFBSn/ewUFBQV/CTTyYEIUkcr4+YPgluE3NXVQVQ+nY3KQ8nLYt4vVsVMQgO1r8nlgfDzEtyXAcjoIkQWUl3IKCgpDSZ9PKEmSsFgs5OXlUVVVRXNzM8nJyeh0OgwGQy+vkyRJNDV59xMrLy9HkiRaWlqQJIlRo0aRk5NDQEAATqezw2t5puBwuNDpzpy3x3l5eWzcuJG9e/dSW1uLTqcjPT2dgIAARowYQU5ODkVFRRQWFnbbpzQyMhJJkigpKaG8vJzq6mo2b95MRUUF2dnZaLVaDAaDspZWQUFBYaDodTyZHIt2iNPpi9Uf859bDxL61m/JDR64uLB/ehcfr/05lyyeSdAZqknUAjwbGcavEKCy9mSb4z9FR7kvakTHEqUYm4f3vi3icBD8fuYwqLeQUOkEzpx5i9/IKqKv+ymZLatZ+2kt7jPFcRubxu9M9Tx5uPcODceFFMHjM2Mo3rObN5TduxT6oE9RaTKZiIuLY8WKFbS0tODxeKivr+/wRvVcTynLMg6HAwCr1YokdSbiCA8PZ9iwYZjNZtRqNTqdriNr7OlObbWV/KNVpKZFER4ZdLLNGRIOHDjAjh078Hg8ZGZmkpaWRlxcHHq9npCQECIjI9FqtYSGhlJdXU1LSwtGo5Hw8HBEUaS4uJiSkhIKCgrYv38/JSUlHDlyhIyMDMaPH09cXJwiLBUUFBQGwJVxkUMuKAEEZzHl2/dj87Nqz5Hvqft+1pDbAyCJdsr+MJsvgl7jzvszTsg1/OHZyFB+VdcALvexC58quFzQ2MiFkWeBCxxN9o6PRljhvf/kUayOQFddhiczHkEt4hzK/WCHGNGVzOhFUwn89J+s2zK0/UAVE4HZduztrU4bZBHCQ7nBZOPJQwxtZhtRyxiTkUi1zBtKyhyFPuhTVOp0OqKiojqS6YSFhVFZWYkoiowaNYqYmJhuoYztonP37t3Isoxer8fpdOLxeAgICMBkMhEYGIhWe+Z04NpqK0UFNUREGSgq8CZROROEZUhICFOmTCE0NJT4+HhCQ0M79p0EUKlUhIaGEhgYSHh4OG63G5VK1bHWtv0lQnZ2NhUVFVitVvbt28fOnTtJSEhQthVRUFBQGAiCQFbAj2uDeldRPm7tKSRyjHpoaDrZVgyc5mYA9E4BBHC09E7Ak+j2zsMq95X+oKYNClmFKjwQvVpGyf95DAQJdm8hDZRbpXBS6HeBRlBQEHPnzqWiooKQkBBqamoQRZG0tDQSEhI6RAZ4w18bGhpITk6mqKiIkJCQDs/l8OHDMRgMZ6SgjIo1ogtQodGqzhhhmZ6ezqhRozAajR0vDkRR7OZdVKlUqFQqNBpNR7Ke9jLtmV6TkpIYM2YMjY2NDBs2DKvVevzZJhUUFBR6EhZJmtDIUYsKEsP5vwCZffW1rKxq89KERHJJRCAjPM0sqqmDJh+eJ60JIoK4OlhFjdXKqspGaC8mmiDeANXVvZPcakIIixWpK6nv3IXHGEJERBDXGjxsqKtnS1WntwhZC7Eh0FwDVgHCIpllsrO62MeWOFoNAWLfs0OPqgHL9g2UH6nB5QkmYNRU0rIj0PkoZ92wgfwjpTgMo0mZO4X4PuoUm4sp2rGBioNO5NRxjJqdecwwV9ldTNmG76motiKoEwmcksvIKF23z4u+LUU3NZeo+vXsX7WPJnUCwVPOISPJW04S7TRs+i9Ha6ApYD37vqpA9IQQlJtLXIjs83skndP52QkjQAf0ISrb212NC8IimRtlxGy38s/qOrD52DZJFiE0lJyQYDKFZt5raESqb/VdZ60DjKGMilFzIL+65w5PfeNohdAQcEmgVXkXiA4xmpg4YjKiMUfK2PKKKNtUh030XSbUZKehqIrqvXXYunQ7MSaJhAQ7NRsaUI0ZQVyWCbGuktrNxVQ3er+sIEcQNTORQA1oR2WSqpbB00jNt+U0qQSQVRjTkogYYUKvBUdFJZXbq7tdp+N6sXHEj4om1OiiIT+f0t323oWgo87ItCj0ooWmvFIqDjV3C4/tsH1TNTZ9BLEzolAf2E1x6QmKwBJNEBvgDcWWTJAYynyDhw11DWyp6pE91hxOkraFoiq7d6yJCQVnHdR3yaItqyEqnDTJ4m1n0NE2zw4PZhw2XqmupqXRc2zbBC1EhTLXbMTc2sA/K+p6j5FCAMSGMs8gUG238XWlpXNsVTij6FdUGgwGJk2ahMfTu2GJotgrhDUwMJCEhAQcDke38Nj2fQvPFHoKSgBdgIqoWOMZISzDw8ORZXlAIcq+tpURBKGbFzs0NJTJkyd3+1xBQUFhSJBFGJbOPsp53RjJdEczJeh5KiWRwuJ9ZLrTKEmGvAYXkjGahSMSWbJjO3dVeTrPj89g51lmIpqtbGqFuOhEPs+0sWzPXu4ud4Ek8lBaOncFNZG619792ukZlIaUoi+sB9QwKpuSFC0VtVZ2CAHclZCCqu4Qw7bXtAkDI89lpTPmSDNXjcqhNFyN0HAQfbGP7yb1rSScuj3sOv8ClleMIXpkJEZ3MSVb5xM67kXmfnQJCW1aQrSsY/XtN7NqfwKxE9MIbHmfdY9Fc9bTKb3q9Gx/nGU3vUNNymyGZUg0vPsk3zwxj/Pef4Lx0b7Fidz0Du+O+T3FyWcRkRyEunYPefeJRDz6HrffMQwdIDZ8waoblhNwXzxV/yklaGQkmtIXOfqwgaiFn3DPVfF4VNVU/etN9paCVfUp65YGo3ZFkpaSS1wICA1fs/KqW9jmmkra5HDc+a+w5qEUMt57g8sm9fO8lV1sb7BR7sN1IyAQFxhEjrof4SX38T9oa3fb3EfITEpit9nBlkaJgMhoXh3Vyn/27+fqoi5tRRPG3RPSWWhystdqp1gVyp9G6nDU5ZO2vdw7yW6rc6tnL2ZTJiUZJuI91ZxfUMX/Bup68rgIDA6mXQW5bEPn9RVcQcTcPYdJuSacRRU0tuiJnjmR7KsOsv2FtRSUyQiuIKJuncOUmSY8RRVYmwOImjODiU1H2fXSKg4Veu+1evh4JsxrpnBKOHGpdppqBHRTc8i+spp9Cz9hz2GQgyOIvSgBs1qFanQWw4cJ4CildUM5TZKKqFtvZMZEJ7byJmxoMcyZzrjrDvH9kyvJr/HOOQVJi/n8C5l8XTTamhosNRLRF0xi9JHvyNf0+L8bksn8v3PISHLRVGzBpk5l2M/PZuyRTWz8806q7UKH7ROvrGNLQzqpD44m0thM2Yt7KD5Rjt+AaNZnB7GRIMaMiiG5uYmdaHgwKQWxsYxJ3+dT6hDaxrIRHAw8ir7KDoITtLHU5kRw77rdvNfc1oZi0zmUo2bh+iqOAmDinCmj+SLIydp6G7WaMIrSEtl+eA/n5/WzjZwhhr9PGs7VNPJlgxtz+AheHdHKoh17eKy6TTUKYfx+Vgb3uxtYYYO42ET+M9rJ81u+53d1J+h+KZw0BpRKrr/9KH3R1YN5puFLULZzJgnLoRR+iohUUFA4ocigiQjBsG0zo6s93slVSg62jGxsreWMWH3EO+nCwMyp41idHstdlSXeEDHzCHacZaJo/3ZyCtve+stayMqmNieLsqYdPNNkZVG+jSfSEhix7xCH5bYxTQzjr7Ei6w6WeuuKSKc4VeD9rdt4qKZtUmWI4/1po/gupZHpec4Oe1Pi09kiVzF+fSH7B+IR6IHWMZrsN3aQHRHV4Zn0lC7h7Zm/4bOPZ3HvTwNxaYrIv/dKdlf+lmvX38OotoQ8jqNL+PC6p6nlbELaz3V8wX9+8RFN9/6X+9vEoOQ5zP4bz2bNnbmM+OwCnx5LOfinXLruCkzRnWG69s/m8fd7H2Pl5e9ycZT3JEm1nYpVl3Pl16+QpPN6HSt/PYt3H3qJzZc9yySSGPmXf6G7KZXl2kXc/vecjn+uS1PE4Vt+QV7QK9zYJpg9qgYa//hT3rjmGTYfeJZJfWyYK4sClfVVfOdrO0AxkPMyj+M5LUNwRDKfVR0i7Js2T7WshuHZ1GZk8XzTVh6sB6QAcsZlskgsJWVdHpXtC1lNcSybnEZ5jp3YbZ3ZT/SGJHaZ3by0fQvPVrbibyxjrE6LKA/9i/zAi+eSO9FG4XOfsm1/m4fLkEzWram06/LAS37CtGlOCp97u6OMoI1m2II5jHloGk33fkt5W/9Rm5KJtX3O/+4txyaCoIkj++lLyJw3krzHDmGz7mfHQw7kf5xH2Afv878N7d9JAMFDzYcfsvxNa6dn0pDM2McvZOyV+yn+WzluAVRjzib3F0HY3viAlWssuAWvBzTunguYNF6EDW01uoJIuPsCsgL3s+k3aylqE6Vi7GgmLpjKtHsa+e+zhZ0e2YAYMu4SaP3sIz7/XxW2E57px8jdw13cvX0Lb9S1eR0NUSycNJLdY5sJ3djHPtZFewmPGE/92CTeW1cMAXF8PjqQQ7u3sdQqe8fKrCy+MNSR+90hdrYJZ2KyODQmgycbtvkWf5KJS8cN57KWA4Rua3thJmsheyy27FTeXH2IfI8AMQn8igqCvjvqdZrLIoSZoOEE3CKFk86Z4z78AehPULbTVVjWVlt/YAsVFBQUfpwIlmJurG4TZ4IEhRX8G9ieX9gmKAFsrMlrwmYM5Dy1DLKa4PRIkmsOc2lhF9UhOGHPfm60BXJPWrD3WGkZ72kjWRTbZexPiOMaqZrbSz0ga8kaEUpgVV6noASwlXFVmZPx8dHddnAYprWStjlvUIKyHV2boHQ3VdHY2IqQeCPn/KQWz0av/yGg4BNWr80k8tV7OwQlgC7tTq759fhudbk++xsF1nmce9ewDpEqqkYw7pHrEba9xX8bfU+aRUmPKToASbTjqKnC3tiKcPVdZEXuoHpr5zmCJ56gx26jLdoVlSeExDuvJ5A9VOb3PyE3HHyddZtzSVh4aYcHVuUJIfBXj5Cu+5ztqxx9nivIambHBvr+MCKc2cJxhoe6Kpmwq0vos+CGw/v5abOemxPbBGtIIstCbSzam98pKAGay/jlrnrckYncamqrQAZtoMB/tu1uE5R+coJe4oquZFIvCcG2fFWnoASwFbJ38TccKZe9ZS4Ow7Z8ZbcysrOS/Oe2Uh6YSebZXcKi5RIO/qO0Q6jJrjKOrm7AHRNDmHjs/4vU6BWUKoMBY6QBrauQQ6sbUCXFEeKRESQtUecNR39oI5tWWzpCWGWhhrIlG8nrEnEup45h5OgmCpd+1yEoAaTyPXy/rAjn6LGkxXf2VZU+CGHlf1j9ZZXPcNsTwbq8A52CEsBWxYLdtTSb4zvbT08EJ+w4wIvqZPIzY/nDhFRSqvdySVlbPXIYLyZpWZ93tFNQApQd5dYmA7fE9dF3QuN5LrCZv+2r6tL2nbCniPe0kfwxqu0eShI2XTCLYwxtZSSotw48nFvhtELZ9GqADERQtnMmeSwVFBQUTnkEcDp6hPnJToo9YHQ76fb+1OWkDhXeqVIg9wdCfr6PNXNCK1/UuTGHBAON4Kri5ooU7EnhUFYNkoFLk4KoKmt7I4+RKwyAEMfbE+K6m6IV0RkNTBZlNrVNpgqqK45rXZHsLqbomYf49NODtERGYhRacTQ4UFm1qM/1TuhVR3ZhI4uUDLnXJE47/mzC2dbxt3X3TixhRvb86mEOd7vOERzU0rBXgNzeE32h4Wu+XvA0W9a2IKYEEeBoxN4KksVGdJfIOYFIgnvkaHMHRxJM6zEz0IqHD1FGNfLih/k0oNMGwWGlKqAJ5/4amBPX5/kaQwRnG5tY29VbKQZyXqSW49qrUYCGRkvvKgQn39a70YUZACuEmBghWXm70UeymZo61jOMc4MEXmtrhkJTOb8brCdHEHDKMpJHQlQNnd9Ajgon1NRM454m+vKc9ldGbimlokzgrOEhqFdXAyA12Gh2dS/X0mBD1qhR0X9iHkHSEn7+eeRcnkAgLbQ2g8akArUOoVmNSgbBEUpIpIx9V22vNZ+yp5CaAtmb1AYQU8MJcldz5KhET3+LZ1cRtfJUwlMEKG87X6qg4Ftrr7InjhbW1PUYywDqLKxnGLnGzvbTC8nC45vKOX9mGo81FyHs7lLQEMw4ZIJi0nk7svv9Nmtloo16fK4pDjKQIKmYnj6at7uYJMgioz0imkAt4IDyo4RHZlCSPZ6bRjXxZV01N+WV09B0hu5H9CNHEZUDwB9B2Y4iLBVOG+z57DxkJSxtDAmmvgd6WWWhdGshjRHpZCXof0ADTxyydIB3H32NstkPc/950fQRQdcNSV3CtldWcDDtUq4/O/rEG6kwIPoUJv29EZc82DygV/cxMVSJ4GnzFgkSHKpm+8xEHg2s5BkhnscDrTyz1QYI3rrcYGmu45GanhetYYHgpKo9bFaA8uY+EoUMEOsbP+Od93OZveJtJnVJdlN65zA+biuj1umQcSC3Aj3y5KkbG7ppWjlAj8EwlowLJvco+hMy5wRgyujdOdrDUg+1vsi8PVd2eCHd8lbWzPgZvpaJDgY5QI+RRCIu+wmj5O52pF/yc7Qp/e993e6tXHuky+R4KLyUgL6vfBEi4G5rB24JRJEQEejpmFapMeCh3XGEAI7WQXgoO+rT4PBIHQn0NAYtrc3HUV87TjduWYVoGlwZQVKjVYPH7cEt9GqOfqPOOZdJvwim4aW3WL3F5vVCyir0s6/g4rntF/XgAUStj9wPngBEHdD24kNyupE1KlQ6oKfjW6NFJbhxtXQOMh67lebmEx3y2hWRAF/biqpEDHiw9DfOySIkhpDucFBqCOXJkBJ+V992gseFDTe1NVU80trjPpXXoHf0oVTdErLgYUt5Na/2TCZWUUVpc1tDF22wexsJe02QGMXLcUmUT4vm+c07Om1QOGNQwl+PwWAEZTtKKKzC6YC6+GOWPPU0Ty3cRF0/oVPVK//II3/6I6/+1//V9bLKwtbn7+O3759CKewFJ0X/eIFVjcPJHR/bTVD2Z68sWjiw+Vu+39dPAgOF0wOxmUX1EinRMb2fhqKZ5yJECuq6xMi1FHNbo4FbEoMhNZLkqkLeaRU66lrYKBFjkCgtq+71U1Xa3fVkPw4941E1UPltCUFn39ghKAFkwYG9sbPiltEziNGs48gX3Z8/kmin8uNPqe1yLGr6DAJKSqgbcy7pM8/p9jNylu8sq271YQq36hFvvJQuZiCLDbRaXL3KDxbH+BlEC0VU6Kb2si195jmkJh07j4PXW9n2R4eX8jiRQRd21h8PAAAgAElEQVQayyX6nvcmmMei1eS3b0VSU8cGwvhttI85REIUsyULb3bZq95+PHNtbQDljv9n77yjo6rWPvycacmUTHovJKEkJJTQOwJSrKBib9h7r1es14IFK6IoKigW1M+CXhuIggpI7x1CIL2XyWT6zPn+mPSeEKS4n7VYK8zsvc97Zs45s3/7LduOslpINSeoOoNUnENhgZbwkXH4NLZPrUQlg1SUT0mBlrBxTdtIPVKIDTdTtqWYTtHoK/btFYKuJIMDa6rqKrNKblSB9XYl8CmleL8DXZ9ehDcOpw3rTWLPeuHZO45Q4okjcUTTLXx0Y3sR4cwld089L7kD3P9ouQgdV8Q0E4oaHc4oj4mvWptihvRiawK8tWUTsYfV3DagJwNrfvCcZSy1qenhY2n2uXWguIXFr7Iy1ki+hLiKm+1HRaMwDI8ZDqdzy6qNDDXpub6bvvlxBSc1QlS2QWFBBcFhvh0WlDX4+CoJDvOlsKCZcvECwQlE+c4PmLei+VVJRcGPvD8/naOpI2gpzCQvv7lqGccH2ZVNrnwRd8+6ndEBTWdxLdmrdPRjxvxPeeO2xH/CTMGxRPLA7nS+94kjZ2g3gv2U3lV9v3AeGpXMHe5czjlYz8sjOdi1vxR1TCpZ4Q4WZJQ3HGvPEX71T2JDWkhdHJA+lIdHjmBZj67bb1LpDiCsVyhVSz9nY753ZutWllP02f38vLpOLMn+F3DmNQZKHryWRf9LxyRVh82+czUfrQ6jvkPJOXkm44cvYfPlc9le6HXVyK5MDs0+l4XnLcXUzARa5e5GTF8rri9+Ia/auyNV7efIfU+zydpx0abwaDGEg3nrT+ypkPAUZ1JqA9n/Mqbe4MZyyd2sWGeqPd+Kn+9jwZgnWGdve3bfILeyi7yUSGBzanllWDJnhFSLGX0Qdw5P4T9yIbdnVC88OXKYdMTNxNQBzI03eGdeki/E92NLioY1ew+zvqsUikEHJhNaP280iVrb9HuwOTruufT4FpHxyUGqhk5h/LUJBGsV3u03UkYy6uUrGDVagUebz8FPDmJJm8K4m71tJI8GY+pgRtzfG+OOtWzd1LHjyqoqXGYl+v6J+CmV+MYE4OMB66EyHMHxdB9cfV/JSoz9xzJ4vJ5a/Si5KV6yiRy//gz/TxrR0WqQlej6pjHskSR05nrHqdzBjqU2Aq6YzqjJoehUICmMhE48m5FXGzF/vY50+/GcMrvxCU3ll9RA77NF0kB0CmtS9BRkHub3lu4BTSQLBodg3r2Tx0tdsHsnY23hLB9YE2Vj4uV95Rjj+/J5jdCTFRDajS8nDOKZlnaBs+QwKVfJNf17c03N9kGyBrr1Ydv4XiQqq4sAJQ/k57Rw0FY/EDX+XK2D3C6sSiw4cWg1/NXlcpGdnU1paSku179zUxmF7I/B2EKicnvHUEhYLBbWr1/fRVadXKhUKoKCgoiNje1wJWHBP4PCEUOfUTZ2fvAuvw94iAn+dTFaHlUWK+e+x/bYYfQt30hzNeYkh5nCoiKqHBoCQmII8JPrv4mlrJwqhROcVZSXl4OsRq0zoG8Ub+qsyCajwIIuNIGYwKaxPlVVVXgMBvxkGUtRBjmlEsboBMLrhe1aijLIKXCijW5+jBp7i4okosanEtB4O4F22OusqsKhamq/980y8g4VYdeFExnn32xIraKqjOyiChxqPcExYfjJzU9wHZYCcgut6PyjCWvhXARHiSOPS9bAK2ndyBrTDdygVTrZWZxN4ubD5Dee7BdlMseRxtPu/d7KnvWxZjF1DXzUP5mqyTI2l4RW4Sa9OIO+h7sgBLEexsc+5azC21kyvB/Lk/2QyiRCJj/G+HN+4/fqNgqPFr+nl3BDt0f5v/+M5rl7fFC7/Yk7/VHOfy2PpVPqfpPUjl70X/Q/3A/ezw/DZ/NVgBFlhQl90gzGzBvXbOVXtaMX/d6eS86dDzO/77MYEzV48sLRPfYAo9bf1anw14i759Jr9Z182OdNtIxiwLJvmNbbex4XRTzAkmv78qscgF5RgaybQK9nH2mx8msTe3WhTPGX8BxtLmU9bBXp9CyO4O/Bw/hZAeAmtzyfoesOsbOm8InkgZ2b0XlS2Jo8ADnFgxUlkr2Sxbu2cd2RLrw2VGrwKDAkhGLdmomPX12qQoWtkozSI5RWVdA7LolIn9bDhhtj3/Y7f7w+iiEzpjBpkozboUKpqKBk5UrW/ukGpVSvzUQmvafB7QClooLi1Uv5bcEh7/6SHUBW5HPwk0PE3HE2Z38ElG1j9Z1/kb3uT9b+OpGB917D9DILNo0SZcF+tq8oIXRkvQGKt7L2eTf9bhjBmBdHA+CuzObIgv+x+7QrGVLTTnJTtugbVrpOZ+D06Uy9WsaJCoWpkIJPl7BuaflxdsNYeWtLBpVJyVgmq9ECeMwsPriVyw+2tFhrYNqwHpxRspuommtMYWHXun0sHpfEhtQqhuwyQ/ZOYknm95SByMkuSmUlQbKdJVn7W972Q3LB1q3o+iWxf+Aw3padWFGjs5cxd3+mN89c8kB+AbtTulFyWhI6txNZCenF++mb3nJxLcHJi2QymZp9ssqyzN9//43J9O8O2wzwiyUqJhCtrvMTOqvFSW52GeWVWV1o2cmH0Whk5MiRbTcUNEtRUQslw48S1b7Z3PSwhYnvn0flY0+wJnwms54eTnC10Cn8+SEeeN+Hc9+4GuczD7B28FvMudG7dbrsPsQfL8/hs+05lFcXXJA8euKGXMnN902kh1rGI/3Byxe9wcZGa1jR57/Da5cFAWBNX8K8OV+zNteDzgAWM0QOvo47q8cAcPuuYe45cyi86VFGrp/N4u02HICkCCPtqse5b2IZy2e/wuLtFd7XPXriRtzMvQ+OIMojd5m9bs0evrjmCdZPmMvrl4bXvq8oWcOiNz/il91l2NVqJKcTVVAfxs+4nRtHeJd7FfnLefvNr1h1oLTW6yspwhh4wb3cdkmPWnHpURaw8Y3neGdlCTY/cFV5xxp9+U1cf1r7cj/bwt/fn+Dglpah24m0HG8xjUKa7nh9FMOuH+LNZyytAEfXhVG2fWANGFVQaWk9F1Ol8ca/tWaaUgf+CjBZ6nLrOopCwaw+PWh1Kc5ZQEmBHd+QOPStOEM9CiuWzCIcIXEEteE0dSvLqdxXhCM0ljD/9nlYPcWZlFt90ceGNY5U7DAehRVngQmXX3iTc/IorLgysyl3h+Hfzf+oj9UWD2fmQXkzERyyAoaNpsy9ncBN5aBQgc4XbG1837IC/HTgsXHMyoZmZ/LdyIEE/JKOx+khf1c2B0oyyCrNxR4VzJIB3Vl74XnkfrUJpVpF/q6OpyUojYEYg2Ts2eUtnobSGIjRaKcyy8JR77ih1GOMUGArrGz4SFDqMcZokSpKqShv/T6rsceSaaFVp6OsRB0ThJ+znNLCrn/+VNnNrC47wMKnbgVTO6J3dD1YPc7Ij39tZFalAnx0oHFB5THw9mkNoPG0/Qysj6wAfwPItpZtklVg1IDV1rnn4Z4d3J6UyNxzzux4X8E/RoueysrKyn+9oBR0LSaTiaqqKvR6EUt/IqJQD+TKeyey46H3mbcilcfGGVAUfMt7C7MIv/J1Lkgs5YvGnTSBhPSeyPXThtMrMZRAqZQjO77i49ff5sXXwpn7cB98GMHt78fxx/N38K3hGZ69IxEfGdTaQEBGUfAtrzz1JRVpd/PyyyOIU8tYsn/i3Vnzmf2soYHARXKQ+/EC1l00k5cf6k2EO53V78zmzfef4bHlNoi5gf8uHEl3TQl7f3uN1997k3d+6cPTkw1dZm+zVP3Bqw++wdbg87nt1QsZFKvFx3KI1QveYOGbn5LU/x7G6jx4AsPoMexqRt2aSmJoAGpPFvuWv8dbC5/hjbC5PDbOa6d1xRzm/hXJRW+8xrnRSiRrFttX/MAWpb5LBKWgBWQHVLRjouZqRxu3BRp7MjuKx8Nhh4PumlZCSdXhBMe0PZTCo8UQE9euwyrdAQT0CGi7Yf3xQ+II6lCPVsbyaPEJ1TYrGBUeLZqYnoR10bHaxNpOj4rHBWZz2+0kT/vaHQ0xcUw7kAUDQrnzw59wpWfg8rjZecZw/h45ALZtZUV+Ln0NXsXua/DtcDEft6mMsjamiLVtuiKy112FKaeF14+0L62i1p62PI6SG2dO0VHfvscMu6VpMaGuwmqGjtYQkzzQll6QXFD574x4/DfR4q1ltR5dZTqBoDnMx/rHVHBUKJNv5o7z4MBb7/JbaS5L31pEercZ3D69+SqnkjuQPlPPYVhyCIEaGdSBdBt4I/ddlYhrzV9sUipA1qALDEDvUeMx6An3DyAgIAC9j4ysMLNl4SfsD5zB7Q96BSWALuYs7rp7NNrNn/NteiM/TfdLeXBabyI0MmgTGXn7VYzV5ZBdOZEbHxpBd70H1IH0Ovt2pvcsI2PFViqrCxAdrb3NfwgOdi+cx1rV+Tzw/AxGxmi9wk+byKg7ZvPG/FsYq6temfXpx8SpI+kb44/eR0ajjaHPtAe5fpiZfUvr7DSlZyKHJJAU5133k7Wx9D3rVq4edXSh+IKTj/nZhU0Khgr+GeYUl0PjrWrqU1DI/JITdKLsowWnizdvmca8Oy/hvcdu5O9haeCWQaUk1yEKjZ00OCv4PL+cRY5/tDKQQNBhWvRUarWnxpYBghMLg6G1euSC446soduM+5iy+QkWPbwX2TyAC984m3iPu8WJraLiEOvXbWN/bhGlLomA4HgS1XpUcjnllRK08ijxqPeyfpuSmCuGEmWzNygE5EkYSarfb+zfWgiJdT6QbiPSGuQgytru9Aq1sy6qD73cda8r3OEkRPvhOmCmUoKaNM+jsbc53JrtrF5jI+zCs+mjahTWI2vQN7rkLXmb2bBlF4dzbDhkNaGRCWh9A1CUllFSbWfouFGELfuKlx4o46xzxzEkLaXV7V4EpzBmCzPTs7i/WyRhKrEL2D+BS4ZHC0ugsBVfleSBI3t5+J8zq+N4PFBRBQGNtjSTwWQXOW0nDc4i3txcRNe4fAWCY0eLv1B+fn4YjUYRAivoMoKCgkTo60mApOjNxfeeyY5H/kC66g6mhrXsJ7HtXchTs5ZRET+WEcN60EvjwFqUwcZNmTgU8W0eS2Euo9zi5uBHd3Lt4uaM0RNcYoGawDpZg0fdML9ZQoPaR4PKp2nes1rjg0+9oIujtbelcyhz+hIR0Ea4oOQg+6fHeWJRKeFDxzCsVzx6zBSWbGb7fnOD9DxVwi08+2IK333xEyvefoIv7IHEDruA6288i96BYm+vfx1VVl7ZfQj89KDTirnlscThBJMZXKe2f9gjy4gLSSAQdCUtikpJkhg6dKio/ip3zcpwTQXUfyM15x4T047EH8EJgar7ldzz0FBUg4OhhcqkHmUBf334fxQkPsnL/62X9wio9tq46T9lbR7HYwgkQKek52Xv8tzUY+vF7gp7mx1XH06gwcauwiIgvMV2suMPPltwhIgZbzPrnIbPgkL/W3nwp4bttXFjufTBsVzqLCNz2+98vWAhs55T8+KrE2sLDwn+ZVRWef8JBAKBQHCC0apiUqlUxMfHEx8f/w+Zc+Kxe0fXVGzV6XSk9E3qkrEEgmOOrCF8UJ8WBSWArCwgN0+D/5nxDQQaQFFOOhZ7w8qisgZc9oaV9BTOZIYMdfPn0h84eOZltZVea6gyO9AbumCT8i6ytzmUzmRGDfLlt2XfsH7q7QzV1fMkSg5MeRaMEQEoy8ootwUT3j0MqFukkxVmjuwtarmQqDqQuMHTuVvawfWP72KvYpIQlQKBQCAQCE4oRIKGQCDoFApXIv3TlPz42ycsH3YbExO0yAoz2SsX8d5nZdi1dSJN8ugJD1Rg2/07vx6OY6gmjzJFIvERBgbMuIW+d33A60/rue7miQyM0eI0HWLdl6/z4e89uOn9exoKteNqbzNbC8kaUq65i9G7Z/PGg06uuv4ihvYNxrfiEFu+mMfCPyOYPv8xzghNJin6U1Z++C27n5hGit6DZM1i87fz+GiPhppSlx5lAeuemMnnqvO49Irh9IsMQ+9J58+f0vEkjiFZCEqBQHA06PSs1em5BG+xnrIqEzaLKM74T2F1d+2etf8ORKj2yYAQlQKBoFNIHgNptz7HDXPm8NlDM1ig1yE5ICR1Otfc4uC95yrqGssaUmbczZin3+a9h1bxvkdP0k1v8nSEGjloEve9rGHRO5/x6n0fe4v1yGoCokZz3nPXdomg7Ep7m8UwkjtffIyQdxfyxSt3saB6D0xt9GjO/+9NnOnvBvpxxcw7sc35kKeu+RydXo3LZqD7hGu5Zcq7zF7pHUrhDiftuss4uOgnFj66qHY/Tf/4KVz7+GSiPKd2rpdAIDjGpKSwyU/PX3ElhO04xEqpAEQNvX8Ud4RIB+oYMgpJCMsTHclkMoll71bYvSMLg1GJVtfCZLIdWC1OzCY3KX1ju9Aywb+NoqKi421Ciyiqyigot6A2xhDg18ojRXJgzS+nwhBIhL6Ze8pZRlGhBVkXRlhg5++5f8zeZpAVZoqzKrDpA4kN0DXbxlleQKFZIiA0vOWtSjp5/Pbi7+9PcHBw2w1bQ1qOdwW5EOi61Xdp/RBQKqC0goY7nQsEgqNGrfJWhFW2tWGj4JhisYJJ5Ei3iz07uD0pkbnnnHm8LRG0gvBUtgOnQ6Z+DlTn+gsEpy4efSCh+kCgjWtd1qAND2t51w51IKHRgV1sXVO6zN5mkDwGQqNbX/ZXB4QTHcAxOb5AIBC0itMFRa1slyIQCASdQIjKNtDrfamqsmG3HV0Inl7v20UWCQQCgUAgEAgEAsGJgxCVbdAtMfR4myAQCAQCgUAgEAgEJyxCVAoEAoHghGJ4jom1cQGwbROYzR0fQKWGXr1B38nqIzmZkJvdub4CgUAg6FosVZCUeLytELSBEJUCgUAgOKFYW2EBhx7GjO3kCBI36VTM37gdQsJAoWxfN4sV9u2E1FRISfEWNBEIBIJ/mBm+PlyhE8+f+iQGBR1vEwRtIKq/CgQnCSdy9VfByccJXf117aAuEXTJCgW9Swr5trAM/FspACXLcOQQKCQYOBBUYjInEAiOLwd7xNLd6He8zRAI2o345RQIBALBiYWieqsDqw1cnSiSplSAzpe9Hg97A0O4MSKS99atg5CopoLRXAkZ6TBoINSshMseqLK1WZxXIBAIjgnbN2GJOg+EqBScRAhRKRAIBIITE6u98/tUWu1g1INaxXt2J4YBAxlaUszve/bViUWPG0KD4fTTvV7Kmn6VZvAIRSkQCI4TGYePtwUCQYcRolIg6ACy3PmJpiRJXWiJQHAqU32fHc0943RCSTkYdGDQYZbh96AQBowNZcuB/aBUQVQMqNXe9h43VFSB3XH05gsEAoFA8C9DiEqBQCAQnGB04QKM2QI2OwQYQKVmi1uGxJ5N21RZvbmVAsGJisMOuRZ6uk+eBcoDAUoID/Qu2gjvv0BwSiNEpUAgEAhOTLpK5LncUFwBOq3Xc1kT6up0ganK69UUCE50CguYU+RPsEF/vC1pP4UwL8HAKhVQWn68rREIBMcQxfE2QCAQ/Huw7fmOBW8tZ3dVxx89Zb8+w38e/YXDirZX6T2qLH59+h6e+7W0M2YKTlUsVigsgfxi77+SciEoBScVKuXJNW2zWCzo9mSA+uSyWyAQdBzhqRQIBP8Y1pz1rF9rIPLKKaR0sK+74DB5+T1xtCPyS1aYKcrOoahECAaBQHDqUZxbQUmO6Xib0Sb7crZQMqOz+80KBIKTCSEqBQLBP0bgxOd4ZyKA+3ibIhAIBAKBQCDoIkQ8gkDQRXz//ffH24QOIznMVFVVYW/B++esqsJS2fBNZ3kBuYcPk5Nvabaf5DBTZXY0aJ9d5mxwvGaP1ca4jQ6CpSiDA3tzKWuP67Jxd0sBR/btJ6PA0uoxTDkZHM6qoFJU7hUIBAKBQCBoEeGpFAi6gBpB+f333zN16tTjbE37kcp/4tk7f8Rwy3weHe/T4D3ZsYa3bnqD3OnzeOmCIMwb5/PaglXsKLbVtlEF9WHcjfdy06C6DZqLvryb+1dM4rG3x1D01ku8/3ce0uhn+ODuJOxrZ3HHCxFcteweJlRvat/ecWtw5a1l4Rvv8PMBrziVPHoihlzJzXdMIkXvaf18K7fz+Zy5/G9bOSqdDpfFgipqPNc+cCOnxdQ9Dm17/o/X3/yazRVa1FIVLpueuAEXcOVt0+gf2PoxBAKB4JhwUlYnFgtyAsG/BSEqBYKjpLGH8mQSlu7ISZzb51Pm/biK3NMnElWv5Ltl3TdscQzlqjNDAA++YYn0uXA4V6b2ICpShbtwH+s+mcfCWS8RNG8WF4bVhbTKchlr3nqUpYf6cuYNV5GW1r1FGzoyroXNfDhrLQETHubNR3oT7lNK5qaveP/tt3nlCXj8tYnEt1C2Xvbs4cunnuYXLuTeNy9kULgKqXI7P85+mXlPgHbu7QzVeXBr9vDNa1+Sn/Is8+5NJhg7pv1r+XmpHb3hZJzUCU44/PTg6wMnWdGVExqP7N1yw1R1Um9d0X/bEaaZdXxjkNjZOwg09a4RpxOF3LpI8w/RExEfdIyt9GKttJN3uBSn3dV6QxHpIRD8KxCiUiA4CloKeT1ZhKXkDmT4eWP45JGl/Jk5mUtjvALOo8riz28OoR99I2N0HpBBFTeR8+OqO3qAkL6Mu/sWMrc8y/pVRVx4Qd1ExmZewR951/HCa2cSp259gteRcRUVRfhc9gozJwYBMhBI3PAbeTLQxn2PfMyXf47nodHNT9Stvy3gh+xBXDb/Cgb5e89T9uvHmY9fz/5r3uarXy5h6AVBKKoKySnVEto/nmBZBjQYe47lkp5UH1Mg6CQqJed1i2KEXnu8LTllybA7eOdInndv0pONIxnc4g7FGOTLlXuLMG3LYGGakbx+od73LZUoPBEtdh9yRhIRcf+MoKwhZUQ3/v5hNxXFzac1CASCfw9CVAoER8HJIBzbZOAFjE+4h5X/d4Dz70vERwb1/h/5JbMHY+9PwUeu9hRKDop3/cW6g5nkFrhArSc8MQRbgIPK/HKgbjKjdEQz6LZziFO3sYLdwXFV7mGcPc7rOW0wROp5jI7+lV82HYDRSU0OISvMbF27H3fvmYzRWnE46r/Xj6HJNt5Zd4DK6cPR+yYzup+V19+9n2cOncfECUMZmGjER+jJkx+PLyTF8qAli9k5trbbdzFjo8M7JCgdPjvYd+3LZF39MWeNPLHCrpWbnmTR26kMX3Ax3U+geyPBR8OMuAg+OpB58oWL5hRiDIyt/a8KBTduNZOzp4gPkvWclS5DjPc9j7vhuSUNiW1dUFoOsmnPXg7nmvELSSNtVG/CWvLoOgs5sHUd2/Or8DH2ZsCINKI1zbdVa1SMOCeF3xZvadtjebIgB3L7iHjCDm3hycLjbYxAcPIgRKVA8C9H4Uxk4rQkfpz3A+tuvoexehs7flpJaa87mBTr9VJ6lAWsff5+3t4RSr9R40lJ9EWyFlK8cx37KlQoGjkFFFISA3p6oI05RkfHVQUFEKGRG2tKJE8g0WF27CXeokONH2yyVEVVlRPnoVe4+Vp1M5YYUESaqZTAzx3OiJlzMSz7hh+WfcRrS+ejDhzA+Cuu5arTIoS4PKlRMS0shIvL85id8w8f2teHs/0NHerikSrI3fgn6eccI5uOAk/RPgqW+WCTOOEc+Cm+PhBohNKK421Kh0iqUkKg92+7tW7lK9qu5YltHiCQ0pxKHEFOzGXWBn17DYhpdkxZYSfr17t48PmNWONT6RYqU3bgaV596UxuefVFzkto+LQ0H3yTxx6by6aKRBJT/Sg/sI1C23AumvUa9w1qXrSqNSoS+0Wyb0NWcxa0+/xPGGQVSUF+xGd6EPUsBYL2I0SlQCAgYOz5DF3wBstXXceY8Zv4YY2etPtGVod/Ats+YMFfUZw253luTFDW9pOVZfwx81r+r9F4aj89Ie3xEnRwXFd5IYedEvHKhmPLykJyCn3wTQzAR266YYkk6wnUKVGn3M+C/w5rWRjWrNyrwul71q30PetWLMU72LxkEQtffxxrwLvc2U9MMk5aFGa+W/033x2PY4uQ13+UZJ0ve08mUemwkyTXXSNuV/OeaUulDUtlQy+7f4i+xWGdB57moVlH6PnYjzw2IQJfGWRXNqvnXMlLN7xM3C8zGaiuPlbZIh6+7QOckz7j64cHE+aR8agK2fj6DB576FYM73/FTQnNbwdlDNa1fG4nm8dYIBB0CjE7EggESD6DOWuyD4d/WMWOFd+zSzuJc4fViTxbXhk2Tww94xp6+WT3IQ5kNx1PVjfnDWxKR8d1Ktax7Ofipsfb+SOrssLpPSa+2eNIHgO9x/VDuW8pSwuUTd53trDNCYAupC8jb72VM6LKSN9d1PoJCY4fsgKCwzitZ3ceSAwHPxXIGogJA129NmFh6P3rXQPBYfQIqa58rA+id4+wul9GpQ6iozi3ZxzTEkK9Y9ZHYYCYEO/yrKSBmCgmhTesolyLqu2fW0fGarZ9PZ+/P/+ZfQUt5wS6leWUrfuJTZ/MZ803f5NT3rAQiqJ0I/v+OohJAo97P1nffcvejLo2CnMmWX99zvr3FrHut12YWqijIuduZP8PH7H6vUVsWnWw2XYeyUbFtp9Y9/58NjVjC4DsyiT7z2/Z8NVHbFyyotVz6yqCFa183vogYiONtX+n9uzOfT3DIaiF55asgMAQ0hK6c0ViOIog39bHVBggIQqjXwfElMNBjI9XHFZVdiw0W6Vp+kyrYd/ir3BF38ODp0fiW22OpIphxAMPk8Yn/N/v3u2eZGUFq19/jgL3TB7/z+Da0FiFK4zB987njqStLHvyRyoUzV8sanVLPopOFumRfCE6ist6d+fKhGDvPaYwQkxQ3f3Z2v0naSAsgnGJcVyZGFl3jzem+rute260Yv0qfD8AACAASURBVK/kC2ERTO3ZnfNjg5s+D2rwC2FcYhxXxbdwrQgEpyjCUykQCEDWkHjm+UT/vJhXF7sImT6ZXvVydgz9hxDr9y3L3htP/+v6EaiRcRZvYunCBaxxqGlljbpVOjqubIzG/dPjPFZyFVee0Y9Y30rytn/N++//gWXA3Vw2VNli5UfdqOu59KeZfPrf11Dfcjmj+4Xi58wn/Y+PmDcvl+7PvsqtyQpcGe/w8PMFdL/sYqam9SAmSKZk689sLgwgOiW0k2cqOKYoApk2IpnFfh52lleR5TZyIDGBw0cKyOwZS+jWfKZaFCD7ck5KMi8WbiC1wuqdUHZPZoN7J4GGVLJSDMS4C5mcUcCv2niWj48j2WbmoMWD7BPNZ71h9b5tTE6v3t/UN4LV/Yz8YJUI6tebB7Rudh8uI7WgY+Y71UfIeeh6Pl9kQjVmEFH6X1j33Czy/nsjoxtVzpTKl7PskhvY6BxFj+EhuA69y8oHEkhZvIDzhnlFjbz+Zb6/MYkzfoli2xVPsbM0lj4Lp5OcIOPe/BQLr/uUooSJdE/xUP7ZM/z+9OVM+uJpBkd47x2XqoDiWdez8K1M1KNG0S2onIJ5j7HCcC3jvqxrZzUWknv/Gfy0MZrwRBnb7mfJvXsMI5ct5ozeXu+XXPkpnw14ksz4/oTGG1EV7yD9LgWhMxdz8y3daWGqjyy5yTaZ2eZqfpLvrzEwRt/JdfHgePb1MHGeJoG5vX0oL7dQpAlhZs9EMnL3MWR7aV2IvTqY24ckM9vgYKfJSqYyiBeSfLCXHKLH5ty6EP/qMeMd4SweEskEhZ23N+dwe2V7jZIxVC/GNc6X7CyysoJiM/hGhOLf6Lkoa8II8XWybvVumNIXj7yGpavUdH/kHGIbHV/hjGXijDG8O/MHVlaexTR9R+yTO1791RDNR4O7c7GiipVmB1VBQbzQI4bFB52c21vDM8UlfGqTWrn/jDwwPo1nqGKHxUmRRsvrhu44ivcRtbGoXvqEgejBfdgeqiDXZGK/HMD+Xt3Yuy+XJsuH/rF8OSSBc+VKVla6kH3C+FTvYWPWHsbuMtW1i0sjq4+GQ0VVHFGF8XhSTwwle4jaWNKxz0AgOAkRolIg6ARbt25td9u0tLRjaEnX4Y4ax7l9PmTu9rFMm9CwGI4n/DzuvqeI9957jpv/0qLTOHCRwMir7+Dyypks6eQxOzqujoFcPSuBLa8v4Nk7y3AAqAJIGfkAj988osGWKI2RlImc9eQsfBe8w+cv3MpCp3eio9H1YeRd/+G63gpvldvY87nm7EV8+dXz/GeeDQcgSdGkXfEIt/RXilCuEw1ZBWmpLPYpZOjqA+ysrP5+FEbOG9GXb3HzvzaG0Oq6sS3QxdzN63kx3wZIYMlh4socsFSrBlkBCWkUp/TkxoItvGeuETQ+XNYnAXvZbqQ1pWDveEEd11tX8/FX3Rm1fB4TkrwyS1G2it9uvp7lJRpq6n061UfYf8NVpBvf5ZqvphIre72WFc9fwILLZrFuz4sMq47trtRvZNW9Nnzu/42ZV6dglD247T/w/VVfUXnnL9xdLeg87v3svuY0Vt46kl5LpmCUwfXpNXz4ZhADf1zFlH7VQtW6kc1Pfkd9H5rVtIRM+VtuXTHA20/ewKppU9lxzxJGLpuKUQbZ/wKmrZqOIaLOY2Ndcjlv3/kEy87/jHPDm7+fJFmJwlbKX3nOpm/KKujpx5gOf9J1aNXhLIzOJfrPQ2CpFj0hvVgzOJVNpg0MOmQDjy9pg1J5WZFNwqp08mvaGaJZOLwHuWlWojaW1Q2q8ufXNInd+7YgHakETwfElAzhWq+n0m5xtNG4fUhuf+IToPTLX9nsHFIX5grIm75ltQ3I9Kpe1ZGNHCCVySl+NE0gAG3SUKL4hj0HFExL68g1LnXsmSkH8sSI7kyq2IN2c1GdaDdEs3B4d3pR3qhDc/eflZf/Xs/L1npXq7EHa0b34vvIEqbmeLz3c58+HAgwc+e6PXxQVn3OPqH8d3gyD+Dmt9pTCGXu8AQGFe5Cu63E+9MoKyAqmS0D+vBr5UYmZToAI08kGdmzZw2TM6oNVxjA+M8XBRMIjgdCVAoEAsC7vciohz+lv+yH3qfRpEHWEDH8dh4fcSPWgkJKZT9CIvy9uYnjv2VSvaYhV37AR1cCzay2a8bOYuFYoCZfqDPjAqlPDeNiSwFFlb517esVhFA6enP5/P/j8sYGaBOZcPtLTLjDgSmriEpVICGROm//mu6qcPpOe5C+0wBnGUWlEr4RgfjJshCUJyJSKIsjFCzfdrBOUAJ4TCxZn8lvk+Jb7y+Dxk/i+zXbebH+fFVygQXv5FGnAdkBh7L4LCWJ040S75lrGqqJtewjcGtpp8y3+a5izfz9BN75da2gBPAEjmbiq7ewZ9S82im+bu8HrFo3kti/phFbfS0q3QH4PfwIyQvvYfNvTzPsLI33tKrScV66iluvCqm9tp1L3iLDdDlTbutOzS2uUPZi0CNX88eURfxScQbTQtez+qU9GB7eWCsoASTtYAa9NJj695mRM4l9biDGaltU0hDGXtGfTQ9sYr80jcGyjMKjxRABHoUVZ4EJj8Yf6dLb6PPMTWRvkOCclu+pqJBgKMhvUpgLXQj366WjqgEjK6t4a0c6WOp5O4v3MzIrCDk+EjIyICCOhUEWXl5zqE5QAphzuHZbIJlD4rjRUFK7wKBV+VK5fwOXHe6MKFSQb60kwteAj07T+RNrRPwVbzB4+d08caONS284mzQ/K7lHvueTT8uJHajmsMmOTQK9qQwXRvxaiNaU/fzxoxyXtfn3W0bG0xFPZUgkN6greHJ3AbjqfTfmHK7dE8w5/RuP1cL9Z7V5711fDShdUHGY20ui+CpECzlVIAczN0bDpoP76wQlgL2IJ7cEMnV0eN1r3bpxnTufPtuL6xYKJA/k7mVAyHDkHpGQfQRcHgrc0CckFHILvALXY6aJDhYITlGEqBQIBLXIGgP61mZqsgZtWAzR0LVF/ToxrkYXTrSuk3bIGowx0RjbOp46kNBwhJg8kVFrCMHOdmsz3hOHhU1uid5tDCFV5vJ444mfLpxn0hK4zaigzOJAVqrQKsAXWKOQqcsVc7Mks4TO5o75FB2hsKA7PqPCaKyeLN1HkxTyBrur/6/Yv48cCpHfeIhvfeuuScluosC3EsfuIjgr2ms+I+kxPZT6F7hp+1bKgvXsePgh9tc7juw6gJ1iyndK+PbcQU5hD4InNrWnMSpiCfFt2MwYFo4HOzXaQypfzvIHn2P9H1UoEoz42iuw2sBTZiHC0vpnI0lG7govYU59b6Wsgmg/wo7ylrTZTcwyNxM+W2impJuBCxQy3wQY6OUx8XFF/e+7mqISVtO94QKDXMHLufambduDUsLq8Xq3FMpO5iE2g2Q4g6c/+JBvP17Myi8e5TuTjrCoc7hhznlYXxjFovAQfGVwh8Sj4zcqCqi/i1MtiuICKgknNaCjH7yEoiPPTx8NwR4bO6qa+QwqbWQ3SYpo7v4zMHRAEt+E+YDDQYmkIkgNOgnsBdXTXh8dSUo768uaWQCoKGG1O4I48ArTIB2KikMccjeySfJAvomSWCMXSDLfKMy8u+UII9K6I58eT3p5KR/n5vHfw6amxxAITkGEqBQIBALByYvdRiY+DDOqoLTRHjb6QEYrZVrNZpLAbmsUnubRMW1QEre79hG0vKAuBE8K5sXJqY1Eqp0cSzOio524fUHGhqIZR6fCUY7VVid8ZF8teuIIPe8MejeaqCdPvRhNQkjt/zXEEhZIA8En+2rR6QaSMmU4DX1hZ5B6li+GFBmP0gc1Nirb6XjVNrMqU1M2piZcd59tDpfvuIhu1Y5Yl7yBlWMvJLMd4zfxVnaBlxIASUUvZPY3/t6UCmTcmN14IyoUCgIUNI0IVarQ4Sannt61umz84OykIFRryHZ6Vba+JXdhZzGO4PzbR3B+vZfcihW8uFNJzMPdvf+P7EuS8i02bM3h+t4RTYYo37GSbFJJ6NnRD76DnkqLjSyFgXMMMmsrG/ULMNCzyT5Vje6/6rDWlcHlnLF6M3+aq+2VVfiPGMmemm4eDxYUBKmbuXdlFdr6tY88HmTfFqbL9a8XgLIjXPN7FtcEhnBmbCQvJKVxc9geotaLIm+CUx9R/VUgEAgEJy9SEddnuRiYlMrDYfWkkiGSVwaGMcDddv5XUyenH+f6waqsvIZ7rcoqQpoU2vTQhsOtVWT9EHqm5WBZsobGNVHVKz5lp6muIql98FgipCPk+YwiedyEJv8Su9WFz0r4NBF84WPG4puVRcmA05v0TRo/kugAGVfwEFL6p2Nf3NSejuJS7efwBi2Ka6ZRzzRkRTm2smZyJZvB662s/gy6yEsJoNUEMjOs0RRIVkGUEb/yEpYhQVEJawjmsYhmqqvGhjPRU8aH9cW3u82teVtGrWaX09x2uy6i5IfZrPGcx5Rx3r1TFYxk+jlw5P13WNnIg+thE4ve30X4qMsYqe54znCHPJXl2bxh0XF//x708asnFMN68UPP5rblaXz/qRgbpKGiMKdOUALIKvrXL+7rqGCVVc2UqICmQ8ZEMq1mFaPaG1kVEMmNhmbSQmID8Cst8l4vNUgeKC/k5x3b6L+uEFNINDf5imgXwamPEJUCgUAgOHmRPLBjO8mFGh4cPJTS8YNYd9oISoZHwMEMFqDE0mEvYhUbbDA4KrzuV1JjJG1oPJc2U8TkaFA7ejFo5jQcS+5iwey15Nm9xXeKfp7J/Ney8DHUtZX9L2PqDW4sl9zNinXekDq3spyKn+9jwZgnWGdv/Tydk2cyfvgSNl8+l+2FXskouzI5NPtcFp63FJPktSf16Rl4ltzJu6+uJK9aWVp2LOSbMaOYt6L9+YIqdzdi+lpxffFL7ThS1X6O3Pc0m6ztzxuMCgn2fg81XsouwOqBkX3681KMwTu2wgB90igOt7Mgvbp8ryOHSUfcTEwdwNz46naSL8T3Y0uKhjV7D7O+cUjkUXCgnmjR1fNWOlw2skvSKarM6/CYjoPPcvW0q3lx+XZyTRI4C9n5+73cOcdGn/seYILKe0zJ40OvW95hQvhiZt//HL/szMPksFOSsZR3/nMNPxZdxq0P9afj2kjqmKcSM/P+3sNTnkjWjxrOwdMGsv30EZT2lpi7p5gDKJBa1bUu/qx0EREcSZq2Jv/RF3ol8369ewmlidl7ynFF9ubPlKC6bUm6pbC2l5qS+ueZf4jrK43MGZrCxcHVqyMaI3ED+7MztJLZBwqrX4vk7bGpPBit814rsgICdITIFpa3bw1FIDipEeGvAoFAIDjJMZO5ZQMhe4wQoqOb28aRgnKQovlOaSe3o8UXFWbe3ZxO/wFJWCYnkmOXCFLa+f5AFh8aexDb1eaPeo0bv3iR7++7kDfmqFBqIDBpBkPeeRTbBdfX5j8qPFr8nl7CRREPsOTavvwqB6BXVCDrJtDr2UdqK7+2hNrRi/6L/of7wfv5YfhsvgowoqwwoU+awZh54zBWd1cNfIGblrzOt49ez1uvuVEawWOPJf7mV5g+QdPu0FO1oxf93p5Lzp0PM7/vsxgTNXjywtE99gCj1t/VrvBX8Hor7w4z84aha7yUADhKGL3Fxktpacj9vCsHNmsZT27Zx0sFNRs6emDnZnSeFLYmD0BO8WBFiWSvZPGubVx3pIurekaF4KhwotHUudRySjPILz+C7KejYngMZxxS4eurxlJpx11T8KwV0aZKvomHb3mS59+5lGnPexdEtAHDmXrPQu44M6jBdylpxvPgOx8S+dJ/mH33h5gACSPd+93Ns1/cxJDGnrp6tKYbO+y9sBfx4uoSXvQ3EhngS57FBMUWiOjHJ7Kdg60JNMkD2/cwfWgya04LpszuxqOBjJwMHin14836bfN2ErelF7/3SUWOlwA3ZZUFXLihmPNOSya+tqGZ71ZvY9qAJD4YMowvZDcooayqlAfWHWRBTXy9s4zbikL5u/cgXurvodQloXNX8tbmw03zMQWCUxDJZDIJn7xA0E7k6jCezmwpInV0r65GFBWJnAxB1+Hv709wcPDRDSItx5uPVAh03QRbWj8ElAoorQBHO5b4/ULopa5gf2mjgi79BmOJKMa4/CCuThV0UoBOBxoXVNraqlvTho16XkyIbrOZpziTMncYweGt59V5FFZcmdmUu8Pw7+bf4n6PLeFWllO5rwhHaCxh/i0fS2HOpDDXF01SWK3o7Aye4kzKrb7oY8M6bGtneDi/GApbSAyNG4ilhwndioPgqf6OJVvd9jHNISvATweeNtodJdfnVtE/3cbBXenklWRicVZinjKUPyYMhIyDvJMTiJ/Ol7yMUkzFVQCofVScMWNIq+PKCjuludmYZH8io0La9DhK5kIOlZox+ncn2L/tL37/lmz2bchq8vq+nK0cvGYsm9J6QkE7E3XDwsBcDJb6N5yRaWP686FtF4Eb2jmOUgcGoMrSelyy3M5rALzPlQDf6jFbeSAofUHngcpObg+z/Ge2P3QPfSPC224rEJwgCE9lM7jdbpxu74qeQpLQqNVt9BC0hM1R90D11XRdmXSBQCAAvBPC4Bh+690Le7mJFWYrR1DTPzCIC3U2Xtl6uHOCErxeD6sZOryNQjNYrJS73ASomsnPq4ciJI72SH2FR4smpidhnTRH6Q4goEcz+WSN8BjiCOnFURfGUYTENVdU9Nhhamd+Ys133J525mOf8/hBlB6sFZz92y6cvWNZNuUMCAkAqx2cnlq3n9qn7jpy2l2U5psIijC2MKo3vDU4orv32mrHdykbwkgwhLWvMVCc20UVTj06YmN6sC+sGxtKK9lqdVGl9GV4aCDD3QWctbEDlZbdFqhoR7v2XgPg3Wqooh1t3TaobN+QAsGpQq2ozC8oYsNmr/fFz+jHuFHDGzTMzMpl285dAPTonkDvXj2aDJaTl8/mrTsAiIuLoX9qW4XcT0z+WrOe+R8tBmBQWj/uv+OG42zRyct1tz0AgE6n5f05L3ZqjNKycjZs3kZeQSGyDOGhIQwZ2I/QkKP0sggEgpMfyQOHtxKbH0BIVDA3+fsQL7lJzzuIlNPY23EccXt4PreQF+Mij7clpzwPF5WBrRUPkbmI+UXWrt0WqSvpHsWPs27yxpTaHeCq9p5JUou7G21ZcZDTLuyPSt36osWxIGNnPiU5Lak3uWMOfoWFrM1r0AWEcVqoP5P1GkKx89OBnUzILKvbJ1IgEJxw1IrKnLw8Fn/9PwC6xUY3EZWHDh+pfV+r9eW5Jx4iIjSkQZvMrNzaNqefNuqkFZUtcehwJs/MngNA/z69uefW64+zRac+v/2xmo8Wf43L1TAkZfHX3zN96pmcd/bk42SZQCA4obCVU3yonFnH247WKK/kYaeLS6NC6anRYFCKWnldhc0jc9jhYGFxGZS24TUrzeKedkZQHjdaCPuWW1DClko7yz/bTJ+RCRiDtRiD9MfSOlxON6aSKg7tzCPvUOsfZoeqv9ZQXsgf5YX80Un7BALBP0+nwl+tVhtz5n3AU4/cd0qGhsbGRHHOlAkAxETV7dfklj3Y7d7VT6fr2OVUCLysXruRDz7+otn33G43X377A93j4+ibmvwPWyYQCI4pDidofbx5lacaVVY+P9DeEjUCQftx2l1sWXHgeJshEAj+pdSKyuCgYMaN9XonQwLbznw4nJnDosVfc8PVl3bogLl5BaQfzsRitZKYEEd8TDTqVoRpdm4ehzNzqKwyExcdTUJcDDpd072KbFY76YePcCQrh5CQQLrHxxMc1Hy+SGlZOXv3p1NZVUVkeBiJ3WIxGOpW9YKDAknqmVj9tzfEsqCwiD37Dta2Ka8wsWnrdgBSU5Jr8wU9ssyRrGxKS8swVZoJDAgkJiqCkODAZm3JzMrl0JEjeDweoiMjSIyPa/XzqI/D7iQjM5OychM2h53wkGDiYqPR63S1bXbtPYDN5k0I6pGYgL/Rr/a9KouFvfu95+TrqyU1uSfZuXkUFHoLwsTGxhAWXHct1JyvUqUirU9KA1s8Hg/7Dh7iSGYOQYEBJPVMwN/Ycn4HeEOu84uKKC+vQKfTEhkeRmx0VO37I4cNYsuOXWzYsp2Lp51F/74pyLLM59/8wJZtOwHYuHWHEJUCwSlGcL6ZkgQfUCu7Jp9RIBAIBALBMaVWVMbHRXPT1Zd3qPPvf64hqWd3xoxoveoYgMVqZcHHX7Bm/eYGr4eEBHH/rTfQrVtMg9dLy8p576PFbNu5p6HBahXXXX4R48aMqH1ty/advLPgMyobJdGfOXk8l0+filJZl2Ow9Pc/+fTLJQ3CKTVqFaeNHsFVl16ASqkkPeMwr8x9H4BxY4dz09WXs2HrDj7/6vvaPhmHs2rbvPr8E0SEhnAgPYPX3v6A8oqmoTfjxgznmksvQuPjFYweWebdBZ/w198bGrTzNxq54NwpTBo/poVP0suy3//is6+X4LA3DJHx8dFw0bSzOWvyeO9ns20nP/26AoALzj2DC6edVdv2rzUbWPT51wCcMfE0UpN78tfaDfzvp+UAXH/VJZx+2qja9jXna/DTM/+152tfLygsYu77i0g/dKT2NaVSyfVXXdys7Va7nadmvUpWTtM9t5J7JnLTdVcSERqCJEncct2VXFRSSnhYaG2bM04/rVZUFpee6DFMAoGgowzeX8zShGBQnnqRMAKBQCAQnIo0CH998rlXKSkv4947bqR7t7gWOwUFBVBaWg7AB598TkK3GGKiWi4+IMsyL7w+j4PphwFQa9T4anyoNJspLi7lyRde5aWnZxJWnaNpsVh5/LmXKStvKs5cThefffM9/fumEBjgz9Yde5g9Z37t+4EBRkyVVbjdbn5etgK7zV7rTc3KyWXR4q+RZRkfHw2Bgf4UFBTjcLooKilFpTy6BPeI8FBMpubLfa38ay3+fn5ccsG5gDdXsEZQ+huNqFQKSkrLqTCZcDjaLkEdGGBsIigB7HYHn3z5LbHRkfRNTWbc6OG1onLdxq0NRGVNYSaAsSOHNxmrPbhcLl6aM5+8/IIGr7vdbuZ/uLjZPlofnxb3tNp74BDvvP8JTz1yDwAqpbKBoCwoLOKHX5bX/j8mMqLJGAKB4ORm6syNLJ3UCzQq0Kjbt62IQHCqExlFsazA3+whuyiDrPzs421Rm1idx75irkAgODFQAexLP8S6DVs4kHEYgNzcglZF5ahhgygqLmXthi047E5ef2cBzz72YIvtV676u1ZQpvVL5Z5br0OjVvPTshV88uW3OJwuvvrfL9x23ZUAfPLVt7WCslfPRK67/GKMRgNbt+/iyyU/cv9dNxEY4I/L5WLhZ18C3j0AH3vgDnon9aTCZOKpF9+goKCIlavWcs6U04kID2XvgUO1+wzed9sN9E1NptJsZulvfzJ8yIBWP6ixI4bibzAwb8EnACT17M41l18IQEigN8zWz2DgyksuICI8jMjwECSlki3bdtYK2aW//1krKvfs9eY9KJVKXnvhCXw1GnLy8vntj9VMnjC2VVvAWyjoovPOJjW5J0GBgdgddn5c9jsr/1oLwC+//0nf1GRioiPp0T2eg+mHycnLJzsnj5joSEyVZvYdOARAXEwk8XFt75/WHEtX/FkrKP2NRm6+9gpSevUg/fBh3l7wCSUlZc32mz71LJwuN3ExkWh9tRzJyuK9jz6nwlTJ/vRDZGRmkRBXt8X4V9/9xPKVqzBV1v1A6XRaJo5r3aMrEAhOPnpjY5rNzXc6FQT6QVE5eE6QKq4CwfFCp2POQD9GZZZwKCYVSD3eFrWLjKiQthsJBIKTHtW7H37GH6vWNnixJqeuRSSJG6+5nCOZOeQVFJKbW8AHiz5nQL8+zTZfv3l77d+XTT+3trjPlNPH8tOvv1NaVsGGTVuhWlSu2+D1oPn6+nD/7TfgZzAAMG7MCEaPGIJK5XWwZmbnUlRUAsDQQf3pndQT8IqbcyZP4IOPv8Dj8bBp63bOnnI6hnq5hm9/8AmnnzaSsaOHN/DetYTRz0BEZN2OYDqdL91imwqxMyaeRlFxCUUlpSgVCoYNSmPr9l1s27kHm81OeYWJAH8jer3XFrfbzZPPv8rEsaMYPWIIV186vU1bADQaDVPPnEh+YRF5BYXotL5cedH5/L1+M3a7g/z8wtq2E8aMqBX1azdu4cLoSDZt3Y6nWmCPHd05LyXAvgPptX/PuHw6aX29FX97J/Xkhqsv5cXX5jXbb8jA/lSYKiksKqaiopLoyAjOmjSutnpwXn5RA1GpUCgaCMreST2YcdmFhIb8ozufCQSCf4AwDMxeX8J3o4NBpQKdL5gtx9ssgeD4YndQbDbzXYgO0LXZ/ITBI4NZJEcLBKc6qhpBqVQqGTKgHz0S40lK6t5mR62PD/fcdh2PPfcKToeT1Ws3NptLCJCVnVP796PPvtzgPbfLDXjDNsvKK3C5XFitNgASusXWCspag1V1EbuZWXXjbti8natvva+uoaeuhHVegVckD+ibSkxUJNm5eVSYTHzzv19Y8uMyRg0bxIXTzjrqfQ8zs3J576PPSD/csLKfSl1ns9lcRYC/kUnjxvDX2vU47E6ysnJZ+On/8cW3PzB5/BjOPWsSWh+fVo+1duMWPv3yW0qqw5DB+x3WeGIrLVW1rw8fOohFn3+DzWavDYFdv3kb4BVro4YO7vQ5Z+fm1/7dp3dSg/dSevVAIUm14rUGq83Guws/ZcPm7bX2gje3tQazuapBn4jqEFiDQceLTz1CYIB/p20WCAQnNsH4kbnmML/fMIQJm3dBM6H+AsG/Eqv9eFsgEAgEzVI7i79hxqWcNnJYhzrHRkdx3ZUX8+6CTwHYtWd/s+18fHwB78a4/kY/pBYS6ux2B1qtb+3/HfbWcwt96gkvX1+fZqvCAigV3rL0vlof/vvofaxc9Tc/LVtBSUkZHo+Hv/7ewK59dQNT+gAAC59JREFUB3j5v4/iq21dzLWEy+Vi9pvv1Iq8vilJJHSLo6CoiF37DmB2NtyCJC42ileeeZyflq9gxZ9rsNnsWCxWlvy4jKycfO6/44YWj5WZlctb7y3C7Xbj46NhQN9U/r+9Ow+Lus4DOP6eCwaFgWEOxQsJxUBUDvNATVGr1Sx1V7e0Mt3SLjW1Nctd26Nja59q93m23X2eji3bNR/XssPWMg8MTM3U0DgURRDDE4Z7GJhr/wAGRk4BxfTzep55Hh7m+/v9vr8ZHmY+3+PzMZkN5J3OJz0jq1GhYa2PD6NviSMpZS/5Z89xLPsk6Rk171XssMFeGWEvvSfPz05nk238fOvfr8pKG/7d60dP7XZHo4AS4K331rP/YE1Q27dvL4ZG3ky51crR49mcP9/0LHnkoAHMnzsbnc5fAkohrnM90ZP90RkSP/QnJyaSsP9thyADzW7GFkIIIUSX8gSVvrUlMQBs1dWs/+8nTBw/psklng2NTxjJsRPZ7Ere12yb/v16e/bdPXjvLxgeO9TznMPhQKlUolTW1yPTB+koKi4l59RpTp3O9+pD/tlz9K5NztJwH6DZGMwLa55G2eBLR3V1NT4N7gugylbFlEkTuGPieLJOnOSjz74gPTMLi6WYzBMniB3Stj0KjkuCxLwfz3gCyrEJIzz7QwH+8fb77N53wPt4hwNfXx8e+OVM7plxJ6k/ZPKfjR9TUGDh0OEfsFVWNRvgHs7IwFkb5D04dxYTxtQvX128cg2WopJGx0y8NYGklL0AvLN2gydIvHQgQaOqny3MyatPApB9MrfJvvTtHULOqdMAfP3NPq+lxLv2NP6bcLndpKZlAGAyBvOnNU973vtdKXt5c23TyX18fXxIGBEH1AS4HU2qJIS4limJJ4iCT9LoPyMa59yZ3L/9a9YfSQOtH3QPAFULZZZ91BDQwcGnwsKOHS+EEO3VeDxeiGue51P5nfc3cOhIOrhcpB/Noqi4lP2HjvDH1ctbXRY6f85scnJqAsCmJI5LYG9tKZH3PtiIQqGgV0gP8s+cY+NnWzAGB/PkogWechtTb0tk3cZPcbndvPja37hrymQM+mAyjx1nZ/Iept0xkTmzptOzh5nIiHAys7LJzcvnvXUbmTxhLHangwMHD7Nt124WL5zv2eeXlpnFK3/9JxPGjCRh1HB6mk2E9w/1zLBqW1ly2l1bPxN69MRJNm3+kgKLhbmzZuBqkETi7JlzVNvt+Gg0HM/J5WBt+YuGPv58K1t3JnPXzyYTMziS8LBQQswmCgosqFQq1JrmgyZXg6W9p/LycSW4UQA7U/Y2GVAChIeF0rd3CKfzz/LjmZpSHv4B3YkZ6h1E9zDVb6hP2bMfFAqCA3UkpTQ9aDByeCzJe/YDsGnzl5SVVxA5aAAnc06xZduuxge43bjcNa9VcWkZlqISjAY9RcUlfJWU3Ow9r3npdc/AxOqnFhMdGdFsWyHE1eIGFLWPzqUlDM3MDBzHeqOO0PPBbRP47bDBJOXkknbxAofPF5BvbX6fVl5FCRhDQH2ZZUnKy+DwQSgro9eAm1DL7KgQ4mq7KRT/Vr6TCnGtUQfqdJSUllJhtbK7Njioo9X6UGlrff2+j0bDssd+xbPP/xlbE+v9oyMjmDJ5Al9s34WlqITX3njL6/n8/HOkpqczIi4GgCm3TyQ1LZP0zCzKy62s3/iZV/udyXuZNH4MZpORRxbcx2+ef5UKq5Xtu3azfddur7Yfbd5CdFQEapWKjz//EqfTyY7kPexI3uPVzmDQEx4a2uJ9mk0GtH6+2CqrsFfb+fDTLQDcM3MaoX17e0qtZOfmsWjpKgIC/Cm0FDda7mu1VrJ1ZzJWayUbNm1mw6bNXs/Hx0R77R29VGz0YD78ZAtOp5OtO77mm29rSpOUt5LIInFcgqcuJcDYkcMbzfjFxUTj79+N8nIrbreb5No9t/ogXdN9GTqYUbfEsu+77wHYlpTCtqQUwLv0TB2lUknckGj2Hfgee7WdJ5/5PQaDHoul2Gt/pRDiRqYBfFHhC4P2w5sDYGE4UWYTUQ1KDLXm7bQMFqYdB52+9cZuN5zMguwToA9k96+XMKZf81nQhRBCCFFP+dyqpQyPG+K1/FSr9SVx3Gheeu5p+vXp1aYT9TCbeHTBfc0+/8C9P2fJovmYTN6zniE9zKx+6glPQAmgVCh4dvnj3Dvr7kb7/SIHDeCl51Z6alqaTUZefWE1o0fEeSV6UWvUTLo1gTUrl3oCp1XLHmPO7LsxGLy/YERGhLNq6aOemdLmqNVqFs2b67Xvs3dIT3x8fNBoNKxc8ghhoTUZS6vtDiqslcy483ZuiRvqdZ5u3fx49fnfMOnWBPz96/cgKpVKxiaMYNH8uS32o1/fXjyxcB5BgTWBXnm5FY1azdJHFxCoazr4A7wy50LTtSm7d+vG8scfxtggq2q/PiH8btWyZs/7xMPzmDV9qme5rkqlInLQAP7wzIom2z807x5GxA8DamqYFhWVEBczmNkz7mzhroUQNw47ULf8VA2LckHxFSz7AT44DQVtS1bycHQUBXfdBiUF4HQ039BaAftS4HgW948bRcXqlRJQCiGEEJdBUVpa6oaa0haFliIUCiXB+kBUV3DPWoXVyvkLhegC/DEaWh9BLiouoai4FKNBjy7Av9l2LpeL8xcuYnc4MZuNaC/ZT9mQrbKKgiIL+qBAune7vNTcdrudQksxWq2vJ7BrqKS0FJutCrPJ2GxSokvbV1RUYjToG+0BbYnL7aaw0IJarW4xec3p/DN8d+gIgYE61q7biMPpJKx/X15sobYoQEFhES6XE5PR0Kb7cLvdnC8oJChQ1+JrX6fSZsNSVIzZaECjucwlal2kbjY1NTW1zcfExNQMmLTlNWzJxYutlPoR4jIEBgZiMHQs4zWKbYASuAhciZIBfoCeBjs12u3vcwpYPK07NFx14XZDbjZkHwObhr37Yxh1sPYzaYgWjozp8HWFEEKIG4EnqBTXrzfeWsuebw96/e6pxQuJjxnSRT366ZKgUlwvfhpBZZ0AagJMn9rrtU851UStyuG0X235q+oqKCtnfnFv3v53FCq8B1NtB6LQxoe0+3pCCCHEjaLjw7/imuZyu3HYHZ56kWqNmlnTp0pAKYToBHVjklc6mU1Z7QNARc1H1+UHl/5A3ivBHMSXusqXQSi5GT/A4tX2c/YxloFoLz2JEEIIIRqRoPI6p1QoWPb4QzicTkpLy9DpAqQchxCik9T9L7may9edtY/2i28UkDaeZS2nokPXEEIIIW4k7V9HJH5S1CoVwfogCSiFEJ0nvq7MUtv3ggshhBDi+iNBpRBCiPaZWpdoTYssfBFCCCFuXBJUCiGEaJ+nI6hZiqoAjF3cGSGEEEJ0FQkqhRBCtI+/CnbEAi5qlsAGtHKAEEIIIa5HElQKIYRov4kmWG4CbEB1V/em0yiueEZbIYQQ4vohQaUQQoiOeT2G0nf7UEFhV/ek07iREs5CCCFEW0lQKYQQosN084ehzp9HDhX8yAXKKQMcXd2tdpOZSiGEEKLtJF2fEEKITuHbK5Aw92KyX0/iwL9SOZueSlUL9R59UDGWgfSjRzuu5uBbssnkXPs7LIQQQohOIUGlEEKIThW+IpHwFYkAlGWcpSq/pNm2TpuDw3d/wTB0tLXeZTHFbOco5VQRFhtL1Mt3oLgCE4sBEebOP6kQQghxHZKgUgghxBUTEBVCQFRIi216uAaTu2Yb3V9Mx0RQCy2dHCKHI5yhGwFMXreQPnOHd26HhRBCCHHZJKgUQgjRtRQK+r9wO5WLhnM8dB0D8QU0Xk3KKGU7mZRgI3L6OOLfnYta79c1/RVCCCGEFwkqhRBCXBP8+gUz0L2Esy+nUPJsMo7aEiU27KRxhgAMTNu5AmNiRBf3VAghhBANSVAphBDimhLyzDiCH4oh+y9JuOxOtMDoQC0DVkxC1a1t+y6FEEIIcfX8H/4AxyULhIrZAAAAAElFTkSuQmCC)"
   ]
  },
  {
   "cell_type": "markdown",
   "metadata": {
    "id": "b8GTR8Q1l-3j"
   },
   "source": [
    "Para la traducción a Python, no alcanza con `for _ in range(8)` que nos permitiría repetir *exactamente* lo mismo 8 veces, ya que en esta solución no se repite exactamente lo mismo: en cada ejecución del *cuerpo* del ciclo se dibuja una línea de una longitud *diferente*.\n",
    "\n",
    "Podemos realizar el dibujo del ejercicio con el siguiente programa:"
   ]
  },
  {
   "cell_type": "code",
   "execution_count": 6,
   "metadata": {
    "id": "ryj5ycOCnJQ0",
    "vscode": {
     "languageId": "python"
    }
   },
   "outputs": [
    {
     "data": {
      "text/html": [
       "\n",
       "      <svg width=\"800\" height=\"500\">\n",
       "        <rect width=\"100%\" height=\"100%\" fill=\"white\"/>\n",
       "        <line x1=\"400\" y1=\"250\" x2=\"425.0\" y2=\"250.0\" stroke-linecap=\"round\" style=\"stroke:black;stroke-width:4\"/><line x1=\"425.0\" y1=\"250.0\" x2=\"425.0\" y2=\"280.0\" stroke-linecap=\"round\" style=\"stroke:black;stroke-width:4\"/><line x1=\"425.0\" y1=\"280.0\" x2=\"390.0\" y2=\"280.0\" stroke-linecap=\"round\" style=\"stroke:black;stroke-width:4\"/><line x1=\"390.0\" y1=\"280.0\" x2=\"390.0\" y2=\"240.0\" stroke-linecap=\"round\" style=\"stroke:black;stroke-width:4\"/><line x1=\"390.0\" y1=\"240.0\" x2=\"435.0\" y2=\"240.0\" stroke-linecap=\"round\" style=\"stroke:black;stroke-width:4\"/><line x1=\"435.0\" y1=\"240.0\" x2=\"435.0\" y2=\"290.0\" stroke-linecap=\"round\" style=\"stroke:black;stroke-width:4\"/><line x1=\"435.0\" y1=\"290.0\" x2=\"380.0\" y2=\"290.0\" stroke-linecap=\"round\" style=\"stroke:black;stroke-width:4\"/><line x1=\"380.0\" y1=\"290.0\" x2=\"380.0\" y2=\"230.0\" stroke-linecap=\"round\" style=\"stroke:black;stroke-width:4\"/>\n",
       "        <g visibility=visible transform=\"rotate(90,380.0,230.0) translate(362.0, 212.0)\">\n",
       "<path style=\" stroke:none;fill-rule:evenodd;fill:black;fill-opacity:1;\" d=\"M 18.214844 0.632812 C 16.109375 1.800781 15.011719 4.074219 15.074219 7.132812 L 15.085938 7.652344 L 14.785156 7.496094 C 13.476562 6.824219 11.957031 6.671875 10.40625 7.066406 C 8.46875 7.550781 6.515625 9.15625 4.394531 11.992188 C 3.0625 13.777344 2.679688 14.636719 3.042969 15.027344 L 3.15625 15.152344 L 3.519531 15.152344 C 4.238281 15.152344 4.828125 14.886719 8.1875 13.039062 C 9.386719 12.378906 10.371094 11.839844 10.378906 11.839844 C 10.386719 11.839844 10.355469 11.929688 10.304688 12.035156 C 9.832031 13.09375 9.257812 14.820312 8.96875 16.078125 C 7.914062 20.652344 8.617188 24.53125 11.070312 27.660156 C 11.351562 28.015625 11.363281 27.914062 10.972656 28.382812 C 8.925781 30.84375 7.945312 33.28125 8.238281 35.1875 C 8.289062 35.527344 8.28125 35.523438 8.917969 35.523438 C 10.941406 35.523438 13.074219 34.207031 15.136719 31.6875 C 15.359375 31.417969 15.328125 31.425781 15.5625 31.574219 C 16.292969 32.042969 18.023438 32.964844 18.175781 32.964844 C 18.335938 32.964844 19.941406 32.210938 20.828125 31.71875 C 20.996094 31.625 21.136719 31.554688 21.136719 31.558594 C 21.203125 31.664062 21.898438 32.414062 22.222656 32.730469 C 23.835938 34.300781 25.5625 35.132812 27.582031 35.300781 C 27.90625 35.328125 27.9375 35.308594 28.007812 34.984375 C 28.382812 33.242188 27.625 30.925781 25.863281 28.425781 L 25.542969 27.96875 L 25.699219 27.785156 C 28.945312 23.960938 29.132812 18.699219 26.257812 11.96875 L 26.207031 11.84375 L 27.945312 12.703125 C 31.53125 14.476562 32.316406 14.800781 33.03125 14.800781 C 33.976562 14.800781 33.78125 13.9375 32.472656 12.292969 C 28.519531 7.355469 25.394531 5.925781 21.921875 7.472656 L 21.558594 7.636719 L 21.578125 7.542969 C 21.699219 6.992188 21.761719 5.742188 21.699219 5.164062 C 21.496094 3.296875 20.664062 1.964844 19.003906 0.855469 C 18.480469 0.503906 18.457031 0.5 18.214844 0.632812\"/>\n",
       "</g>\n",
       "      </svg>\n",
       "    "
      ],
      "text/plain": [
       "<IPython.core.display.HTML object>"
      ]
     },
     "metadata": {},
     "output_type": "display_data"
    }
   ],
   "source": [
    "# configuración pizarra inicial\n",
    "pizarra_vacia()\n",
    "speed(10)\n",
    "\n",
    "# dibuja espiral\n",
    "forward(25)\n",
    "right(90)\n",
    "forward(30)\n",
    "right(90)\n",
    "forward(35)\n",
    "right(90)\n",
    "forward(40)\n",
    "right(90)\n",
    "forward(45)\n",
    "right(90)\n",
    "forward(50)\n",
    "right(90)\n",
    "forward(55)\n",
    "right(90)\n",
    "forward(60)\n",
    "right(90)"
   ]
  },
  {
   "cell_type": "markdown",
   "metadata": {
    "id": "A4iZeu98n1IT"
   },
   "source": [
    "¿Es esta una forma conveniente de resolverlo?\n",
    "\n",
    "Claramente no, ya que estamos escribiendo 8 veces casi el mismo trozo de programa:\n",
    "\n",
    "```\n",
    "forward(  )\n",
    "right(90)\n",
    "```"
   ]
  },
  {
   "cell_type": "markdown",
   "metadata": {
    "id": "xM-wnw2o1e6b"
   },
   "source": [
    "### Variables"
   ]
  },
  {
   "cell_type": "markdown",
   "metadata": {
    "id": "ybjFkvg-pP9i"
   },
   "source": [
    "Afortunadamente los lenguajes de programación nos permiten utilizar *variables*. Una variable sirve justamente para representar un valor que puede ser diferente en cada ejecución del código:\n",
    "\n",
    "```\n",
    "forward(longitud)\n",
    "right(90)\n",
    "```"
   ]
  },
  {
   "cell_type": "markdown",
   "metadata": {
    "id": "zlZo8IezqS9m"
   },
   "source": [
    "En este ejemplo `longitud` es una variable.\n",
    "\n",
    "Cada vez que se ejecuten estas dos instrucciones se dibujará una línea cuyo largo estará determinado por el valor de la variable `longitud` en ese momento, y luego girará 90 grados a la derecha."
   ]
  },
  {
   "cell_type": "markdown",
   "metadata": {
    "id": "F1oRGgmLq27T"
   },
   "source": [
    "La solución al ejercicio, consistiría en ejecutar esas dos instrucciones sucesivamente con los siguientes valores de la variable `longitud`: 25, 30, 35, 40, 45, 50, 55 y 60."
   ]
  },
  {
   "cell_type": "markdown",
   "metadata": {
    "id": "s3-vO-B2rUgq"
   },
   "source": [
    "Existen diferentes maneras de escribir esto en Python utilizando el ciclo `for`. Una es:"
   ]
  },
  {
   "cell_type": "code",
   "execution_count": 7,
   "metadata": {
    "id": "clXveE7krmmT",
    "vscode": {
     "languageId": "python"
    }
   },
   "outputs": [
    {
     "data": {
      "text/html": [
       "\n",
       "      <svg width=\"800\" height=\"500\">\n",
       "        <rect width=\"100%\" height=\"100%\" fill=\"white\"/>\n",
       "        <line x1=\"400\" y1=\"250\" x2=\"425.0\" y2=\"250.0\" stroke-linecap=\"round\" style=\"stroke:black;stroke-width:4\"/><line x1=\"425.0\" y1=\"250.0\" x2=\"425.0\" y2=\"280.0\" stroke-linecap=\"round\" style=\"stroke:black;stroke-width:4\"/><line x1=\"425.0\" y1=\"280.0\" x2=\"390.0\" y2=\"280.0\" stroke-linecap=\"round\" style=\"stroke:black;stroke-width:4\"/><line x1=\"390.0\" y1=\"280.0\" x2=\"390.0\" y2=\"240.0\" stroke-linecap=\"round\" style=\"stroke:black;stroke-width:4\"/><line x1=\"390.0\" y1=\"240.0\" x2=\"435.0\" y2=\"240.0\" stroke-linecap=\"round\" style=\"stroke:black;stroke-width:4\"/><line x1=\"435.0\" y1=\"240.0\" x2=\"435.0\" y2=\"290.0\" stroke-linecap=\"round\" style=\"stroke:black;stroke-width:4\"/><line x1=\"435.0\" y1=\"290.0\" x2=\"380.0\" y2=\"290.0\" stroke-linecap=\"round\" style=\"stroke:black;stroke-width:4\"/><line x1=\"380.0\" y1=\"290.0\" x2=\"380.0\" y2=\"230.0\" stroke-linecap=\"round\" style=\"stroke:black;stroke-width:4\"/>\n",
       "        <g visibility=visible transform=\"rotate(90,380.0,230.0) translate(362.0, 212.0)\">\n",
       "<path style=\" stroke:none;fill-rule:evenodd;fill:black;fill-opacity:1;\" d=\"M 18.214844 0.632812 C 16.109375 1.800781 15.011719 4.074219 15.074219 7.132812 L 15.085938 7.652344 L 14.785156 7.496094 C 13.476562 6.824219 11.957031 6.671875 10.40625 7.066406 C 8.46875 7.550781 6.515625 9.15625 4.394531 11.992188 C 3.0625 13.777344 2.679688 14.636719 3.042969 15.027344 L 3.15625 15.152344 L 3.519531 15.152344 C 4.238281 15.152344 4.828125 14.886719 8.1875 13.039062 C 9.386719 12.378906 10.371094 11.839844 10.378906 11.839844 C 10.386719 11.839844 10.355469 11.929688 10.304688 12.035156 C 9.832031 13.09375 9.257812 14.820312 8.96875 16.078125 C 7.914062 20.652344 8.617188 24.53125 11.070312 27.660156 C 11.351562 28.015625 11.363281 27.914062 10.972656 28.382812 C 8.925781 30.84375 7.945312 33.28125 8.238281 35.1875 C 8.289062 35.527344 8.28125 35.523438 8.917969 35.523438 C 10.941406 35.523438 13.074219 34.207031 15.136719 31.6875 C 15.359375 31.417969 15.328125 31.425781 15.5625 31.574219 C 16.292969 32.042969 18.023438 32.964844 18.175781 32.964844 C 18.335938 32.964844 19.941406 32.210938 20.828125 31.71875 C 20.996094 31.625 21.136719 31.554688 21.136719 31.558594 C 21.203125 31.664062 21.898438 32.414062 22.222656 32.730469 C 23.835938 34.300781 25.5625 35.132812 27.582031 35.300781 C 27.90625 35.328125 27.9375 35.308594 28.007812 34.984375 C 28.382812 33.242188 27.625 30.925781 25.863281 28.425781 L 25.542969 27.96875 L 25.699219 27.785156 C 28.945312 23.960938 29.132812 18.699219 26.257812 11.96875 L 26.207031 11.84375 L 27.945312 12.703125 C 31.53125 14.476562 32.316406 14.800781 33.03125 14.800781 C 33.976562 14.800781 33.78125 13.9375 32.472656 12.292969 C 28.519531 7.355469 25.394531 5.925781 21.921875 7.472656 L 21.558594 7.636719 L 21.578125 7.542969 C 21.699219 6.992188 21.761719 5.742188 21.699219 5.164062 C 21.496094 3.296875 20.664062 1.964844 19.003906 0.855469 C 18.480469 0.503906 18.457031 0.5 18.214844 0.632812\"/>\n",
       "</g>\n",
       "      </svg>\n",
       "    "
      ],
      "text/plain": [
       "<IPython.core.display.HTML object>"
      ]
     },
     "metadata": {},
     "output_type": "display_data"
    }
   ],
   "source": [
    "# configuración pizarra inicial\n",
    "pizarra_vacia()\n",
    "speed(5)\n",
    "\n",
    "# dibuja espiral\n",
    "for longitud in [25, 30, 35, 40, 45, 50, 55, 60]:\n",
    "    forward(longitud)\n",
    "    right(90)"
   ]
  },
  {
   "cell_type": "markdown",
   "metadata": {
    "id": "qYoJz9wcm53j"
   },
   "source": [
    "Aquí se hace una lista (veremos después profundamente las listas) con todos los valores que queremos que tome la variable y vamos recorriendo la lista.  \n",
    "\n",
    "Otra forma de hacerlo:"
   ]
  },
  {
   "cell_type": "code",
   "execution_count": 8,
   "metadata": {
    "id": "BrbNLFPDr9gZ",
    "vscode": {
     "languageId": "python"
    }
   },
   "outputs": [
    {
     "data": {
      "text/html": [
       "\n",
       "      <svg width=\"800\" height=\"500\">\n",
       "        <rect width=\"100%\" height=\"100%\" fill=\"white\"/>\n",
       "        <line x1=\"400\" y1=\"250\" x2=\"425.0\" y2=\"250.0\" stroke-linecap=\"round\" style=\"stroke:black;stroke-width:4\"/><line x1=\"425.0\" y1=\"250.0\" x2=\"425.0\" y2=\"280.0\" stroke-linecap=\"round\" style=\"stroke:black;stroke-width:4\"/><line x1=\"425.0\" y1=\"280.0\" x2=\"390.0\" y2=\"280.0\" stroke-linecap=\"round\" style=\"stroke:black;stroke-width:4\"/><line x1=\"390.0\" y1=\"280.0\" x2=\"390.0\" y2=\"240.0\" stroke-linecap=\"round\" style=\"stroke:black;stroke-width:4\"/><line x1=\"390.0\" y1=\"240.0\" x2=\"435.0\" y2=\"240.0\" stroke-linecap=\"round\" style=\"stroke:black;stroke-width:4\"/><line x1=\"435.0\" y1=\"240.0\" x2=\"435.0\" y2=\"290.0\" stroke-linecap=\"round\" style=\"stroke:black;stroke-width:4\"/><line x1=\"435.0\" y1=\"290.0\" x2=\"380.0\" y2=\"290.0\" stroke-linecap=\"round\" style=\"stroke:black;stroke-width:4\"/><line x1=\"380.0\" y1=\"290.0\" x2=\"380.0\" y2=\"230.0\" stroke-linecap=\"round\" style=\"stroke:black;stroke-width:4\"/>\n",
       "        <g visibility=visible transform=\"rotate(90,380.0,230.0) translate(362.0, 212.0)\">\n",
       "<path style=\" stroke:none;fill-rule:evenodd;fill:black;fill-opacity:1;\" d=\"M 18.214844 0.632812 C 16.109375 1.800781 15.011719 4.074219 15.074219 7.132812 L 15.085938 7.652344 L 14.785156 7.496094 C 13.476562 6.824219 11.957031 6.671875 10.40625 7.066406 C 8.46875 7.550781 6.515625 9.15625 4.394531 11.992188 C 3.0625 13.777344 2.679688 14.636719 3.042969 15.027344 L 3.15625 15.152344 L 3.519531 15.152344 C 4.238281 15.152344 4.828125 14.886719 8.1875 13.039062 C 9.386719 12.378906 10.371094 11.839844 10.378906 11.839844 C 10.386719 11.839844 10.355469 11.929688 10.304688 12.035156 C 9.832031 13.09375 9.257812 14.820312 8.96875 16.078125 C 7.914062 20.652344 8.617188 24.53125 11.070312 27.660156 C 11.351562 28.015625 11.363281 27.914062 10.972656 28.382812 C 8.925781 30.84375 7.945312 33.28125 8.238281 35.1875 C 8.289062 35.527344 8.28125 35.523438 8.917969 35.523438 C 10.941406 35.523438 13.074219 34.207031 15.136719 31.6875 C 15.359375 31.417969 15.328125 31.425781 15.5625 31.574219 C 16.292969 32.042969 18.023438 32.964844 18.175781 32.964844 C 18.335938 32.964844 19.941406 32.210938 20.828125 31.71875 C 20.996094 31.625 21.136719 31.554688 21.136719 31.558594 C 21.203125 31.664062 21.898438 32.414062 22.222656 32.730469 C 23.835938 34.300781 25.5625 35.132812 27.582031 35.300781 C 27.90625 35.328125 27.9375 35.308594 28.007812 34.984375 C 28.382812 33.242188 27.625 30.925781 25.863281 28.425781 L 25.542969 27.96875 L 25.699219 27.785156 C 28.945312 23.960938 29.132812 18.699219 26.257812 11.96875 L 26.207031 11.84375 L 27.945312 12.703125 C 31.53125 14.476562 32.316406 14.800781 33.03125 14.800781 C 33.976562 14.800781 33.78125 13.9375 32.472656 12.292969 C 28.519531 7.355469 25.394531 5.925781 21.921875 7.472656 L 21.558594 7.636719 L 21.578125 7.542969 C 21.699219 6.992188 21.761719 5.742188 21.699219 5.164062 C 21.496094 3.296875 20.664062 1.964844 19.003906 0.855469 C 18.480469 0.503906 18.457031 0.5 18.214844 0.632812\"/>\n",
       "</g>\n",
       "      </svg>\n",
       "    "
      ],
      "text/plain": [
       "<IPython.core.display.HTML object>"
      ]
     },
     "metadata": {},
     "output_type": "display_data"
    }
   ],
   "source": [
    "# configuración pizarra inicial\n",
    "pizarra_vacia()\n",
    "speed(5)\n",
    "\n",
    "# dibuja espiral\n",
    "for longitud in range(25, 61, 5):\n",
    "    forward(longitud)\n",
    "    right(90)"
   ]
  },
  {
   "cell_type": "markdown",
   "metadata": {
    "id": "KUdLfUSGfLHa"
   },
   "source": [
    "Alternativamente:"
   ]
  },
  {
   "cell_type": "code",
   "execution_count": 9,
   "metadata": {
    "id": "NBRL_CvlfNOe",
    "vscode": {
     "languageId": "python"
    }
   },
   "outputs": [
    {
     "data": {
      "text/html": [
       "\n",
       "      <svg width=\"800\" height=\"500\">\n",
       "        <rect width=\"100%\" height=\"100%\" fill=\"white\"/>\n",
       "        <line x1=\"400\" y1=\"250\" x2=\"425.0\" y2=\"250.0\" stroke-linecap=\"round\" style=\"stroke:black;stroke-width:4\"/><line x1=\"425.0\" y1=\"250.0\" x2=\"425.0\" y2=\"280.0\" stroke-linecap=\"round\" style=\"stroke:black;stroke-width:4\"/><line x1=\"425.0\" y1=\"280.0\" x2=\"390.0\" y2=\"280.0\" stroke-linecap=\"round\" style=\"stroke:black;stroke-width:4\"/><line x1=\"390.0\" y1=\"280.0\" x2=\"390.0\" y2=\"240.0\" stroke-linecap=\"round\" style=\"stroke:black;stroke-width:4\"/><line x1=\"390.0\" y1=\"240.0\" x2=\"435.0\" y2=\"240.0\" stroke-linecap=\"round\" style=\"stroke:black;stroke-width:4\"/><line x1=\"435.0\" y1=\"240.0\" x2=\"435.0\" y2=\"290.0\" stroke-linecap=\"round\" style=\"stroke:black;stroke-width:4\"/><line x1=\"435.0\" y1=\"290.0\" x2=\"380.0\" y2=\"290.0\" stroke-linecap=\"round\" style=\"stroke:black;stroke-width:4\"/><line x1=\"380.0\" y1=\"290.0\" x2=\"380.0\" y2=\"230.0\" stroke-linecap=\"round\" style=\"stroke:black;stroke-width:4\"/>\n",
       "        <g visibility=visible transform=\"rotate(90,380.0,230.0) translate(362.0, 212.0)\">\n",
       "<path style=\" stroke:none;fill-rule:evenodd;fill:black;fill-opacity:1;\" d=\"M 18.214844 0.632812 C 16.109375 1.800781 15.011719 4.074219 15.074219 7.132812 L 15.085938 7.652344 L 14.785156 7.496094 C 13.476562 6.824219 11.957031 6.671875 10.40625 7.066406 C 8.46875 7.550781 6.515625 9.15625 4.394531 11.992188 C 3.0625 13.777344 2.679688 14.636719 3.042969 15.027344 L 3.15625 15.152344 L 3.519531 15.152344 C 4.238281 15.152344 4.828125 14.886719 8.1875 13.039062 C 9.386719 12.378906 10.371094 11.839844 10.378906 11.839844 C 10.386719 11.839844 10.355469 11.929688 10.304688 12.035156 C 9.832031 13.09375 9.257812 14.820312 8.96875 16.078125 C 7.914062 20.652344 8.617188 24.53125 11.070312 27.660156 C 11.351562 28.015625 11.363281 27.914062 10.972656 28.382812 C 8.925781 30.84375 7.945312 33.28125 8.238281 35.1875 C 8.289062 35.527344 8.28125 35.523438 8.917969 35.523438 C 10.941406 35.523438 13.074219 34.207031 15.136719 31.6875 C 15.359375 31.417969 15.328125 31.425781 15.5625 31.574219 C 16.292969 32.042969 18.023438 32.964844 18.175781 32.964844 C 18.335938 32.964844 19.941406 32.210938 20.828125 31.71875 C 20.996094 31.625 21.136719 31.554688 21.136719 31.558594 C 21.203125 31.664062 21.898438 32.414062 22.222656 32.730469 C 23.835938 34.300781 25.5625 35.132812 27.582031 35.300781 C 27.90625 35.328125 27.9375 35.308594 28.007812 34.984375 C 28.382812 33.242188 27.625 30.925781 25.863281 28.425781 L 25.542969 27.96875 L 25.699219 27.785156 C 28.945312 23.960938 29.132812 18.699219 26.257812 11.96875 L 26.207031 11.84375 L 27.945312 12.703125 C 31.53125 14.476562 32.316406 14.800781 33.03125 14.800781 C 33.976562 14.800781 33.78125 13.9375 32.472656 12.292969 C 28.519531 7.355469 25.394531 5.925781 21.921875 7.472656 L 21.558594 7.636719 L 21.578125 7.542969 C 21.699219 6.992188 21.761719 5.742188 21.699219 5.164062 C 21.496094 3.296875 20.664062 1.964844 19.003906 0.855469 C 18.480469 0.503906 18.457031 0.5 18.214844 0.632812\"/>\n",
       "</g>\n",
       "      </svg>\n",
       "    "
      ],
      "text/plain": [
       "<IPython.core.display.HTML object>"
      ]
     },
     "metadata": {},
     "output_type": "display_data"
    }
   ],
   "source": [
    "# configuración pizarra inicial\n",
    "pizarra_vacia()\n",
    "speed(5)\n",
    "\n",
    "# dibuja espiral\n",
    "for contador in range(8):\n",
    "    forward(25 + contador * 5 )\n",
    "    right(90)"
   ]
  },
  {
   "cell_type": "markdown",
   "metadata": {
    "id": "DtuRr8pmnZQm"
   },
   "source": [
    "En la primera forma usamos argumentos de la función `range()` que nos permiten recorrer los mismos valores que cuando no usábamos el `for`. Después veremos mejor la función `range()` pero por ahora digamos  que\n",
    "\n",
    "\n",
    "```\n",
    "for longitud in range(25, 61, 5)\n",
    "```\n",
    "recorre todos los valores de 25 a 60 \"saltando\"  de a 5.\n",
    "\n",
    "Podemos modificar los argumentos del range y se generarán otros dibujos.\n"
   ]
  },
  {
   "cell_type": "code",
   "execution_count": 10,
   "metadata": {
    "id": "m-2La63af3jb",
    "vscode": {
     "languageId": "python"
    }
   },
   "outputs": [
    {
     "data": {
      "text/html": [
       "\n",
       "      <svg width=\"800\" height=\"500\">\n",
       "        <rect width=\"100%\" height=\"100%\" fill=\"white\"/>\n",
       "        <line x1=\"400\" y1=\"250\" x2=\"420.0\" y2=\"250.0\" stroke-linecap=\"round\" style=\"stroke:black;stroke-width:4\"/><line x1=\"420.0\" y1=\"250.0\" x2=\"420.0\" y2=\"275.0\" stroke-linecap=\"round\" style=\"stroke:black;stroke-width:4\"/><line x1=\"420.0\" y1=\"275.0\" x2=\"390.0\" y2=\"275.0\" stroke-linecap=\"round\" style=\"stroke:black;stroke-width:4\"/><line x1=\"390.0\" y1=\"275.0\" x2=\"390.0\" y2=\"240.0\" stroke-linecap=\"round\" style=\"stroke:black;stroke-width:4\"/><line x1=\"390.0\" y1=\"240.0\" x2=\"430.0\" y2=\"240.0\" stroke-linecap=\"round\" style=\"stroke:black;stroke-width:4\"/><line x1=\"430.0\" y1=\"240.0\" x2=\"430.0\" y2=\"285.0\" stroke-linecap=\"round\" style=\"stroke:black;stroke-width:4\"/><line x1=\"430.0\" y1=\"285.0\" x2=\"380.0\" y2=\"285.0\" stroke-linecap=\"round\" style=\"stroke:black;stroke-width:4\"/><line x1=\"380.0\" y1=\"285.0\" x2=\"380.0\" y2=\"230.0\" stroke-linecap=\"round\" style=\"stroke:black;stroke-width:4\"/><line x1=\"380.0\" y1=\"230.0\" x2=\"440.0\" y2=\"230.0\" stroke-linecap=\"round\" style=\"stroke:black;stroke-width:4\"/><line x1=\"440.0\" y1=\"230.0\" x2=\"440.0\" y2=\"295.0\" stroke-linecap=\"round\" style=\"stroke:black;stroke-width:4\"/><line x1=\"440.0\" y1=\"295.0\" x2=\"370.0\" y2=\"295.0\" stroke-linecap=\"round\" style=\"stroke:black;stroke-width:4\"/><line x1=\"370.0\" y1=\"295.0\" x2=\"370.0\" y2=\"220.0\" stroke-linecap=\"round\" style=\"stroke:black;stroke-width:4\"/><line x1=\"370.0\" y1=\"220.0\" x2=\"450.0\" y2=\"220.0\" stroke-linecap=\"round\" style=\"stroke:black;stroke-width:4\"/><line x1=\"450.0\" y1=\"220.0\" x2=\"450.0\" y2=\"305.0\" stroke-linecap=\"round\" style=\"stroke:black;stroke-width:4\"/><line x1=\"450.0\" y1=\"305.0\" x2=\"360.0\" y2=\"305.0\" stroke-linecap=\"round\" style=\"stroke:black;stroke-width:4\"/><line x1=\"360.0\" y1=\"305.0\" x2=\"360.0\" y2=\"210.0\" stroke-linecap=\"round\" style=\"stroke:black;stroke-width:4\"/><line x1=\"360.0\" y1=\"210.0\" x2=\"460.0\" y2=\"210.0\" stroke-linecap=\"round\" style=\"stroke:black;stroke-width:4\"/><line x1=\"460.0\" y1=\"210.0\" x2=\"460.0\" y2=\"315.0\" stroke-linecap=\"round\" style=\"stroke:black;stroke-width:4\"/><line x1=\"460.0\" y1=\"315.0\" x2=\"350.0\" y2=\"315.0\" stroke-linecap=\"round\" style=\"stroke:black;stroke-width:4\"/><line x1=\"350.0\" y1=\"315.0\" x2=\"350.0\" y2=\"200.0\" stroke-linecap=\"round\" style=\"stroke:black;stroke-width:4\"/><line x1=\"350.0\" y1=\"200.0\" x2=\"470.0\" y2=\"200.0\" stroke-linecap=\"round\" style=\"stroke:black;stroke-width:4\"/>\n",
       "        <g visibility=visible transform=\"rotate(180,470.0,200.0) translate(452.0, 182.0)\">\n",
       "<path style=\" stroke:none;fill-rule:evenodd;fill:black;fill-opacity:1;\" d=\"M 18.214844 0.632812 C 16.109375 1.800781 15.011719 4.074219 15.074219 7.132812 L 15.085938 7.652344 L 14.785156 7.496094 C 13.476562 6.824219 11.957031 6.671875 10.40625 7.066406 C 8.46875 7.550781 6.515625 9.15625 4.394531 11.992188 C 3.0625 13.777344 2.679688 14.636719 3.042969 15.027344 L 3.15625 15.152344 L 3.519531 15.152344 C 4.238281 15.152344 4.828125 14.886719 8.1875 13.039062 C 9.386719 12.378906 10.371094 11.839844 10.378906 11.839844 C 10.386719 11.839844 10.355469 11.929688 10.304688 12.035156 C 9.832031 13.09375 9.257812 14.820312 8.96875 16.078125 C 7.914062 20.652344 8.617188 24.53125 11.070312 27.660156 C 11.351562 28.015625 11.363281 27.914062 10.972656 28.382812 C 8.925781 30.84375 7.945312 33.28125 8.238281 35.1875 C 8.289062 35.527344 8.28125 35.523438 8.917969 35.523438 C 10.941406 35.523438 13.074219 34.207031 15.136719 31.6875 C 15.359375 31.417969 15.328125 31.425781 15.5625 31.574219 C 16.292969 32.042969 18.023438 32.964844 18.175781 32.964844 C 18.335938 32.964844 19.941406 32.210938 20.828125 31.71875 C 20.996094 31.625 21.136719 31.554688 21.136719 31.558594 C 21.203125 31.664062 21.898438 32.414062 22.222656 32.730469 C 23.835938 34.300781 25.5625 35.132812 27.582031 35.300781 C 27.90625 35.328125 27.9375 35.308594 28.007812 34.984375 C 28.382812 33.242188 27.625 30.925781 25.863281 28.425781 L 25.542969 27.96875 L 25.699219 27.785156 C 28.945312 23.960938 29.132812 18.699219 26.257812 11.96875 L 26.207031 11.84375 L 27.945312 12.703125 C 31.53125 14.476562 32.316406 14.800781 33.03125 14.800781 C 33.976562 14.800781 33.78125 13.9375 32.472656 12.292969 C 28.519531 7.355469 25.394531 5.925781 21.921875 7.472656 L 21.558594 7.636719 L 21.578125 7.542969 C 21.699219 6.992188 21.761719 5.742188 21.699219 5.164062 C 21.496094 3.296875 20.664062 1.964844 19.003906 0.855469 C 18.480469 0.503906 18.457031 0.5 18.214844 0.632812\"/>\n",
       "</g>\n",
       "      </svg>\n",
       "    "
      ],
      "text/plain": [
       "<IPython.core.display.HTML object>"
      ]
     },
     "metadata": {},
     "output_type": "display_data"
    }
   ],
   "source": [
    "# configuración pizarra inicial\n",
    "pizarra_vacia()\n",
    "speed(5)\n",
    "\n",
    "# dibuja espiral\n",
    "for longitud in range(20, 121, 5):\n",
    "    forward(longitud)\n",
    "    right(90)"
   ]
  },
  {
   "cell_type": "markdown",
   "metadata": {
    "id": "55VkJ7eeyERN"
   },
   "source": [
    "### ¿Cuál de las dos soluciones es mejor?\n",
    "\n",
    "Las dos son correctas.\n",
    "\n",
    "La primera tiene a su favor:\n",
    "*   la posibilidad de introducir valores que no estén exactamente separados por la misma diferencia (en este caso 5)\n",
    "*   permite que los valores estén en cualquier orden\n",
    "*   hace rápidamente visible cuáles son los valores posibles\n",
    "\n",
    "Pero si la diferencia es siempre la misma, la segunda tiene ciertas ventajas:\n",
    "*   informa automáticamente ese hecho\n",
    "*   es fácil agregar y quitar valores (ver el siguiente ejemplo)\n",
    "*   es la notación que más se parece a los ciclos `para` de otros lenguajes de programación (por ejemplo, del lenguaje de bloques de code.org)"
   ]
  },
  {
   "cell_type": "markdown",
   "metadata": {
    "id": "KinSFLt9z6QX"
   },
   "source": [
    "Veamos que la segunda forma se puede generalizar fácilmente para construir espirales más grandes. "
   ]
  },
  {
   "cell_type": "code",
   "execution_count": 11,
   "metadata": {
    "id": "Dcjbt3TNzQlG",
    "vscode": {
     "languageId": "python"
    }
   },
   "outputs": [
    {
     "data": {
      "text/html": [
       "\n",
       "      <svg width=\"800\" height=\"500\">\n",
       "        <rect width=\"100%\" height=\"100%\" fill=\"white\"/>\n",
       "        <line x1=\"400\" y1=\"250\" x2=\"425.0\" y2=\"250.0\" stroke-linecap=\"round\" style=\"stroke:black;stroke-width:4\"/><line x1=\"425.0\" y1=\"250.0\" x2=\"425.0\" y2=\"280.0\" stroke-linecap=\"round\" style=\"stroke:black;stroke-width:4\"/><line x1=\"425.0\" y1=\"280.0\" x2=\"390.0\" y2=\"280.0\" stroke-linecap=\"round\" style=\"stroke:black;stroke-width:4\"/><line x1=\"390.0\" y1=\"280.0\" x2=\"390.0\" y2=\"240.0\" stroke-linecap=\"round\" style=\"stroke:black;stroke-width:4\"/><line x1=\"390.0\" y1=\"240.0\" x2=\"435.0\" y2=\"240.0\" stroke-linecap=\"round\" style=\"stroke:black;stroke-width:4\"/><line x1=\"435.0\" y1=\"240.0\" x2=\"435.0\" y2=\"290.0\" stroke-linecap=\"round\" style=\"stroke:black;stroke-width:4\"/><line x1=\"435.0\" y1=\"290.0\" x2=\"380.0\" y2=\"290.0\" stroke-linecap=\"round\" style=\"stroke:black;stroke-width:4\"/><line x1=\"380.0\" y1=\"290.0\" x2=\"380.0\" y2=\"230.0\" stroke-linecap=\"round\" style=\"stroke:black;stroke-width:4\"/><line x1=\"380.0\" y1=\"230.0\" x2=\"445.0\" y2=\"230.0\" stroke-linecap=\"round\" style=\"stroke:black;stroke-width:4\"/><line x1=\"445.0\" y1=\"230.0\" x2=\"445.0\" y2=\"300.0\" stroke-linecap=\"round\" style=\"stroke:black;stroke-width:4\"/><line x1=\"445.0\" y1=\"300.0\" x2=\"370.0\" y2=\"300.0\" stroke-linecap=\"round\" style=\"stroke:black;stroke-width:4\"/><line x1=\"370.0\" y1=\"300.0\" x2=\"370.0\" y2=\"220.0\" stroke-linecap=\"round\" style=\"stroke:black;stroke-width:4\"/><line x1=\"370.0\" y1=\"220.0\" x2=\"455.0\" y2=\"220.0\" stroke-linecap=\"round\" style=\"stroke:black;stroke-width:4\"/><line x1=\"455.0\" y1=\"220.0\" x2=\"455.0\" y2=\"310.0\" stroke-linecap=\"round\" style=\"stroke:black;stroke-width:4\"/><line x1=\"455.0\" y1=\"310.0\" x2=\"360.0\" y2=\"310.0\" stroke-linecap=\"round\" style=\"stroke:black;stroke-width:4\"/><line x1=\"360.0\" y1=\"310.0\" x2=\"360.0\" y2=\"210.0\" stroke-linecap=\"round\" style=\"stroke:black;stroke-width:4\"/><line x1=\"360.0\" y1=\"210.0\" x2=\"465.0\" y2=\"210.0\" stroke-linecap=\"round\" style=\"stroke:black;stroke-width:4\"/><line x1=\"465.0\" y1=\"210.0\" x2=\"465.0\" y2=\"320.0\" stroke-linecap=\"round\" style=\"stroke:black;stroke-width:4\"/><line x1=\"465.0\" y1=\"320.0\" x2=\"350.0\" y2=\"320.0\" stroke-linecap=\"round\" style=\"stroke:black;stroke-width:4\"/><line x1=\"350.0\" y1=\"320.0\" x2=\"350.0\" y2=\"200.0\" stroke-linecap=\"round\" style=\"stroke:black;stroke-width:4\"/><line x1=\"350.0\" y1=\"200.0\" x2=\"475.0\" y2=\"200.0\" stroke-linecap=\"round\" style=\"stroke:black;stroke-width:4\"/><line x1=\"475.0\" y1=\"200.0\" x2=\"475.0\" y2=\"330.0\" stroke-linecap=\"round\" style=\"stroke:black;stroke-width:4\"/><line x1=\"475.0\" y1=\"330.0\" x2=\"340.0\" y2=\"330.0\" stroke-linecap=\"round\" style=\"stroke:black;stroke-width:4\"/><line x1=\"340.0\" y1=\"330.0\" x2=\"340.0\" y2=\"190.0\" stroke-linecap=\"round\" style=\"stroke:black;stroke-width:4\"/><line x1=\"340.0\" y1=\"190.0\" x2=\"485.0\" y2=\"190.0\" stroke-linecap=\"round\" style=\"stroke:black;stroke-width:4\"/><line x1=\"485.0\" y1=\"190.0\" x2=\"485.0\" y2=\"340.0\" stroke-linecap=\"round\" style=\"stroke:black;stroke-width:4\"/><line x1=\"485.0\" y1=\"340.0\" x2=\"330.0\" y2=\"340.0\" stroke-linecap=\"round\" style=\"stroke:black;stroke-width:4\"/><line x1=\"330.0\" y1=\"340.0\" x2=\"330.0\" y2=\"180.0\" stroke-linecap=\"round\" style=\"stroke:black;stroke-width:4\"/>\n",
       "        <g visibility=visible transform=\"rotate(90,330.0,180.0) translate(312.0, 162.0)\">\n",
       "<path style=\" stroke:none;fill-rule:evenodd;fill:black;fill-opacity:1;\" d=\"M 18.214844 0.632812 C 16.109375 1.800781 15.011719 4.074219 15.074219 7.132812 L 15.085938 7.652344 L 14.785156 7.496094 C 13.476562 6.824219 11.957031 6.671875 10.40625 7.066406 C 8.46875 7.550781 6.515625 9.15625 4.394531 11.992188 C 3.0625 13.777344 2.679688 14.636719 3.042969 15.027344 L 3.15625 15.152344 L 3.519531 15.152344 C 4.238281 15.152344 4.828125 14.886719 8.1875 13.039062 C 9.386719 12.378906 10.371094 11.839844 10.378906 11.839844 C 10.386719 11.839844 10.355469 11.929688 10.304688 12.035156 C 9.832031 13.09375 9.257812 14.820312 8.96875 16.078125 C 7.914062 20.652344 8.617188 24.53125 11.070312 27.660156 C 11.351562 28.015625 11.363281 27.914062 10.972656 28.382812 C 8.925781 30.84375 7.945312 33.28125 8.238281 35.1875 C 8.289062 35.527344 8.28125 35.523438 8.917969 35.523438 C 10.941406 35.523438 13.074219 34.207031 15.136719 31.6875 C 15.359375 31.417969 15.328125 31.425781 15.5625 31.574219 C 16.292969 32.042969 18.023438 32.964844 18.175781 32.964844 C 18.335938 32.964844 19.941406 32.210938 20.828125 31.71875 C 20.996094 31.625 21.136719 31.554688 21.136719 31.558594 C 21.203125 31.664062 21.898438 32.414062 22.222656 32.730469 C 23.835938 34.300781 25.5625 35.132812 27.582031 35.300781 C 27.90625 35.328125 27.9375 35.308594 28.007812 34.984375 C 28.382812 33.242188 27.625 30.925781 25.863281 28.425781 L 25.542969 27.96875 L 25.699219 27.785156 C 28.945312 23.960938 29.132812 18.699219 26.257812 11.96875 L 26.207031 11.84375 L 27.945312 12.703125 C 31.53125 14.476562 32.316406 14.800781 33.03125 14.800781 C 33.976562 14.800781 33.78125 13.9375 32.472656 12.292969 C 28.519531 7.355469 25.394531 5.925781 21.921875 7.472656 L 21.558594 7.636719 L 21.578125 7.542969 C 21.699219 6.992188 21.761719 5.742188 21.699219 5.164062 C 21.496094 3.296875 20.664062 1.964844 19.003906 0.855469 C 18.480469 0.503906 18.457031 0.5 18.214844 0.632812\"/>\n",
       "</g>\n",
       "      </svg>\n",
       "    "
      ],
      "text/plain": [
       "<IPython.core.display.HTML object>"
      ]
     },
     "metadata": {},
     "output_type": "display_data"
    }
   ],
   "source": [
    "# configuración pizarra inicial\n",
    "pizarra_vacia()\n",
    "speed(5)\n",
    "\n",
    "# dibuja espiral\n",
    "for longitud in range(25, 161, 5):\n",
    "    forward(longitud)\n",
    "    right(90)"
   ]
  },
  {
   "cell_type": "markdown",
   "metadata": {
    "id": "HRF-tYpitXFD"
   },
   "source": [
    "La función `range()` es la misma que ya veníamos utilizando en `for _ in range(10)`, por ejemplo. Al evaluarse esta función se obtiene una secuencia de valores:\n",
    "\n",
    "*   Al evaluarse `range(25, 61, 5)` se obtienen los valores 25, 30, 35, 40, 45, 50, 55 y 60\n",
    "*   Al evaluarse `range(10)` se obtienen los valores 0, 1, 2, 3, 4, 5, 6, 7, 8 y 9.\n",
    "\n",
    "La función `range()` puede recibir de 1 a 3 argumentos:\n",
    "\n",
    "```\n",
    "range(inicio, fin, paso)\n",
    "```\n",
    "Los argumento deben ser números enteros. \n",
    "\n",
    "Cuando solamente se proporcionan 2 valores a `range()`, se asume que son los de `inicio` y `fin` y `paso` es 1. Cuando solamente se proporciona 1 valor, se asume que es `fin`,  que `inicio` vale 0  y `paso` es 1.\n",
    "\n",
    "Por ejemplo"
   ]
  },
  {
   "cell_type": "code",
   "execution_count": 12,
   "metadata": {
    "id": "FnOY54Z6CV6w",
    "vscode": {
     "languageId": "python"
    }
   },
   "outputs": [
    {
     "data": {
      "text/plain": [
       "range(0, 10)"
      ]
     },
     "execution_count": 12,
     "metadata": {},
     "output_type": "execute_result"
    }
   ],
   "source": [
    "range(10)"
   ]
  },
  {
   "cell_type": "markdown",
   "metadata": {
    "id": "ow_p-f4jqCA9"
   },
   "source": [
    "toma los valores de 0  a 9. Si transformamos en una lista a `range(10)` podemos ver los elementos comprendidos."
   ]
  },
  {
   "cell_type": "code",
   "execution_count": 13,
   "metadata": {
    "id": "w41FyZFfCc-Y",
    "vscode": {
     "languageId": "python"
    }
   },
   "outputs": [
    {
     "data": {
      "text/plain": [
       "[0, 1, 2, 3, 4, 5, 6, 7, 8, 9]"
      ]
     },
     "execution_count": 13,
     "metadata": {},
     "output_type": "execute_result"
    }
   ],
   "source": [
    "list(range(10))"
   ]
  },
  {
   "cell_type": "code",
   "execution_count": 14,
   "metadata": {
    "id": "tUUIkoE3h5W4",
    "vscode": {
     "languageId": "python"
    }
   },
   "outputs": [
    {
     "data": {
      "text/plain": [
       "[25, 30, 35, 40, 45, 50, 55, 60]"
      ]
     },
     "execution_count": 14,
     "metadata": {},
     "output_type": "execute_result"
    }
   ],
   "source": [
    "list(range(25, 61, 5))"
   ]
  },
  {
   "cell_type": "markdown",
   "metadata": {
    "id": "vcmmPzNUwitA"
   },
   "source": [
    "Se recomienda jugar con distintos ejemplos, para entender mejor el resultado de la función `range()`. Para visualizar los valores de la secuencia obtenida por la función `range()`, utilizar `list()` que lista sus elementos:"
   ]
  },
  {
   "cell_type": "code",
   "execution_count": 15,
   "metadata": {
    "id": "RZWZkNYZvRZ2",
    "vscode": {
     "languageId": "python"
    }
   },
   "outputs": [
    {
     "name": "stdout",
     "output_type": "stream",
     "text": [
      "[0, 1, 2, 3, 4, 5, 6, 7, 8, 9]\n",
      "[1, 2, 3, 4, 5, 6, 7, 8, 9]\n",
      "[25, 30, 35, 40, 45, 50, 55, 60]\n",
      "[]\n",
      "[]\n",
      "[7, 6, 5, 4, 3, 2, 1, 0, -1, -2, -3, -4]\n"
     ]
    }
   ],
   "source": [
    "print(list(range(10)))\n",
    "print(list(range(1,10)))\n",
    "print(list(range(25, 65, 5)))\n",
    "print(list(range(0)))\n",
    "print(list(range(-5)))\n",
    "print(list(range(7,-5,-1)))\n",
    "# print(list(range( , 5))) # descomentar al princiio devuelve error\n",
    "# print(list(range(10.0))) # descomentar al princiio devuelve error"
   ]
  },
  {
   "cell_type": "markdown",
   "metadata": {
    "id": "k4RtoPhq2Um1"
   },
   "source": [
    "Resumiendo, la solución que preferimos al ejercicio del espiral es"
   ]
  },
  {
   "cell_type": "code",
   "execution_count": 16,
   "metadata": {
    "id": "vzVV5wbO2oJj",
    "vscode": {
     "languageId": "python"
    }
   },
   "outputs": [
    {
     "data": {
      "text/html": [
       "\n",
       "      <svg width=\"800\" height=\"500\">\n",
       "        <rect width=\"100%\" height=\"100%\" fill=\"white\"/>\n",
       "        <line x1=\"400\" y1=\"250\" x2=\"425.0\" y2=\"250.0\" stroke-linecap=\"round\" style=\"stroke:black;stroke-width:4\"/><line x1=\"425.0\" y1=\"250.0\" x2=\"425.0\" y2=\"280.0\" stroke-linecap=\"round\" style=\"stroke:black;stroke-width:4\"/><line x1=\"425.0\" y1=\"280.0\" x2=\"390.0\" y2=\"280.0\" stroke-linecap=\"round\" style=\"stroke:black;stroke-width:4\"/><line x1=\"390.0\" y1=\"280.0\" x2=\"390.0\" y2=\"240.0\" stroke-linecap=\"round\" style=\"stroke:black;stroke-width:4\"/><line x1=\"390.0\" y1=\"240.0\" x2=\"435.0\" y2=\"240.0\" stroke-linecap=\"round\" style=\"stroke:black;stroke-width:4\"/><line x1=\"435.0\" y1=\"240.0\" x2=\"435.0\" y2=\"290.0\" stroke-linecap=\"round\" style=\"stroke:black;stroke-width:4\"/><line x1=\"435.0\" y1=\"290.0\" x2=\"380.0\" y2=\"290.0\" stroke-linecap=\"round\" style=\"stroke:black;stroke-width:4\"/><line x1=\"380.0\" y1=\"290.0\" x2=\"380.0\" y2=\"230.0\" stroke-linecap=\"round\" style=\"stroke:black;stroke-width:4\"/>\n",
       "        <g visibility=visible transform=\"rotate(90,380.0,230.0) translate(362.0, 212.0)\">\n",
       "<path style=\" stroke:none;fill-rule:evenodd;fill:black;fill-opacity:1;\" d=\"M 18.214844 0.632812 C 16.109375 1.800781 15.011719 4.074219 15.074219 7.132812 L 15.085938 7.652344 L 14.785156 7.496094 C 13.476562 6.824219 11.957031 6.671875 10.40625 7.066406 C 8.46875 7.550781 6.515625 9.15625 4.394531 11.992188 C 3.0625 13.777344 2.679688 14.636719 3.042969 15.027344 L 3.15625 15.152344 L 3.519531 15.152344 C 4.238281 15.152344 4.828125 14.886719 8.1875 13.039062 C 9.386719 12.378906 10.371094 11.839844 10.378906 11.839844 C 10.386719 11.839844 10.355469 11.929688 10.304688 12.035156 C 9.832031 13.09375 9.257812 14.820312 8.96875 16.078125 C 7.914062 20.652344 8.617188 24.53125 11.070312 27.660156 C 11.351562 28.015625 11.363281 27.914062 10.972656 28.382812 C 8.925781 30.84375 7.945312 33.28125 8.238281 35.1875 C 8.289062 35.527344 8.28125 35.523438 8.917969 35.523438 C 10.941406 35.523438 13.074219 34.207031 15.136719 31.6875 C 15.359375 31.417969 15.328125 31.425781 15.5625 31.574219 C 16.292969 32.042969 18.023438 32.964844 18.175781 32.964844 C 18.335938 32.964844 19.941406 32.210938 20.828125 31.71875 C 20.996094 31.625 21.136719 31.554688 21.136719 31.558594 C 21.203125 31.664062 21.898438 32.414062 22.222656 32.730469 C 23.835938 34.300781 25.5625 35.132812 27.582031 35.300781 C 27.90625 35.328125 27.9375 35.308594 28.007812 34.984375 C 28.382812 33.242188 27.625 30.925781 25.863281 28.425781 L 25.542969 27.96875 L 25.699219 27.785156 C 28.945312 23.960938 29.132812 18.699219 26.257812 11.96875 L 26.207031 11.84375 L 27.945312 12.703125 C 31.53125 14.476562 32.316406 14.800781 33.03125 14.800781 C 33.976562 14.800781 33.78125 13.9375 32.472656 12.292969 C 28.519531 7.355469 25.394531 5.925781 21.921875 7.472656 L 21.558594 7.636719 L 21.578125 7.542969 C 21.699219 6.992188 21.761719 5.742188 21.699219 5.164062 C 21.496094 3.296875 20.664062 1.964844 19.003906 0.855469 C 18.480469 0.503906 18.457031 0.5 18.214844 0.632812\"/>\n",
       "</g>\n",
       "      </svg>\n",
       "    "
      ],
      "text/plain": [
       "<IPython.core.display.HTML object>"
      ]
     },
     "metadata": {},
     "output_type": "display_data"
    }
   ],
   "source": [
    "# configuración pizarra inicial\n",
    "pizarra_vacia()\n",
    "speed(5)\n",
    "\n",
    "# dibuja espiral\n",
    "for longitud in range(25, 61, 5):\n",
    "    forward(longitud)\n",
    "    right(90)"
   ]
  },
  {
   "cell_type": "markdown",
   "metadata": {
    "id": "R2ruFaw32rV7"
   },
   "source": [
    "donde `longitud` es una variable, a la que llamamos *índice* del ciclo for, y las líneas 7 y 8 conforman el *cuerpo* del ciclo for.\n",
    "\n"
   ]
  },
  {
   "cell_type": "markdown",
   "metadata": {
    "id": "sAZ7XTmL3KcV"
   },
   "source": [
    "### Comentarios sobre las variables:\n",
    "\n",
    "*   Representan valores que pueden ser diferentes cada vez que se ejecuta la porción de código donde aparece\n",
    "*   Permite nombrar un elemento, por ejemplo, llamarle `longitud` al valor, esto aporta legibilidad\n",
    "*   Durante la ejecución del programa, se les destina un espacio en la memoria\n",
    "*   Convención (Python): los nombres de las variables van en minúscula, puede ser una letra, una palabra, o más de una palabra separadas por guión bajo (por ejemplo: `longitud_lado`). Agrego: evitar nombres extremadamente largos o extremadamente cortos o incomprensibles (mejor `longitud_lado` que `lgtdld`). Nunca llamar `l` (la letra ele) o `O` (la letra o mayúscula) a una variable."
   ]
  },
  {
   "cell_type": "markdown",
   "metadata": {
    "id": "DMJdoaOpx-Oa"
   },
   "source": [
    "### Comentarios adicionales sobre las variables que se usan como índice del `for`:\n",
    "\n",
    "*   Es común usar nombres muy cortos (`i`, `j`, `x` ...) aunque siempre es recomendable usar nombres \"informativos\"\n",
    "*   No es recomendable que la variable que se usa como índice del `for` se utilice fuera del cuerpo del `for`, aunque Python lo permite\n",
    "*   El nombre de la variable se puede cambiar, siempre que se cambie en la línea del `for` y en todos los lugares donde aparezca en el cuerpo del `for`\n",
    "*   Cuando la variable no aparece en el cuerpo del `for` se trata de un `repetir n veces`, se recomienda reemplazar por guión bajo `_`."
   ]
  },
  {
   "cell_type": "code",
   "execution_count": 17,
   "metadata": {
    "id": "LZbL4OrkkiS_",
    "vscode": {
     "languageId": "python"
    }
   },
   "outputs": [
    {
     "name": "stdout",
     "output_type": "stream",
     "text": [
      "0, 1, 2, 3, 4, 5, 6, 7, 8, 9, 10, 11, 12, 13, 14, 15, 16, 17, 18, 19, 20, 21, 22, 23, 24, 25, 26, 27, 28, 29, 30, 31, 32, 33, 34, 35, 36, 37, 38, 39, 40, 41, 42, 43, 44, 45, 46, 47, 48, 49, 50, 51, 52, 53, 54, 55, 56, 57, 58, 59, 60, 61, 62, 63, 64, 65, 66, 67, 68, 69, 70, 71, 72, 73, 74, 75, 76, 77, 78, 79, 80, 81, 82, 83, 84, 85, 86, 87, 88, 89, 90, 91, 92, 93, 94, 95, 96, 97, 98, 99, \n",
      "0, 1, 4, 9, 16, 25, 36, 49, 64, 81, 100, 121, 144, 169, 196, 225, 256, 289, 324, 361, 400, 441, 484, 529, 576, 625, 676, 729, 784, 841, 900, 961, 1024, 1089, 1156, 1225, 1296, 1369, 1444, 1521, 1600, 1681, 1764, 1849, 1936, 2025, 2116, 2209, 2304, 2401, 2500, 2601, 2704, 2809, 2916, 3025, 3136, 3249, 3364, 3481, 3600, 3721, 3844, 3969, 4096, 4225, 4356, 4489, 4624, 4761, 4900, 5041, 5184, 5329, 5476, 5625, 5776, 5929, 6084, 6241, 6400, 6561, 6724, 6889, 7056, 7225, 7396, 7569, 7744, 7921, 8100, 8281, 8464, 8649, 8836, 9025, 9216, 9409, 9604, 9801, "
     ]
    }
   ],
   "source": [
    "for i  in range(100):\n",
    "    print(i, end = ', ')\n",
    "\n",
    "print('')\n",
    "\n",
    "for i  in range(100):\n",
    "    i = i**2\n",
    "    print(i, end = ', ')"
   ]
  },
  {
   "cell_type": "markdown",
   "metadata": {
    "id": "CUKU0JNIFoXX"
   },
   "source": [
    "### Función `dibujar_cuadrado`\n",
    "\n",
    "Vamos a definir ahora una función con un argumento,  específicamente la función `dibujar_cuadrado()` que toma un argumento y dibuja un cuadrado cuyos lados tienen la longitud dada por el argumento. "
   ]
  },
  {
   "cell_type": "code",
   "execution_count": 18,
   "metadata": {
    "id": "Gz0Yr-iZFv8R",
    "vscode": {
     "languageId": "python"
    }
   },
   "outputs": [],
   "source": [
    "def dibujar_cuadrado(longitud_lado):\n",
    "    for _ in range(4):\n",
    "        forward(longitud_lado)\n",
    "        right(90)"
   ]
  },
  {
   "cell_type": "markdown",
   "metadata": {
    "id": "eiMFdr5NtoBY"
   },
   "source": [
    "Entonces podemos hacer"
   ]
  },
  {
   "cell_type": "code",
   "execution_count": 19,
   "metadata": {
    "id": "UOsrVDQAtq66",
    "vscode": {
     "languageId": "python"
    }
   },
   "outputs": [
    {
     "data": {
      "text/html": [
       "\n",
       "      <svg width=\"800\" height=\"500\">\n",
       "        <rect width=\"100%\" height=\"100%\" fill=\"white\"/>\n",
       "        <line x1=\"400\" y1=\"250\" x2=\"450.0\" y2=\"250.0\" stroke-linecap=\"round\" style=\"stroke:black;stroke-width:4\"/><line x1=\"450.0\" y1=\"250.0\" x2=\"450.0\" y2=\"300.0\" stroke-linecap=\"round\" style=\"stroke:black;stroke-width:4\"/><line x1=\"450.0\" y1=\"300.0\" x2=\"400.0\" y2=\"300.0\" stroke-linecap=\"round\" style=\"stroke:black;stroke-width:4\"/><line x1=\"400.0\" y1=\"300.0\" x2=\"400.0\" y2=\"250.0\" stroke-linecap=\"round\" style=\"stroke:black;stroke-width:4\"/>\n",
       "        <g visibility=visible transform=\"rotate(90,400.0,250.0) translate(382.0, 232.0)\">\n",
       "<path style=\" stroke:none;fill-rule:evenodd;fill:black;fill-opacity:1;\" d=\"M 18.214844 0.632812 C 16.109375 1.800781 15.011719 4.074219 15.074219 7.132812 L 15.085938 7.652344 L 14.785156 7.496094 C 13.476562 6.824219 11.957031 6.671875 10.40625 7.066406 C 8.46875 7.550781 6.515625 9.15625 4.394531 11.992188 C 3.0625 13.777344 2.679688 14.636719 3.042969 15.027344 L 3.15625 15.152344 L 3.519531 15.152344 C 4.238281 15.152344 4.828125 14.886719 8.1875 13.039062 C 9.386719 12.378906 10.371094 11.839844 10.378906 11.839844 C 10.386719 11.839844 10.355469 11.929688 10.304688 12.035156 C 9.832031 13.09375 9.257812 14.820312 8.96875 16.078125 C 7.914062 20.652344 8.617188 24.53125 11.070312 27.660156 C 11.351562 28.015625 11.363281 27.914062 10.972656 28.382812 C 8.925781 30.84375 7.945312 33.28125 8.238281 35.1875 C 8.289062 35.527344 8.28125 35.523438 8.917969 35.523438 C 10.941406 35.523438 13.074219 34.207031 15.136719 31.6875 C 15.359375 31.417969 15.328125 31.425781 15.5625 31.574219 C 16.292969 32.042969 18.023438 32.964844 18.175781 32.964844 C 18.335938 32.964844 19.941406 32.210938 20.828125 31.71875 C 20.996094 31.625 21.136719 31.554688 21.136719 31.558594 C 21.203125 31.664062 21.898438 32.414062 22.222656 32.730469 C 23.835938 34.300781 25.5625 35.132812 27.582031 35.300781 C 27.90625 35.328125 27.9375 35.308594 28.007812 34.984375 C 28.382812 33.242188 27.625 30.925781 25.863281 28.425781 L 25.542969 27.96875 L 25.699219 27.785156 C 28.945312 23.960938 29.132812 18.699219 26.257812 11.96875 L 26.207031 11.84375 L 27.945312 12.703125 C 31.53125 14.476562 32.316406 14.800781 33.03125 14.800781 C 33.976562 14.800781 33.78125 13.9375 32.472656 12.292969 C 28.519531 7.355469 25.394531 5.925781 21.921875 7.472656 L 21.558594 7.636719 L 21.578125 7.542969 C 21.699219 6.992188 21.761719 5.742188 21.699219 5.164062 C 21.496094 3.296875 20.664062 1.964844 19.003906 0.855469 C 18.480469 0.503906 18.457031 0.5 18.214844 0.632812\"/>\n",
       "</g>\n",
       "      </svg>\n",
       "    "
      ],
      "text/plain": [
       "<IPython.core.display.HTML object>"
      ]
     },
     "metadata": {},
     "output_type": "display_data"
    }
   ],
   "source": [
    "pizarra_vacia()\n",
    "dibujar_cuadrado(50)"
   ]
  },
  {
   "cell_type": "markdown",
   "metadata": {
    "id": "yveo-LE2trKB"
   },
   "source": [
    "y"
   ]
  },
  {
   "cell_type": "code",
   "execution_count": 20,
   "metadata": {
    "id": "7pE8HxuEtrXC",
    "vscode": {
     "languageId": "python"
    }
   },
   "outputs": [
    {
     "data": {
      "text/html": [
       "\n",
       "      <svg width=\"800\" height=\"500\">\n",
       "        <rect width=\"100%\" height=\"100%\" fill=\"white\"/>\n",
       "        <line x1=\"400\" y1=\"250\" x2=\"500.0\" y2=\"250.0\" stroke-linecap=\"round\" style=\"stroke:black;stroke-width:4\"/><line x1=\"500.0\" y1=\"250.0\" x2=\"500.0\" y2=\"350.0\" stroke-linecap=\"round\" style=\"stroke:black;stroke-width:4\"/><line x1=\"500.0\" y1=\"350.0\" x2=\"400.0\" y2=\"350.0\" stroke-linecap=\"round\" style=\"stroke:black;stroke-width:4\"/><line x1=\"400.0\" y1=\"350.0\" x2=\"400.0\" y2=\"250.0\" stroke-linecap=\"round\" style=\"stroke:black;stroke-width:4\"/>\n",
       "        <g visibility=visible transform=\"rotate(90,400.0,250.0) translate(382.0, 232.0)\">\n",
       "<path style=\" stroke:none;fill-rule:evenodd;fill:black;fill-opacity:1;\" d=\"M 18.214844 0.632812 C 16.109375 1.800781 15.011719 4.074219 15.074219 7.132812 L 15.085938 7.652344 L 14.785156 7.496094 C 13.476562 6.824219 11.957031 6.671875 10.40625 7.066406 C 8.46875 7.550781 6.515625 9.15625 4.394531 11.992188 C 3.0625 13.777344 2.679688 14.636719 3.042969 15.027344 L 3.15625 15.152344 L 3.519531 15.152344 C 4.238281 15.152344 4.828125 14.886719 8.1875 13.039062 C 9.386719 12.378906 10.371094 11.839844 10.378906 11.839844 C 10.386719 11.839844 10.355469 11.929688 10.304688 12.035156 C 9.832031 13.09375 9.257812 14.820312 8.96875 16.078125 C 7.914062 20.652344 8.617188 24.53125 11.070312 27.660156 C 11.351562 28.015625 11.363281 27.914062 10.972656 28.382812 C 8.925781 30.84375 7.945312 33.28125 8.238281 35.1875 C 8.289062 35.527344 8.28125 35.523438 8.917969 35.523438 C 10.941406 35.523438 13.074219 34.207031 15.136719 31.6875 C 15.359375 31.417969 15.328125 31.425781 15.5625 31.574219 C 16.292969 32.042969 18.023438 32.964844 18.175781 32.964844 C 18.335938 32.964844 19.941406 32.210938 20.828125 31.71875 C 20.996094 31.625 21.136719 31.554688 21.136719 31.558594 C 21.203125 31.664062 21.898438 32.414062 22.222656 32.730469 C 23.835938 34.300781 25.5625 35.132812 27.582031 35.300781 C 27.90625 35.328125 27.9375 35.308594 28.007812 34.984375 C 28.382812 33.242188 27.625 30.925781 25.863281 28.425781 L 25.542969 27.96875 L 25.699219 27.785156 C 28.945312 23.960938 29.132812 18.699219 26.257812 11.96875 L 26.207031 11.84375 L 27.945312 12.703125 C 31.53125 14.476562 32.316406 14.800781 33.03125 14.800781 C 33.976562 14.800781 33.78125 13.9375 32.472656 12.292969 C 28.519531 7.355469 25.394531 5.925781 21.921875 7.472656 L 21.558594 7.636719 L 21.578125 7.542969 C 21.699219 6.992188 21.761719 5.742188 21.699219 5.164062 C 21.496094 3.296875 20.664062 1.964844 19.003906 0.855469 C 18.480469 0.503906 18.457031 0.5 18.214844 0.632812\"/>\n",
       "</g>\n",
       "      </svg>\n",
       "    "
      ],
      "text/plain": [
       "<IPython.core.display.HTML object>"
      ]
     },
     "metadata": {},
     "output_type": "display_data"
    }
   ],
   "source": [
    "pizarra_vacia()\n",
    "dibujar_cuadrado(100)"
   ]
  },
  {
   "cell_type": "markdown",
   "metadata": {
    "id": "KoHNNWSnCet5"
   },
   "source": [
    "## Otro ejemplo con ciclo `for`"
   ]
  },
  {
   "cell_type": "markdown",
   "metadata": {
    "id": "ghiCL23El6hI"
   },
   "source": [
    "\n",
    "\n",
    "\n",
    "Recordemos la solución al ejercicio 6 de la lección 11, \"el artista 3\" del  [\"Curso acelerado de introducción a CS\"](https://studio.code.org/s/20-hour) de code.org:\n",
    "\n",
    "![Captura de pantalla de 2021-03-28 08-01-52.png](data:image/png;base64,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)"
   ]
  },
  {
   "cell_type": "markdown",
   "metadata": {
    "id": "W3HDfTB2gpp7"
   },
   "source": [
    "Nuevamente, para la traducción a Python, no alcanza con `for _ in range(5)` que nos permitiría repetir *exactamente* lo mismo 5 veces, ya que en esta solución no se repite exactamente lo mismo: en cada ejecución del cuerpo del ciclo se dibuja un cuadrado de una longitud diferente.\n",
    "\n",
    "Si, así como disponemos, gracias a la biblioteca `ColabTurtle`, de funciones `forward()`, `right()`, etc., dispusiéramos de una función `dibujar_cuadrado()`, que dibuje un cuadrado conociendo la longitud de uno de sus lados podríamos realizar el dibujo del ejercicio con el siguiente programa:"
   ]
  },
  {
   "cell_type": "code",
   "execution_count": 21,
   "metadata": {
    "id": "I7yUNMWwj4U1",
    "vscode": {
     "languageId": "python"
    }
   },
   "outputs": [
    {
     "data": {
      "text/html": [
       "\n",
       "      <svg width=\"800\" height=\"500\">\n",
       "        <rect width=\"100%\" height=\"100%\" fill=\"white\"/>\n",
       "        <line x1=\"400\" y1=\"250\" x2=\"450.0\" y2=\"250.0\" stroke-linecap=\"round\" style=\"stroke:black;stroke-width:4\"/><line x1=\"450.0\" y1=\"250.0\" x2=\"450.0\" y2=\"300.0\" stroke-linecap=\"round\" style=\"stroke:black;stroke-width:4\"/><line x1=\"450.0\" y1=\"300.0\" x2=\"400.0\" y2=\"300.0\" stroke-linecap=\"round\" style=\"stroke:black;stroke-width:4\"/><line x1=\"400.0\" y1=\"300.0\" x2=\"400.0\" y2=\"250.0\" stroke-linecap=\"round\" style=\"stroke:black;stroke-width:4\"/><line x1=\"400.0\" y1=\"250.0\" x2=\"460.0\" y2=\"250.0\" stroke-linecap=\"round\" style=\"stroke:black;stroke-width:4\"/><line x1=\"460.0\" y1=\"250.0\" x2=\"460.0\" y2=\"310.0\" stroke-linecap=\"round\" style=\"stroke:black;stroke-width:4\"/><line x1=\"460.0\" y1=\"310.0\" x2=\"400.0\" y2=\"310.0\" stroke-linecap=\"round\" style=\"stroke:black;stroke-width:4\"/><line x1=\"400.0\" y1=\"310.0\" x2=\"400.0\" y2=\"250.0\" stroke-linecap=\"round\" style=\"stroke:black;stroke-width:4\"/><line x1=\"400.0\" y1=\"250.0\" x2=\"470.0\" y2=\"250.0\" stroke-linecap=\"round\" style=\"stroke:black;stroke-width:4\"/><line x1=\"470.0\" y1=\"250.0\" x2=\"470.0\" y2=\"320.0\" stroke-linecap=\"round\" style=\"stroke:black;stroke-width:4\"/><line x1=\"470.0\" y1=\"320.0\" x2=\"400.0\" y2=\"320.0\" stroke-linecap=\"round\" style=\"stroke:black;stroke-width:4\"/><line x1=\"400.0\" y1=\"320.0\" x2=\"400.0\" y2=\"250.0\" stroke-linecap=\"round\" style=\"stroke:black;stroke-width:4\"/><line x1=\"400.0\" y1=\"250.0\" x2=\"480.0\" y2=\"250.0\" stroke-linecap=\"round\" style=\"stroke:black;stroke-width:4\"/><line x1=\"480.0\" y1=\"250.0\" x2=\"480.0\" y2=\"330.0\" stroke-linecap=\"round\" style=\"stroke:black;stroke-width:4\"/><line x1=\"480.0\" y1=\"330.0\" x2=\"400.0\" y2=\"330.0\" stroke-linecap=\"round\" style=\"stroke:black;stroke-width:4\"/><line x1=\"400.0\" y1=\"330.0\" x2=\"400.0\" y2=\"250.0\" stroke-linecap=\"round\" style=\"stroke:black;stroke-width:4\"/><line x1=\"400.0\" y1=\"250.0\" x2=\"490.0\" y2=\"250.0\" stroke-linecap=\"round\" style=\"stroke:black;stroke-width:4\"/><line x1=\"490.0\" y1=\"250.0\" x2=\"490.0\" y2=\"340.0\" stroke-linecap=\"round\" style=\"stroke:black;stroke-width:4\"/><line x1=\"490.0\" y1=\"340.0\" x2=\"400.0\" y2=\"340.0\" stroke-linecap=\"round\" style=\"stroke:black;stroke-width:4\"/><line x1=\"400.0\" y1=\"340.0\" x2=\"400.0\" y2=\"250.0\" stroke-linecap=\"round\" style=\"stroke:black;stroke-width:4\"/>\n",
       "        <g visibility=visible transform=\"rotate(90,400.0,250.0) translate(382.0, 232.0)\">\n",
       "<path style=\" stroke:none;fill-rule:evenodd;fill:black;fill-opacity:1;\" d=\"M 18.214844 0.632812 C 16.109375 1.800781 15.011719 4.074219 15.074219 7.132812 L 15.085938 7.652344 L 14.785156 7.496094 C 13.476562 6.824219 11.957031 6.671875 10.40625 7.066406 C 8.46875 7.550781 6.515625 9.15625 4.394531 11.992188 C 3.0625 13.777344 2.679688 14.636719 3.042969 15.027344 L 3.15625 15.152344 L 3.519531 15.152344 C 4.238281 15.152344 4.828125 14.886719 8.1875 13.039062 C 9.386719 12.378906 10.371094 11.839844 10.378906 11.839844 C 10.386719 11.839844 10.355469 11.929688 10.304688 12.035156 C 9.832031 13.09375 9.257812 14.820312 8.96875 16.078125 C 7.914062 20.652344 8.617188 24.53125 11.070312 27.660156 C 11.351562 28.015625 11.363281 27.914062 10.972656 28.382812 C 8.925781 30.84375 7.945312 33.28125 8.238281 35.1875 C 8.289062 35.527344 8.28125 35.523438 8.917969 35.523438 C 10.941406 35.523438 13.074219 34.207031 15.136719 31.6875 C 15.359375 31.417969 15.328125 31.425781 15.5625 31.574219 C 16.292969 32.042969 18.023438 32.964844 18.175781 32.964844 C 18.335938 32.964844 19.941406 32.210938 20.828125 31.71875 C 20.996094 31.625 21.136719 31.554688 21.136719 31.558594 C 21.203125 31.664062 21.898438 32.414062 22.222656 32.730469 C 23.835938 34.300781 25.5625 35.132812 27.582031 35.300781 C 27.90625 35.328125 27.9375 35.308594 28.007812 34.984375 C 28.382812 33.242188 27.625 30.925781 25.863281 28.425781 L 25.542969 27.96875 L 25.699219 27.785156 C 28.945312 23.960938 29.132812 18.699219 26.257812 11.96875 L 26.207031 11.84375 L 27.945312 12.703125 C 31.53125 14.476562 32.316406 14.800781 33.03125 14.800781 C 33.976562 14.800781 33.78125 13.9375 32.472656 12.292969 C 28.519531 7.355469 25.394531 5.925781 21.921875 7.472656 L 21.558594 7.636719 L 21.578125 7.542969 C 21.699219 6.992188 21.761719 5.742188 21.699219 5.164062 C 21.496094 3.296875 20.664062 1.964844 19.003906 0.855469 C 18.480469 0.503906 18.457031 0.5 18.214844 0.632812\"/>\n",
       "</g>\n",
       "      </svg>\n",
       "    "
      ],
      "text/plain": [
       "<IPython.core.display.HTML object>"
      ]
     },
     "metadata": {},
     "output_type": "display_data"
    }
   ],
   "source": [
    "# configuración pizarra inicial\n",
    "pizarra_vacia()\n",
    "\n",
    "# dibuja túnel\n",
    "speed(10)\n",
    "dibujar_cuadrado(50)\n",
    "dibujar_cuadrado(60)\n",
    "dibujar_cuadrado(70)\n",
    "dibujar_cuadrado(80)\n",
    "dibujar_cuadrado(90)"
   ]
  },
  {
   "cell_type": "code",
   "execution_count": 22,
   "metadata": {
    "id": "TR15QYGiqrk0",
    "vscode": {
     "languageId": "python"
    }
   },
   "outputs": [
    {
     "data": {
      "text/html": [
       "\n",
       "      <svg width=\"800\" height=\"500\">\n",
       "        <rect width=\"100%\" height=\"100%\" fill=\"white\"/>\n",
       "        <line x1=\"400\" y1=\"250\" x2=\"450.0\" y2=\"250.0\" stroke-linecap=\"round\" style=\"stroke:black;stroke-width:4\"/><line x1=\"450.0\" y1=\"250.0\" x2=\"450.0\" y2=\"300.0\" stroke-linecap=\"round\" style=\"stroke:black;stroke-width:4\"/><line x1=\"450.0\" y1=\"300.0\" x2=\"400.0\" y2=\"300.0\" stroke-linecap=\"round\" style=\"stroke:black;stroke-width:4\"/><line x1=\"400.0\" y1=\"300.0\" x2=\"400.0\" y2=\"250.0\" stroke-linecap=\"round\" style=\"stroke:black;stroke-width:4\"/><line x1=\"400.0\" y1=\"250.0\" x2=\"460.0\" y2=\"250.0\" stroke-linecap=\"round\" style=\"stroke:black;stroke-width:4\"/><line x1=\"460.0\" y1=\"250.0\" x2=\"460.0\" y2=\"310.0\" stroke-linecap=\"round\" style=\"stroke:black;stroke-width:4\"/><line x1=\"460.0\" y1=\"310.0\" x2=\"400.0\" y2=\"310.0\" stroke-linecap=\"round\" style=\"stroke:black;stroke-width:4\"/><line x1=\"400.0\" y1=\"310.0\" x2=\"400.0\" y2=\"250.0\" stroke-linecap=\"round\" style=\"stroke:black;stroke-width:4\"/><line x1=\"400.0\" y1=\"250.0\" x2=\"470.0\" y2=\"250.0\" stroke-linecap=\"round\" style=\"stroke:black;stroke-width:4\"/><line x1=\"470.0\" y1=\"250.0\" x2=\"470.0\" y2=\"320.0\" stroke-linecap=\"round\" style=\"stroke:black;stroke-width:4\"/><line x1=\"470.0\" y1=\"320.0\" x2=\"400.0\" y2=\"320.0\" stroke-linecap=\"round\" style=\"stroke:black;stroke-width:4\"/><line x1=\"400.0\" y1=\"320.0\" x2=\"400.0\" y2=\"250.0\" stroke-linecap=\"round\" style=\"stroke:black;stroke-width:4\"/><line x1=\"400.0\" y1=\"250.0\" x2=\"480.0\" y2=\"250.0\" stroke-linecap=\"round\" style=\"stroke:black;stroke-width:4\"/><line x1=\"480.0\" y1=\"250.0\" x2=\"480.0\" y2=\"330.0\" stroke-linecap=\"round\" style=\"stroke:black;stroke-width:4\"/><line x1=\"480.0\" y1=\"330.0\" x2=\"400.0\" y2=\"330.0\" stroke-linecap=\"round\" style=\"stroke:black;stroke-width:4\"/><line x1=\"400.0\" y1=\"330.0\" x2=\"400.0\" y2=\"250.0\" stroke-linecap=\"round\" style=\"stroke:black;stroke-width:4\"/><line x1=\"400.0\" y1=\"250.0\" x2=\"490.0\" y2=\"250.0\" stroke-linecap=\"round\" style=\"stroke:black;stroke-width:4\"/><line x1=\"490.0\" y1=\"250.0\" x2=\"490.0\" y2=\"340.0\" stroke-linecap=\"round\" style=\"stroke:black;stroke-width:4\"/><line x1=\"490.0\" y1=\"340.0\" x2=\"400.0\" y2=\"340.0\" stroke-linecap=\"round\" style=\"stroke:black;stroke-width:4\"/><line x1=\"400.0\" y1=\"340.0\" x2=\"400.0\" y2=\"250.0\" stroke-linecap=\"round\" style=\"stroke:black;stroke-width:4\"/>\n",
       "        <g visibility=visible transform=\"rotate(90,400.0,250.0) translate(382.0, 232.0)\">\n",
       "<path style=\" stroke:none;fill-rule:evenodd;fill:black;fill-opacity:1;\" d=\"M 18.214844 0.632812 C 16.109375 1.800781 15.011719 4.074219 15.074219 7.132812 L 15.085938 7.652344 L 14.785156 7.496094 C 13.476562 6.824219 11.957031 6.671875 10.40625 7.066406 C 8.46875 7.550781 6.515625 9.15625 4.394531 11.992188 C 3.0625 13.777344 2.679688 14.636719 3.042969 15.027344 L 3.15625 15.152344 L 3.519531 15.152344 C 4.238281 15.152344 4.828125 14.886719 8.1875 13.039062 C 9.386719 12.378906 10.371094 11.839844 10.378906 11.839844 C 10.386719 11.839844 10.355469 11.929688 10.304688 12.035156 C 9.832031 13.09375 9.257812 14.820312 8.96875 16.078125 C 7.914062 20.652344 8.617188 24.53125 11.070312 27.660156 C 11.351562 28.015625 11.363281 27.914062 10.972656 28.382812 C 8.925781 30.84375 7.945312 33.28125 8.238281 35.1875 C 8.289062 35.527344 8.28125 35.523438 8.917969 35.523438 C 10.941406 35.523438 13.074219 34.207031 15.136719 31.6875 C 15.359375 31.417969 15.328125 31.425781 15.5625 31.574219 C 16.292969 32.042969 18.023438 32.964844 18.175781 32.964844 C 18.335938 32.964844 19.941406 32.210938 20.828125 31.71875 C 20.996094 31.625 21.136719 31.554688 21.136719 31.558594 C 21.203125 31.664062 21.898438 32.414062 22.222656 32.730469 C 23.835938 34.300781 25.5625 35.132812 27.582031 35.300781 C 27.90625 35.328125 27.9375 35.308594 28.007812 34.984375 C 28.382812 33.242188 27.625 30.925781 25.863281 28.425781 L 25.542969 27.96875 L 25.699219 27.785156 C 28.945312 23.960938 29.132812 18.699219 26.257812 11.96875 L 26.207031 11.84375 L 27.945312 12.703125 C 31.53125 14.476562 32.316406 14.800781 33.03125 14.800781 C 33.976562 14.800781 33.78125 13.9375 32.472656 12.292969 C 28.519531 7.355469 25.394531 5.925781 21.921875 7.472656 L 21.558594 7.636719 L 21.578125 7.542969 C 21.699219 6.992188 21.761719 5.742188 21.699219 5.164062 C 21.496094 3.296875 20.664062 1.964844 19.003906 0.855469 C 18.480469 0.503906 18.457031 0.5 18.214844 0.632812\"/>\n",
       "</g>\n",
       "      </svg>\n",
       "    "
      ],
      "text/plain": [
       "<IPython.core.display.HTML object>"
      ]
     },
     "metadata": {},
     "output_type": "display_data"
    }
   ],
   "source": [
    "# configuración pizarra inicial\n",
    "pizarra_vacia()\n",
    "\n",
    "# dibuja túnel\n",
    "forward(50)\n",
    "right(90)\n",
    "forward(50)\n",
    "right(90)\n",
    "forward(50)\n",
    "right(90)\n",
    "forward(50)\n",
    "right(90)\n",
    "forward(60)\n",
    "right(90)\n",
    "forward(60)\n",
    "right(90)\n",
    "forward(60)\n",
    "right(90)\n",
    "forward(60)\n",
    "right(90)\n",
    "forward(70)\n",
    "right(90)\n",
    "forward(70)\n",
    "right(90)\n",
    "forward(70)\n",
    "right(90)\n",
    "forward(70)\n",
    "right(90)\n",
    "forward(80)\n",
    "right(90)\n",
    "forward(80)\n",
    "right(90)\n",
    "forward(80)\n",
    "right(90)\n",
    "forward(80)\n",
    "right(90)\n",
    "forward(90)\n",
    "right(90)\n",
    "forward(90)\n",
    "right(90)\n",
    "forward(90)\n",
    "right(90)\n",
    "forward(90)\n",
    "right(90)\n"
   ]
  },
  {
   "cell_type": "markdown",
   "metadata": {
    "id": "oTRzjEa2GhI3"
   },
   "source": [
    "Nuevamente podemos valernos del ciclo `for` para evitar la repetición de código:"
   ]
  },
  {
   "cell_type": "code",
   "execution_count": 23,
   "metadata": {
    "colab": {
     "base_uri": "https://localhost:8080/",
     "height": 521
    },
    "id": "RAvxXwS5Gtba",
    "outputId": "c498c654-a09e-4b28-b207-f3351dbb6509",
    "vscode": {
     "languageId": "python"
    }
   },
   "outputs": [
    {
     "data": {
      "text/html": [
       "\n",
       "      <svg width=\"800\" height=\"500\">\n",
       "        <rect width=\"100%\" height=\"100%\" fill=\"white\"/>\n",
       "        <line x1=\"400\" y1=\"250\" x2=\"450.0\" y2=\"250.0\" stroke-linecap=\"round\" style=\"stroke:black;stroke-width:4\"/><line x1=\"450.0\" y1=\"250.0\" x2=\"450.0\" y2=\"300.0\" stroke-linecap=\"round\" style=\"stroke:black;stroke-width:4\"/><line x1=\"450.0\" y1=\"300.0\" x2=\"400.0\" y2=\"300.0\" stroke-linecap=\"round\" style=\"stroke:black;stroke-width:4\"/><line x1=\"400.0\" y1=\"300.0\" x2=\"400.0\" y2=\"250.0\" stroke-linecap=\"round\" style=\"stroke:black;stroke-width:4\"/><line x1=\"400.0\" y1=\"250.0\" x2=\"460.0\" y2=\"250.0\" stroke-linecap=\"round\" style=\"stroke:black;stroke-width:4\"/><line x1=\"460.0\" y1=\"250.0\" x2=\"460.0\" y2=\"310.0\" stroke-linecap=\"round\" style=\"stroke:black;stroke-width:4\"/><line x1=\"460.0\" y1=\"310.0\" x2=\"400.0\" y2=\"310.0\" stroke-linecap=\"round\" style=\"stroke:black;stroke-width:4\"/><line x1=\"400.0\" y1=\"310.0\" x2=\"400.0\" y2=\"250.0\" stroke-linecap=\"round\" style=\"stroke:black;stroke-width:4\"/><line x1=\"400.0\" y1=\"250.0\" x2=\"470.0\" y2=\"250.0\" stroke-linecap=\"round\" style=\"stroke:black;stroke-width:4\"/><line x1=\"470.0\" y1=\"250.0\" x2=\"470.0\" y2=\"320.0\" stroke-linecap=\"round\" style=\"stroke:black;stroke-width:4\"/><line x1=\"470.0\" y1=\"320.0\" x2=\"400.0\" y2=\"320.0\" stroke-linecap=\"round\" style=\"stroke:black;stroke-width:4\"/><line x1=\"400.0\" y1=\"320.0\" x2=\"400.0\" y2=\"250.0\" stroke-linecap=\"round\" style=\"stroke:black;stroke-width:4\"/><line x1=\"400.0\" y1=\"250.0\" x2=\"480.0\" y2=\"250.0\" stroke-linecap=\"round\" style=\"stroke:black;stroke-width:4\"/><line x1=\"480.0\" y1=\"250.0\" x2=\"480.0\" y2=\"330.0\" stroke-linecap=\"round\" style=\"stroke:black;stroke-width:4\"/><line x1=\"480.0\" y1=\"330.0\" x2=\"400.0\" y2=\"330.0\" stroke-linecap=\"round\" style=\"stroke:black;stroke-width:4\"/><line x1=\"400.0\" y1=\"330.0\" x2=\"400.0\" y2=\"250.0\" stroke-linecap=\"round\" style=\"stroke:black;stroke-width:4\"/><line x1=\"400.0\" y1=\"250.0\" x2=\"490.0\" y2=\"250.0\" stroke-linecap=\"round\" style=\"stroke:black;stroke-width:4\"/><line x1=\"490.0\" y1=\"250.0\" x2=\"490.0\" y2=\"340.0\" stroke-linecap=\"round\" style=\"stroke:black;stroke-width:4\"/><line x1=\"490.0\" y1=\"340.0\" x2=\"400.0\" y2=\"340.0\" stroke-linecap=\"round\" style=\"stroke:black;stroke-width:4\"/><line x1=\"400.0\" y1=\"340.0\" x2=\"400.0\" y2=\"250.0\" stroke-linecap=\"round\" style=\"stroke:black;stroke-width:4\"/>\n",
       "        <g visibility=visible transform=\"rotate(90,400.0,250.0) translate(382.0, 232.0)\">\n",
       "<path style=\" stroke:none;fill-rule:evenodd;fill:black;fill-opacity:1;\" d=\"M 18.214844 0.632812 C 16.109375 1.800781 15.011719 4.074219 15.074219 7.132812 L 15.085938 7.652344 L 14.785156 7.496094 C 13.476562 6.824219 11.957031 6.671875 10.40625 7.066406 C 8.46875 7.550781 6.515625 9.15625 4.394531 11.992188 C 3.0625 13.777344 2.679688 14.636719 3.042969 15.027344 L 3.15625 15.152344 L 3.519531 15.152344 C 4.238281 15.152344 4.828125 14.886719 8.1875 13.039062 C 9.386719 12.378906 10.371094 11.839844 10.378906 11.839844 C 10.386719 11.839844 10.355469 11.929688 10.304688 12.035156 C 9.832031 13.09375 9.257812 14.820312 8.96875 16.078125 C 7.914062 20.652344 8.617188 24.53125 11.070312 27.660156 C 11.351562 28.015625 11.363281 27.914062 10.972656 28.382812 C 8.925781 30.84375 7.945312 33.28125 8.238281 35.1875 C 8.289062 35.527344 8.28125 35.523438 8.917969 35.523438 C 10.941406 35.523438 13.074219 34.207031 15.136719 31.6875 C 15.359375 31.417969 15.328125 31.425781 15.5625 31.574219 C 16.292969 32.042969 18.023438 32.964844 18.175781 32.964844 C 18.335938 32.964844 19.941406 32.210938 20.828125 31.71875 C 20.996094 31.625 21.136719 31.554688 21.136719 31.558594 C 21.203125 31.664062 21.898438 32.414062 22.222656 32.730469 C 23.835938 34.300781 25.5625 35.132812 27.582031 35.300781 C 27.90625 35.328125 27.9375 35.308594 28.007812 34.984375 C 28.382812 33.242188 27.625 30.925781 25.863281 28.425781 L 25.542969 27.96875 L 25.699219 27.785156 C 28.945312 23.960938 29.132812 18.699219 26.257812 11.96875 L 26.207031 11.84375 L 27.945312 12.703125 C 31.53125 14.476562 32.316406 14.800781 33.03125 14.800781 C 33.976562 14.800781 33.78125 13.9375 32.472656 12.292969 C 28.519531 7.355469 25.394531 5.925781 21.921875 7.472656 L 21.558594 7.636719 L 21.578125 7.542969 C 21.699219 6.992188 21.761719 5.742188 21.699219 5.164062 C 21.496094 3.296875 20.664062 1.964844 19.003906 0.855469 C 18.480469 0.503906 18.457031 0.5 18.214844 0.632812\"/>\n",
       "</g>\n",
       "      </svg>\n",
       "    "
      ],
      "text/plain": [
       "<IPython.core.display.HTML object>"
      ]
     },
     "metadata": {},
     "output_type": "display_data"
    }
   ],
   "source": [
    "# configuración pizarra inicial\n",
    "pizarra_vacia()\n",
    "\n",
    "def dibujar_cuadrado(longitud_lado):\n",
    "    for _ in range(4):\n",
    "        forward(longitud_lado)\n",
    "        right(90)\n",
    "        \n",
    "# dibuja túnel\n",
    "speed(10)\n",
    "for longitud in range(50, 91, 10):\n",
    "    dibujar_cuadrado(longitud)"
   ]
  },
  {
   "cell_type": "markdown",
   "metadata": {
    "id": "mU-aTjC2JG6s"
   },
   "source": [
    "Nuevamente, agregar unos cuadrados más es muy sencillo:"
   ]
  },
  {
   "cell_type": "code",
   "execution_count": 24,
   "metadata": {
    "colab": {
     "base_uri": "https://localhost:8080/",
     "height": 521
    },
    "id": "W9k5Ar2WJFb3",
    "outputId": "ba96665a-1922-4e06-b8e4-70ea9168de37",
    "vscode": {
     "languageId": "python"
    }
   },
   "outputs": [
    {
     "data": {
      "text/html": [
       "\n",
       "      <svg width=\"800\" height=\"500\">\n",
       "        <rect width=\"100%\" height=\"100%\" fill=\"white\"/>\n",
       "        <line x1=\"400\" y1=\"250\" x2=\"450.0\" y2=\"250.0\" stroke-linecap=\"round\" style=\"stroke:black;stroke-width:4\"/><line x1=\"450.0\" y1=\"250.0\" x2=\"450.0\" y2=\"300.0\" stroke-linecap=\"round\" style=\"stroke:black;stroke-width:4\"/><line x1=\"450.0\" y1=\"300.0\" x2=\"400.0\" y2=\"300.0\" stroke-linecap=\"round\" style=\"stroke:black;stroke-width:4\"/><line x1=\"400.0\" y1=\"300.0\" x2=\"400.0\" y2=\"250.0\" stroke-linecap=\"round\" style=\"stroke:black;stroke-width:4\"/><line x1=\"400.0\" y1=\"250.0\" x2=\"460.0\" y2=\"250.0\" stroke-linecap=\"round\" style=\"stroke:black;stroke-width:4\"/><line x1=\"460.0\" y1=\"250.0\" x2=\"460.0\" y2=\"310.0\" stroke-linecap=\"round\" style=\"stroke:black;stroke-width:4\"/><line x1=\"460.0\" y1=\"310.0\" x2=\"400.0\" y2=\"310.0\" stroke-linecap=\"round\" style=\"stroke:black;stroke-width:4\"/><line x1=\"400.0\" y1=\"310.0\" x2=\"400.0\" y2=\"250.0\" stroke-linecap=\"round\" style=\"stroke:black;stroke-width:4\"/><line x1=\"400.0\" y1=\"250.0\" x2=\"470.0\" y2=\"250.0\" stroke-linecap=\"round\" style=\"stroke:black;stroke-width:4\"/><line x1=\"470.0\" y1=\"250.0\" x2=\"470.0\" y2=\"320.0\" stroke-linecap=\"round\" style=\"stroke:black;stroke-width:4\"/><line x1=\"470.0\" y1=\"320.0\" x2=\"400.0\" y2=\"320.0\" stroke-linecap=\"round\" style=\"stroke:black;stroke-width:4\"/><line x1=\"400.0\" y1=\"320.0\" x2=\"400.0\" y2=\"250.0\" stroke-linecap=\"round\" style=\"stroke:black;stroke-width:4\"/><line x1=\"400.0\" y1=\"250.0\" x2=\"480.0\" y2=\"250.0\" stroke-linecap=\"round\" style=\"stroke:black;stroke-width:4\"/><line x1=\"480.0\" y1=\"250.0\" x2=\"480.0\" y2=\"330.0\" stroke-linecap=\"round\" style=\"stroke:black;stroke-width:4\"/><line x1=\"480.0\" y1=\"330.0\" x2=\"400.0\" y2=\"330.0\" stroke-linecap=\"round\" style=\"stroke:black;stroke-width:4\"/><line x1=\"400.0\" y1=\"330.0\" x2=\"400.0\" y2=\"250.0\" stroke-linecap=\"round\" style=\"stroke:black;stroke-width:4\"/><line x1=\"400.0\" y1=\"250.0\" x2=\"490.0\" y2=\"250.0\" stroke-linecap=\"round\" style=\"stroke:black;stroke-width:4\"/><line x1=\"490.0\" y1=\"250.0\" x2=\"490.0\" y2=\"340.0\" stroke-linecap=\"round\" style=\"stroke:black;stroke-width:4\"/><line x1=\"490.0\" y1=\"340.0\" x2=\"400.0\" y2=\"340.0\" stroke-linecap=\"round\" style=\"stroke:black;stroke-width:4\"/><line x1=\"400.0\" y1=\"340.0\" x2=\"400.0\" y2=\"250.0\" stroke-linecap=\"round\" style=\"stroke:black;stroke-width:4\"/><line x1=\"400.0\" y1=\"250.0\" x2=\"500.0\" y2=\"250.0\" stroke-linecap=\"round\" style=\"stroke:black;stroke-width:4\"/><line x1=\"500.0\" y1=\"250.0\" x2=\"500.0\" y2=\"350.0\" stroke-linecap=\"round\" style=\"stroke:black;stroke-width:4\"/><line x1=\"500.0\" y1=\"350.0\" x2=\"400.0\" y2=\"350.0\" stroke-linecap=\"round\" style=\"stroke:black;stroke-width:4\"/><line x1=\"400.0\" y1=\"350.0\" x2=\"400.0\" y2=\"250.0\" stroke-linecap=\"round\" style=\"stroke:black;stroke-width:4\"/><line x1=\"400.0\" y1=\"250.0\" x2=\"510.0\" y2=\"250.0\" stroke-linecap=\"round\" style=\"stroke:black;stroke-width:4\"/><line x1=\"510.0\" y1=\"250.0\" x2=\"510.0\" y2=\"360.0\" stroke-linecap=\"round\" style=\"stroke:black;stroke-width:4\"/><line x1=\"510.0\" y1=\"360.0\" x2=\"400.0\" y2=\"360.0\" stroke-linecap=\"round\" style=\"stroke:black;stroke-width:4\"/><line x1=\"400.0\" y1=\"360.0\" x2=\"400.0\" y2=\"250.0\" stroke-linecap=\"round\" style=\"stroke:black;stroke-width:4\"/><line x1=\"400.0\" y1=\"250.0\" x2=\"520.0\" y2=\"250.0\" stroke-linecap=\"round\" style=\"stroke:black;stroke-width:4\"/><line x1=\"520.0\" y1=\"250.0\" x2=\"520.0\" y2=\"370.0\" stroke-linecap=\"round\" style=\"stroke:black;stroke-width:4\"/><line x1=\"520.0\" y1=\"370.0\" x2=\"400.0\" y2=\"370.0\" stroke-linecap=\"round\" style=\"stroke:black;stroke-width:4\"/><line x1=\"400.0\" y1=\"370.0\" x2=\"400.0\" y2=\"250.0\" stroke-linecap=\"round\" style=\"stroke:black;stroke-width:4\"/><line x1=\"400.0\" y1=\"250.0\" x2=\"530.0\" y2=\"250.0\" stroke-linecap=\"round\" style=\"stroke:black;stroke-width:4\"/><line x1=\"530.0\" y1=\"250.0\" x2=\"530.0\" y2=\"380.0\" stroke-linecap=\"round\" style=\"stroke:black;stroke-width:4\"/><line x1=\"530.0\" y1=\"380.0\" x2=\"400.0\" y2=\"380.0\" stroke-linecap=\"round\" style=\"stroke:black;stroke-width:4\"/><line x1=\"400.0\" y1=\"380.0\" x2=\"400.0\" y2=\"250.0\" stroke-linecap=\"round\" style=\"stroke:black;stroke-width:4\"/><line x1=\"400.0\" y1=\"250.0\" x2=\"540.0\" y2=\"250.0\" stroke-linecap=\"round\" style=\"stroke:black;stroke-width:4\"/><line x1=\"540.0\" y1=\"250.0\" x2=\"540.0\" y2=\"390.0\" stroke-linecap=\"round\" style=\"stroke:black;stroke-width:4\"/><line x1=\"540.0\" y1=\"390.0\" x2=\"400.0\" y2=\"390.0\" stroke-linecap=\"round\" style=\"stroke:black;stroke-width:4\"/><line x1=\"400.0\" y1=\"390.0\" x2=\"400.0\" y2=\"250.0\" stroke-linecap=\"round\" style=\"stroke:black;stroke-width:4\"/><line x1=\"400.0\" y1=\"250.0\" x2=\"550.0\" y2=\"250.0\" stroke-linecap=\"round\" style=\"stroke:black;stroke-width:4\"/><line x1=\"550.0\" y1=\"250.0\" x2=\"550.0\" y2=\"400.0\" stroke-linecap=\"round\" style=\"stroke:black;stroke-width:4\"/><line x1=\"550.0\" y1=\"400.0\" x2=\"400.0\" y2=\"400.0\" stroke-linecap=\"round\" style=\"stroke:black;stroke-width:4\"/><line x1=\"400.0\" y1=\"400.0\" x2=\"400.0\" y2=\"250.0\" stroke-linecap=\"round\" style=\"stroke:black;stroke-width:4\"/>\n",
       "        <g visibility=visible transform=\"rotate(90,400.0,250.0) translate(382.0, 232.0)\">\n",
       "<path style=\" stroke:none;fill-rule:evenodd;fill:black;fill-opacity:1;\" d=\"M 18.214844 0.632812 C 16.109375 1.800781 15.011719 4.074219 15.074219 7.132812 L 15.085938 7.652344 L 14.785156 7.496094 C 13.476562 6.824219 11.957031 6.671875 10.40625 7.066406 C 8.46875 7.550781 6.515625 9.15625 4.394531 11.992188 C 3.0625 13.777344 2.679688 14.636719 3.042969 15.027344 L 3.15625 15.152344 L 3.519531 15.152344 C 4.238281 15.152344 4.828125 14.886719 8.1875 13.039062 C 9.386719 12.378906 10.371094 11.839844 10.378906 11.839844 C 10.386719 11.839844 10.355469 11.929688 10.304688 12.035156 C 9.832031 13.09375 9.257812 14.820312 8.96875 16.078125 C 7.914062 20.652344 8.617188 24.53125 11.070312 27.660156 C 11.351562 28.015625 11.363281 27.914062 10.972656 28.382812 C 8.925781 30.84375 7.945312 33.28125 8.238281 35.1875 C 8.289062 35.527344 8.28125 35.523438 8.917969 35.523438 C 10.941406 35.523438 13.074219 34.207031 15.136719 31.6875 C 15.359375 31.417969 15.328125 31.425781 15.5625 31.574219 C 16.292969 32.042969 18.023438 32.964844 18.175781 32.964844 C 18.335938 32.964844 19.941406 32.210938 20.828125 31.71875 C 20.996094 31.625 21.136719 31.554688 21.136719 31.558594 C 21.203125 31.664062 21.898438 32.414062 22.222656 32.730469 C 23.835938 34.300781 25.5625 35.132812 27.582031 35.300781 C 27.90625 35.328125 27.9375 35.308594 28.007812 34.984375 C 28.382812 33.242188 27.625 30.925781 25.863281 28.425781 L 25.542969 27.96875 L 25.699219 27.785156 C 28.945312 23.960938 29.132812 18.699219 26.257812 11.96875 L 26.207031 11.84375 L 27.945312 12.703125 C 31.53125 14.476562 32.316406 14.800781 33.03125 14.800781 C 33.976562 14.800781 33.78125 13.9375 32.472656 12.292969 C 28.519531 7.355469 25.394531 5.925781 21.921875 7.472656 L 21.558594 7.636719 L 21.578125 7.542969 C 21.699219 6.992188 21.761719 5.742188 21.699219 5.164062 C 21.496094 3.296875 20.664062 1.964844 19.003906 0.855469 C 18.480469 0.503906 18.457031 0.5 18.214844 0.632812\"/>\n",
       "</g>\n",
       "      </svg>\n",
       "    "
      ],
      "text/plain": [
       "<IPython.core.display.HTML object>"
      ]
     },
     "metadata": {},
     "output_type": "display_data"
    }
   ],
   "source": [
    "# configuración pizarra inicial\n",
    "pizarra_vacia()\n",
    "\n",
    "# dibuja túnel\n",
    "speed(10)\n",
    "for longitud in range(50, 151, 10):\n",
    "    dibujar_cuadrado(longitud)"
   ]
  },
  {
   "cell_type": "markdown",
   "metadata": {
    "id": "RN66L9v2LlOn"
   },
   "source": [
    "## Definición de funciones"
   ]
  },
  {
   "cell_type": "markdown",
   "metadata": {
    "id": "zZVVRk3eLstH"
   },
   "source": [
    "Ya hemos hablado un poco de funciones y como definirlas,  ahora profundizaremos un poco más sobre el tema.\n",
    "\n",
    "Recordemos que podemos dibujar un cuadrado de lado 50  utilizando el siguiente código:"
   ]
  },
  {
   "cell_type": "code",
   "execution_count": 25,
   "metadata": {
    "colab": {
     "base_uri": "https://localhost:8080/",
     "height": 521
    },
    "id": "f0dahg24LrQo",
    "outputId": "edab3a06-ffdd-4bc8-af25-46c869472444",
    "vscode": {
     "languageId": "python"
    }
   },
   "outputs": [
    {
     "data": {
      "text/html": [
       "\n",
       "      <svg width=\"800\" height=\"500\">\n",
       "        <rect width=\"100%\" height=\"100%\" fill=\"white\"/>\n",
       "        <line x1=\"400\" y1=\"250\" x2=\"450.0\" y2=\"250.0\" stroke-linecap=\"round\" style=\"stroke:black;stroke-width:4\"/><line x1=\"450.0\" y1=\"250.0\" x2=\"450.0\" y2=\"300.0\" stroke-linecap=\"round\" style=\"stroke:black;stroke-width:4\"/><line x1=\"450.0\" y1=\"300.0\" x2=\"400.0\" y2=\"300.0\" stroke-linecap=\"round\" style=\"stroke:black;stroke-width:4\"/><line x1=\"400.0\" y1=\"300.0\" x2=\"400.0\" y2=\"250.0\" stroke-linecap=\"round\" style=\"stroke:black;stroke-width:4\"/>\n",
       "        <g visibility=visible transform=\"rotate(90,400.0,250.0) translate(382.0, 232.0)\">\n",
       "<path style=\" stroke:none;fill-rule:evenodd;fill:black;fill-opacity:1;\" d=\"M 18.214844 0.632812 C 16.109375 1.800781 15.011719 4.074219 15.074219 7.132812 L 15.085938 7.652344 L 14.785156 7.496094 C 13.476562 6.824219 11.957031 6.671875 10.40625 7.066406 C 8.46875 7.550781 6.515625 9.15625 4.394531 11.992188 C 3.0625 13.777344 2.679688 14.636719 3.042969 15.027344 L 3.15625 15.152344 L 3.519531 15.152344 C 4.238281 15.152344 4.828125 14.886719 8.1875 13.039062 C 9.386719 12.378906 10.371094 11.839844 10.378906 11.839844 C 10.386719 11.839844 10.355469 11.929688 10.304688 12.035156 C 9.832031 13.09375 9.257812 14.820312 8.96875 16.078125 C 7.914062 20.652344 8.617188 24.53125 11.070312 27.660156 C 11.351562 28.015625 11.363281 27.914062 10.972656 28.382812 C 8.925781 30.84375 7.945312 33.28125 8.238281 35.1875 C 8.289062 35.527344 8.28125 35.523438 8.917969 35.523438 C 10.941406 35.523438 13.074219 34.207031 15.136719 31.6875 C 15.359375 31.417969 15.328125 31.425781 15.5625 31.574219 C 16.292969 32.042969 18.023438 32.964844 18.175781 32.964844 C 18.335938 32.964844 19.941406 32.210938 20.828125 31.71875 C 20.996094 31.625 21.136719 31.554688 21.136719 31.558594 C 21.203125 31.664062 21.898438 32.414062 22.222656 32.730469 C 23.835938 34.300781 25.5625 35.132812 27.582031 35.300781 C 27.90625 35.328125 27.9375 35.308594 28.007812 34.984375 C 28.382812 33.242188 27.625 30.925781 25.863281 28.425781 L 25.542969 27.96875 L 25.699219 27.785156 C 28.945312 23.960938 29.132812 18.699219 26.257812 11.96875 L 26.207031 11.84375 L 27.945312 12.703125 C 31.53125 14.476562 32.316406 14.800781 33.03125 14.800781 C 33.976562 14.800781 33.78125 13.9375 32.472656 12.292969 C 28.519531 7.355469 25.394531 5.925781 21.921875 7.472656 L 21.558594 7.636719 L 21.578125 7.542969 C 21.699219 6.992188 21.761719 5.742188 21.699219 5.164062 C 21.496094 3.296875 20.664062 1.964844 19.003906 0.855469 C 18.480469 0.503906 18.457031 0.5 18.214844 0.632812\"/>\n",
       "</g>\n",
       "      </svg>\n",
       "    "
      ],
      "text/plain": [
       "<IPython.core.display.HTML object>"
      ]
     },
     "metadata": {},
     "output_type": "display_data"
    }
   ],
   "source": [
    "# configuración pizarra inicial\n",
    "initializeTurtle()\n",
    "bgcolor('white')\n",
    "color('black')\n",
    "right(90)\n",
    "\n",
    "# dibuja cuadrado\n",
    "for _ in range(4):\n",
    "    forward(50)\n",
    "    right(90)"
   ]
  },
  {
   "cell_type": "markdown",
   "metadata": {
    "id": "sdNYqiVfNHgj"
   },
   "source": [
    "Estas líneas están bien y el programa hace lo que nosotros queremos. Sin embargo,  si queremos usar repetidamente la pizarra o si queremos dibujar muchos cuadrado en una pizarra, convendrá modularizar un poco. Para ello, más arriba hemos definido dos funciones:"
   ]
  },
  {
   "cell_type": "code",
   "execution_count": 26,
   "metadata": {
    "id": "l6XPY82SNS3v",
    "vscode": {
     "languageId": "python"
    }
   },
   "outputs": [],
   "source": [
    "def pizarra_vacia():\n",
    "    initializeTurtle()\n",
    "    bgcolor('white')\n",
    "    color('black')\n",
    "    right(90)\n",
    "\n",
    "def dibujar_cuadrado(longitud_lado):\n",
    "    for _ in range(4):\n",
    "        forward(longitud_lado)\n",
    "        right(90)"
   ]
  },
  {
   "cell_type": "markdown",
   "metadata": {
    "id": "ay_XZOV0N1U-"
   },
   "source": [
    "La primera función no tiene argumentos e inicializa la pantalla, la segunda función dibuja un cuadrado cuyos lados tiene longitud `longitud_lado`. \n",
    "\n",
    "En la definición de `dibujar_cuadrado()` la expresión `longitud_lado` es una variable. Cuando escribimos la definición de la función `dibujar_cuadrado`, desconocemos el valor de la variable. Su valor recién se conocerá cuando se utilice la función.\n",
    "\n",
    "Esta variable se llama *parámetro* de la función `dibujar_cuadrado`.\n",
    "\n",
    "Con estas definiciones podemos reproducir lo que programamos dos celdas de código más arriba escribiendo:"
   ]
  },
  {
   "cell_type": "code",
   "execution_count": 27,
   "metadata": {
    "colab": {
     "base_uri": "https://localhost:8080/",
     "height": 521
    },
    "id": "xYfI5gMnPatV",
    "outputId": "57333fdd-9bda-4f5a-c70c-06efcaba0757",
    "vscode": {
     "languageId": "python"
    }
   },
   "outputs": [
    {
     "data": {
      "text/html": [
       "\n",
       "      <svg width=\"800\" height=\"500\">\n",
       "        <rect width=\"100%\" height=\"100%\" fill=\"white\"/>\n",
       "        <line x1=\"400\" y1=\"250\" x2=\"450.0\" y2=\"250.0\" stroke-linecap=\"round\" style=\"stroke:black;stroke-width:4\"/><line x1=\"450.0\" y1=\"250.0\" x2=\"450.0\" y2=\"300.0\" stroke-linecap=\"round\" style=\"stroke:black;stroke-width:4\"/><line x1=\"450.0\" y1=\"300.0\" x2=\"400.0\" y2=\"300.0\" stroke-linecap=\"round\" style=\"stroke:black;stroke-width:4\"/><line x1=\"400.0\" y1=\"300.0\" x2=\"400.0\" y2=\"250.0\" stroke-linecap=\"round\" style=\"stroke:black;stroke-width:4\"/>\n",
       "        <g visibility=visible transform=\"rotate(90,400.0,250.0) translate(382.0, 232.0)\">\n",
       "<path style=\" stroke:none;fill-rule:evenodd;fill:black;fill-opacity:1;\" d=\"M 18.214844 0.632812 C 16.109375 1.800781 15.011719 4.074219 15.074219 7.132812 L 15.085938 7.652344 L 14.785156 7.496094 C 13.476562 6.824219 11.957031 6.671875 10.40625 7.066406 C 8.46875 7.550781 6.515625 9.15625 4.394531 11.992188 C 3.0625 13.777344 2.679688 14.636719 3.042969 15.027344 L 3.15625 15.152344 L 3.519531 15.152344 C 4.238281 15.152344 4.828125 14.886719 8.1875 13.039062 C 9.386719 12.378906 10.371094 11.839844 10.378906 11.839844 C 10.386719 11.839844 10.355469 11.929688 10.304688 12.035156 C 9.832031 13.09375 9.257812 14.820312 8.96875 16.078125 C 7.914062 20.652344 8.617188 24.53125 11.070312 27.660156 C 11.351562 28.015625 11.363281 27.914062 10.972656 28.382812 C 8.925781 30.84375 7.945312 33.28125 8.238281 35.1875 C 8.289062 35.527344 8.28125 35.523438 8.917969 35.523438 C 10.941406 35.523438 13.074219 34.207031 15.136719 31.6875 C 15.359375 31.417969 15.328125 31.425781 15.5625 31.574219 C 16.292969 32.042969 18.023438 32.964844 18.175781 32.964844 C 18.335938 32.964844 19.941406 32.210938 20.828125 31.71875 C 20.996094 31.625 21.136719 31.554688 21.136719 31.558594 C 21.203125 31.664062 21.898438 32.414062 22.222656 32.730469 C 23.835938 34.300781 25.5625 35.132812 27.582031 35.300781 C 27.90625 35.328125 27.9375 35.308594 28.007812 34.984375 C 28.382812 33.242188 27.625 30.925781 25.863281 28.425781 L 25.542969 27.96875 L 25.699219 27.785156 C 28.945312 23.960938 29.132812 18.699219 26.257812 11.96875 L 26.207031 11.84375 L 27.945312 12.703125 C 31.53125 14.476562 32.316406 14.800781 33.03125 14.800781 C 33.976562 14.800781 33.78125 13.9375 32.472656 12.292969 C 28.519531 7.355469 25.394531 5.925781 21.921875 7.472656 L 21.558594 7.636719 L 21.578125 7.542969 C 21.699219 6.992188 21.761719 5.742188 21.699219 5.164062 C 21.496094 3.296875 20.664062 1.964844 19.003906 0.855469 C 18.480469 0.503906 18.457031 0.5 18.214844 0.632812\"/>\n",
       "</g>\n",
       "      </svg>\n",
       "    "
      ],
      "text/plain": [
       "<IPython.core.display.HTML object>"
      ]
     },
     "metadata": {},
     "output_type": "display_data"
    }
   ],
   "source": [
    "pizarra_vacia()\n",
    "dibujar_cuadrado(50)\n"
   ]
  },
  {
   "cell_type": "markdown",
   "metadata": {
    "id": "ZOOh2GCoPnnP"
   },
   "source": [
    "### Comentarios sobre las funciones:\n",
    "\n",
    "*   Todos los lenguajes de programación modernos permiten definir funciones.\n",
    "*   Esto contribuye a generalizar y dar nombres a porciones de código, facilitando su reutilización.\n",
    "*   Realizan abstracciones que aportan legibilidad.\n",
    "*   Se deben definir funciones cuando se identifican *porciones de código que tienen sentido.*\n",
    "*   Convención (Python): los nombres de las funciones van en minúscula, puede ser una palabra, o más de una palabra separadas por guión bajo (por ejemplo: `dibujar_cuadrado`).\n",
    "\n",
    "Las funciones pueden tener 0, 1, 2 ó más parámetros. Incluso pueden tener un número indeterminado de parámetros.\n",
    "\n",
    "Un ejemplo de función sin parámetros es `pizarra_vacía()`. A veces se dicen, quizás lo escucharán en algunos ámbitos, que una función sin parámetros es un *procedimiento*. \n",
    "\n",
    "Un ejemplo de función con 1 parámetro es `dibujar_cuadrado()`."
   ]
  },
  {
   "cell_type": "markdown",
   "metadata": {
    "id": "SyrqYhVb0O8W"
   },
   "source": [
    "En  ejemplos anteriores hemos aumentado o cambiado la velocidad de la tortuga por comodidad. Podemos mejorar la definición de la función `pizarra_vacia()` agregando un parámetro que indique la velocidad. "
   ]
  },
  {
   "cell_type": "code",
   "execution_count": 28,
   "metadata": {
    "id": "451-8VDXTB2j",
    "vscode": {
     "languageId": "python"
    }
   },
   "outputs": [],
   "source": [
    "def pizarra_vacia(velocidad = 5):\n",
    "    initializeTurtle()\n",
    "    bgcolor('white')\n",
    "    color('black')\n",
    "    speed(velocidad)\n",
    "    right(90)"
   ]
  },
  {
   "cell_type": "markdown",
   "metadata": {
    "id": "QwU11-_uTQen"
   },
   "source": [
    "Esta función tiene una parámetro *optativo*, el parámetro `velocidad`. Cuando le damos un valor al parámetro entonces esa será la velocidad de la tortuga. En  cambio, si no le damos un valor, la velocidad será 5,  el *valor por defecto*. Eso quiere decir que cuando  invocamos\n",
    "\n",
    "```\n",
    "pizarra_vacia()\n",
    "```\n",
    "\n",
    "internamente la variable `velocidad` vale `5`. Mientras que si ejecutamos, por ejemplo, \n",
    "\n",
    "```\n",
    "pizarra_vacia(12)\n",
    "```\n",
    "la velocidad de la tortuga será  `12`.\n",
    "\n",
    "\n"
   ]
  },
  {
   "cell_type": "code",
   "execution_count": 29,
   "metadata": {
    "colab": {
     "base_uri": "https://localhost:8080/",
     "height": 165
    },
    "id": "G1LISrvvv6nP",
    "outputId": "9dbe789e-24f8-4652-9f5c-cf1c14e456e8",
    "vscode": {
     "languageId": "python"
    }
   },
   "outputs": [
    {
     "ename": "TypeError",
     "evalue": "pizarra_vacia() takes from 0 to 1 positional arguments but 2 were given",
     "output_type": "error",
     "traceback": [
      "\u001b[1;31m---------------------------------------------------------------------------\u001b[0m",
      "\u001b[1;31mTypeError\u001b[0m                                 Traceback (most recent call last)",
      "Input \u001b[1;32mIn [29]\u001b[0m, in \u001b[0;36m<module>\u001b[1;34m\u001b[0m\n\u001b[1;32m----> 1\u001b[0m \u001b[43mpizarra_vacia\u001b[49m\u001b[43m(\u001b[49m\u001b[38;5;241;43m10\u001b[39;49m\u001b[43m,\u001b[49m\u001b[43m \u001b[49m\u001b[38;5;124;43m'\u001b[39;49m\u001b[38;5;124;43mgreen\u001b[39;49m\u001b[38;5;124;43m'\u001b[39;49m\u001b[43m)\u001b[49m\n",
      "\u001b[1;31mTypeError\u001b[0m: pizarra_vacia() takes from 0 to 1 positional arguments but 2 were given"
     ]
    }
   ],
   "source": [
    "pizarra_vacia(10, 'green')"
   ]
  },
  {
   "cell_type": "markdown",
   "metadata": {
    "id": "TvpBUNS6g8Gb"
   },
   "source": [
    "## Ejemplo: dibujar un triángulo arbitrario\n",
    "\n",
    "Todos sabemos (creo) que el triángulo es una figura geométrica *rígida*,  es decir es indeformable. Está es una importante propiedad utilizada, por ejemplo, en algunos sistemas constructivos.  \n",
    "\n",
    "La propiedad de ser indeformable es equivalente a la propiedad de que dados tres segmentos existe a lo más un único polígono de tres lados formado por esos segmentos. \n",
    "\n",
    "Más específicamente,  dadas tres medidas $a$, $b$, $c$ mayores que $0$ y tal que la suma de  cualesquiera dos de ellas es mayor que la tercera,  existe un único triángulo (salvo desplazamientos y rotaciones) con lados que tienen esas tres medidas.\n",
    "\n",
    "\n"
   ]
  },
  {
   "cell_type": "markdown",
   "metadata": {
    "id": "EMY30hVQ-9Im"
   },
   "source": [
    "¿Cómo construimos un triángulo con lados $a$, $b$, $c$?\n",
    "\n",
    "Debemos usar el teorema del coseno que es una generalización del teorema de Pitágoras.\n",
    "\n",
    "**Teorema del coseno.** *Dado un triángulo cualquiera, siendo $\\alpha$, $\\beta$, $\\gamma$ los ángulos, y $a$, $b$, $c$, los lados respectivamente opuestos a estos ángulos entonces:*\n",
    "$$\n",
    "c^{2}=a^{2}+b^{2}-2ab\\cos \\gamma.\n",
    "$$  \n",
    "\n",
    "Por lo tanto, podemos despejar los ángulos usando dos veces el teorema y el hecho de que la suma de los ángulos interiores de un triángulo es $180^º$.\n",
    "\n",
    "\\begin{align}\n",
    "a^{2}&=b^{2}+c^{2}-2bc\\cos \\alpha,\\\\\n",
    "b^{2}&=a^{2}+c^{2}-2ac\\cos \\beta. \\\\\n",
    "\\end{align}  \n",
    "En consecuencia,\n",
    "\\begin{align}\n",
    "\\cos \\alpha &= \\frac{b^{2}+c^{2}- a^{2}}{2bc}, \\\\\n",
    "\\cos \\beta &= \\frac{a^{2}+c^{2}- b^{2}}{2ac}.\\\\\n",
    "\\end{align} \n",
    "Por consiguiente, \n",
    "\\begin{align}\n",
    "\\alpha &= \\arccos\\left(\\frac{b^{2}+c^{2}- a^{2}}{2ab}\\right), \\tag{1}\\\\\n",
    "\\beta &= \\arccos\\left(\\frac{a^{2}+c^{2}- b^{2}}{2ac}\\right),\\tag{2}\\\\\n",
    "\\gamma &= 180 - \\alpha- \\beta.\\tag{3}\n",
    "\\end{align} \n"
   ]
  },
  {
   "cell_type": "markdown",
   "metadata": {
    "id": "oU79UODJ_ZnN"
   },
   "source": [
    "Intentemos ahora usando las fómulas (1), (2) y (3) dibujar un triángulo de lados $a$, $b$, $c$. Debemos tener en cuenta las siguientes consideraciones\n",
    "\n",
    "- Python no tiene en forma nativa la función $\\arccos(\\theta)$ y  debemos importar el módulo `math` para adquirirla.\n",
    "- Las funciones trigonométricas del módulo `math` tienen como argumentos ángulos en *radianes*. no en grados sexagesimales.\n",
    "\n",
    "Esto último no influye demasiado en las fórmulas. En realidad (1) y (2) quedan iguales y solo debemos tener cuadado con la fórmula (3) que pasaría a ser \n",
    "$$\n",
    "\\gamma = \\pi - \\alpha- \\beta.\\tag{3'}\n",
    "$$\n",
    "\n",
    "Lo más importante de la segunda observación es que como `turtle` maneja solo grados sexagesimales necesitamos funciones para convertir grados a radianes y radianes a grados.\n",
    "\n",
    "Comencemos,  y lo primero que debemos hacer es importar el módulo `math` y lo haremos de la siguiente manera:"
   ]
  },
  {
   "cell_type": "code",
   "execution_count": null,
   "metadata": {
    "id": "IsZJpairDB6X",
    "vscode": {
     "languageId": "python"
    }
   },
   "outputs": [],
   "source": [
    "from math import *"
   ]
  },
  {
   "cell_type": "markdown",
   "metadata": {
    "id": "qiVEPi3lDbUB"
   },
   "source": [
    "Esta forma de importar `math` permite traer todas las funciones y usarlas en forma sencilla. También importa algunas constantes importantes, como, por ejemplo, el valor aproximado de $\\pi$."
   ]
  },
  {
   "cell_type": "code",
   "execution_count": null,
   "metadata": {
    "colab": {
     "base_uri": "https://localhost:8080/"
    },
    "id": "wBn-j1RLDvyD",
    "outputId": "3534b697-6b15-460d-8949-62ce7d1596b5",
    "vscode": {
     "languageId": "python"
    }
   },
   "outputs": [
    {
     "name": "stdout",
     "output_type": "stream",
     "text": [
      "3.141592653589793\n",
      "-1.0\n",
      "1.2246467991473532e-16\n",
      "0.7071067811865476\n",
      "3.141592653589793\n",
      "1.5707963267948966\n",
      "0.0\n"
     ]
    }
   ],
   "source": [
    "print(pi)\n",
    "print(cos(pi)) # debería dar -1\n",
    "print(sin(pi)) # debería dar 0\n",
    "print(cos(pi/4)) # aproximadamente raíz de 2 sobre 2\n",
    "print(acos(-1)) # pi. arcocoseno es la función acos() de Python math\n",
    "print(acos(0)) # pi/2 \n",
    "print(acos(1)) # 0.0"
   ]
  },
  {
   "cell_type": "markdown",
   "metadata": {
    "id": "XOfZENjeF4fy"
   },
   "source": [
    "Veamos ahora las funciones para convertir grados a radianes y radianes a grados. Son muy sencillas:"
   ]
  },
  {
   "cell_type": "code",
   "execution_count": null,
   "metadata": {
    "id": "s6Ti-LjYGBWJ",
    "vscode": {
     "languageId": "python"
    }
   },
   "outputs": [],
   "source": [
    "def grad_a_rad(angulo_g):\n",
    "    return angulo_g * pi / 180\n",
    "\n",
    "def rad_a_grad(angulo_r):   \n",
    "    return angulo_r * 180 / pi "
   ]
  },
  {
   "cell_type": "markdown",
   "metadata": {
    "id": "mziwFbUYGxnL"
   },
   "source": [
    "Recordemos que el `return` indica que la función devuelve un valor. En el caso  de la función  `grad_a_rad()` recibe el valor de un ángulo en radianes, lo convierte a grados y lo devuelve. Ese valor que devuelve puede ser asignado a una variable que luego podrá ser utilizada. Por ejemplo,"
   ]
  },
  {
   "cell_type": "code",
   "execution_count": null,
   "metadata": {
    "colab": {
     "base_uri": "https://localhost:8080/"
    },
    "id": "TffyfHwjHXWD",
    "outputId": "30545ad4-0a24-46d7-8b45-9139c24ee8c1",
    "vscode": {
     "languageId": "python"
    }
   },
   "outputs": [
    {
     "name": "stdout",
     "output_type": "stream",
     "text": [
      "180.0 45.0\n"
     ]
    }
   ],
   "source": [
    "ang_1 = rad_a_grad(pi)\n",
    "ang_2 = rad_a_grad(pi/4)\n",
    "\n",
    "print(ang_1, ang_2)"
   ]
  },
  {
   "cell_type": "markdown",
   "metadata": {
    "id": "tWMkoP_0H-TK"
   },
   "source": [
    "Ya estamos en condiciones de definir  funciones que nos devuelvan los ángulos del triángulo. Podríamos definir tres funciones, pero será más sencillo hacer una función que devuelva tres valores: "
   ]
  },
  {
   "cell_type": "code",
   "execution_count": null,
   "metadata": {
    "id": "zvhtvl8sIOXC",
    "vscode": {
     "languageId": "python"
    }
   },
   "outputs": [],
   "source": [
    "def angulos_triangulo(a, b, c):\n",
    "    # pre: a, b, c números tq a + b > c, a + c > b, b + c > a\n",
    "    # post: devuelve los ángulos alfa, beta, gama del triángulo abc en radianes\n",
    "    alfa = acos((b**2 + c**2 - a**2) / (2*b*c))\n",
    "    beta = acos((a**2 + c**2 - b**2) / (2*a*c))\n",
    "    gama = pi - alfa - beta\n",
    "    return alfa, beta, gama"
   ]
  },
  {
   "cell_type": "markdown",
   "metadata": {
    "id": "9TsonUcBJuhl"
   },
   "source": [
    "Ahora podemos definir la función para dibujar un triángulo  de lados $a$, $b$, $c$:"
   ]
  },
  {
   "cell_type": "code",
   "execution_count": null,
   "metadata": {
    "id": "x6tYsmS8J9-H",
    "vscode": {
     "languageId": "python"
    }
   },
   "outputs": [],
   "source": [
    "def triangulo(a, b, c):\n",
    "    # pre: a, b, c números a, b, c > 0 tq a + b > c, a + c > b, b + c > a\n",
    "    # post: dibuja el triángulo abc\n",
    "    alfa, beta, gama = angulos_triangulo(a, b, c) # ángulos del triángulo abc en radianes\n",
    "    ang_a, ang_b, ang_c = rad_a_grad(alfa), rad_a_grad(beta), rad_a_grad(gama) #  ángulos en grado sexagesimales\n",
    "    print(ang_a, ang_b,  ang_c)\n",
    "    forward(a)\n",
    "    right(180 - ang_c)\n",
    "    forward(b)\n",
    "    right(180 - ang_a)\n",
    "    forward(c)\n",
    "    right(180 - ang_b)\n",
    "\n"
   ]
  },
  {
   "cell_type": "markdown",
   "metadata": {
    "id": "kP2WyxIhLWh5"
   },
   "source": [
    "Observen que estamos usando funciones dentro de funciones y  el código lejos de ser \"código spaghetti\" está modularizado. \n",
    "\n",
    "Algunas funciones no las hemos utilizado, pero no importa, el objetivo es que el código sea lo más claro posible y también se busca que sea reutilizable y generalizable. \n",
    "\n",
    "Probemos dibujar triángulos:"
   ]
  },
  {
   "cell_type": "code",
   "execution_count": null,
   "metadata": {
    "colab": {
     "base_uri": "https://localhost:8080/",
     "height": 539
    },
    "id": "p_5U6PTZeQ8v",
    "outputId": "d4f34c39-be0b-4172-f481-f0280303d8f8",
    "vscode": {
     "languageId": "python"
    }
   },
   "outputs": [
    {
     "data": {
      "text/html": [
       "\n",
       "      <svg width=\"800\" height=\"500\">\n",
       "        <rect width=\"100%\" height=\"100%\" fill=\"white\"/>\n",
       "        <line x1=\"400\" y1=\"250\" x2=\"550.0\" y2=\"250.0\" stroke-linecap=\"round\" style=\"stroke:black;stroke-width:4\"/><line x1=\"550.0\" y1=\"250.0\" x2=\"475.0\" y2=\"379.904\" stroke-linecap=\"round\" style=\"stroke:black;stroke-width:4\"/><line x1=\"475.0\" y1=\"379.904\" x2=\"400.0\" y2=\"250.0\" stroke-linecap=\"round\" style=\"stroke:black;stroke-width:4\"/>\n",
       "        <g visibility=hidden transform=\"rotate(90.0,400.0,250.0) translate(382.0, 232.0)\">\n",
       "<path style=\" stroke:none;fill-rule:evenodd;fill:black;fill-opacity:1;\" d=\"M 18.214844 0.632812 C 16.109375 1.800781 15.011719 4.074219 15.074219 7.132812 L 15.085938 7.652344 L 14.785156 7.496094 C 13.476562 6.824219 11.957031 6.671875 10.40625 7.066406 C 8.46875 7.550781 6.515625 9.15625 4.394531 11.992188 C 3.0625 13.777344 2.679688 14.636719 3.042969 15.027344 L 3.15625 15.152344 L 3.519531 15.152344 C 4.238281 15.152344 4.828125 14.886719 8.1875 13.039062 C 9.386719 12.378906 10.371094 11.839844 10.378906 11.839844 C 10.386719 11.839844 10.355469 11.929688 10.304688 12.035156 C 9.832031 13.09375 9.257812 14.820312 8.96875 16.078125 C 7.914062 20.652344 8.617188 24.53125 11.070312 27.660156 C 11.351562 28.015625 11.363281 27.914062 10.972656 28.382812 C 8.925781 30.84375 7.945312 33.28125 8.238281 35.1875 C 8.289062 35.527344 8.28125 35.523438 8.917969 35.523438 C 10.941406 35.523438 13.074219 34.207031 15.136719 31.6875 C 15.359375 31.417969 15.328125 31.425781 15.5625 31.574219 C 16.292969 32.042969 18.023438 32.964844 18.175781 32.964844 C 18.335938 32.964844 19.941406 32.210938 20.828125 31.71875 C 20.996094 31.625 21.136719 31.554688 21.136719 31.558594 C 21.203125 31.664062 21.898438 32.414062 22.222656 32.730469 C 23.835938 34.300781 25.5625 35.132812 27.582031 35.300781 C 27.90625 35.328125 27.9375 35.308594 28.007812 34.984375 C 28.382812 33.242188 27.625 30.925781 25.863281 28.425781 L 25.542969 27.96875 L 25.699219 27.785156 C 28.945312 23.960938 29.132812 18.699219 26.257812 11.96875 L 26.207031 11.84375 L 27.945312 12.703125 C 31.53125 14.476562 32.316406 14.800781 33.03125 14.800781 C 33.976562 14.800781 33.78125 13.9375 32.472656 12.292969 C 28.519531 7.355469 25.394531 5.925781 21.921875 7.472656 L 21.558594 7.636719 L 21.578125 7.542969 C 21.699219 6.992188 21.761719 5.742188 21.699219 5.164062 C 21.496094 3.296875 20.664062 1.964844 19.003906 0.855469 C 18.480469 0.503906 18.457031 0.5 18.214844 0.632812\"/>\n",
       "</g>\n",
       "      </svg>\n",
       "    "
      ],
      "text/plain": [
       "<IPython.core.display.HTML object>"
      ]
     },
     "metadata": {},
     "output_type": "display_data"
    },
    {
     "name": "stdout",
     "output_type": "stream",
     "text": [
      "60.00000000000001 60.00000000000001 59.999999999999986\n"
     ]
    }
   ],
   "source": [
    "pizarra_vacia()\n",
    "triangulo(150, 150, 150) # triángulo equilátero\n",
    "hideturtle()"
   ]
  },
  {
   "cell_type": "code",
   "execution_count": null,
   "metadata": {
    "colab": {
     "base_uri": "https://localhost:8080/",
     "height": 539
    },
    "id": "JuRfdUCtLZE5",
    "outputId": "985be6a7-633a-470d-af63-a2b37fc81ed3",
    "vscode": {
     "languageId": "python"
    }
   },
   "outputs": [
    {
     "data": {
      "text/html": [
       "\n",
       "      <svg width=\"800\" height=\"500\">\n",
       "        <rect width=\"100%\" height=\"100%\" fill=\"white\"/>\n",
       "        <line x1=\"400\" y1=\"250\" x2=\"700.0\" y2=\"250.0\" stroke-linecap=\"round\" style=\"stroke:black;stroke-width:4\"/><line x1=\"700.0\" y1=\"250.0\" x2=\"550.0\" y2=\"382.288\" stroke-linecap=\"round\" style=\"stroke:black;stroke-width:4\"/><line x1=\"550.0\" y1=\"382.288\" x2=\"400.0\" y2=\"250.0\" stroke-linecap=\"round\" style=\"stroke:black;stroke-width:4\"/>\n",
       "        <g visibility=hidden transform=\"rotate(90.0,400.0,250.0) translate(382.0, 232.0)\">\n",
       "<path style=\" stroke:none;fill-rule:evenodd;fill:black;fill-opacity:1;\" d=\"M 18.214844 0.632812 C 16.109375 1.800781 15.011719 4.074219 15.074219 7.132812 L 15.085938 7.652344 L 14.785156 7.496094 C 13.476562 6.824219 11.957031 6.671875 10.40625 7.066406 C 8.46875 7.550781 6.515625 9.15625 4.394531 11.992188 C 3.0625 13.777344 2.679688 14.636719 3.042969 15.027344 L 3.15625 15.152344 L 3.519531 15.152344 C 4.238281 15.152344 4.828125 14.886719 8.1875 13.039062 C 9.386719 12.378906 10.371094 11.839844 10.378906 11.839844 C 10.386719 11.839844 10.355469 11.929688 10.304688 12.035156 C 9.832031 13.09375 9.257812 14.820312 8.96875 16.078125 C 7.914062 20.652344 8.617188 24.53125 11.070312 27.660156 C 11.351562 28.015625 11.363281 27.914062 10.972656 28.382812 C 8.925781 30.84375 7.945312 33.28125 8.238281 35.1875 C 8.289062 35.527344 8.28125 35.523438 8.917969 35.523438 C 10.941406 35.523438 13.074219 34.207031 15.136719 31.6875 C 15.359375 31.417969 15.328125 31.425781 15.5625 31.574219 C 16.292969 32.042969 18.023438 32.964844 18.175781 32.964844 C 18.335938 32.964844 19.941406 32.210938 20.828125 31.71875 C 20.996094 31.625 21.136719 31.554688 21.136719 31.558594 C 21.203125 31.664062 21.898438 32.414062 22.222656 32.730469 C 23.835938 34.300781 25.5625 35.132812 27.582031 35.300781 C 27.90625 35.328125 27.9375 35.308594 28.007812 34.984375 C 28.382812 33.242188 27.625 30.925781 25.863281 28.425781 L 25.542969 27.96875 L 25.699219 27.785156 C 28.945312 23.960938 29.132812 18.699219 26.257812 11.96875 L 26.207031 11.84375 L 27.945312 12.703125 C 31.53125 14.476562 32.316406 14.800781 33.03125 14.800781 C 33.976562 14.800781 33.78125 13.9375 32.472656 12.292969 C 28.519531 7.355469 25.394531 5.925781 21.921875 7.472656 L 21.558594 7.636719 L 21.578125 7.542969 C 21.699219 6.992188 21.761719 5.742188 21.699219 5.164062 C 21.496094 3.296875 20.664062 1.964844 19.003906 0.855469 C 18.480469 0.503906 18.457031 0.5 18.214844 0.632812\"/>\n",
       "</g>\n",
       "      </svg>\n",
       "    "
      ],
      "text/plain": [
       "<IPython.core.display.HTML object>"
      ]
     },
     "metadata": {},
     "output_type": "display_data"
    },
    {
     "name": "stdout",
     "output_type": "stream",
     "text": [
      "97.18075578145829 41.40962210927086 41.40962210927085\n"
     ]
    }
   ],
   "source": [
    "pizarra_vacia()\n",
    "triangulo(300, 200, 200) # triángulo isosceles\n",
    "hideturtle()"
   ]
  },
  {
   "cell_type": "code",
   "execution_count": null,
   "metadata": {
    "colab": {
     "base_uri": "https://localhost:8080/",
     "height": 539
    },
    "id": "BjjVHzb0eD9r",
    "outputId": "9c8bb335-473d-442c-f197-97b3c473d51c",
    "vscode": {
     "languageId": "python"
    }
   },
   "outputs": [
    {
     "data": {
      "text/html": [
       "\n",
       "      <svg width=\"800\" height=\"500\">\n",
       "        <rect width=\"100%\" height=\"100%\" fill=\"white\"/>\n",
       "        <line x1=\"400\" y1=\"250\" x2=\"630.0\" y2=\"250.0\" stroke-linecap=\"round\" style=\"stroke:black;stroke-width:4\"/><line x1=\"630.0\" y1=\"250.0\" x2=\"297.609\" y2=\"359.618\" stroke-linecap=\"round\" style=\"stroke:black;stroke-width:4\"/><line x1=\"297.609\" y1=\"359.618\" x2=\"400.0\" y2=\"250.0\" stroke-linecap=\"round\" style=\"stroke:black;stroke-width:4\"/>\n",
       "        <g visibility=hidden transform=\"rotate(90.0,400.0,250.0) translate(382.0, 232.0)\">\n",
       "<path style=\" stroke:none;fill-rule:evenodd;fill:black;fill-opacity:1;\" d=\"M 18.214844 0.632812 C 16.109375 1.800781 15.011719 4.074219 15.074219 7.132812 L 15.085938 7.652344 L 14.785156 7.496094 C 13.476562 6.824219 11.957031 6.671875 10.40625 7.066406 C 8.46875 7.550781 6.515625 9.15625 4.394531 11.992188 C 3.0625 13.777344 2.679688 14.636719 3.042969 15.027344 L 3.15625 15.152344 L 3.519531 15.152344 C 4.238281 15.152344 4.828125 14.886719 8.1875 13.039062 C 9.386719 12.378906 10.371094 11.839844 10.378906 11.839844 C 10.386719 11.839844 10.355469 11.929688 10.304688 12.035156 C 9.832031 13.09375 9.257812 14.820312 8.96875 16.078125 C 7.914062 20.652344 8.617188 24.53125 11.070312 27.660156 C 11.351562 28.015625 11.363281 27.914062 10.972656 28.382812 C 8.925781 30.84375 7.945312 33.28125 8.238281 35.1875 C 8.289062 35.527344 8.28125 35.523438 8.917969 35.523438 C 10.941406 35.523438 13.074219 34.207031 15.136719 31.6875 C 15.359375 31.417969 15.328125 31.425781 15.5625 31.574219 C 16.292969 32.042969 18.023438 32.964844 18.175781 32.964844 C 18.335938 32.964844 19.941406 32.210938 20.828125 31.71875 C 20.996094 31.625 21.136719 31.554688 21.136719 31.558594 C 21.203125 31.664062 21.898438 32.414062 22.222656 32.730469 C 23.835938 34.300781 25.5625 35.132812 27.582031 35.300781 C 27.90625 35.328125 27.9375 35.308594 28.007812 34.984375 C 28.382812 33.242188 27.625 30.925781 25.863281 28.425781 L 25.542969 27.96875 L 25.699219 27.785156 C 28.945312 23.960938 29.132812 18.699219 26.257812 11.96875 L 26.207031 11.84375 L 27.945312 12.703125 C 31.53125 14.476562 32.316406 14.800781 33.03125 14.800781 C 33.976562 14.800781 33.78125 13.9375 32.472656 12.292969 C 28.519531 7.355469 25.394531 5.925781 21.921875 7.472656 L 21.558594 7.636719 L 21.578125 7.542969 C 21.699219 6.992188 21.761719 5.742188 21.699219 5.164062 C 21.496094 3.296875 20.664062 1.964844 19.003906 0.855469 C 18.480469 0.503906 18.457031 0.5 18.214844 0.632812\"/>\n",
       "</g>\n",
       "      </svg>\n",
       "    "
      ],
      "text/plain": [
       "<IPython.core.display.HTML object>"
      ]
     },
     "metadata": {},
     "output_type": "display_data"
    },
    {
     "name": "stdout",
     "output_type": "stream",
     "text": [
      "28.700394505681036 133.0478335924726 18.251771901846347\n"
     ]
    }
   ],
   "source": [
    "pizarra_vacia()\n",
    "triangulo(230, 350, 150) # triángulo escaleno\n",
    "hideturtle()"
   ]
  },
  {
   "cell_type": "markdown",
   "metadata": {
    "id": "ERly-VYEfPh2"
   },
   "source": [
    "Por supuesto que podemos extender la función y dibujar triangulos en diferentes orientaciones, con diferentes colores, etc. Dejamos eso a ustedes por si quieren experimentar.  \n",
    "\n",
    "Otra forma de dibujar,  más lenta pero interesante, es avanzando de a 1 y usar iteraciones. Para eso también modularizamos y definimos nuestra propia versión de la función `forward()` utilizando la instrucción `forward(1)`:"
   ]
  },
  {
   "cell_type": "code",
   "execution_count": null,
   "metadata": {
    "id": "qpX03t6fgp2S",
    "vscode": {
     "languageId": "python"
    }
   },
   "outputs": [],
   "source": [
    "def avanzar(pixeles):\n",
    "    # pre: pixeles entero >= 0\n",
    "    # post: avanza pixeles en la dirección actual\n",
    "    for _ in range(pixeles):\n",
    "        forward(1) "
   ]
  },
  {
   "cell_type": "markdown",
   "metadata": {
    "id": "of2TzyAe2w_0"
   },
   "source": [
    "Luego podemos definir otra función que dibuja triángulos:"
   ]
  },
  {
   "cell_type": "code",
   "execution_count": null,
   "metadata": {
    "id": "jJNKN3bXhD3-",
    "vscode": {
     "languageId": "python"
    }
   },
   "outputs": [],
   "source": [
    "def triangulo_lento(a, b, c):\n",
    "    # pre: a, b, c números tq a + b > c, a + c > b, b + c > a\n",
    "    # post: dibuja el triángulo abc\n",
    "    alfa, beta, gama = angulos_triangulo(a, b, c) # ángulos del triángulo abc en radianes\n",
    "    ang_a, ang_b, ang_c = rad_a_grad(alfa), rad_a_grad(beta), rad_a_grad(gama) #  ángulos en grado sexagesimales\n",
    "    print(ang_a, ang_b,  ang_c)\n",
    "    avanzar(a)\n",
    "    right(180 - ang_c)\n",
    "    avanzar(b)\n",
    "    right(180 - ang_a)\n",
    "    avanzar(c)\n",
    "    right(180 - ang_b)"
   ]
  },
  {
   "cell_type": "markdown",
   "metadata": {
    "id": "oY96ln8Phrr8"
   },
   "source": [
    "Probemosla:"
   ]
  },
  {
   "cell_type": "code",
   "execution_count": null,
   "metadata": {
    "id": "gz3f68mLhwk4",
    "vscode": {
     "languageId": "python"
    }
   },
   "outputs": [],
   "source": [
    "pizarra_vacia(10) # la aceleramos un poco\n",
    "triangulo_lento(230, 350, 150) # triángulo escaleno\n",
    "hideturtle()"
   ]
  },
  {
   "cell_type": "markdown",
   "metadata": {
    "id": "FXniDFAIkMtE"
   },
   "source": [
    "La función `getheading()` devuelve el ángulo hacia donde apunta la tortuga, la función `goto()` envía la tortuga a las coordenada especificadas. las funciones `getx()`, `gety()` devuelven las coordenadas $x$ e $y$, respectivamente, de la posición de la tortuga. Utilizando estas funciones resolver el siguiente ejercicio.\n",
    "\n",
    "**Ejercicio.** Definir la función `avanzar()` sin usar `forward()` ni `forward(1)`. \n",
    "\n",
    "*Observación.* No es difícil, usando un poco de trigonometría, dibujar un segmento que parta de cierta posición y vaya en la dirección correcta. Primero deberías pensar en este problema. Un poco más complicado es darse cuenta de como dibujar el segmento con la longitud deseada.   "
   ]
  },
  {
   "cell_type": "code",
   "execution_count": null,
   "metadata": {
    "id": "AP1eiaA0iwgx",
    "vscode": {
     "languageId": "python"
    }
   },
   "outputs": [],
   "source": [
    "def avanzar(pixeles):\n",
    "    # pre: pixeles entero >= 0\n",
    "    # post: avanza pixeles en la dirección actual\n",
    "    pass  # reemplazar `pass` (que no hace nada) por líneas de código\n",
    "    angulo = getheading()\n",
    "    ang_rad = grad_a_rad(angulo)\n",
    "    x0, y0 = getx(), gety() # coordenadas iniciales\n",
    "    for x in range(int(pixeles * cos(ang_rad))):\n",
    "        goto(x0 + x, y0 + x * tan(ang_rad)) \n",
    "    # La función colapsa si angulo es cercano a 90º.\n",
    "\n",
    "pizarra_vacia(8) # la aceleramos un poco\n",
    "face(45)\n",
    "avanzar(100)\n",
    "hideturtle()\n"
   ]
  }
 ],
 "metadata": {
  "colab": {
   "collapsed_sections": [
    "sAZ7XTmL3KcV",
    "DMJdoaOpx-Oa"
   ],
   "name": " AyP - Clase del 2022-03-28 - El artista en Python Colab (2).ipynb",
   "provenance": []
  },
  "kernelspec": {
   "display_name": "Python 3",
   "name": "python3"
  },
  "language_info": {
   "codemirror_mode": {
    "name": "ipython",
    "version": 3
   },
   "file_extension": ".py",
   "mimetype": "text/x-python",
   "name": "python",
   "nbconvert_exporter": "python",
   "pygments_lexer": "ipython3",
   "version": "3.9.6"
  }
 },
 "nbformat": 4,
 "nbformat_minor": 0
}