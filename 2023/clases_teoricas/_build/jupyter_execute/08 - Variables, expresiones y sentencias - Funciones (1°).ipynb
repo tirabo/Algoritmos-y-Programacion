{
 "cells": [
  {
   "cell_type": "markdown",
   "metadata": {
    "id": "cqwOuvHlYGKz"
   },
   "source": [
    "# Variables, expresiones y sentencias"
   ]
  },
  {
   "cell_type": "markdown",
   "metadata": {
    "id": "uaYJ-f7lYsNo"
   },
   "source": [
    "## 1. Variables y asignaciones\n",
    "\n",
    "En programación, una variable está formada por un espacio en el sistema de almacenaje (memoria principal de un ordenador) y un nombre simbólico (un identificador) que está asociado a dicho espacio. Ese espacio contiene una cantidad de información conocida o desconocida, es decir un valor.\n",
    "\n",
    "Las variables de un programa describen el *estado* del programa. Los estados describen completamente al programa, al menos en lo que se refiere a los resultados que se obtienen y a la interacción con el mundo exterior u otras componentes. \n",
    "\n",
    "En Python la forma de crear variables es crear un nombre, el de la variable, y asignarle un valor. Una *asignación* crea una nueva variable y por medio del símbolo `=` le da un valor:"
   ]
  },
  {
   "cell_type": "code",
   "execution_count": 1,
   "metadata": {
    "id": "g0WNnlM4Y-eV"
   },
   "outputs": [],
   "source": [
    "mensaje = 'Y ahora algo completamente diferente'\n",
    "n = 17\n",
    "pi = 3.1415926535897932"
   ]
  },
  {
   "cell_type": "markdown",
   "metadata": {
    "id": "ANqX88jrZQEm"
   },
   "source": [
    "Este ejemplo hace tres asignaciones. La primera asigna una cadena a una nueva variable llamada `mensaje`; la segunda asigna el número entero `17` a `n` y  la tercera asigna el valor (aproximado) de $\\pi$ a `pi`.\n"
   ]
  },
  {
   "cell_type": "code",
   "execution_count": 2,
   "metadata": {
    "colab": {
     "base_uri": "https://localhost:8080/"
    },
    "executionInfo": {
     "elapsed": 258,
     "status": "ok",
     "timestamp": 1630351113246,
     "user": {
      "displayName": "Alejandro Leopoldo Tiraboschi",
      "photoUrl": "https://lh3.googleusercontent.com/a-/AOh14Gir321Aip7u2JtD7LMLQbY3a1oHsAD11CVed_UbeFc=s64",
      "userId": "02370857492204546552"
     },
     "user_tz": 180
    },
    "id": "L71mMpCvfjBM",
    "outputId": "ff33efe5-0161-4ddf-8d5d-4b846ddaca4b"
   },
   "outputs": [
    {
     "name": "stdout",
     "output_type": "stream",
     "text": [
      "Y ahora algo completamente diferente\n",
      "17\n",
      "3.141592653589793\n",
      "6.283185307179586\n"
     ]
    }
   ],
   "source": [
    "print(mensaje)\n",
    "print(n)\n",
    "print(pi)\n",
    "print(2 * pi)"
   ]
  },
  {
   "cell_type": "markdown",
   "metadata": {
    "id": "QHDk0vTwe-7w"
   },
   "source": [
    "## 2.  Nombres de variables y palabras reservadas\n",
    "Como norma general, los programadores eligen nombres significativos para sus\n",
    "variables: esto permite documentar para qué se usa la variable.\n",
    "\n",
    "Los nombres de las variables pueden tener una longitud arbitraria. Pueden estar\n",
    "formados por letras y números, pero deben comenzar con una letra o un guión bajo (`_`). Aunque es aceptable usar mayúsculas, por convención no lo haremos. Si lo hacés, recuerdá que la distinción es importante: `Bruno` y `bruno` son dos variables diferentes.\n",
    "\n",
    "El guión bajo (`_`) también es legal y se utiliza a menudo para separar nombres con múltiples palabras, como `mi_nombre` o `precio_del_cafe_colombiano` o incluso el caracter simple se utiliza como variable.\n",
    "\n"
   ]
  },
  {
   "cell_type": "code",
   "execution_count": 3,
   "metadata": {
    "id": "odSLjpbmfJHx"
   },
   "outputs": [],
   "source": [
    "Bruno_dias = 5\n",
    "bruno = 6\n",
    "_ = 38\n",
    "_empleado = 'Juan Pérez'"
   ]
  },
  {
   "cell_type": "markdown",
   "metadata": {
    "id": "CP0Gen94uybc"
   },
   "source": [
    "\n",
    "Si intentas darle a una variable un nombre ilegal, obtendrás un error de sintaxis."
   ]
  },
  {
   "cell_type": "code",
   "execution_count": 4,
   "metadata": {
    "id": "SUUMtG4puxVK"
   },
   "outputs": [
    {
     "ename": "SyntaxError",
     "evalue": "invalid syntax (4245090895.py, line 1)",
     "output_type": "error",
     "traceback": [
      "\u001b[1;36m  Input \u001b[1;32mIn [4]\u001b[1;36m\u001b[0m\n\u001b[1;33m    76trombones = \"gran desfile\"\u001b[0m\n\u001b[1;37m      ^\u001b[0m\n\u001b[1;31mSyntaxError\u001b[0m\u001b[1;31m:\u001b[0m invalid syntax\n"
     ]
    }
   ],
   "source": [
    "76trombones = \"gran desfile\""
   ]
  },
  {
   "cell_type": "code",
   "execution_count": null,
   "metadata": {
    "id": "8f5wQxyzuxfz"
   },
   "outputs": [],
   "source": [
    "mas$ = 1000000"
   ]
  },
  {
   "cell_type": "code",
   "execution_count": null,
   "metadata": {
    "id": "riqPVtkTuxqF"
   },
   "outputs": [],
   "source": [
    "def = \"Curso de Programación 101\""
   ]
  },
  {
   "cell_type": "markdown",
   "metadata": {
    "id": "t9EzTKdXfQxU"
   },
   "source": [
    "`76trombones` es ilegal porque no comienza por una letra o guión bajo. `mas$` es ilegal porque contiene un carácter ilegal, el signo pesos. Pero ¿qué tiene de malo `def`?\n",
    "\n",
    "Resulta que `def` es una de las palabras reservadas de Python. El lenguaje\n",
    "usa las palabras reservadas para definir sus reglas y estructura, y no pueden\n",
    "usarse como nombres de variables.\n",
    "\n",
    "Python 3 tiene las siguientes palabras reservadas:\n",
    "\n",
    "|      |     |     |      |     |\n",
    "| :------------- | :---------- | :----------- | :----------- | :----------- | \n",
    "| `False`| `class`| `finally`| `is`| `return`| \n",
    "| `None`| `continue`| `for`| `lambda`| `try`|\n",
    "| `True`| `def`| `from`| `nonlocal`| `while`| \n",
    "| `and`| `del`| `global`| `not`| `with`|\n",
    "| `as`| `elif`| `if`| `or`| `yield`|\n",
    "| `assert`| `else`| `import`| `pass`| \n",
    "| `break`| `except`| `in`| `raise`| \n",
    "\n",
    "Tal vez quieras mantener esta lista a mano. \n",
    "\n",
    "Si el intérprete se queja de alguno de sus nombres de variable, y  no sabés por qué, comprobá si está en esta lista.\n"
   ]
  },
  {
   "cell_type": "markdown",
   "metadata": {
    "id": "DD3tWboOfXLj"
   },
   "source": [
    "\n",
    "\n",
    "## 3. Expresiones y sentencias\n",
    "\n",
    "Una *expresión* es una combinación de valores, variables y operadores. Un valor en sí mismo se considera una expresión y, por lo tanto, una variable también es una expresión. \n",
    "\n",
    "Por ejemplo,  si hacemos la asignación\n",
    "\n"
   ]
  },
  {
   "cell_type": "code",
   "execution_count": null,
   "metadata": {
    "id": "UOBAuFbqaSiu"
   },
   "outputs": [],
   "source": [
    "n = 17"
   ]
  },
  {
   "cell_type": "markdown",
   "metadata": {
    "id": "OBqedtTyaZNs"
   },
   "source": [
    "\n",
    "Entonces, las siguientes son todas expresiones legales:\n",
    "```\n",
    "42\n",
    "n\n",
    "n + 25\n",
    "```\n",
    "Cuando escribís una expresión en el prompt o en una celda de código y la ejecutás, el intérprete la evalúa, lo que significa que encuentra el valor de la expresión. En este ejemplo, en la primer línea el intérprete sabe que hay un valor `42`.  En la tercera línea  `n` tiene el valor `17` y en la última `n + 25` tiene el valor `42`.\n",
    "\n",
    "Una *sentencia* es una instrucción que puede ejecutar el intérprete de Python. Hemos visto dos tipos de sentencias: `print` y la asignación."
   ]
  },
  {
   "cell_type": "code",
   "execution_count": null,
   "metadata": {
    "id": "CgZrBaJ6fRIr"
   },
   "outputs": [],
   "source": [
    "print(1)\n",
    "x = 2\n",
    "print(x)"
   ]
  },
  {
   "cell_type": "markdown",
   "metadata": {
    "id": "c2cOnko2flTg"
   },
   "source": [
    "Cuando escibís una sentencia en la lı́nea de comandos, Python la ejecuta\n",
    "y muestra el resultado (si lo hay). En  el caso de Jupyter Notebooks, solo se muestra el valor de la última sentencia en la secuencia. \n",
    "\n",
    "Las sentencias de asignación no entregan ningún resultado.\n",
    "\n"
   ]
  },
  {
   "cell_type": "code",
   "execution_count": null,
   "metadata": {
    "id": "PEyJ7qU1gV1A"
   },
   "outputs": [],
   "source": [
    "millas = 26.2\n",
    "millas * 1.61\n",
    "millas * 2"
   ]
  },
  {
   "cell_type": "markdown",
   "metadata": {
    "id": "OVulQn54jx4X"
   },
   "source": [
    "## 4. Operaciones de cadena\n",
    "\n",
    "Recordemos que las cadenas o strings representan porciones de texto. Toda cadena es una serie de símbolos alfanuméricos sucesivos delimitados por  comillas simples o dobles. \n",
    "\n",
    "Hablaremos en esta sección de que tipo de operaciones se pueden hacer con las cadenas. \n",
    "\n",
    "En general, no es posible realizar operaciones matemáticas con cadenas, incluso si las cadenas parecen números, por lo que lo siguiente es ilegal:\n",
    "\n",
    "\n",
    "```\n",
    "'2' * '3'  \n",
    "'huevos' / 'fácil'  \n",
    "'tercero' * 'un amuleto'\n",
    "```\n",
    "Pero hay dos excepciones, `+` y `*`.\n",
    "\n",
    "El operador `+` realiza la concatenación de cadenas, lo que significa que une las cadenas vinculándolas de un extremo a otro. Por ejemplo:\n"
   ]
  },
  {
   "cell_type": "code",
   "execution_count": null,
   "metadata": {
    "id": "cBVGO_ORkPlY"
   },
   "outputs": [],
   "source": [
    "primero = 'sobre'\n",
    "segundo = 'todo'\n",
    "print(primero + segundo)"
   ]
  },
  {
   "cell_type": "markdown",
   "metadata": {
    "id": "WS1G6VcKkVxr"
   },
   "source": [
    "\n",
    "El operador `*` también trabaja con cadenas; realiza repetición. Por ejemplo, `'Spam' * 3` es `'SpamSpamSpam'`. Si uno de los valores es una cadena, el otro debe ser un número entero.\n",
    "\n"
   ]
  },
  {
   "cell_type": "code",
   "execution_count": null,
   "metadata": {
    "id": "GnBTaujJ5bbV"
   },
   "outputs": [],
   "source": [
    "print('Spam' * 3)\n",
    "print(2 * 'Spam')"
   ]
  },
  {
   "cell_type": "markdown",
   "metadata": {
    "id": "1bdm-jqL5tkN"
   },
   "source": [
    "Este uso de `+` y `*` tiene sentido por analogía con la suma y la multiplicación. Así como `4 * 3` es equivalente a `4 + 4 + 4`, esperamos que `'Spam' * 3` sea lo mismo que `'Spam' + 'Spam' + 'Spam'`, y lo es. Hay muchas propiedades de la suma y multiplicación de enteros  que se aplican a la suma y multiplicación de cadenas. Por ejemplo, las asociatividad de la suma vale para ambos contextos.  \n",
    "\n",
    "También existe un elemento neutro de la suma y  es la _cadena vacía_ `''`. \n",
    "\n",
    "Por otro lado, la conmutatividad no es una propiedad que vale para la concatenación de cadenas ¿Podés pensar en otra propiedad que tenga la suma de enteros y que no tenga la concatenación de cadenas?"
   ]
  },
  {
   "cell_type": "markdown",
   "metadata": {
    "id": "QOX1Y2S7lzKF"
   },
   "source": [
    "\n",
    "## 5. Comentarios de Python\n",
    "\n",
    "A medida que los programas se hacen más grandes y complicados, se vuelven más difíciles de leer. Los lenguajes formales son densos y, a menudo, es difícil mirar un fragmento de código y averiguar qué está haciendo o por qué.\n",
    "\n",
    "Por esta razón, es una buena idea agregar anotacioness a tus programas para explicar en lenguaje natural lo que está haciendo el programa. Estas anotaciones o notas se denominan _comentarios_ y en Python comienzan con el símbolo `#`:\n",
    "```\n",
    "# calcula el porcentaje de la hora que ha transcurrido\n",
    "porcentaje = (minuto * 100) / 60\n",
    "```\n",
    "En este caso, el comentario aparece en una línea aparte. También se pueden poner comentarios al final de una línea:\n",
    "\n",
    "```\n",
    "porcentaje = (minuto * 100) / 60 # porcentaje de una hora\n",
    "```\n",
    "\n",
    "Todo, desde el `#` hasta el final de la línea, se ignora; no tiene ningún efecto en la ejecución del programa.\n",
    "\n",
    "Los comentarios son más útiles cuando documentan características no obvias del código. Es razonable suponer que el lector del código puede averiguar _qué_ hace  y es útil explicar _por qué._\n",
    "\n",
    "Este comentario es redundante e inútil:\n",
    "```\n",
    "v = 5 # asignar 5 a v\n",
    "```\n",
    "\n",
    "Este comentario contiene información útil que no está en el código:\n",
    "```\n",
    "v = 5  # velocidad en metros / segundo.\n",
    "```\n",
    "\n",
    "Los buenos nombres de variables pueden reducir la necesidad de comentarios, pero los nombres largos pueden dificultar la lectura de expresiones complejas, por lo que se debe ser cuidadoso y usar buen criterio para darle nombres a las variables.\n",
    "\n"
   ]
  },
  {
   "cell_type": "markdown",
   "metadata": {
    "id": "0V2RuOHykqpv"
   },
   "source": [
    "## 6. Depuración\n",
    "\n",
    "Pueden ocurrir tres tipos de errores en un programa: errores de sintaxis, errores de tiempo de ejecución y errores semánticos. Es útil distinguirlos para localizarlos más rápidamente.\n",
    "\n",
    "**Error de sintaxis:** \"Sintaxis\" se refiere a la estructura de un programa y las reglas sobre esa estructura. Por ejemplo, los paréntesis deben venir en pares coincidentes, por lo que `(1 + 2)` es legal, pero `8)` es un error de sintaxis.\n",
    "\n",
    "Si hay un error de sintaxis en cualquier parte de tu programa, Python muestra un mensaje de error y se cierra, y no podrá ejecutar el programa.\n",
    "\n",
    "Durante las primeras semanas de aprendizaje en programación, es posible que uno dedique mucho tiempo a rastrear errores de sintaxis. A medida que se gane experiencia, se cometerán menos errores y se los encontrará más rápido.\n",
    "\n",
    "**Error de tiempo de ejecución:** el segundo tipo de error es un error de tiempo de ejecución, llamado así porque el error no aparece hasta que el programa ha comenzado a ejecutarse. Estos errores también se denominan _excepciones_ porque suelen indicar que ha sucedido algo excepcional (y malo).\n",
    "\n",
    "Los errores de tiempo de ejecución son raros en los programas simples que veremos en las primeras clases, por lo que puede pasar un tiempo antes de que encuentres uno.\n",
    "\n",
    "**Error semántico:** el tercer tipo de error es \"semántico\", que significa relacionado con el significado.\n",
    "\n",
    "Si hay un error semántico en tu programa, se ejecutará sin generar mensajes de error, pero no hará lo correcto. Hará otra cosa. Específicamente, hará lo que le dijiste que hiciera (que puede no coincidir con lo que querés que haga).\n",
    "\n",
    "Identificar errores semánticos puede ser complicado porque requiere trabajar hacia atrás mirando la salida del programa y tratando de averiguar qué está haciendo.\n",
    "\n",
    "Tanto para los errores sintácticos como para las excepciones los entornos de programación nos ofrecen mucha ayuda, incluso marcándolos antes de ejecutar el programa. Sin embargo,  los errores semánticos solo los podemos solucionar  razonando sobre lo que hemos escrito en el programa.  \n"
   ]
  },
  {
   "cell_type": "markdown",
   "metadata": {},
   "source": [
    "# Funciones (1° parte)\n",
    "\n",
    "En el contexto de la programación, una *función* es una expresión que se aplica a cierto dominio y devuelve un resultado. Python tiene incorpordas algunas funciones (ya viemo `print()`, `sin()`, etc.) y permite que el programador defina sus propias funciones. Una función definida por el programador consta de una secuencia de declaraciones que realiza un cálculo y esa secuencia tiene nombre. Cuando se define una función, se especifica el nombre y la secuencia de declaraciones. Más tarde, se puede \"llamar\" a la función por su nombre.\n",
    "\n"
   ]
  },
  {
   "cell_type": "markdown",
   "metadata": {},
   "source": [
    "## 1. Llamadas a funciones\n",
    "\n",
    "Ya hemos visto un ejemplo de llamada a función. Si ejecutamos\n",
    "```\n",
    "type(42)\n",
    "```\n",
    "se imprime\n",
    "```\n",
    "<clase 'int'>\n",
    "```\n",
    "El nombre de la función es `type`. La expresión entre paréntesis\n",
    "se llama el *argumento* de la función. El resultado, para esta función, es el tipo del argumento.\n",
    "\n",
    "Es común decir que una función \"toma\" un argumento y \"devuelve\" un resultado. El resultado también se denomina *valor de retorno*. \n",
    "\n",
    "En  el caso de `type` es una función que toma cualquier valor y  devuelve el tipo del valor. \n",
    "\n",
    "Otra función que hemos visto es `print`. Esta función toma un  argumento  o varios separados por comas e imprime en pantalla su valor o, en el caso de varios  argumentos,  sus valores separados por espacios. Es una función que no devuelve nada,  es decir no devuelve un valor que pueda ser utilizado posteriormente. Profundizaremos el concepto de \"funciones que no devuelven nada\" más adelante. \n",
    "\n",
    "Ejemplos de la función `print`:"
   ]
  },
  {
   "cell_type": "code",
   "execution_count": null,
   "metadata": {},
   "outputs": [],
   "source": [
    "print('23')\n",
    "x = -1 \n",
    "print(x)\n",
    "print('hola','adiós')"
   ]
  },
  {
   "cell_type": "markdown",
   "metadata": {},
   "source": [
    "Python proporciona funciones que convierten valores de un tipo a otro. La función `int` toma cualquier valor y si puede lo convierte en un número entero. En caso que no pueda se produce un error. Todo esto se puede verificar ejecutando la siguiente celda de código:"
   ]
  },
  {
   "cell_type": "code",
   "execution_count": null,
   "metadata": {},
   "outputs": [],
   "source": [
    "print(int('32'))\n",
    "# int('Hola') # descomentar la línea produce un error"
   ]
  },
  {
   "cell_type": "markdown",
   "metadata": {},
   "source": [
    "\n",
    "`int` puede convertir valores de coma flotante en números enteros, pero no redondea; corta la parte decimal:\n"
   ]
  },
  {
   "cell_type": "code",
   "execution_count": null,
   "metadata": {},
   "outputs": [],
   "source": [
    "print(int(3.99999))\n",
    "print(int(-2.3))"
   ]
  },
  {
   "cell_type": "markdown",
   "metadata": {},
   "source": [
    "`float` convierte enteros y cadenas que representan números en números punto flotante:\n"
   ]
  },
  {
   "cell_type": "code",
   "execution_count": null,
   "metadata": {},
   "outputs": [],
   "source": [
    "print(float(32))\n",
    "print(float('3.14159'))\n",
    "# print(float('hola')) # descomentar la línea produce error"
   ]
  },
  {
   "cell_type": "markdown",
   "metadata": {},
   "source": [
    "Finalmente, `str` convierte cualquier argumento válido en una cadena:"
   ]
  },
  {
   "cell_type": "code",
   "execution_count": null,
   "metadata": {},
   "outputs": [],
   "source": [
    "print(str(32), type(str(32)))\n",
    "print(str(3.14159), type(str(3.14159)))"
   ]
  },
  {
   "cell_type": "markdown",
   "metadata": {},
   "source": [
    "## 2. Funciones matemáticas\n",
    "\n",
    "Hemos visto que Python tiene un módulo matemático que proporciona la mayoría de las funciones matemáticas familiares. Un *módulo* o *biblioteca* es un archivo que contiene una colección de funciones relacionadas. \n",
    "\n",
    "Antes de que podamos usar las funciones en un módulo, tenemos que importarlo con una declaración de importación. Para poder usar el módulo `math` en este cuaderno Jupyter debemos ejecutar la siguiente celda de código:\n"
   ]
  },
  {
   "cell_type": "code",
   "execution_count": null,
   "metadata": {},
   "outputs": [],
   "source": [
    "import math"
   ]
  },
  {
   "cell_type": "markdown",
   "metadata": {},
   "source": [
    "Esta declaración crea un *objeto módulo* llamado math. Si imprime el objeto módulo, obtendrá información sobre él:\n"
   ]
  },
  {
   "cell_type": "code",
   "execution_count": null,
   "metadata": {},
   "outputs": [
    {
     "name": "stdout",
     "output_type": "stream",
     "text": [
      "<module 'math' (built-in)>\n"
     ]
    }
   ],
   "source": [
    "print(math)"
   ]
  },
  {
   "cell_type": "markdown",
   "metadata": {},
   "source": [
    "El objeto módulo contiene las funciones y variables definidas en el\n",
    "módulo. Para acceder a una de las funciones, debe especificar el nombre\n",
    "del módulo y el nombre de la función, separados por un punto (también\n",
    "conocido como período). Este formato se llama *notación punto* o *dot  notation* en inglés.\n",
    "```\n",
    "radio = potencia_señal / potencia_ruido\n",
    "decibeles = 10 * math.log10 (radio)\n",
    "```\n",
    "\n",
    "```\n",
    "radianes = 0.7\n",
    "altura = math.sin(radianes)\n",
    "```\n",
    "El primer ejemplo usa `math.log10` para calcular una relación señal-ruido en decibelios (asumiendo que `potencia_señal` y `potencia_ruido` están definidos). El módulo math también proporciona `log`, que calcula logaritmos en base `e`.\n",
    "\n",
    "El segundo ejemplo encuentra el seno de `radianes`. El nombre de la variable `radianes` es una pista de que `sin` (seno) y las otras funciones trigonométricas (`cos`, `tan`, etc.) toman argumentos en radianes. Para convertir de grados a radianes, hay que dividir por 180 y multiplicar por $\\pi$. Para ejemplificar,  ejecute el siguiente código:\n"
   ]
  },
  {
   "cell_type": "code",
   "execution_count": null,
   "metadata": {},
   "outputs": [],
   "source": [
    "grados = 45\n",
    "radianes = grados / 180.0 * math.pi\n",
    "math.sin(radianes)"
   ]
  },
  {
   "cell_type": "markdown",
   "metadata": {},
   "source": [
    "La expresión `math.pi` obtiene la variable `pi` del módulo math. Su valor es una aproximación en punto flotante de $\\pi$, con una precisión de proximadamente 15 dígitos.\n",
    "\n",
    "Usando trigonometría, podemos verificar el resultado anterior comparándolo con la raíz cuadrada de dos dividida por dos:\n"
   ]
  },
  {
   "cell_type": "code",
   "execution_count": null,
   "metadata": {},
   "outputs": [],
   "source": [
    "math.sqrt(2) / 2.0"
   ]
  },
  {
   "cell_type": "markdown",
   "metadata": {},
   "source": [
    "Para convertir de radianes a grados en formato decimal se hace la operación inversa: para convertir de grados a radianes dividíamos por 180  y multiplicábamos por $\\pi$. Ahora debemos multiplicar por 180 y dividir por $\\pi$. "
   ]
  },
  {
   "cell_type": "code",
   "execution_count": null,
   "metadata": {},
   "outputs": [],
   "source": [
    "radianes = math.pi / 6\n",
    "grados = 180.0 * radianes / math.pi\n",
    "print(grados)"
   ]
  },
  {
   "cell_type": "markdown",
   "metadata": {},
   "source": [
    "## 3. Composición\n",
    "\n",
    "Hasta ahora, hemos examinado los elementos de un programa; variables, expresiones y declaraciones; de forma aislada, sin hablar de cómo combinarlos.\n",
    "\n",
    "Una de las características más útiles de los lenguajes de programación es su capacidad para tomar pequeños bloques de construcción y *componer*. Por ejemplo, el argumento de una función puede ser cualquier tipo de expresión, incluidos los operadores aritméticos:\n",
    "```\n",
    "x = math.sin(grados / 360.0 * 2 * math.pi)\n",
    "```\n",
    "E incluso llamadas a funciones:\n",
    "```\n",
    "x = math.exp (math.log (x + 1))\n",
    "```\n",
    "Casi en cualquier lugar donde se pueda poner un valor, se puede poner una expresión arbitraria, con una excepción: el lado izquierdo de una declaración de asignación tiene que ser un nombre de variable. Cualquier otra expresión en el lado izquierdo es un error de sintaxis (veremos excepciones a esta regla más adelante). Si ejecutamos\n",
    "```\n",
    "minutos = horas * 60 # correcto\n",
    "horas * 60 = minutos # incorrecto!\n",
    "```\n",
    "obtenemos \n",
    "```\n",
    "SyntaxError: can't assign to operator\n",
    "```\n"
   ]
  },
  {
   "cell_type": "markdown",
   "metadata": {},
   "source": [
    "## 4. Añadiendo nuevas funciones\n",
    "\n",
    "Hasta ahora, solo hemos estado usando las funciones incorporadas en Python, pero también es posible agregar nuevas funciones. Una definición de función especifica el nombre de una nueva función y la secuencia de instrucciones que se ejecutan cuando se llama a la función.\n",
    "\n",
    "Veamos el siguiente  ejemplo:\n",
    "\n",
    "```\n",
    "def imprimir_instrucciones():\n",
    "    print (\"Abra el  recipiente.\")\n",
    "    print (\"Complete el recipiente con agua.\")\n",
    "```\n",
    "`def` es una palabra clave que indica que se trata de una definición de función. El nombre de la función es `imprimir_instrucciones` y es una función que no tiene argumentos y no devuelve nada.\n",
    "\n",
    "Las reglas para los nombres de las funciones son las mismas que para los nombres de las variables: las letras, los números y el subrayado son legales, pero el primer carácter no puede ser un número. No puede usar una palabra clave como nombre de una función, y debe evitar tener una variable y una función con el mismo nombre.\n",
    "\n",
    "Los paréntesis vacíos después del nombre indican que esta función no acepta argumentos.\n",
    "\n",
    "La primera línea de la definición de la función se llama *header* o *encabezado*; el resto se llama *body* o *cuerpo de la función*. El encabezado debe terminar con dos puntos y el cuerpo debe tener sangría. Por convención, la sangría es siempre de cuatro espacios. El cuerpo puede contener cualquier número de declaraciones. \n",
    "\n",
    "Hablando propiamente del cuerpo de la función `imprimir_instrucciones()`, las cadenas de las declaraciones de impresión están entre comillas dobles. Las comillas simples y las dobles hacen lo mismo; la mayoría de la gente usa comillas simples. En  el caso  donde aparece una comilla simple (que también es un apóstrofe) en la cadena se utilizan las comillas dobles (este no es el caso).Todas las comillas (simples y dobles) deben ser \"comillas rectas\" las \"comillas inclinadas compuestas de tildes (como ser \\` o bien ´) no son legales en Python.\n",
    "\n",
    "\n",
    "La definición de una función crea un *objeto función*, que tiene el tipo `function`. Pruebe con el siguiente código:\n"
   ]
  },
  {
   "cell_type": "code",
   "execution_count": null,
   "metadata": {},
   "outputs": [
    {
     "name": "stdout",
     "output_type": "stream",
     "text": [
      "<function imprimir_instrucciones at 0x06590BB0>\n"
     ]
    },
    {
     "data": {
      "text/plain": [
       "function"
      ]
     },
     "metadata": {},
     "output_type": "display_data"
    }
   ],
   "source": [
    "def imprimir_instrucciones():\n",
    "    print (\"Abra el  recipiente.\")\n",
    "    print (\"Complete el recipiente con agua.\")\n",
    "\n",
    "print(imprimir_instrucciones)\n",
    "type(imprimir_instrucciones)"
   ]
  },
  {
   "cell_type": "markdown",
   "metadata": {},
   "source": [
    "La sintaxis para llamar a la nueva función es la misma que para las funciones integradas:\n"
   ]
  },
  {
   "cell_type": "code",
   "execution_count": null,
   "metadata": {},
   "outputs": [],
   "source": [
    "imprimir_instrucciones()"
   ]
  },
  {
   "cell_type": "markdown",
   "metadata": {},
   "source": [
    "Una vez que haya definido una función, puede usarla dentro de otra función. Por ejemplo, para repetir el texto anterior, podríamos escribir una función llamada `repetir_instrucciones`:"
   ]
  },
  {
   "cell_type": "code",
   "execution_count": null,
   "metadata": {},
   "outputs": [],
   "source": [
    "def repetir_instrucciones():\n",
    "    imprimir_instrucciones()\n",
    "    imprimir_instrucciones()"
   ]
  },
  {
   "cell_type": "markdown",
   "metadata": {},
   "source": [
    "Si ejecutamos la celda anterior y la siguiente repetimos las instrucciones:"
   ]
  },
  {
   "cell_type": "code",
   "execution_count": null,
   "metadata": {},
   "outputs": [],
   "source": [
    "repetir_instrucciones()"
   ]
  },
  {
   "cell_type": "markdown",
   "metadata": {},
   "source": [
    "Al reunir los fragmentos de código, todo el programa se ve así:\n",
    "\n",
    "\n",
    "```\n",
    "def imprimir_instrucciones():\n",
    "    print (\"Abra el  recipiente.\")\n",
    "    print (\"Complete el recipiente con agua.\")\n",
    "\n",
    "def repetir_instrucciones():\n",
    "    imprimir_instrucciones()\n",
    "    imprimir_instrucciones()\n",
    "\n",
    "repetir_instrucciones()\n",
    "```\n",
    "Este programa contiene dos definiciones de función: `imprimir_instrucciones` y `repetir_instrucciones`. Las definiciones de funciones se ejecutan al igual que otras declaraciones, pero el efecto es crear objetos de función. Las declaraciones dentro de la función no se ejecutan hasta que se llama a la función y la definición de la función no genera salida.\n",
    "\n",
    "Como era de esperar, debe crear una función antes de poder ejecutarla. En otras palabras, la definición de la función debe ejecutarse antes de que se llame a la función.\n",
    "\n",
    "Como ejercicio, mueva la última línea de este programa hacia arriba, para que la llamada a la función aparezca antes de las definiciones. Ejecute el programa y vea qué mensaje de error obtiene.\n",
    "\n",
    "Ahora mueva la llamada a la función al final y mueva la definición de `imprimir_instrucciones` después de la definición de `repetir_instrucciones`. ¿Qué sucede cuando ejecuta este programa?\n",
    "\n",
    "\n"
   ]
  },
  {
   "cell_type": "markdown",
   "metadata": {},
   "source": [
    "## 5. Cadenas de documentación en Python\n",
    "\n",
    "Una *cadena de documentación* es un tipo de comentario que comienza y termina  con `\"\"\"`. Por  ejemplo\n",
    "\n",
    "    \"\"\"Comentario en una línea\"\"\"\n",
    "   \n",
    "o\n",
    "\n",
    "    \"\"\"\n",
    "    Esta es una línea de comentario\n",
    "    Esta también\n",
    "    ...\n",
    "    \"\"\"\n",
    "\n",
    "Esta forma de comentar permite hacer comentarios extensos y además lo que se encuentra en estos comentarios permite generar automáticamente la documentación del código, tema que no veremos en este curso.\n",
    "\n",
    "Las cadenas de documentación se llaman *docstrings*.\n",
    "\n",
    "Técnicamente hablando, los docstrings no son comentarios. Crean variables anónimas que hacen referencia a las cadenas. Además, no son ignoradas por el intérprete de Python. Como dijimos más arriba se utilizan para generar documentación.\n",
    "\n",
    "Python proporciona dos tipos de docstrings: docstrings de una línea y docstrings de varias líneas.\n",
    "\n",
    "### 1) Docstrings de una línea\n",
    "\n",
    "Como su nombre indica, un docstring de una línea cabe en una línea. Un docstring de una línea comienza con comillas triples (\"\"\") y también termina con comillas triples (\"\"\"). Además, no habrá ninguna línea en blanco ni antes ni después de la docstring de una línea.\n",
    "\n",
    "El siguiente ejemplo ilustra un docstring de una línea en la función quicksort():\n",
    "\n",
    "    def quicksort():\n",
    "        \"\"\" ordenar la lista usando el algoritmo quicksort \"\"\"\n",
    "        ...\n",
    "\n",
    "### 2) Docstrings multilínea\n",
    "\n",
    "A diferencia de los docstrings de una línea, los docstrings de varias líneas pueden abarcar varias líneas. Una docstring multilínea también comienza con comillas triples (`\"\"\"`) y termina con comillas triples (`\"\"\"`).\n",
    "\n",
    "El siguiente ejemplo muestra cómo utilizar las cadenas de documentos multilínea:\n",
    "\n",
    "    def incrementar(sueldo, rating):\n",
    "        \"\"\" \n",
    "        pre: sueldo - número decimal\n",
    "             rating - número entero de 1 al 6\n",
    "        post: incrementa el sueldo en base rating\n",
    "                rating 1 - 2 no incrementa\n",
    "                rating 3 - 4 incrementa 5%\n",
    "                rating 4 - 6 incrementa 10%\n",
    "        \"\"\""
   ]
  },
  {
   "cell_type": "markdown",
   "metadata": {},
   "source": [
    "## 6. Ejemplo: conversión de formatos de grados\n",
    "\n",
    "Las coordenadas de los mapas se representaban tradicionalmente como grados, minutos y segundos (GMS), llamados  *grado sexagesimales*. Sin embargo, en los *sistemas de información geográfica* (SIG) que se utilizan en las computadoras, la latitud y la longitud se representan como números decimales conocidos como *grados decimales*. El formato de grados, minutos y segundos se sigue utilizando. A veces, hay que convertir entre ese formato y los grados decimales para realizar cálculos y elaborar informes.\n",
    "\n",
    "Escribiremos las funciones que imprimen la conversión de un sistema a otro. \n",
    "\n",
    "Primero convertiremos grados sexagesimales en  grados decimales y eso es muy sencillo cuando usamos grados positivos:"
   ]
  },
  {
   "cell_type": "code",
   "execution_count": null,
   "metadata": {},
   "outputs": [
    {
     "name": "stdout",
     "output_type": "stream",
     "text": [
      "33.906527777777775\n"
     ]
    }
   ],
   "source": [
    "def sexa2deci(grados: int , minutos: int , segundos: float) -> float:\n",
    "    # pre: 0 <= grados, 0 <= minutos < 60, 0 <= segundos < 60\n",
    "    # post: imprime los grados sexagesimales en notación decimal\n",
    "    print(grados + minutos / 60 + segundos / 3600)\n",
    "\n",
    "sexa2deci(33, 54, 23.5)"
   ]
  },
  {
   "cell_type": "markdown",
   "metadata": {},
   "source": [
    "Un poco más laboriosa es la conversión de grados decimales a sexagesimales:"
   ]
  },
  {
   "cell_type": "code",
   "execution_count": null,
   "metadata": {},
   "outputs": [
    {
     "name": "stdout",
     "output_type": "stream",
     "text": [
      "33 54 23.499999999990564\n"
     ]
    }
   ],
   "source": [
    "import math \n",
    "\n",
    "def deci2sexa(pos: float) -> tuple:\n",
    "    # pre: pos son grados en notación decimal, pos >= 0\n",
    "    # post:  imprime la conversión de pos a grados, minutos, segundos sexagesimales\n",
    "    grados = math.floor(pos)\n",
    "    resto = pos - grados\n",
    "    minutos = math.floor(resto * 60)\n",
    "    resto = resto * 60 - minutos\n",
    "    segundos = 60 * resto\n",
    "    print(grados, minutos, segundos)\n",
    "\n",
    "deci2sexa(33.906527777777775)"
   ]
  },
  {
   "cell_type": "markdown",
   "metadata": {},
   "source": [
    "La función `math.floor()` trunca un número positivo a su parte entera. \n",
    "\n",
    "Las dos funciones anteriores deben considerarse funciones auxiliares que ayudarán a resolver el problema, un poco más complejo, de pasar de coordenadas terrestres sexagesimales a coordenadas terrestres decimales y viceversa. Eso lo podremos hacer usando condicionales, los cuales veremos dentro de poco."
   ]
  }
 ],
 "metadata": {
  "colab": {
   "authorship_tag": "ABX9TyNCzbVxDOY23s8wCdT1f0jc",
   "collapsed_sections": [],
   "name": "02 - Variables, expresiones y sentencias.ipynb",
   "provenance": []
  },
  "kernelspec": {
   "display_name": "Python 3",
   "language": "python",
   "name": "python3"
  },
  "language_info": {
   "codemirror_mode": {
    "name": "ipython",
    "version": 3
   },
   "file_extension": ".py",
   "mimetype": "text/x-python",
   "name": "python",
   "nbconvert_exporter": "python",
   "pygments_lexer": "ipython3",
   "version": "3.9.6"
  },
  "vscode": {
   "interpreter": {
    "hash": "e53d728c1a5895b483dbaf3c71d54023d1807b563514625b2c62fcff1f69b7fc"
   }
  }
 },
 "nbformat": 4,
 "nbformat_minor": 4
}