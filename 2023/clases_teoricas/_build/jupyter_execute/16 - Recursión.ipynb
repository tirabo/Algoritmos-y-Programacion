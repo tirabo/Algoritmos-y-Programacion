{
 "cells": [
  {
   "cell_type": "markdown",
   "metadata": {},
   "source": [
    "# Recursión "
   ]
  },
  {
   "cell_type": "markdown",
   "metadata": {
    "id": "1986cj15yw2x"
   },
   "source": [
    "## 1. Definiciones por recursión\n",
    "\n",
    "Frecuentemente encontramos una expresión de la forma $u_n$, donde $n$ indica cualquier entero positivo: por ejemplo, podríamos tener $u_n=3n+2$, o $u_n = (n+1)(n+2)(n+3)$. En estos ejemplos $u_n$ es dado por una fórmula explícita llamada *fórmula cerrada* y no existe dificultad en calcular $u_n$ cuando se nos da un valor específico para $n$. \n",
    "\n",
    "Sin embargo, en muchos casos no conocemos una fórmula para $u_n$; es más, nuestro problema puede ser encontrarla. En estos casos pueden darnos ciertos valores de $u_n$ para enteros positivos $n$ pequeños, y una relación entre el $u_n$ general y algunos de los $u_r$ con $r<n$. Por ejemplo, supongamos nos es dado \n",
    "$$ \n",
    "u_1=1, \\qquad u_2=2, \\qquad u_n =u_{n-1} +u_{n-2}, \\qquad n\\ge 3.\n",
    "$$\n",
    "Para calcular los valores de $u_n$ para todo $n$ de $\\mathbb N$ podemos proceder como sigue:\n",
    "$$\n",
    "\\begin{matrix}\n",
    "u_3 & = & u_2 + u_1 & = & 2+1 &=& 3, \\\\\n",
    "u_4 & = & u_3 + u_2 & = & 3+2 &=& 5, \\\\\n",
    "u_5 & = & u_4 + u_3 & = & 5+3 &=& 8,\n",
    "\\end{matrix}\n",
    "$$\n",
    "y así siguiendo.  Éste es un ejemplo de una *definición recursiva*. \n",
    "\n",
    "Una función definida por recursión debe:\n",
    "\n",
    "*   determinar el valor deseado para el *caso base* (o los casos base), por ejemplo, para `n == 1` o `n == 2`.\n",
    "*   determinar la manera de calcular el valor para `n` conociendo el valor de la función para `n-1` (o para todos los valores menores a `n`, en este último caso se parece a inducción completa).\n",
    "\n",
    "Los lenguajes de programación modernos permiten la definición de funciones recursivas. Un  esquema de una definición recursiva podría ser (partiendo  de $n =1$):\n",
    "\n",
    "```\n",
    "def f(n):\n",
    "    if n == 1:\n",
    "       res = caso base\n",
    "    else:\n",
    "        <bloque>\n",
    "        res = ... f(n-1) ...\n",
    "        <bloque>\n",
    "    <bloque>\n",
    "    return res\n",
    "```"
   ]
  },
  {
   "cell_type": "markdown",
   "metadata": {
    "id": "80tXgDEr0kdM"
   },
   "source": [
    "## 2. Ejemplo de definición recursiva: función factorial.\n",
    "\n",
    "Hemos visto una manera iterativa de definir la función factorial:"
   ]
  },
  {
   "cell_type": "code",
   "execution_count": 1,
   "metadata": {
    "id": "lAglmA6e0s1e"
   },
   "outputs": [],
   "source": [
    "def factorial(n: int) -> int:\n",
    "    # pre: n >= 0\n",
    "    # post: devuelve el valor de 1 * 2 * 3 * ... * (n-1) * n\n",
    "    res = 1\n",
    "    for i in range(2, n+1):\n",
    "        res = res * i\n",
    "    return res"
   ]
  },
  {
   "cell_type": "code",
   "execution_count": 2,
   "metadata": {
    "colab": {
     "base_uri": "https://localhost:8080/"
    },
    "id": "7t7wX_49XyQh",
    "outputId": "3584eee5-2dd0-48ee-9508-cd9ef987b7e8"
   },
   "outputs": [
    {
     "name": "stdout",
     "output_type": "stream",
     "text": [
      "120\n"
     ]
    }
   ],
   "source": [
    "print(factorial(5))"
   ]
  },
  {
   "cell_type": "markdown",
   "metadata": {
    "id": "QrE7zfXM1IF0"
   },
   "source": [
    "También se puede definir por recursión, valiéndonos de que sabemos:\n",
    "\n",
    "\n",
    "*   $0! = 1$\n",
    "*   $n! = n * (n-1)!$, si $n > 0$"
   ]
  },
  {
   "cell_type": "code",
   "execution_count": 3,
   "metadata": {
    "id": "BB-MqWbQ1uVC"
   },
   "outputs": [],
   "source": [
    "def factorial(n: int) -> int:\n",
    "    # pre: n >= 0\n",
    "    # post: devuelve el valor de 1 * 2 * 3 * ... * (n-1) * n\n",
    "    if n == 0:\n",
    "        res = 1\n",
    "    else:\n",
    "        res = n * factorial(n - 1)\n",
    "    return res"
   ]
  },
  {
   "cell_type": "markdown",
   "metadata": {
    "id": "4VcwoKuDeU42"
   },
   "source": [
    "Para probar que el programa es correcto se puede hacer una demostración por inducción. \n",
    "\n",
    "Probemos por inducción en `n` que para todo `n` entero no negativo, `factorial(n) == n!`.\n",
    "\n",
    "- Caso base: `n == 0`. `factorial(n) == factorial(0) == 1 == 0! == n!`.\n",
    "- Paso inductivo: asumimos que `factorial(n) == n!`. Probemos que `factorial(n+1) == (n+1)!`: \n",
    "\n",
    "```\n",
    "    factorial(n+1) == (n+1) * factorial(n + 1 - 1) == (n+1) * factorial(n) == (n+1) * n! == (n+1)!.\n",
    "```\n",
    "\n",
    "Así queda demostrada la afirmación. "
   ]
  },
  {
   "cell_type": "code",
   "execution_count": 4,
   "metadata": {
    "id": "lC7vT0-MeCYI"
   },
   "outputs": [
    {
     "name": "stdout",
     "output_type": "stream",
     "text": [
      "24\n"
     ]
    }
   ],
   "source": [
    "print(factorial(4))\n",
    "# print(factorial(-3))"
   ]
  },
  {
   "cell_type": "markdown",
   "metadata": {
    "id": "l8sO0v1YAv-P"
   },
   "source": [
    "## 3. Ejemplo: potencia de un número.\n",
    "\n",
    "La definición de la potencia entera de un número es una definición recursiva.\n",
    "\n",
    "**Definición.** Sea $a \\in \\mathbb R$ y $n \\in \\mathbb N_0$, definimos *$a$ a la $n$* por\n",
    "*   $a^0 = 1$\n",
    "*   $a^n = a * a^{n-1}$, si $n > 0$\n",
    "\n",
    "A partir de esta definición podemos hacer directamente una definición recursiva en Python:"
   ]
  },
  {
   "cell_type": "code",
   "execution_count": 5,
   "metadata": {
    "id": "4PvjlzMrCN9P"
   },
   "outputs": [],
   "source": [
    "def potencia(a, n: int) -> int:\n",
    "    # pre: n >= 0\n",
    "    # post: devuelve el valor de a * a * a * ... * a * a , n veces\n",
    "    if n == 0:\n",
    "        res = 1\n",
    "    else:\n",
    "        res = a * potencia(a, n-1)\n",
    "    return res"
   ]
  },
  {
   "cell_type": "markdown",
   "metadata": {},
   "source": [
    "Hagamos alguna pruebas:\n"
   ]
  },
  {
   "cell_type": "code",
   "execution_count": 6,
   "metadata": {
    "colab": {
     "base_uri": "https://localhost:8080/"
    },
    "id": "9fDTFd6xg4JW",
    "outputId": "597b37e1-a9f9-49c0-cbdf-7998c36f437b"
   },
   "outputs": [
    {
     "name": "stdout",
     "output_type": "stream",
     "text": [
      "9\n",
      "1125899906842624\n"
     ]
    }
   ],
   "source": [
    "print(potencia(3,2))\n",
    "print(potencia(2,50))"
   ]
  },
  {
   "cell_type": "code",
   "execution_count": 7,
   "metadata": {
    "colab": {
     "base_uri": "https://localhost:8080/"
    },
    "id": "QNcyfRDr0ISE",
    "outputId": "114279d8-138d-4cc6-dd5a-fa00c58809e3"
   },
   "outputs": [
    {
     "name": "stdout",
     "output_type": "stream",
     "text": [
      "1125899906842624\n"
     ]
    }
   ],
   "source": [
    "tmp = potencia(2,25)\n",
    "print(tmp*tmp)"
   ]
  },
  {
   "cell_type": "markdown",
   "metadata": {
    "id": "mHUWsfUCCve3"
   },
   "source": [
    "### Versión optimizada de potencia de un número.\n",
    "\n",
    "Observemos que la definición recursiva anterior de $a^n$ requiere $n$ pasos pues `potencia(a, n)` se basa en `potencia(a, n - 1)`,  que a su vez se basa en `potencia(a, n - 2)` y así sucesivamente. \n",
    "\n",
    "Ahora observemos lo siguiente: si quisieramos calcular $a$ a la una potencia de $2$,  es decir $a^{2^k}$, podríamos hacer,  recursivamente, \n",
    "\\begin{align*}\n",
    "&1.& &a^{2^k} = a^{2 \\cdot 2^{k-1}} = a^{2^{k-1} + 2^{k-1}} = a^{2^{k-1}} \\cdot a^{2^{k-1}} \\\\\n",
    "&2.& &a^{2^{k-1}} =   a^{2^{k-2}} \\cdot a^{2^{k-2}} \\\\\n",
    "&3.& &a^{2^{k-2}} =   a^{2^{k-3}} \\cdot a^{2^{k-3}} \\\\\n",
    "&&...& \\\\\n",
    "&k-1.& &a^{2} =   a^{1} \\cdot a^{1}\n",
    "\\end{align*}\n",
    "\n",
    "Es decir $a^{2^k}$ se pueder calcular en alrededor de  $k = \\operatorname{log}_2(2^k)$ pasos, muchos menos que con el método anterior. Basándonos en la idea anterior se puede definir recursivamente $a^n$ para cualquier $n$ en una recursión que lleva alrededor de $\\operatorname{log}_2(n)$ pasos:\n",
    "\n",
    "*   $a^0 = 1$\n",
    "*   $a^n = a \\cdot a^{n-1}$, si $n > 0$, $n$ impar.\n",
    "*   $a^n = {(a^{\\frac{n}{2}})}^2$, si $n > 0$, $n$ par.\n",
    "\n",
    "Su implementación en Python es sencilla:"
   ]
  },
  {
   "cell_type": "code",
   "execution_count": 8,
   "metadata": {
    "id": "fa8JqFCxCmJ-"
   },
   "outputs": [],
   "source": [
    "def potencia(a, n: int) -> int:\n",
    "    # pre: n >= 0\n",
    "    # post: devuelve el valor de a * a * a * ... * a * a , n veces\n",
    "    if n == 0:\n",
    "        res = 1\n",
    "    elif n % 2 == 1:\n",
    "        res = a * potencia(a, n - 1)\n",
    "    else:\n",
    "        res = potencia(a, n // 2)\n",
    "        res = res * res\n",
    "    return res"
   ]
  },
  {
   "cell_type": "markdown",
   "metadata": {
    "id": "EJwra_cdfAHy"
   },
   "source": [
    "## 4. Ejemplo: sucesión de Fibonacci\n",
    "\n",
    "La *sucesión de Fibonacci* es la siguiente sucesión infinita de números naturales:\n",
    "$$ \n",
    "0,1,1,2,3,5,8,13,21,34,55,89,144,233,377,610,987,1597, \\ldots \\,\n",
    "$$\n",
    "\n",
    "La sucesión comienza con los números 0 y 1 y a partir de estos, \"el siguiente término es la suma de los dos anteriores\", es decir, si $a_n$ denota el $n$-ésimo término de la sucesión de Fibonacci:\n",
    "\n",
    "*   $a_0 = 0$\n",
    "*   $a_1 = 1$\n",
    "*   $a_n = a_{n-1} + a_{n-2}\\quad $ si $n > 1$\n",
    "\n"
   ]
  },
  {
   "cell_type": "code",
   "execution_count": 9,
   "metadata": {
    "id": "Z-D3k92RX9DF"
   },
   "outputs": [],
   "source": [
    "def fib(n: int) -> int:\n",
    "    # pre: n >= 0\n",
    "    # post: devuelve el n-ésimo término de la sucesión de Fibonacci\n",
    "    assert type(n) == int and n >= 0\n",
    "    if n <= 1:\n",
    "        res = n\n",
    "    else:\n",
    "        res = fib(n-1) + fib(n-2)\n",
    "    return res"
   ]
  },
  {
   "cell_type": "markdown",
   "metadata": {},
   "source": [
    "Verifiquemos contrastando con la lista de más arriba"
   ]
  },
  {
   "cell_type": "code",
   "execution_count": 10,
   "metadata": {
    "colab": {
     "base_uri": "https://localhost:8080/"
    },
    "id": "CsezItWN327m",
    "outputId": "1d4f5809-7bc1-4f02-ca07-729c7ba59144"
   },
   "outputs": [
    {
     "name": "stdout",
     "output_type": "stream",
     "text": [
      "0, 1, 1, 2, 3, 5, 8, 13, 21, 34, 55, 89, 144, 233, 377, 610, 987, 1597, "
     ]
    }
   ],
   "source": [
    "for i in range(18):\n",
    "    print(fib(i), end=', ')"
   ]
  },
  {
   "cell_type": "markdown",
   "metadata": {},
   "source": [
    "También podríamos haber hecho algo parecido utilizando listas por comprensión: "
   ]
  },
  {
   "cell_type": "code",
   "execution_count": 11,
   "metadata": {
    "colab": {
     "base_uri": "https://localhost:8080/"
    },
    "id": "a9d5twqlgwvL",
    "outputId": "9d46b166-2584-46ca-838c-9f5e4a68e115"
   },
   "outputs": [
    {
     "name": "stdout",
     "output_type": "stream",
     "text": [
      "[0, 1, 1, 2, 3, 5, 8, 13, 21, 34, 55, 89, 144, 233, 377, 610, 987, 1597]\n"
     ]
    }
   ],
   "source": [
    "print([fib(x) for x in range(18)])"
   ]
  },
  {
   "cell_type": "markdown",
   "metadata": {},
   "source": [
    "Ahora bien, esta implementación no es una buena implementación de la sucesión de Fibonacci pues como cada caso se basa en dos anteriores y el compilador si alguna vez calcula `fib(k)` para `k < n` y después lo necesita de nuevo, no lo recuerda y lo hace otra vez. Con este algoritmo podemos estimar que `fib(n)` necesita alrededor de $2^n$ pasos y esto computacionalmente no es admisible. Por ejemplo, podemos calcular fácilmente a mano el término $50$  de la sucesión de Fibonacci, pero si ejecutamos `fib(50)` veremos que no termina.  "
   ]
  },
  {
   "cell_type": "code",
   "execution_count": 12,
   "metadata": {},
   "outputs": [],
   "source": [
    "# fib(50)"
   ]
  },
  {
   "cell_type": "markdown",
   "metadata": {},
   "source": [
    "Una solución a este problema nos la da la llamada *programación dinámica*. No explicaremos lo que es programación dinámica en este curso, pero diremos que evita la repetición de cálculos guardando algunos resultados anteriores en una tabla. Solo daremos la sucesión de Fibonacci  con programación dinámica a modo ilustrativo:"
   ]
  },
  {
   "cell_type": "code",
   "execution_count": 13,
   "metadata": {},
   "outputs": [],
   "source": [
    "def fib_din(n):\n",
    "    # pre: n >= 0\n",
    "    # post: devuelve el n-ésimo término de la sucesión de Fibonacci\n",
    "    f = [0, 1]\n",
    "    for i in range(2, n+1):\n",
    "        f.append(f[i-1] + f[i-2])\n",
    "    return f[n]"
   ]
  },
  {
   "cell_type": "markdown",
   "metadata": {},
   "source": [
    "Este algoritmo es mucho más eficiente que el anterior."
   ]
  },
  {
   "cell_type": "code",
   "execution_count": 14,
   "metadata": {},
   "outputs": [
    {
     "data": {
      "text/plain": [
       "354224848179261915075"
      ]
     },
     "execution_count": 14,
     "metadata": {},
     "output_type": "execute_result"
    }
   ],
   "source": [
    "fib_din(100)"
   ]
  },
  {
   "cell_type": "markdown",
   "metadata": {},
   "source": [
    "Observemos que el algoritmo no es recursivo en el sentido que nosotros definimos, sin embargo tiene cierta similitud a una definición recursiva debido a  que para calcular el término $i$-ésimo de `f` se utilizan los términos $i-1$ y $i-2$. "
   ]
  },
  {
   "cell_type": "markdown",
   "metadata": {},
   "source": [
    "Sin embargo, la versión más conveniente para calcular la sucesión de Fibonacci es la versión iterativa, muy similar a la versión de programación dinámica, pero ocupando menos espacio en memoria:"
   ]
  },
  {
   "cell_type": "code",
   "execution_count": 15,
   "metadata": {
    "id": "mcD0rgkGkKqU"
   },
   "outputs": [],
   "source": [
    "def fib_iter(n: int) -> int:\n",
    "    if n <= 1:\n",
    "        res = n\n",
    "    else:\n",
    "        x, y = 0, 1\n",
    "        for _ in range(2, n+1):\n",
    "            x, y = y, x + y\n",
    "        res = y\n",
    "    return res"
   ]
  },
  {
   "cell_type": "code",
   "execution_count": 16,
   "metadata": {
    "colab": {
     "base_uri": "https://localhost:8080/"
    },
    "id": "6XoVkbJcllLE",
    "outputId": "adc0a4b9-d3eb-4b0a-df97-af89923c5a29"
   },
   "outputs": [
    {
     "name": "stdout",
     "output_type": "stream",
     "text": [
      "[0, 1, 1, 2, 3, 5, 8, 13, 21, 34, 55, 89, 144, 233, 377, 610, 987, 1597]\n"
     ]
    }
   ],
   "source": [
    "print([fib_iter(x) for x in range(18)])"
   ]
  },
  {
   "cell_type": "code",
   "execution_count": 17,
   "metadata": {
    "colab": {
     "base_uri": "https://localhost:8080/"
    },
    "id": "ozqOkLOhlzzM",
    "outputId": "06b574f4-b4d4-410a-dd29-1de746330a67"
   },
   "outputs": [
    {
     "data": {
      "text/plain": [
       "354224848179261915075"
      ]
     },
     "execution_count": 17,
     "metadata": {},
     "output_type": "execute_result"
    }
   ],
   "source": [
    "fib_iter(100)"
   ]
  },
  {
   "cell_type": "markdown",
   "metadata": {
    "id": "yiM4tgDZU1_R"
   },
   "source": [
    "## 5. Ejemplo: número combinatorio"
   ]
  },
  {
   "cell_type": "markdown",
   "metadata": {
    "id": "seKHX7W1Vbmp"
   },
   "source": [
    "El número combinatorio $\\displaystyle\\binom{n}{m}$ debe su nombre a que cuenta el número exacto de combinaciones posibles de $m$ elementos de un universo de $n$ elementos. Es decir, dado un conjunto de $n$ elementos, cuántos subconjuntos de $m$ elementos tiene.\n",
    "\n",
    "Es de gran utilidad en múltiples ramas de la matemática: teoría de números, combinatoria, probabilidades, etc."
   ]
  },
  {
   "cell_type": "markdown",
   "metadata": {
    "id": "Bc4cL6cVOwB_"
   },
   "source": [
    "**Definición.** Sean $n$, $m$ números naturales tal que $m \\le n$, definimos el *número combinatorio $n$, $m$* denotado $\\displaystyle\\binom{n}{m}$, por:\n",
    "\n",
    "$$\\binom{n}{m} = \\frac{n!}{m! (n-m)!}.$$\n",
    "\n",
    "Una forma de calcular el número combinatorio sería calcular $n!$, $m!$, $(n-m)!$ y después hacer las multiplicaciones y divisiones correspondientes. Este método no presenta inconvenientes y se podría implementar de la siguiente manera"
   ]
  },
  {
   "cell_type": "code",
   "execution_count": 18,
   "metadata": {},
   "outputs": [],
   "source": [
    "def factorial_iter(n: int) -> int:\n",
    "    # pre: n >= 0\n",
    "    # post: devuelve el valor de 1 * 2 * 3 * ... * (n-1) * n\n",
    "    res = 1\n",
    "    for i in range(2, n+1):\n",
    "        res = res * i\n",
    "    return res\n",
    "\n",
    "def combinatorio(n, m):\n",
    "    # pre: n >= 0, m >= 0, m <= n\n",
    "    # post: devuelve el valor de n! / (m! * (n-m)!)\n",
    "    return factorial_iter(n) // (factorial_iter(m) * factorial_iter(n-m))"
   ]
  },
  {
   "cell_type": "markdown",
   "metadata": {},
   "source": [
    "Funciona bien para números no demasiado grandes, por ejemplo:"
   ]
  },
  {
   "cell_type": "code",
   "execution_count": 19,
   "metadata": {},
   "outputs": [
    {
     "data": {
      "text/plain": [
       "347037219422984055239946843485683195580755864868346398088954443243876858031326934041766900371421981603299332669125824443513273758730486737240388293753111040271376864820662935047743500565974068858958660864508319978485472663185175258151990702870976299330246762698109020782440494028587404516961987864170936153949349357936578831033231820646380406118118751945715370379524709132263015522289636564532743071925775700930595659527798993201077754709658538159822996393987723794876174961139726360694255939081404708123162873769320381438691114830516816142328311152120564780303157035369684339130036470841518815949034843718202973695637705600"
      ]
     },
     "execution_count": 19,
     "metadata": {},
     "output_type": "execute_result"
    }
   ],
   "source": [
    "combinatorio(3528, 500)"
   ]
  },
  {
   "cell_type": "markdown",
   "metadata": {},
   "source": [
    "Pero mejor no intentés descomentar y correr la siguiente línea:"
   ]
  },
  {
   "cell_type": "code",
   "execution_count": 20,
   "metadata": {},
   "outputs": [],
   "source": [
    "# combinatorio(10**50, 500)"
   ]
  },
  {
   "cell_type": "markdown",
   "metadata": {},
   "source": [
    "Veremos a continuación una forma recursiva de definir el número combinatorio. "
   ]
  },
  {
   "cell_type": "markdown",
   "metadata": {
    "id": "IKbziOJ2WYTl"
   },
   "source": [
    "### Triángulo de Pascal\n",
    "\n",
    "Si escribimos los números combinatorios de tal manera que en la fila $n$ se encuentren todos los número combinatorios $\\displaystyle\\binom{n}{k}$ con $0 \\le k  \\le n$,  en ese orden, y los acomodamos convenientemente, obtenemos el *triángulo de Pascal* o *Tartaglia*. \n",
    "\n",
    "$$\\begin{array}{lcccccccccccccccc}\n",
    "n = 0 & & & & & & & & & 0 \\choose 0 \\\\\n",
    "n = 1 & & & & & & & & 1 \\choose 0 & & 1 \\choose 1 \\\\\n",
    "n = 2 & & & & & & & 2 \\choose 0 & & 2 \\choose 1 & & 2 \\choose 2 \\\\\n",
    "n = 3 & & & & & & 3 \\choose 0 & & 3 \\choose 1 & & 3 \\choose 2 & & 3 \\choose 3\\\\\n",
    "n = 4 & & & & & 4 \\choose 0 & & 4 \\choose 1 & & 4 \\choose 2 & & 4 \\choose 3 & & 4 \\choose 4\\\\\n",
    "n = 5 & & & & 5 \\choose 0 & & 5 \\choose 1 & & 5 \\choose 2 & & 5 \\choose 3 & & 5 \\choose 4 & & 5 \\choose 5\\\\\n",
    "n = 6 & & & 6 \\choose 0 & & 6 \\choose 1 & & 6 \\choose 2 & & 6 \\choose 3 & & 6 \\choose 4 & & 6 \\choose 5 & & 6 \\choose 6\\\\\n",
    "n = 7 & & 7 \\choose 0 & & 7 \\choose 1 & & 7 \\choose 2 & & 7 \\choose 3 & & 7 \\choose 4 & & 7 \\choose 5 & & 7 \\choose 6 & & 7 \\choose 7\n",
    "\\end{array}$$\n",
    "\n"
   ]
  },
  {
   "cell_type": "markdown",
   "metadata": {
    "id": "Y3LzpJ6NThZa"
   },
   "source": [
    "Si reemplazamos cada expresión por su valor, observamos que cada uno de los valores que están en su interior, pueden calcularse como la suma de los dos que se encuentran inmediatamente arriba:\n",
    "\n",
    "$$\\begin{array}{lcccccccccccccccc}\n",
    "n = 0 & & & & & & & & & 1 \\\\\n",
    "n = 1 & & & & & & & & 1 & & 1 \\\\\n",
    "n = 2 & & & & & & & 1 & & 2 & & 1 \\\\\n",
    "n = 3 & & & & & & 1 & & 3 & & 3 & & 1\\\\\n",
    "n = 4 & & & & & 1 & & 4 & & 6 & & 4 & & 1\\\\\n",
    "n = 5 & & & & 1 & & 5 & & 10 & & 10 & & 5 & & 1\\\\\n",
    "n = 6 & & & 1 & & 6 & & 15 & & 20 & & 15 & & 6 & & 1\\\\\n",
    "n = 7 & & 1 & & 7 & & 21 & & 35 & & 35 & & 21 & & 7 & & 1\n",
    "\\end{array}$$\n"
   ]
  },
  {
   "cell_type": "markdown",
   "metadata": {
    "id": "O7F1OBrjT4uF"
   },
   "source": [
    "Esto nos permite obtener  una fórmula recursiva para calcular el número combinatorio:\n",
    "\n",
    "*   $\\displaystyle\\binom{n}{0} = 1$\n",
    "*   $\\displaystyle\\binom{n}{n} = 1$\n",
    "*   $\\displaystyle\\binom{n}{m}= \\displaystyle\\binom{n-1}{m-1} + \\displaystyle\\binom{n-1}{m}$, si $m \\not= 0 \\wedge m \\not= n$\n",
    "\n",
    "Estas tres ecuaciones se pueden demostrar matemáticamente.\n",
    "\n",
    "A nosotros nos interesan estas ecuaciones porque podemos tomarlo como una definición recursiva del número combinatorio"
   ]
  },
  {
   "cell_type": "code",
   "execution_count": 21,
   "metadata": {
    "id": "5trEwKrCXMDp"
   },
   "outputs": [],
   "source": [
    "def combinatorio(n, m: int) -> int:\n",
    "    # pre: n >= 0 and 0 <= m <= n\n",
    "    # post: devuelve el número combinatorio de \"n elementos tomados de a m\"\n",
    "    assert type(n) == type(m) == int and n >= 0 and 0 <= m <= n, 'Error en los parámetros de la función \"combinatorio\"'\n",
    "    if m == 0 or m == n:\n",
    "        res = 1\n",
    "    else:\n",
    "        res = combinatorio(n - 1, m - 1) + combinatorio(n - 1, m)\n",
    "    return res"
   ]
  },
  {
   "cell_type": "markdown",
   "metadata": {},
   "source": [
    "Probemos algunos ejemplos:"
   ]
  },
  {
   "cell_type": "code",
   "execution_count": 22,
   "metadata": {
    "colab": {
     "base_uri": "https://localhost:8080/"
    },
    "id": "KzsEvtMzpof5",
    "outputId": "4a378da9-6c88-455f-99b1-0cdeb7bfce2e"
   },
   "outputs": [
    {
     "name": "stdout",
     "output_type": "stream",
     "text": [
      "3\n",
      "35\n"
     ]
    }
   ],
   "source": [
    "print(combinatorio(3,2))\n",
    "print(combinatorio(7,4))"
   ]
  },
  {
   "cell_type": "markdown",
   "metadata": {},
   "source": [
    "Este es un buen ejemplo de recursión, pero no es para nada eficiente. Como en el caso de la sucesión de Fibonacci, las llamada recursiva a la función en dos valores aumenta enormemente el tiempo de ejecución para casos no demasiado grandes.. "
   ]
  },
  {
   "cell_type": "markdown",
   "metadata": {},
   "source": [
    "### Otra implementación recursiva del número combinatorio\n",
    "\n",
    "Observemos  que si $n,m > 0$ y $n \\ge m$, \n",
    "$$\n",
    "\\binom{n}{m} = \\frac{n!}{m! (n-m)!} =  \\frac{n}{m} \\frac{(n-1)!}{(m-1)! (n-m)!} = {n\\binom{n-1}{m-1}} /{m}\n",
    "$$\n",
    "\n",
    "En  base a esta recursión podemos definir una función para obtener el número combinatorio. "
   ]
  },
  {
   "cell_type": "code",
   "execution_count": 23,
   "metadata": {},
   "outputs": [],
   "source": [
    "def combinatorio_r2(n, m):\n",
    "    # pre: n >= 0, m >= 0, m <= n\n",
    "    # post: devuelve el valor de n! / (m! * (n-m)!)\n",
    "    if m == 0 or n == 0:\n",
    "        res = 1\n",
    "    else:\n",
    "        res = n * combinatorio_r2(n - 1, m - 1) // m\n",
    "    return res"
   ]
  },
  {
   "cell_type": "markdown",
   "metadata": {},
   "source": [
    "Este es un algoritmo eficiente para calcular el número combinatorio y vemos por la definición misma de la función que el cálculo del combinatorio $\\displaystyle\\binom{n}{m}$ se concreta en alrededor de $m$ pasos. Por lo tanto si $m$ no es muy grande calcula rápidamente el número combinatorio incluso para valores grandes de $n$.   "
   ]
  },
  {
   "cell_type": "code",
   "execution_count": 24,
   "metadata": {},
   "outputs": [
    {
     "data": {
      "text/plain": [
       "8195802132172396309504761462495484735303103962910279258668273333001126651994337755053467722872522303071796181329816338006413958864111152960619333640993166793343023221831481644878199638617715461042732439477506063527826100947382847149614919891603287484334908505587552292899114266674808954968829523022322624147715087716639766374336093106476955237803537344983311743740478652263651596069774723043618478099339139012528352616741228166934528393653584784986665529332147438500762279353501448379103475853881331873877098868637801315663215891342710165007833825171992074336143897481978645614032491732975622481597571144484418261571410210831602152281011584339111070852490638045016406923769976704276123023199607809830951158677014216043896870498045400572482710764323475942182160040597037677001950162360211928154722451352041674217283303951307668779320371548314513697974954597585412908659819456345055717772188080550232816240465822832904477591159084971374051682764503896170243944346336352045326657188974051464995603330419062513403311113243616190012995360528839767839365760864695196274703030314793539256352228845484836859269686638427046403446049498473711745722536635442290859745797460956410769816697925698156393374736932590465197448773710848338307732051290143244468528738039685611779549528649603469284970479302847022211861779519251446098310007628427005454684935964496342552038040707454076681533233779294785482916935019909651381820290052007833769846091476076250135396913847112873846193949314957474264440428414115134455858569851156689052580954925960782488806789922217151126739791947014731649070125603260282556955519730204138760692472829758596388506037536250220205096116831025990796198024489296738794271250483360346862417672848988439813512024001583766583791258687596638576501242373962983869092954315972065488582780386290535384884040362695817100420103145186622879310856411868421331807474204027305903504081791645634348529090322888888502327230258589133810087321169999694547393303612715968996184228974443913838045276493463109566268996208206664784579883542062124207043210917995806253786775687383523546202428254509893039295462313857189020667634167340411983495935293195564377683230554866538637104919083934103767207262425083352465002131866648083167564102500872229562005372847106936333915017263640841817644170093269305320183158741521333860599386051096523065196800182861580253341974718245982262925101344120897430223258507455025985079843235949066168195219189456517898282080336259310429320001347440497084121989139679424314717163850561348584509373924654693404431303151116234684762575806197738554145944598370444388751269098889711090481394007913406020456577914117897788086869383043132824170418579930373448400921376477361985487943219773658323757938921093193610452546406390543117439813855232787530872634228915692240618913590971498980384525193460186541829154340821764738886631224242877096400264101784568728730464234331029632687047033475552086648493152087085499897165055736809302587889140724432409280110433344828883384258175422268315426221855532380076515308908659844111121076169430114440593509387613169013055664187969146362110041136251489108374396814590757369361714275600067998568799319890661788204490708911648274100106745439585744874421986469620451284415494294539516262228255093323242305366161666577901395636751314942598414230226639399868264101141874256167324290762150523996953276236811578955574564052406403546145690056225644138149279904870939203792131584358077611890034311865142836087176153764603733384677482360216341320636163654945979415026174511802921640032753305316676390387849564016348392342138992473646509134422502544039988731020470178437320340583307210728101049174270707126215368863125633890546768368033158350347535926703792757704774406331077558442643192056725989498540613554252478139815256287286079706230362668166005039719123067137339265993000886519611708004863775775885292750043770376697103263552816267436324371918204480529913645090975567219717981818889794645404212542267809646784902011525736469395626551300828702762021712659943048892144583980209238716833249768539664774701648425170259404675215332642705582820134700500910538405388864918571979144276306302951669384826362487046655345603083467652978630395845157444564246632618848321754444890764995869312798265413599113043774323721168077076987838224519193760859991991819944690780423299156304994668832501677000606333652397527143672950975256436524281869668805829508039292698567376676885588519057022084921131543627486388842852735142381403056188206785650460774116231988628339708587566997926242582919281249132250083340839692069290220732061219264433476210529232691986836108282924505626622489183349438594639369107396686118400672655450734970417933625288974042439003465484910254352777019963409590297132232420308172436994312146695301385511967387562320298956694760013132080952110134360249005633204855515581053147294204386933137520974159627834710284032886238933044454129710359523602459823818942051177572621684398475493506429186261775045185763684524505800787184800480001411625207737719313623962264636131973552058775738989373454297583925698232600636233665624351863687144839590483044533284059703355834666632136541508382046412689906925092344330891563766097042999817065513027703260333307025465258355041755680189257800769898161175192100648228655894231796613808100440357884281655243168104437587734635871596732060500139191918744587873374066893370015170125926262825883903892987516337046628466031365828286281303153523275337156869449151544326780104714753360807561331723436879938392574868220596718191223969453567831710252544461392336777612121509692285267556890487409701359986687276187688896210610156717144712941800314475830755351293413733903572179631344146166677391577994690640928766640532749130042249816212361911645690732795126867884815896005050348747697865601834603688126972558566101936238845573953385971006319229024225170860290971673952671057007542957388723602981274654125272441368910321804334093168936298897705640560767975843800294413487425949203779594046313682161884537008090776925918291487017198903109833396163931486075590142269939713649330125585082641115801838392800462598127550045770370888752819779177689801963838483390271654024622013028254509085864675113543147608905304225384594120583595648549221447172738461561118083658846193341079747294955887087489751456132577887862356253091063132376151676255393342669932313050193985653070193556565834846594246932170424024515749910279448730463650734326139539737622041272690598668063479440268551276512909291534444197274740250259593454623075878141933620565660429082655521852928013744826406823319443022673367141461435508183936477222284393470916979495912290714148437732883965749685079643867662712354357094619628032280702110101160266985036014129996167775028864551783373267468762297615888719812171149400753157009446926218024684320069836135281547591347456418192679840831687519726700693584830182438789277062900933645322286376583365441738122300506501294402795415971309560895121109919532431719077447259289287801961650201771630674409005779265423513048730953603396638473382373590214665819061573124752361019632968790542691161405616693532620095710270755000627374279063222363664992807477909475780870231293183307524533096623718268379055805635384345881626705395284464527702663267603751257557340755624286975663513827487842482962807925626064549416536714226066022244730585581895009232003761653357102681666457961470033075223989828943451344812249804797163146650861212031357157362999537711285871019688674973070924989694783429731251038607816955545486960501503163190657759864174751206113007293011405413602532883936995876721028048695444033589641182648063084554052606908311718087391818465840081622935692689542315788885387415303973150559194471034758680155726518099450783030057033250889670351201372732280216530297080422825835270906748471806381929722234200108475149973148017251137098743485897509008200504850140669820462754965937829907982452622460229764387311648538078074548918600942490251222312858307502097256385431653462946460337846774110368250072767178407490852043450218343429246830520445611625740188795551591289455816699780804482188025755852569821899565474291513673691447941778023509979645363724610049835415533838087276225779161042776451924988110882827972108322479946330927814079859089342711190809954295681563685885366318743966934702077874222117376898635308982106315916688689899093726002360538421180999846317716832840454141786759972902358108284484651896006695754653095491588244391308059597845813838985859302618674887925017549301369693250418351097598762003800704606998237949291327649073300395522971516940635884723792805179367972756021434559278891839954843081589087158114548639638998608164261186260140389386354087606696160826062868805917777756072017584095108482766439512877424401806543733810909142064029675099593508247571781623960066859168578069901678760358503217300550311658466995634387434573574107565442089880660459123967674158729019363327213519851092879437531513520963397812653462578518088871423055979796874602381647816017693454937593517572049609512271050015793699826732056800606135590017615495952725645542617285562897082880945185341244663098211805983705277070021717172092881724357354733190226714097234550419373395466073504379149193111579308413088274513235655071951630803913009016241451758732705650195052215364935300669108826090048843180569532417977986513984450307285818611873882921451331860819162559063959736101901481066898308704064397338771745439357305796546765695196996015042201744974521592079288134231135990413341368007870024068555902330539007373526597264806074354281877933270829529774365460053199566372279261855149709365300238213631371650024397474423510317770461365054628059654414472599152567237990786405364139221470964361199879901557587314487937063200700949091903652089316523228227324875376187010145369237189085701758293595951047997623138068869734772480847027327490750993086186869459124073372694309437452375982000332660168048585417660925897546999489392816336957906506519244015579765466398559800027525260859009906356341202077030665523938499891748788114283961646956994503599338054724878060118562205159268452117095875469419812437267035359499416691058581253331950887643352903939305623871967987858677419079181167120191796825867565851334773752247271152451665392557622090949359320465442455180291856593272800411972597303987815294633840521165334815793565031886940843713599047122651362552849841074030945144316794118931096757207522131006645912435012200262755740681657354295282384229018636002895666007276202613503536015003984976821779782408480396354841381021510144641561265772582819003291490452115122232537303132212141285164172213224038439222123823532271160935590145463992147229811118442161610390247448475673768691143168662142858365390715679825753321047397138737828691686261454810527051821521984809952168116014905581648545265109260474887790952853267318116530653380446971579746784230787726860767904349832911764015218814664245350195028769041566589044626121949622213155165185295373879258404097411547570835040820036704445794363524002662281548271168616455959246416931105529641570929360625048563685937675971543683329441576254264289453220579275200639457281420907637162835759139401524284364975836233117087001942504880399082545846700643451019439420758832634639479453533883263762575162084494596478882990155625404290637870414755945515115836668820563908628480824142736887307928428041299073103806029187461699244052883793663106796951490152650662494172741770263435319085815041886376370828544026657075665971291779046796492268865984380723601583145468537670227649875157536799460087572614223768295784984895596609685355524924446284654205462808462618159952403496674061299047217682487669108487196938025836801287501032362039796798054987834196419513346438495890853994224107871797235308338247959304172426581155314274869465031135740114633253426330347288570798182113282993306487198856926593931547843645676014674283836636251891742608524676748735715156621094249881456900265469178646050429083517591341341103392845805680840255781564459548532948421640225854420876175152686342514451936595700541059896836690720035042024229510468728389180509594128124407327854451213884732451703337484611071054787510183213637645066513135972069132860105692686832644245280589835402365002461243446073469399891979375261041358910958174545115704616942570993901174325034417178243100285529004915372519442147092258755098219557044900437943006176119045783408959180423286562530719884619324935488607270723053323716797244969409584359716836090776546105073091144600103647633544591286082541240929520166359409225501600450099497637078260711780106983878100327222992657393374994964719571352995858452695718183464279942847772040413160489873707789058394002698071024825226826159643907745435554119789644282642770225588301581042583880983661725821259101835971656648842817992904011346893852960710744863623433670825156042085865815928416217602484347859700741939915865997848258550605821098391235185045165995598189255303517770701583085463501753717585965093812749885058208509626955455551584249306459907322408875765553144421252163005920050038583558011104451314531274624005022645192793130800184255447503528048840276382414266757081615462328627733616020217830588984938727847688205937748794652844521575695051627821848762316637590398563174646380493157510918257681517293652351839446606671911704767828008530485233051377308442570278454769659923470752860369214064641045131772271341536437367349713903637522177338996349821980281869407211466143574839577437722976703524404607571188866467470944395212913971124175038047461144288169685127720316544741183252672671411740224365983648989439564109080489260572018757044402330029256476783598274215826711729246853533793883087829753732059441315567936530803329688179288503663454047942872316331865446715721027160383263549564413359885765906127598581168232162478395437130039456645969745800862449057288975517235038526977016886294744725896433780619475089774022251656996311016350019734764444665680231367993930882966730215711317543398068630799319366241890593411235902046989059888400253204308734106934145763974968041240250550672763876338303802674125424246352153793391193363253118963339042794265764824800776000146152622668169154065273795787619032796964756218648330378538005813460114548520886614937780197307215591751359578870683933934879371145855494681688160118756384110569207971553283058620048767089605575105650818039315668096866932144824709553289745477892048781333660626791116677961293280327066413469777440722108213905478643261426449540538519719667078608858849082371392571204142525091315636070647894231393304028316942184373829169548457833973865053072694888100883352894752273513038939294216072292658749610086344901229897140721365758358332826208766721201315066096048019390024050924246127228493186995907461241506188386678647036477605226346617898376850874049451501655524079375628775334454507017260581792476743703338323650260046879454998313855641190090436764658695749493025341025591958921756211468096372333784534036952827116191354342421210537522616619658317180463483081112481450157124018788950159410321760841608950108080545535802818352820972211222382455278310355058205429582895217321496430608760761489236318827335301733570465048452206488980647780199534076214409200104869835445266655965344781199305074624615690621032858663473723783646502170734427872387632790656632186068686144197018627950175369539948452735057299277350838278717733868659039506380554196202938661496941258679776380159216962420274629918754185046897299809985336345706201204454602657453146605927864747892570555637487999871697437423929137387838235290573772419010111557225052361234192147841342074196459589215693870292749369463264645178790968452135404365650022664064377541955798805025097090446754106837389091626041030405974894000488705517001223026820838245874850003201987397562791923243000550855136511909912884800207369429320423071035979761881785161722465134698671418473003422339126126993834992253479866997366899526900211311266018824552785949397676098718017411786948446203333897889949549018831497007587602976233728496201160867769450988488088621305030945522269193510227615790672492845382881227240473411530597314365403589792577229158211070788067483349038528623262276769989148282561423765399733006414212529453342112220489090696358178476025342451953288234090096921280980504261672482448727166575366232245967866799383577204763112266169568085308850702024852712888783827392198845802707980448792396315293244666789438231448525353694372817845166469515550792733426622262055261238737565924072815498044296985993365363832255093962780288130708288933221109038176682727936899876149570472234776922124320974212560095050620267194874997349011426365430675133708156986939582795467916235668672818127582191579194962390536628500314540329664661324047497836196006880541717740037129784027507830941354391967511814409489410942826991163275514171617911402728064003124049309695566300707416112262740916288154467445174130786528534312963866848786962066447637240550257155557363851249681119000117439061632840776605369908021316299826867859705590669911838184323813609350281792997372141488162642723403501867590130751334448174971259617255346221056405257352763094009689166486115274023026146270447367694943653203023553172491268898302992604685283643342676976106707929241099642012469080676864995837136607104649933945214387021815443836391406338357021784222415321410024750021726908377411590344266919058189533313382184261217696760766714831895122939871574917601436301177725244800400281642782011490055022720837042091728533148021662416999346665846398097900894770822732369925786430930380337999594288133373642118655740798921237923007064831476483905301883843370644723126129044384778731556118597192957643100325972616296038570683201423420789888883368644051083404856665439540812094786928779652393141267075177753334610242789903351803909463791935769723099938637751907776617457806835496512873799914420190399948369718893075378327493857184432031646247757618241496884908445663245853030299067226500432025035521978056944505934929160546707508136306853096987279414159238001450359825277098241567438832647253102255920841471162351228226082762409135160546957857507166207238234544644664486972840047238907132992816605605561271696758511685263315453812076288060155813104673767508771440897613063749166047187006845138851168379886816822603959810833068896417501508906761873867460989242168925277805204109065350278362008287863062048067450508561860798253962986262598809053136714398692760133571768157442644891299241902192922233841894232632759226285533837086003856806156369878015809446833593683313347288099537240027203903825907098204412094368294020311544915573239767507971137836712560518724196058939817682292498369213910825980986740738268027023387452785660716073119073546121298442451473387687776155206163628162370394400486862844959919046416887497197322147594350606806721485576493429902894498587995660221482324224891835447034461080047009529042402056431270287770292252157070165413753724565753583628380750596551721178082277294606222862864240705003286910151183880527181147614727789401305340954037001854540456577457928443840623734922004608774234675869396668679722907007609437654287862760922430987737375404614895817854332755433601170307092848259545223409111829773289094260894014106869259792339243460620757726982582696526609313279047717000858792094578121770259518955414006871508027953460650271754201714274762865391949011926298946376417106277937620887608712801867598602617525364217914796549286388174715268185165787113905072368725014994086578909405867818227727237693984259679343424886424946516576554342895811019687679073383300962278393177363834787535886632315220373655726890783518225796572791315476273679428079533220505611243706901454589825020071869586571212102692659187037448321839952747389399124354900780636455452656140323700994412614572678577181553779509801620010531121416177878944097458235294066336834799640426806483307438120484401834384326077382822583973012821330728379113563281255820027988279604494187204948346089782500929843096141892543902582807658697214899091973679538718940060824565150415978755086724524560852824740368175751377623545659451970181494671852810254261533068470179034345484032517983932890921017183089294994445232386172380502496581801365286706355202247615235235244083917931658990203469616039914351889849034751939128635970639472000397398734158368130107926293556195180731715382271988801872071165234324569865832184071964604451559058487522324465590803603981941124409316667327987939121569463619207916457613435360580303428781552531574376692874954397945171234445877623950178663483665803193985030908100618544615833629141726655286059612244613534146013472999903052256637471114294364479920365969834092591559814318273240934243249087758677285581023084447053001798181425607523485490769268791671595841667744393172728137334480581658282051633608816127639074119438764811225696166936741661830415088556969783083641646097797989323085347955258651160566156911236352209270676876640390247169068688166509304430646913651279521221626010846516470796456171083786410482401693178325868582838177254668514136051705749308957953045514475561359572914658023465842264384386447556200322225651037648998333699624104859311995038937350148156381705438147348313015996216267485587316361758594958402341083825625382082142266368021982040742013656375286222114939778190152048758331614917390021718336465520830230951296580055301369591444952852972346401712777085766442407831195796540464415908262023412957133855383335414760350591381349323852019042196241331471729315659834504970309736510944175055088937916650283968864208468584320126144227441274173872888823810504689929607909506089819786746382752605138387652460494233143324585325031127080582559689464849188139436814769159996085975865404152599136730624264364696826837515148112491258414191160107529011634138941152488668443678596129074207572396080499777722813898158257750309263398881463809726720161157886115458058897782081094440268499762211497725034312335435759378673907441298100440164785657895747138774925689822116802960251811534507218831012079939125895595356773156359391206614010459657474374977986690962972483922553503532951016549687904142058350640093715495485814078919811490700912547310344868254585315177631217562832702633009067646136913126349633203118921282780709827088864312919551368958833377629340880068764994988286734574186533798481561935209689025415917609266139604176032975948412770813500460571771362443858141902758091369469380985115870115670832114181026120922924352596605707181471998481153213747221170636757848548875149631351809767828185231876412878051935944271001294861909567410707763106980753831341310746527192168003426597463754952870176065820774558443950128430172018122463128417548089595305889159165625187368239003039822147394696933164990696283718132951393766829089342093197424996141512996146548467587753825607234902071051028208075486101557249721485216518011858119160758774215518113355210594392882671408461103926223018352104385810616014642374119043742770571255548660597777475719435085305420470809601431339472986006421059020303405166172356911503899673569155245757059157035363767213201045730316468462948048516198656590302519797966616381577562593123513640647975461972931116491895177861805824535803432091445585196869904923011592561916248726901341632187107060324153845396937145895790501236393681868975874989244510122051590507240300305435236778522638967168264950559613982959976601268978146745576251451751080863283079489075908455975465360552111892628934987655727872523270529392491721799256367475093910562781981918514459940630375006528268402853154425707462482442331176756437384697512135044501316203178227625731970139658982916612247941355342471324818104283153476007011042746401499057747084565212560447503103460872674765446860850058182573885304292370770752540383496526804354134876345351961967015104893753690943891138223717864199576276258720878204686605309016331436605901053538549202694817316133401779430805083542664111114807877530460430053099803175150124710656851500643387091413124999999999999999999999999999999999999999999800000000000000000000000000000000000000000000000"
      ]
     },
     "execution_count": 24,
     "metadata": {},
     "output_type": "execute_result"
    }
   ],
   "source": [
    "combinatorio_r2(10**50, 500)"
   ]
  },
  {
   "cell_type": "markdown",
   "metadata": {},
   "source": [
    "## 6. Recursión sobre listas\n",
    "\n",
    "Así como usamos los números naturales para hacer recursión,  es posible definir algoritmos recursivos sobre listas. Sea `xs` una lista no vacía. La recursión se hace considerando la longitud de la lista \n",
    "\n",
    "Deseamos definir una función sobre una lista. Como ya vimos, una función definida por recursión debe:\n",
    "\n",
    "*   determinar el valor deseado para el *caso base* es decir para `len(xs) == 1` o `len(xs) == 0`.\n",
    "*   determinar la manera de calcular el valor para `len(xs) == n` conociendo el valor de la función para `len(xs) == n - 1` (o para todos los valores menores a `len(xs) < n`)."
   ]
  },
  {
   "cell_type": "markdown",
   "metadata": {},
   "source": [
    "Veamos un ejemplo. Supongamos que nos digan \"Escriba una función recursiva, `suma_lista()` que tome una lista de enteros y devuelva la suma de todos los enteros en la lista\". por ejemplo\n",
    "\n",
    "    suma_lista([1, 3, 4, 5, 6])\n",
    "\n",
    "debe devolver `19`.\n",
    "\n",
    "Sabemos como hacer esto de la manera iterativa:"
   ]
  },
  {
   "cell_type": "code",
   "execution_count": 25,
   "metadata": {},
   "outputs": [],
   "source": [
    "def suma_lista(xs):\n",
    "    s = 0\n",
    "    i = 0\n",
    "    while i < len(ls):\n",
    "        s = s + xs[i]\n",
    "        i = i + 1\n",
    "    return s"
   ]
  },
  {
   "cell_type": "markdown",
   "metadata": {},
   "source": [
    "(también lo podríamos haber hecho con un `for`).\n",
    "\n",
    "Sin embargo,  ahora estamos interesados en hacer este programa en forma recursiva. Recordemos que primero debemos hacer el caso cuando la lista tiene longitud 1 y  luego hacer el caso inductivo:"
   ]
  },
  {
   "cell_type": "code",
   "execution_count": 26,
   "metadata": {},
   "outputs": [
    {
     "data": {
      "text/plain": [
       "19"
      ]
     },
     "execution_count": 26,
     "metadata": {},
     "output_type": "execute_result"
    }
   ],
   "source": [
    "def suma_lista_rec(xs):\n",
    "    s = 0\n",
    "    if len(xs) == 1:\n",
    "        s = xs[0]\n",
    "    else:\n",
    "        s = xs[0] + suma_lista_rec(xs[1:])\n",
    "    return s\n",
    "\n",
    "suma_lista_rec([1, 3, 4, 5, 6])"
   ]
  },
  {
   "cell_type": "markdown",
   "metadata": {},
   "source": [
    "El algoritmo anterior tiene un problema: si tratamos de hacer \n",
    "\n",
    "    suma_lista([])\n",
    "\n",
    "obtenemos un error. Esto se de bebe que cuando en el cuerpo de la función se ingresa al `else` el programa trata de calcular `xs[0]` y ese valor no existe. Una opción es tener cuidado de no ingresar una lista vacía a esta función o cambiar levemente la definición recursiva:"
   ]
  },
  {
   "cell_type": "code",
   "execution_count": 27,
   "metadata": {},
   "outputs": [
    {
     "name": "stdout",
     "output_type": "stream",
     "text": [
      "19\n",
      "0\n"
     ]
    }
   ],
   "source": [
    "def suma_lista_rec(xs):\n",
    "    if len(xs) == 0:\n",
    "        s = 0\n",
    "    else:\n",
    "        s = xs[0] + suma_lista_rec(xs[1:])\n",
    "    return s\n",
    "\n",
    "print(suma_lista_rec([1, 3, 4, 5, 6]))\n",
    "print(suma_lista_rec([]))"
   ]
  },
  {
   "cell_type": "markdown",
   "metadata": {},
   "source": [
    "La definición anterior se basa en que en matemática se considera que una sumatoria,  y esto no es más que una sumatoria, que no tiene elementos tiene el valor 0. "
   ]
  }
 ],
 "metadata": {
  "colab": {
   "collapsed_sections": [],
   "include_colab_link": true,
   "name": "Algoritmos y Programación recursión.ipynb",
   "provenance": []
  },
  "kernelspec": {
   "display_name": "Python 3",
   "name": "python3"
  },
  "language_info": {
   "codemirror_mode": {
    "name": "ipython",
    "version": 3
   },
   "file_extension": ".py",
   "mimetype": "text/x-python",
   "name": "python",
   "nbconvert_exporter": "python",
   "pygments_lexer": "ipython3",
   "version": "3.9.6"
  }
 },
 "nbformat": 4,
 "nbformat_minor": 0
}