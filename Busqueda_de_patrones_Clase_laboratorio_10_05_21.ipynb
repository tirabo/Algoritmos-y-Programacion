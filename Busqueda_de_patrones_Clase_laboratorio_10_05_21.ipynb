{
  "nbformat": 4,
  "nbformat_minor": 0,
  "metadata": {
    "colab": {
      "name": "Clase laboratorio 10-05-21.ipynb",
      "provenance": [],
      "collapsed_sections": [],
      "authorship_tag": "ABX9TyOx5wWmBUzGo6n0IXqAFEkJ",
      "include_colab_link": true
    },
    "kernelspec": {
      "name": "python3",
      "display_name": "Python 3"
    },
    "language_info": {
      "name": "python"
    }
  },
  "cells": [
    {
      "cell_type": "markdown",
      "metadata": {
        "id": "view-in-github",
        "colab_type": "text"
      },
      "source": [
        "<a href=\"https://colab.research.google.com/github/tirabo/Algoritmos-y-Programacion/blob/main/Busqueda_de_patrones_Clase_laboratorio_10_05_21.ipynb\" target=\"_parent\"><img src=\"https://colab.research.google.com/assets/colab-badge.svg\" alt=\"Open In Colab\"/></a>"
      ]
    },
    {
      "cell_type": "markdown",
      "metadata": {
        "id": "qp91syf9sr38"
      },
      "source": [
        "## Ejecutable de pygame\n",
        "\n",
        "(no funciona en colab)"
      ]
    },
    {
      "cell_type": "code",
      "metadata": {
        "id": "lB1weReesqZL"
      },
      "source": [
        "import pygame\n",
        "from pygame.locals import *\n",
        "\n",
        "def main():\n",
        "    screen = pygame.display.set_mode((400, 200)) # crea ventana\n",
        "    pygame.display.set_caption(\"Probando\")\n",
        "    screen.fill('green')\n",
        "    pygame.display.update()\n",
        "    while True:\n",
        "        for eventos in pygame.event.get():\n",
        "            if eventos.type == QUIT:\n",
        "                exit(0) # apretando \"x\" arriba derecha cierra la ventana\n",
        "    return 0\n",
        "# RUN\n",
        "\n",
        "if __name__ == '__main__':\n",
        "    main()"
      ],
      "execution_count": null,
      "outputs": []
    },
    {
      "cell_type": "markdown",
      "metadata": {
        "id": "P82S7WjsfbKi"
      },
      "source": [
        "##Algoritmo ingenuo para la búsqueda de patrones\n",
        "\n",
        "Debemos hacer un algoritmo que dado un `texto` (una `string`) y un `patrón` (otra `string`), imprime todas las posiciones donde aparece `patrón` en `texto`. \n",
        "\n",
        "*Ejemplo.* Dada la cadena `sabghkeabkleablert` queremos encontrar las ocurrencias de `ab`.  \n",
        "\n",
        "```\n",
        "s a b g h k e a b k  l  e  a  b  l  e  r  t\n",
        "0 1 2 3 4 5 6 7 8 9 10 11 12 13 14 15 16 17\n",
        "```\n",
        "`ab` ocurre en `1`, `7` y `12`. \n",
        "\n",
        "El algoritmo que haremos va despalazando el  patrón sobre el texto y detecta las coincidencias.  La función qeu vamos hacer devolverá en el ejemplo anterior la lista `[1, 7, 12]`,  de los índices donde comienza el patron `ab`."
      ]
    },
    {
      "cell_type": "code",
      "metadata": {
        "id": "JUQn8RPNuWYf",
        "colab": {
          "base_uri": "https://localhost:8080/"
        },
        "outputId": "1bb15cd7-aa87-4fb9-b3a5-14cb472df62d"
      },
      "source": [
        "def buscar_patron(cadena: str, patron: str) -> list:\n",
        "  # post: devuelve los índices de la cadena donde comienza el parton.\n",
        "  lista = []\n",
        "  lenp = len(patron)\n",
        "  for i in range(len(cadena)):\n",
        "    if cadena[i:i+lenp] == patron: \n",
        "      lista.append(i)\n",
        "  return lista\n",
        "\n",
        "buscar_patron('sabghkeabkleablert', 'ab')\n",
        "\n"
      ],
      "execution_count": null,
      "outputs": [
        {
          "output_type": "execute_result",
          "data": {
            "text/plain": [
              "[1, 7, 12]"
            ]
          },
          "metadata": {
            "tags": []
          },
          "execution_count": 39
        }
      ]
    },
    {
      "cell_type": "markdown",
      "metadata": {
        "id": "p-g2NKIwhF29"
      },
      "source": [
        "Un problema,  también de patrones pero con otras características,  es el siguiente. \n",
        "\n",
        "*Ejercicio.* Dado un texto, encontrar las palabras de 6 letras que comienzan  con `a`. Una vez que encuentra la palabra guarda en una lista el índice. Se supone, para simplificar, que las palabras solo están separadas por espacios.  "
      ]
    },
    {
      "cell_type": "code",
      "metadata": {
        "id": "IJJInhtMhuGR",
        "colab": {
          "base_uri": "https://localhost:8080/"
        },
        "outputId": "44adf969-e6f0-4850-b46c-6fd48294059b"
      },
      "source": [
        "from random import choice\n",
        "alfabeto = ['a', 'b', 'c', 'd', 'e', 'f', 'g', ' ']\n",
        "\n",
        "\n",
        "# ¿Cómo hacemos un texto al azar de longitud n?\n",
        "def texto_al_azar_longitud(n: int, alfabeto: list) -> str:\n",
        "  texto = ''\n",
        "  for i in range(n):\n",
        "    letra = choice(alfabeto)\n",
        "    texto = texto + letra\n",
        "  return texto\n",
        "\n",
        "# print(texto_al_azar_longitud(100, alfabeto))\n",
        "\n",
        "# ¿Cómo hacemos un texto al azar de k palabras?\n",
        "def texto_al_azar_palabras(k: int, alfabeto: list) -> str:\n",
        "  texto = ''\n",
        "  i = 1\n",
        "  while i <= k:\n",
        "    palabra = ''\n",
        "    letra = choice(alfabeto) # tarea: elegir en alfabeto / {' '}\n",
        "    while  letra != ' ':\n",
        "      palabra = palabra + letra\n",
        "      letra = choice(alfabeto)\n",
        "    texto = texto + palabra + ' '\n",
        "    i = i + 1\n",
        "  return texto \n",
        "\n",
        "# print(texto_al_azar_palabras(5, alfabeto))\n",
        "\n",
        "\n",
        "\n",
        "\n"
      ],
      "execution_count": null,
      "outputs": [
        {
          "output_type": "stream",
          "text": [
            "d afdcedbdgae  ecgaec gdaccf \n"
          ],
          "name": "stdout"
        }
      ]
    },
    {
      "cell_type": "markdown",
      "metadata": {
        "id": "2CLlXRKMxA0q"
      },
      "source": [
        "\n",
        "Haremos una función que devuelva la lista de índices del inicio de las palabras de longitud `6` que comienzan con `a`."
      ]
    },
    {
      "cell_type": "code",
      "metadata": {
        "id": "7RLpUMoTuQja",
        "colab": {
          "base_uri": "https://localhost:8080/"
        },
        "outputId": "7c51b48f-18ce-4c5a-91e3-5e6b10dd56cc"
      },
      "source": [
        "# print('abcdecdef'.find('c')) # devuelve la primera ocurrencia del 'c'\n",
        "# lista = list('abcdecdef')\n",
        "# print(lista.index('c'))\n",
        "\n",
        "\n",
        "def palabras_6_a(cadena: str) -> list:\n",
        "  #pre: len(cadena) > 1\n",
        "  match =[]\n",
        "  for i in range(len(cadena)):\n",
        "    if cadena[i] == 'a':\n",
        "      if i == 0 or (i > 0 and cadena[i - 1] == ' '):\n",
        "        \"\"\"\n",
        "        lista = buscar_patron(cadena[i:],' ')\n",
        "        if len(lista) > 0 and lista[0] == 6:\n",
        "        \"\"\"\n",
        "        if cadena[i:].find(' ') == 6 or len(cadena[i:]) == 6:\n",
        "          match.append(i)\n",
        "  return match\n",
        "\n",
        "frase = 'adf asdfgh rghjkl aiop uio aertyu'\n",
        "\n",
        "print(palabras_6_a(frase))\n",
        "\n"
      ],
      "execution_count": null,
      "outputs": [
        {
          "output_type": "stream",
          "text": [
            "[4, 27]\n"
          ],
          "name": "stdout"
        }
      ]
    },
    {
      "cell_type": "markdown",
      "metadata": {
        "id": "a8Zres_fv99O"
      },
      "source": [
        "Se puede generalizar: buscar palabras de longitud `lon` que empiecen con cierta string,  digamos `patron`\n"
      ]
    },
    {
      "cell_type": "code",
      "metadata": {
        "id": "7nuoohFUwM62",
        "colab": {
          "base_uri": "https://localhost:8080/"
        },
        "outputId": "b4ae52f5-2e98-4ec9-ef0b-807bd080c5d2"
      },
      "source": [
        "def palabras_p_ptrn(lon: int, patron: str, cadena: str) -> lista:\n",
        "  match =[]\n",
        "  lenp = len(patron)\n",
        "  for i in range(len(cadena)):\n",
        "    if cadena[i: i + lenp] == patron:\n",
        "      if i == 0 or (i > 0 and cadena[i - 1] == ' '):\n",
        "        if cadena[i:].find(' ') == lon or len(cadena[i:]) == lon:\n",
        "          match.append(i)\n",
        "  return match\n",
        "\n",
        "frase = 'adf asdfgh rghjkl aiop asdght uio aertyu'\n",
        "\n",
        "print(palabras_p_ptrn(4, 'ai', frase))"
      ],
      "execution_count": null,
      "outputs": [
        {
          "output_type": "stream",
          "text": [
            "[18]\n"
          ],
          "name": "stdout"
        }
      ]
    }
  ]
}