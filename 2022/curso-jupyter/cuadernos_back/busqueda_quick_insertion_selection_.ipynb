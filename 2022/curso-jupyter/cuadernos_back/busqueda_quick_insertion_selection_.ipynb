{
  "nbformat": 4,
  "nbformat_minor": 0,
  "metadata": {
    "colab": {
      "name": "Clase laboratorio 12-05-21.ipynb",
      "provenance": [],
      "collapsed_sections": [],
      "authorship_tag": "ABX9TyMzs+WNyQ1IZk7LrbIf67hG",
      "include_colab_link": true
    },
    "kernelspec": {
      "name": "python3",
      "display_name": "Python 3"
    },
    "language_info": {
      "name": "python"
    }
  },
  "cells": [
    {
      "cell_type": "markdown",
      "metadata": {
        "id": "view-in-github",
        "colab_type": "text"
      },
      "source": [
        "<a href=\"https://colab.research.google.com/github/tirabo/Algoritmos-y-Programacion/blob/main/busqueda_quick_insertion_selection_.ipynb\" target=\"_parent\"><img src=\"https://colab.research.google.com/assets/colab-badge.svg\" alt=\"Open In Colab\"/></a>"
      ]
    },
    {
      "cell_type": "markdown",
      "metadata": {
        "id": "AFxsS5EM223a"
      },
      "source": [
        "## Ordenamiento por selección (selection sort) y por inserción (insertion sort)\n",
        "\n",
        "Siempre tratamos de ordenar una lista de elementos comparables (`int` o `str`, por ejemplo) \n",
        "\n",
        "**Ordenamiento por selección.** En  este caso se tiene la primera parte de una lista (de `0` a `i-1`) y `lista[:i]` está ordenada.  Además todos los elementos de `lista[:i]` son `<=` que los del resto de la lista (`lista[i:]`). Se elige el mínimo del resto, es decir de `lista[i:]`, y se permuta por el primer elemento de esa sublista. Luego  la primera parte se agranda  a `lista[:i+1]`.   \n",
        "\n",
        "**Una idea sencilla para ordenar.** Supongamos que tenemos una fila con  `n` personas y las queremos acomodar por orden alfabético ascendente. \n",
        "- Entonces, a la primera persona y le damos el primer lugar (posición `0`). \n",
        "- Miramos la segunda persona comparamos su  apellido con la de posición `0` y la acomodamos donde corresponde. Así quedan asignados 2 lugares, por ejemplo: `Benitez`, `Pérez`. \n",
        "- Cuando miramos la tercera persona comparamos su  apellido con las que ya están y según esa comparación la acomodamos,  si  la persona es `Álvarez` la insertamos en el primer lugar, si es `González` la insertamos en el segundo lugar y si es `Sánchez`  en el tercer lugar.\n",
        "- Hacemos algo análogo con todas las personas siguientes. \n",
        "\n",
        "**Ordenamiento por inserción.** En  este caso se tiene la primera parte de una lista (de `0` a `i-1`) y `lista[:i]` está ordenada.  Se toma el elemento `lista[i]` y se lo inserta en el lugar correspondiente. Más concretamente,\n",
        "- Si `elemento = lista[i]`, nos fijamos recorriendo  la sublista `lista[:i]` en forma descendente cual es el primer índice `k` donde \n",
        "`lista[k] <= elemento`.\n",
        "- Insertamos `elemento` en el lugar `k+1`. \n",
        "- Hacemos algo análogo para todos los índices.\n",
        "\n",
        "Ahora bien, hay dos formas de insertar el elemento, digamos `elemento`, en el lugar correspondiente:\n",
        "1. Vamos \"swapeando\" `elemento` con los elementos que son mayores (en orden descendente) hasta que llegamos a un elemento que es menor o igual a `elemento` y ahí nos detenemos (ver `insertion_sort_v1()`). \n",
        "2. Vamos \"corriendo\" los elementos más grandes que `elemento`, poniéndolos un lugar más arriba de donde están. El proceso se detiene cuando llegamos a un elemento menor o igual a `elemento`.  Luego ubicamos `elemento` en la posición que quedo \"libre\" (pues el elemento que estaba ahí fue corrido).   Esta última implementación es la preferida,  debido a que usa menos asignaciones  (ver `insertion_sort()`) "
      ]
    },
    {
      "cell_type": "code",
      "metadata": {
        "colab": {
          "base_uri": "https://localhost:8080/"
        },
        "id": "xz70MwqnBg2P",
        "outputId": "550cc797-abea-4e00-81c7-46ee1f909488"
      },
      "source": [
        "from random import randint\n",
        "\n",
        "lista_1 = [randint(1,20) for i in range(50)]\n",
        "print(lista_1)\n",
        "\n",
        "lista_2 = [randint(1,200) for i in range(20)]\n",
        "print(lista_2)\n"
      ],
      "execution_count": null,
      "outputs": [
        {
          "output_type": "stream",
          "name": "stdout",
          "text": [
            "[4, 6, 20, 16, 10, 7, 13, 6, 2, 4, 10, 2, 4, 1, 10, 13, 13, 13, 12, 12, 14, 5, 4, 14, 7, 15, 6, 16, 16, 6, 5, 2, 18, 7, 11, 13, 6, 14, 3, 8, 17, 15, 4, 17, 3, 5, 6, 11, 11, 1]\n",
            "[54, 78, 183, 178, 129, 112, 193, 124, 47, 192, 33, 67, 15, 167, 167, 150, 116, 144, 117, 137]\n"
          ]
        }
      ]
    },
    {
      "cell_type": "code",
      "metadata": {
        "colab": {
          "base_uri": "https://localhost:8080/"
        },
        "id": "8_BoSRQh7V9V",
        "outputId": "49643051-693b-4162-83c8-d0decff93f54"
      },
      "source": [
        "def insertion_sort_v1(lista: list):\n",
        "  # pre: lista es una list de elementos comparables (int o str, por ahora).\n",
        "  # post: devuelve una lista con los elementos de lista ordenados en forma creciente. \n",
        "  #       El ordenamiento se hace insertando en el orden correcto. \n",
        "  for i in range(len(lista)):\n",
        "    # inserta lista[i] en la sublista ordenada lista[:i] \n",
        "    elemento = lista[i]\n",
        "    k = i - 1 \n",
        "    while k >= 0 and lista[k] > elemento:\n",
        "      lista[k + 1], lista[k]   = lista[k],  elemento\n",
        "      k = k - 1\n",
        "      # Ahora  lista[k] <= elemento = lista[k+1] < lista[k+2]\n",
        "      # luego lista[:i+1] ordenada\n",
        "\n",
        "\n",
        "def insertion_sort(lista: list):\n",
        "  # pre: lista es una list de elementos comparables (int o str, por ahora).\n",
        "  # post: devuelve una lista con los elementos de lista ordenados en forma creciente. \n",
        "  #       El ordenamiento se hace insertando en el orden correcto. \n",
        "  for i in range(len(lista)):\n",
        "    # inserta lista[i] en la sublista ordenada lista[:i] \n",
        "    elemento = lista[i]\n",
        "    k = i - 1 \n",
        "    while k >= 0 and lista[k] > elemento:\n",
        "      lista[k + 1] = lista[k]\n",
        "      k = k - 1\n",
        "    # Ahora lista[k] <= elemento y lista[k+1] = lista[k+2] > elemento\n",
        "    # Inserto lista[i] en la posición k + 1\n",
        "    lista[k + 1] = elemento\n",
        "    # Ahora  lista[k] <= elemento = lista[k+1] < lista[k+2]\n",
        "    # luego lista[:i+1] ordenada\n",
        "\n",
        "insertion_sort_v1(lista_1)\n",
        "print(lista_1)\n",
        "insertion_sort_v1(lista_2)\n",
        "print(lista_2)"
      ],
      "execution_count": null,
      "outputs": [
        {
          "output_type": "stream",
          "name": "stdout",
          "text": [
            "[1, 1, 2, 2, 2, 3, 3, 4, 4, 4, 4, 4, 5, 5, 5, 6, 6, 6, 6, 6, 6, 7, 7, 7, 8, 10, 10, 10, 11, 11, 11, 12, 12, 13, 13, 13, 13, 13, 14, 14, 14, 15, 15, 16, 16, 16, 17, 17, 18, 20]\n",
            "[15, 33, 47, 54, 67, 78, 112, 116, 117, 124, 129, 137, 144, 150, 167, 167, 178, 183, 192, 193]\n"
          ]
        }
      ]
    },
    {
      "cell_type": "markdown",
      "metadata": {
        "id": "5D2RyoMXCe6n"
      },
      "source": [
        "##Concatenación de listas\n",
        "\n",
        "En  la proxima celda de código vamos a programar quick sort de tal forma que devuelve otra lista (no modifica la lista a ordenar). Para hacer esta definición es necesario comprender el concepto de *concatenación de listas*. \n",
        "\n",
        "Si  tenemos \n",
        "\n",
        "```\n",
        "lst_1 = [40, 11, 8, 17], lst_2 = [3, 10, 25]\n",
        "```\n",
        "la concatenacón de dos listas es hacer una lista con los elementos de la primera al comienzo y a continuación los elementos de la segunda.\n",
        "\n",
        "\n",
        "```\n",
        "lst_1 + lst_2 == [40, 11, 8, 17, 3, 10, 25]\n",
        "```\n",
        "\n",
        "Esto se generaliza fácilmente:\n",
        "```\n",
        "lst_1 = [a_0, a_1, ..., a_n], lst_2 = [b_0, b_1, ..., b_n]\n",
        "```\n",
        "entonces\n",
        "```\n",
        "lst_1 + lst_2 == [a_0, a_1, ..., a_n, b_0, b_1, ..., b_n]\n",
        "```\n",
        "\n",
        "\n",
        "\n",
        "\n",
        "\n"
      ]
    },
    {
      "cell_type": "markdown",
      "metadata": {
        "id": "HUe1183oSTYh"
      },
      "source": [
        "Una primera aproximación a quick sort (la versión que devuelve otra lista) es la siguiente:"
      ]
    },
    {
      "cell_type": "code",
      "metadata": {
        "colab": {
          "base_uri": "https://localhost:8080/"
        },
        "id": "avBf0o3CHWBf",
        "outputId": "a35a1548-de75-4c05-a2b0-c43e171a3b92"
      },
      "source": [
        "def qsort(lista: list) -> list:\n",
        "  if lista == []:\n",
        "    lista_ord = []\n",
        "  else:\n",
        "    lst_1 = []\n",
        "    for x in lista[1:]:\n",
        "      if x <= lista[0]:\n",
        "        lst_1.append(x)\n",
        "    # lst_1 = todos los elemtos de lista <= lista[0]\n",
        "    lst_2 = []\n",
        "    for x in lista[1:]:\n",
        "      if x > lista[0]:\n",
        "        lst_2.append(x)\n",
        "    # lst_2 = todos los elementos de lista > lista[0]\n",
        "    lista_ord = qsort(lst_1) + lista[0:1] + qsort(lst_2)\n",
        "  return lista_ord\n",
        "\n",
        "# Observación. lista[0:1] = [lista[0]] o [] si la lista es vacía. \n",
        "\n",
        "lista_2 = [randint(1,10**8) for i in range(10**5)]\n",
        "# print(lista_2)\n",
        "print(qsort(lista_2)[5000:5020])\n"
      ],
      "execution_count": null,
      "outputs": [
        {
          "output_type": "stream",
          "name": "stdout",
          "text": [
            "[5054941, 5056286, 5056648, 5058669, 5059859, 5060047, 5060994, 5062080, 5062402, 5063043, 5066668, 5066743, 5067601, 5068178, 5068244, 5069184, 5070698, 5071303, 5071392, 5071640]\n"
          ]
        }
      ]
    },
    {
      "cell_type": "markdown",
      "metadata": {
        "id": "IrHpo5wASkiG"
      },
      "source": [
        "Gracias a listas por comprensión de podemos obtener un código más compacto (y posiblemente más eficiente)"
      ]
    },
    {
      "cell_type": "code",
      "metadata": {
        "colab": {
          "base_uri": "https://localhost:8080/"
        },
        "id": "ZDukAQf0SkvN",
        "outputId": "b4ae8243-965b-4c2c-d28a-eb3f70c27a6a"
      },
      "source": [
        "\n",
        "def qsort(lista: list) -> list:\n",
        "  if lista == []:\n",
        "    lista_ord = []\n",
        "  else:\n",
        "    lst_1 = [x for x in lista[1:] if x <= lista[0]] # lst_1 = todos los elemtos de lista <= lista[0]\n",
        "    lst_2 = [x for x in lista[1:] if x > lista[0]]  # lst_2 = todos los elemtos de lista > lista[0]\n",
        "    lista_ord = lista_ord = qsort(lst_1) + lista[0:1] + qsort(lst_2)\n",
        "  return lista_ord\n",
        "\n",
        "\n",
        "lista_2 = [randint(1,10**8) for i in range(10**5)]\n",
        "# print(lista_2)\n",
        "print(qsort(lista_2)[5000:5020])"
      ],
      "execution_count": null,
      "outputs": [
        {
          "output_type": "stream",
          "name": "stdout",
          "text": [
            "[5026481, 5026569, 5026935, 5028761, 5029613, 5031465, 5031803, 5035043, 5035804, 5037105, 5037788, 5038195, 5038801, 5040553, 5042483, 5043350, 5045846, 5048522, 5049473, 5051330]\n"
          ]
        }
      ]
    },
    {
      "cell_type": "markdown",
      "metadata": {
        "id": "ltst2LwyTUT_"
      },
      "source": [
        "O mejor aún:"
      ]
    },
    {
      "cell_type": "code",
      "metadata": {
        "colab": {
          "base_uri": "https://localhost:8080/"
        },
        "id": "jOQNSAqgTWo8",
        "outputId": "9bad5306-e289-4e4a-e630-6993c68c598b"
      },
      "source": [
        "  def qsort(lista: list) -> list:\n",
        "    if lista == []:\n",
        "      lista_ord = []\n",
        "    else:\n",
        "      lista_ord = qsort([x for x in lista[1:] if x <= lista[0]]) + lista[0:1] + qsort([x for x in lista[1:] if x > lista[0]])\n",
        "    return lista_ord\n",
        "\n",
        "lista_2 = [randint(1,10**8) for i in range(10**5)]\n",
        "# print(lista_2)\n",
        "print(qsort(lista_2)[5000:5020])\n"
      ],
      "execution_count": null,
      "outputs": [
        {
          "output_type": "stream",
          "name": "stdout",
          "text": [
            "[5040960, 5041771, 5041967, 5043594, 5048015, 5048265, 5049314, 5049746, 5049870, 5054313, 5054366, 5055028, 5056535, 5057599, 5058941, 5059544, 5061619, 5062127, 5062552, 5062790]\n"
          ]
        }
      ]
    },
    {
      "cell_type": "markdown",
      "metadata": {
        "id": "mC4a5a_FTnxE"
      },
      "source": [
        "Ahora definiremos los tres algoritmos de búsqueda (selección, inserción  y quick) y compararemos los tiempos de ejecución para ordenar listas (bastante) desordenadas,  es decir un caso genérico. "
      ]
    },
    {
      "cell_type": "code",
      "metadata": {
        "id": "9MFLfp7sJIK1"
      },
      "source": [
        "def selection_sort(lista: list):\n",
        "    for i in range(len(lista)):\n",
        "        i_min = i\n",
        "        for j in range(i + 1, len(lista)):\n",
        "            if lista[j] < lista[i_min]:\n",
        "                i_min = j\n",
        "        lista[i], lista[i_min] = lista[i_min], lista[i]\n",
        "\n",
        "\n",
        "def insertion_sort(lista: list):\n",
        "  for i in range(len(lista)):\n",
        "    elemento = lista[i]\n",
        "    k = i - 1 \n",
        "    while k >= 0 and lista[k] > elemento:\n",
        "      lista[k + 1] = lista[k]\n",
        "      k = k - 1\n",
        "    lista[k + 1] = elemento\n",
        "\n",
        "\n",
        "def quick_sort(lista: list) -> list:\n",
        "  if lista == []:\n",
        "    lista_ord = []\n",
        "  else:\n",
        "    lista_ord = qsort([x for x in lista[1:] if x < lista[0]]) + lista[0:1] + qsort([x for x in lista[1:] if x >= lista[0]])\n",
        "  return lista_ord\n",
        "\n"
      ],
      "execution_count": null,
      "outputs": []
    },
    {
      "cell_type": "code",
      "metadata": {
        "id": "QPi4HfSRKlVJ"
      },
      "source": [
        "# Hacemos listas aleatorias \n",
        "lista_1 = [randint(10**2,10**4) for i in range(10**4)]\n",
        "# print(lista_1)\n"
      ],
      "execution_count": null,
      "outputs": []
    },
    {
      "cell_type": "markdown",
      "metadata": {
        "id": "kgehY69NU0z0"
      },
      "source": [
        "Para medir el tiempo de ejecución de los algoritmos importamos la biblioteca `time` usamos la función `time.time()` que nos devuelve el tiempo en segundos transcurridos desde epoch con una precisión de millonésimas de segundo.   "
      ]
    },
    {
      "cell_type": "code",
      "metadata": {
        "colab": {
          "base_uri": "https://localhost:8080/"
        },
        "id": "Nol9Xu9yKnLJ",
        "outputId": "f76311ee-012c-4aeb-cc32-a18b8d123c1d"
      },
      "source": [
        "# Medir tiempo algoritmos\n",
        "import time\n",
        "\n",
        "print('Ordenando una lista de ',len(lista_1),' enteros')\n",
        "x0 = time.time() # devuelve el tiempo en segundos desde epoch con una precision de millonésima de segundo\n",
        "lista = lista_1[:] # copiamos lista_1  a lista (así lista_1 no se modifica)\n",
        "selection_sort(lista)\n",
        "print('Selección:',time.time() - x0) # \n",
        "\n",
        "x0 = time.time() # devuelve el tiempo en segundos desde epoch con una precision de millonésima de segundo\n",
        "lista = lista_1[:]\n",
        "insertion_sort(lista)\n",
        "print('Inserción:', time.time() - x0) # \n",
        "\n",
        "x0 = time.time() # devuelve el tiempo en segundos desde epoch con una precision de millonésima de segundo\n",
        "lista = lista_1[:]\n",
        "quick_sort(lista)\n",
        "print('QS:',time.time() - x0) # \n"
      ],
      "execution_count": null,
      "outputs": [
        {
          "output_type": "stream",
          "name": "stdout",
          "text": [
            "Ordenando una lista de  10000  enteros\n",
            "Selección: 4.808238983154297\n",
            "Inserción: 5.838040590286255\n",
            "QS: 0.04121685028076172\n"
          ]
        }
      ]
    },
    {
      "cell_type": "markdown",
      "metadata": {
        "id": "v0rDIVVQWFqo"
      },
      "source": [
        "Variando el tamaño de la lista a ordenar se verá:\n",
        "1. selección e inserción tardan más o menos lo mismo,\n",
        "2. quick es mucho más rápido que selección e inserción. \n",
        "3. Aumentando el tamaño de la lista la diferencia entre quick y  selección e inserción es cada vez más pronunciada. \n",
        "4. Si la lista excede los 50.000 items selección e inserción tardarán varios años o no terminarán nunca. \n",
        "\n",
        "En  el caso de  quick sort es posible ordenar en tiempos razonables listas \"grandes\", por ejemplo,  de 1 millón de enteros."
      ]
    },
    {
      "cell_type": "code",
      "metadata": {
        "colab": {
          "base_uri": "https://localhost:8080/"
        },
        "id": "QPoHIsaTGBCs",
        "outputId": "690ccab3-4522-4a05-ebe1-4e695eaf4e79"
      },
      "source": [
        "\n",
        "lista_2 = [randint(10**7, 10**8) for i in range(10**6)]\n",
        "x0 = time.time() # devuelve el tiempo en segundos desde epoch com una precision de millonésima de segundo\n",
        "lista = lista_2[:]\n",
        "quick_sort(lista)\n",
        "print('\\nOrdenando quick_sort una lista de ',len(lista_2),' enteros')\n",
        "print('quick_sort:',time.time() - x0) # \n",
        "#lista = lista_2[:]\n",
        "#qs2(lista)\n",
        "#print('\\nOrdenando qs2 una lista de ',len(lista_2),' enteros')\n",
        "#print('qs2:',time.time() - x0) # \n"
      ],
      "execution_count": null,
      "outputs": [
        {
          "output_type": "stream",
          "name": "stdout",
          "text": [
            "\n",
            "Ordenando quick_sort una lista de  1000000  enteros\n",
            "quick_sort: 7.480283498764038\n"
          ]
        }
      ]
    },
    {
      "cell_type": "markdown",
      "metadata": {
        "id": "kl7cPNXxIA2K"
      },
      "source": [
        "## Algortimos de búsqueda en casos especiales\n",
        "\n",
        "¿Qué ocurre si queremos ordenar una lista ordenada?\n",
        "\n",
        "Probemos los algoritmos en la lista `[0,1,...,n]`\n",
        "\n",
        "\n"
      ]
    },
    {
      "cell_type": "code",
      "metadata": {
        "colab": {
          "base_uri": "https://localhost:8080/"
        },
        "id": "ydkuaawrZTaT",
        "outputId": "7883b838-9cb5-4a66-adbb-e9f923344763"
      },
      "source": [
        "lista_1 = [i for i in range(10**4)]\n",
        "\n",
        "print('Ordenando una lista de ',len(lista_1),' enteros ordenados')\n",
        "x0 = time.time() \n",
        "lista = lista_1[:] # copiamos lista_1  a lista (así lista_1 no se modifica)\n",
        "selection_sort(lista)\n",
        "print('Selección:',time.time() - x0) # \n",
        "\n",
        "x0 = time.time() \n",
        "lista = lista_1[:]\n",
        "insertion_sort(lista)\n",
        "print('Inserción:', time.time() - x0) # \n",
        "\n",
        "x0 = time.time() # devuelve el tiempo en segundos desde epoch con una precision de millonésima de segundo\n",
        "lista = lista_1[:]\n",
        "# quick_sort(lista_1)\n",
        "# print('QS:',time.time() - x0) # \n"
      ],
      "execution_count": null,
      "outputs": [
        {
          "output_type": "stream",
          "name": "stdout",
          "text": [
            "Ordenando una lista de  10000  enteros ordenados\n",
            "Selección: 4.790849924087524\n",
            "Inserción: 0.0026216506958007812\n"
          ]
        }
      ]
    },
    {
      "cell_type": "markdown",
      "metadata": {
        "id": "5DHDau7KZ-su"
      },
      "source": [
        "Habrán observado en el ejemplo anterior que selección tardó un tiempo parecido al que hubiera tardado con un arreglo desordenado. En  cambio inserción tardó muy poco (¿por qué?).\n",
        "\n",
        "Finalmente, quick sort,  si lo descomentamos, nos da error, pues de la forma que está programado requiere niveles de profundidad en la recursión (tamaño de la pila) que no están permitidos  en Python. Con un arreglo ordenado,  ni siquiera quick sort puede terminar para 1000 elementos.\n",
        "\n",
        "Eligiendo aleatoriamente el pivot se puede solucionar este problema."
      ]
    },
    {
      "cell_type": "code",
      "metadata": {
        "id": "FaWPwnfDbiKB"
      },
      "source": [
        "def qsort_v2(lista: list) -> list:\n",
        "  if lista == []:\n",
        "    lista_ord = []\n",
        "  else:\n",
        "    k = randint(0, len(lista) - 1)\n",
        "    lst_1 = [x for x in lista[:k] + lista[k+1:]  if x <= lista[k]] # lst_1 = todos los elemtos de lista <= lista[k]\n",
        "    lst_2 = [x for x in lista[:k] + lista[k+1:]  if x > lista[k]]  # lst_2 = todos los elemtos de lista > lista[k]\n",
        "    lista_ord = lista_ord = qsort_v2(lst_1) + lista[k:k+1] + qsort_v2(lst_2)\n",
        "  return lista_ord"
      ],
      "execution_count": null,
      "outputs": []
    },
    {
      "cell_type": "code",
      "metadata": {
        "colab": {
          "base_uri": "https://localhost:8080/"
        },
        "id": "_Ru_PTWYbJGd",
        "outputId": "584d7383-bcc4-4e68-866b-aa6cfd3c2e80"
      },
      "source": [
        "lista_1 = [i for i in range(10**5)]\n",
        "x0 = time.time() \n",
        "qsort_v2(lista_1)\n",
        "print('QS de lista ordenada:',time.time() - x0) # \n",
        "\n",
        "lista_1 = [randint(0,10**6) for i in range(10**5)]\n",
        "x0 = time.time() \n",
        "qsort_v2(lista_1)\n",
        "print('QS de lista no ordenada:',time.time() - x0) # "
      ],
      "execution_count": null,
      "outputs": [
        {
          "output_type": "stream",
          "name": "stdout",
          "text": [
            "QS de lista ordenada: 0.7327911853790283\n",
            "QS de lista no ordenada: 0.7312116622924805\n"
          ]
        }
      ]
    },
    {
      "cell_type": "code",
      "metadata": {
        "id": "sjCN3u4d0f8n"
      },
      "source": [
        "def partition(lista, start, end):\n",
        "    pivot = lista[start]\n",
        "    low = start + 1\n",
        "    high = end\n",
        "\n",
        "    while low <= high:\n",
        "        while low <= high and lista[high] >= pivot:\n",
        "            high = high - 1\n",
        "        while low <= high and lista[low] <= pivot:\n",
        "            low = low + 1\n",
        "        if low <= high:\n",
        "            lista[low], lista[high] = lista[high], lista[low]\n",
        "\n",
        "    lista[start], lista[high] = lista[high], lista[start]\n",
        "    return high\n",
        "\n",
        "\n",
        "def quick_sort(lista, start, end):\n",
        "    if start >= end:\n",
        "        return\n",
        "    p = partition(lista, start, end)\n",
        "    quick_sort(lista, start, p-1)\n",
        "    quick_sort(lista, p+1, end)"
      ],
      "execution_count": null,
      "outputs": []
    },
    {
      "cell_type": "code",
      "metadata": {
        "colab": {
          "base_uri": "https://localhost:8080/"
        },
        "id": "Wt9qqzDs1gFz",
        "outputId": "3e45b632-b261-4c1b-af8b-f063322bd781"
      },
      "source": [
        "lista_1 = [randint(0,10**6) for i in range(10**5)]\n",
        "x0 = time.time() \n",
        "quick_sort(lista, 0, len(lista) - 1)\n",
        "print('QS de lista no ordenada:',time.time() - x0) # "
      ],
      "execution_count": null,
      "outputs": [
        {
          "output_type": "stream",
          "name": "stdout",
          "text": [
            "QS de lista no ordenada: 0.03686857223510742\n"
          ]
        }
      ]
    }
  ]
}