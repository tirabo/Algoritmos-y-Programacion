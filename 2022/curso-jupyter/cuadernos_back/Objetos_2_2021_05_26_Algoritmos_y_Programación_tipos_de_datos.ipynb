{
  "nbformat": 4,
  "nbformat_minor": 0,
  "metadata": {
    "colab": {
      "name": "2021-05-26  Algoritmos y Programación tipos de datos.ipynb",
      "provenance": [],
      "collapsed_sections": [],
      "include_colab_link": true
    },
    "kernelspec": {
      "name": "python3",
      "display_name": "Python 3"
    },
    "language_info": {
      "name": "python"
    }
  },
  "cells": [
    {
      "cell_type": "markdown",
      "metadata": {
        "id": "view-in-github",
        "colab_type": "text"
      },
      "source": [
        "<a href=\"https://colab.research.google.com/github/tirabo/Algoritmos-y-Programacion/blob/main/objetos2_2021_05_26_Algoritmos_y_Programaci%C3%B3n_tipos_de_datos.ipynb\" target=\"_parent\"><img src=\"https://colab.research.google.com/assets/colab-badge.svg\" alt=\"Open In Colab\"/></a>"
      ]
    },
    {
      "cell_type": "markdown",
      "metadata": {
        "id": "iPv6OiFI7kTA"
      },
      "source": [
        "# Tipos abstractos de datos"
      ]
    },
    {
      "cell_type": "markdown",
      "metadata": {
        "id": "uSSdgOQM9fcS"
      },
      "source": [
        "La clase pasada vimos un ejemplo de tipo abstracto, o en la jerga de lenguajes orientados a objetos, definición de una clase: la clase Fecha.\n",
        "\n",
        "Para ello utilizamos algunas de las funciones que ya desarrollamos en lecciones anteriores:\n"
      ]
    },
    {
      "cell_type": "code",
      "metadata": {
        "id": "DVXbjpkQ7myp"
      },
      "source": [
        "def es_bisiesto(anho: int) -> bool:\n",
        "    # pre: anho > 0\n",
        "    # post: devuelve True si anho  es divisible por 4 (NO corresponde siempre a un año bisiesto)\n",
        "    precondición = type(anho) == int and anho > 0\n",
        "    assert precondición, 'Error: anho debe ser un entero positivo.'\n",
        "\n",
        "    return anho % 4 == 0 and anho % 100 != 0 or anho % 400 == 0\n",
        "\n",
        "def es_fecha_valida(fecha: tuple) -> bool:\n",
        "    # pre: fecha es una terna de enteros positivos\n",
        "    # post: devuelve True sii la terna se corresponde con el día, mes y año de una fecha válida\n",
        "    precondición = type(fecha) == tuple and all(type(x) == int and x > 0 for x in fecha)\n",
        "    assert precondición, 'Error: fecha debe ser una terna de enteros positivos.'\n",
        "\n",
        "    dia, mes, anho = fecha\n",
        "\n",
        "    anho_ok = 1 <= anho\n",
        "    mes_ok = 1 <= mes <= 12\n",
        "    if mes in [4, 6, 9, 11]:\n",
        "        dia_ok = 1 <= dia <= 30\n",
        "    elif mes == 2:\n",
        "        dia_ok = 1 <= dia <= 28 or (dia == 29 and es_bisiesto(anho))\n",
        "    else:\n",
        "        dia_ok = 1 <= dia <= 31\n",
        "    \n",
        "    return dia_ok and mes_ok and anho_ok\n",
        "\n",
        "def es_fecha_valida_str(cadena: str) -> bool:\n",
        "    # pre: cadena es una cadena de caracteres\n",
        "    # post: devuelve True sii la cadena contiene una fecha en formato dia/mes/año\n",
        "    precondición = type(cadena) == str\n",
        "    assert type(cadena) == str, 'Error: cadena debe ser una cadena de caracteres.'\n",
        "\n",
        "    cadena_sin_espacios = ''.join(cadena.split())\n",
        "    cadenas_fecha = cadena_sin_espacios.split('/')\n",
        "    res = len(cadenas_fecha) == 3 and all(cadena.isdecimal() for cadena in cadenas_fecha)\n",
        "    if res:\n",
        "        terna = tuple(int(cad) for cad in cadenas_fecha)\n",
        "        res = es_fecha_valida(terna)\n",
        "    return res\n",
        "\n",
        "def bisiestos_hasta(anho: int) -> int:\n",
        "    # pre: anho es un año válido\n",
        "    # post: devuelve el número de años bisiestos pasados incluyendo anho, si es bisiesto\n",
        "    precondición = type(anho) == int and anho > 0\n",
        "    assert precondición, 'Error: anho debe ser un entero positivo.'\n",
        "\n",
        "    bisiestos_anteriores = anho // 4 - anho // 100 + anho // 400\n",
        "    return bisiestos_anteriores\n",
        "\n",
        "def dias_del_anho_actual(fecha: tuple) -> int:\n",
        "    # pre: fecha es una fecha válida\n",
        "    # post: devuelve el número de días transcurridos en el corriente año, contando el actual\n",
        "    precondición = es_fecha_valida(fecha)\n",
        "    assert precondición, 'Error: fecha debe ser una fecha válida.'\n",
        "\n",
        "    # [días antes de enero, días antes de febrero, etc.] de un año no bisiesto\n",
        "    DIAS_MESES_ANTERIORES = [0, 31, 59, 90, 120, 151, 181, 212, 243, 273, 304, 334]\n",
        "    dia, mes, anho = fecha\n",
        "\n",
        "    dias = dia + DIAS_MESES_ANTERIORES[mes-1]\n",
        "    # si el año es bisiesto y la fecha es después de febrero, pasó un día más\n",
        "    if es_bisiesto(anho) and mes > 2:\n",
        "        dias = dias + 1\n",
        "    return dias\n",
        "\n",
        "def dias_de_la_era(fecha: tuple) -> int:\n",
        "    # pre: fecha es una fecha válida\n",
        "    # post: devuelve el número de días desde el 1/1/1 (asumiendo siempre Gregoriano) hasta la fecha, contando ambos extremos\n",
        "    precondición = es_fecha_valida(fecha)\n",
        "    assert precondición, 'Error: fecha debe ser una fecha válida.'\n",
        "\n",
        "    dia, mes, anho = fecha\n",
        "\n",
        "    nro_de_dias = (anho - 1) * 365 + bisiestos_hasta(anho-1) + dias_del_anho_actual(fecha)\n",
        "    return nro_de_dias\n",
        "\n",
        "def dia_de_la_semana(fecha: tuple) -> str:\n",
        "    # pre: fecha es una fecha válida\n",
        "    # post: devuelve el día de la semana en que cae la fecha dada\n",
        "    precondición = es_fecha_valida(fecha)\n",
        "    assert precondición, 'Error: fecha debe ser una fecha válida.'\n",
        "\n",
        "    DIAS_DE_LA_SEMANA = ['domingo', 'lunes', 'martes', 'miércoles', 'jueves', 'viernes', 'sábado']\n",
        "    return DIAS_DE_LA_SEMANA[dias_de_la_era(fecha) % 7]\n",
        "\n",
        "def ingresar_fecha() -> tuple:\n",
        "    # post: devuelve la primera terna de enteros positivos ingresada con formato día/mes/año\n",
        "\n",
        "    esperando_fecha = True\n",
        "    while esperando_fecha:\n",
        "        cadena_ingresada = input('Ingrese fecha con formato día/mes/año: ')\n",
        "        cadena_sin_espacios = ''.join(cadena_ingresada.split())\n",
        "        cadenas_fecha = cadena_sin_espacios.split('/')\n",
        "        if len(cadenas_fecha) == 3 and all(cadena.isdecimal() for cadena in cadenas_fecha):\n",
        "            terna = [int(cadena) for cadena in cadenas_fecha]\n",
        "            esperando_fecha = False\n",
        "        else:\n",
        "            print('Error: debe ingresar una fecha con formato día/mes/año, donde día, mes y año deben ser números enteros positivos. Inténtelo nuevamente.')\n",
        "    return terna\n",
        "\n",
        "def ingresar_fecha_valida() -> tuple:\n",
        "    fecha = ingresar_fecha()\n",
        "    while not es_fecha_valida(fecha):\n",
        "        print('Error: debe ingresar una fecha válida. Inténtelo nuevamente.')\n",
        "        fecha = ingresar_fecha()\n",
        "    return fecha\n"
      ],
      "execution_count": null,
      "outputs": []
    },
    {
      "cell_type": "markdown",
      "metadata": {
        "id": "axBChZPvP-SV"
      },
      "source": [
        "Gradualmente fuimos escribiendo la siguiente clase, donde cambiamos la representación interna, con ternas, por una con 3 atributos diferentes. Además, hemos elegido que sea mutable (observar por ejemplo el método `establecer_anho()`."
      ]
    },
    {
      "cell_type": "code",
      "metadata": {
        "id": "2dwkpAfLcELJ"
      },
      "source": [
        "from datetime import date\n",
        "\n",
        "class Fecha:                        # una definición mutable\n",
        "    def __init__(self, dma = None):\n",
        "        assert dma == None or type(dma) == tuple and es_fecha_valida(dma), 'Error: intento de crear una fecha no válida.'\n",
        "        if dma == None:\n",
        "            hoy = date.today()\n",
        "            self.__dia = hoy.day\n",
        "            self.__mes = hoy.month\n",
        "            self.__anho = hoy.year\n",
        "        else:\n",
        "            self.__dia = dma[0]\n",
        "            self.__mes = dma[1]\n",
        "            self.__anho = dma[2]\n",
        "    def dma(self):\n",
        "        return (self.__dia, self.__mes, self.__anho)\n",
        "    def amd(self):\n",
        "        return (self.__anho, self.__mes, self.__dia)\n",
        "    def dia(self):\n",
        "        return self.__dia\n",
        "    def mes(self):\n",
        "        return self.__mes\n",
        "    def anho(self):\n",
        "        return self.__anho\n",
        "    def siglo(self):\n",
        "        return self.__anho // 100 + 1\n",
        "    def establecer_anho(self, anho):\n",
        "        assert type(anho) == int and es_fecha_valida((self.__dia, self.__mes, anho)), 'Error: intento de establecer un año no válido'\n",
        "        self.__anho = anho\n",
        "    def establecer_mes(self, mes):\n",
        "        assert type(mes) == int and es_fecha_valida((self.__dia, mes, self.__anho)), 'Error: intento de establecer un mes no válido'\n",
        "        self.__mes = mes\n",
        "    def establecer_dia(self, dia):\n",
        "        assert type(dia) == int and es_fecha_valida((dia, self.__mes, self.__anho)), 'Error: intento de establecer un día no válido'\n",
        "        self.__dia = dia\n",
        "    def cadena(self):\n",
        "        return str(self.__dia) + '-' + str(self.__mes) + '-' + str(self.__anho)\n",
        "    def __str__(self):\n",
        "        return str(self.__dia) + '/' + str(self.__mes) + '/' + str(self.__anho)"
      ],
      "execution_count": null,
      "outputs": []
    },
    {
      "cell_type": "code",
      "metadata": {
        "id": "agnhmOF8cfjX",
        "colab": {
          "base_uri": "https://localhost:8080/"
        },
        "outputId": "0deaf093-3374-44e3-e55d-19e3e50f84b8"
      },
      "source": [
        "fecha = Fecha()\n",
        "fecha2 = Fecha((23,5,2021))\n",
        "print(fecha.dma())\n",
        "print(fecha2.dma())\n",
        "print(fecha)\n",
        "print(fecha2)\n",
        "print(fecha.cadena())"
      ],
      "execution_count": null,
      "outputs": [
        {
          "output_type": "stream",
          "text": [
            "(26, 5, 2021)\n",
            "(23, 5, 2021)\n",
            "26/5/2021\n",
            "23/5/2021\n",
            "26-5-2021\n"
          ],
          "name": "stdout"
        }
      ]
    },
    {
      "cell_type": "markdown",
      "metadata": {
        "id": "iAmc_962kO7A"
      },
      "source": [
        "Respecto a lo visto durante la última clase, la versión anterior añade:\n",
        "\n",
        "*   Una representación mutable, independiente de listas o tuplas, con 3 campos: uno para el día, otro para el mes y otro para el año.\n",
        "*   La posibilidad de no proporcionar ningún argumento, dando por hecho que refiere al día de hoy\n",
        "*   La definición del método `__str__` que hace posible una utilización interesante de print.\n",
        "\n",
        "¿Cómo agregar la posibilidad de leer una fecha a partir de una cadena de caracteres?"
      ]
    },
    {
      "cell_type": "code",
      "metadata": {
        "id": "ONTE9ryz8Kju"
      },
      "source": [
        "from datetime import date\n",
        "\n",
        "class Fecha:                        # una definición mutable\n",
        "    def __init__(self, dma = None):\n",
        "        assert dma == None or type(dma) == str and es_fecha_valida_str(dma) or type(dma) == tuple and es_fecha_valida(dma), 'Error: intento de crear una fecha no válida.'\n",
        "        if dma == None:\n",
        "            hoy = date.today()\n",
        "            self.__dia = hoy.day\n",
        "            self.__mes = hoy.month\n",
        "            self.__anho = hoy.year\n",
        "        elif type(dma) == str:\n",
        "            cadena_sin_espacios = ''.join(dma.split())\n",
        "            cadenas_fecha = cadena_sin_espacios.split('/')\n",
        "            terna = [int(cad) for cad in cadenas_fecha]\n",
        "            self.__dia = terna[0]\n",
        "            self.__mes = terna[1]\n",
        "            self.__anho = terna[2]\n",
        "        else:\n",
        "            self.__dia = dma[0]\n",
        "            self.__mes = dma[1]\n",
        "            self.__anho = dma[2]\n",
        "    def dma(self):\n",
        "        return (self.__dia, self.__mes, self.__anho)\n",
        "    def amd(self):\n",
        "        return (self.__anho, self.__mes, self.__dia)\n",
        "    def dia(self):\n",
        "        return self.__dia\n",
        "    def mes(self):\n",
        "        return self.__mes\n",
        "    def anho(self):\n",
        "        return self.__anho\n",
        "    def siglo(self):\n",
        "        return self.__anho // 100 + 1\n",
        "    def establecer_anho(self, anho):\n",
        "        assert type(anho) == int and es_fecha_valida((self.__dia, self.__mes, anho)), 'Error: intento de establecer un año no válido'\n",
        "        self.__anho = anho\n",
        "    def establecer_mes(self, mes):\n",
        "        assert type(mes) == int and es_fecha_valida((self.__dia, mes, self.__anho)), 'Error: intento de establecer un mes no válido'\n",
        "        self.__mes = mes\n",
        "    def establecer_dia(self, dia):\n",
        "        assert type(dia) == int and es_fecha_valida((dia, self.__mes, self.__anho)), 'Error: intento de establecer un día no válido'\n",
        "        self.__dia = dia\n",
        "    def __str__(self):\n",
        "        return str(self.__dia) + '/' + str(self.__mes) + '/' + str(self.__anho)"
      ],
      "execution_count": null,
      "outputs": []
    },
    {
      "cell_type": "code",
      "metadata": {
        "colab": {
          "base_uri": "https://localhost:8080/"
        },
        "id": "VVjuk-eZG-am",
        "outputId": "ac978536-cb35-4623-a023-3747be38c130"
      },
      "source": [
        "fecha = Fecha()\n",
        "fecha2 = Fecha((23,5,2021))\n",
        "print(fecha)\n",
        "print(fecha2)\n",
        "fecha3 = Fecha('26/5/2021')\n",
        "fecha4 = Fecha('26/5/2021')\n",
        "fecha5 = fecha3\n",
        "print(fecha3)\n",
        "print(fecha4)\n",
        "print(fecha5)\n",
        "print(fecha4 == fecha3)\n",
        "print(fecha5 == fecha3)"
      ],
      "execution_count": null,
      "outputs": [
        {
          "output_type": "stream",
          "text": [
            "26/5/2021\n",
            "23/5/2021\n",
            "26/5/2021\n",
            "26/5/2021\n",
            "26/5/2021\n",
            "False\n",
            "True\n"
          ],
          "name": "stdout"
        }
      ]
    },
    {
      "cell_type": "markdown",
      "metadata": {
        "id": "OESD_YAttMaf"
      },
      "source": [
        "Por suerte la igualdad se puede redefinir:"
      ]
    },
    {
      "cell_type": "code",
      "metadata": {
        "id": "OIyVVqUVKoVj"
      },
      "source": [
        "from datetime import date\n",
        "\n",
        "class Fecha:                        # una definición mutable\n",
        "    def __init__(self, dma = None):\n",
        "        assert dma == None or type(dma) == str and es_fecha_valida_str(dma) or type(dma) == tuple and es_fecha_valida(dma), 'Error: intento de crear una fecha no válida.'\n",
        "        if dma == None:\n",
        "            hoy = date.today()\n",
        "            self.__dia = hoy.day\n",
        "            self.__mes = hoy.month\n",
        "            self.__anho = hoy.year\n",
        "        elif type(dma) == str:\n",
        "            cadena_sin_espacios = ''.join(dma.split())\n",
        "            cadenas_fecha = cadena_sin_espacios.split('/')\n",
        "            terna = [int(cad) for cad in cadenas_fecha]\n",
        "            self.__dia = terna[0]\n",
        "            self.__mes = terna[1]\n",
        "            self.__anho = terna[2]\n",
        "        else:\n",
        "            self.__dia = dma[0]\n",
        "            self.__mes = dma[1]\n",
        "            self.__anho = dma[2]\n",
        "    def dma(self):\n",
        "        return (self.__dia, self.__mes, self.__anho)\n",
        "    def amd(self):\n",
        "        return (self.__anho, self.__mes, self.__dia)\n",
        "    def dia(self):\n",
        "        return self.__dia\n",
        "    def mes(self):\n",
        "        return self.__mes\n",
        "    def anho(self):\n",
        "        return self.__anho\n",
        "    def siglo(self):\n",
        "        return self.__anho // 100 + 1\n",
        "    def establecer_anho(self, anho):\n",
        "        assert type(anho) == int and es_fecha_valida((self.__dia, self.__mes, anho)), 'Error: intento de establecer un año no válido'\n",
        "        self.__anho = anho\n",
        "    def establecer_mes(self, mes):\n",
        "        assert type(mes) == int and es_fecha_valida((self.__dia, mes, self.__anho)), 'Error: intento de establecer un mes no válido'\n",
        "        self.__mes = mes\n",
        "    def establecer_dia(self, dia):\n",
        "        assert type(dia) == int and es_fecha_valida((dia, self.__mes, self.__anho)), 'Error: intento de establecer un día no válido'\n",
        "        self.__dia = dia\n",
        "    def __str__(self):\n",
        "        return str(self.__dia) + '/' + str(self.__mes) + '/' + str(self.__anho)\n",
        "    def __eq__(self, otro) -> bool:\n",
        "        assert isinstance(otro, Fecha), 'Error: otro debe ser instancia de Fecha.'\n",
        "        return self.__anho == otro.__anho and self.__mes == otro.__mes and self.__dia == otro.__dia\n",
        "    def __lt__(self, otro) -> bool:\n",
        "        assert isinstance(otro, Fecha), 'Error: otro debe ser instancia de Fecha.'\n",
        "        anho_menor = self.__anho < otro.__anho\n",
        "        mes_menor = self.__anho == otro.__anho and self.__mes < otro.__mes\n",
        "        dia_menor = self.__anho == otro.__anho and self.__mes == otro.__mes and self.__dia < otro.__dia\n",
        "        return anho_menor or mes_menor or dia_menor\n",
        "    def __le__(self, otro) -> bool:\n",
        "        assert isinstance(otro, Fecha), 'Error: otro debe ser instancia de Fecha.'\n",
        "        return self < otro or self == otro\n"
      ],
      "execution_count": null,
      "outputs": []
    },
    {
      "cell_type": "code",
      "metadata": {
        "colab": {
          "base_uri": "https://localhost:8080/"
        },
        "id": "WO79Oc3tsKee",
        "outputId": "09fac177-beb8-4160-8c48-d5131bf2935d"
      },
      "source": [
        "fecha = Fecha()\n",
        "fecha2 = Fecha((23,5,2021))\n",
        "print(fecha)\n",
        "print(fecha2)\n",
        "fecha3 = Fecha('26/5/2021')\n",
        "fecha4 = Fecha('26/5/2021')\n",
        "fecha5 = fecha3\n",
        "print(fecha3)\n",
        "print(fecha4)\n",
        "print(fecha5)\n",
        "print(fecha4 != fecha3)\n",
        "print(fecha5 == fecha3)\n",
        "print(fecha3 > fecha4)"
      ],
      "execution_count": null,
      "outputs": [
        {
          "output_type": "stream",
          "text": [
            "26/5/2021\n",
            "23/5/2021\n",
            "26/5/2021\n",
            "26/5/2021\n",
            "26/5/2021\n",
            "False\n",
            "True\n",
            "False\n"
          ],
          "name": "stdout"
        }
      ]
    },
    {
      "cell_type": "markdown",
      "metadata": {
        "id": "0DB3rQVuVpXx"
      },
      "source": [
        "Un caso similar es para el cómputo del tiempo con horas minutos y segundos:"
      ]
    },
    {
      "cell_type": "code",
      "metadata": {
        "id": "TdC2iWacVzWz"
      },
      "source": [
        "class Tiempo:\n",
        "    def __init__(self, dhms : tuple = (0, 0, 0, 0)):\n",
        "        assert type(dhms) == tuple and all(type(x) == int and x >= 0 for x in dhms), 'Error: intento de crear un tiempo no válido.'\n",
        "        segundos = dhms[3]\n",
        "        self.__segundos = segundos % 60\n",
        "        minutos = segundos // 60 + dhms[2]\n",
        "        self.__minutos = minutos % 60\n",
        "        horas = minutos // 60 + dhms[1]\n",
        "        self.__horas = horas % 24\n",
        "        dias = horas // 24 + dhms[0]\n",
        "        self.__dias = dias\n",
        "    # getters\n",
        "    def dhms(self):\n",
        "        return (self.__dias, self.__horas, self.__minutos, self.__segundos)\n",
        "    def dias(self):\n",
        "        return self.__dias\n",
        "    def horas(self):\n",
        "        return self.__horas\n",
        "    def minutos(self):\n",
        "        return self.__minutos\n",
        "    def segundos(self):\n",
        "        return self.__segundos\n",
        "    # setters\n",
        "    def set_dias(self, dias: int):\n",
        "        # pre: 0 <= dias\n",
        "        assert type(dias) == int and dias >= 0,'Error: dias debe ser un número entero no negativo'\n",
        "        self.__dias = dias\n",
        "    def set_horas(self, horas: int):\n",
        "        # pre: 0 <= horas <= 23\n",
        "        assert type(horas) == int and 0 <= horas <= 23,'Error: horas debe ser un número entero no negativo menor que 24'\n",
        "        self.__horas = horas\n",
        "    def set_minutos(self, minutos: int):\n",
        "        # pre: 0 <= minutos <= 59\n",
        "        assert type(minutos) == int and 0 <= minutos <= 59,'Error: horas debe ser un número entero no negativo menor que 60'\n",
        "        self.__minutos = minutos\n",
        "    def set_segundos(self, segundos: int):\n",
        "        # pre: 0 <= segundos <= 59\n",
        "        assert type(segundos) == int and 0 <= segundos <= 59,'Error: horas debe ser un número entero no negativo menor que 60'\n",
        "        self.__segundos = segundos\n",
        "    def __str__(self):\n",
        "        return str(self.__dias) + 'd' + str(self.__horas) + 'h' + str(self.__minutos) + 'm' + str(self.__segundos) + 's'\n",
        "    def __eq__(self, otro) -> bool:\n",
        "        assert isinstance(otro, Tiempo), 'Error: otro debe ser instancia de Tiempo.'\n",
        "        return self.__dias == otro.__dias and self.__horas == otro.__horas and self.__minutos == otro.__minutos and self.__segundos == otro.__segundos\n",
        "    def __lt__(self, otro) -> bool:\n",
        "        assert isinstance(otro, Tiempo), 'Error: otro debe ser instancia de Tiempo.'\n",
        "        dias_menor = self.__dias < otro.__dias\n",
        "        horas_menor = self.__dias == otro.__dias and self.__horas < otro.__horas\n",
        "        minutos_menor = self.__dias == otro.__dias and self.__horas == otro.__horas and self.__minutos < otro.__minutos\n",
        "        segundos_menor = self.__dias == otro.__dias and self.__horas == otro.__horas and self.__minutos == otro.__minutos and self.__segundos < otro.__segundos\n",
        "        return dias_menor or horas_menor or minutos_menor or segundos_menor\n",
        "    def __le__(self, otro) -> bool:\n",
        "        assert isinstance(otro, Tiempo), 'Error: otro debe ser instancia de Tiempo.'\n",
        "        return self < otro or self == otro\n"
      ],
      "execution_count": null,
      "outputs": []
    },
    {
      "cell_type": "code",
      "metadata": {
        "colab": {
          "base_uri": "https://localhost:8080/"
        },
        "id": "UNmiUozACNRl",
        "outputId": "3d91b4cf-6391-4a50-9d11-4a464f9f943e"
      },
      "source": [
        "print(Tiempo())\n",
        "tiempo = Tiempo((10,13,32,18))\n",
        "print(tiempo)\n",
        "print(tiempo > Tiempo())\n",
        "tiempo.set_dias(0)\n",
        "print(tiempo)\n",
        "tiempo.set_horas(0)\n",
        "print(tiempo)\n",
        "tiempo.minutos = 0\n",
        "print(tiempo)\n",
        "tiempo.set_segundos(0)\n",
        "print(tiempo)\n",
        "print(tiempo == Tiempo())"
      ],
      "execution_count": null,
      "outputs": [
        {
          "output_type": "stream",
          "text": [
            "0d0h0m0s\n",
            "10d13h32m18s\n",
            "True\n",
            "0d13h32m18s\n",
            "0d0h32m18s\n",
            "0d0h32m18s\n",
            "0d0h32m0s\n",
            "False\n"
          ],
          "name": "stdout"
        }
      ]
    },
    {
      "cell_type": "markdown",
      "metadata": {
        "id": "N-tOtw9MPjQq"
      },
      "source": [
        "Queremos agregar la suma de tiempos. Antes de eso resulta conveniente cambiar la representación, utilizando un arreglo en lugar de varios campos."
      ]
    },
    {
      "cell_type": "code",
      "metadata": {
        "id": "GcO87UrCEH6m"
      },
      "source": [
        "class Tiempo:\n",
        "    __DIAS = 0\n",
        "    __HORAS = 1\n",
        "    __MINUTOS = 2\n",
        "    __SEGUNDOS = 3\n",
        "    def __init__(self, dhms : tuple = (0, 0, 0, 0)):\n",
        "        assert type(dhms) == tuple and all(type(x) == int and x >= 0 for x in dhms), 'Error: intento de crear un tiempo no válido.'\n",
        "        segundos = dhms[3]\n",
        "        minutos = segundos // 60 + dhms[2]\n",
        "        segundos = segundos % 60\n",
        "        horas = minutos // 60 + dhms[1]\n",
        "        minutos = minutos % 60\n",
        "        dias = horas // 24 + dhms[0]\n",
        "        horas = horas % 24\n",
        "        self.__tiempo = [dias, horas, minutos, segundos]\n",
        "    # getters\n",
        "    def dhms(self):\n",
        "        return tuple(self.__tiempo)\n",
        "    def dias(self):\n",
        "        return self.__tiempo[Tiempo.__DIAS]\n",
        "    def horas(self):\n",
        "        return self.__tiempo[Tiempo.__HORAS]\n",
        "    def minutos(self):\n",
        "        return self.__tiempo[Tiempo.__MINUTOS]\n",
        "    def segundos(self):\n",
        "        return self.__tiempo[Tiempo.__SEGUNDOS]\n",
        "    # setters\n",
        "    def set_dias(self, dias: int):\n",
        "        # pre: 0 <= dias\n",
        "        assert type(dias) == int and dias >= 0,'Error: dias debe ser un número entero no negativo'\n",
        "        self.__tiempo[Tiempo.__DIAS] = dias\n",
        "    def set_horas(self, horas: int):\n",
        "        # pre: 0 <= horas <= 23\n",
        "        assert type(horas) == int and 0 <= horas <= 23,'Error: horas debe ser un número entero no negativo menor que 24'\n",
        "        self.__tiempo[Tiempo.__HORAS] = horas\n",
        "    def set_minutos(self, minutos: int):\n",
        "        # pre: 0 <= minutos <= 59\n",
        "        assert type(minutos) == int and 0 <= minutos <= 59,'Error: minutos debe ser un número entero no negativo menor que 60'\n",
        "        self.__tiempo[Tiempo.__MINUTOS] = minutos\n",
        "    def set_segundos(self, segundos: int):\n",
        "        # pre: 0 <= segundos <= 59\n",
        "        assert type(segundos) == int and 0 <= segundos <= 59,'Error: segundos debe ser un número entero no negativo menor que 60'\n",
        "        self.__tiempo[Tiempo.__SEGUNDOS] = segundos\n",
        "    def __str__(self):\n",
        "        return str(self.dias()) + 'd' + str(self.horas()) + 'h' + str(self.minutos()) + 'm' + str(self.segundos()) + 's'\n",
        "    def __eq__(self, otro) -> bool:\n",
        "        assert isinstance(otro, Tiempo), 'Error: otro debe ser instancia de Tiempo.'\n",
        "        i = 0\n",
        "        while i < len(self.__tiempo) and self.__tiempo[i] == otro.__tiempo[i]:\n",
        "            i = i + 1\n",
        "        return i == len(self.__tiempo)\n",
        "    def __lt__(self, otro) -> bool:\n",
        "        assert isinstance(otro, Tiempo), 'Error: otro debe ser instancia de Tiempo.'\n",
        "        i = 0\n",
        "        while i < len(self.__tiempo) and self.__tiempo[i] == otro.__tiempo[i]:\n",
        "            i = i + 1\n",
        "        return i < len(self.__tiempo) and self.__tiempo[i] < otro.__tiempo[i]\n",
        "    def __le__(self, otro) -> bool:\n",
        "        assert isinstance(otro, Tiempo), 'Error: otro debe ser instancia de Tiempo.'\n",
        "        return self < otro or self == otro\n"
      ],
      "execution_count": null,
      "outputs": []
    },
    {
      "cell_type": "code",
      "metadata": {
        "colab": {
          "base_uri": "https://localhost:8080/"
        },
        "id": "KYPFyNsSGFfO",
        "outputId": "3debef6f-62b0-42e9-d816-705811fa24bd"
      },
      "source": [
        "print(Tiempo())\n",
        "tiempo = Tiempo((10,13,32,18))\n",
        "print(tiempo)\n",
        "print(tiempo > Tiempo())\n",
        "tiempo.set_dias(0)\n",
        "print(tiempo)\n",
        "tiempo.set_horas(0)\n",
        "tiempo.set_minutos(0)\n",
        "tiempo.set_segundos(0)\n",
        "print(tiempo == Tiempo())"
      ],
      "execution_count": null,
      "outputs": [
        {
          "output_type": "stream",
          "text": [
            "0d0h0m0s\n",
            "10d13h32m18s\n",
            "True\n",
            "0d13h32m18s\n",
            "True\n"
          ],
          "name": "stdout"
        }
      ]
    },
    {
      "cell_type": "markdown",
      "metadata": {
        "id": "hipDxNW0OWoI"
      },
      "source": [
        "Recuerden que las constantes, en Python, son simplemente variables que decidimos no modificar. Al iniciar su nombre con \"__\" logramos \"esconderlas\", es decir, que no puedan accederse ni modificarse desde afuera.\n",
        "\n",
        "¿Qué diferencia hay con variables como `__tiempo`, que hemos llamado \"campos\"? Al definirlas fuera de las funciones, se convierten en variables o constantes de la clase, no de los objetos. Es decir, que esas variables o constantes son compartidas por todas las instancias de la clase.\n",
        "\n",
        "En este caso se trata de constantes, entonces no nos molesta que sean compartidas por la clase ya que nunca se modificarán.\n",
        "\n",
        "Pero miren lo que podría ocurrir si fueran variables. Agreguemos un método para cambiar una de esas \"constantes\":"
      ]
    },
    {
      "cell_type": "code",
      "metadata": {
        "id": "ifQ1Dx1kNfg_"
      },
      "source": [
        "class Tiempo:\n",
        "    __DIAS = 0\n",
        "    __HORAS = 1\n",
        "    __MINUTOS = 2\n",
        "    __SEGUNDOS = 3\n",
        "    def __init__(self, dhms : tuple = (0, 0, 0, 0)):\n",
        "        assert type(dhms) == tuple and all(type(x) == int and x >= 0 for x in dhms), 'Error: intento de crear un tiempo no válido.'\n",
        "        segundos = dhms[3]\n",
        "        minutos = segundos // 60 + dhms[2]\n",
        "        segundos = segundos % 60\n",
        "        horas = minutos // 60 + dhms[1]\n",
        "        minutos = minutos % 60\n",
        "        dias = horas // 24 + dhms[0]\n",
        "        horas = horas % 24\n",
        "        self.__tiempo = [dias, horas, minutos, segundos]\n",
        "    def cambiar_constante(self): # ESTE MÉTODO ES SOLAMENTE PARA COMPROBAR QUE __DIAS ES UNA SOLA PARA TODAS LAS INSTANCIAS DE LA CLASE\n",
        "        Tiempo.__DIAS = 3\n",
        "    # getters\n",
        "    def dhms(self):\n",
        "        return tuple(self.__tiempo)\n",
        "    def dias(self):\n",
        "        return self.__tiempo[Tiempo.__DIAS]\n",
        "    def horas(self):\n",
        "        return self.__tiempo[Tiempo.__HORAS]\n",
        "    def minutos(self):\n",
        "        return self.__tiempo[Tiempo.__MINUTOS]\n",
        "    def segundos(self):\n",
        "        return self.__tiempo[Tiempo.__SEGUNDOS]\n",
        "    # setters\n",
        "    def set_dias(self, dias: int):\n",
        "        # pre: 0 <= dias\n",
        "        assert type(dias) == int and dias >= 0,'Error: dias debe ser un número entero no negativo'\n",
        "        self.__tiempo[Tiempo.__DIAS] = dias\n",
        "    def set_horas(self, horas: int):\n",
        "        # pre: 0 <= horas <= 23\n",
        "        assert type(horas) == int and 0 <= horas <= 23,'Error: horas debe ser un número entero no negativo menor que 24'\n",
        "        self.__tiempo[Tiempo.__HORAS] = horas\n",
        "    def set_minutos(self, minutos: int):\n",
        "        # pre: 0 <= minutos <= 59\n",
        "        assert type(minutos) == int and 0 <= minutos <= 59,'Error: minutos debe ser un número entero no negativo menor que 60'\n",
        "        self.__tiempo[Tiempo.__MINUTOS] = minutos\n",
        "    def set_segundos(self, segundos: int):\n",
        "        # pre: 0 <= segundos <= 59\n",
        "        assert type(segundos) == int and 0 <= segundos <= 59,'Error: segundos debe ser un número entero no negativo menor que 60'\n",
        "        self.__tiempo[Tiempo.__SEGUNDOS] = segundos\n",
        "    def __str__(self):\n",
        "        return str(self.dias()) + 'd' + str(self.horas()) + 'h' + str(self.minutos()) + 'm' + str(self.segundos()) + 's'\n",
        "    def __eq__(self, otro) -> bool:\n",
        "        assert isinstance(otro, Tiempo), 'Error: otro debe ser instancia de Tiempo.'\n",
        "        i = 0\n",
        "        while i < len(self.__tiempo) and self.__tiempo[i] == otro.__tiempo[i]:\n",
        "            i = i + 1\n",
        "        return i == len(self.__tiempo)\n",
        "    def __lt__(self, otro) -> bool:\n",
        "        assert isinstance(otro, Tiempo), 'Error: otro debe ser instancia de Tiempo.'\n",
        "        i = 0\n",
        "        while i < len(self.__tiempo) and self.__tiempo[i] == otro.__tiempo[i]:\n",
        "            i = i + 1\n",
        "        return i < len(self.__tiempo) and self.__tiempo[i] < otro.__tiempo[i]\n",
        "    def __le__(self, otro) -> bool:\n",
        "        assert isinstance(otro, Tiempo), 'Error: otro debe ser instancia de Tiempo.'\n",
        "        return self < otro or self == otro\n"
      ],
      "execution_count": null,
      "outputs": []
    },
    {
      "cell_type": "code",
      "metadata": {
        "colab": {
          "base_uri": "https://localhost:8080/"
        },
        "id": "W7B3IaYJNhh5",
        "outputId": "4003455d-e45b-4ddc-f8db-b4f824d703f3"
      },
      "source": [
        "tiempo1 = Tiempo((10,13,32,18))\n",
        "tiempo2 = Tiempo((1,3,56,48))\n",
        "print(tiempo1)\n",
        "print(tiempo2)\n",
        "print(tiempo1 > tiempo2)\n",
        "print(tiempo1 == Tiempo())\n",
        "tiempo1.cambiar_constante()\n",
        "print(tiempo1)\n",
        "print(tiempo2)"
      ],
      "execution_count": null,
      "outputs": [
        {
          "output_type": "stream",
          "text": [
            "10d13h32m18s\n",
            "1d3h56m48s\n",
            "True\n",
            "False\n",
            "18d13h32m18s\n",
            "48d3h56m48s\n"
          ],
          "name": "stdout"
        }
      ]
    },
    {
      "cell_type": "markdown",
      "metadata": {
        "id": "D9Y83dJ6PXAn"
      },
      "source": [
        "Como dijimos, dado que en nuestro caso son constantes, no hay problema alguno en definirlos para toda la clase.\n",
        "\n",
        "¿Puede tener sentido tener variables de la clase (además de las variables de las instancias)? Puede ocurrir que nos interese, por ejemplo, llevar un contador que digan cuántas instancias se han creado.\n",
        "\n",
        "En nuestro caso, de todas formas, se trata meramente de constantes por lo que tiene pleno sentido definirlos para toda la clase.\n",
        "\n",
        "Podemos agregar la posibilidad de sumar y restar tiempos:"
      ]
    },
    {
      "cell_type": "code",
      "metadata": {
        "id": "Bfo7nXXXQu4s"
      },
      "source": [
        "class Tiempo:\n",
        "    __DIAS = 0\n",
        "    __HORAS = 1\n",
        "    __MINUTOS = 2\n",
        "    __SEGUNDOS = 3\n",
        "    def __init__(self, dhms : tuple = (0, 0, 0, 0)):\n",
        "        assert type(dhms) == tuple and all(type(x) == int and x >= 0 for x in dhms), 'Error: intento de crear un tiempo no válido.'\n",
        "        segundos = dhms[3]\n",
        "        minutos = segundos // 60 + dhms[2]\n",
        "        segundos = segundos % 60\n",
        "        horas = minutos // 60 + dhms[1]\n",
        "        minutos = minutos % 60\n",
        "        dias = horas // 24 + dhms[0]\n",
        "        horas = horas % 24\n",
        "        self.__tiempo = [dias, horas, minutos, segundos]\n",
        "    # getters\n",
        "    def dhms(self):\n",
        "        return tuple(self.__tiempo)\n",
        "    def dias(self):\n",
        "        return self.__tiempo[Tiempo.__DIAS]\n",
        "    def horas(self):\n",
        "        return self.__tiempo[Tiempo.__HORAS]\n",
        "    def minutos(self):\n",
        "        return self.__tiempo[Tiempo.__MINUTOS]\n",
        "    def segundos(self):\n",
        "        return self.__tiempo[Tiempo.__SEGUNDOS]\n",
        "    # setters\n",
        "    def set_dias(self, dias: int):\n",
        "        # pre: 0 <= dias\n",
        "        assert type(dias) == int and dias >= 0,'Error: dias debe ser un número entero no negativo'\n",
        "        self.__tiempo[Tiempo.__DIAS] = dias\n",
        "    def set_horas(self, horas: int):\n",
        "        # pre: 0 <= horas <= 23\n",
        "        assert type(horas) == int and 0 <= horas <= 23,'Error: horas debe ser un número entero no negativo menor que 24'\n",
        "        self.__tiempo[Tiempo.__HORAS] = horas\n",
        "    def set_minutos(self, minutos: int):\n",
        "        # pre: 0 <= minutos <= 59\n",
        "        assert type(minutos) == int and 0 <= minutos <= 59,'Error: minutos debe ser un número entero no negativo menor que 60'\n",
        "        self.__tiempo[Tiempo.__MINUTOS] = minutos\n",
        "    def set_segundos(self, segundos: int):\n",
        "        # pre: 0 <= segundos <= 59\n",
        "        assert type(segundos) == int and 0 <= segundos <= 59,'Error: segundos debe ser un número entero no negativo menor que 60'\n",
        "        self.__tiempo[Tiempo.__SEGUNDOS] = segundos\n",
        "    def __str__(self):\n",
        "        return str(self.dias()) + 'd' + str(self.horas()) + 'h' + str(self.minutos()) + 'm' + str(self.segundos()) + 's'\n",
        "    def __eq__(self, otro) -> bool:\n",
        "        assert isinstance(otro, Tiempo), 'Error: otro debe ser instancia de Tiempo.'\n",
        "        i = 0\n",
        "        while i < len(self.__tiempo) and self.__tiempo[i] == otro.__tiempo[i]:\n",
        "            i = i + 1\n",
        "        return i == len(self.__tiempo)\n",
        "    def __lt__(self, otro) -> bool:\n",
        "        assert isinstance(otro, Tiempo), 'Error: otro debe ser instancia de Tiempo.'\n",
        "        i = 0\n",
        "        while i < len(self.__tiempo) and self.__tiempo[i] == otro.__tiempo[i]:\n",
        "            i = i + 1\n",
        "        return i < len(self.__tiempo) and self.__tiempo[i] < otro.__tiempo[i]\n",
        "    def __le__(self, otro) -> bool:\n",
        "        assert isinstance(otro, Tiempo), 'Error: otro debe ser instancia de Tiempo.'\n",
        "        return self < otro or self == otro\n",
        "    def __add__(self, otro):\n",
        "        assert isinstance(otro, Tiempo), 'Error: otro debe ser instancia de Tiempo.'\n",
        "        res = [0]*4\n",
        "        for i in range(4):\n",
        "            res[i] = self.__tiempo[i] + otro.__tiempo[i]\n",
        "        return Tiempo(tuple(res))"
      ],
      "execution_count": null,
      "outputs": []
    },
    {
      "cell_type": "code",
      "metadata": {
        "colab": {
          "base_uri": "https://localhost:8080/"
        },
        "id": "0KkEedOIVGj4",
        "outputId": "dc8c786d-1478-4bcb-84cd-2e7c22cad3b3"
      },
      "source": [
        "tiempo = Tiempo((10,13,32,18))\n",
        "tiempo2 = Tiempo((1,3,42,58))\n",
        "print(tiempo)\n",
        "print(tiempo2)\n",
        "tiempo3 = tiempo + tiempo2\n",
        "print(tiempo)\n",
        "print(tiempo2)\n",
        "print(tiempo3)"
      ],
      "execution_count": null,
      "outputs": [
        {
          "output_type": "stream",
          "text": [
            "10d13h32m18s\n",
            "1d3h42m58s\n",
            "10d13h32m18s\n",
            "1d3h42m58s\n",
            "11d17h15m16s\n"
          ],
          "name": "stdout"
        }
      ]
    },
    {
      "cell_type": "markdown",
      "metadata": {
        "id": "3QL7AJuZDAfY"
      },
      "source": [
        "Pero si quisiéramos hacer lo mismo para la resta, no funcionaría:"
      ]
    },
    {
      "cell_type": "code",
      "metadata": {
        "id": "T7DMng5oWz2G"
      },
      "source": [
        "class Tiempo:\n",
        "    __DIAS = 0\n",
        "    __HORAS = 1\n",
        "    __MINUTOS = 2\n",
        "    __SEGUNDOS = 3\n",
        "    def __init__(self, dhms : tuple = (0, 0, 0, 0)):\n",
        "        assert type(dhms) == tuple and all(type(x) == int and x >= 0 for x in dhms), 'Error: intento de crear un tiempo no válido.'\n",
        "        segundos = dhms[3]\n",
        "        minutos = segundos // 60 + dhms[2]\n",
        "        segundos = segundos % 60\n",
        "        horas = minutos // 60 + dhms[1]\n",
        "        minutos = minutos % 60\n",
        "        dias = horas // 24 + dhms[0]\n",
        "        horas = horas % 24\n",
        "        self.__tiempo = [dias, horas, minutos, segundos]\n",
        "    # getters\n",
        "    def dhms(self):\n",
        "        return tuple(self.__tiempo)\n",
        "    def dias(self):\n",
        "        return self.__tiempo[Tiempo.__DIAS]\n",
        "    def horas(self):\n",
        "        return self.__tiempo[Tiempo.__HORAS]\n",
        "    def minutos(self):\n",
        "        return self.__tiempo[Tiempo.__MINUTOS]\n",
        "    def segundos(self):\n",
        "        return self.__tiempo[Tiempo.__SEGUNDOS]\n",
        "    # setters\n",
        "    def set_dias(self, dias: int):\n",
        "        # pre: 0 <= dias\n",
        "        assert type(dias) == int and dias >= 0,'Error: dias debe ser un número entero no negativo'\n",
        "        self.__tiempo[Tiempo.__DIAS] = dias\n",
        "    def set_horas(self, horas: int):\n",
        "        # pre: 0 <= horas <= 23\n",
        "        assert type(horas) == int and 0 <= horas <= 23,'Error: horas debe ser un número entero no negativo menor que 24'\n",
        "        self.__tiempo[Tiempo.__HORAS] = horas\n",
        "    def set_minutos(self, minutos: int):\n",
        "        # pre: 0 <= minutos <= 59\n",
        "        assert type(minutos) == int and 0 <= minutos <= 59,'Error: minutos debe ser un número entero no negativo menor que 60'\n",
        "        self.__tiempo[Tiempo.__MINUTOS] = minutos\n",
        "    def set_segundos(self, segundos: int):\n",
        "        # pre: 0 <= segundos <= 59\n",
        "        assert type(segundos) == int and 0 <= segundos <= 59,'Error: segundos debe ser un número entero no negativo menor que 60'\n",
        "        self.__tiempo[Tiempo.__SEGUNDOS] = segundos\n",
        "    def __str__(self):\n",
        "        return str(self.dias()) + 'd' + str(self.horas()) + 'h' + str(self.minutos()) + 'm' + str(self.segundos()) + 's'\n",
        "    def __eq__(self, otro) -> bool:\n",
        "        assert isinstance(otro, Tiempo), 'Error: otro debe ser instancia de Tiempo.'\n",
        "        i = 0\n",
        "        while i < len(self.__tiempo) and self.__tiempo[i] == otro.__tiempo[i]:\n",
        "            i = i + 1\n",
        "        return i == len(self.__tiempo)\n",
        "    def __lt__(self, otro) -> bool:\n",
        "        assert isinstance(otro, Tiempo), 'Error: otro debe ser instancia de Tiempo.'\n",
        "        i = 0\n",
        "        while i < len(self.__tiempo) and self.__tiempo[i] == otro.__tiempo[i]:\n",
        "            i = i + 1\n",
        "        return i < len(self.__tiempo) and self.__tiempo[i] < otro.__tiempo[i]\n",
        "    def __le__(self, otro) -> bool:\n",
        "        assert isinstance(otro, Tiempo), 'Error: otro debe ser instancia de Tiempo.'\n",
        "        return self < otro or self == otro\n",
        "    def __add__(self, otro):\n",
        "        assert isinstance(otro, Tiempo), 'Error: otro debe ser instancia de Tiempo.'\n",
        "        res = [0]*4\n",
        "        for i in range(4):\n",
        "            res[i] = self.__tiempo[i] + otro.__tiempo[i]\n",
        "        return Tiempo(tuple(res))\n",
        "    def __sub__(self, otro):\n",
        "        assert isinstance(otro, Tiempo) and otro <= self, 'Error: otro debe ser instancia de Tiempo, y menor que self.'\n",
        "        res = [0]*4\n",
        "        for i in range(4):\n",
        "            res[i] = self.__tiempo[i] - otro.__tiempo[i]\n",
        "        return Tiempo(tuple(res))\n"
      ],
      "execution_count": null,
      "outputs": []
    },
    {
      "cell_type": "code",
      "metadata": {
        "id": "t9TD85cwW4_A"
      },
      "source": [
        "tiempo = Tiempo((10,13,32,18))\n",
        "tiempo2 = Tiempo((1,3,42,58))\n",
        "print(tiempo)\n",
        "print(tiempo2)\n",
        "tiempo3 = tiempo + tiempo2\n",
        "print(tiempo)\n",
        "print(tiempo2)\n",
        "print(tiempo3)\n",
        "tiempo4 = tiempo3 - tiempo2\n",
        "print(ftiempo4)"
      ],
      "execution_count": null,
      "outputs": []
    },
    {
      "cell_type": "markdown",
      "metadata": {
        "id": "IZIltBifDG6P"
      },
      "source": [
        "Lo resolvemos con un método oculto para \"normalizar\" o \"simplificar\" el tiempo (reduciendo los casos en que los segundos o minutos son mayores que 59, o las horas mayores que 23):"
      ]
    },
    {
      "cell_type": "code",
      "metadata": {
        "id": "A6HLTICUXA3a"
      },
      "source": [
        "class Tiempo:\n",
        "    __DIAS = 0\n",
        "    __HORAS = 1\n",
        "    __MINUTOS = 2\n",
        "    __SEGUNDOS = 3\n",
        "    def __init__(self, dhms : tuple = (0, 0, 0, 0)):\n",
        "        assert type(dhms) == tuple and all(type(x) == int and x >= 0 for x in dhms), 'Error: intento de crear un tiempo no válido.'\n",
        "        lista = list(dhms)\n",
        "        Tiempo.__normalizar_lista(lista)\n",
        "        self.__tiempo = lista\n",
        "    def __normalizar_lista(lista):\n",
        "        segundos = lista[Tiempo.__SEGUNDOS]\n",
        "        minutos = segundos // 60 + lista[Tiempo.__MINUTOS]\n",
        "        lista[Tiempo.__SEGUNDOS] = segundos % 60\n",
        "        horas = minutos // 60 + lista[Tiempo.__HORAS]\n",
        "        lista[Tiempo.__MINUTOS] = minutos % 60\n",
        "        lista[Tiempo.__DIAS] = horas // 24 + lista[Tiempo.__DIAS]\n",
        "        lista[Tiempo.__HORAS] = horas % 24\n",
        "    # getters\n",
        "    def dhms(self):\n",
        "        return tuple(self.__tiempo)\n",
        "    def dias(self):\n",
        "        return self.__tiempo[Tiempo.__DIAS]\n",
        "    def horas(self):\n",
        "        return self.__tiempo[Tiempo.__HORAS]\n",
        "    def minutos(self):\n",
        "        return self.__tiempo[Tiempo.__MINUTOS]\n",
        "    def segundos(self):\n",
        "        return self.__tiempo[Tiempo.__SEGUNDOS]\n",
        "    # setters\n",
        "    def set_dias(self, dias: int):\n",
        "        # pre: 0 <= dias\n",
        "        assert type(dias) == int and dias >= 0,'Error: dias debe ser un número entero no negativo'\n",
        "        self.__tiempo[Tiempo.__DIAS] = dias\n",
        "    def set_horas(self, horas: int):\n",
        "        # pre: 0 <= horas <= 23\n",
        "        assert type(horas) == int and 0 <= horas <= 23,'Error: horas debe ser un número entero no negativo menor que 24'\n",
        "        self.__tiempo[Tiempo.__HORAS] = horas\n",
        "    def set_minutos(self, minutos: int):\n",
        "        # pre: 0 <= minutos <= 59\n",
        "        assert type(minutos) == int and 0 <= minutos <= 59,'Error: minutos debe ser un número entero no negativo menor que 60'\n",
        "        self.__tiempo[Tiempo.__MINUTOS] = minutos\n",
        "    def set_segundos(self, segundos: int):\n",
        "        # pre: 0 <= segundos <= 59\n",
        "        assert type(segundos) == int and 0 <= segundos <= 59,'Error: segundos debe ser un número entero no negativo menor que 60'\n",
        "        self.__tiempo[Tiempo.__SEGUNDOS] = segundos\n",
        "    def __str__(self):\n",
        "        return str(self.dias()) + 'd' + str(self.horas()) + 'h' + str(self.minutos()) + 'm' + str(self.segundos()) + 's'\n",
        "    def __eq__(self, otro) -> bool:\n",
        "        assert isinstance(otro, Tiempo), 'Error: otro debe ser instancia de Tiempo.'\n",
        "        i = 0\n",
        "        while i < len(self.__tiempo) and self.__tiempo[i] == otro.__tiempo[i]:\n",
        "            i = i + 1\n",
        "        return i == len(self.__tiempo)\n",
        "    def __lt__(self, otro) -> bool:\n",
        "        assert isinstance(otro, Tiempo), 'Error: otro debe ser instancia de Tiempo.'\n",
        "        i = 0\n",
        "        while i < len(self.__tiempo) and self.__tiempo[i] == otro.__tiempo[i]:\n",
        "            i = i + 1\n",
        "        return i < len(self.__tiempo) and self.__tiempo[i] < otro.__tiempo[i]\n",
        "    def __le__(self, otro) -> bool:\n",
        "        assert isinstance(otro, Tiempo), 'Error: otro debe ser instancia de Tiempo.'\n",
        "        return self < otro or self == otro\n",
        "    def __add__(self, otro):\n",
        "        assert isinstance(otro, Tiempo), 'Error: otro debe ser instancia de Tiempo.'\n",
        "        res = [0]*4\n",
        "        for i in range(4):\n",
        "            res[i] = self.__tiempo[i] + otro.__tiempo[i]\n",
        "        return Tiempo(tuple(res))\n",
        "    def __sub__(self, otro):\n",
        "        assert isinstance(otro, Tiempo) and otro <= self, 'Error: otro debe ser instancia de Tiempo, y menor que self.'\n",
        "        res = [0]*4\n",
        "        for i in range(4):\n",
        "            res[i] = self.__tiempo[i] - otro.__tiempo[i]\n",
        "        Tiempo.__normalizar_lista(res)\n",
        "        return Tiempo(tuple(res))"
      ],
      "execution_count": null,
      "outputs": []
    },
    {
      "cell_type": "code",
      "metadata": {
        "colab": {
          "base_uri": "https://localhost:8080/"
        },
        "id": "UAR2v0iIZy0r",
        "outputId": "c4352dee-03c0-4099-92af-a7d0d7c3f17c"
      },
      "source": [
        "tiempo = Tiempo((10,13,32,18))\n",
        "tiempo2 = Tiempo((1,3,42,58))\n",
        "print(tiempo)\n",
        "print(tiempo2)\n",
        "tiempo3 = tiempo + tiempo2\n",
        "print(tiempo)\n",
        "print(tiempo2)\n",
        "print(tiempo3)\n",
        "tiempo4 = tiempo3 - tiempo2\n",
        "print(tiempo4)"
      ],
      "execution_count": null,
      "outputs": [
        {
          "output_type": "stream",
          "text": [
            "10d13h32m18s\n",
            "1d3h42m58s\n",
            "10d13h32m18s\n",
            "1d3h42m58s\n",
            "11d17h15m16s\n",
            "10d13h32m18s\n"
          ],
          "name": "stdout"
        }
      ]
    },
    {
      "cell_type": "markdown",
      "metadata": {
        "id": "PItO6omtaO3o"
      },
      "source": [
        "# Fracciones irreducibles\n",
        "\n",
        "Otro ejemplo interesante es el de las fracciones irreducibles, que llamamos Racional por su correspondencia con los números racionales:"
      ]
    },
    {
      "cell_type": "code",
      "metadata": {
        "id": "xooATxYaaUI2"
      },
      "source": [
        "class Racional:\n",
        "    def __init__(self, num = 0, den = 1):\n",
        "        assert type(num) == type(den) == int and den != 0, 'Error: intento de crear fracción no válida.'\n",
        "        abs_num = abs(num)\n",
        "        abs_den = abs(den)\n",
        "        dcm = Racional.__dcm(abs_num, abs_den) # __dcm es un método de la clase, se lo invoca con Racional.__dcm\n",
        "        self.__numerador = abs_num // dcm\n",
        "        self.__denominador = abs_den // dcm\n",
        "        self.__signo = 1 if num * den >= 0 else -1\n",
        "    def __dcm(a, b): # método oculto para calcular el divisor común mayor de 2 enteros no negativos, b > 0\n",
        "        n, m = a, b\n",
        "        while n > 0 and m > 0:\n",
        "            if n >= m:\n",
        "                n = n % m\n",
        "            else:\n",
        "                m = m % n\n",
        "        return max(n, m)\n",
        "    def __mcm(a, b): # método oculto para calcular el múltiplo común menor de 2 enteros positivos\n",
        "        return a * b // Racional.__dcm(a, b) # __dcm es un método de la clase, se lo invoca con Racional.__dcm\n",
        "    # getters\n",
        "    def numerador(self):\n",
        "        return self.__signo * self.__numerador\n",
        "    def denominador(self):\n",
        "        return self.__denominador\n",
        "    # setters, no queremos que racional sea mutable, no hay setters\n",
        "    def __str__(self):\n",
        "        return str(self.numerador()) + '/' + str(self.denominador())\n",
        "    def __eq__(self, otro) -> bool:\n",
        "        assert isinstance(otro, Racional), 'Error: otro debe ser instancia de Racional.'\n",
        "        return self.numerador() == otro.numerador() and self.denominador() == otro.denominador()\n",
        "    def __add__(self, otro):\n",
        "        assert isinstance(otro, Racional), 'Error: otro debe ser instancia de Racional.'\n",
        "        denominador_comun = Racional.__mcm(self.denominador(), otro.denominador()) # __mcm es un método de la clase, se lo invoca con Racional.__mcm\n",
        "        numerador = self.numerador() * (denominador_comun // self.denominador()) + otro.numerador() * (denominador_comun // otro.denominador())\n",
        "        return Racional(numerador, denominador_comun)\n",
        "    def __mul__(self, otro):\n",
        "        assert isinstance(otro, Racional), 'Error: otro debe ser instancia de Racional.'\n",
        "        numerador = self.numerador() * otro.numerador()\n",
        "        denominador = self.denominador() * otro.denominador()\n",
        "        return Racional(numerador, denominador)"
      ],
      "execution_count": null,
      "outputs": []
    },
    {
      "cell_type": "code",
      "metadata": {
        "colab": {
          "base_uri": "https://localhost:8080/"
        },
        "id": "EEAnWxhYf9hQ",
        "outputId": "b916564a-a8ea-4c24-d4be-ea8af67afb32"
      },
      "source": [
        "r1 = Racional()\n",
        "r2 = Racional(1,2)\n",
        "r3 = Racional(-2,-4)\n",
        "print(r1)\n",
        "print(r2)\n",
        "print(r3)\n",
        "r4 = r2 + r3\n",
        "print(r1)\n",
        "print(r2)\n",
        "print(r3)\n",
        "print(r4)\n",
        "r5 = r2 * Racional(2,-3)\n",
        "print(r5)"
      ],
      "execution_count": null,
      "outputs": [
        {
          "output_type": "stream",
          "text": [
            "0/1\n",
            "1/2\n",
            "1/2\n",
            "0/1\n",
            "1/2\n",
            "1/2\n",
            "1/1\n",
            "-1/3\n"
          ],
          "name": "stdout"
        }
      ]
    },
    {
      "cell_type": "markdown",
      "metadata": {
        "id": "E2VY2mLhJ01D"
      },
      "source": [
        "Queda como ejercicio definir otros métodos para las fracciones irreducibles: resta, división, opuesto, inverso, etc."
      ]
    }
  ]
}