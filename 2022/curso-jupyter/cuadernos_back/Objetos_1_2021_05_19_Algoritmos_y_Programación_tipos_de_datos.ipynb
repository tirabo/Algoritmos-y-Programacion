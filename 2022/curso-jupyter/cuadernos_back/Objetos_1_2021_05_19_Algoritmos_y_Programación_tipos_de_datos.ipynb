{
  "cells": [
    {
      "cell_type": "markdown",
      "metadata": {
        "id": "iPv6OiFI7kTA"
      },
      "source": [
        "# Clases y objetos\n",
        "\n",
        "Después de haber aprendido lo de las clases previas  ahora somos capaces de resolver muchos problemas de programación utilizando selecciones, bucles y funciones. Sin embargo, estas características no son suficientes para desarrolla un sistema de software a gran escala.\n",
        "\n",
        "En este cuadreno se introduce la programación orientada a objetos lo cual permite definir tipos de datos y modularizar más aún los programas que escribimos  o los proyectos en que participamos."
      ]
    },
    {
      "cell_type": "markdown",
      "metadata": {
        "id": "uSSdgOQM9fcS"
      },
      "source": [
        "## 1. Tipos abstractos de datos\n",
        "\n",
        "Hemos visto ejemplos y ejercicios con muchas de las estructuras de datos usuales de los lenguajes de programación: enteros, reales, booleanos, strings, arreglos, tuplas, listas.\n",
        "\n",
        "Con estas estructuras de datos también es posible representar otras. Por ejemplo, hemos representado los naturales usando enteros y hemos representado las fechas utilizando ternas de enteros.\n",
        "\n",
        "De todas formas, no se obtiene el mismo grado de confianza en el funcionamiento de las operaciones sobre los tipos de datos nuestros que sobre los de Python: cuando representamos, por ejemplo, a las fechas como ternas de enteros, no hay ninguna garantía de que el programador los utilice apropiadamente: por error puede alterar el valor de uno de los elementos de la terna y transformar una fecha válida en una que no lo es.\n",
        "\n",
        "De la misma manera, cuando representamos a los naturales como enteros, puede ocurrir que por error modificamos el número y pasa a ser negativo.\n",
        "\n",
        "En nuestro auxilio surge la posibilidad que tienen la mayoría de los lenguajes de programación de definir apropiadamente un tipo nuevo, de manera de que el funcionamiento sea más confiable, entre muchas otras ventajas. La idea es definir un tipo nuevo y sus operaciones, de manera de que luego solamente se lo pueda manipular a través de dichas operaciones.\n",
        "\n",
        "En Python, y en la mayor parte de los lenguajes de programación modernos, definir un tipo nuevo es definir una *clase* y  cada elemento que pertenezca a esa clase (a ese tipo) se llamará un *objeto* de la clase. Los tipos ya definidos en Python son clases,  aunque nunca lo hayamos mecionado, por ejemplo `[1, 3, 7]` es un objeto de la clase `list`."
      ]
    },
    {
      "cell_type": "markdown",
      "metadata": {
        "id": "axBChZPvP-SV"
      },
      "source": [
        "## 2. Definición de clases\n",
        "\n",
        "Al crea una clase es como si definiéramos un tipo nuevo  en el lenguaje. Utilizando la clase definida podemos crear elementos de es clasae, llamados objetos o instancias, y podemos operar sobre ellos co métodos propios de la clase.\n",
        "\n",
        "Los ingredientes más importantes de la definición de una clase son\n",
        "\n",
        "*   sus *atributos*, también llamados *campos* (fields) o *variables de instancias* (instance variables)\n",
        "*   sus *métodos*, también llamados *métodos de instancias* (instance methods).\n",
        "\n",
        "Los atributos son los datos que utilizamos para representar el estado de un objeto. Los métodos son las funciones que se utilizan para acceder a los datos y modificarlos.\n",
        "\n",
        "Además de utilizar variables para almacenar campos de datos y definir métodos, una clase proporciona un método especial, `__init__`. Este método, conocido como *inicializador* y se invoca para inicializar el estado de un nuevo objeto cuando se crea. Un inicializador puede realizar cualquier acción, pero los inicializadores en general se utilizan para crear los campos de datos de un objeto con valores iniciales.\n",
        "\n",
        "Python utiliza la siguiente sintaxis para definir una clase:\n",
        "\n",
        "```\n",
        "class Nombre:\n",
        "    inicializador\n",
        "    métodos\n",
        "```"
      ]
    },
    {
      "cell_type": "markdown",
      "metadata": {},
      "source": [
        "Por  convención los nombres de las clases definidas por el programador tienen la primera letra mayúscula y todas las demás minúsculas\n",
        "\n",
        "Comencemos construyendo una clase llamada `Fecha` que permitirá definir un tipo  que represente las fechas y cuyos métodos permitan operar sobre las fechas. \n",
        "\n",
        "Podemos abstraer el concepto de fecha como una terna día, més, año que tiene ciertas restricciones, por ejemplo que los meses son 12,  etc. Comenzaremos a definir la clase `Fecha` sin tener en cuenta estas restricciones."
      ]
    },
    {
      "cell_type": "code",
      "execution_count": null,
      "metadata": {
        "id": "zXE1ETWcPKLK"
      },
      "outputs": [],
      "source": [
        "class Fecha:                                              # nombre de la clase\n",
        "    def __init__(self, dma : tuple):                      # método inicializador\n",
        "        self.terna = dma                                  # terna es un atributo"
      ]
    },
    {
      "cell_type": "markdown",
      "metadata": {},
      "source": [
        "En esta clase "
      ]
    },
    {
      "cell_type": "code",
      "execution_count": null,
      "metadata": {
        "id": "xrfz6b9MPjLy"
      },
      "outputs": [],
      "source": [
        "t = (19, 5, 2021)\n",
        "fecha = Fecha(t)                                          # Fecha() es el constructor\n",
        "print(fecha.terna)\n",
        "print(fecha)"
      ]
    },
    {
      "cell_type": "markdown",
      "metadata": {
        "id": "uKh4Oc_4QXW0"
      },
      "source": [
        "Notemos que el método `__init__()` se invoca implícitamente cuando escribimos `Fecha()`.\n",
        "\n",
        "Spoiler: una de las características que deseamos es que no se conozca la representación de las fechas.\n"
      ]
    },
    {
      "cell_type": "code",
      "execution_count": null,
      "metadata": {
        "id": "rHrygSY4QphU"
      },
      "outputs": [],
      "source": [
        "class Fecha:\n",
        "    def __init__(self, dma):\n",
        "        self.__terna = dma"
      ]
    },
    {
      "cell_type": "code",
      "execution_count": null,
      "metadata": {
        "id": "6eSrVeBORAZX"
      },
      "outputs": [],
      "source": [
        "fecha = Fecha((19,5,2021))\n",
        "print(fecha.__terna)"
      ]
    },
    {
      "cell_type": "markdown",
      "metadata": {
        "id": "weKrRIAwRU2Q"
      },
      "source": [
        "Parece muy inútil un tipo nuevo del que no podemos obtener ninguna información:"
      ]
    },
    {
      "cell_type": "code",
      "execution_count": null,
      "metadata": {
        "id": "DNmAibVfRTZG"
      },
      "outputs": [],
      "source": [
        "class Fecha:\n",
        "    def __init__(self, dma):\n",
        "        self.__terna = dma\n",
        "    def terna(self):\n",
        "        return self.__terna"
      ]
    },
    {
      "cell_type": "code",
      "execution_count": null,
      "metadata": {
        "id": "oORSK-kaRiZk"
      },
      "outputs": [],
      "source": [
        "fecha = Fecha((19,5,2021))\n",
        "print(fecha.terna())"
      ]
    },
    {
      "cell_type": "markdown",
      "metadata": {
        "id": "_jpnuJuCSGVw"
      },
      "source": [
        "Entonces, ¿para qué tanto lío?\n",
        "\n",
        "De esta manera no se revela la representación interna. Puede haber otra representación interna, por el motivo que fuera. Pero siempre se debe definir adecuadamente el método `terna()`.\n",
        "\n",
        "Por ejemplo, puedo querer representar con una terna en orden amd:"
      ]
    },
    {
      "cell_type": "code",
      "execution_count": null,
      "metadata": {
        "id": "8ro5la9ISuGf"
      },
      "outputs": [],
      "source": [
        "class Fecha:\n",
        "    def __init__(self, dma):\n",
        "        self.__terna = (dma[2], dma[1], dma[0])\n",
        "    def terna(self):\n",
        "        return self.__terna"
      ]
    },
    {
      "cell_type": "code",
      "execution_count": null,
      "metadata": {
        "id": "4Qjpg5f8S2U8"
      },
      "outputs": [],
      "source": [
        "fecha = Fecha((19,5,2021))\n",
        "print(fecha.terna())"
      ]
    },
    {
      "cell_type": "markdown",
      "metadata": {
        "id": "4UEsGMjqTNBx"
      },
      "source": [
        "Claramente deberíamos volver a darlo vuelta para que el método `terna()` devuelva lo mismo independientemente de la representación."
      ]
    },
    {
      "cell_type": "code",
      "execution_count": null,
      "metadata": {
        "id": "6Inwbz_ATJDO"
      },
      "outputs": [],
      "source": [
        "class Fecha:\n",
        "    def __init__(self, dma):\n",
        "        self.__terna = (dma[2], dma[1], dma[0])\n",
        "    def terna(self):\n",
        "        return (self.__terna[2], self.__terna[1], self.__terna[0])"
      ]
    },
    {
      "cell_type": "code",
      "execution_count": null,
      "metadata": {
        "id": "c0X6HHeeTbYN"
      },
      "outputs": [],
      "source": [
        "fecha = Fecha((19,5,2021))\n",
        "print(fecha.terna())"
      ]
    },
    {
      "cell_type": "markdown",
      "metadata": {
        "id": "xOrOFJI7Tcx4"
      },
      "source": [
        "Esto nos lleva a reconsiderar el nombre del método, sería mejor llamarle `dma()` y no `terna()`"
      ]
    },
    {
      "cell_type": "code",
      "execution_count": null,
      "metadata": {
        "id": "qXMR4arPTs4Y"
      },
      "outputs": [],
      "source": [
        "class Fecha:\n",
        "    def __init__(self, x):\n",
        "        self.__terna = x\n",
        "    def dma(self):\n",
        "        return self.__terna\n",
        "    def amd(self):\n",
        "        return (self.__terna[2], self.__terna[1], self.__terna[0])"
      ]
    },
    {
      "cell_type": "code",
      "execution_count": null,
      "metadata": {
        "id": "35zwH-QUT_pc"
      },
      "outputs": [],
      "source": [
        "fecha = Fecha((19,5,2021))\n",
        "print(fecha.dma())\n",
        "print(fecha.amd())"
      ]
    },
    {
      "cell_type": "markdown",
      "metadata": {
        "id": "wICpbdKBWhkB"
      },
      "source": [
        "Podríamos permitir que al crear una fecha, se la pueda omitir, adoptando un valor por defecto:"
      ]
    },
    {
      "cell_type": "code",
      "execution_count": null,
      "metadata": {
        "id": "ZjhsnjFVWskl"
      },
      "outputs": [],
      "source": [
        "class Fecha:\n",
        "    def __init__(self, dma = (1,1,1)):\n",
        "        self.__terna = dma\n",
        "    def dma(self):\n",
        "        return self.__terna\n",
        "    def amd(self):\n",
        "        return (self.__terna[2], self.__terna[1], self.__terna[0])"
      ]
    },
    {
      "cell_type": "code",
      "execution_count": null,
      "metadata": {
        "id": "L3ayGizYW1ZU"
      },
      "outputs": [],
      "source": [
        "fecha = Fecha((19,5,2021))\n",
        "print(fecha.dma())\n",
        "print(fecha.amd())\n",
        "fecha = Fecha()\n",
        "print(fecha.dma())\n",
        "print(fecha.amd())"
      ]
    },
    {
      "cell_type": "markdown",
      "metadata": {
        "id": "GGiO7pIKUQ2L"
      },
      "source": [
        "Aunque en realidad sería más interesante que como valor por defecto tome la fecha actual. Más adelante veremos cómo hacerlo.\n",
        "\n",
        "También podríamos agregarle robustez a nuestra definición. Que cuando tengamos un objeto Fecha, sea una fecha válida:"
      ]
    },
    {
      "cell_type": "code",
      "execution_count": null,
      "metadata": {
        "id": "OtyRvW2RUf56"
      },
      "outputs": [],
      "source": [
        "class Fecha:\n",
        "    def __init__(self, dma):\n",
        "        assert es_fecha_valida(dma), 'Error: intento de crear una fecha no válida.'\n",
        "        self.__terna = dma\n",
        "    def dma(self):\n",
        "        return self.__terna\n",
        "    def amd(self):\n",
        "        return (self.__terna[2], self.__terna[1], self.__terna[0])"
      ]
    },
    {
      "cell_type": "code",
      "execution_count": null,
      "metadata": {
        "id": "1NNQPZ3rUoUN"
      },
      "outputs": [],
      "source": [
        "fecha = Fecha((19,5,2021))\n",
        "print(fecha.dma())\n",
        "print(fecha.amd())"
      ]
    },
    {
      "cell_type": "code",
      "execution_count": null,
      "metadata": {
        "id": "qDyVd3SfU5x2"
      },
      "outputs": [],
      "source": [
        "fecha = Fecha((39,5,2021))\n",
        "print(fecha.dma())\n",
        "print(fecha.amd())"
      ]
    },
    {
      "cell_type": "markdown",
      "metadata": {
        "id": "lSYQzGAvVAys"
      },
      "source": [
        "Incorporemos algunos métodos sencillos: para conocer el día, el mes, el año, el siglo:"
      ]
    },
    {
      "cell_type": "code",
      "execution_count": null,
      "metadata": {
        "id": "IPswiwDzVVTG"
      },
      "outputs": [],
      "source": [
        "class Fecha:\n",
        "    def __init__(self, dma):\n",
        "        assert type(dma) == tuple and all(type(z) == int for z in dma) and es_fecha_valida(dma), 'Error: intento de crear una fecha no válida.'\n",
        "        self.__terna = dma\n",
        "    def dma(self):\n",
        "        return self.__terna\n",
        "    def amd(self):\n",
        "        return (self.__terna[2], self.__terna[1], self.__terna[0])\n",
        "    def dia(self):\n",
        "        return self.__terna[0]\n",
        "    def mes(self):\n",
        "        return self.__terna[1]\n",
        "    def anho(self):\n",
        "        return self.__terna[2]\n",
        "    def siglo(self):\n",
        "        return self.anho() // 100 + 1"
      ]
    },
    {
      "cell_type": "code",
      "execution_count": null,
      "metadata": {
        "id": "fspfDRCNbbYl"
      },
      "outputs": [],
      "source": [
        "fecha = Fecha([19,5,2021])\n",
        "print(fecha.dma())\n",
        "print(fecha.amd())\n",
        "print(fecha.dia())\n",
        "print(fecha.mes())\n",
        "print(fecha.anho())\n",
        "print(fecha.siglo())"
      ]
    },
    {
      "cell_type": "markdown",
      "metadata": {
        "id": "6Zj9e5QSXj56"
      },
      "source": [
        "Podríamos agregar funciones para ver el día como día de la semana, el mes en letras, etc.\n",
        "\n",
        "A estos métodos se les suele llamar 'getters', permiten al programador acceder a datos, no necesariamente su representación.\n",
        "\n",
        "Existen también 'setters', son métodos que se utilizan para modificar datos del objeto, por ejemplo, un atributo.\n",
        "\n",
        "En este caso, el objeto que definimos es inmutable, por lo que no tenemos manera de modificar sus datos:"
      ]
    },
    {
      "cell_type": "code",
      "execution_count": null,
      "metadata": {
        "id": "2dwkpAfLcELJ"
      },
      "outputs": [],
      "source": [
        "class Fecha:\n",
        "    def __init__(self, dma):\n",
        "        assert es_fecha_valida(dma), 'Error: intento de crear una fecha no válida.'\n",
        "        self.__terna = dma\n",
        "    def dma(self):\n",
        "        return self.__terna\n",
        "    def amd(self):\n",
        "        return (self.__terna[2], self.__terna[1], self.__terna[0])\n",
        "    def dia(self):\n",
        "        return self.__terna[0]\n",
        "    def mes(self):\n",
        "        return self.__terna[1]\n",
        "    def anho(self):\n",
        "        return self.__terna[2]\n",
        "    def siglo(self):\n",
        "        return self.__terna[2] // 100 + 1\n",
        "    def establecer_anho(self, anho):\n",
        "        assert type(anho) == int and anho > 0, 'Error: intento de establecer un anho no válido'\n",
        "        self.__terna[2] = anho"
      ]
    },
    {
      "cell_type": "code",
      "execution_count": null,
      "metadata": {
        "id": "agnhmOF8cfjX"
      },
      "outputs": [],
      "source": [
        "fecha = Fecha((19,5,2021))\n",
        "fecha.establecer_anho(2000)\n",
        "print(fecha.dma())\n",
        "print(fecha.amd())\n",
        "print(fecha.dia())\n",
        "print(fecha.mes())\n",
        "print(fecha.anho())\n",
        "print(fecha.siglo())\n"
      ]
    },
    {
      "cell_type": "markdown",
      "metadata": {
        "id": "2O6cFC2pc9QC"
      },
      "source": [
        "Dos posibilidades:\n",
        "\n",
        "1.   que el método establecer devuelva otro objeto de la clase Fecha\n",
        "2.   definir la clase Fecha como una clase de objetos mutables\n"
      ]
    },
    {
      "cell_type": "markdown",
      "metadata": {
        "id": "usGJ8AFYeJ4K"
      },
      "source": [
        "## Que devuelva otro objeto"
      ]
    },
    {
      "cell_type": "code",
      "execution_count": null,
      "metadata": {
        "id": "ahTPn3YYdq-r"
      },
      "outputs": [],
      "source": [
        "class Fecha:\n",
        "    def __init__(self, dma):\n",
        "        assert es_fecha_valida(dma), 'Error: intento de crear una fecha no válida.'\n",
        "        self.__terna = dma\n",
        "    def dma(self):\n",
        "        return self.__terna\n",
        "    def amd(self):\n",
        "        return (self.__terna[2], self.__terna[1], self.__terna[0])\n",
        "    def dia(self):\n",
        "        return self.__terna[0]\n",
        "    def mes(self):\n",
        "        return self.__terna[1]\n",
        "    def anho(self):\n",
        "        return self.__terna[2]\n",
        "    def siglo(self):\n",
        "        return self.__terna[2] // 100 + 1\n",
        "    def establecer_anho(self, anho):\n",
        "        assert type(anho) == int and anho > 0, 'Error: intento de establecer un anho no válido'\n",
        "        return Fecha((self.__terna[0], self.__terna[1], anho))"
      ]
    },
    {
      "cell_type": "code",
      "execution_count": null,
      "metadata": {
        "id": "08_4kgF_d8xd"
      },
      "outputs": [],
      "source": [
        "fecha = Fecha((19,5,2021))\n",
        "fecha2 = fecha.establecer_anho(2000)\n",
        "print(fecha.dma())\n",
        "print(fecha.amd())\n",
        "print(fecha.dia())\n",
        "print(fecha.mes())\n",
        "print(fecha.anho())\n",
        "print(fecha.siglo())\n",
        "print(fecha2.dma())\n",
        "print(fecha2.amd())\n",
        "print(fecha2.dia())\n",
        "print(fecha2.mes())\n",
        "print(fecha2.anho())\n",
        "print(fecha2.siglo())\n"
      ]
    },
    {
      "cell_type": "markdown",
      "metadata": {
        "id": "WB0Y9AaseNjq"
      },
      "source": [
        "## Que sea mutable"
      ]
    },
    {
      "cell_type": "code",
      "execution_count": null,
      "metadata": {
        "id": "3OEGSN15eTXz"
      },
      "outputs": [],
      "source": [
        "class Fecha:\n",
        "    def __init__(self, dma):\n",
        "        assert es_fecha_valida(dma), 'Error: intento de crear una fecha no válida.'\n",
        "        self.__terna = list(dma)\n",
        "    def dma(self):\n",
        "        return tuple(self.__terna)\n",
        "    def amd(self):\n",
        "        return (self.__terna[2], self.__terna[1], self.__terna[0])\n",
        "    def dia(self):\n",
        "        return self.__terna[0]\n",
        "    def mes(self):\n",
        "        return self.__terna[1]\n",
        "    def anho(self):\n",
        "        return self.__terna[2]\n",
        "    def siglo(self):\n",
        "        return self.__terna[2] // 100 + 1\n",
        "    def establecer_anho(self, anho):\n",
        "        assert type(anho) == int and anho > 0, 'Error: intento de establecer un anho no válido'\n",
        "        self.__terna[2] = anho"
      ]
    },
    {
      "cell_type": "code",
      "execution_count": null,
      "metadata": {
        "id": "5OJUYoE5ejA-"
      },
      "outputs": [],
      "source": [
        "fecha = Fecha((19,5,2021))\n",
        "fecha.establecer_anho(2000)\n",
        "print(fecha.dma())\n",
        "print(fecha.amd())\n",
        "print(fecha.dia())\n",
        "print(fecha.mes())\n",
        "print(fecha.anho())\n",
        "print(fecha.siglo())\n"
      ]
    },
    {
      "cell_type": "markdown",
      "metadata": {
        "id": "ZRqrLNP4ev7H"
      },
      "source": [
        "¿Por qué escribió la lista en la primera línea? ¿Acaso estamos exhibiendo la representación interna?"
      ]
    },
    {
      "cell_type": "code",
      "execution_count": null,
      "metadata": {
        "id": "c1lgxsfTwdXv"
      },
      "outputs": [],
      "source": [
        "t = (19, 5, 2021)\n",
        "print(t)\n",
        "lt = list(t)\n",
        "print(lt)"
      ]
    },
    {
      "cell_type": "markdown",
      "metadata": {
        "id": "NL38574YxmNu"
      },
      "source": [
        "¿No puede la clase Fecha ser mutable a pesar de haberse elegido tuplas (que son inmutables) para la representacion?"
      ]
    },
    {
      "cell_type": "code",
      "execution_count": null,
      "metadata": {
        "id": "swRjuifcxlVe"
      },
      "outputs": [],
      "source": [
        "class Fecha:\n",
        "    def __init__(self, dma):\n",
        "        assert es_fecha_valida(dma), 'Error: intento de crear una fecha no válida.'\n",
        "        self.__terna = dma\n",
        "    def dma(self):\n",
        "        return self.__terna\n",
        "    def amd(self):\n",
        "        return (self.__terna[2], self.__terna[1], self.__terna[0])\n",
        "    def dia(self):\n",
        "        return self.__terna[0]\n",
        "    def mes(self):\n",
        "        return self.__terna[1]\n",
        "    def anho(self):\n",
        "        return self.__terna[2]\n",
        "    def siglo(self):\n",
        "        return self.__terna[2] // 100 + 1\n",
        "    def establecer_anho(self, anho):\n",
        "        assert type(anho) == int and anho > 0, 'Error: intento de establecer un anho no válido'\n",
        "        self.__terna = (self.__terna[0], self.__terna[1], anho)"
      ]
    },
    {
      "cell_type": "code",
      "execution_count": null,
      "metadata": {
        "id": "xYJGl8U9x_sM"
      },
      "outputs": [],
      "source": [
        "fecha = Fecha((19,5,2021))\n",
        "fecha.establecer_anho(2000)\n",
        "print(fecha.dma())\n",
        "print(fecha.amd())\n",
        "print(fecha.dia())\n",
        "print(fecha.mes())\n",
        "print(fecha.anho())\n",
        "print(fecha.siglo())\n"
      ]
    },
    {
      "cell_type": "markdown",
      "metadata": {
        "id": "9lVARPLq5dfs"
      },
      "source": [
        "Si aceptamos que un objeto pueda ser construido con una lista, debe tomarse el recaudo de generar una nueva lista como representación interna (en caso de optarse por lista como representación interna), para evitar que desde afuera del objeto pueda modificarse la representación interna al modificar la lista que se usó para construir el objeto."
      ]
    },
    {
      "cell_type": "code",
      "execution_count": null,
      "metadata": {
        "id": "RUqTzrz_yb85"
      },
      "outputs": [],
      "source": [
        "class Fecha:\n",
        "    def __init__(self, dma):\n",
        "        assert type(dma) == list and all(type(z) == int for z in dma), 'Error: el argumento debe ser una lista de enteros'\n",
        "        self.__terna = dma\n",
        "    def dma(self):\n",
        "        return self.__terna\n",
        "    def amd(self):\n",
        "        return [self.__terna[2], self.__terna[1], self.__terna[0]]\n",
        "    def dia(self):\n",
        "        return self.__terna[0]\n",
        "    def mes(self):\n",
        "        return self.__terna[1]\n",
        "    def anho(self):\n",
        "        return self.__terna[2]\n",
        "    def siglo(self):\n",
        "        return self.__terna[2] // 100 + 1\n",
        "    def establecer_anho(self, anho):\n",
        "        assert type(anho) == int and anho > 0, 'Error: intento de establecer un anho no válido'\n",
        "        self.__terna[2] = anho"
      ]
    },
    {
      "cell_type": "code",
      "execution_count": null,
      "metadata": {
        "id": "ZvlzbYyIyoIR"
      },
      "outputs": [],
      "source": [
        "lista = [19, 5, 2021]\n",
        "fecha = Fecha(lista)\n",
        "print(fecha.dma())\n",
        "print(fecha.amd())\n",
        "lista[2] = 2000\n",
        "print(fecha.dma())\n",
        "print(fecha.amd())\n"
      ]
    },
    {
      "cell_type": "markdown",
      "metadata": {
        "id": "1gEEn5056Dzb"
      },
      "source": [
        "Como vemos, al modificar la lista se modificó el objeto. Esto implica un acceso \"escandaloso\" a la representación interna: se la modificó sin apelar a ninguno de los métodos del objeto.\n",
        "\n",
        "Se solucionando generando una copia de la lista en el constructor."
      ]
    },
    {
      "cell_type": "code",
      "execution_count": null,
      "metadata": {
        "id": "7aRnNQ7D6DJ8"
      },
      "outputs": [],
      "source": [
        "class Fecha:\n",
        "    def __init__(self, dma):\n",
        "        assert type(dma) == list and all(type(z) == int for z in dma), 'Error: el argumento debe ser una lista de enteros'\n",
        "        self.__terna = dma[:]\n",
        "    def dma(self):\n",
        "        return self.__terna\n",
        "    def amd(self):\n",
        "        return [self.__terna[2], self.__terna[1], self.__terna[0]]\n",
        "    def dia(self):\n",
        "        return self.__terna[0]\n",
        "    def mes(self):\n",
        "        return self.__terna[1]\n",
        "    def anho(self):\n",
        "        return self.__terna[2]\n",
        "    def siglo(self):\n",
        "        return self.__terna[2] // 100 + 1\n",
        "    def establecer_anho(self, anho):\n",
        "        assert type(anho) == int and anho > 0, 'Error: intento de establecer un anho no válido'\n",
        "        self.__terna[2] = anho"
      ]
    },
    {
      "cell_type": "code",
      "execution_count": null,
      "metadata": {
        "id": "BpMIVPib6hrG"
      },
      "outputs": [],
      "source": [
        "lista = [19, 5, 2021]\n",
        "fecha = Fecha(lista)\n",
        "print(fecha.dma())\n",
        "print(fecha.amd())\n",
        "lista[2] = 2000\n",
        "print(fecha.dma())\n",
        "print(fecha.amd())\n",
        "fecha.establecer_anho(2000)\n",
        "print(fecha.dma())\n",
        "print(fecha.amd())\n"
      ]
    }
  ],
  "metadata": {
    "colab": {
      "collapsed_sections": [],
      "include_colab_link": true,
      "name": "2021-05-19  Algoritmos y Programación tipos de datos.ipynb",
      "provenance": []
    },
    "kernelspec": {
      "display_name": "Python 3",
      "name": "python3"
    },
    "language_info": {
      "codemirror_mode": {
        "name": "ipython",
        "version": 3
      },
      "file_extension": ".py",
      "mimetype": "text/x-python",
      "name": "python",
      "nbconvert_exporter": "python",
      "pygments_lexer": "ipython3",
      "version": "3.8.12"
    }
  },
  "nbformat": 4,
  "nbformat_minor": 0
}
