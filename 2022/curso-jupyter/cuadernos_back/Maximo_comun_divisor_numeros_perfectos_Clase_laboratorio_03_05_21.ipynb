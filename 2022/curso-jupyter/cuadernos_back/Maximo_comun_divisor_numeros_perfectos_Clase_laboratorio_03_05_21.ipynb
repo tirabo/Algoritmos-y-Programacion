{
  "cells": [
    {
      "cell_type": "markdown",
      "metadata": {
        "colab_type": "text",
        "id": "view-in-github"
      },
      "source": [
        "<a href=\"https://colab.research.google.com/github/tirabo/Algoritmos-y-Programacion/blob/main/Maximo_comun_divisor_numeros_perfectos_Clase_laboratorio_03_05_21.ipynb\" target=\"_parent\"><img src=\"https://colab.research.google.com/assets/colab-badge.svg\" alt=\"Open In Colab\"/></a>"
      ]
    },
    {
      "cell_type": "markdown",
      "metadata": {
        "id": "YqtN3RFxcdPR"
      },
      "source": [
        "## Máximo común divisor\n",
        "\n",
        "Veamos como calcular el máximo común divisor de dos números \"inspeccionando\" los divisores comunes. Es decir si $a$, $b$  enteros, uno de ellos no negativo \n",
        "$$\\operatorname{mcd}(a,b) = \\text{el máximo divisor común a $a$ y $b$.}\n",
        "$$  \n"
      ]
    },
    {
      "cell_type": "code",
      "execution_count": null,
      "metadata": {
        "id": "ZHWz92Rqjnlr"
      },
      "outputs": [],
      "source": [
        "# primero definimos una función que nos devuelve los divisores de un número\n",
        "def divisores(a):\n",
        "  return  [d for d in range(1, a+1) if a % d == 0]\n",
        "\n",
        "# veamos ahora varias formas de calcular el mcd, todas ellas parecidas, \n",
        "# siempre eligiendo el divisor común más grande. \n",
        "\n",
        "def maximo_comun_divisor_v1(a, b: int) -> int:\n",
        "  # pre: (a > 0) or (b > 0)\n",
        "  # post:  devuelve mcd(a,b)\n",
        "  div_de_a = divisores(a)\n",
        "  div_de_b = divisores(b)\n",
        "  i = len(div_de_a)\n",
        "  j = len(div_de_b)\n",
        "  mcd = False # indica que no se ha encontrado el mcd\n",
        "  while not mcd:\n",
        "    k = j\n",
        "    for _ in range(j):\n",
        "      if div_de_a[i - 1] == div_de_b[k - 1] :\n",
        "        div = div_de_a[i - 1]\n",
        "        mcd = True\n",
        "      k -= 1\n",
        "    i -= 1\n",
        "  return div\n",
        "\n",
        "def maximo_comun_divisor_v2(a, b: int) -> int:\n",
        "  # pre: (a > 0) or (b > 0)\n",
        "  # post:  devuelve mcd(a,b)\n",
        "  div_de_a = divisores(a)\n",
        "  div_de_b = divisores(b)\n",
        "  h = len(div_de_a) - 1\n",
        "  mcd = False # indica que no se ha encontrado el mcd\n",
        "  while not mcd:\n",
        "    if div_de_a[h] in div_de_b: # usa la relación 'in'\n",
        "      div = div_de_a[h]\n",
        "      mcd = True\n",
        "    h = h - 1\n",
        "  return div\n",
        "\n",
        "def maximo_comun_divisor_v3(a, b: int) -> int:\n",
        "  # pre: (a > 0) or (b > 0)\n",
        "  # post:  devuelve mcd(a,b)\n",
        "  div_de_a = divisores(a)\n",
        "  div_de_b = divisores(b)\n",
        "  divisores_comunes = [(x,y) for x in div_de_a for y in div_de_b if x == y]\n",
        "  # la lista por comprensión anterior está formada por todos los pares (x,x) \n",
        "  # donde x es divisor de a y x es divisor de b\n",
        "  return max(divisores_comunes)[0]\n",
        "\n",
        "# Una versión optimizada de este algoritmo es la siguiente\n",
        "def maximo_comun_divisor_v4(a, b: int) -> int:\n",
        "  # pre: (a > 0) or (b > 0)\n",
        "  # post:  devuelve mcd(a,b)\n",
        "  div_de_a, div_de_b = divisores(a), divisores(b)\n",
        "  # las listas anteriores están ordenadas pero por las dudas, y para no depender\n",
        "  # de la implementación de otra función, las ordenamos.\n",
        "  div_de_a.sort(), div_de_b.sort()\n",
        "  i, j = len(div_de_a) - 1, len(div_de_b) - 1\n",
        "  while div_de_a[i] != div_de_b[j]:\n",
        "    if div_de_a[i] < div_de_b[j]:\n",
        "      j = j - 1\n",
        "    else:\n",
        "      i = i - 1\n",
        "  return div_de_a[i]\n",
        "\n",
        "# En realidad la versión optimizada no aporta mucho, pues lo más costoso a \n",
        "# nivel computacional es la función divisores() y las listas de divisores no son \n",
        "# demasiado grandes (en longitud).  \n",
        "\n",
        "\n",
        "\n",
        "print(maximo_comun_divisor_v4(12, 15))\n",
        "print(maximo_comun_divisor_v4(10000, 23456))\n",
        "print(maximo_comun_divisor_v4(10000, 110))\n",
        "print(maximo_comun_divisor_v4(3*2**20, 3**10*2))"
      ]
    },
    {
      "cell_type": "code",
      "execution_count": null,
      "metadata": {
        "id": "ucfRQobSz8ar"
      },
      "outputs": [],
      "source": [
        "# Otro ejemplo de definición de lista por comprensión\n",
        "# Dadas dos lista hace la lista \"intersección\". \n",
        "lista1 = divisores(1000)\n",
        "lista2 = divisores(55)\n",
        "elemento = [x for x in lista1 if x in lista2]\n",
        "print(lista1)\n",
        "print(lista2)\n",
        "print(elemento)\n",
        "\n",
        "# Python también permite trabajar con conjuntos\n",
        "conjunto1, conjunto2 = set(lista1), set(lista2)\n",
        "print(conjunto1)\n",
        "print(conjunto2)\n",
        "interseccion = conjunto1.intersection(conjunto2)\n",
        "print(interseccion)\n",
        "\n"
      ]
    },
    {
      "cell_type": "markdown",
      "metadata": {
        "id": "mpWruHNrBdlY"
      },
      "source": [
        "## Números perfectos\n",
        "\n",
        "Un número perfecto es un número entero positivo que es igual a la suma de sus divisores propios positivos. \n",
        "\n",
        "Por ejemplo, $6 = 3 + 2 +1$.\n",
        "\n",
        "*Ejercicio.* Calcular todos los números perfectos  menores e iguales que $10000$.\n"
      ]
    },
    {
      "cell_type": "code",
      "execution_count": null,
      "metadata": {
        "id": "pEFHcIKcBlcp"
      },
      "outputs": [],
      "source": [
        "def perfectos(n: int) -> list:\n",
        "  # post:  devuelve la lista de enteros perfectos hasta n\n",
        "  perfectos = []\n",
        "  for i in range(1, n + 1):\n",
        "    div_i = divisores(i)\n",
        "    div_i.sort() # ordenamos div_i\n",
        "    suma = 0\n",
        "    for k in range(len(div_i) - 1):\n",
        "      suma = suma + div_i[k]\n",
        "    # suma = sumatoria de todos los divisores propios de i\n",
        "    if suma == i:\n",
        "      perfectos.append(i)\n",
        "  return perfectos\n",
        "\n",
        "print(perfectos(10000))"
      ]
    },
    {
      "cell_type": "markdown",
      "metadata": {
        "id": "fiT3fZTjUEZe"
      },
      "source": [
        "## Números perfectos pares\n",
        "\n",
        "**Teorema de Euclides-Euler**\n",
        "\n",
        "*Un número par es perfecto si y sólo si tiene la forma $2^{p−1}(2^p - 1)$, donde $2^p - 1$ es un número primo.*   "
      ]
    },
    {
      "cell_type": "code",
      "execution_count": null,
      "metadata": {
        "colab": {
          "base_uri": "https://localhost:8080/"
        },
        "id": "W8jdu-PwV6bv",
        "outputId": "c86443ea-e67c-4a31-ca95-5dd7e9df4aa7"
      },
      "outputs": [
        {
          "name": "stdout",
          "output_type": "stream",
          "text": [
            "[6, 28, 496, 8128, 33550336, 8589869056, 137438691328]\n"
          ]
        }
      ],
      "source": [
        "def es_primo(n):\n",
        "    # pre: n entero positivo\n",
        "    # post:  devuelve True si es primo, si no devuelve False\n",
        "    div_n = divisores(n)\n",
        "    return len(div_n) == 2 # n es primo <=> tiene exactamente dos divisores positivos \n",
        "\n",
        "def numeros_perfectos_pares(n):\n",
        "    # pre: n entero positivo\n",
        "    # post: devuelve la lista de numeros perfectos pares <= n\n",
        "    perfectos = []\n",
        "    p = 1\n",
        "    candidato =  2**(p-1)*(2**p -1)\n",
        "    while candidato <= n:\n",
        "        #print(candidato,(2**p -1), [d for d in range(1, 2**p) if n % d == 0]) )\n",
        "        if es_primo(2**p-1):\n",
        "            perfectos.append(candidato)\n",
        "        p = p + 1\n",
        "        candidato = 2**(p-1)*(2**p -1)\n",
        "    return perfectos\n",
        "\n",
        "# Este algoritmo nos permite encontrar más números perfectos que el anterior.\n",
        "print(numeros_perfectos_pares(10**12))\n",
        "\n"
      ]
    },
    {
      "cell_type": "markdown",
      "metadata": {
        "id": "kQvToPEw7n8h"
      },
      "source": [
        "El último primo perfecto $\\le 10^{12}$ es \n",
        "$$137438691328 = 2^{18}(2^{19} -1).$$\n",
        "El próximo es $2^{30}(2^{31} -1)$ pero no podemos hallarlo con nuestro método. La dificultad reside en que la función `divisores()` es muy poco eficiente  y por lo tanto la verificación `es_primo()` tampoco es eficiente. \n",
        "\n",
        "Existes algoritmos muy eficientes para determinar si un número es primo o no. Estos algoritmos no se basan en encontrar los divisores, si no en ciertas propiedades algebraicas que poseen los números primos. Con el uso de estos algoritmos,  quizás en alguna clase hablemos de ellos, se puede avanzar más en la búsqueda de números perfectos. \n",
        "\n",
        "Por último, mencionemos (ver Wikipedia) que a la fecha:\n",
        "- Se han encontrado $47$ números perfectos, todos pares.\n",
        "- No se sabe si existen números perfectos impares.\n",
        "- No se sabe si hay infinitos números perfectos.\n",
        "\n",
        "El  número perfecto  más grande que se conoce fue hallado en el año 2009 y es\n",
        "$$\n",
        "2^{43112608}(2^{ 43112609} -1).\n",
        "$$\n",
        "Este número tiene casi $13$ millones de dígitos. "
      ]
    }
  ],
  "metadata": {
    "colab": {
      "authorship_tag": "ABX9TyOTRR1EdUnou+xMG7xJcwyR",
      "collapsed_sections": [],
      "include_colab_link": true,
      "name": "Clase laboratorio 03-05-21.ipynb",
      "provenance": []
    },
    "kernelspec": {
      "display_name": "Python 3",
      "name": "python3"
    },
    "language_info": {
      "name": "python"
    }
  },
  "nbformat": 4,
  "nbformat_minor": 0
}
