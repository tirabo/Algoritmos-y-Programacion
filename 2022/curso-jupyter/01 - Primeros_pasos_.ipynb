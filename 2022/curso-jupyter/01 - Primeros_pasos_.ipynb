{
 "cells": [
  {
   "cell_type": "markdown",
   "metadata": {
    "id": "TVPL-_LK_3GG"
   },
   "source": [
    "# Primeros pasos con Python"
   ]
  },
  {
   "cell_type": "markdown",
   "metadata": {
    "id": "qQwZ0RFr_voY"
   },
   "source": [
    "## 1. Ejecutando  Python\n",
    "\n",
    "Uno de los desafíos al comenzar a trabajar con Python es instalar el software relacionado en tu computadora.\n",
    "\n",
    "Si estás familiarizado con su sistema operativo, y especialmente si te sentís cómodo con la interfaz de línea de comandos, no vas a tener problemas para instalar Python. Pero para los principiantes, puede ser complicado  aprender sobre administración del sistema y programación al  mismo tiempo.\n",
    "\n",
    "Para evitar ese problema, recomendamos comenzar con Jupyter Notebooks. *Jupyter Notebook* (anteriormente IPython Notebooks) es un entorno informático que permite trabajar alternadamente con programas Python y texto enriquecido. Este que están viendo es un *cuaderno Jupyter*.  \n",
    "\n",
    "Existen varias implementaciones de cuadernos Jupyter para comezar a trabajar con ellas:\n",
    "\n",
    "- *Google Colaboratory (Colab).* Es una versión de Jupyter Notebooks on line provista por Google. Es una fabulosa herramienta didáctica y nos permitirá hacer gran parte del curso aunque en  las últimas semanas posiblemente necesitemos otra herramienta. Las tareas y ejercicios del curso se harán con esta herramienta.\n",
    "- *Anaconda.* Anaconda es mucho más que Jupyter Notebooks y los que se sientan cómodos con esta aplicación podrán utilizarla en el curso.\n",
    "- *JupyterLab Desktop.*  Es un subproducto de Anaconda, pero mucho más fácil de instalar y manejar.\n",
    "\n",
    "Un  cuaderno Jupyter se divide en celdas de texto con formato y celdas de código Python. Cuando creamos una celda elegimos que tipo de celda queremos (\"Markdown\" para texto, \"Code\" para Python). Obviamente lo que estamos leyendo ahora es una celda de texto. La celda siguiente es una celda de código y la podemos ejecutar cliqueando el triangulito o posicionarse en ella  y hacer `Mayus+Enter`:\n",
    "\n",
    "\n"
   ]
  },
  {
   "cell_type": "code",
   "execution_count": null,
   "metadata": {
    "id": "auL-phi-Dpjy"
   },
   "outputs": [],
   "source": [
    "1 + 1"
   ]
  },
  {
   "cell_type": "markdown",
   "metadata": {},
   "source": [
    "En muchos proyectos que involucren desarrollo de software en Python se utiliza *el modo de secuencia de comandos* o *modo script*. En este modo cada pieza de código se guarda en un archivo y luego se ejecuta este archivo, llamado *script*, en el intérprete. Por convención, los scripts de Python tienen nombres que terminan en `.py`. Si sabés cómo crear y ejecutar un script en tu computadora podrás correr todos los scripts de este curso.\n",
    "\n",
    "Hay herramientas muy útiles para escribir código llamadas IDE (Integrated Development Environment) o entornos de desarrollo integrado​s. Una IDE es una aplicación informática que proporciona servicios integrales para facilitarle al desarrollador o programador el desarrollo de software. \n",
    "\n",
    "La primera que mencionaremos es Visual Studio Code. Visual Studio Code es un editor de código fuente desarrollado por Microsoft para Windows, Linux, macOS y Web. Incluye soporte para la depuración, control integrado de Git, resaltado de sintaxis, finalización inteligente de código, fragmentos y refactorización de código. También es personalizable, por lo que los usuarios pueden cambiar el tema del editor, los atajos de teclado y las preferencias. Es gratuito y de código abierto. Por medio de plugins es posible codificar en casi cualquier lenguaje de programación, en particular en Python. \n",
    "\n",
    "La otra herramienta a mencionar es PyCharm. PyCharm es un IDE multiplataforma dirigido principalmente a Python y al desarrollo web. Una versión de código abierto está disponible como PyCharm Community Edition. Hay una versión paga llamada PyCharm Professional Edition. Una versión especial llamada PyCharm Edu está basada en PyCharm, dirigida específicamente al aprendizaje de la programación con Python. Como alumno universitario podés aplicar a la versión académica. PyCharm tiene una distribuciónpara Anaconda que se puede instalar junto con Anaconda y están estrechamente integradas."
   ]
  },
  {
   "cell_type": "markdown",
   "metadata": {},
   "source": [
    "En la primer celda que ejecutamos usamos a Python como calculadora y ese es el uso  mas sencillo wuer le podemos dar. Profundizaremos más abajo en este aspecto. \n",
    "\n",
    "Ahora vemos algunos ejemplos muy sencillos de scripts:"
   ]
  },
  {
   "cell_type": "code",
   "execution_count": null,
   "metadata": {
    "id": "Q5V3hjH2EiXi"
   },
   "outputs": [],
   "source": [
    "print('¡Hola, mundo!') "
   ]
  },
  {
   "cell_type": "markdown",
   "metadata": {
    "id": "wqAZcEqREmGw"
   },
   "source": [
    "Este es un ejemplo de una _sentencia print_, aunque en realidad no imprime nada en papel. Muestra un resultado en la pantalla. En este caso, como ya habrás comprobado, el resultado son las palabras\n",
    "```\n",
    "¡Hola Mundo!\n",
    "```\n",
    "Las comillas en el programa,  que pueden ser simples o dobles, marcan el principio y el final del texto que se mostrará y no aparecen en el resultado.\n",
    "\n",
    "Los paréntesis indican que `print` es una _función_. Veremos funciones con profundidad más adelante.\n"
   ]
  },
  {
   "cell_type": "markdown",
   "metadata": {
    "id": "xpokPMVbF-lc"
   },
   "source": [
    "## 3. Operadores aritméticos\n",
    "\n",
    "Después de `Hola, mundo`, el siguiente paso es la aritmética elemental. Python proporciona _operadores_, que son símbolos especiales que representan cálculos\n",
    "como suma y multiplicación.\n",
    "\n",
    "Los operadores `+`, `-` y `*` realizan sumas, resta y multiplicación, respecivamente. Por ejemplo:\n"
   ]
  },
  {
   "cell_type": "code",
   "execution_count": null,
   "metadata": {
    "id": "S--O7kbPGjFH"
   },
   "outputs": [],
   "source": [
    "40 + 2"
   ]
  },
  {
   "cell_type": "code",
   "execution_count": null,
   "metadata": {
    "id": "Pid-Y4PgGjOd"
   },
   "outputs": [],
   "source": [
    "43 - 1"
   ]
  },
  {
   "cell_type": "code",
   "execution_count": null,
   "metadata": {
    "id": "AtjYYD5QGjY5"
   },
   "outputs": [],
   "source": [
    "6 * 3"
   ]
  },
  {
   "cell_type": "markdown",
   "metadata": {
    "id": "Frjcq4CDG8a1"
   },
   "source": [
    "El operador `/` realiza la división:\n",
    "\n"
   ]
  },
  {
   "cell_type": "code",
   "execution_count": null,
   "metadata": {
    "colab": {
     "base_uri": "https://localhost:8080/"
    },
    "id": "tKtPt1_aHTcV",
    "outputId": "e082c152-b04d-4a44-8158-21a92f2d871b"
   },
   "outputs": [],
   "source": [
    "84 / 2"
   ]
  },
  {
   "cell_type": "markdown",
   "metadata": {
    "id": "ecaQAlHoHZEY"
   },
   "source": [
    "Quizás te preguntes al ejecutar la celda anterior por qué el resultado es `42.0` en lugar de `42`. La respuesta es que Python tiene dos operadores de división. el primero,  es el que ya vimos, es `/` que siempre obtiene  un número decimal o coma flotante. El segundo es `//` y es la _división entera_. Por ejemplo, \n"
   ]
  },
  {
   "cell_type": "code",
   "execution_count": null,
   "metadata": {
    "colab": {
     "base_uri": "https://localhost:8080/"
    },
    "id": "MRRGn5MrTkQT",
    "outputId": "7939248b-baf2-4d9e-b779-6191ce4f5810"
   },
   "outputs": [],
   "source": [
    "84 // 2"
   ]
  },
  {
   "cell_type": "markdown",
   "metadata": {
    "id": "pGMgN0VgTy7c"
   },
   "source": [
    "devuelve `42` y "
   ]
  },
  {
   "cell_type": "code",
   "execution_count": null,
   "metadata": {
    "id": "OBAR5XPYUPbV"
   },
   "outputs": [],
   "source": [
    "20 // 3"
   ]
  },
  {
   "cell_type": "markdown",
   "metadata": {
    "id": "mMFJEsbvUN05"
   },
   "source": [
    "Devuelve `6`, pues \"3 entra 6 veces en 20\".\n",
    "\n",
    "Finalmente, el operador `**` realiza una exponenciación; esto es,\n",
    "eleva un número a una potencia:"
   ]
  },
  {
   "cell_type": "code",
   "execution_count": null,
   "metadata": {
    "colab": {
     "base_uri": "https://localhost:8080/"
    },
    "id": "7MZkobTDHwul",
    "outputId": "a50bdbd6-a303-4b4e-adb6-54ca4d213aba"
   },
   "outputs": [],
   "source": [
    "6 ** 2 "
   ]
  },
  {
   "cell_type": "markdown",
   "metadata": {
    "id": "AK84soxpiVs4"
   },
   "source": [
    "Recordemos que  $\\sqrt[n]{a} = a^{1/n}$. Luego\n",
    "$$\n",
    "\\sqrt{10} = 10^{1/2} = 10^{0.5}.\n",
    "$$\n",
    "Por ejemplo, "
   ]
  },
  {
   "cell_type": "code",
   "execution_count": null,
   "metadata": {},
   "outputs": [],
   "source": [
    "print(9**0.5) # raíz cuadrada de 9 (= 3)\n",
    "print(27**(1/3)) # raíz cúbica de 27 (= 3)"
   ]
  },
  {
   "cell_type": "markdown",
   "metadata": {
    "id": "pa1xnfneH0Sg"
   },
   "source": [
    "En  las celdas de código anteriores usamos el símbolo `#` para comenzar un *comentario*: el texto que sigue después de `#` no será interpretado  o ejecutado y sirve de ayuda al programador.\n",
    "\n",
    "En algunos lenguajes de programación se utiliza `^` para la exponenciación, pero en Python `^` es un operador bit a bit llamado XOR. Si no estás familiarizado con los operadores bit a bit, el resultado te sorprenderá:\n",
    "\n"
   ]
  },
  {
   "cell_type": "code",
   "execution_count": null,
   "metadata": {
    "colab": {
     "base_uri": "https://localhost:8080/"
    },
    "id": "WvvOCb76IGsh",
    "outputId": "9c05df6e-29be-43ef-af04-bfeea9afdc9a"
   },
   "outputs": [],
   "source": [
    "6 ^ 2 "
   ]
  },
  {
   "cell_type": "markdown",
   "metadata": {
    "id": "6w_XZ-CFI-eh"
   },
   "source": [
    "No cubriremos los operadores bit a bit en este curso, pero podes leer acerca de\n",
    "ellos en [http://wiki.python.org/moin/BitwiseOperators](http://wiki.python.org/moin/BitwiseOperators) (en inglés). "
   ]
  },
  {
   "cell_type": "markdown",
   "metadata": {
    "id": "Rdjt76sqKu_b"
   },
   "source": [
    "## 4. Valores y tipos\n",
    "\n",
    "Un _valor_ es una de las entidades básicas con las que trabaja un programa, como una letra o un número. Algunos valores que hemos visto hasta ahora son `2`, `42.0` y `'¡Hola, mundo!'`.\n",
    "\n",
    "Estos valores pertenecen a diferentes _tipos_: `2` es un _entero_, `42.0` es un _número de coma flotante_ y `'¡Hola, mundo!'`es una _cadena_, así llamada porque los caracteres que contiene se ubican en forma consecutiva.\n",
    "\n",
    "Si no estás seguro de qué tipo de valor es un valor determinado, Python mismo puede decírtelo ejecutando la función `type()`.\n"
   ]
  },
  {
   "cell_type": "code",
   "execution_count": null,
   "metadata": {
    "id": "fWHLvHlhMNHg"
   },
   "outputs": [],
   "source": [
    "print(type(2))\n",
    "print(type(42.0))\n",
    "print(type('¡Hola, mundo!'))"
   ]
  },
  {
   "cell_type": "markdown",
   "metadata": {
    "id": "2TryIXoYMc-y"
   },
   "source": [
    "Vemos en los resultados de ejecutar la celda anterior que en todos aparece la palabra `class`. La palabra `class`,  cuya traducción al español es *clase*, se usa en el sentido de una categoría: un tipo es una categoría de valores.\n",
    "\n",
    "No es sorprendente que los enteros pertenezcan al tipo `int`, las cadenas pertenezcan a `str` (por _string_ en inglés) y los números en coma flotante pertenezcan a `float`.\n",
    "\n",
    "¿Qué pasa con valores como `'2'` y `'42.0'`?\n",
    "Parecen números, pero están entre comillas como cadenas y, efectivamente son cadenas. Lo  comprobaremos ejecutando lo siguiente:\n"
   ]
  },
  {
   "cell_type": "code",
   "execution_count": null,
   "metadata": {
    "id": "NruWxWThNmOS"
   },
   "outputs": [],
   "source": [
    "print(type('2'))\n",
    "print(type('42.0'))"
   ]
  },
  {
   "cell_type": "markdown",
   "metadata": {
    "id": "NrcJNSbgNzv6"
   },
   "source": [
    "Cuando escribís un entero grande, podés tener la tentación de usar puntos entre grupos de dígitos, como en `1.000.000`. Sin embargo,  esto no es una forma permitida de escribir un entero, por ejemplo, la ejecución de la siguiente celda de código nos devuelve un error:"
   ]
  },
  {
   "cell_type": "code",
   "execution_count": null,
   "metadata": {
    "id": "EY_YT_qFOK-x"
   },
   "outputs": [],
   "source": [
    "print(1.000.000)"
   ]
  },
  {
   "cell_type": "markdown",
   "metadata": {
    "id": "PvCxy1u9Ob5G"
   },
   "source": [
    "La forma correcta de escribir \"un millón\" es `1000000`. Podemos tratar también de escribir un número decimal o coma flotante usando la notación latina. Por ejemplo, \"cuatro coma cinco\", podríamos intentar escribirlo como `4,5`,  y hagamos la prueba:  "
   ]
  },
  {
   "cell_type": "code",
   "execution_count": null,
   "metadata": {
    "colab": {
     "base_uri": "https://localhost:8080/"
    },
    "id": "Mm82U3MYO8QS",
    "outputId": "a79ec13e-4b79-4ec2-d909-122de8737487"
   },
   "outputs": [],
   "source": [
    "print(4,5)"
   ]
  },
  {
   "cell_type": "markdown",
   "metadata": {
    "id": "4ZzHRGgUPDQa"
   },
   "source": [
    "¡Eso no es lo que esperábamos en absoluto! Python interpreta la expresión `4,5` como dos enteros separados. \n",
    "\n",
    "Este es el primer ejemplo que hemos visto de un *error semántico*: el código se ejecuta sin producir un mensaje de error, pero no es lo que queremos obtener.\n",
    "\n",
    "La forma correcta de escribir un número decimal es reemplazando  la coma por  el punto, por ejemplo \"cuatro coma cinco\" se escribe `4.5`"
   ]
  },
  {
   "cell_type": "code",
   "execution_count": null,
   "metadata": {},
   "outputs": [],
   "source": [
    "print(4.5 * 2)"
   ]
  },
  {
   "cell_type": "markdown",
   "metadata": {},
   "source": [
    "## 4. Python como calculadora \n",
    "\n",
    "Como vimos más arriba Python puede ser usado como una calculadora. Ahora veremos más funciones de \"calculadora\". Para ello utilizaremos el módulo `math`. El módulo `math` permite utilizar funciones matemáticas que no son accesibles directamente en Python. La instrucción para importar es módulo es "
   ]
  },
  {
   "cell_type": "code",
   "execution_count": 2,
   "metadata": {
    "id": "PXm6xi6IjClh"
   },
   "outputs": [],
   "source": [
    "import math"
   ]
  },
  {
   "cell_type": "markdown",
   "metadata": {},
   "source": [
    "y debemos ejecutarla si en las siguientes celdas de código queremos usar el módulo. \n",
    "\n",
    "La instrucción para obtener el logaritmo en base $e$ es `math.log(t)`, donde `t` es un número real positivo. "
   ]
  },
  {
   "cell_type": "code",
   "execution_count": 3,
   "metadata": {
    "colab": {
     "base_uri": "https://localhost:8080/"
    },
    "id": "8d6sLzcpjM18",
    "outputId": "7613e6ad-a940-416a-bb2b-b365fdc61099"
   },
   "outputs": [
    {
     "data": {
      "text/plain": [
       "2.302585092994046"
      ]
     },
     "execution_count": 3,
     "metadata": {},
     "output_type": "execute_result"
    }
   ],
   "source": [
    "math.log(10)"
   ]
  },
  {
   "cell_type": "markdown",
   "metadata": {},
   "source": [
    "Si queremos obtener el logaritmo en base 10 debemos usar la función `math.log10()`:"
   ]
  },
  {
   "cell_type": "code",
   "execution_count": 4,
   "metadata": {
    "id": "2q2P1aNAjUsL"
   },
   "outputs": [
    {
     "name": "stdout",
     "output_type": "stream",
     "text": [
      "1.0\n",
      "234.0\n"
     ]
    }
   ],
   "source": [
    "print(math.log10(10))\n",
    "print(math.log10(10**234))"
   ]
  },
  {
   "cell_type": "markdown",
   "metadata": {},
   "source": [
    "Las funciones trigonométricas también son accesibles a travez del módulo `math`."
   ]
  },
  {
   "cell_type": "code",
   "execution_count": null,
   "metadata": {
    "colab": {
     "base_uri": "https://localhost:8080/"
    },
    "id": "AQl4t8TEjgPr",
    "outputId": "5f81722f-b856-4295-8042-4ae1a51e5954"
   },
   "outputs": [],
   "source": [
    "math.sin(0)"
   ]
  },
  {
   "cell_type": "markdown",
   "metadata": {},
   "source": [
    "es el seno  de $0$. \n",
    "\n",
    "Si queremos calcular el seno de 360° directamente fallaremos:"
   ]
  },
  {
   "cell_type": "code",
   "execution_count": null,
   "metadata": {
    "colab": {
     "base_uri": "https://localhost:8080/"
    },
    "id": "jUmKwndHjlOB",
    "outputId": "ef11ed8d-5c66-41ae-f4eb-bf4cf6d5c0d3"
   },
   "outputs": [],
   "source": [
    "math.sin(360)"
   ]
  },
  {
   "cell_type": "markdown",
   "metadata": {},
   "source": [
    "El problema es que las funciones trigonométricas en Python aceptan  los grados en radianes.  Recordemos que $\\pi$ radianes son 180° sexagesimales, todo lo demás es regla de tres simple:\n",
    "- 360° $\\to$ $2\\pi$\n",
    "- 270° $\\to$ $\\frac32 \\pi$\n",
    "- 90° $\\to$ $\\pi/2$\n",
    "En general\n",
    "- x° $\\to$ $x \\cdot \\pi / 180$ radianes.\n",
    "\n",
    "Podemos obtener $\\pi$ copiando alguna estimación de algún sitio web, pero es más sencillo utilizar el que nos provee  Python: "
   ]
  },
  {
   "cell_type": "code",
   "execution_count": 5,
   "metadata": {
    "colab": {
     "base_uri": "https://localhost:8080/"
    },
    "id": "9gdrcmyCjwoT",
    "outputId": "91ec1dc0-db6f-4bc5-8e01-dbb468e63fa6"
   },
   "outputs": [
    {
     "data": {
      "text/plain": [
       "3.141592653589793"
      ]
     },
     "execution_count": 5,
     "metadata": {},
     "output_type": "execute_result"
    }
   ],
   "source": [
    "math.pi"
   ]
  },
  {
   "cell_type": "code",
   "execution_count": 6,
   "metadata": {
    "colab": {
     "base_uri": "https://localhost:8080/"
    },
    "id": "U3HhewRdj1Qk",
    "outputId": "2763694f-5336-4e88-b1a3-83d6a824866d"
   },
   "outputs": [
    {
     "data": {
      "text/plain": [
       "-2.4492935982947064e-16"
      ]
     },
     "execution_count": 6,
     "metadata": {},
     "output_type": "execute_result"
    }
   ],
   "source": [
    "math.sin(2 * math.pi)"
   ]
  },
  {
   "cell_type": "markdown",
   "metadata": {
    "id": "D0Wd4M5-j_Zh"
   },
   "source": [
    "La expresión `-2.4492935982947064e-16` se lee $-2.4492935982947064 \\times 10^{-16}$. Es decir es\n",
    "$$\n",
    "-0.00000000000000024492935982947064\n",
    "$$\n",
    "Nosotros esperaríamos que el resultado de ejecutar la línea de código anterior sea `0`, pero debido a que el valor de $\\pi$ es una aproximación y  que la función `sin()` también devuelve aproximaciones,  el resultado es número \"cercano\"  a `0`.\n",
    "\n",
    "Para devolver todas las funciones del módulo ejecutamos `dir(math)`:"
   ]
  },
  {
   "cell_type": "code",
   "execution_count": 7,
   "metadata": {
    "colab": {
     "base_uri": "https://localhost:8080/"
    },
    "id": "Hut4aN6Zk0e8",
    "outputId": "668e40b3-a95e-4066-a77b-ddc78a944d8f"
   },
   "outputs": [
    {
     "data": {
      "text/plain": [
       "['__doc__',\n",
       " '__loader__',\n",
       " '__name__',\n",
       " '__package__',\n",
       " '__spec__',\n",
       " 'acos',\n",
       " 'acosh',\n",
       " 'asin',\n",
       " 'asinh',\n",
       " 'atan',\n",
       " 'atan2',\n",
       " 'atanh',\n",
       " 'ceil',\n",
       " 'comb',\n",
       " 'copysign',\n",
       " 'cos',\n",
       " 'cosh',\n",
       " 'degrees',\n",
       " 'dist',\n",
       " 'e',\n",
       " 'erf',\n",
       " 'erfc',\n",
       " 'exp',\n",
       " 'expm1',\n",
       " 'fabs',\n",
       " 'factorial',\n",
       " 'floor',\n",
       " 'fmod',\n",
       " 'frexp',\n",
       " 'fsum',\n",
       " 'gamma',\n",
       " 'gcd',\n",
       " 'hypot',\n",
       " 'inf',\n",
       " 'isclose',\n",
       " 'isfinite',\n",
       " 'isinf',\n",
       " 'isnan',\n",
       " 'isqrt',\n",
       " 'lcm',\n",
       " 'ldexp',\n",
       " 'lgamma',\n",
       " 'log',\n",
       " 'log10',\n",
       " 'log1p',\n",
       " 'log2',\n",
       " 'modf',\n",
       " 'nan',\n",
       " 'nextafter',\n",
       " 'perm',\n",
       " 'pi',\n",
       " 'pow',\n",
       " 'prod',\n",
       " 'radians',\n",
       " 'remainder',\n",
       " 'sin',\n",
       " 'sinh',\n",
       " 'sqrt',\n",
       " 'tan',\n",
       " 'tanh',\n",
       " 'tau',\n",
       " 'trunc',\n",
       " 'ulp']"
      ]
     },
     "execution_count": 7,
     "metadata": {},
     "output_type": "execute_result"
    }
   ],
   "source": [
    "dir(math)"
   ]
  },
  {
   "cell_type": "markdown",
   "metadata": {},
   "source": [
    "Entre todos los métodos que nos provee la biblioteca `math` tenemos los que convierten radianes a grados sexagesimales y  viceversa."
   ]
  },
  {
   "cell_type": "code",
   "execution_count": 8,
   "metadata": {
    "colab": {
     "base_uri": "https://localhost:8080/"
    },
    "id": "Qi-A0TDalU3-",
    "outputId": "d2d0a059-32bd-43a6-e2fa-e1b068cd1499"
   },
   "outputs": [
    {
     "data": {
      "text/plain": [
       "180.0"
      ]
     },
     "execution_count": 8,
     "metadata": {},
     "output_type": "execute_result"
    }
   ],
   "source": [
    "math.degrees(math.pi)"
   ]
  },
  {
   "cell_type": "code",
   "execution_count": 9,
   "metadata": {
    "colab": {
     "base_uri": "https://localhost:8080/"
    },
    "id": "vBvvz54NlyKm",
    "outputId": "ad02e470-8c20-4856-f1ec-71ce1c9b4fee"
   },
   "outputs": [
    {
     "data": {
      "text/plain": [
       "-2.4492935982947064e-16"
      ]
     },
     "execution_count": 9,
     "metadata": {},
     "output_type": "execute_result"
    }
   ],
   "source": [
    "math.sin(math.radians(360)) # esto debería resultar un número cercano a 0"
   ]
  },
  {
   "cell_type": "code",
   "execution_count": null,
   "metadata": {
    "colab": {
     "base_uri": "https://localhost:8080/"
    },
    "id": "ul0K19rnl_bm",
    "outputId": "c15d963e-1381-44a5-ad14-cc18a9644b50"
   },
   "outputs": [],
   "source": [
    "math.e\n",
    "math.log(math.e)"
   ]
  },
  {
   "cell_type": "markdown",
   "metadata": {
    "id": "mfYpGl-WmLbQ"
   },
   "source": [
    "Recordemos que $\\log(x) = y$ si y solo si $e^y = x$.\n",
    "\n",
    "En  general \n",
    "$$\n",
    "\\log_a(x) = y \\quad\\Leftrightarrow \\quad a^y = x  \\quad \\Leftrightarrow\\quad  \\log(a^y) = \\log(x) \\quad  \\Leftrightarrow \\quad \\log(a) \\cdot y = \\log(x)\\quad  \\Leftrightarrow \\quad  y = \\log(x) / \\log(a)\n",
    "$$\n",
    "\n",
    "Luego  si queremos calcular, el logaritmo en base 2 de `x`, debemos  hacer `math.log(x) / math.log(2)`. Por ejemplo,"
   ]
  },
  {
   "cell_type": "code",
   "execution_count": null,
   "metadata": {
    "colab": {
     "base_uri": "https://localhost:8080/"
    },
    "id": "khJI4gfhmxjn",
    "outputId": "6ed517b2-19d3-4a22-d46d-d196a99a31c3"
   },
   "outputs": [
    {
     "ename": "",
     "evalue": "",
     "output_type": "error",
     "traceback": [
      "\u001b[1;31mRunning cells with 'Python 3.9.6 ('binan')' requires ipykernel package.\n",
      "Run the following command to install 'ipykernel' into the Python environment. \n",
      "Command: 'C:/Users/tirab/Envs/binan/Scripts/python.exe -m pip install ipykernel -U --force-reinstall'"
     ]
    }
   ],
   "source": [
    "print(math.log(10) / math.log(2)) # logartimo en base 2 de 10\n",
    "print(math.log(16) / math.log(2)) # logartimo en base 2 de 16 (es 4, pues 2**4 = 16)"
   ]
  },
  {
   "cell_type": "markdown",
   "metadata": {},
   "source": [
    "Otra forma de elevar un número  a una potencia es utilizando `math.pow()`"
   ]
  },
  {
   "cell_type": "code",
   "execution_count": null,
   "metadata": {
    "colab": {
     "base_uri": "https://localhost:8080/"
    },
    "id": "0XWUE-CqnRLh",
    "outputId": "9e9c6631-70e2-4b88-d229-743e00fda561"
   },
   "outputs": [],
   "source": [
    "math.pow(2, 3)"
   ]
  },
  {
   "cell_type": "markdown",
   "metadata": {},
   "source": [
    "que es lo mismo que"
   ]
  },
  {
   "cell_type": "code",
   "execution_count": null,
   "metadata": {
    "colab": {
     "base_uri": "https://localhost:8080/"
    },
    "id": "HouKvv0DnWxN",
    "outputId": "ad67b84b-f424-41b6-c5e5-2ff6a9603f04"
   },
   "outputs": [],
   "source": [
    "2**3"
   ]
  },
  {
   "cell_type": "markdown",
   "metadata": {},
   "source": [
    "También, para ciertas situaciones y algoritmos a veces es conveniente manejar el concepto de infinito. Esto muchas veces se hace eligiendo un número \"muy grande\". Python nos provee `math.inf` que formalmentes del tipo `float`, pero que no cumple las leyes o axiomas de un número real pues es \"número\" más grande que cualquier otro. Matemáticamente *infinito* no es un número sino un concepto matemático."
   ]
  },
  {
   "cell_type": "code",
   "execution_count": null,
   "metadata": {
    "colab": {
     "base_uri": "https://localhost:8080/"
    },
    "id": "4qUt67U2nfDW",
    "outputId": "b3cc6c4d-f317-4206-8bbf-1587eb8b8bc9"
   },
   "outputs": [],
   "source": [
    "type(math.inf)\n"
   ]
  },
  {
   "cell_type": "markdown",
   "metadata": {},
   "source": [
    "Por  el tipo `math.inf` parece ser un número, pero..."
   ]
  },
  {
   "cell_type": "code",
   "execution_count": null,
   "metadata": {},
   "outputs": [],
   "source": [
    "math.inf + 1 == math.inf # ningún número cumple con esta condición"
   ]
  },
  {
   "cell_type": "markdown",
   "metadata": {},
   "source": [
    "El `==` compara dos cantidades y devuelve `True` si son iguales."
   ]
  },
  {
   "cell_type": "code",
   "execution_count": null,
   "metadata": {},
   "outputs": [],
   "source": [
    "print(10**452 < math.inf) # todos los números cumplen con esta condición"
   ]
  },
  {
   "cell_type": "markdown",
   "metadata": {
    "id": "Sl3zMcfPsEw_"
   },
   "source": [
    "Para evitar escribir `math.` antes de cada función ejecutamos la siguiente celda  de código:"
   ]
  },
  {
   "cell_type": "code",
   "execution_count": 10,
   "metadata": {
    "colab": {
     "base_uri": "https://localhost:8080/"
    },
    "id": "VA0U308msOTg",
    "outputId": "1c938185-7834-424e-d9fb-90a27aa86df0"
   },
   "outputs": [],
   "source": [
    "from math import *\n"
   ]
  },
  {
   "cell_type": "markdown",
   "metadata": {},
   "source": [
    "Luego, es lícito escribir, por ejemplo:"
   ]
  },
  {
   "cell_type": "code",
   "execution_count": 11,
   "metadata": {},
   "outputs": [
    {
     "data": {
      "text/plain": [
       "-2.4492935982947064e-16"
      ]
     },
     "execution_count": 11,
     "metadata": {},
     "output_type": "execute_result"
    }
   ],
   "source": [
    "sin(2 * pi)"
   ]
  },
  {
   "cell_type": "markdown",
   "metadata": {
    "id": "DdtghJIGsSjl"
   },
   "source": [
    "Si sabemos que vamos a utilizar algunas funciones determinadas del módulo, podemos importar solamente esa funciones:"
   ]
  },
  {
   "cell_type": "code",
   "execution_count": null,
   "metadata": {
    "colab": {
     "base_uri": "https://localhost:8080/"
    },
    "id": "GL5zk4tzn6Zl",
    "outputId": "39744819-4df8-4dd5-da7a-5d3587bafbd6"
   },
   "outputs": [],
   "source": [
    "from math import log, e\n",
    "log(e)"
   ]
  },
  {
   "cell_type": "markdown",
   "metadata": {
    "id": "bDCuHOhosfmx"
   },
   "source": [
    "Si queremos acortar o cambiar el nombre del módulo dentro de nuestro programa podemos hacer algo como lo siguiente:"
   ]
  },
  {
   "cell_type": "code",
   "execution_count": null,
   "metadata": {
    "colab": {
     "base_uri": "https://localhost:8080/"
    },
    "id": "57CuD_AjoO8c",
    "outputId": "4c4203d4-5487-42fa-f488-f1ab1158c8ee"
   },
   "outputs": [],
   "source": [
    "import math as mt\n",
    "mt.log(mt.e)"
   ]
  }
 ],
 "metadata": {
  "colab": {
   "collapsed_sections": [],
   "name": "01 - Primeros pasos .ipynb",
   "provenance": []
  },
  "kernelspec": {
   "display_name": "Python 3 (ipykernel)",
   "language": "python",
   "name": "python3"
  },
  "language_info": {
   "codemirror_mode": {
    "name": "ipython",
    "version": 3
   },
   "file_extension": ".py",
   "mimetype": "text/x-python",
   "name": "python",
   "nbconvert_exporter": "python",
   "pygments_lexer": "ipython3",
   "version": "3.9.6"
  }
 },
 "nbformat": 4,
 "nbformat_minor": 4
}
