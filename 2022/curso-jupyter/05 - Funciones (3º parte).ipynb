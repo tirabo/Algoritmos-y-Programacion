{
 "cells": [
  {
   "cell_type": "markdown",
   "metadata": {},
   "source": [
    "# Funciones (3° parte)"
   ]
  },
  {
   "cell_type": "markdown",
   "metadata": {
    "id": "dIkC74lm2yIf"
   },
   "source": [
    "## 13. ¿Por qué funciones?\n",
    "\n",
    "Puede que no quede claro por qué vale la pena dividir un programa en funciones. Hay varias razones:\n",
    "\n",
    "- La creación de una nueva función te brinda la oportunidad de nombrar a un grupo de declaraciones, lo que hace que tu programa sea más fácil de leer y depurar.\n",
    "\n",
    "- Las funciones pueden hacer que un programa sea más pequeño al eliminar el código repetitivo. Posteriormente, si realiza algún cambio, solo se debe hacer en un lugar.\n",
    "\n",
    "- Dividir un programa largo en funciones te permite depurar las partes de una en una y luego ensamblarlas en un todo funcional.\n",
    "\n",
    "- Las funciones bien diseñadas suelen ser útiles para muchos programas. Una vez que escribas y depures uno, podrás reutilizarlo."
   ]
  },
  {
   "cell_type": "markdown",
   "metadata": {
    "id": "C3-Ti_9J22Lq"
   },
   "source": [
    "## 14. Depuración\n",
    "\n",
    "Una de las habilidades más importantes que adquirirás es la depuración. Aunque puede resultar frustrante, la depuración es una de las partes de la programación más interesantes, desafiantes e intelectualmente más enriquecedoras.\n",
    "\n",
    "De alguna manera, la depuración es como un trabajo de detective. Te enfrentás a pistas y tenés que inferir los procesos y eventos que llevaron a los resultados que ves.\n",
    "\n",
    "La depuración también es como una ciencia experimental. Una vez que tengas una idea de lo que va mal, modificá tu programa y volvé a intentarlo. Si tu hipótesis era correcta, podés predecir el resultado de la modificación y dar un paso más hacia un programa que funcione. Si tu hipótesis fue incorrecta, debés idear una nueva. Como señaló Sherlock Holmes: \n",
    "\n",
    "*Cuando hayas eliminado lo imposible, lo que quede, por improbable que sea, debe ser la verdad.*\n",
    "\n",
    "(A. Conan Doyle, El signo de los cuatro)\n",
    "\n",
    "Para algunas personas, programar y depurar son lo mismo. Es decir, la programación es el proceso de depurar gradualmente un programa hasta que hace lo que se desea. La idea es que debe comenzar con un programa que funcione y hacer pequeñas modificaciones, depurándolas a medida que se avanza."
   ]
  },
  {
   "cell_type": "markdown",
   "metadata": {},
   "source": [
    "## 15. Signatura \n",
    "\n",
    "La signatura o firma de una función define su entrada y su salida. Incluye por lo menos el nombre de la función y el número de sus parámetros. En algunos lenguajes de programación, puede incluir el tipo que devuelve la función o el tipo de sus parámetros.\n",
    "\n",
    "Por ejemplo, la signatura de la función que vimos en una clase anterior:\n",
    "```\n",
    "def imprimir_4_veces_v2(nombre):\n",
    "    for _ in range(4):\n",
    "        print(nombre)\n",
    "```\n",
    "es su nombre `imprimir_4_veces_v2` y que admite un parámetro. Aunque no está aclarado y el lenguage no exige aclararlo en forma explícita,  nosotros estamos pensando en que ese parámetro sea una cadena. \n",
    "\n",
    "En Python,  como ya vimos, no es obligatorio declarar los tipos de los parámetros y el tipo del valor que se devuelve en el caso de las funciones que devuelven valor. Sin embargo,  es una buena práctica y está permitido realizar anotaciones explicitando los tipos de todos los parámetros y valores. Veamos, por ejemplo, la función que ingresa dos parámetros, la base y la altura de un triángulo, números reales, y nos devuelve el área del triángulo, otro número real."
   ]
  },
  {
   "cell_type": "code",
   "execution_count": 1,
   "metadata": {},
   "outputs": [],
   "source": [
    "def area_triángulo(base, altura):\n",
    "    area = base * altura / 2\n",
    "    return area"
   ]
  },
  {
   "cell_type": "markdown",
   "metadata": {},
   "source": [
    "La función anterior es perfectamente funcional y sirve a nuestro propósitos, pero si explicitamos su signatura es mucha más clara para el usuario:"
   ]
  },
  {
   "cell_type": "code",
   "execution_count": null,
   "metadata": {},
   "outputs": [],
   "source": [
    "def area_triángulo(base, altura: float) -> float:\n",
    "    area = base * altura / 2\n",
    "    return area"
   ]
  },
  {
   "cell_type": "markdown",
   "metadata": {},
   "source": [
    "Una vez explicitada la signatura, Python no controla que la misma se satisfaga. La signatura explícita es simplemente una notación que ayuda al programador a no cometer errores. "
   ]
  },
  {
   "cell_type": "markdown",
   "metadata": {},
   "source": [
    "## 16. Precondiciones y postcondiciones\n",
    "\n",
    "Cuando definimos una función además de la signatura hay otras dos anotaciones importantes que veremos ahora:\n",
    "- Una *precondición* de la función es algo que debe ser cierto al comienzo de la función para que esta funcione correctamente.\n",
    "- Una *postcondición* es algo que la función garantiza que es cierto cuando ella termina.\n",
    "\n",
    "Parte de la precondición puede ser la signatura explícita, pero no siempre es así:\n"
   ]
  },
  {
   "cell_type": "code",
   "execution_count": null,
   "metadata": {},
   "outputs": [],
   "source": [
    "def area_triángulo(base, altura: float) -> float:\n",
    "    # pre:  base, altura > 0\n",
    "    # post: devuelve area, la superficie de un triángulo de base base y altura altura\n",
    "    area = base * altura / 2\n",
    "    return area"
   ]
  },
  {
   "cell_type": "markdown",
   "metadata": {},
   "source": [
    "Las precondiciones y postcondiciones pueden ser formales o coloquiales y su objetivo es ayudar al programador que está leyendo el código a entender que prerequisitos tiene la función y qué es lo que hace.  \n",
    "\n",
    "Vermos en la próxima sección la instrucción `assert` que permite chequear, usualmente en parte,  si las precondiciones y postcondiciones se cumplen. \n",
    "\n",
    "A partir de ahora, al definir funciones, usaremos continuamente las anotaciones corespondientes a signaturas, precondiciones y postcondiciones. Con esta metodología el código es más \"largo\" pero mucho más legible. "
   ]
  },
  {
   "cell_type": "markdown",
   "metadata": {},
   "source": [
    "## 17. Ejemplo: medición de distancias en la Tierra\n",
    "\n",
    "\n",
    "La esencia del análisis geoespacial es descubrir las relaciones de los objetos en la Tierra. Los objetos que están más cerca tienden a tener una relación más fuerte que los que están más lejos más alejados. Este concepto se conoce como la Primera Ley de la Geografía de Tobler. Por lo tanto, la medición de la distancia es una función crítica del análisis geoespacial.\n",
    "\n",
    "Cada mapa es un modelo de la Tierra y todos están equivocados en cierta medida. Por eso, medir la distancia exacta entre dos puntos de la Tierra sentado frente a un ordenador es imposible. Incluso los topógrafos profesionales (que salen al campo tanto con equipos de observación tradicionales como con equipos de GPS muy precisos) no tienen en cuenta todas las anomalías de la superficie terrestre entre el punto A y el punto B. Por tanto, para medir la distancia, debemos plantearnos las siguientes preguntas:\n",
    "\n",
    "- ¿Qué estamos midiendo?\n",
    "- ¿Cuánto estamos midiendo?\n",
    "- ¿Qué precisión necesitamos?\n",
    "\n",
    "Ahora bien, para calcular la distancia, hay tres modelos de la Tierra que podemos utilizar:\n",
    "\n",
    "- Plano\n",
    "- Esférico\n",
    "- Elipsoide\n",
    "\n",
    "En el modelo plano, se utiliza la geometría euclidiana estándar. La Tierra se considera un plano sin curvatura, como los mapas que vemos en Google Maps u Open Street Maps,\n",
    "\n",
    "Este modelo hace que las matemáticas sean bastante sencillas porque se trabaja con líneas rectas. El formato más común para las coordenadas geoespaciales es el de los grados decimales. Sin embargo, las coordenadas de grados decimales son medidas de referencia en una esfera tomadas como ángulos -entre la longitud y el primer meridiano- y la latitud y el ecuador. Además, las líneas de longitud convergen hacia el cero en los polos. La circunferencia de cada línea de latitud también se reduce hacia los polos. Estos hechos significan que los grados decimales no son un sistema de coordenadas válido para la geometría euclidiana, que utiliza el plano.\n",
    "\n",
    "Las proyecciones cartográficas intentan simplificar los problemas de tratar con un elipsoide 3D en un plano 2D, ya sea en papel o en una pantalla de ordenador. Las proyecciones cartográficas aplanan un modelo redondo de la Tierra a un plano e introducen distorsiones a cambio de la comodidad de contar con un mapa en una hoja. Una vez que esta proyección está en su lugar y los grados decimales se cambian por un sistema de coordenadas cartesianas con coordenadas $x$ e $y$, podemos utilizar las formas más simples de la geometría euclidiana, es decir, el teorema de Pitágoras. \n",
    "\n",
    "A una escala suficientemente grande, una esfera o elipsoide como la Tierra se parece más a un plano que a una esfera. De hecho, durante siglos, todo el mundo pensó que la Tierra era plana. Si la diferencia en grados de longitud es lo suficientemente pequeña, a menudo se puede utilizar la geometría euclidiana y luego convertir las medidas en metros, kilómetros o millas. Este método generalmente no se recomienda, pero la decisión depende en última instancia de usted y de sus requisitos de precisión como analista.\n",
    "\n",
    "El enfoque del modelo esférico trata de aproximarse mejor a la realidad evitando los problemas derivados de aplastar la Tierra en una superficie plana. Como su nombre indica, este modelo utiliza una esfera perfecta para representar la Tierra (similar a un globo terráqueo físico), lo que nos permite trabajar con grados directamente. Este modelo ignora el hecho de que la Tierra es en realidad más bien un elipsoide con diferentes grados de grosor en su corteza. Pero al trabajar con la distancia en la superficie de una esfera, podemos empezar a medir distancias más largas con más precisión. \n"
   ]
  },
  {
   "cell_type": "markdown",
   "metadata": {},
   "source": [
    "### La fórmula del haverseno\n",
    "\n",
    "\n",
    "Aunque la modelización matemática más exacta de la Tierra es como un elipsoide de revolución, nosotros pensaremos a la Tierra como una esfera de radio 6.371 km. \n",
    "\n",
    "La distancia entre dos puntos en la Tierra viene dada por la longitud de la porción del *círculo máximo*, también llamado *geodésica*,  que los une. Los meridianos son los círculos máximos que pasan por los  polos,  pero hay otros círculos máximos. El ecuador terrestre es uno. En general dados dos puntos cualesquiera de la Tierra hay un círculo máximo que los contiene: es la intersección de la esfera con  el plano determinado por los dos puntos y el centro de la esfera.  Las círculos máximos en la esfera juegan el rol de las rectas en el plano y ellas permiten definir triángulos esféricos, cuadrados esféricos, etc. y,  en la denominada geometría esférica,  se pueden demostrar propiedades análogas a las que se obtienen en la geometría del plano.  Un *arco geodésico* entre dos puntos es la porción de círculo máximo que une los dos puntos y tiene longitud menor. La *distancia* en la Tierra entre dos puntos es la longitud del arco geodésico que une los dos puntos.\n",
    "\n",
    "Entonces ¿cómo podemoes estimar medir la distancia entre dos puntos? El método más popular es utilizar la *fórmula del haverseno* o *semiverseno*, que utiliza la trigonometría para calcular la longitud del arco geodésico entre dos puntos utilizando como entrada coordenadas definidas en grados decimales. \n",
    "\n",
    "Nosotros no utilizaremos la fórmula del haverseno directamente sino una simplificación de la misma:"
   ]
  },
  {
   "cell_type": "code",
   "execution_count": null,
   "metadata": {},
   "outputs": [],
   "source": [
    "from math import * # importa la biblioteca o módulo de matemática\n",
    "\n",
    "def distancia_terrestre(lon1, lat1, lon2, lat2):\n",
    "    # pre: (lon1, lat1) y (lon2, lat2) son coordenadas (lon, lat) de dos puntos en radianes.\n",
    "    # post: devuelve la distancia entre los dos puntos en kilómetros\n",
    "    x1, y1 = (pi / 180) * lon1,  (pi / 180) * lat1\n",
    "    x2, y2 =  (pi / 180) * lon2,  (pi / 180) * lat2\n",
    "    return acos(cos(y1) * cos(y2) * cos(x1 - x2) + sin(y1) * sin(y2)) * 6371"
   ]
  },
  {
   "cell_type": "markdown",
   "metadata": {},
   "source": [
    "No es difícil deducir la fórmula anterior usando conocimientos de trigonometría elemental.\n",
    "\n",
    "**Ejemplo.** Calculemos la distancia entre las capitales de Córdoba y San Juan. En  Wikipedia podemos obtener las coordenadas decimales de cada una de esta ciudades. Hay que observar que en la Wikipedia las coordenadas geográficas son latitud, longitud y nosotros en nuestro cálculos usamos longitud, latitud. \n",
    "\n",
    "- Cordoba : -64.183333, -31.416667 (lon, lat),\n",
    "- San Juan: -68.536389, -31.5375.\n",
    "\n",
    "Luego la distancia entre Córdoba y San Juan es:\n"
   ]
  },
  {
   "cell_type": "code",
   "execution_count": null,
   "metadata": {},
   "outputs": [],
   "source": [
    "distancia_terrestre(-64.183333, -31.416667, -68.536389, -31.5375)"
   ]
  },
  {
   "cell_type": "markdown",
   "metadata": {},
   "source": [
    "Es decir 413.0025113879262 km. Podrán comprobar que podemos obtener una distancia muy parecida en Google Maps o Google Earth. "
   ]
  }
 ],
 "metadata": {
  "colab": {
   "authorship_tag": "ABX9TyNUj8Bp3lSqiWVZm5SK8uIi",
   "collapsed_sections": [],
   "name": "04 - Funciones (2º parte).ipynb",
   "provenance": []
  },
  "kernelspec": {
   "display_name": "Python 3 (ipykernel)",
   "language": "python",
   "name": "python3"
  },
  "language_info": {
   "codemirror_mode": {
    "name": "ipython",
    "version": 3
   },
   "file_extension": ".py",
   "mimetype": "text/x-python",
   "name": "python",
   "nbconvert_exporter": "python",
   "pygments_lexer": "ipython3",
   "version": "3.8.12"
  }
 },
 "nbformat": 4,
 "nbformat_minor": 4
}
