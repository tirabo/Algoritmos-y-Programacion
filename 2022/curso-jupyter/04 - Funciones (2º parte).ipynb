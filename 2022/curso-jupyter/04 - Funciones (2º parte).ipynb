{
 "cells": [
  {
   "cell_type": "markdown",
   "metadata": {},
   "source": [
    "# Funciones (2° parte)"
   ]
  },
  {
   "cell_type": "markdown",
   "metadata": {
    "id": "v-ZlYiBFGv6t"
   },
   "source": [
    "## 7. Flujo de ejecución\n",
    "\n",
    "Para asegurarse de que una función esté definida antes de su primer uso, debe conocer las instrucciones de orden en que se ejecutan, lo que se denomina flujo de ejecución.\n",
    "\n",
    "La ejecución siempre comienza en la primera declaración del programa. Las declaraciones se ejecutan de una en una, en orden de arriba hacia abajo.\n",
    "\n",
    "Las definiciones de funciones no alteran el flujo de ejecución del programa, pero hay que recordar que las declaraciones dentro de la función no se ejecutan hasta que se llama a la función.\n",
    "\n",
    "Una llamada a una función es como un desvío en el flujo de ejecución. En lugar de ir a la siguiente declaración, el flujo salta al cuerpo de la función, ejecuta las declaraciones allí y luego regresa para continuar donde lo dejó.\n",
    "\n",
    "Eso suena bastante simple, hasta que recuerda que una función puede llamar a otra. Mientras esté en medio de una función, el programa podría tener que ejecutar las instrucciones en otra función. Luego, mientras se ejecuta esa nueva función, ¡es posible que el programa tenga que ejecutar otra función más!\n",
    "\n",
    "Afortunadamente, Python es bueno para realizar un seguimiento de dónde se encuentra, por lo que cada vez que se completa una función, el programa retoma donde lo dejó en la función que la llamó. Cuando llega al final del programa, termina.\n",
    "\n",
    "En resumen, cuando lees un programa, no siempre hay leer de arriba a abajo. En  general tiene más sentido seguir el flujo de ejecución."
   ]
  },
  {
   "cell_type": "markdown",
   "metadata": {
    "id": "0beOSufSKYZZ"
   },
   "source": [
    "## 8. Parámetros y argumentos\n",
    "\n",
    "Algunas de las funciones que hemos visto requieren argumentos. Por ejemplo, cuando llamas a `math.sin` pasás un número como argumento. Algunas funciones toman más de un argumento: `math.pow` toma dos, la base y el exponente.\n",
    "\n",
    "Dentro de la función, los argumentos se asignan a variables llamadas *parametros*. Aquí hay una definición de una función que toma un argumento:\n",
    "\n"
   ]
  },
  {
   "cell_type": "code",
   "execution_count": null,
   "metadata": {
    "executionInfo": {
     "elapsed": 297,
     "status": "ok",
     "timestamp": 1629981557015,
     "user": {
      "displayName": "Alejandro Leopoldo Tiraboschi",
      "photoUrl": "https://lh3.googleusercontent.com/a-/AOh14Gir321Aip7u2JtD7LMLQbY3a1oHsAD11CVed_UbeFc=s64",
      "userId": "02370857492204546552"
     },
     "user_tz": 180
    },
    "id": "zGHGBqoaEXsR"
   },
   "outputs": [],
   "source": [
    "# Ejecutar esta función\n",
    "def imprimir_4_veces(nombre):\n",
    "    print(nombre)\n",
    "    print(nombre)\n",
    "    print(nombre)\n",
    "    print(nombre)"
   ]
  },
  {
   "cell_type": "markdown",
   "metadata": {
    "id": "t-edvW6PEZJt"
   },
   "source": [
    "Esta función asigna el argumento a un parámetro llamado `nombre`. Cuando se llama a la función, imprime el valor del parámetro (cualquiera que sea) cuatro veces.\n",
    "\n",
    "La función trabaja con cualquier valor que se pueda imprimir. Por ejemplo:\n"
   ]
  },
  {
   "cell_type": "code",
   "execution_count": null,
   "metadata": {
    "id": "yDRU3O-LE6hm"
   },
   "outputs": [],
   "source": [
    "imprimir_4_veces('Spam')\n",
    "imprimir_4_veces(42)\n",
    "imprimir_4_veces(math.pi)"
   ]
  },
  {
   "cell_type": "markdown",
   "metadata": {
    "id": "uoBR2j1aE6q8"
   },
   "source": [
    "Las mismas reglas de composición que se aplican a las funciones predeefinidas también se aplican a las funciones definidas por el programador, por lo que podemos usar cualquier tipo de expresión como argumento para `imprimir_4_veces`:"
   ]
  },
  {
   "cell_type": "code",
   "execution_count": null,
   "metadata": {
    "id": "1AXhVHICFiXc"
   },
   "outputs": [],
   "source": [
    "imprimir_4_veces('Spam' * 2)\n",
    "imprimir_4_veces(42 + 3)\n",
    "imprimir_4_veces(math.cos(math.pi))"
   ]
  },
  {
   "cell_type": "markdown",
   "metadata": {
    "id": "bSJ89aB7Fifw"
   },
   "source": [
    "El argumento se evalúa antes de llamar a la función, por lo que en los ejemplos las expresiones `'Spam' * 2`, `42 + 3`y `math.cos(math.pi)` solo se evalúan una vez.\n",
    "\n",
    "También se puede utilizar una variable como argumento:"
   ]
  },
  {
   "cell_type": "code",
   "execution_count": null,
   "metadata": {
    "colab": {
     "base_uri": "https://localhost:8080/"
    },
    "executionInfo": {
     "elapsed": 289,
     "status": "ok",
     "timestamp": 1629981561534,
     "user": {
      "displayName": "Alejandro Leopoldo Tiraboschi",
      "photoUrl": "https://lh3.googleusercontent.com/a-/AOh14Gir321Aip7u2JtD7LMLQbY3a1oHsAD11CVed_UbeFc=s64",
      "userId": "02370857492204546552"
     },
     "user_tz": 180
    },
    "id": "SjhC0idLGHZj",
    "outputId": "357bf4da-a977-4075-b8da-4b2a4973db9c"
   },
   "outputs": [],
   "source": [
    "miguel = 'el hombre que escaló la montaña'\n",
    "imprimir_4_veces(miguel)"
   ]
  },
  {
   "cell_type": "markdown",
   "metadata": {
    "id": "49KjtSFjGHia"
   },
   "source": [
    "El nombre de la variable que pasamos como argumento (`miguel`) no tiene nada que ver con el nombre del parámetro (`nombre`). No importa cuál sea el nombre del argumento que se utilizó en la definición; cuando aplicamos la función `imprimir_4_veces`  al parámetro `miguel` toda ocurrencia de `nombre` es cambiada por `miguel`.\n",
    "\n",
    "Para ejecuciones repetidas  de una misma instrucción o similares, podemos hacer un código más corto y mas legible utilizando la instrucción `for`: \n"
   ]
  },
  {
   "cell_type": "code",
   "execution_count": null,
   "metadata": {
    "executionInfo": {
     "elapsed": 288,
     "status": "ok",
     "timestamp": 1629981793085,
     "user": {
      "displayName": "Alejandro Leopoldo Tiraboschi",
      "photoUrl": "https://lh3.googleusercontent.com/a-/AOh14Gir321Aip7u2JtD7LMLQbY3a1oHsAD11CVed_UbeFc=s64",
      "userId": "02370857492204546552"
     },
     "user_tz": 180
    },
    "id": "D_7nIegodZWv"
   },
   "outputs": [],
   "source": [
    "def imprimir_4_veces_v2(nombre):\n",
    "    for _ in range(4):\n",
    "        print(nombre)"
   ]
  },
  {
   "cell_type": "markdown",
   "metadata": {
    "id": "t3glu1jvdcp2"
   },
   "source": [
    "Si ejecutamos\n"
   ]
  },
  {
   "cell_type": "code",
   "execution_count": null,
   "metadata": {
    "id": "FbfCzSoufQzy"
   },
   "outputs": [],
   "source": [
    "imprimir_4_veces_v2('¡Hola!')"
   ]
  },
  {
   "cell_type": "markdown",
   "metadata": {
    "id": "HEra2xHufQ9k"
   },
   "source": [
    "debería ver algo como esto:\n",
    "```\n",
    "¡Hola!\n",
    "¡Hola!\n",
    "¡Hola!\n",
    "¡Hola!\n",
    "```\n",
    "\n",
    "Este es el uso más simple de la instrucción `for` que veremos con más profundidad después. Pero esto que explicamos es suficiente para permitirnos escribir un programa que generaliza la función anterior a un número determinado de repeticiones. Es decir,  podemos definir la función\n",
    "```\n",
    "imprimir_veces(n, nombre)\n",
    "```\n",
    "que imprime `n` veces la cadena nombre:"
   ]
  },
  {
   "cell_type": "code",
   "execution_count": null,
   "metadata": {
    "id": "pmat_DvFgNL1"
   },
   "outputs": [],
   "source": [
    "def imprimir_veces(n, nombre):\n",
    "    for _ in range(n):\n",
    "        print(nombre)\n",
    "\n",
    "imprimir_veces(5, '¡Adios!')"
   ]
  },
  {
   "cell_type": "markdown",
   "metadata": {
    "id": "Oi2GEKETgNWP"
   },
   "source": [
    "La sintaxis de una instrucción `for` es similar a la definición de una función. Tiene un encabezado que termina con dos puntos y un cuerpo justificado, generalmente a 4 espacios del `for`. El cuerpo puede contener cualquier número de declaraciones.\n",
    "\n",
    "Una instrucción `for` también se llama un *ciclo* porque el flujo de ejecución corre a través del cuerpo y luego regresa a la parte superior. En el caso de `imprimir_4_veces_v2` recorre el cuerpo cuatro veces. En  el caso de `imprimir_veces(n, nombre)` recorre el cuerpo la cantidad de veces que especifiquemos que vale `n`.\n"
   ]
  },
  {
   "cell_type": "markdown",
   "metadata": {
    "id": "sdnHXZBbic0b"
   },
   "source": [
    "## 9. Las variables y los parámetros son locales\n",
    "\n",
    "Cuando crea una variable dentro de una función, es *local*, lo que significa que solo existe dentro de la función. Por ejemplo:"
   ]
  },
  {
   "cell_type": "code",
   "execution_count": 15,
   "metadata": {
    "id": "K9f05EIoiXWJ"
   },
   "outputs": [],
   "source": [
    "def imprimir_dos_veces(nombre):\n",
    "    print(nombre)\n",
    "    print(nombre)\n",
    "\n",
    "def cat_dos_veces (parte_1, parte_2):\n",
    "    cat = parte_1 + parte_2\n",
    "    imprimir_dos_veces(cat)"
   ]
  },
  {
   "cell_type": "markdown",
   "metadata": {
    "id": "rSJZCmETjbHq"
   },
   "source": [
    "Esta función toma dos argumentos, los concatena e imprime el resultado dos veces. Aquí hay un ejemplo que lo usa:"
   ]
  },
  {
   "cell_type": "code",
   "execution_count": 16,
   "metadata": {
    "id": "mi3cLm5WjbQK"
   },
   "outputs": [
    {
     "name": "stdout",
     "output_type": "stream",
     "text": [
      "Buenas tardes, mucho gusto.\n",
      "Buenas tardes, mucho gusto.\n"
     ]
    }
   ],
   "source": [
    "linea_1 = 'Buenas tardes, '\n",
    "linea_2 = 'mucho gusto.'\n",
    "cat_dos_veces(linea_1, linea_2)"
   ]
  },
  {
   "cell_type": "markdown",
   "metadata": {
    "id": "xUpVqxT_jbYB"
   },
   "source": [
    "Cuando termina `cat_dos_veces`, la variable `cat` se destruye. Si intentamos imprimirla, obtenemos una excepción:"
   ]
  },
  {
   "cell_type": "code",
   "execution_count": 17,
   "metadata": {
    "id": "Wifkz2d8jbgx"
   },
   "outputs": [],
   "source": [
    "# print(cat) # descomentar la línea produce un error"
   ]
  },
  {
   "cell_type": "markdown",
   "metadata": {
    "id": "nYvCbDrbjbqd"
   },
   "source": [
    "Los parámetros también son locales. Por ejemplo, fuera de `imprimir_dos_veces`, no existe `nombre`."
   ]
  },
  {
   "cell_type": "markdown",
   "metadata": {
    "id": "NfgTPiFJjb8W"
   },
   "source": [
    "## 10. Funciones que devuelven valor y funciones nulas\n",
    "\n",
    "Algunas de las funciones que hemos utilizado, como las funciones matemáticas, devuelven resultados; a falta de un nombre mejor, las llamamos *funciones que devuelven valor*. Otras funciones, como `imprimir_dos_veces`, realizan una acción pero no devuelven un valor. Se llaman *funciones vacías*.\n",
    "\n",
    "A veces,  a las funciones que devuelven valor se las llam simplemente *funciones* y  a las funciones nulas se las llama *procedimientos*. \n",
    "\n",
    "Cuando se llama a una función que devuelve valor, casi siempre se quiere hacer algo con el resultado; por ejemplo, se puede asignar a una variable o usarse como parte de una expresión. Por ejemplo,  si corremos la siguiente celda de código\n"
   ]
  },
  {
   "cell_type": "code",
   "execution_count": 18,
   "metadata": {
    "id": "pIaR_659jcFR"
   },
   "outputs": [
    {
     "data": {
      "text/plain": [
       "1.618033988749895"
      ]
     },
     "execution_count": 18,
     "metadata": {},
     "output_type": "execute_result"
    }
   ],
   "source": [
    "import math\n",
    "(math.sqrt(5) + 1) / 2"
   ]
  },
  {
   "cell_type": "markdown",
   "metadata": {
    "id": "WjHqZivIjcPR"
   },
   "source": [
    "La función `math.sqrt()` aplicada a `5` nos devuelve un valor y si ejecutamos la celda de código anterior imprimimos su valor sumado `1` y dividido por `2`. Pero  ese valor se pierde, no puede ser reutilizado y por lo tanto la instrucción no es muy útil. Pero  si escribimos y ejecutamos:"
   ]
  },
  {
   "cell_type": "code",
   "execution_count": 19,
   "metadata": {
    "id": "BpsWnvjmjcZQ"
   },
   "outputs": [],
   "source": [
    "num_aureo = (math.sqrt(5) + 1) / 2"
   ]
  },
  {
   "cell_type": "markdown",
   "metadata": {
    "id": "jtpKXNic2Fmi"
   },
   "source": [
    "entonces `num_aureo` puede ser reutilizado. Por ejemplo, podemos comprobar  que si $\\rho$ es el número aureo,  entonces $$\\rho^2 - \\frac{1}{\\rho} - 2 = 0$$ "
   ]
  },
  {
   "cell_type": "code",
   "execution_count": 20,
   "metadata": {
    "id": "APeM7lds2Fw7"
   },
   "outputs": [
    {
     "data": {
      "text/plain": [
       "0.0"
      ]
     },
     "execution_count": 20,
     "metadata": {},
     "output_type": "execute_result"
    }
   ],
   "source": [
    "num_aureo**2 - (1 / num_aureo) - 2"
   ]
  },
  {
   "cell_type": "markdown",
   "metadata": {
    "id": "YTmKThM02F57"
   },
   "source": [
    "Las funciones nulas pueden mostrar algo en la pantalla o tener algún otro efecto, pero no tienen un valor de retorno. Si se asigna el resultado a una variable, obtiene un valor especial llamado `None`.\n"
   ]
  },
  {
   "cell_type": "code",
   "execution_count": 21,
   "metadata": {
    "id": "m4-FBXDq2GCG"
   },
   "outputs": [
    {
     "name": "stdout",
     "output_type": "stream",
     "text": [
      "Bing\n",
      "Bing\n",
      "None\n"
     ]
    }
   ],
   "source": [
    "resultado = imprimir_dos_veces('Bing')\n",
    "print(resultado)"
   ]
  },
  {
   "cell_type": "markdown",
   "metadata": {
    "id": "qYvZS8Fb2GL3"
   },
   "source": [
    "El valor `None` no es el mismo que la cadena `'None'`. Es un valor especial que tiene su propio tipo:\n"
   ]
  },
  {
   "cell_type": "code",
   "execution_count": 22,
   "metadata": {
    "executionInfo": {
     "elapsed": 4,
     "status": "ok",
     "timestamp": 1629987897704,
     "user": {
      "displayName": "Alejandro Leopoldo Tiraboschi",
      "photoUrl": "https://lh3.googleusercontent.com/a-/AOh14Gir321Aip7u2JtD7LMLQbY3a1oHsAD11CVed_UbeFc=s64",
      "userId": "02370857492204546552"
     },
     "user_tz": 180
    },
    "id": "s3YLlg-t2GT-"
   },
   "outputs": [
    {
     "data": {
      "text/plain": [
       "NoneType"
      ]
     },
     "execution_count": 22,
     "metadata": {},
     "output_type": "execute_result"
    }
   ],
   "source": [
    "type(None) # ejecutar esta celda"
   ]
  },
  {
   "cell_type": "markdown",
   "metadata": {
    "id": "sAUVYNTT2GcI"
   },
   "source": [
    "Las funciones que hemos escrito hasta ahora son todas nulas. Comenzaremos a escribir funciones que devuelven valor en la próxima sección."
   ]
  },
  {
   "cell_type": "markdown",
   "metadata": {
    "id": "xs4M1ZMf2dxH"
   },
   "source": [
    "## 11. Funciones que devuelven valor\n",
    "Muchas de las funciones de Python que hemos utilizado, como las funciones matemáticas, producen valores de retorno. Pero las funciones que hemos definido son todas nulas: tienen un efecto, como imprimir un valor, pero no tienen un valor de retorno. En esta sección vermos como escribir funciones que devuelven valor.\n",
    "\n",
    "Llamar a una función que devuelve un valor,  generalmente  asigna este valor a una variable o usamos el valor como parte de una expresión. Por ejemplo: \n",
    "```\n",
    "e = math.exp(1.0)\n",
    "altura = radio * math.sin(radianes)\n",
    "```\n",
    "\n",
    "Veamos ahora un ejemplo de una función que devuelve valor definida por nosotros. La función será  `area()`, que devuelve el área de un círculo con el radio dado:\n",
    "\n"
   ]
  },
  {
   "cell_type": "code",
   "execution_count": 23,
   "metadata": {
    "id": "6Blq-wVZ2Gje"
   },
   "outputs": [],
   "source": [
    "def area(radio):\n",
    "    a = math.pi * radio ** 2 \n",
    "    return a"
   ]
  },
  {
   "cell_type": "markdown",
   "metadata": {
    "id": "TWLvc0ok2Gsc"
   },
   "source": [
    "La expresión `return` significa: \"termine inmediatamente esta función y use la siguiente expresión como valor de retorno\". La expresión a continuación del `return` puede ser arbitrariamente complicada, por lo que podríamos haber escrito esta función de manera más concisa:\n"
   ]
  },
  {
   "cell_type": "code",
   "execution_count": 24,
   "metadata": {
    "id": "jf3ZgOK22G1k"
   },
   "outputs": [],
   "source": [
    "def area(radio):\n",
    "    return math.pi * radio ** 2"
   ]
  },
  {
   "cell_type": "markdown",
   "metadata": {
    "id": "WygmyMQB2G94"
   },
   "source": [
    "Sin embargo, las variables temporales, como `a` en el ejemplo, pueden facilitar la comprensión de la definición de la función y también puede facilitar la depuración.\n",
    "\n",
    "Tan pronto como se ejecuta una instrucción de retorno o devolución,  es decir  `return`, la función termina sin ejecutar ninguna instrucción posterior. El código que aparece después o a posteriori de una instrucción `return` se llama *código muerto*. Por ejemplo, si ejecutamos\n"
   ]
  },
  {
   "cell_type": "code",
   "execution_count": 25,
   "metadata": {
    "id": "h-Id9Rfk2HGk"
   },
   "outputs": [],
   "source": [
    "def area(radio):\n",
    "    a = math.pi * radio ** 2 \n",
    "    return a\n",
    "    b = 2 # código  muerto\n",
    "    return b # código muerto"
   ]
  },
  {
   "cell_type": "markdown",
   "metadata": {
    "id": "J2Lx9TFD2HPA"
   },
   "source": [
    "entonces `area(1)` nos devuelve un valor aproximado de $\\pi$."
   ]
  },
  {
   "cell_type": "markdown",
   "metadata": {},
   "source": [
    "## 12. Ejemplo: conversión de formatos de grados (revisado)\n",
    "\n",
    "Hemos visto en la clase anterior la conversión de grados sexagesimales a grados decimasles y viceversa. En  realidad la primera función recibe un ángulo en grados sexagesimales e imprime su valor en notación decimal. La segunda función recibe grados en notación decimal e imprime su equivalente en grados sexagesimales. \n",
    "\n",
    "Estas dos funciones, aunque responden \"visualmente\" (solo imprimen) a nuestras expectativas de conversión, no son muy útiles pues no es pósible reutilizar los resultados para futuros usos. En  general, una función en un programa es una pequeña parte de una larga secuencia de instrucciones y funciones que se conectan y donde los resultados de una parte del programa se reutilizan en otra parte del programa. Es por eso que en general no tiene utilidad imprimir los valores que se obtienen de una función. Lo  que se debe hacer es devolver los valores con un `return`.\n",
    "\n",
    "Modifiquemos las dos funciones cambiando el `print` por  un `return`."
   ]
  },
  {
   "cell_type": "code",
   "execution_count": 2,
   "metadata": {},
   "outputs": [],
   "source": [
    "def sexa2deci(grados: int , minutos: int , segundos: float) -> float:\n",
    "    # pre: 0 <= grados, 0 <= minutos < 60, 0 <= segundos < 60\n",
    "    # post: devuelve el ángulo en grados sexagesimales en notación decimal\n",
    "    return grados + minutos / 60 + segundos / 3600"
   ]
  },
  {
   "cell_type": "markdown",
   "metadata": {},
   "source": [
    "Análogamente hacemos la conversión de grados decimales a sexagesimales:"
   ]
  },
  {
   "cell_type": "code",
   "execution_count": 1,
   "metadata": {},
   "outputs": [],
   "source": [
    "import math \n",
    "\n",
    "def deci2sexa(pos: float) -> tuple:\n",
    "    # pre: pos son grados en notación decimal, pos >= 0\n",
    "    # post:  devuelve pos en una 3-upla grados, minutos, segundos\n",
    "    grados = math.floor(pos)\n",
    "    resto = pos - grados\n",
    "    minutos = math.floor(resto * 60)\n",
    "    resto = resto * 60 - minutos\n",
    "    segundos = 60 * resto\n",
    "    return (grados, minutos, segundos)\n",
    "\n"
   ]
  },
  {
   "cell_type": "markdown",
   "metadata": {},
   "source": [
    "Esta última función devuelve una 3-upla con (grados, minutos, segundos) sexagesimales. Veremos el tipo tupla de Python en las próximas clases. \n",
    "\n",
    "El  tener funciones  que devuelven valor nos da una herramienta poderosa para contruir programas complejos. \n",
    "\n",
    "Veamos un ejemplo, no muy complejo,  del uso de estas funciones: recordemos que sumar grados sexagesimales,  aunque es algoritmico,  no se basa en un algoritmo muy sencillo. Un  forma sencilla de sumar dos ángulos en grados sexagesimales es  hacer la conversión a decimal, sumar y  el resultado convertirlo a sexagesimal. \n",
    "\n",
    "Sumemos 33° 23' 52'' y 77° 45' 12'':"
   ]
  },
  {
   "cell_type": "code",
   "execution_count": 4,
   "metadata": {},
   "outputs": [
    {
     "name": "stdout",
     "output_type": "stream",
     "text": [
      "(111, 9, 3.9999999999827196)\n"
     ]
    }
   ],
   "source": [
    "ang1 = sexa2deci(33, 23, 52)\n",
    "ang2 = sexa2deci(77, 45, 12)\n",
    "ang = ang1 + ang2 # se suman grados decimales\n",
    "suma_sexa = deci2sexa(ang)\n",
    "print(suma_sexa)"
   ]
  }
 ],
 "metadata": {
  "colab": {
   "authorship_tag": "ABX9TyNUj8Bp3lSqiWVZm5SK8uIi",
   "collapsed_sections": [],
   "name": "04 - Funciones (2º parte).ipynb",
   "provenance": []
  },
  "kernelspec": {
   "display_name": "Python 3 (ipykernel)",
   "language": "python",
   "name": "python3"
  },
  "language_info": {
   "codemirror_mode": {
    "name": "ipython",
    "version": 3
   },
   "file_extension": ".py",
   "mimetype": "text/x-python",
   "name": "python",
   "nbconvert_exporter": "python",
   "pygments_lexer": "ipython3",
   "version": "3.9.6"
  }
 },
 "nbformat": 4,
 "nbformat_minor": 4
}
