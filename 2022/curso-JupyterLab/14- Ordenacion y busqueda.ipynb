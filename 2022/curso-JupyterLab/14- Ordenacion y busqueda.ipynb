{
  "cells": [
    {
      "cell_type": "markdown",
      "metadata": {},
      "source": [
        "# Ordenación y búsqueda"
      ]
    },
    {
      "cell_type": "markdown",
      "metadata": {},
      "source": [
        "## 1. Búsqueda binaria\n",
        "\n",
        "La búsqueda binaria es un algoritmo que encuentra la posición de un elemento en una lista ordenada. Las búsquedas binarias dividen repetidamente una lista en dos mitades. Entonces, una búsqueda compara si un valor es mayor o menor que el valor medio de la lista. \n",
        "\n",
        "Hay dos maneras de realizar una búsqueda binaria.\n",
        "\n",
        "El primer enfoque que se puede utilizar es el método iterativo. En este enfoque, se repite un conjunto de sentencias para determinar la posición de un elemento en una lista. Utilizamos un bucle `while` para implementar este algoritmo.\n",
        "\n",
        "El otro enfoque es el método recursivo. Aquí se escribe una función que se llama a sí misma una y otra vez hasta que se encuentra un elemento en una lista."
      ]
    },
    {
      "cell_type": "markdown",
      "metadata": {},
      "source": [
        "### Búqueda binaria iterativa\n",
        "\n",
        "En la búsqueda binaria iterativa la idea es separar la lista en dos mitades y quedarse con la mitad que contiene el elemento. Esto es muy fácil de hacer pues al estar la lista ordenada, comparando el elemento que se quiere encontrar con el elemento de la mitad de la lista se determina  en que lado de la lista debemos continuar buscando. Iternado este proceso con la sublista que hemos elegido y así sucesivamente, obtenemos la posición del elemento buscado. \n",
        "\n",
        "Para implementar este algoritmo es conveniente siempre mantener la lista original e ir marcando en ella los límites de la sublista en la cual continuamos buscando. "
      ]
    },
    {
      "cell_type": "code",
      "execution_count": null,
      "metadata": {},
      "outputs": [],
      "source": [
        "from random import randint\n",
        "lista = [randint(1,10**4) for i in range(10**3)] # una lista de 1000 números aleatorios\n",
        "lista.sort() # ordenamos la lista\n",
        "print(lista[:100])"
      ]
    },
    {
      "cell_type": "code",
      "execution_count": null,
      "metadata": {},
      "outputs": [],
      "source": [
        "def busqueda_b_iter(lista: list, num : int) -> int:\n",
        "    # pre: lista es una lista de enteros, num  es un entero\n",
        "    # post: devuelve la posicion de num en la lista, si no esta devuelve -1\n",
        "    res = -1 \n",
        "    comienzo, final = 0, len(lista) - 1\n",
        "\n",
        "    while comienzo <= final:\n",
        "        medio = (comienzo + final) // 2\n",
        "        if lista[medio] == num:\n",
        "            res =  medio\n",
        "        elif lista[medio] < num:\n",
        "            comienzo = medio + 1\n",
        "        else:\n",
        "            final = medio - 1\n",
        "    return res"
      ]
    },
    {
      "cell_type": "code",
      "execution_count": null,
      "metadata": {},
      "outputs": [],
      "source": [
        "busqueda_b_iter(lista, lista[335])"
      ]
    },
    {
      "cell_type": "markdown",
      "metadata": {},
      "source": [
        "La forma más clara de ver como  funciona este algoritmo es con Python Tutor. "
      ]
    },
    {
      "cell_type": "markdown",
      "metadata": {},
      "source": [
        "### Búsqueda binaria recursiva\n",
        "\n",
        "También podemos utilizar la recursión para realizar una búsqueda binaria."
      ]
    },
    {
      "cell_type": "code",
      "execution_count": 11,
      "metadata": {},
      "outputs": [],
      "source": [
        "def busqueda_b_recur(lista: list, num : int, comienzo, final: int) -> int:\n",
        "    # pre: lista es una lista de enteros, num, comienzo, final  son enteros\n",
        "    # post: devuelve la posicion de num en la lista entre las posiciones comienzo y final, si no esta allí devuelve -1\n",
        "    res = -1\n",
        "    if final >= comienzo:\n",
        "        medio = (comienzo + final) // 2\n",
        "        if lista[medio] == num:\n",
        "            res = medio\n",
        "        elif lista[medio] < num:\n",
        "            res = busqueda_b_recur(lista, num, medio + 1, final)\n",
        "        else:\n",
        "            res = busqueda_b_recur(lista, num, comienzo, medio - 1)\n",
        "    else:\n",
        "        res = -1\n",
        "    return res"
      ]
    },
    {
      "cell_type": "code",
      "execution_count": 13,
      "metadata": {},
      "outputs": [
        {
          "data": {
            "text/plain": [
              "335"
            ]
          },
          "execution_count": 13,
          "metadata": {},
          "output_type": "execute_result"
        }
      ],
      "source": [
        "busqueda_b_recur(lista, lista[335], 0, len(lista) - 1)"
      ]
    },
    {
      "cell_type": "markdown",
      "metadata": {
        "id": "AFxsS5EM223a"
      },
      "source": [
        "## 1. Ordenamiento por selección (selection sort)\n",
        "\n",
        "Siempre tratamos de ordenar una lista de elementos comparables (`int` o `str`, por ejemplo) \n",
        "\n",
        "**Ordenamiento por selección.** En  este caso se tiene la primera parte de una lista (de `0` a `i-1`) y `lista[:i]` está ordenada.  Además todos los elementos de `lista[:i]` son `<=` que los del resto de la lista (`lista[i:]`). Se elige el mínimo del resto, es decir de `lista[i:]`, y se permuta por el primer elemento de esa sublista. Luego  la primera parte se agranda  a `lista[:i+1]`.   \n",
        "\n"
      ]
    },
    {
      "cell_type": "markdown",
      "metadata": {},
      "source": [
        "## 2. Ordenamiento por inserción (insertion sort)\n",
        "\n",
        "**Una idea sencilla para ordenar.** Supongamos que tenemos una fila con  `n` personas y las queremos acomodar por orden alfabético ascendente. \n",
        "- Entonces, a la primera persona y le damos el primer lugar (posición `0`). \n",
        "- Miramos la segunda persona comparamos su  apellido con la de posición `0` y la acomodamos donde corresponde. Así quedan asignados 2 lugares, por ejemplo: `Benitez`, `Pérez`. \n",
        "- Cuando miramos la tercera persona comparamos su  apellido con las que ya están y según esa comparación la acomodamos,  si  la persona es `Álvarez` la insertamos en el primer lugar, si es `González` la insertamos en el segundo lugar y si es `Sánchez`  en el tercer lugar.\n",
        "- Hacemos algo análogo con todas las personas siguientes. \n",
        "\n",
        "**Ordenamiento por inserción.** En  este caso se tiene la primera parte de una lista (de `0` a `i-1`) y `lista[:i]` está ordenada.  Se toma el elemento `lista[i]` y se lo inserta en el lugar correspondiente. Más concretamente,\n",
        "- Si `elemento = lista[i]`, nos fijamos recorriendo  la sublista `lista[:i]` en forma descendente cual es el primer índice `k` donde \n",
        "`lista[k] <= elemento`.\n",
        "- Insertamos `elemento` en el lugar `k+1`. \n",
        "- Hacemos algo análogo para todos los índices.\n",
        "\n",
        "Ahora bien, hay dos formas de insertar el elemento, digamos `elemento`, en el lugar correspondiente:\n",
        "1. Vamos \"swapeando\" `elemento` con los elementos que son mayores (en orden descendente) hasta que llegamos a un elemento que es menor o igual a `elemento` y ahí nos detenemos (ver `insertion_sort_v1()`). \n",
        "2. Vamos \"corriendo\" los elementos más grandes que `elemento`, poniéndolos un lugar más arriba de donde están. El proceso se detiene cuando llegamos a un elemento menor o igual a `elemento`.  Luego ubicamos `elemento` en la posición que quedo \"libre\" (pues el elemento que estaba ahí fue corrido).   Esta última implementación es la preferida,  debido a que usa menos asignaciones  (ver `insertion_sort()`) "
      ]
    },
    {
      "cell_type": "code",
      "execution_count": null,
      "metadata": {
        "colab": {
          "base_uri": "https://localhost:8080/"
        },
        "id": "xz70MwqnBg2P",
        "outputId": "550cc797-abea-4e00-81c7-46ee1f909488"
      },
      "outputs": [],
      "source": [
        "from random import randint\n",
        "\n",
        "lista_1 = [randint(1,20) for i in range(50)]\n",
        "print(lista_1)\n",
        "\n",
        "lista_2 = [randint(1,200) for i in range(20)]\n",
        "print(lista_2)\n"
      ]
    },
    {
      "cell_type": "code",
      "execution_count": null,
      "metadata": {
        "colab": {
          "base_uri": "https://localhost:8080/"
        },
        "id": "8_BoSRQh7V9V",
        "outputId": "49643051-693b-4162-83c8-d0decff93f54"
      },
      "outputs": [],
      "source": [
        "def insertion_sort_v1(lista: list):\n",
        "  # pre: lista es una list de elementos comparables (int o str, por ahora).\n",
        "  # post: devuelve una lista con los elementos de lista ordenados en forma creciente. \n",
        "  #       El ordenamiento se hace insertando en el orden correcto. \n",
        "  for i in range(len(lista)):\n",
        "    # inserta lista[i] en la sublista ordenada lista[:i] \n",
        "    elemento = lista[i]\n",
        "    k = i - 1 \n",
        "    while k >= 0 and lista[k] > elemento:\n",
        "      lista[k + 1], lista[k]   = lista[k],  elemento\n",
        "      k = k - 1\n",
        "      # Ahora  lista[k] <= elemento = lista[k+1] < lista[k+2]\n",
        "      # luego lista[:i+1] ordenada\n",
        "\n",
        "\n",
        "def insertion_sort(lista: list):\n",
        "  # pre: lista es una list de elementos comparables (int o str, por ahora).\n",
        "  # post: devuelve una lista con los elementos de lista ordenados en forma creciente. \n",
        "  #       El ordenamiento se hace insertando en el orden correcto. \n",
        "  for i in range(len(lista)):\n",
        "    # inserta lista[i] en la sublista ordenada lista[:i] \n",
        "    elemento = lista[i]\n",
        "    k = i - 1 \n",
        "    while k >= 0 and lista[k] > elemento:\n",
        "      lista[k + 1] = lista[k]\n",
        "      k = k - 1\n",
        "    # Ahora lista[k] <= elemento y lista[k+1] = lista[k+2] > elemento\n",
        "    # Inserto lista[i] en la posición k + 1\n",
        "    lista[k + 1] = elemento\n",
        "    # Ahora  lista[k] <= elemento = lista[k+1] < lista[k+2]\n",
        "    # luego lista[:i+1] ordenada\n",
        "\n",
        "insertion_sort_v1(lista_1)\n",
        "print(lista_1)\n",
        "insertion_sort_v1(lista_2)\n",
        "print(lista_2)"
      ]
    },
    {
      "cell_type": "markdown",
      "metadata": {
        "id": "RuPuSMiWYjnN"
      },
      "source": [
        "## 3. Ordenación rápida (quick sort)"
      ]
    },
    {
      "cell_type": "code",
      "execution_count": null,
      "metadata": {
        "colab": {
          "base_uri": "https://localhost:8080/"
        },
        "id": "plIprd9g-7o7",
        "outputId": "21921ca8-8587-4957-e866-6530ed11b728"
      },
      "outputs": [],
      "source": [
        "def intercalar(lista1, lista2 : list) -> list:\n",
        "    # pre: lista1 y lista2 ordenadas\n",
        "    res = []\n",
        "    i, j = 0, 0        # i para recorrer la lista1 y j para recorrer la lista2\n",
        "    while i < len(lista1) and j < len(lista2):\n",
        "        if lista1[i] <= lista2[j]:\n",
        "            res.append(lista1[i])\n",
        "            i = i + 1\n",
        "        else:\n",
        "            res.append(lista2[j])\n",
        "            j = j + 1\n",
        "    while i < len(lista1):\n",
        "        res.append(lista1[i])\n",
        "        i = i + 1\n",
        "    while j < len(lista2):\n",
        "        res.append(lista2[j])\n",
        "        j = j + 1\n",
        "    return res\n",
        "\n",
        "def ordenar(lista: list) -> list:\n",
        "    n = len(lista)\n",
        "    if n <= 1:\n",
        "        res = lista\n",
        "    else:\n",
        "        mitad1 = lista[:n // 2]\n",
        "        mitad2 = lista[n // 2:]\n",
        "        mitad1_ordenada = ordenar(mitad1)\n",
        "        mitad2_ordenada = ordenar(mitad2)\n",
        "        res = intercalar(mitad1_ordenada, mitad2_ordenada)\n",
        "    return res\n",
        "\n",
        "ordenar([6,9,2,8, 2, -1, 3, 7, 21, -21, 34])"
      ]
    },
    {
      "cell_type": "code",
      "execution_count": null,
      "metadata": {
        "colab": {
          "base_uri": "https://localhost:8080/"
        },
        "id": "BQrCXMJomvRs",
        "outputId": "b989fed5-4a56-4811-ac9e-a9943387e0d1"
      },
      "outputs": [],
      "source": [
        "def ordenar2(lista: list) -> list:\n",
        "    n = len(lista)\n",
        "    if n <= 1:\n",
        "        res = lista\n",
        "    else:\n",
        "        pivote = lista[0]\n",
        "        res = ordenar2([e for e in lista[1:] if e <= pivote]) + [pivote] + ordenar2([e for e in lista[1:] if e > pivote])\n",
        "    return res\n",
        "\n",
        "ordenar2([6,9,2,8, 2, -1, 3, 7, 21, -21, 34])"
      ]
    },
    {
      "cell_type": "code",
      "execution_count": null,
      "metadata": {
        "colab": {
          "base_uri": "https://localhost:8080/"
        },
        "id": "sRWuWJSXwGnA",
        "outputId": "c5348870-5c99-47ae-fdc5-633e02e407a3"
      },
      "outputs": [],
      "source": [
        "def ordenar2(lista: list) -> list:\n",
        "    n = len(lista)\n",
        "    if n <= 1:\n",
        "        res = lista\n",
        "    else:\n",
        "        pivote = lista[0]\n",
        "        tercio1 = [e for e in lista[:] if e < pivote]\n",
        "        tercio2 = [e for e in lista[:] if e == pivote]\n",
        "        tercio3 = [e for e in lista[:] if e > pivote]\n",
        "        res = ordenar2(tercio1) + [pivote] + ordenar2(tercio3)\n",
        "    return res\n",
        "\n",
        "ordenar2(palabras)"
      ]
    },
    {
      "cell_type": "code",
      "execution_count": null,
      "metadata": {
        "colab": {
          "base_uri": "https://localhost:8080/"
        },
        "id": "bcwthXEVw8Uf",
        "outputId": "55618bc5-a7ad-4c92-b53b-e67d0798c794"
      },
      "outputs": [],
      "source": [
        "def ssort(lista: list):\n",
        "    for i in range(len(lista)):\n",
        "        ix_min = i\n",
        "        for j in range(i+1,len(lista)):\n",
        "            if lista[j] < lista[ix_min]:\n",
        "                ix_min = j\n",
        "        swap(lista, i, ix_min)\n",
        "\n",
        "lista = [4, 2, 8, 5, 1, 7]\n",
        "ssort(lista)\n",
        "print(lista)"
      ]
    },
    {
      "cell_type": "code",
      "execution_count": null,
      "metadata": {
        "id": "mEiUHUa1x8F0"
      },
      "outputs": [],
      "source": [
        "ssort(palabras)\n",
        "print(palabras)"
      ]
    },
    {
      "cell_type": "markdown",
      "metadata": {
        "id": "5D2RyoMXCe6n"
      },
      "source": [
        "## 4. Ordenación rápida por concatenación de listas\n",
        "\n",
        "En  la proxima celda de código vamos a programar quick sort de tal forma que devuelve otra lista (no modifica la lista a ordenar). Para hacer esta definición es necesario comprender el concepto de *concatenación de listas*. \n",
        "\n",
        "Si  tenemos \n",
        "\n",
        "```\n",
        "lst_1 = [40, 11, 8, 17], lst_2 = [3, 10, 25]\n",
        "```\n",
        "la concatenacón de dos listas es hacer una lista con los elementos de la primera al comienzo y a continuación los elementos de la segunda.\n",
        "\n",
        "\n",
        "```\n",
        "lst_1 + lst_2 == [40, 11, 8, 17, 3, 10, 25]\n",
        "```\n",
        "\n",
        "Esto se generaliza fácilmente:\n",
        "```\n",
        "lst_1 = [a_0, a_1, ..., a_n], lst_2 = [b_0, b_1, ..., b_n]\n",
        "```\n",
        "entonces\n",
        "```\n",
        "lst_1 + lst_2 == [a_0, a_1, ..., a_n, b_0, b_1, ..., b_n]\n",
        "```\n",
        "\n",
        "\n",
        "\n",
        "\n",
        "\n"
      ]
    },
    {
      "cell_type": "markdown",
      "metadata": {
        "id": "HUe1183oSTYh"
      },
      "source": [
        "Una primera aproximación a quick sort (la versión que devuelve otra lista) es la siguiente:"
      ]
    },
    {
      "cell_type": "code",
      "execution_count": null,
      "metadata": {
        "colab": {
          "base_uri": "https://localhost:8080/"
        },
        "id": "avBf0o3CHWBf",
        "outputId": "a35a1548-de75-4c05-a2b0-c43e171a3b92"
      },
      "outputs": [],
      "source": [
        "def qsort(lista: list) -> list:\n",
        "  if lista == []:\n",
        "    lista_ord = []\n",
        "  else:\n",
        "    lst_1 = []\n",
        "    for x in lista[1:]:\n",
        "      if x <= lista[0]:\n",
        "        lst_1.append(x)\n",
        "    # lst_1 = todos los elemtos de lista <= lista[0]\n",
        "    lst_2 = []\n",
        "    for x in lista[1:]:\n",
        "      if x > lista[0]:\n",
        "        lst_2.append(x)\n",
        "    # lst_2 = todos los elementos de lista > lista[0]\n",
        "    lista_ord = qsort(lst_1) + lista[0:1] + qsort(lst_2)\n",
        "  return lista_ord\n",
        "\n",
        "# Observación. lista[0:1] = [lista[0]] o [] si la lista es vacía. \n",
        "\n",
        "lista_2 = [randint(1,10**8) for i in range(10**5)]\n",
        "# print(lista_2)\n",
        "print(qsort(lista_2)[5000:5020])\n"
      ]
    },
    {
      "cell_type": "markdown",
      "metadata": {
        "id": "IrHpo5wASkiG"
      },
      "source": [
        "Gracias a listas por comprensión de podemos obtener un código más compacto (y posiblemente más eficiente)"
      ]
    },
    {
      "cell_type": "code",
      "execution_count": null,
      "metadata": {
        "colab": {
          "base_uri": "https://localhost:8080/"
        },
        "id": "ZDukAQf0SkvN",
        "outputId": "b4ae8243-965b-4c2c-d28a-eb3f70c27a6a"
      },
      "outputs": [],
      "source": [
        "\n",
        "def qsort(lista: list) -> list:\n",
        "  if lista == []:\n",
        "    lista_ord = []\n",
        "  else:\n",
        "    lst_1 = [x for x in lista[1:] if x <= lista[0]] # lst_1 = todos los elemtos de lista <= lista[0]\n",
        "    lst_2 = [x for x in lista[1:] if x > lista[0]]  # lst_2 = todos los elemtos de lista > lista[0]\n",
        "    lista_ord = lista_ord = qsort(lst_1) + lista[0:1] + qsort(lst_2)\n",
        "  return lista_ord\n",
        "\n",
        "\n",
        "lista_2 = [randint(1,10**8) for i in range(10**5)]\n",
        "# print(lista_2)\n",
        "print(qsort(lista_2)[5000:5020])"
      ]
    },
    {
      "cell_type": "markdown",
      "metadata": {
        "id": "ltst2LwyTUT_"
      },
      "source": [
        "O mejor aún:"
      ]
    },
    {
      "cell_type": "code",
      "execution_count": null,
      "metadata": {
        "colab": {
          "base_uri": "https://localhost:8080/"
        },
        "id": "jOQNSAqgTWo8",
        "outputId": "9bad5306-e289-4e4a-e630-6993c68c598b"
      },
      "outputs": [],
      "source": [
        "def qsort(lista: list) -> list:\n",
        "    if lista == []:\n",
        "        lista_ord = []\n",
        "    else:\n",
        "        lista_ord = qsort([x for x in lista[1:] if x <= lista[0]]) + lista[0:1] + qsort([x for x in lista[1:] if x > lista[0]])\n",
        "    return lista_ord\n",
        "\n",
        "lista_2 = [randint(1,10**8) for i in range(10**5)]\n",
        "# print(lista_2)\n",
        "print(qsort(lista_2)[5000:5020])\n"
      ]
    },
    {
      "cell_type": "markdown",
      "metadata": {
        "id": "mC4a5a_FTnxE"
      },
      "source": [
        "Ahora definiremos los tres algoritmos de búsqueda (selección, inserción  y quick) y compararemos los tiempos de ejecución para ordenar listas (bastante) desordenadas,  es decir un caso genérico. "
      ]
    },
    {
      "cell_type": "code",
      "execution_count": null,
      "metadata": {
        "id": "9MFLfp7sJIK1"
      },
      "outputs": [],
      "source": [
        "def selection_sort(lista: list):\n",
        "    for i in range(len(lista)):\n",
        "        i_min = i\n",
        "        for j in range(i + 1, len(lista)):\n",
        "            if lista[j] < lista[i_min]:\n",
        "                i_min = j\n",
        "        lista[i], lista[i_min] = lista[i_min], lista[i]\n",
        "\n",
        "\n",
        "def insertion_sort(lista: list):\n",
        "  for i in range(len(lista)):\n",
        "    elemento = lista[i]\n",
        "    k = i - 1 \n",
        "    while k >= 0 and lista[k] > elemento:\n",
        "      lista[k + 1] = lista[k]\n",
        "      k = k - 1\n",
        "    lista[k + 1] = elemento\n",
        "\n",
        "\n",
        "def quick_sort(lista: list) -> list:\n",
        "  if lista == []:\n",
        "    lista_ord = []\n",
        "  else:\n",
        "    lista_ord = qsort([x for x in lista[1:] if x < lista[0]]) + lista[0:1] + qsort([x for x in lista[1:] if x >= lista[0]])\n",
        "  return lista_ord\n",
        "\n"
      ]
    },
    {
      "cell_type": "code",
      "execution_count": null,
      "metadata": {
        "id": "QPi4HfSRKlVJ"
      },
      "outputs": [],
      "source": [
        "# Hacemos listas aleatorias \n",
        "lista_1 = [randint(10**2,10**4) for i in range(10**4)]\n",
        "# print(lista_1)\n"
      ]
    },
    {
      "cell_type": "markdown",
      "metadata": {
        "id": "kgehY69NU0z0"
      },
      "source": [
        "Para medir el tiempo de ejecución de los algoritmos importamos la biblioteca `time` usamos la función `time.time()` que nos devuelve el tiempo en segundos transcurridos desde epoch con una precisión de millonésimas de segundo.   "
      ]
    },
    {
      "cell_type": "code",
      "execution_count": null,
      "metadata": {
        "colab": {
          "base_uri": "https://localhost:8080/"
        },
        "id": "Nol9Xu9yKnLJ",
        "outputId": "f76311ee-012c-4aeb-cc32-a18b8d123c1d"
      },
      "outputs": [],
      "source": [
        "# Medir tiempo algoritmos\n",
        "import time\n",
        "\n",
        "print('Ordenando una lista de ',len(lista_1),' enteros')\n",
        "x0 = time.time() # devuelve el tiempo en segundos desde epoch con una precision de millonésima de segundo\n",
        "lista = lista_1[:] # copiamos lista_1  a lista (así lista_1 no se modifica)\n",
        "selection_sort(lista)\n",
        "print('Selección:',time.time() - x0) # \n",
        "\n",
        "x0 = time.time() # devuelve el tiempo en segundos desde epoch con una precision de millonésima de segundo\n",
        "lista = lista_1[:]\n",
        "insertion_sort(lista)\n",
        "print('Inserción:', time.time() - x0) # \n",
        "\n",
        "x0 = time.time() # devuelve el tiempo en segundos desde epoch con una precision de millonésima de segundo\n",
        "lista = lista_1[:]\n",
        "quick_sort(lista)\n",
        "print('QS:',time.time() - x0) # \n"
      ]
    },
    {
      "cell_type": "markdown",
      "metadata": {
        "id": "v0rDIVVQWFqo"
      },
      "source": [
        "Variando el tamaño de la lista a ordenar se verá:\n",
        "1. selección e inserción tardan más o menos lo mismo,\n",
        "2. quick es mucho más rápido que selección e inserción. \n",
        "3. Aumentando el tamaño de la lista la diferencia entre quick y  selección e inserción es cada vez más pronunciada. \n",
        "4. Si la lista excede los 50.000 items selección e inserción tardarán varios años o no terminarán nunca. \n",
        "\n",
        "En  el caso de  quick sort es posible ordenar en tiempos razonables listas \"grandes\", por ejemplo,  de 1 millón de enteros."
      ]
    },
    {
      "cell_type": "code",
      "execution_count": null,
      "metadata": {
        "colab": {
          "base_uri": "https://localhost:8080/"
        },
        "id": "QPoHIsaTGBCs",
        "outputId": "690ccab3-4522-4a05-ebe1-4e695eaf4e79"
      },
      "outputs": [],
      "source": [
        "\n",
        "lista_2 = [randint(10**7, 10**8) for i in range(10**6)]\n",
        "x0 = time.time() # devuelve el tiempo en segundos desde epoch com una precision de millonésima de segundo\n",
        "lista = lista_2[:]\n",
        "quick_sort(lista)\n",
        "print('\\nOrdenando quick_sort una lista de ',len(lista_2),' enteros')\n",
        "print('quick_sort:',time.time() - x0) # \n",
        "#lista = lista_2[:]\n",
        "#qs2(lista)\n",
        "#print('\\nOrdenando qs2 una lista de ',len(lista_2),' enteros')\n",
        "#print('qs2:',time.time() - x0) # \n"
      ]
    },
    {
      "cell_type": "markdown",
      "metadata": {
        "id": "kl7cPNXxIA2K"
      },
      "source": [
        "## 5. Algortimos de ordenación en casos especiales\n",
        "\n",
        "¿Qué ocurre si queremos ordenar una lista ordenada?\n",
        "\n",
        "Probemos los algoritmos en la lista `[0,1,...,n]`\n",
        "\n",
        "\n"
      ]
    },
    {
      "cell_type": "code",
      "execution_count": null,
      "metadata": {
        "colab": {
          "base_uri": "https://localhost:8080/"
        },
        "id": "ydkuaawrZTaT",
        "outputId": "7883b838-9cb5-4a66-adbb-e9f923344763"
      },
      "outputs": [],
      "source": [
        "lista_1 = [i for i in range(10**4)]\n",
        "\n",
        "print('Ordenando una lista de ',len(lista_1),' enteros ordenados')\n",
        "x0 = time.time() \n",
        "lista = lista_1[:] # copiamos lista_1  a lista (así lista_1 no se modifica)\n",
        "selection_sort(lista)\n",
        "print('Selección:',time.time() - x0) # \n",
        "\n",
        "x0 = time.time() \n",
        "lista = lista_1[:]\n",
        "insertion_sort(lista)\n",
        "print('Inserción:', time.time() - x0) # \n",
        "\n",
        "x0 = time.time() # devuelve el tiempo en segundos desde epoch con una precision de millonésima de segundo\n",
        "lista = lista_1[:]\n",
        "# quick_sort(lista_1)\n",
        "# print('QS:',time.time() - x0) # \n"
      ]
    },
    {
      "cell_type": "markdown",
      "metadata": {
        "id": "5DHDau7KZ-su"
      },
      "source": [
        "Habrán observado en el ejemplo anterior que selección tardó un tiempo parecido al que hubiera tardado con un arreglo desordenado. En  cambio inserción tardó muy poco (¿por qué?).\n",
        "\n",
        "Finalmente, quick sort,  si lo descomentamos, nos da error, pues de la forma que está programado requiere niveles de profundidad en la recursión (tamaño de la pila) que no están permitidos  en Python. Con un arreglo ordenado,  ni siquiera quick sort puede terminar para 1000 elementos.\n",
        "\n",
        "Eligiendo aleatoriamente el pivot se puede solucionar este problema."
      ]
    },
    {
      "cell_type": "code",
      "execution_count": null,
      "metadata": {
        "id": "FaWPwnfDbiKB"
      },
      "outputs": [],
      "source": [
        "def qsort_v2(lista: list) -> list:\n",
        "  if lista == []:\n",
        "    lista_ord = []\n",
        "  else:\n",
        "    k = randint(0, len(lista) - 1)\n",
        "    lst_1 = [x for x in lista[:k] + lista[k+1:]  if x <= lista[k]] # lst_1 = todos los elemtos de lista <= lista[k]\n",
        "    lst_2 = [x for x in lista[:k] + lista[k+1:]  if x > lista[k]]  # lst_2 = todos los elemtos de lista > lista[k]\n",
        "    lista_ord = lista_ord = qsort_v2(lst_1) + lista[k:k+1] + qsort_v2(lst_2)\n",
        "  return lista_ord"
      ]
    },
    {
      "cell_type": "code",
      "execution_count": null,
      "metadata": {
        "colab": {
          "base_uri": "https://localhost:8080/"
        },
        "id": "_Ru_PTWYbJGd",
        "outputId": "584d7383-bcc4-4e68-866b-aa6cfd3c2e80"
      },
      "outputs": [],
      "source": [
        "lista_1 = [i for i in range(10**5)]\n",
        "x0 = time.time() \n",
        "qsort_v2(lista_1)\n",
        "print('QS de lista ordenada:',time.time() - x0) # \n",
        "\n",
        "lista_1 = [randint(0,10**6) for i in range(10**5)]\n",
        "x0 = time.time() \n",
        "qsort_v2(lista_1)\n",
        "print('QS de lista no ordenada:',time.time() - x0) # "
      ]
    },
    {
      "cell_type": "code",
      "execution_count": null,
      "metadata": {
        "id": "sjCN3u4d0f8n"
      },
      "outputs": [],
      "source": [
        "def partition(lista, start, end):\n",
        "    pivot = lista[start]\n",
        "    low = start + 1\n",
        "    final = end\n",
        "\n",
        "    while low <= final:\n",
        "        while low <= high and lista[high] >= pivot:\n",
        "            high = high - 1\n",
        "        while low <= high and lista[low] <= pivot:\n",
        "            low = low + 1\n",
        "        if low <= high:\n",
        "            lista[low], lista[high] = lista[high], lista[low]\n",
        "\n",
        "    lista[start], lista[high] = lista[high], lista[start]\n",
        "    return high\n",
        "\n",
        "\n",
        "def quick_sort(lista, start, end):\n",
        "    if start >= end:\n",
        "        return\n",
        "    p = partition(lista, start, end)\n",
        "    quick_sort(lista, start, p-1)\n",
        "    quick_sort(lista, p+1, end)"
      ]
    },
    {
      "cell_type": "code",
      "execution_count": null,
      "metadata": {
        "colab": {
          "base_uri": "https://localhost:8080/"
        },
        "id": "Wt9qqzDs1gFz",
        "outputId": "3e45b632-b261-4c1b-af8b-f063322bd781"
      },
      "outputs": [],
      "source": [
        "lista_1 = [randint(0,10**6) for i in range(10**5)]\n",
        "x0 = time.time() \n",
        "quick_sort(lista, 0, len(lista) - 1)\n",
        "print('QS de lista no ordenada:',time.time() - x0) # "
      ]
    }
  ],
  "metadata": {
    "colab": {
      "authorship_tag": "ABX9TyMzs+WNyQ1IZk7LrbIf67hG",
      "collapsed_sections": [],
      "include_colab_link": true,
      "name": "Clase laboratorio 12-05-21.ipynb",
      "provenance": []
    },
    "kernelspec": {
      "display_name": "Python 3",
      "name": "python3"
    },
    "language_info": {
      "codemirror_mode": {
        "name": "ipython",
        "version": 3
      },
      "file_extension": ".py",
      "mimetype": "text/x-python",
      "name": "python",
      "nbconvert_exporter": "python",
      "pygments_lexer": "ipython3",
      "version": "3.8.12"
    }
  },
  "nbformat": 4,
  "nbformat_minor": 0
}
