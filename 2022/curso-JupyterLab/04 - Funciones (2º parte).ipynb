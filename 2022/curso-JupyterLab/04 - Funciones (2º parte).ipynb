{
 "cells": [
  {
   "cell_type": "markdown",
   "metadata": {
    "id": "sdnHXZBbic0b"
   },
   "source": [
    "## 8. Las variables y los parámetros son locales\n",
    "\n",
    "Cuando crea una variable dentro de una función, es *local*, lo que significa que solo existe dentro de la función. Por ejemplo:"
   ]
  },
  {
   "cell_type": "code",
   "execution_count": 15,
   "metadata": {
    "id": "K9f05EIoiXWJ"
   },
   "outputs": [],
   "source": [
    "def imprimir_dos_veces(nombre):\n",
    "    print(nombre)\n",
    "    print(nombre)\n",
    "\n",
    "def cat_dos_veces (parte_1, parte_2):\n",
    "    cat = parte_1 + parte_2\n",
    "    imprimir_dos_veces(cat)"
   ]
  },
  {
   "cell_type": "markdown",
   "metadata": {
    "id": "rSJZCmETjbHq"
   },
   "source": [
    "Esta función toma dos argumentos, los concatena e imprime el resultado dos veces. Aquí hay un ejemplo que lo usa:"
   ]
  },
  {
   "cell_type": "code",
   "execution_count": 16,
   "metadata": {
    "id": "mi3cLm5WjbQK"
   },
   "outputs": [
    {
     "name": "stdout",
     "output_type": "stream",
     "text": [
      "Buenas tardes, mucho gusto.\n",
      "Buenas tardes, mucho gusto.\n"
     ]
    }
   ],
   "source": [
    "linea_1 = 'Buenas tardes, '\n",
    "linea_2 = 'mucho gusto.'\n",
    "cat_dos_veces(linea_1, linea_2)"
   ]
  },
  {
   "cell_type": "markdown",
   "metadata": {
    "id": "xUpVqxT_jbYB"
   },
   "source": [
    "Cuando termina `cat_dos_veces`, la variable `cat` se destruye. Si intentamos imprimirla, obtenemos una excepción:"
   ]
  },
  {
   "cell_type": "code",
   "execution_count": 17,
   "metadata": {
    "id": "Wifkz2d8jbgx"
   },
   "outputs": [],
   "source": [
    "# print(cat) # descomentar la línea produce un error"
   ]
  },
  {
   "cell_type": "markdown",
   "metadata": {
    "id": "nYvCbDrbjbqd"
   },
   "source": [
    "Los parámetros también son locales. Por ejemplo, fuera de `imprimir_dos_veces`, no existe `nombre`."
   ]
  },
  {
   "cell_type": "markdown",
   "metadata": {
    "id": "NfgTPiFJjb8W"
   },
   "source": [
    "## 9. Funciones que devuelven valor y funciones nulas\n",
    "\n",
    "Algunas de las funciones que hemos utilizado, como las funciones matemáticas, devuelven resultados; a falta de un nombre mejor, las llamamos *funciones que devuelven valor*. Otras funciones, como `imprimir_dos_veces`, realizan una acción pero no devuelven un valor. Se llaman *funciones vacías*.\n",
    "\n",
    "A veces,  a las funciones que devuelven valor se las llam simplemente *funciones* y  a las funciones nulas se las llama *procedimientos*. \n",
    "\n",
    "Cuando se llama a una función que devuelve valor, casi siempre se quiere hacer algo con el resultado; por ejemplo, se puede asignar a una variable o usarse como parte de una expresión. Por ejemplo,  si corremos la siguiente celda de código\n"
   ]
  },
  {
   "cell_type": "code",
   "execution_count": 18,
   "metadata": {
    "id": "pIaR_659jcFR"
   },
   "outputs": [
    {
     "data": {
      "text/plain": [
       "1.618033988749895"
      ]
     },
     "execution_count": 18,
     "metadata": {},
     "output_type": "execute_result"
    }
   ],
   "source": [
    "import math\n",
    "(math.sqrt(5) + 1) / 2"
   ]
  },
  {
   "cell_type": "markdown",
   "metadata": {
    "id": "WjHqZivIjcPR"
   },
   "source": [
    "La función `math.sqrt()` aplicada a 5 nos devuelve un valor y Colab nos imprime su valor sumado 1 y dividido por 2. Pero  ese valor se pierde, no puede ser reutilizado y por lo tanto la instrucción no es muy útil. Pero  si escribimos y ejecutamos:"
   ]
  },
  {
   "cell_type": "code",
   "execution_count": 19,
   "metadata": {
    "id": "BpsWnvjmjcZQ"
   },
   "outputs": [],
   "source": [
    "num_aureo = (math.sqrt(5) + 1) / 2"
   ]
  },
  {
   "cell_type": "markdown",
   "metadata": {
    "id": "jtpKXNic2Fmi"
   },
   "source": [
    "entonces `num_aureo` puede ser reutilizado. Por ejemplo, podemos comprobar  que si $\\rho$ es el número aureo,  entonces $$\\rho^2 - \\frac{1}{\\rho} - 2 = 0$$ "
   ]
  },
  {
   "cell_type": "code",
   "execution_count": 20,
   "metadata": {
    "id": "APeM7lds2Fw7"
   },
   "outputs": [
    {
     "data": {
      "text/plain": [
       "0.0"
      ]
     },
     "execution_count": 20,
     "metadata": {},
     "output_type": "execute_result"
    }
   ],
   "source": [
    "num_aureo**2 - (1 / num_aureo) - 2"
   ]
  },
  {
   "cell_type": "markdown",
   "metadata": {
    "id": "YTmKThM02F57"
   },
   "source": [
    "Las funciones nulas pueden mostrar algo en la pantalla o tener algún otro efecto, pero no tienen un valor de retorno. Si se asigna el resultado a una variable, obtiene un valor especial llamado `None`.\n"
   ]
  },
  {
   "cell_type": "code",
   "execution_count": 21,
   "metadata": {
    "id": "m4-FBXDq2GCG"
   },
   "outputs": [
    {
     "name": "stdout",
     "output_type": "stream",
     "text": [
      "Bing\n",
      "Bing\n",
      "None\n"
     ]
    }
   ],
   "source": [
    "resultado = imprimir_dos_veces('Bing')\n",
    "print(resultado)"
   ]
  },
  {
   "cell_type": "markdown",
   "metadata": {
    "id": "qYvZS8Fb2GL3"
   },
   "source": [
    "El valor `None` no es el mismo que la cadena `'None'`. Es un valor especial que tiene su propio tipo:\n"
   ]
  },
  {
   "cell_type": "code",
   "execution_count": 22,
   "metadata": {
    "executionInfo": {
     "elapsed": 4,
     "status": "ok",
     "timestamp": 1629987897704,
     "user": {
      "displayName": "Alejandro Leopoldo Tiraboschi",
      "photoUrl": "https://lh3.googleusercontent.com/a-/AOh14Gir321Aip7u2JtD7LMLQbY3a1oHsAD11CVed_UbeFc=s64",
      "userId": "02370857492204546552"
     },
     "user_tz": 180
    },
    "id": "s3YLlg-t2GT-"
   },
   "outputs": [
    {
     "data": {
      "text/plain": [
       "NoneType"
      ]
     },
     "execution_count": 22,
     "metadata": {},
     "output_type": "execute_result"
    }
   ],
   "source": [
    "type(None) # ejecutar esta celda"
   ]
  },
  {
   "cell_type": "markdown",
   "metadata": {
    "id": "sAUVYNTT2GcI"
   },
   "source": [
    "Las funciones que hemos escrito hasta ahora son todas nulas. Comenzaremos a escribir funciones que devuelven valor en la próxima sección."
   ]
  },
  {
   "cell_type": "markdown",
   "metadata": {
    "id": "xs4M1ZMf2dxH"
   },
   "source": [
    "## 10. Funciones que devuelven valor\n",
    "Muchas de las funciones de Python que hemos utilizado, como las funciones matemáticas, producen valores de retorno. Pero las funciones que hemos definido son todas nulas: tienen un efecto, como imprimir un valor, pero no tienen un valor de retorno. En esta sección vermos como escribir funciones que devuelven valor.\n",
    "\n",
    "Llamar a una función que devuelve un valor,  generalmente  asigna este valor a una variable o usamos el valor como parte de una expresión. Por ejemplo: \n",
    "```\n",
    "e = math.exp(1.0)\n",
    "altura = radio * math.sin(radianes)\n",
    "```\n",
    "\n",
    "Veamos ahora un ejemplo de una función que devuelve valor definida por nosotros. La función será  `area()`, que devuelve el área de un círculo con el radio dado:\n",
    "\n"
   ]
  },
  {
   "cell_type": "code",
   "execution_count": 23,
   "metadata": {
    "id": "6Blq-wVZ2Gje"
   },
   "outputs": [],
   "source": [
    "def area(radio):\n",
    "    a = math.pi * radio ** 2 \n",
    "    return a"
   ]
  },
  {
   "cell_type": "markdown",
   "metadata": {
    "id": "TWLvc0ok2Gsc"
   },
   "source": [
    "La expresión `return` significa: \"termine inmediatamente esta función y use la siguiente expresión como valor de retorno\". La expresión puede ser arbitrariamente complicada, por lo que podríamos haber escrito esta función de manera más concisa:\n"
   ]
  },
  {
   "cell_type": "code",
   "execution_count": 24,
   "metadata": {
    "id": "jf3ZgOK22G1k"
   },
   "outputs": [],
   "source": [
    "def area(radio):\n",
    "    return math.pi * radio ** 2"
   ]
  },
  {
   "cell_type": "markdown",
   "metadata": {
    "id": "WygmyMQB2G94"
   },
   "source": [
    "Sin embargo, las variables temporales, como `a` en el ejemplo, pueden facilitar la depuración.\n",
    "\n",
    "Tan pronto como se ejecuta una instrucción de retorno, la función termina sin ejecutar ninguna instrucción posterior. El código que aparece después o a posteriori de una instrucción `return` se llama *código muerto*. Por ejemplo, si ejecutamos\n"
   ]
  },
  {
   "cell_type": "code",
   "execution_count": 25,
   "metadata": {
    "id": "h-Id9Rfk2HGk"
   },
   "outputs": [],
   "source": [
    "def area(radio):\n",
    "    a = math.pi * radio ** 2 \n",
    "    return a\n",
    "    b = 2 # código  muerto\n",
    "    return b # código muerto"
   ]
  },
  {
   "cell_type": "markdown",
   "metadata": {
    "id": "J2Lx9TFD2HPA"
   },
   "source": [
    "entonces `area(1)` nos devuelve un valor aproximado de $\\pi$."
   ]
  },
  {
   "cell_type": "markdown",
   "metadata": {
    "id": "dIkC74lm2yIf"
   },
   "source": [
    "## 11. ¿Por qué funciones?\n",
    "\n",
    "Puede que no quede claro por qué vale la pena dividir un programa en funciones. Hay varias razones:\n",
    "\n",
    "- La creación de una nueva función te brinda la oportunidad de nombrar a un grupo de declaraciones, lo que hace que tu programa sea más fácil de leer y depurar.\n",
    "\n",
    "- Las funciones pueden hacer que un programa sea más pequeño al eliminar el código repetitivo. Posteriormente, si realiza algún cambio, solo se debe hacer en un lugar.\n",
    "\n",
    "- Dividir un programa largo en funciones te permite depurar las partes de una en una y luego ensamblarlas en un todo funcional.\n",
    "\n",
    "- Las funciones bien diseñadas suelen ser útiles para muchos programas. Una vez que escribas y depures uno, podrás reutilizarlo."
   ]
  },
  {
   "cell_type": "markdown",
   "metadata": {
    "id": "C3-Ti_9J22Lq"
   },
   "source": [
    "## 12. Depuración\n",
    "\n",
    "Una de las habilidades más importantes que adquirirás es la depuración. Aunque puede resultar frustrante, la depuración es una de las partes de la programación más interesantes, desafiantes e intelectualmente más enriquecedoras.\n",
    "\n",
    "De alguna manera, la depuración es como un trabajo de detective. Te enfrentás a pistas y tenés que inferir los procesos y eventos que llevaron a los resultados que ves.\n",
    "\n",
    "La depuración también es como una ciencia experimental. Una vez que tengas una idea de lo que va mal, modificá tu programa y volvé a intentarlo. Si tu hipótesis era correcta, podés predecir el resultado de la modificación y dar un paso más hacia un programa que funcione. Si tu hipótesis fue incorrecta, debés idear una nueva. Como señaló Sherlock Holmes: \n",
    "\n",
    "*Cuando hayas eliminado lo imposible, lo que quede, por improbable que sea, debe ser la verdad.*\n",
    "\n",
    "(A. Conan Doyle, El signo de los cuatro)\n",
    "\n",
    "Para algunas personas, programar y depurar son lo mismo. Es decir, la programación es el proceso de depurar gradualmente un programa hasta que hace lo que se desea. La idea es que debe comenzar con un programa que funcione y hacer pequeñas modificaciones, depurándolas a medida que se avanza."
   ]
  }
 ],
 "metadata": {
  "colab": {
   "authorship_tag": "ABX9TyNUj8Bp3lSqiWVZm5SK8uIi",
   "collapsed_sections": [],
   "name": "04 - Funciones (2º parte).ipynb",
   "provenance": []
  },
  "kernelspec": {
   "display_name": "Python 3 (ipykernel)",
   "language": "python",
   "name": "python3"
  },
  "language_info": {
   "codemirror_mode": {
    "name": "ipython",
    "version": 3
   },
   "file_extension": ".py",
   "mimetype": "text/x-python",
   "name": "python",
   "nbconvert_exporter": "python",
   "pygments_lexer": "ipython3",
   "version": "3.8.12"
  }
 },
 "nbformat": 4,
 "nbformat_minor": 4
}
