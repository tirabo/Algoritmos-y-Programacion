{
  "cells": [
    {
      "cell_type": "markdown",
      "metadata": {
        "id": "2z6zqILjbeY5"
      },
      "source": [
        "## 1. Ejemplos de uso correcto de ciclos\n",
        "\n",
        "Como ya vimos (casi) nunca debemos usar `break` en los ciclos. \n"
      ]
    },
    {
      "cell_type": "markdown",
      "metadata": {
        "id": "oSqRUwVNfafH"
      },
      "source": [
        "Veamos otro ejemplo, ahora con el `for`: supongamos  que queremos averiguar si un número `n` es primo o no. Una forma sencilla de hacerlo es ir dividiendo por todos los números de `2` hasta `n-1` y si encontramos que uno de esos número divide a `n` el número es compuesto, en caso contrario es primo. Una implementación rápida podría ser"
      ]
    },
    {
      "cell_type": "code",
      "execution_count": 3,
      "metadata": {
        "colab": {
          "base_uri": "https://localhost:8080/"
        },
        "id": "KSuTuVrdgK33",
        "outputId": "cbb99153-0ee0-42d5-dca5-32138d49bd24"
      },
      "outputs": [
        {
          "name": "stdout",
          "output_type": "stream",
          "text": [
            "3 es divisor de 563456345634567\n",
            "False\n"
          ]
        }
      ],
      "source": [
        "def es_primo(n: int) -> bool:\n",
        "    # pre: n > 0\n",
        "    # post: devuelve True si n  es primo, en caso contrario devuelve False\n",
        "    primo = True\n",
        "    for i in range(2, n):\n",
        "        if n % i == 0:\n",
        "            primo = False\n",
        "            print(i, 'es divisor de', n)\n",
        "            break\n",
        "    return primo\n",
        "\n",
        "print(es_primo(563456345634567)) # False\n",
        "# print(es_primo(563456345634569)) # True (tarda mucho)"
      ]
    },
    {
      "cell_type": "markdown",
      "metadata": {
        "id": "42Gf7Eudg7bV"
      },
      "source": [
        "Esta implementación es correcta y traduce eficientemente el algoritmo que habíamos pensado.  Sin embargo, \"romper\" un ciclo `for` con un `break` no es una práctica recomendada. En este caso, donde el código es muy sencillo, no habría problemas, pero para códigos más complejos,  como ya dijimos, puede traer problemas.\n",
        "\n",
        "Una propuesta sin el uso de `break` puede ser la siguiente:"
      ]
    },
    {
      "cell_type": "code",
      "execution_count": null,
      "metadata": {
        "colab": {
          "base_uri": "https://localhost:8080/"
        },
        "id": "UuQM_F_sh6JO",
        "outputId": "97076ecd-50c2-43c3-e89b-6424ad42af80"
      },
      "outputs": [],
      "source": [
        "def es_primo(n: int) -> bool:\n",
        "    # pre: n > 0\n",
        "    # post: devuelve True si n  es primo, en caso contrario devuelve False\n",
        "    primo = True\n",
        "    i = 2\n",
        "    while i < n and primo == True:\n",
        "        if n % i == 0:\n",
        "            primo = False\n",
        "        i += 1\n",
        "    return primo\n",
        "\n",
        "print(es_primo(563456345634567)) # False"
      ]
    },
    {
      "cell_type": "markdown",
      "metadata": {
        "id": "GzECkc2piPKH"
      },
      "source": [
        "Obeservemos que el `for` debió ser reemplazado por el `while` puesto que estamos en el caso de un ciclo que no sabemos cuantas repeticiones tendrá.\n",
        "\n",
        "Hay muchas formas  de hacer este programa, veamos otra forma. Usualmente podemos usar la negación de la condición que disparaba el `break` como una condición del `while`:"
      ]
    },
    {
      "cell_type": "code",
      "execution_count": null,
      "metadata": {
        "id": "6cjakvoVjm3w"
      },
      "outputs": [],
      "source": [
        "def es_primo(n: int) -> bool:\n",
        "    # pre: n > 0\n",
        "    # post: devuelve True si n  es primo, en caso contrario devuelve False\n",
        "    i = 2\n",
        "    while i < n and n % i != 0:\n",
        "        i += 1\n",
        "    if i < n:\n",
        "        return False\n",
        "    else: \n",
        "        return True\n",
        "        \n",
        "print(es_primo(563456345634567)) # False"
      ]
    },
    {
      "cell_type": "markdown",
      "metadata": {
        "id": "5ygpXiERkA7r"
      },
      "source": [
        "O la forma más concisa,  que pareciera ser la mejor con este algoritmo en mente:"
      ]
    },
    {
      "cell_type": "code",
      "execution_count": null,
      "metadata": {
        "id": "RMw19YgYkEDD"
      },
      "outputs": [],
      "source": [
        "def es_primo(n: int) -> bool:\n",
        "    # pre: n > 0\n",
        "    # post: devuelve True si n  es primo, en caso contrario devuelve False\n",
        "    i = 2\n",
        "    while i < n and n % i != 0:\n",
        "        i += 1\n",
        "    return i == n "
      ]
    },
    {
      "cell_type": "markdown",
      "metadata": {
        "id": "v3VOTTs9bfp6"
      },
      "source": [
        "## 4. Método de Newton para la raíz cuadrada\n",
        "\n",
        "El *método de Newton* o de *Newton-Raphson* es un algoritmo para encontrar aproximaciones de los ceros o raíces de una función real. Una explicación completa se puede encontrar en Wikipedia en el artículo [Método de Newton](https://es.wikipedia.org/wiki/M%C3%A9todo_de_Newton). \n",
        "\n",
        "Se puede utilizar el  método de Newton para encontrar una aproximación numérica de la raíz cuadrada de un número real. Observar que si $a >0$\n",
        "$$\n",
        "b = \\sqrt{a}\\quad \\Leftrightarrow \\quad b^2 = a \\quad\\Leftrightarrow\\quad b^2-a=0.\n",
        "$$\n",
        "Es decir, $\\sqrt{a}$ es raíz de la función $f(x) = x^2 -a$. El algorimo que se obtiene de aplicar el  método de Newton a $f$ se puede describir de la siguiente forma: \n",
        "1. Sea $x_0$ un valor inicial arbitrario ($>0$). \n",
        "2. Sea \n",
        "\\begin{equation}\n",
        "x_{n+1} = \\frac12(x_n + \\frac{a}{x_n}) \\tag{*}\n",
        "\\end{equation}\n",
        "para $n \\ge 0$. \n",
        "\n",
        "3. Aplique la fórmula (*) desde $n=0$ en adelante hasta obtener un $x_n$ que se aproxime \"lo suficiente\".\n",
        "\n",
        "En el ítem 3. la frase \"lo suficiente\" no es del todo clara y  trataremos de interpretarla a lo largo de la sección.\n",
        "\n",
        "Veamos como funciona en algún caso particular, por ejemplo, si $a$ es $4$ y $x_0$ es $3$. De ahora en más, por ser más cómodo; llamaremos $x$  a $x_n$ (el valor original) e $y$ a $x_{n+1}$ (el valor que se obtiene), luego la primera aproximación a $\\sqrt{4} =2$ es \n"
      ]
    },
    {
      "cell_type": "code",
      "execution_count": 4,
      "metadata": {
        "colab": {
          "base_uri": "https://localhost:8080/"
        },
        "id": "vKZOkNKjbfy4",
        "outputId": "0578fbe8-543e-453b-87b7-761d279120bb"
      },
      "outputs": [
        {
          "name": "stdout",
          "output_type": "stream",
          "text": [
            "2.1666666666666665\n"
          ]
        }
      ],
      "source": [
        "a = 4\n",
        "x = 3\n",
        "y = (1/2)*(x + a/x)\n",
        "print(y)"
      ]
    },
    {
      "cell_type": "markdown",
      "metadata": {
        "id": "lW51NjoXbf8B"
      },
      "source": [
        "El resultado es `2.1666666666666665` que está más cerca que `3` de la respuesta correcta ($\\sqrt{4} = 2$). Si nosotros repetimos el proceso con la nueva estimación, se acerca aún más:\n"
      ]
    },
    {
      "cell_type": "code",
      "execution_count": 5,
      "metadata": {
        "colab": {
          "base_uri": "https://localhost:8080/"
        },
        "id": "6GzSJcFrbgE-",
        "outputId": "81074621-3753-476e-9200-b7d58adf514d"
      },
      "outputs": [
        {
          "name": "stdout",
          "output_type": "stream",
          "text": [
            "2.0064102564102564\n"
          ]
        }
      ],
      "source": [
        "x = y\n",
        "y = (1/2)*(x + a/x)\n",
        "print(y)"
      ]
    },
    {
      "cell_type": "markdown",
      "metadata": {
        "id": "l2ks9L7rbgPc"
      },
      "source": [
        "De la celda anterior obtenemos `2.0064102564102564`. Después de algunas actualizaciones más, la estimación es muy precisa:"
      ]
    },
    {
      "cell_type": "code",
      "execution_count": 6,
      "metadata": {
        "colab": {
          "base_uri": "https://localhost:8080/"
        },
        "id": "1JgqkRFobgaR",
        "outputId": "3fbc29f2-cf61-4861-9af3-a5c5ac9f68d0"
      },
      "outputs": [
        {
          "name": "stdout",
          "output_type": "stream",
          "text": [
            "2.0000102400262145\n",
            "2.0000000000262146\n"
          ]
        }
      ],
      "source": [
        "x = y\n",
        "y = (1/2)*(x + a/x)\n",
        "print(y)\n",
        "x = y\n",
        "y = (1/2)*(x + a/x)\n",
        "print(y)"
      ]
    },
    {
      "cell_type": "markdown",
      "metadata": {
        "id": "9qrl_WUm8X4W"
      },
      "source": [
        "Finalmente,  con una aproximación más obtenemos el resultado exacto: "
      ]
    },
    {
      "cell_type": "code",
      "execution_count": 7,
      "metadata": {
        "colab": {
          "base_uri": "https://localhost:8080/"
        },
        "id": "XHZ-OT_N8YCs",
        "outputId": "5b784130-5397-4a8b-fc26-074bd4319d78"
      },
      "outputs": [
        {
          "name": "stdout",
          "output_type": "stream",
          "text": [
            "2.0\n"
          ]
        }
      ],
      "source": [
        "x = y\n",
        "y = (1/2)*(x + a/x)\n",
        "print(y)"
      ]
    },
    {
      "cell_type": "markdown",
      "metadata": {
        "id": "qfyJxcFt7hUC"
      },
      "source": [
        "En general, no sabemos de antemano cuántos pasos se necesitan para llegar a la respuesta correcta, pero sabemos cuándo llegamos porque la estimación\n",
        "deja de cambiar:"
      ]
    },
    {
      "cell_type": "code",
      "execution_count": 8,
      "metadata": {
        "colab": {
          "base_uri": "https://localhost:8080/"
        },
        "id": "uuUEI_9_7hbQ",
        "outputId": "24d172f3-8b01-4505-c688-01e6a4e3628f"
      },
      "outputs": [
        {
          "name": "stdout",
          "output_type": "stream",
          "text": [
            "2.0\n"
          ]
        }
      ],
      "source": [
        "x = y\n",
        "y = (1/2)*(x + a/x)\n",
        "print(y)"
      ]
    },
    {
      "cell_type": "markdown",
      "metadata": {
        "id": "pAAuPwpK7hkP"
      },
      "source": [
        "Cuando `y == x`, podemos detenernos. Aquí hay un bucle que comienza\n",
        "con una estimación inicial, `x`, y la mejora hasta que deja de cambiar. Podemos escribir la función `raiz_cuadrada()` de la siguiente forma:\n"
      ]
    },
    {
      "cell_type": "code",
      "execution_count": 6,
      "metadata": {
        "colab": {
          "base_uri": "https://localhost:8080/"
        },
        "id": "eI8lPcie7hs1",
        "outputId": "13b1d5ed-52f5-4bc1-87cf-94d423e014fe"
      },
      "outputs": [
        {
          "name": "stdout",
          "output_type": "stream",
          "text": [
            "2.0 4.0\n",
            "3.0 9.0\n",
            "5.477225575051661 30.0\n",
            "10.04987562112089 101.0\n",
            "10.099504938362077 101.99999999999999\n"
          ]
        }
      ],
      "source": [
        "def raiz_cuadrada(a: float) -> float:\n",
        "    # pre: a > 0\n",
        "    # post: devuelve y una aproximación de la raíz cuadrada de a\n",
        "    x = a / 2 # aproximamos la raíz de a por a/2\n",
        "    y = (1/2)*(x + a/x)\n",
        "    while y != x:\n",
        "        x = y # el último calculado pasa a ser el que se usa para calcular el próximo\n",
        "        y = (1/2)*(x + a/x)\n",
        "    return y\n",
        "\n",
        "print(raiz_cuadrada(4), raiz_cuadrada(4)**2)\n",
        "print(raiz_cuadrada(9), raiz_cuadrada(9)**2)\n",
        "print(raiz_cuadrada(30), raiz_cuadrada(30)**2)\n",
        "print(raiz_cuadrada(101), raiz_cuadrada(101)**2)\n",
        "print(raiz_cuadrada(102), raiz_cuadrada(102)**2)"
      ]
    },
    {
      "cell_type": "markdown",
      "metadata": {
        "id": "Zj48R0CC7h04"
      },
      "source": [
        "Para muchos de los valores de `a` esto funciona bien, pero en general no es recomendable probar la igualdad de dos `float`. Los valores de coma flotante son solo aproximadamente correctos: la mayoría de los números racionales, como $ 1/3 $, y los números irracionales, como $\\sqrt{2}$, no se pueden representar exactamente con un `float`.\n",
        "\n",
        "En lugar de comprobar si `x` e `y` son exactamente iguales, es más seguro usar la función `abs` que devuelve el valor absoluto de un número real:  detenemos el bucle cuando `abs(x - y)` es menor que un error que consideramos aceptable. Redefinamos la función:"
      ]
    },
    {
      "cell_type": "code",
      "execution_count": 7,
      "metadata": {
        "colab": {
          "base_uri": "https://localhost:8080/"
        },
        "id": "EmotVaV07h98",
        "outputId": "031389b5-77d8-4e14-b6cd-a934a592acd7"
      },
      "outputs": [
        {
          "name": "stdout",
          "output_type": "stream",
          "text": [
            "2.0 4.0\n",
            "3.0000000000393214 9.000000000235929\n",
            "5.477225575302472 30.0000000027475\n",
            "10.049875621244148 101.00000000247745\n",
            "10.099504938503184 102.0000000028502\n"
          ]
        }
      ],
      "source": [
        "def raiz_cuadrada(a: float) -> float:\n",
        "    # pre: a > 0\n",
        "    # post: devuelve y una aproximación de la raíz cuadrada de a\n",
        "    x = a / 2 # aproximamos la raíz de a por a/2\n",
        "    y = (1/2)*(x + a/x)\n",
        "    error = 0.0001\n",
        "    while abs(x - y) > error:\n",
        "        x = y\n",
        "        y = (1/2)*(x + a/x)\n",
        "    return y\n",
        "\n",
        "print(raiz_cuadrada(4), raiz_cuadrada(4)**2)\n",
        "print(raiz_cuadrada(9), raiz_cuadrada(9)**2)\n",
        "print(raiz_cuadrada(30), raiz_cuadrada(30)**2)\n",
        "print(raiz_cuadrada(101), raiz_cuadrada(101)**2)\n",
        "print(raiz_cuadrada(102), raiz_cuadrada(102)**2)"
      ]
    },
    {
      "cell_type": "markdown",
      "metadata": {
        "id": "15isWc-3DjtS"
      },
      "source": [
        "Esta última sería la forma más correcta de escribir la función. La primera forma depende mucho de la implementación del compilador y se pueden obtener resultados inciertos."
      ]
    },
    {
      "cell_type": "markdown",
      "metadata": {
        "id": "AQacMVGhibPD"
      },
      "source": [
        "## 5. Programación defensiva \n",
        "\n",
        "El primer paso para obtener las resultados correctos de nuestros programas es asumir que los errores sucederán y protegerse contra ellos. Esto se llama programación defensiva, y la forma más común de hacerlo es agregar aserciones a nuestro código para que se compruebe a sí mismo a medida que se ejecuta. Una *aserción* es simplemente una declaración de que algo debe ser cierto en un cierto punto de un programa. La sintaxis de la aserción es la siguiente\n",
        "\n",
        "```\n",
        "assert condición, 'Cadena  que se imprime cuando condición == False'\n",
        "```\n",
        "\n",
        "\n",
        "\n",
        "Cuando Python ve una aserción, evalúa la condición de la aserción. Si es cierta, Python no hace nada, pero si es falsa, Python detiene el programa inmediatamente e imprime el mensaje de error explicitado por el programador. Por ejemplo, este fragmento de código suma todos los números de una lista de números positivos:\n"
      ]
    },
    {
      "cell_type": "code",
      "execution_count": null,
      "metadata": {
        "colab": {
          "base_uri": "https://localhost:8080/"
        },
        "id": "THihhUwziwKq",
        "outputId": "ff0ab7b9-4d26-40ae-fae3-4bfb60d8cd65"
      },
      "outputs": [],
      "source": [
        "numeros = [1.5, 2.3, 0.7, 0.001, 4.4] # lista de números (veremos esto en profundidad más adelante)\n",
        "total = 0.0\n",
        "for n in numeros:\n",
        "    assert n > 0.0, 'Los datos solo deben contener valores positivos (' + str(n) + ' <= 0).'\n",
        "    total += n\n",
        "print('El total es:', total)"
      ]
    },
    {
      "cell_type": "markdown",
      "metadata": {
        "id": "JjwfI58xzqqY"
      },
      "source": [
        "En  caso que la lista de números contenga un número no positivo,  obtendremos un error por el `assert`:"
      ]
    },
    {
      "cell_type": "code",
      "execution_count": null,
      "metadata": {
        "id": "UX0btmvRz2zj"
      },
      "outputs": [],
      "source": [
        "numeros = [1.5, 2.3, 0.7, -0.001, 4.4]\n",
        "total = 0.0\n",
        "for n in numeros:\n",
        "    assert n > 0.0, 'Los datos solo deben contener valores positivos (' + str(n) + ' <= 0).'\n",
        "    total += n\n",
        "print('El total es:', total)"
      ]
    },
    {
      "cell_type": "markdown",
      "metadata": {
        "id": "guHfD7NP0AjJ"
      },
      "source": [
        "### Precondiciones y postcondiciones (revisado)\n",
        "Repasemos el concepto de precondición y postcondición y veamos que en algunos casos pueden verificarse con el comando `assert`. Como ya vimos, las *precondiciones* y *postcondiciones* son anotaciones dentro del cuerpo de una función que nos sirven para saber como deben ser los parámetros que recibe la función y  que es lo que hace la función:\n",
        "\n",
        "- *Precondición:* es algo que debe ser cierto cuando comienza la la función, para que esta funcione correctamente.\n",
        "- *Postcondición:* es algo que la función garantiza cierto cuando la misma termina. \n",
        "\n",
        "Las precondiciones y postcondiciones son parte de la documentación del programa y suelen escribirse como comentarios formales cuando se puede, o en caso contrario informales.\n",
        "\n",
        "En el caso que se puedan formalizar en Python,  se pueden reemplazar o completar con `assert`.\n",
        "\n",
        "Veamos un ejemplo con el máximo común divisor. La función escrita en la siguiente celda de código determina  el máximo común divisor de `a` y `b` cuando `a` y `b` son enteros no negativos y uno de ellos es mayor que 0. \n",
        "\n",
        "El algoritmo se basa en la dos propiedades siguientes: si $x$, $y$  son enteros,  con $y$ no nulo,  entonces:\n",
        "\\begin{align}\n",
        "\\operatorname{mcd}(x, y) &= \\operatorname{mcd}(x, y - x) \\\\\n",
        "\\operatorname{mcd}(0, y) &= y.\n",
        "\\end{align}"
      ]
    },
    {
      "cell_type": "code",
      "execution_count": null,
      "metadata": {
        "id": "4cfEdgrM3-La"
      },
      "outputs": [],
      "source": [
        "# 1º versión. \n",
        "def mcd(a, b: int) -> int:\n",
        "    x, y = min(a, b), max(a, b)\n",
        "    while x != 0: # \"mientras x distinto de 0\" \n",
        "        x, y = min(x, y - x), max(x, y - x)\n",
        "    return y\n",
        "\n",
        "mcd(15, 24)\n",
        "# mcd(-3, 2)"
      ]
    },
    {
      "cell_type": "markdown",
      "metadata": {
        "id": "CQbh3XNNHBTl"
      },
      "source": [
        "Esta función se comporta bien mientras `a` y `b` cumplan que son no negativos y al menos uno sea no nulo. Verificar, por ejemplo, que\n",
        "\n",
        "\n",
        "```\n",
        "mcd(-3, 2)\n",
        "```\n",
        "es una instrucción que no termina.\n",
        "\n",
        "Agreguemos ahora precondiciones y postcondiciones de manera informal:\n",
        "\n",
        "\n"
      ]
    },
    {
      "cell_type": "code",
      "execution_count": null,
      "metadata": {
        "id": "TElaRuxx1dfd"
      },
      "outputs": [],
      "source": [
        "# 2º versión. \n",
        "def mcd(a, b: int) -> int:\n",
        "    # pre: a y b no negativos, al menos uno de ellos no nulo.\n",
        "    # post: devuelve el mcd de a y b\n",
        "    x, y = min(a, b), max(a, b)\n",
        "    while x != 0: # \"mientras x distinto de 0\" \n",
        "      x, y = min(x, y - x), max(x, y - x)\n",
        "    return y"
      ]
    },
    {
      "cell_type": "markdown",
      "metadata": {
        "id": "xgPp3EqLD0_l"
      },
      "source": [
        "En  la tercera versión la precondición se escribe de manera formal, pero sigue siendo un comentario:"
      ]
    },
    {
      "cell_type": "code",
      "execution_count": null,
      "metadata": {
        "id": "VvQQvyPh2Rf9"
      },
      "outputs": [],
      "source": [
        "# 3º versión\n",
        "def mcd(a, b: int) -> int:\n",
        "    # pre: (a >= 0 and b >=0) and (a != 0 or b != 0).\n",
        "    # post: devuelve el mdc de a y b\n",
        "    x, y = min(a, b), max(a, b)\n",
        "    while x != 0: # \"mientras x distinto de 0\" \n",
        "        x, y = min(x, y - x), max(x, y - x)\n",
        "    return y"
      ]
    },
    {
      "cell_type": "markdown",
      "metadata": {
        "id": "zO95CrpMD_-1"
      },
      "source": [
        "La tercera versión no difiere en nada, al tiempo de ejecutarse, a la segunda versión, por lo tanto existe la posiblidad de entrar en un ciclo infinito para ciertos valores de `a`  y `b`.\n",
        "\n",
        "En  la tercera versión hemos formalizado la precondición en lenguaje Python y por lo tanto  la podemos formalizar programáticamente con un `assert`:"
      ]
    },
    {
      "cell_type": "code",
      "execution_count": null,
      "metadata": {
        "id": "3j6SIAWB2ziP"
      },
      "outputs": [],
      "source": [
        "# 4º versión\n",
        "def mcd(a, b: int) -> int:\n",
        "    # pre: (a >= 0 and b >=0) and (a != 0 or b != 0).\n",
        "    assert type(a) == int and type(b) == int and (a >= 0 and b >=0) and (a != 0 or b != 0), \"Los parámetros deben ser enteros no negativos, al menos uno de ellos no nulo\"\n",
        "    # post: devuelve el mdc de a y b\n",
        "    x, y = min(a, b), max(a, b)\n",
        "    while x != 0: # \"mientras x distinto de 0\" \n",
        "      x, y = min(x, y - x), max(x, y - x)\n",
        "    return y\n",
        "\n",
        "print(mcd(15, 24))\n",
        "# print(mcd(-3, 2))"
      ]
    },
    {
      "cell_type": "markdown",
      "metadata": {
        "id": "cK11z4vzJ1Vw"
      },
      "source": [
        "Esta cuarta versión produce un error y detiene el programa cuando `a` y `b` no cumplen la precondición. En  este caso el `assert` nos garantiza que no se producirá un ciclo infinito y por lo tanto juega un rol importante em el programa. \n",
        "\n",
        "En el caso de la función `mcd()` formalizar matemáticamente la  postcondición es posible, pero no es sencillo implementarla en Python. Por lo tanto la podemos dejar escrita de manera informal o la escribimos con el fomalismo de la matemática, pero sin hacer un `assert` para verificarla. \n",
        "\n",
        "Por otro  lado, hacer un `assert` para la postcondición no parece razonable, puesto que si la función está bien implementada la postcondición siempre debe cumplirse y si ocurriera en algún caso que no se cumple es porque la función está mal definida. \n"
      ]
    },
    {
      "cell_type": "code",
      "execution_count": null,
      "metadata": {
        "id": "UZMRX0H9KnFX"
      },
      "outputs": [],
      "source": [
        "# 5º versión\n",
        "def mcd(a, b: int) -> int:\n",
        "    # pre: (a >= 0 and b >=0) and (a != 0 or b != 0).\n",
        "    assert type(a) == int and type(b) == int and (a >= 0 and b >=0) and (a != 0 or b != 0), \"Los parámetros deben ser enteros no negativos, al menos uno de ellos no nulo\"\n",
        "    # post: devuelve d tal que\n",
        "    #       1) a % d == 0 and b % d == 0, y\n",
        "    #       2) si c entero y (a % c == 0 and b % c == 0) => d % c == 0\n",
        "    x, y = min(a, b), max(a, b)\n",
        "    while x != 0: # \"mientras x distinto de 0\" \n",
        "      x, y = min(x, y - x), max(x, y - x)\n",
        "    return y"
      ]
    }
  ],
  "metadata": {
    "colab": {
      "authorship_tag": "ABX9TyOUXLyQNrvieQ0OcGBwoUKC",
      "collapsed_sections": [],
      "include_colab_link": true,
      "name": "06 - Condicionales y ciclos (2º parte).ipynb",
      "provenance": []
    },
    "kernelspec": {
      "display_name": "Python 3",
      "name": "python3"
    },
    "language_info": {
      "codemirror_mode": {
        "name": "ipython",
        "version": 3
      },
      "file_extension": ".py",
      "mimetype": "text/x-python",
      "name": "python",
      "nbconvert_exporter": "python",
      "pygments_lexer": "ipython3",
      "version": "3.8.12"
    }
  },
  "nbformat": 4,
  "nbformat_minor": 0
}
