{
  "nbformat": 4,
  "nbformat_minor": 0,
  "metadata": {
    "colab": {
      "name": "Algoritmos y Programación recursión, fibonacci, nro combinatorio, quicksort.ipynb",
      "provenance": [],
      "collapsed_sections": [],
      "include_colab_link": true
    },
    "kernelspec": {
      "name": "python3",
      "display_name": "Python 3"
    },
    "language_info": {
      "name": "python"
    }
  },
  "cells": [
    {
      "cell_type": "markdown",
      "metadata": {
        "id": "view-in-github",
        "colab_type": "text"
      },
      "source": [
        "<a href=\"https://colab.research.google.com/github/tirabo/Algoritmos-y-Programacion/blob/main/Algoritmos_y_Programaci%C3%B3n_recursi%C3%B3n%2C_fibonacci%2C_nro_combinatorio%2C_quicksort.ipynb\" target=\"_parent\"><img src=\"https://colab.research.google.com/assets/colab-badge.svg\" alt=\"Open In Colab\"/></a>"
      ]
    },
    {
      "cell_type": "markdown",
      "metadata": {
        "id": "LMbthInSXkEJ"
      },
      "source": [
        "# Recursión\n",
        "\n",
        "Vimos definiciones recursivas de factorial y de potencia, una de ellas bastante eficiente.\n",
        "\n",
        "Otro ejemplo de definición recursiva es la definición de la \"función\" de fibonacci:"
      ]
    },
    {
      "cell_type": "markdown",
      "metadata": {
        "id": "EJwra_cdfAHy"
      },
      "source": [
        "Sucesión de Fibonacci:\n",
        "\n",
        "0, 1, 1, 2, 3, 5, 8, 13\n",
        "\n",
        "\n",
        "*   $a_0 = 0$\n",
        "*   $a_1 = 1$\n",
        "*   $a_n = a_{n-1} + a_{n-2}$ si $n > 1$\n",
        "\n"
      ]
    },
    {
      "cell_type": "code",
      "metadata": {
        "id": "Z-D3k92RX9DF"
      },
      "source": [
        "def fib(n: int) -> int:\n",
        "    # pre: n >= 0\n",
        "    # post: devuelve el n-ésimo término de la sucesión de Fibonacci\n",
        "    assert type(n) == int and n >= 0\n",
        "    if n <= 1:\n",
        "        res = n\n",
        "    else:\n",
        "        res = fib(n-1) + fib(n-2)\n",
        "    return res"
      ],
      "execution_count": null,
      "outputs": []
    },
    {
      "cell_type": "code",
      "metadata": {
        "colab": {
          "base_uri": "https://localhost:8080/"
        },
        "id": "a9d5twqlgwvL",
        "outputId": "f8232d92-58da-4bda-e153-647c2e85261d"
      },
      "source": [
        "print([fib(x) for x in range(10)])"
      ],
      "execution_count": null,
      "outputs": [
        {
          "output_type": "stream",
          "text": [
            "[0, 1, 1, 2, 3, 5, 8, 13, 21, 34]\n"
          ],
          "name": "stdout"
        }
      ]
    },
    {
      "cell_type": "code",
      "metadata": {
        "id": "mcD0rgkGkKqU"
      },
      "source": [
        "def fib_iter(n: int) -> int:\n",
        "    if n <= 1:\n",
        "        res = n\n",
        "    else:\n",
        "        x, y = 0, 1\n",
        "        for _ in range(2, n+1):\n",
        "            x, y = y, x + y\n",
        "        res = y\n",
        "    return res"
      ],
      "execution_count": null,
      "outputs": []
    },
    {
      "cell_type": "code",
      "metadata": {
        "colab": {
          "base_uri": "https://localhost:8080/"
        },
        "id": "6XoVkbJcllLE",
        "outputId": "adc0a4b9-d3eb-4b0a-df97-af89923c5a29"
      },
      "source": [
        "print([fib_iter(x) for x in range(10)])"
      ],
      "execution_count": null,
      "outputs": [
        {
          "output_type": "stream",
          "text": [
            "[0, 1, 1, 2, 3, 5, 8, 13, 21, 34]\n"
          ],
          "name": "stdout"
        }
      ]
    },
    {
      "cell_type": "code",
      "metadata": {
        "colab": {
          "base_uri": "https://localhost:8080/"
        },
        "id": "ozqOkLOhlzzM",
        "outputId": "06b574f4-b4d4-410a-dd29-1de746330a67"
      },
      "source": [
        "fib_iter(10)"
      ],
      "execution_count": null,
      "outputs": [
        {
          "output_type": "execute_result",
          "data": {
            "text/plain": [
              "55"
            ]
          },
          "metadata": {
            "tags": []
          },
          "execution_count": 36
        }
      ]
    },
    {
      "cell_type": "markdown",
      "metadata": {
        "id": "yiM4tgDZU1_R"
      },
      "source": [
        "#### Número combinatorio"
      ]
    },
    {
      "cell_type": "markdown",
      "metadata": {
        "id": "seKHX7W1Vbmp"
      },
      "source": [
        "El número combinatorio $n \\choose m$ debe su nombre a que cuenta el número exacto de combinaciones posibles de $m$ elementos de un universo de $n$ elementos. Es decir, dado un conjunto de $n$ elementos, cuántos subconjuntos de $m$ elementos tiene.\n",
        "\n",
        "Es de gran utilidad en múltiples ramas de la matemática: teoría de números, combinatoria, probabilidades, etc."
      ]
    },
    {
      "cell_type": "markdown",
      "metadata": {
        "id": "SvWktib4U9TY"
      },
      "source": [
        "#### Binomio de Newton:\n",
        "\n",
        "Un resultado muy importante es:\n",
        "\n",
        "$$(a + b)^n = \\sum_{i=0}^n {n \\choose i}a^{n-i}b^i$$"
      ]
    },
    {
      "cell_type": "markdown",
      "metadata": {
        "id": "Bc4cL6cVOwB_"
      },
      "source": [
        "Número combinatorio $n \\choose m$, para $n \\geq 0$ y $0 \\leq m \\leq n$. Se lo puede definir de la siguiente manera:\n",
        "\n",
        "$${n \\choose m} = \\frac{n!}{m! (n-m)!}$$"
      ]
    },
    {
      "cell_type": "markdown",
      "metadata": {
        "id": "IKbziOJ2WYTl"
      },
      "source": [
        "# Triángulo de Pascal:\n",
        "\n",
        "$$\\begin{array}{lcccccccccccccccc}\n",
        "n = 0 & & & & & & & & & 0 \\choose 0 \\\\\n",
        "n = 1 & & & & & & & & 1 \\choose 0 & & 1 \\choose 1 \\\\\n",
        "n = 2 & & & & & & & 2 \\choose 0 & & 2 \\choose 1 & & 2 \\choose 2 \\\\\n",
        "n = 3 & & & & & & 3 \\choose 0 & & 3 \\choose 1 & & 3 \\choose 2 & & 3 \\choose 3\\\\\n",
        "n = 4 & & & & & 4 \\choose 0 & & 4 \\choose 1 & & 4 \\choose 2 & & 4 \\choose 3 & & 4 \\choose 4\\\\\n",
        "n = 5 & & & & 5 \\choose 0 & & 5 \\choose 1 & & 5 \\choose 2 & & 5 \\choose 3 & & 5 \\choose 4 & & 5 \\choose 5\\\\\n",
        "n = 6 & & & 6 \\choose 0 & & 6 \\choose 1 & & 6 \\choose 2 & & 6 \\choose 3 & & 6 \\choose 4 & & 6 \\choose 5 & & 6 \\choose 6\\\\\n",
        "n = 7 & & 7 \\choose 0 & & 7 \\choose 1 & & 7 \\choose 2 & & 7 \\choose 3 & & 7 \\choose 4 & & 7 \\choose 5 & & 7 \\choose 6 & & 7 \\choose 7\n",
        "\\end{array}$$\n",
        "\n"
      ]
    },
    {
      "cell_type": "markdown",
      "metadata": {
        "id": "Y3LzpJ6NThZa"
      },
      "source": [
        "Si reemplazamos cada expresión por su valor, observamos que cada uno de los valores que están en su interior, pueden calcularse como la suma de los dos que se encuentran inmediatamente arriba:\n",
        "\n",
        "$$\\begin{array}{lcccccccccccccccc}\n",
        "n = 0 & & & & & & & & & 1 \\\\\n",
        "n = 1 & & & & & & & & 1 & & 1 \\\\\n",
        "n = 2 & & & & & & & 1 & & 2 & & 1 \\\\\n",
        "n = 3 & & & & & & 1 & & 3 & & 3 & & 1\\\\\n",
        "n = 4 & & & & & 1 & & 4 & & 6 & & 4 & & 1\\\\\n",
        "n = 5 & & & & 1 & & 5 & & 10 & & 10 & & 5 & & 1\\\\\n",
        "n = 6 & & & 1 & & 6 & & 15 & & 20 & & 15 & & 6 & & 1\\\\\n",
        "n = 7 & & 1 & & 7 & & 21 & & 35 & & 35 & & 21 & & 7 & & 1\n",
        "\\end{array}$$\n"
      ]
    },
    {
      "cell_type": "markdown",
      "metadata": {
        "id": "O7F1OBrjT4uF"
      },
      "source": [
        "Fórmula recursiva:\n",
        "\n",
        "*   ${n \\choose 0} = 1$\n",
        "*   ${n \\choose n} = 1$\n",
        "*   ${n \\choose m} = {n - 1 \\choose m - 1} + {n - 1 \\choose m}$, si $m \\not= 0 \\wedge m \\not= n$\n",
        "\n",
        "Estas tres ecuaciones se pueden demostrar matemáticamente.\n",
        "\n",
        "A nosotros nos interesan estas ecuaciones porque podemos tomarlo como una definición recursiva del número combinatorio"
      ]
    },
    {
      "cell_type": "code",
      "metadata": {
        "id": "5trEwKrCXMDp"
      },
      "source": [
        "def combinatorio(n, m: int) -> int:\n",
        "    # pre: n >= 0 and 0 <= m <= n\n",
        "    # post: devuelve el número combinatorio de \"n elementos tomados de a m\"\n",
        "    assert type(n) == type(m) == int and n >= 0 and 0 <= m <= n, 'Error en los parámetros de la función \"combinatorio\"'\n",
        "\n",
        "    if m == 0 or m == n:\n",
        "        res = 1\n",
        "    else:\n",
        "        res = combinatorio(n - 1, m - 1) + combinatorio(n - 1, m)\n",
        "    return res"
      ],
      "execution_count": null,
      "outputs": []
    },
    {
      "cell_type": "code",
      "metadata": {
        "colab": {
          "base_uri": "https://localhost:8080/"
        },
        "id": "KzsEvtMzpof5",
        "outputId": "87feee8b-d6b7-4244-fa94-6707a16a09ea"
      },
      "source": [
        "combinatorio(7,3)"
      ],
      "execution_count": null,
      "outputs": [
        {
          "output_type": "execute_result",
          "data": {
            "text/plain": [
              "35"
            ]
          },
          "metadata": {
            "tags": []
          },
          "execution_count": 41
        }
      ]
    },
    {
      "cell_type": "markdown",
      "metadata": {
        "id": "RuPuSMiWYjnN"
      },
      "source": [
        "# Ordenación rápida (quick sort)"
      ]
    },
    {
      "cell_type": "markdown",
      "metadata": {
        "id": "sNf6YaT_Yp2j"
      },
      "source": [
        "Generemos una lista de palabras al azar:"
      ]
    },
    {
      "cell_type": "code",
      "metadata": {
        "id": "ULK67m_KYs_t"
      },
      "source": [
        "from random import choices, randint\n",
        "\n",
        "LETRAS = 'a b c d e f g h i j k l m n ñ o p q r s t u v w x y z'.split(' ')\n",
        "MAX_PALABRA = 10\n",
        "\n",
        "def palabras_aleatorias(n: int) -> list:\n",
        "    # pre: n >= 0\n",
        "    # post: devuelve una lista aleatoriamente generada de n palabras de longitud 1 a MAX_PALABRA\n",
        "    res = []\n",
        "    for _ in range(n):\n",
        "        longitud = randint(1, MAX_PALABRA)\n",
        "        lista_letras = choices(LETRAS, k = longitud)\n",
        "        palabra = ''.join(lista_letras)\n",
        "        res.append(palabra)\n",
        "    return res"
      ],
      "execution_count": null,
      "outputs": []
    },
    {
      "cell_type": "code",
      "metadata": {
        "id": "GqONOymRa4bj"
      },
      "source": [
        "palabras = palabras_aleatorias(1000)"
      ],
      "execution_count": null,
      "outputs": []
    },
    {
      "cell_type": "code",
      "metadata": {
        "colab": {
          "base_uri": "https://localhost:8080/"
        },
        "id": "4qafepgIsesB",
        "outputId": "939ce85e-5784-471a-9025-e25a252fc23a"
      },
      "source": [
        "print(palabras)"
      ],
      "execution_count": null,
      "outputs": [
        {
          "output_type": "stream",
          "text": [
            "['meqlwñeq', 'kñsjli', 'zjy', 'vrdsñfup', 'sv', 'rcoekiv', 'x', 'sg', 'rowbutdc', 'yvzhsyt', 'yzywdxcñt', 'xlrnñmlñ', 'krwtvdwkb', 'akatxdxen', 'qqylañr', 'ueymxop', 'gz', 'iaxe', 'gvvñwekñ', 'sexhñ', 'gquopññdtz', 'gsfsmb', 'vujgñ', 'noos', 'off', 'jiprehdvk', 'tq', 'iabgbyeyx', 'bjrmkr', 'ugdvde', 'swdos', 'b', 'xzlelr', 'po', 'f', 'zdkwvoz', 'jgl', 'hzme', 'wwlnlzujcñ', 'hyjsntns', 'lqminhr', 'a', 'ñhpolisz', 'esiz', 'pcuszbyoaz', 'hj', 'gaecjvcdgj', 'uik', 'exgn', 'm', 'juleq', 'xfuor', 'ivpfenbj', 'hm', 'dws', 'wod', 'ñkcrppfpz', 'om', 'lyyfsñ', 'duugbnivl', 'utzpskmvs', 'rñn', 'grjthokys', 'ihnarn', 'f', 'qx', 'qnf', 'egsqiafas', 'jr', 'vksk', 'qpg', 'pm', 'oh', 'd', 'oq', 'c', 'mqamxjkf', 'ejyluñf', 'txomk', 'ñnnuvgzx', 'ñx', 'fy', 'kflj', 'efgfqepr', 'ucumñnbysi', 'yxmlt', 'qynhpr', 'a', 'uptsxl', 'b', 'qk', 'sytvpb', 'vcgf', 'hzr', 'laon', 'g', 'kvbxosepqt', 'gyñn', 'ññcoy', 'qcm', 'znln', 'a', 'k', 'nvhltchb', 'ctkg', 'j', 'truss', 'was', 'k', 'n', 'xwjbey', 'fhm', 'gjalj', 'qbtj', 'icye', 'oqwmve', 'hucc', 'rzmjfatcd', 'lñxnmñtg', 'ouvimxzebb', 'czov', 'ccinlczeñh', 'ldw', 'zfbjasuiek', 'vg', 'f', 'gypsmardf', 'ej', 'l', 'mtn', 'fou', 'luyn', 'jlckwa', 'ca', 'iqw', 'tuiru', 'skibhzkf', 'ug', 'rptahupvog', 'c', 'ymñycmyvx', 'spugwkj', 'hhñfg', 'gpqsn', 'uyrzypmx', 'mxufkñaw', 'ycounfwe', 'wxlhjn', 'mqywuupjay', 'byiwam', 'rloqnaspci', 'zb', 'yjtkiñj', 'nc', 'tbvhockyuo', 'ttak', 'jnzmwtwf', 'jldheo', 'ppz', 'my', 'uhgepq', 'lmrlbbyhzt', 'hmrbgjmn', 'olt', 'gtxpsswanj', 'n', 'ug', 'ynokjhljn', 'lygigcet', 'atclxzkh', 'cnwssuzap', 'wqhiwy', 'egpavci', 'gmwt', 'vilx', 'ystnñyf', 'tnñtva', 'gr', 'lbea', 'pñ', 'zimb', 'jbasrktxm', 'rqyvmrwtd', 'esimsbmkr', 'za', 'bi', 'xevxdiskñ', 'lsoluelñuc', 'n', 'qnrpnewkv', 'wsrz', 'idbxe', 'l', 'rn', 'bxrla', 'ntmiñidn', 'oeyñuxñloñ', 'i', 'zbnkkinpu', 'gl', 'mjaitstue', 'rfxuzs', 'puslrjqngp', 'ayjsqryjiw', 'ytfzd', 'expp', 'y', 'znwormkwdd', 'zmezafzbac', 'mnfnrmjqx', 'bxñoyhhx', 'cofwqo', 'se', 'hqymkeg', 'dkoz', 'owwxaobñ', 'igyyqx', 'bmzjqgme', 'v', 'rzksxyx', 'eayeaxlx', 'gziunqbm', 'c', 'gmxwrhgtpv', 'bñuon', 'hy', 'mgtlm', 'k', 'obefodpkp', 'mdhdfm', 'yzxo', 'boko', 'qsvfvwku', 'pmrhlmfzo', 'kcoxmdoxi', 'ytg', 'tfkxlz', 'skxxytfcp', 'bbccfw', 'hicsjia', 'dñprdyr', 'dpbpf', 'qeu', 'qxpet', 'ajhfbsz', 'cxgis', 'upsmcp', 'kbfxja', 'jzty', 'zdlsñop', 'wry', 'ofwoiqppor', 'vjñ', 'lfpnf', 'skodki', 'hl', 'r', 'ltbxwio', 'aaiisedoqo', 'wgcfx', 'qufpq', 'vnpbct', 'vcn', 'elpi', 'yfzmapb', 'ewoxm', 'nzbnnvkzjj', 'ohktvke', 'dhftmocum', 'lz', 'eio', 'kvqc', 'tatxkcul', 'j', 'nony', 'fgquwa', 'yc', 'ekv', 'z', 'izmozfu', 'xypimphruñ', 'hc', 'ywbu', 'aucesl', 'bytj', 'uh', 'aaort', 'v', 'teeñbfyf', 'bcjvñ', 'qge', 'j', 'vvuñzaf', 'frwwhqjc', 'tvxjclly', 'temde', 'udifñk', 'dnliwmm', 'l', 'q', 'ñhjxsy', 'un', 'xqwraecjq', 'aodsvocdd', 'mntsmgbqo', 'buvfñgbd', 'tfta', 'fpdoogwc', 'wvñesbilxu', 'dvonbdh', 'q', 'ekdvnkl', 'z', 'kzqrxnwwie', 'uamrcaqu', 'otñtbcghh', 'zscylrkey', 'prññyza', 'iid', 'tjadox', 'wch', 'tjwhj', 'mgup', 'hvyax', 'isklckvlwb', 'tlnaryxr', 'yeljkño', 'rfnosn', 'qñuzqwopr', 'eggg', 'srystxyhl', 'lwbip', 'wcctktkqav', 'otdib', 'zqlh', 'hgnwz', 'gtmh', 'udcn', 'bsbcpgco', 'g', 'nopuñr', 'yoszofacuu', 'ha', 'ekcpzdwgcg', 'usa', 'pwvibykz', 'azuscfcdjh', 'mq', 'hwob', 'omñññx', 'wn', 'daqvnz', 'uouya', 'udqlzagñ', 'qboy', 'sknlieek', 'gbur', 'jjuxbelst', 'dige', 'cugamf', 'wgitnpe', 'zufoz', 'sapqn', 'lqm', 'ieylf', 'vnan', 'niajsw', 'nrcvbjs', 'bwqi', 'ftcopw', 'ml', 'bslzunfayp', 'mvxy', 's', 'ssb', 'g', 'wydhonet', 'tyj', 'qe', 'aplzi', 'pcsy', 'nukqbzuaek', 'giwota', 'xmgudyñms', 'bbqgydsd', 'ñgjnslrve', 'qax', 'txbnbe', 'bewbabpm', 'hycpzwfbn', 'q', 'xfnbolbca', 'cg', 'ñtyqte', 'bqavfvsf', 'vm', 'xku', 'jwq', 'kooxupxci', 'ecyhihr', 'umreet', 'e', 'sitahuin', 'hzqyñcb', 'lwuew', 'jgieud', 'kwmlxain', 'vdh', 'dfnoel', 'kñbksfleu', 'ei', 'e', 'mxqgxup', 'p', 'mdcqaztgkh', 'h', 'kt', 'korx', 'jdozi', 'vme', 'h', 'ñwqgg', 'ynoxkkj', 'oonñw', 'fupdlxul', 'utñtvm', 'jrg', 'rynt', 'oaoun', 'w', 'aggpgg', 'g', 'z', 'ijy', 'jvwzbogsg', 'añetpyscq', 'rzivj', 'muwi', 'sobgl', 'ash', 'zvexhnisde', 'zebn', 'antgd', 'vvzga', 'ñgdbymhcxr', 'se', 'rwcwgfftlv', 'orgskyhr', 'na', 'yjnuxrj', 'kvaxmyr', 'adwagmmw', 'u', 'lwcnzvñi', 'fbfzailx', 'vsñtabqiha', 'ly', 'uqy', 'h', 'ytlmg', 'jpurug', 'jbe', 'osdgxqm', 'qozwkipl', 'xx', 'efqucrg', 'ghñqagnnx', 'c', 'h', 'axñc', 'es', 'sbzsb', 'v', 'tfftriq', 'kñzzphxnr', 'aigin', 'w', 'yq', 'xtlzl', 'usd', 'ij', 'qgwcg', 'kahrq', 'p', 'c', 'gñoñx', 'kaxiydwxw', 'zlvfen', 'xzqzxyt', 'moylzhptnk', 'dwptpñime', 'nrkñudzxk', 'doxlygix', 'k', 'fit', 'bdjtcmj', 'zrcrb', 'xlaerrqhh', 'wgsd', 'ofx', 'urqvbzenbh', 'fyws', 'pvp', 'lwxqjzwpgl', 'r', 'zellc', 'uphkaq', 't', 'pofibukijv', 'pxwbw', 'lvokdfv', 'qbd', 'tqkknbnfw', 'ja', 'tmlflpz', 'hhnc', 'jvzca', 'tnjydz', 'spvperau', 'quqit', 'btztjchkaa', 'ugqñwtshi', 'rlmceiyz', 'eovñd', 'lñewtfadn', 'tjezqu', 'pñq', 'bqñftvta', 'ivf', 'x', 'hiubkuz', 'klm', 'jmsywdier', 'q', 'nñdlao', 'tdxtcbsvpj', 'x', 'gañlwse', 'oyñwembt', 'eeyq', 'giyyo', 'gmr', 'ñioowye', 'ghmrlozas', 'mypmibk', 'a', 'lhihmki', 'uulgmjn', 'dc', 'lmcnq', 'l', 'w', 'wbkm', 'zpqods', 'gujaabd', 'dqo', 'qfsy', 'ñ', 'tsuw', 'z', 'jl', 'azde', 'ngastaqsp', 'etry', 'njxns', 'uqj', 'qxm', 'alqjo', 'rsrmukas', 's', 'kp', 'ññdpukc', 'vwuol', 'kn', 'nlfiukb', 'ckobpmgsb', 'ñsozdzkmf', 'hzbxnqzrc', 'ñqsqyy', 'yayraxg', 'umzqmcs', 'bbn', 'kzttmxsl', 'a', 'vxejhmgo', 'lxgebemeiz', 'vhy', 'zog', 'yjvmñhapcf', 'shgd', 'skxelnvqg', 'ptqdnyheby', 'do', 'w', 'mhrzbqqh', 'cdfqev', 'esed', 'ypzaltib', 'qsoñieo', 'gch', 'nhkkmscy', 'nzfbyecji', 'pdjmvprf', 'lcñt', 'mphv', 'hdjndi', 'qjqurñ', 'rcu', 'akxikixm', 'ayhswial', 'ljumxys', 'jw', 'ihww', 'qnm', 'dyqlgldxvi', 'aqq', 'ruoñ', 'dabvwqkrh', 'xmm', 'bp', 'tmhypp', 'eqnlmspm', 'efkypwlk', 'ywynphm', 'ptrad', 'flcg', 'wj', 'enuckq', 'pnjw', 'ncmxqkk', 'xylfkjrkli', 'lmehoc', 'tl', 'leu', 'ñmkllqp', 'aczlw', 'edjznh', 'zgñ', 'pej', 'lnza', 'x', 'jathgjgzf', 'ddtwtuluuk', 'btñ', 'ieug', 'vvfexg', 'isaqdsyj', 'qkrctqdfjq', 'ykxapo', 'hew', 'n', 'oebtjg', 'jzfcone', 'he', 'hu', 'rxlesta', 'saxpw', 'tqinbvqe', 'y', 'etjjhuñd', 'd', 'fwd', 'asnw', 'tñwgpfk', 'zugfg', 'yw', 'lñfgn', 'nnudi', 'roelnz', 'ilffjtoq', 'bgjsaae', 'mm', 'hzyqrctm', 'xphvjdzjxa', 'dk', 'tqndcwebbb', 'jcñwxglñt', 'vtos', 'xygq', 'wz', 'rf', 'qjrzutb', 'niabjo', 'fmobdiptñk', 'aqmn', 'ntzpboe', 'pmyb', 'yocsyff', 'opzicq', 'z', 'okdcdk', 'pitikafsnz', 'lpmul', 'zuu', 'liwwkou', 'hfobfivd', 'sdqudr', 'cñsrq', 'manipñ', 'zqnbtnnrnc', 'g', 'v', 'oypufi', 'mipqi', 'yp', 'yxgoolda', 'kkgynpnrgz', 'ekhcrhw', 'wvxule', 'lpegxhn', 'xrom', 'rfosmijr', 'mñvdwhep', 'wwetlcvzk', 'ññcp', 'dmk', 'x', 'edpkpuh', 'jcrjpbq', 'qkvp', 'h', 'pnihoc', 'wpñkuephqe', 'ñ', 'ñciccñ', 'yñq', 'kd', 'wtevdnszwn', 'uuooppqdq', 'gobbz', 'djbvq', 'nñfw', 'qkñqsñx', 'pjpqrpmcsi', 'c', 'r', 'ljlfxrged', 'dlkboyc', 'ucaqefgxrk', 'lyi', 'v', 'odprxuaxii', 'vb', 'jyhsvkqjo', 'ziñ', 'hbelepmwkf', 'jqxdin', 'wwmwl', 's', 'vuvxwñnooi', 'bufnrji', 'ñw', 'yt', 'qfp', 'bcchkgñ', 'v', 'afhsbhglkm', 'hqtrzscshl', 'obuñ', 'lsruak', 'ziue', 'yñjbh', 'onekuñgafn', 'hmjscyjq', 'kus', 'wspaq', 'm', 'dkj', 'mhcyu', 'aoeyñah', 's', 'supicfsau', 'ahngxkn', 'xrkcñvbel', 'miñq', 'dnagjk', 'tsnjd', 'enyxlih', 'irmfvx', 'euiggor', 'lhpumñaxhu', 'rñjkñh', 'ecxc', 'vwoalpbx', 'j', 'jhtni', 'wtmc', 'zjfrczq', 'edf', 'qxhxpru', 'oktrz', 'ynrzyvjqhk', 'tadurywowñ', 'ynpun', 'ffxkgwjxb', 'sxn', 'cpo', 'rñnmq', 'brj', 'zheie', 'yboj', 'hgpnñjñq', 'ljwoivgtq', 'lis', 'ñlqmwrp', 'ñfrz', 'vagamk', 'd', 'mortiowñd', 'ulzlpkqf', 'ht', 'ct', 'wplyñ', 'f', 'ivñkuv', 'thecqanjux', 'yk', 'qahhbqkdz', 'dsñnmxuc', 'qytñv', 'mg', 'nit', 'sñojdak', 'xxqgh', 'cdtly', 'fijk', 't', 'ññ', 'kzjcbc', 'vr', 'uqyh', 'ira', 'ñznpmñzmsl', 'o', 'gckympzcun', 'jhrkeeht', 'pjzglñxca', 'pj', 'qlresuv', 'o', 'qsmk', 'wpsmnzihbn', 'ytjbop', 'utstvd', 'oten', 'nlqvinjic', 'op', 'vn', 'xupc', 'gntjwkñuzñ', 'qd', 'wo', 'yvbyeop', 'fe', 'rvwrcñaeeñ', 'i', 'rvzajil', 'qtsnn', 'sw', 'qfq', 'vnieeañbtd', 'wfqsejftaf', 'czstwo', 'xko', 'dhinah', 'pgolxnl', 'n', 'njataet', 'ztqwgc', 'ilhcñpj', 'ñeddlyduc', 'tgvu', 'nh', 'bmzvvcbbh', 'zvtklmak', 'vrnautuf', 'pjm', 'idsnkñgkn', 'qywtrzjjjd', 'ipyjixxa', 'ameoñac', 'mv', 'tavnj', 'ttuojjsnd', 'yzhmaqg', 'ytndtdk', 'sblyd', 'qi', 'khhnrzb', 'qnñxnhss', 'vrn', 'frkt', 'ieint', 'sibok', 'rcqfjpa', 'jvq', 'ayviehi', 'weov', 'rsu', 'gitpjl', 'wub', 't', 'qwturgañ', 'wnhbttblj', 'mydqrlh', 'onekneeylz', 'tca', 'uhzexl', 'htcnf', 'ñkwbddom', 'ilñ', 'rwkv', 'ecskqgafq', 'lpbqtu', 'zf', 'añdrer', 'ayuojaraq', 'nveosovy', 'ltaalt', 'xnmlaxpbz', 'nddq', 'r', 'faeq', 'pvoñf', 'hrnrdm', 'hrndoalu', 'ñkxitñh', 'affy', 'jkwor', 'zksl', 'mbyzfix', 'i', 'xotzpsfdc', 'sjgenhol', 'kkadd', 'ueoby', 'zdlmm', 's', 'bfd', 'zyi', 'iglj', 'djkevo', 'ui', 'ñhxiña', 'nfbzln', 'veldrxei', 'fdnr', 'lnilzñcihh', 'bnñwjbfxdm', 'jwvlxlha', 'm', 'meñxññrp', 'ñtone', 'hzrhñu', 'kjkn', 'mpxjc', 'vzsnoug', 'rqn', 'ppn', 'tvtpr', 'kgaqspyqz', 'aiyifvuz', 'kjoaqo', 'zqeeuñbyp', 'w', 'ñvufzzki', 'n', 'dzbk', 'jcklv', 'ix', 'ekrpf', 'dogflñpxxs', 'qlwsabtb', 'vodrmn', 'ññqpajyivr', 'hñnoorv', 'nuk', 'rdmtvpetñ', 'jqnkkvzf', 'ivxo', 'daade', 'hjhxbs', 'urtizqcrvu', 'kzo', 'wbmkwtg', 'bfñk', 'rfcm', 'hitxupqyvm', 'fpzbocspr', 'prq', 'wtsco', 'yrqviñxvc', 'fhzye', 'awxlpy', 'irjo', 'hjju', 'yn', 'uwñtetta', 'mpj', 'czruuarbmm']\n"
          ],
          "name": "stdout"
        }
      ]
    },
    {
      "cell_type": "code",
      "metadata": {
        "id": "tnn6kAqZs_mV"
      },
      "source": [
        "def swap(lista, n, m):\n",
        "    lista[n], lista[m] = lista[m], lista[n]\n",
        "\n",
        "def separar(lista: list, desde, hasta: int) -> int:\n",
        "    pivote = lista[desde]\n",
        "    i, j = desde + 1, hasta\n",
        "    while i <= j:\n",
        "        if lista[i] <= pivote:\n",
        "            i = i + 1\n",
        "        elif lista[j] > pivote:\n",
        "            j = j - 1\n",
        "        else:\n",
        "            swap(lista, i, j)\n",
        "            i = i + 1\n",
        "            j = j - 1\n",
        "    swap(lista, desde, j)\n",
        "    return j\n",
        "\n",
        "def ordenacion_rapida_rec(lista: list, desde, hasta: int):\n",
        "    # pre: 0 <= desde < len(lista) and 0 <= hasta < len(lista)\n",
        "    if desde < hasta:\n",
        "        i_pivote = separar(lista, desde, hasta)\n",
        "        ordenacion_rapida_rec(lista, desde, i_pivote - 1)\n",
        "        ordenacion_rapida_rec(lista, i_pivote + 1, hasta)\n",
        "\n",
        "def ordenacion_rapida(lista: list):\n",
        "    ordenacion_rapida_rec(lista, 0, len(lista) - 1)\n"
      ],
      "execution_count": null,
      "outputs": []
    },
    {
      "cell_type": "code",
      "metadata": {
        "id": "V-Ij80bmxSVk"
      },
      "source": [
        "ordenacion_rapida(palabras)"
      ],
      "execution_count": null,
      "outputs": []
    },
    {
      "cell_type": "code",
      "metadata": {
        "colab": {
          "base_uri": "https://localhost:8080/"
        },
        "id": "kDREKNwdxXDO",
        "outputId": "94d2f578-0c2b-418d-e61b-dd5d9e28fb15"
      },
      "source": [
        "print(palabras)"
      ],
      "execution_count": null,
      "outputs": [
        {
          "output_type": "stream",
          "text": [
            "['a', 'a', 'a', 'a', 'a', 'aaiisedoqo', 'aaort', 'aczlw', 'adwagmmw', 'affy', 'afhsbhglkm', 'aggpgg', 'ahngxkn', 'aigin', 'aiyifvuz', 'ajhfbsz', 'akatxdxen', 'akxikixm', 'alqjo', 'ameoñac', 'antgd', 'aodsvocdd', 'aoeyñah', 'aplzi', 'aqmn', 'aqq', 'ash', 'asnw', 'atclxzkh', 'aucesl', 'awxlpy', 'axñc', 'ayhswial', 'ayjsqryjiw', 'ayuojaraq', 'ayviehi', 'azde', 'azuscfcdjh', 'añdrer', 'añetpyscq', 'b', 'b', 'bbccfw', 'bbn', 'bbqgydsd', 'bcchkgñ', 'bcjvñ', 'bdjtcmj', 'bewbabpm', 'bfd', 'bfñk', 'bgjsaae', 'bi', 'bjrmkr', 'bmzjqgme', 'bmzvvcbbh', 'bnñwjbfxdm', 'boko', 'bp', 'bqavfvsf', 'bqñftvta', 'brj', 'bsbcpgco', 'bslzunfayp', 'btztjchkaa', 'btñ', 'bufnrji', 'buvfñgbd', 'bwqi', 'bxrla', 'bxñoyhhx', 'byiwam', 'bytj', 'bñuon', 'c', 'c', 'c', 'c', 'c', 'c', 'ca', 'ccinlczeñh', 'cdfqev', 'cdtly', 'cg', 'ckobpmgsb', 'cnwssuzap', 'cofwqo', 'cpo', 'ct', 'ctkg', 'cugamf', 'cxgis', 'czov', 'czruuarbmm', 'czstwo', 'cñsrq', 'd', 'd', 'd', 'daade', 'dabvwqkrh', 'daqvnz', 'dc', 'ddtwtuluuk', 'dfnoel', 'dhftmocum', 'dhinah', 'dige', 'djbvq', 'djkevo', 'dk', 'dkj', 'dkoz', 'dlkboyc', 'dmk', 'dnagjk', 'dnliwmm', 'do', 'dogflñpxxs', 'doxlygix', 'dpbpf', 'dqo', 'dsñnmxuc', 'duugbnivl', 'dvonbdh', 'dwptpñime', 'dws', 'dyqlgldxvi', 'dzbk', 'dñprdyr', 'e', 'e', 'eayeaxlx', 'ecskqgafq', 'ecxc', 'ecyhihr', 'edf', 'edjznh', 'edpkpuh', 'eeyq', 'efgfqepr', 'efkypwlk', 'efqucrg', 'eggg', 'egpavci', 'egsqiafas', 'ei', 'eio', 'ej', 'ejyluñf', 'ekcpzdwgcg', 'ekdvnkl', 'ekhcrhw', 'ekrpf', 'ekv', 'elpi', 'enuckq', 'enyxlih', 'eovñd', 'eqnlmspm', 'es', 'esed', 'esimsbmkr', 'esiz', 'etjjhuñd', 'etry', 'euiggor', 'ewoxm', 'exgn', 'expp', 'f', 'f', 'f', 'f', 'faeq', 'fbfzailx', 'fdnr', 'fe', 'ffxkgwjxb', 'fgquwa', 'fhm', 'fhzye', 'fijk', 'fit', 'flcg', 'fmobdiptñk', 'fou', 'fpdoogwc', 'fpzbocspr', 'frkt', 'frwwhqjc', 'ftcopw', 'fupdlxul', 'fwd', 'fy', 'fyws', 'g', 'g', 'g', 'g', 'g', 'gaecjvcdgj', 'gañlwse', 'gbur', 'gch', 'gckympzcun', 'ghmrlozas', 'ghñqagnnx', 'gitpjl', 'giwota', 'giyyo', 'gjalj', 'gl', 'gmr', 'gmwt', 'gmxwrhgtpv', 'gntjwkñuzñ', 'gobbz', 'gpqsn', 'gquopññdtz', 'gr', 'grjthokys', 'gsfsmb', 'gtmh', 'gtxpsswanj', 'gujaabd', 'gvvñwekñ', 'gypsmardf', 'gyñn', 'gz', 'gziunqbm', 'gñoñx', 'h', 'h', 'h', 'h', 'h', 'ha', 'hbelepmwkf', 'hc', 'hdjndi', 'he', 'hew', 'hfobfivd', 'hgnwz', 'hgpnñjñq', 'hhnc', 'hhñfg', 'hicsjia', 'hitxupqyvm', 'hiubkuz', 'hj', 'hjhxbs', 'hjju', 'hl', 'hm', 'hmjscyjq', 'hmrbgjmn', 'hqtrzscshl', 'hqymkeg', 'hrndoalu', 'hrnrdm', 'ht', 'htcnf', 'hu', 'hucc', 'hvyax', 'hwob', 'hy', 'hycpzwfbn', 'hyjsntns', 'hzbxnqzrc', 'hzme', 'hzqyñcb', 'hzr', 'hzrhñu', 'hzyqrctm', 'hñnoorv', 'i', 'i', 'i', 'iabgbyeyx', 'iaxe', 'icye', 'idbxe', 'idsnkñgkn', 'ieint', 'ieug', 'ieylf', 'iglj', 'igyyqx', 'ihnarn', 'ihww', 'iid', 'ij', 'ijy', 'ilffjtoq', 'ilhcñpj', 'ilñ', 'ipyjixxa', 'iqw', 'ira', 'irjo', 'irmfvx', 'isaqdsyj', 'isklckvlwb', 'ivf', 'ivpfenbj', 'ivxo', 'ivñkuv', 'ix', 'izmozfu', 'j', 'j', 'j', 'j', 'ja', 'jathgjgzf', 'jbasrktxm', 'jbe', 'jcklv', 'jcrjpbq', 'jcñwxglñt', 'jdozi', 'jgieud', 'jgl', 'jhrkeeht', 'jhtni', 'jiprehdvk', 'jjuxbelst', 'jkwor', 'jl', 'jlckwa', 'jldheo', 'jmsywdier', 'jnzmwtwf', 'jpurug', 'jqnkkvzf', 'jqxdin', 'jr', 'jrg', 'juleq', 'jvq', 'jvwzbogsg', 'jvzca', 'jw', 'jwq', 'jwvlxlha', 'jyhsvkqjo', 'jzfcone', 'jzty', 'k', 'k', 'k', 'k', 'kahrq', 'kaxiydwxw', 'kbfxja', 'kcoxmdoxi', 'kd', 'kflj', 'kgaqspyqz', 'khhnrzb', 'kjkn', 'kjoaqo', 'kkadd', 'kkgynpnrgz', 'klm', 'kn', 'kooxupxci', 'korx', 'kp', 'krwtvdwkb', 'kt', 'kus', 'kvaxmyr', 'kvbxosepqt', 'kvqc', 'kwmlxain', 'kzjcbc', 'kzo', 'kzqrxnwwie', 'kzttmxsl', 'kñbksfleu', 'kñsjli', 'kñzzphxnr', 'l', 'l', 'l', 'l', 'laon', 'lbea', 'lcñt', 'ldw', 'leu', 'lfpnf', 'lhihmki', 'lhpumñaxhu', 'lis', 'liwwkou', 'ljlfxrged', 'ljumxys', 'ljwoivgtq', 'lmcnq', 'lmehoc', 'lmrlbbyhzt', 'lnilzñcihh', 'lnza', 'lpbqtu', 'lpegxhn', 'lpmul', 'lqm', 'lqminhr', 'lsoluelñuc', 'lsruak', 'ltaalt', 'ltbxwio', 'luyn', 'lvokdfv', 'lwbip', 'lwcnzvñi', 'lwuew', 'lwxqjzwpgl', 'lxgebemeiz', 'ly', 'lygigcet', 'lyi', 'lyyfsñ', 'lz', 'lñewtfadn', 'lñfgn', 'lñxnmñtg', 'm', 'm', 'm', 'manipñ', 'mbyzfix', 'mdcqaztgkh', 'mdhdfm', 'meqlwñeq', 'meñxññrp', 'mg', 'mgtlm', 'mgup', 'mhcyu', 'mhrzbqqh', 'mipqi', 'miñq', 'mjaitstue', 'ml', 'mm', 'mnfnrmjqx', 'mntsmgbqo', 'mortiowñd', 'moylzhptnk', 'mphv', 'mpj', 'mpxjc', 'mq', 'mqamxjkf', 'mqywuupjay', 'mtn', 'muwi', 'mv', 'mvxy', 'mxqgxup', 'mxufkñaw', 'my', 'mydqrlh', 'mypmibk', 'mñvdwhep', 'n', 'n', 'n', 'n', 'n', 'n', 'na', 'nc', 'ncmxqkk', 'nddq', 'nfbzln', 'ngastaqsp', 'nh', 'nhkkmscy', 'niabjo', 'niajsw', 'nit', 'njataet', 'njxns', 'nlfiukb', 'nlqvinjic', 'nnudi', 'nony', 'noos', 'nopuñr', 'nrcvbjs', 'nrkñudzxk', 'ntmiñidn', 'ntzpboe', 'nuk', 'nukqbzuaek', 'nveosovy', 'nvhltchb', 'nzbnnvkzjj', 'nzfbyecji', 'nñdlao', 'nñfw', 'o', 'o', 'oaoun', 'obefodpkp', 'obuñ', 'odprxuaxii', 'oebtjg', 'oeyñuxñloñ', 'off', 'ofwoiqppor', 'ofx', 'oh', 'ohktvke', 'okdcdk', 'oktrz', 'olt', 'om', 'omñññx', 'onekneeylz', 'onekuñgafn', 'oonñw', 'op', 'opzicq', 'oq', 'oqwmve', 'orgskyhr', 'osdgxqm', 'otdib', 'oten', 'otñtbcghh', 'ouvimxzebb', 'owwxaobñ', 'oypufi', 'oyñwembt', 'p', 'p', 'pcsy', 'pcuszbyoaz', 'pdjmvprf', 'pej', 'pgolxnl', 'pitikafsnz', 'pj', 'pjm', 'pjpqrpmcsi', 'pjzglñxca', 'pm', 'pmrhlmfzo', 'pmyb', 'pnihoc', 'pnjw', 'po', 'pofibukijv', 'ppn', 'ppz', 'prq', 'prññyza', 'ptqdnyheby', 'ptrad', 'puslrjqngp', 'pvoñf', 'pvp', 'pwvibykz', 'pxwbw', 'pñ', 'pñq', 'q', 'q', 'q', 'q', 'qahhbqkdz', 'qax', 'qbd', 'qboy', 'qbtj', 'qcm', 'qd', 'qe', 'qeu', 'qfp', 'qfq', 'qfsy', 'qge', 'qgwcg', 'qi', 'qjqurñ', 'qjrzutb', 'qk', 'qkrctqdfjq', 'qkvp', 'qkñqsñx', 'qlresuv', 'qlwsabtb', 'qnf', 'qnm', 'qnrpnewkv', 'qnñxnhss', 'qozwkipl', 'qpg', 'qqylañr', 'qsmk', 'qsoñieo', 'qsvfvwku', 'qtsnn', 'qufpq', 'quqit', 'qwturgañ', 'qx', 'qxhxpru', 'qxm', 'qxpet', 'qynhpr', 'qytñv', 'qywtrzjjjd', 'qñuzqwopr', 'r', 'r', 'r', 'r', 'rcoekiv', 'rcqfjpa', 'rcu', 'rdmtvpetñ', 'rf', 'rfcm', 'rfnosn', 'rfosmijr', 'rfxuzs', 'rlmceiyz', 'rloqnaspci', 'rn', 'roelnz', 'rowbutdc', 'rptahupvog', 'rqn', 'rqyvmrwtd', 'rsrmukas', 'rsu', 'ruoñ', 'rvwrcñaeeñ', 'rvzajil', 'rwcwgfftlv', 'rwkv', 'rxlesta', 'rynt', 'rzivj', 'rzksxyx', 'rzmjfatcd', 'rñjkñh', 'rñn', 'rñnmq', 's', 's', 's', 's', 's', 'sapqn', 'saxpw', 'sblyd', 'sbzsb', 'sdqudr', 'se', 'se', 'sexhñ', 'sg', 'shgd', 'sibok', 'sitahuin', 'sjgenhol', 'skibhzkf', 'sknlieek', 'skodki', 'skxelnvqg', 'skxxytfcp', 'sobgl', 'spugwkj', 'spvperau', 'srystxyhl', 'ssb', 'supicfsau', 'sv', 'sw', 'swdos', 'sxn', 'sytvpb', 'sñojdak', 't', 't', 't', 'tadurywowñ', 'tatxkcul', 'tavnj', 'tbvhockyuo', 'tca', 'tdxtcbsvpj', 'teeñbfyf', 'temde', 'tfftriq', 'tfkxlz', 'tfta', 'tgvu', 'thecqanjux', 'tjadox', 'tjezqu', 'tjwhj', 'tl', 'tlnaryxr', 'tmhypp', 'tmlflpz', 'tnjydz', 'tnñtva', 'tq', 'tqinbvqe', 'tqkknbnfw', 'tqndcwebbb', 'truss', 'tsnjd', 'tsuw', 'ttak', 'ttuojjsnd', 'tuiru', 'tvtpr', 'tvxjclly', 'txbnbe', 'txomk', 'tyj', 'tñwgpfk', 'u', 'uamrcaqu', 'ucaqefgxrk', 'ucumñnbysi', 'udcn', 'udifñk', 'udqlzagñ', 'ueoby', 'ueymxop', 'ug', 'ug', 'ugdvde', 'ugqñwtshi', 'uh', 'uhgepq', 'uhzexl', 'ui', 'uik', 'ulzlpkqf', 'umreet', 'umzqmcs', 'un', 'uouya', 'uphkaq', 'upsmcp', 'uptsxl', 'uqj', 'uqy', 'uqyh', 'urqvbzenbh', 'urtizqcrvu', 'usa', 'usd', 'utstvd', 'utzpskmvs', 'utñtvm', 'uulgmjn', 'uuooppqdq', 'uwñtetta', 'uyrzypmx', 'v', 'v', 'v', 'v', 'v', 'v', 'vagamk', 'vb', 'vcgf', 'vcn', 'vdh', 'veldrxei', 'vg', 'vhy', 'vilx', 'vjñ', 'vksk', 'vm', 'vme', 'vn', 'vnan', 'vnieeañbtd', 'vnpbct', 'vodrmn', 'vr', 'vrdsñfup', 'vrn', 'vrnautuf', 'vsñtabqiha', 'vtos', 'vujgñ', 'vuvxwñnooi', 'vvfexg', 'vvuñzaf', 'vvzga', 'vwoalpbx', 'vwuol', 'vxejhmgo', 'vzsnoug', 'w', 'w', 'w', 'w', 'w', 'was', 'wbkm', 'wbmkwtg', 'wcctktkqav', 'wch', 'weov', 'wfqsejftaf', 'wgcfx', 'wgitnpe', 'wgsd', 'wj', 'wn', 'wnhbttblj', 'wo', 'wod', 'wplyñ', 'wpsmnzihbn', 'wpñkuephqe', 'wqhiwy', 'wry', 'wspaq', 'wsrz', 'wtevdnszwn', 'wtmc', 'wtsco', 'wub', 'wvxule', 'wvñesbilxu', 'wwetlcvzk', 'wwlnlzujcñ', 'wwmwl', 'wxlhjn', 'wydhonet', 'wz', 'x', 'x', 'x', 'x', 'x', 'xevxdiskñ', 'xfnbolbca', 'xfuor', 'xko', 'xku', 'xlaerrqhh', 'xlrnñmlñ', 'xmgudyñms', 'xmm', 'xnmlaxpbz', 'xotzpsfdc', 'xphvjdzjxa', 'xqwraecjq', 'xrkcñvbel', 'xrom', 'xtlzl', 'xupc', 'xwjbey', 'xx', 'xxqgh', 'xygq', 'xylfkjrkli', 'xypimphruñ', 'xzlelr', 'xzqzxyt', 'y', 'y', 'yayraxg', 'yboj', 'yc', 'ycounfwe', 'yeljkño', 'yfzmapb', 'yjnuxrj', 'yjtkiñj', 'yjvmñhapcf', 'yk', 'ykxapo', 'ymñycmyvx', 'yn', 'ynokjhljn', 'ynoxkkj', 'ynpun', 'ynrzyvjqhk', 'yocsyff', 'yoszofacuu', 'yp', 'ypzaltib', 'yq', 'yrqviñxvc', 'ystnñyf', 'yt', 'ytfzd', 'ytg', 'ytjbop', 'ytlmg', 'ytndtdk', 'yvbyeop', 'yvzhsyt', 'yw', 'ywbu', 'ywynphm', 'yxgoolda', 'yxmlt', 'yzhmaqg', 'yzxo', 'yzywdxcñt', 'yñjbh', 'yñq', 'z', 'z', 'z', 'z', 'z', 'za', 'zb', 'zbnkkinpu', 'zdkwvoz', 'zdlmm', 'zdlsñop', 'zebn', 'zellc', 'zf', 'zfbjasuiek', 'zgñ', 'zheie', 'zimb', 'ziue', 'ziñ', 'zjfrczq', 'zjy', 'zksl', 'zlvfen', 'zmezafzbac', 'znln', 'znwormkwdd', 'zog', 'zpqods', 'zqeeuñbyp', 'zqlh', 'zqnbtnnrnc', 'zrcrb', 'zscylrkey', 'ztqwgc', 'zufoz', 'zugfg', 'zuu', 'zvexhnisde', 'zvtklmak', 'zyi', 'ñ', 'ñ', 'ñciccñ', 'ñeddlyduc', 'ñfrz', 'ñgdbymhcxr', 'ñgjnslrve', 'ñhjxsy', 'ñhpolisz', 'ñhxiña', 'ñioowye', 'ñkcrppfpz', 'ñkwbddom', 'ñkxitñh', 'ñlqmwrp', 'ñmkllqp', 'ñnnuvgzx', 'ñqsqyy', 'ñsozdzkmf', 'ñtone', 'ñtyqte', 'ñvufzzki', 'ñw', 'ñwqgg', 'ñx', 'ñznpmñzmsl', 'ññ', 'ññcoy', 'ññcp', 'ññdpukc', 'ññqpajyivr']\n"
          ],
          "name": "stdout"
        }
      ]
    }
  ]
}