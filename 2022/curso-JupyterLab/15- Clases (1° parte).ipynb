{
  "cells": [
    {
      "cell_type": "markdown",
      "metadata": {
        "id": "8L6Rn79DPQgi"
      },
      "source": [
        "# Clases (1° parte)\n",
        "\n",
        "Una clase permite trabajar con un conjunto de objetos que comparten características. "
      ]
    }
  ],
  "metadata": {
    "colab": {
      "authorship_tag": "ABX9TyOJ+miEy7R4RZ2rRU1rv3/5",
      "include_colab_link": true,
      "name": "Clase práctica 03-11-21.ipynb",
      "provenance": []
    },
    "kernelspec": {
      "display_name": "Python 3",
      "name": "python3"
    },
    "language_info": {
      "name": "python"
    }
  },
  "nbformat": 4,
  "nbformat_minor": 0
}
