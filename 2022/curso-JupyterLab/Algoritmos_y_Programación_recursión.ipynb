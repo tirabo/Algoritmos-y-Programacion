{
  "nbformat": 4,
  "nbformat_minor": 0,
  "metadata": {
    "colab": {
      "name": "Algoritmos y Programación recursión.ipynb",
      "provenance": [],
      "collapsed_sections": [],
      "include_colab_link": true
    },
    "kernelspec": {
      "name": "python3",
      "display_name": "Python 3"
    },
    "language_info": {
      "name": "python"
    }
  },
  "cells": [
    {
      "cell_type": "markdown",
      "metadata": {
        "id": "view-in-github",
        "colab_type": "text"
      },
      "source": [
        "<a href=\"https://colab.research.google.com/github/tirabo/Algoritmos-y-Programacion/blob/main/Algoritmos_y_Programaci%C3%B3n_recursi%C3%B3n.ipynb\" target=\"_parent\"><img src=\"https://colab.research.google.com/assets/colab-badge.svg\" alt=\"Open In Colab\"/></a>"
      ]
    },
    {
      "cell_type": "markdown",
      "metadata": {
        "id": "1986cj15yw2x"
      },
      "source": [
        "### Recursión\n",
        "\n",
        "Definir una función por recursión es un concepto muy similar al de realizar una prueba por inducción. Una función definida por recursión debe:\n",
        "\n",
        "*   determinar el valor deseado para **el caso base** (o los casos base), por ejemplo, para `n == 0` o `n == 1`.\n",
        "*   determinar la manera de calcular el valor para `n` conociendo el valor de la función para `n-1` (o para todos los valores menores a `n`, en este último caso se parece a inducción completa)."
      ]
    },
    {
      "cell_type": "markdown",
      "metadata": {
        "id": "80tXgDEr0kdM"
      },
      "source": [
        "Ejemplo de definición recursiva: función factorial.\n",
        "\n",
        "Hemos visto una manera iterativa de definir la función factorial:"
      ]
    },
    {
      "cell_type": "code",
      "metadata": {
        "id": "lAglmA6e0s1e"
      },
      "source": [
        "def factorial(n: int) -> int:\n",
        "    # pre: n >= 0\n",
        "    # post: devuelve el valor de 1 * 2 * 3 * ... * (n-1) * n\n",
        "    res = 1\n",
        "    for i in range(2, n+1):\n",
        "        res = res * i\n",
        "    return res"
      ],
      "execution_count": null,
      "outputs": []
    },
    {
      "cell_type": "code",
      "metadata": {
        "colab": {
          "base_uri": "https://localhost:8080/"
        },
        "id": "7t7wX_49XyQh",
        "outputId": "3584eee5-2dd0-48ee-9508-cd9ef987b7e8"
      },
      "source": [
        "print(factorial(5))"
      ],
      "execution_count": null,
      "outputs": [
        {
          "output_type": "stream",
          "name": "stdout",
          "text": [
            "120\n"
          ]
        }
      ]
    },
    {
      "cell_type": "markdown",
      "metadata": {
        "id": "QrE7zfXM1IF0"
      },
      "source": [
        "También se puede definir por recursión, valiéndonos de que sabemos:\n",
        "\n",
        "\n",
        "*   $0! = 1$\n",
        "*   $n! = n * (n-1)!$, si $n > 0$"
      ]
    },
    {
      "cell_type": "code",
      "metadata": {
        "id": "JBKnV0O01dF9"
      },
      "source": [
        "def factorial(n: int) -> int:\n",
        "    # pre: n >= 0\n",
        "    # post: devuelve el valor de 1 * 2 * 3 * ... * (n-1) * n\n",
        "    if n == 0:\n",
        "        return 1\n",
        "    else:\n",
        "        return n * factorial(n - 1)"
      ],
      "execution_count": null,
      "outputs": []
    },
    {
      "cell_type": "code",
      "metadata": {
        "id": "BB-MqWbQ1uVC"
      },
      "source": [
        "def factorial(n: int) -> int:\n",
        "    # pre: n >= 0\n",
        "    # post: devuelve el valor de 1 * 2 * 3 * ... * (n-1) * n\n",
        "    if n == 0:\n",
        "        res = 1\n",
        "    else:\n",
        "        res = n * factorial(n - 1)\n",
        "    return res"
      ],
      "execution_count": null,
      "outputs": []
    },
    {
      "cell_type": "markdown",
      "metadata": {
        "id": "4VcwoKuDeU42"
      },
      "source": [
        "Corrección: para todo `n` entero no negativo, `factorial(n) == n!`.\n",
        "\n",
        "¿Cómo lo podemos demostrar?\n",
        "Por inducción en `n`:\n",
        "\n",
        "caso base: `n == 0`. `factorial(n) == factorial(0) == 1 == 0! == n!`\n",
        "\n",
        "paso inductivo: asumimos que `factorial(n) == n!`. Probemos que `factorial(n+1) == (n+1)!`:\n",
        "\n",
        "`factorial(n+1) == (n+1) * factorial(n + 1 - 1) == (n+1) * factorial(n) == (n+1) * n! == (n+1)!`\n",
        "\n",
        "QED"
      ]
    },
    {
      "cell_type": "code",
      "metadata": {
        "id": "lC7vT0-MeCYI"
      },
      "source": [
        "print(factorial(4))\n",
        "# print(factorial(-3))"
      ],
      "execution_count": null,
      "outputs": []
    },
    {
      "cell_type": "markdown",
      "metadata": {
        "id": "l8sO0v1YAv-P"
      },
      "source": [
        "Otro ejemplo: potencia de un número.\n",
        "\n",
        "\n",
        "\n",
        "*   $a^0 = 1$\n",
        "*   $a^n = a * a^{n-1}$, si $n > 0$\n",
        "\n"
      ]
    },
    {
      "cell_type": "code",
      "metadata": {
        "id": "4PvjlzMrCN9P"
      },
      "source": [
        "def potencia(a, n: int) -> int:\n",
        "    # pre: n >= 0\n",
        "    # post: devuelve el valor de a * a * a * ... * a * a , n veces\n",
        "    if n == 0:\n",
        "        res = 1\n",
        "    else:\n",
        "        res = a * potencia(a, n-1)\n",
        "    return res"
      ],
      "execution_count": null,
      "outputs": []
    },
    {
      "cell_type": "code",
      "metadata": {
        "colab": {
          "base_uri": "https://localhost:8080/"
        },
        "id": "9fDTFd6xg4JW",
        "outputId": "597b37e1-a9f9-49c0-cbdf-7998c36f437b"
      },
      "source": [
        "print(potencia(2,50))"
      ],
      "execution_count": null,
      "outputs": [
        {
          "output_type": "stream",
          "name": "stdout",
          "text": [
            "1125899906842624\n"
          ]
        }
      ]
    },
    {
      "cell_type": "code",
      "metadata": {
        "colab": {
          "base_uri": "https://localhost:8080/"
        },
        "id": "QNcyfRDr0ISE",
        "outputId": "114279d8-138d-4cc6-dd5a-fa00c58809e3"
      },
      "source": [
        "tmp = potencia(2,25)\n",
        "print(tmp*tmp)"
      ],
      "execution_count": null,
      "outputs": [
        {
          "output_type": "stream",
          "name": "stdout",
          "text": [
            "1125899906842624\n"
          ]
        }
      ]
    },
    {
      "cell_type": "markdown",
      "metadata": {
        "id": "mHUWsfUCCve3"
      },
      "source": [
        "Versión optimizada. Otro ejemplo: potencia de un número.\n",
        "\n",
        "\n",
        "\n",
        "*   $a^0 = 1$\n",
        "*   $a^n = a * a^{n-1}$, si $n > 0$, $n$ impar.\n",
        "*   $a^n = {(a^{\\frac{n}{2}})}^2$, si $n > 0$, $n$ par.\n",
        "\n"
      ]
    },
    {
      "cell_type": "code",
      "metadata": {
        "id": "fa8JqFCxCmJ-"
      },
      "source": [
        "def potencia(a, n: int) -> int:\n",
        "    # pre: n >= 0\n",
        "    # post: devuelve el valor de a * a * a * ... * a * a , n veces\n",
        "    if n == 0:\n",
        "        res = 1\n",
        "    elif n % 2 == 1:\n",
        "        res = a * potencia(a, n-1)\n",
        "    else:\n",
        "        res = potencia(a, n // 2)\n",
        "        res = res * res\n",
        "    return res"
      ],
      "execution_count": null,
      "outputs": []
    },
    {
      "cell_type": "markdown",
      "metadata": {
        "id": "0O0EbBBYo_7A"
      },
      "source": [
        ""
      ]
    },
    {
      "cell_type": "markdown",
      "metadata": {
        "id": "EJwra_cdfAHy"
      },
      "source": [
        "Sucesión de Fibonacci:\n",
        "\n",
        "0, 1, 1, 2, 3, 5, 8, 13\n",
        "\n",
        "\n",
        "*   $a_0 = 0$\n",
        "*   $a_1 = 1$\n",
        "*   $a_n = a_{n-1} + a_{n-2}$ si $n > 1$\n",
        "\n"
      ]
    },
    {
      "cell_type": "code",
      "metadata": {
        "id": "Z-D3k92RX9DF"
      },
      "source": [
        "def fib(n: int) -> int:\n",
        "    # pre: n >= 0\n",
        "    # post: devuelve el n-ésimo término de la sucesión de Fibonacci\n",
        "    assert type(n) == int and n >= 0\n",
        "    if n <= 1:\n",
        "        res = n\n",
        "    else:\n",
        "        res = fib(n-1) + fib(n-2)\n",
        "    return res"
      ],
      "execution_count": null,
      "outputs": []
    },
    {
      "cell_type": "code",
      "metadata": {
        "colab": {
          "base_uri": "https://localhost:8080/"
        },
        "id": "CsezItWN327m",
        "outputId": "1d4f5809-7bc1-4f02-ca07-729c7ba59144"
      },
      "source": [
        "print(fib_iter(500))"
      ],
      "execution_count": null,
      "outputs": [
        {
          "output_type": "stream",
          "name": "stdout",
          "text": [
            "139423224561697880139724382870407283950070256587697307264108962948325571622863290691557658876222521294125\n"
          ]
        }
      ]
    },
    {
      "cell_type": "code",
      "metadata": {
        "colab": {
          "base_uri": "https://localhost:8080/"
        },
        "id": "a9d5twqlgwvL",
        "outputId": "9d46b166-2584-46ca-838c-9f5e4a68e115"
      },
      "source": [
        "print([fib(x) for x in range(10)])"
      ],
      "execution_count": null,
      "outputs": [
        {
          "output_type": "stream",
          "name": "stdout",
          "text": [
            "[0, 1, 1, 2, 3, 5, 8, 13, 21, 34]\n"
          ]
        }
      ]
    },
    {
      "cell_type": "code",
      "metadata": {
        "id": "mcD0rgkGkKqU"
      },
      "source": [
        "def fib_iter(n: int) -> int:\n",
        "    if n <= 1:\n",
        "        res = n\n",
        "    else:\n",
        "        x, y = 0, 1\n",
        "        for _ in range(2, n+1):\n",
        "            x, y = y, x + y\n",
        "        res = y\n",
        "    return res"
      ],
      "execution_count": null,
      "outputs": []
    },
    {
      "cell_type": "code",
      "metadata": {
        "colab": {
          "base_uri": "https://localhost:8080/"
        },
        "id": "6XoVkbJcllLE",
        "outputId": "adc0a4b9-d3eb-4b0a-df97-af89923c5a29"
      },
      "source": [
        "print([fib_iter(x) for x in range(10)])"
      ],
      "execution_count": null,
      "outputs": [
        {
          "output_type": "stream",
          "text": [
            "[0, 1, 1, 2, 3, 5, 8, 13, 21, 34]\n"
          ],
          "name": "stdout"
        }
      ]
    },
    {
      "cell_type": "code",
      "metadata": {
        "colab": {
          "base_uri": "https://localhost:8080/"
        },
        "id": "ozqOkLOhlzzM",
        "outputId": "06b574f4-b4d4-410a-dd29-1de746330a67"
      },
      "source": [
        "fib_iter(10)"
      ],
      "execution_count": null,
      "outputs": [
        {
          "output_type": "execute_result",
          "data": {
            "text/plain": [
              "55"
            ]
          },
          "metadata": {
            "tags": []
          },
          "execution_count": 36
        }
      ]
    },
    {
      "cell_type": "markdown",
      "metadata": {
        "id": "yiM4tgDZU1_R"
      },
      "source": [
        "#### Número combinatorio"
      ]
    },
    {
      "cell_type": "markdown",
      "metadata": {
        "id": "seKHX7W1Vbmp"
      },
      "source": [
        "El número combinatorio $n \\choose m$ debe su nombre a que cuenta el número exacto de combinaciones posibles de $m$ elementos de un universo de $n$ elementos. Es decir, dado un conjunto de $n$ elementos, cuántos subconjuntos de $m$ elementos tiene.\n",
        "\n",
        "Es de gran utilidad en múltiples ramas de la matemática: teoría de números, combinatoria, probabilidades, etc."
      ]
    },
    {
      "cell_type": "markdown",
      "metadata": {
        "id": "SvWktib4U9TY"
      },
      "source": [
        "#### Binomio de Newton:\n",
        "\n",
        "Un resultado muy importante es:\n",
        "\n",
        "$$(a + b)^n = \\sum_{i=0}^n {n \\choose i}a^{n-i}b^i$$"
      ]
    },
    {
      "cell_type": "markdown",
      "metadata": {
        "id": "Bc4cL6cVOwB_"
      },
      "source": [
        "Número combinatorio $n \\choose m$, para $n \\geq 0$ y $0 \\leq m \\leq n$. Se lo puede definir de la siguiente manera:\n",
        "\n",
        "$${n \\choose m} = \\frac{n!}{m! (n-m)!}$$"
      ]
    },
    {
      "cell_type": "markdown",
      "metadata": {
        "id": "IKbziOJ2WYTl"
      },
      "source": [
        "# Triángulo de Pascal:\n",
        "\n",
        "$$\\begin{array}{lcccccccccccccccc}\n",
        "n = 0 & & & & & & & & & 0 \\choose 0 \\\\\n",
        "n = 1 & & & & & & & & 1 \\choose 0 & & 1 \\choose 1 \\\\\n",
        "n = 2 & & & & & & & 2 \\choose 0 & & 2 \\choose 1 & & 2 \\choose 2 \\\\\n",
        "n = 3 & & & & & & 3 \\choose 0 & & 3 \\choose 1 & & 3 \\choose 2 & & 3 \\choose 3\\\\\n",
        "n = 4 & & & & & 4 \\choose 0 & & 4 \\choose 1 & & 4 \\choose 2 & & 4 \\choose 3 & & 4 \\choose 4\\\\\n",
        "n = 5 & & & & 5 \\choose 0 & & 5 \\choose 1 & & 5 \\choose 2 & & 5 \\choose 3 & & 5 \\choose 4 & & 5 \\choose 5\\\\\n",
        "n = 6 & & & 6 \\choose 0 & & 6 \\choose 1 & & 6 \\choose 2 & & 6 \\choose 3 & & 6 \\choose 4 & & 6 \\choose 5 & & 6 \\choose 6\\\\\n",
        "n = 7 & & 7 \\choose 0 & & 7 \\choose 1 & & 7 \\choose 2 & & 7 \\choose 3 & & 7 \\choose 4 & & 7 \\choose 5 & & 7 \\choose 6 & & 7 \\choose 7\n",
        "\\end{array}$$\n",
        "\n"
      ]
    },
    {
      "cell_type": "markdown",
      "metadata": {
        "id": "Y3LzpJ6NThZa"
      },
      "source": [
        "Si reemplazamos cada expresión por su valor, observamos que cada uno de los valores que están en su interior, pueden calcularse como la suma de los dos que se encuentran inmediatamente arriba:\n",
        "\n",
        "$$\\begin{array}{lcccccccccccccccc}\n",
        "n = 0 & & & & & & & & & 1 \\\\\n",
        "n = 1 & & & & & & & & 1 & & 1 \\\\\n",
        "n = 2 & & & & & & & 1 & & 2 & & 1 \\\\\n",
        "n = 3 & & & & & & 1 & & 3 & & 3 & & 1\\\\\n",
        "n = 4 & & & & & 1 & & 4 & & 6 & & 4 & & 1\\\\\n",
        "n = 5 & & & & 1 & & 5 & & 10 & & 10 & & 5 & & 1\\\\\n",
        "n = 6 & & & 1 & & 6 & & 15 & & 20 & & 15 & & 6 & & 1\\\\\n",
        "n = 7 & & 1 & & 7 & & 21 & & 35 & & 35 & & 21 & & 7 & & 1\n",
        "\\end{array}$$\n"
      ]
    },
    {
      "cell_type": "markdown",
      "metadata": {
        "id": "O7F1OBrjT4uF"
      },
      "source": [
        "Fórmula recursiva:\n",
        "\n",
        "*   ${n \\choose 0} = 1$\n",
        "*   ${n \\choose n} = 1$\n",
        "*   ${n \\choose m} = {n - 1 \\choose m - 1} + {n - 1 \\choose m}$, si $m \\not= 0 \\wedge m \\not= n$\n",
        "\n",
        "Estas tres ecuaciones se pueden demostrar matemáticamente.\n",
        "\n",
        "A nosotros nos interesan estas ecuaciones porque podemos tomarlo como una definición recursiva del número combinatorio"
      ]
    },
    {
      "cell_type": "code",
      "metadata": {
        "id": "5trEwKrCXMDp"
      },
      "source": [
        "def combinatorio(n, m: int) -> int:\n",
        "    # pre: n >= 0 and 0 <= m <= n\n",
        "    # post: devuelve el número combinatorio de \"n elementos tomados de a m\"\n",
        "    assert type(n) == type(m) == int and n >= 0 and 0 <= m <= n, 'Error en los parámetros de la función \"combinatorio\"'\n",
        "\n",
        "    if m == 0 or m == n:\n",
        "        res = 1\n",
        "    else:\n",
        "        res = combinatorio(n - 1, m - 1) + combinatorio(n - 1, m)\n",
        "    return res"
      ],
      "execution_count": null,
      "outputs": []
    },
    {
      "cell_type": "code",
      "metadata": {
        "colab": {
          "base_uri": "https://localhost:8080/"
        },
        "id": "KzsEvtMzpof5",
        "outputId": "4a378da9-6c88-455f-99b1-0cdeb7bfce2e"
      },
      "source": [
        "combinatorio(7,3)"
      ],
      "execution_count": null,
      "outputs": [
        {
          "output_type": "execute_result",
          "data": {
            "text/plain": [
              "35"
            ]
          },
          "metadata": {},
          "execution_count": 39
        }
      ]
    },
    {
      "cell_type": "markdown",
      "metadata": {
        "id": "RuPuSMiWYjnN"
      },
      "source": [
        "# Ordenación rápida (quick sort)"
      ]
    },
    {
      "cell_type": "markdown",
      "metadata": {
        "id": "sNf6YaT_Yp2j"
      },
      "source": [
        "Generemos una lista de palabras al azar:"
      ]
    },
    {
      "cell_type": "code",
      "metadata": {
        "id": "ULK67m_KYs_t"
      },
      "source": [
        "from random import choices, randint\n",
        "\n",
        "LETRAS = 'a b c d e f g h i j k l m n ñ o p q r s t u v w x y z'.split(' ')\n",
        "MAX_PALABRA = 10\n",
        "\n",
        "def palabras_aleatorias(n: int) -> list:\n",
        "    # pre: n >= 0\n",
        "    # post: devuelve una lista aleatoriamente generada de n palabras de longitud 1 a MAX_PALABRA\n",
        "    res = []\n",
        "    for _ in range(n):\n",
        "        longitud = randint(1, MAX_PALABRA)\n",
        "        lista_letras = choices(LETRAS, k = longitud)\n",
        "        palabra = ''.join(lista_letras)\n",
        "        res.append(palabra)\n",
        "    return res"
      ],
      "execution_count": null,
      "outputs": []
    },
    {
      "cell_type": "code",
      "metadata": {
        "id": "GqONOymRa4bj"
      },
      "source": [
        "palabras = palabras_aleatorias(1000000)"
      ],
      "execution_count": null,
      "outputs": []
    },
    {
      "cell_type": "code",
      "metadata": {
        "colab": {
          "base_uri": "https://localhost:8080/"
        },
        "id": "4qafepgIsesB",
        "outputId": "dff364a0-cc94-4790-8856-90c8e0d73a9c"
      },
      "source": [
        "print(palabras)"
      ],
      "execution_count": null,
      "outputs": [
        {
          "output_type": "stream",
          "name": "stdout",
          "text": [
            "['pewwqslx', 'xeuzjqbd', 'ñ', 'ppkysh', 'zmckfihs', 'wzwapmo', 'avaroxuksw', 'ylf', 'ltcdyprfxi', 'mmcwvos', 'ocmrgpxii', 'ahiñaon', 'nzdspl', 'jddgzral', 'dfnq', 'cncnaweojt', 'pzobsttñ', 'fñvalf', 'iouqliu', 'gllsebd', 'luwbhrhyv', 'bwvtznvyq', 'uo', 'xhbrh', 'gw', 'yñrp', 'nzthzfvw', 'l', 'pezc', 'jegbwz', 'hi', 'oaseuuflh', 'dmhaaklcñd', 'zwrbqqezzz', 'suzjniwedd', 'xicst', 'qxdfe', 'vqby', 'wtñdpnarat', 'yodgk', 'hqobdoyqo', 'uxjpz', 'nzvwwlsci', 'x', 'nwvmnr', 'bbñnrnñl', 'lvwiaaqñso', 'hdrozp', 'ñcggxta', 'unljk', 'xrblqe', 'hpko', 'dsfgj', 's', 'yxwktmsh', 'nudñvfoewt', 'ht', 'y', 'vñnuua', 'yof', 'hymhebfijf', 't', 'rstir', 'apupeglñty', 'vco', 'dcy', 'ndorñiggtr', 'ebbhxeq', 'qca', 'añxpxl', 'ñkzi', 'sfplxxiqcg', 'ic', 'hyyaawqbo', 'd', 'bjhu', 'sihelñ', 'ckbql', 'd', 'pjbextmbe', 'awhxbkzoj', 'xñsmtq', 'whpfwkdk', 'xññpakzrl', 'jaiyhdvfw', 'lw', 'c', 'wpggñd', 'yudutdq', 'kuñac', 'lññgdd', 'kktmhhblx', 'qaaro', 'jrlqwb', 'mbmwv', 'ovhje', 'hsoheppkt', 'cbnw', 'lypytnf', 'hoxp', 'bfgyijñnqh', 'omxczewpuz', 'w', 'jtrc', 'ffh', 'm', 'bhecw', 't', 'imkbfuñgpv', 'rjfiidj', 'mbgymdihnc', 'keonyeppn', 'qbmkkfqxk', 'eaffnclpj', 'l', 'ky', 'nhmñvsry', 'rlrmñtef', 'vnohokrq', 'wl', 'juezkxñewk', 'jñaig', 'z', 'h', 'eh', 'qswrbw', 'yikmirf', 'ohc', 'jju', 'lkgbkxldzh', 'uopu', 'ycjlobñn', 'zfqpxg', 'iehkmv', 'yrgimk', 'ñeippnzñ', 'ñcjtlobwj', 'hlo', 'ucbweodq', 'ydaitbut', 'f', 'znjmapor', 'q', 'dyt', 'ikhntlktfa', 'geipm', 'sayiueco', 'sks', 'ñbb', 'l', 'gwñ', 'ñrf', 'xazctt', 'me', 'xfzvp', 'gqt', 'symgnl', 'rpsy', 'zuwkfrci', 'ñ', 'sc', 'b', 'rnñ', 'yc', 'z', 'dgñszjñs', 'lhlyjsswyi', 'qqjji', 'vyssj', 'ccskscw', 'hu', 'oh', 'sotewieeh', 'xxcietvs', 'ku', 'ñ', 'cjlr', 'gñl', 'awkmygsq', 'v', 'ñgt', 's', 'zpub', 'ntvp', 'xbuc', 'ncdstsjlcm', 'yyt', 'mhrvthñqlm', 'lñdfte', 'nxpvacu', 'rmoqkchzu', 'i', 'nun', 'dg', 'aañjtmdcty', 'cmadfpji', 'kaa', 'uh', 'xfexbgw', 'nbcc', 'enulcsr', 'fuk', 'mcpu', 'flzvyjjr', 'aet', 'icngoya', 'obbñcb', 'dz', 'fcvutay', 'rkkywyxgf', 'uaiwxpusrt', 'js', 'lrjgyywgfi', 'pcbs', 'rk', 'govp', 'ldniu', 'e', 'kowiero', 'e', 'njorwkqvtj', 'zp', 'dhrkjqiyvs', 'iaucoilvtj', 'pzñkdwuvp', 'dsgcflllx', 'vul', 'ywz', 'iñl', 'drv', 'idhve', 'pew', 'airzbxfwvb', 'oakvlmhb', 'jdpqdru', 'e', 'hñ', 'djedu', 'smftidlfw', 'vtdjrt', 'ndchqo', 'mgsljggo', 'shtpñ', 'mliyzho', 'c', 'wbhjp', 'ixbtglwjb', 'y', 'ffgo', 'pzvlw', 'ngññahzmto', 'hjfrx', 'duxdfrlvyx', 'wyroijtbn', 'ubeus', 'vwmalem', 'sinoz', 'hz', 'kb', 'ialap', 'yycdhj', 'qx', 'hwbsixkh', 'v', 'xhrñ', 'nsaiq', 'uyloañxv', 'oñviyf', 'zñ', 'ssdvjouki', 'bgddkc', 'tpdf', 'gdhwkqvx', 'nhzigzewis', 'whgc', 'bv', 'twv', 'kzwr', 'znflqd', 'eg', 'fpqxka', 'pzp', 'jqsxpxrtr', 'qf', 'hpzthbu', 'j', 'tcwqjpclm', 'tg', 'kemhuz', 'vyñ', 'x', 'lneujxuq', 'vcmy', 'mvy', 'npxklñkx', 'xxywkyp', 'dqlk', 'em', 'agyedhp', 'cmlxaa', 'qgreegwbn', 'd', 'coqfgekdn', 'uds', 'kfuhodv', 'ioapyoz', 'ayfbo', 'hyakzz', 'mxh', 'exoz', 'ly', 'eapsyrd', 'w', 'wqyo', 'wu', 'fqñzmfzvvk', 'emyd', 'odqw', 'giaom', 'dñvq', 'uxjsb', 'tvvmwvyuo', 'xqltb', 'opibbqhoñn', 'dzxnqkkozh', 'cqiph', 'zuñqñec', 'efyñbkebn', 'eynk', 'twiorqep', 'lxhgma', 'h', 'cx', 'g', 'vr', 'pagwwq', 'nhlpxmx', 'nkapfgpavg', 'ivhuq', 's', 'zppw', 'se', 'kñzñwdñ', 'dnuwwyfaw', 'kgbozjñmy', 'ssfoo', 'tvafcñ', 'tgsta', 'gavajcki', 'mzv', 'j', 'ksvvsvdqp', 'mwayudtl', 'fig', 'vec', 'ñwrnolwxhq', 'tfd', 'wpuircy', 't', 'chjgbu', 'aq', 'igñglfh', 'dqx', 'zs', 'wñkq', 'upe', 'aiupmyk', 'wwv', 'bqhem', 'dmyzmniz', 'pt', 'txpctcxd', 'rrmgeai', 'efñrweypf', 'ymwrimlizq', 'jnporeh', 'rselgbb', 'optlvrz', 'fññ', 'bv', 'mhi', 'kryjs', 'aksyamji', 'yfñvrqñ', 'a', 'cmd', 'wigpj', 'rxh', 'atvlsgtnnz', 'vnz', 's', 'fey', 'zptl', 'jgtfdqgf', 'dlqia', 'fywcsfu', 'cmyjd', 'gyoo', 'mcxl', 'cqq', 'wem', 'tvkg', 'qxpdjhs', 'xsepx', 'olgcñ', 'mlleh', 'uxrtwrckb', 'yrqmcvzwye', 'tñinavñgñ', 'ñbjymcay', 'umythcwq', 'ormdzfy', 'kttzñvmk', 'yjasd', 'kfzfgtwrñ', 'pc', 'ññf', 'udko', 'rhjbqevo', 'xrmjkfl', 'kjoptddflb', 'uzauonvk', 'ntffhñscn', 'nn', 'llxodxfcqb', 'optgo', 'px', 'sulokai', 'axixqsba', 'mxqioñrñln', 'qbtkujis', 'fcwoeo', 'bqhnwz', 'rwuñjikbx', 'd', 'hantf', 'sa', 'rjwieñcqe', 'j', 'smk', 'myd', 'ittcf', 'ortzqjs', 'pbgebñeoh', 'vor', 'eifo', 'jtnñbñ', 'hco', 'nn', 'skmd', 'mcqdixrvx', 'hhcag', 'nexxrxcyui', 'z', 'vle', 'aulorañt', 'ghfctfohq', 'pski', 'u', 'rany', 'ptjhpu', 'jd', 'ewv', 'khbms', 'xqeavkuc', 'ssiocpc', 'gaxvuqgphc', 'ua', 'bams', 'fh', 'zvbwo', 'l', 'zrusqyckzm', 'oxa', 'h', 'wzocig', 'rjsrmkzm', 'oirjy', 'c', 'evww', 'rieqhsd', 'aq', 'tkre', 'dcvprllpp', 'rumwwpuf', 'nvpxuarkt', 'kiñtpvl', 'rnxinrai', 'ñoo', 'zutbjbnw', 'oiwyymxv', 'ñlean', 'vurhsr', 'jyvdjpasza', 'ct', 'skr', 'pgbmjiz', 'ixtwbmm', 'coh', 'tef', 'yj', 'jspi', 'txq', 'sbeyyaagtq', 'efikry', 'vqamvvje', 'rxta', 'sxpinnbw', 'ahñ', 'nfirqxmtae', 'xxj', 'ñ', 'lzp', 'vd', 'epñueftñp', 'szubk', 'ñd', 'btmxi', 'ldsggñgq', 'jñfia', 'mukdgl', 'odlj', 'tusgirqf', 'vqfajohs', 'zgeutv', 'dtfiitcpy', 'drwjs', 'nyhfñiuk', 'ptmiuivf', 'qhiñkzv', 'o', 'ffexaglmk', 'wyryogc', 'kfucqg', 'zjñrgbkcu', 'gl', 'shblcavpo', 'fyzdorxu', 'jnrigtdlw', 'gkl', 'rgbhdft', 'pg', 'eam', 'pp', 'ixsgzxoñjb', 'afbnxbwdfñ', 'uu', 'jdmnustod', 'nxxux', 'uyhdaq', 'vvñdspw', 'tndqedpu', 'sjgll', 'ñjcs', 'fbiñjmdma', 'q', 'claqiu', 'enpb', 'txnuu', 'rbxñckax', 'dñomchkr', 'cli', 'jynxebdory', 'v', 'bphlkso', 'sptdiut', 'ayjjbgbcfy', 'gnn', 'nh', 'k', 'buxxyyoa', 'jkon', 'wkktf', 'hnonzwbfdf', 'xn', 'ueguk', 'ibizjñ', 'v', 'k', 'v', 'o', 'rvoptoola', 'o', 'peclhsp', 'ñwh', 'v', 'rñougzfm', 'xfjvqad', 'lkzhfuddvb', 'myp', 'tes', 'jeh', 'agbhkgoen', 'ñqiftyjmzt', 'qmnwt', 'ott', 'piñyn', 'duob', 'ep', 'v', 'crtpndwl', 'pvmvuñjmt', 'vhv', 'mpmwiwv', 'xybxnz', 'hggñnrcslx', 'bmfycagt', 'zennqnhyi', 'z', 'snbridu', 'zjckmpmnwt', 'ir', 'zu', 'aqfup', 'fb', 'vqo', 'vbsww', 'fbrul', 'ujleqmlpnx', 'q', 'kmfygbjfw', 'ddgeuelwax', 'dñnfenxmpn', 'nrkudsbky', 'xsqgzm', 'vv', 'a', 'osv', 'pb', 'kb', 'tbdzoo', 'avh', 'rrqkxxsv', 'ñxvxham', 'juqrbswlm', 'c', 'lssx', 'fdhpdviqh', 'ugl', 'j', 'gaish', 'vmslmcy', 'g', 'ñ', 'scwbxb', 'zkñ', 'ñ', 'xhtrlqn', 'cr', 'qreiñugh', 'cbxubyyñ', 'eudmkuioe', 'agnyu', 'dnv', 'plbkq', 'fpzvj', 'fmgagqkgk', 'orudvaawee', 'jbewtlr', 'oh', 'oh', 'zyuebsñf', 'vbxdvxegzl', 'ijjj', 'lasngntcy', 'yjqoeg', 'wxw', 'zxfltwkhg', 'wgoefzewq', 'x', 'kl', 'vlcxmuep', 'eingpujs', 'vzk', 'vcfrhdyñfq', 'psñbsikz', 'rswfbñx', 'kñmvcnx', 'hvrxplgnr', 'zñpgqxstp', 'sidoy', 'zñoodwilz', 'exncru', 'pxa', 'aqtckret', 'xsmzhy', 'nfqdfl', 'e', 'dygkjdcx', 'kpwdmtwws', 'rldxs', 'gvtlgr', 'gvilwzys', 'g', 'weyzcñkvgk', 'aoap', 'dso', 'l', 'qumieddd', 'gz', 'lfqow', 'kthyawby', 'fikinlq', 'xaaku', 'zyuhbnl', 'ivcvmjo', 'tm', 'a', 'dxv', 'f', 'cws', 'ehñqdñkhkc', 'o', 'wvpceyqgvq', 'y', 'zduxkv', 'peifemjh', 'fbangnt', 'xwrpgyh', 'v', 'y', 'wxgu', 'nuoñq', 'schsfo', 'ubdxqupñ', 'wxnt', 'zdrz', 'rg', 'mjyj', 'iaiyupjññi', 'fhnisey', 'hapj', 'xufg', 'izy', 'bxrxksxalu', 'plrvlucuv', 'mpagmdnybb', 'i', 'oqfpag', 'ñ', 'ovinuk', 'tñajbkfdlv', 'rrfdd', 'tx', 'mvtqwjst', 'nyjdjw', 'ka', 'hrxs', 'ñuyawxkx', 'mr', 'ti', 'thf', 'hknb', 'lypdzkgeo', 'ceotlwg', 'rñx', 'aps', 'wmedqpozg', 'nezvk', 'vjk', 'e', 'ajmyzñtu', 'ulsñ', 'hñc', 'ñqaanwlo', 'hj', 'f', 'sngjm', 'zxduzy', 'peuthcfet', 'cjji', 'bzj', 'nficntwwtt', 'trñvx', 'c', 'obyskhdqy', 'lgqsun', 'bd', 'kvvui', 'hq', 'ngzi', 'vdglo', 'gehobhaljx', 'gblgxjn', 'xvgo', 'kibfwkxg', 'vndq', 'ijnaij', 'ycdrlñbuns', 'hnhotvmi', 'cv', 'zkouxbq', 'swxcy', 'cveco', 'arzwy', 'htiuirgu', 'xyw', 'apgiehkipu', 'bvw', 'ahc', 'bxsk', 'kmajec', 'adlwp', 'gxlfdñuohl', 'etc', 'anhss', 'eso', 'dghzyln', 'zoulklwbe', 'o', 'bucfrvg', 'sapwpfñjio', 'cxbx', 'gm', 'owxvl', 'lfykz', 'mrw', 'ojnhna', 'aesvfefnrq', 'cñbgqdtjq', 'qqulñphe', 'vlpjoxvi', 'miurhqw', 'byxtvnzrpm', 'wrutecdx', 'a', 'ktjsñwb', 'zdn', 'bjñn', 'oryc', 'g', 'iudxhmgc', 's', 'axtgul', 'vh', 'ugñanñsbñj', 'ñsfcg', 'xvy', 'cyzitndf', 'jnwssm', 'dshyd', 'ñ', 'fx', 'xethlxus', 'erc', 'ejchwatwh', 'yolxwnhtb', 'ii', 'ebylfavyxñ', 'pjsifhdr', 'hhgv', 'yr', 'rxsvkkqa', 'zsññvñeye', 'if', 'novvhly', 'urawkrab', 'tñjndrrdo', 'nbpzbdoyoj', 'lhxvyzupi', 'cxxyhvmi', 'nwhoxjcsp', 'qvlue', 'uxudth', 'dfgmx', 'to', 'ojyu', 'mqkñllld', 'g', 'sgmbp', 'euovoa', 'flzhbqs', 'lj', 'pngpstskga', 'lyxyj', 'rvs', 'e', 'oeybb', 't', 'zizjw', 'ñzgiovjhkc', 'tcqnxopjs', 'wfjjy', 'egcygcp', 'k', 'evdlrf', 'ni', 'djpwtkgtn', 'xmkcc', 'nf', 'wbudpbv', 'pfqp', 'hdadz', 'dgñ', 'uñuyvuq', 'ñyv', 'rizvo', 'tahflycxcm', 'zemthleiyj', 'eiivqqzkñ', 'a', 'rnxujatl', 'fxfyyyraye', 'pjsnlzlm', 'htimmwz', 'oovel', 'zf', 'ntcknj', 'nztgmja', 'ee', 'vñsooñ', 'bzctzñ', 'dx', 'lw', 'uby', 'gcaby', 'hpqpgiox', 'ucñmorprce', 'fsjmfcvlz', 'aofxvpxzi', 'rgnxiñxw', 'tsriiaqku', 'nlob', 'qohdy', 'cbutk', 'hbñgdfzu', 'wq', 'jutxy', 'mñj', 'mi', 'ph', 'rtou', 'vks', 'y', 'ñdojvufhs', 'el', 'tl', 'xakwj', 'bnqwñbjnqe', 'mrsmciuoho', 'qñ', 'klwwqkiw', 'dlcao', 'uaidp', 'ktñug', 'mbj', 'nfqtlh', 'zjp', 'pampyuidb', 'o', 'sxsju', 'vpvozckmrl', 'ynqarc', 'of', 'm', 'xqbñiwfcj', 'cñqmeddfud', 'aup', 'je', 'mmsvlnym', 'rdfjkvejf', 'hq', 'vxydzbbyzd', 'xa', 'zav', 'ñññnpmj', 'ñlvpyi', 'batpdifs', 'mhxjmqm', 'adgl', 'q', 'wb', 'slvbspkivb', 'emmohyb', 'uwbzobrt', 'wcxlx', 'pcebeyd', 'p', 'c', 'ylqjmmiui', 'cypka', 'jdzxlumnfz', 'jojvfew', 'eeid', 'dujin', 'kmcabbd', 'yñkzzpsqts', 'znrd', 'tdyc', 'gnffwinlkr', 'mvz', 'gmltttfa', 'd', 'dglygfs', 'xgnuifos', 'yanc', 'd', 'hñfvlrrth', 'upuy', 'lmkbrusb']\n"
          ]
        }
      ]
    },
    {
      "cell_type": "code",
      "metadata": {
        "id": "tnn6kAqZs_mV"
      },
      "source": [
        "def swap(lista, n, m):\n",
        "    lista[n], lista[m] = lista[m], lista[n]\n",
        "\n",
        "def separar(lista: list, desde, hasta: int) -> int:\n",
        "    pivote = lista[desde]\n",
        "    i, j = desde + 1, hasta\n",
        "    while i <= j:\n",
        "        if lista[i] <= pivote:\n",
        "            i = i + 1\n",
        "        elif lista[j] > pivote:\n",
        "            j = j - 1\n",
        "        else:\n",
        "            swap(lista, i, j)\n",
        "            i = i + 1\n",
        "            j = j - 1\n",
        "    swap(lista, desde, j)\n",
        "    return j\n",
        "\n",
        "def ordenacion_rapida_rec(lista: list, desde, hasta: int):\n",
        "    # pre: 0 <= desde < len(lista) and 0 <= hasta < len(lista)\n",
        "    if desde < hasta:\n",
        "        i_pivote = separar(lista, desde, hasta)\n",
        "        ordenacion_rapida_rec(lista, desde, i_pivote - 1)\n",
        "        ordenacion_rapida_rec(lista, i_pivote + 1, hasta)\n",
        "\n",
        "def ordenacion_rapida(lista: list):\n",
        "    ordenacion_rapida_rec(lista, 0, len(lista) - 1)\n"
      ],
      "execution_count": null,
      "outputs": []
    },
    {
      "cell_type": "code",
      "metadata": {
        "id": "V-Ij80bmxSVk"
      },
      "source": [
        "ordenacion_rapida(palabras)"
      ],
      "execution_count": null,
      "outputs": []
    },
    {
      "cell_type": "code",
      "metadata": {
        "colab": {
          "base_uri": "https://localhost:8080/"
        },
        "id": "kDREKNwdxXDO",
        "outputId": "cd67786e-f214-4681-948f-17411c6d7e33"
      },
      "source": [
        "print(palabras)"
      ],
      "execution_count": null,
      "outputs": [
        {
          "output_type": "stream",
          "name": "stdout",
          "text": [
            "['a', 'a', 'a', 'a', 'a', 'aañjtmdcty', 'adgl', 'adlwp', 'aesvfefnrq', 'aet', 'afbnxbwdfñ', 'agbhkgoen', 'agnyu', 'agyedhp', 'ahc', 'ahiñaon', 'ahñ', 'airzbxfwvb', 'aiupmyk', 'ajmyzñtu', 'aksyamji', 'anhss', 'aoap', 'aofxvpxzi', 'apgiehkipu', 'aps', 'apupeglñty', 'aq', 'aq', 'aqfup', 'aqtckret', 'arzwy', 'atvlsgtnnz', 'aulorañt', 'aup', 'avaroxuksw', 'avh', 'awhxbkzoj', 'awkmygsq', 'axixqsba', 'axtgul', 'ayfbo', 'ayjjbgbcfy', 'añxpxl', 'b', 'bams', 'batpdifs', 'bbñnrnñl', 'bd', 'bfgyijñnqh', 'bgddkc', 'bhecw', 'bjhu', 'bjñn', 'bmfycagt', 'bnqwñbjnqe', 'bphlkso', 'bqhem', 'bqhnwz', 'btmxi', 'bucfrvg', 'buxxyyoa', 'bv', 'bv', 'bvw', 'bwvtznvyq', 'bxrxksxalu', 'bxsk', 'byxtvnzrpm', 'bzctzñ', 'bzj', 'c', 'c', 'c', 'c', 'c', 'c', 'cbnw', 'cbutk', 'cbxubyyñ', 'ccskscw', 'ceotlwg', 'chjgbu', 'cjji', 'cjlr', 'ckbql', 'claqiu', 'cli', 'cmadfpji', 'cmd', 'cmlxaa', 'cmyjd', 'cncnaweojt', 'coh', 'coqfgekdn', 'cqiph', 'cqq', 'cr', 'crtpndwl', 'ct', 'cv', 'cveco', 'cws', 'cx', 'cxbx', 'cxxyhvmi', 'cypka', 'cyzitndf', 'cñbgqdtjq', 'cñqmeddfud', 'd', 'd', 'd', 'd', 'd', 'd', 'dcvprllpp', 'dcy', 'ddgeuelwax', 'dfgmx', 'dfnq', 'dg', 'dghzyln', 'dglygfs', 'dgñ', 'dgñszjñs', 'dhrkjqiyvs', 'djedu', 'djpwtkgtn', 'dlcao', 'dlqia', 'dmhaaklcñd', 'dmyzmniz', 'dnuwwyfaw', 'dnv', 'dqlk', 'dqx', 'drv', 'drwjs', 'dsfgj', 'dsgcflllx', 'dshyd', 'dso', 'dtfiitcpy', 'dujin', 'duob', 'duxdfrlvyx', 'dx', 'dxv', 'dygkjdcx', 'dyt', 'dz', 'dzxnqkkozh', 'dñnfenxmpn', 'dñomchkr', 'dñvq', 'e', 'e', 'e', 'e', 'e', 'e', 'eaffnclpj', 'eam', 'eapsyrd', 'ebbhxeq', 'ebylfavyxñ', 'ee', 'eeid', 'efikry', 'efyñbkebn', 'efñrweypf', 'eg', 'egcygcp', 'eh', 'ehñqdñkhkc', 'eifo', 'eiivqqzkñ', 'eingpujs', 'ejchwatwh', 'el', 'em', 'emmohyb', 'emyd', 'enpb', 'enulcsr', 'ep', 'epñueftñp', 'erc', 'eso', 'etc', 'eudmkuioe', 'euovoa', 'evdlrf', 'evww', 'ewv', 'exncru', 'exoz', 'eynk', 'f', 'f', 'f', 'fb', 'fbangnt', 'fbiñjmdma', 'fbrul', 'fcvutay', 'fcwoeo', 'fdhpdviqh', 'fey', 'ffexaglmk', 'ffgo', 'ffh', 'fh', 'fhnisey', 'fig', 'fikinlq', 'flzhbqs', 'flzvyjjr', 'fmgagqkgk', 'fpqxka', 'fpzvj', 'fqñzmfzvvk', 'fsjmfcvlz', 'fuk', 'fx', 'fxfyyyraye', 'fywcsfu', 'fyzdorxu', 'fñvalf', 'fññ', 'g', 'g', 'g', 'g', 'g', 'gaish', 'gavajcki', 'gaxvuqgphc', 'gblgxjn', 'gcaby', 'gdhwkqvx', 'gehobhaljx', 'geipm', 'ghfctfohq', 'giaom', 'gkl', 'gl', 'gllsebd', 'gm', 'gmltttfa', 'gnffwinlkr', 'gnn', 'govp', 'gqt', 'gvilwzys', 'gvtlgr', 'gw', 'gwñ', 'gxlfdñuohl', 'gyoo', 'gz', 'gñl', 'h', 'h', 'h', 'hantf', 'hapj', 'hbñgdfzu', 'hco', 'hdadz', 'hdrozp', 'hggñnrcslx', 'hhcag', 'hhgv', 'hi', 'hj', 'hjfrx', 'hknb', 'hlo', 'hnhotvmi', 'hnonzwbfdf', 'hoxp', 'hpko', 'hpqpgiox', 'hpzthbu', 'hq', 'hq', 'hqobdoyqo', 'hrxs', 'hsoheppkt', 'ht', 'htimmwz', 'htiuirgu', 'hu', 'hvrxplgnr', 'hwbsixkh', 'hyakzz', 'hymhebfijf', 'hyyaawqbo', 'hz', 'hñ', 'hñc', 'hñfvlrrth', 'i', 'i', 'iaiyupjññi', 'ialap', 'iaucoilvtj', 'ibizjñ', 'ic', 'icngoya', 'idhve', 'iehkmv', 'if', 'igñglfh', 'ii', 'ijjj', 'ijnaij', 'ikhntlktfa', 'imkbfuñgpv', 'ioapyoz', 'iouqliu', 'ir', 'ittcf', 'iudxhmgc', 'ivcvmjo', 'ivhuq', 'ixbtglwjb', 'ixsgzxoñjb', 'ixtwbmm', 'izy', 'iñl', 'j', 'j', 'j', 'j', 'jaiyhdvfw', 'jbewtlr', 'jd', 'jddgzral', 'jdmnustod', 'jdpqdru', 'jdzxlumnfz', 'je', 'jegbwz', 'jeh', 'jgtfdqgf', 'jju', 'jkon', 'jnporeh', 'jnrigtdlw', 'jnwssm', 'jojvfew', 'jqsxpxrtr', 'jrlqwb', 'js', 'jspi', 'jtnñbñ', 'jtrc', 'juezkxñewk', 'juqrbswlm', 'jutxy', 'jynxebdory', 'jyvdjpasza', 'jñaig', 'jñfia', 'k', 'k', 'k', 'ka', 'kaa', 'kb', 'kb', 'kemhuz', 'keonyeppn', 'kfucqg', 'kfuhodv', 'kfzfgtwrñ', 'kgbozjñmy', 'khbms', 'kibfwkxg', 'kiñtpvl', 'kjoptddflb', 'kktmhhblx', 'kl', 'klwwqkiw', 'kmajec', 'kmcabbd', 'kmfygbjfw', 'kowiero', 'kpwdmtwws', 'kryjs', 'ksvvsvdqp', 'kthyawby', 'ktjsñwb', 'kttzñvmk', 'ktñug', 'ku', 'kuñac', 'kvvui', 'ky', 'kzwr', 'kñmvcnx', 'kñzñwdñ', 'l', 'l', 'l', 'l', 'l', 'lasngntcy', 'ldniu', 'ldsggñgq', 'lfqow', 'lfykz', 'lgqsun', 'lhlyjsswyi', 'lhxvyzupi', 'lj', 'lkgbkxldzh', 'lkzhfuddvb', 'llxodxfcqb', 'lmkbrusb', 'lneujxuq', 'lrjgyywgfi', 'lssx', 'ltcdyprfxi', 'luwbhrhyv', 'lvwiaaqñso', 'lw', 'lw', 'lxhgma', 'ly', 'lypdzkgeo', 'lypytnf', 'lyxyj', 'lzp', 'lñdfte', 'lññgdd', 'm', 'm', 'mbgymdihnc', 'mbj', 'mbmwv', 'mcpu', 'mcqdixrvx', 'mcxl', 'me', 'mgsljggo', 'mhi', 'mhrvthñqlm', 'mhxjmqm', 'mi', 'miurhqw', 'mjyj', 'mliyzho', 'mlleh', 'mmcwvos', 'mmsvlnym', 'mpagmdnybb', 'mpmwiwv', 'mqkñllld', 'mr', 'mrsmciuoho', 'mrw', 'mukdgl', 'mvtqwjst', 'mvy', 'mvz', 'mwayudtl', 'mxh', 'mxqioñrñln', 'myd', 'myp', 'mzv', 'mñj', 'nbcc', 'nbpzbdoyoj', 'ncdstsjlcm', 'ndchqo', 'ndorñiggtr', 'nexxrxcyui', 'nezvk', 'nf', 'nficntwwtt', 'nfirqxmtae', 'nfqdfl', 'nfqtlh', 'ngzi', 'ngññahzmto', 'nh', 'nhlpxmx', 'nhmñvsry', 'nhzigzewis', 'ni', 'njorwkqvtj', 'nkapfgpavg', 'nlob', 'nn', 'nn', 'novvhly', 'npxklñkx', 'nrkudsbky', 'nsaiq', 'ntcknj', 'ntffhñscn', 'ntvp', 'nudñvfoewt', 'nun', 'nuoñq', 'nvpxuarkt', 'nwhoxjcsp', 'nwvmnr', 'nxpvacu', 'nxxux', 'nyhfñiuk', 'nyjdjw', 'nzdspl', 'nztgmja', 'nzthzfvw', 'nzvwwlsci', 'o', 'o', 'o', 'o', 'o', 'o', 'oakvlmhb', 'oaseuuflh', 'obbñcb', 'obyskhdqy', 'ocmrgpxii', 'odlj', 'odqw', 'oeybb', 'of', 'oh', 'oh', 'oh', 'ohc', 'oirjy', 'oiwyymxv', 'ojnhna', 'ojyu', 'olgcñ', 'omxczewpuz', 'oovel', 'opibbqhoñn', 'optgo', 'optlvrz', 'oqfpag', 'ormdzfy', 'ortzqjs', 'orudvaawee', 'oryc', 'osv', 'ott', 'ovhje', 'ovinuk', 'owxvl', 'oxa', 'oñviyf', 'p', 'pagwwq', 'pampyuidb', 'pb', 'pbgebñeoh', 'pc', 'pcbs', 'pcebeyd', 'peclhsp', 'peifemjh', 'peuthcfet', 'pew', 'pewwqslx', 'pezc', 'pfqp', 'pg', 'pgbmjiz', 'ph', 'piñyn', 'pjbextmbe', 'pjsifhdr', 'pjsnlzlm', 'plbkq', 'plrvlucuv', 'pngpstskga', 'pp', 'ppkysh', 'pski', 'psñbsikz', 'pt', 'ptjhpu', 'ptmiuivf', 'pvmvuñjmt', 'px', 'pxa', 'pzobsttñ', 'pzp', 'pzvlw', 'pzñkdwuvp', 'q', 'q', 'q', 'q', 'qaaro', 'qbmkkfqxk', 'qbtkujis', 'qca', 'qf', 'qgreegwbn', 'qhiñkzv', 'qmnwt', 'qohdy', 'qqjji', 'qqulñphe', 'qreiñugh', 'qswrbw', 'qumieddd', 'qvlue', 'qx', 'qxdfe', 'qxpdjhs', 'qñ', 'rany', 'rbxñckax', 'rdfjkvejf', 'rg', 'rgbhdft', 'rgnxiñxw', 'rhjbqevo', 'rieqhsd', 'rizvo', 'rjfiidj', 'rjsrmkzm', 'rjwieñcqe', 'rk', 'rkkywyxgf', 'rldxs', 'rlrmñtef', 'rmoqkchzu', 'rnxinrai', 'rnxujatl', 'rnñ', 'rpsy', 'rrfdd', 'rrmgeai', 'rrqkxxsv', 'rselgbb', 'rstir', 'rswfbñx', 'rtou', 'rumwwpuf', 'rvoptoola', 'rvs', 'rwuñjikbx', 'rxh', 'rxsvkkqa', 'rxta', 'rñougzfm', 'rñx', 's', 's', 's', 's', 's', 'sa', 'sapwpfñjio', 'sayiueco', 'sbeyyaagtq', 'sc', 'schsfo', 'scwbxb', 'se', 'sfplxxiqcg', 'sgmbp', 'shblcavpo', 'shtpñ', 'sidoy', 'sihelñ', 'sinoz', 'sjgll', 'skmd', 'skr', 'sks', 'slvbspkivb', 'smftidlfw', 'smk', 'snbridu', 'sngjm', 'sotewieeh', 'sptdiut', 'ssdvjouki', 'ssfoo', 'ssiocpc', 'sulokai', 'suzjniwedd', 'swxcy', 'sxpinnbw', 'sxsju', 'symgnl', 'szubk', 't', 't', 't', 't', 'tahflycxcm', 'tbdzoo', 'tcqnxopjs', 'tcwqjpclm', 'tdyc', 'tef', 'tes', 'tfd', 'tg', 'tgsta', 'thf', 'ti', 'tkre', 'tl', 'tm', 'tndqedpu', 'to', 'tpdf', 'trñvx', 'tsriiaqku', 'tusgirqf', 'tvafcñ', 'tvkg', 'tvvmwvyuo', 'twiorqep', 'twv', 'tx', 'txnuu', 'txpctcxd', 'txq', 'tñajbkfdlv', 'tñinavñgñ', 'tñjndrrdo', 'u', 'ua', 'uaidp', 'uaiwxpusrt', 'ubdxqupñ', 'ubeus', 'uby', 'ucbweodq', 'ucñmorprce', 'udko', 'uds', 'ueguk', 'ugl', 'ugñanñsbñj', 'uh', 'ujleqmlpnx', 'ulsñ', 'umythcwq', 'unljk', 'uo', 'uopu', 'upe', 'upuy', 'urawkrab', 'uu', 'uwbzobrt', 'uxjpz', 'uxjsb', 'uxrtwrckb', 'uxudth', 'uyhdaq', 'uyloañxv', 'uzauonvk', 'uñuyvuq', 'v', 'v', 'v', 'v', 'v', 'v', 'v', 'v', 'vbsww', 'vbxdvxegzl', 'vcfrhdyñfq', 'vcmy', 'vco', 'vd', 'vdglo', 'vec', 'vh', 'vhv', 'vjk', 'vks', 'vlcxmuep', 'vle', 'vlpjoxvi', 'vmslmcy', 'vndq', 'vnohokrq', 'vnz', 'vor', 'vpvozckmrl', 'vqamvvje', 'vqby', 'vqfajohs', 'vqo', 'vr', 'vtdjrt', 'vul', 'vurhsr', 'vv', 'vvñdspw', 'vwmalem', 'vxydzbbyzd', 'vyssj', 'vyñ', 'vzk', 'vñnuua', 'vñsooñ', 'w', 'w', 'wb', 'wbhjp', 'wbudpbv', 'wcxlx', 'wem', 'weyzcñkvgk', 'wfjjy', 'wgoefzewq', 'whgc', 'whpfwkdk', 'wigpj', 'wkktf', 'wl', 'wmedqpozg', 'wpggñd', 'wpuircy', 'wq', 'wqyo', 'wrutecdx', 'wtñdpnarat', 'wu', 'wvpceyqgvq', 'wwv', 'wxgu', 'wxnt', 'wxw', 'wyroijtbn', 'wyryogc', 'wzocig', 'wzwapmo', 'wñkq', 'x', 'x', 'x', 'xa', 'xaaku', 'xakwj', 'xazctt', 'xbuc', 'xethlxus', 'xeuzjqbd', 'xfexbgw', 'xfjvqad', 'xfzvp', 'xgnuifos', 'xhbrh', 'xhrñ', 'xhtrlqn', 'xicst', 'xmkcc', 'xn', 'xqbñiwfcj', 'xqeavkuc', 'xqltb', 'xrblqe', 'xrmjkfl', 'xsepx', 'xsmzhy', 'xsqgzm', 'xufg', 'xvgo', 'xvy', 'xwrpgyh', 'xxcietvs', 'xxj', 'xxywkyp', 'xybxnz', 'xyw', 'xñsmtq', 'xññpakzrl', 'y', 'y', 'y', 'y', 'y', 'yanc', 'yc', 'ycdrlñbuns', 'ycjlobñn', 'ydaitbut', 'yfñvrqñ', 'yikmirf', 'yj', 'yjasd', 'yjqoeg', 'ylf', 'ylqjmmiui', 'ymwrimlizq', 'ynqarc', 'yodgk', 'yof', 'yolxwnhtb', 'yr', 'yrgimk', 'yrqmcvzwye', 'yudutdq', 'ywz', 'yxwktmsh', 'yycdhj', 'yyt', 'yñkzzpsqts', 'yñrp', 'z', 'z', 'z', 'z', 'zav', 'zdn', 'zdrz', 'zduxkv', 'zemthleiyj', 'zennqnhyi', 'zf', 'zfqpxg', 'zgeutv', 'zizjw', 'zjckmpmnwt', 'zjp', 'zjñrgbkcu', 'zkouxbq', 'zkñ', 'zmckfihs', 'znflqd', 'znjmapor', 'znrd', 'zoulklwbe', 'zp', 'zppw', 'zptl', 'zpub', 'zrusqyckzm', 'zs', 'zsññvñeye', 'zu', 'zutbjbnw', 'zuwkfrci', 'zuñqñec', 'zvbwo', 'zwrbqqezzz', 'zxduzy', 'zxfltwkhg', 'zyuebsñf', 'zyuhbnl', 'zñ', 'zñoodwilz', 'zñpgqxstp', 'ñ', 'ñ', 'ñ', 'ñ', 'ñ', 'ñ', 'ñ', 'ñ', 'ñbb', 'ñbjymcay', 'ñcggxta', 'ñcjtlobwj', 'ñd', 'ñdojvufhs', 'ñeippnzñ', 'ñgt', 'ñjcs', 'ñkzi', 'ñlean', 'ñlvpyi', 'ñoo', 'ñqaanwlo', 'ñqiftyjmzt', 'ñrf', 'ñsfcg', 'ñuyawxkx', 'ñwh', 'ñwrnolwxhq', 'ñxvxham', 'ñyv', 'ñzgiovjhkc', 'ññf', 'ñññnpmj']\n"
          ]
        }
      ]
    },
    {
      "cell_type": "code",
      "metadata": {
        "id": "plIprd9g-7o7",
        "colab": {
          "base_uri": "https://localhost:8080/"
        },
        "outputId": "21921ca8-8587-4957-e866-6530ed11b728"
      },
      "source": [
        "def intercalar(lista1, lista2 : list) -> list:\n",
        "    # pre: lista1 y lista2 ordenadas\n",
        "    res = []\n",
        "    i, j = 0, 0        # i para recorrer la lista1 y j para recorrer la lista2\n",
        "    while i < len(lista1) and j < len(lista2):\n",
        "        if lista1[i] <= lista2[j]:\n",
        "            res.append(lista1[i])\n",
        "            i = i + 1\n",
        "        else:\n",
        "            res.append(lista2[j])\n",
        "            j = j + 1\n",
        "    while i < len(lista1):\n",
        "        res.append(lista1[i])\n",
        "        i = i + 1\n",
        "    while j < len(lista2):\n",
        "        res.append(lista2[j])\n",
        "        j = j + 1\n",
        "    return res\n",
        "\n",
        "def ordenar(lista: list) -> list:\n",
        "    n = len(lista)\n",
        "    if n <= 1:\n",
        "        res = lista\n",
        "    else:\n",
        "        mitad1 = lista[:n // 2]\n",
        "        mitad2 = lista[n // 2:]\n",
        "        mitad1_ordenada = ordenar(mitad1)\n",
        "        mitad2_ordenada = ordenar(mitad2)\n",
        "        res = intercalar(mitad1_ordenada, mitad2_ordenada)\n",
        "    return res\n",
        "\n",
        "ordenar([6,9,2,8, 2, -1, 3, 7, 21, -21, 34])"
      ],
      "execution_count": null,
      "outputs": [
        {
          "output_type": "execute_result",
          "data": {
            "text/plain": [
              "[-21, -1, 2, 2, 3, 6, 7, 8, 9, 21, 34]"
            ]
          },
          "metadata": {},
          "execution_count": 15
        }
      ]
    },
    {
      "cell_type": "code",
      "metadata": {
        "colab": {
          "base_uri": "https://localhost:8080/"
        },
        "id": "BQrCXMJomvRs",
        "outputId": "b989fed5-4a56-4811-ac9e-a9943387e0d1"
      },
      "source": [
        "def ordenar2(lista: list) -> list:\n",
        "    n = len(lista)\n",
        "    if n <= 1:\n",
        "        res = lista\n",
        "    else:\n",
        "        pivote = lista[0]\n",
        "        res = ordenar2([e for e in lista[1:] if e <= pivote]) + [pivote] + ordenar2([e for e in lista[1:] if e > pivote])\n",
        "    return res\n",
        "\n",
        "ordenar2([6,9,2,8, 2, -1, 3, 7, 21, -21, 34])"
      ],
      "execution_count": null,
      "outputs": [
        {
          "output_type": "execute_result",
          "data": {
            "text/plain": [
              "[-21, -1, 2, 2, 3, 6, 7, 8, 9, 21, 34]"
            ]
          },
          "metadata": {},
          "execution_count": 16
        }
      ]
    },
    {
      "cell_type": "code",
      "metadata": {
        "colab": {
          "base_uri": "https://localhost:8080/"
        },
        "id": "sRWuWJSXwGnA",
        "outputId": "c5348870-5c99-47ae-fdc5-633e02e407a3"
      },
      "source": [
        "def ordenar2(lista: list) -> list:\n",
        "    n = len(lista)\n",
        "    if n <= 1:\n",
        "        res = lista\n",
        "    else:\n",
        "        pivote = lista[0]\n",
        "        tercio1 = [e for e in lista[:] if e < pivote]\n",
        "        tercio2 = [e for e in lista[:] if e == pivote]\n",
        "        tercio3 = [e for e in lista[:] if e > pivote]\n",
        "        res = ordenar2(tercio1) + [pivote] + ordenar2(tercio3)\n",
        "    return res\n",
        "\n",
        "ordenar2(palabras)"
      ],
      "execution_count": null,
      "outputs": [
        {
          "output_type": "execute_result",
          "data": {
            "text/plain": [
              "['a',\n",
              " 'aa',\n",
              " 'aaa',\n",
              " 'aaaaa',\n",
              " 'aaaaivndlo',\n",
              " 'aaabiou',\n",
              " 'aaadgegxfw',\n",
              " 'aaaeihhn',\n",
              " 'aaaeu',\n",
              " 'aaaf',\n",
              " 'aaagidrli',\n",
              " 'aaagl',\n",
              " 'aaaguvp',\n",
              " 'aaahchegz',\n",
              " 'aaahpbqwqk',\n",
              " 'aaahñavglc',\n",
              " 'aaaim',\n",
              " 'aaajiwñr',\n",
              " 'aaajyohfji',\n",
              " 'aaakrt',\n",
              " 'aaakyjvoj',\n",
              " 'aaal',\n",
              " 'aaalgaesag',\n",
              " 'aaamldvl',\n",
              " 'aaancvmpj',\n",
              " 'aaanexgxv',\n",
              " 'aaanzk',\n",
              " 'aaaobdfqfu',\n",
              " 'aaaodpoa',\n",
              " 'aaaokj',\n",
              " 'aaap',\n",
              " 'aaapo',\n",
              " 'aaapyjfvpo',\n",
              " 'aaard',\n",
              " 'aaargvqdx',\n",
              " 'aaasjr',\n",
              " 'aaasqwl',\n",
              " 'aaat',\n",
              " 'aaaunii',\n",
              " 'aaavj',\n",
              " 'aaayhhhpaz',\n",
              " 'aaaz',\n",
              " 'aaazeeqv',\n",
              " 'aaazewkte',\n",
              " 'aaazhknggn',\n",
              " 'aaazsdvdq',\n",
              " 'aaañeqvbai',\n",
              " 'aaañfmui',\n",
              " 'aab',\n",
              " 'aabacp',\n",
              " 'aabbf',\n",
              " 'aabbssybqt',\n",
              " 'aabbyf',\n",
              " 'aabdmyl',\n",
              " 'aabdqr',\n",
              " 'aabelmkmfs',\n",
              " 'aabficjn',\n",
              " 'aabgpqvfgd',\n",
              " 'aabguxu',\n",
              " 'aabidmyxc',\n",
              " 'aabjldapdw',\n",
              " 'aabk',\n",
              " 'aabklbbb',\n",
              " 'aabm',\n",
              " 'aabnñz',\n",
              " 'aabonheoa',\n",
              " 'aabp',\n",
              " 'aabpo',\n",
              " 'aabpyxoly',\n",
              " 'aabqezrzy',\n",
              " 'aabrzm',\n",
              " 'aabstlxrr',\n",
              " 'aabsvqhg',\n",
              " 'aabthtfvh',\n",
              " 'aabuyt',\n",
              " 'aabvyty',\n",
              " 'aabwgeqwd',\n",
              " 'aabwkgz',\n",
              " 'aabzt',\n",
              " 'aabñpi',\n",
              " 'aac',\n",
              " 'aacahmeh',\n",
              " 'aacat',\n",
              " 'aacbv',\n",
              " 'aaccwkt',\n",
              " 'aacdgskjwñ',\n",
              " 'aacdvv',\n",
              " 'aacekl',\n",
              " 'aaceknjñ',\n",
              " 'aacettlfpr',\n",
              " 'aacfrxkfb',\n",
              " 'aacgyrebt',\n",
              " 'aachk',\n",
              " 'aacia',\n",
              " 'aaciq',\n",
              " 'aaciñzhy',\n",
              " 'aacjs',\n",
              " 'aaclñd',\n",
              " 'aacn',\n",
              " 'aacnd',\n",
              " 'aacnjd',\n",
              " 'aacnqfqfl',\n",
              " 'aaco',\n",
              " 'aacqf',\n",
              " 'aacrjckz',\n",
              " 'aacrvñzygb',\n",
              " 'aacs',\n",
              " 'aacwnl',\n",
              " 'aacxunqn',\n",
              " 'aacy',\n",
              " 'aacynznn',\n",
              " 'aacñ',\n",
              " 'aacñiw',\n",
              " 'aad',\n",
              " 'aadbezlw',\n",
              " 'aadbh',\n",
              " 'aadbxdq',\n",
              " 'aadcgpbyñ',\n",
              " 'aadcvrzml',\n",
              " 'aadet',\n",
              " 'aadf',\n",
              " 'aadgkjñiy',\n",
              " 'aadhdgtk',\n",
              " 'aadiñ',\n",
              " 'aadkef',\n",
              " 'aadkidtlqw',\n",
              " 'aadkogpzbk',\n",
              " 'aadm',\n",
              " 'aadmññc',\n",
              " 'aadnayñ',\n",
              " 'aadnbqlv',\n",
              " 'aadot',\n",
              " 'aadpeiua',\n",
              " 'aadqxxu',\n",
              " 'aadrm',\n",
              " 'aadrsgke',\n",
              " 'aadsgdod',\n",
              " 'aadtolñ',\n",
              " 'aadujw',\n",
              " 'aaduppsz',\n",
              " 'aaduxkv',\n",
              " 'aadvl',\n",
              " 'aadw',\n",
              " 'aadyqcf',\n",
              " 'aadzkgihgt',\n",
              " 'aadñcsgy',\n",
              " 'aae',\n",
              " 'aaeaaugd',\n",
              " 'aaeak',\n",
              " 'aaeb',\n",
              " 'aaee',\n",
              " 'aaeelwn',\n",
              " 'aaei',\n",
              " 'aaeii',\n",
              " 'aaeiztd',\n",
              " 'aaekhe',\n",
              " 'aael',\n",
              " 'aaelfsjbu',\n",
              " 'aaen',\n",
              " 'aaenob',\n",
              " 'aaernrkkyo',\n",
              " 'aaerñ',\n",
              " 'aaetyeu',\n",
              " 'aaeugsa',\n",
              " 'aaev',\n",
              " 'aaevo',\n",
              " 'aaewyuexwx',\n",
              " 'aaeya',\n",
              " 'aaeyi',\n",
              " 'aaez',\n",
              " 'aaezgnqlwz',\n",
              " 'aaeñnqzz',\n",
              " 'aaf',\n",
              " 'aafac',\n",
              " 'aafarq',\n",
              " 'aafawzñe',\n",
              " 'aafb',\n",
              " 'aafcyuñ',\n",
              " 'aafdrp',\n",
              " 'aafdrzhpz',\n",
              " 'aafdñgtm',\n",
              " 'aafg',\n",
              " 'aafi',\n",
              " 'aafirjzn',\n",
              " 'aafjhi',\n",
              " 'aafjj',\n",
              " 'aafjup',\n",
              " 'aafkbdo',\n",
              " 'aafkh',\n",
              " 'aafmvh',\n",
              " 'aafnteo',\n",
              " 'aafocgz',\n",
              " 'aafqo',\n",
              " 'aafqocxñ',\n",
              " 'aafqpgpz',\n",
              " 'aafr',\n",
              " 'aafs',\n",
              " 'aafsañfn',\n",
              " 'aafsjhyc',\n",
              " 'aafspfopño',\n",
              " 'aafuñy',\n",
              " 'aafwyñy',\n",
              " 'aafxq',\n",
              " 'aafxñm',\n",
              " 'aafy',\n",
              " 'aafyd',\n",
              " 'aafyineac',\n",
              " 'aafñ',\n",
              " 'aafñiz',\n",
              " 'aafñk',\n",
              " 'aag',\n",
              " 'aagazn',\n",
              " 'aagbqk',\n",
              " 'aagddz',\n",
              " 'aageccnul',\n",
              " 'aaghckkgc',\n",
              " 'aaghqzmtxt',\n",
              " 'aagmk',\n",
              " 'aagncna',\n",
              " 'aago',\n",
              " 'aagqqxdka',\n",
              " 'aags',\n",
              " 'aagsxykbn',\n",
              " 'aagt',\n",
              " 'aagwo',\n",
              " 'aagxpsxru',\n",
              " 'aagy',\n",
              " 'aagyaigh',\n",
              " 'aagys',\n",
              " 'aagywtfifa',\n",
              " 'aagzearntn',\n",
              " 'aagzlp',\n",
              " 'aagzltwbz',\n",
              " 'aagñn',\n",
              " 'aah',\n",
              " 'aaha',\n",
              " 'aahbmb',\n",
              " 'aahdehzg',\n",
              " 'aahewaln',\n",
              " 'aahfz',\n",
              " 'aahgfre',\n",
              " 'aahgnsm',\n",
              " 'aahica',\n",
              " 'aahit',\n",
              " 'aahkdabe',\n",
              " 'aahknjiazs',\n",
              " 'aahloofe',\n",
              " 'aahm',\n",
              " 'aahmatgqd',\n",
              " 'aahmrwfthu',\n",
              " 'aahmwphq',\n",
              " 'aahneñb',\n",
              " 'aahnvc',\n",
              " 'aahp',\n",
              " 'aahq',\n",
              " 'aahrib',\n",
              " 'aahrj',\n",
              " 'aahtyxrgtu',\n",
              " 'aahuhip',\n",
              " 'aahv',\n",
              " 'aahvicd',\n",
              " 'aahwlptñg',\n",
              " 'aahwy',\n",
              " 'aahx',\n",
              " 'aahxw',\n",
              " 'aahyñru',\n",
              " 'aahzm',\n",
              " 'aahzx',\n",
              " 'aai',\n",
              " 'aaia',\n",
              " 'aaibb',\n",
              " 'aaibtlrayz',\n",
              " 'aaicaoz',\n",
              " 'aaicw',\n",
              " 'aaidkeusl',\n",
              " 'aaie',\n",
              " 'aaieoyk',\n",
              " 'aaif',\n",
              " 'aaihgtaf',\n",
              " 'aaiko',\n",
              " 'aailhel',\n",
              " 'aainvmjfut',\n",
              " 'aainxynsg',\n",
              " 'aaiogp',\n",
              " 'aaipooo',\n",
              " 'aaips',\n",
              " 'aaiqa',\n",
              " 'aaiqhjh',\n",
              " 'aairmbti',\n",
              " 'aaisdd',\n",
              " 'aaisrmfo',\n",
              " 'aaisxp',\n",
              " 'aaiup',\n",
              " 'aaiuswnzvi',\n",
              " 'aaivcvpgf',\n",
              " 'aaivzuhbf',\n",
              " 'aaivñfh',\n",
              " 'aaixng',\n",
              " 'aaixpuzjxg',\n",
              " 'aaiyskw',\n",
              " 'aaiyuzb',\n",
              " 'aaiza',\n",
              " 'aaiznñtqho',\n",
              " 'aaiñpl',\n",
              " 'aaiñr',\n",
              " 'aaj',\n",
              " 'aaja',\n",
              " 'aajcwojz',\n",
              " 'aajdgdh',\n",
              " 'aajdqked',\n",
              " 'aajhddhb',\n",
              " 'aajhñdous',\n",
              " 'aajic',\n",
              " 'aajjvthyvc',\n",
              " 'aajkomsc',\n",
              " 'aajm',\n",
              " 'aajnbxjwvt',\n",
              " 'aajnzdhe',\n",
              " 'aajpagvvz',\n",
              " 'aajrt',\n",
              " 'aajsnnidqy',\n",
              " 'aajsyñfqw',\n",
              " 'aajtjqwqr',\n",
              " 'aajtodcl',\n",
              " 'aajtññ',\n",
              " 'aajuhheb',\n",
              " 'aajuqbq',\n",
              " 'aajuxñsbyh',\n",
              " 'aajv',\n",
              " 'aajvkvdz',\n",
              " 'aajwsqv',\n",
              " 'aajwtwakñh',\n",
              " 'aajya',\n",
              " 'aajz',\n",
              " 'aajzpjxñh',\n",
              " 'aajzqu',\n",
              " 'aajñlq',\n",
              " 'aak',\n",
              " 'aakafau',\n",
              " 'aakalazseg',\n",
              " 'aakax',\n",
              " 'aakb',\n",
              " 'aakbpth',\n",
              " 'aakbñcv',\n",
              " 'aakcrs',\n",
              " 'aakd',\n",
              " 'aakdre',\n",
              " 'aakepewiy',\n",
              " 'aakfhgkw',\n",
              " 'aakfiw',\n",
              " 'aakfoizfhv',\n",
              " 'aakgmjas',\n",
              " 'aakhq',\n",
              " 'aaklqb',\n",
              " 'aakmoilzli',\n",
              " 'aakmuqr',\n",
              " 'aakndtpba',\n",
              " 'aaknsrtuwb',\n",
              " 'aaknzvyv',\n",
              " 'aaks',\n",
              " 'aaksuoe',\n",
              " 'aaksñ',\n",
              " 'aaktcqy',\n",
              " 'aakte',\n",
              " 'aaktycfa',\n",
              " 'aaku',\n",
              " 'aakuexli',\n",
              " 'aakvqs',\n",
              " 'aakvscr',\n",
              " 'aakvzkgti',\n",
              " 'aakwkrgzfq',\n",
              " 'aakñmzxgu',\n",
              " 'aakñwuue',\n",
              " 'aal',\n",
              " 'aala',\n",
              " 'aalbxgzjqp',\n",
              " 'aalc',\n",
              " 'aalccj',\n",
              " 'aalcqjwkeb',\n",
              " 'aalcxr',\n",
              " 'aalf',\n",
              " 'aalfpuufwq',\n",
              " 'aalg',\n",
              " 'aalgjfnr',\n",
              " 'aalgtrjwa',\n",
              " 'aalhrhe',\n",
              " 'aalhsssfl',\n",
              " 'aali',\n",
              " 'aalifos',\n",
              " 'aalijtpab',\n",
              " 'aalkld',\n",
              " 'aalks',\n",
              " 'aalksrjxuf',\n",
              " 'aalkut',\n",
              " 'aall',\n",
              " 'aallfdqzcz',\n",
              " 'aallvmt',\n",
              " 'aalmawauws',\n",
              " 'aalmdscs',\n",
              " 'aalmqxxqw',\n",
              " 'aalmvamgg',\n",
              " 'aaln',\n",
              " 'aalpjto',\n",
              " 'aalqajjmuc',\n",
              " 'aalqjonctx',\n",
              " 'aalqx',\n",
              " 'aalrnmjr',\n",
              " 'aalrsñl',\n",
              " 'aalt',\n",
              " 'aaltm',\n",
              " 'aalu',\n",
              " 'aalyppzope',\n",
              " 'aam',\n",
              " 'aamazwzavs',\n",
              " 'aambijp',\n",
              " 'aambnf',\n",
              " 'aambr',\n",
              " 'aamcny',\n",
              " 'aameo',\n",
              " 'aamff',\n",
              " 'aamgrxmm',\n",
              " 'aamgsgfwca',\n",
              " 'aamhrñeqpn',\n",
              " 'aamiflq',\n",
              " 'aamjañydjv',\n",
              " 'aamjr',\n",
              " 'aamkhl',\n",
              " 'aamlsj',\n",
              " 'aammowd',\n",
              " 'aammqn',\n",
              " 'aamnxrykv',\n",
              " 'aamo',\n",
              " 'aamoclat',\n",
              " 'aamp',\n",
              " 'aamq',\n",
              " 'aamqcvvqii',\n",
              " 'aamrrcxfr',\n",
              " 'aamrueo',\n",
              " 'aamrwqgy',\n",
              " 'aamsg',\n",
              " 'aamtñ',\n",
              " 'aamvbkqiñx',\n",
              " 'aamvtw',\n",
              " 'aamyjnñcw',\n",
              " 'aamzcqa',\n",
              " 'aamzfmw',\n",
              " 'aamñewhyy',\n",
              " 'aan',\n",
              " 'aanabviv',\n",
              " 'aanasr',\n",
              " 'aanbinb',\n",
              " 'aang',\n",
              " 'aanirope',\n",
              " 'aanivetthl',\n",
              " 'aanixhfuc',\n",
              " 'aankkjfn',\n",
              " 'aanknaeñe',\n",
              " 'aanm',\n",
              " 'aano',\n",
              " 'aanorvn',\n",
              " 'aanovnebzc',\n",
              " 'aanpfk',\n",
              " 'aanpqll',\n",
              " 'aanqpfl',\n",
              " 'aanqyñv',\n",
              " 'aanqñqñ',\n",
              " 'aantbh',\n",
              " 'aanuo',\n",
              " 'aanvksnfe',\n",
              " 'aanvpgtpj',\n",
              " 'aanwbydq',\n",
              " 'aanwew',\n",
              " 'aanwmh',\n",
              " 'aanx',\n",
              " 'aanxtiplpg',\n",
              " 'aanxzvbdvs',\n",
              " 'aany',\n",
              " 'aanzttdebi',\n",
              " 'aao',\n",
              " 'aaociaetgr',\n",
              " 'aaocuj',\n",
              " 'aaodpbuñbr',\n",
              " 'aaodq',\n",
              " 'aaofbuhj',\n",
              " 'aaofkk',\n",
              " 'aaofmhqlt',\n",
              " 'aaogbdn',\n",
              " 'aaogyebgba',\n",
              " 'aaohekg',\n",
              " 'aaoiwvml',\n",
              " 'aaokbdwll',\n",
              " 'aaomdqjey',\n",
              " 'aaomeakyuz',\n",
              " 'aaomp',\n",
              " 'aaonftquol',\n",
              " 'aaonmii',\n",
              " 'aaonve',\n",
              " 'aaoo',\n",
              " 'aaopuwayj',\n",
              " 'aaorgv',\n",
              " 'aaosho',\n",
              " 'aaosxq',\n",
              " 'aaotge',\n",
              " 'aaougay',\n",
              " 'aaowhln',\n",
              " 'aaox',\n",
              " 'aaoxcrm',\n",
              " 'aaoz',\n",
              " 'aaozs',\n",
              " 'aap',\n",
              " 'aapagu',\n",
              " 'aapau',\n",
              " 'aapb',\n",
              " 'aapbl',\n",
              " 'aapc',\n",
              " 'aapduu',\n",
              " 'aapeh',\n",
              " 'aapes',\n",
              " 'aapgeobzt',\n",
              " 'aaphzs',\n",
              " 'aapi',\n",
              " 'aapib',\n",
              " 'aapix',\n",
              " 'aapjgdkyjz',\n",
              " 'aapnnk',\n",
              " 'aapnwouj',\n",
              " 'aapqc',\n",
              " 'aapruaua',\n",
              " 'aapumjc',\n",
              " 'aapus',\n",
              " 'aapuwe',\n",
              " 'aapuyxh',\n",
              " 'aapv',\n",
              " 'aapviurre',\n",
              " 'aapw',\n",
              " 'aapwq',\n",
              " 'aapwqmhfc',\n",
              " 'aapwtaut',\n",
              " 'aaq',\n",
              " 'aaqcnijp',\n",
              " 'aaqd',\n",
              " 'aaqdkpfn',\n",
              " 'aaqdot',\n",
              " 'aaqdphmzw',\n",
              " 'aaqfj',\n",
              " 'aaqgvupiol',\n",
              " 'aaqhoen',\n",
              " 'aaqi',\n",
              " 'aaqjnjfkww',\n",
              " 'aaqlzbrir',\n",
              " 'aaqnñrf',\n",
              " 'aaqp',\n",
              " 'aaqqnhuzd',\n",
              " 'aaqrcimob',\n",
              " 'aaqrtblqx',\n",
              " 'aaquwfand',\n",
              " 'aaqvkdto',\n",
              " 'aaqvrpvmq',\n",
              " 'aaqx',\n",
              " 'aaqxg',\n",
              " 'aaqxnlegip',\n",
              " 'aaqxsfab',\n",
              " 'aaqyfygvg',\n",
              " 'aaqytmcpe',\n",
              " 'aar',\n",
              " 'aaralfsfmb',\n",
              " 'aarbvzvrci',\n",
              " 'aarcdcpt',\n",
              " 'aard',\n",
              " 'aardbar',\n",
              " 'aardgpct',\n",
              " 'aare',\n",
              " 'aarf',\n",
              " 'aarfl',\n",
              " 'aarg',\n",
              " 'aargbobnrv',\n",
              " 'aargz',\n",
              " 'aarhjueizu',\n",
              " 'aari',\n",
              " 'aarj',\n",
              " 'aarjao',\n",
              " 'aarjl',\n",
              " 'aarkj',\n",
              " 'aarkkw',\n",
              " 'aarkuetjy',\n",
              " 'aarm',\n",
              " 'aaroaygu',\n",
              " 'aarpdmw',\n",
              " 'aarqhcdggb',\n",
              " 'aarqtj',\n",
              " 'aarrñ',\n",
              " 'aarthvik',\n",
              " 'aaru',\n",
              " 'aarulhkeb',\n",
              " 'aaruojeu',\n",
              " 'aarvdnwñ',\n",
              " 'aarwzoatq',\n",
              " 'aarxiqwgu',\n",
              " 'aarykurbi',\n",
              " 'aarz',\n",
              " 'aarzigfs',\n",
              " 'aarzjvhlwb',\n",
              " 'aarzvf',\n",
              " 'aas',\n",
              " 'aasawfx',\n",
              " 'aasbk',\n",
              " 'aaschñy',\n",
              " 'aasdog',\n",
              " 'aasdwv',\n",
              " 'aasgaofhcf',\n",
              " 'aasguz',\n",
              " 'aasii',\n",
              " 'aaskiqf',\n",
              " 'aaskqd',\n",
              " 'aaskwgkmu',\n",
              " 'aaslhdrg',\n",
              " 'aasmimjz',\n",
              " 'aasmyh',\n",
              " 'aasn',\n",
              " 'aasnbq',\n",
              " 'aaso',\n",
              " 'aasorje',\n",
              " 'aasptcj',\n",
              " 'aasqv',\n",
              " 'aasqvñfrr',\n",
              " 'aasqñe',\n",
              " 'aasrsyzyñ',\n",
              " 'aasrvkñ',\n",
              " 'aasrzaqmdu',\n",
              " 'aasskwdh',\n",
              " 'aassm',\n",
              " 'aassphj',\n",
              " 'aast',\n",
              " 'aastqs',\n",
              " 'aasvcxfr',\n",
              " 'aasxrnv',\n",
              " 'aasxtf',\n",
              " 'aaszefyvs',\n",
              " 'aaszrpmgt',\n",
              " 'aat',\n",
              " 'aata',\n",
              " 'aatal',\n",
              " 'aatav',\n",
              " 'aatboid',\n",
              " 'aatbrw',\n",
              " 'aatbtcypd',\n",
              " 'aatcduz',\n",
              " 'aatchpeñ',\n",
              " 'aatfcvwjtd',\n",
              " 'aatffi',\n",
              " 'aatgwzñkc',\n",
              " 'aatjilffo',\n",
              " 'aatkevuz',\n",
              " 'aatlodr',\n",
              " 'aatntysph',\n",
              " 'aatnyjx',\n",
              " 'aatnyz',\n",
              " 'aatre',\n",
              " 'aatrru',\n",
              " 'aatsijfmve',\n",
              " 'aatsknttp',\n",
              " 'aattjed',\n",
              " 'aattq',\n",
              " 'aatwrbfkd',\n",
              " 'aatwsudvea',\n",
              " 'aatwsw',\n",
              " 'aatwtsodk',\n",
              " 'aatx',\n",
              " 'aatyrok',\n",
              " 'aatzdpacnñ',\n",
              " 'aatñmhhg',\n",
              " 'aatñqjz',\n",
              " 'aatñzn',\n",
              " 'aau',\n",
              " 'aauapudu',\n",
              " 'aaubintj',\n",
              " 'aaudgkñ',\n",
              " 'aaudgtñi',\n",
              " 'aaue',\n",
              " 'aauempnzc',\n",
              " 'aaugowewa',\n",
              " 'aaugñyca',\n",
              " 'aauivyv',\n",
              " 'aaujvwzv',\n",
              " 'aauksdpiyp',\n",
              " 'aaumb',\n",
              " 'aaumjymydb',\n",
              " 'aauonwfai',\n",
              " 'aaupv',\n",
              " 'aaupñss',\n",
              " 'aauqrcdfz',\n",
              " 'aaurhwbs',\n",
              " 'aaurjkgr',\n",
              " 'aaurnvr',\n",
              " 'aausof',\n",
              " 'aausu',\n",
              " 'aauugsetz',\n",
              " 'aauvgfji',\n",
              " 'aauxngbxi',\n",
              " 'aauxtcjc',\n",
              " 'aauxu',\n",
              " 'aauyc',\n",
              " 'aauycqn',\n",
              " 'aauyw',\n",
              " 'aauñdo',\n",
              " 'aauñy',\n",
              " 'aav',\n",
              " 'aava',\n",
              " 'aavaoxn',\n",
              " 'aavbf',\n",
              " 'aavbiñmy',\n",
              " 'aavbo',\n",
              " 'aavc',\n",
              " 'aavdaduub',\n",
              " 'aavfat',\n",
              " 'aavfxwgj',\n",
              " 'aavg',\n",
              " 'aavgkmtfs',\n",
              " 'aavgkoqmy',\n",
              " 'aavh',\n",
              " 'aavjdohtc',\n",
              " 'aavjl',\n",
              " 'aavjotslen',\n",
              " 'aavkt',\n",
              " 'aavkz',\n",
              " 'aavlqus',\n",
              " 'aavm',\n",
              " 'aavna',\n",
              " 'aavnxgme',\n",
              " 'aavnñuww',\n",
              " 'aavon',\n",
              " 'aavpñnqy',\n",
              " 'aavqqvbcñ',\n",
              " 'aavrf',\n",
              " 'aavrighzd',\n",
              " 'aavrjtlk',\n",
              " 'aavssqblpp',\n",
              " 'aavt',\n",
              " 'aavtdt',\n",
              " 'aavv',\n",
              " 'aavvgc',\n",
              " 'aavyñt',\n",
              " 'aavñcuamx',\n",
              " 'aavñsodr',\n",
              " 'aaw',\n",
              " 'aawaamy',\n",
              " 'aawdhk',\n",
              " 'aawdlna',\n",
              " 'aawdslzmkf',\n",
              " 'aawer',\n",
              " 'aawersvsu',\n",
              " 'aawfwccafy',\n",
              " 'aawgxvvt',\n",
              " 'aawiaxub',\n",
              " 'aawinñzvn',\n",
              " 'aawjoe',\n",
              " 'aawjwhkñ',\n",
              " 'aawkjvi',\n",
              " 'aawl',\n",
              " 'aawlwvgqia',\n",
              " 'aawmlgzg',\n",
              " 'aawnbmildv',\n",
              " 'aawnqhh',\n",
              " 'aawoxjaktq',\n",
              " 'aawphcvcdu',\n",
              " 'aawpiyñe',\n",
              " 'aawptpoc',\n",
              " 'aawqc',\n",
              " 'aawqndrh',\n",
              " 'aawrgg',\n",
              " 'aawrw',\n",
              " 'aaws',\n",
              " 'aawsmpa',\n",
              " 'aawsrvhxf',\n",
              " 'aawu',\n",
              " 'aawvf',\n",
              " 'aawvykñjtz',\n",
              " 'aawvñmqsf',\n",
              " 'aawwcyl',\n",
              " 'aawxfthr',\n",
              " 'aawxipmga',\n",
              " 'aawxjlplu',\n",
              " 'aawymwu',\n",
              " 'aawyn',\n",
              " 'aawzi',\n",
              " 'aawzj',\n",
              " 'aawzymñs',\n",
              " 'aawñys',\n",
              " 'aax',\n",
              " 'aaxan',\n",
              " 'aaxbylh',\n",
              " 'aaxcxg',\n",
              " 'aaxd',\n",
              " 'aaxerjyz',\n",
              " 'aaxfje',\n",
              " 'aaxgxzk',\n",
              " 'aaxgymay',\n",
              " 'aaxhmrdbh',\n",
              " 'aaxhvtfs',\n",
              " 'aaxia',\n",
              " 'aaxjthz',\n",
              " 'aaxk',\n",
              " 'aaxkl',\n",
              " 'aaxkwgñi',\n",
              " 'aaxnym',\n",
              " 'aaxpuw',\n",
              " 'aaxtbaq',\n",
              " 'aaxu',\n",
              " 'aaxuvdjjw',\n",
              " 'aaxwa',\n",
              " 'aaxwyoqt',\n",
              " 'aaxy',\n",
              " 'aaxyusmwel',\n",
              " 'aaxywko',\n",
              " 'aaxzpxom',\n",
              " 'aaxzr',\n",
              " 'aaxzrqmr',\n",
              " 'aaxñkijpy',\n",
              " 'aay',\n",
              " 'aayb',\n",
              " 'aaybkm',\n",
              " 'aaybr',\n",
              " 'aayfymntdñ',\n",
              " 'aaygfkzjcy',\n",
              " 'aayh',\n",
              " 'aayhyqxay',\n",
              " 'aayidjk',\n",
              " 'aaykbf',\n",
              " 'aaykmqw',\n",
              " 'aaylhwhnxs',\n",
              " 'aaylkhmd',\n",
              " 'aaymfxy',\n",
              " 'aaymvhv',\n",
              " 'aaynñfmchg',\n",
              " 'aayoñ',\n",
              " 'aayp',\n",
              " 'aayqppoike',\n",
              " 'aayrfn',\n",
              " 'aayrwjr',\n",
              " 'aayu',\n",
              " 'aayudegxhu',\n",
              " 'aayukvtñam',\n",
              " 'aayuwuziq',\n",
              " 'aayv',\n",
              " 'aayvomsc',\n",
              " 'aayvr',\n",
              " 'aaywttñyo',\n",
              " 'aayxby',\n",
              " 'aayxeqpb',\n",
              " 'aayxu',\n",
              " 'aayxñhgstb',\n",
              " 'aayz',\n",
              " 'aayñyo',\n",
              " 'aayññqo',\n",
              " 'aaz',\n",
              " 'aazañffygu',\n",
              " 'aazd',\n",
              " 'aazdiy',\n",
              " 'aazdwruo',\n",
              " 'aaze',\n",
              " 'aazeqiud',\n",
              " 'aazf',\n",
              " 'aazfwdduac',\n",
              " 'aazg',\n",
              " 'aazgc',\n",
              " 'aazgkq',\n",
              " 'aazhtupli',\n",
              " 'aazinñrb',\n",
              " 'aazitqcquq',\n",
              " 'aazlmlo',\n",
              " 'aazloeqxca',\n",
              " 'aazlzfñho',\n",
              " 'aazmjy',\n",
              " 'aazngjyxir',\n",
              " 'aazpjucmjw',\n",
              " 'aazptnxzkp',\n",
              " 'aazqazcrr',\n",
              " 'aazqm',\n",
              " 'aazrsvsotw',\n",
              " 'aazruenhpt',\n",
              " 'aazs',\n",
              " 'aazsz',\n",
              " 'aaztqazgsr',\n",
              " 'aaztt',\n",
              " 'aazuckgpa',\n",
              " 'aazvnpap',\n",
              " 'aazwq',\n",
              " 'aazxpgwznr',\n",
              " 'aazxyh',\n",
              " 'aazz',\n",
              " 'aazzgtñuxi',\n",
              " 'aazzmlwcrs',\n",
              " 'aazñ',\n",
              " 'aazñiomsyy',\n",
              " 'aañ',\n",
              " 'aañbvlqo',\n",
              " 'aañfgxclqo',\n",
              " 'aañfoañi',\n",
              " 'aañh',\n",
              " 'aañiwzudñh',\n",
              " 'aañj',\n",
              " 'aañjamz',\n",
              " 'aañl',\n",
              " 'aañlwf',\n",
              " 'aañmbb',\n",
              " 'aañmcteqvd',\n",
              " 'aañmzmdflf',\n",
              " 'aañpsgyñ',\n",
              " 'aañqzotxbx',\n",
              " 'aañrlsd',\n",
              " 'aañthoqñ',\n",
              " 'aañtyvgin',\n",
              " 'aañu',\n",
              " 'aañuiepk',\n",
              " 'aañutñlx',\n",
              " 'aañvc',\n",
              " 'aañvsmwl',\n",
              " 'aañw',\n",
              " 'aañxezn',\n",
              " 'aañxg',\n",
              " 'aañxlbp',\n",
              " 'aañzyteo',\n",
              " 'aañzzivvwb',\n",
              " 'aañzzyb',\n",
              " 'aaññc',\n",
              " 'aaññewfno',\n",
              " 'aaññm',\n",
              " 'ab',\n",
              " 'aba',\n",
              " 'abaa',\n",
              " 'abab',\n",
              " 'ababdary',\n",
              " 'ababf',\n",
              " 'ababh',\n",
              " 'abac',\n",
              " 'abadtcqyzt',\n",
              " 'abadw',\n",
              " 'abae',\n",
              " 'abaesbv',\n",
              " 'abagpme',\n",
              " 'abahfxgv',\n",
              " 'abaihñbf',\n",
              " 'abajxba',\n",
              " 'abakves',\n",
              " 'abal',\n",
              " 'abalgwndk',\n",
              " 'abalth',\n",
              " 'abalzfñ',\n",
              " 'abamygjjqi',\n",
              " 'abankwqh',\n",
              " 'abao',\n",
              " 'abaonje',\n",
              " 'abapjlbyzw',\n",
              " 'abarnhozb',\n",
              " 'abasxlmim',\n",
              " 'abasñmnac',\n",
              " 'abatdevzgg',\n",
              " 'abawhñle',\n",
              " 'abaws',\n",
              " 'abayeñgjfx',\n",
              " 'abaystread',\n",
              " 'abaz',\n",
              " 'abazldv',\n",
              " 'abazvtqu',\n",
              " 'abaññ',\n",
              " 'abb',\n",
              " 'abbavnuof',\n",
              " 'abbb',\n",
              " 'abbcliveñ',\n",
              " 'abbdqtjtdk',\n",
              " 'abbecñcg',\n",
              " 'abbfjhphf',\n",
              " 'abbhxdl',\n",
              " 'abbikt',\n",
              " 'abbjigkx',\n",
              " 'abbk',\n",
              " 'abbl',\n",
              " 'abbn',\n",
              " 'abbnh',\n",
              " 'abbnvv',\n",
              " 'abbo',\n",
              " 'abboloiub',\n",
              " 'abborwmz',\n",
              " 'abbpi',\n",
              " 'abbpqqa',\n",
              " 'abbqñsmm',\n",
              " 'abbrh',\n",
              " 'abbrk',\n",
              " 'abbtizm',\n",
              " 'abbtlpr',\n",
              " 'abbugif',\n",
              " 'abbve',\n",
              " 'abbvñ',\n",
              " 'abbwbokayn',\n",
              " 'abbwwobcv',\n",
              " 'abbxgszh',\n",
              " 'abbzryidqo',\n",
              " 'abbñ',\n",
              " 'abbñj',\n",
              " 'abc',\n",
              " ...]"
            ]
          },
          "metadata": {},
          "execution_count": 23
        }
      ]
    },
    {
      "cell_type": "code",
      "metadata": {
        "colab": {
          "base_uri": "https://localhost:8080/"
        },
        "id": "bcwthXEVw8Uf",
        "outputId": "55618bc5-a7ad-4c92-b53b-e67d0798c794"
      },
      "source": [
        "def ssort(lista: list):\n",
        "    for i in range(len(lista)):\n",
        "        ix_min = i\n",
        "        for j in range(i+1,len(lista)):\n",
        "            if lista[j] < lista[ix_min]:\n",
        "                ix_min = j\n",
        "        swap(lista, i, ix_min)\n",
        "\n",
        "lista = [4, 2, 8, 5, 1, 7]\n",
        "ssort(lista)\n",
        "print(lista)"
      ],
      "execution_count": null,
      "outputs": [
        {
          "output_type": "stream",
          "name": "stdout",
          "text": [
            "[1, 2, 4, 5, 7, 8]\n"
          ]
        }
      ]
    },
    {
      "cell_type": "code",
      "metadata": {
        "id": "mEiUHUa1x8F0"
      },
      "source": [
        "ssort(palabras)\n",
        "print(palabras)"
      ],
      "execution_count": null,
      "outputs": []
    }
  ]
}