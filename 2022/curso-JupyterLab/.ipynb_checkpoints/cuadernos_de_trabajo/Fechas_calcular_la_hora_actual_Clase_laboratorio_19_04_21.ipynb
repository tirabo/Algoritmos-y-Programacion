{
  "nbformat": 4,
  "nbformat_minor": 0,
  "metadata": {
    "colab": {
      "name": "Clase laboratorio 19-04-21.ipynb",
      "provenance": [],
      "collapsed_sections": [],
      "authorship_tag": "ABX9TyMfmOtdn4E0E8dH1w1ErzLj",
      "include_colab_link": true
    },
    "kernelspec": {
      "name": "python3",
      "display_name": "Python 3"
    },
    "language_info": {
      "name": "python"
    }
  },
  "cells": [
    {
      "cell_type": "markdown",
      "metadata": {
        "id": "view-in-github",
        "colab_type": "text"
      },
      "source": [
        "<a href=\"https://colab.research.google.com/github/tirabo/Algoritmos-y-Programacion/blob/main/Fechas_calcular_la_hora_actual_Clase_laboratorio_19_04_21.ipynb\" target=\"_parent\"><img src=\"https://colab.research.google.com/assets/colab-badge.svg\" alt=\"Open In Colab\"/></a>"
      ]
    },
    {
      "cell_type": "markdown",
      "metadata": {
        "id": "rdAldh3wckuq"
      },
      "source": [
        "## Calcular la hora actual\n",
        "\n",
        "Python prové la biblioteca `time` con funciones pra manejar fechas y otro tipo de datos temporales. \n",
        "\n",
        "Nosotros vamos a usarla para calcular la hora actual"
      ]
    },
    {
      "cell_type": "code",
      "metadata": {
        "colab": {
          "base_uri": "https://localhost:8080/"
        },
        "id": "vGMoClUCdQYf",
        "outputId": "2f3fd05f-7637-484d-daab-02980f8b04a1"
      },
      "source": [
        "import time\n",
        "\n",
        "tiempo_GMT_float = time.time() # nos devuelve los segundos transcurridos desde \n",
        "                               # epoch,  es decir desde el 1-1-1970\n",
        "print(tiempo_GMT_float)\n",
        "\n",
        "tiempo_GMT_int = int(tiempo_GMT_float)\n",
        "print(tiempo_GMT_int)\n",
        "\n",
        "\n"
      ],
      "execution_count": null,
      "outputs": [
        {
          "output_type": "stream",
          "text": [
            "1618841701.656168\n",
            "1618841701\n"
          ],
          "name": "stdout"
        }
      ]
    },
    {
      "cell_type": "code",
      "metadata": {
        "colab": {
          "base_uri": "https://localhost:8080/"
        },
        "id": "POpFkCQrTuko",
        "outputId": "7d55fc2a-910c-481f-f8fa-04c863ed5489"
      },
      "source": [
        "print(tiempo_GMT_int) #"
      ],
      "execution_count": null,
      "outputs": [
        {
          "output_type": "stream",
          "text": [
            "1618841701\n"
          ],
          "name": "stdout"
        }
      ]
    },
    {
      "cell_type": "code",
      "metadata": {
        "id": "InKpBWv-dNAB"
      },
      "source": [
        ""
      ],
      "execution_count": null,
      "outputs": []
    },
    {
      "cell_type": "code",
      "metadata": {
        "colab": {
          "base_uri": "https://localhost:8080/"
        },
        "id": "Ep5HShLaUE6N",
        "outputId": "fbbc1fd4-9667-4ffe-ddc9-35cacc7250c7"
      },
      "source": [
        "def tiempo_actual_GMT() -> int:\n",
        "  # Segundos transcurridos desde el 1-1-1970 a las 0:00:00 horas en Londres (UNIX epoch)\n",
        "  return int(time.time())\n",
        "\n",
        "tiempo_actual_GMT()"
      ],
      "execution_count": null,
      "outputs": [
        {
          "output_type": "execute_result",
          "data": {
            "text/plain": [
              "1618841931"
            ]
          },
          "metadata": {
            "tags": []
          },
          "execution_count": 33
        }
      ]
    },
    {
      "cell_type": "markdown",
      "metadata": {
        "id": "_UJu-Bv4gQGr"
      },
      "source": [
        "Ahora averiguaremos la hora GMT (son 3 más que en Argentina). Por  ejemplo, las 11:21:35 en Argentina son las 14:21:35 en Londres. \n",
        "\n",
        "**Averigüemos los segundos.** \n",
        "Fijarse, por ejemplo, \n",
        "\n",
        "- Si pasaron 30 segundos desde epoch: el resultado es 30. \n",
        "- Si pasaron 1m 45s = 105s : el resultado es 45.\n",
        "- Si pasaron 3m 37s = 3\\*60 + 37: el resultado es 37. \n",
        "- Si pasaron 1h 24m 15s= 60\\*60 + 24\\*60 + 15 = 60\\*84 +15: el resultado es 15\n",
        "- Si pasaron `x` segundos desde epoch, el resultado es `x % 60`"
      ]
    },
    {
      "cell_type": "code",
      "metadata": {
        "id": "1GsiduTTUdhK"
      },
      "source": [
        "def segundos_GMT(secs: int) -> int:\n",
        "  return secs % 60\n",
        "\n",
        "tactual = int(time.time())\n",
        "print(segundos_GMT(tactual))\n",
        "\n",
        "tactual2 = tiempo_actual_GMT()\n",
        "print(segundos_GMT(tactual2))\n",
        "\n",
        "print(segundos_GMT(tiempo_actual_GMT()))\n",
        "\n"
      ],
      "execution_count": null,
      "outputs": []
    },
    {
      "cell_type": "markdown",
      "metadata": {
        "id": "z37NW4vpjGlP"
      },
      "source": [
        "**Averiguemos los minutos** \n"
      ]
    },
    {
      "cell_type": "code",
      "metadata": {
        "colab": {
          "base_uri": "https://localhost:8080/"
        },
        "id": "EwexYARljohR",
        "outputId": "b6c180a1-b145-4120-d118-9b4dba4f9022"
      },
      "source": [
        "def minutos_GMT(secs: int) -> int:\n",
        "  min = secs // 60\n",
        "  return min % 60\n",
        "\n",
        "tactual = tiempo_actual_GMT()\n",
        "print(minutos_GMT(tactual))"
      ],
      "execution_count": null,
      "outputs": [
        {
          "output_type": "stream",
          "text": [
            "48\n"
          ],
          "name": "stdout"
        }
      ]
    },
    {
      "cell_type": "markdown",
      "metadata": {
        "id": "2R_py4Bkmmu9"
      },
      "source": [
        "**Averigüemos las horas**"
      ]
    },
    {
      "cell_type": "code",
      "metadata": {
        "colab": {
          "base_uri": "https://localhost:8080/"
        },
        "id": "52uo-Og0msFx",
        "outputId": "217058ac-824c-4918-97f3-6dd1d1fe0dec"
      },
      "source": [
        "def horas_GMT(secs: int) -> int:\n",
        "  min = secs // 60\n",
        "  hora = min // 60\n",
        "  return hora % 24\n",
        "\n",
        "tactual = tiempo_actual_GMT()\n",
        "print(horas_GMT(tactual))\n"
      ],
      "execution_count": null,
      "outputs": [
        {
          "output_type": "stream",
          "text": [
            "14\n"
          ],
          "name": "stdout"
        }
      ]
    },
    {
      "cell_type": "markdown",
      "metadata": {
        "id": "jHiKbmXgnrj3"
      },
      "source": [
        "**Tiempo GMT**"
      ]
    },
    {
      "cell_type": "code",
      "metadata": {
        "colab": {
          "base_uri": "https://localhost:8080/"
        },
        "id": "kOuKiM5Cnuk6",
        "outputId": "b5c74a6b-272a-4a8e-b7d5-fc09b9ef5ffb"
      },
      "source": [
        "def hora_GMT(secs: int) -> tuple:\n",
        "  # pre: secs > 0\n",
        "  # post: devuelve una 3-upla de enteros (hora, minuto, segundo) GMT\n",
        "  horas = horas_GMT(secs)\n",
        "  minutos = minutos_GMT(secs)\n",
        "  segundos = segundos_GMT(secs)\n",
        "  return (horas, minutos, segundos)\n",
        "\n",
        "tactual = tiempo_actual_GMT()\n",
        "print(hora_GMT(tactual))\n"
      ],
      "execution_count": null,
      "outputs": [
        {
          "output_type": "stream",
          "text": [
            "(14, 59, 26)\n"
          ],
          "name": "stdout"
        }
      ]
    },
    {
      "cell_type": "code",
      "metadata": {
        "colab": {
          "base_uri": "https://localhost:8080/"
        },
        "id": "mNDkt9-upWQw",
        "outputId": "ec63be23-24ca-4f1d-c4fc-cde4a34c1a91"
      },
      "source": [
        "# Equivalentemente se podría definir\n",
        "def hora_GMT_2(secs: int) -> tuple:\n",
        "  # pre: secs > 0\n",
        "  # post: devuelve una 3-upla de enteros (hora, minuto, segundo) GMT\n",
        "  segundos = secs % 60\n",
        "  minutos_transcurridos = secs // 60\n",
        "  minutos = minutos_transcurridos % 60\n",
        "  horas_trancurridas = minutos_transcurridos // 60\n",
        "  horas = horas_trancurridas % 24\n",
        "  return (horas, minutos, segundos)\n",
        "\n",
        "tactual = tiempo_actual_GMT()\n",
        "print(hora_GMT(tactual))\n",
        "print(hora_GMT_2(tactual))"
      ],
      "execution_count": null,
      "outputs": [
        {
          "output_type": "stream",
          "text": [
            "(15, 4, 16)\n",
            "(15, 4, 16)\n"
          ],
          "name": "stdout"
        }
      ]
    },
    {
      "cell_type": "markdown",
      "metadata": {
        "id": "hgVHV0_qqU3b"
      },
      "source": [
        "**¿Cómo calculo la hora actual en la Argentina?**\n",
        "\n",
        "El  operador `%` funciona como una calesita. Si tengo una lista de números que va creciendo de a 1 y hago a toda la lista `% 5`, de la lista\n",
        "\n",
        "    [0, 1, 2, 3, 4, 5, 6, 7, 8, 9 ,10, 11, ...]\n",
        "obtenemos\n",
        "\n",
        "    [0, 1, 2, 3, 4, 0, 1, 2, 3, 4 ,0, 1, ...]\n",
        "\n",
        "Si es la 1 de la mañana, es decir `(1,0,0)`,  en la Argentina es las `(22, 0, 0)`. \n",
        "\n",
        "Fijarse que $1-3 \\equiv 22 \\pmod{24}$ es decir `(1- 3) % 24 = 22`. \n",
        "\n",
        "Observemos que si  han pasado 5 horas desde las 10  la noche,  son las 3  de la mañana. Es decir `(22 + 5) % 24`.\n",
        "\n",
        "Si han pasado 43 horas desde la 10 de la noche ¿qué hora es? es `(22 + 43) % 24` (es 17  horas). \n",
        "\n",
        "\n"
      ]
    },
    {
      "cell_type": "code",
      "metadata": {
        "colab": {
          "base_uri": "https://localhost:8080/"
        },
        "id": "GATkS-UasKS9",
        "outputId": "95ed5a5c-fcc5-4c00-c3e5-1e8ddbe3a4ee"
      },
      "source": [
        "def hora_actual_ARG():\n",
        "  tactual = tiempo_actual_GMT()\n",
        "  hora_actual_GMT = hora_GMT(tactual)\n",
        "  h_ARG = (hora_actual_GMT[0] - 3) % 24\n",
        "  return (h_ARG, hora_actual_GMT[1], hora_actual_GMT[2])\n",
        "\n",
        "print(hora_actual_ARG())\n"
      ],
      "execution_count": null,
      "outputs": [
        {
          "output_type": "stream",
          "text": [
            "(12, 20, 15)\n"
          ],
          "name": "stdout"
        }
      ]
    }
  ]
}