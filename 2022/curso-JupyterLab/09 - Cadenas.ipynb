{
 "cells": [
  {
   "cell_type": "markdown",
   "metadata": {
    "id": "R22rHsKNE6_r"
   },
   "source": [
    "## 1. Cadenas\n",
    "\n",
    "Las cadenas no son como los números enteros, números punto flotante y o  los booleanos. Una cadena es una *secuencia*, lo que significa que es una colección ordenada de valores,  en este caso de caracteres. \n",
    "\n",
    "Las cadenas, el tipo `str`, son de suma utilidad en la programación y Python provee un manejo muy intuitivo de ellas que hace que las podamos manejar con facilidad \n",
    "\n",
    "**Una cadena es una secuencia.** Como ya dijimos, una cadena es una secuencia de caracteres.  Para especificar una cadena  en Python hay que escribir una secuencia de caracteres encerrados entre comillas simple o dobles: \n"
   ]
  },
  {
   "cell_type": "code",
   "execution_count": null,
   "metadata": {
    "id": "DaQczli56Odm"
   },
   "outputs": [],
   "source": [
    "print('Hola')\n",
    "print(\"Hola\")"
   ]
  },
  {
   "cell_type": "markdown",
   "metadata": {
    "id": "RoH0iNin6Onw"
   },
   "source": [
    "Se puede acceder a los caracteres de uno en uno con el operador de corchetes:"
   ]
  },
  {
   "cell_type": "code",
   "execution_count": null,
   "metadata": {
    "id": "rcwj_ZQDKInV"
   },
   "outputs": [],
   "source": [
    "fruta = 'banana'\n",
    "letra = fruta[1]\n",
    "print(letra)"
   ]
  },
  {
   "cell_type": "markdown",
   "metadata": {
    "id": "U--zhAMmKIwK"
   },
   "source": [
    "La segunda declaración selecciona el carácter número 1 de `fruta` y lo asigna a la variable `letra`.\n",
    "\n",
    "La expresión entre corchetes se llama *índice*. El índice indica qué carácter de la secuencia desea (de ahí el nombre).\n",
    "\n",
    "En  una cadena el primer carácter tiene índice `0`, el segundo tiene índice `1` y así sucesivamente. Por ejemplo:"
   ]
  },
  {
   "cell_type": "code",
   "execution_count": null,
   "metadata": {
    "id": "cmlfEQ8SKx9h"
   },
   "outputs": [],
   "source": [
    "print(fruta[0])\n",
    "print(letra)\n",
    "print(fruta[2])"
   ]
  },
  {
   "cell_type": "markdown",
   "metadata": {
    "id": "CfT4MxfTKyEg"
   },
   "source": [
    "nos imprime en patalla `b`, `a`, `n` respectivamente.\n",
    "\n",
    "Se puede usar como índices expresiones que contengan variables y operadores:"
   ]
  },
  {
   "cell_type": "code",
   "execution_count": null,
   "metadata": {
    "id": "4bCZooFoLeqE"
   },
   "outputs": [],
   "source": [
    "i = 1\n",
    "print(fruta)\n",
    "print(fruta[i])\n",
    "print(fruta[i + 1])"
   ]
  },
  {
   "cell_type": "markdown",
   "metadata": {
    "id": "iyfVlXhqLeyw"
   },
   "source": [
    "Pero el valor del índice debe ser un número entero. De lo contrario, se obtiene un error. \n",
    "\n",
    "**Concatenar cadenas.** Una de las operaciones más útiles entre cadenas es la de  *concatenación* que simplemente \"pega\" dos cadenas,  una después de otra. Para concatenar  cadenas se usa el operador `+`. Por ejemplo:"
   ]
  },
  {
   "cell_type": "code",
   "execution_count": null,
   "metadata": {
    "colab": {
     "base_uri": "https://localhost:8080/",
     "height": 35
    },
    "executionInfo": {
     "elapsed": 256,
     "status": "ok",
     "timestamp": 1632942768077,
     "user": {
      "displayName": "Alejandro Leopoldo Tiraboschi",
      "photoUrl": "https://lh3.googleusercontent.com/a-/AOh14Gir321Aip7u2JtD7LMLQbY3a1oHsAD11CVed_UbeFc=s64",
      "userId": "02370857492204546552"
     },
     "user_tz": 180
    },
    "id": "CxsRUVNSR3pr",
    "outputId": "1667f801-da92-429e-bef6-6bc2669a0b4d"
   },
   "outputs": [
    {
     "data": {
      "application/vnd.google.colaboratory.intrinsic+json": {
       "type": "string"
      },
      "text/plain": [
       "'DNI: 99456321'"
      ]
     },
     "execution_count": 13,
     "metadata": {},
     "output_type": "execute_result"
    }
   ],
   "source": [
    "tipo_doc = 'DNI: '\n",
    "nro_doc = '99456321'\n",
    "tipo_doc + nro_doc"
   ]
  },
  {
   "cell_type": "markdown",
   "metadata": {
    "id": "dM60fcGfScw1"
   },
   "source": [
    "Se puede aplicar varias veces en una misma expresión entre cadenas el operador `+`. El operador `+` es asociativo,  pero, obviamente, no es conmutativo. El *neutro* es la cadena vacía `''`,  es decir\n",
    "```\n",
    "cadena + '' == cadena\n",
    "```"
   ]
  },
  {
   "cell_type": "markdown",
   "metadata": {
    "id": "gBJSu0evR3xA"
   },
   "source": [
    " \n",
    "\n",
    "**La función `len`.** `len` es una función incorporada que devuelve el número de caracteres en una cadena:"
   ]
  },
  {
   "cell_type": "code",
   "execution_count": null,
   "metadata": {
    "id": "3Cl_0a8AMNg0"
   },
   "outputs": [],
   "source": [
    "fruta = 'banana'\n",
    "len(fruta)"
   ]
  },
  {
   "cell_type": "markdown",
   "metadata": {
    "id": "tXVW8bqwMNpF"
   },
   "source": [
    "Observar que para obtener la última letra de una cadena debemos  usar como índice la longitud de la cadena menos 1:"
   ]
  },
  {
   "cell_type": "code",
   "execution_count": null,
   "metadata": {
    "id": "d1pokptKMhNr"
   },
   "outputs": [],
   "source": [
    "fruta[len(fruta) - 1]"
   ]
  },
  {
   "cell_type": "markdown",
   "metadata": {
    "id": "lJMlhDEJMhV9"
   },
   "source": [
    "La instrucción `fruta[len(fruta)]` nos devoverá un error pues el índice `len(fruta)` se refiere al elemento   `len(fruta)+1`-ésimo de la cadena y  ese elemento no existe. En este caso particular, el motivo del error es que no hay ninguna letra en` 'banana'` con el índice 6. Como empezamos a contar desde cero, las seis letras están numeradas del 0 al 5. Para obtener el último carácter, se debe restar 1 de `len(fruta)`:\n",
    "\n",
    "También se  pueden usar índices negativos, que cuentan hacia atrás desde el final de la cadena. La expresión `fruta[-1]` da como resultado la última letra, `fruta[-2]` da como resultado la penúltima, y ​​así sucesivamente.\n",
    "\n",
    "**Las cadenas son inmutables.**  Es tentador usar el operador `[]` en el lado izquierdo de una asignación, con la intención de cambiar un carácter en una cadena. Por ejemplo, si ejecutamos:"
   ]
  },
  {
   "cell_type": "code",
   "execution_count": null,
   "metadata": {
    "id": "IqbrVJdpOpOQ"
   },
   "outputs": [],
   "source": [
    "cadena = 'ab'\n",
    "cadena[0] = 'x'"
   ]
  },
  {
   "cell_type": "markdown",
   "metadata": {
    "id": "XuCRtmS7OpWl"
   },
   "source": [
    "nos devuelve\n",
    "\n",
    "    TypeError: 'str' object does not support item assignment\n",
    "\n",
    "que nos dice que el tipo `str` no admite asignación de items. \n",
    "\n",
    "El motivo del error es que las cadenas son *inmutables*, lo que significa que no se puede cambiar un cadena existente. Lo que sí se puede hacer es crear una nueva cadena que es una variación del original:"
   ]
  },
  {
   "cell_type": "code",
   "execution_count": null,
   "metadata": {
    "id": "GCyliraaPn1o"
   },
   "outputs": [],
   "source": [
    "cadena = 'ab'\n",
    "cadena2 = 'x' + cadena[1]\n",
    "cadena2"
   ]
  },
  {
   "cell_type": "markdown",
   "metadata": {
    "id": "wspe4zkvPn9O"
   },
   "source": [
    "Este ejemplo concatena una nueva primera letra con el final de `cadena` y no tiene ningún efecto sobre la cadena original. Por supuesto, que también podríamos haber hecho"
   ]
  },
  {
   "cell_type": "code",
   "execution_count": null,
   "metadata": {
    "id": "hBu8JfswyYPk"
   },
   "outputs": [],
   "source": [
    "cadena = 'ab'\n",
    "cadena = 'x' + cadena[1]\n",
    "cadena"
   ]
  },
  {
   "cell_type": "markdown",
   "metadata": {
    "id": "mVnOqaYUQHVx"
   },
   "source": [
    "En este caso, en la segunda instrucción se destruye la variable original `cadena` y se crea otra variable,  que llamamos nuevamente `cadena`,  con otros valores. Estas tres líneas de programación *simulan* el cambio de un caracter en una cadena.  "
   ]
  },
  {
   "cell_type": "markdown",
   "metadata": {
    "id": "3AFavLV2Tgne"
   },
   "source": [
    "## 2. Recorriendo cadenas\n",
    "\n",
    "Muchos cálculos implican procesar una cadena de un carácter a la vez. A menudo se comienza por el principio, seleccionan un carácter por vez, se hace algo y se continúa hasta el final. Este patrón de procesamiento se llama *recorrido*. Una forma de escribir un recorrido es con un ciclo `while`:"
   ]
  },
  {
   "cell_type": "code",
   "execution_count": null,
   "metadata": {
    "id": "baub315EWNNZ"
   },
   "outputs": [],
   "source": [
    "fruta = 'banana'\n",
    "índice = 0\n",
    "while índice < len(fruta):\n",
    "    letra = fruta[índice]\n",
    "    print(letra)\n",
    "    índice = índice + 1"
   ]
  },
  {
   "cell_type": "markdown",
   "metadata": {
    "id": "7aRJriD4WNUH"
   },
   "source": [
    "Este ciclo recorre la cadena y muestra cada letra en una línea. La condición del ciclo es `índice < len(fruta)`, por lo que cuando `índice` es igual a la longitud de la cadena, la condición es falsa y el cuerpo del ciclo no se ejecuta. El último carácter al que se accede es el que tiene el índice `len(fruta) - 1`, que es el último carácter de la cadena.\n",
    "\n",
    "Como ejercicio, escribamos una función que tome una cadena como argumento y muestre las letras al revés, una por línea."
   ]
  },
  {
   "cell_type": "code",
   "execution_count": null,
   "metadata": {
    "id": "vMNeDgrD_1c6"
   },
   "outputs": [],
   "source": [
    "fruta = 'banana'\n",
    "índice = len(fruta) - 1\n",
    "while índice >= 0:\n",
    "    letra = fruta[índice]\n",
    "    print(letra)\n",
    "    índice = índice - 1"
   ]
  },
  {
   "cell_type": "markdown",
   "metadata": {
    "id": "DA0HpGrH_5bP"
   },
   "source": [
    "\n",
    "\n",
    "Las cadena son iterables y por lo tanto pueden ser recorridas por un ciclo `for`. Por ejemplo,"
   ]
  },
  {
   "cell_type": "code",
   "execution_count": null,
   "metadata": {
    "id": "4WNPPROYXlKo"
   },
   "outputs": [],
   "source": [
    "for letra in fruta:\n",
    "    print(letra)"
   ]
  },
  {
   "cell_type": "markdown",
   "metadata": {
    "id": "LKs-NgroXlSQ"
   },
   "source": [
    "Cada vez que pasa por el ciclo, el siguiente carácter de la cadena se asigna a la variable `letra`. El ciclo continúa hasta que no quedan caracteres.\n",
    "\n",
    "El siguiente ejemplo muestra cómo usar la concatenación (suma de cadenas) y un ciclo `for` para generar una serie de 9 items numerados, donde el contenido del ítem siempre es el mismo."
   ]
  },
  {
   "cell_type": "code",
   "execution_count": null,
   "metadata": {
    "id": "qnWsFTo6Ys6i"
   },
   "outputs": [],
   "source": [
    "prefijo = '123456789'\n",
    "item = 'valija'\n",
    "for x in prefijo:\n",
    "    print(x + '. ' + item)"
   ]
  },
  {
   "cell_type": "markdown",
   "metadata": {
    "id": "Vsvb8_lQYtB7"
   },
   "source": [
    "## 3. Notación slice\n",
    "\n",
    "\n",
    "Un segmento de una cadena es lo que se llama una *rebanada* o *slice* por su traducción al inglés. Seleccionar una slice es similar a seleccionar un carácter:"
   ]
  },
  {
   "cell_type": "code",
   "execution_count": null,
   "metadata": {
    "id": "QEHOP_9RZgxV"
   },
   "outputs": [],
   "source": [
    "fruta = 'banana'\n",
    "print(fruta[0:2])\n",
    "print(fruta[2:6])"
   ]
  },
  {
   "cell_type": "markdown",
   "metadata": {
    "id": "uYzXS4Z4Zg5Q"
   },
   "source": [
    "El operador `[n : m]` devuelve la rebanada de la cadena del caracteres entre el \"corte\" `n`y el \"corte\" `m`. Ahora explicaremos lo que significa \"corte\", pero primero debemos aclarar que *no* se refiere a un índice,  sinó al corte entre dos elementos. Ejemplifiquemos con la cadena `banana`:\n",
    "$$\n",
    "\\begin{matrix}\n",
    "\\text{Cadena:} &|&\\tt b&|&\\tt a&|&\\tt n&|&\\tt a&|&\\tt n&|&\\tt a&|& \\\\\n",
    "\\text{Corte:}\\;\\;\\;&0&&1&&2&&3&&4&&5&&6& \\\\\n",
    "\\end{matrix}\n",
    "$$\n",
    "\n",
    "Observar que (imaginariamente) hemos puesto cada carácter en una casilla y  los cortes son las paredes de las casillas. Entonces las primeras 2 letras están entre las paredes 0 y 2  y las últimas 4 letras entre las paredes 2 y 6. \n",
    "\n",
    "Si se omite el primer índice (antes de los dos puntos), el segmento comienza al principio de la cadena. Si omite el segundo índice, el segmento va al final de la cadena:\n"
   ]
  },
  {
   "cell_type": "code",
   "execution_count": null,
   "metadata": {
    "id": "3XjTVEeKc1R1"
   },
   "outputs": [],
   "source": [
    "fruta = 'banana'\n",
    "print(fruta[:2])\n",
    "print(fruta[2:])\n",
    "\n",
    "cadena = 'sobretodo'\n",
    "print(cadena)\n",
    "print(cadena[:5])\n",
    "print(cadena[5:])\n",
    "print(cadena[:5])\n",
    "print(cadena[:5] + cadena[5:])"
   ]
  },
  {
   "cell_type": "markdown",
   "metadata": {
    "id": "7FhBJtL9c1Z5"
   },
   "source": [
    "Si el primer índice es mayor o igual que el segundo, el resultado es una cadena vacía, representada por dos comillas:"
   ]
  },
  {
   "cell_type": "code",
   "execution_count": null,
   "metadata": {
    "id": "RBOXsau5dIWb"
   },
   "outputs": [],
   "source": [
    "fruta[3:3]"
   ]
  },
  {
   "cell_type": "markdown",
   "metadata": {
    "id": "i8wp_qRtdIfa"
   },
   "source": [
    "\n",
    "Una cadena vacía no contiene caracteres y tiene una longitud 0, pero aparte de eso, es igual que cualquier otra cadena.\n",
    "\n",
    "Continuando con este ejemplo, ¿qué crees que significa `fruta[:]`? Veamos:  "
   ]
  },
  {
   "cell_type": "code",
   "execution_count": null,
   "metadata": {
    "id": "oYa1QyGjTgzJ"
   },
   "outputs": [],
   "source": [
    "fruta2 = fruta[:]\n",
    "print(fruta2)\n",
    "\n",
    "fruta3 = ''\n",
    "for x in fruta:\n",
    "    fruta3 = fruta3 + x\n",
    "print(fruta3) "
   ]
  },
  {
   "cell_type": "markdown",
   "metadata": {
    "id": "soIOjxmzdcVU"
   },
   "source": [
    "Como habrás observado, `fruta[:]` reproduce la cadena original. Está instrucción es muy útil cuando queremos crear otra cadena copia de la cadena original:"
   ]
  },
  {
   "cell_type": "code",
   "execution_count": null,
   "metadata": {
    "id": "-1toMXOedcI4"
   },
   "outputs": [],
   "source": [
    "fruta = 'banana'\n",
    "fruta_2 = fruta[:]"
   ]
  },
  {
   "cell_type": "markdown",
   "metadata": {
    "id": "aW1XQCvDeBfW"
   },
   "source": [
    "Las variables `fruta` y `fruta_2` son variable diferentes que tienen el mismo valor. Es una diferencia sutil, pero es importante saber que existe. Por ejemplo, si yo destruyo y rehago por asignación la variable `fruta_2`, la variable `fruta` no cambia: "
   ]
  },
  {
   "cell_type": "code",
   "execution_count": null,
   "metadata": {
    "id": "K2mxgwBceiuC"
   },
   "outputs": [],
   "source": [
    "print(fruta, fruta_2)\n",
    "fruta_2 = 'pera'\n",
    "print(fruta, fruta_2)"
   ]
  },
  {
   "cell_type": "markdown",
   "metadata": {
    "id": "0DyagKF1gx0g"
   },
   "source": [
    "Una propiedad importante de la notación slice, es que nunca devuelve error si los cortes son números enteros,  aunque a veces devuelve la cadena vacía:"
   ]
  },
  {
   "cell_type": "code",
   "execution_count": null,
   "metadata": {
    "id": "Xi6qHluDg91a"
   },
   "outputs": [],
   "source": [
    "orden = '0123456789'\n",
    "print(orden[-4:])  # desde el corte -4 (contando desde el último corte) hasta el corte 0\n",
    "print(orden[-4: -2]) # desde el corte -4 (contando desde el último corte) hasta el corte -2\n",
    "print(orden[-4: 0])  # desde el corte -4 hasta el corte 0 (es la cadena vacía)\n",
    "print(orden[-4: 8]) # desde el corte -4 (contando desde el último corte) hasta el corte 8\n",
    "print(orden[len(orden) - 4: 8])\n",
    "print(orden[-100:])"
   ]
  },
  {
   "cell_type": "markdown",
   "metadata": {
    "id": "8rUudI1DjXhV"
   },
   "source": [
    "Para no confundirse, solo hay que tener en cuenta que un entero negativo indica la posición (negativa) desde el último corte (que es `len(cadena)`)  y  un entero positivo indica la posición desde el primer corte. \n",
    "\n",
    "Finalmente, observar que si `n > 0`, `cadena[n-1 : n]` devuelve `cadena[n - 1]` si existe, y si no, devuelve la cadena vacía, mientras que  `cadena[n - 1]` devuelve  el ítem `n`-ésimo de `cadena` si existe y si no produce un error. "
   ]
  },
  {
   "cell_type": "code",
   "execution_count": null,
   "metadata": {
    "id": "g-axabSVl_tE"
   },
   "outputs": [],
   "source": [
    "orden = '0123456789'\n",
    "print(orden)\n",
    "print(orden[0:1]) # imprime 0\n",
    "print(orden[1:2]) # imprime 1\n",
    "print(orden[2:3]) # imprime 2\n",
    "print(orden[8:9]) # imprime 8\n",
    "print(orden[9:10], orden[9]) # imprime 9 dos veces\n",
    "print(orden[10:11]) # imprime la cadena vacía\n",
    "# print(orden[10]) # descomentada devuelve error"
   ]
  },
  {
   "cell_type": "markdown",
   "metadata": {
    "id": "BiZfB8sNo3uM"
   },
   "source": [
    "## 4. Métodos de cadenas\n",
    "\n",
    "\n",
    "Las cadenas proporcionan métodos que realizan una variedad de operaciones útiles. Un método es similar a una función, toma argumentos y\n",
    "devuelve un valor, pero la sintaxis es diferente. Por ejemplo, el método `upper()` toma una cadena y devuelve una nueva cadena con todas las letras mayúsculas.\n",
    "\n",
    "En lugar de utilizar la sintaxis de función `upper(palabra)`, se utiliza la sintaxis de método `palabra.upper()`.\n"
   ]
  },
  {
   "cell_type": "code",
   "execution_count": null,
   "metadata": {
    "id": "66M1O3fRpTjG"
   },
   "outputs": [],
   "source": [
    "palabra = 'colección año 2019'\n",
    "nueva_palabra = palabra.upper()\n",
    "print(nueva_palabra)"
   ]
  },
  {
   "cell_type": "markdown",
   "metadata": {
    "id": "QkLN_IOopTqQ"
   },
   "source": [
    "\n",
    "\n",
    "\n",
    "Esta forma de notación con puntos especifica el nombre del método, `upper()`, y el nombre de la cadena a la que aplicar el método,`palabra`. Los paréntesis vacíos indican que este método  acepta ser utilizado sin argumentos. En  realidad, el método `upper()` no acepta argumentos.\n",
    "\n",
    "Una llamada a un método se denomina *invocación*; en este caso, diríamos que estamos invocando `upper()` en `palabra`.\n",
    "\n",
    "Hay un método de cadena llamado `find()` que devuelve la primera ocurrencia de una cadena en otra cadena:"
   ]
  },
  {
   "cell_type": "code",
   "execution_count": null,
   "metadata": {
    "id": "6scwQQp_qD_f"
   },
   "outputs": [],
   "source": [
    "palabra = 'colección'\n",
    "print(palabra.find('e'))\n",
    "print(palabra.find('c'))\n",
    "print(palabra.find('a'))\n",
    "print(palabra.find('ci'))"
   ]
  },
  {
   "cell_type": "markdown",
   "metadata": {
    "id": "PeFlu2miqELt"
   },
   "source": [
    "En este ejemplo, invocamos `find()` en `palabra` y pasamos la cadena que estamos buscando como parámetro. Cuando `find()` no encuentra lo que busca devuelve `-1`.\n",
    "\n",
    "De forma predeterminada, `find()` comienza al principio de la cadena, pero puede tomar un segundo argumento, el índice donde comienza a buscar:"
   ]
  },
  {
   "cell_type": "code",
   "execution_count": null,
   "metadata": {
    "id": "UD9LygZSq44S"
   },
   "outputs": [],
   "source": [
    "print(palabra.find('c',1))"
   ]
  },
  {
   "cell_type": "markdown",
   "metadata": {
    "id": "C3YD74lxq5Ap"
   },
   "source": [
    "Este es un ejemplo de un *argumento opcional*; `find()` también puede tomar un tercer argumento, el índice donde detiene la búsqueda:\n"
   ]
  },
  {
   "cell_type": "code",
   "execution_count": null,
   "metadata": {
    "colab": {
     "base_uri": "https://localhost:8080/"
    },
    "executionInfo": {
     "elapsed": 262,
     "status": "ok",
     "timestamp": 1632945091914,
     "user": {
      "displayName": "Alejandro Leopoldo Tiraboschi",
      "photoUrl": "https://lh3.googleusercontent.com/a-/AOh14Gir321Aip7u2JtD7LMLQbY3a1oHsAD11CVed_UbeFc=s64",
      "userId": "02370857492204546552"
     },
     "user_tz": 180
    },
    "id": "qPGl1rN2rVT9",
    "outputId": "0c7e79b4-47b1-43dc-e415-aeed7ce318ff"
   },
   "outputs": [
    {
     "name": "stdout",
     "output_type": "stream",
     "text": [
      "3\n"
     ]
    }
   ],
   "source": [
    "fruta = 'banana'\n",
    "print(fruta.find('a', 2, 6))"
   ]
  },
  {
   "cell_type": "markdown",
   "metadata": {
    "id": "TGQV5cLirVeR"
   },
   "source": [
    "El código anterior encuentra la primera ocurrencia de `a` en la palabra `banana` entre los índices 2 y 6.\n",
    "\n",
    "**Otros métodos útiles.** Hay una gran cantidad de métodos del tipo `str` incorporados al lenguaje Python. Veremos a continuación algunos que resultan útiles con alguna breve explicación de que es lo que hacen. \n",
    "\n",
    "| Método | |  |\n",
    "| :--- | :---: |:--- |\n",
    "|find() |:| busca en la cadena un valor especificado y devuelve la posición de donde lo encontró|\n",
    "|rfind() |:| busca en la cadena un valor especificado y devuelve la última posición donde lo encontró|\n",
    "|replace() |:| devuelve una cadena donde un el 1º valor especificado se reemplaza por el 2º valor especificado|\n",
    "|strip() |:| devuelve la cadena sin espacios, tabs, saltos al comienzo y al final|\n",
    "|lstrip() |:| devuelve la cadena sin espacios, tabs, saltos al comienzo|\n",
    "|rstrip() |:| devuelve la cadena sin espacios, tabs, saltos al final|\n",
    "|upper() |:| convierte una cadena en mayúsculas|\n",
    "|lower() |:| convierte una cadena en minúsculas|\n",
    "|capitalize() |:| convierte el primer carácter a mayúsculas|\n",
    "|title() |:| convierte el primer carácter de cada palabra a mayúsculas|\n",
    "|islower() |:| devuelve True si todos los caracteres de la cadena son minúsculas|\n",
    "|isupper() |:| devuelve True si todos los caracteres de la cadena están en mayúsculas|\n",
    "|isnumeric() |:| devuelve verdadero si todos los caracteres de la cadena son dígitos|\n",
    "\n",
    "Hay algunos métodos más y si importamos la biblioteca `string` aún habrá más métodos disponibles. No es necesario saberse de memoria muchos métodos, siempre está el recurso de internet para saber cual es el nombre de un método o cuales son los métodos disponibles.\n",
    "\n",
    "Veamos ejemplos:\n",
    "\n"
   ]
  },
  {
   "cell_type": "code",
   "execution_count": null,
   "metadata": {
    "id": "qkt_h-8lykY7"
   },
   "outputs": [],
   "source": [
    "palabra = 'colección'\n",
    "print(palabra.rfind('c'))\n",
    "print(palabra.replace('c', 'x')) # reemplaza todas la ocurrencias de 'c' por 'x'\n",
    "fruta = '  banana'\n",
    "print(fruta)\n",
    "fruta = fruta.strip()\n",
    "print(fruta)\n",
    "materia = 'álgebra lineal'\n",
    "print(materia.title()) # Observar que capitaliza también palabras con tilde"
   ]
  },
  {
   "cell_type": "markdown",
   "metadata": {
    "id": "gy7JCBoAykkD"
   },
   "source": [
    "**Caracteres especiales.** Hay en Python algunos pocos caracteres especiales que sirven para representar ciertas cadenas:\n",
    "- `\\n` - nueva línea.\n",
    "- `\\t` - tabulación.\n",
    "- `\\r` - carriage return.\n",
    "- `\\b` - retroceso.\n",
    "- `\\'` - comilla simple.\n",
    "- `\\\"` - comilla doble.\n",
    "- `\\\\` - barra invertida.  \n",
    "\n",
    "Por ejemplo:"
   ]
  },
  {
   "cell_type": "code",
   "execution_count": 1,
   "metadata": {
    "id": "AYKgTexG45Ku"
   },
   "outputs": [
    {
     "name": "stdout",
     "output_type": "stream",
     "text": [
      "La lista de nominados es:     \n",
      "\t1. Alberto \"el bocha\" Gandolfo,\n",
      "\t2. Carlos 'terremoto' Rodríguez. \n"
     ]
    }
   ],
   "source": [
    "print('La lista de nominados es: \\\n",
    "    \\n\\t1. Alberto \"el bocha\\\" Gandolfo,\\n\\t2. Carlos \\'terremoto\\' Rodríguez. ')"
   ]
  },
  {
   "cell_type": "markdown",
   "metadata": {
    "id": "NrKr68wT6mvK"
   },
   "source": [
    "## 5. El operador `in`\n",
    "\n",
    "La palabra `in` es un operador booleano que toma dos cadenas y devuelve `True` si el primero aparece como una subcadena en el segundo:"
   ]
  },
  {
   "cell_type": "code",
   "execution_count": null,
   "metadata": {
    "id": "LFDg9_ns6m5A"
   },
   "outputs": [],
   "source": [
    "print('a' in 'banana')\n",
    "print('an' in 'banana')\n",
    "print('es' in  'banana')"
   ]
  },
  {
   "cell_type": "markdown",
   "metadata": {
    "id": "BQcLN_dV7EGj"
   },
   "source": [
    "Por ejemplo, la siguiente función imprime todas los\n",
    "letras de `palabra1` que también aparecen en `palabra2`:"
   ]
  },
  {
   "cell_type": "code",
   "execution_count": null,
   "metadata": {
    "id": "NjJDL-Nf7fTL"
   },
   "outputs": [],
   "source": [
    "def en_ambas(palabra1, palabra2: str):\n",
    "     assert type(palabra1) == type(palabra2) == str, 'Los parametros deben ser \\'str\\''\n",
    "     # post: prime todas los letras (una tras otra) de palabra1 que también aparecen en palabra2\n",
    "     for letra in palabra1:\n",
    "         if letra in palabra2:\n",
    "             print(letra, end = '') # end = '' no pasa de línea\n",
    "\n",
    "en_ambas('banana', 'pajaron')\n",
    "print() # pasa de línea\n",
    "en_ambas('recolectar', 'coz')"
   ]
  },
  {
   "cell_type": "markdown",
   "metadata": {
    "id": "nznxDKhn-3EY"
   },
   "source": [
    "## 6. Comparación de cadenas\n",
    "\n",
    "Los operadores relacionales funcionan con cadenas. Para ver si dos cadenas son iguales, por ejemplo:"
   ]
  },
  {
   "cell_type": "code",
   "execution_count": null,
   "metadata": {
    "id": "aY-MEMwG_EyY"
   },
   "outputs": [],
   "source": [
    "palabra1, palabra2, palabra3 = 'banana', 'anana', 'banana'\n",
    "print(palabra1 == palabra2)\n",
    "print(palabra1 == palabra3)"
   ]
  },
  {
   "cell_type": "markdown",
   "metadata": {
    "id": "caC22gLP_E6M"
   },
   "source": [
    "Otras operaciones relacionales son útiles para poner palabras en orden alfabético. El operador `<` funciona como orden alfabético, llamado *orden lexicogáfico*, en las cadenas donde todos los caracteres son letras minúsculas y sin tilde:"
   ]
  },
  {
   "cell_type": "code",
   "execution_count": null,
   "metadata": {
    "colab": {
     "base_uri": "https://localhost:8080/"
    },
    "executionInfo": {
     "elapsed": 388,
     "status": "ok",
     "timestamp": 1632946100823,
     "user": {
      "displayName": "Alejandro Leopoldo Tiraboschi",
      "photoUrl": "https://lh3.googleusercontent.com/a-/AOh14Gir321Aip7u2JtD7LMLQbY3a1oHsAD11CVed_UbeFc=s64",
      "userId": "02370857492204546552"
     },
     "user_tz": 180
    },
    "id": "UUzrSn9V_nm7",
    "outputId": "ddd2f8c6-ae02-4bbf-9327-e8343b9ec6b9"
   },
   "outputs": [
    {
     "name": "stdout",
     "output_type": "stream",
     "text": [
      "La primera palabra: \"anana\", viene antes que la segunda palabra: \"banana\".\n",
      "La segunda palabra: \"anana\", viene antes que la primera palabra: \"banana\".\n",
      "Ambas balabras son iguales: \"anana\".\n"
     ]
    }
   ],
   "source": [
    "def orden_alfabetico(palabra1, palabra2): \n",
    "    if palabra1 < palabra2:\n",
    "        print('La primera palabra: \"' + palabra1 + '\", viene antes que la segunda palabra: \"' + palabra2 + '\".')\n",
    "    elif palabra1 > palabra2:\n",
    "        print('La segunda palabra: \"' + palabra2 + '\", viene antes que la primera palabra: \"' + palabra1 + '\".')\n",
    "    else:\n",
    "        print('Ambas balabras son iguales: \"' + palabra1 + '\".')\n",
    "\n",
    "orden_alfabetico('anana', 'banana')\n",
    "orden_alfabetico('banana', 'anana')\n",
    "orden_alfabetico('anana', 'anana')"
   ]
  },
  {
   "cell_type": "markdown",
   "metadata": {
    "id": "CX8kdhQn_nt6"
   },
   "source": [
    "\n",
    "Python no maneja letras mayúsculas y minúsculas de la misma manera\n",
    "lo hace la gente. Todas las letras mayúsculas vienen antes de todas las\n",
    "letras minúsculas, entonces:"
   ]
  },
  {
   "cell_type": "code",
   "execution_count": null,
   "metadata": {
    "colab": {
     "base_uri": "https://localhost:8080/"
    },
    "executionInfo": {
     "elapsed": 252,
     "status": "ok",
     "timestamp": 1632946144733,
     "user": {
      "displayName": "Alejandro Leopoldo Tiraboschi",
      "photoUrl": "https://lh3.googleusercontent.com/a-/AOh14Gir321Aip7u2JtD7LMLQbY3a1oHsAD11CVed_UbeFc=s64",
      "userId": "02370857492204546552"
     },
     "user_tz": 180
    },
    "id": "aZr3O751Bb6H",
    "outputId": "8ff676f4-0582-43a0-e8d6-5a96db6b05bd"
   },
   "outputs": [
    {
     "name": "stdout",
     "output_type": "stream",
     "text": [
      "La primera palabra: \"Banana\", viene antes que la segunda palabra: \"anana\".\n"
     ]
    }
   ],
   "source": [
    "orden_alfabetico('Banana', 'anana')"
   ]
  },
  {
   "cell_type": "markdown",
   "metadata": {
    "id": "PsQKSk60Bu66"
   },
   "source": [
    "Una forma común de abordar el problema de hacer un órden alfabético conpalabras que admitan mayúsculas es convertir las cadenas en un\n",
    "formato estándar, como ser todo en minúsculas, antes de realizar la\n",
    "comparación.\n",
    "\n",
    "Otro problema es con las letras con tilde: estas van después de todas las letras mayúsculas y minúsculas sin tilde"
   ]
  },
  {
   "cell_type": "code",
   "execution_count": null,
   "metadata": {
    "colab": {
     "base_uri": "https://localhost:8080/"
    },
    "executionInfo": {
     "elapsed": 760,
     "status": "ok",
     "timestamp": 1632946176412,
     "user": {
      "displayName": "Alejandro Leopoldo Tiraboschi",
      "photoUrl": "https://lh3.googleusercontent.com/a-/AOh14Gir321Aip7u2JtD7LMLQbY3a1oHsAD11CVed_UbeFc=s64",
      "userId": "02370857492204546552"
     },
     "user_tz": 180
    },
    "id": "_kRxivZ6BvIP",
    "outputId": "0f3cf31a-47b5-4e98-fd98-d5cc821944cc"
   },
   "outputs": [
    {
     "name": "stdout",
     "output_type": "stream",
     "text": [
      "La segunda palabra: \"calculadora\", viene antes que la primera palabra: \"ábaco\".\n"
     ]
    }
   ],
   "source": [
    "orden_alfabetico('ábaco', 'calculadora')"
   ]
  },
  {
   "cell_type": "markdown",
   "metadata": {
    "id": "6WsqrEdhBcCl"
   },
   "source": [
    "Esto es un poco más complicado de solucionar que el caso anterior y no lo veremos aquí."
   ]
  }
 ],
 "metadata": {
  "colab": {
   "authorship_tag": "ABX9TyPZrvjvZeQv5H//inwySm9O",
   "collapsed_sections": [],
   "name": "Copia de Clase práctica 29-09-21 - Cadenas y listas.ipynb",
   "provenance": [
    {
     "file_id": "1AE0gnjYp60tSi8uU-ecaYsCq0dfIwieM",
     "timestamp": 1633105105111
    },
    {
     "file_id": "1bkMpNWAZrDODMgFrCWbQWrb_p02OqM2v",
     "timestamp": 1632152487616
    },
    {
     "file_id": "1xAQjMSDYcbbboh8m_9WXaYMH1SSGuIBd",
     "timestamp": 1632148550083
    },
    {
     "file_id": "12JEEA3IEaWpYphTR4mmvjYbFI39K_wwX",
     "timestamp": 1631719743151
    }
   ]
  },
  "kernelspec": {
   "display_name": "Python 3 (ipykernel)",
   "language": "python",
   "name": "python3"
  },
  "language_info": {
   "codemirror_mode": {
    "name": "ipython",
    "version": 3
   },
   "file_extension": ".py",
   "mimetype": "text/x-python",
   "name": "python",
   "nbconvert_exporter": "python",
   "pygments_lexer": "ipython3",
   "version": "3.8.12"
  }
 },
 "nbformat": 4,
 "nbformat_minor": 4
}
