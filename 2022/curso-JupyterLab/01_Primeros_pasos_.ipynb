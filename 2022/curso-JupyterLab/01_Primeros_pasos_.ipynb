{
 "cells": [
  {
   "cell_type": "markdown",
   "metadata": {
    "id": "TVPL-_LK_3GG"
   },
   "source": [
    "# Primeros pasos con Python"
   ]
  },
  {
   "cell_type": "markdown",
   "metadata": {
    "id": "qQwZ0RFr_voY"
   },
   "source": [
    "## 1. Ejecutando  Python\n",
    "\n",
    "Uno de los desafíos al comenzar a trabajar con Python es instalar el software relacionado en tu computadora.\n",
    "\n",
    "Si estás familiarizado con su sistema operativo, y especialmente si te sentís cómodo con la interfaz de línea de comandos, no vas a tener problemas para instalar Python. Pero para los principiantes, puede ser complicado  aprender sobre administración del sistema y programación al  mismo tiempo.\n",
    "\n",
    "Para evitar ese problema, recomendamos comenzar con Jupyter Notebooks. *Jupyter Notebook* (anteriormente IPython Notebooks) es un entorno informático que permite trabajar alternadamente con programas Python y  texto enriquecido. Este que están viendo es un *cuaderno Jupyter*.  \n",
    "\n",
    "Existen varias implementaciones de cuadernos Jupyter para comezar a trabajar con ellas:\n",
    "\n",
    "- *Colab.* Es una versión de Jupyter Notebooks on line provista por Google. Es una fabulosa herramienta didáctica, pero tiene limitaciones que no permitiría hacer un curso como este.\n",
    "- *Anaconda.* Anaconda es mucho más que Jupyter Notebooks y los que se sientan cómodos con esta aplicación podrán utilizarla  en el curso.\n",
    "- *JupyterLab App.*  Es un subproducto de Anaconada, pero mucho más fácil de instalar y manejar. Es la herramiento que usaremos en este curso. \n",
    "\n",
    "No recomendamos usar Python puro en este curso, pues  nos harán falta numerosas bibliotecas geográficas y la complejidad de instalación de ellas es muy alta. Tanto Anaconda como JupyterLab App  vienen  \"cargados\"  con bibliotecas bien instaladas y nosotros agregaremos unas pocas más sin problemas.  \n",
    "\n",
    "En muchos proyectos que involucren desarrollo de software en Python se utiliza *el modo de secuencia de comandos* o *modo script*. En este modo cada pieza de código se guarda en un archivo y luego se ejecuta este archivo, llamado *script*, en el intérprete. Por convención, los scripts de Python tienen nombres que terminan en `.py`. Si sabés cómo crear y ejecutar un script en tu computadora podrás correr los programas de las primeras clases de este curso.\n",
    "\n",
    "Sin embargo,  a nosotros no nos hará falta usar Python puro y usaremos cuadernos Jupyter. \n",
    "\n",
    "Un  cuaderno Jupyter se divide en celdas de texto con formato  y  celdas de código Python. Cuando creamos una celda elegimos que tipo de celda queremos (\"Markdown\" para texto, \"Code\" para Python). Obviamente lo que estamos leyendo ahora es una celda de texto. La celda siguiente es una celda de código y la podemos ejecutar cliqueandola y haciendo `Mayus+Enter`:\n",
    " "
   ]
  },
  {
   "cell_type": "code",
   "execution_count": 1,
   "metadata": {
    "id": "auL-phi-Dpjy"
   },
   "outputs": [
    {
     "data": {
      "text/plain": [
       "2"
      ]
     },
     "execution_count": 1,
     "metadata": {},
     "output_type": "execute_result"
    }
   ],
   "source": [
    "1 + 1"
   ]
  },
  {
   "cell_type": "markdown",
   "metadata": {
    "id": "-Wr_KXmnDU7N"
   },
   "source": [
    "En la celda anterior usamos a Python como calculadora y es el uso más sencillo que le podemos dar.\n",
    "\n",
    "## 2. El primer programa\n",
    "\n",
    "\n",
    "Tradicionalmente, el primer programa que se escribe en un nuevo lenguaje de programacón se llama `¡Hola, mundo!` porque todo lo que hace es mostrar las palabras `¡Hola, mundo!`. En la próxima celda de código se escribe la instrucción y te invitamos a presionar `Mayus+Enter` y ejecutar el programa\n"
   ]
  },
  {
   "cell_type": "code",
   "execution_count": null,
   "metadata": {
    "id": "Q5V3hjH2EiXi"
   },
   "outputs": [],
   "source": [
    "print('¡Hola, mundo!') "
   ]
  },
  {
   "cell_type": "markdown",
   "metadata": {
    "id": "wqAZcEqREmGw"
   },
   "source": [
    "Este es un ejemplo de una _sentencia print_, aunque en realidad no imprime nada en papel. Muestra un resultado en la pantalla. En este caso, como ya habrás comprobado, el resultado son las palabras\n",
    "```\n",
    "¡Hola Mundo!\n",
    "```\n",
    "Las comillas en el programa,  que pueden ser simples o dobles, marcan el principio y el final del texto que se mostrará y no aparecen en el resultado.\n",
    "\n",
    "Los paréntesis indican que `print` es una _función_. Veremos funciones con profundidad más adelante.\n"
   ]
  },
  {
   "cell_type": "markdown",
   "metadata": {
    "id": "xpokPMVbF-lc"
   },
   "source": [
    "## 3. Operadores aritméticos\n",
    "\n",
    "Después de `Hola, mundo`, el siguiente paso es la aritmética elemental. Python proporciona _operadores_, que son símbolos especiales que representan cálculos\n",
    "como suma y multiplicación.\n",
    "\n",
    "Los operadores `+`, `-` y `*` realizan sumas, resta y multiplicación, como en los siguientes ejemplos:\n"
   ]
  },
  {
   "cell_type": "code",
   "execution_count": null,
   "metadata": {
    "id": "S--O7kbPGjFH"
   },
   "outputs": [],
   "source": [
    "40 + 2"
   ]
  },
  {
   "cell_type": "code",
   "execution_count": null,
   "metadata": {
    "id": "Pid-Y4PgGjOd"
   },
   "outputs": [],
   "source": [
    "43 - 1"
   ]
  },
  {
   "cell_type": "code",
   "execution_count": null,
   "metadata": {
    "id": "AtjYYD5QGjY5"
   },
   "outputs": [],
   "source": [
    "6 * 3"
   ]
  },
  {
   "cell_type": "markdown",
   "metadata": {
    "id": "Frjcq4CDG8a1"
   },
   "source": [
    "El operador `/` realiza la división:\n",
    "\n"
   ]
  },
  {
   "cell_type": "code",
   "execution_count": null,
   "metadata": {
    "colab": {
     "base_uri": "https://localhost:8080/"
    },
    "id": "tKtPt1_aHTcV",
    "outputId": "e082c152-b04d-4a44-8158-21a92f2d871b"
   },
   "outputs": [
    {
     "data": {
      "text/plain": [
       "42.0"
      ]
     },
     "execution_count": 4,
     "metadata": {
      "tags": []
     },
     "output_type": "execute_result"
    }
   ],
   "source": [
    "84 / 2"
   ]
  },
  {
   "cell_type": "markdown",
   "metadata": {
    "id": "ecaQAlHoHZEY"
   },
   "source": [
    "Quizás te preguntes al ejecutar la celda anterior por qué el resultado es `42.0` en lugar de `42`. La respuesta es que Python tiene dos operadores de división. el primero,  es el que ya vimos, es `/` que siempre obtiene  un número decimal o coma flotante. El segundo es `//` y es la _división entera_. Por ejemplo, \n"
   ]
  },
  {
   "cell_type": "code",
   "execution_count": null,
   "metadata": {
    "colab": {
     "base_uri": "https://localhost:8080/"
    },
    "id": "MRRGn5MrTkQT",
    "outputId": "7939248b-baf2-4d9e-b779-6191ce4f5810"
   },
   "outputs": [
    {
     "data": {
      "text/plain": [
       "42"
      ]
     },
     "execution_count": 2,
     "metadata": {
      "tags": []
     },
     "output_type": "execute_result"
    }
   ],
   "source": [
    "84 // 2"
   ]
  },
  {
   "cell_type": "markdown",
   "metadata": {
    "id": "pGMgN0VgTy7c"
   },
   "source": [
    "devuelve `42` y "
   ]
  },
  {
   "cell_type": "code",
   "execution_count": null,
   "metadata": {
    "id": "OBAR5XPYUPbV"
   },
   "outputs": [],
   "source": [
    "20 // 3"
   ]
  },
  {
   "cell_type": "markdown",
   "metadata": {
    "id": "mMFJEsbvUN05"
   },
   "source": [
    "Devuelve `6`, pues \"3 entra 6 veces en 20\".\n",
    "\n",
    "Finalmente, el operador `**` realiza una exponenciación; esto es,\n",
    "eleva un número a una potencia:"
   ]
  },
  {
   "cell_type": "code",
   "execution_count": null,
   "metadata": {
    "colab": {
     "base_uri": "https://localhost:8080/"
    },
    "id": "7MZkobTDHwul",
    "outputId": "a50bdbd6-a303-4b4e-adb6-54ca4d213aba"
   },
   "outputs": [
    {
     "data": {
      "text/plain": [
       "36"
      ]
     },
     "execution_count": 2,
     "metadata": {
      "tags": []
     },
     "output_type": "execute_result"
    }
   ],
   "source": [
    "6 ** 2 "
   ]
  },
  {
   "cell_type": "markdown",
   "metadata": {
    "id": "pa1xnfneH0Sg"
   },
   "source": [
    "En algunos lenguajes de programación se utiliza `^` para la exponenciación, pero en Python `^` es un operador bit a bit llamado XOR. Si no estás familiarizado con los operadores bit a bit, el resultado te sorprenderá:\n",
    "\n"
   ]
  },
  {
   "cell_type": "code",
   "execution_count": null,
   "metadata": {
    "colab": {
     "base_uri": "https://localhost:8080/"
    },
    "id": "WvvOCb76IGsh",
    "outputId": "9c05df6e-29be-43ef-af04-bfeea9afdc9a"
   },
   "outputs": [
    {
     "data": {
      "text/plain": [
       "4"
      ]
     },
     "execution_count": 3,
     "metadata": {
      "tags": []
     },
     "output_type": "execute_result"
    }
   ],
   "source": [
    "6 ^ 2 "
   ]
  },
  {
   "cell_type": "markdown",
   "metadata": {
    "id": "6w_XZ-CFI-eh"
   },
   "source": [
    "No cubriremos los operadores bit a bit en este curso, pero podes leer acerca de\n",
    "ellos en [http://wiki.python.org/moin/BitwiseOperators](http://wiki.python.org/moin/BitwiseOperators) (en inglés). "
   ]
  },
  {
   "cell_type": "markdown",
   "metadata": {
    "id": "Rdjt76sqKu_b"
   },
   "source": [
    "## 4. Valores y tipos\n",
    "\n",
    "Un _valor_ es una de las entidades básicas con las que trabaja un programa, como una letra o un número. Algunos valores que hemos visto hasta ahora son `2`, `42.0` y `'¡Hola, mundo!'`.\n",
    "\n",
    "Estos valores pertenecen a diferentes _tipos_: `2` es un _entero_, `42.0` es un _número de coma flotante_ y `'¡Hola, mundo!'`es una _cadena_, así llamada porque las letras que contiene se ubican en forma consecutiva.\n",
    "\n",
    "Si no estás seguro de qué tipo de valor es un valor determinado, Python mismo puede decírtelo ejecutando la función `type()`.\n"
   ]
  },
  {
   "cell_type": "code",
   "execution_count": null,
   "metadata": {
    "id": "fWHLvHlhMNHg"
   },
   "outputs": [],
   "source": [
    "print(type(2))\n",
    "print(type(42.0))\n",
    "print(type('¡Hola, mundo!'))"
   ]
  },
  {
   "cell_type": "markdown",
   "metadata": {
    "id": "2TryIXoYMc-y"
   },
   "source": [
    "Vemos en los resultados de ejecutar la celda anrterior que en todos aparece la palabra `class`. La palabra `class` se usa en el sentido de una categoría: un tipo es una categoría de valores.\n",
    "\n",
    "No es sorprendente que los enteros pertenezcan al tipo `int`, las cadenas pertenezcan a `str` (por _string_ en inglés) y los números en coma flotante pertenezcan a `float`.\n",
    "\n",
    "¿Qué pasa con valores como `'2'` y `'42.0'`?\n",
    "Parecen números, pero están entre comillas como cadenas y, efectivamente son cadenas. Lo  comprobaremos ejecutando lo siguiente:\n"
   ]
  },
  {
   "cell_type": "code",
   "execution_count": null,
   "metadata": {
    "id": "NruWxWThNmOS"
   },
   "outputs": [],
   "source": [
    "print(type('2'))\n",
    "print(type('42.0'))"
   ]
  },
  {
   "cell_type": "markdown",
   "metadata": {
    "id": "NrcJNSbgNzv6"
   },
   "source": [
    "Cuando escribís un entero grande, podés tener la tentación de usar puntos entre grupos de dígitos, como en `1.000.000`. Sin embargo,  esto no es una forma permitida de escribir un entero, por ejemplo, la ejecución de la siguiente celda de código nos devuelve un error:"
   ]
  },
  {
   "cell_type": "code",
   "execution_count": null,
   "metadata": {
    "id": "EY_YT_qFOK-x"
   },
   "outputs": [],
   "source": [
    "print(1.000.000)"
   ]
  },
  {
   "cell_type": "markdown",
   "metadata": {
    "id": "PvCxy1u9Ob5G"
   },
   "source": [
    "La forma correcta de escribir \"un millón\" es `1000000`. Podemos tratar también de escribir un número decimal o coma flotante usando la notación latina. Por ejemplo, \"cuatro coma cinco\", podríamos intentar escribirlo como `4,5`,  y hagamos la prueba:  "
   ]
  },
  {
   "cell_type": "code",
   "execution_count": null,
   "metadata": {
    "colab": {
     "base_uri": "https://localhost:8080/"
    },
    "id": "Mm82U3MYO8QS",
    "outputId": "a79ec13e-4b79-4ec2-d909-122de8737487"
   },
   "outputs": [
    {
     "name": "stdout",
     "output_type": "stream",
     "text": [
      "4 5\n"
     ]
    }
   ],
   "source": [
    "print(4,5)"
   ]
  },
  {
   "cell_type": "markdown",
   "metadata": {
    "id": "4ZzHRGgUPDQa"
   },
   "source": [
    "¡Eso no es lo que esperábamos en absoluto! Python interpreta la expresión `4,5` como dos enteros separados. \n",
    "\n",
    "Este es el primer ejemplo que hemos visto de un error semántico: el código se ejecuta sin producir un mensaje de error, pero no es lo que queremos obtener.\n",
    "\n",
    "La forma correcta de escribir un número decimal es reemplazando  la coma por  el punto, por ejemplo \"cuatro coma cinco\" se escribe `4.5`"
   ]
  },
  {
   "cell_type": "code",
   "execution_count": 2,
   "metadata": {},
   "outputs": [
    {
     "name": "stdout",
     "output_type": "stream",
     "text": [
      "9.0\n"
     ]
    }
   ],
   "source": [
    "print(4.5 * 2)"
   ]
  },
  {
   "cell_type": "code",
   "execution_count": null,
   "metadata": {},
   "outputs": [],
   "source": []
  }
 ],
 "metadata": {
  "colab": {
   "collapsed_sections": [],
   "name": "01 - Primeros pasos .ipynb",
   "provenance": []
  },
  "kernelspec": {
   "display_name": "Python 3 (ipykernel)",
   "language": "python",
   "name": "python3"
  },
  "language_info": {
   "codemirror_mode": {
    "name": "ipython",
    "version": 3
   },
   "file_extension": ".py",
   "mimetype": "text/x-python",
   "name": "python",
   "nbconvert_exporter": "python",
   "pygments_lexer": "ipython3",
   "version": "3.8.12"
  }
 },
 "nbformat": 4,
 "nbformat_minor": 4
}
