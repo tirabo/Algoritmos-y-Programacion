{
 "cells": [
  {
   "cell_type": "markdown",
   "metadata": {
    "id": "r9jXO5qqhcbr"
   },
   "source": [
    "# Funciones\n",
    "\n",
    "En el contexto de la programación, una *función* es una secuencia de declaraciones que realiza un cálculo y esa secuencia tiene nombre. Cuando se define una función, se especifica el nombre y la secuencia de declaraciones. Más tarde, se puede \"llamar\" a la función por su nombre.\n",
    "\n"
   ]
  },
  {
   "cell_type": "markdown",
   "metadata": {
    "id": "1p7V2a6siBJN"
   },
   "source": [
    "## 1. Llamadas a funciones\n",
    "\n",
    "Ya hemos visto un ejemplo de llamada a función. Si ejecutamos\n",
    "```\n",
    "type(42)\n",
    "```\n",
    "se imprime\n",
    "```\n",
    "<clase 'int'>\n",
    "```\n",
    "El nombre de la función es `type`. La expresión entre paréntesis\n",
    "se llama el *argumento* de la función. El resultado, para esta función, es el tipo del argumento.\n",
    "\n",
    "Es común decir que una función \"toma\" un argumento y \"devuelve\" un resultado. El resultado también se denomina *valor de retorno*. \n",
    "\n",
    "En  el caso de `type` es una función que toma cualquier valor y  devuelve el tipo del valor. \n",
    "\n",
    "Otra función que hemos visto es `print`. Esta función toma un  argumento  o varios separados por comas e imprime en pantalla su valor o, en el caso de varios  argumentos,  sus valores separados por espacios. Es una función que no devuelve nada,  es decir no devuelve un valor que pueda ser utilizado posteriormente. Profundizaremos el concepto de \"funciones que no devuelven nada\" más adelante. \n",
    "\n",
    "Ejemplos de la función `print`:"
   ]
  },
  {
   "cell_type": "code",
   "execution_count": 1,
   "metadata": {
    "id": "ata_WaVema2j"
   },
   "outputs": [
    {
     "name": "stdout",
     "output_type": "stream",
     "text": [
      "23\n",
      "-1\n",
      "hola adiós\n"
     ]
    }
   ],
   "source": [
    "print('23')\n",
    "x = -1 \n",
    "print(x)\n",
    "print('hola','adiós')"
   ]
  },
  {
   "cell_type": "markdown",
   "metadata": {
    "id": "gK_51szkl90_"
   },
   "source": [
    "Python proporciona funciones que convierten valores de un tipo a otro. La función `int` toma cualquier valor y si puede lo convierte en un número entero. En caso que no pueda se produce un error. Todo esto se puede verificar ejecutando la siguiente celda de código:"
   ]
  },
  {
   "cell_type": "code",
   "execution_count": 4,
   "metadata": {
    "id": "y8AfCXWTjBxW"
   },
   "outputs": [
    {
     "name": "stdout",
     "output_type": "stream",
     "text": [
      "32\n"
     ]
    }
   ],
   "source": [
    "print(int('32'))\n",
    "# int('Hola') # descomentar la línea produce un error"
   ]
  },
  {
   "cell_type": "markdown",
   "metadata": {
    "id": "UPr5DsIYjKbT"
   },
   "source": [
    "\n",
    "`int` puede convertir valores de coma flotante en números enteros, pero no redondea; corta la parte decimal:\n"
   ]
  },
  {
   "cell_type": "code",
   "execution_count": 5,
   "metadata": {
    "id": "BLy-nk4RjlVu"
   },
   "outputs": [
    {
     "name": "stdout",
     "output_type": "stream",
     "text": [
      "3\n",
      "-2\n"
     ]
    }
   ],
   "source": [
    "print(int(3.99999))\n",
    "print(int(-2.3))"
   ]
  },
  {
   "cell_type": "markdown",
   "metadata": {
    "id": "0GQjNjl6jpk5"
   },
   "source": [
    "`float` convierte enteros y cadenas que representan números en números punto flotante:\n"
   ]
  },
  {
   "cell_type": "code",
   "execution_count": 6,
   "metadata": {
    "id": "Y3s6fRQkhbfy"
   },
   "outputs": [
    {
     "name": "stdout",
     "output_type": "stream",
     "text": [
      "32.0\n",
      "3.14159\n"
     ]
    }
   ],
   "source": [
    "print(float(32))\n",
    "print(float('3.14159'))\n",
    "# print(float('hola')) # descomentar la línea produce error"
   ]
  },
  {
   "cell_type": "markdown",
   "metadata": {
    "id": "zWtBpoyYkOmw"
   },
   "source": [
    "Finalmente, `str` convierte cualquier argumento válido en una cadena:"
   ]
  },
  {
   "cell_type": "code",
   "execution_count": 7,
   "metadata": {
    "colab": {
     "base_uri": "https://localhost:8080/"
    },
    "executionInfo": {
     "elapsed": 256,
     "status": "ok",
     "timestamp": 1629731766385,
     "user": {
      "displayName": "Alejandro Leopoldo Tiraboschi",
      "photoUrl": "https://lh3.googleusercontent.com/a-/AOh14Gir321Aip7u2JtD7LMLQbY3a1oHsAD11CVed_UbeFc=s64",
      "userId": "02370857492204546552"
     },
     "user_tz": 180
    },
    "id": "gILmpf3_lNxt",
    "outputId": "868b3653-942c-4142-ab3d-b3276442aa4c"
   },
   "outputs": [
    {
     "name": "stdout",
     "output_type": "stream",
     "text": [
      "32 <class 'str'>\n",
      "3.14159 <class 'str'>\n"
     ]
    }
   ],
   "source": [
    "print(str(32), type(str(32)))\n",
    "print(str(3.14159), type(str(3.14159)))"
   ]
  },
  {
   "cell_type": "markdown",
   "metadata": {
    "id": "0RFfiBT7ntxM"
   },
   "source": [
    "## 2. Funciones matemáticas\n",
    "\n",
    "Python tiene un módulo matemático que proporciona la mayoría de las funciones matemáticas familiares. Un *módulo* o *biblioteca* es un archivo que contiene una colección de funciones relacionadas. \n",
    "\n",
    "Antes de que podamos usar las funciones en un módulo, tenemos que importarlo con una declaración de importación. Para poder usar el módulo `math` en este cuaderno Jupyter debemos ejecutar la siguiente celda de código:\n"
   ]
  },
  {
   "cell_type": "code",
   "execution_count": 8,
   "metadata": {
    "id": "_3EzJtdQo7zQ"
   },
   "outputs": [],
   "source": [
    "import math"
   ]
  },
  {
   "cell_type": "markdown",
   "metadata": {
    "id": "TlMdGZECo_hG"
   },
   "source": [
    "Esta declaración crea un *objeto módulo* llamado math. Si imprime el objeto módulo, obtendrá información sobre él:\n"
   ]
  },
  {
   "cell_type": "code",
   "execution_count": 9,
   "metadata": {
    "id": "xYc61KF_p3Fe"
   },
   "outputs": [
    {
     "name": "stdout",
     "output_type": "stream",
     "text": [
      "<module 'math' (built-in)>\n"
     ]
    }
   ],
   "source": [
    "print(math)"
   ]
  },
  {
   "cell_type": "markdown",
   "metadata": {
    "id": "5sxKBTdop_Aj"
   },
   "source": [
    "El objeto módulo contiene las funciones y variables definidas en el\n",
    "módulo. Para acceder a una de las funciones, debe especificar el nombre\n",
    "del módulo y el nombre de la función, separados por un punto (también\n",
    "conocido como período). Este formato se llama *notación punto* o *dot  notation* en inglés.\n",
    "```\n",
    "radio = potencia_señal / potencia_ruido\n",
    "decibeles = 10 * math.log10 (radio)\n",
    "```\n",
    "\n",
    "```\n",
    "radianes = 0.7\n",
    "altura = math.sin(radianes)\n",
    "```\n",
    "El primer ejemplo usa `math.log10` para calcular una relación señal-ruido en decibelios (asumiendo que `potencia_señal` y `potencia_ruido` están definidos). El módulo math también proporciona `log`, que calcula logaritmos en base `e`.\n",
    "\n",
    "El segundo ejemplo encuentra el seno de `radianes`. El nombre de la variable `radianes` es una pista de que `sin` (seno) y las otras funciones trigonométricas (`cos`, `tan`, etc.) toman argumentos en radianes. Para convertir de grados a radianes, hay que dividir por 180 y multiplicar por $\\pi$. Para ejemplificar,  ejecute el siguiente código:\n"
   ]
  },
  {
   "cell_type": "code",
   "execution_count": 10,
   "metadata": {
    "colab": {
     "base_uri": "https://localhost:8080/"
    },
    "executionInfo": {
     "elapsed": 280,
     "status": "ok",
     "timestamp": 1629733535452,
     "user": {
      "displayName": "Alejandro Leopoldo Tiraboschi",
      "photoUrl": "https://lh3.googleusercontent.com/a-/AOh14Gir321Aip7u2JtD7LMLQbY3a1oHsAD11CVed_UbeFc=s64",
      "userId": "02370857492204546552"
     },
     "user_tz": 180
    },
    "id": "42R52Nj-r3o7",
    "outputId": "ab755456-c4d2-4abe-d495-f8a288727ec4"
   },
   "outputs": [
    {
     "data": {
      "text/plain": [
       "0.7071067811865476"
      ]
     },
     "execution_count": 10,
     "metadata": {},
     "output_type": "execute_result"
    }
   ],
   "source": [
    "grados = 45\n",
    "radianes = grados / 180.0 * math.pi\n",
    "math.sin(radianes)"
   ]
  },
  {
   "cell_type": "markdown",
   "metadata": {
    "id": "xumnMj1Nr5Tq"
   },
   "source": [
    "La expresión `math.pi` obtiene la variable `pi` del módulo math. Su valor es una aproximación en punto flotante de $\\pi$, con una precisión de proximadamente 15 dígitos.\n",
    "\n",
    "Usando trigonometría, podemos verificar el resultado anterior comparándolo con la raíz cuadrada de dos dividida por dos:\n"
   ]
  },
  {
   "cell_type": "code",
   "execution_count": 11,
   "metadata": {
    "colab": {
     "base_uri": "https://localhost:8080/"
    },
    "executionInfo": {
     "elapsed": 254,
     "status": "ok",
     "timestamp": 1629733648345,
     "user": {
      "displayName": "Alejandro Leopoldo Tiraboschi",
      "photoUrl": "https://lh3.googleusercontent.com/a-/AOh14Gir321Aip7u2JtD7LMLQbY3a1oHsAD11CVed_UbeFc=s64",
      "userId": "02370857492204546552"
     },
     "user_tz": 180
    },
    "id": "BDo8TtGBsYQs",
    "outputId": "3bdbc15c-946e-47d8-b60a-6d4245b87065"
   },
   "outputs": [
    {
     "data": {
      "text/plain": [
       "0.7071067811865476"
      ]
     },
     "execution_count": 11,
     "metadata": {},
     "output_type": "execute_result"
    }
   ],
   "source": [
    "math.sqrt(2) / 2.0"
   ]
  },
  {
   "cell_type": "markdown",
   "metadata": {},
   "source": [
    "Para convertir de radianes a grados en formato decimal se hace la operación inversa: para convertir de grados a radianes dividíamos por 180  y multiplicábamos por $\\pi$. Ahora debemos multiplicar por 180 y dividir por $\\pi$. "
   ]
  },
  {
   "cell_type": "code",
   "execution_count": 12,
   "metadata": {},
   "outputs": [
    {
     "name": "stdout",
     "output_type": "stream",
     "text": [
      "29.999999999999996\n"
     ]
    }
   ],
   "source": [
    "radianes = math.pi / 6\n",
    "grados = 180.0 * radianes / math.pi\n",
    "print(grados)"
   ]
  },
  {
   "cell_type": "markdown",
   "metadata": {
    "id": "UffkmrtD__vv"
   },
   "source": [
    "## 3. Composición\n",
    "\n",
    "Hasta ahora, hemos examinado los elementos de un programa; variables, expresiones y declaraciones; de forma aislada, sin hablar de cómo combinarlos.\n",
    "\n",
    "Una de las características más útiles de los lenguajes de programación es su capacidad para tomar pequeños bloques de construcción y *componer*. Por ejemplo, el argumento de una función puede ser cualquier tipo de expresión, incluidos los operadores aritméticos:\n",
    "```\n",
    "x = math.sin(grados / 360.0 * 2 * math.pi)\n",
    "```\n",
    "E incluso llamadas a funciones:\n",
    "```\n",
    "x = math.exp (math.log (x + 1))\n",
    "```\n",
    "Casi en cualquier lugar donde se pueda poner un valor, se puede poner una expresión arbitraria, con una excepción: el lado izquierdo de una declaración de asignación tiene que ser un nombre de variable. Cualquier otra expresión en el lado izquierdo es un error de sintaxis (veremos excepciones a esta regla más adelante). Si ejecutamos\n",
    "```\n",
    "minutos = horas * 60 # correcto\n",
    "horas * 60 = minutos # incorrecto!\n",
    "```\n",
    "obtenemos \n",
    "```\n",
    "SyntaxError: can't assign to operator\n",
    "```\n"
   ]
  },
  {
   "cell_type": "markdown",
   "metadata": {
    "id": "_5L0vYmA__71"
   },
   "source": [
    "## 4. Añadiendo nuevas funciones\n",
    "\n",
    "Hasta ahora, solo hemos estado usando las funciones incorporadas en Python, pero también es posible agregar nuevas funciones. Una definición de función especifica el nombre de una nueva función y la secuencia de instrucciones que se ejecutan cuando se llama a la función.\n",
    "\n",
    "Veamos el siguiente  ejemplo:\n",
    "\n",
    "```\n",
    "def imprimir_instrucciones():\n",
    "    print (\"Abra el  recipiente.\")\n",
    "    print (\"Complete el recipiente con agua.\")\n",
    "```\n",
    "`def` es una palabra clave que indica que se trata de una definición de función. El nombre de la función es `imprimir_instrucciones`. \n",
    "\n",
    "Las reglas para los nombres de las funciones son las mismas que para los nombres de las variables: las letras, los números y el subrayado son legales, pero el primer carácter no puede ser un número. No puede usar una palabra clave como nombre de una función, y debe evitar tener una variable y una función con el mismo nombre.\n",
    "\n",
    "Los paréntesis vacíos después del nombre indican que esta función no acepta argumentos.\n",
    "\n",
    "La primera línea de la definición de la función se llama *header* o *encabezado*; el resto se llama *body* o *cuerpo de la función*. El encabezado debe terminar con dos puntos y el cuerpo debe tener sangría. Por convención, la sangría es siempre de cuatro espacios. El cuerpo puede contener cualquier número de declaraciones. \n",
    "\n",
    "Hablando propiamente del cuerpo de la función `imprimir_instrucciones()`, las cadenas de las declaraciones de impresión están entre comillas dobles. Las comillas simples y las dobles hacen lo mismo; la mayoría de la gente usa comillas simples. En  el caso  donde aparece una comilla simple (que también es un apóstrofe) en la cadena se utilizan las comillas dobles (este no es el caso).Todas las comillas (simples y dobles) deben ser \"comillas rectas\" las \"comillas inclinadas compuestas de tildes (como ser \\` o bien ´) no son legales en Python.\n",
    "\n",
    "\n",
    "La definición de una función crea un *objeto función*, que tiene el tipo `function`. Pruebe con el siguiente código:\n"
   ]
  },
  {
   "cell_type": "code",
   "execution_count": 2,
   "metadata": {
    "colab": {
     "base_uri": "https://localhost:8080/"
    },
    "executionInfo": {
     "elapsed": 257,
     "status": "ok",
     "timestamp": 1629740017963,
     "user": {
      "displayName": "Alejandro Leopoldo Tiraboschi",
      "photoUrl": "https://lh3.googleusercontent.com/a-/AOh14Gir321Aip7u2JtD7LMLQbY3a1oHsAD11CVed_UbeFc=s64",
      "userId": "02370857492204546552"
     },
     "user_tz": 180
    },
    "id": "lYdlVQPBD9k0",
    "outputId": "e35b0913-5be5-46d0-8617-e788f6aa5601"
   },
   "outputs": [
    {
     "name": "stdout",
     "output_type": "stream",
     "text": [
      "<function imprimir_instrucciones at 0x0000015A41AFC670>\n"
     ]
    },
    {
     "data": {
      "text/plain": [
       "function"
      ]
     },
     "execution_count": 2,
     "metadata": {},
     "output_type": "execute_result"
    }
   ],
   "source": [
    "def imprimir_instrucciones():\n",
    "    print (\"Abra el  recipiente.\")\n",
    "    print (\"Complete el recipiente con agua.\")\n",
    "\n",
    "print(imprimir_instrucciones)\n",
    "type(imprimir_instrucciones)"
   ]
  },
  {
   "cell_type": "markdown",
   "metadata": {
    "id": "26zGBrpuECc9"
   },
   "source": [
    "La sintaxis para llamar a la nueva función es la misma que para las funciones integradas:\n"
   ]
  },
  {
   "cell_type": "code",
   "execution_count": 14,
   "metadata": {
    "id": "Xon9ZWa3En5p"
   },
   "outputs": [
    {
     "name": "stdout",
     "output_type": "stream",
     "text": [
      "Abra el  recipiente.\n",
      "Complete el recipiente con agua.\n"
     ]
    }
   ],
   "source": [
    "imprimir_instrucciones()"
   ]
  },
  {
   "cell_type": "markdown",
   "metadata": {
    "id": "n4pvEBaKEoCf"
   },
   "source": [
    "Una vez que haya definido una función, puede usarla dentro de otra función. Por ejemplo, para repetir el texto anterior, podríamos escribir una función llamada `repetir_instrucciones`:"
   ]
  },
  {
   "cell_type": "code",
   "execution_count": 15,
   "metadata": {
    "id": "zP8T9yvSE9Tv"
   },
   "outputs": [],
   "source": [
    "def repetir_instrucciones():\n",
    "    imprimir_instrucciones()\n",
    "    imprimir_instrucciones()"
   ]
  },
  {
   "cell_type": "markdown",
   "metadata": {
    "id": "75173mYUFOuq"
   },
   "source": [
    "Si ejecutamos la celda anterior y la siguiente repetimos las instrucciones:"
   ]
  },
  {
   "cell_type": "code",
   "execution_count": 16,
   "metadata": {
    "id": "8D6ZdDqoFc4J"
   },
   "outputs": [
    {
     "name": "stdout",
     "output_type": "stream",
     "text": [
      "Abra el  recipiente.\n",
      "Complete el recipiente con agua.\n",
      "Abra el  recipiente.\n",
      "Complete el recipiente con agua.\n"
     ]
    }
   ],
   "source": [
    "repetir_instrucciones()"
   ]
  },
  {
   "cell_type": "markdown",
   "metadata": {
    "id": "gHZFSM12Gpup"
   },
   "source": [
    "Al reunir los fragmentos de código, todo el programa se ve así:\n",
    "\n",
    "\n",
    "```\n",
    "def imprimir_instrucciones():\n",
    "    print (\"Abra el  recipiente.\")\n",
    "    print (\"Complete el recipiente con agua.\")\n",
    "\n",
    "def repetir_instrucciones():\n",
    "    imprimir_instrucciones()\n",
    "    imprimir_instrucciones()\n",
    "\n",
    "repetir_instrucciones()\n",
    "```\n",
    "Este programa contiene dos definiciones de función: `imprimir_instrucciones` y `repetir_instrucciones`. Las definiciones de funciones se ejecutan al igual que otras declaraciones, pero el efecto es crear objetos de función. Las declaraciones dentro de la función no se ejecutan hasta que se llama a la función y la definición de la función no genera salida.\n",
    "\n",
    "Como era de esperar, debe crear una función antes de poder ejecutarla. En otras palabras, la definición de la función debe ejecutarse antes de que se llame a la función.\n",
    "\n",
    "Como ejercicio, mueva la última línea de este programa hacia arriba, para que la llamada a la función aparezca antes de las definiciones. Ejecute el programa y vea qué mensaje de error obtiene.\n",
    "\n",
    "Ahora mueva la llamada a la función al final y mueva la definición de `imprimir_instrucciones` después de la definición de `repetir_instrucciones`. ¿Qué sucede cuando ejecuta este programa?\n",
    "\n",
    "\n"
   ]
  },
  {
   "cell_type": "markdown",
   "metadata": {},
   "source": [
    "## 5. Cadenas de documentación en Python\n",
    "\n",
    "Una *cadena de documentación* es un tipo de comentario que comienza y termina  con `\"\"\"`. Por  ejemplo\n",
    "\n",
    "    \"\"\"Comentario en una línea\"\"\"\n",
    "   \n",
    "o\n",
    "\n",
    "    \"\"\"\n",
    "    Esta es una línea de comentario\n",
    "    Esta también\n",
    "    ...\n",
    "    \"\"\"\n",
    "\n",
    "Esta forma de comentar permite hacer comentarios extensos y además lo que se encuentra en estos comentarios permite generar automáticamente la documentación del código, tema que no veremos en este curso.\n",
    "\n",
    "Las cadenas de documentación se llaman *docstrings*.\n",
    "\n",
    "Técnicamente hablando, los docstrings no son comentarios. Crean variables anónimas que hacen referencia a las cadenas. Además, no son ignoradas por el intérprete de Python. Como dijimos más arriba se utilizan para generar documentación.\n",
    "\n",
    "Python proporciona dos tipos de docstrings: docstrings de una línea y docstrings de varias líneas.\n",
    "\n",
    "### 1) Docstrings de una línea\n",
    "\n",
    "Como su nombre indica, un docstring de una línea cabe en una línea. Un docstring de una línea comienza con comillas triples (\"\"\") y también termina con comillas triples (\"\"\"). Además, no habrá ninguna línea en blanco ni antes ni después de la docstring de una línea.\n",
    "\n",
    "El siguiente ejemplo ilustra un docstring de una línea en la función quicksort():\n",
    "\n",
    "    def quicksort():\n",
    "        \"\"\" ordenar la lista usando el algoritmo quicksort \"\"\"\n",
    "        ...\n",
    "\n",
    "### 2) Docstrings multilínea\n",
    "\n",
    "A diferencia de los docstrings de una línea, los docstrings de varias líneas pueden abarcar varias líneas. Una docstring multilínea también comienza con comillas triples (`\"\"\"`) y termina con comillas triples (`\"\"\"`).\n",
    "\n",
    "El siguiente ejemplo muestra cómo utilizar las cadenas de documentos multilínea:\n",
    "\n",
    "    def incrementar(sueldo, rating):\n",
    "        \"\"\" \n",
    "        pre: sueldo - número decimal\n",
    "             rating - número entero de 1 al 6\n",
    "        post: incrementa el sueldo en base rating\n",
    "                rating 1 - 2 no incrementa\n",
    "                rating 3 - 4 incrementa 5%\n",
    "                rating 4 - 6 incrementa 10%\n",
    "        \"\"\""
   ]
  },
  {
   "cell_type": "markdown",
   "metadata": {},
   "source": [
    "## 5. Ejemplo: conversión de formatos de grados\n",
    "\n",
    "Las coordenadas de los mapas se representaban tradicionalmente como grados, minutos y segundos (GMS), llamados  *grado sexagesimales*. Sin embargo, en el SIG (que está basado en el ordenador), la latitud y la longitud se representan como números decimales conocidos como *grados decimales*. El formato de grados, minutos y segundos se sigue utilizando. A veces, hay que convertir entre ese formato y los grados decimales para realizar cálculos y elaborar informes.\n",
    "\n",
    "Escribiremos las funciones de conversión entre ambos sistemas. \n",
    "\n",
    "Primero convertiremos grados sexagesimales en  grados decimales y eso es muy sencillo cuando usamos grados positivos:"
   ]
  },
  {
   "cell_type": "code",
   "execution_count": 17,
   "metadata": {},
   "outputs": [
    {
     "name": "stdout",
     "output_type": "stream",
     "text": [
      "33.906527777777775\n"
     ]
    }
   ],
   "source": [
    "def sexa2deci(grados: int , minutos: int , segundos: float) -> float:\n",
    "    # pre: 0 <= grados, 0 <= minutos < 60, 0 <= segundos < 60\n",
    "    # post: devuelve los grados en notación decimal\n",
    "    return grados + minutos / 60 + segundos / 3600 \n",
    "\n",
    "print(sexa2deci(33, 54, 23.5))"
   ]
  },
  {
   "cell_type": "markdown",
   "metadata": {},
   "source": [
    "Un poco más laboriosa es la conversión de grados decimales a sexagesimales:"
   ]
  },
  {
   "cell_type": "code",
   "execution_count": 18,
   "metadata": {},
   "outputs": [
    {
     "name": "stdout",
     "output_type": "stream",
     "text": [
      "(33, 54, 23.499999999990564)\n"
     ]
    }
   ],
   "source": [
    "import math \n",
    "\n",
    "def deci2sexa(pos: float) -> tuple:\n",
    "    # pre: pos son grados en notación decimal, pos >= 0\n",
    "    # post:  devuelve pos en una 3-upla grados, minutos, segundos\n",
    "    grados = math.floor(pos)\n",
    "    resto = pos - grados\n",
    "    minutos = math.floor(resto * 60)\n",
    "    resto = resto * 60 - minutos\n",
    "    segundos = 60 * resto\n",
    "    return grados, minutos, segundos\n",
    "\n",
    "print(deci2sexa(33.906527777777775))"
   ]
  },
  {
   "cell_type": "markdown",
   "metadata": {},
   "source": [
    "La función `math.floor()` trunca un número positivo a su parte entera. \n",
    "\n",
    "Las dos funciones anteriores deben considerarse funciones auxiliares que ayudarán a resolver el problema, un poco más complejo, de pasar de coordenadas terrestres sexagesimales a coordenadas terrestres decimales y viceversa. Eso lo podremos hacer usando condicionales, los cuales veremos dentro de poco."
   ]
  },
  {
   "cell_type": "markdown",
   "metadata": {
    "id": "v-ZlYiBFGv6t"
   },
   "source": [
    "## 6. Flujo de ejecución\n",
    "\n",
    "Para asegurarse de que una función esté definida antes de su primer uso, debe conocer las instrucciones de orden en que se ejecutan, lo que se denomina flujo de ejecución.\n",
    "\n",
    "La ejecución siempre comienza en la primera declaración del programa. Las declaraciones se ejecutan de una en una, en orden de arriba hacia abajo.\n",
    "\n",
    "Las definiciones de funciones no alteran el flujo de ejecución del programa, pero hay que recordar que las declaraciones dentro de la función no se ejecutan hasta que se llama a la función.\n",
    "\n",
    "Una llamada a una función es como un desvío en el flujo de ejecución. En lugar de ir a la siguiente declaración, el flujo salta al cuerpo de la función, ejecuta las declaraciones allí y luego regresa para continuar donde lo dejó.\n",
    "\n",
    "Eso suena bastante simple, hasta que recuerda que una función puede llamar a otra. Mientras esté en medio de una función, el programa podría tener que ejecutar las instrucciones en otra función. Luego, mientras se ejecuta esa nueva función, ¡es posible que el programa tenga que ejecutar otra función más!\n",
    "\n",
    "Afortunadamente, Python es bueno para realizar un seguimiento de dónde se encuentra, por lo que cada vez que se completa una función, el programa retoma donde lo dejó en la función que la llamó. Cuando llega al final del programa, termina.\n",
    "\n",
    "En resumen, cuando lees un programa, no siempre hay leer de arriba a abajo. En  general tiene más sentido seguir el flujo de ejecución."
   ]
  },
  {
   "cell_type": "markdown",
   "metadata": {
    "id": "0beOSufSKYZZ"
   },
   "source": [
    "## 7. Parámetros y argumentos\n",
    "\n",
    "Algunas de las funciones que hemos visto requieren argumentos. Por ejemplo, cuando llamas a `math.sin` pasás un número como argumento. Algunas funciones toman más de un argumento: `math.pow` toma dos, la base y el exponente.\n",
    "\n",
    "Dentro de la función, los argumentos se asignan a variables llamadas *parametros*. Aquí hay una definición de una función que toma un argumento:\n",
    "\n"
   ]
  },
  {
   "cell_type": "code",
   "execution_count": 19,
   "metadata": {
    "executionInfo": {
     "elapsed": 297,
     "status": "ok",
     "timestamp": 1629981557015,
     "user": {
      "displayName": "Alejandro Leopoldo Tiraboschi",
      "photoUrl": "https://lh3.googleusercontent.com/a-/AOh14Gir321Aip7u2JtD7LMLQbY3a1oHsAD11CVed_UbeFc=s64",
      "userId": "02370857492204546552"
     },
     "user_tz": 180
    },
    "id": "zGHGBqoaEXsR"
   },
   "outputs": [],
   "source": [
    "# Ejecutar esta función\n",
    "def imprimir_4_veces(nombre):\n",
    "    print(nombre)\n",
    "    print(nombre)\n",
    "    print(nombre)\n",
    "    print(nombre)"
   ]
  },
  {
   "cell_type": "markdown",
   "metadata": {
    "id": "t-edvW6PEZJt"
   },
   "source": [
    "Esta función asigna el argumento a un parámetro llamado `nombre`. Cuando se llama a la función, imprime el valor del parámetro (cualquiera que sea) cuatro veces.\n",
    "\n",
    "La función trabaja con cualquier valor que se pueda imprimir. Por ejemplo:\n"
   ]
  },
  {
   "cell_type": "code",
   "execution_count": 20,
   "metadata": {
    "id": "yDRU3O-LE6hm"
   },
   "outputs": [
    {
     "name": "stdout",
     "output_type": "stream",
     "text": [
      "Spam\n",
      "Spam\n",
      "Spam\n",
      "Spam\n",
      "42\n",
      "42\n",
      "42\n",
      "42\n",
      "3.141592653589793\n",
      "3.141592653589793\n",
      "3.141592653589793\n",
      "3.141592653589793\n"
     ]
    }
   ],
   "source": [
    "imprimir_4_veces('Spam')\n",
    "imprimir_4_veces(42)\n",
    "imprimir_4_veces(math.pi)"
   ]
  },
  {
   "cell_type": "markdown",
   "metadata": {
    "id": "uoBR2j1aE6q8"
   },
   "source": [
    "Las mismas reglas de composición que se aplican a las funciones predeefinidas también se aplican a las funciones definidas por el programador, por lo que podemos usar cualquier tipo de expresión como argumento para `imprimir_4_veces`:"
   ]
  },
  {
   "cell_type": "code",
   "execution_count": 21,
   "metadata": {
    "id": "1AXhVHICFiXc"
   },
   "outputs": [
    {
     "name": "stdout",
     "output_type": "stream",
     "text": [
      "SpamSpam\n",
      "SpamSpam\n",
      "SpamSpam\n",
      "SpamSpam\n",
      "45\n",
      "45\n",
      "45\n",
      "45\n",
      "-1.0\n",
      "-1.0\n",
      "-1.0\n",
      "-1.0\n"
     ]
    }
   ],
   "source": [
    "imprimir_4_veces('Spam' * 2)\n",
    "imprimir_4_veces(42 + 3)\n",
    "imprimir_4_veces(math.cos(math.pi))"
   ]
  },
  {
   "cell_type": "markdown",
   "metadata": {
    "id": "bSJ89aB7Fifw"
   },
   "source": [
    "El argumento se evalúa antes de llamar a la función, por lo que en los ejemplos las expresiones `'Spam' * 2`, `42 + 3`y `math.cos(math.pi)` solo se evalúan una vez.\n",
    "\n",
    "También se puede utilizar una variable como argumento:"
   ]
  },
  {
   "cell_type": "code",
   "execution_count": 22,
   "metadata": {
    "colab": {
     "base_uri": "https://localhost:8080/"
    },
    "executionInfo": {
     "elapsed": 289,
     "status": "ok",
     "timestamp": 1629981561534,
     "user": {
      "displayName": "Alejandro Leopoldo Tiraboschi",
      "photoUrl": "https://lh3.googleusercontent.com/a-/AOh14Gir321Aip7u2JtD7LMLQbY3a1oHsAD11CVed_UbeFc=s64",
      "userId": "02370857492204546552"
     },
     "user_tz": 180
    },
    "id": "SjhC0idLGHZj",
    "outputId": "357bf4da-a977-4075-b8da-4b2a4973db9c"
   },
   "outputs": [
    {
     "name": "stdout",
     "output_type": "stream",
     "text": [
      "el hombre que escaló la montaña\n",
      "el hombre que escaló la montaña\n",
      "el hombre que escaló la montaña\n",
      "el hombre que escaló la montaña\n"
     ]
    }
   ],
   "source": [
    "miguel = 'el hombre que escaló la montaña'\n",
    "imprimir_4_veces(miguel)"
   ]
  },
  {
   "cell_type": "markdown",
   "metadata": {
    "id": "49KjtSFjGHia"
   },
   "source": [
    "El nombre de la variable que pasamos como argumento (`miguel`) no tiene nada que ver con el nombre del parámetro (`nombre`). No importa cuál sea el nombre del argumento que se utilizó en la definición; cuando aplicamos la función `imprimir_4_veces`  al parámetro `miguel` toda ocurrencia de `nombre` es cambiada por `miguel`.\n",
    "\n",
    "Para ejecuciones repetidas  de una misma instrucción o similares, podemos hacer un código más corto y mas legible utilizando la instrucción `for`: \n"
   ]
  },
  {
   "cell_type": "code",
   "execution_count": 23,
   "metadata": {
    "executionInfo": {
     "elapsed": 288,
     "status": "ok",
     "timestamp": 1629981793085,
     "user": {
      "displayName": "Alejandro Leopoldo Tiraboschi",
      "photoUrl": "https://lh3.googleusercontent.com/a-/AOh14Gir321Aip7u2JtD7LMLQbY3a1oHsAD11CVed_UbeFc=s64",
      "userId": "02370857492204546552"
     },
     "user_tz": 180
    },
    "id": "D_7nIegodZWv"
   },
   "outputs": [],
   "source": [
    "def imprimir_4_veces_v2(nombre):\n",
    "    for _ in range(4):\n",
    "        print(nombre)"
   ]
  },
  {
   "cell_type": "markdown",
   "metadata": {
    "id": "t3glu1jvdcp2"
   },
   "source": [
    "Si ejecutamos\n"
   ]
  },
  {
   "cell_type": "code",
   "execution_count": 24,
   "metadata": {
    "id": "FbfCzSoufQzy"
   },
   "outputs": [
    {
     "name": "stdout",
     "output_type": "stream",
     "text": [
      "¡Hola!\n",
      "¡Hola!\n",
      "¡Hola!\n",
      "¡Hola!\n"
     ]
    }
   ],
   "source": [
    "imprimir_4_veces_v2('¡Hola!')"
   ]
  },
  {
   "cell_type": "markdown",
   "metadata": {
    "id": "HEra2xHufQ9k"
   },
   "source": [
    "debería ver algo como esto:\n",
    "```\n",
    "¡Hola!\n",
    "¡Hola!\n",
    "¡Hola!\n",
    "¡Hola!\n",
    "```\n",
    "\n",
    "Este es el uso más simple de la instrucción `for` que veremos con más profundidad después. Pero esto que explicamos es suficiente para permitirnos escribir un programa que generaliza la función anterior a un número determinado de repeticiones. Es decir,  podemos definir la función\n",
    "```\n",
    "imprimir_veces(n, nombre)\n",
    "```\n",
    "que imprime `n` veces la cadena nombre:"
   ]
  },
  {
   "cell_type": "code",
   "execution_count": 25,
   "metadata": {
    "id": "pmat_DvFgNL1"
   },
   "outputs": [
    {
     "name": "stdout",
     "output_type": "stream",
     "text": [
      "¡Adios!\n",
      "¡Adios!\n",
      "¡Adios!\n",
      "¡Adios!\n",
      "¡Adios!\n"
     ]
    }
   ],
   "source": [
    "def imprimir_veces(n, nombre):\n",
    "    for _ in range(n):\n",
    "        print(nombre)\n",
    "\n",
    "imprimir_veces(5, '¡Adios!')"
   ]
  },
  {
   "cell_type": "markdown",
   "metadata": {
    "id": "Oi2GEKETgNWP"
   },
   "source": [
    "La sintaxis de una instrucción `for` es similar a la definición de una función. Tiene un encabezado que termina con dos puntos y un cuerpo justificado, generalmente a 4 espacios del `for`. El cuerpo puede contener cualquier número de declaraciones.\n",
    "\n",
    "Una instrucción `for` también se llama un *ciclo* porque el flujo de ejecución corre a través del cuerpo y luego regresa a la parte superior. En el caso de `imprimir_4_veces_v2` recorre el cuerpo cuatro veces. En  el caso de `imprimir_veces(n, nombre)` recorre el cuerpo la cantidad de veces que especifiquemos que vale `n`.\n"
   ]
  },
  {
   "cell_type": "markdown",
   "metadata": {},
   "source": [
    "## 8. Ejemplo: medición de distancias en la Tierra\n",
    "\n",
    "\n",
    "La esencia del análisis geoespacial es descubrir las relaciones de los objetos en la Tierra. Los objetos que están más cerca tienden a tener una relación más fuerte que los que están más lejos más alejados. Este concepto se conoce como la Primera Ley de la Geografía de Tobler. Por lo tanto, la medición de la distancia es una función crítica del análisis geoespacial.\n",
    "\n",
    "Como hemos aprendido, cada mapa es un modelo de la Tierra y todos están equivocados en cierta medida. Por eso, medir la distancia exacta entre dos puntos de la Tierra\n",
    "sentado frente a un ordenador es imposible. Incluso los topógrafos profesionales (que salen al campo tanto con equipos de observación tradicionales como con equipos de GPS muy precisos) no tienen en cuenta todas las anomalías de la superficie terrestre entre el punto A y el punto B. Por tanto, para medir la distancia, debemos plantearnos las siguientes preguntas:\n",
    "\n",
    "- ¿Qué estamos midiendo?\n",
    "- ¿Cuánto estamos midiendo?\n",
    "- ¿Qué precisión necesitamos?\n",
    "\n",
    "Ahora bien, para calcular la distancia, hay tres modelos de la Tierra que podemos utilizar:\n",
    "\n",
    "- Plano\n",
    "- Esférico\n",
    "- Elipsoide\n",
    "\n",
    "En el modelo plano, se utiliza la geometría euclidiana estándar. La Tierra se considera un plano sin curvatura, como se muestra en el siguiente diagrama:\n",
    "\n",
    "![](../geospatial_ana/figures/01_world.png)\n",
    "\n",
    "Este modelo hace que las matemáticas sean bastante sencillas porque se trabaja con líneas rectas. El formato más común para las coordenadas geoespaciales es el de los grados decimales. Sin embargo, las coordenadas de grados decimales son medidas de referencia en una esfera tomadas como ángulos -entre la longitud y el primer meridiano- y la latitud y el ecuador. Además, las líneas de longitud convergen hacia el cero en los polos. La circunferencia de cada línea de latitud también se reduce hacia los polos. Estos hechos significan que los grados decimales no son un sistema de coordenadas válido sistema de coordenadas válido para la geometría euclidiana, que utiliza el plano.\n",
    "\n",
    "Las proyecciones cartográficas intentan simplificar los problemas de tratar con un elipsoide 3D en un plano 2D, ya sea en papel o en una pantalla de ordenador. Las proyecciones cartográficas aplanan un modelo redondo de la Tierra a un plano e introducen distorsiones a cambio de la comodidad de contar con un mapa en una hoja. Una vez que esta proyección está en su lugar y los grados decimales se cambian por un sistema de coordenadas cartesianas con coordenadas $x$ e $y$, podemos utilizar las formas más simples de la geometría euclidiana, es decir, el teorema de Pitágoras. \n",
    "\n",
    "A una escala suficientemente grande, una esfera o elipsoide como la Tierra se parece más a un plano que a una esfera. De hecho, durante siglos, todo el mundo pensó que la Tierra era plana. Si la diferencia en grados de longitud es lo suficientemente pequeña, a menudo se puede utilizar la geometría euclidiana y luego convertir las medidas en metros, kilómetros o millas. Este método generalmente no se recomienda, pero la decisión depende en última instancia de usted y de sus requisitos de precisión como analista.\n",
    "\n",
    "El enfoque del modelo esférico trata de aproximarse mejor a la realidad evitando los problemas derivados de aplastar la Tierra en una superficie plana. Como su nombre indica, este modelo utiliza una esfera perfecta para representar la Tierra (similar a un globo terráqueo físico), lo que nos permite trabajar con grados directamente. Este modelo ignora el hecho de que la Tierra es en realidad más bien un elipsoide con diferentes grados de grosor en su corteza. Pero al trabajar con la distancia en la superficie de una esfera, podemos empezar a medir distancias más largas con más precisión. La siguiente captura de pantalla ilustra este concepto:\n",
    "\n",
    "![](../geospatial_ana/figures/02_esfera.png)\n",
    "\n",
    "Utilizando el modelo de elipsoide de la Tierra, los analistas se esfuerzan por conseguir el mejor modelo de la superficie terrestre. Existen varios modelos de elipsoide, que se denominan datums. Un *datum* es un conjunto de valores que definen una forma estimada de la Tierra, también conocido como *sistema geodésico*. Como cualquier otro sistema de georreferenciación, un datum puede ser optimizado para un área localizada. El datum más utilizado es el llamado *[WGS84](https://es.wikipedia.org/wiki/WGS84)*, que está diseñado para un uso global. Debe saber que el WGS84 se actualiza ocasionalmente a medida que mejoran las técnicas de evaluación y la tecnología. La revisión más reciente se produjo en 2004.\n",
    "\n",
    "En América del Norte, se utiliza el datum NAD83 para optimizar la referenciación en el continente. En el hemisferio oriental, se utiliza con más frecuencia el *Sistema de Referencia Terrestre Europeo de 1989 (ETRS89)*. El ETRS89 está fijado a la parte estable de la placa euroasiática. Los mapas de Europa basados en el ETRS89 son inmunes a la deriva continental, que cambia hasta 2,5 cm por año a medida que la corteza terrestre se desplaza.\n",
    "\n",
    "Un elipsoide no tiene un radio constante desde el centro. Este hecho significa que las fórmulas utilizadas en el modelo esférico de la Tierra empiezan a tener problemas en el modelo elipsoidal. Aunque no es una aproximación perfecta, se acerca mucho más a la realidad que el modelo esférico. La siguiente captura de pantalla muestra un modelo genérico de elipsoide denotado por una línea negra contrastada con una representación de la corteza terrestre irregular, que utiliza una línea roja para representar el geoide. Aunque no lo utilizaremos para estos ejemplos, otro modelo es el del geoide. El geoide es el modelo más preciso y exacto de la Tierra, que se basa en la superficie terrestre sin ningún factor de influencia, excepto la gravedad y la rotación. El siguiente diagrama es una representación de un modelo geoide, elipsoide y esférico para ilustrar sus diferencias:\n",
    "\n",
    "![](../geospatial_ana/figures/03_geoide.png)\n",
    "\n",
    "Entender estos modelos de la Tierra es fundamental porque, después de todo, estamos modelando la Tierra. \n",
    "\n",
    "Ahora que hemos discutido estos diferentes modelos de la Tierra y los problemas para medirlos, veamos algunas soluciones usando Python.\n"
   ]
  },
  {
   "cell_type": "markdown",
   "metadata": {},
   "source": [
    "### La fórmula del haverseno\n",
    "\n",
    "\n",
    "Aunque la modelización matemática más exacta de la Tierra es como un elipsoide de revolución, para nuestros fines nos resultará útil, y más sencillo,  pensar a la Tierra como una esfera de radio 6.371 km. \n",
    "\n",
    "La distancia entre dos puntos en la Tierra viene dada por la longitud de la porción del *círculo máximo*, también llamado *geodésica*,  que los une. Los meridianos son los círculos máximos que pasan por los  polos,  pero hay otros círculos máximos. El ecuador terrestre es uno. En general dados dos puntos cualesquiera de la Tierra hay un círculo máximo que los contiene: es la intersección de la esfera con  el plano determinado por los dos puntos y el centro de la esfera.  Las círculos máximos en la esfera juegan el rol de las rectas en el plano y ellas permiten definir triángulos esféricos, cuadrados esféricos, etc. y,  en la denominada geometría esférica,  se pueden demostrar propiedades análogas a las que se obtienen en la geometría del plano.  Un *arco geodésico* entre dos puntos es la porción de círculo máximo que une los dos puntos y tiene longitud menor. La *distancia* en la Tierra entre dos puntos es la longitud del arco geodésico que une los dos puntos.\n",
    "\n",
    "Entonces ¿cómo podemoes estimar medir la distancia entre dos puntos? El método más popular es utilizar la *fórmula del haverseno* o *semiverseno*, que utiliza la trigonometría para calcular la longitud del arco geodésico entre dos puntos utilizando como entrada coordenadas definidas en grados decimales. \n",
    "\n",
    "Utilizaremos el módulo `math`que nos permite utilizar las funciones seno y coseno,  necesarias para implementar la fórmula del haverseno."
   ]
  },
  {
   "cell_type": "code",
   "execution_count": 26,
   "metadata": {},
   "outputs": [
    {
     "name": "stdout",
     "output_type": "stream",
     "text": [
      "240.6359762909508\n"
     ]
    }
   ],
   "source": [
    "from math import * # importa la biblioteca o módulo de matemática\n",
    "def distancia_h(lon1, lat1, lon2, lat2):\n",
    "    x_dist = (pi / 180) * (lon1 - lon2)\n",
    "    y_dist = (pi / 180) * (lat1 - lat2)\n",
    "    y1_rad = (pi / 180) * (lat1)\n",
    "    y2_rad = (pi / 180) * (lat2)\n",
    "    a = sin(y_dist/2)**2 + sin(x_dist/2)**2 *cos(y1_rad) * cos(y2_rad)\n",
    "    c = 2 * asin(sqrt(a))\n",
    "    return c * 6371 # kilometros\n",
    "\n",
    "lon1, lat1 = -90.212452861859035, 32.316272202663704\n",
    "lon2, lat2 = -88.952170968942525, 30.438559624660321\n",
    "\n",
    "print(distancia_h(lon1, lat1, lon2, lat2))\n"
   ]
  },
  {
   "cell_type": "markdown",
   "metadata": {},
   "source": [
    "Se puede simplificar un poco la fórmula del haverseno,  obteniendo una implementación más eficiente (en tiempo) y  con la misma precisión:"
   ]
  },
  {
   "cell_type": "code",
   "execution_count": 27,
   "metadata": {},
   "outputs": [
    {
     "name": "stdout",
     "output_type": "stream",
     "text": [
      "240.63597629093903\n"
     ]
    }
   ],
   "source": [
    "from math import * # importa la biblioteca o módulo de matemática\n",
    "\n",
    "def distancia_t(lon1, lat1, lon2, lat2):\n",
    "    # pre: (lon1, lat1) y (lon2, lat2) son coordenadas (lon, lat) de dos puntos en radianes.\n",
    "    # post: devuelve la distancia entre los dos puntos en kilómetros\n",
    "    x1, y1 = (pi / 180) * lon1,  (pi / 180) * lat1\n",
    "    x2, y2 =  (pi / 180) * lon2,  (pi / 180) * lat2\n",
    "    return acos(cos(y1) * cos(y2) * cos(x1 - x2) + sin(y1) * sin(y2)) * 6371\n",
    "\n",
    "lon1, lat1 = -90.212452861859035, 32.316272202663704\n",
    "lon2, lat2 = -88.952170968942525, 30.438559624660321\n",
    "\n",
    "print(distancia_t(lon1, lat1, lon2, lat2))"
   ]
  },
  {
   "cell_type": "markdown",
   "metadata": {},
   "source": [
    "**Ejemplo.** Calculemos la distancia entre las capitales de Córdoba y San Juan. En  Wikipedia podemos obtener las coordenadas decimales de cada una de esta ciudades. Hay que observar que en la Wikipedia las coordenadas geográficas son latitud, longitud y nosotros en nuestro cálculos usamos longitud, latitud. \n",
    "\n",
    "- Cordoba : -64.183333, -31.416667 (lon, lat),\n",
    "- San Juan: -68.536389, -31.5375.\n",
    "\n",
    "Luego la distancia entre Córdoba y San Juan es:\n"
   ]
  },
  {
   "cell_type": "code",
   "execution_count": 28,
   "metadata": {},
   "outputs": [
    {
     "data": {
      "text/plain": [
       "413.0025113879262"
      ]
     },
     "execution_count": 28,
     "metadata": {},
     "output_type": "execute_result"
    }
   ],
   "source": [
    "distancia_t(-64.183333, -31.416667, -68.536389, -31.5375)"
   ]
  },
  {
   "cell_type": "markdown",
   "metadata": {},
   "source": [
    "Es decir 413.0025113879262 km. Podrán comprobar que podemos obtener una distancia muy parecida en Google Maps o Google Earth. "
   ]
  }
 ],
 "metadata": {
  "colab": {
   "authorship_tag": "ABX9TyNIXhrKs0rnLS1ii20qFjJW",
   "collapsed_sections": [],
   "name": "03 - Funciones (1º parte).ipynb",
   "provenance": []
  },
  "kernelspec": {
   "display_name": "Python 3 (ipykernel)",
   "language": "python",
   "name": "python3"
  },
  "language_info": {
   "codemirror_mode": {
    "name": "ipython",
    "version": 3
   },
   "file_extension": ".py",
   "mimetype": "text/x-python",
   "name": "python",
   "nbconvert_exporter": "python",
   "pygments_lexer": "ipython3",
   "version": "3.8.12"
  }
 },
 "nbformat": 4,
 "nbformat_minor": 4
}
