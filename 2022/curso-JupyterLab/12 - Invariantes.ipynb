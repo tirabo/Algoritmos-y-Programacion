{
  "cells": [
    {
      "cell_type": "markdown",
      "metadata": {
        "id": "46o0X2qQj0Bf"
      },
      "source": [
        "#Razonando sobre programas: Corrección parcial"
      ]
    },
    {
      "cell_type": "markdown",
      "metadata": {
        "id": "TocQAMA_j3bH"
      },
      "source": [
        "¿Cómo podemos convencernos de que un programa es correcto?"
      ]
    },
    {
      "cell_type": "code",
      "execution_count": null,
      "metadata": {
        "id": "lcvn5Q2JkEoH"
      },
      "outputs": [],
      "source": [
        "def cuadrado(n : int) -> int:\n",
        "    # pre: n es un entero\n",
        "    # post: devuelve el cuadrado de n\n",
        "    # n ** 2 es el cuadrado de n\n",
        "    res = n ** 2\n",
        "    # res es el cuadrado de n\n",
        "    return res"
      ]
    },
    {
      "cell_type": "markdown",
      "metadata": {
        "id": "fLKnRCy2py4G"
      },
      "source": [
        "Observaciones:\n",
        "\n",
        "\n",
        "*   Si las variables que aparecen en una afirmación verdadera antes de una línea de código no se modifican en esa línea de código, la misma afirmación sigue siendo verdadera luego de la línea de código.\n",
        "*   Si antes de la asignación `x = e` vale una afirmación $A(e)$, entonces luego de la asignación vale la afirmación $A(x)$.\n",
        "\n"
      ]
    },
    {
      "cell_type": "markdown",
      "metadata": {
        "id": "5C5_grZyo_6v"
      },
      "source": [
        "Si uno mira la celda anterior con el programa \"ya verificado\", no queda claro cómo fue el razonamiento. Lo explicamos a continuación:\n",
        "\n",
        "1.   La precondición no se demuestra, se asume que es verdadera cuando comienza la ejecución de la función (será responsabilidad de quien use la función, asegurarse de que se cumpla su precondición)\n",
        "2.   La precondición `n es un entero` implica `n ** 2 es el cuadrado de n`. De hecho esta afirmación simplemente está diciendo que en Python `n ** 2` es lo que habitualmente escribimos $n^2$ en matemática. Por lo tanto, la afirmación `n ** 2 es el cuadrado de n` es verdadera en la línea 4.\n",
        "3.   Por ello, luego de la asignación `res = n ** 2`, la afirmación `res es el cuadrado de n` es verdadera, ya que la variable `res` tiene ahora justamente el valor de la expresión `n ** 2`. Por lo tanto, si `n ** 2 es el cuadrado de n` es verdadera en la línea 4, entonces `res es el cuadrado de n` es verdadera en la línea 6.\n",
        "4.   Por último, si en la línea 6 vale `res es el cuadrado de n`, entonces efectivamente se cumple la postcondición ya que en la fila siguiente se está devolviendo justamente el cuadrado de `n`.\n",
        "\n",
        "**¿Qué hemos demostrado? Hemos demostrado que si se cumple la precondición cuando se llama a la función, entonces se va a cumplir la postcondición cuando la misma finalice.**\n"
      ]
    },
    {
      "cell_type": "markdown",
      "metadata": {
        "id": "YKII90ye2-Jm"
      },
      "source": [
        "A continuación otro ejemplo, en este caso con la instrucción condicional."
      ]
    },
    {
      "cell_type": "code",
      "execution_count": null,
      "metadata": {
        "id": "VwELFAehkace"
      },
      "outputs": [],
      "source": [
        "def absoluto(r : float) -> float:\n",
        "    # pre: r es un número real\n",
        "    # post: devuelve el valor absoluto de r\n",
        "    # r es un número real\n",
        "    if r >= 0:\n",
        "        # r es un número real y r >= 0\n",
        "        # r es un número real y r >= 0 y r == |r|\n",
        "        res = r\n",
        "        # r es un número real y r >= 0 y res == |r|\n",
        "        # r es un número real y res == |r|\n",
        "    else:\n",
        "        # r es un número real y r < 0\n",
        "        # r es un número real y r < 0 y -r == |r|\n",
        "        res = -r\n",
        "        # r es un número real y r < 0 y res == |r|\n",
        "        # r es un número real y res == |r|\n",
        "    # r es un número real y res == |r|\n",
        "    return res"
      ]
    },
    {
      "cell_type": "markdown",
      "metadata": {
        "id": "zp-1DMcZucHx"
      },
      "source": [
        "Observaciones:\n",
        "\n",
        "\n",
        "*   Si una afirmación vale antes de un condicional, también vale al comienzo de cada una de las ramas del condicional. Además al comienzo de cada una de las ramas vale la condición (respectivamente su opuesto).\n",
        "*   Si una afirmación vale al final de las dos ramas del condicional, entonces también vale luego de finalizada la ejecución del condicional.\n",
        "\n"
      ]
    },
    {
      "cell_type": "markdown",
      "metadata": {
        "id": "elci0NCl2WqA"
      },
      "source": [
        "Nuevamente explicamos la demostración anterior:\n",
        "\n",
        "1.   Se asume que la precondición `r es un número real` es verdadera.\n",
        "2.   En la línea 6 no hubo ningún cambio, sigue siendo verdadera. Pero también vale la condición del `if`, `r >= 0`, pues solamente cuando dicha condición es verdadera el flujo del programa sigue por la línea 6. De la misma manera, en la línea 12 sigue valiendo `e es un número real` pues no hubo ningún cambio desde el comienzo de la ejecución de la función, pero también vale el opuesto de la condición del `if`: `r < 0`.\n",
        "3.   La afirmación de la línea 6 implica la de la línea 7 (en realidad son equivalentes). De la misma forma, la afirmación de la línea 12 implica la de la fila 13 (son equivalentes).\n",
        "4.   Si la afirmación de la línea 7 se cumple antes de la asignación `res = r`, entonces la afirmación de la línea 9 se cumple después de dicha asignación, justamente porque la variable `res` tiene como valor el que tenía la variable `r`. De la misma manera, si la afirmación de la línea 13 se cumple antes de la asignación `res = -r`, entonces la afirmación de la línea 15 se cumple después de dicha asignación, justamene porque la variable `res` tiene como valor el que tenía la expresión `-r`.\n",
        "5.   Las afirmaciones de la línea 9 y 15, entonces, son verdaderas cada una en la línea en la que está. Para poder afirmar algo **después del condicional debo encontrar la misma afirmación en ambas ramas**. Pero las afirmaciones de la línea 9 y de la línea 15 no son idénticas. Se diferencian en que una incluye un `r >= 0` y la otra un `r < 0`. Pero ambas implican que `r es un número real y res == |r|`. Por ello escribimos esta afirmación en la líneas 10 y 16.\n",
        "6.   Ahora que tenemos la misma afirmación en cada rama del `if`, podemos copiar esa misma afirmación **luego del condicional**.\n",
        "7.   De dicha afirmación (`r es un número real y res == |r|`) justo antes del `return`, resulta evidente que se cumple la postcondición.\n",
        "\n",
        "**Nuevamente hemos demostrado que si se cumple la precondición cuando se llama a la función, entonces se va a cumplir la postcondición cuando la misma finalice.**\n"
      ]
    },
    {
      "cell_type": "code",
      "execution_count": null,
      "metadata": {
        "id": "rXYiodSHaWlE"
      },
      "outputs": [],
      "source": [
        "def factorial(n : int) -> int:\n",
        "    # pre: n es un número entero no negativo\n",
        "    # post: devuelve el factorial de n, es decir, 1 * 2 * 3 * ... * n\n",
        "    res = 1\n",
        "    i = 2\n",
        "    while i <= n:\n",
        "        res = res * i\n",
        "        i = i + 1\n",
        "    return res"
      ]
    },
    {
      "cell_type": "code",
      "execution_count": null,
      "metadata": {
        "id": "-jSQg-rZkxsU"
      },
      "outputs": [],
      "source": [
        "def factorial(n : int) -> int:\n",
        "    # pre: n es un número entero no negativo\n",
        "    # post: devuelve el factorial de n, es decir, 1 * 2 * 3 * ... * n\n",
        "    # 1 == 1 y n >= 0\n",
        "    res = 1\n",
        "    # res == 1 y n >= 0\n",
        "    # res == 1 y 2 == 2 y n >= 0\n",
        "    i = 2\n",
        "    # res == 1 y i == 2 y n >= 0\n",
        "    # res == 1 * 2 * ... * (i - 1) y 2 <= i <= n + 1  (esto es el invariante)\n",
        "    while i <= n:\n",
        "        # res == 1 * 2 * ... * (i - 1) y 2 <= i <= n + 1 y i <= n\n",
        "        # res == 1 * 2 * ... * (i - 1) y 2 <= i <= n\n",
        "        # res * i == 1 * 2 * ... * (i - 1) * i y 2 <= i <= n\n",
        "        # res * i == 1 * 2 * ... * i y 2 <= i <= n\n",
        "        res = res * i\n",
        "        # res == 1 * 2 * ... * i y 2 <= i <= n\n",
        "        # res == 1 * 2 * ... * (i + 1 - 1) y 3 <= i + 1 <= n + 1\n",
        "        i = i + 1\n",
        "        # res == 1 * 2 * ... * (i - 1) y 3 <= i <= n + 1\n",
        "        # res == 1 * 2 * ... * (i - 1) y 2 <= i <= n + 1\n",
        "        # invariante\n",
        "    # res == 1 * 2 * ... * (i - 1) y 2 <= i <= n + 1 y i > n\n",
        "    # res == 1 * 2 * ... * (i - 1) y i == n + 1\n",
        "    # res == 1 * 2 * ... * (n + 1 - 1) y i == n + 1\n",
        "    # res == 1 * 2 * ... * n y i == n + 1\n",
        "    return res"
      ]
    },
    {
      "cell_type": "markdown",
      "metadata": {
        "id": "TgjhO8SieKPr"
      },
      "source": [
        "Razonar sobre el ciclo `while` requiere identificar un invariante. Un invariante es una afirmación que vale antes de entrar al `while` y al comienzo y al final de cada ejecución del cuerpo del `while` y también luego del `while`:\n",
        "\n",
        "    # invariante\n",
        "    while condición:\n",
        "        # invariante\n",
        "        cuerpo del ciclo\n",
        "        # invariante\n",
        "    # invariante\n",
        "\n",
        "Para demostrar que una afirmación es un invariante, debemos demostrar\n",
        "\n",
        "1)    que vale antes del `while`:\n",
        "\n",
        "    # invariante\n",
        "    while condición:\n",
        "        cuerpo del ciclo\n",
        "\n",
        "y 2)   que si la afirmación y la condición valen al comenzar el cuerpo del ciclo\n",
        "\n",
        "    while condición:\n",
        "        # invariante y condición\n",
        "        cuerpo del ciclo\n",
        "\n",
        "entonces también vale la afirmación al finalizar el cuerpo del ciclo\n",
        "\n",
        "    while condición:\n",
        "        cuerpo del ciclo\n",
        "        # invariante\n",
        "\n",
        "\n"
      ]
    },
    {
      "cell_type": "code",
      "execution_count": null,
      "metadata": {
        "id": "_-wkrbNp7Xgj"
      },
      "outputs": [],
      "source": [
        "def minimo(ns : list) -> int:\n",
        "    # pre: ns es una lista de enteros no vacía\n",
        "    # post: devuelve el menor de los enteros de la lista ns\n",
        "    res = ns[0]\n",
        "    for e in ns:\n",
        "        if e < res:\n",
        "            res = e\n",
        "    return res\n",
        "\n",
        "print(minimo([45,65,23,4,48]))"
      ]
    },
    {
      "cell_type": "code",
      "execution_count": null,
      "metadata": {
        "colab": {
          "base_uri": "https://localhost:8080/"
        },
        "id": "qMvWSaqCmy1Y",
        "outputId": "89a34e98-f2b6-4387-dc54-46108e1c342d"
      },
      "outputs": [
        {
          "name": "stdout",
          "output_type": "stream",
          "text": [
            "4\n"
          ]
        }
      ],
      "source": [
        "def minimo(ns : list) -> int:\n",
        "    # pre: ns es una lista de enteros no vacía\n",
        "    # post: devuelve el menor de los enteros de la lista ns\n",
        "    res = ns[0]\n",
        "    for i in range(1,len(ns)):\n",
        "        if ns[i] < res:\n",
        "            res = ns[i]\n",
        "    return res\n",
        "\n",
        "print(minimo([45,65,23,4,48]))"
      ]
    },
    {
      "cell_type": "code",
      "execution_count": null,
      "metadata": {
        "colab": {
          "base_uri": "https://localhost:8080/"
        },
        "id": "_BgZQJwZnaAN",
        "outputId": "81266d42-1ce1-4527-a1c6-189952d7cf1d"
      },
      "outputs": [
        {
          "name": "stdout",
          "output_type": "stream",
          "text": [
            "4\n"
          ]
        }
      ],
      "source": [
        "def minimo(ns : list) -> int:\n",
        "    # pre: ns es una lista de enteros no vacía\n",
        "    # post: devuelve el menor de los enteros de la lista ns\n",
        "    res = ns[0]\n",
        "    i = 1\n",
        "    while i < len(ns):\n",
        "        if ns[i] < res:\n",
        "            res = ns[i]\n",
        "        i = i + 1\n",
        "    return res\n",
        "\n",
        "print(minimo([45,65,23,4,48]))"
      ]
    },
    {
      "cell_type": "code",
      "execution_count": null,
      "metadata": {
        "id": "5TKruCVsnunm"
      },
      "outputs": [],
      "source": [
        "def minimo(ns : list) -> int:\n",
        "    # pre: ns es una lista de enteros no vacía\n",
        "    # post: devuelve el menor de los enteros de la lista ns\n",
        "    # ns es lista de enteros no vacía y ns[0] == ns[0]\n",
        "    res = ns[0]\n",
        "    # ns es lista de enteros no vacía y res == ns[0]\n",
        "    i = 1\n",
        "    # ns es lista de enteros no vacía y res == ns[0] y i == 1\n",
        "    # invariante: res es el menor elemento de ns[0:i] y 1 <= i <= len(ns)\n",
        "    while i < len(ns):\n",
        "        if ns[i] < res:\n",
        "            res = ns[i]\n",
        "        i = i + 1\n",
        "    return res\n",
        "\n",
        "print(minimo([45,65,23,4,48]))"
      ]
    },
    {
      "cell_type": "markdown",
      "metadata": {
        "id": "T2zoKLVNpCZf"
      },
      "source": [
        "1) demostrar que el \"invariante\" se cumple antes del while\n"
      ]
    },
    {
      "cell_type": "code",
      "execution_count": null,
      "metadata": {
        "id": "0qY2KNK1pGtA"
      },
      "outputs": [],
      "source": [
        "def minimo(ns : list) -> int:\n",
        "    # pre: ns es una lista de enteros no vacía\n",
        "    # post: devuelve el menor de los enteros de la lista ns\n",
        "    # ns es lista de enteros no vacía y ns[0] == ns[0]\n",
        "    res = ns[0]\n",
        "    # ns es lista de enteros no vacía y res == ns[0]\n",
        "    i = 1\n",
        "    # ns es lista de enteros no vacía y res == ns[0] y i == 1\n",
        "    # invariante: res es el menor elemento de ns[0:i] y 1 <= i <= len(ns)\n",
        "    while i < len(ns):\n",
        "        if ns[i] < res:\n",
        "            res = ns[i]\n",
        "        i = i + 1\n",
        "    return res\n",
        "\n",
        "print(minimo([45,65,23,4,48]))"
      ]
    },
    {
      "cell_type": "markdown",
      "metadata": {
        "id": "7SpgrcHvphDa"
      },
      "source": [
        "2) comprobar que si el invariante y la condición del while se cumplen antes de comenzar el cuerpo del while, el invariante se cumple luego del cuerpo del while"
      ]
    },
    {
      "cell_type": "code",
      "execution_count": null,
      "metadata": {
        "id": "ifjalNtLpf32"
      },
      "outputs": [],
      "source": [
        "def minimo(ns : list) -> int:\n",
        "    # pre: ns es una lista de enteros no vacía\n",
        "    # post: devuelve el menor de los enteros de la lista ns\n",
        "    # ns es lista de enteros no vacía y ns[0] == ns[0]\n",
        "    res = ns[0]\n",
        "    # ns es lista de enteros no vacía y res == ns[0]\n",
        "    i = 1\n",
        "    # ns es lista de enteros no vacía y res == ns[0] y i == 1\n",
        "    # invariante: res es el menor elemento de ns[0:i] y 1 <= i <= len(ns)\n",
        "    while i < len(ns):\n",
        "        # invariante y i < len(ns)\n",
        "        # res es el menor elemento de ns[0:i] y 1 <= i <= len(ns) y i < len(ns)\n",
        "        # res es el menor elemento de ns[0:i] y 1 <= i < len(ns)\n",
        "        if ns[i] < res:\n",
        "            # res es el menor elemento de ns[0:i] y 1 <= i < len(ns) y ns[i] < res\n",
        "            # ns[i] es el menor elementos de ns[0:i+1] y 1 <= i < len(ns)\n",
        "            res = ns[i]\n",
        "            # res es el menor elementos de ns[0:i+1] y 1 <= i < len(ns)\n",
        "        else:\n",
        "            # res es el menor elemento de ns[0:i] y 1 <= i < len(ns) y ns[i] >= res\n",
        "            # res es el menor elementos de ns[0:i+1] y 1 <= i < len(ns)\n",
        "            pass\n",
        "            # res es el menor elementos de ns[0:i+1] y 1 <= i < len(ns)\n",
        "        # res es el menor elementos de ns[0:i+1] y 2 <= i+1 < len(ns) + 1\n",
        "        i = i + 1\n",
        "        # res es el menor elementos de ns[0:i] y 2 <= i < len(ns) + 1\n",
        "        # res es el menor elementos de ns[0:i] y 1 <= i <= len(ns)\n",
        "        # invariante\n",
        "    return res\n",
        "\n",
        "print(minimo([45,65,23,4,48]))"
      ]
    },
    {
      "cell_type": "markdown",
      "metadata": {
        "id": "UH9dIiR-roCU"
      },
      "source": [
        "Conclusión: hemos demostrado que `res es el menor elementos de ns[0:i] y 1 <= i <= len(ns)` es un invariante\n"
      ]
    },
    {
      "cell_type": "code",
      "execution_count": null,
      "metadata": {
        "id": "kAVknTkSrzNT"
      },
      "outputs": [],
      "source": [
        "def minimo(ns : list) -> int:\n",
        "    # pre: ns es una lista de enteros no vacía\n",
        "    # post: devuelve el menor de los enteros de la lista ns\n",
        "    # ns es lista de enteros no vacía y ns[0] == ns[0]\n",
        "    res = ns[0]\n",
        "    # ns es lista de enteros no vacía y res == ns[0]\n",
        "    i = 1\n",
        "    # ns es lista de enteros no vacía y res == ns[0] y i == 1\n",
        "    # invariante: res es el menor elemento de ns[0:i] y 1 <= i <= len(ns)\n",
        "    while i < len(ns):\n",
        "        # invariante y i < len(ns)\n",
        "        # res es el menor elemento de ns[0:i] y 1 <= i <= len(ns) y i < len(ns)\n",
        "        # res es el menor elemento de ns[0:i] y 1 <= i < len(ns)\n",
        "        if ns[i] < res:\n",
        "            # res es el menor elemento de ns[0:i] y 1 <= i < len(ns) y ns[i] < res\n",
        "            # ns[i] es el menor elementos de ns[0:i+1] y 1 <= i < len(ns)\n",
        "            res = ns[i]\n",
        "            # res es el menor elementos de ns[0:i+1] y 1 <= i < len(ns)\n",
        "        else:\n",
        "            # res es el menor elemento de ns[0:i] y 1 <= i < len(ns) y ns[i] >= res\n",
        "            # res es el menor elementos de ns[0:i+1] y 1 <= i < len(ns)\n",
        "            pass\n",
        "            # res es el menor elementos de ns[0:i+1] y 1 <= i < len(ns)\n",
        "        # res es el menor elementos de ns[0:i+1] y 2 <= i+1 < len(ns) + 1\n",
        "        i = i + 1\n",
        "        # res es el menor elementos de ns[0:i] y 2 <= i < len(ns) + 1\n",
        "        # res es el menor elementos de ns[0:i] y 1 <= i <= len(ns)\n",
        "    # invariante y i >= len(ns)\n",
        "    # res es el menor elementos de ns[0:i] y 1 <= i <= len(ns) y i >= len(ns)\n",
        "    # res es el menor elementos de ns[0:i] y 1 <= i == len(ns)\n",
        "    # res es el menor elementos de ns[0:len(ns)] pero ns[0:len(ns)] == ns\n",
        "    # por lo tanto vale la postcondición\n",
        "    return res\n",
        "\n",
        "print(minimo([45,65,23,4,48]))"
      ]
    },
    {
      "cell_type": "markdown",
      "metadata": {
        "id": "Rlia9214chbb"
      },
      "source": [
        "Recordemos que $n \\geq 2$, entero, es primo, si y sólo si no existe ningún número entero $2 \\leq d < n$ que divida a $n$."
      ]
    },
    {
      "cell_type": "code",
      "execution_count": null,
      "metadata": {
        "id": "A876esj8-zg8"
      },
      "outputs": [],
      "source": [
        "def es_primo(n : int) -> bool:\n",
        "    # pre: n es un número entero >= 2\n",
        "    # post: devuelve verdadero sii n es número primo\n",
        "    # n es un número entero >= 2 y 2 == 2\n",
        "    d = 2\n",
        "    # n es un número entero >= 2 y d == 2\n",
        "    # invariante: n >= 2 y 2 <= d <= n y para todo i en {2, 3, ..., d-1} n % i != 0\n",
        "    while n % d != 0:\n",
        "        d = d + 1\n",
        "    return d == n"
      ]
    },
    {
      "cell_type": "markdown",
      "metadata": {
        "id": "a6h_CjrOfGVo"
      },
      "source": [
        "¿Cómo demostrar que es un invariante?\n",
        "\n",
        "1) Demostrar que se cumple antes del while"
      ]
    },
    {
      "cell_type": "code",
      "execution_count": null,
      "metadata": {
        "id": "ATQ6Gw4cfDQt"
      },
      "outputs": [],
      "source": [
        "def es_primo(n : int) -> bool:\n",
        "    # pre: n es un número entero >= 2\n",
        "    # post: devuelve verdadero sii n es número primo\n",
        "    # n es un número entero >= 2 y 2 == 2\n",
        "    d = 2\n",
        "    # n es un número entero >= 2 y d == 2\n",
        "    # invariante: n >= 2 y 2 <= d <= n y para todo i en {2, 3, ..., d-1} n % i != 0\n",
        "    while n % d != 0:\n",
        "        d = d + 1\n",
        "    return d == n"
      ]
    },
    {
      "cell_type": "markdown",
      "metadata": {
        "id": "efo3dkJef8GM"
      },
      "source": [
        "2) Demostrar que si el invariante y la condición del while se cumplen antes de ejecutarse el cuerpo del ciclo, entonces el invariante se cumple luego de ejecutarse el cuerpo del ciclo."
      ]
    },
    {
      "cell_type": "code",
      "execution_count": null,
      "metadata": {
        "id": "0uW5YtYEgIy9"
      },
      "outputs": [],
      "source": [
        "def es_primo(n : int) -> bool:\n",
        "    # pre: n es un número entero >= 2\n",
        "    # post: devuelve verdadero sii n es número primo\n",
        "    # n es un número entero >= 2 y 2 == 2\n",
        "    d = 2\n",
        "    # n es un número entero >= 2 y d == 2\n",
        "    # invariante: n >= 2 y 2 <= d <= n y para todo i en {2, 3, ..., d-1} n % i != 0\n",
        "    while n % d != 0:\n",
        "        # invariante y n % d != 0\n",
        "        # n >= 2 y 2 <= d <= n y para todo i en {2, 3, ..., d-1} n % i != 0 y n % d != 0\n",
        "        # n >= 2 y 2 <= d < n y para todo i en {2, 3, ..., d} n % i != 0\n",
        "        # n >= 2 y 3 <= d + 1 < n + 1 y para todo i en {2, 3, ..., d+1-1} n % i != 0\n",
        "        d = d + 1\n",
        "        # n >= 2 y 3 <= d < n + 1 y para todo i en {2, 3, ..., d-1} n % i != 0\n",
        "        # n >= 2 y 2 <= d <= n y para todo i en {2, 3, ..., d-1} n % i != 0\n",
        "        # invariante\n",
        "    return d == n"
      ]
    },
    {
      "cell_type": "code",
      "execution_count": null,
      "metadata": {
        "id": "VhBjTTtEjDRB"
      },
      "outputs": [],
      "source": [
        "def es_primo(n : int) -> bool:\n",
        "    # pre: n es un número entero >= 2\n",
        "    # post: devuelve verdadero sii n es número primo\n",
        "    # n es un número entero >= 2 y 2 == 2\n",
        "    d = 2\n",
        "    # n es un número entero >= 2 y d == 2\n",
        "    # invariante: n >= 2 y 2 <= d <= n y para todo i en {2, 3, ..., d-1} n % i != 0\n",
        "    while n % d != 0:\n",
        "        # invariante y n % d != 0\n",
        "        # n >= 2 y 2 <= d <= n y para todo i en {2, 3, ..., d-1} n % i != 0 y n % d != 0\n",
        "        # n >= 2 y 2 <= d < n y para todo i en {2, 3, ..., d} n % i != 0\n",
        "        # n >= 2 y 3 <= d + 1 < n + 1 y para todo i en {2, 3, ..., d+1-1} n % i != 0\n",
        "        d = d + 1\n",
        "        # n >= 2 y 3 <= d < n + 1 y para todo i en {2, 3, ..., d-1} n % i != 0\n",
        "        # n >= 2 y 2 <= d <= n y para todo i en {2, 3, ..., d-1} n % i != 0\n",
        "    # invariante y n % d == 0\n",
        "    # n >= 2 y 2 <= d <= n y para todo i en {2, 3, ..., d-1} n % i != 0 y n % d == 0\n",
        "    # dos posibilidades: a) d == n   b) d != n\n",
        "    # a) si d == n, entonces de para todo i en {2, 3, ..., d-1} n % i != 0 deducimos que n es primo\n",
        "    # b) si d != n, entonces de 2 <= d <= n deducimos 2 <= d < n y entonces de n % d == 0 que n no es primo\n",
        "    # conclusión n es primo sii d == n\n",
        "    return d == n"
      ]
    },
    {
      "cell_type": "markdown",
      "metadata": {
        "id": "ELGeMlCnkiMg"
      },
      "source": [
        "Hemos demostrado que si se cumple la precondición de la función `es_primo()` al comenzar su ejecución, entonces se cumple su postcondición al finalizar.\n",
        "\n",
        "Conclusión: si la ejecución de la función termina, la misma es correcta. Corrección parcial.\n",
        "\n",
        "Para demostrar corrección total, debo encontrar una expresión entera cuyo valor vaya decreciendo en cada ejecución del ciclo, y que nunca pueda ser negativa. Eso se llama un \"variante\" del ciclo.\n",
        "\n",
        "Por ejemplo, la expresión `n-d` es siempre no negativa ya que demostramos que `d <= n` es parte del invariante. Se puede comprobar que decrece paso a paso.\n"
      ]
    },
    {
      "cell_type": "markdown",
      "metadata": {
        "id": "pugEPWw0giPr"
      },
      "source": [
        "Ejercicio: demostrar la corrección parcial de la siguiente función"
      ]
    },
    {
      "cell_type": "code",
      "execution_count": null,
      "metadata": {
        "id": "k7XOqZ0Ujag-"
      },
      "outputs": [],
      "source": [
        "def logaritmo2(r: float) -> int:\n",
        "    # pre: r es un número real mayor o igual que 1\n",
        "    # post: devuelve el mayor entero n tal que 2**n <= r < 2**(n+1)\n",
        "    res = 1\n",
        "    # invariante: para todo i entre 1 y res-1, 2 ** i <= r\n",
        "    while 2**res <= r:\n",
        "        res = res + 1\n",
        "    res = res - 1\n",
        "    return res"
      ]
    }
  ],
  "metadata": {
    "colab": {
      "collapsed_sections": [],
      "include_colab_link": true,
      "name": "Algoritmos y Programación corrección parcial 13 y 18 de octubre.ipynb",
      "provenance": []
    },
    "kernelspec": {
      "display_name": "Python 3",
      "name": "python3"
    },
    "language_info": {
      "name": "python"
    }
  },
  "nbformat": 4,
  "nbformat_minor": 0
}
