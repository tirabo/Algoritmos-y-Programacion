{
  "cells": [
    {
      "cell_type": "markdown",
      "metadata": {
        "id": "46o0X2qQj0Bf"
      },
      "source": [
        "# Invariantes"
      ]
    },
    {
      "cell_type": "markdown",
      "metadata": {
        "id": "TocQAMA_j3bH"
      },
      "source": [
        "## 1. Razonando sobre programas: Corrección parcial\n",
        "\n",
        "¿Cómo podemos convencernos de que un programa es correcto?"
      ]
    },
    {
      "cell_type": "code",
      "execution_count": null,
      "metadata": {
        "id": "lcvn5Q2JkEoH"
      },
      "outputs": [],
      "source": [
        "def cuadrado(n : int) -> int:\n",
        "    # pre: n es un entero\n",
        "    # post: devuelve el cuadrado de n\n",
        "    # n ** 2 es el cuadrado de n\n",
        "    res = n ** 2\n",
        "    # res es el cuadrado de n\n",
        "    return res"
      ]
    },
    {
      "cell_type": "markdown",
      "metadata": {
        "id": "fLKnRCy2py4G"
      },
      "source": [
        "Observaciones:\n",
        "\n",
        "\n",
        "*   Si las variables que aparecen en una afirmación verdadera antes de una línea de código no se modifican en esa línea de código, la misma afirmación sigue siendo verdadera luego de la línea de código.\n",
        "*   Si antes de la asignación `x = e` vale una afirmación $A(e)$, entonces luego de la asignación vale la afirmación $A(x)$.\n",
        "\n"
      ]
    },
    {
      "cell_type": "markdown",
      "metadata": {
        "id": "5C5_grZyo_6v"
      },
      "source": [
        "Si uno mira la celda anterior con el programa \"ya verificado\", no queda claro cómo fue el razonamiento. Lo explicamos a continuación:\n",
        "\n",
        "1.   La precondición no se demuestra, se asume que es verdadera cuando comienza la ejecución de la función (será responsabilidad de quien use la función, asegurarse de que se cumpla su precondición)\n",
        "2.   La precondición `n es un entero` implica `n ** 2 es el cuadrado de n`. De hecho esta afirmación simplemente está diciendo que en Python `n ** 2` es lo que habitualmente escribimos $n^2$ en matemática. Por lo tanto, la afirmación `n ** 2 es el cuadrado de n` es verdadera en la línea 4.\n",
        "3.   Por ello, luego de la asignación `res = n ** 2`, la afirmación `res es el cuadrado de n` es verdadera, ya que la variable `res` tiene ahora justamente el valor de la expresión `n ** 2`. Por lo tanto, si `n ** 2 es el cuadrado de n` es verdadera en la línea 4, entonces `res es el cuadrado de n` es verdadera en la línea 6.\n",
        "4.   Por último, si en la línea 6 vale `res es el cuadrado de n`, entonces efectivamente se cumple la postcondición ya que en la fila siguiente se está devolviendo justamente el cuadrado de `n`.\n",
        "\n",
        "¿Qué hemos demostrado? Hemos demostrado que si se cumple la precondición cuando se llama a la función, entonces se va a cumplir la postcondición cuando la misma finalice.\n"
      ]
    },
    {
      "cell_type": "markdown",
      "metadata": {
        "id": "YKII90ye2-Jm"
      },
      "source": [
        "No profundizaremos en la corrección parcial de programas en este curso. Es un tema muy amplio que excede los alcances de la materia. La demostración anterior se presenta como ejemplo de que es posible demostrar el funcionamiento correcto de programas."
      ]
    },
    {
      "cell_type": "markdown",
      "metadata": {},
      "source": [
        "## 2. Invariantes\n",
        "\n",
        "Demostrar un programa que no tiene ciclos es sencillo y hay algoritmos que son capaces de hacerlo. Cuando introducimos ciclos demostrar un programa deja de ser una terea rutinaria y tiene intrínsecamente la misma dificultad que demosrtrar un teorema en matemática.\n",
        "\n",
        "Como ya dijimos no profundizaremos en estos temas, pero sí es interesante estudiar los invariantes de los ciclos `while` pues nos puede ayudar a razonar sobre el ciclo y descubrir si lo estamos haciendo bien o mal.  "
      ]
    },
    {
      "cell_type": "markdown",
      "metadata": {
        "id": "TgjhO8SieKPr"
      },
      "source": [
        "Razonar sobre el ciclo `while` requiere identificar un *invariante*. Un invariante es una afirmación que vale antes de entrar al `while` y al final de cada ejecución del cuerpo del `while`.\n",
        "\n",
        "    # invariante\n",
        "    while condición:\n",
        "        cuerpo del ciclo\n",
        "        # invariante\n",
        "\n",
        "Para demostrar que una afirmación es un invariante, debemos demostrar\n",
        "\n",
        "1)    que vale antes del `while`:\n",
        "\n",
        "```\n",
        "    # invariante\n",
        "    while condición:\n",
        "        cuerpo del ciclo\n",
        "```\n",
        "\n",
        "2)   que la afirmación vale al finalizar el cuerpo de cada ciclo\n",
        "\n",
        "```\n",
        "    while condición:\n",
        "        cuerpo del ciclo\n",
        "        # invariante\n",
        "```\n",
        "\n",
        "Observemos  que como el invariante se verifica al terminar el cuerpo  de cada ciclo, al fallar la condición del `while` el ciclo termina y el invariante sigue valiendo. Es decir,  el invariante es verdadero al finalizar el ciclo."
      ]
    },
    {
      "cell_type": "markdown",
      "metadata": {},
      "source": [
        "Veamos un ejemplo de invariante analizando la siguiente implementación de la función factorial:"
      ]
    },
    {
      "cell_type": "code",
      "execution_count": null,
      "metadata": {
        "id": "rXYiodSHaWlE"
      },
      "outputs": [],
      "source": [
        "def factorial(n : int) -> int:\n",
        "    # pre: n es un número entero no negativo\n",
        "    # post: devuelve el factorial de n, es decir, 1 * 2 * 3 * ... * n\n",
        "    res = 1\n",
        "    i = 2\n",
        "    while i <= n:\n",
        "        res = res * i\n",
        "        i = i + 1\n",
        "    return res"
      ]
    },
    {
      "cell_type": "markdown",
      "metadata": {},
      "source": [
        "Observemos que cuando hacemos el algoritmo anterior la idea es que `res` vaya tomando el valor del producto de todos los números anteriores a `i` y el invariante refleja esto: parte del invariante será la expresión `res == 1 * 2 * ... * (i - 1)` . Por otro  lado, otra propiedad invariante es `2 <= i <= n + 1`, proponemos entonces\n",
        "\n",
        "    invariante: res == 1 * 2 * ... * (i - 1) and 2 <= i <= n + 1\n",
        "\n",
        "Reescribimos la función agregando este comentario:"
      ]
    },
    {
      "cell_type": "code",
      "execution_count": null,
      "metadata": {
        "id": "-jSQg-rZkxsU"
      },
      "outputs": [],
      "source": [
        "def factorial(n : int) -> int:\n",
        "    # pre: n es un número entero, n >= 1\n",
        "    # post: devuelve el factorial de n, es decir, 1 * 2 * 3 * ... * n\n",
        "    res = 1\n",
        "    i = 2\n",
        "    # 1. invariante: res == 1 * 2 * ... * (i - 1) and 2 <= i <= n + 1 # res = 1, i = 2 \n",
        "    while i <= n:\n",
        "        res = res * i\n",
        "        i = i + 1\n",
        "        # 2. invariante: res == 1 * 2 * ... * (i - 1) and 2 <= i <= n + 1\n",
        "    return res"
      ]
    },
    {
      "cell_type": "markdown",
      "metadata": {},
      "source": [
        "Podemos comprobar que el invariante es verdadero en los dos lugares donde lo hemos incluido.\n",
        "\n",
        "1. Como `res == 1`, `i == 2`, es claro que `res == 1 * 2 * ... * (i - 1)` y `2 <= i <= n + 1`.\n",
        "2. Sean `res0`, `i0` los valores de ingreso de `res`, `i` al ciclo `while`. Al finalizar el cuerpo del ciclo, `res`, `i` toman nuevos valores `res1 = res0 * i0`, `i1 = i0 + 1`, luego `res1 == res0 * i0 == 1 * 2 * ... * (i0 - 1) * i0 == 1 * 2 * ... * (i1 - 1)`. Como `i0 < n`, pues pasó la condición del `while`, `2 <= i1 == i0 + 1 <= n + 1`.\n",
        "\n",
        "Esta forma de escribir es para respetar lo que dijimos de que el invariante debe valer en dos lugares (antes del ciclo y al final del cuerpo del `while`). Si embargo,  sabiendo esto, es más conveniente, por claridad, escribir el invariante en un solo lugar."
      ]
    },
    {
      "cell_type": "code",
      "execution_count": null,
      "metadata": {},
      "outputs": [],
      "source": [
        "def factorial(n : int) -> int:\n",
        "    # pre: n es un número entero, n >= 1\n",
        "    # post: devuelve el factorial de n, es decir, 1 * 2 * 3 * ... * n\n",
        "    res = 1\n",
        "    i = 2\n",
        "    # invariante: res == 1 * 2 * ... * (i - 1) and 2 <= i <= n + 1\n",
        "    while i <= n:\n",
        "        res = res * i\n",
        "        i = i + 1\n",
        "    return res"
      ]
    },
    {
      "cell_type": "markdown",
      "metadata": {},
      "source": [
        "Lo interesante es que al terminar el ciclo,  es decir al ser `i == n + 1` y  valer el invariante obtenemos el resultado  que buscábamos:\n",
        "\n",
        "    res ==  1 * 2 * ... * n       \n",
        "\n",
        "En  general,  obtener el invariante no es sencillo pero una vez que nos damos cuenta cual es, es muy sencillo de verificar y tiene la propiedad de  que cuando termina el ciclo el invariante es el resultado que buscábamos. \n",
        "\n",
        "Veamos otro ejemplo,  encontremos el mínimo de una lista de enteros no vacía.\n",
        "\n",
        "Esta función se puede implementar fácilmente con un `for`:\n"
      ]
    },
    {
      "cell_type": "code",
      "execution_count": 11,
      "metadata": {
        "id": "_-wkrbNp7Xgj"
      },
      "outputs": [
        {
          "name": "stdout",
          "output_type": "stream",
          "text": [
            "4\n"
          ]
        }
      ],
      "source": [
        "def minimo(ns : list) -> int:\n",
        "    # pre: ns es una lista de enteros no vacía\n",
        "    # post: devuelve el menor de los enteros de la lista ns\n",
        "    assert type(ns) == list and len(ns) > 0, \"Error: ns no es una lista no vacía\"\n",
        "    res = ns[0]\n",
        "    for i in range(1,len(ns)):\n",
        "        if ns[i] < res:\n",
        "            res = ns[i]\n",
        "    return res\n",
        "\n",
        "print(minimo([45, 65, 23, 4, 48]))"
      ]
    },
    {
      "cell_type": "markdown",
      "metadata": {},
      "source": [
        "Pero para poder usar el invariante debemos trabajar con `while`. Como ya sabemos, todo `for` se puede implementar con un `while`:"
      ]
    },
    {
      "cell_type": "code",
      "execution_count": null,
      "metadata": {
        "colab": {
          "base_uri": "https://localhost:8080/"
        },
        "id": "_BgZQJwZnaAN",
        "outputId": "81266d42-1ce1-4527-a1c6-189952d7cf1d"
      },
      "outputs": [],
      "source": [
        "def minimo(ns : list) -> int:\n",
        "    # pre: ns es una lista de enteros no vacía\n",
        "    # post: devuelve el menor de los enteros de la lista ns\n",
        "    assert type(ns) == list and len(ns) > 0, \"Error: ns no es una lista no vacía\"\n",
        "    res = ns[0]\n",
        "    i = 1\n",
        "    while i < len(ns):\n",
        "        if ns[i] < res:\n",
        "            res = ns[i]\n",
        "        i = i + 1\n",
        "    return res"
      ]
    },
    {
      "cell_type": "markdown",
      "metadata": {},
      "source": [
        "Observemos que en este caso cade vez que termina el cuerpo  del `while` se satisface que \n",
        "\n",
        "    res es el menor elemento de ns[0:i] y 1 <= i <= len(ns)\n",
        "\n",
        "y  este será nuestro invariante."
      ]
    },
    {
      "cell_type": "code",
      "execution_count": null,
      "metadata": {
        "id": "5TKruCVsnunm"
      },
      "outputs": [],
      "source": [
        "def minimo(ns : list) -> int:\n",
        "    # pre: ns es una lista de enteros no vacía\n",
        "    # post: devuelve el menor de los enteros de la lista ns\n",
        "    assert type(ns) == list and len(ns) > 0, \"Error: ns no es una lista no vacía\"\n",
        "    res = ns[0]\n",
        "    i = 1\n",
        "    # invariante: res es el menor elemento de ns[0:i] y 1 <= i <= len(ns)\n",
        "    while i < len(ns):\n",
        "        if ns[i] < res:\n",
        "            res = ns[i]\n",
        "        i = i + 1\n",
        "    return res"
      ]
    },
    {
      "cell_type": "markdown",
      "metadata": {},
      "source": [
        "Cuando termina el `while` obtenemos que `res es el menor elemento de ns[0:len(ns)]` o equivalentemente `res es el menor elemento de ns`,  que es el resultado deseado. "
      ]
    },
    {
      "cell_type": "markdown",
      "metadata": {},
      "source": [
        "**Observación.** \n",
        "\n",
        "1. En  el ejemplo del factorial el invariante podría haber sido  `res == 1 * 2 * ... * (i - 1)`.\n",
        "2. En  el ejemplo del mínimo el invariante podría haber sido `res es el menor elemento de ns[0:i]`.\n",
        "\n",
        "Estos dos invariantes garantizan que cuando se termine el ciclo obtenemos el resultado deseado. ¿Por  qué entonces agregamos las afirmaciones sobre el `i`? La respuesta es que las afirmaciones sobre `i` garantizan la finalización del ciclo, pues al estar el `i` acotado y en cada paso ser distinto,  nos garantizamos que el ciclo termina. Sin embargo, cuando nos resulte clara la finalización del ciclo, sólo dejaremos las afirmaciones que no sean de verificación de terminación de ciclo."
      ]
    },
    {
      "cell_type": "markdown",
      "metadata": {
        "id": "Rlia9214chbb"
      },
      "source": [
        "## 3. Ejemplo: ¿es primo? \n",
        "\n",
        "Recordemos que $n \\geq 2$, entero, es primo, si y sólo si no existe ningún número entero $2 \\leq d < n$ que divida a $n$.\n",
        "\n",
        "Escribamos un algoritmo sencillo para detectar si un número es primo:"
      ]
    },
    {
      "cell_type": "code",
      "execution_count": null,
      "metadata": {},
      "outputs": [],
      "source": [
        "def es_primo(n : int) -> bool:\n",
        "    # pre: n es un número entero >= 2\n",
        "    # post: devuelve verdadero sii n es número primo\n",
        "    assert type(n) == int and n >= 2, \"Error: n no es un número entero >= 2\"\n",
        "    es_primo = True\n",
        "    for i in range(2,n):\n",
        "        if n % i == 0:\n",
        "            es_primo = False\n",
        "    return es_primo"
      ]
    },
    {
      "cell_type": "markdown",
      "metadata": {},
      "source": [
        "Este es el algorimo más sencillo que se nos ocurre (quizás con un `break` es más intuitivo aún), pero ya hemos visto que se puede hacer algo parecido, pero más eficiente y  más elegante, con un `while`:"
      ]
    },
    {
      "cell_type": "code",
      "execution_count": null,
      "metadata": {
        "id": "A876esj8-zg8"
      },
      "outputs": [],
      "source": [
        "def es_primo(n: int) -> bool:\n",
        "    # pre: n > 0\n",
        "    # post: devuelve True si n  es primo, en caso contrario devuelve False\n",
        "    assert type(n) == int and n >= 2, \"Error: n no es un número entero >= 2\"\n",
        "    i = 2\n",
        "    while i < n and n % i != 0:\n",
        "        i += 1\n",
        "    return i == n # i == n implica que n es primo"
      ]
    },
    {
      "cell_type": "markdown",
      "metadata": {
        "id": "a6h_CjrOfGVo"
      },
      "source": [
        "¿Cuál es el invariante? o, mejor dicho, debemos encontrar un invariante que cumpla con lo que fue dicho en la sección 2 de este cuaderno.\n",
        "\n",
        "Observemos  que para llegar al paso `i` y superar la condición del `while` el  número `i` y  todos los anteriores no dividen a `n`. Esa es la idea para proponer un invariante:"
      ]
    },
    {
      "cell_type": "code",
      "execution_count": null,
      "metadata": {
        "id": "ATQ6Gw4cfDQt"
      },
      "outputs": [],
      "source": [
        "def es_primo(n: int) -> bool:\n",
        "    # pre: n > 0\n",
        "    # post: devuelve True si n  es primo, en caso contrario devuelve False\n",
        "    assert type(n) == int and n >= 2, \"Error: n no es un número entero >= 2\"\n",
        "    i = 2\n",
        "    # invariante: para todo j en  2 <= j <= i - 1, n % j != 0\n",
        "    while i < n and n % i != 0:\n",
        "        i += 1\n",
        "    return i == n # i == n implica que n es primo"
      ]
    },
    {
      "cell_type": "markdown",
      "metadata": {
        "id": "efo3dkJef8GM"
      },
      "source": [
        "Podemos comprobar que el invariante es verdadero antes que comience el ciclo y cuando termina el cuerpo del ciclo.\n",
        "\n",
        "1. Como `i == 2` y `n > 0`, es claro que para todo `j` en  `2 <= j <= 1`, `n % j != 0` (pues el conjunto es vacío).\n",
        "2. Sea `i0` el valor de ingreso de `i` al ciclo `while`. Al finalizar el cuerpo del ciclo, `i` toma el valor `i1 = i0 + 1`. Como originalmente para todo `j` en  `2 <= j <= i0 - 1`, cumple `n % j != 0` y por pasar el ciclo `n % i0 != 0`, entonces para todo `j` tal que `2 <= j <= i0 == i1 - 1`, se satisface  `n % j != 0` y por lo tanto se cuimple el invariante.\n",
        "\n",
        "Es claro entonces que al afirmación propuesta es un invariante y que cuando el ciclo termina la afirmación es equivalente  a la respuesta de la pregunta de si `n` es primo. "
      ]
    },
    {
      "cell_type": "markdown",
      "metadata": {
        "id": "ELGeMlCnkiMg"
      },
      "source": [
        "## 4. Ejemplo: máximo común divisor\n",
        "\n",
        "El  máximo común divisor de define de la siguiente manera.\n",
        "\n",
        "**Definición.**  Si $a$ y $b$ son enteros algunos de ellos no nulo, decimos que un entero no negativo $d$ es un *máximo común divisor* o *mcd*, de $a$ y $b$ si \n",
        "\n",
        "a) $d|a$  y $d|b$;\n",
        "\n",
        "b) si $ c|a $ y $c|b$ entonces $c|d$.\n",
        "\n",
        "Se puede demostrar que el máximo común divisor existe y es único y  que el máximo común divisor es el número más grande que es divisor común a $a$ y $b$,  es decir:\n",
        "$$\n",
        " \\operatorname{mcd}(a,b) = \\operatorname{max}\\{d \\in \\mathbb N: d|a \\wedge d|b\\}.\n",
        "$$ \n",
        "\n",
        "Una forma de obtenerlo es encontrar todos los divisores comunes de $a$ y $b$ y  quedarse con el máximo. Esta no es una forma eficiente y para números grandes es imposible de aplicar. \n",
        "\n",
        "La forma \"correcta\" de calcular el mcd es usando el *algoritmo de Euclides* y  la veremos más adelante. \n",
        "\n",
        "Como primera aproximación para calcular el mcd usaremos el algoritmo explicado en un cuaderno previo que se basa en las siguientes propiedades: si $x$, $y$  son enteros,  con $y$ no nulo,  entonces:\n",
        "\\begin{align*}\n",
        "&a)&\\operatorname{mcd}(x, y) &= \\operatorname{mcd}(x, y - x) \\\\\n",
        "&b)&\\operatorname{mcd}(0, y) &= y.\n",
        "\\end{align*}\n",
        "\n",
        "Por lo tanto,  la idea para obtener el mcd es hacer restas hasta que uno de los dos argumentos de la función mcd alcance el 0 y obtener el mcd por la propiedad b). Una de las implementaciones es la siguiente:"
      ]
    },
    {
      "cell_type": "code",
      "execution_count": null,
      "metadata": {},
      "outputs": [],
      "source": [
        "def mcd(a, b: int) -> int:\n",
        "    # pre: (a >= 0 and b >=0) and (a != 0 or b != 0).\n",
        "    # post: devuelve el mdc de a y b\n",
        "    x, y = min(a, b), max(a, b)\n",
        "    while x != 0: # \"mientras x distinto de 0\" \n",
        "        x, y = min(x, y - x), max(x, y - x)\n",
        "    return y"
      ]
    },
    {
      "cell_type": "markdown",
      "metadata": {},
      "source": [
        "¿Cuál es el invariante del ciclo? Primero observemos que siempre $x \\le y$, pero eso no ayuda mucho. Lo  que debemos observar, y no es del todo trivial,  es que por la propiedad a) tenemos que $\\operatorname{mcd}(x, y) = \\operatorname{mcd}(a, b)$, luego el invariante sería:\n",
        "\n",
        "    invariante: x <= y and mcd(x,y) = mcd(a,b)\n",
        "\n",
        "Es claro que lo anterior es un invariante del ciclo y que cuando el ciclo termina, es decir  cuando `x == 0`, tenemos:\n",
        "\n",
        "    mcd(x,y) = mcd(a,b) and x == 0\n",
        "\n",
        "lo cual implica que\n",
        "\n",
        "    mcd(a,b) = mcd(0,y) = y\n",
        "\n",
        "Esto prueba que el ciclo es correcto y que el valor que se devuelve es el  mcd  entre `a` y `b`. La única consideración que habría que hacer es respecto a si el ciclo termina. Pero esto se puede verificar fácilmente pues en cada paso se hace una resta y  entonces uno de los argumentos del mcd va decreciendo. Luego de una cantidad suficiente de pasos llegaremoa a que uno de los argumentos del mcd es 0."
      ]
    },
    {
      "cell_type": "markdown",
      "metadata": {},
      "source": [
        "### Algoritmo de Euclides\n",
        "\n",
        "El algoritmo anterior es relativamente eficiente, pero lo es mucho más el *algoritmo de Euclides* que se basa en las siguientes propiedades: si $x$, $y$  son enteros no negativos,  con $y$ no nulo,  entonces:\n",
        "\\begin{align*}\n",
        "&a)\\text{ si } x = q \\cdot y + r \\text{ con } 0 \\le r < y \\;\\Rightarrow\\; \\operatorname{mcd}(x, y) = \\operatorname{mcd}(y, r) \\\\\n",
        "&b)\\operatorname{mcd}(0, x) = x.\n",
        "\\end{align*}\n",
        "\n",
        "Tanto a) como b) son sencillos de probar con la definición de mcd. Observar  que a) es una generalización del a) anterior, pues $r = x - q \\cdot y$,  es decir $r$ es $x$ restando $q$ veces $y$.\n",
        "\n",
        "El algoritmo y su invariante son similares al algoritmo anterior:"
      ]
    },
    {
      "cell_type": "code",
      "execution_count": null,
      "metadata": {},
      "outputs": [],
      "source": [
        "def mcd(a, b: int) -> int:\n",
        "    # pre: (a >= 0 and b >=0) and (b != 0).\n",
        "    # post: devuelve el mdc de a y b\n",
        "    i, j = a, b\n",
        "    # 1. invariante: mcd(a, b) = mcd(i, j)\n",
        "    while j != 0:\n",
        "        resto = i % j  # i = q * j + resto\n",
        "        i, j = j, resto\n",
        "        # 2. invariante: mcd(a, b) = mcd(i, j)\n",
        "    return i"
      ]
    },
    {
      "cell_type": "markdown",
      "metadata": {},
      "source": [
        "Verifiquemos el invariante:  \n",
        "\n",
        "1. Obviamente cuando `a == i` y `b == j` obtenemos `mcd(a, b) == mcd(i, j)`.\n",
        "2. Sean `i0`, `j0` los valores de ingreso de `i`, `j` al ciclo `while`. Al finalizar el ciclo, `i`, `j` toman nuevos valores `i1 = j0`, `j1 = i0 - q * j0`, luego  `mcd(a, b) == mcd(i0, j0) == mcd(q * j0 + j1, i1)`. Por b), `mcd(q * j0 + j1, i1) == mcd(i1, j1)`. Concluimos entonces que `mcd(a, b) == mcd(i1, j1)`.\n",
        "\n",
        "Cuando el ciclo termina vale `mcd(a, b) == mcd(i, j)` y `j == 0`, luego `mcd(a, b) == mcd(i, 0) == i`."
      ]
    }
  ],
  "metadata": {
    "colab": {
      "collapsed_sections": [],
      "include_colab_link": true,
      "name": "Algoritmos y Programación corrección parcial 13 y 18 de octubre.ipynb",
      "provenance": []
    },
    "kernelspec": {
      "display_name": "Python 3",
      "name": "python3"
    },
    "language_info": {
      "codemirror_mode": {
        "name": "ipython",
        "version": 3
      },
      "file_extension": ".py",
      "mimetype": "text/x-python",
      "name": "python",
      "nbconvert_exporter": "python",
      "pygments_lexer": "ipython3",
      "version": "3.8.12"
    }
  },
  "nbformat": 4,
  "nbformat_minor": 0
}
