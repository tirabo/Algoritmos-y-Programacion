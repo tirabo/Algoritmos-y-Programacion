{
  "cells": [
    {
      "cell_type": "markdown",
      "metadata": {},
      "source": [
        "# Recursión "
      ]
    },
    {
      "cell_type": "markdown",
      "metadata": {
        "id": "1986cj15yw2x"
      },
      "source": [
        "## 1. Definiciones por recursión\n",
        "\n",
        "Frecuentemente encontramos una expresión de la forma $u_n$, donde $n$ indica cualquier entero positivo: por ejemplo, podríamos tener $u_n=3n+2$, o $u_n = (n+1)(n+2)(n+3)$. En estos ejemplos $u_n$ es dado por una fórmula explícita y no existe dificultad en calcular $u_n$ cuando se nos da un valor específico para $n$. \n",
        "\n",
        "Sin embargo, en muchos casos no conocemos una fórmula para $u_n$; es más, nuestro problema puede ser encontrarla. En estos casos pueden darnos ciertos valores de $u_n$ para enteros positivos $n$ pequeños, y una relación entre el $u_n$ general y algunos de los $u_r$ con $r<n$. Por ejemplo, supongamos nos es dado \n",
        "$$ \n",
        "u_1=1, \\qquad u_2=2, \\qquad u_n =u_{n-1} +u_{n-2}, \\qquad n\\ge 3.\n",
        "$$\n",
        "Para calcular los valores de $u_n$ para todo $n$ de $\\mathbb N$ podemos proceder como sigue:\n",
        "$$\n",
        "\\begin{matrix}\n",
        "u_3 & = & u_2 + u_1 & = & 2+1 &=& 3, \\\\\n",
        "u_4 & = & u_3 + u_2 & = & 3+2 &=& 5, \\\\\n",
        "u_5 & = & u_4 + u_3 & = & 5+3 &=& 8,\n",
        "\\end{matrix}\n",
        "$$\n",
        "y así siguiendo.  Éste es un ejemplo de una *definición recursiva*. \n",
        "\n",
        "Una función definida por recursión debe:\n",
        "\n",
        "*   determinar el valor deseado para el *caso base* (o los casos base), por ejemplo, para `n == 0` o `n == 1`.\n",
        "*   determinar la manera de calcular el valor para `n` conociendo el valor de la función para `n-1` (o para todos los valores menores a `n`, en este último caso se parece a inducción completa).\n",
        "\n",
        "Los lenguajes de programación modernos permiten la definición de funciones recursivas. Un  esquema de una definición recursiva podría ser (partiendo  de $n =1$):\n",
        "\n",
        "```\n",
        "def f(n):\n",
        "    if n == 1:\n",
        "       res = caso base\n",
        "    else:\n",
        "        <bloque>\n",
        "        res = ... f(n-1) ...\n",
        "        <bloque>\n",
        "    <bloque>\n",
        "    return res\n",
        "```"
      ]
    },
    {
      "cell_type": "markdown",
      "metadata": {
        "id": "80tXgDEr0kdM"
      },
      "source": [
        "## 2. Ejemplo de definición recursiva: función factorial.\n",
        "\n",
        "Hemos visto una manera iterativa de definir la función factorial:"
      ]
    },
    {
      "cell_type": "code",
      "execution_count": null,
      "metadata": {
        "id": "lAglmA6e0s1e"
      },
      "outputs": [],
      "source": [
        "def factorial(n: int) -> int:\n",
        "    # pre: n >= 0\n",
        "    # post: devuelve el valor de 1 * 2 * 3 * ... * (n-1) * n\n",
        "    res = 1\n",
        "    for i in range(2, n+1):\n",
        "        res = res * i\n",
        "    return res"
      ]
    },
    {
      "cell_type": "code",
      "execution_count": null,
      "metadata": {
        "colab": {
          "base_uri": "https://localhost:8080/"
        },
        "id": "7t7wX_49XyQh",
        "outputId": "3584eee5-2dd0-48ee-9508-cd9ef987b7e8"
      },
      "outputs": [],
      "source": [
        "print(factorial(5))"
      ]
    },
    {
      "cell_type": "markdown",
      "metadata": {
        "id": "QrE7zfXM1IF0"
      },
      "source": [
        "También se puede definir por recursión, valiéndonos de que sabemos:\n",
        "\n",
        "\n",
        "*   $0! = 1$\n",
        "*   $n! = n * (n-1)!$, si $n > 0$"
      ]
    },
    {
      "cell_type": "code",
      "execution_count": null,
      "metadata": {
        "id": "BB-MqWbQ1uVC"
      },
      "outputs": [],
      "source": [
        "def factorial(n: int) -> int:\n",
        "    # pre: n >= 0\n",
        "    # post: devuelve el valor de 1 * 2 * 3 * ... * (n-1) * n\n",
        "    if n == 0:\n",
        "        res = 1\n",
        "    else:\n",
        "        res = n * factorial(n - 1)\n",
        "    return res"
      ]
    },
    {
      "cell_type": "markdown",
      "metadata": {
        "id": "4VcwoKuDeU42"
      },
      "source": [
        "Para probar que el programa es correcto se puede hacer una demostración por inducción. \n",
        "\n",
        "Probemos por inducción en `n` que para todo `n` entero no negativo, `factorial(n) == n!`.\n",
        "\n",
        "- Caso base: `n == 0`. `factorial(n) == factorial(0) == 1 == 0! == n!`.\n",
        "- Paso inductivo: asumimos que `factorial(n) == n!`. Probemos que `factorial(n+1) == (n+1)!`: \n",
        "\n",
        "```\n",
        "    factorial(n+1) == (n+1) * factorial(n + 1 - 1) == (n+1) * factorial(n) == (n+1) * n! == (n+1)!.\n",
        "```\n",
        "\n",
        "Así queda demostrada la afirmación. "
      ]
    },
    {
      "cell_type": "code",
      "execution_count": null,
      "metadata": {
        "id": "lC7vT0-MeCYI"
      },
      "outputs": [],
      "source": [
        "print(factorial(4))\n",
        "# print(factorial(-3))"
      ]
    },
    {
      "cell_type": "markdown",
      "metadata": {
        "id": "l8sO0v1YAv-P"
      },
      "source": [
        "## 3. Ejemplo: potencia de un número.\n",
        "\n",
        "La definición de la potencia entera de un número es una definición recursiva.\n",
        "\n",
        "**Definición.** Sea $a \\in \\mathbb R$ y $n \\in \\mathbb N_0$, definimos *$a$ a la $n$* por\n",
        "*   $a^0 = 1$\n",
        "*   $a^n = a * a^{n-1}$, si $n > 0$\n",
        "\n",
        "A partir de esta definición podemos hacer directamente una definición recursiva en Python:"
      ]
    },
    {
      "cell_type": "code",
      "execution_count": null,
      "metadata": {
        "id": "4PvjlzMrCN9P"
      },
      "outputs": [],
      "source": [
        "def potencia(a, n: int) -> int:\n",
        "    # pre: n >= 0\n",
        "    # post: devuelve el valor de a * a * a * ... * a * a , n veces\n",
        "    if n == 0:\n",
        "        res = 1\n",
        "    else:\n",
        "        res = a * potencia(a, n-1)\n",
        "    return res"
      ]
    },
    {
      "cell_type": "markdown",
      "metadata": {},
      "source": [
        "Hagamos alguna pruebas:\n"
      ]
    },
    {
      "cell_type": "code",
      "execution_count": null,
      "metadata": {
        "colab": {
          "base_uri": "https://localhost:8080/"
        },
        "id": "9fDTFd6xg4JW",
        "outputId": "597b37e1-a9f9-49c0-cbdf-7998c36f437b"
      },
      "outputs": [],
      "source": [
        "print(potencia(3,2))\n",
        "print(potencia(2,50))"
      ]
    },
    {
      "cell_type": "code",
      "execution_count": null,
      "metadata": {
        "colab": {
          "base_uri": "https://localhost:8080/"
        },
        "id": "QNcyfRDr0ISE",
        "outputId": "114279d8-138d-4cc6-dd5a-fa00c58809e3"
      },
      "outputs": [],
      "source": [
        "tmp = potencia(2,25)\n",
        "print(tmp*tmp)"
      ]
    },
    {
      "cell_type": "markdown",
      "metadata": {
        "id": "mHUWsfUCCve3"
      },
      "source": [
        "### Versión optimizada de potencia de un número.\n",
        "\n",
        "Observemos que la definición recursiva anterior de $a^n$ requiere $n$ pasos pues `potencia(a, n)` se basa en `potencia(a, n - 1)`,  que a su vez se basa en `potencia(a, n - 2)` y así sucesivamente. \n",
        "\n",
        "Observemos que si quisieramos calcular $a$ a la una potencia de $2$,  es decir $a^{2^k}$, podríamos hacer,  recursivamente, \n",
        "\\begin{align*}\n",
        "&1.& &a^{2^k} = a^{2 \\cdot 2^{k-1}} = a^{2^{k-1} + 2^{k-1}} = a^{2^{k-1}} \\cdot a^{2^{k-1}} \\\\\n",
        "&2.& &a^{2^{k-1}} =   a^{2^{k-2}} \\cdot a^{2^{k-2}} \\\\\n",
        "&3.& &a^{2^{k-2}} =   a^{2^{k-3}} \\cdot a^{2^{k-3}} \\\\\n",
        "&&...& \\\\\n",
        "&k-1.& &a^{2} =   a^{1} \\cdot a^{1}\n",
        "\\end{align*}\n",
        "\n",
        "Es decir $a^{2^k}$ se pueder calcular en alrededor de  $k = \\operatorname{log}_2(2^k)$ pasos, muchos menos que con el método anterior. Basándonos en la idea anterior se puede definir recursivamente $a^n$ para cualquier $n$ en una recursión que lleva alrededor de $\\operatorname{log}_2(n)$ pasos:\n",
        "\n",
        "*   $a^0 = 1$\n",
        "*   $a^n = a \\cdot a^{n-1}$, si $n > 0$, $n$ impar.\n",
        "*   $a^n = {(a^{\\frac{n}{2}})}^2$, si $n > 0$, $n$ par.\n",
        "\n",
        "Su implementación en Python es sencilla:"
      ]
    },
    {
      "cell_type": "code",
      "execution_count": null,
      "metadata": {
        "id": "fa8JqFCxCmJ-"
      },
      "outputs": [],
      "source": [
        "def potencia(a, n: int) -> int:\n",
        "    # pre: n >= 0\n",
        "    # post: devuelve el valor de a * a * a * ... * a * a , n veces\n",
        "    if n == 0:\n",
        "        res = 1\n",
        "    elif n % 2 == 1:\n",
        "        res = a * potencia(a, n - 1)\n",
        "    else:\n",
        "        res = potencia(a, n // 2)\n",
        "        res = res * res\n",
        "    return res"
      ]
    },
    {
      "cell_type": "markdown",
      "metadata": {
        "id": "EJwra_cdfAHy"
      },
      "source": [
        "## 4. Ejemplo: sucesión de Fibonacci\n",
        "\n",
        "La *sucesión de Fibonacci* es la siguiente sucesión infinita de números naturales:\n",
        "$$ \n",
        "0,1,1,2,3,5,8,13,21,34,55,89,144,233,377,610,987,1597, \\ldots \\,\n",
        "$$\n",
        "\n",
        "La sucesión comienza con los números 0 y 1 y a partir de estos, \"el siguiente término es la suma de los dos anteriores\", es decir, si $a_n$ denota el $n$-ésimo término de la sucesión de Fibonacci:\n",
        "\n",
        "*   $a_0 = 0$\n",
        "*   $a_1 = 1$\n",
        "*   $a_n = a_{n-1} + a_{n-2}$ si $n > 1$\n",
        "\n"
      ]
    },
    {
      "cell_type": "code",
      "execution_count": null,
      "metadata": {
        "id": "Z-D3k92RX9DF"
      },
      "outputs": [],
      "source": [
        "def fib(n: int) -> int:\n",
        "    # pre: n >= 0\n",
        "    # post: devuelve el n-ésimo término de la sucesión de Fibonacci\n",
        "    assert type(n) == int and n >= 0\n",
        "    if n <= 1:\n",
        "        res = n\n",
        "    else:\n",
        "        res = fib(n-1) + fib(n-2)\n",
        "    return res"
      ]
    },
    {
      "cell_type": "markdown",
      "metadata": {},
      "source": [
        "Verifiquemos contrastando con la lista demás arriba"
      ]
    },
    {
      "cell_type": "code",
      "execution_count": null,
      "metadata": {
        "colab": {
          "base_uri": "https://localhost:8080/"
        },
        "id": "CsezItWN327m",
        "outputId": "1d4f5809-7bc1-4f02-ca07-729c7ba59144"
      },
      "outputs": [],
      "source": [
        "for i in range(18):\n",
        "    print(fib(i), end=', ')"
      ]
    },
    {
      "cell_type": "markdown",
      "metadata": {},
      "source": [
        "También podríamos haber hecho algo parecido utilizando listas por comprensión: "
      ]
    },
    {
      "cell_type": "code",
      "execution_count": null,
      "metadata": {
        "colab": {
          "base_uri": "https://localhost:8080/"
        },
        "id": "a9d5twqlgwvL",
        "outputId": "9d46b166-2584-46ca-838c-9f5e4a68e115"
      },
      "outputs": [],
      "source": [
        "print([fib(x) for x in range(18)])"
      ]
    },
    {
      "cell_type": "markdown",
      "metadata": {},
      "source": [
        "Ahora bien, esta implementación no es una buena implementación de la sucesión de Fibonacci pues como cada caso se basa en dos anteriores y el compilador si alguna vez calcula  para `k < n` y después lo ne`fib(k)`cesita de nuevo, no lo recuerda y lo hace otra vez. Con este algoritmo podemos estimar que `fib(n)` necesita alrededor de $2^n$ pasos y esto computacionalmente no es admisible. Por ejemplo, podemos calcular fácilmente a mano el término $50$  de la ucesión de Fibonacci, pero si ejecutamos `fib(50)` veremos que no termina.  "
      ]
    },
    {
      "cell_type": "code",
      "execution_count": null,
      "metadata": {},
      "outputs": [],
      "source": [
        "# fib(50)"
      ]
    },
    {
      "cell_type": "markdown",
      "metadata": {},
      "source": [
        "Una solución a este problema nos la da la llamada *programación dinámica*. No explicaremos lo que esprogramación dinámica en este curso, pero diremos que evita la repetición de cálculos guardando algunos resultados anteriores en una tabla. Solo daremos la sucesión de Fibonacci  con programación dinámica a modo ilustrativo:"
      ]
    },
    {
      "cell_type": "code",
      "execution_count": null,
      "metadata": {},
      "outputs": [],
      "source": [
        "def fib_din(n):\n",
        "    # pre: n >= 0\n",
        "    # post: devuelve el n-ésimo término de la sucesión de Fibonacci\n",
        "    f = [0, 1]\n",
        "    for i in range(2, n+1):\n",
        "        f.append(f[i-1] + f[i-2])\n",
        "    return f[n]"
      ]
    },
    {
      "cell_type": "markdown",
      "metadata": {},
      "source": [
        "Este algoritmo es mucho más eficiente que el anterior."
      ]
    },
    {
      "cell_type": "code",
      "execution_count": null,
      "metadata": {},
      "outputs": [],
      "source": [
        "fib_din(100)"
      ]
    },
    {
      "cell_type": "markdown",
      "metadata": {},
      "source": [
        "Observemos que el algoritmo no es recursivo en el sentido que nosotros definimos, sin embargo tiene cierta similitud a una definición recursiva debido a  que para calcular el término $i$-ésimo `f` se utilizan los términos $i-1$ y $i-2$. "
      ]
    },
    {
      "cell_type": "markdown",
      "metadata": {},
      "source": [
        "Sin embargo, la versión más conveniente para calcular la sucesión de Fibonacci es la versión iterativa, muy similar a la versión de programación dinámica, pero ocupando menos espacio en memoria:"
      ]
    },
    {
      "cell_type": "code",
      "execution_count": null,
      "metadata": {
        "id": "mcD0rgkGkKqU"
      },
      "outputs": [],
      "source": [
        "def fib_iter(n: int) -> int:\n",
        "    if n <= 1:\n",
        "        res = n\n",
        "    else:\n",
        "        x, y = 0, 1\n",
        "        for _ in range(2, n+1):\n",
        "            x, y = y, x + y\n",
        "        res = y\n",
        "    return res"
      ]
    },
    {
      "cell_type": "code",
      "execution_count": null,
      "metadata": {
        "colab": {
          "base_uri": "https://localhost:8080/"
        },
        "id": "6XoVkbJcllLE",
        "outputId": "adc0a4b9-d3eb-4b0a-df97-af89923c5a29"
      },
      "outputs": [],
      "source": [
        "print([fib_iter(x) for x in range(18)])"
      ]
    },
    {
      "cell_type": "code",
      "execution_count": null,
      "metadata": {
        "colab": {
          "base_uri": "https://localhost:8080/"
        },
        "id": "ozqOkLOhlzzM",
        "outputId": "06b574f4-b4d4-410a-dd29-1de746330a67"
      },
      "outputs": [],
      "source": [
        "fib_iter(100)"
      ]
    },
    {
      "cell_type": "markdown",
      "metadata": {
        "id": "yiM4tgDZU1_R"
      },
      "source": [
        "## 5. Ejemplo: número combinatorio"
      ]
    },
    {
      "cell_type": "markdown",
      "metadata": {
        "id": "seKHX7W1Vbmp"
      },
      "source": [
        "El número combinatorio $\\displaystyle\\binom{n}{m}$ debe su nombre a que cuenta el número exacto de combinaciones posibles de $m$ elementos de un universo de $n$ elementos. Es decir, dado un conjunto de $n$ elementos, cuántos subconjuntos de $m$ elementos tiene.\n",
        "\n",
        "Es de gran utilidad en múltiples ramas de la matemática: teoría de números, combinatoria, probabilidades, etc."
      ]
    },
    {
      "cell_type": "markdown",
      "metadata": {
        "id": "Bc4cL6cVOwB_"
      },
      "source": [
        "**Definición.** Sean $n$, $m$ números naturales tal que $m \\le n$, definimos el *número combinatorio $n$, $m$* denotado $\\displaystyle\\binom{n}{m}$, por:\n",
        "\n",
        "$$\\binom{n}{m} = \\frac{n!}{m! (n-m)!}.$$\n",
        "\n",
        "Una forma de calcular el número combinatorio sería calcular $n!$, $m!$, $(n-m)!$ y después hacer las multiplicaciones y divisiones correspondientes. Este método no presenta inconvenientes y se podría implementar de la siguiente manera"
      ]
    },
    {
      "cell_type": "code",
      "execution_count": null,
      "metadata": {},
      "outputs": [],
      "source": [
        "def factorial_iter(n: int) -> int:\n",
        "    # pre: n >= 0\n",
        "    # post: devuelve el valor de 1 * 2 * 3 * ... * (n-1) * n\n",
        "    res = 1\n",
        "    for i in range(2, n+1):\n",
        "        res = res * i\n",
        "    return res\n",
        "\n",
        "def combinatorio(n, m):\n",
        "    # pre: n >= 0, m >= 0, m <= n\n",
        "    # post: devuelve el valor de n! / (m! * (n-m)!)\n",
        "    return factorial_iter(n) // (factorial_iter(m) * factorial_iter(n-m))"
      ]
    },
    {
      "cell_type": "markdown",
      "metadata": {},
      "source": [
        "Funciona bien para números no demasiado grandes, por ejemplo:"
      ]
    },
    {
      "cell_type": "code",
      "execution_count": null,
      "metadata": {},
      "outputs": [],
      "source": [
        "combinatorio(3528, 500)"
      ]
    },
    {
      "cell_type": "markdown",
      "metadata": {},
      "source": [
        "Pero mejor no intentés descomentar y correr la siguiente línea:"
      ]
    },
    {
      "cell_type": "code",
      "execution_count": null,
      "metadata": {},
      "outputs": [],
      "source": [
        "# combinatorio(10**50, 500)"
      ]
    },
    {
      "cell_type": "markdown",
      "metadata": {},
      "source": [
        "Veremos a continuación una forma recursiva de definir elnúmero combinatorio. "
      ]
    },
    {
      "cell_type": "markdown",
      "metadata": {
        "id": "IKbziOJ2WYTl"
      },
      "source": [
        "### Triángulo de Pascal\n",
        "\n",
        "Si escribimos los números combinatorios de tal manera que en la fila $n$ se encuentren todos los número combinatorios $\\displaystyle\\binom{n}{k}$ con $0 \\le k  \\le n$,  en ese orden, y los acomodamos convenientemente, obtenemos el *triángulo de Pascal* o *Tartaglia*. \n",
        "\n",
        "$$\\begin{array}{lcccccccccccccccc}\n",
        "n = 0 & & & & & & & & & 0 \\choose 0 \\\\\n",
        "n = 1 & & & & & & & & 1 \\choose 0 & & 1 \\choose 1 \\\\\n",
        "n = 2 & & & & & & & 2 \\choose 0 & & 2 \\choose 1 & & 2 \\choose 2 \\\\\n",
        "n = 3 & & & & & & 3 \\choose 0 & & 3 \\choose 1 & & 3 \\choose 2 & & 3 \\choose 3\\\\\n",
        "n = 4 & & & & & 4 \\choose 0 & & 4 \\choose 1 & & 4 \\choose 2 & & 4 \\choose 3 & & 4 \\choose 4\\\\\n",
        "n = 5 & & & & 5 \\choose 0 & & 5 \\choose 1 & & 5 \\choose 2 & & 5 \\choose 3 & & 5 \\choose 4 & & 5 \\choose 5\\\\\n",
        "n = 6 & & & 6 \\choose 0 & & 6 \\choose 1 & & 6 \\choose 2 & & 6 \\choose 3 & & 6 \\choose 4 & & 6 \\choose 5 & & 6 \\choose 6\\\\\n",
        "n = 7 & & 7 \\choose 0 & & 7 \\choose 1 & & 7 \\choose 2 & & 7 \\choose 3 & & 7 \\choose 4 & & 7 \\choose 5 & & 7 \\choose 6 & & 7 \\choose 7\n",
        "\\end{array}$$\n",
        "\n"
      ]
    },
    {
      "cell_type": "markdown",
      "metadata": {
        "id": "Y3LzpJ6NThZa"
      },
      "source": [
        "Si reemplazamos cada expresión por su valor, observamos que cada uno de los valores que están en su interior, pueden calcularse como la suma de los dos que se encuentran inmediatamente arriba:\n",
        "\n",
        "$$\\begin{array}{lcccccccccccccccc}\n",
        "n = 0 & & & & & & & & & 1 \\\\\n",
        "n = 1 & & & & & & & & 1 & & 1 \\\\\n",
        "n = 2 & & & & & & & 1 & & 2 & & 1 \\\\\n",
        "n = 3 & & & & & & 1 & & 3 & & 3 & & 1\\\\\n",
        "n = 4 & & & & & 1 & & 4 & & 6 & & 4 & & 1\\\\\n",
        "n = 5 & & & & 1 & & 5 & & 10 & & 10 & & 5 & & 1\\\\\n",
        "n = 6 & & & 1 & & 6 & & 15 & & 20 & & 15 & & 6 & & 1\\\\\n",
        "n = 7 & & 1 & & 7 & & 21 & & 35 & & 35 & & 21 & & 7 & & 1\n",
        "\\end{array}$$\n"
      ]
    },
    {
      "cell_type": "markdown",
      "metadata": {
        "id": "O7F1OBrjT4uF"
      },
      "source": [
        "Esto nos permite obtener  una fórmula recursiva para calcular el número combinatorio:\n",
        "\n",
        "*   $\\displaystyle\\binom{n}{0} = 1$\n",
        "*   $\\displaystyle\\binom{n}{n} = 1$\n",
        "*   $\\displaystyle\\binom{n}{m}= \\displaystyle\\binom{n-1}{m-1} + \\displaystyle\\binom{n-1}{m}$, si $m \\not= 0 \\wedge m \\not= n$\n",
        "\n",
        "Estas tres ecuaciones se pueden demostrar matemáticamente.\n",
        "\n",
        "A nosotros nos interesan estas ecuaciones porque podemos tomarlo como una definición recursiva del número combinatorio"
      ]
    },
    {
      "cell_type": "code",
      "execution_count": null,
      "metadata": {
        "id": "5trEwKrCXMDp"
      },
      "outputs": [],
      "source": [
        "def combinatorio(n, m: int) -> int:\n",
        "    # pre: n >= 0 and 0 <= m <= n\n",
        "    # post: devuelve el número combinatorio de \"n elementos tomados de a m\"\n",
        "    assert type(n) == type(m) == int and n >= 0 and 0 <= m <= n, 'Error en los parámetros de la función \"combinatorio\"'\n",
        "    if m == 0 or m == n:\n",
        "        res = 1\n",
        "    else:\n",
        "        res = combinatorio(n - 1, m - 1) + combinatorio(n - 1, m)\n",
        "    return res"
      ]
    },
    {
      "cell_type": "markdown",
      "metadata": {},
      "source": [
        "Probemos algunos ejemplos:"
      ]
    },
    {
      "cell_type": "code",
      "execution_count": null,
      "metadata": {
        "colab": {
          "base_uri": "https://localhost:8080/"
        },
        "id": "KzsEvtMzpof5",
        "outputId": "4a378da9-6c88-455f-99b1-0cdeb7bfce2e"
      },
      "outputs": [],
      "source": [
        "print(combinatorio(3,2))\n",
        "print(combinatorio(7,4))"
      ]
    },
    {
      "cell_type": "markdown",
      "metadata": {},
      "source": [
        "Este es un buen ejemplo de recursión, pero no es para nada eficiente. Como en el caso de la sucesión de Fibonacci, las llamada recursiva a la función en dos valores aumenta la complejidad, en tiempo, en los cálculos. "
      ]
    },
    {
      "cell_type": "markdown",
      "metadata": {},
      "source": [
        "### Otra implementación recursiva del número combinatorio\n",
        "\n",
        "Observemos  que si $n,m > 0$ y $n \\ge m$, \n",
        "$$\n",
        "\\binom{n}{m} = \\frac{n!}{m! (n-m)!} =  \\frac{n}{m} \\frac{(n-1)!}{(m-1)! (n-m)!} = {n\\binom{n-1}{m-1}} /{m}\n",
        "$$\n",
        "\n",
        "En  base a esta recursión podemos definir una función para obtener el número combinatorio. "
      ]
    },
    {
      "cell_type": "code",
      "execution_count": null,
      "metadata": {},
      "outputs": [],
      "source": [
        "def combinatorio_r2(n, m):\n",
        "    # pre: n >= 0, m >= 0, m <= n\n",
        "    # post: devuelve el valor de n! / (m! * (n-m)!)\n",
        "    if m == 0 or n == 0:\n",
        "        res = 1\n",
        "    else:\n",
        "        res = n * combinatorio_r2(n - 1, m - 1) // m\n",
        "    return res"
      ]
    },
    {
      "cell_type": "markdown",
      "metadata": {},
      "source": [
        "Este es un algoritmo eficiente para calcular el número combinatorio y vemos por la definición misma de la función que el cálculo del combinatorio $\\binom{n}{m}$ se concreta en alrededor de $m$ pasos. Por lo tanto si $m$ no es muy grande calcula rápidamente el combinatorio para valores grandes de $n$.   "
      ]
    },
    {
      "cell_type": "code",
      "execution_count": null,
      "metadata": {},
      "outputs": [],
      "source": [
        "combinatorio_r2(10**50, 500)"
      ]
    },
    {
      "cell_type": "markdown",
      "metadata": {
        "id": "sNf6YaT_Yp2j"
      },
      "source": [
        "Generemos una lista de palabras al azar:"
      ]
    },
    {
      "cell_type": "code",
      "execution_count": null,
      "metadata": {
        "id": "ULK67m_KYs_t"
      },
      "outputs": [],
      "source": [
        "from random import choices, randint\n",
        "\n",
        "LETRAS = 'a b c d e f g h i j k l m n ñ o p q r s t u v w x y z'.split(' ')\n",
        "MAX_PALABRA = 10\n",
        "\n",
        "def palabras_aleatorias(n: int) -> list:\n",
        "    # pre: n >= 0\n",
        "    # post: devuelve una lista aleatoriamente generada de n palabras de longitud 1 a MAX_PALABRA\n",
        "    res = []\n",
        "    for _ in range(n):\n",
        "        longitud = randint(1, MAX_PALABRA)\n",
        "        lista_letras = choices(LETRAS, k = longitud)\n",
        "        palabra = ''.join(lista_letras)\n",
        "        res.append(palabra)\n",
        "    return res"
      ]
    },
    {
      "cell_type": "code",
      "execution_count": null,
      "metadata": {
        "id": "GqONOymRa4bj"
      },
      "outputs": [],
      "source": [
        "palabras = palabras_aleatorias(100)"
      ]
    },
    {
      "cell_type": "code",
      "execution_count": null,
      "metadata": {
        "colab": {
          "base_uri": "https://localhost:8080/"
        },
        "id": "4qafepgIsesB",
        "outputId": "dff364a0-cc94-4790-8856-90c8e0d73a9c"
      },
      "outputs": [],
      "source": [
        "print(palabras)"
      ]
    },
    {
      "cell_type": "code",
      "execution_count": null,
      "metadata": {
        "id": "tnn6kAqZs_mV"
      },
      "outputs": [],
      "source": [
        "def swap(lista, n, m):\n",
        "    lista[n], lista[m] = lista[m], lista[n]\n",
        "\n",
        "def separar(lista: list, desde, hasta: int) -> int:\n",
        "    pivote = lista[desde]\n",
        "    i, j = desde + 1, hasta\n",
        "    while i <= j:\n",
        "        if lista[i] <= pivote:\n",
        "            i = i + 1\n",
        "        elif lista[j] > pivote:\n",
        "            j = j - 1\n",
        "        else:\n",
        "            swap(lista, i, j)\n",
        "            i = i + 1\n",
        "            j = j - 1\n",
        "    swap(lista, desde, j)\n",
        "    return j\n",
        "\n",
        "def ordenacion_rapida_rec(lista: list, desde, hasta: int):\n",
        "    # pre: 0 <= desde < len(lista) and 0 <= hasta < len(lista)\n",
        "    if desde < hasta:\n",
        "        i_pivote = separar(lista, desde, hasta)\n",
        "        ordenacion_rapida_rec(lista, desde, i_pivote - 1)\n",
        "        ordenacion_rapida_rec(lista, i_pivote + 1, hasta)\n",
        "\n",
        "def ordenacion_rapida(lista: list):\n",
        "    ordenacion_rapida_rec(lista, 0, len(lista) - 1)\n"
      ]
    },
    {
      "cell_type": "code",
      "execution_count": null,
      "metadata": {
        "id": "V-Ij80bmxSVk"
      },
      "outputs": [],
      "source": [
        "ordenacion_rapida(palabras)"
      ]
    },
    {
      "cell_type": "code",
      "execution_count": null,
      "metadata": {
        "colab": {
          "base_uri": "https://localhost:8080/"
        },
        "id": "kDREKNwdxXDO",
        "outputId": "cd67786e-f214-4681-948f-17411c6d7e33"
      },
      "outputs": [],
      "source": [
        "print(palabras)"
      ]
    }
  ],
  "metadata": {
    "colab": {
      "collapsed_sections": [],
      "include_colab_link": true,
      "name": "Algoritmos y Programación recursión.ipynb",
      "provenance": []
    },
    "kernelspec": {
      "display_name": "Python 3",
      "name": "python3"
    },
    "language_info": {
      "codemirror_mode": {
        "name": "ipython",
        "version": 3
      },
      "file_extension": ".py",
      "mimetype": "text/x-python",
      "name": "python",
      "nbconvert_exporter": "python",
      "pygments_lexer": "ipython3",
      "version": "3.9.6"
    }
  },
  "nbformat": 4,
  "nbformat_minor": 0
}
