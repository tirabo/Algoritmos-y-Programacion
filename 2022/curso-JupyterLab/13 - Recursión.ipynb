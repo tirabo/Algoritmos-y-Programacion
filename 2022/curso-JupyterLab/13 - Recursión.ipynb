{
  "cells": [
    {
      "cell_type": "markdown",
      "metadata": {
        "id": "1986cj15yw2x"
      },
      "source": [
        "## 1. Definiciones por recursión\n",
        "\n",
        "Definir una función por recursión es un concepto muy similar al de realizar una prueba por inducción. Una función definida por recursión debe:\n",
        "\n",
        "*   determinar el valor deseado para **el caso base** (o los casos base), por ejemplo, para `n == 0` o `n == 1`.\n",
        "*   determinar la manera de calcular el valor para `n` conociendo el valor de la función para `n-1` (o para todos los valores menores a `n`, en este último caso se parece a inducción completa)."
      ]
    },
    {
      "cell_type": "markdown",
      "metadata": {
        "id": "80tXgDEr0kdM"
      },
      "source": [
        "Ejemplo de definición recursiva: función factorial.\n",
        "\n",
        "Hemos visto una manera iterativa de definir la función factorial:"
      ]
    },
    {
      "cell_type": "code",
      "execution_count": null,
      "metadata": {
        "id": "lAglmA6e0s1e"
      },
      "outputs": [],
      "source": [
        "def factorial(n: int) -> int:\n",
        "    # pre: n >= 0\n",
        "    # post: devuelve el valor de 1 * 2 * 3 * ... * (n-1) * n\n",
        "    res = 1\n",
        "    for i in range(2, n+1):\n",
        "        res = res * i\n",
        "    return res"
      ]
    },
    {
      "cell_type": "code",
      "execution_count": null,
      "metadata": {
        "colab": {
          "base_uri": "https://localhost:8080/"
        },
        "id": "7t7wX_49XyQh",
        "outputId": "3584eee5-2dd0-48ee-9508-cd9ef987b7e8"
      },
      "outputs": [],
      "source": [
        "print(factorial(5))"
      ]
    },
    {
      "cell_type": "markdown",
      "metadata": {
        "id": "QrE7zfXM1IF0"
      },
      "source": [
        "También se puede definir por recursión, valiéndonos de que sabemos:\n",
        "\n",
        "\n",
        "*   $0! = 1$\n",
        "*   $n! = n * (n-1)!$, si $n > 0$"
      ]
    },
    {
      "cell_type": "code",
      "execution_count": null,
      "metadata": {
        "id": "JBKnV0O01dF9"
      },
      "outputs": [],
      "source": [
        "def factorial(n: int) -> int:\n",
        "    # pre: n >= 0\n",
        "    # post: devuelve el valor de 1 * 2 * 3 * ... * (n-1) * n\n",
        "    if n == 0:\n",
        "        return 1\n",
        "    else:\n",
        "        return n * factorial(n - 1)"
      ]
    },
    {
      "cell_type": "code",
      "execution_count": null,
      "metadata": {
        "id": "BB-MqWbQ1uVC"
      },
      "outputs": [],
      "source": [
        "def factorial(n: int) -> int:\n",
        "    # pre: n >= 0\n",
        "    # post: devuelve el valor de 1 * 2 * 3 * ... * (n-1) * n\n",
        "    if n == 0:\n",
        "        res = 1\n",
        "    else:\n",
        "        res = n * factorial(n - 1)\n",
        "    return res"
      ]
    },
    {
      "cell_type": "markdown",
      "metadata": {
        "id": "4VcwoKuDeU42"
      },
      "source": [
        "Corrección: para todo `n` entero no negativo, `factorial(n) == n!`.\n",
        "\n",
        "¿Cómo lo podemos demostrar?\n",
        "Por inducción en `n`:\n",
        "\n",
        "caso base: `n == 0`. `factorial(n) == factorial(0) == 1 == 0! == n!`\n",
        "\n",
        "paso inductivo: asumimos que `factorial(n) == n!`. Probemos que `factorial(n+1) == (n+1)!`:\n",
        "\n",
        "`factorial(n+1) == (n+1) * factorial(n + 1 - 1) == (n+1) * factorial(n) == (n+1) * n! == (n+1)!`\n",
        "\n",
        "QED"
      ]
    },
    {
      "cell_type": "code",
      "execution_count": null,
      "metadata": {
        "id": "lC7vT0-MeCYI"
      },
      "outputs": [],
      "source": [
        "print(factorial(4))\n",
        "# print(factorial(-3))"
      ]
    },
    {
      "cell_type": "markdown",
      "metadata": {
        "id": "l8sO0v1YAv-P"
      },
      "source": [
        "Otro ejemplo: potencia de un número.\n",
        "\n",
        "\n",
        "\n",
        "*   $a^0 = 1$\n",
        "*   $a^n = a * a^{n-1}$, si $n > 0$\n",
        "\n"
      ]
    },
    {
      "cell_type": "code",
      "execution_count": null,
      "metadata": {
        "id": "4PvjlzMrCN9P"
      },
      "outputs": [],
      "source": [
        "def potencia(a, n: int) -> int:\n",
        "    # pre: n >= 0\n",
        "    # post: devuelve el valor de a * a * a * ... * a * a , n veces\n",
        "    if n == 0:\n",
        "        res = 1\n",
        "    else:\n",
        "        res = a * potencia(a, n-1)\n",
        "    return res"
      ]
    },
    {
      "cell_type": "code",
      "execution_count": null,
      "metadata": {
        "colab": {
          "base_uri": "https://localhost:8080/"
        },
        "id": "9fDTFd6xg4JW",
        "outputId": "597b37e1-a9f9-49c0-cbdf-7998c36f437b"
      },
      "outputs": [],
      "source": [
        "print(potencia(2,50))"
      ]
    },
    {
      "cell_type": "code",
      "execution_count": null,
      "metadata": {
        "colab": {
          "base_uri": "https://localhost:8080/"
        },
        "id": "QNcyfRDr0ISE",
        "outputId": "114279d8-138d-4cc6-dd5a-fa00c58809e3"
      },
      "outputs": [],
      "source": [
        "tmp = potencia(2,25)\n",
        "print(tmp*tmp)"
      ]
    },
    {
      "cell_type": "markdown",
      "metadata": {
        "id": "mHUWsfUCCve3"
      },
      "source": [
        "Versión optimizada. Otro ejemplo: potencia de un número.\n",
        "\n",
        "\n",
        "\n",
        "*   $a^0 = 1$\n",
        "*   $a^n = a * a^{n-1}$, si $n > 0$, $n$ impar.\n",
        "*   $a^n = {(a^{\\frac{n}{2}})}^2$, si $n > 0$, $n$ par.\n",
        "\n"
      ]
    },
    {
      "cell_type": "code",
      "execution_count": null,
      "metadata": {
        "id": "fa8JqFCxCmJ-"
      },
      "outputs": [],
      "source": [
        "def potencia(a, n: int) -> int:\n",
        "    # pre: n >= 0\n",
        "    # post: devuelve el valor de a * a * a * ... * a * a , n veces\n",
        "    if n == 0:\n",
        "        res = 1\n",
        "    elif n % 2 == 1:\n",
        "        res = a * potencia(a, n-1)\n",
        "    else:\n",
        "        res = potencia(a, n // 2)\n",
        "        res = res * res\n",
        "    return res"
      ]
    },
    {
      "cell_type": "markdown",
      "metadata": {
        "id": "0O0EbBBYo_7A"
      },
      "source": []
    },
    {
      "cell_type": "markdown",
      "metadata": {
        "id": "EJwra_cdfAHy"
      },
      "source": [
        "Sucesión de Fibonacci:\n",
        "\n",
        "0, 1, 1, 2, 3, 5, 8, 13\n",
        "\n",
        "\n",
        "*   $a_0 = 0$\n",
        "*   $a_1 = 1$\n",
        "*   $a_n = a_{n-1} + a_{n-2}$ si $n > 1$\n",
        "\n"
      ]
    },
    {
      "cell_type": "code",
      "execution_count": null,
      "metadata": {
        "id": "Z-D3k92RX9DF"
      },
      "outputs": [],
      "source": [
        "def fib(n: int) -> int:\n",
        "    # pre: n >= 0\n",
        "    # post: devuelve el n-ésimo término de la sucesión de Fibonacci\n",
        "    assert type(n) == int and n >= 0\n",
        "    if n <= 1:\n",
        "        res = n\n",
        "    else:\n",
        "        res = fib(n-1) + fib(n-2)\n",
        "    return res"
      ]
    },
    {
      "cell_type": "code",
      "execution_count": null,
      "metadata": {
        "colab": {
          "base_uri": "https://localhost:8080/"
        },
        "id": "CsezItWN327m",
        "outputId": "1d4f5809-7bc1-4f02-ca07-729c7ba59144"
      },
      "outputs": [],
      "source": [
        "print(fib_iter(500))"
      ]
    },
    {
      "cell_type": "code",
      "execution_count": null,
      "metadata": {
        "colab": {
          "base_uri": "https://localhost:8080/"
        },
        "id": "a9d5twqlgwvL",
        "outputId": "9d46b166-2584-46ca-838c-9f5e4a68e115"
      },
      "outputs": [],
      "source": [
        "print([fib(x) for x in range(10)])"
      ]
    },
    {
      "cell_type": "code",
      "execution_count": null,
      "metadata": {
        "id": "mcD0rgkGkKqU"
      },
      "outputs": [],
      "source": [
        "def fib_iter(n: int) -> int:\n",
        "    if n <= 1:\n",
        "        res = n\n",
        "    else:\n",
        "        x, y = 0, 1\n",
        "        for _ in range(2, n+1):\n",
        "            x, y = y, x + y\n",
        "        res = y\n",
        "    return res"
      ]
    },
    {
      "cell_type": "code",
      "execution_count": null,
      "metadata": {
        "colab": {
          "base_uri": "https://localhost:8080/"
        },
        "id": "6XoVkbJcllLE",
        "outputId": "adc0a4b9-d3eb-4b0a-df97-af89923c5a29"
      },
      "outputs": [],
      "source": [
        "print([fib_iter(x) for x in range(10)])"
      ]
    },
    {
      "cell_type": "code",
      "execution_count": null,
      "metadata": {
        "colab": {
          "base_uri": "https://localhost:8080/"
        },
        "id": "ozqOkLOhlzzM",
        "outputId": "06b574f4-b4d4-410a-dd29-1de746330a67"
      },
      "outputs": [],
      "source": [
        "fib_iter(10)"
      ]
    },
    {
      "cell_type": "markdown",
      "metadata": {
        "id": "yiM4tgDZU1_R"
      },
      "source": [
        "#### Número combinatorio"
      ]
    },
    {
      "cell_type": "markdown",
      "metadata": {
        "id": "seKHX7W1Vbmp"
      },
      "source": [
        "El número combinatorio $n \\choose m$ debe su nombre a que cuenta el número exacto de combinaciones posibles de $m$ elementos de un universo de $n$ elementos. Es decir, dado un conjunto de $n$ elementos, cuántos subconjuntos de $m$ elementos tiene.\n",
        "\n",
        "Es de gran utilidad en múltiples ramas de la matemática: teoría de números, combinatoria, probabilidades, etc."
      ]
    },
    {
      "cell_type": "markdown",
      "metadata": {
        "id": "SvWktib4U9TY"
      },
      "source": [
        "#### Binomio de Newton:\n",
        "\n",
        "Un resultado muy importante es:\n",
        "\n",
        "$$(a + b)^n = \\sum_{i=0}^n {n \\choose i}a^{n-i}b^i$$"
      ]
    },
    {
      "cell_type": "markdown",
      "metadata": {
        "id": "Bc4cL6cVOwB_"
      },
      "source": [
        "Número combinatorio $n \\choose m$, para $n \\geq 0$ y $0 \\leq m \\leq n$. Se lo puede definir de la siguiente manera:\n",
        "\n",
        "$${n \\choose m} = \\frac{n!}{m! (n-m)!}$$"
      ]
    },
    {
      "cell_type": "markdown",
      "metadata": {
        "id": "IKbziOJ2WYTl"
      },
      "source": [
        "# Triángulo de Pascal:\n",
        "\n",
        "$$\\begin{array}{lcccccccccccccccc}\n",
        "n = 0 & & & & & & & & & 0 \\choose 0 \\\\\n",
        "n = 1 & & & & & & & & 1 \\choose 0 & & 1 \\choose 1 \\\\\n",
        "n = 2 & & & & & & & 2 \\choose 0 & & 2 \\choose 1 & & 2 \\choose 2 \\\\\n",
        "n = 3 & & & & & & 3 \\choose 0 & & 3 \\choose 1 & & 3 \\choose 2 & & 3 \\choose 3\\\\\n",
        "n = 4 & & & & & 4 \\choose 0 & & 4 \\choose 1 & & 4 \\choose 2 & & 4 \\choose 3 & & 4 \\choose 4\\\\\n",
        "n = 5 & & & & 5 \\choose 0 & & 5 \\choose 1 & & 5 \\choose 2 & & 5 \\choose 3 & & 5 \\choose 4 & & 5 \\choose 5\\\\\n",
        "n = 6 & & & 6 \\choose 0 & & 6 \\choose 1 & & 6 \\choose 2 & & 6 \\choose 3 & & 6 \\choose 4 & & 6 \\choose 5 & & 6 \\choose 6\\\\\n",
        "n = 7 & & 7 \\choose 0 & & 7 \\choose 1 & & 7 \\choose 2 & & 7 \\choose 3 & & 7 \\choose 4 & & 7 \\choose 5 & & 7 \\choose 6 & & 7 \\choose 7\n",
        "\\end{array}$$\n",
        "\n"
      ]
    },
    {
      "cell_type": "markdown",
      "metadata": {
        "id": "Y3LzpJ6NThZa"
      },
      "source": [
        "Si reemplazamos cada expresión por su valor, observamos que cada uno de los valores que están en su interior, pueden calcularse como la suma de los dos que se encuentran inmediatamente arriba:\n",
        "\n",
        "$$\\begin{array}{lcccccccccccccccc}\n",
        "n = 0 & & & & & & & & & 1 \\\\\n",
        "n = 1 & & & & & & & & 1 & & 1 \\\\\n",
        "n = 2 & & & & & & & 1 & & 2 & & 1 \\\\\n",
        "n = 3 & & & & & & 1 & & 3 & & 3 & & 1\\\\\n",
        "n = 4 & & & & & 1 & & 4 & & 6 & & 4 & & 1\\\\\n",
        "n = 5 & & & & 1 & & 5 & & 10 & & 10 & & 5 & & 1\\\\\n",
        "n = 6 & & & 1 & & 6 & & 15 & & 20 & & 15 & & 6 & & 1\\\\\n",
        "n = 7 & & 1 & & 7 & & 21 & & 35 & & 35 & & 21 & & 7 & & 1\n",
        "\\end{array}$$\n"
      ]
    },
    {
      "cell_type": "markdown",
      "metadata": {
        "id": "O7F1OBrjT4uF"
      },
      "source": [
        "Fórmula recursiva:\n",
        "\n",
        "*   ${n \\choose 0} = 1$\n",
        "*   ${n \\choose n} = 1$\n",
        "*   ${n \\choose m} = {n - 1 \\choose m - 1} + {n - 1 \\choose m}$, si $m \\not= 0 \\wedge m \\not= n$\n",
        "\n",
        "Estas tres ecuaciones se pueden demostrar matemáticamente.\n",
        "\n",
        "A nosotros nos interesan estas ecuaciones porque podemos tomarlo como una definición recursiva del número combinatorio"
      ]
    },
    {
      "cell_type": "code",
      "execution_count": null,
      "metadata": {
        "id": "5trEwKrCXMDp"
      },
      "outputs": [],
      "source": [
        "def combinatorio(n, m: int) -> int:\n",
        "    # pre: n >= 0 and 0 <= m <= n\n",
        "    # post: devuelve el número combinatorio de \"n elementos tomados de a m\"\n",
        "    assert type(n) == type(m) == int and n >= 0 and 0 <= m <= n, 'Error en los parámetros de la función \"combinatorio\"'\n",
        "\n",
        "    if m == 0 or m == n:\n",
        "        res = 1\n",
        "    else:\n",
        "        res = combinatorio(n - 1, m - 1) + combinatorio(n - 1, m)\n",
        "    return res"
      ]
    },
    {
      "cell_type": "code",
      "execution_count": null,
      "metadata": {
        "colab": {
          "base_uri": "https://localhost:8080/"
        },
        "id": "KzsEvtMzpof5",
        "outputId": "4a378da9-6c88-455f-99b1-0cdeb7bfce2e"
      },
      "outputs": [],
      "source": [
        "combinatorio(7,3)"
      ]
    },
    {
      "cell_type": "markdown",
      "metadata": {
        "id": "RuPuSMiWYjnN"
      },
      "source": [
        "# Ordenación rápida (quick sort)"
      ]
    },
    {
      "cell_type": "markdown",
      "metadata": {
        "id": "sNf6YaT_Yp2j"
      },
      "source": [
        "Generemos una lista de palabras al azar:"
      ]
    },
    {
      "cell_type": "code",
      "execution_count": null,
      "metadata": {
        "id": "ULK67m_KYs_t"
      },
      "outputs": [],
      "source": [
        "from random import choices, randint\n",
        "\n",
        "LETRAS = 'a b c d e f g h i j k l m n ñ o p q r s t u v w x y z'.split(' ')\n",
        "MAX_PALABRA = 10\n",
        "\n",
        "def palabras_aleatorias(n: int) -> list:\n",
        "    # pre: n >= 0\n",
        "    # post: devuelve una lista aleatoriamente generada de n palabras de longitud 1 a MAX_PALABRA\n",
        "    res = []\n",
        "    for _ in range(n):\n",
        "        longitud = randint(1, MAX_PALABRA)\n",
        "        lista_letras = choices(LETRAS, k = longitud)\n",
        "        palabra = ''.join(lista_letras)\n",
        "        res.append(palabra)\n",
        "    return res"
      ]
    },
    {
      "cell_type": "code",
      "execution_count": null,
      "metadata": {
        "id": "GqONOymRa4bj"
      },
      "outputs": [],
      "source": [
        "palabras = palabras_aleatorias(1000000)"
      ]
    },
    {
      "cell_type": "code",
      "execution_count": null,
      "metadata": {
        "colab": {
          "base_uri": "https://localhost:8080/"
        },
        "id": "4qafepgIsesB",
        "outputId": "dff364a0-cc94-4790-8856-90c8e0d73a9c"
      },
      "outputs": [],
      "source": [
        "print(palabras)"
      ]
    },
    {
      "cell_type": "code",
      "execution_count": null,
      "metadata": {
        "id": "tnn6kAqZs_mV"
      },
      "outputs": [],
      "source": [
        "def swap(lista, n, m):\n",
        "    lista[n], lista[m] = lista[m], lista[n]\n",
        "\n",
        "def separar(lista: list, desde, hasta: int) -> int:\n",
        "    pivote = lista[desde]\n",
        "    i, j = desde + 1, hasta\n",
        "    while i <= j:\n",
        "        if lista[i] <= pivote:\n",
        "            i = i + 1\n",
        "        elif lista[j] > pivote:\n",
        "            j = j - 1\n",
        "        else:\n",
        "            swap(lista, i, j)\n",
        "            i = i + 1\n",
        "            j = j - 1\n",
        "    swap(lista, desde, j)\n",
        "    return j\n",
        "\n",
        "def ordenacion_rapida_rec(lista: list, desde, hasta: int):\n",
        "    # pre: 0 <= desde < len(lista) and 0 <= hasta < len(lista)\n",
        "    if desde < hasta:\n",
        "        i_pivote = separar(lista, desde, hasta)\n",
        "        ordenacion_rapida_rec(lista, desde, i_pivote - 1)\n",
        "        ordenacion_rapida_rec(lista, i_pivote + 1, hasta)\n",
        "\n",
        "def ordenacion_rapida(lista: list):\n",
        "    ordenacion_rapida_rec(lista, 0, len(lista) - 1)\n"
      ]
    },
    {
      "cell_type": "code",
      "execution_count": null,
      "metadata": {
        "id": "V-Ij80bmxSVk"
      },
      "outputs": [],
      "source": [
        "ordenacion_rapida(palabras)"
      ]
    },
    {
      "cell_type": "code",
      "execution_count": null,
      "metadata": {
        "colab": {
          "base_uri": "https://localhost:8080/"
        },
        "id": "kDREKNwdxXDO",
        "outputId": "cd67786e-f214-4681-948f-17411c6d7e33"
      },
      "outputs": [],
      "source": [
        "print(palabras)"
      ]
    },
    {
      "cell_type": "code",
      "execution_count": null,
      "metadata": {
        "colab": {
          "base_uri": "https://localhost:8080/"
        },
        "id": "plIprd9g-7o7",
        "outputId": "21921ca8-8587-4957-e866-6530ed11b728"
      },
      "outputs": [],
      "source": [
        "def intercalar(lista1, lista2 : list) -> list:\n",
        "    # pre: lista1 y lista2 ordenadas\n",
        "    res = []\n",
        "    i, j = 0, 0        # i para recorrer la lista1 y j para recorrer la lista2\n",
        "    while i < len(lista1) and j < len(lista2):\n",
        "        if lista1[i] <= lista2[j]:\n",
        "            res.append(lista1[i])\n",
        "            i = i + 1\n",
        "        else:\n",
        "            res.append(lista2[j])\n",
        "            j = j + 1\n",
        "    while i < len(lista1):\n",
        "        res.append(lista1[i])\n",
        "        i = i + 1\n",
        "    while j < len(lista2):\n",
        "        res.append(lista2[j])\n",
        "        j = j + 1\n",
        "    return res\n",
        "\n",
        "def ordenar(lista: list) -> list:\n",
        "    n = len(lista)\n",
        "    if n <= 1:\n",
        "        res = lista\n",
        "    else:\n",
        "        mitad1 = lista[:n // 2]\n",
        "        mitad2 = lista[n // 2:]\n",
        "        mitad1_ordenada = ordenar(mitad1)\n",
        "        mitad2_ordenada = ordenar(mitad2)\n",
        "        res = intercalar(mitad1_ordenada, mitad2_ordenada)\n",
        "    return res\n",
        "\n",
        "ordenar([6,9,2,8, 2, -1, 3, 7, 21, -21, 34])"
      ]
    },
    {
      "cell_type": "code",
      "execution_count": null,
      "metadata": {
        "colab": {
          "base_uri": "https://localhost:8080/"
        },
        "id": "BQrCXMJomvRs",
        "outputId": "b989fed5-4a56-4811-ac9e-a9943387e0d1"
      },
      "outputs": [],
      "source": [
        "def ordenar2(lista: list) -> list:\n",
        "    n = len(lista)\n",
        "    if n <= 1:\n",
        "        res = lista\n",
        "    else:\n",
        "        pivote = lista[0]\n",
        "        res = ordenar2([e for e in lista[1:] if e <= pivote]) + [pivote] + ordenar2([e for e in lista[1:] if e > pivote])\n",
        "    return res\n",
        "\n",
        "ordenar2([6,9,2,8, 2, -1, 3, 7, 21, -21, 34])"
      ]
    },
    {
      "cell_type": "code",
      "execution_count": null,
      "metadata": {
        "colab": {
          "base_uri": "https://localhost:8080/"
        },
        "id": "sRWuWJSXwGnA",
        "outputId": "c5348870-5c99-47ae-fdc5-633e02e407a3"
      },
      "outputs": [],
      "source": [
        "def ordenar2(lista: list) -> list:\n",
        "    n = len(lista)\n",
        "    if n <= 1:\n",
        "        res = lista\n",
        "    else:\n",
        "        pivote = lista[0]\n",
        "        tercio1 = [e for e in lista[:] if e < pivote]\n",
        "        tercio2 = [e for e in lista[:] if e == pivote]\n",
        "        tercio3 = [e for e in lista[:] if e > pivote]\n",
        "        res = ordenar2(tercio1) + [pivote] + ordenar2(tercio3)\n",
        "    return res\n",
        "\n",
        "ordenar2(palabras)"
      ]
    },
    {
      "cell_type": "code",
      "execution_count": null,
      "metadata": {
        "colab": {
          "base_uri": "https://localhost:8080/"
        },
        "id": "bcwthXEVw8Uf",
        "outputId": "55618bc5-a7ad-4c92-b53b-e67d0798c794"
      },
      "outputs": [],
      "source": [
        "def ssort(lista: list):\n",
        "    for i in range(len(lista)):\n",
        "        ix_min = i\n",
        "        for j in range(i+1,len(lista)):\n",
        "            if lista[j] < lista[ix_min]:\n",
        "                ix_min = j\n",
        "        swap(lista, i, ix_min)\n",
        "\n",
        "lista = [4, 2, 8, 5, 1, 7]\n",
        "ssort(lista)\n",
        "print(lista)"
      ]
    },
    {
      "cell_type": "code",
      "execution_count": null,
      "metadata": {
        "id": "mEiUHUa1x8F0"
      },
      "outputs": [],
      "source": [
        "ssort(palabras)\n",
        "print(palabras)"
      ]
    }
  ],
  "metadata": {
    "colab": {
      "collapsed_sections": [],
      "include_colab_link": true,
      "name": "Algoritmos y Programación recursión.ipynb",
      "provenance": []
    },
    "kernelspec": {
      "display_name": "Python 3",
      "name": "python3"
    },
    "language_info": {
      "name": "python"
    }
  },
  "nbformat": 4,
  "nbformat_minor": 0
}
