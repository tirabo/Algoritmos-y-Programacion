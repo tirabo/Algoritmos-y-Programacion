{
 "cells": [
  {
   "cell_type": "markdown",
   "metadata": {
    "id": "R22rHsKNE6_r"
   },
   "source": [
    "# Ciclos\n",
    "\n",
    "## 1. La instrucción `for`\n",
    "\n",
    "Ya hemos visto la instrucción `for`, la cual permite iterar una cantidad determinada de veces. El  esquema general del `for` es\n",
    "```\n",
    "for <var> in <iterable>:\n",
    "    <instrucción(es)>\n",
    "```\n",
    "Aquí `<var>` denota una variable cualquiera e `<iterable>` es un objeto iterable,  es decir un objeto que puede ser recorrido secuencialmente, como puede ser una cadena o una lista, un diccionario, un conjunto, etc.,  estructuras que veremos más adelante. \n",
    "\n",
    "El primer uso que dimos del `for` fue recorrer una lista de enteros de `0` a `n - 1` (para un `n` determinado) y  eso se hace con una instrucción del tipo:\n",
    "```\n",
    "for <var> in range(n):\n",
    "    <instrucción(es)>\n",
    "```\n",
    "Es decir `range(n)` es un iterable que contiene todos los números enteros de `0` a `n - 1` en orden. El `for` la va dando a la variable todos los valores de `0` a `n - 1`  y en ese orden. Por ejemplo, \n"
   ]
  },
  {
   "cell_type": "code",
   "execution_count": null,
   "metadata": {
    "id": "lh3f8OWRE7Sc"
   },
   "outputs": [],
   "source": [
    "for i in range(5):\n",
    "    print(i)"
   ]
  },
  {
   "cell_type": "markdown",
   "metadata": {
    "id": "rRJ39DYtNlTO"
   },
   "source": [
    "imprime `0`, `1`, `2`, `3`, `4`, en ese orden. \n",
    "\n",
    "La  función `range()` además puede tomar otros argumentos: si `m`, `n` son dos enteros,  entonces `range(m, n)` es un iterable  que tiene todos los enteros de `m` a `n - 1`. Por  ejemplo,   "
   ]
  },
  {
   "cell_type": "markdown",
   "metadata": {},
   "source": [
    "Un iterable conocido son las cadenas. Con el `for` podemos recorrer una cadena desde el primer caracter hasta el último, por ejemplo"
   ]
  },
  {
   "cell_type": "code",
   "execution_count": null,
   "metadata": {},
   "outputs": [],
   "source": [
    "for x in 'diccionario':\n",
    "    print(x)"
   ]
  },
  {
   "cell_type": "markdown",
   "metadata": {},
   "source": [
    "Definamos una función que dada una palabra devuelva la palabra con las vocales eliminadas:"
   ]
  },
  {
   "cell_type": "code",
   "execution_count": null,
   "metadata": {},
   "outputs": [],
   "source": [
    "def eliminar_vocales(cadena: str) -> str:\n",
    "    # pre: cadena es una cadena de caracteres\n",
    "    # post: devuelve cadena sin vocales minúsculas\n",
    "    sin_vocales = ''\n",
    "    for x in cadena:\n",
    "        if x != 'a' and x != 'e' and x != 'i' and x != 'o' and x != 'u':\n",
    "            sin_vocales += x\n",
    "    return sin_vocales"
   ]
  },
  {
   "cell_type": "markdown",
   "metadata": {},
   "source": [
    "Probemos la función:"
   ]
  },
  {
   "cell_type": "code",
   "execution_count": null,
   "metadata": {},
   "outputs": [],
   "source": [
    "print(eliminar_vocales('hola'))\n",
    "print(eliminar_vocales('abracadabra'))\n",
    "print(eliminar_vocales('murcielago'))\n",
    "print(eliminar_vocales('Algoritmos y programación')) # elimina vocales en cadenas de caracteres pero no detecta mayúsculas y acentos"
   ]
  },
  {
   "cell_type": "markdown",
   "metadata": {},
   "source": [
    "### La función `range()`\n",
    "\n",
    "La función `range()` además de tomar como argumento un entero positivo puede tomar otros argumentos: si `m`, `n` son dos enteros, entonces `range(m, n)` es un iterable que tiene todos los enteros de `m` a `n - 1`. Por ejemplo,"
   ]
  },
  {
   "cell_type": "code",
   "execution_count": null,
   "metadata": {
    "id": "trInLgs0Nlcd"
   },
   "outputs": [],
   "source": [
    "for i in range(3, 8):\n",
    "    print(i)"
   ]
  },
  {
   "cell_type": "markdown",
   "metadata": {
    "id": "V_HvB_eyFFg4"
   },
   "source": [
    "imprime `3`, `4`, `5`, `6`, `7`, en ese orden. Observar que\n"
   ]
  },
  {
   "cell_type": "code",
   "execution_count": null,
   "metadata": {
    "executionInfo": {
     "elapsed": 379,
     "status": "ok",
     "timestamp": 1632769904467,
     "user": {
      "displayName": "Alejandro Leopoldo Tiraboschi",
      "photoUrl": "https://lh3.googleusercontent.com/a-/AOh14Gir321Aip7u2JtD7LMLQbY3a1oHsAD11CVed_UbeFc=s64",
      "userId": "02370857492204546552"
     },
     "user_tz": 180
    },
    "id": "tbDBS7B8OUOi"
   },
   "outputs": [],
   "source": [
    "for i in range(8, 3):\n",
    "    print(i)"
   ]
  },
  {
   "cell_type": "markdown",
   "metadata": {
    "id": "Yv_J4kgfOK05"
   },
   "source": [
    "Es un conjunto de instrucciones correctas pero no imprime nada porque el iterable `range(8, 3)` es vacío. \n",
    "\n",
    "La  función `range()` también puede tomar tres argumentos: si `m`, `n`, `k` son tres enteros,  entonces `range(m, n, k)` es un iterable  que tiene todos los enteros desde `m` al entero *anterior* a `n ` \"saltando\"  de `k` en `k`. Por  ejemplo,   "
   ]
  },
  {
   "cell_type": "code",
   "execution_count": null,
   "metadata": {
    "id": "k0BFZp0zFFot"
   },
   "outputs": [],
   "source": [
    "for i in range(8, 16, 2):\n",
    "    print(i)"
   ]
  },
  {
   "cell_type": "markdown",
   "metadata": {
    "id": "3E5tZnlQFFyG"
   },
   "source": [
    "imprime todo los enteros pares de `8` a `15`. Otro ejemplo:"
   ]
  },
  {
   "cell_type": "code",
   "execution_count": null,
   "metadata": {
    "id": "Fl5oTe_-FF7U"
   },
   "outputs": [],
   "source": [
    "for i in range(16, 8, -2):\n",
    "    print(i)"
   ]
  },
  {
   "cell_type": "markdown",
   "metadata": {
    "id": "HqhhOpPcFGFV"
   },
   "source": [
    "imprime todo los enteros pares de `16` a `10` en orden descendente. Es decir,  en este caso  `range(16, 8, -2)` representa los enteros `16`, `14`, `12`,  `10`, en ese orden.   \n",
    "\n",
    "Es importante observar que `range(m, n, 1)` es lo mismo que `range(m, n)` y  que `range(0, n, 1)` es lo mismo que `range(n)`. Si los argumentos de `range()` no son enteros obtenemos un error.\n",
    "\n",
    "Cerremos esta sección con un ejemplo:\n"
   ]
  },
  {
   "cell_type": "code",
   "execution_count": null,
   "metadata": {
    "id": "ERRPdc0OQ-b7"
   },
   "outputs": [],
   "source": [
    "def cuenta_regresiva(n: int):\n",
    "    # pre: n  es un entero positivo\n",
    "    # post: imprime los enteros de n a 1 y finalmente la palabra ¡Despegue!\n",
    "    for i in range(n, 0, -1):\n",
    "        print(i)\n",
    "    print('¡Despegue!')  \n",
    "\n",
    "cuenta_regresiva(10)"
   ]
  },
  {
   "cell_type": "markdown",
   "metadata": {
    "id": "oU6C_CAQRw4C"
   },
   "source": [
    "Observar que fue necesario poner como segundo argumento de `range()` el  número `0` pues el `for` recorre desde el  primer número (en este caso `10`) hasta el anterior a `0`,  que en este caso es `1`, pues el recorrido se hace de mayor a menor (eso es lo que indica el tercer parámetro de `range()`)."
   ]
  },
  {
   "cell_type": "markdown",
   "metadata": {
    "id": "HjQjcqwiFGeI"
   },
   "source": [
    "## 2. La instrucción `while`\n",
    "\n",
    "Las computadoras se utilizan a menudo para automatizar tareas repetitivas. Repetir tareas idénticas o similares sin cometer errores es algo que las computadoras hacen bien y las personas hacen mal. En un programa de computadora, la repetición también se llama *iteración*.\n",
    "\n",
    "Python proporciona instrucciones para hacer iteración. Una es la instrucción `for` que vimos más arriba.\n",
    "\n",
    "Otra es la intrucción `while`. El uso del `while` nos permite ejecutar una sección de código repetidas veces, de ahí su nombre. El código se ejecutará mientras una condición determinada se cumpla. Cuando se deje de cumplir, se saldrá del bucle y se continuará la ejecución normal. Llamaremos *iteración* a una ejecución completa del bloque de código.\n",
    "\n",
    "La sintaxis es:\n",
    "```\n",
    "while <condición>:\n",
    "    <instrucción(es)>\n",
    "```\n",
    "Mienras se cumpla la `<condición>` se ejecutará el cuerpo del `while`,  es decir las `<instrucción(es)>`, y cuando estas se terminen de ejecutar se  vuelve a comprobar la `<condiciòn>`. Cuando deje de cumplirse la `<condición>`, la ejecución abandonará el `while` y pasará a la instrucción siguiente. \n",
    "\n",
    "Aquí hay una versión de `cuenta_regresiva()` que usa  `while`:"
   ]
  },
  {
   "cell_type": "code",
   "execution_count": null,
   "metadata": {
    "id": "Yn7Ry6HQFGn2"
   },
   "outputs": [],
   "source": [
    "def cuenta_regresiva(n: int):\n",
    "    # pre: n  es un entero positivo\n",
    "    # post: imprime los enteros de n a 1 y finalmente la palabra ¡Despegue!\n",
    "    while n > 0:\n",
    "        print(n)\n",
    "        n = n - 1\n",
    "    print ('¡Despegue!')\n",
    "\n",
    "cuenta_regresiva(10)"
   ]
  },
  {
   "cell_type": "markdown",
   "metadata": {
    "id": "4FwaYK0_FHHT"
   },
   "source": [
    "Si traducimos del inglés la palabra `while` (\"mientras\" en castellano) la declaración dice casi textualmente lo que hace: \"Mientras `n` es mayor  que `0`, imprimir `n` y luego disminuir `n` en `1`. Cuando llegués a `0`, imprimir `¡Despegue!`\"\n",
    "\n",
    "Más formalmente, aquí está el flujo de ejecución para una declaración `while`:\n",
    "\n",
    "1. Determinar si la condición es verdadera o falsa.\n",
    "2. Si es falsa, salir de la instrucción `while` y continuar la ejecución de la siguiente instrucción.\n",
    "3. Si la condición es verdadera, ejecutar el cuerpo y volver al paso 1.\n",
    "\n",
    "Este tipo de flujo se llama *bucle* o *ciclo* porque el tercer paso vuelve a la parte superior.\n",
    "\n",
    "El cuerpo del ciclo debe cambiar el valor de una o más variables para que la condición en algún momento se vuelva falsa y el ciclo termine. De lo contrario, el ciclo se repetirá para siempre, lo que se denomina *ciclo infinito*. \n",
    "\n",
    "En el caso de `cuenta_regresiva()` podemos probar que el ciclo termina: si `n` es negativo, el ciclo nunca se ejecuta. De lo contrario, `n` se vuelve más pequeño cada vez que pasa por el ciclo, por lo que siempre llegaremos a 0.\n",
    "\n",
    "Para algunos otros bucles, no es tan fácil de decir. Por ejemplo:"
   ]
  },
  {
   "cell_type": "code",
   "execution_count": null,
   "metadata": {
    "id": "6mvU-lKaFG9L"
   },
   "outputs": [],
   "source": [
    "def collatz(m: int): # tambien llamado \"Algoritmo de Siracusa\"\n",
    "    # pre: m > 0\n",
    "    # post: imprime el todos los n (intermedios y final) que resultan de aplicar el algoritmo de Collatz\n",
    "    n = m \n",
    "    while n != 1:\n",
    "        print(n)\n",
    "        if n % 2 == 0: # n es par\n",
    "            n = n // 2\n",
    "        else: # n es impar\n",
    "            n = n * 3 + 1\n",
    "    print(n)\n",
    "    print('fin de Collatz para m =', m)\n",
    "\n",
    "collatz(327)"
   ]
  },
  {
   "cell_type": "markdown",
   "metadata": {
    "id": "ICnkulTTFGyk"
   },
   "source": [
    "\n",
    "La condición para este ciclo es `n != 1`, por lo que el ciclo continuará hasta que `n` sea `1`, lo que hace que la condición sea falsa.\n",
    "\n",
    "Cada vez que pasa por el ciclo, el programa genera el valor de `n` y luego verifica si es par o impar. Si es par, `n` se divide por 2. Si es impar, el valor de `n` se reemplaza con `n * 3 + 1`. Por ejemplo, si el argumento pasado a `collatz()` es 3, los valores resultantes de `n` son 3, 10, 5, 16, 8, 4, 2, 1.\n"
   ]
  },
  {
   "cell_type": "code",
   "execution_count": null,
   "metadata": {
    "colab": {
     "base_uri": "https://localhost:8080/"
    },
    "executionInfo": {
     "elapsed": 462,
     "status": "ok",
     "timestamp": 1632780278731,
     "user": {
      "displayName": "Alejandro Leopoldo Tiraboschi",
      "photoUrl": "https://lh3.googleusercontent.com/a-/AOh14Gir321Aip7u2JtD7LMLQbY3a1oHsAD11CVed_UbeFc=s64",
      "userId": "02370857492204546552"
     },
     "user_tz": 180
    },
    "id": "4zv4EwqQHuCX",
    "outputId": "8e8be757-7beb-4c56-b14e-f253e874ee1f"
   },
   "outputs": [],
   "source": [
    "collatz(3)\n",
    "# collatz(31242341) # probar para números grandes"
   ]
  },
  {
   "cell_type": "markdown",
   "metadata": {
    "id": "Rg_P46JQHvuA"
   },
   "source": [
    "Dado que `n` a veces aumenta y a veces disminuye, no hay pruebas obvias de que `n` alguna vez llegue a 1, o de que el programa finalice. Para algunos valores particulares de `n`, podemos probar la terminación. Por ejemplo, si el valor inicial es una potencia de dos, `n` será par y  mas chico cada vez que pase por el ciclo hasta que llegue a 1. El ejemplo anterior termina con una secuencia de este tipo, comenzando con 16.\n",
    "\n",
    "Otro ejemplo:"
   ]
  },
  {
   "cell_type": "code",
   "execution_count": null,
   "metadata": {
    "id": "_1k9xnicRB0b"
   },
   "outputs": [],
   "source": [
    "collatz(2**10)"
   ]
  },
  {
   "cell_type": "markdown",
   "metadata": {
    "id": "6hy2vNTMRB-A"
   },
   "source": [
    "La pregunta difícil es si podemos probar que este programa termina para *todos* los valores positivos de `n`. Hasta ahora, nadie ha podido probarlo o refutarlo, pero se conjetura que el algoritmos siempre termina (Ver en Wikipedia [\"Conjetura de Collatz\"](https://es.wikipedia.org/wiki/Conjetura_de_Collatz)).\n",
    "\n",
    "Veamos otro ejemplo del ciclo `while`. Definamos la función `raiz_entera()` que dado un entero no negativo  `n` devuelve la raíz cuadrada entera de `n`.\n",
    "\n",
    "*Definición.* Sea $n \\in \\mathbb N$. Entonces $k$ es la *raíz entera de $n$* si $$k^2 \\le n < (k+1)^2.$$\n",
    "\n",
    "Imprimiendo la lista de cuadrados de 1 a 19 podemos ver que la raíz entera de `200` es `14`."
   ]
  },
  {
   "cell_type": "code",
   "execution_count": null,
   "metadata": {
    "colab": {
     "base_uri": "https://localhost:8080/"
    },
    "executionInfo": {
     "elapsed": 405,
     "status": "ok",
     "timestamp": 1632780412724,
     "user": {
      "displayName": "Alejandro Leopoldo Tiraboschi",
      "photoUrl": "https://lh3.googleusercontent.com/a-/AOh14Gir321Aip7u2JtD7LMLQbY3a1oHsAD11CVed_UbeFc=s64",
      "userId": "02370857492204546552"
     },
     "user_tz": 180
    },
    "id": "NDn9cYeevvtp",
    "outputId": "8c5d67eb-59da-4e9c-9f68-88b80ffbffb7"
   },
   "outputs": [],
   "source": [
    "for i in range(20):\n",
    "  print(i, i**2)"
   ]
  },
  {
   "cell_type": "markdown",
   "metadata": {
    "id": "fsiqa1NeSvCN"
   },
   "source": [
    "Obviamente el método anterior, \"por inspección\"  no es el más conveniente para encontrar la raíz entera de un número. \n",
    "\n",
    "A  continuación, una forma de implemetar la función raíz entera de `n`:"
   ]
  },
  {
   "cell_type": "code",
   "execution_count": null,
   "metadata": {
    "colab": {
     "base_uri": "https://localhost:8080/"
    },
    "executionInfo": {
     "elapsed": 435,
     "status": "ok",
     "timestamp": 1632771399421,
     "user": {
      "displayName": "Alejandro Leopoldo Tiraboschi",
      "photoUrl": "https://lh3.googleusercontent.com/a-/AOh14Gir321Aip7u2JtD7LMLQbY3a1oHsAD11CVed_UbeFc=s64",
      "userId": "02370857492204546552"
     },
     "user_tz": 180
    },
    "id": "pcSClhiLFHRJ",
    "outputId": "e099f628-307b-486f-8c28-19524387c823"
   },
   "outputs": [],
   "source": [
    "def raiz_entera(n: int) -> int:\n",
    "    # pre: n >= 0\n",
    "    # post: devuelve k tal que k**2 <= n < (k + 1)**2\n",
    "    k = 0\n",
    "    while k**2 <= n:\n",
    "        k = k + 1\n",
    "    return k - 1 \n",
    "\n",
    "print(raiz_entera(17))\n",
    "print(raiz_entera(200))"
   ]
  },
  {
   "cell_type": "markdown",
   "metadata": {
    "id": "7pO6DSBmFHds"
   },
   "source": [
    "Observar que el ciclo termina debido a que en cada paso `k` aumenta en 1 y entonces en algún paso `k**2` va a superar a `n`. \n",
    "\n",
    "En  el ejemplo anterior no podemos reemplazar el `while` por un `for` debido que *a priori* no sabemos cuantos pasos debemos hacer."
   ]
  },
  {
   "cell_type": "markdown",
   "metadata": {},
   "source": [
    "**Observación.** Todo ciclo `for` puede ser reemplazado  por un `while`,  por ejemplo\n",
    "\n",
    "```\n",
    "for i in range(n):\n",
    "    <bloque de código>\n",
    "```\n",
    "\n",
    "puede ser reemplazado por\n",
    "\n",
    "```\n",
    "i = 0\n",
    "while i < n:\n",
    "    <bloque de código>\n",
    "    i += 1\n",
    "```\n",
    "\n",
    "En el caso de trabajar con iterables es un poco más complicado pero es posible hacerlo. No lo veremos en este curso. "
   ]
  },
  {
   "cell_type": "markdown",
   "metadata": {
    "id": "2z6zqILjbeY5"
   },
   "source": [
    "## 3. ¿`break` o no `break`?\n",
    "\n",
    "La respuesta corta es (casi) nunca usar `break`, pero veamos primero que significa esta instrucción. \n",
    "\n",
    "A veces no es clara cual es la condición para terminar un bucle hasta que se llega a una parte intermedia del cuerpo de instrucciones. En ese caso, es posible utilizar la instrucción `break` para terminar el ciclo.\n",
    "\n",
    "Por ejemplo, suponga que desea recibir información que el usuario ingresa por teclado hasta que escribe `listo`. Podrías escribir:\n"
   ]
  },
  {
   "cell_type": "code",
   "execution_count": null,
   "metadata": {
    "id": "ZpYxqP8sFHmR"
   },
   "outputs": [],
   "source": [
    "while True:\n",
    "    linea = input('> ')\n",
    "    if linea == 'listo':\n",
    "        break\n",
    "    print(linea)\n",
    "print('¡Listo!')"
   ]
  },
  {
   "cell_type": "markdown",
   "metadata": {
    "id": "z-M_ya3kbfUs"
   },
   "source": [
    "\n",
    "\n",
    "La condición del bucle es `True`, que siempre es verdadera, por lo que el bucle se ejecuta hasta que llega a la sentencia `break`.\n",
    "\n",
    "Cada vez ingresa al cuerpo del `while` el programa  le muestra al usuario un corchete angular. Si el usuario escribe `listo`, la instrucción `break` termina el ciclo. De lo contrario, el programa imprime lo que escribe el usuario y vuelve al principio del ciclo. Aquí hay una muestra de ejecución:\n",
    "```\n",
    "> Hola\n",
    "Hola\n",
    "> listo\n",
    "¡Listo!\n",
    "```\n",
    "\n",
    "Sin embargo, no se recomienda escribir bucles con `break`. En  general, debe controlarse la iteración en el bucle por la condición que viene después del `while`. Agregar un medio para detener repentinamente el ciclo fuera del enfoque normal puede hacer que el código sea difícil de entender y depurar. En el código anterior podría haberse evitado fácilmente el uso del `break` con lo siguiente:"
   ]
  },
  {
   "cell_type": "code",
   "execution_count": null,
   "metadata": {
    "id": "FtTM0PGvbfgu"
   },
   "outputs": [],
   "source": [
    "linea = ''\n",
    "while linea != 'listo':\n",
    "    linea = input('> ')\n",
    "    print(linea)\n",
    "print('¡Listo!')"
   ]
  },
  {
   "cell_type": "markdown",
   "metadata": {
    "id": "3VIPcr6lyMdp"
   },
   "source": [
    "Otro ejemplo de lo que *no* hay que hacer:"
   ]
  },
  {
   "cell_type": "code",
   "execution_count": null,
   "metadata": {
    "colab": {
     "base_uri": "https://localhost:8080/"
    },
    "executionInfo": {
     "elapsed": 391,
     "status": "ok",
     "timestamp": 1632771712785,
     "user": {
      "displayName": "Alejandro Leopoldo Tiraboschi",
      "photoUrl": "https://lh3.googleusercontent.com/a-/AOh14Gir321Aip7u2JtD7LMLQbY3a1oHsAD11CVed_UbeFc=s64",
      "userId": "02370857492204546552"
     },
     "user_tz": 180
    },
    "id": "qMhnjVEdxau1",
    "outputId": "05c37078-e211-4f3c-a9db-be627cfdc32c"
   },
   "outputs": [],
   "source": [
    "def raiz_entera(n: int) -> int:\n",
    "    # pre: n >= 0\n",
    "    # post: devuelve k tal que k**2 <= n < (k + 1)**2\n",
    "    k = 0\n",
    "    for x in range(n):\n",
    "        if x**2 > n:\n",
    "            k = x -1\n",
    "            break\n",
    "    return k\n",
    "\n",
    "print(raiz_entera(200))"
   ]
  },
  {
   "cell_type": "markdown",
   "metadata": {
    "id": "oSqRUwVNfafH"
   },
   "source": [
    "La forma correcta de calcular la raíz entera es como se vió en la sección anterior, es decir:"
   ]
  },
  {
   "cell_type": "code",
   "execution_count": null,
   "metadata": {},
   "outputs": [],
   "source": [
    "def raiz_entera(n: int) -> int:\n",
    "    # pre: n >= 0\n",
    "    # post: devuelve k tal que k**2 <= n < (k + 1)**2\n",
    "    k = 0\n",
    "    while k**2 <= n:\n",
    "        k = k + 1\n",
    "    return k - 1 "
   ]
  }
 ],
 "metadata": {
  "colab": {
   "authorship_tag": "ABX9TyOUXLyQNrvieQ0OcGBwoUKC",
   "collapsed_sections": [],
   "name": "Copia de Clase práctica 27-09-21 - Ciclos.ipynb",
   "provenance": [
    {
     "file_id": "1Ss7FiL39wh036qggWWrlo7aKDTelqGeh",
     "timestamp": 1632780935313
    },
    {
     "file_id": "1xAQjMSDYcbbboh8m_9WXaYMH1SSGuIBd",
     "timestamp": 1632762604807
    },
    {
     "file_id": "12JEEA3IEaWpYphTR4mmvjYbFI39K_wwX",
     "timestamp": 1631719743151
    }
   ]
  },
  "kernelspec": {
   "display_name": "Python 3 (ipykernel)",
   "language": "python",
   "name": "python3"
  },
  "language_info": {
   "codemirror_mode": {
    "name": "ipython",
    "version": 3
   },
   "file_extension": ".py",
   "mimetype": "text/x-python",
   "name": "python",
   "nbconvert_exporter": "python",
   "pygments_lexer": "ipython3",
   "version": "3.8.12"
  }
 },
 "nbformat": 4,
 "nbformat_minor": 4
}
