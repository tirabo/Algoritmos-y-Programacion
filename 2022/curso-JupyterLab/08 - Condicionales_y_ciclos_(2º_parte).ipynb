{
  "cells": [
    {
      "cell_type": "markdown",
      "metadata": {
        "colab_type": "text",
        "id": "view-in-github"
      },
      "source": [
        "<a href=\"https://colab.research.google.com/github/tirabo/Algoritmos-y-Programacion/blob/main/06_Condicionales_y_ciclos_(2%C2%BA_parte).ipynb\" target=\"_parent\"><img src=\"https://colab.research.google.com/assets/colab-badge.svg\" alt=\"Open In Colab\"/></a>"
      ]
    },
    {
      "cell_type": "markdown",
      "metadata": {
        "id": "R22rHsKNE6_r"
      },
      "source": [
        "## 1. La instrucción `for`\n",
        "\n",
        "Ya hemos visto la instrucción `for`, la **cual** permite iterar una cantidad determinada de veces. El  equema general del `for` es\n",
        "```\n",
        "for <var> in <iterable>:\n",
        "    <instrucción(es)>\n",
        "```\n",
        "Aquí `<var>` denota una variable cualquiera e `<iterable>` es un objeto iterable,  es decir un objeto que puede ser recorrido secuencialmente, como puede ser una lista, un diccionario, un conjunto, etc.,  estructuras que veremos más adelante. \n",
        "\n",
        "El primer uso que dimos del `for` fue recorrer una lista de enteros de `0` a `n - 1` (para un `n` determinado) y  eso se hace con una instrucción del tipo:\n",
        "```\n",
        "for <var> in range(n):\n",
        "    <instrucción(es)>\n",
        "```\n",
        "Es decir `range(n)` es un iterable que contiene todos los números enteros de `0` a `n - 1`. El `for` la va dando a la variable todos los valores de `0` a `n - 1`  y en ese orden. Por ejemplo, \n"
      ]
    },
    {
      "cell_type": "code",
      "execution_count": null,
      "metadata": {
        "id": "lh3f8OWRE7Sc"
      },
      "outputs": [],
      "source": [
        "for i in range(5):\n",
        "    print(i)"
      ]
    },
    {
      "cell_type": "markdown",
      "metadata": {
        "id": "rRJ39DYtNlTO"
      },
      "source": [
        "imprime `0`, `1`, `2`, `3`, `4`, en ese orden. \n",
        "\n",
        "La  función `range()` además puede tomar otros argumentos: si `m`, `n` son dos enteros,  entonces `range(m, n)` es un iterable  que tiene todos los enteros de `m` a `n - 1`. Por  ejemplo,   "
      ]
    },
    {
      "cell_type": "code",
      "execution_count": null,
      "metadata": {
        "id": "trInLgs0Nlcd"
      },
      "outputs": [],
      "source": [
        "for i in range(3, 8):\n",
        "    print(i)"
      ]
    },
    {
      "cell_type": "markdown",
      "metadata": {
        "id": "V_HvB_eyFFg4"
      },
      "source": [
        "imprime `3`, `4`, `5`, `6`, `7`, en ese orden. Observar que\n"
      ]
    },
    {
      "cell_type": "code",
      "execution_count": null,
      "metadata": {
        "id": "tbDBS7B8OUOi"
      },
      "outputs": [],
      "source": [
        "for i in range(8, 3):\n",
        "    print(i)"
      ]
    },
    {
      "cell_type": "markdown",
      "metadata": {
        "id": "Yv_J4kgfOK05"
      },
      "source": [
        "Es un conjunto de instrucciones correcta pero no imprime nada porque el iterable `range(8, 3)` es vacío. \n",
        "\n",
        "La  función `range()` también puede tomar tres argumentos: si `m`, `n`, `k` son tres enteros,  entonces `range(m, n, k)` es un iterable  que tiene todos los enteros desde `m` al entero *anterior* a `n ` \"saltando\"  de `k` en `k`. Por  ejemplo,   "
      ]
    },
    {
      "cell_type": "code",
      "execution_count": null,
      "metadata": {
        "id": "k0BFZp0zFFot"
      },
      "outputs": [],
      "source": [
        "for i in range(8, 16, 2):\n",
        "    print(i)"
      ]
    },
    {
      "cell_type": "markdown",
      "metadata": {
        "id": "3E5tZnlQFFyG"
      },
      "source": [
        "imprime todo los enteros pares de `8` a `15`. Otro ejemplo:"
      ]
    },
    {
      "cell_type": "code",
      "execution_count": null,
      "metadata": {
        "id": "Fl5oTe_-FF7U"
      },
      "outputs": [],
      "source": [
        "for i in range(16, 8, -2):\n",
        "    print(i)"
      ]
    },
    {
      "cell_type": "markdown",
      "metadata": {
        "id": "HqhhOpPcFGFV"
      },
      "source": [
        "imprime todo los enteros pares de `16` a `10` en orden descendente. Es decir,  en este caso  `range(16, 8, -2)` representa los enteros `16`, `14`, `12`,  `10`, en ese orden.   \n",
        "\n",
        "Es importante observar que `range(m, n, 1)` es lo mismo que `range(m, n)` y  que `range(0, n, 1)` es lo mismo que `range(n)`. Si los argumentos de `range()` no son enteros obtenemos un error.\n",
        "\n",
        "Cerremos esta sección con un ejemplo:\n"
      ]
    },
    {
      "cell_type": "code",
      "execution_count": null,
      "metadata": {
        "id": "ERRPdc0OQ-b7"
      },
      "outputs": [],
      "source": [
        "def cuenta_regresiva(n: int):\n",
        "    # pre: n  es un entero positivo\n",
        "    # post: imprime los enteros de n a 1 y finalmente la palabra ¡Despegue!\n",
        "    for i in range(n, 0, -1):\n",
        "        print(i)\n",
        "    print('¡Despegue!')  \n",
        "\n",
        "cuenta_regresiva(10)"
      ]
    },
    {
      "cell_type": "markdown",
      "metadata": {
        "id": "oU6C_CAQRw4C"
      },
      "source": [
        "Observar que fue necesario poner como segundo argumento de `range()` el  número `0` pues el `for` recorre desde el  primer número (en este caso `10`) hasta el anterior a `0`,  que en este caso es `1`, pues el recorrido se hace de mayor a menor (eso es lo que indica el tercer parámetro de `range()`."
      ]
    },
    {
      "cell_type": "markdown",
      "metadata": {
        "id": "HjQjcqwiFGeI"
      },
      "source": [
        "## 2. La instrucción `while`\n",
        "\n",
        "Las computadoras se utilizan a menudo para automatizar tareas repetitivas. Repetir tareas idénticas o similares sin cometer errores es algo que las computadoras hacen bien y las personas lo hacen mal. En un programa de computadora, la repetición también se llama *iteración*.\n",
        "\n",
        "Python proporciona instrucciones para hacer iteración. Una es el enunciado `for` que vimos más arriba.\n",
        "\n",
        "Otra es el enunciado `while`. El uso del `while` nos permite ejecutar una sección de código repetidas veces, de ahí su nombre. El código se ejecutará mientras una condición determinada se cumpla. Cuando se deje de cumplir, se saldrá del bucle y se continuará la ejecución normal. Llamaremos *iteración* a una ejecución completa del bloque de código.\n",
        "\n",
        "La sintaxis es:\n",
        "```\n",
        "while <condición>:\n",
        "    <instrucción(es)>\n",
        "```\n",
        "Mienras se cumpla la `<condición>` se ejecutará el cuerpo del `while`,  es decir las `<instrucción(es)>`, y cuando esatas se terminen de ejecutar se  veulve a comprobar la `<condiciòn>`. Cuando deje de cumplirse la `<condición>`, la ejecución abandonará el `while` y pasará a la instrucción siguiente. \n",
        "\n",
        "Aquí hay una versión de `cuenta_regresiva()` que usa  `while`:"
      ]
    },
    {
      "cell_type": "code",
      "execution_count": null,
      "metadata": {
        "id": "Yn7Ry6HQFGn2"
      },
      "outputs": [],
      "source": [
        "def cuenta_regresiva(n: int):\n",
        "    # pre: n  es un entero positivo\n",
        "    # post: imprime los enteros de n a 1 y finalmente la palabra ¡Despegue!\n",
        "    while n > 0:\n",
        "        print(n)\n",
        "        n = n - 1\n",
        "    print ('¡Despegue!')\n",
        "\n",
        "cuenta_regresiva(10)"
      ]
    },
    {
      "cell_type": "markdown",
      "metadata": {
        "id": "4FwaYK0_FHHT"
      },
      "source": [
        "Si traducimos del inglés la palabra `while` (\"mientras\" en castellano) la declaración dice casi textualmente lo que hace: \"Mientras `n` es mayor  que `0`, imprimir `n` y luego disminuir `n` en `1`. Cuando llegués a `0`, imprimir `¡Despegue!`\"\n",
        "\n",
        "Más formalmente, aquí está el flujo de ejecución para una declaración `while`:\n",
        "\n",
        "1. Determinar si la condición es verdadera o falsa.\n",
        "2. Si es falsa, salir de la instrucción `while` y continuar la ejecución de la siguiente instrucción.\n",
        "3. Si la condición es verdadera, ejecutar el cuerpo y volver al paso 1.\n",
        "\n",
        "Este tipo de flujo se llama *bucle* o *ciclo* porque el tercer paso vuelve a la parte superior.\n",
        "\n",
        "El cuerpo del ciclo debe cambiar el valor de una o más variables para que la condición en algún momento se vuelva falsa y el ciclo termine. De lo contrario, el ciclo se repetirá para siempre, lo que se denomina *ciclo infinito*. \n",
        "\n",
        "En el caso de `cuenta_regresiva()` podemos probar que el ciclo termina: si `n` es negativo, el ciclo nunca se ejecuta. De lo contrario, `n` se vuelve más pequeño cada vez que pasa por el ciclo, por lo que siempre llegaremos a 0.\n",
        "\n",
        "Para algunos otros bucles, no es tan fácil de decir. Por ejemplo:"
      ]
    },
    {
      "cell_type": "code",
      "execution_count": null,
      "metadata": {
        "id": "6mvU-lKaFG9L"
      },
      "outputs": [],
      "source": [
        "def collatz(m: int): # tambien llamado \"Algoritmo de Siracusa\"\n",
        "    # pre: m > 0\n",
        "    # post: imprime el todos los n (intermedios y final) que resultan de aplicar el algoritmo de Collatz\n",
        "    n = m \n",
        "    while n != 1:\n",
        "        print(n)\n",
        "        if n % 2 == 0: # n es par\n",
        "            n = n // 2\n",
        "        else: # n es impar\n",
        "            n = n * 3 + 1\n",
        "    print(n)\n",
        "    print('fin de Collatz para m =', m)\n",
        "\n",
        "collatz(327)"
      ]
    },
    {
      "cell_type": "markdown",
      "metadata": {
        "id": "ICnkulTTFGyk"
      },
      "source": [
        "\n",
        "La condición para este ciclo es `n != 1`, por lo que el ciclo continuará hasta que `n` sea `1`, lo que hace que la condición sea falsa.\n",
        "\n",
        "Cada vez que pasa por el ciclo, el programa genera el valor de `n` y luego verifica si es par o impar. Si es par, `n` se divide por 2. Si es impar, el valor de `n` se reemplaza con `n * 3 + 1`. Por ejemplo, si el argumento pasado a `collatz()` es 3, los valores resultantes de `n` son 3, 10, 5, 16, 8, 4, 2, 1.\n"
      ]
    },
    {
      "cell_type": "code",
      "execution_count": null,
      "metadata": {
        "colab": {
          "base_uri": "https://localhost:8080/"
        },
        "id": "4zv4EwqQHuCX",
        "outputId": "8e8be757-7beb-4c56-b14e-f253e874ee1f"
      },
      "outputs": [
        {
          "name": "stdout",
          "output_type": "stream",
          "text": [
            "3\n",
            "10\n",
            "5\n",
            "16\n",
            "8\n",
            "4\n",
            "2\n",
            "1\n",
            "fin de Collatz para m = 3\n"
          ]
        }
      ],
      "source": [
        "collatz(3)\n",
        "# collatz(31242341) # probar para números grandes"
      ]
    },
    {
      "cell_type": "markdown",
      "metadata": {
        "id": "Rg_P46JQHvuA"
      },
      "source": [
        "Dado que `n` a veces aumenta y a veces disminuye, no hay pruebas obvias de que `n` alguna vez llegue a 1, o de que el programa finalice. Para algunos valores particulares de `n`, podemos probar la terminación. Por ejemplo, si el valor inicial es una potencia de dos, `n` será par y  mas chico cada vez que pase por el ciclo hasta que llegue a 1. El ejemplo anterior termina con una secuencia de este tipo, comenzando con 16.\n",
        "\n",
        "Otro ejemplo:"
      ]
    },
    {
      "cell_type": "code",
      "execution_count": null,
      "metadata": {
        "id": "_1k9xnicRB0b"
      },
      "outputs": [],
      "source": [
        "collatz(2**10)"
      ]
    },
    {
      "cell_type": "markdown",
      "metadata": {
        "id": "6hy2vNTMRB-A"
      },
      "source": [
        "La pregunta difícil es si podemos probar que este programa termina para *todos* los valores positivos de `n`. ¡Hasta ahora, nadie ha podido probarlo o refutarlo! (Ver en Wikipedia [\"Conjetura de Collatz\"](https://es.wikipedia.org/wiki/Conjetura_de_Collatz)).\n",
        "\n",
        "Veamos otro ejemplo del ciclo `while`. Definamos la función `raiz_entera()` que dado un entero no negativo  `n` devuelve la raíz cuadrada entera de `n`.\n",
        "\n",
        "*Definición.* Sea $n \\in \\mathbb N$. Entonces $k$ es la *raíz entera de $n$* si $$k^2 \\le n < (k+1)^2.$$\n",
        "\n",
        "Imprimiendo la lista de cuadrados de 1 a 19 podemos ver que la raíz entera de `200` es `14`."
      ]
    },
    {
      "cell_type": "code",
      "execution_count": null,
      "metadata": {
        "colab": {
          "base_uri": "https://localhost:8080/"
        },
        "id": "NDn9cYeevvtp",
        "outputId": "8c5d67eb-59da-4e9c-9f68-88b80ffbffb7"
      },
      "outputs": [
        {
          "name": "stdout",
          "output_type": "stream",
          "text": [
            "0 0\n",
            "1 1\n",
            "2 4\n",
            "3 9\n",
            "4 16\n",
            "5 25\n",
            "6 36\n",
            "7 49\n",
            "8 64\n",
            "9 81\n",
            "10 100\n",
            "11 121\n",
            "12 144\n",
            "13 169\n",
            "14 196\n",
            "15 225\n",
            "16 256\n",
            "17 289\n",
            "18 324\n",
            "19 361\n"
          ]
        }
      ],
      "source": [
        "for i in range(20):\n",
        "  print(i, i**2)"
      ]
    },
    {
      "cell_type": "markdown",
      "metadata": {
        "id": "fsiqa1NeSvCN"
      },
      "source": [
        "Obviamente el método anterior, \"por inspección\"  no es el más conveniente para encontrar la raíz entera de un número. \n",
        "\n",
        "A  continuación, una forma de implemetar la función raíz entera de `n`:"
      ]
    },
    {
      "cell_type": "code",
      "execution_count": null,
      "metadata": {
        "colab": {
          "base_uri": "https://localhost:8080/"
        },
        "id": "pcSClhiLFHRJ",
        "outputId": "e099f628-307b-486f-8c28-19524387c823"
      },
      "outputs": [
        {
          "name": "stdout",
          "output_type": "stream",
          "text": [
            "4\n",
            "14\n"
          ]
        }
      ],
      "source": [
        "def raiz_entera(n: int) -> int:\n",
        "    # pre: n >= 0\n",
        "    # post: devuelve k tal que k**2 <= n < (k + 1)**2\n",
        "    k = 0\n",
        "    while k**2 <= n:\n",
        "        k = k + 1\n",
        "    return k - 1 \n",
        "\n",
        "print(raiz_entera_n(17))\n",
        "print(raiz_entera(200))"
      ]
    },
    {
      "cell_type": "markdown",
      "metadata": {
        "id": "7pO6DSBmFHds"
      },
      "source": [
        "Observar que el ciclo termina debido a que en cada paso `k` aumenta en 1 y entonces en algún paso `k**2` va a superar a `n`. \n",
        "\n",
        "En  el ejemplo anterior no podemos reemplazar el `while` por un `for` debido que a priori no sabemos cuantos pasos debemos hacer."
      ]
    },
    {
      "cell_type": "markdown",
      "metadata": {
        "id": "2z6zqILjbeY5"
      },
      "source": [
        "## 3. ¿`break` o no `break`?\n",
        "\n",
        "La respuesta corta es (casi) nunca usar `break`, pero veamos primero que significa esta instrucción. \n",
        "\n",
        "A veces no es clara cual es la condición para terminar un bucle hasta que se llega a una parte intermedia del cuerpo de instrucciones. En ese caso, es posible utilizar la instrucción `break` para terminar el ciclo.\n",
        "\n",
        "Por ejemplo, suponga que desea recibir información que el usuario ingresa por teclado hasta que escribe `listo`. Podrías escribir:\n"
      ]
    },
    {
      "cell_type": "code",
      "execution_count": null,
      "metadata": {
        "id": "ZpYxqP8sFHmR"
      },
      "outputs": [],
      "source": [
        "while True:\n",
        "    linea = input('> ')\n",
        "    if linea == 'listo':\n",
        "        break\n",
        "    print(linea)\n",
        "print('¡Listo!')"
      ]
    },
    {
      "cell_type": "markdown",
      "metadata": {
        "id": "z-M_ya3kbfUs"
      },
      "source": [
        "\n",
        "\n",
        "La condición del bucle es `True`, que siempre es verdadera, por lo que el bucle se ejecuta hasta que llega a la sentencia `break`.\n",
        "\n",
        "Cada vez ingresa al cuerpo del `while` el programa  le muestra al usuario un corchete angular. Si el usuario escribe `listo`, la instrucción `break` termina el ciclo. De lo contrario, el programa imprime lo que escribe el usuario y vuelve al principio del ciclo. Aquí hay una muestra de ejecución:\n",
        "```\n",
        "> Hola\n",
        "Hola\n",
        "> listo\n",
        "¡Listo!\n",
        "```\n",
        "\n",
        "Sin embargo, no se recomienda escribir bucles con `break`. En  general, debe controlarse la iteración en el bucle por la condición que viene después del `while`. Agregar un medio para detener repentinamente el ciclo fuera del enfoque normal puede hacer que el código sea difícil de entender y depurar. En el código anterior podría haberse evitado fácilmente el uso del `break` con lo siguiente:"
      ]
    },
    {
      "cell_type": "code",
      "execution_count": null,
      "metadata": {
        "id": "FtTM0PGvbfgu"
      },
      "outputs": [],
      "source": [
        "linea = ''\n",
        "while linea != 'listo':\n",
        "    linea = input('> ')\n",
        "    print(linea)\n",
        "print('¡Listo!')"
      ]
    },
    {
      "cell_type": "markdown",
      "metadata": {
        "id": "3VIPcr6lyMdp"
      },
      "source": [
        "Otro ejemplo de lo que *no* hay que hacer:"
      ]
    },
    {
      "cell_type": "code",
      "execution_count": null,
      "metadata": {
        "colab": {
          "base_uri": "https://localhost:8080/"
        },
        "id": "qMhnjVEdxau1",
        "outputId": "05c37078-e211-4f3c-a9db-be627cfdc32c"
      },
      "outputs": [
        {
          "name": "stdout",
          "output_type": "stream",
          "text": [
            "14\n"
          ]
        }
      ],
      "source": [
        "def raiz_entera(n: int) -> int:\n",
        "    # pre: n >= 0\n",
        "    # post: devuelve k tal que k**2 <= n < (k + 1)**2\n",
        "    k = 0\n",
        "    for x in range(n):\n",
        "        if x**2 > n:\n",
        "            k = x -1\n",
        "            break\n",
        "    return k\n",
        "\n",
        "print(raiz_entera(200))"
      ]
    },
    {
      "cell_type": "markdown",
      "metadata": {
        "id": "oSqRUwVNfafH"
      },
      "source": [
        "Veamos otro ejemplo, ahora con el `for`: supongamos  que queremos averiguar si un número `n` es primo o no. Una forma sencilla de hacerlo es ir dividiendo por todos los números de `2` hasta `n-1` y si encontramos que uno de esos número divide a `n` el número es compuesto, en caso contrario es primo. Una implementación rápida podría ser"
      ]
    },
    {
      "cell_type": "code",
      "execution_count": null,
      "metadata": {
        "colab": {
          "base_uri": "https://localhost:8080/"
        },
        "id": "KSuTuVrdgK33",
        "outputId": "cbb99153-0ee0-42d5-dca5-32138d49bd24"
      },
      "outputs": [
        {
          "name": "stdout",
          "output_type": "stream",
          "text": [
            "3\n",
            "False\n"
          ]
        }
      ],
      "source": [
        "def es_primo(n: int) -> bool:\n",
        "    # pre: n > 0\n",
        "    # post: devuelve True si n  es primo, en caso contrario devuelve False\n",
        "    primo = True\n",
        "    for i in range(2, n):\n",
        "        if n % i == 0:\n",
        "            primo = False\n",
        "            print(i)\n",
        "            break\n",
        "    return primo\n",
        "\n",
        "print(es_primo(563456345634567)) # False\n",
        "# print(es_primo(563456345634569)) # True (tarda mucho)"
      ]
    },
    {
      "cell_type": "markdown",
      "metadata": {
        "id": "42Gf7Eudg7bV"
      },
      "source": [
        "Esta implementación es correcta y traduce eficientemente el algoritmo que habíamos pensado.  Sin embargo, \"romper\" un ciclo `for` con un `break`no es una práctica recomendada. En este caso, donde el código es muy sencillo, no habría problemas, pero para códigos más complejos,  como ya dijimos, puede traer problemas.\n",
        "\n",
        "Una propuesta sin el uso de `break`puede ser la siguiente:"
      ]
    },
    {
      "cell_type": "code",
      "execution_count": null,
      "metadata": {
        "colab": {
          "base_uri": "https://localhost:8080/"
        },
        "id": "UuQM_F_sh6JO",
        "outputId": "97076ecd-50c2-43c3-e89b-6424ad42af80"
      },
      "outputs": [
        {
          "name": "stdout",
          "output_type": "stream",
          "text": [
            "False\n"
          ]
        }
      ],
      "source": [
        "def es_primo(n: int) -> bool:\n",
        "    # pre: n > 0\n",
        "    # post: devuelve True si n  es primo, en caso contrario devuelve False\n",
        "    primo = True\n",
        "    i = 2\n",
        "    while i < n and primo == True:\n",
        "        if n % i == 0:\n",
        "            primo = False\n",
        "        i += 1\n",
        "    return primo\n",
        "\n",
        "print(es_primo(563456345634567)) # False"
      ]
    },
    {
      "cell_type": "markdown",
      "metadata": {
        "id": "GzECkc2piPKH"
      },
      "source": [
        "Obeservemos que el `for` debió ser reemplazado por el `while` puesto que estamos en el caso de un ciclo que no sabemos cuantas repeticiones tendrá.\n",
        "\n",
        "Hay muchas formas  de hacer este programa, usualmente podemos usar la negación de la condición que disparaba el `break` como una condición del `while`:"
      ]
    },
    {
      "cell_type": "code",
      "execution_count": null,
      "metadata": {
        "id": "6cjakvoVjm3w"
      },
      "outputs": [],
      "source": [
        "def es_primo(n: int) -> bool:\n",
        "    # pre: n > 0\n",
        "    # post: devuelve True si n  es primo, en caso contrario devuelve False\n",
        "    i = 2\n",
        "    while i < n and n % i != 0:\n",
        "        i += 1\n",
        "    if i < n:\n",
        "        return False\n",
        "    else: \n",
        "        return True\n",
        "        \n",
        "print(es_primo(563456345634567)) # False"
      ]
    },
    {
      "cell_type": "markdown",
      "metadata": {
        "id": "5ygpXiERkA7r"
      },
      "source": [
        "O la forma más concisa:"
      ]
    },
    {
      "cell_type": "code",
      "execution_count": null,
      "metadata": {
        "id": "RMw19YgYkEDD"
      },
      "outputs": [],
      "source": [
        "def es_primo(n: int) -> bool:\n",
        "    # pre: n > 0\n",
        "    # post: devuelve True si n  es primo, en caso contrario devuelve False\n",
        "    i = 2\n",
        "    while i < n and n % i != 0:\n",
        "        i += 1\n",
        "    return i == n "
      ]
    },
    {
      "cell_type": "markdown",
      "metadata": {
        "id": "v3VOTTs9bfp6"
      },
      "source": [
        "## 4. Método de Newton para la raíz cuadrada\n",
        "\n",
        "El *método de Newton* o de *Newton-Raphson* es un algoritmo para encontrar aproximaciones de los ceros o raíces de una función real. Una explicación completa se puede encontrar en Wikipedia en el artículo [Método de Newton](https://es.wikipedia.org/wiki/M%C3%A9todo_de_Newton). \n",
        "\n",
        "Se puede utilizar el  método de Newton para encontrar una aproximación numérica de la raíz cuadrada de un número real. Observar que si $a >0$\n",
        "$$\n",
        "b = \\sqrt{a}\\quad \\Leftrightarrow \\quad b^2 = a \\quad\\Leftrightarrow\\quad b^2-a=0.\n",
        "$$\n",
        "Es decir, $\\sqrt{a}$ es raíz de la función $f(x) = x^2 -a$. El algorimo que se obtiene de aplicar el  método de Newton a $f$ se puede describir de la siguiente forma: \n",
        "1. Sea $x_0$ un valor inicial arbitrario ($>0$). \n",
        "2. Sea \n",
        "\\begin{equation}\n",
        "x_{n+1} = \\frac12(x_n + \\frac{a}{x_n}) \\tag{*}\n",
        "\\end{equation}\n",
        "para $n \\ge 0$. \n",
        "3. Aplique la fórmula (*) desde $n=0$ en adelante hasta obtener un $x_n$ que se aproxime \"lo suficiente\".\n",
        "\n",
        "En el ítem 3. la frase \"lo suficiente\" no es del todo clara y  trataremos de interpretarla a lo largo de la sección.\n",
        "\n",
        "Veamos como funciona en algún caso particular, por ejemplo, si $a$ es $4$ y $x_0$ es $3$. De ahora en más, por ser más cómodo; llamaremos $x$  a $x_n$ (el valor original) e $y$ a $x_{n+1}$ (el valor que se obtiene), luego la primera aproximación a $\\sqrt{4} =2$ es \n"
      ]
    },
    {
      "cell_type": "code",
      "execution_count": null,
      "metadata": {
        "colab": {
          "base_uri": "https://localhost:8080/"
        },
        "id": "vKZOkNKjbfy4",
        "outputId": "0578fbe8-543e-453b-87b7-761d279120bb"
      },
      "outputs": [
        {
          "data": {
            "text/plain": [
              "2.1666666666666665"
            ]
          },
          "execution_count": 100,
          "metadata": {},
          "output_type": "execute_result"
        }
      ],
      "source": [
        "a = 4\n",
        "x = 3\n",
        "y = (1/2)*(x + a/x)\n",
        "\n",
        "y"
      ]
    },
    {
      "cell_type": "markdown",
      "metadata": {
        "id": "lW51NjoXbf8B"
      },
      "source": [
        "El resultado es `2.1666666666666665` que está más cerca que `3` de la respuesta correcta ($\\sqrt{4} = 2$). Si nosotros repetimos el proceso con la nueva estimación, se acerca aún más:\n"
      ]
    },
    {
      "cell_type": "code",
      "execution_count": null,
      "metadata": {
        "colab": {
          "base_uri": "https://localhost:8080/"
        },
        "id": "6GzSJcFrbgE-",
        "outputId": "81074621-3753-476e-9200-b7d58adf514d"
      },
      "outputs": [
        {
          "data": {
            "text/plain": [
              "2.0064102564102564"
            ]
          },
          "execution_count": 65,
          "metadata": {},
          "output_type": "execute_result"
        }
      ],
      "source": [
        "x = y\n",
        "y = (1/2)*(x + a/x)\n",
        "\n",
        "y"
      ]
    },
    {
      "cell_type": "markdown",
      "metadata": {
        "id": "l2ks9L7rbgPc"
      },
      "source": [
        "De la celda anterior obtenemos `2.0064102564102564`. Después de algunas actualizaciones más, la estimación es muy precisa:"
      ]
    },
    {
      "cell_type": "code",
      "execution_count": null,
      "metadata": {
        "colab": {
          "base_uri": "https://localhost:8080/"
        },
        "id": "1JgqkRFobgaR",
        "outputId": "3fbc29f2-cf61-4861-9af3-a5c5ac9f68d0"
      },
      "outputs": [
        {
          "data": {
            "text/plain": [
              "2.0000000000262146"
            ]
          },
          "execution_count": 66,
          "metadata": {},
          "output_type": "execute_result"
        }
      ],
      "source": [
        "x = y\n",
        "y = (1/2)*(x + a/x)\n",
        "x = y\n",
        "y = (1/2)*(x + a/x)\n",
        "\n",
        "y"
      ]
    },
    {
      "cell_type": "markdown",
      "metadata": {
        "id": "9qrl_WUm8X4W"
      },
      "source": [
        "Finalmente,  con una aproximación más obtenemos el resultado exacto: "
      ]
    },
    {
      "cell_type": "code",
      "execution_count": null,
      "metadata": {
        "colab": {
          "base_uri": "https://localhost:8080/"
        },
        "id": "XHZ-OT_N8YCs",
        "outputId": "5b784130-5397-4a8b-fc26-074bd4319d78"
      },
      "outputs": [
        {
          "data": {
            "text/plain": [
              "2.0"
            ]
          },
          "execution_count": 67,
          "metadata": {},
          "output_type": "execute_result"
        }
      ],
      "source": [
        "x = y\n",
        "y = (1/2)*(x + a/x)\n",
        "\n",
        "y"
      ]
    },
    {
      "cell_type": "markdown",
      "metadata": {
        "id": "qfyJxcFt7hUC"
      },
      "source": [
        "En general, no sabemos de antemano cuántos pasos se necesitan para llegar a la respuesta correcta, pero sabemos cuándo llegamos porque la estimación\n",
        "deja de cambiar:"
      ]
    },
    {
      "cell_type": "code",
      "execution_count": null,
      "metadata": {
        "colab": {
          "base_uri": "https://localhost:8080/"
        },
        "id": "uuUEI_9_7hbQ",
        "outputId": "24d172f3-8b01-4505-c688-01e6a4e3628f"
      },
      "outputs": [
        {
          "data": {
            "text/plain": [
              "2.0"
            ]
          },
          "execution_count": 68,
          "metadata": {},
          "output_type": "execute_result"
        }
      ],
      "source": [
        "x = y\n",
        "y = (1/2)*(x + a/x)\n",
        "\n",
        "y"
      ]
    },
    {
      "cell_type": "markdown",
      "metadata": {
        "id": "pAAuPwpK7hkP"
      },
      "source": [
        "Cuando `y == x`, podemos detenernos. Aquí hay un bucle que comienza\n",
        "con una estimación inicial, `x`, y la mejora hasta que deja de cambiar. Podemos escribir la función `raiz_cuadrada()` de la siguiente forma:\n"
      ]
    },
    {
      "cell_type": "code",
      "execution_count": null,
      "metadata": {
        "colab": {
          "base_uri": "https://localhost:8080/"
        },
        "id": "eI8lPcie7hs1",
        "outputId": "13b1d5ed-52f5-4bc1-87cf-94d423e014fe"
      },
      "outputs": [
        {
          "name": "stdout",
          "output_type": "stream",
          "text": [
            "2.0 4.0\n",
            "3.0 9.0\n",
            "5.477225575051661 30.0\n",
            "10.04987562112089 101.0\n",
            "10.099504938362077 101.99999999999999\n"
          ]
        }
      ],
      "source": [
        "def raiz_cuadrada(a: float) -> float:\n",
        "    # pre: a > 0\n",
        "    # post: devuelve y una aproximación de la raíz cuadrada de a\n",
        "    x = a / 2 # aproximamos la raíz de a por a/2\n",
        "    y = (1/2)*(x + a/x)\n",
        "    while y != x:\n",
        "        x = y # el último calculado pasa a ser el que se usa para calcular el próximo\n",
        "        y = (1/2)*(x + a/x)\n",
        "    return y\n",
        "\n",
        "print(raiz_cuadrada(4), raiz_cuadrada(4)**2)\n",
        "print(raiz_cuadrada(9), raiz_cuadrada(9)**2)\n",
        "print(raiz_cuadrada(30), raiz_cuadrada(30)**2)\n",
        "print(raiz_cuadrada(101), raiz_cuadrada(101)**2)\n",
        "print(raiz_cuadrada(102), raiz_cuadrada(102)**2)"
      ]
    },
    {
      "cell_type": "markdown",
      "metadata": {
        "id": "Zj48R0CC7h04"
      },
      "source": [
        "Para muchos de los valores de `a` esto funciona bien, pero en general no es recomendable probar la igualdad de dos `float`. Los valores de coma flotante son solo aproximadamente correctos: la mayoría de los números racionales, como $ 1/3 $, y los números irracionales, como $\\sqrt{2}$, no se pueden representar exactamente con un `float`.\n",
        "\n",
        "En lugar de comprobar si `x` e `y` son exactamente iguales, es más seguro usar la función `abs` que devuelve el valor absoluto de un número real:  detenemos el bucle cuando `abs(x - y)` es menor que un error que consideramos aceptable. Redefinamos la función:"
      ]
    },
    {
      "cell_type": "code",
      "execution_count": null,
      "metadata": {
        "colab": {
          "base_uri": "https://localhost:8080/"
        },
        "id": "EmotVaV07h98",
        "outputId": "031389b5-77d8-4e14-b6cd-a934a592acd7"
      },
      "outputs": [
        {
          "name": "stdout",
          "output_type": "stream",
          "text": [
            "2.0 4.0\n",
            "3.0000000000393214 9.000000000235929\n",
            "5.477225575302472 30.0000000027475\n",
            "10.049875621244148 101.00000000247745\n",
            "10.099504938503184 102.0000000028502\n"
          ]
        }
      ],
      "source": [
        "def raiz_cuadrada(a: float) -> float:\n",
        "    # pre: a > 0\n",
        "    # post: devuelve y una aproximación de la raíz cuadrada de a\n",
        "    x = a / 2 # aproximamos la raíz de a por a/2\n",
        "    y = (1/2)*(x + a/x)\n",
        "    error = 0.0001\n",
        "    while abs(x - y) > error:\n",
        "        x = y\n",
        "        y = (1/2)*(x + a/x)\n",
        "    return y\n",
        "\n",
        "print(raiz_cuadrada(4), raiz_cuadrada(4)**2)\n",
        "print(raiz_cuadrada(9), raiz_cuadrada(9)**2)\n",
        "print(raiz_cuadrada(30), raiz_cuadrada(30)**2)\n",
        "print(raiz_cuadrada(101), raiz_cuadrada(101)**2)\n",
        "print(raiz_cuadrada(102), raiz_cuadrada(102)**2)"
      ]
    },
    {
      "cell_type": "markdown",
      "metadata": {
        "id": "15isWc-3DjtS"
      },
      "source": [
        "Esta última sería la forma más correcta de escribir la función. La primera forma depende mucho de la implementación del compilador y se pueden obtener resultados inciertos."
      ]
    },
    {
      "cell_type": "markdown",
      "metadata": {
        "id": "AQacMVGhibPD"
      },
      "source": [
        "##5. Programación defensiva \n",
        "\n",
        "‎El primer paso para obtener las resultados correctos de nuestros programas es asumir que los errores ‎‎sucederán‎‎ y protegerse contra ellos. Esto se llama ‎‎programación defensiva, ‎‎y la forma más común de hacerlo es agregar ‎‎aserciones‎‎ a nuestro código para que se compruebe a sí mismo a medida que se ejecuta. Una *aserción* es simplemente una declaración de que algo debe ser cierto en un cierto punto de un programa. La sintaxis de la aserción es la siguiente\n",
        "\n",
        "```\n",
        "assert condición, 'Cadena  que se imprime cuando condición == False'\n",
        "```\n",
        "\n",
        "\n",
        "\n",
        "Cuando Python ve una aserción, evalúa la condición de la aserción. Si es cierta, Python no hace nada, pero si es falsa, Python detiene el programa inmediatamente e imprime el mensaje de error explicitado por el programador. Por ejemplo, este fragmento de código suma todos los números de una lista de números positivos:\n"
      ]
    },
    {
      "cell_type": "code",
      "execution_count": null,
      "metadata": {
        "colab": {
          "base_uri": "https://localhost:8080/"
        },
        "id": "THihhUwziwKq",
        "outputId": "ff0ab7b9-4d26-40ae-fae3-4bfb60d8cd65"
      },
      "outputs": [
        {
          "name": "stdout",
          "output_type": "stream",
          "text": [
            "El total es: 8.901\n"
          ]
        }
      ],
      "source": [
        "numeros = [1.5, 2.3, 0.7, 0.001, 4.4]\n",
        "total = 0.0\n",
        "for n in numeros:\n",
        "    assert n > 0.0, 'Los datos solo deben contener valores positivos (' + str(n) + ' <= 0).'\n",
        "    total += n\n",
        "print('El total es:', total)"
      ]
    },
    {
      "cell_type": "markdown",
      "metadata": {
        "id": "JjwfI58xzqqY"
      },
      "source": [
        "En  caso que la lista de números contenga un número no positivo,  obtendremos un error por el `assert`:"
      ]
    },
    {
      "cell_type": "code",
      "execution_count": null,
      "metadata": {
        "id": "UX0btmvRz2zj"
      },
      "outputs": [],
      "source": [
        "numeros = [1.5, 2.3, 0.7, -0.001, 4.4]\n",
        "total = 0.0\n",
        "for n in numeros:\n",
        "    assert n > 0.0, 'Los datos solo deben contener valores positivos (' + str(n) + ' <= 0).'\n",
        "    total += n\n",
        "print('El total es:', total)"
      ]
    },
    {
      "cell_type": "markdown",
      "metadata": {
        "id": "guHfD7NP0AjJ"
      },
      "source": [
        "###Precondiciones y postcondiciones (revisado)\n",
        "Repasemos el concepto de precondición y postcondición y veamos que en algunos casos pueden verificarse con el comando `assert`. Como ya vimos, las *precondiciones* y *postcondiciones* son anotaciones dentro del cuerpo de una función que nos sirven para saber como deben ser los parámetros que recibe la función y  que es lo que hace la función:\n",
        "\n",
        "- *Precondición:* es algo que debe ser cierto cuando comienza la la función, para que esta funcione correctamente.\n",
        "- *Postcondición:* es algo que la función garantiza cierto cuando la misma termina. \n",
        "\n",
        "Las precondiciones y postcondiciones son parte de la documentación del programa y suelen escribirse como comentarios formales cuando se puede, o en caso contrario informales.\n",
        "\n",
        "En el caso que se puedan formalizar en Python,  se pueden reemplazar o completar con `assert`.\n",
        "\n",
        "Veamos un ejemplo con el máximo común divisor. La función escrita en la siguiente celda de código determina  el máximo común divisor de `a` y `b` cuando `a` y `b` son enteros no negativos y uno de ellos es mayor que 0. \n",
        "\n",
        "El algoritmo se basa en la dos propiedades siguientes: si $x$, $y$  son enteros,  con $y$ no nulo,  entonces:\n",
        "\\begin{align}\n",
        "\\operatorname{mcd}(x, y) &= \\operatorname{mcd}(x, y - x) \\\\\n",
        "\\operatorname{mcd}(0, y) &= y.\n",
        "\\end{align}"
      ]
    },
    {
      "cell_type": "code",
      "execution_count": null,
      "metadata": {
        "id": "4cfEdgrM3-La"
      },
      "outputs": [],
      "source": [
        "# 1º versión. \n",
        "def mcd(a, b: int) -> int:\n",
        "    x, y = min(a, b), max(a, b)\n",
        "    while x != 0: # \"mientras x distinto de 0\" \n",
        "        x, y = min(x, y - x), max(x, y - x)\n",
        "    return y\n",
        "\n",
        "mcd(15, 24)\n",
        "# mcd(-3, 2)"
      ]
    },
    {
      "cell_type": "markdown",
      "metadata": {
        "id": "CQbh3XNNHBTl"
      },
      "source": [
        "Esta función se comporta bien mientras `a` y `b` cumplan que son no negativos y al menos uno sea no nulo. Verificar, por ejemplo, que\n",
        "\n",
        "\n",
        "```\n",
        "mcd(-3, 2)\n",
        "```\n",
        "es una instrucción que no termina.\n",
        "\n",
        "Agreguemos ahora precondiciones y postcondiciones de manera informal:\n",
        "\n",
        "\n"
      ]
    },
    {
      "cell_type": "code",
      "execution_count": null,
      "metadata": {
        "id": "TElaRuxx1dfd"
      },
      "outputs": [],
      "source": [
        "# 2º versión. \n",
        "def mcd(a, b: int) -> int:\n",
        "    # pre: a y b no negativos, al menos uno de ellos no nulo.\n",
        "    # post: devuelve el mcd de a y b\n",
        "    x, y = min(a, b), max(a, b)\n",
        "    while x != 0: # \"mientras x distinto de 0\" \n",
        "      x, y = min(x, y - x), max(x, y - x)\n",
        "    return y"
      ]
    },
    {
      "cell_type": "markdown",
      "metadata": {
        "id": "xgPp3EqLD0_l"
      },
      "source": [
        "En  la tercera versión la precondición se escribe de manera formal, pero sigue siendo un comentario:"
      ]
    },
    {
      "cell_type": "code",
      "execution_count": null,
      "metadata": {
        "id": "VvQQvyPh2Rf9"
      },
      "outputs": [],
      "source": [
        "# 3º versión\n",
        "def mcd(a, b: int) -> int:\n",
        "    # pre: (a >= 0 and b >=0) and (a != 0 or b != 0).\n",
        "    # post: devuelve el mdc de a y b\n",
        "    x, y = min(a, b), max(a, b)\n",
        "    while x != 0: # \"mientras x distinto de 0\" \n",
        "      x, y = min(x, y - x), max(x, y - x)\n",
        "    return y"
      ]
    },
    {
      "cell_type": "markdown",
      "metadata": {
        "id": "zO95CrpMD_-1"
      },
      "source": [
        "La tercera versión no difiere en nada, al tiempo de ejecutarse, a la segunda versión, por lo tanto existe la posiblidad de entrar en un ciclo infinito para ciertos valores de `a`  y `b`.\n",
        "\n",
        "En  la tercera versión hemos formalizado la precondición en lenguaje Python y por lo tanto  la podemos formalizar programáticamente con un `assert`:"
      ]
    },
    {
      "cell_type": "code",
      "execution_count": null,
      "metadata": {
        "id": "3j6SIAWB2ziP"
      },
      "outputs": [],
      "source": [
        "# 4º versión\n",
        "def mcd(a, b: int) -> int:\n",
        "    # pre: (a >= 0 and b >=0) and (a != 0 or b != 0).\n",
        "    assert type(a) == int and type(b) == int and (a >= 0 and b >=0) and (a != 0 or b != 0), \"Los parámetros deben ser enteros no negativos, al menos uno de ellos no nulo\"\n",
        "    # post: devuelve el mdc de a y b\n",
        "    x, y = min(a, b), max(a, b)\n",
        "    while x != 0: # \"mientras x distinto de 0\" \n",
        "      x, y = min(x, y - x), max(x, y - x)\n",
        "    return y\n",
        "\n",
        "print(mcd(15, 24))\n",
        "# print(mcd(-3, 2))"
      ]
    },
    {
      "cell_type": "markdown",
      "metadata": {
        "id": "cK11z4vzJ1Vw"
      },
      "source": [
        "Esta cuarta versión produce un error y detiene el programa cuando `a` y `b` no cumplen la precondición. En  este caso el `assert` nos garantiza que no se producirá un ciclo infinito y por lo tanto juega un rol importante em el programa. \n",
        "\n",
        "En el caso de la función `mcd()` formalizar matemáticamente la  postcondición es posible, pero no es sencillo implementarla en Python. Por lo tanto la podemos dejar escrita de manera informal o la escribimos con el fomalismo de la matemática, pero sin hacer un `assert` para verificarla. \n",
        "\n",
        "Por otro  lado, hacer un `assert` para la postcondición no parece razonable, puesto que si la función está bien implementada la postcondición siempre debe cumplirse y si ocurriera en algún caso que no se cumple es porque la función está mal definida. \n"
      ]
    },
    {
      "cell_type": "code",
      "execution_count": null,
      "metadata": {
        "id": "UZMRX0H9KnFX"
      },
      "outputs": [],
      "source": [
        "# 5º versión\n",
        "def mcd(a, b: int) -> int:\n",
        "    # pre: (a >= 0 and b >=0) and (a != 0 or b != 0).\n",
        "    assert type(a) == int and type(b) == int and (a >= 0 and b >=0) and (a != 0 or b != 0), \"Los parámetros deben ser enteros no negativos, al menos uno de ellos no nulo\"\n",
        "    # post: devuelve d tal que\n",
        "    #       1) a % d == 0 and b % d == 0, y\n",
        "    #       2) si c entero y (a % c == 0 and b % c == 0) => d % c == 0\n",
        "    x, y = min(a, b), max(a, b)\n",
        "    while x != 0: # \"mientras x distinto de 0\" \n",
        "      x, y = min(x, y - x), max(x, y - x)\n",
        "    return y"
      ]
    }
  ],
  "metadata": {
    "colab": {
      "authorship_tag": "ABX9TyOUXLyQNrvieQ0OcGBwoUKC",
      "collapsed_sections": [],
      "include_colab_link": true,
      "name": "06 - Condicionales y ciclos (2º parte).ipynb",
      "provenance": []
    },
    "kernelspec": {
      "display_name": "Python 3",
      "name": "python3"
    },
    "language_info": {
      "name": "python"
    }
  },
  "nbformat": 4,
  "nbformat_minor": 0
}
