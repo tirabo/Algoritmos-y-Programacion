{
 "cells": [
  {
   "cell_type": "markdown",
   "metadata": {
    "id": "cqwOuvHlYGKz"
   },
   "source": [
    "# Variables, expresiones y sentencias"
   ]
  },
  {
   "cell_type": "markdown",
   "metadata": {
    "id": "uaYJ-f7lYsNo"
   },
   "source": [
    "## 5. Asignaciones\n",
    "Una *asignación* crea una nueva variable y le da un valor:"
   ]
  },
  {
   "cell_type": "code",
   "execution_count": 1,
   "metadata": {
    "id": "g0WNnlM4Y-eV"
   },
   "outputs": [],
   "source": [
    "mensaje = 'Y ahora algo completamente diferente'\n",
    "n = 17\n",
    "pi = 3.1415926535897932"
   ]
  },
  {
   "cell_type": "markdown",
   "metadata": {
    "id": "ANqX88jrZQEm"
   },
   "source": [
    "Este ejemplo hace tres asignaciones. La primera asigna una cadena a una nueva variable llamada `mensaje`; la segunda asigna el número entero `17` a `n` y  la tercera asigna el valor (aproximado) de $\\pi$ a `pi`.\n"
   ]
  },
  {
   "cell_type": "code",
   "execution_count": null,
   "metadata": {
    "colab": {
     "base_uri": "https://localhost:8080/"
    },
    "executionInfo": {
     "elapsed": 258,
     "status": "ok",
     "timestamp": 1630351113246,
     "user": {
      "displayName": "Alejandro Leopoldo Tiraboschi",
      "photoUrl": "https://lh3.googleusercontent.com/a-/AOh14Gir321Aip7u2JtD7LMLQbY3a1oHsAD11CVed_UbeFc=s64",
      "userId": "02370857492204546552"
     },
     "user_tz": 180
    },
    "id": "L71mMpCvfjBM",
    "outputId": "ff33efe5-0161-4ddf-8d5d-4b846ddaca4b"
   },
   "outputs": [
    {
     "name": "stdout",
     "output_type": "stream",
     "text": [
      "Y ahora algo completamente diferente\n",
      "17\n",
      "3.141592653589793\n"
     ]
    },
    {
     "data": {
      "text/plain": [
       "6.283185307179586"
      ]
     },
     "execution_count": 4,
     "metadata": {},
     "output_type": "execute_result"
    }
   ],
   "source": [
    "print(mensaje)\n",
    "print(n)\n",
    "print(pi)\n",
    "2 * pi "
   ]
  },
  {
   "cell_type": "markdown",
   "metadata": {
    "id": "QHDk0vTwe-7w"
   },
   "source": [
    "## 6.  Nombres de variables y palabras reservadas\n",
    "Como norma general, los programadores eligen nombres significativos para sus\n",
    "variables: esto permite documentar para qué se usa la variable.\n",
    "\n",
    "Los nombres de las variables pueden tener una longitud arbitraria. Pueden estar\n",
    "formados por letras y números, pero deben comenzar con una letra o un guión bajo (`_`). Aunque es aceptable usar mayúsculas, por convención no lo haremos. Si lo hace, recuerde\n",
    "que la distinción es importante: `Bruno` y `bruno` son dos variables diferentes.\n",
    "\n",
    "El guión bajo (`_`) también es legal y se utiliza a menudo para separar nombres con múltiples palabras, como `mi_nombre` o `precio_del_cafe_colombiano` o incluso el caracter simple se utiliza como variable.\n",
    "\n"
   ]
  },
  {
   "cell_type": "code",
   "execution_count": null,
   "metadata": {
    "id": "odSLjpbmfJHx"
   },
   "outputs": [],
   "source": [
    "Bruno_dias = 5\n",
    "bruno = 6\n",
    "_ = 38\n",
    "_empleado = 'Juan Pérez'"
   ]
  },
  {
   "cell_type": "markdown",
   "metadata": {
    "id": "CP0Gen94uybc"
   },
   "source": [
    "\n",
    "Si intentas darle a una variable un nombre ilegal, obtendrás un error de sintaxis."
   ]
  },
  {
   "cell_type": "code",
   "execution_count": null,
   "metadata": {
    "id": "SUUMtG4puxVK"
   },
   "outputs": [],
   "source": [
    "76trombones = \"gran desfile\""
   ]
  },
  {
   "cell_type": "code",
   "execution_count": null,
   "metadata": {
    "id": "8f5wQxyzuxfz"
   },
   "outputs": [],
   "source": [
    "mas$ = 1000000"
   ]
  },
  {
   "cell_type": "code",
   "execution_count": null,
   "metadata": {
    "id": "riqPVtkTuxqF"
   },
   "outputs": [],
   "source": [
    "class = \"Curso de Programación 101\""
   ]
  },
  {
   "cell_type": "markdown",
   "metadata": {
    "id": "t9EzTKdXfQxU"
   },
   "source": [
    "`76trombones` es ilegal porque no comienza por una letra o guón bajo. `mas$` es ilegal porque contiene un carácter ilegal, el signo pesos. Pero ¿qué tiene de malo `class`?\n",
    "\n",
    "Resulta que `class` es una de las palabras reservadas de Python. El lenguaje\n",
    "usa las palabras reservadas para definir sus reglas y estructura, y no pueden\n",
    "usarse como nombres de variables.\n",
    "\n",
    "Python 3 tiene las siguientes palabras reservadas:\n",
    "\n",
    "|      |     |     |      |     |\n",
    "| :------------- | :---------- | :----------- | :----------- | :----------- | \n",
    "| `False`| `class`| `finally`| `is`| `return`| \n",
    "| `None`| `continue`| `for`| `lambda`| `try`|\n",
    "| `True`| `def`| `from`| `nonlocal`| `while`| \n",
    "| `and`| `del`| `global`| `not`| `with`|\n",
    "| `as`| `elif`| `if`| `or`| `yield`|\n",
    "| `assert`| `else`| `import`| `pass`| \n",
    "| `break`| `except`| `in`| `raise`| \n",
    "\n",
    "Tal vez quieras mantener esta lista a mano. \n",
    "\n",
    "Si el intérprete se queja de alguno de sus nombres de variable, y  no sabés por qué, comprobá si está en esta lista.\n"
   ]
  },
  {
   "cell_type": "markdown",
   "metadata": {
    "id": "DD3tWboOfXLj"
   },
   "source": [
    "\n",
    "\n",
    "## 7. Expresiones y sentencias\n",
    "\n",
    "Una *expresión* es una combinación de valores, variables y operadores. Un valor en sí mismo se considera una expresión y, por lo tanto, una variable también es una expresión. \n",
    "\n",
    "Por ejemplo,  si hacemos la asignación\n",
    "\n"
   ]
  },
  {
   "cell_type": "code",
   "execution_count": null,
   "metadata": {
    "id": "UOBAuFbqaSiu"
   },
   "outputs": [],
   "source": [
    "n = 17"
   ]
  },
  {
   "cell_type": "markdown",
   "metadata": {
    "id": "OBqedtTyaZNs"
   },
   "source": [
    "\n",
    "Entonces, las siguientes son todas expresiones legales:\n",
    "```\n",
    "42\n",
    "n\n",
    "n + 25\n",
    "```\n",
    "Cuando escribís una expresión en el prompt o en una celda de código y la ejecutás, el intérprete la evalúa, lo que significa que encuentra el valor de la expresión. En este ejemplo, en la primer línea el intérprete sabe que hay un valor `42`.  En la tercera línea  `n` tiene el valor `17` y en la última `n + 25` tiene el valor `42`.\n",
    "\n",
    "Una *sentencia* es una instrucción que puede ejecutar el intérprete de Python. Hemos visto dos tipos de sentencias: `print` y la asignación."
   ]
  },
  {
   "cell_type": "code",
   "execution_count": null,
   "metadata": {
    "id": "CgZrBaJ6fRIr"
   },
   "outputs": [],
   "source": [
    "print(1)\n",
    "x = 2\n",
    "print(x)"
   ]
  },
  {
   "cell_type": "markdown",
   "metadata": {
    "id": "c2cOnko2flTg"
   },
   "source": [
    "Cuando escibís una sentencia en la lı́nea de comandos, Python la ejecuta\n",
    "y muestra el resultado (si lo hay). En  el caso del Colab, solo se muestra el valor de la última sentencia en la secuencia. \n",
    "\n",
    "Las sentencias de asignación no entregan ningún resultado.\n",
    "\n"
   ]
  },
  {
   "cell_type": "code",
   "execution_count": null,
   "metadata": {
    "id": "PEyJ7qU1gV1A"
   },
   "outputs": [],
   "source": [
    "millas = 26.2\n",
    "millas * 1.61\n",
    "millas * 2"
   ]
  },
  {
   "cell_type": "markdown",
   "metadata": {
    "id": "OVulQn54jx4X"
   },
   "source": [
    "## 8. Operaciones de cadena\n",
    "\n",
    "En general, no es posible realizar operaciones matemáticas con cadenas, incluso si las cadenas parecen números, por lo que lo siguiente es ilegal:\n",
    "\n",
    "\n",
    "```\n",
    "'2' * '3'  \n",
    "'huevos' / 'fácil'  \n",
    "'tercero' * 'un amuleto'\n",
    "```\n",
    "Pero hay dos excepciones, `+` y `*`.\n",
    "\n",
    "El operador `+` realiza la concatenación de cadenas, lo que significa que une las cadenas vinculándolas de un extremo a otro. Por ejemplo:\n"
   ]
  },
  {
   "cell_type": "code",
   "execution_count": null,
   "metadata": {
    "id": "cBVGO_ORkPlY"
   },
   "outputs": [],
   "source": [
    "primero = 'sobre'\n",
    "segundo = 'todo'\n",
    "print(primero + segundo)"
   ]
  },
  {
   "cell_type": "markdown",
   "metadata": {
    "id": "WS1G6VcKkVxr"
   },
   "source": [
    "\n",
    "El operador `*` también trabaja con cadenas; realiza repetición. Por ejemplo, `'Spam' * 3` es `'SpamSpamSpam'`. Si uno de los valores es una cadena, el otro debe ser un número entero.\n",
    "\n"
   ]
  },
  {
   "cell_type": "code",
   "execution_count": null,
   "metadata": {
    "id": "GnBTaujJ5bbV"
   },
   "outputs": [],
   "source": [
    "print('Spam' * 3)\n",
    "print(2 * 'Spam')"
   ]
  },
  {
   "cell_type": "markdown",
   "metadata": {
    "id": "1bdm-jqL5tkN"
   },
   "source": [
    "Este uso de `+` y `*` tiene sentido por analogía con la suma y la multiplicación. Así como `4 * 3` es equivalente a `4 + 4 + 4`, esperamos que `'Spam' * 3` sea lo mismo que `'Spam' + 'Spam' + 'Spam'`, y lo es. Hay muchas propiedades de la suma y multiplicación de enteros  que se aplican a la suma y multiplicación de cadenas. Por ejemplo, las asociatividad de la suma vale para ambos contextos.  \n",
    "\n",
    "También existe un elemento neutro de la suma y  es la _cadena vacía_ `''`. \n",
    "\n",
    "Por otro lado, la conmutatividad no es una propiedad que vale para la concatenación de cadenas ¿Podés pensar en otra propiedad que tenga la suma de enteros y que no tenga la concatenación de cadenas?"
   ]
  },
  {
   "cell_type": "markdown",
   "metadata": {
    "id": "QOX1Y2S7lzKF"
   },
   "source": [
    "\n",
    "## 9. Comentarios de Python\n",
    "\n",
    "A medida que los programas se hacen más grandes y complicados, se vuelven más difíciles de leer. Los lenguajes formales son densos y, a menudo, es difícil mirar un fragmento de código y averiguar qué está haciendo o por qué.\n",
    "\n",
    "Por esta razón, es una buena idea agregar anotacioness a tus programas para explicar en lenguaje natural lo que está haciendo el programa. Estas anotaciones o notas se denominan _comentarios_ y comienzan con el símbolo `#`:\n",
    "```\n",
    "# calcula el porcentaje de la hora que ha transcurrido\n",
    "porcentaje = (minuto * 100) / 60\n",
    "```\n",
    "En este caso, el comentario aparece en una línea aparte. También se pueden poner comentarios al final de una línea:\n",
    "\n",
    "```\n",
    "porcentaje = (minuto * 100) / 60 # porcentaje de una hora\n",
    "```\n",
    "\n",
    "Todo, desde el `#` hasta el final de la línea, se ignora; no tiene ningún efecto en la ejecución del programa.\n",
    "\n",
    "Los comentarios son más útiles cuando documentan características no obvias del código. Es razonable suponer que el lector del código puede averiguar _qué_ hace  y es útil explicar _por qué._\n",
    "\n",
    "Este comentario es redundante e inútil:\n",
    "```\n",
    "v = 5 # asignar 5 a v\n",
    "```\n",
    "\n",
    "Este comentario contiene información útil que no está en el código:\n",
    "```\n",
    "v = 5  # velocidad en metros / segundo.\n",
    "```\n",
    "\n",
    "Los buenos nombres de variables pueden reducir la necesidad de comentarios, pero los nombres largos pueden dificultar la lectura de expresiones complejas, por lo que se debe ser cuidadoso y usar buen criterio para darle nombres a las variables.\n",
    "\n"
   ]
  },
  {
   "cell_type": "markdown",
   "metadata": {
    "id": "0V2RuOHykqpv"
   },
   "source": [
    "## 10. Depuración\n",
    "\n",
    "Pueden ocurrir tres tipos de errores en un programa: errores de sintaxis, errores de tiempo de ejecución y errores semánticos. Es útil distinguirlos para localizarlos más rápidamente.\n",
    "\n",
    "**Error de sintaxis:** \"Sintaxis\" se refiere a la estructura de un programa y las reglas sobre esa estructura. Por ejemplo, los paréntesis deben venir en pares coincidentes, por lo que `(1 + 2)` es legal, pero `8)` es un error de sintaxis.\n",
    "\n",
    "Si hay un error de sintaxis en cualquier parte de tu programa, Python muestra un mensaje de error y se cierra, y no podrá ejecutar el programa.\n",
    "\n",
    "Durante las primeras semanas de aprendizaje en programación, es posible que uno dedique mucho tiempo a rastrear errores de sintaxis. A medida que se gane experiencia, se cometerán menos errores y se los encontrará más rápido.\n",
    "\n",
    "**Error de tiempo de ejecución:** el segundo tipo de error es un error de tiempo de ejecución, llamado así porque el error no aparece hasta que el programa ha comenzado a ejecutarse. Estos errores también se denominan _excepciones_ porque suelen indicar que ha sucedido algo excepcional (y malo).\n",
    "\n",
    "Los errores de tiempo de ejecución son raros en los programas simples que veremos en las primeras clases, por lo que puede pasar un tiempo antes de que encuentres uno.\n",
    "\n",
    "**Error semántico:** el tercer tipo de error es \"semántico\", que significa relacionado con el significado.\n",
    "\n",
    "Si hay un error semántico en tu programa, se ejecutará sin generar mensajes de error, pero no hará lo correcto. Hará otra cosa. Específicamente, hará lo que le dijiste que hiciera.\n",
    "\n",
    "Identificar errores semánticos puede ser complicado porque requiere trabajar hacia atrás mirando la salida del programa y tratando de averiguar qué está haciendo.\n",
    "\n",
    "Tanto para los errores sintácticos como para las excepciones los entornos de programación nos ofrecen mucha ayuda, incluso marcándolos antes de ejecutar el programa. Sin embargo,  los errores semánticos solo los podemos solucionar  razonando sobre lo que hemos escrito en el programa.  \n"
   ]
  },
  {
   "cell_type": "code",
   "execution_count": null,
   "metadata": {},
   "outputs": [],
   "source": []
  }
 ],
 "metadata": {
  "colab": {
   "authorship_tag": "ABX9TyNCzbVxDOY23s8wCdT1f0jc",
   "collapsed_sections": [],
   "name": "02 - Variables, expresiones y sentencias.ipynb",
   "provenance": []
  },
  "kernelspec": {
   "display_name": "Python 3 (ipykernel)",
   "language": "python",
   "name": "python3"
  },
  "language_info": {
   "codemirror_mode": {
    "name": "ipython",
    "version": 3
   },
   "file_extension": ".py",
   "mimetype": "text/x-python",
   "name": "python",
   "nbconvert_exporter": "python",
   "pygments_lexer": "ipython3",
   "version": "3.8.12"
  }
 },
 "nbformat": 4,
 "nbformat_minor": 4
}
