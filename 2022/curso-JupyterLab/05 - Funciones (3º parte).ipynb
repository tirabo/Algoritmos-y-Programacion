{
 "cells": [
  {
   "cell_type": "markdown",
   "metadata": {},
   "source": [
    "# Funciones (3° parte)"
   ]
  },
  {
   "cell_type": "markdown",
   "metadata": {
    "id": "dIkC74lm2yIf"
   },
   "source": [
    "## 14. ¿Por qué funciones?\n",
    "\n",
    "Puede que no quede claro por qué vale la pena dividir un programa en funciones. Hay varias razones:\n",
    "\n",
    "- La creación de una nueva función te brinda la oportunidad de nombrar a un grupo de declaraciones, lo que hace que tu programa sea más fácil de leer y depurar.\n",
    "\n",
    "- Las funciones pueden hacer que un programa sea más pequeño al eliminar el código repetitivo. Posteriormente, si realiza algún cambio, solo se debe hacer en un lugar.\n",
    "\n",
    "- Dividir un programa largo en funciones te permite depurar las partes de una en una y luego ensamblarlas en un todo funcional.\n",
    "\n",
    "- Las funciones bien diseñadas suelen ser útiles para muchos programas. Una vez que escribas y depures uno, podrás reutilizarlo."
   ]
  },
  {
   "cell_type": "markdown",
   "metadata": {
    "id": "C3-Ti_9J22Lq"
   },
   "source": [
    "## 15. Depuración\n",
    "\n",
    "Una de las habilidades más importantes que adquirirás es la depuración. Aunque puede resultar frustrante, la depuración es una de las partes de la programación más interesantes, desafiantes e intelectualmente más enriquecedoras.\n",
    "\n",
    "De alguna manera, la depuración es como un trabajo de detective. Te enfrentás a pistas y tenés que inferir los procesos y eventos que llevaron a los resultados que ves.\n",
    "\n",
    "La depuración también es como una ciencia experimental. Una vez que tengas una idea de lo que va mal, modificá tu programa y volvé a intentarlo. Si tu hipótesis era correcta, podés predecir el resultado de la modificación y dar un paso más hacia un programa que funcione. Si tu hipótesis fue incorrecta, debés idear una nueva. Como señaló Sherlock Holmes: \n",
    "\n",
    "*Cuando hayas eliminado lo imposible, lo que quede, por improbable que sea, debe ser la verdad.*\n",
    "\n",
    "(A. Conan Doyle, El signo de los cuatro)\n",
    "\n",
    "Para algunas personas, programar y depurar son lo mismo. Es decir, la programación es el proceso de depurar gradualmente un programa hasta que hace lo que se desea. La idea es que debe comenzar con un programa que funcione y hacer pequeñas modificaciones, depurándolas a medida que se avanza."
   ]
  },
  {
   "cell_type": "markdown",
   "metadata": {},
   "source": [
    "## 16. Signatura \n",
    "\n",
    "La signatura o firma de una función define su entrada y su salida. Incluye por lo menos el nombre de la función y el número de sus parámetros. En algunos lenguajes de programación, puede incluir el tipo que devuelve la función o el tipo de sus parámetros.\n",
    "\n",
    "Por ejemplo, la signatura de la función que vimos en una clase anterior:\n",
    "```\n",
    "def imprimir_4_veces_v2(nombre):\n",
    "    for _ in range(4):\n",
    "        print(nombre)\n",
    "```\n",
    "es su nombre `imprimir_4_veces_v2`y que admite un parámetro. Aunque no está aclarado y el lenguage no exige aclararlo en forma explícita,  nosotros estamos pensando en que ese parámetro sea una cadena. \n",
    "\n",
    "En Python,  como ya vimos, no es obligatorio declarar los tipos de los parámetros y el tipo del valor que se devuelve en el caso de las funciones que devuelven valor. Sin embargo,  es una buena práctica y está permitido realizar anotaciones explicitando los tipos de todos los parámetros y valores. Veamos, por ejemplo, la función que ingresa dos parámetros, la base y la altura de un triángulo, números reales, y nos devuelve el área del triángulo, otro número real."
   ]
  },
  {
   "cell_type": "code",
   "execution_count": 1,
   "metadata": {},
   "outputs": [],
   "source": [
    "def area_triángulo(base, altura):\n",
    "    area = base * altura / 2\n",
    "    return area"
   ]
  },
  {
   "cell_type": "markdown",
   "metadata": {},
   "source": [
    "La función anterior es perfectamente funcional y sirve a nuestro propósitos, pero si explicitamos su signatura es mucha más clara para el usuario:"
   ]
  },
  {
   "cell_type": "code",
   "execution_count": null,
   "metadata": {},
   "outputs": [],
   "source": [
    "def area_triángulo(base, altura: float) -> float:\n",
    "    area = base * altura / 2\n",
    "    return area"
   ]
  },
  {
   "cell_type": "markdown",
   "metadata": {},
   "source": [
    "Una vez explicitada la signatura, Python no controla que la misma se satisfaga. La signatura explícita es simplemente una notación que ayuda al programador a no cometer errores. "
   ]
  },
  {
   "cell_type": "markdown",
   "metadata": {},
   "source": [
    "## 17. Precondiciones y postcondiciones\n",
    "\n",
    "Cuando definimos una función además de la signatura hay otras dos anotaciones importantes que veremos ahora:\n",
    "- Una *precondición* de la función es algo que debe ser cierto al comienzo de la función para que esta funcione correctamente.\n",
    "- Una *postcondición* es algo que la función garantiza que es cierto cuando ella termina.\n",
    "\n",
    "Parte de la precondición puede ser la signatura explícita, pero no siempre es así:\n"
   ]
  },
  {
   "cell_type": "code",
   "execution_count": null,
   "metadata": {},
   "outputs": [],
   "source": [
    "def area_triángulo(base, altura: float) -> float:\n",
    "    # pre:  base, altura > 0\n",
    "    # post: devuelve area, la superficie de un triángulo de base base y altura altura\n",
    "    area = base * altura / 2\n",
    "    return area"
   ]
  },
  {
   "cell_type": "markdown",
   "metadata": {},
   "source": [
    "Las precondiciones y postcondiciones pueden ser formales o coloquiales y su objetivo es ayudar al programador que está leyendo el código a entender que prerequisitos tiene la función y qué es lo que hace.  \n",
    "\n",
    "Vermos en la próxima sección la instrucción `assert` que permite chequear, usualmente en parte,  si las precondiciones y postcondiciones se cumplen. \n",
    "\n",
    "A partir de ahora, al definir funciones, usaremos continuamente las anotaciones corespondientes a signaturas, precondiciones y postcondiciones. Con esta metodología el código es más \"largo\" pero mucho más legible. "
   ]
  }
 ],
 "metadata": {
  "colab": {
   "authorship_tag": "ABX9TyNUj8Bp3lSqiWVZm5SK8uIi",
   "collapsed_sections": [],
   "name": "04 - Funciones (2º parte).ipynb",
   "provenance": []
  },
  "kernelspec": {
   "display_name": "Python 3 (ipykernel)",
   "language": "python",
   "name": "python3"
  },
  "language_info": {
   "codemirror_mode": {
    "name": "ipython",
    "version": 3
   },
   "file_extension": ".py",
   "mimetype": "text/x-python",
   "name": "python",
   "nbconvert_exporter": "python",
   "pygments_lexer": "ipython3",
   "version": "3.8.12"
  }
 },
 "nbformat": 4,
 "nbformat_minor": 4
}
