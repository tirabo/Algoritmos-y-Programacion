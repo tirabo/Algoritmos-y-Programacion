{
  "nbformat": 4,
  "nbformat_minor": 0,
  "metadata": {
    "colab": {
      "name": "Clase laboratorio 02-06-21.ipynb",
      "provenance": [],
      "include_colab_link": true
    },
    "kernelspec": {
      "name": "python3",
      "display_name": "Python 3"
    },
    "language_info": {
      "name": "python"
    }
  },
  "cells": [
    {
      "cell_type": "markdown",
      "metadata": {
        "id": "view-in-github",
        "colab_type": "text"
      },
      "source": [
        "<a href=\"https://colab.research.google.com/github/tirabo/Algoritmos-y-Programacion/blob/main/APIs_json_Clase_laboratorio_02_06_21.ipynb\" target=\"_parent\"><img src=\"https://colab.research.google.com/assets/colab-badge.svg\" alt=\"Open In Colab\"/></a>"
      ]
    },
    {
      "cell_type": "markdown",
      "metadata": {
        "id": "IyY5HBFVHdPE"
      },
      "source": [
        "##Uso de APIs y biblioteca `json`"
      ]
    },
    {
      "cell_type": "code",
      "metadata": {
        "id": "ETBrpPuqJiuW"
      },
      "source": [
        "import requests"
      ],
      "execution_count": null,
      "outputs": []
    },
    {
      "cell_type": "code",
      "metadata": {
        "colab": {
          "base_uri": "https://localhost:8080/"
        },
        "id": "MKP_S8kzAcdg",
        "outputId": "0f6aeed1-60b0-4e36-fcc5-797da19acfda"
      },
      "source": [
        "# Tu tiempo\n",
        "api_id = '4CTaaaq4z44757o'\n",
        "\n",
        "response = requests.get('https://api.tutiempo.net/json/?lan=es&apid='+api_id+'&ll=-31.3170,-64.2170').json()\n",
        "print(response)\n",
        "\n",
        "print('Pronóstico 7 días:', response['locality']['name']+', '+ response['locality']['country'] )\n",
        "for u in response.keys():\n",
        "  if u[:3] == 'day':\n",
        "    print(str(response[u]['date'])+'  max: '+str(response[u]['temperature_max'])+'  min: '+str(response[u]['temperature_min'])+'   hum: '+str(response[u]['humidity'])+' descripción: '+str(response[u]['text']))\n",
        "\n",
        "response = requests.get('https://api.tutiempo.net/json/?lan=es&apid='+api_id+'&date=20201115&ll=-31.3170,-64.2170').json()\n",
        "print(response)\n",
        "print('')"
      ],
      "execution_count": null,
      "outputs": [
        {
          "output_type": "stream",
          "name": "stdout",
          "text": [
            "{'copyright': 'Tutiempo Network, S.L.', 'use': 'Se autoriza el uso de estos datos citando a https://www.tutiempo.net como fuente de los mismos.', 'information': {'temperature': 'ºC', 'wind': 'km/h', 'humidity': '%', 'pressure': 'hPa'}, 'web': 'https://www.tutiempo.net', 'language': 'es', 'locality': {'name': 'Cordoba Aerodrome', 'url_weather_forecast_15_days': 'https://www.tutiempo.net/cordoba-aerodrome.html', 'url_hourly_forecast': 'https://www.tutiempo.net/cordoba-aerodrome.html?datos=por-horas', 'country': 'Argentina', 'url_country': 'https://www.tutiempo.net/argentina.html'}, 'day1': {'date': '2021-10-18', 'temperature_max': 24, 'temperature_min': 13, 'icon': '19', 'text': 'Muy nuboso con lluvias', 'humidity': 33, 'wind': 14, 'wind_direction': 'Oeste', 'icon_wind': 'O', 'sunrise': '6:37', 'sunset': '19:29', 'moonrise': '17:51', 'moonset': '05:44', 'moon_phases_icon': 'hs/12'}, 'day2': {'date': '2021-10-19', 'temperature_max': 29, 'temperature_min': 13, 'icon': '1', 'text': 'Despejado', 'humidity': 26, 'wind': 25, 'wind_direction': 'Nordeste', 'icon_wind': 'NE', 'sunrise': '6:36', 'sunset': '19:29', 'moonrise': '18:47', 'moonset': '06:12', 'moon_phases_icon': 'hs/13'}, 'day3': {'date': '2021-10-20', 'temperature_max': 29, 'temperature_min': 14, 'icon': '7', 'text': 'Cubierto', 'humidity': 26, 'wind': 28, 'wind_direction': 'Nordeste', 'icon_wind': 'NE', 'sunrise': '6:35', 'sunset': '19:30', 'moonrise': '19:43', 'moonset': '06:40', 'moon_phases_icon': 'hs/14'}, 'day4': {'date': '2021-10-21', 'temperature_max': 31, 'temperature_min': 15, 'icon': '4', 'text': 'Parcialmente nuboso', 'humidity': 30, 'wind': 28, 'wind_direction': 'Nordeste', 'icon_wind': 'NE', 'sunrise': '6:33', 'sunset': '19:31', 'moonrise': '20:39', 'moonset': '07:09', 'moon_phases_icon': 'hs/15'}, 'day5': {'date': '2021-10-22', 'temperature_max': 30, 'temperature_min': 17, 'icon': '19', 'text': 'Cubierto con lluvias', 'humidity': 44, 'wind': 21, 'wind_direction': 'Nordeste', 'icon_wind': 'NE', 'sunrise': '6:32', 'sunset': '19:31', 'moonrise': '21:36', 'moonset': '07:40', 'moon_phases_icon': 'hs/16'}, 'day6': {'date': '2021-10-23', 'temperature_max': 28, 'temperature_min': 15, 'icon': '6', 'text': 'Muy nuboso', 'humidity': 51, 'wind': 22, 'wind_direction': 'Sureste', 'icon_wind': 'SE', 'sunrise': '6:31', 'sunset': '19:32', 'moonrise': '22:32', 'moonset': '08:13', 'moon_phases_icon': 'hs/17'}, 'day7': {'date': '2021-10-24', 'temperature_max': 31, 'temperature_min': 12, 'icon': '1', 'text': 'Despejado', 'humidity': 23, 'wind': 21, 'wind_direction': 'Oeste', 'icon_wind': 'O', 'sunrise': '6:30', 'sunset': '19:33', 'moonrise': '23:28', 'moonset': '08:51', 'moon_phases_icon': 'hs/18'}, 'hour_hour': {'hour1': {'date': '2021-10-18', 'hour_data': '13:00', 'temperature': 23, 'text': 'Parcialmente nuboso con lluvias', 'humidity': 26, 'pressure': 1021, 'icon': '19', 'wind': 12, 'wind_direction': 'Sureste', 'icon_wind': 'SE'}, 'hour2': {'date': '2021-10-18', 'hour_data': '14:00', 'temperature': 23, 'text': 'Nubes dispersas', 'humidity': 27, 'pressure': 1020, 'icon': '2', 'wind': 10, 'wind_direction': 'Este', 'icon_wind': 'E'}, 'hour3': {'date': '2021-10-18', 'hour_data': '15:00', 'temperature': 24, 'text': 'Muy nuboso con lluvias', 'humidity': 27, 'pressure': 1019, 'icon': '19', 'wind': 14, 'wind_direction': 'Oeste', 'icon_wind': 'O'}, 'hour4': {'date': '2021-10-18', 'hour_data': '16:00', 'temperature': 23, 'text': 'Parcialmente nuboso', 'humidity': 27, 'pressure': 1018, 'icon': '4', 'wind': 12, 'wind_direction': 'Oeste', 'icon_wind': 'O'}, 'hour5': {'date': '2021-10-18', 'hour_data': '17:00', 'temperature': 24, 'text': 'Nubes dispersas', 'humidity': 24, 'pressure': 1018, 'icon': '2', 'wind': 13, 'wind_direction': 'Nordeste', 'icon_wind': 'NE'}, 'hour6': {'date': '2021-10-18', 'hour_data': '18:00', 'temperature': 23, 'text': 'Nubes dispersas', 'humidity': 24, 'pressure': 1017, 'icon': '2', 'wind': 13, 'wind_direction': 'Nordeste', 'icon_wind': 'NE'}, 'hour7': {'date': '2021-10-18', 'hour_data': '19:00', 'temperature': 22, 'text': 'Nubes dispersas', 'humidity': 28, 'pressure': 1018, 'icon': '2', 'wind': 14, 'wind_direction': 'Nordeste', 'icon_wind': 'NE'}, 'hour8': {'date': '2021-10-18', 'hour_data': '20:00', 'temperature': 18, 'text': 'Despejado', 'humidity': 35, 'pressure': 1019, 'icon': '1n', 'wind': 12, 'wind_direction': 'Nordeste', 'icon_wind': 'NE'}, 'hour9': {'date': '2021-10-18', 'hour_data': '21:00', 'temperature': 17, 'text': 'Despejado', 'humidity': 37, 'pressure': 1020, 'icon': '1n', 'wind': 11, 'wind_direction': 'Noroeste', 'icon_wind': 'NO'}, 'hour10': {'date': '2021-10-18', 'hour_data': '22:00', 'temperature': 17, 'text': 'Despejado', 'humidity': 38, 'pressure': 1020, 'icon': '1n', 'wind': 10, 'wind_direction': 'Noroeste', 'icon_wind': 'NO'}, 'hour11': {'date': '2021-10-18', 'hour_data': '23:00', 'temperature': 16, 'text': 'Despejado', 'humidity': 38, 'pressure': 1021, 'icon': '1n', 'wind': 9, 'wind_direction': 'Noroeste', 'icon_wind': 'NO'}, 'hour12': {'date': '2021-10-19', 'hour_data': '0:00', 'temperature': 16, 'text': 'Despejado', 'humidity': 38, 'pressure': 1020, 'icon': '1n', 'wind': 9, 'wind_direction': 'Noroeste', 'icon_wind': 'NO'}, 'hour13': {'date': '2021-10-19', 'hour_data': '1:00', 'temperature': 15, 'text': 'Despejado', 'humidity': 38, 'pressure': 1020, 'icon': '1n', 'wind': 8, 'wind_direction': 'Noroeste', 'icon_wind': 'NO'}, 'hour14': {'date': '2021-10-19', 'hour_data': '2:00', 'temperature': 15, 'text': 'Despejado', 'humidity': 38, 'pressure': 1020, 'icon': '1n', 'wind': 8, 'wind_direction': 'Noroeste', 'icon_wind': 'NO'}, 'hour15': {'date': '2021-10-19', 'hour_data': '3:00', 'temperature': 14, 'text': 'Despejado', 'humidity': 38, 'pressure': 1020, 'icon': '1n', 'wind': 6, 'wind_direction': 'Oeste', 'icon_wind': 'O'}, 'hour16': {'date': '2021-10-19', 'hour_data': '4:00', 'temperature': 14, 'text': 'Despejado', 'humidity': 40, 'pressure': 1020, 'icon': '1n', 'wind': 3, 'wind_direction': 'Suroeste', 'icon_wind': 'SO'}, 'hour17': {'date': '2021-10-19', 'hour_data': '5:00', 'temperature': 13, 'text': 'Despejado', 'humidity': 40, 'pressure': 1020, 'icon': '1n', 'wind': 5, 'wind_direction': 'Noroeste', 'icon_wind': 'NO'}, 'hour18': {'date': '2021-10-19', 'hour_data': '6:00', 'temperature': 13, 'text': 'Despejado', 'humidity': 40, 'pressure': 1020, 'icon': '1n', 'wind': 6, 'wind_direction': 'Noroeste', 'icon_wind': 'NO'}, 'hour19': {'date': '2021-10-19', 'hour_data': '7:00', 'temperature': 14, 'text': 'Despejado', 'humidity': 39, 'pressure': 1020, 'icon': '1', 'wind': 7, 'wind_direction': 'Noroeste', 'icon_wind': 'NO'}, 'hour20': {'date': '2021-10-19', 'hour_data': '8:00', 'temperature': 17, 'text': 'Despejado', 'humidity': 31, 'pressure': 1021, 'icon': '1', 'wind': 7, 'wind_direction': 'Noroeste', 'icon_wind': 'NO'}, 'hour21': {'date': '2021-10-19', 'hour_data': '9:00', 'temperature': 21, 'text': 'Despejado', 'humidity': 24, 'pressure': 1020, 'icon': '1', 'wind': 14, 'wind_direction': 'Nordeste', 'icon_wind': 'NE'}, 'hour22': {'date': '2021-10-19', 'hour_data': '10:00', 'temperature': 23, 'text': 'Despejado', 'humidity': 21, 'pressure': 1020, 'icon': '1', 'wind': 17, 'wind_direction': 'Nordeste', 'icon_wind': 'NE'}, 'hour23': {'date': '2021-10-19', 'hour_data': '11:00', 'temperature': 25, 'text': 'Despejado', 'humidity': 18, 'pressure': 1019, 'icon': '1', 'wind': 19, 'wind_direction': 'Nordeste', 'icon_wind': 'NE'}, 'hour24': {'date': '2021-10-19', 'hour_data': '12:00', 'temperature': 27, 'text': 'Despejado', 'humidity': 16, 'pressure': 1018, 'icon': '1', 'wind': 21, 'wind_direction': 'Nordeste', 'icon_wind': 'NE'}, 'hour25': {'date': '2021-10-19', 'hour_data': '13:00', 'temperature': 28, 'text': 'Despejado', 'humidity': 15, 'pressure': 1017, 'icon': '1', 'wind': 23, 'wind_direction': 'Nordeste', 'icon_wind': 'NE'}}}\n",
            "Pronóstico 7 días: Cordoba Aerodrome, Argentina\n",
            "2021-10-18  max: 24  min: 13   hum: 33 descripción: Muy nuboso con lluvias\n",
            "2021-10-19  max: 29  min: 13   hum: 26 descripción: Despejado\n",
            "2021-10-20  max: 29  min: 14   hum: 26 descripción: Cubierto\n",
            "2021-10-21  max: 31  min: 15   hum: 30 descripción: Parcialmente nuboso\n",
            "2021-10-22  max: 30  min: 17   hum: 44 descripción: Cubierto con lluvias\n",
            "2021-10-23  max: 28  min: 15   hum: 51 descripción: Muy nuboso\n",
            "2021-10-24  max: 31  min: 12   hum: 23 descripción: Despejado\n",
            "{'copyright': 'Tutiempo Network, S.L.', 'use': 'Se autoriza el uso de estos datos citando a https://www.tutiempo.net como fuente de los mismos.', 'information': {'temperature': 'ºC', 'wind': 'km/h', 'humidity': '%', 'pressure': 'hPa'}, 'web': 'https://www.tutiempo.net', 'language': 'es', 'locality': {'name': 'Cordoba Aerodrome', 'url_weather_forecast_15_days': 'https://www.tutiempo.net/cordoba-aerodrome.html', 'url_hourly_forecast': 'https://www.tutiempo.net/cordoba-aerodrome.html?datos=por-horas', 'country': 'Argentina', 'url_country': 'https://www.tutiempo.net/argentina.html'}, 'day1': {'date': '2021-10-18', 'temperature_max': 24, 'temperature_min': 13, 'icon': '19', 'text': 'Muy nuboso con lluvias', 'humidity': 33, 'wind': 14, 'wind_direction': 'Oeste', 'icon_wind': 'O', 'sunrise': '6:37', 'sunset': '19:29', 'moonrise': '17:51', 'moonset': '05:44', 'moon_phases_icon': 'hs/12'}, 'day2': {'date': '2021-10-19', 'temperature_max': 29, 'temperature_min': 13, 'icon': '1', 'text': 'Despejado', 'humidity': 26, 'wind': 25, 'wind_direction': 'Nordeste', 'icon_wind': 'NE', 'sunrise': '6:36', 'sunset': '19:29', 'moonrise': '18:47', 'moonset': '06:12', 'moon_phases_icon': 'hs/13'}, 'day3': {'date': '2021-10-20', 'temperature_max': 29, 'temperature_min': 14, 'icon': '7', 'text': 'Cubierto', 'humidity': 26, 'wind': 28, 'wind_direction': 'Nordeste', 'icon_wind': 'NE', 'sunrise': '6:35', 'sunset': '19:30', 'moonrise': '19:43', 'moonset': '06:40', 'moon_phases_icon': 'hs/14'}, 'day4': {'date': '2021-10-21', 'temperature_max': 31, 'temperature_min': 15, 'icon': '4', 'text': 'Parcialmente nuboso', 'humidity': 30, 'wind': 28, 'wind_direction': 'Nordeste', 'icon_wind': 'NE', 'sunrise': '6:33', 'sunset': '19:31', 'moonrise': '20:39', 'moonset': '07:09', 'moon_phases_icon': 'hs/15'}, 'day5': {'date': '2021-10-22', 'temperature_max': 30, 'temperature_min': 17, 'icon': '19', 'text': 'Cubierto con lluvias', 'humidity': 44, 'wind': 21, 'wind_direction': 'Nordeste', 'icon_wind': 'NE', 'sunrise': '6:32', 'sunset': '19:31', 'moonrise': '21:36', 'moonset': '07:40', 'moon_phases_icon': 'hs/16'}, 'day6': {'date': '2021-10-23', 'temperature_max': 28, 'temperature_min': 15, 'icon': '6', 'text': 'Muy nuboso', 'humidity': 51, 'wind': 22, 'wind_direction': 'Sureste', 'icon_wind': 'SE', 'sunrise': '6:31', 'sunset': '19:32', 'moonrise': '22:32', 'moonset': '08:13', 'moon_phases_icon': 'hs/17'}, 'day7': {'date': '2021-10-24', 'temperature_max': 31, 'temperature_min': 12, 'icon': '1', 'text': 'Despejado', 'humidity': 23, 'wind': 21, 'wind_direction': 'Oeste', 'icon_wind': 'O', 'sunrise': '6:30', 'sunset': '19:33', 'moonrise': '23:28', 'moonset': '08:51', 'moon_phases_icon': 'hs/18'}, 'hour_hour': {'hour1': {'date': '2021-10-18', 'hour_data': '13:00', 'temperature': 23, 'text': 'Parcialmente nuboso con lluvias', 'humidity': 26, 'pressure': 1021, 'icon': '19', 'wind': 12, 'wind_direction': 'Sureste', 'icon_wind': 'SE'}, 'hour2': {'date': '2021-10-18', 'hour_data': '14:00', 'temperature': 23, 'text': 'Nubes dispersas', 'humidity': 27, 'pressure': 1020, 'icon': '2', 'wind': 10, 'wind_direction': 'Este', 'icon_wind': 'E'}, 'hour3': {'date': '2021-10-18', 'hour_data': '15:00', 'temperature': 24, 'text': 'Muy nuboso con lluvias', 'humidity': 27, 'pressure': 1019, 'icon': '19', 'wind': 14, 'wind_direction': 'Oeste', 'icon_wind': 'O'}, 'hour4': {'date': '2021-10-18', 'hour_data': '16:00', 'temperature': 23, 'text': 'Parcialmente nuboso', 'humidity': 27, 'pressure': 1018, 'icon': '4', 'wind': 12, 'wind_direction': 'Oeste', 'icon_wind': 'O'}, 'hour5': {'date': '2021-10-18', 'hour_data': '17:00', 'temperature': 24, 'text': 'Nubes dispersas', 'humidity': 24, 'pressure': 1018, 'icon': '2', 'wind': 13, 'wind_direction': 'Nordeste', 'icon_wind': 'NE'}, 'hour6': {'date': '2021-10-18', 'hour_data': '18:00', 'temperature': 23, 'text': 'Nubes dispersas', 'humidity': 24, 'pressure': 1017, 'icon': '2', 'wind': 13, 'wind_direction': 'Nordeste', 'icon_wind': 'NE'}, 'hour7': {'date': '2021-10-18', 'hour_data': '19:00', 'temperature': 22, 'text': 'Nubes dispersas', 'humidity': 28, 'pressure': 1018, 'icon': '2', 'wind': 14, 'wind_direction': 'Nordeste', 'icon_wind': 'NE'}, 'hour8': {'date': '2021-10-18', 'hour_data': '20:00', 'temperature': 18, 'text': 'Despejado', 'humidity': 35, 'pressure': 1019, 'icon': '1n', 'wind': 12, 'wind_direction': 'Nordeste', 'icon_wind': 'NE'}, 'hour9': {'date': '2021-10-18', 'hour_data': '21:00', 'temperature': 17, 'text': 'Despejado', 'humidity': 37, 'pressure': 1020, 'icon': '1n', 'wind': 11, 'wind_direction': 'Noroeste', 'icon_wind': 'NO'}, 'hour10': {'date': '2021-10-18', 'hour_data': '22:00', 'temperature': 17, 'text': 'Despejado', 'humidity': 38, 'pressure': 1020, 'icon': '1n', 'wind': 10, 'wind_direction': 'Noroeste', 'icon_wind': 'NO'}, 'hour11': {'date': '2021-10-18', 'hour_data': '23:00', 'temperature': 16, 'text': 'Despejado', 'humidity': 38, 'pressure': 1021, 'icon': '1n', 'wind': 9, 'wind_direction': 'Noroeste', 'icon_wind': 'NO'}, 'hour12': {'date': '2021-10-19', 'hour_data': '0:00', 'temperature': 16, 'text': 'Despejado', 'humidity': 38, 'pressure': 1020, 'icon': '1n', 'wind': 9, 'wind_direction': 'Noroeste', 'icon_wind': 'NO'}, 'hour13': {'date': '2021-10-19', 'hour_data': '1:00', 'temperature': 15, 'text': 'Despejado', 'humidity': 38, 'pressure': 1020, 'icon': '1n', 'wind': 8, 'wind_direction': 'Noroeste', 'icon_wind': 'NO'}, 'hour14': {'date': '2021-10-19', 'hour_data': '2:00', 'temperature': 15, 'text': 'Despejado', 'humidity': 38, 'pressure': 1020, 'icon': '1n', 'wind': 8, 'wind_direction': 'Noroeste', 'icon_wind': 'NO'}, 'hour15': {'date': '2021-10-19', 'hour_data': '3:00', 'temperature': 14, 'text': 'Despejado', 'humidity': 38, 'pressure': 1020, 'icon': '1n', 'wind': 6, 'wind_direction': 'Oeste', 'icon_wind': 'O'}, 'hour16': {'date': '2021-10-19', 'hour_data': '4:00', 'temperature': 14, 'text': 'Despejado', 'humidity': 40, 'pressure': 1020, 'icon': '1n', 'wind': 3, 'wind_direction': 'Suroeste', 'icon_wind': 'SO'}, 'hour17': {'date': '2021-10-19', 'hour_data': '5:00', 'temperature': 13, 'text': 'Despejado', 'humidity': 40, 'pressure': 1020, 'icon': '1n', 'wind': 5, 'wind_direction': 'Noroeste', 'icon_wind': 'NO'}, 'hour18': {'date': '2021-10-19', 'hour_data': '6:00', 'temperature': 13, 'text': 'Despejado', 'humidity': 40, 'pressure': 1020, 'icon': '1n', 'wind': 6, 'wind_direction': 'Noroeste', 'icon_wind': 'NO'}, 'hour19': {'date': '2021-10-19', 'hour_data': '7:00', 'temperature': 14, 'text': 'Despejado', 'humidity': 39, 'pressure': 1020, 'icon': '1', 'wind': 7, 'wind_direction': 'Noroeste', 'icon_wind': 'NO'}, 'hour20': {'date': '2021-10-19', 'hour_data': '8:00', 'temperature': 17, 'text': 'Despejado', 'humidity': 31, 'pressure': 1021, 'icon': '1', 'wind': 7, 'wind_direction': 'Noroeste', 'icon_wind': 'NO'}, 'hour21': {'date': '2021-10-19', 'hour_data': '9:00', 'temperature': 21, 'text': 'Despejado', 'humidity': 24, 'pressure': 1020, 'icon': '1', 'wind': 14, 'wind_direction': 'Nordeste', 'icon_wind': 'NE'}, 'hour22': {'date': '2021-10-19', 'hour_data': '10:00', 'temperature': 23, 'text': 'Despejado', 'humidity': 21, 'pressure': 1020, 'icon': '1', 'wind': 17, 'wind_direction': 'Nordeste', 'icon_wind': 'NE'}, 'hour23': {'date': '2021-10-19', 'hour_data': '11:00', 'temperature': 25, 'text': 'Despejado', 'humidity': 18, 'pressure': 1019, 'icon': '1', 'wind': 19, 'wind_direction': 'Nordeste', 'icon_wind': 'NE'}, 'hour24': {'date': '2021-10-19', 'hour_data': '12:00', 'temperature': 27, 'text': 'Despejado', 'humidity': 16, 'pressure': 1018, 'icon': '1', 'wind': 21, 'wind_direction': 'Nordeste', 'icon_wind': 'NE'}, 'hour25': {'date': '2021-10-19', 'hour_data': '13:00', 'temperature': 28, 'text': 'Despejado', 'humidity': 15, 'pressure': 1017, 'icon': '1', 'wind': 23, 'wind_direction': 'Nordeste', 'icon_wind': 'NE'}}}\n",
            "\n"
          ]
        }
      ]
    },
    {
      "cell_type": "code",
      "metadata": {
        "colab": {
          "base_uri": "https://localhost:8080/"
        },
        "id": "OsLVx4cmJtbP",
        "outputId": "afa4198e-86f3-4c9e-9d21-67bd335c2603"
      },
      "source": [
        "import json\n",
        "# https://www.ncei.noaa.gov/ National Centers for Environmental Information (37 petabytes)\n",
        "# https://www.ncei.noaa.gov/support/access-data-service-api-user-documentation\n",
        "response = requests.get(\"https://www.ncei.noaa.gov/access/services/data/v1?dataset=global-summary-of-the-year&dataTypes=DP01,DP05,DP10,DSND,DSNW,DT00,DT32,DX32,DX70,DX90,SNOW,PRCP&stations=US1COJF0003&startDate=1952-01-01&endDate=2010-12-31&includeAttributes=true&format=json\")\n",
        "lista_req = response.json() # Una lista de diccionarios\n",
        "\n",
        "\n",
        "# print(lista_req[0].keys())\n",
        "# for i in range(len(lista_req)):\n",
        "#  print(lista_req[i])\n",
        "\n",
        "file0 = open('datos2.txt', 'w')\n",
        "for i in range(len(lista_req)):\n",
        "  file0.write(str(lista_req[i])+'\\n')\n",
        "file0.close()\n",
        "\n",
        "print(lista_req)\n",
        "eval(str(lista_req[0]))\n",
        "\n"
      ],
      "execution_count": null,
      "outputs": [
        {
          "output_type": "stream",
          "name": "stdout",
          "text": [
            "[{'DATE': '2003', 'STATION': 'US1COJF0003', 'SNOW': '     1554', 'DP01_ATTRIBUTES': 'N', 'PRCP_ATTRIBUTES': ' ,N', 'DSNW': '        16', 'SNOW_ATTRIBUTES': ' ,N', 'PRCP': '    353.1', 'DP10': '        29', 'DP10_ATTRIBUTES': 'N', 'DP01': '        84', 'DSNW_ATTRIBUTES': 'N'}, {'DATE': '2004', 'STATION': 'US1COJF0003', 'SNOW': '     1336', 'DP01_ATTRIBUTES': 'N', 'PRCP_ATTRIBUTES': ' ,N', 'DSNW': '        18', 'SNOW_ATTRIBUTES': ' ,N', 'PRCP': '    535.2', 'DP10': '        53', 'DP10_ATTRIBUTES': 'N', 'DP01': '        96', 'DSNW_ATTRIBUTES': 'N'}, {'DATE': '2005', 'STATION': 'US1COJF0003', 'PRCP_ATTRIBUTES': ' ,N', 'PRCP': '    392.7'}, {'DATE': '2007', 'STATION': 'US1COJF0003', 'SNOW': '     1880', 'DP01_ATTRIBUTES': 'N', 'PRCP_ATTRIBUTES': ' ,N', 'DSNW': '        26', 'SNOW_ATTRIBUTES': ' ,N', 'PRCP': '    498.7', 'DP10': '        52', 'DP10_ATTRIBUTES': 'N', 'DP01': '        96', 'DSNW_ATTRIBUTES': 'N'}, {'DATE': '2008', 'STATION': 'US1COJF0003', 'SNOW': '     1156', 'DP01_ATTRIBUTES': 'N', 'PRCP_ATTRIBUTES': ' ,N', 'DSNW': '        17', 'SNOW_ATTRIBUTES': ' ,N', 'PRCP': '    323.1', 'DP10': '        32', 'DP10_ATTRIBUTES': 'N', 'DP01': '        74', 'DSNW_ATTRIBUTES': 'N'}, {'DATE': '2009', 'STATION': 'US1COJF0003', 'DP01_ATTRIBUTES': 'N', 'PRCP_ATTRIBUTES': ' ,N', 'PRCP': '    548.5', 'DP10': '        46', 'DP10_ATTRIBUTES': 'N', 'DP01': '       103'}, {'DATE': '2010', 'STATION': 'US1COJF0003', 'DP01_ATTRIBUTES': 'N', 'PRCP_ATTRIBUTES': ' ,N', 'PRCP': '    347.3', 'DP10': '        36', 'DP10_ATTRIBUTES': 'N', 'DP01': '        75'}]\n"
          ]
        },
        {
          "output_type": "execute_result",
          "data": {
            "text/plain": [
              "{'DATE': '2003',\n",
              " 'DP01': '        84',\n",
              " 'DP01_ATTRIBUTES': 'N',\n",
              " 'DP10': '        29',\n",
              " 'DP10_ATTRIBUTES': 'N',\n",
              " 'DSNW': '        16',\n",
              " 'DSNW_ATTRIBUTES': 'N',\n",
              " 'PRCP': '    353.1',\n",
              " 'PRCP_ATTRIBUTES': ' ,N',\n",
              " 'SNOW': '     1554',\n",
              " 'SNOW_ATTRIBUTES': ' ,N',\n",
              " 'STATION': 'US1COJF0003'}"
            ]
          },
          "metadata": {},
          "execution_count": 6
        }
      ]
    },
    {
      "cell_type": "code",
      "metadata": {
        "colab": {
          "base_uri": "https://localhost:8080/"
        },
        "id": "DnO__Y-XXsku",
        "outputId": "f8d80ee5-e7df-4938-82bf-d326e5e24316"
      },
      "source": [
        "datos = open('datos2.txt', 'r')\n",
        "lista_datos = []\n",
        "for linea in datos:\n",
        "  linea = linea.strip().replace(\"'\",'\"')\n",
        "  res = json.loads(linea)\n",
        "  lista_datos.append(res)\n",
        "datos.close()\n",
        "\n",
        "print(type(lista_datos[0]))\n",
        "\n",
        "print(lista_datos)"
      ],
      "execution_count": null,
      "outputs": [
        {
          "output_type": "stream",
          "name": "stdout",
          "text": [
            "<class 'dict'>\n",
            "[{'DATE': '2003', 'STATION': 'US1COJF0003', 'SNOW': '     1554', 'DP01_ATTRIBUTES': 'N', 'PRCP_ATTRIBUTES': ' ,N', 'DSNW': '        16', 'SNOW_ATTRIBUTES': ' ,N', 'PRCP': '    353.1', 'DP10': '        29', 'DP10_ATTRIBUTES': 'N', 'DP01': '        84', 'DSNW_ATTRIBUTES': 'N'}, {'DATE': '2004', 'STATION': 'US1COJF0003', 'SNOW': '     1336', 'DP01_ATTRIBUTES': 'N', 'PRCP_ATTRIBUTES': ' ,N', 'DSNW': '        18', 'SNOW_ATTRIBUTES': ' ,N', 'PRCP': '    535.2', 'DP10': '        53', 'DP10_ATTRIBUTES': 'N', 'DP01': '        96', 'DSNW_ATTRIBUTES': 'N'}, {'DATE': '2005', 'STATION': 'US1COJF0003', 'PRCP_ATTRIBUTES': ' ,N', 'PRCP': '    392.7'}, {'DATE': '2007', 'STATION': 'US1COJF0003', 'SNOW': '     1880', 'DP01_ATTRIBUTES': 'N', 'PRCP_ATTRIBUTES': ' ,N', 'DSNW': '        26', 'SNOW_ATTRIBUTES': ' ,N', 'PRCP': '    498.7', 'DP10': '        52', 'DP10_ATTRIBUTES': 'N', 'DP01': '        96', 'DSNW_ATTRIBUTES': 'N'}, {'DATE': '2008', 'STATION': 'US1COJF0003', 'SNOW': '     1156', 'DP01_ATTRIBUTES': 'N', 'PRCP_ATTRIBUTES': ' ,N', 'DSNW': '        17', 'SNOW_ATTRIBUTES': ' ,N', 'PRCP': '    323.1', 'DP10': '        32', 'DP10_ATTRIBUTES': 'N', 'DP01': '        74', 'DSNW_ATTRIBUTES': 'N'}, {'DATE': '2009', 'STATION': 'US1COJF0003', 'DP01_ATTRIBUTES': 'N', 'PRCP_ATTRIBUTES': ' ,N', 'PRCP': '    548.5', 'DP10': '        46', 'DP10_ATTRIBUTES': 'N', 'DP01': '       103'}, {'DATE': '2010', 'STATION': 'US1COJF0003', 'DP01_ATTRIBUTES': 'N', 'PRCP_ATTRIBUTES': ' ,N', 'PRCP': '    347.3', 'DP10': '        36', 'DP10_ATTRIBUTES': 'N', 'DP01': '        75'}]\n"
          ]
        }
      ]
    },
    {
      "cell_type": "code",
      "metadata": {
        "colab": {
          "base_uri": "https://localhost:8080/"
        },
        "id": "YxU3TKQ2Jwzo",
        "outputId": "d50cd49c-3dba-4b53-fb7f-e12b0db87011"
      },
      "source": [
        "# http://api.open-notify.org\n",
        "\n",
        "import datetime\n",
        "epoch_time = 1622233071 - 3*3600\n",
        "datetime_time = datetime.datetime.fromtimestamp(epoch_time)\n",
        "print(datetime_time)\n",
        "# Pasadas de la ISS\n",
        "query = {'lat':'-31.3170', 'lon':'-64.2170'} # -31.3170  -64.2170\n",
        "response = requests.get('http://api.open-notify.org/iss-pass.json', params=query).json()\n",
        "\n",
        "print(response)\n",
        "\n",
        "for u in response['response']:\n",
        "  print('Duración:',str(u['duration']) + 's')\n",
        "  print('Hora:',datetime.datetime.fromtimestamp(u['risetime']-3*3600))\n",
        "\n",
        "\n",
        "# Astronautas en la ISS\n",
        "response = requests.get(\"http://api.open-notify.org/astros.json\")\n",
        "for w in response.json(): \n",
        "  print(w , response.json()[w])"
      ],
      "execution_count": null,
      "outputs": [
        {
          "output_type": "stream",
          "name": "stdout",
          "text": [
            "2021-05-28 17:17:51\n",
            "{'message': 'success', 'request': {'altitude': 100, 'datetime': 1634575825, 'latitude': -31.317, 'longitude': -64.217, 'passes': 5}, 'response': [{'duration': 540, 'risetime': 1634591240}, {'duration': 654, 'risetime': 1634596973}, {'duration': 472, 'risetime': 1634602915}, {'duration': 139, 'risetime': 1634608997}, {'duration': 336, 'risetime': 1634614830}]}\n",
            "Duración: 540s\n",
            "Hora: 2021-10-18 18:07:20\n",
            "Duración: 654s\n",
            "Hora: 2021-10-18 19:42:53\n",
            "Duración: 472s\n",
            "Hora: 2021-10-18 21:21:55\n",
            "Duración: 139s\n",
            "Hora: 2021-10-18 23:03:17\n",
            "Duración: 336s\n",
            "Hora: 2021-10-19 00:40:30\n",
            "number 10\n",
            "people [{'craft': 'ISS', 'name': 'Mark Vande Hei'}, {'craft': 'ISS', 'name': 'Pyotr Dubrov'}, {'craft': 'ISS', 'name': 'Thomas Pesquet'}, {'craft': 'ISS', 'name': 'Megan McArthur'}, {'craft': 'ISS', 'name': 'Shane Kimbrough'}, {'craft': 'ISS', 'name': 'Akihiko Hoshide'}, {'craft': 'ISS', 'name': 'Anton Shkaplerov'}, {'craft': 'Shenzhou 13', 'name': 'Zhai Zhigang'}, {'craft': 'Shenzhou 13', 'name': 'Wang Yaping'}, {'craft': 'Shenzhou 13', 'name': 'Ye Guangfu'}]\n",
            "message success\n"
          ]
        }
      ]
    },
    {
      "cell_type": "code",
      "metadata": {
        "colab": {
          "base_uri": "https://localhost:8080/"
        },
        "id": "oHt7cFU-J15R",
        "outputId": "bb7af6a9-cbb0-42da-a76c-3c1c266202ed"
      },
      "source": [
        "# https://openweathermap.org/ (se puede hacer un histórico de 5 días)\n",
        "import datetime\n",
        "epoch_time = 1622233071 - 3*3600\n",
        "datetime_time = datetime.datetime.fromtimestamp(epoch_time -3*3600)\n",
        "response = requests.get('http://api.openweathermap.org/data/2.5/find?q=Córdoba,,AR&units=metric&appid=4503bb43607c8263dd3ee5c3bdf25c7b&lang=es')\n",
        "print('Cargado')\n",
        "respuesta = response.json()['list'][0]['main']\n",
        "respuesta2 = response.json()['list'][0]['weather'][0]\n",
        "\n",
        "print(response.json())\n",
        "\n",
        "\n",
        "# print(response.json()['list'][0])\n",
        "\n",
        "epoch_time = response.json()['list'][0]['dt'] - 3*3600\n",
        "datetime_time = datetime.datetime.fromtimestamp(epoch_time)\n",
        "print('Tiempo en Córdoba:',datetime_time)\n",
        "print('    Temperatura:',str(respuesta['temp'])+'º')\n",
        "print('    Sensación térmica:',str(respuesta['feels_like'])+'º')\n",
        "print('    Humedad:',str(respuesta['humidity'])+'%')\n",
        "print('    Presión:',str(respuesta['pressure'])+' hp')\n",
        "print('    Descripción:',str(respuesta2['description']))\n",
        "\n",
        "response = requests.get('http://api.openweathermap.org/data/2.5/onecall/timemachine?lat=-31.4135&lon=-64.1811&dt=1622139853&appid=4503bb43607c8263dd3ee5c3bdf25c7b&lang=es')\n",
        "print(response.json())\n",
        "\n",
        "print('Tiempo en Córdoba - 5 días')\n"
      ],
      "execution_count": null,
      "outputs": [
        {
          "output_type": "stream",
          "name": "stdout",
          "text": [
            "Cargado\n",
            "{'message': 'accurate', 'cod': '200', 'count': 1, 'list': [{'id': 3860259, 'name': 'Córdoba', 'coord': {'lat': -31.4135, 'lon': -64.1811}, 'main': {'temp': 24.68, 'feels_like': 23.86, 'temp_min': 18.03, 'temp_max': 26.35, 'pressure': 1025, 'humidity': 25}, 'dt': 1634573342, 'wind': {'speed': 1.34, 'deg': 135}, 'sys': {'country': 'AR'}, 'rain': None, 'snow': None, 'clouds': {'all': 20}, 'weather': [{'id': 801, 'main': 'Clouds', 'description': 'algo de nubes', 'icon': '02d'}]}]}\n",
            "Tiempo en Córdoba: 2021-10-18 13:09:02\n",
            "    Temperatura: 24.68º\n",
            "    Sensación térmica: 23.86º\n",
            "    Humedad: 25%\n",
            "    Presión: 1025 hp\n",
            "    Descripción: algo de nubes\n",
            "{'cod': '400', 'message': 'requested time is out of allowed range of 5 days back'}\n",
            "Tiempo en Córdoba - 5 días\n"
          ]
        }
      ]
    },
    {
      "cell_type": "code",
      "metadata": {
        "id": "Ob4wldJYMLJG"
      },
      "source": [
        "# Ejemplo \n",
        "diccionario = {\n",
        "\t'message': 'accurate', \n",
        "\t'cod': '200', \n",
        "\t'count': 1, \n",
        "\t'list': \n",
        "\t\t[\n",
        "\t\t\t{\n",
        "\t\t\t\t'id': 3860259, \n",
        "\t\t\t\t'name': 'Córdoba', \n",
        "\t\t\t\t'coord': {'lat': -31.4135, 'lon': -64.1811}, \n",
        "\t\t\t\t'main': {'temp': 17.93, 'feels_like': 17.14, 'temp_min': 16.11, 'temp_max': 19, 'pressure': 1019, 'humidity': 52}, \n",
        "\t\t\t\t'dt': 1622642942, \n",
        "\t\t\t\t'wind': {'speed': 1.54, 'deg': 300}, \n",
        "\t\t\t\t'sys': {'country': 'AR'}, \n",
        "\t\t\t\t'rain': None, \n",
        "\t\t\t\t'snow': None, \n",
        "\t\t\t\t'clouds': {'all': 0}, \n",
        "\t\t\t\t'weather': [{'id': 800, 'main': 'Clear', 'description': 'cielo claro', 'icon': '01d'}]\n",
        "\t\t\t}\n",
        "\t\t]\n",
        "}"
      ],
      "execution_count": null,
      "outputs": []
    },
    {
      "cell_type": "code",
      "metadata": {
        "id": "WFMvM44J4IIv",
        "colab": {
          "base_uri": "https://localhost:8080/"
        },
        "outputId": "567514e5-b823-4bb9-d738-a7c17253801e"
      },
      "source": [
        "# https://www.visualcrossing.com/\n",
        "# APi key: J7YJAZU5QM7ZRYB96L6QECCUA\n",
        "# Permite en la versión libre 1000 registros por día \n",
        "url = \"https://weather.visualcrossing.com/VisualCrossingWebServices/rest/services/weatherdata/history?&aggregateHours=24&startDateTime=2017-06-01T00:00:00&endDateTime=2017-06-30T23:59:00&unitGroup=uk&contentType=csv&dayStartTime=0:0:00&dayEndTime=0:0:00&location=-31.3170,-64.2170&key=J7YJAZU5QM7ZRYB96L6QECCUA&lang=es\"\n",
        "\n",
        "response = requests.request(\"GET\", url)\n",
        "\n",
        "print(response.text)"
      ],
      "execution_count": null,
      "outputs": [
        {
          "output_type": "stream",
          "name": "stdout",
          "text": [
            "Address,Date time,Temperatura mÃ­nima,Temperatura mÃ¡xima,Temperatura,Punto de rocÃ­o,Humedad relativa,Ãndice de calor,Velocidad del viento,RÃ¡faga de viento,DirecciÃ³n del viento,EscalofrÃ­os,PrecipitaciÃ³n,Cubierta de precipitaciÃ³n,Profundidad de la nieve,Visibilidad,Cubierto de nubes,PresiÃ³n a nivel del mar,Tipo de clima,Latitude,Longitude,Resolved Address,Name,Info,Conditions\n",
            "\"-31.3170,-64.2170\",\"06/01/2017\",0.9,18.0,7.8,4.0,80.01,,11.4,,192.92,-2.0,0.0,0.0,,5.4,1.9,1020.2,\"Niebla, Niebla, Aumento de la cobertura del cielo, Humo o neblina\",-31.317,-64.217,\"-31.3170,-64.2170\",\"-31.3170,-64.2170\",\"\",\"Claro\"\n",
            "\"-31.3170,-64.2170\",\"06/02/2017\",0.9,20.0,9.0,4.1,75.75,,18.3,,148.75,-1.5,0.0,0.0,,6.3,5.8,1017.7,\"Niebla, Niebla\",-31.317,-64.217,\"-31.3170,-64.2170\",\"-31.3170,-64.2170\",\"\",\"Claro\"\n",
            "\"-31.3170,-64.2170\",\"06/03/2017\",4.1,20.0,10.7,5.5,74.52,,11.4,,177.0,2.8,0.0,0.0,,6.2,20.8,1012.5,\"Niebla, Niebla, Cielo sin cambios\",-31.317,-64.217,\"-31.3170,-64.2170\",\"-31.3170,-64.2170\",\"\",\"Claro\"\n",
            "\"-31.3170,-64.2170\",\"06/04/2017\",5.0,18.0,10.8,5.5,72.13,,17.2,,219.58,2.8,0.0,0.0,,6.2,33.3,1016.4,\"Niebla\",-31.317,-64.217,\"-31.3170,-64.2170\",\"-31.3170,-64.2170\",\"\",\"Parcialmente nublado\"\n",
            "\"-31.3170,-64.2170\",\"06/05/2017\",4.0,11.0,8.8,0.5,57.57,,9.2,,187.92,2.8,0.0,0.0,,6.3,59.0,1021.0,\"\",-31.317,-64.217,\"-31.3170,-64.2170\",\"-31.3170,-64.2170\",\"\",\"Parcialmente nublado\"\n",
            "\"-31.3170,-64.2170\",\"06/06/2017\",1.0,18.0,8.0,3.2,75.01,,11.4,,197.27,-0.6,0.0,0.0,,6.1,10.0,1018.9,\"Niebla\",-31.317,-64.217,\"-31.3170,-64.2170\",\"-31.3170,-64.2170\",\"\",\"Claro\"\n",
            "\"-31.3170,-64.2170\",\"06/07/2017\",2.0,17.0,8.7,5.3,81.25,,15.0,,227.92,0.9,0.0,0.0,,6.2,28.3,1009.7,\"\",-31.317,-64.217,\"-31.3170,-64.2170\",\"-31.3170,-64.2170\",\"\",\"Parcialmente nublado\"\n",
            "\"-31.3170,-64.2170\",\"06/08/2017\",3.0,14.0,9.0,-0.6,55.3,,27.7,40.3,211.42,0.4,202.0,4.17,,5.9,29.9,1017.0,\"Niebla, DisminuciÃ³n de la cobertura del cielo, Cielo sin cambios, Humo o neblina\",-31.317,-64.217,\"-31.3170,-64.2170\",\"-31.3170,-64.2170\",\"\",\"Lluvia, Parcialmente nublado\"\n",
            "\"-31.3170,-64.2170\",\"06/09/2017\",1.0,21.0,10.0,-1.6,47.73,,8.1,,252.5,-2.4,0.0,0.0,,6.3,5.0,1022.1,\"\",-31.317,-64.217,\"-31.3170,-64.2170\",\"-31.3170,-64.2170\",\"\",\"Claro\"\n",
            "\"-31.3170,-64.2170\",\"06/10/2017\",6.0,27.0,14.9,2.8,48.36,26.1,10.3,,210.0,4.4,0.0,0.0,,6.1,0.0,1014.3,\"Humo o neblina\",-31.317,-64.217,\"-31.3170,-64.2170\",\"-31.3170,-64.2170\",\"\",\"Claro\"\n",
            "\"-31.3170,-64.2170\",\"06/11/2017\",2.0,17.0,10.0,0.3,55.52,,24.2,30.0,202.5,-0.3,0.0,0.0,,6.3,0.8,1016.3,\"Humo o neblina\",-31.317,-64.217,\"-31.3170,-64.2170\",\"-31.3170,-64.2170\",\"\",\"Claro\"\n",
            "\"-31.3170,-64.2170\",\"06/12/2017\",-0.9,18.0,7.2,-1.0,62.02,,15.0,6.9,192.08,-4.3,0.0,0.0,,6.3,4.6,1018.6,\"\",-31.317,-64.217,\"-31.3170,-64.2170\",\"-31.3170,-64.2170\",\"\",\"Claro\"\n",
            "\"-31.3170,-64.2170\",\"06/13/2017\",0.0,22.0,10.3,4.8,72.79,,10.3,,152.27,-0.7,0.0,0.0,,6.0,1.8,1017.2,\"Niebla, Aumento de la cobertura del cielo, Humo o neblina\",-31.317,-64.217,\"-31.3170,-64.2170\",\"-31.3170,-64.2170\",\"\",\"Claro\"\n",
            "\"-31.3170,-64.2170\",\"06/14/2017\",8.9,23.0,14.9,9.3,71.39,,20.8,,217.08,7.1,0.0,0.0,,6.3,23.5,1016.5,\"Niebla\",-31.317,-64.217,\"-31.3170,-64.2170\",\"-31.3170,-64.2170\",\"\",\"Claro\"\n",
            "\"-31.3170,-64.2170\",\"06/15/2017\",9.9,28.0,18.2,12.4,72.15,27.6,21.9,,267.92,9.5,0.0,0.0,,6.2,25.6,1008.3,\"\",-31.317,-64.217,\"-31.3170,-64.2170\",\"-31.3170,-64.2170\",\"\",\"Parcialmente nublado\"\n",
            "\"-31.3170,-64.2170\",\"06/16/2017\",12.9,22.0,17.8,15.2,85.41,,10.3,,205.42,,0.0,0.0,,6.2,50.9,1001.3,\"Niebla\",-31.317,-64.217,\"-31.3170,-64.2170\",\"-31.3170,-64.2170\",\"\",\"Parcialmente nublado\"\n",
            "\"-31.3170,-64.2170\",\"06/17/2017\",9.0,23.0,16.0,7.2,61.36,,17.2,,210.48,6.9,0.0,0.0,,6.0,15.9,1004.9,\"Niebla, DisminuciÃ³n de la cobertura del cielo, Humo o neblina\",-31.317,-64.217,\"-31.3170,-64.2170\",\"-31.3170,-64.2170\",\"\",\"Claro\"\n",
            "\"-31.3170,-64.2170\",\"06/18/2017\",-3.0,12.0,7.2,-6.9,39.63,,20.8,32.2,201.67,-6.1,0.0,0.0,,6.3,17.9,1024.0,\"\",-31.317,-64.217,\"-31.3170,-64.2170\",\"-31.3170,-64.2170\",\"\",\"Claro\"\n",
            "\"-31.3170,-64.2170\",\"06/19/2017\",-5.0,13.0,2.5,-6.2,60.76,,9.2,,240.83,-9.1,0.0,0.0,,6.3,5.4,1029.4,\"\",-31.317,-64.217,\"-31.3170,-64.2170\",\"-31.3170,-64.2170\",\"\",\"Claro\"\n",
            "\"-31.3170,-64.2170\",\"06/20/2017\",-6.0,13.1,2.2,-4.7,65.41,,16.1,,170.0,-9.7,0.0,0.0,,7.3,32.7,1024.3,\"\",-31.317,-64.217,\"-31.3170,-64.2170\",\"-31.3170,-64.2170\",\"\",\"Parcialmente nublado\"\n",
            "\"-31.3170,-64.2170\",\"06/21/2017\",-1.9,21.3,8.9,0.4,60.35,,12.7,,221.25,-2.7,0.0,0.0,,6.0,30.0,1015.2,\"Niebla, Humo o neblina\",-31.317,-64.217,\"-31.3170,-64.2170\",\"-31.3170,-64.2170\",\"\",\"Parcialmente nublado\"\n",
            "\"-31.3170,-64.2170\",\"06/22/2017\",6.0,25.9,17.2,9.7,63.23,,18.3,,225.56,5.1,0.0,0.0,,6.3,20.6,1005.1,\"Humo o neblina\",-31.317,-64.217,\"-31.3170,-64.2170\",\"-31.3170,-64.2170\",\"\",\"Claro\"\n",
            "\"-31.3170,-64.2170\",\"06/23/2017\",6.0,22.0,13.8,10.1,79.75,,6.9,,207.27,7.3,0.0,0.0,,5.7,18.5,1009.2,\"Niebla, Aumento de la cobertura del cielo\",-31.317,-64.217,\"-31.3170,-64.2170\",\"-31.3170,-64.2170\",\"\",\"Claro\"\n",
            "\"-31.3170,-64.2170\",\"06/24/2017\",9.9,23.0,15.5,11.9,80.71,,15.0,,122.17,,0.0,0.0,,5.8,33.9,1012.6,\"Niebla, Niebla, Humo o neblina\",-31.317,-64.217,\"-31.3170,-64.2170\",\"-31.3170,-64.2170\",\"\",\"Parcialmente nublado\"\n",
            "\"-31.3170,-64.2170\",\"06/25/2017\",13.0,28.0,20.3,14.2,70.47,28.0,19.7,,104.55,,0.0,0.0,,6.3,34.6,1007.7,\"Niebla\",-31.317,-64.217,\"-31.3170,-64.2170\",\"-31.3170,-64.2170\",\"\",\"Parcialmente nublado\"\n",
            "\"-31.3170,-64.2170\",\"06/26/2017\",14.0,24.0,19.6,15.1,75.79,,15.0,,45.22,,0.0,0.0,,6.1,57.4,1006.8,\"Lluvia, Lluvia ligera\",-31.317,-64.217,\"-31.3170,-64.2170\",\"-31.3170,-64.2170\",\"\",\"Parcialmente nublado\"\n",
            "\"-31.3170,-64.2170\",\"06/27/2017\",10.0,14.6,12.3,10.1,87.18,,10.3,,186.11,7.7,11.5,16.67,,5.7,58.2,1016.5,\"Llovizna, Llovizna ligera, Lluvia, Fuerte llovizna / lluvia, Lluvia ligera, Aumento de la cobertura del cielo\",-31.317,-64.217,\"-31.3170,-64.2170\",\"-31.3170,-64.2170\",\"\",\"Lluvia, Parcialmente nublado\"\n",
            "\"-31.3170,-64.2170\",\"06/28/2017\",5.7,13.0,9.3,7.2,87.42,,5.8,,108.33,4.4,0.1,4.17,,5.3,45.3,1023.6,\"Llovizna, Niebla, Llovizna ligera, DisminuciÃ³n de la cobertura del cielo, Aumento de la cobertura del cielo\",-31.317,-64.217,\"-31.3170,-64.2170\",\"-31.3170,-64.2170\",\"\",\"Lluvia, Parcialmente nublado\"\n",
            "\"-31.3170,-64.2170\",\"06/29/2017\",2.0,18.0,8.0,5.7,87.58,,4.7,,211.74,1.6,0.0,0.0,,4.1,20.3,1020.9,\"Niebla, Niebla, Aumento de la cobertura del cielo\",-31.317,-64.217,\"-31.3170,-64.2170\",\"-31.3170,-64.2170\",\"\",\"Claro\"\n",
            "\"-31.3170,-64.2170\",\"06/30/2017\",2.0,20.0,9.7,3.9,72.5,,8.1,,227.92,-0.3,0.0,0.0,,6.0,0.0,1024.2,\"Niebla\",-31.317,-64.217,\"-31.3170,-64.2170\",\"-31.3170,-64.2170\",\"\",\"Claro\"\n",
            "\n"
          ]
        }
      ]
    }
  ]
}