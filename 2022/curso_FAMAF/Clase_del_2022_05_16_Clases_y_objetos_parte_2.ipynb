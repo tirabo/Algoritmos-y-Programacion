{
  "cells": [
    {
      "cell_type": "markdown",
      "metadata": {
        "id": "8L6Rn79DPQgi"
      },
      "source": [
        "# Clases (2° parte)\n",
        "\n",
        "Veremos ejemplos de implementaciones de clases"
      ]
    },
    {
      "cell_type": "markdown",
      "metadata": {
        "id": "4MCFgeVOUDc8"
      },
      "source": [
        "\n",
        "## 1. Ejemplo. Rectángulos. \n",
        "\n",
        "Hagamos un ejemplo sencillo, con una clase análoga a `Circulo` de la clase pasada, pero dependiendo de dos variables de estado."
      ]
    },
    {
      "cell_type": "code",
      "execution_count": null,
      "metadata": {
        "id": "A7Hm6u9vUOwj"
      },
      "outputs": [],
      "source": [
        "class Rectangulo:\n",
        "# Construye un objeto rectángulo con los lados dados\n",
        "    def __init__(self, ancho = 1, alto = 1):\n",
        "        self.__ancho = ancho\n",
        "        self.__alto = alto\n",
        "    def get_alto(self):\n",
        "        return self.__alto\n",
        "    def get_ancho(self):\n",
        "        return self.__ancho\n",
        "    def get_lados(self):\n",
        "        return (self.__alto, self.__ancho)\n",
        "    def get_perimetro(self):\n",
        "        return 2 * self.__alto + 2 * self.__ancho\n",
        "    def get_area(self):\n",
        "        return self.__alto * self.__ancho \n",
        "    def set_alto(self, alto):\n",
        "        self.__alto = alto\n",
        "    def set_ancho(self, ancho):\n",
        "        self.__ancho = ancho\n",
        "    def __eq__(self, otro):\n",
        "        return self.get_lados() == otro.get_lados()\n",
        "    def __str__(self):\n",
        "        return \"Rectangulo(alto = {}, ancho = {})\".format(self.__alto, self.__ancho)"
      ]
    },
    {
      "cell_type": "code",
      "execution_count": null,
      "metadata": {
        "colab": {
          "base_uri": "https://localhost:8080/"
        },
        "id": "WZSiFAsDVdT7",
        "outputId": "9a5724f0-bf83-434d-fc2f-6c3c5730367f"
      },
      "outputs": [],
      "source": [
        "s = Rectangulo(5, 3)\n",
        "print(s)\n",
        "print(s.get_lados())\n",
        "print(s.get_perimetro())\n",
        "print(s.get_area())\n",
        "s.set_alto(10)\n",
        "s.set_ancho(20)\n",
        "print(s.get_lados())"
      ]
    },
    {
      "cell_type": "markdown",
      "metadata": {
        "id": "lo41MOE6V7Sc"
      },
      "source": [
        "## 2. Ejemplo. Clase Personas.\n",
        "\n",
        "Definamos una clase que sirva para almacenar datos de personas."
      ]
    },
    {
      "cell_type": "code",
      "execution_count": null,
      "metadata": {
        "id": "0R-AZeBEV6Nc"
      },
      "outputs": [],
      "source": [
        "class Persona:\n",
        "    def __init__(self, dni = '00000000'):\n",
        "        assert type(dni) == str and dni.isnumeric(), 'El DNI debe ser una cadena de dígitos'\n",
        "        assert 7 <= len(dni) <= 8, 'El DNI debe tener 7 u 8 dígitos'\n",
        "        self.__dni = dni\n",
        "        self.__nombres = ''\n",
        "        self.__apellidos = ''\n",
        "        self.__celular = ''\n",
        "        self.__nacionalidad = ''\n",
        "    def dni(self):\n",
        "        return self.__dni\n",
        "    def nombres(self):\n",
        "        return self.__nombres\n",
        "    def celular(self):\n",
        "        return self.__celular\n",
        "    def nombre_completo(self):\n",
        "        return self.__nombres + ' ' + self.__apellidos\n",
        "    def set_nombres(self, nombres):\n",
        "        self.__nombres = nombres\n",
        "    def set_apellidos(self, apellidos):\n",
        "        self.__apellidos = apellidos\n",
        "    def set_celular(self, nro_celular):\n",
        "        self.__celular = nro_celular\n",
        "    def __str__(self):\n",
        "        return self.__nombres +' '+ self.__apellidos +' (DNI: ' + self.__dni + ')'"
      ]
    },
    {
      "cell_type": "code",
      "execution_count": null,
      "metadata": {
        "colab": {
          "base_uri": "https://localhost:8080/"
        },
        "id": "1jhDfwX0YLo4",
        "outputId": "fba3c01e-685e-4f0d-8561-cec33b927550"
      },
      "outputs": [],
      "source": [
        "pedro = Persona('38678543')\n",
        "pedro.set_nombres('Pedro Luis')\n",
        "pedro.set_apellidos('Ramirez')\n",
        "print(pedro.nombres())\n",
        "print(pedro.nombre_completo())\n",
        "print(pedro)"
      ]
    },
    {
      "cell_type": "markdown",
      "metadata": {
        "id": "PItO6omtaO3o"
      },
      "source": [
        "## 3. Ejemplo. Fracciones\n",
        "\n",
        "Un  ejemplo interesante, y un poco más complejo, de definición de clases es el de las fracciones, que llamamos `Racional` por su correspondencia con los números racionales\n",
        "\n",
        "Lo que queremos representar son las fracciones  $\\displaystyle\\frac{a}{b}$ donde $a, b \\in \\mathbb Z$ y $b \\ne 0$. En las fracciones queremos definir suma, resta, multiplicación y división. \n",
        "\n",
        "Las variables de estado de la clase `Racional` serán 3: el valor absoluto del numerador,  el valor absoluto del denominador y  el signo de la fracción."
      ]
    },
    {
      "cell_type": "code",
      "execution_count": 26,
      "metadata": {
        "id": "xooATxYaaUI2"
      },
      "outputs": [],
      "source": [
        "class Racional:\n",
        "    def __init__(self, num = 0, den = 1):\n",
        "        assert type(num) == type(den) == int and den != 0, 'Error: intento de crear fracción no válida.'\n",
        "        self.__numerador = abs(num)\n",
        "        self.__denominador = abs(den)\n",
        "        self.__signo = 1 if num * den >= 0 else -1\n",
        "    def numerador(self):\n",
        "        return self.__signo * self.__numerador\n",
        "    def denominador(self):\n",
        "        return self.__denominador\n",
        "    # setters, no queremos que racional sea mutable, no hay setters\n",
        "    def __str__(self):\n",
        "        if self.numerador() == 0:\n",
        "            return '0'\n",
        "        else:\n",
        "            return str(self.numerador()) + '/' + str(self.denominador())\n",
        "    def __eq__(self, otro) -> bool:\n",
        "        assert isinstance(otro, Racional), 'Error: el parámetro debe ser instancia de Racional.'\n",
        "        return self.numerador() == otro.numerador() and self.denominador() == otro.denominador()\n",
        "    def __add__(self, otro):\n",
        "        assert isinstance(otro, Racional), 'Error: el parámetro debe ser instancia de Racional.'\n",
        "        # a/b + c/d = (a*d + c*b)/(b*d)\n",
        "        numerador = self.numerador() *  otro.denominador() +  otro.numerador() * self.denominador()\n",
        "        denominador = self.denominador() * otro.denominador()\n",
        "        return Racional(numerador, denominador)\n",
        "    def __mul__(self, otro):\n",
        "        assert isinstance(otro, Racional), 'Error: otro debe ser instancia de Racional.'\n",
        "        # a/b * c/d = (a*c)/(b*d)\n",
        "        numerador = self.numerador() * otro.numerador()\n",
        "        denominador = self.denominador() * otro.denominador()\n",
        "        return Racional(numerador, denominador)"
      ]
    },
    {
      "cell_type": "code",
      "execution_count": 27,
      "metadata": {
        "colab": {
          "base_uri": "https://localhost:8080/"
        },
        "id": "EEAnWxhYf9hQ",
        "outputId": "b916564a-a8ea-4c24-d4be-ea8af67afb32"
      },
      "outputs": [
        {
          "name": "stdout",
          "output_type": "stream",
          "text": [
            "0\n",
            "1/2\n",
            "2/4\n",
            "0\n",
            "1/2\n",
            "2/4\n",
            "8/8\n",
            "-2/6\n"
          ]
        }
      ],
      "source": [
        "r1 = Racional()\n",
        "r2 = Racional(1,2)\n",
        "r3 = Racional(-2,-4)\n",
        "print(r1)\n",
        "print(r2)\n",
        "print(r3)\n",
        "r4 = r2 + r3\n",
        "print(r1)\n",
        "print(r2)\n",
        "print(r3)\n",
        "print(r4)\n",
        "r5 = r2 * Racional(2,-3)\n",
        "print(r5)"
      ]
    },
    {
      "cell_type": "markdown",
      "metadata": {},
      "source": [
        "Aún faltan métodos, el que hace la resta y el el que divide, pero los dejamos para otra ocasión.  Lo  que vamos a agregar a nuestra clase es un método que reduce la fracción a la forma  $\\displaystyle\\frac{a}{b}$  con $\\operatorname{mcd}(a,b) = 1$,  es decir modifica la representación de la fracción original a una representación como fracción reducida. Más aún,  usaremos este método para que todos los resultados se expresen como fracciones reducidas. \n",
        "\n",
        "Algebraicamente para reducir una fracción $\\displaystyle\\frac{a}{b}$ debemos hacer:\n",
        "$$\n",
        "\\frac{a}{b} = \\frac{(a/\\operatorname{mcd}(a,b))}{(b/\\operatorname{mcd}(a,b))}.\n",
        "$$"
      ]
    },
    {
      "cell_type": "code",
      "execution_count": null,
      "metadata": {},
      "outputs": [],
      "source": [
        "class Racional:\n",
        "    def __init__(self, num = 0, den = 1):\n",
        "        assert type(num) == type(den) == int and den != 0, 'Error: intento de crear fracción no válida.'\n",
        "        num_p, den_p = abs(num), abs(den)\n",
        "        self.__numerador = abs(num_p // Racional.__mcd(num_p, den_p))\n",
        "        self.__denominador = abs(den_p // Racional.__mcd(num_p, den_p))\n",
        "        self.__signo = 1 if num * den >= 0 else -1\n",
        "\n",
        "    def __mcd(a, b: int) -> int: # método oculto para calcular el máximo común divisor de 2 enteros no negativos, b > 0\n",
        "        x, y = min(a, b), max(a, b)\n",
        "        while x != 0: # \"mientras x distinto de 0\" \n",
        "            x, y = min(x, y - x), max(x, y - x)\n",
        "        return y\n",
        "\n",
        "    def numerador(self):\n",
        "        return self.__signo * self.__numerador\n",
        "    def denominador(self):\n",
        "        return self.__denominador\n",
        "    def __str__(self):\n",
        "        if self.numerador() == 0:\n",
        "            return '0'\n",
        "        else:\n",
        "            return str(self.numerador()) + '/' + str(self.denominador())\n",
        "    def __eq__(self, otro) -> bool:\n",
        "        assert isinstance(otro, Racional), 'Error: el parámetro debe ser instancia de Racional.'\n",
        "        return self.numerador() == otro.numerador() and self.denominador() == otro.denominador()\n",
        "    def __add__(self, otro):\n",
        "        assert isinstance(otro, Racional), 'Error: el parámetro debe ser instancia de Racional.'\n",
        "        # a/b + c/d = (a*d + c*b)/(b*d)\n",
        "        numerador = self.numerador() *  otro.denominador() +  otro.numerador() * self.denominador()\n",
        "        denominador = self.denominador() * otro.denominador()\n",
        "        return Racional(numerador, denominador)\n",
        "    def __mul__(self, otro):\n",
        "        assert isinstance(otro, Racional), 'Error: otro debe ser instancia de Racional.'\n",
        "        # a/b * c/d = (a*c)/(b*d)\n",
        "        numerador = self.numerador() * otro.numerador()\n",
        "        denominador = self.denominador() * otro.denominador()\n",
        "        return Racional(numerador, denominador)"
      ]
    },
    {
      "cell_type": "markdown",
      "metadata": {},
      "source": [
        "Observar que al modificar el método `__init__` de tal forma que la fracción se represente en modo irreducible y al estar bien definidos los métodos, todos los demás métodos trabajan sin problemas con las representaciones irreducibles. "
      ]
    },
    {
      "cell_type": "code",
      "execution_count": 24,
      "metadata": {},
      "outputs": [
        {
          "name": "stdout",
          "output_type": "stream",
          "text": [
            "0\n",
            "1/2\n",
            "1/2\n",
            "0\n",
            "1/2\n",
            "1/2\n",
            "1/1\n",
            "-1/3\n"
          ]
        }
      ],
      "source": [
        "r1 = Racional()\n",
        "r2 = Racional(1,2)\n",
        "r3 = Racional(-2,-4)\n",
        "print(r1)\n",
        "print(r2)\n",
        "print(r3) # -2/-4 = 1/2\n",
        "r4 = r2 + r3\n",
        "print(r1)\n",
        "print(r2)\n",
        "print(r3)\n",
        "print(r4)\n",
        "r5 = r2 * Racional(2,-3)\n",
        "print(r5)"
      ]
    },
    {
      "cell_type": "markdown",
      "metadata": {},
      "source": [
        "Finalmente,  notemos que es posible definir métodos en la clase que no tienen como primer parámetro `self`. Estos métodos no son de cada instancia sino  de la clase misma y deben ser invocados de la siguiente manera\n",
        "\n",
        "```\n",
        "Nombre_de_la_clase.nombre_del_metodo(parámetros ...)\n",
        "```\n",
        "\n",
        "Si el comienzo del nombre de un método es `__` (dos guiones bajos) el método solo puede ser usado en el cuerpo de la definición de la clase,  es decir es un método privado."
      ]
    }
  ],
  "metadata": {
    "colab": {
      "authorship_tag": "ABX9TyOJ+miEy7R4RZ2rRU1rv3/5",
      "include_colab_link": true,
      "name": "Clase práctica 03-11-21.ipynb",
      "provenance": []
    },
    "kernelspec": {
      "display_name": "Python 3",
      "name": "python3"
    },
    "language_info": {
      "codemirror_mode": {
        "name": "ipython",
        "version": 3
      },
      "file_extension": ".py",
      "mimetype": "text/x-python",
      "name": "python",
      "nbconvert_exporter": "python",
      "pygments_lexer": "ipython3",
      "version": "3.9.6"
    }
  },
  "nbformat": 4,
  "nbformat_minor": 0
}
