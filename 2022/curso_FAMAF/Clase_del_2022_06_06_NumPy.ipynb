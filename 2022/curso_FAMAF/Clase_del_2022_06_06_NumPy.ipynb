{
  "nbformat": 4,
  "nbformat_minor": 0,
  "metadata": {
    "colab": {
      "name": "Clase_del_2022_06_06_NumPy.ipynb",
      "provenance": [],
      "collapsed_sections": []
    },
    "kernelspec": {
      "name": "python3",
      "display_name": "Python 3"
    },
    "language_info": {
      "name": "python"
    }
  },
  "cells": [
    {
      "cell_type": "markdown",
      "metadata": {
        "id": "h7zwTx_hihhj"
      },
      "source": [
        "# Introducción a NumPy\n",
        "\n",
        "**Referencias:** \n",
        "\n",
        "- https://www.freecodecamp.org/espanol/news/la-guia-definitiva-del-paquete-numpy-para-computacion-cientifica-en-python/\n",
        "- https://numpy.org/doc/stable/\n",
        "- http://www.denebola.org/japp/CC/numpy.html\n",
        "\n",
        "*Esencialmente* NumPy es una biblioteca donde la estructura más destacada es la de *arreglo* o *array* en inglés. NumPy también permite a los desarrolladores de Python realizar en forma rápida una amplia variedad de cálculo numéricos.\n",
        "\n",
        "Es de mucho uso en las aplicaciones numéricas."
      ]
    },
    {
      "cell_type": "markdown",
      "source": [
        "## 1. ¿Qué es NumPy?\n",
        "NumPy es el paquete fundamental para la computación científica en Python. Es una biblioteca de Python que proporcion amatrices multidimensionales, varios objetos derivados (como matrices y matrices enmascaradas), y un surtido de rutinas para realizar operaciones rápidas con matrices, incluyendo operaciones matemáticas, lógicas, de manipulación de formas, de ordenación, de selección, de E/S, de transformadas discretas de Fourier, de álgebra lineal básica, de operaciones estadísticas básicas, de simulación aleatoria y mucho más.\n",
        "\n",
        "**Principales características**\n",
        "\n",
        "1. POTENTES ARRAYS N-DIMENSIONALES. \n",
        "Rápidos y versátiles, los conceptos de vectorización, indexación y difusión de NumPy son los estándares de facto de la computación de arrays hoy en día.\n",
        "2. HERRAMIENTAS DE CÁLCULO NUMÉRICO.\n",
        "NumPy ofrece funciones matemáticas completas, generadores de números aleatorios, rutinas de álgebra lineal, transformadas de Fourier y mucho más.\n",
        "3. INTEROPERABLE. NumPy es compatible con una amplia gama de plataformas de hardware y de computación, y funciona bien con bibliotecas distribuidas, de GPU y de matrices dispersas.\n",
        "4. RENDIMIENTO. El núcleo de NumPy es un código C bien optimizado. Se utiliza la flexibilidad de Python y la velocidad del código compilado.\n",
        "5. FÁCIL DE USAR. La sintaxis de alto nivel de NumPy lo hace accesible y productivo para programadores de cualquier nivel de experiencia.\n",
        "6. CÓDIGO ABIERTO. Distribuido bajo una licencia  BSD, NumPy es desarrollado y mantenido públicamente en GitHub por una activa comunidad de programadores."
      ],
      "metadata": {
        "id": "dTWmJAGrtXH6"
      }
    },
    {
      "cell_type": "markdown",
      "metadata": {
        "id": "RedsdQwgcq0d"
      },
      "source": [
        "## 2. Instalación de NumPy\n",
        "\n",
        "Para Colab no es necesario hacer ninguna instalación para utilizar NumPy, solo hay que importarlo para usarlo. \n",
        "\n",
        "En  el caso de una instalación de Python en una PC, se debe instala haciendo \n",
        "\n",
        "\n",
        "```\n",
        "pip install numpy\n",
        "```\n",
        "\n",
        "Una vez instalado se lo puede utilizar haciendo la siguiente instrucción:\n"
      ]
    },
    {
      "cell_type": "code",
      "source": [
        "import numpy as np"
      ],
      "metadata": {
        "id": "ybSlvg1BwKe4"
      },
      "execution_count": null,
      "outputs": []
    },
    {
      "cell_type": "markdown",
      "source": [
        "La tradición es renombrar `numpy` como `np`, pero se podría haber elegido otro nombre. "
      ],
      "metadata": {
        "id": "9G8zF8STxYy4"
      }
    },
    {
      "cell_type": "markdown",
      "source": [
        "## 3. Arreglos de NumPy: introducción\n",
        "En esta sección, aprenderemos sobre los arreglos de NumPy.\n",
        "\n",
        "**¿Qué son los Arreglos de NumPy?**\n",
        "\n",
        "Los arreglos NumPy son la forma principal de almacenar datos utilizando la biblioteca NumPy. Son similares a las listas normales en Python, pero tienen la ventaja de ser más rápidos y tener más métodos integrados.\n",
        "\n",
        "Los arreglos de NumPy son creados llamando al método `array()` de la biblioteca de NumPy. Dentro del método, se debería pasar una lista.\n",
        "\n",
        "A continuación, se muestra un ejemplo de un arreglo de NumPy básico. \n"
      ],
      "metadata": {
        "id": "d-qUMdu1xyVq"
      }
    },
    {
      "cell_type": "code",
      "source": [
        "sample_list = [1, 2, 3]\n",
        "np.array(sample_list)"
      ],
      "metadata": {
        "id": "aR-dsYJGyYMu"
      },
      "execution_count": null,
      "outputs": []
    },
    {
      "cell_type": "markdown",
      "source": [
        "Como hemos observado, la última línea de ese bloque de código dará como resultado una salida que se ve así.\n",
        "\n",
        "```\n",
        "array([1,2,3])\n",
        "```\n",
        "\n",
        "El contenedor `array()` indica que esta ya no es una lista normal de Python. En cambio, es un arreglo de NumPy.\n",
        "\n",
        "**Los dos tipos diferentes de arreglos de NumPy**\n",
        "\n",
        "Hay dos tipos diferentes de arreglos de NumPy: *vectores* y *matrices.*\n",
        "\n",
        "Los vectores son arreglos de NumPy uni-dimensionales y se ve así:\n",
        "\n",
        "```\n",
        "my_vector = np.array(['este', 'es', 'un', 'vector'])\n",
        "```\n",
        "\n",
        "Las matrices son arreglo bi-dimensionales y son creadas pasando una lista de listas dentro del método `np.array()`. Un ejemplo es el siguiente.\n",
        "\n",
        "```\n",
        "my_matrix = [[1, 2, 3],[4, 5, 6],[7, 8, 9]]\n",
        "np.array(my_matrix)\n",
        "```\n",
        "\n",
        "También se pueden expandir los arreglos de NumPy para trabajar con matrices de tres, cuatro, cinco, seis o más dimensiones."
      ],
      "metadata": {
        "id": "E9UF7oejyZ3x"
      }
    },
    {
      "cell_type": "code",
      "source": [
        "my_matrix = [[1, 2, 3],[4, 5, 6],[7, 8, 9]]\n",
        "np.array(my_matrix)\n",
        "print(type(my_matrix[0]))\n",
        "\n",
        "f1 = np.array([1, 2, 3])\n",
        "f2 = np.array([4, 5, 6])\n",
        "f3 = np.array([7, 8, 9])\n",
        "mm = np.array([f1, f2, f3])\n",
        "print(type(mm[0]))\n"
      ],
      "metadata": {
        "id": "goIu6bMD9IqG"
      },
      "execution_count": null,
      "outputs": []
    },
    {
      "cell_type": "markdown",
      "source": [
        "**Tipos en un arreglo NumPy**\n",
        "\n",
        "A diferencia que en listas, los elementos de un arreglo de NumPy son todos del mismo tipo,  o podemos hacer arreglos heterogeneos. Los tipos de los elementos de un arreglo NumPy  son tipos propios de NumPy:"
      ],
      "metadata": {
        "id": "LifRTf6WRwPS"
      }
    },
    {
      "cell_type": "code",
      "source": [
        "arr_str = np.array(['este', 'es', 'un', 'vector'])\n",
        "type(arr_str[0])"
      ],
      "metadata": {
        "id": "2ujKqj8dSPg2"
      },
      "execution_count": null,
      "outputs": []
    },
    {
      "cell_type": "code",
      "source": [
        "arr_int = np.array([1, 2, 3, 4])\n",
        "type(arr_int[0])"
      ],
      "metadata": {
        "id": "MxNN8hQMSf7Y"
      },
      "execution_count": null,
      "outputs": []
    },
    {
      "cell_type": "code",
      "source": [
        "arr_float = np.array([1, 2., 3, 4])\n",
        "type(arr_float[0])"
      ],
      "metadata": {
        "id": "g2IL-ee2SgFS"
      },
      "execution_count": null,
      "outputs": []
    },
    {
      "cell_type": "markdown",
      "source": [
        "Observar que si cuando definimos un arreglo donde hay decimales y enteros,  el arreglo se considera de decimales.\n",
        "\n",
        "Otro ejemplo:"
      ],
      "metadata": {
        "id": "A-OVgxf8S2tD"
      }
    },
    {
      "cell_type": "code",
      "source": [
        "arr_sfi = np.array([1, 2., '3', 4])\n",
        "print(arr_sfi)\n",
        "type(arr_sfi[0])"
      ],
      "metadata": {
        "id": "Njcm0g-vTE3s"
      },
      "execution_count": null,
      "outputs": []
    },
    {
      "cell_type": "code",
      "source": [
        "arr_h = np.array([f1, [1,2]], dtype = np.ndarray)\n",
        "print(arr_h)\n",
        "type(arr_h[0])"
      ],
      "metadata": {
        "id": "hqBDDwDL-qoB"
      },
      "execution_count": null,
      "outputs": []
    },
    {
      "cell_type": "markdown",
      "source": [
        "**Inserción de elementos en un arreglo**\n",
        "\n",
        "Para añadir elementos, NumPy tiene las funciones `insert()` y `append()`, que funcionan de manera similar a sus equivalentes en listas, pero en este caso son funciones y no métodos que se aplican a un array:\n"
      ],
      "metadata": {
        "id": "vPMlEdsbP2js"
      }
    },
    {
      "cell_type": "code",
      "source": [
        "z = np.array([5.6, 7.3, 7.7, 2.3, 4.2, 9.2, 7.])\n",
        "# Añadimos el elemento 100 al array z, al final\n",
        "z = np.append(z, 100)\n",
        "print(z)"
      ],
      "metadata": {
        "id": "m2pNCiIaQQg8"
      },
      "execution_count": null,
      "outputs": []
    },
    {
      "cell_type": "code",
      "source": [
        "# Añadimos el elemento 200 al array z, en el tercer puesto (índice 2)\n",
        "z = np.insert(z, 2, 200)\n",
        "print(z)"
      ],
      "metadata": {
        "id": "JRUG8SJwQu91"
      },
      "execution_count": null,
      "outputs": []
    },
    {
      "cell_type": "markdown",
      "source": [
        "\n",
        "Como se ve, a diferencia de las listas, el primer parámetro es el array y luego el elemento que se quiere añadir, en el caso de `append()` y el array, la posición y luego elemento a añadir en el caso de `insert()`. Si en lugar de un elemento a insertar se da una lista y otro array, añade todos los elementos de la lista (a `append()` habría que dar también una lista de posiciones, como segundo parámetro). También hay que notar que estas dos funciones no cambian el array original y por eso en este ejemplo redefinimos `z` con el array ampliado.\n",
        "\n",
        "La inserción de un `float` en un arreglo de `int` crea un arreglo de `float`. La inserción de un `int` en un arreglo de `float` transforma el `int` en `float` y lo inserta."
      ],
      "metadata": {
        "id": "21ZvXrQ1QQxO"
      }
    },
    {
      "cell_type": "markdown",
      "source": [
        "## 4. Indexación y asignación en NumPy\n",
        "En esta sección, exploraremos la indexación y la asignación en arreglos NumPy.\n",
        "\n",
        "Primero creemos un arreglo para ejemplificar las operaciones"
      ],
      "metadata": {
        "id": "DTHYEQip0l9a"
      }
    },
    {
      "cell_type": "code",
      "source": [
        "lista_ejemplo = [0.2, 1.3, 2.4, 3.5, 4.6]\n",
        "arr = np.array(lista_ejemplo)\n",
        "print(arr)"
      ],
      "metadata": {
        "id": "IEA6Pchn1R7z"
      },
      "execution_count": null,
      "outputs": []
    },
    {
      "cell_type": "markdown",
      "source": [
        "Este ejemplo es con un arreglo de 5 elementos de tipo `float`.\n",
        "\n",
        "Podemos seleccionar (y retornar) un elemento específico desde un arreglo NumPy de la misma forma que realiza con una lista normal de Python: usando los corchetes.\n",
        "\n",
        "Un ejemplo se ve a continuación:"
      ],
      "metadata": {
        "id": "vsg7i7X71SIu"
      }
    },
    {
      "cell_type": "code",
      "source": [
        "print(arr[0] , type(arr[0]))\n"
      ],
      "metadata": {
        "id": "G4IouGIb2dcU"
      },
      "execution_count": null,
      "outputs": []
    },
    {
      "cell_type": "markdown",
      "source": [
        "que imprime el valor de la primera posición del arreglo y su tipo. \n",
        "\n",
        "Como podemos observar el tipo dentro de un arreglo NumPy es propio de NumPy.\n",
        "\n",
        "También podemos referenciar múltiples elementos de un arreglo NumPy usando la notación slice. Por ejemplo, \n"
      ],
      "metadata": {
        "id": "R2lJNAoW2d-V"
      }
    },
    {
      "cell_type": "code",
      "source": [
        "print(arr)\n",
        "print(arr[0:2])\n",
        "print(arr[2:4])\n",
        "print(arr[:])\n",
        "print(arr[0:4:2]) # es el arrglo desde el corte 0 al corte 4 saltando de a 2."
      ],
      "metadata": {
        "id": "NNGurB4l3Gta"
      },
      "execution_count": null,
      "outputs": []
    },
    {
      "cell_type": "markdown",
      "source": [
        "Observamos recién que la notación corchete y la notación slice de los arreglos de NumPy  se comporta de manera similar a la de listas de Python. Por otro lado,  veremos a continuación que la asignación se comporta en forma similar, pero no idéntica.\n",
        "\n",
        "Podemos asignar nuevos valores a un elemento de un arreglo NumPy usando el operador `=`, al igual que las listas de Python normales. A continuación se muestran algunos ejemplos.\n",
        "\n"
      ],
      "metadata": {
        "id": "BuWT3A2u3HJR"
      }
    },
    {
      "cell_type": "code",
      "source": [
        "print(arr)\n",
        "arr[1] = 5.7\n",
        "print(arr)"
      ],
      "metadata": {
        "id": "Ibxpcniv4c3Z"
      },
      "execution_count": null,
      "outputs": []
    },
    {
      "cell_type": "markdown",
      "source": [
        "Pero NumPy ofrece algunas operaciones de asignación novedosas y que en muchos casos agilizan el trabajo. \n",
        "\n",
        "Por  ejemplo,  si queremos que todos los valores del array tengan un valor determinado:"
      ],
      "metadata": {
        "id": "DPC8JEyJ4dC_"
      }
    },
    {
      "cell_type": "code",
      "source": [
        "arr[:] = 0.0\n",
        "print(arr)"
      ],
      "metadata": {
        "id": "s1ynrCmK5H8y"
      },
      "execution_count": null,
      "outputs": []
    },
    {
      "cell_type": "markdown",
      "source": [
        "reemplaza todos los valores de `arr` por `0.0`.\n",
        "\n",
        "Definamos otro array:"
      ],
      "metadata": {
        "id": "OZOYxMNV5IHb"
      }
    },
    {
      "cell_type": "code",
      "source": [
        "otro_arr = np.array([0.12, 0.94, 0.66, 0.73, 0.83])\n",
        "print(otro_arr)"
      ],
      "metadata": {
        "id": "9AkBMKHd5xeM"
      },
      "execution_count": null,
      "outputs": []
    },
    {
      "cell_type": "markdown",
      "source": [
        "Podemos reemplazar los valores en cierto rango del array por un valor determinado:"
      ],
      "metadata": {
        "id": "gQQZ1UFq5xo3"
      }
    },
    {
      "cell_type": "code",
      "source": [
        "otro_arr[2:4] = 0.5\n",
        "print(otro_arr)"
      ],
      "metadata": {
        "id": "jYFqiXfN7rSz"
      },
      "execution_count": null,
      "outputs": []
    },
    {
      "cell_type": "markdown",
      "source": [
        "Observar que reemplazó los índices 2 y 3 por el valor `0.5`.\n",
        "\n",
        "Podemos también reemplazar una porción de un array por otro array del mismo tamaño que la porción:"
      ],
      "metadata": {
        "id": "lo6LNyj57reP"
      }
    },
    {
      "cell_type": "code",
      "source": [
        "otro_arr[2:4] = np.array([6.5, 7.1])\n",
        "print(otro_arr)"
      ],
      "metadata": {
        "id": "bBK-LdDZ8Mdy"
      },
      "execution_count": null,
      "outputs": []
    },
    {
      "cell_type": "markdown",
      "source": [
        "Posiblemente hay muchas otras formas posibles de asignación  que deben resultar útiles para diversos contextos. "
      ],
      "metadata": {
        "id": "91MdnXCT842m"
      }
    },
    {
      "cell_type": "markdown",
      "source": [
        "Hasta ahora en la sección, solo hemos explorado cómo hacer referencia a arreglos NumPy unidimensionales. Ahora exploraremos la indexación de matrices bidimensionales.\n",
        "\n",
        "\n",
        "Para comenzar, creemos un arreglo NumPy de dos dimensiones llamado `mat`:\n"
      ],
      "metadata": {
        "id": "dU5zT07cAQ8C"
      }
    },
    {
      "cell_type": "code",
      "source": [
        "mat = np.array([[5, 10, 15, 17],[20, 25, 30, 32],[35, 40, 45, 47]])\n",
        "mat"
      ],
      "metadata": {
        "id": "y3noGvsDAvEI"
      },
      "execution_count": null,
      "outputs": []
    },
    {
      "cell_type": "markdown",
      "source": [
        "Hay dos formas de indexar un arreglo NumPy de dos dimensiones:\n",
        "\n",
        "```\n",
        "mat[fila, columna]\n",
        "mat[fila][columna]\n",
        "```\n",
        "\n",
        "Por ejemplo, primero obtengamos la primera fila:\n"
      ],
      "metadata": {
        "id": "GpV58yt8AvRO"
      }
    },
    {
      "cell_type": "code",
      "source": [
        "mat[0, :]"
      ],
      "metadata": {
        "id": "Sn47PzdKBa52"
      },
      "execution_count": null,
      "outputs": []
    },
    {
      "cell_type": "markdown",
      "source": [
        "Luego, obtengamos el último elemento de la primera fila:\n",
        "\n"
      ],
      "metadata": {
        "id": "8cFadXbRBbE5"
      }
    },
    {
      "cell_type": "code",
      "source": [
        "mat[0,-1]"
      ],
      "metadata": {
        "id": "_wBMhPf49SDm"
      },
      "execution_count": null,
      "outputs": []
    },
    {
      "cell_type": "markdown",
      "source": [
        "\n",
        "También puede generar submatrices a partir de un arreglo NumPy bidimensional utilizando esta notación:"
      ],
      "metadata": {
        "id": "yb_qdf4f9SOI"
      }
    },
    {
      "cell_type": "code",
      "source": [
        "mat[1:3,:]"
      ],
      "metadata": {
        "id": "ZIuZh_Z0BuC4"
      },
      "execution_count": null,
      "outputs": []
    },
    {
      "cell_type": "code",
      "source": [
        "mat[1:3,1:2]"
      ],
      "metadata": {
        "id": "uSdMVYgGBrbw"
      },
      "execution_count": null,
      "outputs": []
    },
    {
      "cell_type": "code",
      "source": [
        "mat[:,1:2] # la segunda columna"
      ],
      "metadata": {
        "id": "-ZdgAqKXlzpX"
      },
      "execution_count": null,
      "outputs": []
    },
    {
      "cell_type": "code",
      "source": [
        "mat[:,1]"
      ],
      "metadata": {
        "id": "YIyg5KU0CBNr"
      },
      "execution_count": null,
      "outputs": []
    },
    {
      "cell_type": "markdown",
      "source": [
        "## 5. Referenciación de arreglos en NumPy\n",
        "\n",
        "NumPy hace uso de un concepto llamado \"Referencia de arreglos\" (array referencing) que es una fuente común de confusiones para las personas que son nuevas en la biblioteca.\n",
        "\n",
        "Para entender la referencia de arreglos, primero veamos un ejemplo:\n"
      ],
      "metadata": {
        "id": "-2vWD9BY2sOp"
      }
    },
    {
      "cell_type": "code",
      "source": [
        "new_array = np.array([6, 7, 8, 9])\n",
        "print('new_array:', new_array)\n",
        "second_new_array = new_array[0:2]\n",
        "print(second_new_array) # imprime [6 7]"
      ],
      "metadata": {
        "id": "yNRN04NF9ZEH"
      },
      "execution_count": null,
      "outputs": []
    },
    {
      "cell_type": "code",
      "source": [
        "second_new_array[1] = 4\n",
        "print(second_new_array) # imprime [6, 4], como se esperaba"
      ],
      "metadata": {
        "id": "RRIDEpZS9010"
      },
      "execution_count": null,
      "outputs": []
    },
    {
      "cell_type": "code",
      "source": [
        "print('new_array:', new_array)"
      ],
      "metadata": {
        "id": "oCjU8Nb6-OZx"
      },
      "execution_count": null,
      "outputs": []
    },
    {
      "cell_type": "markdown",
      "source": [
        "Observar que aunque no hemos reasignado directamente ningún elemento de `new_array`,  el segundo elemento pasó de valer `7` a valer `4`.\n",
        "\n",
        "¿Que ha pasado? Lo  que pasó es que la modificación de `second_new_array` cambió también el valor de `new_array`.\n",
        "\n",
        "¿Por qué es esto? Por defecto, NumPy *no* crea una copia de un arreglo cuando hace referencia a la variable del arreglo original usando el operador de asignación `=`. En cambio, simplemente apunta la nueva variable a la anterior, lo que permite que la segunda variable realice modificaciones en la variable original, incluso si esta no es nuestra intención.\n",
        "\n",
        "Esto puede parecer extraño, pero tiene una explicación lógica. El propósito de la referencia de arreglos es conservar poder computacional. Al trabajar con grandes conjuntos de datos, rápidamente te quedarías sin RAM si crearas un nuevo arreglo cada vez que quisieras trabajar con una porción de él.\n",
        "\n",
        "\n",
        "\n",
        "Afortunadamente, existe una solución para la referencia de arreglos: se puede utilizar el método `copy` para copiar explícitamente un arreglo NumPy.\n",
        "\n",
        "A continuación se muestra un ejemplo de esto.\n"
      ],
      "metadata": {
        "id": "lddsadF59ZNu"
      }
    },
    {
      "cell_type": "code",
      "source": [
        "array_to_copy = np.array([1, 2, 3])\n",
        "copied_array = array_to_copy[1:3].copy()\n",
        "print(array_to_copy)\n",
        "print(copied_array)"
      ],
      "metadata": {
        "id": "3xZ3VQVt_5WJ"
      },
      "execution_count": null,
      "outputs": []
    },
    {
      "cell_type": "markdown",
      "source": [
        "Como se puede ver a continuación, realizar modificaciones al arreglo copiado no altera el original.\n"
      ],
      "metadata": {
        "id": "clcM_GoN_5iu"
      }
    },
    {
      "cell_type": "code",
      "source": [
        "copied_array[0] = 9\n",
        "print(copied_array)\n",
        "print(array_to_copy)"
      ],
      "metadata": {
        "id": "6B7D8WcAAQw8"
      },
      "execution_count": null,
      "outputs": []
    },
    {
      "cell_type": "markdown",
      "source": [
        "La referencia de arreglos también se aplica a arreglos bidimensionales en NumPy, así que hay que asegurarse de utilizar el método copy si se desea evitar modificar inadvertidamente un arreglo original después de guardar una porción de él en un nuevo nombre de variable."
      ],
      "metadata": {
        "id": "ZGxQxsENG0Aq"
      }
    },
    {
      "cell_type": "markdown",
      "source": [
        "## 6. Operaciones aritméticas con arreglos de NumPy\n",
        "\n",
        "NumPy nos permite realizar operaciones aritméticas con arreglos. Puedes realizarlas usando el arreglo y un sólo número, o puedes realizarlas entre dos arreglos NumPy.\n",
        "\n",
        "Exploramos cada una de las principales operaciones matemáticas a continuación.\n",
        "\n",
        "Utilicemos algunos arreglos para hacer nuestro ejemplos."
      ],
      "metadata": {
        "id": "monCkM4XD9Ed"
      }
    },
    {
      "cell_type": "code",
      "source": [
        "arr_a = np.array([1, 2, 3, 4, 5])\n",
        "arr_b = np.array([5, 8, 9, 10, 11])\n",
        "arr_c = np.array([15, 28, 19, 10, 21, 5])"
      ],
      "metadata": {
        "id": "lt7Qy1BpYetx"
      },
      "execution_count": null,
      "outputs": []
    },
    {
      "cell_type": "markdown",
      "source": [
        "**Suma**\n",
        "Al sumar un sólo número a un arreglo de NumPy, ese número se suma a cada elemento en el arreglo. A continuación se ve un ejemplo:"
      ],
      "metadata": {
        "id": "kmKlOQ0FYvku"
      }
    },
    {
      "cell_type": "code",
      "source": [
        "2 + arr_a"
      ],
      "metadata": {
        "id": "Mut0vCfKYv6m"
      },
      "execution_count": null,
      "outputs": []
    },
    {
      "cell_type": "markdown",
      "source": [
        "Podemos sumar dos arreglos NumPy usando el operador `+`. Los arreglos se suman elemento por elemento (lo que significa que los primeros elementos se suman entre si, los segundos elementos se suman se suman entre si, y así sucesivamente).\n",
        "\n",
        "A continuación se ve un ejemplo."
      ],
      "metadata": {
        "id": "Urx4XIQjYe6u"
      }
    },
    {
      "cell_type": "code",
      "source": [
        "arr_a + arr_b "
      ],
      "metadata": {
        "id": "7q-nMfRj8Dkl"
      },
      "execution_count": null,
      "outputs": []
    },
    {
      "cell_type": "markdown",
      "source": [
        "La suma de arreglos es asociativa y conmutativa. \n",
        "\n",
        "Si intentamos sumar arreglos de distinto tamaño obtendremos una excepción. Por ejemplo\n",
        "\n",
        "\n",
        "```\n",
        "arr_a + arr_c\n",
        "```\n",
        "\n",
        "nos devuelve error."
      ],
      "metadata": {
        "id": "Bnlm1Wap9oyH"
      }
    },
    {
      "cell_type": "markdown",
      "source": [
        "**Elemento neutro de la suma y opuesto aditivo**\n",
        "\n",
        "El elemento neutro de la suma es el arreglo cuyos valores son todos cero."
      ],
      "metadata": {
        "id": "vnZJzUUj9K1I"
      }
    },
    {
      "cell_type": "code",
      "source": [
        "arr_a + np.array([0, 0, 0, 0, 0])"
      ],
      "metadata": {
        "id": "vrBZf8JE9dqV"
      },
      "execution_count": null,
      "outputs": []
    },
    {
      "cell_type": "code",
      "source": [
        "arr_a + 0"
      ],
      "metadata": {
        "id": "4bAnSS6VEGaQ"
      },
      "execution_count": null,
      "outputs": []
    },
    {
      "cell_type": "markdown",
      "source": [
        "El opuesto aditivo de un arreglo se obtiene, como es lógico,  agregando el signo `-` al arreglo:"
      ],
      "metadata": {
        "id": "5Ch8edYb9d4C"
      }
    },
    {
      "cell_type": "code",
      "source": [
        "-arr_a"
      ],
      "metadata": {
        "id": "qoPLNLd59LDY"
      },
      "execution_count": null,
      "outputs": []
    },
    {
      "cell_type": "code",
      "source": [
        "arr_a + (-arr_a)"
      ],
      "metadata": {
        "id": "vOwC1WgZ-vUy"
      },
      "execution_count": null,
      "outputs": []
    },
    {
      "cell_type": "markdown",
      "source": [
        "**Resta**\n",
        "\n",
        "Como en los enteros o los número reales la resta se obtiene sumando el opuesto aditivo"
      ],
      "metadata": {
        "id": "NM5jv1Ci8D2D"
      }
    },
    {
      "cell_type": "code",
      "source": [
        "arr_a + (-arr_b)"
      ],
      "metadata": {
        "id": "q7eqaTFS8zwI"
      },
      "execution_count": null,
      "outputs": []
    },
    {
      "cell_type": "markdown",
      "source": [
        "Obviamente, se puede simplificar la notación:"
      ],
      "metadata": {
        "id": "CrYOmWX7_dJO"
      }
    },
    {
      "cell_type": "code",
      "source": [
        "arr_a - arr_b"
      ],
      "metadata": {
        "id": "JOgmxsX2_i3Z"
      },
      "execution_count": null,
      "outputs": []
    },
    {
      "cell_type": "markdown",
      "source": [
        "Operaciones con números tambiés se pueden hacer"
      ],
      "metadata": {
        "id": "vXsUdcnX_pE1"
      }
    },
    {
      "cell_type": "code",
      "source": [
        "arr_a - 2"
      ],
      "metadata": {
        "id": "gfMBMEU4AfDJ"
      },
      "execution_count": null,
      "outputs": []
    },
    {
      "cell_type": "code",
      "source": [
        "2 - arr_a "
      ],
      "metadata": {
        "id": "zlk8KV6zAiuz"
      },
      "execution_count": null,
      "outputs": []
    },
    {
      "cell_type": "code",
      "source": [
        "(arr_a - 2) + (2 - arr_a)"
      ],
      "metadata": {
        "id": "CEBEVT3qEanl"
      },
      "execution_count": null,
      "outputs": []
    },
    {
      "cell_type": "markdown",
      "source": [
        "**Multiplicación**\n",
        "\n",
        "La multiplicación también se realiza elemento por elemento tanto para casos de un sólo número como para casos de operaciones entre arreglos de NumPy.\n",
        "\n",
        "A continuación se ven dos ejemplos."
      ],
      "metadata": {
        "id": "vVH3h4e980la"
      }
    },
    {
      "cell_type": "code",
      "source": [
        "6 * arr_a"
      ],
      "metadata": {
        "id": "gK4zZdeqA9Lp"
      },
      "execution_count": null,
      "outputs": []
    },
    {
      "cell_type": "code",
      "source": [
        "arr_a * arr_b"
      ],
      "metadata": {
        "id": "eEk589kqA9WY"
      },
      "execution_count": null,
      "outputs": []
    },
    {
      "cell_type": "markdown",
      "source": [
        "*Observación.* Es posible multiplicar matrices con el operador `*` y la multiplicación se hace coordenada  a coordenada, es decir *NO* es la multiplicación de matrices del álgebra lineal\n",
        "\n",
        "Por supuesto la multiplicación de matrices también está implementada en NumPy."
      ],
      "metadata": {
        "id": "LwteMLLmFJjz"
      }
    },
    {
      "cell_type": "code",
      "source": [
        "mat_A = np.array([[1, 0, 2, 3],[-1, 3, 2, 3],[3, 4, 4, 4]]) # matriz 3x4\n",
        "mat_B = np.array([[2,3], [-1, 0], [2, 2], [-5,1]]) # matriz 4x2\n",
        "np.dot(mat_A, mat_B) # multiplicar 3x4.4x2 resulta 3x2"
      ],
      "metadata": {
        "id": "b56M2UF_KXDK"
      },
      "execution_count": null,
      "outputs": []
    },
    {
      "cell_type": "markdown",
      "source": [
        "**División**\n",
        "\n",
        "En este punto, probablemente no te sorprende saber que la división en arreglos NumPy se realiza elemento por elemento. Un ejemplo:"
      ],
      "metadata": {
        "id": "4L07282h83Jq"
      }
    },
    {
      "cell_type": "code",
      "source": [
        "arr_a / 2"
      ],
      "metadata": {
        "id": "esSwtZyUBa7Q"
      },
      "execution_count": null,
      "outputs": []
    },
    {
      "cell_type": "markdown",
      "source": [
        "También funciona bien la división entera:"
      ],
      "metadata": {
        "id": "soWat6IVBlM5"
      }
    },
    {
      "cell_type": "code",
      "source": [
        "arr_a // 2"
      ],
      "metadata": {
        "id": "VqT1zjXIBgbL"
      },
      "execution_count": null,
      "outputs": []
    },
    {
      "cell_type": "markdown",
      "source": [
        "La división tiene una excepción notable en comparación con las otras operaciones matemáticas que hemos visto en esta sección. Dado que no podemos dividir por cero, al hacerlo, el campo correspondiente se completará con un valor `nan`, que es la abreviatura de Python para \"No es un número\" (“Not A Number”). Jupyter Notebook y Colab también imprimen una advertencia. \n",
        "\n",
        "En el caso de Colab  el valor que toma la coordenada al ser dividida por 0 es `inf`\n"
      ],
      "metadata": {
        "id": "ENLhpHQ_BbN-"
      }
    },
    {
      "cell_type": "code",
      "source": [
        "arr_d = arr_a - 2\n",
        "arr_d"
      ],
      "metadata": {
        "id": "sPH7TUp8Bzcf"
      },
      "execution_count": null,
      "outputs": []
    },
    {
      "cell_type": "code",
      "source": [
        "arr_e = arr_b / arr_d"
      ],
      "metadata": {
        "id": "6txnfb1NCVlx"
      },
      "execution_count": null,
      "outputs": []
    },
    {
      "cell_type": "code",
      "source": [
        "arr_e"
      ],
      "metadata": {
        "id": "UULlZIDkCi4G"
      },
      "execution_count": null,
      "outputs": []
    },
    {
      "cell_type": "code",
      "source": [
        "type(arr_e[1])"
      ],
      "metadata": {
        "id": "C34BGNeKDLAH"
      },
      "execution_count": null,
      "outputs": []
    },
    {
      "cell_type": "markdown",
      "source": [
        "Observamos que NumPy considera `inf` un número más, pero,  sin embargo,  este número  no cumple  con los axiomas de los números reales: es más grande que cualquier número y otras particularidades del infinito. "
      ],
      "metadata": {
        "id": "7uWI-FOmDVtZ"
      }
    },
    {
      "cell_type": "code",
      "source": [
        "arr_e[1] > 10**2345566"
      ],
      "metadata": {
        "id": "vQI2HUYYDs9w"
      },
      "execution_count": null,
      "outputs": []
    },
    {
      "cell_type": "markdown",
      "source": [
        "El valor `inf` tiene otras propiedades que ustedes podrán explorar."
      ],
      "metadata": {
        "id": "qmBPXLw9EOke"
      }
    },
    {
      "cell_type": "code",
      "source": [
        "-arr_e[1] > 10**2345566"
      ],
      "metadata": {
        "id": "tsw9vMOeFnIu"
      },
      "execution_count": null,
      "outputs": []
    },
    {
      "cell_type": "code",
      "source": [
        "-arr_e[1] < -10**2345566"
      ],
      "metadata": {
        "id": "ySF0pIbrFuV4"
      },
      "execution_count": null,
      "outputs": []
    },
    {
      "cell_type": "markdown",
      "source": [
        "**Las funciones de NumPy actuan como un 'map' en un arreglo de NumPy**\n",
        "\n",
        "Dada una función sobre algún tipo permitido en un arreglo, un *map* (es un concepto) consiste en iterar sobre un array y modificar sus elementos utilizando la función. La función entonces se ejecutará en cada uno de los elementos del array.\n",
        "\n",
        "El módulo `numpy` tiene funciones similares al módulo `math`, pero que actúan sobre cada componente del arreglo,  es decir actúan como maps.\n",
        "\n",
        "Usaremos este concepto en gran medida cuando grafiquemos funciones, pero veamos un ejemplo ahora. \n"
      ],
      "metadata": {
        "id": "p7NOv7RdJMDG"
      }
    },
    {
      "cell_type": "code",
      "source": [
        "x = np.arange(0, 2*np.pi + 0.1, np.pi / 8)\n",
        "x"
      ],
      "metadata": {
        "id": "WnSVuHODJaHO"
      },
      "execution_count": null,
      "outputs": []
    },
    {
      "cell_type": "code",
      "source": [
        "np.sin(x)"
      ],
      "metadata": {
        "id": "3WESy-OwKAOv"
      },
      "execution_count": null,
      "outputs": []
    },
    {
      "cell_type": "markdown",
      "source": [
        "## 7. Métodos incorporados\n",
        "Los arreglos de NumPy vienen con un número de métodos incorporados útiles. Analizaremos a continuación algunos de estos métodos con ejemplos.\n",
        "\n",
        "**Obtener un rango de números utilizando Numpy**\n",
        "\n",
        "NumPy tiene un método útil llamado `arange` que toma dos números y devuelve un arreglo de números enteros que son mayores o iguales al primer número y menores que el segundo número. Es muy parecido al método de Python `range`, pero `arange` devuelve un objeto `array` de NumPy\n",
        "\n",
        "Un ejemplo del método `arange` es el siguiente."
      ],
      "metadata": {
        "id": "ispYRIvpEJ6t"
      }
    },
    {
      "cell_type": "code",
      "source": [
        "np.arange(1, 5)"
      ],
      "metadata": {
        "id": "dYPRKb4gFPV3"
      },
      "execution_count": null,
      "outputs": []
    },
    {
      "cell_type": "code",
      "source": [
        "np.arange(1.5, 5.5)"
      ],
      "metadata": {
        "id": "mg05ryz4HE5u"
      },
      "execution_count": null,
      "outputs": []
    },
    {
      "cell_type": "markdown",
      "source": [
        "También se puede incluir una tercera variable en el método `arange` que proporciona un tamaño de paso. Pasar 2 como tercera variable devolverá cada segundo número en el rango, pasar 5 como tercera variable devolverá cada quinto número en el rango, y así sucesivamente.\n",
        "\n",
        "Un ejemplo de uso de la tercera variable en el método arange se encuentra a continuación."
      ],
      "metadata": {
        "id": "7lxkfvU5FPkC"
      }
    },
    {
      "cell_type": "code",
      "source": [
        "np.arange(1,11,2)"
      ],
      "metadata": {
        "id": "TsTjxhnBFnqX"
      },
      "execution_count": null,
      "outputs": []
    },
    {
      "cell_type": "markdown",
      "source": [
        "**Generar arreglos de unos y ceros**\n",
        "\n",
        "Mientras programas, de vez en cuando necesitará crear arreglos de unos o ceros. NumPy tiene métodos incorporados que te permiten hacer ambas cosas.\n",
        "\n",
        "Podemos crear arreglos de ceros utilizando el método `zeros` de NumPy. Le pasas el número de enteros que quisieras crear como el argumento de la función. Un ejemplo es el siguiente."
      ],
      "metadata": {
        "id": "6cygqUzzFn2I"
      }
    },
    {
      "cell_type": "code",
      "source": [
        "np.zeros(4)"
      ],
      "metadata": {
        "id": "w4LReXSuGDRB"
      },
      "execution_count": null,
      "outputs": []
    },
    {
      "cell_type": "code",
      "source": [
        "np.zeros((4,))"
      ],
      "metadata": {
        "id": "_stvel7MHq8U"
      },
      "execution_count": null,
      "outputs": []
    },
    {
      "cell_type": "markdown",
      "source": [
        "También se puedes hacer algo similar utilizando matrices. Por ejemplo,"
      ],
      "metadata": {
        "id": "SdgLfeNTGDlG"
      }
    },
    {
      "cell_type": "code",
      "source": [
        "np.zeros((5, 3))"
      ],
      "metadata": {
        "id": "KGzBRN1oGTqF"
      },
      "execution_count": null,
      "outputs": []
    },
    {
      "cell_type": "markdown",
      "source": [
        " crea un arreglo de 5x3 que contiene todos ceros. Observar que debemos usar el doble paréntesis. Si queremos que los ceros sean de tipo entero, podemos hacer lo siguiente:"
      ],
      "metadata": {
        "id": "1BTt4PFCGT1B"
      }
    },
    {
      "cell_type": "code",
      "source": [
        "np.zeros((5, 3), dtype=int)"
      ],
      "metadata": {
        "id": "8xXQZhI0HJDo"
      },
      "execution_count": null,
      "outputs": []
    },
    {
      "cell_type": "markdown",
      "source": [
        "Podemos crear arreglos de unos usando un método similar llamado `ones`. Un ejemplo es el que sigue.\n"
      ],
      "metadata": {
        "id": "GIXE4m8hHJU1"
      }
    },
    {
      "cell_type": "code",
      "source": [
        "np.ones(5)"
      ],
      "metadata": {
        "id": "wGe8fjwuHmGB"
      },
      "execution_count": null,
      "outputs": []
    },
    {
      "cell_type": "markdown",
      "source": [
        "o, un arreglo de unos enteros:"
      ],
      "metadata": {
        "id": "-vbEkwyjHsSL"
      }
    },
    {
      "cell_type": "code",
      "source": [
        "np.ones(5, dtype=int)"
      ],
      "metadata": {
        "id": "PQ_pQuwxHnu5"
      },
      "execution_count": null,
      "outputs": []
    },
    {
      "cell_type": "markdown",
      "source": [
        "**Dividir uniformemente un rango de números**\n",
        "\n",
        "Hay muchas situaciones en las que se desea dividir un intervalo en intervalos regulares y  crear un arreglo con estos valores. El método `linspace` de NumPy está diseñado para resolver este problema. `linspace` tiene tres argumentos:\n",
        "\n",
        "1. El inicio del intervalo\n",
        "2. El fin del intervalo\n",
        "3. El número de subintervalos más 1 en los que deseas que se divida el intervalo\n",
        "\n",
        "Un ejemplo del método `linspace` es el siguiente:"
      ],
      "metadata": {
        "id": "ExNb_V2tHmQ7"
      }
    },
    {
      "cell_type": "code",
      "source": [
        "np.linspace(0, 1, 11)"
      ],
      "metadata": {
        "id": "yR2L1Q_oOel1"
      },
      "execution_count": null,
      "outputs": []
    },
    {
      "cell_type": "markdown",
      "source": [
        "**Crear la matriz identidad**\n",
        "\n",
        "En álgebra lineal hay concepto muy importante y es el de *matriz identidad*, que es un arreglo cuadrado cuyos valores diagonales son todos 1 y  las otras posiciones valen 0. NumPy tiene una función incorporada para construir matrices identidad. La función es `eye`.\n",
        "\n",
        "Algunos ejemplos:"
      ],
      "metadata": {
        "id": "p8LcoNbEOex9"
      }
    },
    {
      "cell_type": "code",
      "source": [
        "np.eye(1)"
      ],
      "metadata": {
        "id": "xNYaSO27PjZ-"
      },
      "execution_count": null,
      "outputs": []
    },
    {
      "cell_type": "code",
      "source": [
        "np.eye(4)"
      ],
      "metadata": {
        "id": "aqRnTMsGPnsN"
      },
      "execution_count": null,
      "outputs": []
    },
    {
      "cell_type": "code",
      "source": [
        "np.eye(50)"
      ],
      "metadata": {
        "id": "SSX0nInyPn2O"
      },
      "execution_count": null,
      "outputs": []
    },
    {
      "cell_type": "markdown",
      "source": [
        "\n",
        "**Números aleatorios usando NumPy**\n",
        "\n",
        "NumPy tiene varios métodos integrados que te permiten crear matrices de números aleatorios. Cada uno de estos métodos comienza con `random`. A continuación se muestran algunos ejemplos:"
      ],
      "metadata": {
        "id": "eThNwMeCPjnP"
      }
    },
    {
      "cell_type": "code",
      "source": [
        "np.random.rand(10)"
      ],
      "metadata": {
        "id": "-mVBAobmQdtn"
      },
      "execution_count": null,
      "outputs": []
    },
    {
      "cell_type": "markdown",
      "source": [
        "Devuelve un arreglo de 10 números aleatorios entre 0 y 1. \n",
        "\n",
        "El tamaño de la muestra puede ser un número entero (para un arreglo unidimensional) o dos enteros separados por comas (para un arreglo bidimensional)."
      ],
      "metadata": {
        "id": "8NeY-37bQd4U"
      }
    },
    {
      "cell_type": "code",
      "source": [
        "np.random.rand(4, 3)*10"
      ],
      "metadata": {
        "id": "CoPRdlxsRIoT"
      },
      "execution_count": null,
      "outputs": []
    },
    {
      "cell_type": "markdown",
      "source": [
        "Lo anterior devuelve una matriz 4x3 de números aleatorios entre 0 y 10. \n",
        "\n",
        "Se pueden obtener aleatorios entre 0 y 1, siguiendo la distribución normal:\n"
      ],
      "metadata": {
        "id": "inKst1npRJAN"
      }
    },
    {
      "cell_type": "code",
      "source": [
        "np.random.randn(30)"
      ],
      "metadata": {
        "id": "3I_RD8m2S48F"
      },
      "execution_count": null,
      "outputs": []
    },
    {
      "cell_type": "markdown",
      "source": [
        "\n",
        "En  el caso de números aletorios enteros se usa `randint`.\n"
      ],
      "metadata": {
        "id": "-fDNX0DPS5Go"
      }
    },
    {
      "cell_type": "code",
      "source": [
        "np.random.randint(-20, 20, 10)"
      ],
      "metadata": {
        "id": "Ld15i4SpThvO"
      },
      "execution_count": null,
      "outputs": []
    },
    {
      "cell_type": "markdown",
      "source": [
        "Devuelve una muestra de 10 números enteros que son mayores o iguales que -20 y menores que 20. \n",
        "\n",
        "**Remodelar arreglos de NumPy**\n",
        "\n",
        "Es muy común tomar un arreglo con ciertas dimensiones y transformar ese arreglo en una forma diferente. Por ejemplo, es posible que tengas un arreglo unidimensional con 10 elementos y desees cambiarlo a un arreglo bidimensional de 2x5.\n",
        "\n",
        "A continuación se muestra un ejemplo:"
      ],
      "metadata": {
        "id": "OkCUKrmOTh6c"
      }
    },
    {
      "cell_type": "code",
      "source": [
        "arr = np.array([0,1,2,3,4,5])\n",
        "print(arr)\n",
        "arr.reshape(2,3)"
      ],
      "metadata": {
        "id": "WKXwLddTUHgX"
      },
      "execution_count": null,
      "outputs": []
    },
    {
      "cell_type": "markdown",
      "source": [
        "La salida de esta operación es:\n",
        "\n",
        "\n",
        "```\n",
        "array([[0, 1, 2],\n",
        "       [3, 4, 5]])\n",
        "```\n",
        "\n",
        "Hay que tener en cuenta que para usar el método `reshape`, el arreglo original debe tener la misma cantidad de elementos que la multiplicación de los argumentos del método `reshape`.\n",
        "\n",
        "Si se duda sobre la las dimensiones de un arreglo NumPy, se puede determinar sus dimensiones utilizando el atributo `shape` de NumPy. Por  ejemplo:"
      ],
      "metadata": {
        "id": "D2gv_jjsUHrb"
      }
    },
    {
      "cell_type": "code",
      "source": [
        "arr = np.array([0,1,2,3,4,5])\n",
        "print(arr.shape)\n",
        "arr = arr.reshape(2,3)\n",
        "print(arr.shape)\n",
        "print(arr)\n",
        "print(type(arr[0]))\n",
        "arr_2 = np.array([[0, 1, 2],  [3, 4, 5]])\n",
        "print(arr_2)\n",
        "print(type(arr_2[0]), arr_2[0])"
      ],
      "metadata": {
        "id": "FCliQqA5VJbo"
      },
      "execution_count": null,
      "outputs": []
    },
    {
      "cell_type": "markdown",
      "source": [
        "El método `shape` es el adecuado para averiguar el tamaño de los arreglos con los cuales estamos trabajando. Aplicar la función `len` solo devuelve en número de filas del arreglo. "
      ],
      "metadata": {
        "id": "01ObUJq7IMoO"
      }
    },
    {
      "cell_type": "code",
      "source": [
        "len(arr)"
      ],
      "metadata": {
        "id": "kQMG5qdeIkv4"
      },
      "execution_count": null,
      "outputs": []
    },
    {
      "cell_type": "markdown",
      "source": [
        "**Métodos de estadística sobre un arreglo NumPy**\n",
        "\n",
        "Aprendamos cuatro métodos útiles para identificar los valores máximo y mínimo dentro de un arreglo NumPy. Trabajaremos con este arreglo:\n"
      ],
      "metadata": {
        "id": "8zokHM1KVJoY"
      }
    },
    {
      "cell_type": "code",
      "source": [
        "simple_array = [1, 2., 3, 4, 30, 5]\n",
        "z = np.array(simple_array)"
      ],
      "metadata": {
        "id": "dmcJf0tnV8fx"
      },
      "execution_count": null,
      "outputs": []
    },
    {
      "cell_type": "markdown",
      "source": [
        "Además de las operaciones aritméticas básicas, los arrays de NumPy tienen métodos o funciones específicas para estadóstica. Algunas de ellas son las siguientes:\n"
      ],
      "metadata": {
        "id": "mQnZFG91VIeW"
      }
    },
    {
      "cell_type": "code",
      "source": [
        "z.max()   # Valor máximo de los elementos del array"
      ],
      "metadata": {
        "id": "Zh29IHLuVhoA"
      },
      "execution_count": null,
      "outputs": []
    },
    {
      "cell_type": "code",
      "source": [
        "z.argmax() # índice donde se encuentra el máximo"
      ],
      "metadata": {
        "id": "1cScFpD30SHa"
      },
      "execution_count": null,
      "outputs": []
    },
    {
      "cell_type": "code",
      "source": [
        "z.min()   # Valor mínimo de los elementos del array"
      ],
      "metadata": {
        "id": "h9ZQ688IVzwv"
      },
      "execution_count": null,
      "outputs": []
    },
    {
      "cell_type": "code",
      "source": [
        "z.mean()  # Valor medio de los elementos del array"
      ],
      "metadata": {
        "id": "l7afZLAnVz70"
      },
      "execution_count": null,
      "outputs": []
    },
    {
      "cell_type": "code",
      "source": [
        "z.std()   # Desviación típica de los elementos del array"
      ],
      "metadata": {
        "id": "lHk2MrITV0F7"
      },
      "execution_count": null,
      "outputs": []
    },
    {
      "cell_type": "code",
      "source": [
        "z.sum()   # Suma de todos los elementos del array"
      ],
      "metadata": {
        "id": "_2qoGnqFV0RR"
      },
      "execution_count": null,
      "outputs": []
    },
    {
      "cell_type": "code",
      "source": [
        "np.median(z) # Mediana de los elementos del array"
      ],
      "metadata": {
        "id": "uqr9AviEV0dm"
      },
      "execution_count": null,
      "outputs": []
    },
    {
      "cell_type": "markdown",
      "source": [
        "\n",
        "Los métodos, que se operan de la forma `z.sum()` también pueden usarse como funciones de tipo `sum(z)`, etc. Consulten el manual de NumPy para conocer otras propiedades y métodos de los arrays o simplemente acudan y consulten la “ayuda” de las funciones que quieran utilizar."
      ],
      "metadata": {
        "id": "sh3HIs0sVmMx"
      }
    },
    {
      "cell_type": "code",
      "source": [
        "sum(z)"
      ],
      "metadata": {
        "id": "5r92mjaNPpwv"
      },
      "execution_count": null,
      "outputs": []
    },
    {
      "cell_type": "markdown",
      "source": [
        "## 8. Arrays booleanos\n",
        "\n",
        "Una gran utilidad de los arrays es la posibilidad de usarlos con datos booleanos (`True` o `False`) y operar entre ellos o incluso mezclados con arrays con números. Veamos algunos ejemplos:"
      ],
      "metadata": {
        "id": "XpPbSwFJOJRS"
      }
    },
    {
      "cell_type": "code",
      "source": [
        "A = np.array([True, False, True])\n",
        "B = np.array([False, False, True])\n",
        "type(A[0])"
      ],
      "metadata": {
        "id": "Bcex3qylOj13"
      },
      "execution_count": null,
      "outputs": []
    },
    {
      "cell_type": "code",
      "source": [
        "A*B"
      ],
      "metadata": {
        "id": "0CHcr_SvPCrm"
      },
      "execution_count": null,
      "outputs": []
    },
    {
      "cell_type": "code",
      "source": [
        "C = np.array([1, 2, 3])\n",
        "A*C"
      ],
      "metadata": {
        "id": "9AcNgw_VPJsd"
      },
      "execution_count": null,
      "outputs": []
    },
    {
      "cell_type": "code",
      "source": [
        "B*C"
      ],
      "metadata": {
        "id": "UsFQmj8iPTw1"
      },
      "execution_count": null,
      "outputs": []
    },
    {
      "cell_type": "markdown",
      "source": [
        "En este ejemplo vemos cómo al multiplicar dos arrays booleanos es resultado es otro array booleano con el resultado que corresponda, pero al multiplicar los arrays booleanos con arrays numéricos, el resultado es un array numérico con los mismos elementos, pero con los elementos que fueron multiplicados por `False` iguales a cero.\n",
        "\n",
        "Tambíén es posible usar los arrays como índices de otro array y como índices se pueden usar arrays numéricos o booleanos. El resultado será en este caso un array con los elementos que se indique en el array de índices numérico o los elementos correspondientes a True en caso de usar un array de índices booleano. Veámoslo con un ejemplo:\n"
      ],
      "metadata": {
        "id": "Biq7EHmCOkPw"
      }
    },
    {
      "cell_type": "code",
      "source": [
        "# Array con enteros de 0 a 90, de 10 en 10\n",
        "mi_array = np.arange(0,100,10)\n",
        "mi_array"
      ],
      "metadata": {
        "id": "jSdAjGqNQAer"
      },
      "execution_count": null,
      "outputs": []
    },
    {
      "cell_type": "code",
      "source": [
        ""
      ],
      "metadata": {
        "id": "X34UhJmMRPtM"
      },
      "execution_count": null,
      "outputs": []
    },
    {
      "cell_type": "code",
      "source": [
        "# Array de índices numericos con numeros de 0-9 de 2 en 2\n",
        "indices1 = np.arange(0,10,2)\n",
        "print(indices1)"
      ],
      "metadata": {
        "id": "6YaK2HK3QlaU"
      },
      "execution_count": null,
      "outputs": []
    },
    {
      "cell_type": "code",
      "source": [
        "# Array de índices booleanos\n",
        "indices2 = np.array([False, True, True, False, False, True, False, False, True, True])"
      ],
      "metadata": {
        "id": "eVG5IIYhQlo0"
      },
      "execution_count": null,
      "outputs": []
    },
    {
      "cell_type": "code",
      "source": [
        "print(mi_array)\n",
        "print(mi_array[indices1])\n",
        "print(mi_array[indices2]) # solo aparecen  los valores con índices True"
      ],
      "metadata": {
        "id": "21FWlgf6RUXD"
      },
      "execution_count": null,
      "outputs": []
    },
    {
      "cell_type": "markdown",
      "source": [
        "También es muy sencillo crear arrays booleanos usando operadores lógicos y luego usalos como índices, por ejemplo:"
      ],
      "metadata": {
        "id": "aN_VyxuPQFzf"
      }
    },
    {
      "cell_type": "code",
      "source": [
        "# Creamos un array booleano usando un operador booleano\n",
        "mayores50 = mi_array > 50\n",
        "print(mayores50)"
      ],
      "metadata": {
        "id": "5zED4VTkSyLb"
      },
      "execution_count": null,
      "outputs": []
    },
    {
      "cell_type": "markdown",
      "source": [
        "Este array puede servir como índice para recuperar un subarray."
      ],
      "metadata": {
        "id": "RAXYhDoJUHU4"
      }
    },
    {
      "cell_type": "code",
      "source": [
        "print(mi_array[mayores50])"
      ],
      "metadata": {
        "id": "37xfR0oXT4ZI"
      },
      "execution_count": null,
      "outputs": []
    },
    {
      "cell_type": "markdown",
      "source": [
        "## Ejercicios"
      ],
      "metadata": {
        "id": "u4TLZwV0YVWj"
      }
    },
    {
      "cell_type": "markdown",
      "source": [
        "1. Crear un array de 100 números enteros aleatorios con valores de -100 a +100. Usando arrays de booleanos crear otros arrays que contengan los positivos, los negativos, los mayores de 50 y los $x$ tal que $-50 < x < 50$ del array original."
      ],
      "metadata": {
        "id": "KrTm2GBaYres"
      }
    },
    {
      "cell_type": "markdown",
      "source": [
        "**Solución ejercicio 1:**"
      ],
      "metadata": {
        "id": "gT7Nt38Vvnh1"
      }
    },
    {
      "cell_type": "code",
      "source": [
        "original = np.random.randint(-100, 101, 100)\n",
        "print(original)"
      ],
      "metadata": {
        "id": "a2qxSNNNYr10"
      },
      "execution_count": null,
      "outputs": []
    },
    {
      "cell_type": "code",
      "source": [
        "positivos = original > 0\n",
        "orig_pos = original[positivos]\n",
        "print(orig_pos)"
      ],
      "metadata": {
        "id": "cDa7K8HDSgN4"
      },
      "execution_count": null,
      "outputs": []
    },
    {
      "cell_type": "code",
      "source": [
        "negativos = original < 0\n",
        "orig_neg = original[negativos]\n",
        "print(orig_neg)"
      ],
      "metadata": {
        "id": "R8nsvWaCThxp"
      },
      "execution_count": null,
      "outputs": []
    },
    {
      "cell_type": "code",
      "source": [
        "mayores50 = original > 50\n",
        "orig_may50 = original[mayores50]\n",
        "print(orig_may50)"
      ],
      "metadata": {
        "id": "5XDHxH_9T7Vo"
      },
      "execution_count": null,
      "outputs": []
    },
    {
      "cell_type": "code",
      "source": [
        "intervalo1 = -50 < original \n",
        "intervalo2 = original < 50 \n",
        "intervalo = intervalo1 * intervalo2\n",
        "orig_int = original[intervalo]\n",
        "print(orig_int)"
      ],
      "metadata": {
        "id": "1usahRRNUP_S"
      },
      "execution_count": null,
      "outputs": []
    },
    {
      "cell_type": "markdown",
      "source": [
        "Así como el  `*` actúa como un  `and` entre booleanos,  el `+` actúa como un `or`. Veamos un ejemplo:"
      ],
      "metadata": {
        "id": "Lx9XAuAAwi20"
      }
    },
    {
      "cell_type": "code",
      "source": [
        "intervalo = ( original < -50) + (original > 50) # los extremos,  es decir los x tal (x < -50) or (x > 50) (no es parte del ejercicio)\n",
        "orig_extremos = original[intervalo]\n",
        "print(orig_extremos)"
      ],
      "metadata": {
        "id": "XrSARCrXVyQG"
      },
      "execution_count": null,
      "outputs": []
    },
    {
      "cell_type": "markdown",
      "source": [
        "2. La nota final de una materia de la Facultad (digamos $p$) se calcula añadiendo a la nota del examen final ($z$) una ponderación de la evaluación contínua ($c$) a lo largo del curso de la forma:\n",
        "$$\n",
        "p = 0.6c + z \\frac{(10 - 0.6c)}{10}\n",
        "$$\n",
        "El alumno estará aprobado cuando la nota final $p$ sea mayor o igual a cinco, siempre que $z$ supere un tercio de la nota máxima ($z>10/3$); en caso contrario, se queda con $p=z$. Un grupo de alumnos ha obtenido las siguientes calificaciones en la evaluación contínua y en el examen final:\n",
        "$$\n",
        "\\begin{matrix}\n",
        "c&&\t8.2& 0.0& 9.0& 5.0& 8.4& 7.2& 5.0& 9.2& 4.9& 7.9 \\\\\n",
        "z&&\t7.1& 5.1& 8.8& 3.1& 4.6& 2.0& 4.1& 7.4& 4.4& 8.8\n",
        "\\end{matrix}\n",
        "$$\n",
        "    - a) Usando arrays de NumPy e ignorando la condición de $z>10/3$ hacer un programa que calcule sus notas finales indicando además quién ha aprobado y quién no. Calcular también la nota media de la evaluación continua, del examen final y de la nota final. \n",
        "    - b) ¿Podrías hacerlo también de manera que sí lo tenga en cuenta? Para ello podrías usar arrays de booleanos."
      ],
      "metadata": {
        "id": "3xBz9qz_YsUj"
      }
    },
    {
      "cell_type": "code",
      "source": [
        ""
      ],
      "metadata": {
        "id": "DHCydz4SYsnf"
      },
      "execution_count": null,
      "outputs": []
    },
    {
      "cell_type": "markdown",
      "source": [
        "3. Crea un array bidimensional 5x5 con todos los valores cero. Usando el indexado de arrays, asigna 1 a todos los elementos de la última fila y 5 a todos los elementos de la primera columna. Finalmente, asigna el valor 100 a todos los elementos del subarray central 3x3 de la matriz de 5x5."
      ],
      "metadata": {
        "id": "0tTSz9sbYs6U"
      }
    },
    {
      "cell_type": "code",
      "source": [
        ""
      ],
      "metadata": {
        "id": "2037RyGjYtNP"
      },
      "execution_count": null,
      "outputs": []
    },
    {
      "cell_type": "markdown",
      "source": [
        "4. Los diámetros de las esporas del lycopodium pueden medirse por métodos interferométricos. Los resultados de uno de estos experimentos son los siguientes:\n",
        "$$\n",
        "\\begin{matrix}\n",
        "\\text{k * diametro (cm)} & 14 & 15 & 16 & 17 & 18 & 19 & 20 & 21 & 22 & 23\\\\\n",
        "\\hline\n",
        "\\text{número de esporas} & 1 & 1 & 8 & 24 & 48 & 58 & 35 & 16 & 8 & 1 \\\\\n",
        "\\end{matrix}\n",
        "$$\n",
        "donde $k=5880$.\n",
        "Usando funciones de numpy determinar, el diámetro medio de las esporas y la desviación estándar de la muestra. Separar, en arrays independientes, las medidas de los diámetros:\n",
        "\n",
        "    - a) Que tengan valores inferiores a la media menos la desviación estándar, es decir $d < \\overline{d} - \\sigma_d$.\n",
        "    - b) Que tengan valores superiores a la media más la desviación estándar, es decir $d > \\overline{d} + \\sigma_d$.\n",
        "    - c) Que tengan valores entre $\\overline{d} - \\sigma_d < d < \\overline{d} + \\sigma_d$."
      ],
      "metadata": {
        "id": "tl2YWd5mYthj"
      }
    },
    {
      "cell_type": "code",
      "source": [
        ""
      ],
      "metadata": {
        "id": "tZq2AXHQYtzE"
      },
      "execution_count": null,
      "outputs": []
    }
  ]
}