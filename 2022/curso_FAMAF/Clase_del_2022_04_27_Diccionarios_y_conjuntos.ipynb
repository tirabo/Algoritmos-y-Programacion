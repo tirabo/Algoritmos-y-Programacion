{
 "cells": [
  {
   "cell_type": "markdown",
   "metadata": {},
   "source": [
    "# Dicionarios y conjuntos\n",
    "\n",
    "Este cuaderno presenta el tipo incorporado `dict` llamado *diccionario*. Los diccionarios son una de las mejores características de Python y son los componentes básicos de muchos algoritmos eficientes y elegantes. Al final del cuaderno veremos el tipo `set` utilizado para representar conjuntos."
   ]
  },
  {
   "cell_type": "markdown",
   "metadata": {
    "id": "R22rHsKNE6_r"
   },
   "source": [
    "## 1. Un diccionario es un mapeo\n",
    "\n",
    "Un *diccionario* es como una lista, pero más general. En una lista, los índices deben ser números enteros no negativos; en un diccionario pueden ser de cualquier tipo inmutable.\n",
    "\n",
    "Un diccionario contiene una colección de índices, que se denominan *claves*, y una colección de *valores*. Cada clave está asociada a un valor único. La asociación de una clave y un valor se denomina un *item*  o también  *par clave-valor*. Es decir,  cuando nos referimos a un item del diccionario estamos hablando del par clave-valor.\n",
    "\n",
    "En lenguaje matemático, un diccionario representa una *mapeo* (una función) de claves a valores, por lo que también puede decir que cada clave se \"asigna a\" un valor. Como ejemplo, crearemos un diccionario que mapee de palabra en inglés a palabras en español, por lo que las claves y los valores son cadenas.\n",
    "\n",
    "La función `dict` crea un nuevo diccionario sin elementos. Debido a que `dict` es el nombre de una función incorporada, no se debe usar como nombre de variable.\n"
   ]
  },
  {
   "cell_type": "code",
   "execution_count": 1,
   "metadata": {
    "colab": {
     "base_uri": "https://localhost:8080/"
    },
    "executionInfo": {
     "elapsed": 7,
     "status": "ok",
     "timestamp": 1633115947501,
     "user": {
      "displayName": "Alejandro Leopoldo Tiraboschi",
      "photoUrl": "https://lh3.googleusercontent.com/a-/AOh14Gir321Aip7u2JtD7LMLQbY3a1oHsAD11CVed_UbeFc=s64",
      "userId": "02370857492204546552"
     },
     "user_tz": 180
    },
    "id": "I92i7G6_mH5V",
    "outputId": "65dc901c-e546-4cdf-b507-c107be271427"
   },
   "outputs": [
    {
     "data": {
      "text/plain": [
       "{}"
      ]
     },
     "execution_count": 1,
     "metadata": {},
     "output_type": "execute_result"
    }
   ],
   "source": [
    "eng2esp = dict() # también se puede usar eng2esp = {}\n",
    "eng2esp"
   ]
  },
  {
   "cell_type": "markdown",
   "metadata": {
    "id": "tUCfsCsumIBS"
   },
   "source": [
    "Los llaves, `{}`, representan un diccionario vacío. Para agregar elementos al diccionario, se puede utilizar corchetes:"
   ]
  },
  {
   "cell_type": "code",
   "execution_count": 2,
   "metadata": {
    "id": "xNgsTyJSmj3U"
   },
   "outputs": [],
   "source": [
    "eng2esp['one'] = 'uno'"
   ]
  },
  {
   "cell_type": "markdown",
   "metadata": {
    "id": "kYyHWWgsmj_Z"
   },
   "source": [
    "Esta línea crea un elemento que  asigna desde la clave `'one'` el valor `'uno'`. \n",
    "\n",
    "Si imprimimos el diccionario nuevamente, vemos un ítem con dos puntos entre la clave y el valor:"
   ]
  },
  {
   "cell_type": "code",
   "execution_count": 3,
   "metadata": {
    "colab": {
     "base_uri": "https://localhost:8080/"
    },
    "executionInfo": {
     "elapsed": 6,
     "status": "ok",
     "timestamp": 1633115952117,
     "user": {
      "displayName": "Alejandro Leopoldo Tiraboschi",
      "photoUrl": "https://lh3.googleusercontent.com/a-/AOh14Gir321Aip7u2JtD7LMLQbY3a1oHsAD11CVed_UbeFc=s64",
      "userId": "02370857492204546552"
     },
     "user_tz": 180
    },
    "id": "FY28aa_cm8pX",
    "outputId": "4cd70e72-faa1-4cce-a7ae-0b898fc6b44d"
   },
   "outputs": [
    {
     "name": "stdout",
     "output_type": "stream",
     "text": [
      "{'one': 'uno'}\n"
     ]
    }
   ],
   "source": [
    "print(eng2esp)"
   ]
  },
  {
   "cell_type": "markdown",
   "metadata": {
    "id": "kcf7yrq0m8xR"
   },
   "source": [
    "El  código anterior imprime en pantalla `{'one': 'uno'}`.\n",
    "\n",
    "Este formato de salida también es un formato de entrada. Por ejemplo, se puede crear un nuevo diccionario con tres elementos de la siguiente forma:"
   ]
  },
  {
   "cell_type": "code",
   "execution_count": 4,
   "metadata": {
    "id": "-Dygqv5JnV55"
   },
   "outputs": [],
   "source": [
    "eng2esp = {'one': 'uno', 'two': 'dos', 'three': 'tres'}"
   ]
  },
  {
   "cell_type": "markdown",
   "metadata": {
    "id": "WKgOLwq-nWEp"
   },
   "source": [
    "Cuando se imprime un diccionario es posible que el orden de los items no sea el mismo. En general, el orden de los items de un diccionario es impredecible.\n",
    "\n",
    "Pero eso no es un problema, porque un diccionario no debe *nunca* considerse una secuencia indexada por números enteros. Deben usarse las claves para buscar los valores correspondientes:"
   ]
  },
  {
   "cell_type": "code",
   "execution_count": 5,
   "metadata": {
    "id": "f41oz99Gn9Pu"
   },
   "outputs": [
    {
     "data": {
      "text/plain": [
       "'dos'"
      ]
     },
     "execution_count": 5,
     "metadata": {},
     "output_type": "execute_result"
    }
   ],
   "source": [
    "eng2esp['two']"
   ]
  },
  {
   "cell_type": "markdown",
   "metadata": {
    "id": "8mrkGVR1n9Ym"
   },
   "source": [
    "Si la clave no está en el diccionario, se obtiene una excepción (un error).\n",
    "\n",
    "La función `len` funciona en diccionarios: devuelve el número de pares clave-valor o items que contiene el diccionario:"
   ]
  },
  {
   "cell_type": "code",
   "execution_count": 6,
   "metadata": {
    "id": "4zW3Za5doU2R"
   },
   "outputs": [
    {
     "data": {
      "text/plain": [
       "3"
      ]
     },
     "execution_count": 6,
     "metadata": {},
     "output_type": "execute_result"
    }
   ],
   "source": [
    "len(eng2esp)"
   ]
  },
  {
   "cell_type": "markdown",
   "metadata": {
    "id": "27LEy15FoVBe"
   },
   "source": [
    "El operador `in` también funciona en diccionarios: si `diccionario` es un diccionario,  entonces\n",
    "```\n",
    "x in diccionario\n",
    "```\n",
    "es `True` si `x` es una de las claves de `diccionario`. El operador `in` solo busca en las claves, no en los valores."
   ]
  },
  {
   "cell_type": "code",
   "execution_count": 7,
   "metadata": {
    "colab": {
     "base_uri": "https://localhost:8080/"
    },
    "executionInfo": {
     "elapsed": 246,
     "status": "ok",
     "timestamp": 1633116014718,
     "user": {
      "displayName": "Alejandro Leopoldo Tiraboschi",
      "photoUrl": "https://lh3.googleusercontent.com/a-/AOh14Gir321Aip7u2JtD7LMLQbY3a1oHsAD11CVed_UbeFc=s64",
      "userId": "02370857492204546552"
     },
     "user_tz": 180
    },
    "id": "-2fEqaRloY56",
    "outputId": "d010a655-4602-4682-ea77-1996ef8b97b0"
   },
   "outputs": [
    {
     "name": "stdout",
     "output_type": "stream",
     "text": [
      "True\n",
      "False\n"
     ]
    }
   ],
   "source": [
    "print('one' in eng2esp)\n",
    "print('uno' in eng2esp) "
   ]
  },
  {
   "cell_type": "markdown",
   "metadata": {
    "id": "6kFVGDuLoZEa"
   },
   "source": [
    "Para ver si algo aparece como un valor en un diccionario, podés usar el método `values`, que devuelve una colección de valores, y luego usar el operador` in`:"
   ]
  },
  {
   "cell_type": "code",
   "execution_count": 8,
   "metadata": {
    "colab": {
     "base_uri": "https://localhost:8080/"
    },
    "executionInfo": {
     "elapsed": 254,
     "status": "ok",
     "timestamp": 1633116027998,
     "user": {
      "displayName": "Alejandro Leopoldo Tiraboschi",
      "photoUrl": "https://lh3.googleusercontent.com/a-/AOh14Gir321Aip7u2JtD7LMLQbY3a1oHsAD11CVed_UbeFc=s64",
      "userId": "02370857492204546552"
     },
     "user_tz": 180
    },
    "id": "z6ktQheFocKo",
    "outputId": "a3360f28-9ad1-4802-8c25-be129c8734cf"
   },
   "outputs": [
    {
     "name": "stdout",
     "output_type": "stream",
     "text": [
      "<class 'dict_values'>\n",
      "True\n"
     ]
    }
   ],
   "source": [
    "vals = eng2esp.values()\n",
    "print(type(vals))\n",
    "print('uno' in vals)"
   ]
  },
  {
   "cell_type": "markdown",
   "metadata": {
    "id": "1OxufS5focT4"
   },
   "source": [
    "El operador `in` utiliza diferentes algoritmos para listas y diccionarios. Para listas, busca los elementos de la lista en orden. A medida que la lista se alarga, el tiempo de búsqueda se alarga en proporción directa.\n",
    "\n",
    "Los diccionarios de Python usan una estructura de datos llamada *tabla hash* que tiene una propiedad notable: el operador `in` toma aproximadamente la misma cantidad de tiempo (casi nulo) sin importar cuántos elementos haya en el diccionario. Siempre recordemos que en diccionarios el `in` busca solo las claves. \n",
    "\n"
   ]
  },
  {
   "cell_type": "markdown",
   "metadata": {
    "id": "EkEikCFOqyl8"
   },
   "source": [
    "Los diccionarios son similares  a las listas,  en el sentido que dada una clave (un entero en el caso de listas, un objeto inmutable en el caso de diccionarios),  devuelve un valor. \n",
    "\n",
    "Más allá de la diferencia en las claves una diferencia fundamental es que la lista tiene un orden y los diccionarios no. Esto último facilita, entre otras cosas, el hecho que  podamos crear nuevas entradas al diccionario simplemente por asignación:\n",
    "```\n",
    "diccionario[nueva_clave] = valor\n",
    "```\n",
    "Como ya sabemos,  en listas no es posible asignar un valor a un índice que no existe, ni aunque sea el que sigue al último índice. "
   ]
  },
  {
   "cell_type": "markdown",
   "metadata": {
    "id": "f7JPqcB_s9Ue"
   },
   "source": [
    "## 2. Recorriendo un diccionario\n",
    "\n",
    "Si usamos en un diccionario  `for`, este recorre todas las las claves del diccionario. Por ejemplo:"
   ]
  },
  {
   "cell_type": "code",
   "execution_count": 9,
   "metadata": {
    "id": "bVgtls6iteMZ"
   },
   "outputs": [
    {
     "name": "stdout",
     "output_type": "stream",
     "text": [
      "one\n",
      "two\n",
      "three\n"
     ]
    }
   ],
   "source": [
    "for palabra in eng2esp:\n",
    "    print(palabra)"
   ]
  },
  {
   "cell_type": "markdown",
   "metadata": {
    "id": "fXePVTwnteTn"
   },
   "source": [
    "imprime cada clave del diccionario. Si queremos imprimir clave y valores podemos hacer:"
   ]
  },
  {
   "cell_type": "code",
   "execution_count": 10,
   "metadata": {
    "id": "rHeRL9o4tvrf"
   },
   "outputs": [
    {
     "name": "stdout",
     "output_type": "stream",
     "text": [
      "one uno\n",
      "two dos\n",
      "three tres\n"
     ]
    }
   ],
   "source": [
    "for palabra in eng2esp:\n",
    "    print(palabra, eng2esp[palabra])"
   ]
  },
  {
   "cell_type": "markdown",
   "metadata": {
    "id": "Mp5jj8Y6uU0t"
   },
   "source": [
    "Si queremos recorrer la clave y el valor correspondiente de un diccionario, podemos utilizar el método `items()`."
   ]
  },
  {
   "cell_type": "code",
   "execution_count": 11,
   "metadata": {
    "id": "gHKA4RIpu2av"
   },
   "outputs": [
    {
     "name": "stdout",
     "output_type": "stream",
     "text": [
      "one uno\n",
      "two dos\n",
      "three tres\n"
     ]
    }
   ],
   "source": [
    "for pal_en, pal_es in eng2esp.items():\n",
    "    print(pal_en, pal_es)"
   ]
  },
  {
   "cell_type": "markdown",
   "metadata": {
    "id": "2l7D7SLuxHUU"
   },
   "source": [
    "## 3.Test de igualdad\n",
    "\n",
    "Se pueden usar los operadores `==` y `!=` para probar si dos diccionarios contienen los mismos items.\n",
    "\n",
    "Por ejemplo:\n"
   ]
  },
  {
   "cell_type": "code",
   "execution_count": 41,
   "metadata": {
    "id": "Khavx9MExi5F"
   },
   "outputs": [
    {
     "name": "stdout",
     "output_type": "stream",
     "text": [
      "True\n",
      "False\n"
     ]
    }
   ],
   "source": [
    "d1 = {\"rojo\": 41, \"azul\": 3}\n",
    "d2 = {\"azul\": 3, \"rojo\": 41}\n",
    "print(d1 == d2)\n",
    "print(d1 != d2)"
   ]
  },
  {
   "cell_type": "markdown",
   "metadata": {
    "id": "GF6GcHOUxjC_"
   },
   "source": [
    "En este ejemplo, `d1` y `d2` contienen los mismos items dependientemente del orden de los items en el diccionario. Como en el caso de  listas y tuplas el operdor `==` no se fija si los diccionarios son \"el mismo\" (digamos, que ocupen las mismas direcciones en memoria), si no que se fija si el contenido de un diccionario (los items) es igual al del otro.  "
   ]
  },
  {
   "cell_type": "markdown",
   "metadata": {
    "id": "c2dmSvfNyJJ1"
   },
   "source": [
    "## 4. Métodos en diccionarios \n",
    "\n",
    "La clase o tipo Python para diccionarios es `dict`. A continuación enumeramos los métodos que se pueden invocar desde un diccionario,  es decir desde un objeto de la clase `dict`. Sea `x` un diccionario:\n",
    "\n",
    "- `x.keys()` : devuelve la secuencia de claves de `x`.\n",
    "- `x.values()` : devuelve la secuencia de valores.\n",
    "- `x.items()` : devuelve una secuencia de tuplas. Cada tupla es (clave, valor) para un ítem.\n",
    "- `x.clear()` : elimina todas las entradas de `x`, el diccionario pasa a ser `{}`.\n",
    "- `x.get(clave)` : devuelve el valor de la clave si está en el diccionario. En caso contrario devuelve `None`.\n",
    "- `x.pop(clave)` : elimina el ítem para esa clave si está y devuelve su valor. Si la clave no está se produce una excepción.\n",
    "- `x.popitem()`: devuelve un par clave / valor seleccionado aleatoriamente  y elimina el elemento seleccionado. Si  el diccionario es vacío  se produce una excepción.\n",
    "\n",
    "El método `x.get(clave)` es similar a `x[clave]` excepto que el método `get` devuelve `None` si la clave no está en el diccionario en lugar de generar una excepción. \n",
    "\n",
    "A continuación, se muestran algunos ejemplos de uso de estos métodos:"
   ]
  },
  {
   "cell_type": "code",
   "execution_count": 13,
   "metadata": {
    "id": "oURTc3m40g-W"
   },
   "outputs": [
    {
     "name": "stdout",
     "output_type": "stream",
     "text": [
      "<class 'dict_keys'>\n",
      "Claves: ('111-34-3434', '132-56-6290')\n",
      "Valores: ('Juan', 'Pedro')\n",
      "Items: (('111-34-3434', 'Juan'), ('132-56-6290', 'Pedro'))\n",
      "Juan\n",
      "None\n",
      "Juan\n",
      "{'132-56-6290': 'Pedro'}\n",
      "{}\n"
     ]
    }
   ],
   "source": [
    "estudiantes = {\"111-34-3434\": \"Juan\", \"132-56-6290\": \"Pedro\"}\n",
    "print(type(estudiantes.keys()))\n",
    "print('Claves:', tuple(estudiantes.keys()))\n",
    "print('Valores:', tuple(estudiantes.values()))\n",
    "print('Items:', tuple(estudiantes.items()))\n",
    "print(estudiantes.get(\"111-34-3434\"))\n",
    "print(estudiantes.get(\"999-34-3434\"))\n",
    "print(estudiantes.pop(\"111-34-3434\"))\n",
    "print(estudiantes)\n",
    "estudiantes.clear()\n",
    "print(estudiantes)"
   ]
  },
  {
   "cell_type": "markdown",
   "metadata": {
    "id": "CLw0pfKG0hHa"
   },
   "source": [
    "En  el ejemplo anterior hemos convertido,en la 3º, 4º y 5º línea, las secuencias que devuelven algunos métodos a `tuple` . \n",
    "\n",
    "El diccionario estudiantes se crea en la línea 1.  La línea 2 devuelve el tipo de `estudiantes.keys()`. Lo único que nos interesa ahora de este tipo es que es una secuencia que puede ser convertida a tupla con la función `tuple`. \n",
    "\n",
    "En  la línea 3 se imprime `estudiantes.keys()` que son las claves del diccionario. \n",
    "\n",
    "En la línea 4, `estudiantes.values()` devuelve los valores en el diccionario y `estudiantes.items()` en la línea 5 devuelve los items del diccionario como tuplas. Ambos valores se imprimen.\n",
    "\n",
    "En la línea 6, `estudiantes.get(\"111-34-3434\")` devuelve el nombre del estudiante para esa clave (`Juan`). En la línea 7, `estudiantes.get(\"999-34-3434\")` devuelve `None` porque no existe la clave `\"999-34-3434\"` en el diccionario. \n",
    "\n",
    "La invocación `estudiantes.pop(\"111-34-3434\")` en la línea 8 elimina el elemento del diccionario con la clave `\"111-34-3434\"`. En la línea 10, la invocación de `estudiantes.clear()` elimina todos los elementos del diccionario."
   ]
  },
  {
   "cell_type": "markdown",
   "metadata": {
    "id": "1RcRWuyw3-Lb"
   },
   "source": [
    "## 5 Conversiones de tipos\n",
    "\n",
    "Cuando es posible, Python permite la conversión de un tipo a otro  utilizado en nombre del tipo. Ya hemos visto varios ejemplos de esto, por ejemplo: "
   ]
  },
  {
   "cell_type": "code",
   "execution_count": 14,
   "metadata": {
    "id": "8Dh9jTme4UMF"
   },
   "outputs": [
    {
     "data": {
      "text/plain": [
       "4"
      ]
     },
     "execution_count": 14,
     "metadata": {},
     "output_type": "execute_result"
    }
   ],
   "source": [
    "int(4.0)"
   ]
  },
  {
   "cell_type": "markdown",
   "metadata": {
    "id": "XA-j7Fjg4UUw"
   },
   "source": [
    "funciona bien,  tambien funciona bien  "
   ]
  },
  {
   "cell_type": "code",
   "execution_count": 15,
   "metadata": {
    "id": "l-SQrkLk4p7J"
   },
   "outputs": [
    {
     "data": {
      "text/plain": [
       "4"
      ]
     },
     "execution_count": 15,
     "metadata": {},
     "output_type": "execute_result"
    }
   ],
   "source": [
    "int(4.5)"
   ]
  },
  {
   "cell_type": "markdown",
   "metadata": {
    "id": "Fi5zPiWO4s9l"
   },
   "source": [
    "pues la función `int` aplicada a un `float` devuelve el entero más cercano al flotante, por izquierda. Es decir,  funciona pero, en este caso, no es una conversión de tipos.  \n",
    "\n",
    "Lo que no funciona es  algo así como:\n",
    "\n",
    "```\n",
    "int('s')\n",
    "```\n",
    "pues no hay forma razonable de convertir una cadena en un entero. \n",
    "\n",
    "Ahora bien, el ejemplo anterior  es muy simple pero  podemos hacer  conversiones de todo tipo mientras sean razonables.\n",
    "\n",
    "Por ejemplo, la función `str` se aplica a cualquier tipo de Python y devuelve una cadena que es una representación del objeto al cual se aplica `str` que los creadores de Python consideraron adecuada.  "
   ]
  },
  {
   "cell_type": "code",
   "execution_count": 16,
   "metadata": {
    "id": "lb0ejnVW4tFh"
   },
   "outputs": [
    {
     "data": {
      "text/plain": [
       "'1'"
      ]
     },
     "execution_count": 16,
     "metadata": {},
     "output_type": "execute_result"
    }
   ],
   "source": [
    "str(1)"
   ]
  },
  {
   "cell_type": "code",
   "execution_count": 17,
   "metadata": {
    "id": "nNVL_3SH7bVj"
   },
   "outputs": [
    {
     "data": {
      "text/plain": [
       "'[1, 3, 5]'"
      ]
     },
     "execution_count": 17,
     "metadata": {},
     "output_type": "execute_result"
    }
   ],
   "source": [
    "str([1, 3, 5])"
   ]
  },
  {
   "cell_type": "code",
   "execution_count": 18,
   "metadata": {
    "id": "-UTrk4RK7V5q"
   },
   "outputs": [
    {
     "data": {
      "text/plain": [
       "\"{'111-34-3434': 'Juan', '132-56-6290': 'Pedro'}\""
      ]
     },
     "execution_count": 18,
     "metadata": {},
     "output_type": "execute_result"
    }
   ],
   "source": [
    "str({\"111-34-3434\": \"Juan\", \"132-56-6290\": \"Pedro\"})"
   ]
  },
  {
   "cell_type": "markdown",
   "metadata": {
    "id": "hr8__FWK7mJs"
   },
   "source": [
    "**Conversión de iterables** \n",
    "\n",
    "\n",
    "**Definición.** Un *iterable* es cualquier objeto Python capaz de devolver sus miembros uno a la vez, lo que permite iterarlo en un bucle `for`. \n",
    "\n",
    "Los ejemplos familiares de iterables incluyen listas, tuplas y cadenas: cualquier secuencia de este tipo se puede iterar en un bucle `for`. \n",
    "\n",
    "Los diccionarios también son iterables  y por definición iteramos sobre sus claves. Cuando hacemos `for x  in diccionario` estamos iterando sobre sus claves,  es decir lo anterior es lo mismo que `for  x  in diccionario.keys()`. \n",
    "\n",
    "Todo lo que sea iterable se  puede convertir a lista o tupla. En particular una lista y un diccionario se puede convertir en una tupla o una tupla o diccionario se pueden convertir en listas. También se puede convertir una cadena en lista o tupla. "
   ]
  },
  {
   "cell_type": "code",
   "execution_count": 1,
   "metadata": {
    "id": "51ge6P0t7z3X"
   },
   "outputs": [
    {
     "name": "stdout",
     "output_type": "stream",
     "text": [
      "(1, 2, 3)\n",
      "['a', 'b', 'c']\n",
      "['H', 'o', 'l', 'a']\n",
      "('H', 'o', 'l', 'a')\n",
      "['a', 'b', 'c', 'd']\n",
      "('a', 'b', 'c', 'd')\n"
     ]
    }
   ],
   "source": [
    "print(tuple([1, 2, 3]))\n",
    "print(list(('a', 'b', 'c')))\n",
    "print(list('Hola'))\n",
    "print(tuple('Hola'))\n",
    "diccionario = {'a' : 1, 'b' : 2, 'c' : 3, 'd' : 4}\n",
    "print(list(diccionario))\n",
    "print(tuple(diccionario))"
   ]
  },
  {
   "cell_type": "markdown",
   "metadata": {
    "id": "otMlqmaM8U20"
   },
   "source": [
    "Observar que cuando convertimos un diccionario a lista o tupla se \"pierden\" los valores, solo quedan las claves. Si queremos en una lista o tupla todos los items del diccionario debemos hacer algo así: \n",
    "\n"
   ]
  },
  {
   "cell_type": "code",
   "execution_count": 2,
   "metadata": {},
   "outputs": [
    {
     "name": "stdout",
     "output_type": "stream",
     "text": [
      "[('a', 1), ('b', 2), ('c', 3), ('d', 4)]\n",
      "(('a', 1), ('b', 2), ('c', 3), ('d', 4))\n"
     ]
    }
   ],
   "source": [
    "print(list(diccionario.items()))\n",
    "print(tuple(diccionario.items()))"
   ]
  },
  {
   "cell_type": "markdown",
   "metadata": {},
   "source": [
    "Por otro lado, no hay conversiones directas de listas o tuplas a diccionarios. Si tenemos intenciones de hacer un diccionario a partir de una lista o tupla con claves de `0` a `len(list) - 1` entonces lo podemos hacer iterando sobre la lista o tupla: "
   ]
  },
  {
   "cell_type": "code",
   "execution_count": 20,
   "metadata": {
    "id": "akEHUigD8cW5"
   },
   "outputs": [
    {
     "name": "stdout",
     "output_type": "stream",
     "text": [
      "{0: 'a', 1: 'b', 2: 'c', 3: 'd', 4: 'e'}\n"
     ]
    }
   ],
   "source": [
    "lista = ['a', 'b', 'c', 'd', 'e']\n",
    "diccionario = {}\n",
    "for i in range(len(lista)):\n",
    "    diccionario[i] = lista[i]\n",
    "\n",
    "print(diccionario)"
   ]
  },
  {
   "cell_type": "markdown",
   "metadata": {
    "id": "-FKWYJGK-d6U"
   },
   "source": [
    "Debemos tener cuidado, en este caso `diccionario` es muy parecido  a `lista`,  sin embargo `diccionario` no es una secuencia ordenada y, como ya dijimos,  recorrer el diccionario con el `for` puede resultar en un orden muy distinto al de la lista original. "
   ]
  },
  {
   "cell_type": "markdown",
   "metadata": {
    "id": "6L5aQUkr5q5F"
   },
   "source": [
    "## 6. Conjuntos\n",
    "\n",
    "El tipo *conjunto* es una característica del Python y no suele encontrarse en otros lenguajes de programación imperativo. A veces, las situaciones que modelamos se representan mejor como conjuntos y entonces puede ser conveniente usar este tipo.  \n",
    "\n",
    "El tipo conjunto es `set` y tiene la siguientes características:\n",
    "\n",
    "- los conjuntos no están ordenados,\n",
    "- los elementos del conjunto son únicos. No se permiten elementos duplicados,\n",
    "- un conjunto en sí mismo puede ser modificado, pero los elementos contenidos en el conjunto deben ser de un tipo inmutable,\n",
    "- los conjuntos son iterables.\n",
    "\n",
    "¿Cómo creamos un conjunto? Hay varias formas, una es directamente usando la notación de llaves usual en matemática:"
   ]
  },
  {
   "cell_type": "code",
   "execution_count": 21,
   "metadata": {
    "id": "wI2kzgFK5pMz"
   },
   "outputs": [
    {
     "name": "stdout",
     "output_type": "stream",
     "text": [
      "<class 'set'>\n",
      "{'y', 'z', 'x'}\n"
     ]
    }
   ],
   "source": [
    "a = {'x', 'z', 'y'}\n",
    "print(type(a))\n",
    "print(a)"
   ]
  },
  {
   "cell_type": "markdown",
   "metadata": {
    "id": "0Thth4nG8Vh8"
   },
   "source": [
    "Hay que tener un poco de cuidado. Contrariamento a lo que nuestra intución nos indica el conjunto vacío *no* es `{}` en Python. Recordemos  que la notación `{}` está reservada al diccionario vacío. El conjunto vacío se obtiene con `set()`:"
   ]
  },
  {
   "cell_type": "code",
   "execution_count": 22,
   "metadata": {
    "colab": {
     "base_uri": "https://localhost:8080/"
    },
    "executionInfo": {
     "elapsed": 293,
     "status": "ok",
     "timestamp": 1633116573962,
     "user": {
      "displayName": "Alejandro Leopoldo Tiraboschi",
      "photoUrl": "https://lh3.googleusercontent.com/a-/AOh14Gir321Aip7u2JtD7LMLQbY3a1oHsAD11CVed_UbeFc=s64",
      "userId": "02370857492204546552"
     },
     "user_tz": 180
    },
    "id": "cmBTvun18V2P",
    "outputId": "402d3bfa-1166-46f8-caa9-d44cd1c91297"
   },
   "outputs": [
    {
     "name": "stdout",
     "output_type": "stream",
     "text": [
      "<class 'set'> set()\n",
      "<class 'dict'> {}\n"
     ]
    }
   ],
   "source": [
    "a = set()\n",
    "print(type(a), a)\n",
    "b = {}\n",
    "print(type(b), b)"
   ]
  },
  {
   "cell_type": "markdown",
   "metadata": {
    "id": "mdExhYnN75Ot"
   },
   "source": [
    "Otra forma, muy utilizada, de crear conjuntos es a partir de una lista, tupla o cadena. En realidad se puede crear un conjunto desde cualquier iterable.\n"
   ]
  },
  {
   "cell_type": "code",
   "execution_count": 3,
   "metadata": {
    "id": "I5RRLh4-75Wz"
   },
   "outputs": [
    {
     "name": "stdout",
     "output_type": "stream",
     "text": [
      "{1, 2, 3, -1}\n",
      "{'b', 'a', 'v'}\n",
      "{'a', 'n', 'B'}\n",
      "{'b', 'a', 'c', 'd'}\n"
     ]
    }
   ],
   "source": [
    "a = set([1, 3, 2, 2, -1, 3])\n",
    "print(a)\n",
    "b = set(('a', 'b', 'v'))\n",
    "print(b)\n",
    "c = set('Banana')\n",
    "print(c)\n",
    "d = set({'a' : 1, 'b' : 2, 'c' : 3, 'd' : 4})\n",
    "print(d)"
   ]
  },
  {
   "cell_type": "markdown",
   "metadata": {
    "id": "vdPPWXip99pb"
   },
   "source": [
    "No hay que olvidar que los elementos de un conjunto deben ser inmutables. Por ejemplo, una tupla puede incluirse en un conjunto:"
   ]
  },
  {
   "cell_type": "code",
   "execution_count": 24,
   "metadata": {
    "id": "k87wtyiR-F3s"
   },
   "outputs": [
    {
     "data": {
      "text/plain": [
       "{(1, 2, 3), 3.14159, 42, 'foo'}"
      ]
     },
     "execution_count": 24,
     "metadata": {},
     "output_type": "execute_result"
    }
   ],
   "source": [
    "x = {42, 'foo', (1, 2, 3), 3.14159}\n",
    "x"
   ]
  },
  {
   "cell_type": "markdown",
   "metadata": {
    "id": "_Wa_A-tp-Gnl"
   },
   "source": [
    "Pero las listas, los diccionarios y los conjuntos mismos son mutables, por lo que no se pueden incluir este tipo de elementos en un conjnunto. En  particular no se pueden hacer conjuntos de conjuntos. "
   ]
  },
  {
   "cell_type": "code",
   "execution_count": 43,
   "metadata": {
    "id": "SMR3DS9i-klM"
   },
   "outputs": [
    {
     "name": "stdout",
     "output_type": "stream",
     "text": [
      "Descomentar algunas de las líneas de código anteriores produce error\n"
     ]
    }
   ],
   "source": [
    "# set([[1, 2], 3])\n",
    "# set({'a' : 1})\n",
    "# set({set(), {1}, {2}, {3}, {1, 2}, {1, 3}, {2, 3}, {1, 2, 3}}) # conjunto de subconjuntos de {1, 2, 3}\n",
    "print('Descomentar algunas de las líneas de código anteriores produce error')"
   ]
  },
  {
   "cell_type": "markdown",
   "metadata": {
    "id": "NnMkn083B6XW"
   },
   "source": [
    "**Recorriendo un conjunto.** Como ya mencionamos anteriormente, el tipo `set` es iterable y por lo tanto podemos recuperar sus elementos con un `for`: "
   ]
  },
  {
   "cell_type": "code",
   "execution_count": 26,
   "metadata": {
    "colab": {
     "base_uri": "https://localhost:8080/"
    },
    "executionInfo": {
     "elapsed": 258,
     "status": "ok",
     "timestamp": 1633116678549,
     "user": {
      "displayName": "Alejandro Leopoldo Tiraboschi",
      "photoUrl": "https://lh3.googleusercontent.com/a-/AOh14Gir321Aip7u2JtD7LMLQbY3a1oHsAD11CVed_UbeFc=s64",
      "userId": "02370857492204546552"
     },
     "user_tz": 180
    },
    "id": "wd1CYftdCMsA",
    "outputId": "d850873b-101e-472c-8eab-d90f72146d8c"
   },
   "outputs": [
    {
     "name": "stdout",
     "output_type": "stream",
     "text": [
      "{'a', 'h', 'l', 'o', 'i', 'y', ' ', 'd', 's'}\n",
      "a\n",
      "h\n",
      "l\n",
      "o\n",
      "i\n",
      "y\n",
      " \n",
      "d\n",
      "s\n"
     ]
    }
   ],
   "source": [
    "a = set('hola y adios')\n",
    "print(a)\n",
    "for letra in a:\n",
    "    print(letra) "
   ]
  },
  {
   "cell_type": "markdown",
   "metadata": {
    "id": "eZxRKb6jChRt"
   },
   "source": [
    "En el código anterior el conjunto `a` es el conjunto de todas las letras que tiene la frase `'hola y adios'`.  El `for` nos permite, en este caso,  recorrer todas las letra e imprimirlas. \n",
    "\n",
    "El operador `in` también funciona como el \"pertenece\" en matemática: si `x` es un objeto inmutable y `a` es un conjunto,  `x in a` devuelve `True` si el elemento `x` pertenece a `a`."
   ]
  },
  {
   "cell_type": "markdown",
   "metadata": {},
   "source": [
    "*Observación.* Podemos pensar un conjunto como un diccionario donde las claves son los elementos y los valores son `None`. Es decir el conjunto\n",
    "\n",
    "     {a, b, c, d}\n",
    "\n",
    "se comporta muy parecido al diccionario\n",
    "\n",
    "    {a : None, b : None, c : None, d : None}"
   ]
  },
  {
   "cell_type": "markdown",
   "metadata": {
    "id": "Bx_7y9ACaFpC"
   },
   "source": [
    "## 7. Operadores y métodos disponibles en conjuntos\n",
    "\n",
    "A continuación se muestra una lista de las operaciones establecidas disponibles en Python. Algunos son realizados por un operador, otros por un  método, y otros por ambos. Veamos algunos métodos y operadores: \n",
    "\n",
    "- `x1.union(x2)` : si `x1` conjunto y `x2` iterable devuelve la unión entre `x1` y `set(x2)`.\n",
    "- `x1 | x2` :  si `x1`, `x2` son conjuntos devuelve la unión entre `x1` y `x2`.\n",
    "- `x1.intersection(x2)` : si `x1` conjunto y `x2` iterable devuelve la intersección entre `x1` y `set(x2)`.\n",
    "- `x1 & x2` :  si `x1`, `x2` son conjuntos devuelve la intersección entre `x1` y `x2`.\n",
    "- `x1.difference(x2)` : si `x1` conjunto y `x2` iterable devuelve la diferencia entre `x1` y `set(x2)`.\n",
    "- `x1 - x2` :  si `x1`, `x2` son conjuntos devuelve la diferencia entre `x1` y `x2`.\n",
    "\n",
    "Ninguno de estos métodos y operaciones modifica `x1` o `x2`. \n",
    "\n",
    "Veamos algunos ejemplos:"
   ]
  },
  {
   "cell_type": "code",
   "execution_count": 27,
   "metadata": {
    "id": "ae8n5H_scO2g"
   },
   "outputs": [
    {
     "name": "stdout",
     "output_type": "stream",
     "text": [
      "{1, 2, 3, 4, 5, 7, 8, 10}\n",
      "{1, 2, 3, 4, 5, 7, 8, 10}\n",
      "{5, 7}\n",
      "{5, 7}\n",
      "{1, 3}\n",
      "{1, 3}\n",
      "{1, 3, 5, 7} {2, 4, 5, 7, 8, 10} [2, 4, 5, 7, 8, 10]\n"
     ]
    }
   ],
   "source": [
    "x1, x2 = {1, 3, 5 ,7}, {2, 4, 5, 7, 8, 10}\n",
    "x3 = [2, 4, 5, 7, 8, 10]\n",
    "print(x1.union(x3))\n",
    "print(x1 | x2)\n",
    "print(x1.intersection(x3))\n",
    "print(x1 & x2)\n",
    "print(x1.difference(x3))\n",
    "print(x1 - x2)\n",
    "print(x1, x2, x3)"
   ]
  },
  {
   "cell_type": "markdown",
   "metadata": {
    "id": "x-f-ijigcO_D"
   },
   "source": [
    "El principio general es que los métodos generalmente aceptarán cualquier iterable como argumento, pero los operadores requieren conjuntos,  es decir elementos de tipo `set`, como operandos.\n",
    "\n"
   ]
  },
  {
   "cell_type": "markdown",
   "metadata": {
    "id": "D4NPlq_5ezhA"
   },
   "source": [
    "**Métodos y operadores que relacionan conjuntos**\n",
    "\n",
    "Veamos algunos métodos y operadores entre conjuntos que devuelven valores booleanos. Sean `x1` y `x2` conjuntos. `x2` puede ser un iterable en el caso de los métodos:\n",
    "\n",
    "- `x1.isdisjoint(x2)` : devuelve `True` si `x1` y `set(x2)` no tienen elementos en común.\n",
    "- `x1.issubset(x2)`: devuelve `True` si `x1` es subconjunto de `set(x2)`.\n",
    "- `x1 <= x2` : devuelve `True` si `x1` es subconjunto de `x2`.\n",
    "- `x1 < x2` : devuelve `True` si `x1` está incluido en forma estrica en `x2`. Es decir,  es equivalente `(x1 <= x2) and (x1 != x2)`.\n",
    "- `x1.issuperset(x2)`: devuelve `True` si `set(x2)` es subconjunto de `x1`.\n",
    "- `x1 >= x2` : devuelve `True` si `x2` es subconjunto de `x1`.\n",
    "- `x1 > x2` : devuelve `True` si `x2` está incluido en forma estrica en `x1`. "
   ]
  },
  {
   "cell_type": "code",
   "execution_count": 28,
   "metadata": {
    "id": "hnJimaI0bDAX"
   },
   "outputs": [
    {
     "name": "stdout",
     "output_type": "stream",
     "text": [
      "False\n",
      "True\n",
      "False\n",
      "True\n",
      "False\n",
      "True\n",
      "False\n",
      "True\n"
     ]
    }
   ],
   "source": [
    "x1, x2, x3, x4  = {1, 3, 5 ,7}, {2, 4, 5, 7, 8, 10}, {21, 23}, {1, 3, 5 ,7, 2, 4, 5, 7, 8, 10, 21, 23}\n",
    "print(x1.isdisjoint(x2))\n",
    "print(x1.isdisjoint(x3))\n",
    "print(x1.issubset(x2))\n",
    "print(x1.issubset(x4))\n",
    "print(x1 <= x2)\n",
    "print(x1 <= x4)\n",
    "print(x1 < x1)\n",
    "print(x1 < x4)"
   ]
  },
  {
   "cell_type": "markdown",
   "metadata": {
    "id": "Q9efEMB5bf_p"
   },
   "source": [
    "## 8. Métodos que modifican conjuntos\n",
    "\n",
    "Aunque los elementos contenidos en un conjunto deben ser de tipo inmutable, los propios conjuntos pueden modificarse. Al igual que las operaciones anteriores, hay una combinación de operadores y métodos que se pueden utilizar para cambiar el contenido de un conjunto.\n",
    "\n",
    " Veamos algunos métodos y operadores que modifican conjuntos: \n",
    "\n",
    "- `x1.union_update(x2)` : si `x1` conjunto y `x2` iterable,  le agrega a  `x1` los elementos de `set(x2)`.\n",
    "- `x1 |= x2` :  si `x1`, `x2` son conjuntos, le agrega a `x1` los elementos de `x2`.\n",
    "- `x1.intersection_update(x2)` : si `x1` conjunto y `x2` iterable, deja en `x1` los elementos que están también en `set(x2)`.\n",
    "- `x1 &= x2` :  si `x1`, `x2` son conjuntos, deja en  `x1` los elementos que están también en `x2`.\n",
    "- `x1.difference_update(x2)` : si `x1` conjunto y `x2` iterable, le quita a  `x1` los elementos de `set(x2)`.\n",
    "- `x1 -= x2` :  si `x1`, `x2` son conjuntos, le quita a  `x1` los elementos de `x2`.\n",
    "\n",
    "Ejemplos de uso:\n"
   ]
  },
  {
   "cell_type": "code",
   "execution_count": 29,
   "metadata": {
    "id": "qOIzrsDSgRqI"
   },
   "outputs": [
    {
     "name": "stdout",
     "output_type": "stream",
     "text": [
      "{1, 2, 3, 4, 5, 7, 8, 10}\n",
      "{5, 7}\n",
      "{1, 3} {2, 4, 5, 7, 8, 10}\n"
     ]
    }
   ],
   "source": [
    "x1, x2 = {1, 3, 5 ,7}, {2, 4, 5, 7, 8, 10}\n",
    "x1 |= x2\n",
    "print(x1)\n",
    "x1, x2 = {1, 3, 5 ,7}, {2, 4, 5, 7, 8, 10}\n",
    "x1 &= x2\n",
    "print(x1)\n",
    "x1, x2 = {1, 3, 5 ,7}, {2, 4, 5, 7, 8, 10}\n",
    "x1 -= x2\n",
    "print(x1, x2)"
   ]
  },
  {
   "cell_type": "markdown",
   "metadata": {
    "id": "z2Izam8MhGe2"
   },
   "source": [
    "Todas las operaciones y métodos anteriores son entre conjuntos (o entre conjuntos e iterables). Veamos ahora algunas operaciones que involucren elementos. Sea `x` conjunto y `e` un objeto inmutable:\n",
    "\n",
    "- `x.add(e)` : agrega `e` a `x`. \n",
    "- `x.remove(e)`: quita  `e` a `x` si `e` está en `x`. En caso contrario se produce una excepción. \n",
    "- `x.discard(e)` : también quita `e` de `x`. Sin embargo, si `e` no está en `x`, este método  no hace nada en lugar de plantear una excepción.\n",
    "- `x.pop()` : quita y devuelve un elemento elegido aleatoriamente de `x`. Si `x` está vacío, genera una excepción.\n",
    "- `x.clear()` : elimina todos los elementos de `x`.\n"
   ]
  },
  {
   "cell_type": "code",
   "execution_count": 30,
   "metadata": {
    "id": "RV0YvuC1iuU0"
   },
   "outputs": [
    {
     "name": "stdout",
     "output_type": "stream",
     "text": [
      "{1, 3, 5, 7}\n",
      "{1, 3, 5, 7, 8}\n",
      "{1, 3, 7, 8}\n",
      "{1, 3, 7, 8}\n",
      "{3, 7, 8}\n",
      "set()\n"
     ]
    }
   ],
   "source": [
    "x = {1, 3, 5 ,7}\n",
    "print(x)\n",
    "x.add(8) \n",
    "print(x)\n",
    "x.remove(5)\n",
    "print(x)\n",
    "x.discard(11)\n",
    "print(x)\n",
    "x.pop()\n",
    "print(x)\n",
    "x.clear()\n",
    "print(x)"
   ]
  },
  {
   "cell_type": "markdown",
   "metadata": {
    "id": "XJxlQtaiaBn9"
   },
   "source": [
    "## 9. Definiciones por comprensión\n",
    "\n",
    "En  matemática usualmente se hace la diferencia entre definir un conjunto por *extensión* o por *comprensión*. Cuando definimos por extensión (en forma estricta) enumeramos todos los elementos de un conunto. En cambio, cuando definimos por comprensión los elementos del conjunto son los que cumple cierta propiedad. Por ejemplo\n",
    "$$\n",
    "\\{1,2,3,4,5,6\\}\n",
    "$$\n",
    "y \n",
    "$$\n",
    "\\{i \\in \\mathbb Z: 1 \\le i \\le 6\\}\n",
    "$$\n",
    "son dos notaciones para el mismo conjunto,  el primero definido  por extensión y el segundo por comprensión. \n",
    "\n",
    "Notablemente, en Python podemos hacer algo muy parecido: los conjuntos \n",
    "```\n",
    "{1,2,3,4,5,6}\n",
    "```\n",
    "y \n",
    "```\n",
    "{i for i in range(1,7)}\n",
    "```\n",
    "La segunda expresión es lo que se llama en Python la definición de un conjunto por comprensión."
   ]
  },
  {
   "cell_type": "code",
   "execution_count": 44,
   "metadata": {
    "colab": {
     "base_uri": "https://localhost:8080/"
    },
    "executionInfo": {
     "elapsed": 262,
     "status": "ok",
     "timestamp": 1633118132038,
     "user": {
      "displayName": "Alejandro Leopoldo Tiraboschi",
      "photoUrl": "https://lh3.googleusercontent.com/a-/AOh14Gir321Aip7u2JtD7LMLQbY3a1oHsAD11CVed_UbeFc=s64",
      "userId": "02370857492204546552"
     },
     "user_tz": 180
    },
    "id": "KOPkcVb1aFBe",
    "outputId": "9459e985-68cc-477b-9e71-ead79d3841c3"
   },
   "outputs": [
    {
     "name": "stdout",
     "output_type": "stream",
     "text": [
      "{1, 2, 3, 4, 5, 6}\n",
      "{1, 2, 3, 4, 5, 6}\n"
     ]
    }
   ],
   "source": [
    "print({1,2,3,4,5,6})\n",
    "print({i for i in range(1,7)})"
   ]
  },
  {
   "cell_type": "markdown",
   "metadata": {
    "id": "lUhiEyBtbuIX"
   },
   "source": [
    "Las definiciones por comprensión son muy poderosas,  se pueden hacer en listas, conjuntos y diccionarios y siempre se basan en uno o varios iterables. \n",
    "\n",
    "Por ejemplo,  definamos  la lista de longitud 6 que almacena los primeros 6 números no negativos elevados  al cuadrado:"
   ]
  },
  {
   "cell_type": "code",
   "execution_count": 32,
   "metadata": {
    "colab": {
     "base_uri": "https://localhost:8080/"
    },
    "executionInfo": {
     "elapsed": 252,
     "status": "ok",
     "timestamp": 1633118484270,
     "user": {
      "displayName": "Alejandro Leopoldo Tiraboschi",
      "photoUrl": "https://lh3.googleusercontent.com/a-/AOh14Gir321Aip7u2JtD7LMLQbY3a1oHsAD11CVed_UbeFc=s64",
      "userId": "02370857492204546552"
     },
     "user_tz": 180
    },
    "id": "CVDracAGcb6S",
    "outputId": "a6338bd1-0211-4e82-c787-a282850df371"
   },
   "outputs": [
    {
     "name": "stdout",
     "output_type": "stream",
     "text": [
      "[0, 1, 4, 9, 16, 25]\n"
     ]
    }
   ],
   "source": [
    "cuadrados = [i**2 for i in range(6)]\n",
    "print(cuadrados)"
   ]
  },
  {
   "cell_type": "markdown",
   "metadata": {
    "id": "XubvidRjcsmW"
   },
   "source": [
    "También podemos hacer un diccionario parecido:"
   ]
  },
  {
   "cell_type": "code",
   "execution_count": 33,
   "metadata": {
    "colab": {
     "base_uri": "https://localhost:8080/"
    },
    "executionInfo": {
     "elapsed": 262,
     "status": "ok",
     "timestamp": 1633118535131,
     "user": {
      "displayName": "Alejandro Leopoldo Tiraboschi",
      "photoUrl": "https://lh3.googleusercontent.com/a-/AOh14Gir321Aip7u2JtD7LMLQbY3a1oHsAD11CVed_UbeFc=s64",
      "userId": "02370857492204546552"
     },
     "user_tz": 180
    },
    "id": "XMuiobzKbzwQ",
    "outputId": "7a2758ba-f725-49fd-e07d-1a34c01650f8"
   },
   "outputs": [
    {
     "data": {
      "text/plain": [
       "{0: 0, 1: 1, 2: 4, 3: 9, 4: 16, 5: 25}"
      ]
     },
     "execution_count": 33,
     "metadata": {},
     "output_type": "execute_result"
    }
   ],
   "source": [
    "{i: i**2 for i in range(6)}"
   ]
  },
  {
   "cell_type": "markdown",
   "metadata": {
    "id": "nUmUdpiyc4eg"
   },
   "source": [
    "O  el conjunto de los primeros 6 enteros no negativos elevados al cuadrado:"
   ]
  },
  {
   "cell_type": "code",
   "execution_count": 34,
   "metadata": {
    "colab": {
     "base_uri": "https://localhost:8080/"
    },
    "executionInfo": {
     "elapsed": 268,
     "status": "ok",
     "timestamp": 1633118590876,
     "user": {
      "displayName": "Alejandro Leopoldo Tiraboschi",
      "photoUrl": "https://lh3.googleusercontent.com/a-/AOh14Gir321Aip7u2JtD7LMLQbY3a1oHsAD11CVed_UbeFc=s64",
      "userId": "02370857492204546552"
     },
     "user_tz": 180
    },
    "id": "mDaUm2Khc-5P",
    "outputId": "3b81330d-059c-49e1-ae72-0abdd2733155"
   },
   "outputs": [
    {
     "data": {
      "text/plain": [
       "{0, 1, 4, 9, 16, 25}"
      ]
     },
     "execution_count": 34,
     "metadata": {},
     "output_type": "execute_result"
    }
   ],
   "source": [
    "{i**2 for i in range(6)}"
   ]
  },
  {
   "cell_type": "markdown",
   "metadata": {
    "id": "ltnKBK9deBbz"
   },
   "source": [
    "Aquí no termina la utilidad de las definiciones por comprensión, pues en ellas también podemos poner condicionales. Por ejemplo:"
   ]
  },
  {
   "cell_type": "code",
   "execution_count": 35,
   "metadata": {
    "colab": {
     "base_uri": "https://localhost:8080/"
    },
    "executionInfo": {
     "elapsed": 280,
     "status": "ok",
     "timestamp": 1633119695738,
     "user": {
      "displayName": "Alejandro Leopoldo Tiraboschi",
      "photoUrl": "https://lh3.googleusercontent.com/a-/AOh14Gir321Aip7u2JtD7LMLQbY3a1oHsAD11CVed_UbeFc=s64",
      "userId": "02370857492204546552"
     },
     "user_tz": 180
    },
    "id": "-n8OAv-MefO7",
    "outputId": "2c5e8eee-a9d0-4ceb-80a5-90ef4fb364f1"
   },
   "outputs": [
    {
     "name": "stdout",
     "output_type": "stream",
     "text": [
      "[0, 2, 4, 6, 8, 10, 12, 14, 16, 18]\n"
     ]
    }
   ],
   "source": [
    "pares = [x for x in range(20) if x % 2 == 0]\n",
    "print(pares)"
   ]
  },
  {
   "cell_type": "markdown",
   "metadata": {
    "id": "gR8ABNfJhHPt"
   },
   "source": [
    "nos imprime la lista ordenada de todos los números pares del 0 al 19, o"
   ]
  },
  {
   "cell_type": "code",
   "execution_count": 36,
   "metadata": {
    "colab": {
     "base_uri": "https://localhost:8080/"
    },
    "executionInfo": {
     "elapsed": 259,
     "status": "ok",
     "timestamp": 1633119698775,
     "user": {
      "displayName": "Alejandro Leopoldo Tiraboschi",
      "photoUrl": "https://lh3.googleusercontent.com/a-/AOh14Gir321Aip7u2JtD7LMLQbY3a1oHsAD11CVed_UbeFc=s64",
      "userId": "02370857492204546552"
     },
     "user_tz": 180
    },
    "id": "t6NQMVPshHkR",
    "outputId": "29b69d68-a650-41bb-fa78-77afc265ed4e"
   },
   "outputs": [
    {
     "name": "stdout",
     "output_type": "stream",
     "text": [
      "[0, 6, 12, 18]\n"
     ]
    }
   ],
   "source": [
    "mult6 = [ x for x in range(20) if x % 2 == 0 if x % 3 == 0]\n",
    "print(mult6)"
   ]
  },
  {
   "cell_type": "markdown",
   "metadata": {
    "id": "7iMHETXTfdc6"
   },
   "source": [
    "nos imprime la lista ordenada de todos los números múltiplos de 6 del 0 al 19. \n",
    "\n",
    "También podemos `if ... else ...` para determinar que acción tomar, por ejemplo:"
   ]
  },
  {
   "cell_type": "code",
   "execution_count": 37,
   "metadata": {
    "colab": {
     "base_uri": "https://localhost:8080/"
    },
    "executionInfo": {
     "elapsed": 256,
     "status": "ok",
     "timestamp": 1633119406849,
     "user": {
      "displayName": "Alejandro Leopoldo Tiraboschi",
      "photoUrl": "https://lh3.googleusercontent.com/a-/AOh14Gir321Aip7u2JtD7LMLQbY3a1oHsAD11CVed_UbeFc=s64",
      "userId": "02370857492204546552"
     },
     "user_tz": 180
    },
    "id": "ngYQtAu_f9l5",
    "outputId": "d98998f4-58c4-4570-ac85-7b4d239f7adc"
   },
   "outputs": [
    {
     "name": "stdout",
     "output_type": "stream",
     "text": [
      "['Par', 'Impar', 'Par', 'Impar', 'Par', 'Impar', 'Par', 'Impar', 'Par', 'Impar']\n"
     ]
    }
   ],
   "source": [
    "obj = [\"Par\" if i % 2 == 0 else \"Impar\" for i in range(10)]\n",
    "print(obj)"
   ]
  },
  {
   "cell_type": "markdown",
   "metadata": {
    "id": "2SZl3rN_godi"
   },
   "source": [
    "Hay muchas forma de definir un objeto por comprensión y aquí solo hemos visto alguna de las más sencillas. \n",
    "\n",
    "El ejemplo siguiente es una aplicación relativamente complicada de los mecanismos de definición por comprensión. En el ejemplo,  se reproduce el método de la  *criba de Eratóstenes* para encontrar la lista de primos de  `2` a `n - 1`: "
   ]
  },
  {
   "cell_type": "code",
   "execution_count": 38,
   "metadata": {
    "colab": {
     "base_uri": "https://localhost:8080/"
    },
    "executionInfo": {
     "elapsed": 281,
     "status": "ok",
     "timestamp": 1633122153985,
     "user": {
      "displayName": "Alejandro Leopoldo Tiraboschi",
      "photoUrl": "https://lh3.googleusercontent.com/a-/AOh14Gir321Aip7u2JtD7LMLQbY3a1oHsAD11CVed_UbeFc=s64",
      "userId": "02370857492204546552"
     },
     "user_tz": 180
    },
    "id": "0NGzjO4hiVtw",
    "outputId": "8f1e8136-23e1-44ec-897f-b613c2346f0d"
   },
   "outputs": [
    {
     "name": "stdout",
     "output_type": "stream",
     "text": [
      "{2, 3, 5, 7, 11, 13, 17, 19, 23, 29, 31, 37, 41, 43, 47, 53, 59, 61, 67, 71, 73, 79, 83, 89, 97}\n"
     ]
    }
   ],
   "source": [
    "n = 100\n",
    "primos = {i for i in range(2, n)} - {i for q in range(2, n) for i in range(2 * q, n, q)}\n",
    "print(primos)"
   ]
  },
  {
   "cell_type": "markdown",
   "metadata": {
    "id": "tpeoH_6BkfRU"
   },
   "source": [
    "El primer conjunto a la izquierda de la asignación a  `primos` es el conjunto de los enteros entre `2` y `n - 1`. A este conjunto le saco todos los múltiplos no triviales de `q` para `q` entre `2` y `n - 1`. \n",
    "\n",
    "Podemos mejorar la definición de la criba: si `q >= n**05`,  entonces los múltiplos no triviales de `q` ya están incluidos en el conjunto que fue generado hasta ese momento ($pq = m \\Rightarrow p \\le \\sqrt{m} \\vee q \\le \\sqrt{m}$), por lo tanto hay una versión mucho más eficiente de la implementación de la criba de Eratóstenes, que es la siguiente:  \n"
   ]
  },
  {
   "cell_type": "code",
   "execution_count": 39,
   "metadata": {
    "colab": {
     "base_uri": "https://localhost:8080/"
    },
    "executionInfo": {
     "elapsed": 277,
     "status": "ok",
     "timestamp": 1633121835271,
     "user": {
      "displayName": "Alejandro Leopoldo Tiraboschi",
      "photoUrl": "https://lh3.googleusercontent.com/a-/AOh14Gir321Aip7u2JtD7LMLQbY3a1oHsAD11CVed_UbeFc=s64",
      "userId": "02370857492204546552"
     },
     "user_tz": 180
    },
    "id": "VNUg68gEpRX0",
    "outputId": "f6fb7e55-9ed9-487e-c0d8-aaf378df71f2"
   },
   "outputs": [
    {
     "name": "stdout",
     "output_type": "stream",
     "text": [
      "{2, 3, 5, 7, 11, 13, 17, 19, 23, 29, 31, 37, 41, 43, 47, 53, 59, 61, 67, 71, 73, 79, 83, 89, 97}\n"
     ]
    }
   ],
   "source": [
    "n = 100\n",
    "primos = {i for i in range(2, n)} - {i for q in range(2, int(n**0.5)) for i in range(2 * q, n, q)}\n",
    "print(primos)"
   ]
  },
  {
   "cell_type": "markdown",
   "metadata": {
    "id": "Gs9EpFyupRiV"
   },
   "source": [
    "\n",
    "Como último comentario diremos que los métodos de definición por comprensión no solo son elegantes y concisos, si no que también son muy eficientes.\n",
    "\n",
    "En  el ejemplo siguiente podrán ver (variando  el `n`) que generar la lista de cuadrados hasta `n` lleva alrededor de un 30% más de tiempo si no la hacemos por comprensión. En ejemplos más complicados la diferencia puede ser mucho mayor. "
   ]
  },
  {
   "cell_type": "code",
   "execution_count": 5,
   "metadata": {
    "colab": {
     "base_uri": "https://localhost:8080/"
    },
    "executionInfo": {
     "elapsed": 945,
     "status": "ok",
     "timestamp": 1633121310837,
     "user": {
      "displayName": "Alejandro Leopoldo Tiraboschi",
      "photoUrl": "https://lh3.googleusercontent.com/a-/AOh14Gir321Aip7u2JtD7LMLQbY3a1oHsAD11CVed_UbeFc=s64",
      "userId": "02370857492204546552"
     },
     "user_tz": 180
    },
    "id": "AVIyiLMykzVP",
    "outputId": "83cb7eee-4f29-4fb2-c150-c71dd6b366bf"
   },
   "outputs": [
    {
     "name": "stdout",
     "output_type": "stream",
     "text": [
      "Sin comprensión: 35.28267192840576 segundos\n",
      "Por comprensión: 35.33435845375061 segundos\n"
     ]
    }
   ],
   "source": [
    "import time\n",
    "t0 = time.time()\n",
    "n = 10000000\n",
    "\n",
    "lista = [] # primera forma\n",
    "for i in range(n):\n",
    "    lista.append(n**2)\n",
    "\n",
    "t1 = time.time()\n",
    "print('Sin comprensión:',t1 - t0,'segundos')\n",
    "t0 = time.time()\n",
    "\n",
    "lista = [i**2 for i in range(n)] # por comprensión\n",
    "\n",
    "t1 = time.time()\n",
    "print('Por comprensión:',t1 - t0,'segundos')"
   ]
  }
 ],
 "metadata": {
  "colab": {
   "authorship_tag": "ABX9TyMhaAGNwoPFBDUJMI9KIGSe",
   "collapsed_sections": [],
   "name": "09 - Diccionarios y conjuntos.ipynb",
   "provenance": [
    {
     "file_id": "1bkMpNWAZrDODMgFrCWbQWrb_p02OqM2v",
     "timestamp": 1632432367639
    },
    {
     "file_id": "1xAQjMSDYcbbboh8m_9WXaYMH1SSGuIBd",
     "timestamp": 1632148550083
    },
    {
     "file_id": "12JEEA3IEaWpYphTR4mmvjYbFI39K_wwX",
     "timestamp": 1631719743151
    }
   ]
  },
  "kernelspec": {
   "display_name": "Python 3 (ipykernel)",
   "language": "python",
   "name": "python3"
  },
  "language_info": {
   "codemirror_mode": {
    "name": "ipython",
    "version": 3
   },
   "file_extension": ".py",
   "mimetype": "text/x-python",
   "name": "python",
   "nbconvert_exporter": "python",
   "pygments_lexer": "ipython3",
   "version": "3.9.6"
  }
 },
 "nbformat": 4,
 "nbformat_minor": 4
}
