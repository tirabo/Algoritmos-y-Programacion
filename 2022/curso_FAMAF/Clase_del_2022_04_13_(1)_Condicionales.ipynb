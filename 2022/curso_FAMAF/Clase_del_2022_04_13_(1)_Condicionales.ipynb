{
 "cells": [
  {
   "cell_type": "markdown",
   "metadata": {
    "id": "RaWgUaPviYMW"
   },
   "source": [
    "# Condicionales\n",
    "\n",
    "## 1. Expresiones booleanas\n",
    "\n",
    "Una expresión booleana es una expresión verdadera o falsa. Los siguientes ejemplos usan el operador `==`, que compara dos operandos y produce `True` si son iguales y `False` en caso contrario:\n",
    "\n",
    "\n"
   ]
  },
  {
   "cell_type": "code",
   "execution_count": null,
   "metadata": {
    "colab": {
     "base_uri": "https://localhost:8080/"
    },
    "executionInfo": {
     "elapsed": 275,
     "status": "ok",
     "timestamp": 1631560098544,
     "user": {
      "displayName": "Alejandro Leopoldo Tiraboschi",
      "photoUrl": "https://lh3.googleusercontent.com/a-/AOh14Gir321Aip7u2JtD7LMLQbY3a1oHsAD11CVed_UbeFc=s64",
      "userId": "02370857492204546552"
     },
     "user_tz": 180
    },
    "id": "LEzLpZx18jw3",
    "outputId": "7354ae70-5616-4961-f716-ca27beba06be"
   },
   "outputs": [],
   "source": [
    "print(5 == 5)\n",
    "print(5 == 6)"
   ]
  },
  {
   "cell_type": "markdown",
   "metadata": {},
   "source": [
    "`True` y` False` son valores especiales que pertenecen al tipo `bool`; no son cadenas:"
   ]
  },
  {
   "cell_type": "code",
   "execution_count": null,
   "metadata": {
    "colab": {
     "base_uri": "https://localhost:8080/"
    },
    "executionInfo": {
     "elapsed": 240,
     "status": "ok",
     "timestamp": 1631560128507,
     "user": {
      "displayName": "Alejandro Leopoldo Tiraboschi",
      "photoUrl": "https://lh3.googleusercontent.com/a-/AOh14Gir321Aip7u2JtD7LMLQbY3a1oHsAD11CVed_UbeFc=s64",
      "userId": "02370857492204546552"
     },
     "user_tz": 180
    },
    "id": "QOJwbsDqj4jm",
    "outputId": "1677bb27-7c56-41d2-c03d-60f395e32f17"
   },
   "outputs": [],
   "source": [
    "type(True)"
   ]
  },
  {
   "cell_type": "code",
   "execution_count": null,
   "metadata": {
    "colab": {
     "base_uri": "https://localhost:8080/"
    },
    "executionInfo": {
     "elapsed": 244,
     "status": "ok",
     "timestamp": 1631560131553,
     "user": {
      "displayName": "Alejandro Leopoldo Tiraboschi",
      "photoUrl": "https://lh3.googleusercontent.com/a-/AOh14Gir321Aip7u2JtD7LMLQbY3a1oHsAD11CVed_UbeFc=s64",
      "userId": "02370857492204546552"
     },
     "user_tz": 180
    },
    "id": "7McHB0naj4vA",
    "outputId": "85192414-8f5b-4966-afc1-ed7f4a002768"
   },
   "outputs": [],
   "source": [
    "type(False)"
   ]
  },
  {
   "cell_type": "markdown",
   "metadata": {},
   "source": [
    "El tipo `bool` es muy especial: solo contiene dos valores `True` y `False`."
   ]
  },
  {
   "cell_type": "markdown",
   "metadata": {
    "id": "6yOQWxxU8j7Y"
   },
   "source": [
    "\n",
    "El operador `==` es uno de los *operadores relacionales*. La siguiente es la lista de todos los operadores relacionales:\n",
    "\n",
    "```\n",
    "    x == y # x es igual a y\n",
    "    x != y # x no es igual a y\n",
    "    x > y # x es mayor que y\n",
    "    x < y # x es menor que y\n",
    "    x >= y # x es mayor o igual que y\n",
    "    x <= y # x es menor o igual que y\n",
    "```\n",
    "Aunque estas operaciones probablemente le resulten familiares, a veces el uso de los símbolos en Python es diferente al uso en la matemática. Un error común es usar un solo signo igual (`=`) en lugar de un doble signo igual (`==`). Recordá que `=` es un operador de asignación y `==` es un operador relacional. No existe tal cosa como `=<` o `=>`."
   ]
  },
  {
   "cell_type": "markdown",
   "metadata": {
    "id": "CMAp1edElB_R"
   },
   "source": [
    "## 2. Operadores lógicos\n",
    "\n",
    "Los operadores lógicos toman sentencias lógicas escritas en Python (que pueden ser `True` o `False`) y hacen operaciones lógicas. \n",
    "\n",
    "Los operadores lógicos son:\n",
    "\n",
    "- `p and q`: devuelve `True` si `p` y `q` son `True`.\n",
    "- `p or q`: devuelve `True` si `p` es `True`  o `q` es `True`\n",
    "- `not p`: devuelve `True` si `p` es `False`.\n",
    "\n",
    "No existe `p` implica `q`  u otros operadores lógicos. Solo los de arriba y estos nos permiten escribir todos los operadores lógicos, por ejemplo:\n",
    "\n",
    "- `not p or q` es equivalente a  `p` implica `q` y  solo devuelve `False` cuando `p` es `True` y `q` es `False`.\n",
    "\n",
    "Corramos los siguiente ejemplos:"
   ]
  },
  {
   "cell_type": "code",
   "execution_count": 1,
   "metadata": {
    "colab": {
     "base_uri": "https://localhost:8080/"
    },
    "executionInfo": {
     "elapsed": 256,
     "status": "ok",
     "timestamp": 1631649882827,
     "user": {
      "displayName": "Alejandro Leopoldo Tiraboschi",
      "photoUrl": "https://lh3.googleusercontent.com/a-/AOh14Gir321Aip7u2JtD7LMLQbY3a1oHsAD11CVed_UbeFc=s64",
      "userId": "02370857492204546552"
     },
     "user_tz": 180
    },
    "id": "gqomZVL2mqX9",
    "outputId": "4bb4ab9d-f5f9-440c-92b1-abf67346317c"
   },
   "outputs": [
    {
     "name": "stdout",
     "output_type": "stream",
     "text": [
      "<class 'bool'> <class 'bool'> <class 'bool'> <class 'bool'>\n"
     ]
    }
   ],
   "source": [
    "x, y, z = 1, -2, 2\n",
    "p = x > 0\n",
    "q = y < 0\n",
    "r = z < 0\n",
    "t = y > 0\n",
    "print(type(p), type(q), type(r), type(t))"
   ]
  },
  {
   "cell_type": "code",
   "execution_count": 2,
   "metadata": {
    "colab": {
     "base_uri": "https://localhost:8080/"
    },
    "executionInfo": {
     "elapsed": 249,
     "status": "ok",
     "timestamp": 1631561011747,
     "user": {
      "displayName": "Alejandro Leopoldo Tiraboschi",
      "photoUrl": "https://lh3.googleusercontent.com/a-/AOh14Gir321Aip7u2JtD7LMLQbY3a1oHsAD11CVed_UbeFc=s64",
      "userId": "02370857492204546552"
     },
     "user_tz": 180
    },
    "id": "bR7a9L8dnRbQ",
    "outputId": "8ff8d29d-b07c-40a2-88af-a85348726619"
   },
   "outputs": [
    {
     "data": {
      "text/plain": [
       "True"
      ]
     },
     "execution_count": 2,
     "metadata": {},
     "output_type": "execute_result"
    }
   ],
   "source": [
    "p and q"
   ]
  },
  {
   "cell_type": "code",
   "execution_count": 3,
   "metadata": {
    "colab": {
     "base_uri": "https://localhost:8080/"
    },
    "executionInfo": {
     "elapsed": 234,
     "status": "ok",
     "timestamp": 1631561085722,
     "user": {
      "displayName": "Alejandro Leopoldo Tiraboschi",
      "photoUrl": "https://lh3.googleusercontent.com/a-/AOh14Gir321Aip7u2JtD7LMLQbY3a1oHsAD11CVed_UbeFc=s64",
      "userId": "02370857492204546552"
     },
     "user_tz": 180
    },
    "id": "RR4OAM1XnRiQ",
    "outputId": "b02cf87b-69c9-4f25-f443-5a070571b936"
   },
   "outputs": [
    {
     "data": {
      "text/plain": [
       "False"
      ]
     },
     "execution_count": 3,
     "metadata": {},
     "output_type": "execute_result"
    }
   ],
   "source": [
    "p and r"
   ]
  },
  {
   "cell_type": "code",
   "execution_count": 4,
   "metadata": {
    "colab": {
     "base_uri": "https://localhost:8080/"
    },
    "executionInfo": {
     "elapsed": 242,
     "status": "ok",
     "timestamp": 1631561094623,
     "user": {
      "displayName": "Alejandro Leopoldo Tiraboschi",
      "photoUrl": "https://lh3.googleusercontent.com/a-/AOh14Gir321Aip7u2JtD7LMLQbY3a1oHsAD11CVed_UbeFc=s64",
      "userId": "02370857492204546552"
     },
     "user_tz": 180
    },
    "id": "nY_-OJ07nRqw",
    "outputId": "143dd3d5-7bbb-46b1-d847-c1dcd158626f"
   },
   "outputs": [
    {
     "data": {
      "text/plain": [
       "True"
      ]
     },
     "execution_count": 4,
     "metadata": {},
     "output_type": "execute_result"
    }
   ],
   "source": [
    "p or r"
   ]
  },
  {
   "cell_type": "code",
   "execution_count": 5,
   "metadata": {
    "colab": {
     "base_uri": "https://localhost:8080/"
    },
    "executionInfo": {
     "elapsed": 247,
     "status": "ok",
     "timestamp": 1631561197782,
     "user": {
      "displayName": "Alejandro Leopoldo Tiraboschi",
      "photoUrl": "https://lh3.googleusercontent.com/a-/AOh14Gir321Aip7u2JtD7LMLQbY3a1oHsAD11CVed_UbeFc=s64",
      "userId": "02370857492204546552"
     },
     "user_tz": 180
    },
    "id": "aXjwyEGYnRzs",
    "outputId": "09d44780-b85d-42f8-f3ba-e70e120aac6f"
   },
   "outputs": [
    {
     "name": "stdout",
     "output_type": "stream",
     "text": [
      "False\n",
      "True\n",
      "False\n",
      "True\n"
     ]
    }
   ],
   "source": [
    "print(not p)\n",
    "print(not r)\n",
    "print(r or t)\n",
    "print((p or r) and not t)"
   ]
  },
  {
   "cell_type": "code",
   "execution_count": 6,
   "metadata": {
    "colab": {
     "base_uri": "https://localhost:8080/"
    },
    "executionInfo": {
     "elapsed": 407,
     "status": "ok",
     "timestamp": 1631649798772,
     "user": {
      "displayName": "Alejandro Leopoldo Tiraboschi",
      "photoUrl": "https://lh3.googleusercontent.com/a-/AOh14Gir321Aip7u2JtD7LMLQbY3a1oHsAD11CVed_UbeFc=s64",
      "userId": "02370857492204546552"
     },
     "user_tz": 180
    },
    "id": "8VYDRoRhoLsK",
    "outputId": "a1942031-4d94-4ee7-bf9b-b58c2cc3fcd1"
   },
   "outputs": [
    {
     "name": "stdout",
     "output_type": "stream",
     "text": [
      "False\n",
      "True\n",
      "True\n",
      "True\n"
     ]
    }
   ],
   "source": [
    "# La tabla de verdad de => es \n",
    "# True => False es False\n",
    "# True => True es True\n",
    "# False => p es True\n",
    "# Ahora bien p => q es equivalente a  (not p) or q\n",
    "print((not True) or False)\n",
    "print((not True) or True)\n",
    "print((not False) or True)\n",
    "print((not False) or False)"
   ]
  },
  {
   "cell_type": "code",
   "execution_count": 7,
   "metadata": {
    "colab": {
     "base_uri": "https://localhost:8080/"
    },
    "executionInfo": {
     "elapsed": 253,
     "status": "ok",
     "timestamp": 1631561703746,
     "user": {
      "displayName": "Alejandro Leopoldo Tiraboschi",
      "photoUrl": "https://lh3.googleusercontent.com/a-/AOh14Gir321Aip7u2JtD7LMLQbY3a1oHsAD11CVed_UbeFc=s64",
      "userId": "02370857492204546552"
     },
     "user_tz": 180
    },
    "id": "QEk4s6BkpWDV",
    "outputId": "ba5f6da6-0dea-480e-a354-43be232e12db"
   },
   "outputs": [
    {
     "name": "stdout",
     "output_type": "stream",
     "text": [
      "True\n",
      "True\n",
      "True\n",
      "False\n"
     ]
    }
   ],
   "source": [
    "# p or q es equivalente not (not p and not q)\n",
    "print(not (not True and not False)) # True or  False\n",
    "print(not (not True and not True)) # True or True\n",
    "print(not (not False and not True)) # False or True\n",
    "print(not (not False and not False)) # False or False"
   ]
  },
  {
   "cell_type": "markdown",
   "metadata": {
    "id": "eoIrNKx1qU8J"
   },
   "source": [
    "*Ejercicio (difícil).* Obtener con el operador `not p and not q` los operadores `p or q`, `p and q`, `not p`. "
   ]
  },
  {
   "cell_type": "markdown",
   "metadata": {
    "id": "K7HUVDefiZ5c"
   },
   "source": [
    "## 3. Ejecución condicional\n",
    "\n",
    "Para escribir programas útiles, casi siempre necesitamos la capacidad de verificar condiciones y cambiar el comportamiento del programa en consecuencia. Las *declaraciones condicionales* nos dan esta capacidad. La forma más simple es la declaración `if`:"
   ]
  },
  {
   "cell_type": "code",
   "execution_count": null,
   "metadata": {
    "colab": {
     "base_uri": "https://localhost:8080/"
    },
    "executionInfo": {
     "elapsed": 264,
     "status": "ok",
     "timestamp": 1631561941573,
     "user": {
      "displayName": "Alejandro Leopoldo Tiraboschi",
      "photoUrl": "https://lh3.googleusercontent.com/a-/AOh14Gir321Aip7u2JtD7LMLQbY3a1oHsAD11CVed_UbeFc=s64",
      "userId": "02370857492204546552"
     },
     "user_tz": 180
    },
    "id": "_worOxbWiaBg",
    "outputId": "e7e4019c-80f1-45db-de10-a0265af560d8"
   },
   "outputs": [],
   "source": [
    "x = 1 # cambiar el valor para hacer pruebas\n",
    "if x > 0:\n",
    "    print('x es positivo')"
   ]
  },
  {
   "cell_type": "markdown",
   "metadata": {
    "id": "RYuGDlbWiaKR"
   },
   "source": [
    "La expresión booleana después de `if` se llama *condición*. Si es verdadera, se ejecuta la declaración con sangría. Si no, no pasa nada.\n",
    "\n",
    "Las declaraciones `if` tienen la misma estructura que las definiciones de funciones: un encabezado seguido de un cuerpo con sangría. Las declaraciones como ésta se denominan *declaraciones compuestas*.\n",
    "\n",
    "No hay límite en la cantidad de declaraciones que pueden aparecer en el cuerpo, pero debe haber al menos una. De vez en cuando, es útil tener un cuerpo sin declaraciones (generalmente como un lugar para guardar el código que aún no ha escrito). En ese caso, puede usar la instrucción `pass`, que no hace nada.\n"
   ]
  },
  {
   "cell_type": "code",
   "execution_count": null,
   "metadata": {
    "id": "ixbHvurXiaSG"
   },
   "outputs": [],
   "source": [
    "if x < 0:\n",
    "    pass # TODO ('Por Hacer'): ¡es necesario manejar valores negativos!"
   ]
  },
  {
   "cell_type": "markdown",
   "metadata": {
    "id": "EVpCTwxTiabI"
   },
   "source": [
    "## 4. Ejecución alternativa\n",
    "\n",
    "Una segunda forma de la instrucción `if` es la *ejecución alternativa*, en la que hay dos posibilidades y la condición determina cuál se ejecuta. La sintaxis se ve así:\n",
    "\n",
    "\n",
    "```\n",
    "if condición:\n",
    "    ejecutar1\n",
    "else:\n",
    "    ejecutar2\n",
    "```\n",
    "Si se cumple `condición` se hace `ejecutar1`. En caso contrario se hace `ejecutar2`. Por ejemplo: \n"
   ]
  },
  {
   "cell_type": "code",
   "execution_count": null,
   "metadata": {
    "colab": {
     "base_uri": "https://localhost:8080/"
    },
    "executionInfo": {
     "elapsed": 251,
     "status": "ok",
     "timestamp": 1631562465287,
     "user": {
      "displayName": "Alejandro Leopoldo Tiraboschi",
      "photoUrl": "https://lh3.googleusercontent.com/a-/AOh14Gir321Aip7u2JtD7LMLQbY3a1oHsAD11CVed_UbeFc=s64",
      "userId": "02370857492204546552"
     },
     "user_tz": 180
    },
    "id": "cWt1Cg7Viaib",
    "outputId": "a686bb47-9c3c-42fd-8b29-6e0806458893"
   },
   "outputs": [],
   "source": [
    "x = 3\n",
    "if x % 2 == 0:\n",
    "    print('x es par')\n",
    "else:\n",
    "    print('x es impar')"
   ]
  },
  {
   "cell_type": "markdown",
   "metadata": {
    "id": "wLpWuq24iaq7"
   },
   "source": [
    "Si el resto cuando `x` se divide por 2 es 0, entonces sabemos que `x` es par y el programa muestra un mensaje apropiado. Si la condición es falsa, se ejecuta el segundo conjunto de declaraciones. Dado que la condición debe ser verdadera o falsa, se ejecutará exactamente una de las alternativas. Las alternativas se denominan *ramas*, porque son ramas en el flujo de ejecución.\n",
    "\n",
    "Cuando en cada rama de la ejecución alternativa hay una sola instrucción, Python permite escribirla en forma más compacta: "
   ]
  },
  {
   "cell_type": "code",
   "execution_count": null,
   "metadata": {
    "colab": {
     "base_uri": "https://localhost:8080/"
    },
    "executionInfo": {
     "elapsed": 244,
     "status": "ok",
     "timestamp": 1631562468242,
     "user": {
      "displayName": "Alejandro Leopoldo Tiraboschi",
      "photoUrl": "https://lh3.googleusercontent.com/a-/AOh14Gir321Aip7u2JtD7LMLQbY3a1oHsAD11CVed_UbeFc=s64",
      "userId": "02370857492204546552"
     },
     "user_tz": 180
    },
    "id": "EKpYMs6wajGs",
    "outputId": "09df0a5f-2804-4866-b86c-4796a417da68"
   },
   "outputs": [],
   "source": [
    "print('x es par') if  x % 2 == 0 else print('x es impar')"
   ]
  },
  {
   "cell_type": "markdown",
   "metadata": {
    "id": "eUPC9glxia8u"
   },
   "source": [
    "## 5.Condicionales encadenados\n",
    "\n",
    "A veces hay más de dos posibilidades y necesitamos más de dos ramas. Una forma de expresar un cálculo como ese es un *condicional encadenado*:"
   ]
  },
  {
   "cell_type": "code",
   "execution_count": null,
   "metadata": {
    "colab": {
     "base_uri": "https://localhost:8080/"
    },
    "executionInfo": {
     "elapsed": 236,
     "status": "ok",
     "timestamp": 1631563162658,
     "user": {
      "displayName": "Alejandro Leopoldo Tiraboschi",
      "photoUrl": "https://lh3.googleusercontent.com/a-/AOh14Gir321Aip7u2JtD7LMLQbY3a1oHsAD11CVed_UbeFc=s64",
      "userId": "02370857492204546552"
     },
     "user_tz": 180
    },
    "id": "MLIqPuzZibFy",
    "outputId": "0b9e289e-52c4-40b0-ddfe-92e2f16e95bd"
   },
   "outputs": [],
   "source": [
    "x, y = 1, 2 # cambiar valores para hacer pruebas\n",
    "if x < y:\n",
    "    print('x es menor que y')\n",
    "elif x > y:\n",
    "    print('x es mayor que y')\n",
    "else:\n",
    "    print('x e y son iguales')"
   ]
  },
  {
   "cell_type": "markdown",
   "metadata": {
    "id": "LenC24BJ8e_K"
   },
   "source": [
    "`elif` es una abreviatura de \"else if\". Nuevamente, se ejecutará exactamente una rama. No hay límite en el número de declaraciones `elif`. Si hay una cláusula `else`, tiene que estar al final, pero no tiene que haberla. Por ejemplo, "
   ]
  },
  {
   "cell_type": "code",
   "execution_count": null,
   "metadata": {
    "id": "wa6sQ7I69CUl"
   },
   "outputs": [],
   "source": [
    "elección = 'd' # cambiar valor para hacer pruebas\n",
    "if elección == 'a':\n",
    "    print('El valor es a')\n",
    "elif elección == 'b':\n",
    "    print('El valor es b')\n",
    "elif elección == 'c':\n",
    "    print('El valor es c')"
   ]
  },
  {
   "cell_type": "markdown",
   "metadata": {
    "id": "rwBdCih39Cf3"
   },
   "source": [
    "Cada condición se comprueba en orden. Si el primero es falso, se marca el siguiente y así sucesivamente. Si uno de ellos es verdadero, se ejecuta la rama correspondiente y finaliza la declaración. Incluso si más de una condición es verdadera, solo se ejecuta la primera rama verdadera.\n",
    "\n",
    "*Observación.* Un  error muy común al escribir condicionales encadenados es reemplazar los `elif` por  los `if`. Por ejemplo, en la celda de código anterior como `elección` puede tormar solo un valor,  entonces ese código es lógicamente equivalente a:"
   ]
  },
  {
   "cell_type": "code",
   "execution_count": null,
   "metadata": {
    "colab": {
     "base_uri": "https://localhost:8080/"
    },
    "executionInfo": {
     "elapsed": 238,
     "status": "ok",
     "timestamp": 1631563334661,
     "user": {
      "displayName": "Alejandro Leopoldo Tiraboschi",
      "photoUrl": "https://lh3.googleusercontent.com/a-/AOh14Gir321Aip7u2JtD7LMLQbY3a1oHsAD11CVed_UbeFc=s64",
      "userId": "02370857492204546552"
     },
     "user_tz": 180
    },
    "id": "mUm4EPtSdi39",
    "outputId": "6c6752e5-5281-4fb6-d13c-3aca08678af2"
   },
   "outputs": [],
   "source": [
    "elección = 'c' # cambiar valor para hacer pruebas\n",
    "if elección == 'a':\n",
    "    print('El valor es a')\n",
    "if elección == 'b':\n",
    "    print('El valor es b')\n",
    "if elección == 'c':\n",
    "    print('El valor es c')"
   ]
  },
  {
   "cell_type": "markdown",
   "metadata": {
    "id": "eKR44_OudwHC"
   },
   "source": [
    "Sin embargo, el hecho de que `elif` termina el condicional encadenado es importante en otros casos. Por ejemplo,  si queremos determinar que vocales se encuentran en determinada palabra, podemos hacer: "
   ]
  },
  {
   "cell_type": "code",
   "execution_count": 8,
   "metadata": {
    "colab": {
     "base_uri": "https://localhost:8080/"
    },
    "executionInfo": {
     "elapsed": 247,
     "status": "ok",
     "timestamp": 1631563429840,
     "user": {
      "displayName": "Alejandro Leopoldo Tiraboschi",
      "photoUrl": "https://lh3.googleusercontent.com/a-/AOh14Gir321Aip7u2JtD7LMLQbY3a1oHsAD11CVed_UbeFc=s64",
      "userId": "02370857492204546552"
     },
     "user_tz": 180
    },
    "id": "2UEgfE1ZeBKr",
    "outputId": "6ed63e97-750c-4996-fb18-042ee626599c"
   },
   "outputs": [
    {
     "name": "stdout",
     "output_type": "stream",
     "text": [
      "a es una vocal que aparece en piragua\n",
      "i es una vocal que aparece en piragua\n",
      "u es una vocal que aparece en piragua\n"
     ]
    }
   ],
   "source": [
    "palabra = 'piragua'\n",
    "if 'a' in palabra:\n",
    "    print('a es una vocal que aparece en', palabra)\n",
    "if 'e' in palabra:\n",
    "    print('e es una vocal que aparece en', palabra)\n",
    "if 'i' in palabra:\n",
    "    print('i es una vocal que aparece en', palabra)\n",
    "if 'o' in palabra:\n",
    "    print('o es una vocal que aparece en', palabra)\n",
    "if 'u' in palabra:\n",
    "    print('u es una vocal que aparece en', palabra)"
   ]
  },
  {
   "cell_type": "markdown",
   "metadata": {
    "id": "q_9Lwidkexul"
   },
   "source": [
    "que no hace lo mismo que "
   ]
  },
  {
   "cell_type": "code",
   "execution_count": 9,
   "metadata": {
    "colab": {
     "base_uri": "https://localhost:8080/"
    },
    "executionInfo": {
     "elapsed": 244,
     "status": "ok",
     "timestamp": 1631563462504,
     "user": {
      "displayName": "Alejandro Leopoldo Tiraboschi",
      "photoUrl": "https://lh3.googleusercontent.com/a-/AOh14Gir321Aip7u2JtD7LMLQbY3a1oHsAD11CVed_UbeFc=s64",
      "userId": "02370857492204546552"
     },
     "user_tz": 180
    },
    "id": "jy7-tVIKe3oZ",
    "outputId": "03bb6835-6ca8-4439-fed5-bab957dff454"
   },
   "outputs": [
    {
     "name": "stdout",
     "output_type": "stream",
     "text": [
      "a es una vocal que aparece en piragua\n"
     ]
    }
   ],
   "source": [
    "palabra = 'piragua'\n",
    "if 'a' in palabra:\n",
    "    print('a es una vocal que aparece en', palabra)\n",
    "elif 'e' in palabra:\n",
    "    print('e es una vocal que aparece en', palabra)\n",
    "elif 'i' in palabra:\n",
    "    print('i es una vocal que aparece en', palabra)\n",
    "elif 'o' in palabra:\n",
    "    print('o es una vocal que aparece en', palabra)\n",
    "elif 'u' in palabra:\n",
    "    print('u es una vocal que aparece en', palabra)"
   ]
  },
  {
   "cell_type": "markdown",
   "metadata": {
    "id": "b9aNcYpWf_go"
   },
   "source": [
    "En  realidad,  la primera secuencia de código no es un \"condicional encadenado\", sino una sucesión de condicionales, uno tras otro. "
   ]
  },
  {
   "cell_type": "markdown",
   "metadata": {
    "id": "G55Bd1Hi_MkP"
   },
   "source": [
    "## 6. Condicionales anidados\n",
    "\n",
    "Un condicional también se puede anidar dentro de otro. Podríamos haber escrito el ejemplo en la sección anterior así:"
   ]
  },
  {
   "cell_type": "code",
   "execution_count": null,
   "metadata": {
    "colab": {
     "base_uri": "https://localhost:8080/"
    },
    "executionInfo": {
     "elapsed": 240,
     "status": "ok",
     "timestamp": 1631563581970,
     "user": {
      "displayName": "Alejandro Leopoldo Tiraboschi",
      "photoUrl": "https://lh3.googleusercontent.com/a-/AOh14Gir321Aip7u2JtD7LMLQbY3a1oHsAD11CVed_UbeFc=s64",
      "userId": "02370857492204546552"
     },
     "user_tz": 180
    },
    "id": "rGhS68aD_W0U",
    "outputId": "0113537f-61cb-4e84-dcfc-d61bd78d2547"
   },
   "outputs": [],
   "source": [
    "x, y = 3, 2\n",
    "if x == y:\n",
    "    print('x e y son iguales')\n",
    "else:\n",
    "    if x < y:\n",
    "        print ('x es menor que y')\n",
    "    else:\n",
    "        print('x es mayor que y')"
   ]
  },
  {
   "cell_type": "markdown",
   "metadata": {
    "id": "yoKHh8i9_XDU"
   },
   "source": [
    "El primer condicional contiene dos ramas. La primera rama contiene una declaración simple. La segunda rama contiene otra instrucción `if`, que a su vez tiene dos ramas propias. Esas dos ramas son declaraciones simples, aunque también podrían haber sido declaraciones condicionales.\n",
    "\n",
    "Aunque la sangría de las declaraciones hace que la estructura sea evidente, los *condicionales anidados* en general no son fáciles de leer. Es una buena idea evitarlos siempre que pueda.\n",
    "\n",
    "Los operadores lógicos a menudo proporcionan una forma de simplificar las declaraciones condicionales anidadas. Por ejemplo, el siguiente código:\n",
    "```\n",
    "if 0 < x:\n",
    "    if x < 10:\n",
    "        print('x es un número positivo de un solo dígito.')\n",
    "```\n",
    " se puede reescribir usando un solo condicional. La instrucción `print` se ejecuta solo si superamos ambos condicionales, por lo que podemos obtener el mismo efecto con el operador `and`:\n",
    "```\n",
    "if 0 < x and x < 10:\n",
    "    print ('x es un número positivo de un solo dígito.')\n",
    "```\n",
    "Para este tipo de condición, Python incluso proporciona una opción más concisa:\n",
    "\n",
    "\n",
    "```\n",
    "if 0 < x < 10:\n",
    "    print('x es un número positivo de un solo dígito.')\n",
    "```\n"
   ]
  },
  {
   "cell_type": "markdown",
   "metadata": {},
   "source": [
    "## 7. Ejemplo: conversión de formatos de coordenadas\n",
    "\n",
    "Vimos en una clase anterior las funciones que convierten grados decimales a grados sexagesimales, donde grados es no negativo. Estas funciones son:"
   ]
  },
  {
   "cell_type": "code",
   "execution_count": 19,
   "metadata": {},
   "outputs": [],
   "source": [
    "import math\n",
    "\n",
    "def sexa_a_deci(grados: int , minutos: int , segundos: float) -> float:\n",
    "    # pre: 0 <= grados, 0 <= minutos < 60, 0 <= segundos < 60\n",
    "    # post: devuelve los grados en notación decimal\n",
    "    return grados + minutos / 60 + segundos / 3600 \n",
    "\n",
    "def deci_a_sexa(pos: float) -> tuple:\n",
    "    # pre: pos son grados en notación decimal, pos >= 0\n",
    "    # post:  devuelve pos en una 3-upla grados, minutos, segundos\n",
    "    grados = math.floor(pos)\n",
    "    resto = pos - grados\n",
    "    minutos = math.floor(resto * 60)\n",
    "    resto = resto * 60 - minutos\n",
    "    segundos = 60 * resto\n",
    "    return grados, minutos, segundos"
   ]
  },
  {
   "cell_type": "markdown",
   "metadata": {},
   "source": [
    "Veamos ahora las conversiones que nos servirán para convertir coordenadas terrestres decimales  a coordenadas terrestres sexagesimales,  y viceversa. "
   ]
  },
  {
   "cell_type": "code",
   "execution_count": 20,
   "metadata": {},
   "outputs": [],
   "source": [
    "def gms2gd(lat_g, lat_m, lat_s, hem_ns, lon_g, lon_m, lon_s, hem_eo):\n",
    "    # pre: lat_g, lat_m, lat_s, es la latitud en grados, minutos, segundos, hem_ns es 'N' o 'S'. 0 <= lat_g < 90\n",
    "    #      lon_g, lon_m, lon_s, es la longitud en grados, minutos, segundos, hem_eo es 'E' u 'O' 0 <= lon_g < 180\n",
    "    # post: devuelve latitud, longitud_d latitud y longitud decimales\n",
    "    latitud_d, longitud_d = sexa_a_deci(lat_g, lat_m, lat_s), sexa_a_deci(lon_g, lon_m, lon_s)\n",
    "    if hem_ns == 'S': \n",
    "        latitud_d = -latitud_d\n",
    "    if hem_eo == 'O': \n",
    "        longitud_d = -longitud_d\n",
    "    \n",
    "    return latitud_d, longitud_d"
   ]
  },
  {
   "cell_type": "markdown",
   "metadata": {},
   "source": [
    "Por ejemplo, podemos ver que las coordenadas de la cidad de Bogotá 4°36′45.5″N, 74°4′13.8″ O en decimales es  4.612639°, -74.0705°."
   ]
  },
  {
   "cell_type": "code",
   "execution_count": 21,
   "metadata": {},
   "outputs": [
    {
     "name": "stdout",
     "output_type": "stream",
     "text": [
      "(4.612638888888888, -74.0705)\n"
     ]
    }
   ],
   "source": [
    "gdec = gms2gd(4, 36, 45.5, 'N', 74, 4, 13.8, 'O')\n",
    "print(gdec)"
   ]
  },
  {
   "cell_type": "markdown",
   "metadata": {},
   "source": [
    "La funión recíproca es:"
   ]
  },
  {
   "cell_type": "code",
   "execution_count": 22,
   "metadata": {},
   "outputs": [],
   "source": [
    "def gms2gd(latitud_d, longitud_d: float) -> tuple:\n",
    "    # pre: -90 < latitud < 90, -180 < longitud_d < 180 indican un punto en la Tierra en esas coordenadas decimales.\n",
    "    # post: devuelve lat, lon coordenadas sexagesimales\n",
    "    lat_g, lat_m, lat_s = deci_a_sexa(abs(latitud_d))\n",
    "    lon_g, lon_m, lon_s = deci_a_sexa(abs(longitud_d))\n",
    "    hem_ns, hem_eo = 'N', 'E'\n",
    "    if latitud_d < 0:\n",
    "        hem_ns = 'S'\n",
    "    if longitud_d < 0:\n",
    "        hem_eo = 'O'\n",
    "    \n",
    "    return lat_g, lat_m, lat_s,hem_ns, lon_g, lon_m, lon_s, hem_eo"
   ]
  },
  {
   "cell_type": "markdown",
   "metadata": {},
   "source": [
    "Hagamos de nuevo el cálculo para Bogotá:"
   ]
  },
  {
   "cell_type": "code",
   "execution_count": 23,
   "metadata": {},
   "outputs": [
    {
     "name": "stdout",
     "output_type": "stream",
     "text": [
      "(4, 36, 45.50039999999896, 'N', 74, 4, 13.799999999984038, 'O')\n"
     ]
    }
   ],
   "source": [
    "coord = gms2gd(4.612639, -74.0705)\n",
    "print(coord)"
   ]
  },
  {
   "cell_type": "markdown",
   "metadata": {},
   "source": [
    "Podemos mejorar las dos funciones escribiendo en forma más completa la signaturra y utilizando `assert` para comprobar las precondiciones:"
   ]
  },
  {
   "cell_type": "code",
   "execution_count": null,
   "metadata": {},
   "outputs": [],
   "source": [
    "def gms2gd(lat_g, lat_m: int, lat_s: float, hem_ns: str, lon_g, lon_m: int, lon_s: float, hem_eo: str) -> tuple:\n",
    "    # pre: lat_g, lat_m, lat_s, es la latitud en grados, minutos, segundos, hem_ns es 'N' o 'S'. 0 <= lat_g < 90\n",
    "    #      lon_g, lon_m, lon_s, es la longitud en grados, minutos, segundos, hem_eo es 'E' u 'O' 0 <= lon_g < 180\n",
    "    # post: devuelve latitud, longitud_d latitud y longitud decimales\n",
    "    assert type(lat_g) == int and type(lat_m) == int and type(lat_s) == float and type(lon_g) == int and type(lon_m) == int and type(lon_s) == float, 'Error en los tipos de datos'\n",
    "    assert 0 <= lat_g < 90 and 0 <= lat_m < 60 and 0 <= lat_s < 60  and 0 <= lon_g < 180 and 0 <= lon_m < 60 and 0 <= lon_s < 60 , 'Error en los valores de latitud y longitud'\n",
    "    assert hem_ns == 'N' or hem_ns == 'S' and hem_eo == 'E' or hem_eo == 'O', 'Error en los valores de hemisferio'\n",
    "    latitud_d, longitud_d = sexa_a_deci(lat_g, lat_m, lat_s), sexa_a_deci(lon_g, lon_m, lon_s)\n",
    "    if hem_ns == 'S': \n",
    "        latitud_d = -latitud_d\n",
    "    if hem_eo == 'O': \n",
    "        longitud_d = -longitud_d\n",
    "    return latitud_d, longitud_d\n",
    "\n",
    "\n",
    "def gms2gd(latitud_d, longitud_d: float) -> tuple:\n",
    "    # pre: -90 < latitud < 90, -180 < longitud_d < 180 indican un punto en la Tierra en esas coordenadas decimales.\n",
    "    # post: devuelve lat, lon coordenadas sexagesimales\n",
    "    assert type(latitud_d) == float and type(longitud_d) == float, 'Error en los tipos de datos'\n",
    "    assert -90 < latitud_d < 90 and -180 < longitud_d < 180, 'Error en los valores de latitud y longitud'\n",
    "    lat_g, lat_m, lat_s = deci_a_sexa(abs(latitud_d))\n",
    "    lon_g, lon_m, lon_s = deci_a_sexa(abs(longitud_d))\n",
    "    hem_ns, hem_eo = 'N', 'E'\n",
    "    if latitud_d < 0:\n",
    "        hem_ns = 'S'\n",
    "    if longitud_d < 0:\n",
    "        hem_eo = 'O'\n",
    "    return lat_g, lat_m, lat_s,hem_ns, lon_g, lon_m, lon_s, hem_eo\n"
   ]
  },
  {
   "cell_type": "markdown",
   "metadata": {},
   "source": [
    "Los `assert` hacen un poco más complicada la lectura del código pero aseguran las precondiciones. \n",
    "\n",
    "Observar que entre las dos funciones se dejan dos líneas. Esa es la práctica recomendada. A  veces es conveniente agregar líneas vacías para separar porciones de código, eso depende del criterio de cada programador, pero es conveniente dejar una sola línea vacía (no dos o más) excepto para separar funciones donde usamos dos líneas vacías."
   ]
  },
  {
   "cell_type": "markdown",
   "metadata": {},
   "source": [
    "## 8. Indentación o sangría en Python\n",
    "\n",
    "Como ya habrán observado en todos en todo el código que hemos escrito anteriormente la indentación es un concepto muy importante de Python. Sin una indentación adecuada del código Python, terminarás obteniendo `IndentationError` y el código no será compilado.\n",
    "\n",
    "### Indentación\n",
    "\n",
    "En términos simples, la indentación se refiere a la adición de espacio en blanco antes de una declaración. Pero la pregunta que surge es si es necesario.\n",
    "\n",
    "Para entender esto considera una situación en la que estás leyendo un libro y de repente todos los números de página del libro desaparecen. Así que no sabes dónde continuar leyendo y te confundes. Esta situación es similar con Python. Sin la indentación, Python no sabe qué declaración ejecutar a continuación o qué declaración pertenece a qué bloque. Esto conducirá a `IndentationError`.\n",
    "\n",
    "    1 sentencia1                                                  comienza bloque 1\n",
    "    2 if condición1:                                              bloque 1 continúa\n",
    "    3     if condición2:                                              comienza bloque 2\n",
    "    4         sentencia2      ---visualización del interprete-->          comienza bloque 3\n",
    "    5     else:                                                       bloque 2 continúa\n",
    "    6         sentencia3                                                  bloque 3 continúa\n",
    "    7 sentencia4                                                  bloque 1 continúa\n",
    "\n",
    "En el ejemplo anterior,\n",
    "\n",
    "- La `sentencia1`, la condición if de línea 2 y la `sentencia4` pertenecen al mismo bloque, lo que significa que después de la `sentencia1` se ejecutará la condición if, y si la condición if se convierte en `False`, Python saltará a la última sentencia para ejecutarla.\n",
    "- El if-else anidado pertenece al bloque 2, lo que significa que si el if anidado se convierte en False, entonces Python ejecutará las sentencias dentro de la condición else.\n",
    "- Las sentencias dentro del if-else anidado pertenecen al bloque 3 y sólo se ejecutará una sentencia dependiendo de la condición if-else.\n",
    "\n",
    "La indentación en Python es una forma de indicar al intérprete de Python que el grupo de sentencias pertenece a un bloque de código particular. Un bloque es una combinación de todas estas sentencias. Un bloque puede ser considerado como una agrupación de sentencias para un propósito específico. La mayoría de los lenguajes de programación como C, C++, Java utilizan llaves `{` `}` para definir un bloque de código. \n",
    "Python utiliza la indentación para resaltar los bloques de código. Es conveniente utilizar 4 espacios en blanco para hacer la indentación. Todas las sentencias con la misma distancia a la derecha pertenecen al mismo bloque de código. Si un bloque tiene que ser anidado más profundamente, simplemente se indenta más a la derecha. Puedes entenderlo mejor mirando las siguientes líneas de código."
   ]
  },
  {
   "cell_type": "code",
   "execution_count": 24,
   "metadata": {},
   "outputs": [
    {
     "name": "stdout",
     "output_type": "stream",
     "text": [
      "Usted está ingresando a la FAMAF\n",
      "¡Todo listo!\n"
     ]
    }
   ],
   "source": [
    "# Programa Python mostrando indentación\n",
    "    \n",
    "facultad = 'FAMAF'\n",
    "if facultad == 'FAMAF': \n",
    "    print('Usted está ingresando a la FAMAF') \n",
    "else: \n",
    "    print('Volvé a escribir el nombre de la facultad.') \n",
    "print('¡Todo listo!') "
   ]
  },
  {
   "cell_type": "markdown",
   "metadata": {},
   "source": [
    "Las líneas `print('Usted está ingresando a la FAMAF')` y `print('Volvé a escribir el nombre de la facultad.')` son dos bloques de código separados. Los dos bloques de código en nuestro ejemplo de declaración if tienen una sangría de cuatro espacios. El `print('¡Todo listo!')` final no tiene sangría, por lo que no pertenece al bloque else."
   ]
  }
 ],
 "metadata": {
  "colab": {
   "authorship_tag": "ABX9TyO+qmnuGxJFD4paZywS1/7J",
   "name": "05 - Condicionales y ciclos (1º parte).ipynb",
   "provenance": []
  },
  "kernelspec": {
   "display_name": "Python 3 (ipykernel)",
   "language": "python",
   "name": "python3"
  },
  "language_info": {
   "codemirror_mode": {
    "name": "ipython",
    "version": 3
   },
   "file_extension": ".py",
   "mimetype": "text/x-python",
   "name": "python",
   "nbconvert_exporter": "python",
   "pygments_lexer": "ipython3",
   "version": "3.9.6"
  }
 },
 "nbformat": 4,
 "nbformat_minor": 4
}
