{
  "cells": [
    {
      "cell_type": "markdown",
      "metadata": {
        "id": "gIelsUIu0gw0"
      },
      "source": [
        "# Diferentes estructuras en Pyhton\n",
        "\n",
        "\n",
        "\n",
        "\n",
        "\n",
        "\n",
        "\n",
        "\n",
        "\n",
        "\n",
        "\n",
        "\n",
        "\n",
        "\n",
        "\n",
        "\n",
        "\n",
        "\n",
        "\n",
        "\n",
        "\n",
        "\n",
        "\n",
        "\n"
      ]
    },
    {
      "cell_type": "code",
      "execution_count": null,
      "metadata": {
        "id": "ocZuqRrl0kyE"
      },
      "outputs": [],
      "source": [
        "# Diferentes estructuras en Pyhton\n",
        "\n",
        "# Listas\n",
        "lista = [3,6,5,1] # índice = 0, 1, 3, 3 \n",
        "\n",
        "# Conjuntos \n",
        "conjunto = {3, 6, 5, 1}\n",
        "\n",
        "\n",
        "# Diccionarios: son parecidos a las listas donde los índices no necesariamente\n",
        "# son enteros, ni está ordenados. Se llaman 'claves' o 'keys'\n",
        "\n",
        "diccionario = {'nombre': 'Pedro', 'apellido':'Sánchez', 'edad': 43}\n",
        "# print(diccionario['apellido'])\n",
        "# print(diccionario['edad'])\n",
        "\n",
        "# Los diccionarios son iterables. \n",
        "\n",
        "for u in diccionario:\n",
        "    print(diccionario[u])\n",
        "\n",
        "print(list(diccionario))\n",
        "\n",
        "print(diccionario.keys())\n",
        "\n",
        "if  'nombre' in diccionario:\n",
        "    print(diccionario['nombre'])\n",
        "\n",
        "# Ejemplo\n",
        "# Un  diccionario, alumnos donde las keys son el DNI y \n",
        "# alumnos[DNI] =  {'nombre': 'Pedro', 'apellido':'Sánchez', 'edad': 43, 'curso': 'AyP'}\n",
        "alumnos = {}\n",
        "alumnos[45678666] =  {'nombre': 'Pedro', 'apellido':'Sánchez', 'edad': 43, 'curso': 'AyP'}\n",
        "alumnos[11111111] =  {'nombre': 'Juan', 'apellido':'Pérez', 'edad': 22, 'curso': 'AyP'}\n",
        "\n",
        "print(alumnos[45678666])\n",
        "print(alumnos[45678666]['nombre'])\n"
      ]
    },
    {
      "cell_type": "markdown",
      "metadata": {
        "id": "sGwOiTDSN1Lt"
      },
      "source": [
        "## Triángulo de Pascal o Tartaglia\n",
        "\n",
        "\n",
        "Recordemos que si $m,n$ enteros no negativos y $n \\ge m$,\n",
        "$$\n",
        "\\binom{n}{m} = \\frac{n!}{(n-m)!m!}.\n",
        "$$\n",
        "El número combinatorio nos dice cuantos subconjunto de $m$ elementos hay de un conjunto de $n$ elementos. \n",
        "\n",
        "Es fácil ver que\n",
        "$$\n",
        "\\binom{n}{0} = \\binom{n}{n} = 1.\n",
        "$$\n",
        "\n",
        "\n",
        "**Proposición**\n",
        "\n",
        "Sean $n, m $ enteros no negativos, $ m \\ge 1$. Entonces, \n",
        "$$\n",
        "\\displaystyle\\binom{n+1}{m} = \\displaystyle\\binom{n}{m-1} + \\displaystyle\\binom{n}{m}.  \n",
        "$$\n",
        "\n",
        "Esto nos permite dibujar el *triángulo de Pascal*:\n",
        "\\begin{matrix}\n",
        "&& && && && && &\\displaystyle\\binom{0}{0}& && && && && &&  \\\\\n",
        "&& && && && &\\displaystyle\\binom{1}{0}& && &\\displaystyle\\binom{1}{1}& && && && &&  \\\\\n",
        "&& && && &\\displaystyle\\binom{2}{0}& && &\\displaystyle\\binom{2}{1}& && &\\displaystyle\\binom{2}{2}& && && &&  \\\\\n",
        "&& && &\\displaystyle\\binom{3}{0}& && &\\displaystyle\\binom{3}{1}& && &\\displaystyle\\binom{3}{2}& && &\\displaystyle\\binom{3}{3}& && &&  \\\\\n",
        "&& &\\displaystyle\\binom{4}{0}& && &\\displaystyle\\binom{4}{1}& && &\\displaystyle\\binom{4}{2}& && &\\displaystyle\\binom{4}{3}& && &\\displaystyle\\binom{4}{4}& &&  \\\\\n",
        "&\\cdot& && &\\cdot& && &\\cdot& && &\\cdot& && &\\cdot& && &\\cdot& \n",
        "\\end{matrix}\n",
        "\n",
        "Por ejemplo proposición nos dice que \n",
        "$$\\displaystyle\\binom{4}{2} = \\displaystyle\\binom{3}{1} + \\displaystyle\\binom{3}{2}.$$\n",
        "\n",
        "*Ejercicio.* Dado $n \\in \\mathbb N$ devolver la lista con la fila $n$  del triángulo de Pascal. "
      ]
    },
    {
      "cell_type": "code",
      "execution_count": 2,
      "metadata": {
        "colab": {
          "base_uri": "https://localhost:8080/"
        },
        "id": "PU9W1QqTNrqD",
        "outputId": "883b9382-860b-43b7-abe0-db526aed04c6"
      },
      "outputs": [
        {
          "name": "stdout",
          "output_type": "stream",
          "text": [
            "[1, 10, 45, 120, 210, 252, 210, 120, 45, 10, 1]\n"
          ]
        }
      ],
      "source": [
        "import math \n",
        "def fila_triangulo_Pascal(n: int) -> list:\n",
        "    # pre: n entero >= 0\n",
        "    # post: devuelve la lista con los números combinatorios (n i) en el lugar i\n",
        "    lista = [] # Debemos obtener lista[i] = (n i)\n",
        "    for i in range(n+1):\n",
        "        facn, facni, faci = math.factorial(n), math.factorial(n-i), math.factorial(i)\n",
        "        lista.append( facn // (facni*faci))\n",
        "        # lista[i] = math.factorial(n) // (math.factorial(n-i)* math.factorial(i))\n",
        "    return lista\n",
        "\n",
        "print(fila_triangulo_Pascal(10))"
      ]
    },
    {
      "cell_type": "markdown",
      "metadata": {
        "id": "aEjKBeAG_chi"
      },
      "source": [
        "Hagamos una función que tome una lista de  enteros `lista1` y  genere otra lista donde en los extremos hay 1's y  después liste la suma de enteros consecutivos de `lista1`.\n",
        "\n",
        " Por  ejemplo:\n",
        "\n",
        "\n",
        "```\n",
        "sumar_pascal([5, 3, 7, -1, 2, 3]) = [1, 8, 10, 6, 1, 5, 1]\n",
        "```\n",
        "\n"
      ]
    },
    {
      "cell_type": "code",
      "execution_count": 3,
      "metadata": {
        "id": "Pb7TsiEd__lj"
      },
      "outputs": [
        {
          "name": "stdout",
          "output_type": "stream",
          "text": [
            "[1, 8, 10, 6, 1, 5, 1]\n"
          ]
        }
      ],
      "source": [
        "def sumar_pascal(lista: list) -> list:\n",
        "  # Pre: lista es lista de enteros\n",
        "  ret = [1]\n",
        "  for i in range(len(lista) - 1):\n",
        "    ret.append(lista[i] + lista[i+1])\n",
        "  ret.append(1)\n",
        "  return ret\n",
        "\n",
        "print(sumar_pascal([5, 3, 7, -1, 2, 3]))\n"
      ]
    },
    {
      "cell_type": "markdown",
      "metadata": {
        "id": "h6HkDqI6sbbk"
      },
      "source": [
        "Observar que si  `lista` es la  fila `i` del triángulo de Pascal entonces\n",
        "\n",
        "```\n",
        "sumar_pascal(lista)\n",
        "```\n",
        "es la fila `i + 1`.\n"
      ]
    },
    {
      "cell_type": "code",
      "execution_count": 4,
      "metadata": {
        "id": "vZPJtiMCsZmA"
      },
      "outputs": [
        {
          "name": "stdout",
          "output_type": "stream",
          "text": [
            "[1, 1]\n",
            "[1, 2, 1]\n",
            "[1, 3, 3, 1]\n",
            "[1, 4, 6, 4, 1]\n"
          ]
        }
      ],
      "source": [
        "fila0 = [1]\n",
        "fila1 = sumar_pascal(fila0)\n",
        "print(fila1)\n",
        "fila2 = sumar_pascal(fila1)\n",
        "print(fila2)\n",
        "fila3 = sumar_pascal(fila2)\n",
        "print(fila3)\n",
        "fila4 = sumar_pascal(fila3)\n",
        "print(fila4)"
      ]
    },
    {
      "cell_type": "markdown",
      "metadata": {
        "id": "mkyfgaN0ba9i"
      },
      "source": [
        "*Ejercicio.* Dado $n \\in \\mathbb N$, imprimir cada fila del triángulo de Pascal hasta la fila $n$. \n",
        "\n",
        "Se puede hacer de dos formas.\n",
        "\n",
        "1. Usando la función `fila_triangulo_Pascal()` obteniendo cada fila en cada paso.\n",
        "2. Usando  la función  `sumar_pascal()` creando una fila  a partir de la fila anterior. \n",
        "\n"
      ]
    },
    {
      "cell_type": "code",
      "execution_count": 5,
      "metadata": {
        "id": "r3722ogPd6Bc"
      },
      "outputs": [
        {
          "name": "stdout",
          "output_type": "stream",
          "text": [
            "[1]\n",
            "[1, 1]\n",
            "[1, 2, 1]\n",
            "[1, 3, 3, 1]\n",
            "[1, 4, 6, 4, 1]\n",
            "[1, 5, 10, 10, 5, 1]\n",
            "[1, 6, 15, 20, 15, 6, 1]\n",
            "[1, 7, 21, 35, 35, 21, 7, 1]\n",
            "[1, 8, 28, 56, 70, 56, 28, 8, 1]\n",
            "[1, 9, 36, 84, 126, 126, 84, 36, 9, 1]\n",
            "[1, 10, 45, 120, 210, 252, 210, 120, 45, 10, 1]\n"
          ]
        }
      ],
      "source": [
        "def triangulo_Pascal_op1(n: int):\n",
        "    for i in range(n+1):\n",
        "        print(fila_triangulo_Pascal(i))\n",
        "\n",
        "triangulo_Pascal_op1(10)"
      ]
    },
    {
      "cell_type": "code",
      "execution_count": 6,
      "metadata": {
        "id": "QP2wtL9qEcpM"
      },
      "outputs": [
        {
          "name": "stdout",
          "output_type": "stream",
          "text": [
            "[1]\n",
            "[1, 1]\n",
            "[1, 2, 1]\n",
            "[1, 3, 3, 1]\n",
            "[1, 4, 6, 4, 1]\n",
            "[1, 5, 10, 10, 5, 1]\n",
            "[1, 6, 15, 20, 15, 6, 1]\n",
            "[1, 7, 21, 35, 35, 21, 7, 1]\n",
            "[1, 8, 28, 56, 70, 56, 28, 8, 1]\n",
            "[1, 9, 36, 84, 126, 126, 84, 36, 9, 1]\n",
            "[1, 10, 45, 120, 210, 252, 210, 120, 45, 10, 1]\n"
          ]
        }
      ],
      "source": [
        "def triangulo_Pascal_op2(n: int):\n",
        "    fila_prev = [1]\n",
        "    print(fila_prev)\n",
        "    for i in range(1,n+1):\n",
        "        fila_post = sumar_pascal(fila_prev)\n",
        "        print(fila_post)\n",
        "        fila_prev = fila_post \n",
        "\n",
        "# Optimizando el código:\n",
        "\n",
        "def triangulo_Pascal_op3(n: int):\n",
        "    fila = [1]\n",
        "    for _ in range(n):\n",
        "        print(fila)\n",
        "        fila = sumar_pascal(fila)\n",
        "    print(fila)\n",
        "\n",
        "triangulo_Pascal_op3(10)\n"
      ]
    }
  ],
  "metadata": {
    "colab": {
      "collapsed_sections": [],
      "name": "Clase laboratorio 05-05-21.ipynb",
      "provenance": []
    },
    "kernelspec": {
      "display_name": "Python 3",
      "name": "python3"
    },
    "language_info": {
      "codemirror_mode": {
        "name": "ipython",
        "version": 3
      },
      "file_extension": ".py",
      "mimetype": "text/x-python",
      "name": "python",
      "nbconvert_exporter": "python",
      "pygments_lexer": "ipython3",
      "version": "3.9.6"
    }
  },
  "nbformat": 4,
  "nbformat_minor": 0
}
