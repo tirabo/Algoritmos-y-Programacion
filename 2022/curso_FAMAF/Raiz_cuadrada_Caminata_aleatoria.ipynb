{
  "nbformat": 4,
  "nbformat_minor": 0,
  "metadata": {
    "colab": {
      "name": "Clase laboratorio 28-04-21.ipynb",
      "provenance": [],
      "collapsed_sections": []
    },
    "kernelspec": {
      "name": "python3",
      "display_name": "Python 3"
    },
    "language_info": {
      "name": "python"
    }
  },
  "cells": [
    {
      "cell_type": "markdown",
      "metadata": {
        "id": "keN7ahp-Z9Xc"
      },
      "source": [
        "## El método babilónico para calcular la raíz cuadrada\n",
        "\n",
        "El *algoritmo babilónico​* se centra en el hecho de que cada lado de un cuadrado es la raíz cuadrada del área. Fue usado durante muchos años para calcular raíces cuadradas a mano debido a su gran eficacia y rapidez. \n",
        "\n",
        "Supongamos que queremos calcular la raíz cuadrada de $x$. La idea es que $x = \\sqrt{x} \\times \\sqrt{x}$,  es decir $x$ es el área de un cuadrado de lado $\\sqrt{x}$. Entonces, el algoritmo aproxima por rectángulos de lados $b$, $h$ que cada vez se \"acercan\" más al cuadrado de lado $\\sqrt{x}$.\n",
        "\n",
        "Una vez que obtenemos la aproximación deseada el estimado de la raíz cuadrada es $b$ (o $h$). "
      ]
    },
    {
      "cell_type": "code",
      "metadata": {
        "id": "eQftLYtnZ21i"
      },
      "source": [
        "def raiz_bab(x: float, error: float) -> float:\n",
        "  # pre: x >= 0\n",
        "  assert x >= 0, 'El número debe ser >= 0'\n",
        "  # post: devuelve b tal |x - b**2| < error\n",
        "  b, h = x, 1 \n",
        "  while abs(x - b**2) >= error:\n",
        "    # inv: b * h == x and ?\n",
        "    b, h = (h + b) /2,  2 * x / ( h + b)\n",
        "  return b \n",
        "\n",
        "#for i in range(26):\n",
        "#  print(raiz_bab(i**2, 1))\n",
        "\n",
        "def raiz_bab2(x: float, n: int) -> float:\n",
        "  b, h = x, 1\n",
        "  for i in range(n):\n",
        "    b, h = (h + b) /2,  2 * x / ( h + b)\n",
        "  return b \n",
        "\n",
        "# for i in range(26):\n",
        "#  print(raiz_bab2(i, 100))\n",
        "\n",
        "# Por la falta de precisión de Python el algoritmo no converge  para números grandes\n",
        "# Si es posible lo siguiente (y lo hace muy bien)\n",
        "print(raiz_bab(1208888888888887, 0.1))\n",
        "print(1208888888888887**0.5)\n",
        "# Pero \n",
        "# print(raiz_bab(120888888888888888888887, 0.001)) \n",
        "# entra en un ciclo infinito, mientras\n",
        "print(120888888888888888888887**0.5) # no hay problema\n"
      ],
      "execution_count": null,
      "outputs": []
    },
    {
      "cell_type": "markdown",
      "metadata": {
        "id": "Dxu_AjiaeivT"
      },
      "source": [
        "Ahora bien ¿como sabemos que el `while` termina?\n",
        "\n",
        "La demostración de convergencia del algoritmo babilónico no es sencilla y se puede ver en  https://en.wikipedia.org/wiki/Methods_of_computing_square_roots#Babylonian_method\n"
      ]
    },
    {
      "cell_type": "markdown",
      "metadata": {
        "id": "GqY_9j1TRUmI"
      },
      "source": [
        "En  la página \n",
        "\n",
        "https://www.w3resource.com/python-exercises/math/python-math-exercise-18.php\n",
        "\n",
        "Se puede encontrar el siguiente código, que también es el algoritmo babilónco, pero no queda muy claro por qué corta el  `while`.\n",
        "\n",
        "El código original incluye algunos `;` que aparentemente en Python no molestan, pero son innecesarios. Posiblemente esos `;` vengan de una transcripción del código de otro lenguaje a Python."
      ]
    },
    {
      "cell_type": "code",
      "metadata": {
        "id": "PscyEXDuF5iy"
      },
      "source": [
        "def babylonian_algorithm(x):\n",
        "  if(x == 0):\n",
        "      return 0\n",
        "  g = x / 2\n",
        "  g2 = g + 1\n",
        "  # print(g2 - g)\n",
        "  while g != g2:\n",
        "    g2 = g\n",
        "    g = (g + x / g)/2\n",
        "    #print(g2 - g) # es para ir viendo la aproximación entre g y g2\n",
        "  return g\n",
        "\n",
        "# Funciona muy bien para x relativamente pequeños\n",
        "x= 1234\n",
        "print(x, babylonian_algorithm(x), x**0.5)\n",
        "\n",
        "# Mientras que para x grandes devuelve x/2\n",
        "x = 120888888888888888888887\n",
        "print(x, babylonian_algorithm(x), x**0.5)\n"
      ],
      "execution_count": null,
      "outputs": []
    },
    {
      "cell_type": "markdown",
      "metadata": {
        "id": "CHhCdIvqyI2_"
      },
      "source": [
        "El problema con las dos implementaciones de el algoritmo babilonico es que Python admite enteros arbitrariamente grandes de forma natural (por  ejemplo 10**1000 + 1), pero no es así para los `float`.\n",
        "\n",
        "*Concluyendo.* No es sencillo programa el algoritmo babilónico en Python, o por lo menos no se lo puede programar sin tener consideraciones de  precisión. \n",
        "\n",
        "Las implementaciones que hemos visto fallan para números grandes. "
      ]
    },
    {
      "cell_type": "markdown",
      "metadata": {
        "id": "vU3Qswb2g5p_"
      },
      "source": [
        "## Caminata aleatoria\n",
        "\n",
        "En esta parte escribiremos un programa Turtle que simula un paseo aleatorio en una grilla y termina en un punto del borde."
      ]
    },
    {
      "cell_type": "code",
      "metadata": {
        "id": "xetlVUYrfsHq"
      },
      "source": [
        "!pip3 install ColabTurtle\n",
        "from ColabTurtle.Turtle import *\n",
        "from random import randint\n"
      ],
      "execution_count": null,
      "outputs": []
    },
    {
      "cell_type": "code",
      "metadata": {
        "id": "xrtjYZmoh4ZM"
      },
      "source": [
        "initializeTurtle()\n",
        "speed(10) # Set turtle speed\n",
        "\n",
        "\n",
        "# Draw 16-by-16 lattice\n",
        "color(\"gray\") # Color for lattice\n",
        "\n",
        "x = 0\n",
        "setheading(0)\n",
        "\n",
        "for y in range(0, 160 + 1, 10):\n",
        "  penup()\n",
        "  goto(x, y) # Draw a horizontal line\n",
        "  pendown()\n",
        "  forward(160)\n",
        "\n",
        "y = 0\n",
        "right(90)\n",
        "for x in range(0, 160 + 1, 10):\n",
        "  penup()\n",
        "  goto(x, y) # Draw a vertical line\n",
        "  pendown()\n",
        "  forward(160)\n",
        "\n",
        "pensize(3)\n",
        "color(\"red\")\n",
        "penup()\n",
        "goto(80, 80) # Go to the center\n",
        "pendown()\n",
        "setheading(270)\n",
        "\n",
        "x = y = 80 # Current pen location at the center of lattice\n",
        "while 0 < x < 160 and 0 < y < 160:\n",
        "  r = randint(0, 3) # número entero entre {0, 1, 2, 3}\n",
        "  if r == 0:\n",
        "    x = x + 10 # ir a la derecha\n",
        "    setheading(0)\n",
        "    forward(10)\n",
        "  elif r == 1:\n",
        "    y = y + 10 # ir para abajo\n",
        "    setheading(90)\n",
        "    forward(10)\n",
        "  elif r == 2:\n",
        "    x = x - 10 # ir para la izquierda\n",
        "    setheading(180)\n",
        "    forward(10)\n",
        "  elif r == 3:\n",
        "    y = y - 10 # Walk up\n",
        "    setheading(270)\n",
        "    forward(10)\n",
        "\n"
      ],
      "execution_count": null,
      "outputs": []
    },
    {
      "cell_type": "markdown",
      "metadata": {
        "id": "b6qgN6s17lFJ"
      },
      "source": [
        "Podemos, por cuestiones de visibilidad, cambiar la escala de la grilla:"
      ]
    },
    {
      "cell_type": "code",
      "metadata": {
        "id": "tx_2YGV-nx1r"
      },
      "source": [
        "initializeTurtle()\n",
        "speed(10) # Set turtle speed \n",
        "\n",
        "E = 20 # escala \n",
        "# La grilla será un cuadrado de 16 * E de lado con separeciones E\n",
        "\n",
        "# Draw 16-by-16 lattice\n",
        "color(\"gray\") # Color for lattice\n",
        "\n",
        "\n",
        "x = 0\n",
        "setheading(0)\n",
        "for y in range(0, 16 * E + 1, E):\n",
        "  penup()\n",
        "  goto(x, y) # Draw a horizontal line\n",
        "  pendown()\n",
        "  forward(16 * E)\n",
        "y = 0\n",
        "right(90)\n",
        "for x in range(0, 16 * E + 1, E):\n",
        "  penup()\n",
        "  goto(x, y) # Draw a vertical line\n",
        "  pendown()\n",
        "  forward(16 * E)\n",
        "\n",
        "pensize(3)\n",
        "color(\"red\")\n",
        "penup()\n",
        "goto((16 * E) // 2, (16 * E) // 2) # Go to the center\n",
        "# goto( 8 * E, 8 * E) # alternativamente\n",
        "pendown()\n",
        "speed(8) # Set turtle speed \n",
        "x = y = (16 * E) // 2 # Current pen location at the center of lattice\n",
        "while 0 < x < 16 * E and 0 < y < 16 * E:\n",
        "  r = randint(0, 3)\n",
        "  if r == 0:\n",
        "    x = x + E # ir a la derecha\n",
        "    setheading(0)\n",
        "    forward(E)\n",
        "  elif r == 1:\n",
        "    y = y + E # ir para abajo\n",
        "    setheading(90)\n",
        "    forward(E)\n",
        "  elif r == 2:\n",
        "    x = x - E # ir para la izquierda\n",
        "    setheading(180)\n",
        "    forward(E)\n",
        "  elif r == 3:\n",
        "    y = y - E # ir arriba\n",
        "    setheading(270)\n",
        "    forward(E)\n"
      ],
      "execution_count": null,
      "outputs": []
    },
    {
      "cell_type": "markdown",
      "metadata": {
        "id": "5fGxkXyQ7sKi"
      },
      "source": [
        "No es difícil tampoco cambiar el tamaño de la grilla. "
      ]
    },
    {
      "cell_type": "code",
      "metadata": {
        "id": "mvIg7Pbe__-C"
      },
      "source": [
        "initializeTurtle()\n",
        "speed(10) # Set turtle speed \n",
        "\n",
        "N, E = 20, 15 # tamaño de la grilla, escala \n",
        "# La grilla será un cuadrado de 16 * E de lado con separaciones E\n",
        "\n",
        "# Draw N-by-N lattice\n",
        "color(\"gray\") # Color for lattice\n",
        "\n",
        "\n",
        "x = 0\n",
        "setheading(0)\n",
        "for y in range(0, N * E + 1, E):\n",
        "  penup()\n",
        "  goto(x, y) # Draw a horizontal line\n",
        "  pendown()\n",
        "  forward(N * E)\n",
        "y = 0\n",
        "right(90)\n",
        "for x in range(0, N * E + 1, E):\n",
        "  penup()\n",
        "  goto(x, y) # Draw a vertical line\n",
        "  pendown()\n",
        "  forward(N * E)\n",
        "\n",
        "pensize(3)\n",
        "color(\"red\")\n",
        "penup()\n",
        "goto((N * E) // 2, (N * E) // 2) # Go to the center\n",
        "\n",
        "pendown()\n",
        "speed(8) # Set turtle speed \n",
        "x = y = (N * E) // 2 # Current pen location at the center of lattice\n",
        "while 0 < x < N * E and 0 < y < N * E:\n",
        "  r = randint(0, 3)\n",
        "  if r == 0:\n",
        "    if getheading() != 180: # no vuelve para atrás\n",
        "      x = x + E # ir a la derecha\n",
        "      setheading(0)\n",
        "      forward(E)\n",
        "  elif r == 1:\n",
        "    y = y + E # ir para abajo\n",
        "    setheading(90)\n",
        "    forward(E)\n",
        "  elif r == 2:\n",
        "    x = x - E # ir para la izquierda\n",
        "    setheading(180)\n",
        "    forward(E)\n",
        "  elif r == 3:\n",
        "    y = y - E # ir arriba\n",
        "    setheading(270)\n",
        "    forward(E)\n"
      ],
      "execution_count": null,
      "outputs": []
    },
    {
      "cell_type": "markdown",
      "metadata": {
        "id": "SFoPxpuoDqJa"
      },
      "source": [
        "Todo esto se podría implementar con pygame:\n",
        "\n",
        "https://www.pygame.org/"
      ]
    },
    {
      "cell_type": "markdown",
      "metadata": {
        "id": "OhYFdVQE8HDP"
      },
      "source": [
        "**Ejercicio.** \n",
        "\n",
        "1. Dado un punto elegido al azar en la grilla hacer una caminata aleatoria que se detenga cuando la tortuga llegue a un borde de la grilla o alcance ese punto. \n",
        "2. Hacer que la tortuga cuando llegue a un borde \"rebote\" y solo se detenga cuando llegue a un punto elegido al azar en la grilla. \n",
        "\n"
      ]
    },
    {
      "cell_type": "code",
      "metadata": {
        "id": "jft-Tnw5D55t"
      },
      "source": [
        ""
      ],
      "execution_count": null,
      "outputs": []
    }
  ]
}