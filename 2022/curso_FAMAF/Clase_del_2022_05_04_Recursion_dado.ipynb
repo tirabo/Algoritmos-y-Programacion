{
  "cells": [
    {
      "cell_type": "markdown",
      "metadata": {
        "id": "9avbKk3_5aPP"
      },
      "source": [
        "# Recursión "
      ]
    },
    {
      "cell_type": "markdown",
      "metadata": {
        "id": "1986cj15yw2x"
      },
      "source": [
        "## 1. Definiciones por recursión\n",
        "\n",
        "Frecuentemente encontramos una expresión de la forma $u_n$, donde $n$ indica cualquier entero positivo: por ejemplo, podríamos tener $u_n=3n+2$, o $u_n = (n+1)(n+2)(n+3)$. En estos ejemplos $u_n$ es dado por una fórmula explícita llamada *fórmula cerrada* y no existe dificultad en calcular $u_n$ cuando se nos da un valor específico para $n$. \n",
        "\n",
        "Sin embargo, en muchos casos no conocemos una fórmula para $u_n$; es más, nuestro problema puede ser encontrarla. En estos casos pueden darnos ciertos valores de $u_n$ para enteros positivos $n$ pequeños, y una relación entre el $u_n$ general y algunos de los $u_r$ con $r<n$. Por ejemplo, supongamos nos es dado \n",
        "$$ \n",
        "u_1=1, \\qquad u_2=2, \\qquad u_n =u_{n-1} +u_{n-2}, \\qquad n\\ge 3.\n",
        "$$\n",
        "Para calcular los valores de $u_n$ para todo $n$ de $\\mathbb N$ podemos proceder como sigue:\n",
        "$$\n",
        "\\begin{matrix}\n",
        "u_3 & = & u_2 + u_1 & = & 2+1 &=& 3, \\\\\n",
        "u_4 & = & u_3 + u_2 & = & 3+2 &=& 5, \\\\\n",
        "u_5 & = & u_4 + u_3 & = & 5+3 &=& 8,\n",
        "\\end{matrix}\n",
        "$$\n",
        "y así siguiendo.  Éste es un ejemplo de una *definición recursiva*. \n",
        "\n",
        "Una función definida por recursión debe:\n",
        "\n",
        "*   determinar el valor deseado para el *caso base* (o los casos base), por ejemplo, para `n == 1` o `n == 2`.\n",
        "*   determinar la manera de calcular el valor para `n` conociendo el valor de la función para `n-1` (o para todos los valores menores a `n`, en este último caso se parece a inducción completa).\n",
        "\n",
        "Los lenguajes de programación modernos permiten la definición de funciones recursivas. Un  esquema de una definición recursiva podría ser (partiendo  de $n =1$):\n",
        "\n",
        "```\n",
        "def f(n):\n",
        "    if n == 1:\n",
        "       res = caso base\n",
        "    else:\n",
        "        <bloque>\n",
        "        res = ... f(n-1) ...\n",
        "        <bloque>\n",
        "    <bloque>\n",
        "    return res\n",
        "```"
      ]
    },
    {
      "cell_type": "markdown",
      "metadata": {
        "id": "80tXgDEr0kdM"
      },
      "source": [
        "## 2. Ejemplo de definición recursiva: función factorial.\n",
        "\n",
        "Hemos visto una manera iterativa de definir la función factorial:"
      ]
    },
    {
      "cell_type": "code",
      "execution_count": null,
      "metadata": {
        "id": "lAglmA6e0s1e"
      },
      "outputs": [],
      "source": [
        "def factorial(n: int) -> int:\n",
        "    # pre: n >= 0\n",
        "    # post: devuelve el valor de 1 * 2 * 3 * ... * (n-1) * n\n",
        "    res = 1\n",
        "    for i in range(2, n+1):\n",
        "        res = res * i\n",
        "    return res"
      ]
    },
    {
      "cell_type": "code",
      "execution_count": null,
      "metadata": {
        "id": "7t7wX_49XyQh"
      },
      "outputs": [],
      "source": [
        "print(factorial(5))"
      ]
    },
    {
      "cell_type": "markdown",
      "metadata": {
        "id": "QrE7zfXM1IF0"
      },
      "source": [
        "También se puede definir por recursión, valiéndonos de que sabemos:\n",
        "\n",
        "\n",
        "*   $0! = 1$\n",
        "*   $n! = n * (n-1)!$, si $n > 0$"
      ]
    },
    {
      "cell_type": "code",
      "execution_count": 2,
      "metadata": {
        "id": "BB-MqWbQ1uVC"
      },
      "outputs": [],
      "source": [
        "def factorial(n: int) -> int:\n",
        "    # pre: n >= 0\n",
        "    # post: devuelve el valor de 1 * 2 * 3 * ... * (n-1) * n\n",
        "    if n == 0:\n",
        "        res = 1\n",
        "    else:\n",
        "        res = n * factorial(n - 1)\n",
        "    return res"
      ]
    },
    {
      "cell_type": "markdown",
      "metadata": {
        "id": "4VcwoKuDeU42"
      },
      "source": [
        "Para probar que el programa es correcto se puede hacer una demostración por inducción. \n",
        "\n",
        "Probemos por inducción en `n` que para todo `n` entero no negativo, `factorial(n) == n!`.\n",
        "\n",
        "- Caso base: `n == 0`. `factorial(n) == factorial(0) == 1 == 0! == n!`.\n",
        "- Paso inductivo: asumimos que `factorial(n) == n!`. Probemos que `factorial(n+1) == (n+1)!`: \n",
        "\n",
        "```\n",
        "    factorial(n+1) == (n+1) * factorial(n + 1 - 1) == (n+1) * factorial(n) == (n+1) * n! == (n+1)!.\n",
        "```\n",
        "\n",
        "Así queda demostrada la afirmación. "
      ]
    },
    {
      "cell_type": "code",
      "execution_count": 3,
      "metadata": {
        "id": "lC7vT0-MeCYI",
        "colab": {
          "base_uri": "https://localhost:8080/"
        },
        "outputId": "ed37f923-2b2b-403d-8c74-ae5871618b11"
      },
      "outputs": [
        {
          "output_type": "stream",
          "name": "stdout",
          "text": [
            "24\n"
          ]
        }
      ],
      "source": [
        "print(factorial(4))\n",
        "#print(factorial(-3))"
      ]
    },
    {
      "cell_type": "markdown",
      "metadata": {
        "id": "l8sO0v1YAv-P"
      },
      "source": [
        "## 3. Ejemplo: potencia de un número.\n",
        "\n",
        "La definición de la potencia entera de un número es una definición recursiva.\n",
        "\n",
        "**Definición.** Sea $a \\in \\mathbb R$ y $n \\in \\mathbb N_0$, definimos *$a$ a la $n$* por\n",
        "*   $a^0 = 1$\n",
        "*   $a^n = a * a^{n-1}$, si $n > 0$\n",
        "\n",
        "A partir de esta definición podemos hacer directamente una definición recursiva en Python:"
      ]
    },
    {
      "cell_type": "code",
      "execution_count": null,
      "metadata": {
        "id": "4PvjlzMrCN9P"
      },
      "outputs": [],
      "source": [
        "def potencia(a, n: int) -> int:\n",
        "    # pre: n >= 0\n",
        "    # post: devuelve el valor de a * a * a * ... * a * a , n veces\n",
        "    if n == 0:\n",
        "        res = 1\n",
        "    else:\n",
        "        res = a * potencia(a, n-1)\n",
        "    return res"
      ]
    },
    {
      "cell_type": "markdown",
      "metadata": {
        "id": "C0sT_1r_5aPe"
      },
      "source": [
        "Hagamos alguna pruebas:\n"
      ]
    },
    {
      "cell_type": "code",
      "execution_count": null,
      "metadata": {
        "id": "9fDTFd6xg4JW"
      },
      "outputs": [],
      "source": [
        "print(potencia(3,2))\n",
        "print(potencia(2,50))"
      ]
    },
    {
      "cell_type": "code",
      "source": [
        "#print(potencia(2,1099)) # excede el límite de llamadas recursivas\n",
        "potencia(2, 800) * potencia (2, 299) # 2**1099"
      ],
      "metadata": {
        "id": "WoCw84XqBIZI"
      },
      "execution_count": null,
      "outputs": []
    },
    {
      "cell_type": "code",
      "execution_count": null,
      "metadata": {
        "colab": {
          "base_uri": "https://localhost:8080/"
        },
        "id": "QNcyfRDr0ISE",
        "outputId": "7677d06b-e73e-4d32-e69a-fe430532d71f"
      },
      "outputs": [
        {
          "output_type": "stream",
          "name": "stdout",
          "text": [
            "1125899906842624\n"
          ]
        }
      ],
      "source": [
        "tmp = potencia(2,25)\n",
        "print(tmp*tmp)"
      ]
    },
    {
      "cell_type": "markdown",
      "metadata": {
        "id": "mHUWsfUCCve3"
      },
      "source": [
        "### Versión optimizada de potencia de un número.\n",
        "\n",
        "Observemos que la definición recursiva anterior de $a^n$ requiere $n$ pasos pues `potencia(a, n)` se basa en `potencia(a, n - 1)`,  que a su vez se basa en `potencia(a, n - 2)` y así sucesivamente. \n",
        "\n",
        "Ahora observemos lo siguiente: si quisieramos calcular $a$ a la una potencia de $2$,  es decir $a^{2^k}$, podríamos hacer,  recursivamente, \n",
        "\\begin{align*}\n",
        "&1.& &a^{2^k} = a^{2 \\cdot 2^{k-1}} = a^{2^{k-1} + 2^{k-1}} = a^{2^{k-1}} \\cdot a^{2^{k-1}} \\\\\n",
        "&2.& &a^{2^{k-1}} =   a^{2^{k-2}} \\cdot a^{2^{k-2}} \\\\\n",
        "&3.& &a^{2^{k-2}} =   a^{2^{k-3}} \\cdot a^{2^{k-3}} \\\\\n",
        "&&...& \\\\\n",
        "&k-1.& &a^{2} =   a^{1} \\cdot a^{1}\n",
        "\\end{align*}\n",
        "\n",
        "Es decir $a^{2^k}$ se pueder calcular en alrededor de  $k = \\operatorname{log}_2(2^k)$ pasos, muchos menos que con el método anterior. Basándonos en la idea anterior se puede definir recursivamente $a^n$ para cualquier $n$ en una recursión que lleva alrededor de $\\operatorname{log}_2(n)$ pasos:\n",
        "\n",
        "*   $a^0 = 1$\n",
        "*   $a^n = a \\cdot a^{n-1}$, si $n > 0$, $n$ impar.\n",
        "*   $a^n = {(a^{\\frac{n}{2}})}^2$, si $n > 0$, $n$ par.\n",
        "\n",
        "Su implementación en Python es sencilla:"
      ]
    },
    {
      "cell_type": "code",
      "execution_count": null,
      "metadata": {
        "id": "fa8JqFCxCmJ-"
      },
      "outputs": [],
      "source": [
        "def potencia(a, n: int) -> int:\n",
        "    # pre: n >= 0\n",
        "    # post: devuelve el valor de a * a * a * ... * a * a , n veces\n",
        "    if n == 0:\n",
        "        res = 1\n",
        "    elif n % 2 == 1:\n",
        "        res = a * potencia(a, n - 1)\n",
        "    else:\n",
        "        res = potencia(a, n // 2)\n",
        "        res = res * res\n",
        "    return res"
      ]
    },
    {
      "cell_type": "code",
      "source": [
        "potencia(2, 10099)"
      ],
      "metadata": {
        "colab": {
          "base_uri": "https://localhost:8080/"
        },
        "id": "aZw7DGxWD_3V",
        "outputId": "ba53987b-dc85-4f3b-be8b-93a893e7a426"
      },
      "execution_count": null,
      "outputs": [
        {
          "output_type": "execute_result",
          "data": {
            "text/plain": [
              "12645214788035477780833747012304970973185843332835288169848789914254502838560051538629491431436156796205715003374944844127559425637068683357188426288310422673615829329615482105090787197616047243677777129144729546461873025383421382927863498442017413919712457287165999262436053613531013670776465543932306291728643872290754779836194232892577359642555497241328726605939213467874189066226238245056424852556877028877151433085117049154611172427502198888865653013856460717504264919853261316908657529859703796479777359329935749443077374265028907660789404653113637841680729928789865210492003550947294897430466021778462772260419168612135639828803131570274659511259626235038143319808431446706260017525369783755792689868998090492677503466114400168908381661508455456084257429757257062175242905694426821880093530730680369069544584035931252641870022643653594540294784946757510800799520910668754858105736212123089921563860914710785322491778082476583470858058052318299784868883571045360724199681777240102907341316983263659164136520492908991835007304886117790962457060842552692082889427794951233041692131840302594325406414298806168382294857269968846138067710596292767446655452221403803137266262567486246120326813578875966486378577207282816897342055112334904588942947560897203722982091422376097235368497996002797826568260213356557341344930497956381424742918345330249698148968619393055681250544551352635398573111679450260451360616474285437441053553149204703140172701695848252296012738656785843484918044867812953476371973401159267266126186749010820498912280835466741013066401488906981357628317758542670637769040538377601600801127127651677410766985504275293166173368803836255029309001925919529323216355263577147409279932998067779574934333189747922021274236785732951740511155163495750570472884381145197332793843045477318577211683262576702239449224062113320802536510377868081548128006639163295662471761914522800675793271444303222869459654634088157498355662353294830798017531834735031092167822676948827512390739156574240885472898572635663451255234871995376902518987523240405660419852661336545890875314752405288301427719819689583140365641889452256066964680070867128072676281112330564299303468255662635680271661185964687087594282757361003337555059527458901936293518525222666227509025715596352501994177174193487571959134275200735779086804242834692781866729760838107456547895632480696881492076739343520010992444715746013041940770610891687692420045185134613700343702971278488975163107207569359889101632994205444493143414586918107103760645484912194839740898021641392659033599664272468493725522430850067867209505572207603255435288288442709463279286317320275424560868739830751050735462450898992544548593850073633318333810544633575553792188214557716157945737199220457596426262506373678788715940256059572848458575558327459162150792099648977792879617534861296965843756541076879500848168712945402734744770690132941452173899334638465542587618596050976003414297002917105679841151363059485450826333637259008242051047475247141786221981998309981447313676866623742466174098764556402688"
            ]
          },
          "metadata": {},
          "execution_count": 14
        }
      ]
    },
    {
      "cell_type": "markdown",
      "metadata": {
        "id": "EJwra_cdfAHy"
      },
      "source": [
        "## 4. Ejemplo: sucesión de Fibonacci\n",
        "\n",
        "La *sucesión de Fibonacci* es la siguiente sucesión infinita de números naturales:\n",
        "$$ \n",
        "0,1,1,2,3,5,8,13,21,34,55,89,144,233,377,610,987,1597, \\ldots \\,\n",
        "$$\n",
        "\n",
        "La sucesión comienza con los números 0 y 1 y a partir de estos, \"el siguiente término es la suma de los dos anteriores\", es decir, si $a_n$ denota el $n$-ésimo término de la sucesión de Fibonacci:\n",
        "\n",
        "*   $a_0 = 0$\n",
        "*   $a_1 = 1$\n",
        "*   $a_n = a_{n-1} + a_{n-2}\\quad $ si $n > 1$\n",
        "\n"
      ]
    },
    {
      "cell_type": "markdown",
      "source": [
        "La primera implementación recursiva que se nos ocurre de la sucesión de Fibonacci es la transcripcoión directa de la definición:"
      ],
      "metadata": {
        "id": "0yNIZK9JqbCi"
      }
    },
    {
      "cell_type": "code",
      "execution_count": null,
      "metadata": {
        "id": "Z-D3k92RX9DF"
      },
      "outputs": [],
      "source": [
        "def fib(n: int) -> int:\n",
        "    # pre: n >= 0\n",
        "    # post: devuelve el n-ésimo término de la sucesión de Fibonacci\n",
        "    assert type(n) == int and n >= 0\n",
        "    if n <= 1:\n",
        "        res = n\n",
        "    else:\n",
        "        res = fib(n-1) + fib(n-2)\n",
        "    return res"
      ]
    },
    {
      "cell_type": "markdown",
      "metadata": {
        "id": "kJ-MhTe05aPi"
      },
      "source": [
        "Verifiquemos contrastando con la lista de más arriba"
      ]
    },
    {
      "cell_type": "code",
      "execution_count": null,
      "metadata": {
        "colab": {
          "base_uri": "https://localhost:8080/"
        },
        "id": "CsezItWN327m",
        "outputId": "e0a3eb2c-bbe8-4e0a-fea8-272cf1d37c62"
      },
      "outputs": [
        {
          "output_type": "stream",
          "name": "stdout",
          "text": [
            "0, 1, 1, 2, 3, 5, 8, 13, 21, 34, 55, 89, 144, 233, 377, 610, 987, 1597, "
          ]
        }
      ],
      "source": [
        "for i in range(18):\n",
        "    print(fib(i), end=', ')"
      ]
    },
    {
      "cell_type": "markdown",
      "metadata": {
        "id": "sqo_V2i_5aPj"
      },
      "source": [
        "También podríamos haber hecho algo parecido utilizando listas por comprensión: "
      ]
    },
    {
      "cell_type": "code",
      "execution_count": null,
      "metadata": {
        "colab": {
          "base_uri": "https://localhost:8080/"
        },
        "id": "a9d5twqlgwvL",
        "outputId": "fc32bee6-349b-436b-d9fe-08c196e5ee44"
      },
      "outputs": [
        {
          "output_type": "stream",
          "name": "stdout",
          "text": [
            "[0, 1, 1, 2, 3, 5, 8, 13, 21, 34, 55, 89, 144, 233, 377, 610, 987, 1597]\n"
          ]
        }
      ],
      "source": [
        "print([fib(x) for x in range(18)])"
      ]
    },
    {
      "cell_type": "markdown",
      "metadata": {
        "id": "Vp9diih95aPk"
      },
      "source": [
        "Ahora bien, esta implementación no es una buena implementación de la sucesión de Fibonacci pues como cada caso se basa en dos anteriores y el compilador si alguna vez calcula `fib(k)` para `k < n` y después lo necesita de nuevo, no lo recuerda y lo hace otra vez. Con este algoritmo podemos estimar que `fib(n)` necesita alrededor de $2^n$ pasos y esto computacionalmente no es admisible. Por ejemplo, podemos calcular fácilmente a mano el término $50$  de la sucesión de Fibonacci, pero si ejecutamos `fib(50)` veremos que no termina.  "
      ]
    },
    {
      "cell_type": "code",
      "execution_count": null,
      "metadata": {
        "id": "NiK9sTym5aPk"
      },
      "outputs": [],
      "source": [
        "# fib(50)"
      ]
    },
    {
      "cell_type": "markdown",
      "metadata": {
        "id": "utmEwswu5aPl"
      },
      "source": [
        "Una solución a este problema nos la da la llamada *programación dinámica*. No explicaremos lo que es programación dinámica en este curso, pero diremos que evita la repetición de cálculos guardando algunos resultados anteriores en una tabla. Solo daremos la sucesión de Fibonacci  con programación dinámica a modo ilustrativo:"
      ]
    },
    {
      "cell_type": "code",
      "execution_count": null,
      "metadata": {
        "id": "NrU5GOL55aPl"
      },
      "outputs": [],
      "source": [
        "def fib_din(n):\n",
        "    # pre: n >= 0\n",
        "    # post: devuelve el n-ésimo término de la sucesión de Fibonacci\n",
        "    f = [0, 1]\n",
        "    for i in range(2, n+1):\n",
        "        f.append(f[i-1] + f[i-2])\n",
        "    return f[n]"
      ]
    },
    {
      "cell_type": "markdown",
      "metadata": {
        "id": "bNJqPV535aPl"
      },
      "source": [
        "Este algoritmo es mucho más eficiente que el anterior."
      ]
    },
    {
      "cell_type": "code",
      "execution_count": null,
      "metadata": {
        "colab": {
          "base_uri": "https://localhost:8080/"
        },
        "id": "QoeT-hlJ5aPl",
        "outputId": "4f24726d-30fc-4c56-ddfd-b0871638025b"
      },
      "outputs": [
        {
          "output_type": "execute_result",
          "data": {
            "text/plain": [
              "43466557686937456435688527675040625802564660517371780402481729089536555417949051890403879840079255169295922593080322634775209689623239873322471161642996440906533187938298969649928516003704476137795166849228875"
            ]
          },
          "metadata": {},
          "execution_count": 22
        }
      ],
      "source": [
        "fib_din(1000)"
      ]
    },
    {
      "cell_type": "markdown",
      "metadata": {
        "id": "NoqKmj0P5aPm"
      },
      "source": [
        "Observemos que el algoritmo no es recursivo en el sentido que nosotros definimos, sin embargo tiene cierta similitud a una definición recursiva debido a  que para calcular el término $i$-ésimo de `f` se utilizan los términos $i-1$ y $i-2$. "
      ]
    },
    {
      "cell_type": "markdown",
      "source": [
        "En  el espíritu de la definición anterior podemos hacer un algoritmo recursivo y eficiente:"
      ],
      "metadata": {
        "id": "deJzXz8TSE07"
      }
    },
    {
      "cell_type": "code",
      "source": [
        "def fib_2(n):\n",
        "    # pre: n >= 1\n",
        "    # post: devuelve el (fn, fn_1) de Fibonacci\n",
        "    if n == 1:\n",
        "        res = (1, 0)\n",
        "    else:\n",
        "        x = fib_2(n-1)\n",
        "        res = (x[0] + x[1], x[0])\n",
        "    return res"
      ],
      "metadata": {
        "id": "x5khG-iQGZTL"
      },
      "execution_count": null,
      "outputs": []
    },
    {
      "cell_type": "code",
      "source": [
        "print(fib_2(50)[0])\n",
        "print(fib_din(50))"
      ],
      "metadata": {
        "colab": {
          "base_uri": "https://localhost:8080/"
        },
        "id": "tt8n3ZvpHfjd",
        "outputId": "16499e2d-702b-4cff-c0a4-69edfdeb28fa"
      },
      "execution_count": null,
      "outputs": [
        {
          "output_type": "stream",
          "name": "stdout",
          "text": [
            "12586269025\n",
            "12586269025\n"
          ]
        }
      ]
    },
    {
      "cell_type": "markdown",
      "metadata": {
        "id": "1FRoQoqG5aPm"
      },
      "source": [
        "Sin embargo, la versión más conveniente para calcular la sucesión de Fibonacci es la versión iterativa, muy similar a la versión de programación dinámica, pero ocupando menos espacio en memoria:"
      ]
    },
    {
      "cell_type": "code",
      "execution_count": null,
      "metadata": {
        "id": "mcD0rgkGkKqU"
      },
      "outputs": [],
      "source": [
        "def fib_iter(n: int) -> int:\n",
        "    if n <= 1:\n",
        "        res = n\n",
        "    else:\n",
        "        x, y = 0, 1\n",
        "        for _ in range(2, n+1):\n",
        "            x, y = y, x + y\n",
        "        res = y\n",
        "    return res"
      ]
    },
    {
      "cell_type": "code",
      "execution_count": null,
      "metadata": {
        "colab": {
          "base_uri": "https://localhost:8080/"
        },
        "id": "6XoVkbJcllLE",
        "outputId": "adf42307-025b-41f2-df2e-6ea657fbad3e"
      },
      "outputs": [
        {
          "output_type": "stream",
          "name": "stdout",
          "text": [
            "[0, 1, 1, 2, 3, 5, 8, 13, 21, 34, 55, 89, 144, 233, 377, 610, 987, 1597]\n"
          ]
        }
      ],
      "source": [
        "print([fib_iter(x) for x in range(18)])"
      ]
    },
    {
      "cell_type": "code",
      "execution_count": null,
      "metadata": {
        "colab": {
          "base_uri": "https://localhost:8080/"
        },
        "id": "ozqOkLOhlzzM",
        "outputId": "58243a4d-b294-420a-c9d4-07ce79882a3d"
      },
      "outputs": [
        {
          "output_type": "execute_result",
          "data": {
            "text/plain": [
              "43466557686937456435688527675040625802564660517371780402481729089536555417949051890403879840079255169295922593080322634775209689623239873322471161642996440906533187938298969649928516003704476137795166849228875"
            ]
          },
          "metadata": {},
          "execution_count": 28
        }
      ],
      "source": [
        "fib_iter(1000)"
      ]
    },
    {
      "cell_type": "markdown",
      "metadata": {
        "id": "Woo98vCf5aPu"
      },
      "source": [
        "## 5. Ejemplo: sumatoria\n",
        "\n",
        "Supongamos que nos digan \"Escriba una función recursiva, `suma_lista()` que tome una lista de enteros y devuelva la suma de todos los enteros en la lista\". por ejemplo\n",
        "\n",
        "    suma_lista([1, 3, 4, 5, 6])\n",
        "\n",
        "debe devolver `19`. Es decir, el algoritmo debe devolver la sumatoria de todos los elementos de la lista. \n",
        "\n",
        "Sabemos como hacer esto de la manera iterativa:"
      ]
    },
    {
      "cell_type": "code",
      "execution_count": null,
      "metadata": {
        "id": "-Wls-vkV5aPu"
      },
      "outputs": [],
      "source": [
        "def suma_lista(xs):\n",
        "    s = 0\n",
        "    i = 0\n",
        "    while i < len(xs):\n",
        "        s = s + xs[i]\n",
        "        i = i + 1\n",
        "    return s"
      ]
    },
    {
      "cell_type": "markdown",
      "metadata": {
        "id": "JKTKZVzm5aPu"
      },
      "source": [
        "(también lo podríamos haber hecho con un `for`).\n",
        "\n",
        "Sin embargo,  ahora estamos interesados en hacer este programa en forma recursiva. Recordemos que primero debemos hacer el caso cuando la lista tiene longitud 1 y  luego hacer el caso inductivo:"
      ]
    },
    {
      "cell_type": "code",
      "execution_count": null,
      "metadata": {
        "colab": {
          "base_uri": "https://localhost:8080/"
        },
        "id": "HsEiO_dY5aPv",
        "outputId": "48b51424-d45a-4a03-b97a-c2e546b2201f"
      },
      "outputs": [
        {
          "output_type": "execute_result",
          "data": {
            "text/plain": [
              "19"
            ]
          },
          "metadata": {},
          "execution_count": 60
        }
      ],
      "source": [
        "def suma_lista_rec(xs):\n",
        "    s = 0\n",
        "    if len(xs) == 1:\n",
        "        s = xs[0]\n",
        "    else:\n",
        "        s = xs[0] + suma_lista_rec(xs[1:])\n",
        "    return s\n",
        "\n",
        "suma_lista_rec([1, 3, 4, 5, 6])"
      ]
    },
    {
      "cell_type": "markdown",
      "metadata": {
        "id": "6O65RJPE5aPw"
      },
      "source": [
        "El algoritmo anterior tiene un problema: si tratamos de hacer \n",
        "\n",
        "    suma_lista([])\n",
        "\n",
        "obtenemos un error. Esto se de bebe que cuando en el cuerpo de la función se ingresa al `else` el programa trata de calcular `xs[0]` y ese valor no existe. Una opción es tener cuidado de no ingresar una lista vacía a esta función o cambiar levemente la definición recursiva:"
      ]
    },
    {
      "cell_type": "code",
      "execution_count": null,
      "metadata": {
        "colab": {
          "base_uri": "https://localhost:8080/"
        },
        "id": "l2Cpoj4B5aPw",
        "outputId": "ae1b06d2-5ffb-43cf-dd50-5f53f09b62f0"
      },
      "outputs": [
        {
          "output_type": "stream",
          "name": "stdout",
          "text": [
            "19\n",
            "0\n"
          ]
        }
      ],
      "source": [
        "def suma_lista_rec(xs):\n",
        "    # pre: xs es lista de números\n",
        "    # post: devuelve la suma de todos los elementos de la lista\n",
        "    assert type(xs) == list, 'el input debe ser una lista'\n",
        "\n",
        "    if len(xs) == 0:\n",
        "        s = 0\n",
        "    else:\n",
        "        s = xs[0] + suma_lista_rec(xs[1:])\n",
        "    return s\n",
        "\n",
        "print(suma_lista_rec([1, 3, 4, 5, 6]))\n",
        "print(suma_lista_rec([]))\n",
        "# suma_lista_rec(5) # genera excepción"
      ]
    },
    {
      "cell_type": "markdown",
      "metadata": {
        "id": "ptJuE89Y5aPw"
      },
      "source": [
        "La definición anterior se basa en que en matemática se considera que una sumatoria que no tiene sumandos devuelve el elemnto neutro de la suma, es decir 0. "
      ]
    }
  ],
  "metadata": {
    "colab": {
      "collapsed_sections": [],
      "name": "Clase_del_2022_05_04_Recursión.ipynb",
      "provenance": []
    },
    "kernelspec": {
      "display_name": "Python 3",
      "name": "python3"
    },
    "language_info": {
      "codemirror_mode": {
        "name": "ipython",
        "version": 3
      },
      "file_extension": ".py",
      "mimetype": "text/x-python",
      "name": "python",
      "nbconvert_exporter": "python",
      "pygments_lexer": "ipython3",
      "version": "3.9.6"
    }
  },
  "nbformat": 4,
  "nbformat_minor": 0
}