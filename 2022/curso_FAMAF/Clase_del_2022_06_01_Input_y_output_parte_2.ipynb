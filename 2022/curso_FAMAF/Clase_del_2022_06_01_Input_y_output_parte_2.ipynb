{
  "cells": [
    {
      "cell_type": "markdown",
      "metadata": {
        "id": "O4cEbRnEIl8p"
      },
      "source": [
        "# Interacción con archivos de Internet\n",
        "\n",
        "Veremos en este cuaderno diferentes formas de  interactuar con páginas o sitios de Internet. Como vimos en el cuaderno pasado estas interaciones se rigen por el protocolo HTML."
      ]
    },
    {
      "cell_type": "markdown",
      "metadata": {
        "id": "73K_eAzGXKsq"
      },
      "source": [
        "## 1. Estructura básica de los documentos html\n",
        "\n",
        "- Cada página comienza con `<html>`.\n",
        "- A continuación viene la cabecera, delimitada por `<head>` y `</head>`.\n",
        "- Después, el comando `<body>`, que indica el comienzo del cuerpo de la página. \n",
        "- Las el contenido de la página y las instrucciones HTML se escribirán a continuación, y finalizarán con `</body>`.\n",
        "- La página acabará con `</html>`.\n",
        "- Todo elemento HTML  comienza con un tag tipo `<tag>` y  cierra en el mismo tag  precedido de `/`,  es decir `</tag>`. \n",
        "\n",
        "*Ejemplo.* La siguiente es una página HTML válida. `title` es el tag para el título de la página (el que aparece en la tab del navegador)  `h1` es el tag para un encabezamiento de tamaño grande y `p` es el tag correspondiente a un párrafo. \n",
        "```\n",
        "<html>\n",
        "\n",
        "<head>\n",
        "    <title>Título de la página</title>\n",
        "</head>\n",
        "\n",
        "<body>\n",
        "    <h1>Un encabezamiento</h1>\n",
        "    <p>Un parágrafo.</p>\n",
        "    <p>Esté es otro párrafo.</p>\n",
        "</body>\n",
        "\n",
        "</html>\n",
        "```\n",
        "Las página permiten mútiples tipos de elementos,  entre ellos *tablas* que es una entidad que usaremos luego. \n",
        "\n",
        "*Ejemplo.* El siguiente es código HTML válido con una tabla incluida. \n",
        "\n",
        "\n",
        "```\n",
        "<html>\n",
        "<head>\n",
        "<title>Page Title</title>\n",
        "</head>\n",
        "<body>\n",
        "<h1>This is a Heading</h1>\n",
        "<p>This is a paragraph.</p>\n",
        "<p>A continuación una tabla.</p>\n",
        "<p>\n",
        "    <table>\n",
        "        <tr>\n",
        "            <td>a</td> <td>b</td> <td>c</td> \n",
        "        </tr>\n",
        "        <tr>\n",
        "            <td>1234</td> <td>50</td> <td>ddd</td>\n",
        "        </tr>\n",
        "    </table>\n",
        "</p>\n",
        "</body>\n",
        "</html>\n",
        "```\n",
        "\n"
      ]
    },
    {
      "cell_type": "markdown",
      "metadata": {
        "id": "NRvNtqQaXiiz"
      },
      "source": [
        "## 2. Uso de `BeautifulSoup` para estructurar páginas HTML\n",
        "\n",
        "Recordemos que para bajar archivos HTML usámos el  módulo `requests`. A continuación lo incorporamos:"
      ]
    },
    {
      "cell_type": "code",
      "execution_count": null,
      "metadata": {
        "id": "zkAKRG6rXjcy"
      },
      "outputs": [],
      "source": [
        "import requests"
      ]
    },
    {
      "cell_type": "markdown",
      "metadata": {
        "id": "5cAzPsbMIl82"
      },
      "source": [
        "Accedamos al sitio español [www.tutiempo.net](https://www.tutiempo.net) que contiene diversa información meteorológica,  incluyendo mucha información histórica de diversa partes del mundo, incluyendo argentina.\n",
        "\n",
        "Por ejemplo,  si queremos información el día 5 de marzo de 2019  en Córdoba,  más precisamente en el aeropuerto, cargamos la página:\n",
        "\n",
        " [https://www.tutiempo.net/registros/saco/5-marzo-2019.html](https://www.tutiempo.net/registros/saco/5-marzo-2019.html)\n",
        "\n",
        " También la podemos bajar usando el módulo `requests`"
      ]
    },
    {
      "cell_type": "code",
      "execution_count": null,
      "metadata": {
        "id": "EU4T426f8P2B"
      },
      "outputs": [],
      "source": [
        "respuesta = requests.get('https://www.tutiempo.net/registros/saco/5-marzo-2019.html')\n",
        "type(respuesta)"
      ]
    },
    {
      "cell_type": "code",
      "execution_count": null,
      "metadata": {
        "id": "2TvHTaMl8ZPZ"
      },
      "outputs": [],
      "source": [
        "print(respuesta.text)"
      ]
    },
    {
      "cell_type": "markdown",
      "metadata": {
        "id": "_CpKSHpFIl84"
      },
      "source": [
        "Como podrán observar, el código interno de la página no es de fácil lectura. En  lo que sigue usaremos `BeautifulSoup` para extraer información útil de la página. \n",
        "\n",
        "En  realidad  `BeautifulSoup` es un submódulo de `bs4` y lo importaremos como tal. También debemos instalar `lxml` que es un módulo utilizado por  `BeautifulSoup` para analizar (*parsear* en la jerga computacional) la página. \n",
        "\n"
      ]
    },
    {
      "cell_type": "code",
      "execution_count": null,
      "metadata": {
        "id": "R5bslgR3Il85"
      },
      "outputs": [],
      "source": [
        "# pip install beautifulsoup4\n",
        "# pip install lxml\n",
        "# Ya están instalados en Colab. En un entorno propio deben instalarse manualmente.\n",
        "from bs4 import BeautifulSoup"
      ]
    },
    {
      "cell_type": "markdown",
      "metadata": {
        "id": "UtCCqBuRXmCj"
      },
      "source": [
        "Recordemos que con `requests` creamos el objeto `respuesta` que nos permite acceder a los datos de la página web  [https://www.tutiempo.net/registros/saco/5-marzo-2019.html](https://www.tutiempo.net/registros/saco/5-marzo-2019.html)\n",
        "\n",
        "Ahora creamos un objeto `BeautifulSoup` a partir de lo obtenido: "
      ]
    },
    {
      "cell_type": "code",
      "execution_count": null,
      "metadata": {
        "id": "v7ed2K_WIl87"
      },
      "outputs": [],
      "source": [
        "soup = BeautifulSoup(respuesta.content, \"lxml\")\n",
        "print(type(soup))"
      ]
    },
    {
      "cell_type": "markdown",
      "metadata": {
        "id": "UA1260sOIl88"
      },
      "source": [
        "Para ver mejor los contenidos  del archivo pordemos usar el  método `prettify`:"
      ]
    },
    {
      "cell_type": "code",
      "execution_count": null,
      "metadata": {
        "id": "8jAWML--Il88"
      },
      "outputs": [],
      "source": [
        "print(type(soup.prettify()))\n",
        "print(soup.prettify())"
      ]
    },
    {
      "cell_type": "markdown",
      "metadata": {
        "id": "_SGjZlvhIl88"
      },
      "source": [
        "Esto nos permite ver más claramente la estructura del archivo y encontrar las tags que nos interesan. \n",
        "\n",
        "No vamos a explicar aquí las capacidades de `BeautifulSoup`, simplemente daremos algunos ejemplos. El  estudiante interesado buscará algún tutorial sobre el tema (hay cientos de tutoriales sobre `BeautifulSoup`).\n",
        "\n"
      ]
    },
    {
      "cell_type": "markdown",
      "metadata": {
        "id": "SiE3vsWOIl89"
      },
      "source": [
        "Primero extraigamos los registros del día. Inspeccionando el documento vemos que hay una única tabla y esta tabla tiene los registros hora por hora. Un  código para extraer estos registros de un día determinado (en Córdoba) podría ser:"
      ]
    },
    {
      "cell_type": "code",
      "execution_count": null,
      "metadata": {
        "id": "ru-ZND6cIl8-"
      },
      "outputs": [],
      "source": [
        "def tabla_del_dia(dia, mes, año):\n",
        "    nombre_fecha = str(dia) + '-' + mes + '-' + str(año)\n",
        "    contenido_url = requests.get('https://www.tutiempo.net/registros/saco/' + nombre_fecha + '.html')\n",
        "    soup = BeautifulSoup(contenido_url.text, 'lxml') # parsea la página \n",
        "    tabla_dia = soup.find('table', {'style': 'width: 100%'}) # extrae la tabla (es la única con style=\"width: 100%\")\n",
        "    return tabla_dia # devuelve la tabla\n",
        "\n",
        "print(tabla_del_dia(29, 'mayo', 2021).prettify() )"
      ]
    },
    {
      "cell_type": "markdown",
      "metadata": {
        "id": "5LfMPHodIl8-"
      },
      "source": [
        "Finalmente, de la tabla podemos extraer el valor de las celdas: "
      ]
    },
    {
      "cell_type": "code",
      "execution_count": null,
      "metadata": {
        "id": "QyIgUTqLIl8_"
      },
      "outputs": [],
      "source": [
        "# Basado en: 1) https://stackoverflow.com/questions/17196018/extracting-table-contents-from-html-with-python-and-beautifulsoup\n",
        "# 2) https://www.kite.com/python/examples/4420/beautifulsoup-parse-an-html-table-and-write-to-a-csv\n",
        "\n",
        "# La información la extraemos de la estación metereológica SACO, correspondiente al Aeropuerto de Córdoba. \n",
        "\n",
        "def registro_fila_tabla(fila_tabla) -> list: # procesa una fila de la tabla, devuelve la lista con las mediciones registradas en esa fila\n",
        "    celdas_fila = fila_tabla.findAll('td')\n",
        "    registro = []\n",
        "    for celda in celdas_fila:                # recorre las celdas de la fila correspondiente a una toma de mediciones\n",
        "        registro.append(celda.text)\n",
        "    return registro\n",
        "\n",
        "def registros_tabla(tabla) -> list: # procesa una tabla, devuelve la lista de registros contenidos en esa tabla\n",
        "    registros = []\n",
        "    for fila_tabla in tabla.findAll('tr'):\n",
        "        registro = registro_fila_tabla(fila_tabla)\n",
        "        if len(registro) != 0:\n",
        "            registros.append(registro)\n",
        "    return registros\n",
        "\n",
        "def registros_dia(dia, mes, año) -> list:\n",
        "    tabla_dia =tabla_del_dia(dia, mes, año)\n",
        "    return registros_tabla(tabla_dia)\n",
        "\n",
        "\n",
        "# Ejemplo \n",
        "fecha_proc = registros_dia(29, 'mayo', 2021) \n",
        "print(type(fecha_proc))\n",
        "print(type(fecha_proc[0]))\n",
        "for w in fecha_proc:\n",
        "    print(w)"
      ]
    },
    {
      "cell_type": "markdown",
      "metadata": {
        "id": "eAsnvB0UIl8_"
      },
      "source": [
        "Algunos sitios restringen el  acceso por `requests` y  el texto que se devuelve no tiene contenido útil. Esto se soluciona haciendo un truco: "
      ]
    },
    {
      "cell_type": "code",
      "execution_count": null,
      "metadata": {
        "id": "GTmgHJdSIl9A"
      },
      "outputs": [],
      "source": [
        "url_base = 'https://www.promiedos.com.ar/verfecha.php?fecha='\n",
        "num_fecha =  '5'\n",
        "num_camp = '14'\n",
        "fecha = url_base + '\"' + str(num_fecha) + '_' + str(num_camp) + '\"' # es la url donde está la fecha\n",
        "headers = {'User-Agent': 'Mozilla/5.0 (Macintosh; Intel Mac OS X 10_10_1) AppleWebKit/537.36 (KHTML, like Gecko) Chrome/39.0.2171.95 Safari/537.36'}\n",
        "res = requests.get(fecha, headers=headers)\n",
        "soup = BeautifulSoup(res.content, \"lxml\")\n",
        "\n",
        "print(soup.prettify)"
      ]
    },
    {
      "cell_type": "markdown",
      "metadata": {
        "id": "1UiG9ZcuIl9A"
      },
      "source": [
        "## 3. Lectura y escritura de archivos JSON\n",
        "\n",
        "JSON, cuyo nombre corresponde a las siglas *JavaScript Object Notation* o *Notación de Objetos de JavaScript*, es un formato ligero de intercambio de datos, que resulta sencillo de leer y escribir para los programadores y simple de interpretar y generar para las máquinas.\n",
        "\n",
        "JSON es un formato de texto completamente independiente de lenguaje y puede ser interpretado y creado por los siguientes lenguajes:\n",
        "\n",
        "- C\n",
        "- C++\n",
        "- C#\n",
        "- Java\n",
        "- JavaScript\n",
        "- Perl\n",
        "- Python\n",
        "- etc. \n",
        "\n",
        "Muchos lenguajes de programación proporcionan métodos para analizar una cadena de texto con este formato en un objeto nativo y viceversa. \n",
        "\n",
        "Pese a su nombre, no es necesariamente parte de JavaScript, de hecho, es un estándar basado en texto plano para el intercambio de datos, por lo que se usa en muchos sistemas que requieren mostrar o enviar información para ser interpretada por otros sistemas.\n",
        "\n",
        "Una de las características de JSON, al ser un formato que es independiente de cualquier lenguaje de programación, es que los servicios que comparten información por este método no necesitan hablar el mismo idioma, es decir, el emisor puede ser Java y el receptor Python, pues cada uno tiene su propia librería para codificar y decodificar cadenas en este formato. \n",
        "\n"
      ]
    },
    {
      "cell_type": "markdown",
      "metadata": {
        "id": "lFjbOX9dhqWt"
      },
      "source": [
        "Veamos como leer y escribir archivos json:"
      ]
    },
    {
      "cell_type": "code",
      "execution_count": null,
      "metadata": {
        "id": "wIUb-MzXIl9B"
      },
      "outputs": [],
      "source": [
        "import json\n",
        "\n",
        "with open('./sample_data/anscombe.json', 'r') as f:\n",
        "    data = f.read() # data es una str\n",
        "\n",
        "archivo = json.loads(data) # archivo es (en este caso) una lista de diccionarios\n",
        "print(type(archivo))\n",
        "print(type(archivo[0]))\n",
        "\n",
        "print(archivo)\n",
        "\n",
        "print(archivo[0]['X'])\n",
        "    \n",
        "\n",
        "for item in archivo:\n",
        "    print(item['X']) "
      ]
    },
    {
      "cell_type": "markdown",
      "metadata": {
        "id": "_bU2MV2eIl9B"
      },
      "source": [
        "Lo notable de JSON  es que los archivos de texto en formato JSON son muy parecidos a los diccionarios y listas de Python,  con una sintaxis idéntica. \n",
        "\n",
        "La operación inversa a `json.loads()` es `json.dumps()`:  transforma un diccionario o lista en una cadena con  estructura JSON.  "
      ]
    },
    {
      "cell_type": "code",
      "execution_count": null,
      "metadata": {
        "id": "kK5D4Fow3yEo"
      },
      "outputs": [],
      "source": [
        "import json \n",
        "u = {'a': {2 : 0 }, 'b': {1 : 5 }}\n",
        "print (type(u), u)\n",
        "print(type(str(u)), str(u))\n",
        "x = json.dumps({'a': {2 : 0 }, 'b': {1 : 5 }})\n",
        "print(type(x), x)\n",
        "y = json.loads(x)\n",
        "print(type(y), y)\n",
        "\n",
        "# observar que el diccionario original cambia las claves numérica de TODOS los diccionarios a tipo str, incluso los diccionarios que son valores de otro diccionario.\n",
        "# Los valores numéricos se mantienen numéricos. Si un valor es un lista,  se mantiene lista."
      ]
    },
    {
      "cell_type": "markdown",
      "metadata": {
        "id": "Jli-TtyZ3zPw"
      },
      "source": [
        "*Ejemplo* Tenemos una lista de diccionarios y queremos escribir uno por línea en un archivo, para que luego sea leido usando `json.loads()`. En  la celda de código siguiente hacemos un ejemplo. "
      ]
    },
    {
      "cell_type": "code",
      "execution_count": null,
      "metadata": {
        "id": "kYbT-pj5xCwC"
      },
      "outputs": [],
      "source": [
        "import json \n",
        "import random\n",
        "\n",
        "# Creamos una lista con 100 diccionarios tipo {'x' : entero al azar, \n",
        "# 'y' : entero al azar, nº de orden en la lista : [entero al azar, entero al azar] }\n",
        "# Los guardaremos en el archivo prueba.txt, uno en cada linea. \n",
        "\n",
        "lista_dic = []\n",
        "for i in range(100):\n",
        "  x, y, w0, w1 = random.randint(1, 1000), random.randint(1, 1000), random.randint(1, 1000), random.randint(1, 1000)\n",
        "  lista_dic.append({ 'x' : x, 'y' : y, i : [w0 , w1]})\n",
        "\n",
        "# Guardamos en el archivo prueba.txt, línea por línea el diccionario.\n",
        "f = open('prueba.txt', 'w')\n",
        "for i in range(len(lista_dic)):\n",
        "  f.write(json.dumps(lista_dic[i])+'\\n') # \\n pasa de renglón\n",
        "f.close()\n",
        "\n",
        "# Revisar el archivo prueba.txt\n",
        "\n",
        "# Para leer debemos hacerlo también linea por linea, pues el archivo \n",
        "# no tiene la estructura lógica de un diccionario o lista \n",
        "# (debería abrir con { o [ y cerrar con } o  ],  respectivamente)\n",
        "\n",
        "# Ahora haremos una lista de diccionarios a partir de prueba.txt\n",
        "\n",
        "lista_dic2 = []\n",
        "f = open('prueba.txt', 'r')\n",
        "for linea in f:\n",
        "  lista_dic2.append(json.loads(linea))\n",
        "f.close()\n",
        "\n",
        "print(type(lista_dic2[3]), lista_dic2[3]) # comprobamos que cada coordenada \n",
        "# es un diccionario\n",
        "\n",
        "# Importante:  las claves numéricas pasaron a str. Los valores matienen su tipo (int, list, etc)\n",
        "print(lista_dic[3][3]) \n",
        "print(lista_dic2[3]['3']) # No estaría bien  print(lista_dic2[3][3]) \n"
      ]
    },
    {
      "cell_type": "markdown",
      "metadata": {
        "id": "iEYYnfh_UMud"
      },
      "source": [
        "*Ejemplos de cosas que  **NO** funcionan.*\n"
      ]
    },
    {
      "cell_type": "code",
      "execution_count": null,
      "metadata": {
        "id": "_CkqukDhUaqC"
      },
      "outputs": [],
      "source": [
        "import json\n",
        "# Si hacemos json.dumps()  de una string, Python lo hace, pero no es el resultado que esperamos.\n",
        "x = json.dumps(\"{'a': {2 : 0 }, 'b': {1 : 5 }\")\n",
        "print(type(x), x)\n",
        "y = json.loads(x)\n",
        "print(type(y), y) # json.loads() en este caso devuelve una string!\n",
        "# y es una string que \"parece\" un diccionario. Pero no lo es. \n",
        "# z = json.loads(y) #  esto directamente da error\n"
      ]
    },
    {
      "cell_type": "markdown",
      "metadata": {
        "id": "NZOXLKbUV_d-"
      },
      "source": [
        "**Recomendación:** Usar `json.loads()` y `json.dumps()` de forma prolija y de acuerdo a los lineamientos escritos más arriba. Quizás haciendo aguna  \"magia\" con los `replace()` se pueda arreglar la celda de código anterior, pero es mejor no hacerlo."
      ]
    },
    {
      "cell_type": "markdown",
      "metadata": {
        "id": "M-3IvYEkwEK_"
      },
      "source": [
        "## 4. Uso de la API de NOAA\n",
        "\n",
        "La Oficina Nacional de Administración Oceánica y Atmosférica (National Oceanic and Atmospheric Administration, NOAA) es una agencia científica del Departamento de Comercio de los Estados Unidos cuyas actividades se centran en monitorear las condiciones de los océanos y la atmósfera. \n",
        "\n",
        "El NOAA ofrece distintos *datasets* (conjuntos de datos estructurados) sin limitaciones. Los datos puedes ser bajados directamente del sitio web https://www.noaa.gov/ o, alternativamente, accedidos por API. \n",
        "\n",
        "En esta sección accederemos a los datasets utilizando la API. Para utilizar la API se debe solicitar  un *token* al NOAA (ver *Referencias*). El token es una cadena de caracteres que funciona como id y password al mismo tiempo. \n",
        "\n",
        "Si al comienzo ponemos \n",
        "\n",
        "    import requests\n",
        "    token = 'nuestro token'\n",
        "    my_headers = {'token' : token}\n",
        "    response = requests.get('https://www.ncdc.noaa.gov/cdo-web/api/v2/datasets', headers=my_headers)\n",
        "    respuesta = response.json()\n",
        "    resultados = respuesta['results'] # Datasets disponible\n",
        "    for w in resultados:\n",
        "      pass\n",
        "      print(w['uid'],':',w['name'])\n",
        "\n",
        "obtendremos el `id` de cada uno de los datasets ofrecidos por el NOAA via API y una breve descripción de los mismos. En particular,  son interesantes:\n",
        "\n",
        "    GHCND : Daily Summaries\n",
        "    GSOM : Global Summary of the Month\n",
        "    GSOY : Global Summary of the Year\n",
        "\n",
        "La API permite una variedad de consultas, por ejemplo\n",
        "\n",
        "    response = requests.get('https://www.ncdc.noaa.gov/cdo-web/api/v2/datasets?locationid=CITY:US390029', headers=my_headers)\n",
        "    respuesta = response.json()\n",
        "\n",
        "nos devuelve todos los datasets disponibles para determinada localidad. \n",
        "\n",
        "También podemos obtener, por ejemplo, datos climatológicos de una determinada localidad durante un período determinado de tiempo: la consulta\n",
        "\n",
        "    response = requests.get('https://www.ncdc.noaa.gov/cdo-web/api/v2/data?datasetid=GHCND&stationid=GHCND:AR000087344&units=metric&startdate=2021-05-01&enddate=2021-05-31', headers=my_headers)\n",
        "    respuesta = response.json()\n",
        "    resultados = respuesta['results']\n",
        "\n",
        "nos devuelve un sumario de temperaturas y precipitaciones diarias en el mes de mayo de la estación meteorológica del Aeropuerto de Córdoba.  \n",
        "\n",
        "En las referencias a continuación se encuentra como obtener el token, la descripción de la API, la lista de estaciones meteorológicas y mucha más información. Luego viene una celda de código con ejemplos. \n",
        "\n",
        "\n",
        "\n",
        "*Referencias*\n",
        "- https://www.ncdc.noaa.gov/ National Centers for Environmental Information (37 petabytes)\n",
        "- https://www.ncei.noaa.gov/support/access-data-service-api-user-documentation\n",
        "- Para bajar estaciones meteorolgógicas:  https://www1.ncdc.noaa.gov/pub/data/ghcn/daily/ghcnd-stations.txt\n",
        "- https://www.ncdc.noaa.gov/ghcn-daily-description\n",
        "- Para bajar manual de ghcn-daily: https://www1.ncdc.noaa.gov/pub/data/ghcn/daily/readme.txt\n",
        "- Para pedir token: https://www.ncdc.noaa.gov/cdo-web/token\n",
        "- Climate Data Online - Web Services Documentation: https://www.ncdc.noaa.gov/cdo-web/webservices/v2#gettingStarted\n",
        "- Manual genérico para uso de APIs en Python: https://www.nylas.com/blog/use-python-requests-module-rest-apis/\n",
        "\n",
        "\n"
      ]
    },
    {
      "cell_type": "code",
      "execution_count": null,
      "metadata": {
        "id": "tY53R0m7Il9E"
      },
      "outputs": [],
      "source": [
        "import requests\n",
        "token = 'LsJXpYprYMzOKjMtqAlDmMUzwGelIQDf'\n",
        "my_headers = {'token' : token}\n",
        "# Ejemplo: datasets disponibles en NOAA\n",
        "response = requests.get('https://www.ncdc.noaa.gov/cdo-web/api/v2/datasets', headers=my_headers)\n",
        "respuesta = response.json()\n",
        "\n",
        "resultados = respuesta['results'] # Datasets disponibles\n",
        "\n",
        "for w in resultados:\n",
        "  pass\n",
        "  print(w['id'],':',w['name'])\n"
      ]
    },
    {
      "cell_type": "code",
      "source": [
        "# Ejemplo: datasets  disponible en la ciudad US390029\n",
        "response = requests.get('https://www.ncdc.noaa.gov/cdo-web/api/v2/datasets?locationid=CITY:US390029', headers=my_headers)\n",
        "respuesta = response.json()\n",
        "print(respuesta)\n"
      ],
      "metadata": {
        "id": "FUM2qg7YfAIq"
      },
      "execution_count": null,
      "outputs": []
    },
    {
      "cell_type": "code",
      "source": [
        "# Datos climatológicos diarios (temperatura máxima, temperatura mínima y precipitaciones) en un período de tiempo en\n",
        "# la estación meteorológica  AR000087344 (Aeropuerto de Córdoba) \n",
        "fecha_ini, fecha_fin = '2021-05-28', '2021-05-29'\n",
        "response = requests.get('https://www.ncdc.noaa.gov/cdo-web/api/v2/data?datasetid=GHCND&stationid=GHCND:AR000087344&limit=1000&units=metric&startdate='+fecha_ini+'&enddate='+fecha_fin+'', headers=my_headers)\n",
        "respuesta = response.json()\n",
        "resultados = respuesta['results']\n",
        "print(response.json())"
      ],
      "metadata": {
        "id": "GjGoJbLafDX6"
      },
      "execution_count": null,
      "outputs": []
    },
    {
      "cell_type": "code",
      "source": [
        "for w in resultados:\n",
        "  print(w)\n",
        "# Observación 1. Cuidado: no necesariamente todos los día tienen todos los datos.\n",
        "# Observación 2. Por defecto la API  recupera 25 registros por llamada. En la llamada anterior pusimos 'limit=1000'\n",
        "#                para recuperar hasta 1000 registros por llamada. La API no permite más. "
      ],
      "metadata": {
        "id": "PnKwmTOufJPl"
      },
      "execution_count": null,
      "outputs": []
    },
    {
      "cell_type": "markdown",
      "metadata": {
        "id": "4MmiuOvXw86d"
      },
      "source": [
        "Observar que cada elemento de  `resultados` es un diccionario y en ese diccionario  estan las claves`date`, `datatype` y `value`. \n",
        "- `date` indica el día. \n",
        "- Si el `datatype` es `TMAX`,  entonces `value` indica la temperatura máxima del día.\n",
        "- Si el `datatype` es `TMIN`,  entonces `value` indica la temperatura mínima del día.\n",
        "- Si el `datatype` es `TAVG`,  entonces `value` indica la temperatura promedio del día.\n",
        "- Si el `datatype` es `PRCP`,  entonces `value` indica la precipitación (en mm) de ese día. "
      ]
    }
  ],
  "metadata": {
    "colab": {
      "collapsed_sections": [],
      "name": "Clase_del_2022_06_01_Input_y_output_parte_2.ipynb",
      "provenance": []
    },
    "interpreter": {
      "hash": "df45a1d593e760cb2f2d0116876d0d9854c557dc207c92c5b1e029045d5f17a5"
    },
    "kernelspec": {
      "display_name": "Python 3.9.6 64-bit",
      "language": "python",
      "name": "python3"
    },
    "language_info": {
      "codemirror_mode": {
        "name": "ipython",
        "version": 3
      },
      "file_extension": ".py",
      "mimetype": "text/x-python",
      "name": "python",
      "nbconvert_exporter": "python",
      "pygments_lexer": "ipython3",
      "version": "3.9.6"
    }
  },
  "nbformat": 4,
  "nbformat_minor": 0
}