{
  "nbformat": 4,
  "nbformat_minor": 0,
  "metadata": {
    "colab": {
      "name": "AyP - Clase del 2022-03-30 - Condicionales y ciclos.ipynb",
      "provenance": [],
      "collapsed_sections": []
    },
    "kernelspec": {
      "name": "python3",
      "display_name": "Python 3"
    },
    "language_info": {
      "name": "python"
    }
  },
  "cells": [
    {
      "cell_type": "markdown",
      "source": [
        "# Condicionales y ciclos\n",
        " Veremos brevemente la sintaxis de condicionales y ciclos y  luego haremos un ejemplo de dibujo con la tortuga relativamente complicado. "
      ],
      "metadata": {
        "id": "Zda19wT79cyq"
      }
    },
    {
      "cell_type": "markdown",
      "source": [
        "## Condicionales\n",
        "\n",
        "Las instrucciones condicionales son las que nos permiten decidir que ejecutar según alguna condición lógica. Aqui veremos un ejemplo y no profundizaremos o formalizaremos demasiado. Tendremos una idea de como utilizar una instrucción condicional."
      ],
      "metadata": {
        "id": "aE5EHsPj9XKR"
      }
    },
    {
      "cell_type": "markdown",
      "source": [
        "Por ejemplo, supongamos que deseamos definir una función que tiene como argumento un número entero y devuelve:\n",
        "\n",
        "- si el número es mayor o igual que 100 devuelve el número menos 100,\n",
        "- si el número es no negativo y  menor que 100  devuelve el número multiplicado por 2, finalmente\n",
        "- si el número es negativo devuelve el opuesto. \n",
        "\n",
        "La función no parece ser muy interesante, pero nos servirá para ejemplificar el uso de condicionales. \n",
        "\n",
        "Primero, hagamos una función que no hace nada pero plantea la función que servirá de base para la función definitiva."
      ],
      "metadata": {
        "id": "d3Q2sgtw97JU"
      }
    },
    {
      "cell_type": "code",
      "source": [
        "def ejemplo_condicional(n: int):\n",
        "    # pre: n  es entero\n",
        "    # post: si  n >= 100 devuelve n - 100,  si 0 <= n < 100  devuelve 2 * n, si n < 0 devuelve -n. \n",
        "    pass\n"
      ],
      "metadata": {
        "id": "5Xvqpa3HAcDQ"
      },
      "execution_count": null,
      "outputs": []
    },
    {
      "cell_type": "markdown",
      "source": [
        "En este caso, escribir la postcondición en forma algebraica nos da muchos indicios de como hacer la función definitiva:"
      ],
      "metadata": {
        "id": "nPbTcCqdBKUF"
      }
    },
    {
      "cell_type": "code",
      "source": [
        "def ejemplo_condicional(n: int):\n",
        "    # pre: n  es entero\n",
        "    # post: si  n >= 100 devuelve n - 100,  si 0 <= n < 100  devuelve 2 * n, si n < 0 devuelve -n. \n",
        "    if n <= 0:\n",
        "        return -n\n",
        "    elif 0 <= n < 100:\n",
        "        return 2 * n\n",
        "    else:\n",
        "        return n - 100"
      ],
      "metadata": {
        "id": "pWqFE33vBc6O"
      },
      "execution_count": null,
      "outputs": []
    },
    {
      "cell_type": "markdown",
      "source": [
        "Si testeamos la función veremos que no hay problema:"
      ],
      "metadata": {
        "id": "p4J1Q-D_B5Ts"
      }
    },
    {
      "cell_type": "code",
      "source": [
        "print(ejemplo_condicional(-50))\n",
        "print(ejemplo_condicional(60))\n",
        "print(ejemplo_condicional(78))\n",
        "print(ejemplo_condicional(150))\n",
        "print(ejemplo_condicional(1050))\n"
      ],
      "metadata": {
        "id": "7d20E2hSCDP8"
      },
      "execution_count": null,
      "outputs": []
    },
    {
      "cell_type": "markdown",
      "source": [
        "En  general la instrucción condicional tiene la siguiente estructura\n",
        "\n",
        "\n",
        "```\n",
        "if condición1:\n",
        "   <intrucciones identadas>\n",
        "```\n",
        "o\n",
        "\n",
        "```\n",
        "if condición1:\n",
        "   <intrucciones identadas>\n",
        "else:\n",
        "   <intrucciones identadas> \n",
        "```\n",
        "o\n",
        "\n",
        "```\n",
        "if condición1:\n",
        "   <intrucciones identadas>\n",
        "elif condicion2:\n",
        "   <intrucciones identadas>\n",
        "elif condicion3:\n",
        "   <intrucciones identadas>\n",
        ".\n",
        ".\n",
        ".\n",
        "else:\n",
        "   <intrucciones identadas> \n",
        "```\n"
      ],
      "metadata": {
        "id": "u2fXhVP1CzG_"
      }
    },
    {
      "cell_type": "markdown",
      "source": [
        "Respecto al ejemplo anterior, haremos dos observacines.\n",
        "\n",
        "La primera observación  es que no se recomienda poner `return` en el \"medio\"  de la función. La práctica recomendable es poner un solo `return` y que esté en la última línea de código de la función. De esta manera, la función es más legible y portable. El `return` detiene la ejecución de la función y en general no es conveniente \"salir\" de la función en un paso intermedio. \n",
        "\n",
        "En el ejemplo:"
      ],
      "metadata": {
        "id": "lF5fh4XQD7BK"
      }
    },
    {
      "cell_type": "code",
      "source": [
        "def ejemplo_condicional(n: int):\n",
        "    # pre: n  es entero\n",
        "    # post: si  n >= 100 devuelve n - 100,  si 0 <= n < 100  devuelve 2 * n, si n < 0 devuelve -n. \n",
        "    resultado = 0\n",
        "    if n <= 0:\n",
        "        resultado = -n\n",
        "    elif 0 <= n < 100:\n",
        "        resultado = 2 * n\n",
        "    else:\n",
        "        resultado = n - 100\n",
        "    return resultado"
      ],
      "metadata": {
        "id": "HG8qAixTEftc"
      },
      "execution_count": null,
      "outputs": []
    },
    {
      "cell_type": "markdown",
      "source": [
        "En general agregando variables podemos hacer  que haya un solo `return` en la función. \n",
        "\n",
        "La segunda observación  es que suele haber varias formas logicamente equivalente de escribir las  funciones condicionales. Por ejemplo:"
      ],
      "metadata": {
        "id": "5oxArTw7E0YX"
      }
    },
    {
      "cell_type": "code",
      "source": [
        "def ejemplo_condicional(n: int):\n",
        "    # pre: n  es entero\n",
        "    # post: si  n >= 100 devuelve n - 100,  si 0 <= n < 100  devuelve 2 * n, si n < 0 devuelve -n. \n",
        "    resultado = 0\n",
        "    if n <= 0:\n",
        "        resultado = -n\n",
        "    elif 0 <= n < 100:\n",
        "        resultado = 2 * n\n",
        "    elif n >= 100:\n",
        "        resultado = n - 100\n",
        "    return resultado"
      ],
      "metadata": {
        "id": "XWbpkhUIFNvy"
      },
      "execution_count": null,
      "outputs": []
    },
    {
      "cell_type": "code",
      "source": [
        "ejemplo_condicional(200)"
      ],
      "metadata": {
        "id": "N6P9G5pYwDvM"
      },
      "execution_count": null,
      "outputs": []
    },
    {
      "cell_type": "markdown",
      "source": [
        "## El ciclo `while`\n",
        "\n",
        "El ciclo  `while` (es decir \"mientras\") es una generalizazacón del `if`, pues repite una serie de instrucciones *mientras* se cumple cierta condición. Es decir\n",
        "\n",
        "```\n",
        "while condicion:\n",
        "    <cuerpo del while (una serie de instrucciones identadas)>\n",
        "```\n",
        "ejecuta el cuerpo del `while` mientras  `condición` sea verdadera. Cuando `condicion` es falsa,  no se ejecuta el cuerpo del  `while` y se pasa a la instrucción siguiente.\n",
        "\n",
        "Un  `while` perfectamente puede simular un `for`. Por ejemplo  \n",
        "\n"
      ],
      "metadata": {
        "id": "VUSJ4CvbFdA0"
      }
    },
    {
      "cell_type": "code",
      "source": [
        "for i in range(10):\n",
        "    print(i)"
      ],
      "metadata": {
        "id": "9xpNwjYlHq1_"
      },
      "execution_count": null,
      "outputs": []
    },
    {
      "cell_type": "markdown",
      "source": [
        "es lo mismo que hacer:"
      ],
      "metadata": {
        "id": "xxNK9XjuHvo7"
      }
    },
    {
      "cell_type": "code",
      "source": [
        "i = 0\n",
        "while i < 10:\n",
        "    print(i)\n",
        "    i = i + 1"
      ],
      "metadata": {
        "id": "DJn9pm8eHyEk"
      },
      "execution_count": null,
      "outputs": []
    },
    {
      "cell_type": "markdown",
      "source": [
        "En estos casos se prefiere el `for`, pues es más compacto y fácil de leer. \n",
        "\n",
        "Sin  embargo,  hay situaciones donde debemos hacer iteraciones pero no conocemos a priori la cantidad de iteraciones que debemos hacer. \n",
        "\n",
        "Por ejemplo,  dado $m$  entero positivo calculemos el primer $n$ entero tal que $2^n \\ge m$. Vemos los primeros casos:\n",
        "\n",
        "- Si $m=1$, $n=0$, pues $2^0 = 1$,\n",
        "- si $m=2$, $n=1$, pues $2^1 = 2$, \n",
        "- si $m=3$, $n=2$, pues $2^2 = 4$, \n",
        "- si $m=4$, $n=2$, \n",
        "- si $m=5$, $n=3$, pues $2^3 = 8$, \n",
        "- si $m=6$, $n=3$, \n",
        "- si $m=7$, $n=3$, \n",
        "- si $m=8$, $n=3$,\n",
        "- si $m=9$, $n=4$, pues $2^4 = 16$,\n",
        "- etc.  \n",
        "\n",
        "Obviamente, no tenemos una idea clara de como calcular  $n$ con un `for`,  es más no hay forma en Python de encontrar $n$ usando `for`.\n",
        "\n",
        "Encontremos una solución. Primero escribamos la función base:"
      ],
      "metadata": {
        "id": "xvHaKCcRIA3s"
      }
    },
    {
      "cell_type": "code",
      "source": [
        "def ejemplo_mientras(m: int):\n",
        "    # pre: m entero, m >= 0\n",
        "    # post: devuelve n tal 2**(n -1) < m y 2**n >= m\n",
        "    n = 0\n",
        "    return n"
      ],
      "metadata": {
        "id": "8Hn2wBqmKv9P"
      },
      "execution_count": null,
      "outputs": []
    },
    {
      "cell_type": "markdown",
      "source": [
        "La postcondición nos ayuda a hacer la función:"
      ],
      "metadata": {
        "id": "W7HUHNxvLX8i"
      }
    },
    {
      "cell_type": "code",
      "source": [
        "def ejemplo_mientras(m: int):\n",
        "    # pre: m entero, m >= 0\n",
        "    # post: devuelve n tal 2**(n -1) < m y 2**n >= m\n",
        "    n = 0\n",
        "    while 2**n < m: # la condición se deja de cumplir en el primer n tq 2**n >= m\n",
        "        n = n + 1 \n",
        "    return n"
      ],
      "metadata": {
        "id": "laTboKvEKmBc"
      },
      "execution_count": null,
      "outputs": []
    },
    {
      "cell_type": "markdown",
      "source": [
        "Probemos la función:"
      ],
      "metadata": {
        "id": "beogzNWVMExv"
      }
    },
    {
      "cell_type": "code",
      "source": [
        "for i in range(10):\n",
        "    print(i, ejemplo_mientras(i))"
      ],
      "metadata": {
        "id": "Mm6HGgRDMJP6"
      },
      "execution_count": null,
      "outputs": []
    },
    {
      "cell_type": "markdown",
      "source": [
        "Hemos verificado que funciona perfectamente. Aquí también debemos hacer una observación: pese a que el código  es  totalmente correcto, en cada iteración se calcula $2^n$ lo cual no es necesario. Recordemos que $2^n = 2^{n-1}\\cdot 2$ para $n >0$ (y $2^0=1$),  entonces, pensando recursivamente, podemos modificar el código de la siguiente manera:"
      ],
      "metadata": {
        "id": "R1GwK6ByMv16"
      }
    },
    {
      "cell_type": "code",
      "source": [
        "def ejemplo_mientras_r(m: int):\n",
        "    # pre: m entero, m >= 0\n",
        "    # post: devuelve n tal 2**(n -1) < m y 2**n >= m\n",
        "    n = 0\n",
        "    k = 1\n",
        "    while k < m:\n",
        "        n = n + 1\n",
        "        k = k * 2 \n",
        "    return n"
      ],
      "metadata": {
        "id": "e08HEhapNe9B"
      },
      "execution_count": null,
      "outputs": []
    },
    {
      "cell_type": "markdown",
      "source": [
        "y el resultado es el mismo"
      ],
      "metadata": {
        "id": "dmvHm5e5Nzba"
      }
    },
    {
      "cell_type": "code",
      "source": [
        "for i in range(10):\n",
        "    print(i, ejemplo_mientras_r(i))"
      ],
      "metadata": {
        "id": "Ui-yVToLN1pR"
      },
      "execution_count": null,
      "outputs": []
    },
    {
      "cell_type": "markdown",
      "source": [
        "La seguna forma de escribir la función es mucho más eficiente que la primera, pero a esta altura se pretende que se escriba código correcto y no mucho más.  "
      ],
      "metadata": {
        "id": "3byjckehOAJC"
      }
    },
    {
      "cell_type": "markdown",
      "source": [
        "## Ejemplo de condicionales y ciclos en `turtle`\n",
        "\n",
        "Haremos un ejemplo, relativamente complejo, que utilizará condicionales y ciclos para dibujar. \n",
        "\n",
        "Primero instalamos `turtle`,  lo importamos  y también importamos la biblioteca `random`, pues nos hará falta."
      ],
      "metadata": {
        "id": "fbJjmppyObQn"
      }
    },
    {
      "cell_type": "code",
      "execution_count": null,
      "metadata": {
        "id": "KfEiwuw49PXX"
      },
      "outputs": [],
      "source": [
        "!pip3 install ColabTurtle"
      ]
    },
    {
      "cell_type": "code",
      "source": [
        "from ColabTurtle.Turtle import *  \n",
        "from random import *"
      ],
      "metadata": {
        "id": "IlVWqkoJ9mmU"
      },
      "execution_count": null,
      "outputs": []
    },
    {
      "cell_type": "markdown",
      "source": [
        "Deginamos la función para inicializar la pizarra pareceida a lo que habíamos hecho en la clase pasada."
      ],
      "metadata": {
        "id": "13ThgQG_PNcN"
      }
    },
    {
      "cell_type": "code",
      "source": [
        "def pizarra_vacia(velocidad = 5, grosor_lapiz = 5):\n",
        "    # inicializa la pizarra con velocidad 5 y ancho del lápiz igual 5\n",
        "    initializeTurtle()\n",
        "    hideturtle()\n",
        "    bgcolor('white')\n",
        "    color('black')\n",
        "    speed(velocidad)\n",
        "    pensize(grosor_lapiz)"
      ],
      "metadata": {
        "id": "MkJpJCyh-Iu9"
      },
      "execution_count": null,
      "outputs": []
    },
    {
      "cell_type": "code",
      "source": [
        "pizarra_vacia(grosor_lapiz = 10)\n",
        "forward(50)"
      ],
      "metadata": {
        "id": "gRJYFJvS9MA1"
      },
      "execution_count": null,
      "outputs": []
    },
    {
      "cell_type": "markdown",
      "source": [
        "**Observación.** Si necesitamos saber las funciones de un módulo o biblioteca podemos usar la función `dir` (después de importar el módulo)."
      ],
      "metadata": {
        "id": "f1-xup4rPeLD"
      }
    },
    {
      "cell_type": "code",
      "source": [
        "import ColabTurtle.Turtle\n",
        "dir(ColabTurtle.Turtle)"
      ],
      "metadata": {
        "id": "kIAuVVPc9x97"
      },
      "execution_count": null,
      "outputs": []
    },
    {
      "cell_type": "markdown",
      "source": [
        "En algunos casos el nombre de la función nos indica lo que hace, en otros caso debemos ver la documentación "
      ],
      "metadata": {
        "id": "-vUXsD7IQaVD"
      }
    },
    {
      "cell_type": "markdown",
      "source": [
        "### La mesa de billar\n",
        "\n",
        "Haremos la simulación de una bola de billar rebotando contra las paredes de la mesa. En nuestro caso la mesa tiene  800 x 500 pixeles (así es por defecto turtle) y pondremos la bola de billar de 10 pixeles."
      ],
      "metadata": {
        "id": "Tg7Jnn3eHpV6"
      }
    },
    {
      "cell_type": "code",
      "source": [
        "pizarra_vacia(grosor_lapiz = 10)\n",
        "setheading(90)\n",
        "forward(50)"
      ],
      "metadata": {
        "id": "3BboX2hAIOUr"
      },
      "execution_count": null,
      "outputs": []
    },
    {
      "cell_type": "markdown",
      "source": [
        "Elegiremos al azar un punto cualquiera de la mesa y arrojaremos una bola de billar con una dirección también elegida  al azar. Para ello utilizaremos la función `randint()` de la biblioteca `random`. "
      ],
      "metadata": {
        "id": "bI1KoX6xIcWq"
      }
    },
    {
      "cell_type": "markdown",
      "source": [
        "La instrucción `randint(n, m)` devuelve un número al azar entre `n`y `m`. Probemos:"
      ],
      "metadata": {
        "id": "jwNKZLR8JItj"
      }
    },
    {
      "cell_type": "code",
      "source": [
        "for _ in range(20):\n",
        "    print(randint(1, 5), end = ', ')"
      ],
      "metadata": {
        "id": "zA8YuM_6JYPN"
      },
      "execution_count": null,
      "outputs": []
    },
    {
      "cell_type": "markdown",
      "source": [
        "Ahora veremos como definir la función. Comenzaremos con una función que no hace nada y la iremos mejorando hasta que haga lo que nosotros queremos."
      ],
      "metadata": {
        "id": "28UZ_uAEOPJV"
      }
    },
    {
      "cell_type": "code",
      "source": [
        "def bola_de_billar(n: int):\n",
        "    # pre: n de 1 a 12\n",
        "    # post: dibuja la trayectoria de una bola de billar con velocidad n que parte de (pos_x, pos_y)\n",
        "    #       con direccion direc. Los trs números pos_x, pos_y, direc son elegidos al azar\n",
        "    pass #instrucción que no hace nada (necesaria aqui por sintaxis)  "
      ],
      "metadata": {
        "id": "TP6uyO7rOaWI"
      },
      "execution_count": null,
      "outputs": []
    },
    {
      "cell_type": "markdown",
      "source": [
        "La función anterior no devuelve error pero está lejos de hacer lo que nosotros queremos. \n",
        "\n",
        "Podemos primero darle la velocidad adecuada a la bola:"
      ],
      "metadata": {
        "id": "_iVqhNgNP5nD"
      }
    },
    {
      "cell_type": "code",
      "source": [
        "def bola_de_billar(n: int):\n",
        "    # pre: n de 1 a 12\n",
        "    # post: dibuja la trayectoria de una bola de billar con velocidad n que parte de (pos_x, pos_y)\n",
        "    #       con direccion direc. Los trs números pos_x, pos_y, direc son elegidos al azar\n",
        "    speed(n) "
      ],
      "metadata": {
        "id": "gVvIP6nmQAZo"
      },
      "execution_count": null,
      "outputs": []
    },
    {
      "cell_type": "markdown",
      "source": [
        "Ahora, es claro que si tenemos que elegir unas coordenadas al azar en la ventana debemos hacer algo así:"
      ],
      "metadata": {
        "id": "FBgPSRAdKEWv"
      }
    },
    {
      "cell_type": "code",
      "source": [
        "pos_x, pos_y = randint(1, 800), randint(1,500)"
      ],
      "metadata": {
        "id": "FRKT0_QeKQDk"
      },
      "execution_count": null,
      "outputs": []
    },
    {
      "cell_type": "markdown",
      "source": [
        "y luego"
      ],
      "metadata": {
        "id": "hHfnj4xc8CmF"
      }
    },
    {
      "cell_type": "code",
      "source": [
        "setposition(pos_x, pos_y) # ubica la tortuga en (pos_x, pos_y)"
      ],
      "metadata": {
        "id": "pIj3H33r8EOy"
      },
      "execution_count": null,
      "outputs": []
    },
    {
      "cell_type": "markdown",
      "source": [
        "Agregamos esto a la función:"
      ],
      "metadata": {
        "id": "h4xRbP7sPbi_"
      }
    },
    {
      "cell_type": "code",
      "source": [
        "def bola_de_billar(n: int):\n",
        "    # pre: n de 1 a 12\n",
        "    # post: dibuja la trayectoria de una bola de billar con velocidad n que parte de (pos_x, pos_y)\n",
        "    #       con direccion direc. Los trs números pos_x, pos_y, direc son elegidos al azar\n",
        "    speed(n)\n",
        "    pos_x, pos_y = randint(1, 800), randint(1,500)\n",
        "    setposition(pos_x, pos_y) # ubica la tortuga en (pos_x, pos_y)"
      ],
      "metadata": {
        "id": "VFb9SXaqPehT"
      },
      "execution_count": null,
      "outputs": []
    },
    {
      "cell_type": "markdown",
      "source": [
        "Si queremos elegir una dirección de partida al azar, podemos hacer algo así:"
      ],
      "metadata": {
        "id": "EcUbsm4zKhF8"
      }
    },
    {
      "cell_type": "code",
      "source": [
        "direc = randint(1, 360)\n",
        "setheading(direc) # la tortuga apunta a direc"
      ],
      "metadata": {
        "id": "gyN6ssImKmzS"
      },
      "execution_count": null,
      "outputs": []
    },
    {
      "cell_type": "markdown",
      "source": [
        "Lo  agregamos a la función:"
      ],
      "metadata": {
        "id": "ytmQoZLlPml4"
      }
    },
    {
      "cell_type": "code",
      "source": [
        "def bola_de_billar(n: int):\n",
        "    # pre: n de 1 a 12\n",
        "    # post: dibuja la trayectoria de una bola de billar con velocidad n que parte de (pos_x, pos_y)\n",
        "    #       con direccion direc. Los trs números pos_x, pos_y, direc son elegidos al azar.\n",
        "    #       devuelve  pos_x, pos_y, direc\n",
        "    speed(n)\n",
        "    pos_x, pos_y = randint(1, 800), randint(1,500)\n",
        "    setposition(pos_x, pos_y) # ubica la tortuga en (pos_x, pos_y)\n",
        "    direc = randint(1, 360)\n",
        "    setheading(direc) # la tortuga apunta a direc\n",
        "    return pos_x, pos_y, direc"
      ],
      "metadata": {
        "id": "vVLoazpfPqDi"
      },
      "execution_count": null,
      "outputs": []
    },
    {
      "cell_type": "markdown",
      "source": [
        "Probemos ahora esta función,  que lo único que hace es ubicar la tortuga y darle dirección. Además devuelve la posición inicial y dirección inicial de la tortuga"
      ],
      "metadata": {
        "id": "mfUR-CQ5RnjX"
      }
    },
    {
      "cell_type": "code",
      "source": [
        "pizarra_vacia(grosor_lapiz = 10)\n",
        "iniciales = bola_de_billar(10)\n",
        "print(iniciales)"
      ],
      "metadata": {
        "id": "FIn-KlMLR2Yp"
      },
      "execution_count": null,
      "outputs": []
    },
    {
      "cell_type": "markdown",
      "source": [
        "Observarán que hay un error la tortuga se inicializa en las coordenas `(400,250)` (al medio de la pizarra) y al moverse  a `(pos_x, pos_y)` dibuja en todo su trayecto. Debemos cambiar un poco el código:"
      ],
      "metadata": {
        "id": "42AvnY2fSZvr"
      }
    },
    {
      "cell_type": "code",
      "source": [
        "def bola_de_billar(n: int):\n",
        "    # pre: n de 1 a 12\n",
        "    # post: dibuja la trayectoria de una bola de billar con velocidad n que parte de (pos_x, pos_y)\n",
        "    #       con direccion direc. Los trs números pos_x, pos_y, direc son elegidos al azar.\n",
        "    #       devuelve  pos_x, pos_y, direc\n",
        "    #       Si llega a (400, 250) se detiene\n",
        "    speed(n)\n",
        "    pos_x0, pos_y0 = randint(1, 800), randint(1,500)\n",
        "    penup()\n",
        "    setposition(pos_x0, pos_y0) # ubica la tortuga en (pos_x0, pos_y0)\n",
        "    direc0 = randint(1, 360)\n",
        "    setheading(direc0) # la tortuga apunta a direc\n",
        "    pendown()\n",
        "    return pos_x0, pos_y0, direc0"
      ],
      "metadata": {
        "id": "3mFbI9R4TN7Z"
      },
      "execution_count": null,
      "outputs": []
    },
    {
      "cell_type": "markdown",
      "source": [
        "Entonces:"
      ],
      "metadata": {
        "id": "7Cs0G_kSTbku"
      }
    },
    {
      "cell_type": "code",
      "source": [
        "pizarra_vacia(grosor_lapiz = 10)\n",
        "iniciales = bola_de_billar(1)\n",
        "print(iniciales)\n",
        "print(heading())\n",
        "forward(55)\n"
      ],
      "metadata": {
        "id": "nTgkpWRuTd6f"
      },
      "execution_count": null,
      "outputs": []
    },
    {
      "cell_type": "markdown",
      "source": [
        "Una vez elegido el punto de partida y la dirección, debemos hacer un ciclo que vaya dibujando la pelota y la rebote con las paredes. Las reglas de reflexión más intuitivas (y correctas por la geometría) nos dicen lo siguiente:\n",
        "\n",
        "1. Si llega a la pared de la derecha o de la izquierda con un ángulo $\\alpha$ rebota con un ángulo $180 - \\alpha$.\n",
        "2. Si llega a la pared de arriba o de abajo con un ángulo $\\alpha$ rebota con un ángulo $- \\alpha$.\n",
        "\n"
      ],
      "metadata": {
        "id": "RYjE7QkZK7Af"
      }
    },
    {
      "cell_type": "markdown",
      "source": [
        "Agreguemos un ingrediente más a este programa: dejará de dibujar  cuando  lleguemos a la posición $(400, 250)$  es decir al centro del cuadrado. Nada nos garantiza que podamos lograrlo, pero pongamos esa condición. "
      ],
      "metadata": {
        "id": "k4XOpgGqWH5h"
      }
    },
    {
      "cell_type": "code",
      "source": [
        "def bola_de_billar(n: int):\n",
        "    # pre: n de 1 a 12\n",
        "    # post: dibuja la trayectoria de una bola de billar con velocidad n que parte de (pos_x, pos_y)\n",
        "    #       con direccion direc. Los tres números pos_x, pos_y, direc son elegidos al azar.\n",
        "    #       devuelve  pos_x, pos_y, direc\n",
        "    #       Si llega a (400, 250) se detiene\n",
        "    speed(n)\n",
        "    pos_x0, pos_y0 = randint(1, 800), randint(1,500)\n",
        "    penup()\n",
        "    setposition(pos_x0, pos_y0) # ubica la tortuga en (pos_x0, pos_y0)\n",
        "    direc0 = randint(1, 360)\n",
        "    setheading(direc0) # la tortuga apunta a direc\n",
        "    pendown()\n",
        "    pos_x, pos_y, direc = pos_x0, pos_y0, direc0\n",
        "    while not(pos_x == 400 and pos_y == 250):\n",
        "        pass # aquí vendran los movimientos\n",
        "    return pos_x0, pos_y0, direc0"
      ],
      "metadata": {
        "id": "EaXlxjiKK5Sr"
      },
      "execution_count": null,
      "outputs": []
    },
    {
      "cell_type": "markdown",
      "source": [
        "Esta función es correcta sintácticamente y corre sin ningún problema, pero no se detendrá jamás. Solo podemos interrumpirla cliqueando alguna x en alguna parte o quizás con Control-C. \n",
        "\n",
        "Agreguemos un paramatro que nos  indique la cantidad máxima de iteraciones:"
      ],
      "metadata": {
        "id": "bv_qt4T2XKHJ"
      }
    },
    {
      "cell_type": "code",
      "source": [
        "def bola_de_billar(n: int, repet: int):\n",
        "    # pre: n de 1 a 12\n",
        "    # post: dibuja la trayectoria de una bola de billar con velocidad n que parte de (pos_x, pos_y)\n",
        "    #       con direccion direc. Los tres números pos_x, pos_y, direc son elegidos al azar.\n",
        "    #       devuelve  pos_x, pos_y, direc\n",
        "    #       Si llega a (400, 250) se detiene o\n",
        "    #       después de repet iteraciones se detiene\n",
        "    speed(n)\n",
        "    pos_x0, pos_y0 = randint(1, 800), randint(1,500)\n",
        "    penup()\n",
        "    setposition(pos_x0, pos_y0) # ubica la tortuga en (pos_x0, pos_y0)\n",
        "    direc0 = randint(1, 360)\n",
        "    setheading(direc0) # la tortuga apunta a direc\n",
        "    pendown()\n",
        "    pos_x, pos_y, direc = pos_x0, pos_y0, direc0\n",
        "    limite = 0\n",
        "    while not(pos_x == 400 and pos_y == 250) and limite < repet:\n",
        "        pass # aquí vendran los movimientos\n",
        "        limite = limite + 1\n",
        "    return pos_x0, pos_y0, direc0"
      ],
      "metadata": {
        "id": "Z9bX01xBSTsg"
      },
      "execution_count": null,
      "outputs": []
    },
    {
      "cell_type": "markdown",
      "source": [
        "Llegar a la pared de la derecha es alcanzar una coordenada $(800, y)$, llegar a la pared de la izquierda es alcanzar una coordenada $(0, y)$, llegar arriba es alcanzar una cordenada $(x, 0)$ y  llegar abajo es alcanzar una coordenada $(x, 500)$.  Estas condiciones nos permiten armar los condicionales:"
      ],
      "metadata": {
        "id": "-d50MgNeXnK0"
      }
    },
    {
      "cell_type": "code",
      "source": [
        "def bola_de_billar(n: int, repet: int):\n",
        "    # pre: n de 1 a 12\n",
        "    # post: dibuja la trayectoria de una bola de billar con velocidad n que parte de (pos_x, pos_y)\n",
        "    #       con direccion direc. Los trs números pos_x, pos_y, direc son elegidos al azar.\n",
        "    #       devuelve  pos_x, pos_y, direc\n",
        "    speed(n)\n",
        "    pos_x0, pos_y0 = randint(1, 800), randint(1,500)\n",
        "    penup()\n",
        "    setposition(pos_x0, pos_y0) # ubica la tortuga en (pos_x0, pos_y0)\n",
        "    direc0 = randint(1, 360)\n",
        "    setheading(direc0) # la tortuga apunta a direc\n",
        "    pendown()\n",
        "    pos_x, pos_y, direc = pos_x0, pos_y0, direc0\n",
        "    limite = 0\n",
        "    while not(pos_x == 400 and pos_y == 250) and limite < repet:\n",
        "        if pos_x >= 800 or pos_x <= 0:\n",
        "            pass\n",
        "        elif pos_y >= 500 or pos_y <= 0:\n",
        "            pass\n",
        "        limite += 1\n",
        "    print('limite:', limite)\n",
        "    return pos_x0, pos_y0, direc0"
      ],
      "metadata": {
        "id": "D--nPMdCTuQg"
      },
      "execution_count": null,
      "outputs": []
    },
    {
      "cell_type": "markdown",
      "source": [
        "Ahora nos falta movernos y en la dirección correcta. Debido a problemas de redondeo (y otras cuestiones) la forma más \"matemática\"  de hacerlo no funciona bien y hacemos una variante (avanzar 1 no alcanza):"
      ],
      "metadata": {
        "id": "AmjCWDZ4UBzq"
      }
    },
    {
      "cell_type": "code",
      "source": [
        "def bola_de_billar(n: int, repet: int):\n",
        "    # pre: n de 1 a 12\n",
        "    # post: dibuja la trayectoria de una bola de billar con velocidad n que parte de (pos_x, pos_y)\n",
        "    #       con direccion direc. Los trs números pos_x, pos_y, direc son elegidos al azar.\n",
        "    #       devuelve  pos_x, pos_y, direc\n",
        "    speed(n)\n",
        "    pos_x0, pos_y0 = randint(1, 800), randint(1,500)\n",
        "    penup()\n",
        "    setposition(pos_x0, pos_y0) # ubica la tortuga en (pos_x0, pos_y0)\n",
        "    direc0 = randint(1, 360)\n",
        "    setheading(direc0) # la tortuga apunta a direc\n",
        "    pendown()\n",
        "    pos_x, pos_y, direc = pos_x0, pos_y0, direc0\n",
        "    limite = 0\n",
        "    while not(pos_x == 400 and pos_y == 250) and limite < repet:\n",
        "        # print(pos_x, pos_y, direc)\n",
        "        forward(1)\n",
        "        pos_x, pos_y = position()\n",
        "        if pos_x >= 800 or pos_x <= 0:\n",
        "            direc = 180 - direc\n",
        "            print('pos_x == 800 or pos_x == 0:', pos_x, pos_y, direc)\n",
        "            setheading(direc) \n",
        "            forward(2) # sale de la encerrona\n",
        "        elif pos_y >= 500 or pos_y <= 0:\n",
        "            direc = 360 - direc\n",
        "            print('pos_y == 500 or pos_y == 0:', pos_x, pos_y, direc)\n",
        "            setheading(direc)\n",
        "            forward(2) # sale de la encerrona\n",
        "        limite += 1\n",
        "    print('limite:', limite)\n",
        "    return pos_x0, pos_y0, direc0"
      ],
      "metadata": {
        "id": "hbEbcXK3Xr6b"
      },
      "execution_count": null,
      "outputs": []
    },
    {
      "cell_type": "code",
      "source": [
        "pizarra_vacia(grosor_lapiz = 10)\n",
        "iniciales = bola_de_billar(12, 2000)\n",
        "print(iniciales)"
      ],
      "metadata": {
        "id": "8TfjCtSxbObZ"
      },
      "execution_count": null,
      "outputs": []
    },
    {
      "cell_type": "markdown",
      "source": [
        "Este tipo de programas es mejor correrlos en Python (con un archivo `.py`) pues en Colab se hacen muy lentos."
      ],
      "metadata": {
        "id": "QpLUr1gNddUn"
      }
    }
  ]
}