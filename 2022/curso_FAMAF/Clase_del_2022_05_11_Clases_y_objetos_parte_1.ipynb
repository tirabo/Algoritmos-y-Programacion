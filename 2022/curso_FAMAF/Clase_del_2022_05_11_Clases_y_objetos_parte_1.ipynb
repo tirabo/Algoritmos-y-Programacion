{
  "cells": [
    {
      "cell_type": "markdown",
      "metadata": {
        "id": "8L6Rn79DPQgi"
      },
      "source": [
        "# Clases y objetos (1° parte)\n",
        "\n",
        "Una clase permite trabajar con un conjunto de objetos que comparten características. \n",
        "\n",
        "Después de haber aprendido lo que hemos visto de programación hasta ahora somos capaces de resolver muchos problemas utilizando selecciones, bucles y funciones. Sin embargo, estas características no son suficientes para desarrollar un software a gran escala.\n",
        "\n",
        "En este cuaderno se introduce la programación orientada a objetos lo cual permite definir tipos de datos y modularizar más aún los programas que escribimos  o los proyectos en que participamos."
      ]
    },
    {
      "cell_type": "markdown",
      "metadata": {
        "id": "uSSdgOQM9fcS"
      },
      "source": [
        "## 1. Tipos abstractos de datos\n",
        "\n",
        "Hemos visto ejemplos y ejercicios con muchas de las estructuras de datos usuales de los lenguajes de programación: enteros, reales, booleanos, strings, arreglos, tuplas, listas.\n",
        "\n",
        "Con estas estructuras de datos también es posible representar otras. Por ejemplo, hemos representado los naturales usando enteros y hemos representado las fechas utilizando ternas de enteros.\n",
        "\n",
        "De todas formas, no se obtiene el mismo grado de confianza en el funcionamiento de las operaciones sobre los tipos de datos nuestros que sobre los de Python: cuando representamos, por ejemplo, a las fechas como ternas de enteros, no hay ninguna garantía de que el programador los utilice apropiadamente: por error puede alterar el valor de uno de los elementos de la terna y transformar una fecha válida en una que no lo es.\n",
        "\n",
        "De la misma manera, cuando representamos a los naturales como enteros, puede ocurrir que por error modificamos el número y pasa a ser negativo.\n",
        "\n",
        "En nuestro auxilio surge la posibilidad, que tienen la mayoría de los lenguajes de programación, de definir apropiadamente un tipo nuevo, de manera de que el funcionamiento sea más confiable, entre muchas otras ventajas. La idea es definir un tipo nuevo y sus operaciones, de manera de que luego solamente se lo pueda manipular a través de dichas operaciones.\n",
        "\n",
        "En Python, y en la mayor parte de los lenguajes de programación modernos, definir un tipo nuevo es definir una *clase* y  cada elemento que pertenezca a esa clase (a ese tipo) se llamará un *objeto* de la clase. Los tipos ya definidos en Python son clases,  aunque nunca lo hayamos mecionado, por ejemplo `[1, 3, 7]` es un objeto o instancia de la clase `list`."
      ]
    },
    {
      "cell_type": "markdown",
      "metadata": {
        "id": "axBChZPvP-SV"
      },
      "source": [
        "## 2. Definición de clases\n",
        "\n",
        "Crear una clase es como si definiéramos un tipo nuevo  en el lenguaje. Utilizando la clase definida podemos crear elementos de esa clase, llamados objetos o instancias, y podemos operar sobre ellos con métodos propios de la clase.\n",
        "\n",
        "Los ingredientes más importantes de la definición de una clase son\n",
        "\n",
        "*   sus *atributos*, también llamados *campos* (fields) o *variables de estado* (instance variables)\n",
        "*   sus *métodos*, también llamados *métodos de instancias* (instance methods).\n",
        "\n",
        "Los atributos son los datos que utilizamos para representar el estado de un objeto. Los métodos son las funciones que se utilizan para acceder a los datos y modificarlos.\n",
        "\n",
        "Además de utilizar variables para almacenar datos y definir métodos, una clase proporciona un método especial, `__init__`. Este método, conocido como *inicializador* y se invoca para inicializar el estado de un nuevo objeto cuando se crea. Un inicializador puede realizar cualquier acción, pero los inicializadores en general se utilizan para crear las variables de estado de un objeto con valores iniciales.\n",
        "\n",
        "Python utiliza la siguiente sintaxis para definir una clase:\n",
        "\n",
        "```\n",
        "class Nombre:\n",
        "    inicializador\n",
        "    métodos\n",
        "```"
      ]
    },
    {
      "cell_type": "markdown",
      "metadata": {},
      "source": [
        "Por  convención los nombres de las clases definidas por el programador tienen la primera letra mayúscula y todas las demás minúsculas"
      ]
    },
    {
      "cell_type": "markdown",
      "metadata": {},
      "source": [
        "**Ejemplo. Círculos.** Ejemplifiquemos clases con  el ejemplo de  la  página 217 de Liang. Se quiere definir una clase que sea una abstracción de los círculos. No nos interesan las posibles coordenadas del círculo (su ubicación en el plano) solo el tamaño que tiene. Es decir el único atributo o variable de estado que nos interesa, y que abstrae el concepto de círculo, es el radio $r$,  que es un número real mayor que 0. \n",
        "\n",
        "Una vez dado el círculo nos interesa saber cual es su radio,  su perímetro y su área. También nos interesa modificar su radio. Todo es muy sencillo, esto sólo es un ejemplo para introducir el tema."
      ]
    },
    {
      "cell_type": "code",
      "execution_count": 1,
      "metadata": {},
      "outputs": [],
      "source": [
        "import math\n",
        "\n",
        "class Circulo:\n",
        "# Definición de objeto Circulo\n",
        "    def __init__(self, r = 1):\n",
        "        self.radio = r\n",
        "    def get_radio(self):\n",
        "        return self.radio\n",
        "    def get_perimetro(self):\n",
        "        return 2 * self.radio * math.pi\n",
        "    def get_area(self):\n",
        "        return self.radio * self.radio * math.pi\n",
        "    def set_radio(self, r):\n",
        "        assert r > 0, \"El radio debe ser mayor que 0\"\n",
        "        self.radio = r\n"
      ]
    },
    {
      "cell_type": "markdown",
      "metadata": {
        "id": "iPv6OiFI7kTA"
      },
      "source": [
        "Cada clase comienza con una definición `def __init__()`  (guión bajo,  guión bajo, init, guión bajo, guión bajo) que crea el objeto cuando se invoca la clase.  En  el `__init__` se determinan los estados iniciales del objeto.  \n",
        "\n",
        "Cadá método que se aplica a un objeto de la cases debe ser tipo `def metodo(self, ... otros parámetros ...)`.\n",
        "\n",
        "Es decir, todos los métodos delos objetos , incluido el inicializador, tienen el primer parámetro `self`. Este parámetro se refiere al objeto que invoca el método. El parámetro `self` en los métodos se establece para hacer referencia al objeto que se acaba de crear. \n",
        "\n",
        "Se pueden definir funciones sin `self` y  estas funciones serán de la clase,  no de  objetos. Más tarde veremos ejemplos.  \n",
        "\n",
        "Veamos un ejemplo del uso de esta clase:"
      ]
    },
    {
      "cell_type": "code",
      "execution_count": 2,
      "metadata": {},
      "outputs": [
        {
          "name": "stdout",
          "output_type": "stream",
          "text": [
            "1\n",
            "<__main__.Circulo object at 0x0000027DFAEFAD00>\n",
            "5\n",
            "31.41592653589793\n",
            "78.53981633974483\n",
            "3\n",
            "False\n"
          ]
        }
      ],
      "source": [
        "t = Circulo() # círculo de radio 1 (el valor por defecto)\n",
        "print(t.get_radio())\n",
        "s = Circulo(5) # círculo de radio 5\n",
        "print(s)\n",
        "print(s.get_radio())\n",
        "print(s.get_perimetro())\n",
        "print(s.get_area())\n",
        "s.set_radio(3)\n",
        "print(s.get_radio())\n",
        "\n",
        "t.set_radio(3)\n",
        "print(t == s) # False: t y s son objetos diferentes (aunque son circulos con el mismo radio)"
      ]
    },
    {
      "cell_type": "markdown",
      "metadata": {},
      "source": [
        "Coloquialmente, un método que obtiene datos se conoce como *getter*, y un método donde se modifican atributos se denomina *setter*.\n",
        "\n",
        "Un método getter tiene un encabezado del tipo:\n",
        "\n",
        "```\n",
        "def get_nombre_de_la_propiedad(self):\n",
        "```\n",
        "\n",
        "Si el tipo de retorno es booleano, el método getter se define así por convención:\n",
        "\n",
        "```\n",
        "def is_nombre de_la_propiedad(self):\n",
        "```\n",
        "\n",
        "Un método setter tiene la siguiente cabecera:\n",
        "\n",
        "```\n",
        "def set_nombre_de_la_propiedad(self, valor):\n",
        "```\n",
        "\n",
        "Obviamente los nombres de los métodos pueden ser arbitrarios, con los límites sintácticos que impone Python"
      ]
    },
    {
      "cell_type": "markdown",
      "metadata": {
        "id": "axBChZPvP-SV"
      },
      "source": [
        "## 3. Ocultar los atributos de una clase\n",
        "\n",
        "Los atributos definidos en la clase  `Circulo`, así como fueron definidos son públicos, podemos acceder a ellos directamente. \n",
        "\n",
        "Podés acceder a los  datos a través de variables de estado directamente desde un objeto. Por ejemplo, el siguiente código, que permite acceder al radio del círculo desde `c.radio`, es legal:"
      ]
    },
    {
      "cell_type": "code",
      "execution_count": 3,
      "metadata": {},
      "outputs": [
        {
          "name": "stdout",
          "output_type": "stream",
          "text": [
            "5.4\n",
            "5.4\n"
          ]
        }
      ],
      "source": [
        "c = Circulo(5)\n",
        "c.radio = 5.4 # Se accede directamente a la variable radio de la instancia c y se la modifica\n",
        "print(c.radio) # Se accede directamente a la variable radio de la instancia c y se imprime\n",
        "print(c.get_radio()) #  Se accede al radio de c por el método especificado en la clase"
      ]
    },
    {
      "cell_type": "markdown",
      "metadata": {},
      "source": [
        "Sin embargo, el acceso directo a un atributo de un objeto no es una buena práctica por dos razones:\n",
        "\n",
        "- En primer lugar, los datos pueden ser manipulados. Por ejemplo, el radio en la clase `Circulo` debe ser positivo, pero puede ser fijado por error a un valor arbitrario (por ejemplo `c.radio = -5`).\n",
        "- En segundo lugar, la clase se vuelve difícil de mantener y vulnerable a los errores. Veremos ejemplos de esto más adelante.\n",
        "\n",
        "Para evitar las modificaciones directas de los campos de datos, no se debe permitir el acceso directo a las variables de estado o atributos de la clase\n",
        "\n",
        "Esto se conoce como *ocultación de datos*. Esto se puede hacer definiendo *variables privadas*. En Python, las variables privadas se definen con dos guiones bajos iniciales. También puedes definir un método privado con dos guiones bajos.\n",
        "\n",
        "Modifiquemos la clase `Circulo` de tal forma que todas las variables de estado sean privadas:"
      ]
    },
    {
      "cell_type": "code",
      "execution_count": 4,
      "metadata": {},
      "outputs": [],
      "source": [
        "import math\n",
        "\n",
        "class Circulo:\n",
        "# Definición de objeto Circulo\n",
        "    def __init__(self, r = 1):\n",
        "        self.__radio = r\n",
        "    def get_radio(self):\n",
        "        return self.__radio\n",
        "    def get_perimetro(self):\n",
        "        return 2 * self.__radio * math.pi\n",
        "    def get_area(self):\n",
        "        return self.__radio * self.__radio * math.pi\n",
        "    def set_radio(self, r):\n",
        "        assert r > 0, \"El radio debe ser mayor que 0\"\n",
        "        self.__radio = r\n"
      ]
    },
    {
      "cell_type": "markdown",
      "metadata": {},
      "source": [
        "Ahora cualquier intento de acceder directamente a las variables de estado de la clase resultarán en un error."
      ]
    },
    {
      "cell_type": "code",
      "execution_count": 5,
      "metadata": {},
      "outputs": [
        {
          "name": "stdout",
          "output_type": "stream",
          "text": [
            "1\n"
          ]
        }
      ],
      "source": [
        "c = Circulo() # círculo de radio 1 (el valor por defecto)\n",
        "print(c.get_radio())\n",
        "# print(c.__radio) # Atributo privado (descomentar la línea produce error)"
      ]
    },
    {
      "cell_type": "markdown",
      "metadata": {},
      "source": [
        "## 4. Sobrecarga de operadores y métodos especiales\n",
        "\n",
        " \n",
        "Python permite definir en las clases métodos especiales para operadores y funciones para realizar operaciones comunes. Estos métodos tienen un nombre específico para que Python reconozca la asociación.\n",
        "\n",
        "Expliquemos desarrollando un poco más la clase `Circulo`.  Supongamos que queremos hacer los siguiente\n",
        "```\n",
        "> c = Circulo(3)\n",
        "> print('c es', c)\n",
        "'c es circulo de radio 3'\n",
        "```\n",
        "Sin embargo,  como ya hemos visto que escibiendo el sigjuiente código\n"
      ]
    },
    {
      "cell_type": "code",
      "execution_count": 4,
      "metadata": {},
      "outputs": [
        {
          "name": "stdout",
          "output_type": "stream",
          "text": [
            "c es <__main__.Circulo object at 0x0000027DFAEFA940>\n"
          ]
        }
      ],
      "source": [
        "c = Circulo(3)\n",
        "print('c es', c)"
      ]
    },
    {
      "cell_type": "markdown",
      "metadata": {},
      "source": [
        "nos dice que `c` es un objeto de la clase `Circulo` y nos da un número de referencia. \n",
        "\n",
        "¿Cómo podemos hacer que el `print` se comporte como queremos?\n",
        "\n",
        "Lo  que debemos hacer es sobreescribir el  método `__str__` de la clase. Este es un método oculto común a todas las clases que convierte un objeto en una cadena, es decir en una representación legible del objeto. \n",
        "\n",
        "Reescribamos entonces la clase `Circulo`:"
      ]
    },
    {
      "cell_type": "code",
      "execution_count": 5,
      "metadata": {},
      "outputs": [],
      "source": [
        "import math\n",
        "\n",
        "class Circulo:\n",
        "# Definición de objeto Circulo\n",
        "    def __init__(self, r = 1):\n",
        "        self.__radio = r\n",
        "    def get_radio(self):\n",
        "        return self.__radio\n",
        "    def get_perimetro(self):\n",
        "        return 2 * self.__radio * math.pi\n",
        "    def get_area(self):\n",
        "        return self.__radio * self.__radio * math.pi\n",
        "    def set_radio(self, r):\n",
        "        assert r > 0, \"El radio debe ser mayor que 0\"\n",
        "        self.__radio = r\n",
        "    def __str__(self):\n",
        "        return \"círculo de radio \" + str(self.__radio)\n",
        "    def __eq__(self, otro):\n",
        "        return self.__radio == otro.__radio\n"
      ]
    },
    {
      "cell_type": "markdown",
      "metadata": {},
      "source": [
        "Probemos entonces la nueva definción de la clase:"
      ]
    },
    {
      "cell_type": "code",
      "execution_count": 8,
      "metadata": {},
      "outputs": [
        {
          "name": "stdout",
          "output_type": "stream",
          "text": [
            "c es círculo de radio 3\n"
          ]
        }
      ],
      "source": [
        "c = Circulo(3)\n",
        "print('c es', c)"
      ]
    },
    {
      "cell_type": "markdown",
      "metadata": {},
      "source": [
        "Obervemos que en la clase hemos agregado otro método, `__eq__`, para averiguar si dos círculos son iguales, donde consideramos dos círculos iguales si tienen el mismo radio. Antes de introducir este método la igualdad entre objetos diferentes siempre resultaba falsa, aún para círculos del mismo radio. La igualdad incorporada por defecto en las nuevas clases solo se verifica si el objeto es el mismo,  no si son conceptualmente iguales.\n",
        "\n",
        "Verifiquemos la igualdad:"
      ]
    },
    {
      "cell_type": "code",
      "execution_count": 6,
      "metadata": {},
      "outputs": [
        {
          "name": "stdout",
          "output_type": "stream",
          "text": [
            "False\n",
            "True\n"
          ]
        }
      ],
      "source": [
        "c1, c2 = Circulo(3), Circulo(7)\n",
        "print(c1 == c2)\n",
        "c2.set_radio(3)\n",
        "print(c1 == c2)"
      ]
    },
    {
      "cell_type": "markdown",
      "metadata": {},
      "source": [
        "Los métodos `__str__` y `__eq__` son solo algunos métodos que podemos sobreescribir  en una clase. \n",
        "\n",
        "Python tiene métodos especiales que refieren a operadores muy utilizados,  como ser `+`, `*`, etc. y que nos permiten definir,  si así lo deseamos, estos operadores en nuestras clases.\n",
        "\n",
        "Veamos un ejemplo: definamos la clase de 2-uplas de números enteros con la suma y resta coordenada a coordenada. "
      ]
    },
    {
      "cell_type": "code",
      "execution_count": 7,
      "metadata": {},
      "outputs": [],
      "source": [
        "class Dos_upla:\n",
        "# Definición de objeto 2-upla\n",
        "    def __init__(self, x = 0, y = 0):\n",
        "        assert type(x) == int and type(y) == int, \"Los parámetros deben ser enteros\"\n",
        "        self.__upla_x = x\n",
        "        self.__upla_y = y\n",
        "    def __add__(self, otro):\n",
        "        # suma dos 2-uplas\n",
        "        return Dos_upla(self.__upla_x + otro.__upla_x, self.__upla_y + otro.__upla_y)\n",
        "    def __sub__(self, otro):\n",
        "        # resta dos 2-uplas\n",
        "        return Dos_upla(self.__upla_x - otro.__upla_x, self.__upla_y - otro.__upla_y)\n",
        "    def __str__(self):\n",
        "        return \"(\" + str(self.__upla_x) + \", \" + str( self.__upla_y) + \")\"\n",
        "    def __eq__(self, otro):\n",
        "        return self.__upla_x == otro.__upla_x and self.__upla_y == otro.__upla_y\n"
      ]
    },
    {
      "cell_type": "markdown",
      "metadata": {},
      "source": [
        "Probemos la nueva clase:"
      ]
    },
    {
      "cell_type": "code",
      "execution_count": 8,
      "metadata": {},
      "outputs": [
        {
          "name": "stdout",
          "output_type": "stream",
          "text": [
            "(3, 4)\n",
            "(-5, 2)\n",
            "(-2, 6)\n",
            "(8, 2)\n",
            "False\n",
            "True\n"
          ]
        }
      ],
      "source": [
        "par = Dos_upla(3, 4)\n",
        "print(par)\n",
        "otro_par = Dos_upla(-5, 2)\n",
        "print(otro_par)\n",
        "print(par + otro_par)\n",
        "print(par - otro_par)\n",
        "print(par + otro_par == Dos_upla(2, 6))\n",
        "print(par + otro_par == Dos_upla(-2, 6))"
      ]
    },
    {
      "cell_type": "markdown",
      "metadata": {},
      "source": [
        "Los métodos especialñes también nos permite, con el método `__getitem__`, recuperar las coordenadas del par con la notación `[]`. Más aún, el  método `__setitem__` permite modificar las coordenadas del par  con la notación `[]`:"
      ]
    },
    {
      "cell_type": "code",
      "execution_count": 12,
      "metadata": {},
      "outputs": [],
      "source": [
        "class Dos_upla:\n",
        "# Definición de objeto 2-upla\n",
        "    def __init__(self, x = 0, y = 0):\n",
        "        assert type(x) == int and type(y) == int, \"Los parámetros deben ser enteros\"\n",
        "        self.__upla_x = x\n",
        "        self.__upla_y = y\n",
        "    def __getitem__(self, index):\n",
        "        # Se accede a los elementos de la tupla por medio de índices\n",
        "        assert 0 <= index <= 1, \"El índice debe estar entre 0 y 1\"\n",
        "        if index == 0:\n",
        "            return self.__upla_x\n",
        "        else:\n",
        "            return self.__upla_y\n",
        "    def __setitem__(self, index, valor):\n",
        "        # Se modifica un elemento de la tupla por medio de índices\n",
        "        assert 0 <= index <= 1, \"El índice debe estar entre 0 y 1\"\n",
        "        assert type(valor) == int, \"El valor debe ser un entero\"\n",
        "        if index == 0:\n",
        "            self.__upla_x = valor\n",
        "        else:\n",
        "            self.__upla_y = valor\n",
        "    def __add__(self, otro):\n",
        "        # suma dos 2-uplas\n",
        "        return Dos_upla(self.__upla_x + otro.__upla_x, self.__upla_y + otro.__upla_y)\n",
        "    def __sub__(self, otro):\n",
        "        # resta dos 2-uplas\n",
        "        return Dos_upla(self.__upla_x - otro.__upla_x, self.__upla_y - otro.__upla_y)\n",
        "    def __str__(self):\n",
        "        return \"(\" + str(self.__getitem__(0)) + \", \" + str(self.__getitem__(1)) + \")\"\n",
        "    def __eq__(self, otro):\n",
        "        return self.__upla_x == otro.__upla_x and self.__upla_y == otro.__upla_y\n"
      ]
    },
    {
      "cell_type": "markdown",
      "metadata": {},
      "source": [
        "Hagamos algunas pruebas:"
      ]
    },
    {
      "cell_type": "code",
      "execution_count": 13,
      "metadata": {},
      "outputs": [
        {
          "name": "stdout",
          "output_type": "stream",
          "text": [
            "(3, 4)\n",
            "3\n",
            "(-3, 4)\n",
            "True\n"
          ]
        }
      ],
      "source": [
        "par = Dos_upla(3, 4)\n",
        "print(par)\n",
        "print(par[0])\n",
        "par[0] = -3\n",
        "print(par)\n",
        "otro_par = Dos_upla(-3, 4)\n",
        "print(par == otro_par)"
      ]
    },
    {
      "cell_type": "markdown",
      "metadata": {},
      "source": [
        "Una lista de métodos especiales de Python, no todos, es la siguiente:\n",
        "\n",
        "\n",
        "| Operador/función | Método | Descripción|\n",
        "| :------------- | :---------- | :----------- |\n",
        "|`+`|`__add__(self, otro)`| Suma|\n",
        "|`*`|`__mul__(self, otro)`| Multiplicación|\n",
        "|`-`|`__sub__(self, otro)`| Resta|\n",
        "|`/`|`__truediv__(self, otro)`| División|\n",
        "|`%`|`__mod__(self, otro)`| Resto|\n",
        "|`<`|`__lt__(self, otro)`| Menor que|\n",
        "|`<=`|`__le__(self, otro)`| Menor igual que|\n",
        "|`==`|`__eq__(self, otro)`| Igual a|\n",
        "|`!=`|`__ne__(self, otro)`| Distinto a|\n",
        "|`>`|`__gt__(self, otro)`| Mayor que|\n",
        "|`>=`|`__ge__(self, otro)`| Mayor o igual que|\n",
        "|`[index]`|`__getitem__(self, index)`| Obtiene la coordenada index|\n",
        "|`[index]`|`__putitem__(self, index, valor)`| Modifica la coordenada index|\n",
        "|`in`|`__contains__(self, valor)`| Controla pertenencia|\n",
        "|`len`|`__len__(self)`| El número de elementos|\n",
        "|`str`|`__str__(self)`| La representación como cadena|\n"
      ]
    }
  ],
  "metadata": {
    "colab": {
      "authorship_tag": "ABX9TyOJ+miEy7R4RZ2rRU1rv3/5",
      "include_colab_link": true,
      "name": "Clase práctica 03-11-21.ipynb",
      "provenance": []
    },
    "interpreter": {
      "hash": "df45a1d593e760cb2f2d0116876d0d9854c557dc207c92c5b1e029045d5f17a5"
    },
    "kernelspec": {
      "display_name": "Python 3.9.6 64-bit",
      "language": "python",
      "name": "python3"
    },
    "language_info": {
      "codemirror_mode": {
        "name": "ipython",
        "version": 3
      },
      "file_extension": ".py",
      "mimetype": "text/x-python",
      "name": "python",
      "nbconvert_exporter": "python",
      "pygments_lexer": "ipython3",
      "version": "3.9.6"
    }
  },
  "nbformat": 4,
  "nbformat_minor": 0
}
