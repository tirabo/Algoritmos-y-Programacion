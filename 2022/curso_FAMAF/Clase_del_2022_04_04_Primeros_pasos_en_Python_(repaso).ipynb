{
  "cells": [
    {
      "cell_type": "markdown",
      "metadata": {
        "id": "TVPL-_LK_3GG"
      },
      "source": [
        "# Primeros pasos con Python"
      ]
    },
    {
      "cell_type": "markdown",
      "metadata": {
        "id": "qQwZ0RFr_voY"
      },
      "source": [
        "## 1. Ejecutando  Python\n",
        "\n",
        "Uno de los desafíos al comenzar a trabajar con Python es instalar el software relacionado en tu computadora.\n",
        "\n",
        "Si estás familiarizado con su sistema operativo, y especialmente si te sentís cómodo con la interfaz de línea de comandos, no vas a tener problemas para instalar Python. Pero para los principiantes, puede ser complicado  aprender sobre administración del sistema y programación al  mismo tiempo.\n",
        "\n",
        "Para evitar ese problema, recomendamos comenzar con Jupyter Notebooks. *Jupyter Notebook* (anteriormente IPython Notebooks) es un entorno informático que permite trabajar alternadamente con programas Python y texto enriquecido. Este que están viendo es un *cuaderno Jupyter*.  \n",
        "\n",
        "Existen varias implementaciones de cuadernos Jupyter para comezar a trabajar con ellas:\n",
        "\n",
        "- *Google Colaboratory (Colab).* Es una versión de Jupyter Notebooks on line provista por Google. Es una fabulosa herramienta didáctica y nos permitirá hacer gran parte del curso aunque en  las últimas semanas posiblemente necesitemos otra herramienta. Las tareas y ejercicios del curso se harán con esta herramienta.\n",
        "- *Anaconda.* Anaconda es mucho más que Jupyter Notebooks y los que se sientan cómodos con esta aplicación podrán utilizarla en el curso.\n",
        "- *JupyterLab Desktop.*  Es un subproducto de Anaconda, pero mucho más fácil de instalar y manejar.\n",
        "\n",
        "Un  cuaderno Jupyter se divide en celdas de texto con formato y celdas de código Python. Cuando creamos una celda elegimos que tipo de celda queremos (\"Markdown\" para texto, \"Code\" para Python). Obviamente lo que estamos leyendo ahora es una celda de texto. La celda siguiente es una celda de código y la podemos ejecutar cliqueando el triangulito o posicionarse en ella  y hacer `Mayus+Enter`:\n",
        "\n",
        "\n"
      ]
    },
    {
      "cell_type": "code",
      "execution_count": null,
      "metadata": {
        "id": "auL-phi-Dpjy",
        "colab": {
          "base_uri": "https://localhost:8080/"
        },
        "outputId": "5cf0c289-989d-459b-b6d4-d4e9ca507155"
      },
      "outputs": [
        {
          "output_type": "execute_result",
          "data": {
            "text/plain": [
              "2"
            ]
          },
          "metadata": {},
          "execution_count": 2
        }
      ],
      "source": [
        "1 + 1"
      ]
    },
    {
      "cell_type": "markdown",
      "metadata": {
        "id": "s06jkquK1IAz"
      },
      "source": [
        "En muchos proyectos que involucren desarrollo de software en Python se utiliza *el modo de secuencia de comandos* o *modo script*. En este modo cada pieza de código se guarda en un archivo y luego se ejecuta este archivo, llamado *script*, en el intérprete. Por convención, los scripts de Python tienen nombres que terminan en `.py`. Si sabés cómo crear y ejecutar un script en tu computadora podrás correr todos los scripts de este curso.\n",
        "\n",
        "Hay herramientas muy útiles para escribir código llamadas IDE (Integrated Development Environment) o entornos de desarrollo integrado​s. Una IDE es una aplicación informática que proporciona servicios integrales para facilitarle al desarrollador o programador el desarrollo de software. \n",
        "\n",
        "La primera que mencionaremos es Visual Studio Code. Visual Studio Code es un editor de código fuente desarrollado por Microsoft para Windows, Linux, macOS y Web. Incluye soporte para la depuración, control integrado de Git, resaltado de sintaxis, finalización inteligente de código, fragmentos y refactorización de código. También es personalizable, por lo que los usuarios pueden cambiar el tema del editor, los atajos de teclado y las preferencias. Es gratuito y de código abierto. Por medio de plugins es posible codificar en casi cualquier lenguaje de programación, en particular en Python. \n",
        "\n",
        "La otra herramienta a mencionar es PyCharm. PyCharm es un IDE multiplataforma dirigido principalmente a Python y al desarrollo web. Una versión de código abierto está disponible como PyCharm Community Edition. Hay una versión paga llamada PyCharm Professional Edition. Una versión especial llamada PyCharm Edu está basada en PyCharm, dirigida específicamente al aprendizaje de la programación con Python. Como alumno universitario podés aplicar a la versión académica. PyCharm tiene una distribución para Anaconda que se puede instalar junto con Anaconda y están estrechamente integradas."
      ]
    },
    {
      "cell_type": "markdown",
      "metadata": {
        "id": "4opU7Xhz1IA1"
      },
      "source": [
        "En la primer celda que ejecutamos usamos a Python como calculadora y ese es el uso  mas sencillo que le podemos dar. Profundizaremos más abajo en este aspecto. \n",
        "\n",
        "Ahora vemos algunos ejemplos muy sencillos de scripts:"
      ]
    },
    {
      "cell_type": "code",
      "execution_count": null,
      "metadata": {
        "id": "Q5V3hjH2EiXi",
        "colab": {
          "base_uri": "https://localhost:8080/"
        },
        "outputId": "f29e427a-9f8c-4406-8016-ca754c99929a"
      },
      "outputs": [
        {
          "output_type": "stream",
          "name": "stdout",
          "text": [
            "¡Hola, mundo!\n"
          ]
        }
      ],
      "source": [
        "print('¡Hola, mundo!') "
      ]
    },
    {
      "cell_type": "markdown",
      "metadata": {
        "id": "wqAZcEqREmGw"
      },
      "source": [
        "Este es un ejemplo de una _sentencia print_, aunque en realidad no imprime nada en papel. Muestra un resultado en la pantalla. En este caso, como ya habrás comprobado, el resultado son las palabras\n",
        "```\n",
        "¡Hola Mundo!\n",
        "```\n",
        "Las comillas en el programa,  que pueden ser simples o dobles, marcan el principio y el final del texto que se mostrará y no aparecen en el resultado.\n",
        "\n",
        "Los paréntesis indican que `print` es una _función_. Veremos funciones con profundidad más adelante.\n"
      ]
    },
    {
      "cell_type": "code",
      "source": [
        "print('El \"Tata\" Martino')\n",
        "print(\"El 'Tata' Martino\")\n",
        "print(\"El \\\"Tata\\\" Martino\")\n",
        "print(\"El \\\"Tata\\\" Martino\\nEntrenador\")\n"
      ],
      "metadata": {
        "colab": {
          "base_uri": "https://localhost:8080/"
        },
        "id": "sex_mdmahNdt",
        "outputId": "77642e2a-3094-4a20-f18f-fdff9e966f90"
      },
      "execution_count": null,
      "outputs": [
        {
          "output_type": "stream",
          "name": "stdout",
          "text": [
            "El \"Tata\" Martino\n",
            "El 'Tata' Martino\n",
            "El \"Tata\" Martino\n",
            "El \"Tata\" Martino\n",
            "Entrenador\n"
          ]
        }
      ]
    },
    {
      "cell_type": "markdown",
      "metadata": {
        "id": "xpokPMVbF-lc"
      },
      "source": [
        "## 2. Operadores aritméticos\n",
        "\n",
        "Después de `Hola, mundo`, el siguiente paso es la aritmética elemental. Python proporciona _operadores_, que son símbolos especiales que representan cálculos\n",
        "como suma y multiplicación.\n",
        "\n",
        "Los operadores `+`, `-` y `*` realizan sumas, resta y multiplicación, respecivamente. Por ejemplo:\n"
      ]
    },
    {
      "cell_type": "code",
      "execution_count": null,
      "metadata": {
        "id": "S--O7kbPGjFH",
        "colab": {
          "base_uri": "https://localhost:8080/"
        },
        "outputId": "b9e31a1b-0041-4869-c5b7-c13b1557cfd2"
      },
      "outputs": [
        {
          "output_type": "execute_result",
          "data": {
            "text/plain": [
              "42"
            ]
          },
          "metadata": {},
          "execution_count": 9
        }
      ],
      "source": [
        "40 + 2"
      ]
    },
    {
      "cell_type": "code",
      "execution_count": null,
      "metadata": {
        "id": "Pid-Y4PgGjOd",
        "colab": {
          "base_uri": "https://localhost:8080/"
        },
        "outputId": "6223b903-58fd-4b5d-d9ec-cae1084410af"
      },
      "outputs": [
        {
          "output_type": "execute_result",
          "data": {
            "text/plain": [
              "42"
            ]
          },
          "metadata": {},
          "execution_count": 10
        }
      ],
      "source": [
        "43 - 1"
      ]
    },
    {
      "cell_type": "code",
      "execution_count": null,
      "metadata": {
        "id": "AtjYYD5QGjY5",
        "colab": {
          "base_uri": "https://localhost:8080/"
        },
        "outputId": "5dbb17fc-b6be-4335-ebf4-bf5cd116a300"
      },
      "outputs": [
        {
          "output_type": "execute_result",
          "data": {
            "text/plain": [
              "18"
            ]
          },
          "metadata": {},
          "execution_count": 11
        }
      ],
      "source": [
        "6 * 3"
      ]
    },
    {
      "cell_type": "markdown",
      "metadata": {
        "id": "Frjcq4CDG8a1"
      },
      "source": [
        "El operador `/` realiza la división:\n",
        "\n"
      ]
    },
    {
      "cell_type": "code",
      "execution_count": null,
      "metadata": {
        "id": "tKtPt1_aHTcV",
        "colab": {
          "base_uri": "https://localhost:8080/"
        },
        "outputId": "4fd6e973-8ff7-457f-c90b-9ea417ed8b3e"
      },
      "outputs": [
        {
          "output_type": "execute_result",
          "data": {
            "text/plain": [
              "42.0"
            ]
          },
          "metadata": {},
          "execution_count": 12
        }
      ],
      "source": [
        "84 / 2"
      ]
    },
    {
      "cell_type": "markdown",
      "metadata": {
        "id": "ecaQAlHoHZEY"
      },
      "source": [
        "Quizás te preguntes al ejecutar la celda anterior por qué el resultado es `42.0` en lugar de `42`. La respuesta es que Python tiene dos operadores de división. el primero,  es el que ya vimos, es `/` que siempre obtiene  un número decimal o coma flotante. El segundo es `//` y es la _división entera_. Por ejemplo, \n"
      ]
    },
    {
      "cell_type": "code",
      "execution_count": null,
      "metadata": {
        "id": "MRRGn5MrTkQT",
        "colab": {
          "base_uri": "https://localhost:8080/"
        },
        "outputId": "e28057e4-bbe1-454d-ed19-e0c0fa3dd2ba"
      },
      "outputs": [
        {
          "output_type": "execute_result",
          "data": {
            "text/plain": [
              "42"
            ]
          },
          "metadata": {},
          "execution_count": 13
        }
      ],
      "source": [
        "84 // 2"
      ]
    },
    {
      "cell_type": "markdown",
      "metadata": {
        "id": "pGMgN0VgTy7c"
      },
      "source": [
        "devuelve `42` y "
      ]
    },
    {
      "cell_type": "code",
      "execution_count": null,
      "metadata": {
        "id": "OBAR5XPYUPbV",
        "colab": {
          "base_uri": "https://localhost:8080/"
        },
        "outputId": "325ba131-8f8e-4ff8-b20a-ef54a5477b1a"
      },
      "outputs": [
        {
          "output_type": "execute_result",
          "data": {
            "text/plain": [
              "6"
            ]
          },
          "metadata": {},
          "execution_count": 14
        }
      ],
      "source": [
        "20 // 3"
      ]
    },
    {
      "cell_type": "markdown",
      "metadata": {
        "id": "mMFJEsbvUN05"
      },
      "source": [
        "Devuelve `6`, pues \"3 entra 6 veces en 20\".\n",
        "\n",
        "Finalmente, el operador `**` realiza una exponenciación; esto es,\n",
        "eleva un número a una potencia:"
      ]
    },
    {
      "cell_type": "code",
      "execution_count": null,
      "metadata": {
        "id": "7MZkobTDHwul",
        "colab": {
          "base_uri": "https://localhost:8080/"
        },
        "outputId": "35c53c94-136e-4953-bb91-c8418c96ff58"
      },
      "outputs": [
        {
          "output_type": "execute_result",
          "data": {
            "text/plain": [
              "36"
            ]
          },
          "metadata": {},
          "execution_count": 15
        }
      ],
      "source": [
        "6 ** 2 "
      ]
    },
    {
      "cell_type": "markdown",
      "metadata": {
        "id": "AK84soxpiVs4"
      },
      "source": [
        "Sabemos que $a^n$ es $a$ multiplicado por si mismo $n$-veces. También conocemos, que $(a^n)^m = a^{nm}$. \n",
        "\n",
        "Enntonces, como sabemos que $(\\sqrt[n]{a})^n = a$, es \"claro\" que $\\sqrt[n]{a} = a^{1/n}$, pues $ (a^{1/n})^n = a^{\\frac1n n} =a$.\n",
        "\n",
        "Recordemos que  $\\sqrt[n]{a} = a^{1/n}$. Luego\n",
        "$$\n",
        "\\sqrt{10} = 10^{1/2} = 10^{0.5}.\n",
        "$$\n",
        "Por ejemplo, "
      ]
    },
    {
      "cell_type": "code",
      "execution_count": null,
      "metadata": {
        "id": "5IdMaNuN1IA-",
        "colab": {
          "base_uri": "https://localhost:8080/"
        },
        "outputId": "11bcaf81-9206-487a-b9ab-fef7b6e1e72e"
      },
      "outputs": [
        {
          "output_type": "stream",
          "name": "stdout",
          "text": [
            "3.0\n",
            "3.0\n"
          ]
        }
      ],
      "source": [
        "print(9**0.5) # raíz cuadrada de 9 (= 3)\n",
        "print(27**(1/3)) # raíz cúbica de 27 (= 3)"
      ]
    },
    {
      "cell_type": "markdown",
      "metadata": {
        "id": "pa1xnfneH0Sg"
      },
      "source": [
        "En  las celdas de código anteriores usamos el símbolo `#` para comenzar un *comentario*: el texto que sigue después de `#` no será interpretado  o ejecutado y sirve de ayuda al programador.\n",
        "\n",
        "En algunos lenguajes de programación se utiliza `^` para la exponenciación, pero en Python `^` es un operador bit a bit llamado XOR. Si no estás familiarizado con los operadores bit a bit, el resultado te sorprenderá:\n",
        "\n"
      ]
    },
    {
      "cell_type": "code",
      "execution_count": null,
      "metadata": {
        "id": "WvvOCb76IGsh",
        "colab": {
          "base_uri": "https://localhost:8080/"
        },
        "outputId": "479ffa4e-ec22-4f0b-826d-dd50273212f6"
      },
      "outputs": [
        {
          "output_type": "execute_result",
          "data": {
            "text/plain": [
              "4"
            ]
          },
          "metadata": {},
          "execution_count": 17
        }
      ],
      "source": [
        "6 ^ 2 "
      ]
    },
    {
      "cell_type": "markdown",
      "metadata": {
        "id": "6w_XZ-CFI-eh"
      },
      "source": [
        "No cubriremos los operadores bit a bit en este curso, pero podes leer acerca de\n",
        "ellos en [http://wiki.python.org/moin/BitwiseOperators](http://wiki.python.org/moin/BitwiseOperators) (en inglés). "
      ]
    },
    {
      "cell_type": "markdown",
      "metadata": {
        "id": "Rdjt76sqKu_b"
      },
      "source": [
        "## 3. Valores y tipos\n",
        "\n",
        "Un _valor_ es una de las entidades básicas con las que trabaja un programa, como una letra o un número. Algunos valores que hemos visto hasta ahora son `2`, `42.0` y `'¡Hola, mundo!'`.\n",
        "\n",
        "Estos valores pertenecen a diferentes _tipos_: `2` es un _entero_, `42.0` es un _número de coma flotante_ y `'¡Hola, mundo!'`es una _cadena_, así llamada porque los caracteres que contiene se ubican en forma consecutiva.\n",
        "\n",
        "Si no estás seguro de qué tipo de valor es un valor determinado, Python mismo puede decírtelo ejecutando la función `type()`.\n"
      ]
    },
    {
      "cell_type": "code",
      "execution_count": null,
      "metadata": {
        "id": "fWHLvHlhMNHg",
        "outputId": "2163b748-c6e5-4363-a6b1-55dd83b5a37c",
        "colab": {
          "base_uri": "https://localhost:8080/"
        }
      },
      "outputs": [
        {
          "output_type": "stream",
          "name": "stdout",
          "text": [
            "<class 'int'>\n",
            "<class 'float'>\n",
            "<class 'str'>\n",
            "<class 'bool'>\n"
          ]
        }
      ],
      "source": [
        "print(type(2))\n",
        "print(type(42.0))\n",
        "print(type('¡Hola, mundo!'))\n",
        "print(type(True))"
      ]
    },
    {
      "cell_type": "code",
      "source": [
        "n = 2\n",
        "print( n < 5)"
      ],
      "metadata": {
        "colab": {
          "base_uri": "https://localhost:8080/"
        },
        "id": "w4bH1BsRm9hl",
        "outputId": "b622088e-43b5-41bf-e92b-f94cb52d460f"
      },
      "execution_count": null,
      "outputs": [
        {
          "output_type": "stream",
          "name": "stdout",
          "text": [
            "True\n"
          ]
        }
      ]
    },
    {
      "cell_type": "markdown",
      "metadata": {
        "id": "2TryIXoYMc-y"
      },
      "source": [
        "Vemos en los resultados de ejecutar la celda anterior que en todos aparece la palabra `class`. La palabra `class`,  cuya traducción al español es *clase*, se usa en el sentido de una categoría: un tipo es una categoría de valores.\n",
        "\n",
        "No es sorprendente que los enteros pertenezcan al tipo `int`, las cadenas pertenezcan a `str` (por _string_ en inglés) y los números en coma flotante pertenezcan a `float`.\n",
        "\n",
        "El tipo `bool` solo tiene doa valores `True` y `False`,  que sirven para denotar la verdad o falsedad de expresiones lógicas.\n",
        "\n",
        "¿Qué pasa con valores como `'2'` y `'42.0'`?\n",
        "Parecen números, pero están entre comillas como cadenas y, efectivamente son cadenas. Lo  comprobaremos ejecutando lo siguiente:\n"
      ]
    },
    {
      "cell_type": "code",
      "execution_count": null,
      "metadata": {
        "id": "NruWxWThNmOS",
        "colab": {
          "base_uri": "https://localhost:8080/"
        },
        "outputId": "decc782f-20b6-4da9-9ecb-e1681aa93399"
      },
      "outputs": [
        {
          "output_type": "stream",
          "name": "stdout",
          "text": [
            "<class 'str'>\n",
            "<class 'str'>\n"
          ]
        }
      ],
      "source": [
        "print(type('2'))\n",
        "print(type('42.0'))"
      ]
    },
    {
      "cell_type": "markdown",
      "metadata": {
        "id": "NrcJNSbgNzv6"
      },
      "source": [
        "Cuando escribís un entero grande, podés tener la tentación de usar puntos entre grupos de dígitos, como en `1.000.000`. Sin embargo,  esto no es una forma permitida de escribir un entero, por ejemplo, la ejecución de la siguiente celda de código nos devuelve un error:"
      ]
    },
    {
      "cell_type": "code",
      "execution_count": null,
      "metadata": {
        "id": "EY_YT_qFOK-x"
      },
      "outputs": [],
      "source": [
        "print(1.000.000)"
      ]
    },
    {
      "cell_type": "markdown",
      "metadata": {
        "id": "PvCxy1u9Ob5G"
      },
      "source": [
        "La forma correcta de escribir \"un millón\" es `1000000`. Podemos tratar también de escribir un número decimal o coma flotante usando la notación latina. Por ejemplo, \"cuatro coma cinco\", podríamos intentar escribirlo como `4,5`,  y hagamos la prueba:  "
      ]
    },
    {
      "cell_type": "code",
      "execution_count": null,
      "metadata": {
        "id": "Mm82U3MYO8QS",
        "colab": {
          "base_uri": "https://localhost:8080/"
        },
        "outputId": "6e505382-b754-41c1-a601-c531e32c073a"
      },
      "outputs": [
        {
          "output_type": "stream",
          "name": "stdout",
          "text": [
            "4 5\n"
          ]
        }
      ],
      "source": [
        "print(4,5)"
      ]
    },
    {
      "cell_type": "markdown",
      "metadata": {
        "id": "4ZzHRGgUPDQa"
      },
      "source": [
        "¡Eso no es lo que esperábamos en absoluto! Python interpreta la expresión `4,5` como dos enteros separados. \n",
        "\n",
        "Este es el primer ejemplo que hemos visto de un *error semántico*: el código se ejecuta sin producir un mensaje de error, pero no es lo que queremos obtener.\n",
        "\n",
        "La forma correcta de escribir un número decimal es reemplazando  la coma por  el punto, por ejemplo \"cuatro coma cinco\" se escribe `4.5`"
      ]
    },
    {
      "cell_type": "code",
      "execution_count": null,
      "metadata": {
        "id": "VxkgDsqu1IBE"
      },
      "outputs": [],
      "source": [
        "print(4.5 * 2)"
      ]
    },
    {
      "cell_type": "markdown",
      "metadata": {
        "id": "kCoCtpzZ1IBE"
      },
      "source": [
        "## 4. Python como calculadora \n",
        "\n",
        "Como vimos más arriba Python puede ser usado como una calculadora. Ahora veremos más funciones de \"calculadora\". Para ello utilizaremos el módulo `math`. El módulo `math` permite utilizar funciones matemáticas que no son accesibles directamente en Python. La instrucción para importar el módulo es "
      ]
    },
    {
      "cell_type": "code",
      "execution_count": null,
      "metadata": {
        "id": "PXm6xi6IjClh"
      },
      "outputs": [],
      "source": [
        "import math"
      ]
    },
    {
      "cell_type": "markdown",
      "metadata": {
        "id": "CExAYGV51IBF"
      },
      "source": [
        "y debemos ejecutarla si en las siguientes celdas de código queremos usar el módulo. \n",
        "\n",
        "La instrucción para obtener el logaritmo en base $e$ es `math.log(t)`, donde `t` es un número real positivo. "
      ]
    },
    {
      "cell_type": "code",
      "execution_count": null,
      "metadata": {
        "id": "8d6sLzcpjM18",
        "colab": {
          "base_uri": "https://localhost:8080/"
        },
        "outputId": "bc28a507-5810-4986-cb2b-5d8a5477d575"
      },
      "outputs": [
        {
          "output_type": "execute_result",
          "data": {
            "text/plain": [
              "2.302585092994046"
            ]
          },
          "metadata": {},
          "execution_count": 24
        }
      ],
      "source": [
        "math.log(10)"
      ]
    },
    {
      "cell_type": "markdown",
      "metadata": {
        "id": "IlkO1doO1IBF"
      },
      "source": [
        "Si queremos obtener el logaritmo en base 10 debemos usar la función `math.log10()`:"
      ]
    },
    {
      "cell_type": "code",
      "execution_count": null,
      "metadata": {
        "id": "2q2P1aNAjUsL",
        "colab": {
          "base_uri": "https://localhost:8080/"
        },
        "outputId": "da7398b3-2eb7-4a7e-ccda-2514d46a93c6"
      },
      "outputs": [
        {
          "output_type": "stream",
          "name": "stdout",
          "text": [
            "1.0\n",
            "234.0\n"
          ]
        }
      ],
      "source": [
        "print(math.log10(10))\n",
        "print(math.log10(10**234))"
      ]
    },
    {
      "cell_type": "markdown",
      "metadata": {
        "id": "a4OQsjXI1IBF"
      },
      "source": [
        "Las funciones trigonométricas también son accesibles a travez del módulo `math`."
      ]
    },
    {
      "cell_type": "code",
      "execution_count": null,
      "metadata": {
        "id": "AQl4t8TEjgPr",
        "colab": {
          "base_uri": "https://localhost:8080/"
        },
        "outputId": "75cc6874-affe-4dda-d480-871a062ce18c"
      },
      "outputs": [
        {
          "output_type": "execute_result",
          "data": {
            "text/plain": [
              "0.0"
            ]
          },
          "metadata": {},
          "execution_count": 26
        }
      ],
      "source": [
        "math.sin(0)"
      ]
    },
    {
      "cell_type": "markdown",
      "metadata": {
        "id": "2iEKJc6U1IBG"
      },
      "source": [
        "es el seno  de $0$. \n",
        "\n",
        "Si queremos calcular el seno de 360° directamente fallaremos:"
      ]
    },
    {
      "cell_type": "code",
      "execution_count": null,
      "metadata": {
        "id": "jUmKwndHjlOB",
        "colab": {
          "base_uri": "https://localhost:8080/"
        },
        "outputId": "d90bc72f-9e06-4214-a245-6824d96b5c25"
      },
      "outputs": [
        {
          "output_type": "execute_result",
          "data": {
            "text/plain": [
              "0.9589157234143065"
            ]
          },
          "metadata": {},
          "execution_count": 27
        }
      ],
      "source": [
        "math.sin(360)"
      ]
    },
    {
      "cell_type": "markdown",
      "metadata": {
        "id": "7ucq0oIi1IBG"
      },
      "source": [
        "El problema es que las funciones trigonométricas en Python aceptan  los grados en radianes.  Recordemos que $\\pi$ radianes son 180° sexagesimales, todo lo demás es regla de tres simple:\n",
        "- 360° $\\to$ $2\\pi$\n",
        "- 270° $\\to$ $\\frac32 \\pi$\n",
        "- 90° $\\to$ $\\pi/2$\n",
        "\n",
        "En general\n",
        "- $x$ grados sexagesimales $\\to$ $x \\cdot \\pi / 180$ radianes.\n",
        "\n",
        "Podemos obtener $\\pi$ copiando alguna estimación de algún sitio web, pero es más sencillo utilizar el que nos provee  Python: "
      ]
    },
    {
      "cell_type": "code",
      "execution_count": null,
      "metadata": {
        "id": "9gdrcmyCjwoT",
        "colab": {
          "base_uri": "https://localhost:8080/"
        },
        "outputId": "6abfb96f-7fbf-4ad2-d5d2-cefd8f324da6"
      },
      "outputs": [
        {
          "output_type": "execute_result",
          "data": {
            "text/plain": [
              "3.141592653589793"
            ]
          },
          "metadata": {},
          "execution_count": 28
        }
      ],
      "source": [
        "math.pi"
      ]
    },
    {
      "cell_type": "code",
      "execution_count": null,
      "metadata": {
        "id": "U3HhewRdj1Qk",
        "colab": {
          "base_uri": "https://localhost:8080/"
        },
        "outputId": "78e5052d-b227-4a31-e297-db839d897ac2"
      },
      "outputs": [
        {
          "output_type": "execute_result",
          "data": {
            "text/plain": [
              "-2.4492935982947064e-16"
            ]
          },
          "metadata": {},
          "execution_count": 29
        }
      ],
      "source": [
        "math.sin(2 * math.pi)"
      ]
    },
    {
      "cell_type": "markdown",
      "metadata": {
        "id": "D0Wd4M5-j_Zh"
      },
      "source": [
        "La expresión `-2.4492935982947064e-16` se lee $-2.4492935982947064 \\times 10^{-16}$. Es decir es\n",
        "$$\n",
        "-0.00000000000000024492935982947064\n",
        "$$\n",
        "Nosotros esperaríamos que el resultado de ejecutar la línea de código anterior sea `0`, pero debido a que el valor de $\\pi$ es una aproximación y  que la función `sin()` también devuelve aproximaciones,  el resultado es número \"cercano\"  a `0`.\n",
        "\n",
        "Para ver todas las funciones del módulo ejecutamos `dir(math)`:"
      ]
    },
    {
      "cell_type": "code",
      "execution_count": null,
      "metadata": {
        "colab": {
          "base_uri": "https://localhost:8080/"
        },
        "id": "Hut4aN6Zk0e8",
        "outputId": "ae5ffd01-9af7-4e65-c589-0e834c2e7e74"
      },
      "outputs": [
        {
          "output_type": "execute_result",
          "data": {
            "text/plain": [
              "['__doc__',\n",
              " '__loader__',\n",
              " '__name__',\n",
              " '__package__',\n",
              " '__spec__',\n",
              " 'acos',\n",
              " 'acosh',\n",
              " 'asin',\n",
              " 'asinh',\n",
              " 'atan',\n",
              " 'atan2',\n",
              " 'atanh',\n",
              " 'ceil',\n",
              " 'copysign',\n",
              " 'cos',\n",
              " 'cosh',\n",
              " 'degrees',\n",
              " 'e',\n",
              " 'erf',\n",
              " 'erfc',\n",
              " 'exp',\n",
              " 'expm1',\n",
              " 'fabs',\n",
              " 'factorial',\n",
              " 'floor',\n",
              " 'fmod',\n",
              " 'frexp',\n",
              " 'fsum',\n",
              " 'gamma',\n",
              " 'gcd',\n",
              " 'hypot',\n",
              " 'inf',\n",
              " 'isclose',\n",
              " 'isfinite',\n",
              " 'isinf',\n",
              " 'isnan',\n",
              " 'ldexp',\n",
              " 'lgamma',\n",
              " 'log',\n",
              " 'log10',\n",
              " 'log1p',\n",
              " 'log2',\n",
              " 'modf',\n",
              " 'nan',\n",
              " 'pi',\n",
              " 'pow',\n",
              " 'radians',\n",
              " 'remainder',\n",
              " 'sin',\n",
              " 'sinh',\n",
              " 'sqrt',\n",
              " 'tan',\n",
              " 'tanh',\n",
              " 'tau',\n",
              " 'trunc']"
            ]
          },
          "metadata": {},
          "execution_count": 30
        }
      ],
      "source": [
        "dir(math)"
      ]
    },
    {
      "cell_type": "markdown",
      "metadata": {
        "id": "TxxTe1nP1IBH"
      },
      "source": [
        "Entre todos los métodos que nos provee la biblioteca `math` tenemos los que convierten radianes a grados sexagesimales y  viceversa."
      ]
    },
    {
      "cell_type": "code",
      "execution_count": null,
      "metadata": {
        "id": "Qi-A0TDalU3-",
        "colab": {
          "base_uri": "https://localhost:8080/"
        },
        "outputId": "9e7a89bd-97fa-487d-b108-7d9da09dff37"
      },
      "outputs": [
        {
          "output_type": "execute_result",
          "data": {
            "text/plain": [
              "180.0"
            ]
          },
          "metadata": {},
          "execution_count": 32
        }
      ],
      "source": [
        "math.degrees(math.pi)"
      ]
    },
    {
      "cell_type": "code",
      "execution_count": null,
      "metadata": {
        "id": "vBvvz54NlyKm",
        "colab": {
          "base_uri": "https://localhost:8080/"
        },
        "outputId": "f91314f4-d75b-4c6b-9c1e-2d0f93965bbc"
      },
      "outputs": [
        {
          "output_type": "execute_result",
          "data": {
            "text/plain": [
              "-2.4492935982947064e-16"
            ]
          },
          "metadata": {},
          "execution_count": 33
        }
      ],
      "source": [
        "math.sin(math.radians(360)) # esto debería resultar un número cercano a 0"
      ]
    },
    {
      "cell_type": "code",
      "execution_count": null,
      "metadata": {
        "id": "ul0K19rnl_bm",
        "colab": {
          "base_uri": "https://localhost:8080/"
        },
        "outputId": "139d6e7d-108d-4f72-bf3a-0b95b0b35304"
      },
      "outputs": [
        {
          "output_type": "stream",
          "name": "stdout",
          "text": [
            "2.718281828459045\n"
          ]
        },
        {
          "output_type": "execute_result",
          "data": {
            "text/plain": [
              "1.0"
            ]
          },
          "metadata": {},
          "execution_count": 36
        }
      ],
      "source": [
        "print(math.e)\n",
        "math.log(math.e)"
      ]
    },
    {
      "cell_type": "markdown",
      "metadata": {
        "id": "mfYpGl-WmLbQ"
      },
      "source": [
        "Recordemos que $\\log(x) = y$ si y solo si $e^y = x$.\n",
        "\n",
        "En  general \n",
        "$$\n",
        "\\log_a(x) = y \\quad\\Leftrightarrow \\quad a^y = x  \\quad \\Leftrightarrow\\quad  \\log(a^y) = \\log(x) \\quad  \\Leftrightarrow \\quad \\log(a) \\cdot y = \\log(x)\\quad  \\Leftrightarrow \\quad  y = \\log(x) / \\log(a)\n",
        "$$\n",
        "\n",
        "Concluyendo:\n",
        "$$\n",
        "\\log_a(x) =  \\log(x) / \\log(a)\n",
        "$$\n",
        "\n",
        "Luego  si queremos calcular, el logaritmo en base 2 de `x`, debemos  hacer `math.log(x) / math.log(2)`. Por ejemplo,"
      ]
    },
    {
      "cell_type": "code",
      "execution_count": null,
      "metadata": {
        "id": "khJI4gfhmxjn",
        "colab": {
          "base_uri": "https://localhost:8080/"
        },
        "outputId": "14be2745-d9b4-4cce-bf6c-7a9053304008"
      },
      "outputs": [
        {
          "output_type": "stream",
          "name": "stdout",
          "text": [
            "3.3219280948873626\n",
            "4.0\n",
            "3.321928094887362\n",
            "4.0\n"
          ]
        }
      ],
      "source": [
        "print(math.log(10) / math.log(2)) # logartimo en base 2 de 10\n",
        "print(math.log(16) / math.log(2)) # logartimo en base 2 de 16 (es 4, pues 2**4 = 16)\n",
        "print(math.log2(10))\n",
        "print(math.log2(16))"
      ]
    },
    {
      "cell_type": "markdown",
      "metadata": {
        "id": "DPmsAbIw1IBI"
      },
      "source": [
        "Otra forma de elevar un número  a una potencia es utilizando `math.pow()`"
      ]
    },
    {
      "cell_type": "code",
      "execution_count": null,
      "metadata": {
        "id": "0XWUE-CqnRLh",
        "colab": {
          "base_uri": "https://localhost:8080/"
        },
        "outputId": "6fc2ebbf-450b-4935-e3d2-14367b0d67ec"
      },
      "outputs": [
        {
          "output_type": "execute_result",
          "data": {
            "text/plain": [
              "8.0"
            ]
          },
          "metadata": {},
          "execution_count": 39
        }
      ],
      "source": [
        "math.pow(2, 3)"
      ]
    },
    {
      "cell_type": "markdown",
      "metadata": {
        "id": "d-15A55c1IBI"
      },
      "source": [
        "que es lo mismo que"
      ]
    },
    {
      "cell_type": "code",
      "execution_count": null,
      "metadata": {
        "id": "HouKvv0DnWxN",
        "colab": {
          "base_uri": "https://localhost:8080/"
        },
        "outputId": "f7dfd8b3-cd4b-4f88-d54d-158bc7f90c5d"
      },
      "outputs": [
        {
          "output_type": "execute_result",
          "data": {
            "text/plain": [
              "8"
            ]
          },
          "metadata": {},
          "execution_count": 40
        }
      ],
      "source": [
        "2**3"
      ]
    },
    {
      "cell_type": "markdown",
      "metadata": {
        "id": "gA9ohlQW1IBI"
      },
      "source": [
        "También, para ciertas situaciones y algoritmos a veces es conveniente manejar el concepto de infinito. Esto muchas veces se hace eligiendo un número \"muy grande\". Python nos provee `math.inf` que pese a no ser un númerpo formalmente es del tipo `float`. Decimos que no es número porque no cumple las leyes o axiomas de un número real pues es un \"número\" más grande que cualquier otro. \n",
        "\n",
        "Para que quede claro: matemáticamente *infinito* no es un número sino un concepto matemático."
      ]
    },
    {
      "cell_type": "code",
      "execution_count": null,
      "metadata": {
        "id": "4qUt67U2nfDW",
        "colab": {
          "base_uri": "https://localhost:8080/"
        },
        "outputId": "64f5f199-2ea8-4d6a-e939-e45634dd42e6"
      },
      "outputs": [
        {
          "output_type": "execute_result",
          "data": {
            "text/plain": [
              "float"
            ]
          },
          "metadata": {},
          "execution_count": 41
        }
      ],
      "source": [
        "type(math.inf)"
      ]
    },
    {
      "cell_type": "markdown",
      "metadata": {
        "id": "fTkc6tL81IBJ"
      },
      "source": [
        "Por  el tipo `math.inf` parece ser un número, pero..."
      ]
    },
    {
      "cell_type": "code",
      "execution_count": null,
      "metadata": {
        "id": "o_DTML3D1IBJ",
        "colab": {
          "base_uri": "https://localhost:8080/"
        },
        "outputId": "8edbc07c-361c-48b7-f10c-72224dd42e3d"
      },
      "outputs": [
        {
          "output_type": "execute_result",
          "data": {
            "text/plain": [
              "0.0"
            ]
          },
          "metadata": {},
          "execution_count": 44
        }
      ],
      "source": [
        "math.inf + 1 == math.inf # ningún número cumple con esta condición\n",
        "math.inf / 2 == math.inf"
      ]
    },
    {
      "cell_type": "markdown",
      "source": [
        ""
      ],
      "metadata": {
        "id": "-HOi10lfy1jt"
      }
    },
    {
      "cell_type": "markdown",
      "metadata": {
        "id": "9FVnHMWz1IBJ"
      },
      "source": [
        "El `==` compara dos cantidades y devuelve `True` si son iguales."
      ]
    },
    {
      "cell_type": "code",
      "execution_count": null,
      "metadata": {
        "id": "ovHQaFvF1IBJ",
        "colab": {
          "base_uri": "https://localhost:8080/"
        },
        "outputId": "d3f0e383-9d38-4099-c3ec-bb8031d125d9"
      },
      "outputs": [
        {
          "output_type": "stream",
          "name": "stdout",
          "text": [
            "True\n"
          ]
        }
      ],
      "source": [
        "print(10**452 < math.inf) # todos los números cumplen con esta condición"
      ]
    },
    {
      "cell_type": "markdown",
      "metadata": {
        "id": "Sl3zMcfPsEw_"
      },
      "source": [
        "Para evitar escribir `math.` antes de cada función ejecutamos la siguiente celda  de código:"
      ]
    },
    {
      "cell_type": "code",
      "execution_count": null,
      "metadata": {
        "id": "VA0U308msOTg"
      },
      "outputs": [],
      "source": [
        "from math import *\n"
      ]
    },
    {
      "cell_type": "markdown",
      "metadata": {
        "id": "5tNpL5Cb1IBJ"
      },
      "source": [
        "Luego de ejecutar la celda de arriba es lícito escribir, por ejemplo:"
      ]
    },
    {
      "cell_type": "code",
      "execution_count": null,
      "metadata": {
        "id": "SE_XiSLd1IBK",
        "colab": {
          "base_uri": "https://localhost:8080/"
        },
        "outputId": "0f3e44a5-8fa4-416e-96f1-43b617f37df5"
      },
      "outputs": [
        {
          "output_type": "execute_result",
          "data": {
            "text/plain": [
              "-2.4492935982947064e-16"
            ]
          },
          "metadata": {},
          "execution_count": 47
        }
      ],
      "source": [
        "sin(2 * pi)"
      ]
    },
    {
      "cell_type": "markdown",
      "metadata": {
        "id": "DdtghJIGsSjl"
      },
      "source": [
        "Si sabemos que vamos a utilizar algunas funciones determinadas del módulo, podemos importar solamente esa funciones:"
      ]
    },
    {
      "cell_type": "code",
      "execution_count": null,
      "metadata": {
        "id": "GL5zk4tzn6Zl",
        "colab": {
          "base_uri": "https://localhost:8080/"
        },
        "outputId": "93e6ea61-b6fc-464c-e4dd-da1849cfec66"
      },
      "outputs": [
        {
          "output_type": "execute_result",
          "data": {
            "text/plain": [
              "1.0"
            ]
          },
          "metadata": {},
          "execution_count": 48
        }
      ],
      "source": [
        "from math import log, e\n",
        "log(e)"
      ]
    },
    {
      "cell_type": "markdown",
      "metadata": {
        "id": "bDCuHOhosfmx"
      },
      "source": [
        "Si queremos acortar o cambiar el nombre del módulo dentro de nuestro programa podemos hacer algo como lo siguiente:"
      ]
    },
    {
      "cell_type": "code",
      "execution_count": null,
      "metadata": {
        "id": "57CuD_AjoO8c"
      },
      "outputs": [],
      "source": [
        "import math as mt\n",
        "mt.log(mt.e)"
      ]
    }
  ],
  "metadata": {
    "colab": {
      "collapsed_sections": [],
      "name": " AyP - Clase del 2022-04-04 - Primeros pasos en Python (repaso).ipynb",
      "provenance": []
    },
    "kernelspec": {
      "display_name": "Python 3 (ipykernel)",
      "language": "python",
      "name": "python3"
    },
    "language_info": {
      "codemirror_mode": {
        "name": "ipython",
        "version": 3
      },
      "file_extension": ".py",
      "mimetype": "text/x-python",
      "name": "python",
      "nbconvert_exporter": "python",
      "pygments_lexer": "ipython3",
      "version": "3.9.6"
    }
  },
  "nbformat": 4,
  "nbformat_minor": 0
}