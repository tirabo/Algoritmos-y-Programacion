{
  "cells": [
    {
      "cell_type": "markdown",
      "metadata": {
        "id": "r9jXO5qqhcbr"
      },
      "source": [
        "# Funciones (1° parte)\n",
        "\n",
        "En el contexto de la programación, una *función* es una expresión que se aplica a cierto dominio y devuelve un resultado. Python tiene incorporadas algunas funciones (ya vimos `print()`, `sin()`, etc.) y permite que el programador defina sus propias funciones. Una función definida por el programador consta de una secuencia de declaraciones que realiza un cálculo y esa secuencia tiene nombre. Cuando se define una función, se especifica el nombre y la secuencia de declaraciones. Más tarde, se puede \"llamar\" a la función por su nombre.\n",
        "\n"
      ]
    },
    {
      "cell_type": "markdown",
      "metadata": {
        "id": "1p7V2a6siBJN"
      },
      "source": [
        "## 1. Llamadas a funciones\n",
        "\n",
        "Ya hemos visto un ejemplo de llamada a función. Si ejecutamos\n",
        "```\n",
        "type(42)\n",
        "```\n",
        "se imprime\n",
        "```\n",
        "<clase 'int'>\n",
        "```\n",
        "El nombre de la función es `type`. La expresión entre paréntesis\n",
        "se llama el *argumento* de la función. El resultado, para esta función, es el tipo del argumento.\n",
        "\n",
        "Es común decir que una función \"toma\" un argumento y \"devuelve\" un resultado. El resultado también se denomina *valor de retorno*. \n",
        "\n",
        "En  el caso de `type` es una función que toma cualquier valor y  devuelve el tipo del valor. \n"
      ]
    },
    {
      "cell_type": "code",
      "execution_count": null,
      "metadata": {
        "colab": {
          "base_uri": "https://localhost:8080/"
        },
        "id": "mOYFEcIO5ibn",
        "outputId": "caf47e96-8e34-4966-d86a-b60e0af04e71"
      },
      "outputs": [
        {
          "data": {
            "text/plain": [
              "bool"
            ]
          },
          "execution_count": 1,
          "metadata": {},
          "output_type": "execute_result"
        }
      ],
      "source": [
        "type(2 < 5)"
      ]
    },
    {
      "cell_type": "markdown",
      "metadata": {
        "id": "hBXLj_xP5iNL"
      },
      "source": [
        "\n",
        "Otra función que hemos visto es `print`. Esta función toma un  argumento  o varios separados por comas e imprime en pantalla su valor o, en el caso de varios  argumentos,  sus valores separados por espacios. Es una función que no devuelve nada,  es decir no devuelve un valor que pueda ser utilizado posteriormente. Profundizaremos el concepto de \"funciones que no devuelven nada\" más adelante. \n",
        "\n",
        "Ejemplos de la función `print`:"
      ]
    },
    {
      "cell_type": "code",
      "execution_count": null,
      "metadata": {
        "colab": {
          "base_uri": "https://localhost:8080/"
        },
        "id": "ata_WaVema2j",
        "outputId": "c6609f5a-88b4-44f3-bd60-0d40164a90d5"
      },
      "outputs": [
        {
          "name": "stdout",
          "output_type": "stream",
          "text": [
            "23\n",
            "-1\n",
            "hola adiós\n"
          ]
        }
      ],
      "source": [
        "print('23')\n",
        "x = -1 \n",
        "print(x)\n",
        "print('hola','adiós')"
      ]
    },
    {
      "cell_type": "markdown",
      "metadata": {
        "id": "YOo8W5cpi-y3"
      },
      "source": [
        "Si querés comprobar que `print` no devuelve nada, podès correr la siguiente celda de código."
      ]
    },
    {
      "cell_type": "code",
      "execution_count": null,
      "metadata": {
        "id": "uQATk9Q5-XPT"
      },
      "outputs": [],
      "source": [
        "x = print(2)\n",
        "print(x)\n",
        "print(type(x))"
      ]
    },
    {
      "cell_type": "markdown",
      "metadata": {
        "id": "gK_51szkl90_"
      },
      "source": [
        "Python proporciona funciones que convierten valores de un tipo a otro. La función `int` toma cualquier valor y si puede lo convierte en un número entero. En caso que no pueda se produce un error. Todo esto se puede verificar ejecutando la siguiente celda de código:"
      ]
    },
    {
      "cell_type": "code",
      "execution_count": null,
      "metadata": {
        "id": "y8AfCXWTjBxW"
      },
      "outputs": [],
      "source": [
        "print(int('32'))\n",
        "print(int(42.0))\n",
        "# int('Hola') # descomentar la línea produce un error"
      ]
    },
    {
      "cell_type": "markdown",
      "metadata": {
        "id": "UPr5DsIYjKbT"
      },
      "source": [
        "\n",
        "`int` puede convertir valores de coma flotante en números enteros, pero no redondea; corta la parte decimal:\n"
      ]
    },
    {
      "cell_type": "code",
      "execution_count": null,
      "metadata": {
        "colab": {
          "base_uri": "https://localhost:8080/"
        },
        "id": "BLy-nk4RjlVu",
        "outputId": "54753ab3-33e9-4488-d894-2c80141ec760"
      },
      "outputs": [
        {
          "name": "stdout",
          "output_type": "stream",
          "text": [
            "3\n",
            "-2\n"
          ]
        }
      ],
      "source": [
        "print(int(3.99999))\n",
        "print(int(-2.3))"
      ]
    },
    {
      "cell_type": "markdown",
      "metadata": {
        "id": "0GQjNjl6jpk5"
      },
      "source": [
        "`float` convierte enteros y cadenas que representan números en números punto flotante:\n"
      ]
    },
    {
      "cell_type": "code",
      "execution_count": null,
      "metadata": {
        "colab": {
          "base_uri": "https://localhost:8080/"
        },
        "id": "Y3s6fRQkhbfy",
        "outputId": "01aac389-7b89-49ec-9bd0-cb92184802a1"
      },
      "outputs": [
        {
          "name": "stdout",
          "output_type": "stream",
          "text": [
            "32.0\n",
            "3.14159\n"
          ]
        }
      ],
      "source": [
        "print(float(32))\n",
        "print(float('3.14159'))\n",
        "# print(float('hola')) # descomentar la línea produce error"
      ]
    },
    {
      "cell_type": "markdown",
      "metadata": {
        "id": "zWtBpoyYkOmw"
      },
      "source": [
        "Finalmente, `str` convierte cualquier argumento válido en una cadena:"
      ]
    },
    {
      "cell_type": "code",
      "execution_count": null,
      "metadata": {
        "colab": {
          "base_uri": "https://localhost:8080/"
        },
        "id": "gILmpf3_lNxt",
        "outputId": "4d11424d-86a3-43bf-c6f2-c2e6ea753929"
      },
      "outputs": [
        {
          "name": "stdout",
          "output_type": "stream",
          "text": [
            "32 <class 'str'>\n",
            "3.14159 <class 'str'>\n"
          ]
        }
      ],
      "source": [
        "print(str(32), type(str(32)))\n",
        "print(str(3.14159), type(str(3.14159)))"
      ]
    },
    {
      "cell_type": "markdown",
      "metadata": {
        "id": "0RFfiBT7ntxM"
      },
      "source": [
        "## 2. Funciones matemáticas\n",
        "\n",
        "Hemos visto que Python tiene un módulo matemático que proporciona la mayoría de las funciones matemáticas familiares. Un *módulo* o *biblioteca* es un archivo que contiene una colección de funciones relacionadas. \n",
        "\n",
        "Antes de que podamos usar las funciones en un módulo, tenemos que importarlo con una declaración de importación. Para poder usar el módulo `math` en este cuaderno Jupyter debemos ejecutar la siguiente celda de código:\n"
      ]
    },
    {
      "cell_type": "code",
      "execution_count": null,
      "metadata": {
        "id": "_3EzJtdQo7zQ"
      },
      "outputs": [],
      "source": [
        "import math"
      ]
    },
    {
      "cell_type": "markdown",
      "metadata": {
        "id": "TlMdGZECo_hG"
      },
      "source": [
        "Esta declaración crea un *objeto módulo* llamado math. Si imprime el objeto módulo, obtendrá información sobre él:\n"
      ]
    },
    {
      "cell_type": "code",
      "execution_count": null,
      "metadata": {
        "id": "xYc61KF_p3Fe",
        "outputId": "03848dd4-35c2-485a-dc46-d88c18da17e7"
      },
      "outputs": [
        {
          "name": "stdout",
          "output_type": "stream",
          "text": [
            "<module 'math' (built-in)>\n"
          ]
        }
      ],
      "source": [
        "print(math)"
      ]
    },
    {
      "cell_type": "markdown",
      "metadata": {
        "id": "5sxKBTdop_Aj"
      },
      "source": [
        "El objeto módulo contiene las funciones y variables definidas en el\n",
        "módulo. Para acceder a una de las funciones, debés especificar el nombre\n",
        "del módulo y el nombre de la función, separados por un punto. Este formato se llama *notación punto* o *dot  notation* en inglés.\n",
        "```\n",
        "radio = potencia_señal / potencia_ruido\n",
        "decibeles = 10 * math.log10 (radio)\n",
        "```\n",
        "\n",
        "```\n",
        "radianes = 0.7\n",
        "altura = math.sin(radianes)\n",
        "```\n",
        "El primer ejemplo usa `math.log10` para calcular una relación señal-ruido en decibelios (asumiendo que `potencia_señal` y `potencia_ruido` están definidos). El módulo math también proporciona `log`, que calcula logaritmos en base `e`.\n",
        "\n",
        "El segundo ejemplo encuentra el seno de `radianes`. El nombre de la variable `radianes` es una pista de que `sin` (seno) y las otras funciones trigonométricas (`cos`, `tan`, etc.) toman argumentos en radianes. Para convertir de grados a radianes, hay que dividir por 180 y multiplicar por $\\pi$. Para ejemplificar,  ejecute el siguiente código:\n"
      ]
    },
    {
      "cell_type": "code",
      "execution_count": null,
      "metadata": {
        "colab": {
          "base_uri": "https://localhost:8080/"
        },
        "id": "42R52Nj-r3o7",
        "outputId": "8875b152-1de2-4eca-fc6c-99da535686f7"
      },
      "outputs": [
        {
          "data": {
            "text/plain": [
              "0.7071067811865475"
            ]
          },
          "execution_count": 15,
          "metadata": {},
          "output_type": "execute_result"
        }
      ],
      "source": [
        "grados = 45\n",
        "radianes = grados / 180.0 * math.pi\n",
        "math.sin(radianes)"
      ]
    },
    {
      "cell_type": "markdown",
      "metadata": {
        "id": "xumnMj1Nr5Tq"
      },
      "source": [
        "La expresión `math.pi` obtiene la variable `pi` del módulo math. Su valor es una aproximación en punto flotante de $\\pi$, con una precisión de aproximadamente 15 dígitos.\n",
        "\n",
        "Usando trigonometría, podemos verificar el resultado anterior comparándolo con la raíz cuadrada de dos dividida por dos:\n"
      ]
    },
    {
      "cell_type": "code",
      "execution_count": null,
      "metadata": {
        "colab": {
          "base_uri": "https://localhost:8080/"
        },
        "id": "BDo8TtGBsYQs",
        "outputId": "d8b5f0a3-7cf1-4255-f6fe-8f2a1ec3e3ee"
      },
      "outputs": [
        {
          "data": {
            "text/plain": [
              "0.7071067811865476"
            ]
          },
          "execution_count": 16,
          "metadata": {},
          "output_type": "execute_result"
        }
      ],
      "source": [
        "math.sqrt(2) / 2.0"
      ]
    },
    {
      "cell_type": "markdown",
      "metadata": {
        "id": "qWEpy6bK4ObE"
      },
      "source": [
        "Para convertir de radianes a grados en formato decimal se hace la operación inversa: para convertir de grados a radianes dividíamos por 180  y multiplicábamos por $\\pi$. Ahora debemos multiplicar por 180 y dividir por $\\pi$. "
      ]
    },
    {
      "cell_type": "code",
      "execution_count": null,
      "metadata": {
        "colab": {
          "base_uri": "https://localhost:8080/"
        },
        "id": "o0FMw-S-4ObF",
        "outputId": "bc87c5e0-d7dc-41e6-ea52-f6e3a962b14e"
      },
      "outputs": [
        {
          "name": "stdout",
          "output_type": "stream",
          "text": [
            "29.999999999999996\n"
          ]
        }
      ],
      "source": [
        "radianes = math.pi / 6\n",
        "grados = 180.0 * radianes / math.pi\n",
        "print(grados)"
      ]
    },
    {
      "cell_type": "markdown",
      "metadata": {
        "id": "UffkmrtD__vv"
      },
      "source": [
        "## 3. Composición\n",
        "\n",
        "Hasta ahora, hemos examinado los elementos de un programa; variables, expresiones y declaraciones; de forma aislada, sin hablar de cómo combinarlos.\n",
        "\n",
        "Una de las características más útiles de los lenguajes de programación es su capacidad para tomar pequeños bloques de construcción y *componer*. Por ejemplo, el argumento de una función puede ser cualquier tipo de expresión, incluidos los operadores aritméticos:\n",
        "```\n",
        "x = math.sin(grados / 360.0 * 2 * math.pi)\n",
        "```\n",
        "E incluso llamadas a funciones:\n",
        "```\n",
        "x = math.exp (math.log (x + 1))\n",
        "```\n",
        "Casi en cualquier lugar donde se pueda poner un valor, se puede poner una expresión arbitraria, con una excepción: el lado izquierdo de una declaración de asignación tiene que ser un nombre de variable. Cualquier otra expresión en el lado izquierdo es un error de sintaxis (veremos excepciones a esta regla más adelante). Si ejecutamos\n",
        "```\n",
        "minutos = horas * 60 # correcto\n",
        "horas * 60 = minutos # incorrecto!\n",
        "```\n",
        "obtenemos \n",
        "```\n",
        "SyntaxError: can't assign to operator\n",
        "```\n"
      ]
    },
    {
      "cell_type": "markdown",
      "metadata": {
        "id": "_5L0vYmA__71"
      },
      "source": [
        "## 4. Añadiendo nuevas funciones\n",
        "\n",
        "Hasta ahora, solo hemos estado usando las funciones incorporadas en Python, pero también es posible agregar nuevas funciones. Una definición de función especifica el nombre de una nueva función y la secuencia de instrucciones que se ejecutan cuando se llama a la función.\n",
        "\n",
        "Veamos el siguiente  ejemplo:\n",
        "\n",
        "```\n",
        "def imprimir_instrucciones():\n",
        "    print (\"Abra el  recipiente.\")\n",
        "    print (\"Complete el recipiente con agua.\")\n",
        "```\n",
        "`def` es una palabra clave que indica que se trata de una definición de función. El nombre de la función es `imprimir_instrucciones` y es una función que no tiene argumentos y no devuelve nada.\n",
        "\n",
        "Las reglas para los nombres de las funciones son las mismas que para los nombres de las variables: las letras, los números y el subrayado son legales, pero el primer carácter no puede ser un número. No puede usar una palabra clave como nombre de una función, y debe evitar tener una variable y una función con el mismo nombre.\n",
        "\n",
        "Los paréntesis vacíos después del nombre indican que esta función no acepta argumentos.\n",
        "\n",
        "La primera línea de la definición de la función se llama *header* o *encabezado*; el resto se llama *body* o *cuerpo de la función*. El encabezado debe terminar con dos puntos y el cuerpo debe tener sangría. Por convención, la sangría es siempre de cuatro espacios. El cuerpo puede contener cualquier número de declaraciones. \n",
        "\n",
        "Hablando propiamente del cuerpo de la función `imprimir_instrucciones()`, las cadenas de las declaraciones de impresión están entre comillas dobles. Las comillas simples y las dobles hacen lo mismo; la mayoría de la gente usa comillas simples. En  el caso  donde aparece una comilla simple (que también es un apostrofe) en la cadena se utilizan las comillas dobles (este no es el caso).Todas las comillas (simples y dobles) deben ser \"comillas rectas\" las \"comillas inclinadas compuestas de tildes (como ser \\` o bien ´) no son legales en Python.\n",
        "\n",
        "\n",
        "La definición de una función crea un *objeto función*, que tiene el tipo `function`. Probá con el siguiente código:\n"
      ]
    },
    {
      "cell_type": "code",
      "execution_count": null,
      "metadata": {
        "colab": {
          "base_uri": "https://localhost:8080/"
        },
        "id": "lYdlVQPBD9k0",
        "outputId": "3a1221b9-aed3-4f08-de60-360435480613"
      },
      "outputs": [
        {
          "name": "stdout",
          "output_type": "stream",
          "text": [
            "<function imprimir_instrucciones at 0x7f7b82df63b0>\n"
          ]
        },
        {
          "data": {
            "text/plain": [
              "function"
            ]
          },
          "execution_count": 21,
          "metadata": {},
          "output_type": "execute_result"
        }
      ],
      "source": [
        "def imprimir_instrucciones():\n",
        "    print (\"Abra el  recipiente.\")\n",
        "    print (\"Complete el recipiente con agua.\")\n",
        "\n",
        "print(imprimir_instrucciones)\n",
        "type(imprimir_instrucciones)"
      ]
    },
    {
      "cell_type": "markdown",
      "metadata": {
        "id": "26zGBrpuECc9"
      },
      "source": [
        "La sintaxis para llamar a la nueva función es la misma que para las funciones integradas:\n"
      ]
    },
    {
      "cell_type": "code",
      "execution_count": null,
      "metadata": {
        "id": "Xon9ZWa3En5p"
      },
      "outputs": [],
      "source": [
        "imprimir_instrucciones()"
      ]
    },
    {
      "cell_type": "markdown",
      "metadata": {
        "id": "n4pvEBaKEoCf"
      },
      "source": [
        "Una vez que haya definido una función, puede usarla dentro de otra función. Por ejemplo, para repetir el texto anterior, podríamos escribir una función llamada `repetir_instrucciones`:"
      ]
    },
    {
      "cell_type": "code",
      "execution_count": null,
      "metadata": {
        "id": "zP8T9yvSE9Tv"
      },
      "outputs": [],
      "source": [
        "def repetir_instrucciones():\n",
        "    imprimir_instrucciones()\n",
        "    imprimir_instrucciones()"
      ]
    },
    {
      "cell_type": "markdown",
      "metadata": {
        "id": "75173mYUFOuq"
      },
      "source": [
        "Si ejecutamos la celda anterior y la siguiente repetimos las instrucciones:"
      ]
    },
    {
      "cell_type": "code",
      "execution_count": null,
      "metadata": {
        "id": "8D6ZdDqoFc4J"
      },
      "outputs": [],
      "source": [
        "repetir_instrucciones()"
      ]
    },
    {
      "cell_type": "markdown",
      "metadata": {
        "id": "gHZFSM12Gpup"
      },
      "source": [
        "Al reunir los fragmentos de código, todo el programa se ve así:\n",
        "\n",
        "\n",
        "```\n",
        "def imprimir_instrucciones():\n",
        "    print (\"Abra el  recipiente.\")\n",
        "    print (\"Complete el recipiente con agua.\")\n",
        "\n",
        "def repetir_instrucciones():\n",
        "    imprimir_instrucciones()\n",
        "    imprimir_instrucciones()\n",
        "\n",
        "repetir_instrucciones()\n",
        "```\n",
        "Este programa contiene dos definiciones de función: `imprimir_instrucciones` y `repetir_instrucciones`. Las definiciones de funciones se ejecutan al igual que otras declaraciones, pero el efecto es crear objetos de función. Las declaraciones dentro de la función no se ejecutan hasta que se llama a la función y la definición de la función no genera salida.\n",
        "\n",
        "Como era de esperar, hay que crear una función antes de poder ejecutarla. En otras palabras, la definición de la función debe ejecutarse antes de que se llame a la función.\n",
        "\n",
        "Como ejercicio, mové la última línea de este programa hacia arriba, para que la llamada a la función aparezca antes de las definiciones. Ejecutá el programa y observá qué mensaje de error se obtiene.\n",
        "\n",
        "Ahora mové la llamada a la función al final y move la definición de `imprimir_instrucciones` después de la definición de `repetir_instrucciones`. ¿Qué sucede cuando ejecutás este programa?\n",
        "\n",
        "\n"
      ]
    },
    {
      "cell_type": "markdown",
      "metadata": {
        "id": "WR2dqlI64ObJ"
      },
      "source": [
        "## 5. Cadenas de documentación en Python\n",
        "\n",
        "Una *cadena de documentación* es un tipo de comentario que comienza y termina  con `\"\"\"`. Por  ejemplo\n",
        "\n",
        "    \"\"\"Comentario en una línea\"\"\"\n",
        "   \n",
        "o\n",
        "\n",
        "    \"\"\"\n",
        "    Esta es una línea de comentario\n",
        "    Esta también\n",
        "    ...\n",
        "    \"\"\"\n",
        "\n",
        "Esta forma de comentar permite hacer comentarios extensos y además lo que se encuentra en estos comentarios permite generar automáticamente la documentación del código, tema que no veremos en este curso.\n",
        "\n",
        "Las cadenas de documentación se llaman *docstrings*.\n",
        "\n",
        "Técnicamente hablando, los docstrings no son comentarios. Crean variables anónimas que hacen referencia a las cadenas. Además, no son ignoradas por el intérprete de Python. Como dijimos más arriba se utilizan para generar documentación.\n",
        "\n",
        "Python proporciona dos tipos de docstrings: docstrings de una línea y docstrings de varias líneas.\n",
        "\n",
        "### 1) Docstrings de una línea\n",
        "\n",
        "Como su nombre indica, un docstring de una línea cabe en una línea. Un docstring de una línea comienza con comillas triples (\"\"\") y también termina con comillas triples (\"\"\"). Además, no habrá ninguna línea en blanco ni antes ni después de la docstring de una línea.\n",
        "\n",
        "El siguiente ejemplo ilustra un docstring de una línea en la función quicksort():\n",
        "\n",
        "    def quicksort():\n",
        "        \"\"\" ordenar la lista usando el algoritmo quicksort \"\"\"\n",
        "        ...\n",
        "\n",
        "### 2) Docstrings multilínea\n",
        "\n",
        "A diferencia de los docstrings de una línea, los docstrings de varias líneas pueden abarcar varias líneas. Una docstring multilínea también comienza con comillas triples (`\"\"\"`) y termina con comillas triples (`\"\"\"`).\n",
        "\n",
        "El siguiente ejemplo muestra cómo utilizar las cadenas de documentos multilínea:\n",
        "\n",
        "    def incrementar(sueldo, rating):\n",
        "        \"\"\" \n",
        "        pre: sueldo - número decimal\n",
        "             rating - número entero de 1 al 6\n",
        "        post: incrementa el sueldo en base rating\n",
        "                rating 1 - 2 no incrementa\n",
        "                rating 3 - 4 incrementa 5%\n",
        "                rating 4 - 6 incrementa 10%\n",
        "        \"\"\""
      ]
    },
    {
      "cell_type": "markdown",
      "metadata": {
        "id": "Nq91LAES4ObK"
      },
      "source": [
        "## 6. Ejemplo: conversión de formatos de grados\n",
        "\n",
        "Las coordenadas de los mapas se representaban tradicionalmente como grados, minutos y segundos (GMS), llamados  *grado sexagesimales*. Sin embargo, en los *sistemas de información geográfica* (SIG) que se utilizan en las computadoras, la latitud y la longitud se representan como números decimales conocidos como *grados decimales*. El formato de grados, minutos y segundos se sigue utilizando. A veces, hay que convertir entre ese formato y los grados decimales para realizar cálculos y elaborar informes.\n",
        "\n",
        "Escribiremos las funciones que imprimen la conversión de un sistema a otro. \n",
        "\n",
        "Primero convertiremos grados sexagesimales en  grados decimales y eso es muy sencillo cuando usamos grados positivos:"
      ]
    },
    {
      "cell_type": "code",
      "execution_count": null,
      "metadata": {
        "colab": {
          "base_uri": "https://localhost:8080/"
        },
        "id": "MQxMr3Uz4ObL",
        "outputId": "68a22b86-f0af-408a-90b5-9b62101bc6d1"
      },
      "outputs": [
        {
          "name": "stdout",
          "output_type": "stream",
          "text": [
            "33.906527777777775\n"
          ]
        }
      ],
      "source": [
        "def sexa_a_deci(grados: int , minutos: int , segundos: float) -> float:\n",
        "    # pre: 0 <= grados, 0 <= minutos < 60, 0 <= segundos < 60\n",
        "    # post: imprime los grados sexagesimales en notación decimal\n",
        "    print(grados + minutos / 60 + segundos / 3600)\n",
        "\n",
        "sexa_a_deci(33, 54, 23.5)"
      ]
    },
    {
      "cell_type": "markdown",
      "metadata": {
        "id": "GOjcJYhy4ObL"
      },
      "source": [
        "Un poco más laboriosa es la conversión de grados decimales a sexagesimales:"
      ]
    },
    {
      "cell_type": "code",
      "execution_count": null,
      "metadata": {
        "colab": {
          "base_uri": "https://localhost:8080/"
        },
        "id": "HDQJuyDk4ObL",
        "outputId": "e0c70a6f-1767-4c2c-b1d1-7ec2ee8949e8"
      },
      "outputs": [
        {
          "name": "stdout",
          "output_type": "stream",
          "text": [
            "33 54 23.499999999990564\n"
          ]
        }
      ],
      "source": [
        "import math \n",
        "\n",
        "def deci_a_sexa(posicion: float) -> tuple:\n",
        "    # pre: pos son grados en notación decimal, pos >= 0\n",
        "    # post:  imprime la conversión de pos a grados, minutos, segundos sexagesimales\n",
        "    grados = math.floor(pos)\n",
        "    resto = posicion - grados\n",
        "    minutos = math.floor(resto * 60)\n",
        "    resto = resto * 60 - minutos\n",
        "    segundos = 60 * resto\n",
        "    print(grados, minutos, segundos)\n",
        "\n",
        "deci_a_sexa(33.906527777777775)"
      ]
    },
    {
      "cell_type": "markdown",
      "metadata": {
        "id": "INRoaU1mi-zE"
      },
      "source": [
        "Otra forma de definir la función, quizás más intuitiva:"
      ]
    },
    {
      "cell_type": "code",
      "execution_count": null,
      "metadata": {
        "colab": {
          "base_uri": "https://localhost:8080/"
        },
        "id": "tcJHRCyeFsc3",
        "outputId": "a0e523be-9e1d-4299-978f-8f31d670ffea"
      },
      "outputs": [
        {
          "name": "stdout",
          "output_type": "stream",
          "text": [
            "33 54 23.49999999999045\n"
          ]
        }
      ],
      "source": [
        "def deci_a_sexa(posicion: float) -> tuple:\n",
        "    # pre: pos son grados en notación decimal, pos >= 0\n",
        "    # post:  imprime la conversión de pos a grados, minutos, segundos sexagesimales\n",
        "    grados = math.floor(posicion) # grados totales\n",
        "    segundos = (posicion - grados) * 3600 # estos son los segundos totales restados los grados\n",
        "    minutos = math.floor(segundos / 60) # estos son los minutos totales restados los grados\n",
        "    segundos = segundos - 60 * minutos # estos son los segundos totales restados los grados y minutos\n",
        "  \n",
        "    print(grados, minutos, segundos)\n",
        "\n",
        "deci_a_sexa(33.906527777777775)"
      ]
    },
    {
      "cell_type": "markdown",
      "metadata": {
        "id": "MkKNfEKa4ObM"
      },
      "source": [
        "La función `math.floor()` trunca un número positivo a su parte entera. \n",
        "\n",
        "Las funciones `sexa_a_deci()` y  `deci_a_sexa()` deben considerarse funciones auxiliares que ayudarán a resolver el problema, un poco más complejo, de pasar de coordenadas terrestres sexagesimales a coordenadas terrestres decimales y viceversa. Eso lo podremos hacer usando condicionales, los cuales veremos dentro de poco."
      ]
    }
  ],
  "metadata": {
    "colab": {
      "collapsed_sections": [],
      "name": "AyP - Clase del 2022-04-06 (2º parte) - Funciones.ipynb",
      "provenance": []
    },
    "kernelspec": {
      "display_name": "Python 3 (ipykernel)",
      "language": "python",
      "name": "python3"
    },
    "language_info": {
      "codemirror_mode": {
        "name": "ipython",
        "version": 3
      },
      "file_extension": ".py",
      "mimetype": "text/x-python",
      "name": "python",
      "nbconvert_exporter": "python",
      "pygments_lexer": "ipython3",
      "version": "3.8.5"
    }
  },
  "nbformat": 4,
  "nbformat_minor": 0
}