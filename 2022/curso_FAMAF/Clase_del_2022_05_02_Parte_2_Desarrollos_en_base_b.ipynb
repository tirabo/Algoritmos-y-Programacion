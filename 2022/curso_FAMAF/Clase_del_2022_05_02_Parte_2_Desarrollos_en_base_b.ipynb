{
  "cells": [
    {
      "cell_type": "markdown",
      "metadata": {
        "id": "LRZ4MOWsGusR"
      },
      "source": [
        "### Desarrollo en base $b \\ge 2$\n",
        "\n",
        "Un número entero positivo se puede escribir de una única forma \n",
        "$$\n",
        "n = \\sum_{i=0}^k a_i b^i = a_kb^k + a_{k-1}b^{k-1} + \\cdots + a_1 b + a_0,\n",
        "$$\n",
        "donde $a_k \\ne 0$ y $ 0 \\le a_i < b$ ($0 \\le i \\le k$). \n",
        "\n",
        "Escribimos $n = (a_ka_{k-1} \\ldots a_0)_b$. \n",
        "\n",
        "La suma de número binarios se puede hacer directamente,  teniendo en cuenta que  $(1)_2 + (1)_2 = (10)_2$. Por ejemplo, \n",
        "$$\n",
        "(10)_2 + (10)_2 = (100)_2, \\quad (10111)_2 + (100)_2 = (11011)_2. \n",
        "$$\n",
        "\n",
        "En  forma análoga si $t \\in \\mathbb R$, $t >0$, \n",
        "$$\n",
        "t = \\sum_{i=-\\infty}^k a_i b^i.\n",
        "$$\n",
        "donde $a_k \\ne 0$ y $ 0 \\le a_i < b$ ($-\\infty \\le i \\le k$). \n",
        "\n",
        "*Ejemplos.* Escribamos $0.5$ en base $2$.\n",
        "$$\n",
        "0.5 = \\frac{1}{2} = 1\\cdot 2^{-1},\n",
        "$$\n",
        "luego $0.5 = (0.1)_2$. \n",
        "\n",
        "¿Qué  número es (en base 10) el número $(0.01)_2$? \n",
        "$$\n",
        "(0.01)_2 = 1 \\cdot 2^{-2} = 0.25. \n",
        "$$\n",
        "\n",
        "Como ocurre en base $10$, algunos números reales pueden requerir un desarrollo infinito. Por ejemplo:\n",
        "$$\n",
        "0.1 =  (0.0001\\, 1001\\, 1001\\, {1001} ....)_2,\n",
        "$$\n",
        "Es decir el desarrollo de base $2$ de $0.1$ es $0.0001$ seguido por infinitas repeticiones de  $1001$, lo que se llama el *período.*"
      ]
    },
    {
      "cell_type": "markdown",
      "metadata": {},
      "source": [
        "*Observación* Pese a que nuestra creencia es que todo número real se representa de una única forma ¿sabías que $1 = 0.9999...$? Veamos una denostración de este hecho   poco intuitivo:\n",
        "\\begin{align*}\n",
        "     x &= 0.999\\ldots \\\\\n",
        "   10x &= 9.999\\ldots && \\text{(multiplicando por $10$)}\\\\\n",
        "   10x &= 9+0.999\\ldots && \\\\\n",
        "   10x &= 9 + x && \\text{(por definición de $x$) }\\\\\n",
        "   9x &= 9 && \\text{(restando $x$)}\\\\\n",
        "    x &= 1 && \\text{(dividiendo por 9)}\n",
        "\\end{align*}\n",
        "De la misma forma podemos demostrar que\n",
        "$$\n",
        "(1)_2 = (0.11111...)_2.\n",
        "$$\n",
        "\n",
        "También se pueden probar estas igualdades por argumentos analíticos que ustedes verán en las materias de cálculo. Por ejemplo, utilizando la teoría de series (sumas infinitas) se puede probar que\n",
        "$$\n",
        "1 = \\sum_{i=1}^\\infty 9/10^i.\n",
        "$$"
      ]
    },
    {
      "cell_type": "markdown",
      "metadata": {},
      "source": [
        "En Python los números se representan internamente en forma binaria y es por eso que ocurren fenómenos \"raros\" que veremos a continuación:"
      ]
    },
    {
      "cell_type": "code",
      "execution_count": 1,
      "metadata": {
        "colab": {
          "base_uri": "https://localhost:8080/"
        },
        "id": "IrACgRsYesp1",
        "outputId": "ebbeb558-3549-4efe-ced9-aaff85a71c49"
      },
      "outputs": [
        {
          "name": "stdout",
          "output_type": "stream",
          "text": [
            "0.1\n",
            "0.2\n",
            "0.30000000000000004\n",
            "0.4\n",
            "0.5\n",
            "5.551115123125783e-17\n",
            "Se pierde exactitud en los cálculos: x**2 + y = 0.19000000000000003 . Debería dar 0.19\n"
          ]
        }
      ],
      "source": [
        "# En base 2 tenemos las siguientes representaciones\n",
        "# 0.1 = (0.0001 1001 1001 1001 ....)_2\n",
        "# 0.1 + 0.1 = (0.0011 0011 0011 0011 0011 0011 ....)_2\n",
        "# 0.1 + 0.1 + 0.1 = (0.0100 1100 1100 1100 1100 ....)_2\n",
        "# 0.1 + 0.1 + 0.1 + 0.1 = (0.0110 0110 0110 0110 ....)_2\n",
        "# 0.1 + 0.1 + 0.1 + 0.1 + 0.1 = (0.1)_2 (que es = a (2**(-1)) = 1/2)\n",
        "print(0.1)\n",
        "print(0.1 + 0.1)\n",
        "print(0.1 + 0.1 + 0.1)\n",
        "print(0.1 + 0.1 + 0.1 + 0.1 )\n",
        "print(0.1 + 0.1 + 0.1 + 0.1 + 0.1)\n",
        "\n",
        "print(0.1 + 0.1 + 0.1 - 0.3)\n",
        "x, y = 0.1 + 0.1 + 0.1, 0.1\n",
        "print('Se pierde exactitud en los cálculos: x**2 + y =', x**2 + y,'. Debería dar', 0.19)"
      ]
    },
    {
      "cell_type": "markdown",
      "metadata": {
        "id": "f-sLRmwNeWaM"
      },
      "source": [
        "Como se vió en la celda anterior `0.1 + 0.1 + 0.1` no da exactamente `0.3` y eso es por la representación binaria de Python. \n",
        "\n",
        "La biblioteca `Decimal` nos permite hacer operaciones con números representados en forma decimal exactas. \n",
        "\n",
        "Con la biblioteca `Decimal`  `0.1 + 0.1 + 0.1 - 0.3` es exactamente igual a cero. En `float`, el resultado es `5.551115123125783e-17`. Aunque cercanas a cero, las diferencias impiden pruebas de igualdad confiables y las diferencias pueden acumularse. Por estas razones, se recomienda el uso de `Decimal` en aplicaciones de contabilidad con estrictas restricciones de confiabilidad."
      ]
    },
    {
      "cell_type": "code",
      "execution_count": 2,
      "metadata": {
        "colab": {
          "base_uri": "https://localhost:8080/"
        },
        "id": "J6bDcFgZk0gZ",
        "outputId": "6a93b0d0-e3d3-474f-d3f8-253306681631"
      },
      "outputs": [
        {
          "name": "stdout",
          "output_type": "stream",
          "text": [
            "1\n",
            "0.2\n",
            "0.3\n",
            "0.4\n",
            "0.5\n",
            "0.0\n",
            "Los cálculos son exactos: x**2 + y = 0.19 . Debería dar (y da) 0.19\n"
          ]
        }
      ],
      "source": [
        "from decimal import *\n",
        "import math\n",
        "getcontext().prec = 28\n",
        "x = Decimal(1)\n",
        "print(x)\n",
        "print(Decimal('0.1') + Decimal('0.1'))\n",
        "print(Decimal('0.1') + Decimal('0.1') + Decimal('0.1'))\n",
        "print(Decimal('0.1') + Decimal('0.1') + Decimal('0.1') + Decimal('0.1'))\n",
        "print(Decimal('0.1') + Decimal('0.1') + Decimal('0.1') + Decimal('0.1') + Decimal('0.1'))\n",
        "print(Decimal('0.1') + Decimal('0.1') + Decimal('0.1') - Decimal('0.3'))\n",
        "\n",
        "x, y = Decimal('0.1') + Decimal('0.1') + Decimal('0.1'), Decimal('0.1')\n",
        "print('Los cálculos son exactos: x**2 + y =', x**2 + y,'. Debería dar (y da)', 0.19)\n",
        "\n"
      ]
    },
    {
      "cell_type": "markdown",
      "metadata": {},
      "source": [
        "### Series de Taylor para la exponencial\n",
        "\n",
        "El número $e$ se define de la siguiente manera:\n",
        "$$\n",
        "e = \\lim_{n \\to \\infty} \\left( 1 + \\frac{1}{n}  \\right)^n.\n",
        "$$ \n",
        "y \n",
        "$$\n",
        "e^x = \\lim_{n \\to \\infty} \\left( 1 + \\frac{1}{n}  \\right)^{nx}.\n",
        "$$\n",
        "\n",
        "Definamos en  Python una función que nos de una aproximación de $e$"
      ]
    },
    {
      "cell_type": "code",
      "execution_count": 3,
      "metadata": {},
      "outputs": [],
      "source": [
        "def exp_0(n: int) -> float:\n",
        "    # pre: n entero > 0\n",
        "    # post: devuelve (1 + 1/n)**n\n",
        "    return (1 + 1/n)**n"
      ]
    },
    {
      "cell_type": "markdown",
      "metadata": {},
      "source": [
        "Hagamos algunas pruebas"
      ]
    },
    {
      "cell_type": "code",
      "execution_count": 7,
      "metadata": {},
      "outputs": [
        {
          "name": "stdout",
          "output_type": "stream",
          "text": [
            "1 : 2.0\n",
            "2 : 2.25\n",
            "3 : 2.37037037037037\n",
            "4 : 2.44140625\n",
            "5 : 2.4883199999999994\n",
            "6 : 2.5216263717421135\n",
            "7 : 2.546499697040712\n",
            "8 : 2.565784513950348\n",
            "9 : 2.5811747917131984\n",
            "10 : 2.5937424601000023\n",
            "11 : 2.6041990118975287\n",
            "12 : 2.613035290224676\n",
            "13 : 2.6206008878857308\n",
            "14 : 2.6271515563008685\n",
            "15 : 2.6328787177279187\n",
            "16 : 2.6379284973666\n",
            "17 : 2.64241437518311\n",
            "18 : 2.6464258210976865\n",
            "19 : 2.650034326640442\n"
          ]
        }
      ],
      "source": [
        "for i in range(1, 20):\n",
        "    print(i,':',exp_0(i))"
      ]
    },
    {
      "cell_type": "markdown",
      "metadata": {},
      "source": [
        "Una mejor forma de calcular $e$ es con la serie de Taylor, \n",
        "$$\n",
        "e = \\sum_{i=0}^{\\infty} \\frac1{i!}.\n",
        "$$\n",
        "y\n",
        "$$\n",
        "e^x = \\sum_{i=0}^{\\infty} \\frac1{i!}x^i.\n",
        "$$\n",
        "Luego,  una aproximación de $e^x$, de grado $n$ es\n",
        "$$\n",
        "e^x = \\sum_{i=0}^{n} \\frac1{i!}x^i.\n",
        "$$\n"
      ]
    },
    {
      "cell_type": "code",
      "execution_count": 8,
      "metadata": {
        "colab": {
          "base_uri": "https://localhost:8080/"
        },
        "id": "A1ruIqxYGxPk",
        "outputId": "11b9ee75-3202-44f7-8e30-43c4ca04ded2"
      },
      "outputs": [
        {
          "name": "stdout",
          "output_type": "stream",
          "text": [
            "2.7182818011463845\n",
            "0.3678794642857144\n"
          ]
        }
      ],
      "source": [
        "def exp(x: float, n: int) -> float:\n",
        "  # Calcula la serie de Taylor de e**x hasta grado n\n",
        "  # e**x = \\sum_{n=0}^\\infty x**n / n!\n",
        "  ex = 0\n",
        "  for i in range(n + 1):\n",
        "    ex = ex + x**i / math.factorial(i)\n",
        "  return ex\n",
        "\n",
        "print(exp(1, 10)) # aproximación de e (e**1)\n",
        "print(exp(-1,10)) # aproximación de e**(-1)\n",
        "\n",
        "\n",
        "\n"
      ]
    },
    {
      "cell_type": "markdown",
      "metadata": {
        "id": "jTjpPbLWhzrm"
      },
      "source": [
        "Podemos mejorar la precisión con `Decimal`."
      ]
    },
    {
      "cell_type": "code",
      "execution_count": 9,
      "metadata": {
        "colab": {
          "base_uri": "https://localhost:8080/"
        },
        "id": "9ry0ogs8Fibi",
        "outputId": "01391238-3dce-4636-d8df-898f460b7761"
      },
      "outputs": [
        {
          "name": "stdout",
          "output_type": "stream",
          "text": [
            "3.3428090787302773294730581724244225E-17\n"
          ]
        }
      ],
      "source": [
        "getcontext().prec = 50 # precisión hasta 50 dígitos\n",
        "\n",
        "def expD(x: float, n: int) -> float:\n",
        "  # Calcula la serie de Taylor de e**x hasta grado n\n",
        "  # e**x = \\sum_{n=0}^\\infty x**n / n!\n",
        "  aprox_ex = Decimal('0')\n",
        "  for i in range(n + 1):\n",
        "    aprox_ex = aprox_ex + Decimal(str(x))**i / Decimal(str(math.factorial(i)))\n",
        "  return aprox_ex\n",
        "\n",
        "# Observación: debemos poner Decimal(str(x)) pues, aunque Decimal acepta float, \n",
        "#    para preservar la precisión se deben ingresar números como strings. \n",
        "\n",
        "print(Decimal(exp(1,10))- expD(1,10)) # varían a partir de decimal 16\n",
        "\n",
        "# Observación: la expresión print(exp(1,10)- expD(1,10)) nos devuelve error pues \n",
        "#   exp(1,10) es float y expD(1,10) es decimal.Decimal \n",
        "\n",
        "\n"
      ]
    }
  ],
  "metadata": {
    "colab": {
      "collapsed_sections": [],
      "name": "Clase laboratorio 26-04-21.ipynb",
      "provenance": []
    },
    "kernelspec": {
      "display_name": "Python 3",
      "name": "python3"
    },
    "language_info": {
      "codemirror_mode": {
        "name": "ipython",
        "version": 3
      },
      "file_extension": ".py",
      "mimetype": "text/x-python",
      "name": "python",
      "nbconvert_exporter": "python",
      "pygments_lexer": "ipython3",
      "version": "3.9.5"
    }
  },
  "nbformat": 4,
  "nbformat_minor": 0
}
