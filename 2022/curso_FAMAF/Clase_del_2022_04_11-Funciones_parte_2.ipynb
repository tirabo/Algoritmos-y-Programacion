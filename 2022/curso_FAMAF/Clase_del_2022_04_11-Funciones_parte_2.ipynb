{
 "cells": [
  {
   "cell_type": "markdown",
   "metadata": {},
   "source": [
    "# Funciones (2° parte)"
   ]
  },
  {
   "cell_type": "markdown",
   "metadata": {
    "id": "v-ZlYiBFGv6t"
   },
   "source": [
    "## 7. Flujo de ejecución\n",
    "\n",
    "Para asegurarse de que una función esté definida antes de su primer uso, debe conocer las instrucciones de orden en que se ejecutan, lo que se denomina flujo de ejecución.\n",
    "\n",
    "La ejecución siempre comienza en la primera declaración del programa. Las declaraciones se ejecutan de una en una, en orden de arriba hacia abajo.\n",
    "\n",
    "Las definiciones de funciones no alteran el flujo de ejecución del programa, pero hay que recordar que las declaraciones dentro de la función no se ejecutan hasta que se llama a la función.\n",
    "\n",
    "Una llamada a una función es como un desvío en el flujo de ejecución. En lugar de ir a la siguiente declaración, el flujo salta al cuerpo de la función, ejecuta las declaraciones allí y luego regresa para continuar donde lo dejó.\n",
    "\n",
    "Eso suena bastante simple, hasta que recordamos que una función puede llamar a otra. Mientras esté en medio de una función, el programa podría tener que ejecutar las instrucciones en otra función. Luego, mientras se ejecuta esa nueva función, ¡es posible que el programa tenga que ejecutar otra función más!\n",
    "\n",
    "Afortunadamente, Python es bueno para realizar un seguimiento de dónde se encuentra, por lo que cada vez que se completa una función, el programa retoma donde lo dejó en la función que la llamó. Cuando llega al final del programa, termina.\n",
    "\n",
    "En resumen, cuando lees un programa, no siempre hay leer de arriba a abajo. En  general tiene más sentido seguir el flujo de ejecución."
   ]
  },
  {
   "cell_type": "markdown",
   "metadata": {
    "id": "0beOSufSKYZZ"
   },
   "source": [
    "## 8. Parámetros y argumentos\n",
    "\n",
    "Algunas de las funciones que hemos visto requieren argumentos. Por ejemplo, cuando llamamos a `math.sin` se pasa un número como argumento. Algunas funciones toman más de un argumento: `math.pow` toma dos, la base y el exponente.\n",
    "\n",
    "Dentro de la función, los argumentos se asignan a variables llamadas *parámetros*. A continuación, una definición de una función que toma un argumento:\n",
    "\n"
   ]
  },
  {
   "cell_type": "code",
   "execution_count": 2,
   "metadata": {
    "executionInfo": {
     "elapsed": 297,
     "status": "ok",
     "timestamp": 1629981557015,
     "user": {
      "displayName": "Alejandro Leopoldo Tiraboschi",
      "photoUrl": "https://lh3.googleusercontent.com/a-/AOh14Gir321Aip7u2JtD7LMLQbY3a1oHsAD11CVed_UbeFc=s64",
      "userId": "02370857492204546552"
     },
     "user_tz": 180
    },
    "id": "zGHGBqoaEXsR"
   },
   "outputs": [],
   "source": [
    "# Ejecutar esta función\n",
    "def imprimir_4_veces(nombre):\n",
    "    print(nombre)\n",
    "    print(nombre)\n",
    "    print(nombre)\n",
    "    print(nombre)"
   ]
  },
  {
   "cell_type": "markdown",
   "metadata": {
    "id": "t-edvW6PEZJt"
   },
   "source": [
    "Esta función asigna el argumento a un parámetro llamado `nombre`. Cuando se llama a la función, imprime el valor del parámetro (cualquiera que sea) cuatro veces.\n",
    "\n",
    "La función trabaja con cualquier valor que se pueda imprimir. Por ejemplo:\n"
   ]
  },
  {
   "cell_type": "code",
   "execution_count": 4,
   "metadata": {
    "id": "yDRU3O-LE6hm"
   },
   "outputs": [
    {
     "name": "stdout",
     "output_type": "stream",
     "text": [
      "Spam\n",
      "Spam\n",
      "Spam\n",
      "Spam\n",
      "42\n",
      "42\n",
      "42\n",
      "42\n",
      "3.141592653589793\n",
      "3.141592653589793\n",
      "3.141592653589793\n",
      "3.141592653589793\n"
     ]
    }
   ],
   "source": [
    "import math \n",
    "imprimir_4_veces('Spam')\n",
    "imprimir_4_veces(42)\n",
    "imprimir_4_veces(math.pi)"
   ]
  },
  {
   "cell_type": "markdown",
   "metadata": {
    "id": "uoBR2j1aE6q8"
   },
   "source": [
    "Las mismas reglas de composición que se aplican a las funciones predeefinidas también se aplican a las funciones definidas por el programador, por lo que podemos usar cualquier tipo de expresión como argumento para `imprimir_4_veces`:"
   ]
  },
  {
   "cell_type": "code",
   "execution_count": 5,
   "metadata": {
    "id": "1AXhVHICFiXc"
   },
   "outputs": [
    {
     "name": "stdout",
     "output_type": "stream",
     "text": [
      "SpamSpam\n",
      "SpamSpam\n",
      "SpamSpam\n",
      "SpamSpam\n",
      "45\n",
      "45\n",
      "45\n",
      "45\n",
      "-1.0\n",
      "-1.0\n",
      "-1.0\n",
      "-1.0\n"
     ]
    }
   ],
   "source": [
    "imprimir_4_veces('Spam' * 2)\n",
    "imprimir_4_veces(42 + 3)\n",
    "imprimir_4_veces(math.cos(math.pi))"
   ]
  },
  {
   "cell_type": "markdown",
   "metadata": {
    "id": "bSJ89aB7Fifw"
   },
   "source": [
    "El argumento se evalúa antes de llamar a la función, por lo que en los ejemplos las expresiones `'Spam' * 2`, `42 + 3`y `math.cos(math.pi)` solo se evalúan una vez.\n",
    "\n",
    "También se puede utilizar una variable como argumento:"
   ]
  },
  {
   "cell_type": "code",
   "execution_count": null,
   "metadata": {
    "colab": {
     "base_uri": "https://localhost:8080/"
    },
    "executionInfo": {
     "elapsed": 289,
     "status": "ok",
     "timestamp": 1629981561534,
     "user": {
      "displayName": "Alejandro Leopoldo Tiraboschi",
      "photoUrl": "https://lh3.googleusercontent.com/a-/AOh14Gir321Aip7u2JtD7LMLQbY3a1oHsAD11CVed_UbeFc=s64",
      "userId": "02370857492204546552"
     },
     "user_tz": 180
    },
    "id": "SjhC0idLGHZj",
    "outputId": "357bf4da-a977-4075-b8da-4b2a4973db9c"
   },
   "outputs": [],
   "source": [
    "miguel = 'el hombre que escaló la montaña'\n",
    "imprimir_4_veces(miguel)"
   ]
  },
  {
   "cell_type": "markdown",
   "metadata": {
    "id": "49KjtSFjGHia"
   },
   "source": [
    "El nombre de la variable que pasamos como argumento (`miguel`) no tiene nada que ver con el nombre del parámetro (`nombre`). No importa cuál sea el nombre del argumento que se utilizó en la definición; cuando aplicamos la función `imprimir_4_veces`  al parámetro `miguel` toda ocurrencia de `nombre` es cambiada por `miguel`.\n",
    "\n",
    "Para ejecuciones repetidas  de una misma instrucción o similares, podemos hacer un código más corto y mas legible utilizando la instrucción `for`: \n"
   ]
  },
  {
   "cell_type": "code",
   "execution_count": null,
   "metadata": {
    "executionInfo": {
     "elapsed": 288,
     "status": "ok",
     "timestamp": 1629981793085,
     "user": {
      "displayName": "Alejandro Leopoldo Tiraboschi",
      "photoUrl": "https://lh3.googleusercontent.com/a-/AOh14Gir321Aip7u2JtD7LMLQbY3a1oHsAD11CVed_UbeFc=s64",
      "userId": "02370857492204546552"
     },
     "user_tz": 180
    },
    "id": "D_7nIegodZWv"
   },
   "outputs": [],
   "source": [
    "def imprimir_4_veces_v2(nombre):\n",
    "    for _ in range(4):\n",
    "        print(nombre)"
   ]
  },
  {
   "cell_type": "markdown",
   "metadata": {
    "id": "t3glu1jvdcp2"
   },
   "source": [
    "Si ejecutamos\n"
   ]
  },
  {
   "cell_type": "code",
   "execution_count": null,
   "metadata": {
    "id": "FbfCzSoufQzy"
   },
   "outputs": [],
   "source": [
    "imprimir_4_veces_v2('¡Hola!')"
   ]
  },
  {
   "cell_type": "markdown",
   "metadata": {
    "id": "HEra2xHufQ9k"
   },
   "source": [
    "deberíamos ver algo como esto:\n",
    "```\n",
    "¡Hola!\n",
    "¡Hola!\n",
    "¡Hola!\n",
    "¡Hola!\n",
    "```\n",
    "\n",
    "Este es el uso más simple de la instrucción `for` que veremos con más profundidad después. Pero esto que explicamos es suficiente para permitirnos escribir un programa que generaliza la función anterior a un número determinado de repeticiones. Es decir,  podemos definir la función\n",
    "```\n",
    "imprimir_veces(n, nombre)\n",
    "```\n",
    "que imprime `n` veces la cadena nombre:"
   ]
  },
  {
   "cell_type": "code",
   "execution_count": null,
   "metadata": {
    "id": "pmat_DvFgNL1"
   },
   "outputs": [],
   "source": [
    "def imprimir_veces(n, nombre):\n",
    "    for _ in range(n):\n",
    "        print(nombre)\n",
    "\n",
    "imprimir_veces(5, '¡Adios!')"
   ]
  },
  {
   "cell_type": "markdown",
   "metadata": {
    "id": "Oi2GEKETgNWP"
   },
   "source": [
    "La sintaxis de una instrucción `for` es similar a la definición de una función. Tiene un encabezado que termina con dos puntos y un cuerpo justificado, generalmente a 4 espacios del `for`. El cuerpo puede contener cualquier número de declaraciones.\n",
    "\n",
    "Una instrucción `for` también se llama un *ciclo* porque el flujo de ejecución corre a través del cuerpo y luego regresa a la parte superior. En el caso de `imprimir_4_veces_v2` recorre el cuerpo cuatro veces. En  el caso de `imprimir_veces(n, nombre)` recorre el cuerpo la cantidad de veces que especifiquemos que vale `n`.\n"
   ]
  },
  {
   "cell_type": "markdown",
   "metadata": {
    "id": "sdnHXZBbic0b"
   },
   "source": [
    "## 9. Las variables y los parámetros son locales\n",
    "\n",
    "Cuando crea una variable dentro de una función, es *local*, lo que significa que solo existe dentro de la función. Por ejemplo:"
   ]
  },
  {
   "cell_type": "code",
   "execution_count": 15,
   "metadata": {
    "id": "K9f05EIoiXWJ"
   },
   "outputs": [],
   "source": [
    "def imprimir_dos_veces(nombre):\n",
    "    print(nombre)\n",
    "    print(nombre)\n",
    "\n",
    "def cat_dos_veces (parte_1, parte_2):\n",
    "    cat = parte_1 + parte_2\n",
    "    imprimir_dos_veces(cat)"
   ]
  },
  {
   "cell_type": "markdown",
   "metadata": {
    "id": "rSJZCmETjbHq"
   },
   "source": [
    "Esta función toma dos argumentos, los concatena e imprime el resultado dos veces. Aquí hay un ejemplo que lo usa:"
   ]
  },
  {
   "cell_type": "code",
   "execution_count": 16,
   "metadata": {
    "id": "mi3cLm5WjbQK"
   },
   "outputs": [
    {
     "name": "stdout",
     "output_type": "stream",
     "text": [
      "Buenas tardes, mucho gusto.\n",
      "Buenas tardes, mucho gusto.\n"
     ]
    }
   ],
   "source": [
    "linea_1 = 'Buenas tardes, '\n",
    "linea_2 = 'mucho gusto.'\n",
    "cat_dos_veces(linea_1, linea_2)"
   ]
  },
  {
   "cell_type": "markdown",
   "metadata": {
    "id": "xUpVqxT_jbYB"
   },
   "source": [
    "Cuando termina `cat_dos_veces`, la variable `cat` se destruye. Si intentamos imprimirla, obtenemos una excepción:"
   ]
  },
  {
   "cell_type": "code",
   "execution_count": 17,
   "metadata": {
    "id": "Wifkz2d8jbgx"
   },
   "outputs": [],
   "source": [
    "linea_1 = 'Buenas tardes, '\n",
    "linea_2 = 'mucho gusto.'\n",
    "cat_dos_veces(linea_1, linea_2)\n",
    "# print(cat) # descomentar la línea produce un error"
   ]
  },
  {
   "cell_type": "markdown",
   "metadata": {
    "id": "nYvCbDrbjbqd"
   },
   "source": [
    "Los parámetros también son locales. Por ejemplo, fuera de `imprimir_dos_veces`, no existe `nombre`."
   ]
  },
  {
   "cell_type": "markdown",
   "metadata": {
    "id": "NfgTPiFJjb8W"
   },
   "source": [
    "## 10. Funciones que devuelven valor y funciones nulas\n",
    "\n",
    "Algunas de las funciones que hemos utilizado, como las funciones matemáticas, devuelven resultados; a falta de un nombre mejor, las llamamos *funciones que devuelven valor*. Otras funciones, como `imprimir_dos_veces`, realizan una acción pero no devuelven un valor. Se llaman *funciones vacías*.\n",
    "\n",
    "A veces,  a las funciones que devuelven valor se las llama simplemente *funciones* y  a las funciones nulas se las llama *procedimientos*. \n",
    "\n",
    "Cuando se llama a una función que devuelve valor, casi siempre se quiere hacer algo con el resultado; por ejemplo, se puede asignar a una variable o usarse como parte de una expresión. Por ejemplo,  si corremos la siguiente celda de código\n"
   ]
  },
  {
   "cell_type": "code",
   "execution_count": 18,
   "metadata": {
    "id": "pIaR_659jcFR"
   },
   "outputs": [
    {
     "data": {
      "text/plain": [
       "1.618033988749895"
      ]
     },
     "execution_count": 18,
     "metadata": {},
     "output_type": "execute_result"
    }
   ],
   "source": [
    "import math\n",
    "(math.sqrt(5) + 1) / 2"
   ]
  },
  {
   "cell_type": "markdown",
   "metadata": {
    "id": "WjHqZivIjcPR"
   },
   "source": [
    "La función `math.sqrt()` aplicada a `5` nos devuelve un valor y si ejecutamos la celda de código anterior imprimimos su valor sumado `1` y dividido por `2`. Pero  ese valor se pierde, no puede ser reutilizado y por lo tanto la instrucción no es muy útil. Pero  si escribimos y ejecutamos:"
   ]
  },
  {
   "cell_type": "code",
   "execution_count": 19,
   "metadata": {
    "id": "BpsWnvjmjcZQ"
   },
   "outputs": [],
   "source": [
    "num_aureo = (math.sqrt(5) + 1) / 2"
   ]
  },
  {
   "cell_type": "markdown",
   "metadata": {
    "id": "jtpKXNic2Fmi"
   },
   "source": [
    "entonces `num_aureo` puede ser reutilizado. Por ejemplo, podemos comprobar  que si $\\rho$ es el *número áureo*,  entonces $$\\rho^2 - \\frac{1}{\\rho} - 2 = 0$$ "
   ]
  },
  {
   "cell_type": "code",
   "execution_count": 20,
   "metadata": {
    "id": "APeM7lds2Fw7"
   },
   "outputs": [
    {
     "data": {
      "text/plain": [
       "0.0"
      ]
     },
     "execution_count": 20,
     "metadata": {},
     "output_type": "execute_result"
    }
   ],
   "source": [
    "num_aureo**2 - (1 / num_aureo) - 2"
   ]
  },
  {
   "cell_type": "markdown",
   "metadata": {
    "id": "YTmKThM02F57"
   },
   "source": [
    "Las funciones nulas pueden mostrar algo en la pantalla o tener algún otro efecto, pero no tienen un valor de retorno. Si se asigna el resultado a una variable, obtiene un valor especial llamado `None`.\n"
   ]
  },
  {
   "cell_type": "code",
   "execution_count": 21,
   "metadata": {
    "id": "m4-FBXDq2GCG"
   },
   "outputs": [
    {
     "name": "stdout",
     "output_type": "stream",
     "text": [
      "Bing\n",
      "Bing\n",
      "None\n"
     ]
    }
   ],
   "source": [
    "resultado = imprimir_dos_veces('Bing')\n",
    "print(resultado)"
   ]
  },
  {
   "cell_type": "markdown",
   "metadata": {
    "id": "qYvZS8Fb2GL3"
   },
   "source": [
    "El valor `None` no es el mismo que la cadena `'None'`. Es un valor especial que tiene su propio tipo:\n"
   ]
  },
  {
   "cell_type": "code",
   "execution_count": 22,
   "metadata": {
    "executionInfo": {
     "elapsed": 4,
     "status": "ok",
     "timestamp": 1629987897704,
     "user": {
      "displayName": "Alejandro Leopoldo Tiraboschi",
      "photoUrl": "https://lh3.googleusercontent.com/a-/AOh14Gir321Aip7u2JtD7LMLQbY3a1oHsAD11CVed_UbeFc=s64",
      "userId": "02370857492204546552"
     },
     "user_tz": 180
    },
    "id": "s3YLlg-t2GT-"
   },
   "outputs": [
    {
     "data": {
      "text/plain": [
       "NoneType"
      ]
     },
     "execution_count": 22,
     "metadata": {},
     "output_type": "execute_result"
    }
   ],
   "source": [
    "type(None) # ejecutar esta celda"
   ]
  },
  {
   "cell_type": "markdown",
   "metadata": {
    "id": "sAUVYNTT2GcI"
   },
   "source": [
    "Las funciones que hemos escrito hasta ahora en este cuaderno son todas nulas. Comenzaremos a escribir funciones que devuelven valor en la próxima sección."
   ]
  },
  {
   "cell_type": "markdown",
   "metadata": {
    "id": "xs4M1ZMf2dxH"
   },
   "source": [
    "## 11. Funciones que devuelven valor\n",
    "Muchas de las funciones de Python que hemos utilizado, como las funciones matemáticas, producen valores de retorno. Pero las funciones que hemos definido son todas nulas: tienen un efecto, como imprimir un valor, pero no tienen un valor de retorno. En esta sección veremos como escribir funciones que devuelven valor.\n",
    "\n",
    "Llamar a una función que devuelve un valor,  generalmente  asigna este valor a una variable o usamos el valor como parte de una expresión. Por ejemplo: \n",
    "```\n",
    "e = math.exp(1.0)\n",
    "altura = radio * math.sin(radianes)\n",
    "```\n",
    "\n",
    "Veamos ahora un ejemplo de una función que devuelve valor definida por nosotros. La función será  `area()`, que devuelve el área de un círculo con el radio dado:\n",
    "\n"
   ]
  },
  {
   "cell_type": "code",
   "execution_count": 6,
   "metadata": {
    "id": "6Blq-wVZ2Gje"
   },
   "outputs": [],
   "source": [
    "def area(radio):\n",
    "    a = math.pi * radio ** 2 \n",
    "    return a"
   ]
  },
  {
   "cell_type": "markdown",
   "metadata": {
    "id": "TWLvc0ok2Gsc"
   },
   "source": [
    "La expresión `return` significa: \"termine inmediatamente esta función y use la siguiente expresión como valor de retorno\". La expresión a continuación del `return` puede ser arbitrariamente complicada, por lo que podríamos haber escrito esta función de manera más concisa:\n"
   ]
  },
  {
   "cell_type": "code",
   "execution_count": 7,
   "metadata": {
    "id": "jf3ZgOK22G1k"
   },
   "outputs": [],
   "source": [
    "def area(radio):\n",
    "    return math.pi * radio ** 2"
   ]
  },
  {
   "cell_type": "markdown",
   "metadata": {
    "id": "WygmyMQB2G94"
   },
   "source": [
    "Sin embargo, las variables temporales, como `a` en el ejemplo, pueden facilitar la comprensión de la definición de la función y también puede facilitar la depuración.\n",
    "\n",
    "Tan pronto como se ejecuta una instrucción de retorno o devolución,  es decir  `return`, la función termina sin ejecutar ninguna instrucción posterior. El código que aparece después o a posteriori de una instrucción `return` se llama *código muerto*. Por ejemplo, si ejecutamos\n"
   ]
  },
  {
   "cell_type": "code",
   "execution_count": 8,
   "metadata": {
    "id": "h-Id9Rfk2HGk"
   },
   "outputs": [],
   "source": [
    "def area(radio):\n",
    "    a = math.pi * radio ** 2 \n",
    "    return a\n",
    "    b = 2 # código  muerto\n",
    "    return b # código muerto"
   ]
  },
  {
   "cell_type": "markdown",
   "metadata": {
    "id": "J2Lx9TFD2HPA"
   },
   "source": [
    "entonces `area(1)` nos devuelve un valor aproximado de $\\pi$:"
   ]
  },
  {
   "cell_type": "code",
   "execution_count": 9,
   "metadata": {},
   "outputs": [
    {
     "data": {
      "text/plain": [
       "3.141592653589793"
      ]
     },
     "execution_count": 9,
     "metadata": {},
     "output_type": "execute_result"
    }
   ],
   "source": [
    "area(1)"
   ]
  },
  {
   "cell_type": "markdown",
   "metadata": {},
   "source": [
    "## 12. Ejemplo: conversión de formatos de grados (revisado)\n",
    "\n",
    "Hemos visto en la clase anterior la conversión de grados sexagesimales a grados decimales y viceversa. En  realidad la primera función recibe un ángulo en grados sexagesimales e imprime su valor en notación decimal. La segunda función recibe grados en notación decimal e imprime su equivalente en grados sexagesimales. \n",
    "\n",
    "Estas dos funciones, aunque responden \"visualmente\" (solo imprimen) a nuestras expectativas de conversión, no son muy útiles pues no es posible reutilizar los resultados para futuros usos. En  general, una función en un programa es una pequeña parte de una larga secuencia de instrucciones y funciones que se conectan y donde los resultados de una parte del programa se reutilizan en otra parte del programa. Es por eso que en general no tiene utilidad imprimir los valores que se obtienen de una función. Lo  que se debe hacer es devolver los valores con un `return`.\n",
    "\n",
    "Modifiquemos las dos funciones cambiando el `print` por  un `return`."
   ]
  },
  {
   "cell_type": "code",
   "execution_count": 10,
   "metadata": {},
   "outputs": [],
   "source": [
    "def sexa_a_deci(grados: int , minutos: int , segundos: float) -> float:\n",
    "    # pre: 0 <= grados, 0 <= minutos < 60, 0 <= segundos < 60\n",
    "    # post: devuelve el ángulo en grados sexagesimales en notación decimal\n",
    "    return grados + minutos / 60 + segundos / 3600"
   ]
  },
  {
   "cell_type": "markdown",
   "metadata": {},
   "source": [
    "Análogamente hacemos la conversión de grados decimales a sexagesimales:"
   ]
  },
  {
   "cell_type": "code",
   "execution_count": 11,
   "metadata": {},
   "outputs": [],
   "source": [
    "import math \n",
    "\n",
    "def deci_a_sexa(pos: float) -> tuple:\n",
    "    # pre: pos son grados en notación decimal, pos >= 0\n",
    "    # post:  devuelve pos en una 3-upla grados, minutos, segundos\n",
    "    grados = math.floor(pos)\n",
    "    resto = pos - grados\n",
    "    minutos = math.floor(resto * 60)\n",
    "    resto = resto * 60 - minutos\n",
    "    segundos = 60 * resto\n",
    "    return (grados, minutos, segundos)\n",
    "\n"
   ]
  },
  {
   "cell_type": "markdown",
   "metadata": {},
   "source": [
    "Esta última función devuelve una 3-upla con (grados, minutos, segundos) sexagesimales. Veremos el tipo tupla de Python en las próximas clases. \n",
    "\n",
    "El  tener funciones  que devuelven valor nos da una herramienta poderosa para contruir programas complejos. \n",
    "\n",
    "Veamos un ejemplo, no muy complicado,  del uso de estas funciones: recordemos que sumar grados sexagesimales,  aunque es algorítmico,  no se basa en un algoritmo muy sencillo. Un  forma sencilla de sumar dos ángulos en grados sexagesimales es  hacer la conversión a decimal, sumar y  el resultado convertirlo a sexagesimal. \n",
    "\n",
    "Sumemos 33° 23' 52'' y 77° 45' 12'':"
   ]
  },
  {
   "cell_type": "code",
   "execution_count": null,
   "metadata": {},
   "outputs": [],
   "source": [
    "ang1 = sexa_a_deci(33, 23, 52)\n",
    "ang2 = sexa_a_deci(77, 45, 12)\n",
    "ang = ang1 + ang2 # se suman grados decimales\n",
    "suma_sexa = deci_a_sexa(ang)\n",
    "print(suma_sexa)"
   ]
  },
  {
   "cell_type": "markdown",
   "metadata": {},
   "source": []
  },
  {
   "cell_type": "markdown",
   "metadata": {
    "id": "dIkC74lm2yIf"
   },
   "source": [
    "## 13. ¿Por qué funciones?\n",
    "\n",
    "Puede que no quede claro por qué vale la pena dividir un programa en funciones. Hay varias razones:\n",
    "\n",
    "- La creación de una nueva función te brinda la oportunidad de nombrar a un grupo de declaraciones, lo que hace que tu programa sea más fácil de leer y depurar.\n",
    "\n",
    "- Las funciones pueden hacer que un programa sea más pequeño al eliminar el código repetitivo. Posteriormente, si se realiza algún cambio, solo se debe hacer en un lugar.\n",
    "\n",
    "- Dividir un programa largo en funciones te permite depurar las partes de una en una y luego ensamblarlas en un todo funcional.\n",
    "\n",
    "- Las funciones bien diseñadas suelen ser útiles para muchos programas. Una vez que escribas y depures una, podés reutilizarla."
   ]
  },
  {
   "cell_type": "markdown",
   "metadata": {
    "id": "C3-Ti_9J22Lq"
   },
   "source": [
    "## 14. Depuración\n",
    "\n",
    "Una de las habilidades más importantes que adquirirás es la depuración. Aunque puede resultar frustrante, la depuración es una de las partes de la programación más interesantes, desafiantes e intelectualmente más enriquecedoras.\n",
    "\n",
    "De alguna manera, la depuración es como un trabajo de detective. Te enfrentás a pistas y tenés que inferir los procesos y eventos que llevaron a los resultados que ves.\n",
    "\n",
    "La depuración también es como una ciencia experimental. Una vez que tengas una idea de lo que va mal, modificá tu programa y volvé a intentarlo. Si tu hipótesis era correcta, podés predecir el resultado de la modificación y dar un paso más hacia un programa que funcione. Si tu hipótesis fue incorrecta, debés idear una nueva. Como señaló Sherlock Holmes: \n",
    "\n",
    "*Cuando hayas eliminado lo imposible, lo que quede, por improbable que sea, debe ser la verdad.*\n",
    "\n",
    "(A. Conan Doyle, El signo de los cuatro)\n",
    "\n",
    "Para algunas personas, programar y depurar son lo mismo. Es decir, la programación es el proceso de depurar gradualmente un programa hasta que hace lo que se desea. La idea es que debe comenzar con un programa que funcione y hacer pequeñas modificaciones, depurándolas a medida que se avanza."
   ]
  },
  {
   "cell_type": "markdown",
   "metadata": {},
   "source": [
    "## 15. Signatura \n",
    "\n",
    "La signatura o firma de una función define su entrada y su salida. Incluye por lo menos el nombre de la función y el número de sus parámetros. En algunos lenguajes de programación, puede incluir el tipo que devuelve la función o el tipo de sus parámetros.\n",
    "\n",
    "Por ejemplo, la signatura de la función que vimos en una clase anterior:\n",
    "```\n",
    "def imprimir_4_veces_v2(nombre):\n",
    "    for _ in range(4):\n",
    "        print(nombre)\n",
    "```\n",
    "es su nombre `imprimir_4_veces_v2` y que admite un parámetro. Aunque no está aclarado y el lenguage no exige aclararlo en forma explícita,  nosotros estamos pensando en que ese parámetro sea una cadena. \n",
    "\n",
    "En Python,  como ya vimos, no es obligatorio declarar los tipos de los parámetros y el tipo del valor que se devuelve en el caso de las funciones que devuelven valor. Sin embargo,  es una buena práctica y está permitido realizar anotaciones explicitando los tipos de todos los parámetros y valores. Veamos, por ejemplo, la función que ingresa dos parámetros, la base y la altura de un triángulo, números reales, y nos devuelve el área del triángulo, otro número real."
   ]
  },
  {
   "cell_type": "code",
   "execution_count": null,
   "metadata": {},
   "outputs": [],
   "source": [
    "def area_triángulo(base, altura):\n",
    "    area = base * altura / 2\n",
    "    return area"
   ]
  },
  {
   "cell_type": "markdown",
   "metadata": {},
   "source": [
    "La función anterior es perfectamente funcional y sirve a nuestro propósitos, pero si explicitamos su signatura es mucha más clara para el usuario:"
   ]
  },
  {
   "cell_type": "code",
   "execution_count": null,
   "metadata": {},
   "outputs": [],
   "source": [
    "def area_triángulo(base, altura: float) -> float:\n",
    "    area = base * altura / 2\n",
    "    return area"
   ]
  },
  {
   "cell_type": "markdown",
   "metadata": {},
   "source": [
    "Una vez explicitada la signatura, Python no controla que la misma se satisfaga. La signatura explícita es simplemente una notación que ayuda al programador a no cometer errores. "
   ]
  },
  {
   "cell_type": "markdown",
   "metadata": {},
   "source": [
    "## 16. Precondiciones y postcondiciones\n",
    "\n",
    "Cuando definimos una función además de la signatura hay otras dos anotaciones importantes que veremos ahora:\n",
    "- Una *precondición* de la función es algo que debe ser cierto al comienzo de la función para que esta funcione correctamente.\n",
    "- Una *postcondición* es algo que la función garantiza que es cierto cuando ella termina.\n",
    "\n",
    "Parte de la precondición puede ser la signatura explícita, pero no siempre es así:\n"
   ]
  },
  {
   "cell_type": "code",
   "execution_count": null,
   "metadata": {},
   "outputs": [],
   "source": [
    "def area_triángulo(base, altura: float) -> float:\n",
    "    assert type(base) == type(altura) == float, \"Los argumentos deben ser números decimales\"\n",
    "    # pre:  base, altura > 0\n",
    "    # post: devuelve area, la superficie de un triángulo de base base y altura altura\n",
    "    area = base * altura / 2\n",
    "    return area"
   ]
  },
  {
   "cell_type": "markdown",
   "metadata": {},
   "source": [
    "Las precondiciones y postcondiciones pueden ser formales o coloquiales y su objetivo es ayudar al programador que está leyendo el código a entender que prerequisitos tiene la función y qué es lo que hace.  \n",
    "\n",
    "Vermos en la próxima sección la instrucción `assert` que permite chequear, usualmente en parte,  si las precondiciones y postcondiciones se cumplen. \n",
    "\n",
    "A partir de ahora, al definir funciones, usaremos continuamente las anotaciones corespondientes a signaturas, precondiciones y postcondiciones. Con esta metodología el código es más \"largo\" pero mucho más legible. "
   ]
  },
  {
   "cell_type": "markdown",
   "metadata": {},
   "source": [
    "## 17. Ejemplo: medición de distancias en la Tierra\n",
    "\n",
    "\n",
    "La esencia del análisis geoespacial es descubrir las relaciones de los objetos en la Tierra. Los objetos que están más cerca tienden a tener una relación más fuerte que los que están más lejos más alejados. Este concepto se conoce como la Primera Ley de la Geografía de Tobler. Por lo tanto, la medición de la distancia es una función crítica del análisis geoespacial.\n",
    "\n",
    "Cada mapa es un modelo de la Tierra y todos están equivocados en cierta medida. Por eso, medir la distancia exacta entre dos puntos de la Tierra sentado frente a un ordenador es imposible. Incluso los topógrafos profesionales (que salen al campo tanto con equipos de observación tradicionales como con equipos de GPS muy precisos) no tienen en cuenta todas las anomalías de la superficie terrestre entre el punto A y el punto B. Por tanto, para medir la distancia, debemos plantearnos las siguientes preguntas:\n",
    "\n",
    "- ¿Qué estamos midiendo?\n",
    "- ¿Cuánto estamos midiendo?\n",
    "- ¿Qué precisión necesitamos?\n",
    "\n",
    "Ahora bien, para calcular la distancia, hay tres modelos de la Tierra que podemos utilizar:\n",
    "\n",
    "- Plano\n",
    "- Esférico\n",
    "- Elipsoide\n",
    "\n",
    "En el modelo plano, se utiliza la geometría euclidiana estándar. La Tierra se considera un plano sin curvatura, como los mapas que vemos en Google Maps u Open Street Maps,\n",
    "\n",
    "Este modelo hace que las matemáticas sean bastante sencillas porque se trabaja con líneas rectas. El formato más común para las coordenadas geoespaciales es el de los grados decimales. Sin embargo, las coordenadas de grados decimales son medidas de referencia en una esfera tomadas como ángulos -entre la longitud y el primer meridiano- y la latitud y el ecuador. Además, las líneas de longitud convergen hacia el cero en los polos. La circunferencia de cada línea de latitud también se reduce hacia los polos. Estos hechos significan que los grados decimales no son un sistema de coordenadas válido para la geometría euclidiana, que utiliza el plano.\n",
    "\n",
    "Las proyecciones cartográficas intentan simplificar los problemas de tratar con un elipsoide 3D en un plano 2D, ya sea en papel o en una pantalla de ordenador. Las proyecciones cartográficas aplanan un modelo redondo de la Tierra a un plano e introducen distorsiones a cambio de la comodidad de contar con un mapa en una hoja. Una vez que esta proyección está en su lugar y los grados decimales se cambian por un sistema de coordenadas cartesianas con coordenadas $x$ e $y$, podemos utilizar las formas más simples de la geometría euclidiana, es decir, el teorema de Pitágoras. \n",
    "\n",
    "A una escala suficientemente grande, una esfera o elipsoide como la Tierra se parece más a un plano que a una esfera. De hecho, durante siglos, todo el mundo pensó que la Tierra era plana. Si la diferencia en grados de longitud es lo suficientemente pequeña, a menudo se puede utilizar la geometría euclidiana y luego convertir las medidas en metros, kilómetros o millas. Este método generalmente no se recomienda, pero la decisión depende en última instancia de usted y de sus requisitos de precisión como analista.\n",
    "\n",
    "El enfoque del modelo esférico trata de aproximarse mejor a la realidad evitando los problemas derivados de aplastar la Tierra en una superficie plana. Como su nombre indica, este modelo utiliza una esfera perfecta para representar la Tierra (similar a un globo terráqueo físico), lo que nos permite trabajar con grados directamente. Este modelo ignora el hecho de que la Tierra es en realidad más bien un elipsoide con diferentes grados de grosor en su corteza. Pero al trabajar con la distancia en la superficie de una esfera, podemos empezar a medir distancias más largas con más precisión. \n"
   ]
  },
  {
   "cell_type": "markdown",
   "metadata": {},
   "source": [
    "### La fórmula del haverseno\n",
    "\n",
    "\n",
    "Aunque la modelización matemática más exacta de la Tierra es como un elipsoide de revolución, nosotros pensaremos a la Tierra como una esfera de radio 6.371 km. \n",
    "\n",
    "La distancia entre dos puntos en la Tierra viene dada por la longitud de la porción del *círculo máximo*, también llamado *geodésica*,  que los une. Los meridianos son los círculos máximos que pasan por los  polos,  pero hay otros círculos máximos. El ecuador terrestre es uno. En general dados dos puntos cualesquiera de la Tierra hay un círculo máximo que los contiene: es la intersección de la esfera con  el plano determinado por los dos puntos y el centro de la esfera.  Las círculos máximos en la esfera juegan el rol de las rectas en el plano y ellas permiten definir triángulos esféricos, cuadrados esféricos, etc. y,  en la denominada geometría esférica,  se pueden demostrar propiedades análogas a las que se obtienen en la geometría del plano.  Un *arco geodésico* entre dos puntos es la porción de círculo máximo que une los dos puntos y tiene longitud menor. La *distancia* en la Tierra entre dos puntos es la longitud del arco geodésico que une los dos puntos.\n",
    "\n",
    "Entonces ¿cómo podemoes estimar medir la distancia entre dos puntos? El método más popular es utilizar la *fórmula del haverseno* o *semiverseno*, que utiliza la trigonometría para calcular la longitud del arco geodésico entre dos puntos utilizando como entrada coordenadas definidas en grados decimales. \n",
    "\n",
    "Nosotros no utilizaremos la fórmula del haverseno directamente sino una simplificación de la misma:"
   ]
  },
  {
   "cell_type": "code",
   "execution_count": null,
   "metadata": {},
   "outputs": [],
   "source": [
    "from math import * # importa la biblioteca o módulo de matemática\n",
    "\n",
    "def distancia_terrestre(lon1, lat1, lon2, lat2):\n",
    "    # pre: (lon1, lat1) y (lon2, lat2) son coordenadas (lon, lat) de dos puntos en radianes.\n",
    "    # post: devuelve la distancia entre los dos puntos en kilómetros\n",
    "    x1, y1 = (pi / 180) * lon1,  (pi / 180) * lat1\n",
    "    x2, y2 =  (pi / 180) * lon2,  (pi / 180) * lat2\n",
    "    return acos(cos(y1) * cos(y2) * cos(x1 - x2) + sin(y1) * sin(y2)) * 6371"
   ]
  },
  {
   "cell_type": "markdown",
   "metadata": {},
   "source": [
    "No es difícil deducir la fórmula anterior usando conocimientos de trigonometría elemental.\n",
    "\n",
    "**Ejemplo.** Calculemos la distancia entre las capitales de Córdoba y San Juan. En  Wikipedia podemos obtener las coordenadas decimales de cada una de esta ciudades. Hay que observar que en la Wikipedia las coordenadas geográficas son latitud, longitud y nosotros en nuestro cálculos usamos longitud, latitud. \n",
    "\n",
    "- Cordoba : -64.183333, -31.416667 (lon, lat),\n",
    "- San Juan: -68.536389, -31.5375.\n",
    "\n",
    "Luego la distancia entre Córdoba y San Juan es:\n"
   ]
  },
  {
   "cell_type": "code",
   "execution_count": null,
   "metadata": {},
   "outputs": [
    {
     "data": {
      "text/plain": [
       "413.0025113879262"
      ]
     },
     "metadata": {},
     "output_type": "display_data"
    }
   ],
   "source": [
    "distancia_terrestre(-64.183333, -31.416667, -68.536389, -31.5375)"
   ]
  },
  {
   "cell_type": "markdown",
   "metadata": {},
   "source": [
    "Es decir 413.0025113879262 km. Podrán comprobar que podemos obtener una distancia muy parecida en Google Maps o Google Earth. "
   ]
  }
 ],
 "metadata": {
  "colab": {
   "authorship_tag": "ABX9TyNUj8Bp3lSqiWVZm5SK8uIi",
   "collapsed_sections": [],
   "name": "04 - Funciones (2º parte).ipynb",
   "provenance": []
  },
  "kernelspec": {
   "display_name": "Python 3 (ipykernel)",
   "language": "python",
   "name": "python3"
  },
  "language_info": {
   "codemirror_mode": {
    "name": "ipython",
    "version": 3
   },
   "file_extension": ".py",
   "mimetype": "text/x-python",
   "name": "python",
   "nbconvert_exporter": "python",
   "pygments_lexer": "ipython3",
   "version": "3.9.5"
  }
 },
 "nbformat": 4,
 "nbformat_minor": 4
}
