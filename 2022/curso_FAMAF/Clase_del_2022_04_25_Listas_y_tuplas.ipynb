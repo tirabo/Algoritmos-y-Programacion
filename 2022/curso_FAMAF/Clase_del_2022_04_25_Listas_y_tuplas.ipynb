{
 "cells": [
  {
   "cell_type": "markdown",
   "metadata": {},
   "source": [
    "# Listas y tuplas"
   ]
  },
  {
   "cell_type": "markdown",
   "metadata": {
    "id": "R22rHsKNE6_r"
   },
   "source": [
    "## 1. Listas\n",
    "\n",
    "Como una cadena, una *lista* es una secuencia de valores. En una cadena, los valores son caracteres; en una lista, pueden ser de cualquier tipo. Los valores de una lista se denominan *elementos* o, a veces, *items*.\n",
    "\n",
    "Hay varias formas de crear una lista nueva; lo más simple es encerrar los elementos entre corchetes `[` y `]`:\n"
   ]
  },
  {
   "cell_type": "code",
   "execution_count": null,
   "metadata": {
    "id": "hBu8JfswyYPk"
   },
   "outputs": [],
   "source": [
    "[10, 20, 30, 40]\n",
    "['Alberto', 'Pedro', 'Carla']"
   ]
  },
  {
   "cell_type": "markdown",
   "metadata": {
    "id": "N--Pmd2byYZ6"
   },
   "source": [
    "El primer ejemplo es una lista de cuatro números enteros. El segundo es una lista de tres cadenas. Los elementos de una lista no tienen que ser del mismo tipo. La siguiente lista contiene una cadena, un flotante, un número entero y otra lista:"
   ]
  },
  {
   "cell_type": "code",
   "execution_count": null,
   "metadata": {
    "id": "bVGUU2A-yrYu"
   },
   "outputs": [],
   "source": [
    "['spam', 2.0, 5, [10, 20]]"
   ]
  },
  {
   "cell_type": "markdown",
   "metadata": {
    "id": "OBqmo6Z0yrhx"
   },
   "source": [
    "si hay una lista dentro de otra lista se dice que hay una lista *anidada*. Veremos más adelante (en otra clase) un ejemplo muy importante de listas anidades, que son las *matrices*.\n",
    "\n",
    "Una lista que no contiene elementos se denomina lista vacía y se puede crear con `[]`.\n",
    "\n",
    "Como era de esperar, se puede asignar valores de listas a variables:"
   ]
  },
  {
   "cell_type": "code",
   "execution_count": null,
   "metadata": {
    "id": "BddiwXQKzPW1"
   },
   "outputs": [],
   "source": [
    "quesos = ['Cheddar', 'Edam', 'Gouda']\n",
    "números = [42, 123]\n",
    "vacío = []\n",
    "print(quesos, números, vacío)"
   ]
  },
  {
   "cell_type": "markdown",
   "metadata": {
    "id": "TaZ0hPAwzPgk"
   },
   "source": [
    "## 2. Acceder  a los elementos de una lista y otras operaciones comunes\n",
    "\n",
    "La sintaxis para acceder a los elementos de una lista es la misma que para acceder a los caracteres de una cadena: el operador de corchetes. La expresión entre corchetes especifica el índice. Recordá que los índices comienzan en 0:"
   ]
  },
  {
   "cell_type": "code",
   "execution_count": null,
   "metadata": {
    "id": "OeEOfzJJ0ATi"
   },
   "outputs": [],
   "source": [
    "quesos = ['Cheddar', 'Edam', 'Gouda']\n",
    "quesos[0]"
   ]
  },
  {
   "cell_type": "markdown",
   "metadata": {
    "id": "RyVzsy9K0Ag0"
   },
   "source": [
    "A diferencia de las cadenas, las listas son *mutables*. Cuando el operador de corchetes aparece en el lado izquierdo de una asignación, identifica el elemento de la lista que se asignará.\n",
    "\n",
    "\n"
   ]
  },
  {
   "cell_type": "code",
   "execution_count": null,
   "metadata": {
    "id": "4iCy8ehg1lca"
   },
   "outputs": [],
   "source": [
    "números = [42, 123]\n",
    "números[1] = 5\n",
    "números"
   ]
  },
  {
   "cell_type": "markdown",
   "metadata": {
    "id": "GLHxzWTr1llF"
   },
   "source": [
    "El  elemento de índice 1 en `números`, que era `123`, ahora es `5`.\n"
   ]
  },
  {
   "cell_type": "markdown",
   "metadata": {
    "id": "LgPeGJIr0YlD"
   },
   "source": [
    "Los índices de lista funcionan de la misma manera que los índices de cadena:\n",
    "\n",
    "- Cualquier expresión entera se puede utilizar como índice.\n",
    "- Si intentás leer o escribir un elemento que no existe, obtenés un `IndexError`.\n",
    "- Si un índice tiene un valor negativo, cuenta hacia atrás desde el final de la lista.\n"
   ]
  },
  {
   "cell_type": "code",
   "execution_count": null,
   "metadata": {
    "id": "Y0ucaPGQ2LKX"
   },
   "outputs": [],
   "source": [
    "números = [42, 123, 33, 5]\n",
    "números[-1]"
   ]
  },
  {
   "cell_type": "markdown",
   "metadata": {
    "id": "rX_fX9MJ2LRe"
   },
   "source": [
    "El operador `in` también funciona en listas."
   ]
  },
  {
   "cell_type": "code",
   "execution_count": null,
   "metadata": {
    "colab": {
     "base_uri": "https://localhost:8080/"
    },
    "executionInfo": {
     "elapsed": 241,
     "status": "ok",
     "timestamp": 1632175995024,
     "user": {
      "displayName": "Alejandro Leopoldo Tiraboschi",
      "photoUrl": "https://lh3.googleusercontent.com/a-/AOh14Gir321Aip7u2JtD7LMLQbY3a1oHsAD11CVed_UbeFc=s64",
      "userId": "02370857492204546552"
     },
     "user_tz": 180
    },
    "id": "j5m4gVq80dLk",
    "outputId": "f5c782c2-b7e3-4342-8bc7-c55c6ed8292d"
   },
   "outputs": [],
   "source": [
    "quesos = ['Cheddar', 'Edam', 'Gouda']\n",
    "print('Edam' in quesos)\n",
    "print('Brie' in quesos)\n",
    "print(['Cheddar', 'Edam'] in quesos)"
   ]
  },
  {
   "cell_type": "markdown",
   "metadata": {
    "id": "G92L2lx0RYIR"
   },
   "source": [
    "Como se puede observar al ejecutar la última línea de código de la celda anterior el operador `in` no detecta \"sublistas\". "
   ]
  },
  {
   "cell_type": "markdown",
   "metadata": {
    "id": "a4an9g8f0dTI"
   },
   "source": [
    "**Rebanadas (*slices* en inglés) de un lista.** El operador slice también funciona en listas:"
   ]
  },
  {
   "cell_type": "code",
   "execution_count": null,
   "metadata": {
    "id": "B_LEeKUIETNx"
   },
   "outputs": [],
   "source": [
    "t = ['a', 'b', 'c', 'd', 'e', 'f']\n",
    "print(t[1:3])\n",
    "print(t[:4])\n",
    "print(t[3:])"
   ]
  },
  {
   "cell_type": "markdown",
   "metadata": {
    "id": "A8jPcX2mETU6"
   },
   "source": [
    "Si se omite el primer índice, el la slice comienza por el principio. Si se omite el segundo, la slice llega al final. Así que si se omiten ambos, la slice es una copia de la lista completa.\n"
   ]
  },
  {
   "cell_type": "code",
   "execution_count": null,
   "metadata": {
    "id": "Eb4d8UiZFDJf"
   },
   "outputs": [],
   "source": [
    "t[:]"
   ]
  },
  {
   "cell_type": "markdown",
   "metadata": {
    "id": "nTH3zr4CO_5X"
   },
   "source": [
    "**Concatenar listas.** Al igual que en cadenas el operador `+` se utiliza para concatenar listas. Por ejemplo:"
   ]
  },
  {
   "cell_type": "code",
   "execution_count": null,
   "metadata": {
    "colab": {
     "base_uri": "https://localhost:8080/"
    },
    "executionInfo": {
     "elapsed": 251,
     "status": "ok",
     "timestamp": 1632175457907,
     "user": {
      "displayName": "Alejandro Leopoldo Tiraboschi",
      "photoUrl": "https://lh3.googleusercontent.com/a-/AOh14Gir321Aip7u2JtD7LMLQbY3a1oHsAD11CVed_UbeFc=s64",
      "userId": "02370857492204546552"
     },
     "user_tz": 180
    },
    "id": "TRY5A1okPAJI",
    "outputId": "94882717-82bb-41cb-cfd0-66c54539e4ad"
   },
   "outputs": [],
   "source": [
    "[1, 2, 3] + [5, 7, 9]"
   ]
  },
  {
   "cell_type": "markdown",
   "metadata": {
    "id": "UFtBljgfPkqC"
   },
   "source": [
    "Entre varias listas se puede aplicar en una misma expresión el operador `+`. El operador `+` es asociativo,  pero, obviamente, no es conmutativo. El *neutro* es la lista vacía `[]`,  es decir\n",
    "```\n",
    "lista + []  == lista\n",
    "```"
   ]
  },
  {
   "cell_type": "code",
   "execution_count": null,
   "metadata": {
    "id": "EUUE_yy0Pkzp"
   },
   "outputs": [],
   "source": [
    "lista = [1, 2, 3]\n",
    "lista + []  == lista"
   ]
  },
  {
   "cell_type": "markdown",
   "metadata": {
    "id": "0-YB2jTeQG-O"
   },
   "source": [
    "**La función `len`.** `len` es una función incorporada que devuelve el número de elementos de una lista:"
   ]
  },
  {
   "cell_type": "code",
   "execution_count": null,
   "metadata": {
    "id": "vlP5RMnZQHMZ"
   },
   "outputs": [],
   "source": [
    "vocales = ['a', 'e', 'i', 'o', 'u']\n",
    "len(vocales)"
   ]
  },
  {
   "cell_type": "markdown",
   "metadata": {
    "id": "YhqIWTStQmL3"
   },
   "source": [
    "Como en el case de las cadenas, invocar `lista[len(lista)]` devuelve un error pues la posición `len(lista)` no existe. \n",
    "\n",
    "**El operador `*`.** El operado `*` repite una lista aun número detreminado de veces. Su sintaxis es :\n",
    "```\n",
    "lista * n \n",
    "```\n",
    "y su efecto es hacer una lista que repite en orden todos los elementos de la lista original. Por ejemplo \n"
   ]
  },
  {
   "cell_type": "code",
   "execution_count": null,
   "metadata": {
    "id": "cBWqha4-ccbW"
   },
   "outputs": [],
   "source": [
    "[1, 2] * 3 == [1, 2, 1, 2, 1, 2]"
   ]
  },
  {
   "cell_type": "markdown",
   "metadata": {
    "id": "gMVaDFdzcciw"
   },
   "source": [
    "También se puede multiplicar por izquierda,  es indistinto:"
   ]
  },
  {
   "cell_type": "code",
   "execution_count": null,
   "metadata": {
    "id": "TefCMzwcczdi"
   },
   "outputs": [],
   "source": [
    "3 * [1, 2]"
   ]
  },
  {
   "cell_type": "markdown",
   "metadata": {
    "id": "1HXsQsUbczk_"
   },
   "source": [
    "Si  multiplicamos por 0 o por un número negativo obtenemos la lista vacía. Una de las aplicaciones más usuales del operador `*` es crear listas de determinada longitud. Por ejemplo:"
   ]
  },
  {
   "cell_type": "code",
   "execution_count": null,
   "metadata": {
    "id": "q-6njFvDdONO"
   },
   "outputs": [],
   "source": [
    "[0] * 10 # lista de 10 enteros, todos iguales a 0\n",
    "[''] * 10 # lista de diez cadenas vacías\n",
    "[[]] * 10  # lista de 10 listas vacías"
   ]
  },
  {
   "cell_type": "markdown",
   "metadata": {
    "id": "-n-AZHa5FDQj"
   },
   "source": [
    "## 3. Una lista es mutable\n",
    "\n",
    "Los tipos integrados como `int`, `float`, `bool`, `str` son inmutables. Sin embargo, los objetos de tipo `list`  o *listas* son contenedores ordenados y mutables de Python, siendo una de las estructuras de datos más comunes en Python. \n",
    "\n",
    "Podemos pensar a una lista como una referencia a los elementos que contiene y que es posible cambiar los elementos referenciado sin cambiar la referencia. \n",
    "\n",
    "Otra propiedad importante,  es que si dos variables de tipo `list` tiene la misma referencia, entonces el cambio de  elementos en una de ellas se reflejará en un cambio de elementos en la otra. Si ejecutamos: "
   ]
  },
  {
   "cell_type": "code",
   "execution_count": null,
   "metadata": {
    "id": "SOwkm9HkWntG"
   },
   "outputs": [],
   "source": [
    "lista1 = [1, 2, 3, 5, 7, 9]\n",
    "lista2 = lista1\n",
    "lista1[0] = -1\n",
    "print(lista1, lista2)"
   ]
  },
  {
   "cell_type": "markdown",
   "metadata": {
    "id": "9lHB6-QDfR0z"
   },
   "source": [
    "como `lista2` referencia a la misma lista de elementos que `lista1` cuando se modifique una de las listas se modificará la otra.\n",
    "\n",
    "Sin embargo, el manejo de este tipo de situaciones no es muy obvio. Por ejemplo si ejecutamos el siguiente código"
   ]
  },
  {
   "cell_type": "code",
   "execution_count": null,
   "metadata": {
    "colab": {
     "base_uri": "https://localhost:8080/"
    },
    "executionInfo": {
     "elapsed": 228,
     "status": "ok",
     "timestamp": 1632431054971,
     "user": {
      "displayName": "Alejandro Leopoldo Tiraboschi",
      "photoUrl": "https://lh3.googleusercontent.com/a-/AOh14Gir321Aip7u2JtD7LMLQbY3a1oHsAD11CVed_UbeFc=s64",
      "userId": "02370857492204546552"
     },
     "user_tz": 180
    },
    "id": "MEWTpssaeMS2",
    "outputId": "8253f055-6bd7-45e1-eb91-f3ed996c012d"
   },
   "outputs": [],
   "source": [
    "lista1 = [1, 2, 3, 4]\n",
    "lista2 = lista1\n",
    "lista1 = lista1[1:]\n",
    "print(lista1, lista2)"
   ]
  },
  {
   "cell_type": "markdown",
   "metadata": {
    "id": "iO-v-nstWn4Q"
   },
   "source": [
    "Nos damos cuenta que pese a que, por línea 2, `lista1` y `lista2` referencia a lo mismo,  al final referencian a listas diferentes. \n",
    "\n",
    "¿Qué pasó? En  realidad lo que pasa es que la actualización de una variable en Python (ver línea 3) no es una verdadera actualización:  destruye la variable (en este caso la referencia `lista1`) y  crea otra variable nueva (en este caso con el mismo nombre) que toma los valores que están a la derecha del `=`. Por lo tanto,  después de la línea 3 `lista1` y `lista2` referencian a listas diferentes.\n",
    "\n",
    "\n",
    "\n",
    "Dado que las listas son mutables, si queremos mantener una lista pero vamos a hacer operaciones que la modifiquen, es útil hacer una copia antes de realizar estas operaciones. Por ejemplo, ejecutando las siguientes líneas de código podemos observar la diferencia entre copiar la variable lista y copiar el contenido de una lista:"
   ]
  },
  {
   "cell_type": "code",
   "execution_count": null,
   "metadata": {
    "id": "lh3f8OWRE7Sc"
   },
   "outputs": [],
   "source": [
    "lista1 = [1, 2, 3, 5, 7, 9]\n",
    "lista2 = lista1 # lista1 y lista2 referencia a la misma lista de elementos\n",
    "lista3 = lista1[:] # lista3  es una copia de lista1\n",
    "lista1[0] = -1 # cambiamos el primer elemento de la lista de elementos referenciada por lista1\n",
    "print(lista2) # por lo tanto cambiamos la lista de elementos referenciada por lista2\n",
    "print(lista3) # lista3 no cambia.  "
   ]
  },
  {
   "cell_type": "markdown",
   "metadata": {
    "id": "x9Qj9zvWScwG"
   },
   "source": [
    "Observar que, como antes, `lista2` referencia a la misma lista que `lista1`: cuando se modifique una de las listas se modificará la otra. En  cambio, `lista3` es una copia de los elementos de la `lista1` y cuando modifiquemos `lista1` (o `lista2` en este caso) no afectará en nada a `lista3`. "
   ]
  },
  {
   "cell_type": "markdown",
   "metadata": {
    "id": "HjQjcqwiFGeI"
   },
   "source": [
    "## 4. Recorriendo una lista\n",
    "\n",
    "La forma más común de recorrer los elementos de una lista es con un ciclo `for`. La sintaxis es la misma  que para las cadenas:\n"
   ]
  },
  {
   "cell_type": "code",
   "execution_count": null,
   "metadata": {
    "id": "QTUGcA7PZRM3"
   },
   "outputs": [],
   "source": [
    "quesos = ['Cheddar', 'Edam', 'Gouda']\n",
    "for queso in quesos:\n",
    "    print(queso)"
   ]
  },
  {
   "cell_type": "markdown",
   "metadata": {
    "id": "XTYeRau6ZRUz"
   },
   "source": [
    "Esto funciona bien si solo se necesita leer los elementos de la  lista. Si se desea escribir o actualizar los elementos de la lista es necesario utilizar índices. Una forma habitual de hacerlo es combinar las funciones integradas `range` y `len`:"
   ]
  },
  {
   "cell_type": "code",
   "execution_count": null,
   "metadata": {
    "id": "3Xd7QxO5Z0IN"
   },
   "outputs": [],
   "source": [
    "numeros = [1, 2, 3, 4, 5]\n",
    "for i in range(len(numeros)):\n",
    "    numeros[i] = numeros[i]**2\n",
    "\n",
    "print(numeros) # ahora numeros es la lista original \"elevada al cuadrado\""
   ]
  },
  {
   "cell_type": "markdown",
   "metadata": {
    "id": "28vdIn7UZ0VM"
   },
   "source": [
    "Este ciclo recorre la lista y actualiza cada elemento. Como ya vimos, `len` devuelve el número de elementos de la lista. `range` devuelve una lista de índices de 0 a $n-1$, donde $n$ es la longitud de la lista. Cada vez que se recorre el ciclo, se obtiene en `i` el índice del siguiente elemento. La declaración de asignación en el cuerpo usa `i` para leer el antiguo valor del ítem y asignar el nuevo valor.\n",
    "\n",
    "Un ciclo `for` sobre una lista vacía nunca ejecuta el cuerpo:"
   ]
  },
  {
   "cell_type": "code",
   "execution_count": null,
   "metadata": {
    "id": "iZaAVIB0bPNJ"
   },
   "outputs": [],
   "source": [
    "for x en []:\n",
    "    print('Esto nunca se imprime.')"
   ]
  },
  {
   "cell_type": "markdown",
   "metadata": {
    "id": "WFBHlwCkbPZx"
   },
   "source": [
    "Aunque una lista puede contener otra lista, la lista anidada sigue contando como un solo elemento. La longitud de la siguiente  lista es cuatro:\n",
    "\n",
    "\n",
    "```\n",
    "['spam', 1, ['Brie', 'Roquefort', 'Pol le Veq'], [1, 2, 3]]\n",
    "```"
   ]
  },
  {
   "cell_type": "markdown",
   "metadata": {
    "id": "_6hXJSY9cHff"
   },
   "source": [
    "## 5. Métodos en listas\n",
    "\n",
    "Python proporciona métodos que operan en listas. Por ejemplo, `append` agrega un nuevo elemento al final de una lista:"
   ]
  },
  {
   "cell_type": "code",
   "execution_count": null,
   "metadata": {
    "id": "7skAS3JychC9"
   },
   "outputs": [],
   "source": [
    "t = ['a', 'b', 'c']\n",
    "t.append('d')\n",
    "print(t)"
   ]
  },
  {
   "cell_type": "markdown",
   "metadata": {
    "id": "RVfGzaQmchNS"
   },
   "source": [
    "El método `append()` es importante porque permite crear listas en forma iterativa. Por ejemplo si queremos crear la lista de los primeros 10  números naturales al cuadrado podemos hacer:"
   ]
  },
  {
   "cell_type": "code",
   "execution_count": null,
   "metadata": {
    "id": "MBrkb-XAfSmp"
   },
   "outputs": [],
   "source": [
    "cuadrados = []\n",
    "for i in range(1, 11): \n",
    "    cuadrados.append(i**2)\n",
    "\n",
    "print(cuadrados)"
   ]
  },
  {
   "cell_type": "markdown",
   "metadata": {
    "id": "u76lVCQDfSyO"
   },
   "source": [
    "\n",
    "\n",
    "El  métodos `extend()` aplicado a una lista toma otra lista como argumento y agrega todos sus elementos a la primera lista:\n"
   ]
  },
  {
   "cell_type": "code",
   "execution_count": null,
   "metadata": {
    "id": "uTqIgPqsdEvd"
   },
   "outputs": [],
   "source": [
    "t1 = ['a', 'b', 'c']\n",
    "t2 = ['d', 'e']\n",
    "t1.extend (t2)\n",
    "print(t1)\n",
    "print(t2)"
   ]
  },
  {
   "cell_type": "markdown",
   "metadata": {
    "id": "pYfBbf76dE2e"
   },
   "source": [
    "Este ejemplo deja `t2` sin modificar. Usar el método `extend()` es similar a la concatenación, la diferencia es que mientras `extend()`actualiza una lista, la concatenación crea una lista nueva.  \n",
    "\n",
    "El método `sort` ordena los elementos de la lista de menor a mayor:\n"
   ]
  },
  {
   "cell_type": "code",
   "execution_count": null,
   "metadata": {
    "colab": {
     "base_uri": "https://localhost:8080/"
    },
    "executionInfo": {
     "elapsed": 251,
     "status": "ok",
     "timestamp": 1632179311077,
     "user": {
      "displayName": "Alejandro Leopoldo Tiraboschi",
      "photoUrl": "https://lh3.googleusercontent.com/a-/AOh14Gir321Aip7u2JtD7LMLQbY3a1oHsAD11CVed_UbeFc=s64",
      "userId": "02370857492204546552"
     },
     "user_tz": 180
    },
    "id": "aHot_QyAdugi",
    "outputId": "dd9aa377-ff79-4389-e413-50634ed23c34"
   },
   "outputs": [],
   "source": [
    "t = ['d', 'c', 'e', 'b', 'a']\n",
    "t.sort ()\n",
    "print(t)"
   ]
  },
  {
   "cell_type": "markdown",
   "metadata": {
    "id": "dz24dmeiduqC"
   },
   "source": [
    "La mayoría de los métodos de lista son nulos: modifican la lista y devuelven `None`. Si escribís accidentalmente `t = t.sort()`, la lista `t` original desaparecerá y se convertirá en `None`.\n",
    "\n",
    "Debemos remarcar que en listas existe la función `sorted()` que se aplica a una lista y devuelve una lista con los contenidos de la primera pero ordenada. Por ejemplo:\n",
    "\n"
   ]
  },
  {
   "cell_type": "code",
   "execution_count": null,
   "metadata": {
    "colab": {
     "base_uri": "https://localhost:8080/"
    },
    "executionInfo": {
     "elapsed": 259,
     "status": "ok",
     "timestamp": 1632179515548,
     "user": {
      "displayName": "Alejandro Leopoldo Tiraboschi",
      "photoUrl": "https://lh3.googleusercontent.com/a-/AOh14Gir321Aip7u2JtD7LMLQbY3a1oHsAD11CVed_UbeFc=s64",
      "userId": "02370857492204546552"
     },
     "user_tz": 180
    },
    "id": "JGnGfg2gcHyS",
    "outputId": "89c894f2-94aa-4660-fa83-624a2df40466"
   },
   "outputs": [],
   "source": [
    "t = ['d', 'c', 'e', 'b', 'a']\n",
    "s = sorted(t)\n",
    "print(t)\n",
    "print(s)"
   ]
  },
  {
   "cell_type": "markdown",
   "metadata": {
    "id": "SwoHH5DmexZQ"
   },
   "source": [
    "Como se puede observar, la lista `t` no ha sido modificada por `sorted()`. \n",
    "\n",
    "Otros métodos que resultan útiles son los que remueven elementos. Se pueden remover elementos de  una lista de dos maneras. Una de ellas es removiendo un elemento por índice, la otra es removiendo el elemento mismo. \n",
    "\n",
    "El método `pop()` recibe como prarámetro un entero,  remueve el elemento con ese índice en la lista y devuelve el elemento. Es decir\n",
    "```\n",
    "lista.pop(i)\n",
    "```\n",
    "remueve el elemento de índice `i` de `lista` y devuelve el elemento de índice `i` de la lista original. Por ejemplo:\n",
    "\n"
   ]
  },
  {
   "cell_type": "code",
   "execution_count": null,
   "metadata": {
    "colab": {
     "base_uri": "https://localhost:8080/"
    },
    "executionInfo": {
     "elapsed": 371,
     "status": "ok",
     "timestamp": 1633108996563,
     "user": {
      "displayName": "Alejandro Leopoldo Tiraboschi",
      "photoUrl": "https://lh3.googleusercontent.com/a-/AOh14Gir321Aip7u2JtD7LMLQbY3a1oHsAD11CVed_UbeFc=s64",
      "userId": "02370857492204546552"
     },
     "user_tz": 180
    },
    "id": "sR_ScNERhsRy",
    "outputId": "5b669b42-606f-495c-802f-3a7b9084d244"
   },
   "outputs": [],
   "source": [
    "t = ['a', 'b', 'c']\n",
    "x = t.pop(1)\n",
    "print(t)\n",
    "print(x)"
   ]
  },
  {
   "cell_type": "markdown",
   "metadata": {
    "id": "vXyJtGQZhsdz"
   },
   "source": [
    "remueve el elemento de índice 1 en la lista `t` (antes de ser modificada). Si `pop()` no recibe ningún argumento remueve y devuelve el último elemento de la lista y si la lista es vacía se produce un error.\n",
    "\n",
    "\n"
   ]
  },
  {
   "cell_type": "code",
   "execution_count": null,
   "metadata": {},
   "outputs": [],
   "source": [
    "t = ['a', 'b', 'c']\n",
    "x = t.pop()\n",
    "print(t)\n",
    "print(x)"
   ]
  },
  {
   "cell_type": "markdown",
   "metadata": {},
   "source": [
    "El método `remove()` recibe como parámetro un elemento y remueve la primer ocurrencia de ese elemento en la lista, si el elemento está en la lista. Si no, se produce un error. Es decir \n",
    "\n",
    "```\n",
    "lista.remove(x)\n",
    "```\n",
    "remueve la primera ocurrencia del elemento `x` en `lista` y si `x not in lista` se produce un error. Por ejemplo:"
   ]
  },
  {
   "cell_type": "code",
   "execution_count": null,
   "metadata": {
    "id": "vy5rnGFTiOQO"
   },
   "outputs": [],
   "source": [
    "t = ['a', 'b', 'c', 'b']\n",
    "t.remove('b')\n",
    "print(t)\n",
    "# t.remove('z') # descomentar lo anterior produce un error"
   ]
  },
  {
   "cell_type": "markdown",
   "metadata": {
    "id": "f-awYc8ihXxM"
   },
   "source": [
    "Una forma muy usual de remover elementos es primero comprobar si existe y luego removerlo. Por ejemplo, removamos todas las ocurrencias de `b` en la lista `['a', 'b', 'c', 'b']`:"
   ]
  },
  {
   "cell_type": "code",
   "execution_count": null,
   "metadata": {
    "id": "o_UHJb0JhYpM"
   },
   "outputs": [],
   "source": [
    "t = ['a', 'b', 'c', 'b']\n",
    "while 'b' in t:\n",
    "    t.remove('b')\n",
    "print(t)"
   ]
  },
  {
   "cell_type": "markdown",
   "metadata": {
    "id": "2z6zqILjbeY5"
   },
   "source": [
    "## 6. Listas como argumentos de funciones \n",
    "\n",
    "Habíamos visto que las variables de tipos inmutables pasadas como argumentos de funciones si eran modificadas en el cuerpo de la función no las afectaba, pues en realidad la función copia la variable y todo cambio se hace sobre la copia, no sobre la variable original. \n",
    "\n",
    "Cuando se pasa una lista como uno de los argumentos de una función, la función obtiene una referencia a la lista y la copia. Si la función modifica la lista, la lista original (en realidad la única lista en juego) ve el cambio, pues la referencia copiada contiene los mismos elementos.  \n",
    "\n",
    "Por ejemplo, `eliminar_encabezado()` elimina el primer elemento de una lista:"
   ]
  },
  {
   "cell_type": "code",
   "execution_count": null,
   "metadata": {
    "id": "p_yZH21GmfnR"
   },
   "outputs": [],
   "source": [
    "def eliminar_encabezado(lista: list):\n",
    "    lista.pop(0)\n",
    "\n",
    "lista = [1, 2, 3, 4]\n",
    "print(lista)\n",
    "eliminar_encabezado(lista)\n",
    "print(lista)"
   ]
  },
  {
   "cell_type": "markdown",
   "metadata": {
    "id": "hBtD9vQAmfxa"
   },
   "source": [
    "Es importante distinguir entre operaciones que modifican listas y operaciones que crean nuevas listas. Por ejemplo, el método `append` modifica una lista, pero el operador `+` crea una nueva lista.\n",
    "\n",
    "Aquí hay un ejemplo usando `append`:"
   ]
  },
  {
   "cell_type": "code",
   "execution_count": null,
   "metadata": {
    "id": "flBiPMzsnqIr"
   },
   "outputs": [],
   "source": [
    "t1 = [1, 2]\n",
    "t2 = t1.append (3)\n",
    "print(t1)\n",
    "print(t2)"
   ]
  },
  {
   "cell_type": "markdown",
   "metadata": {
    "id": "t6LkBnGHnqRA"
   },
   "source": [
    "El valor de retorno de `append` es` None`.\n",
    "\n",
    "Aquí hay un ejemplo usando el operador `+`:"
   ]
  },
  {
   "cell_type": "code",
   "execution_count": null,
   "metadata": {
    "colab": {
     "base_uri": "https://localhost:8080/"
    },
    "executionInfo": {
     "elapsed": 256,
     "status": "ok",
     "timestamp": 1632430996354,
     "user": {
      "displayName": "Alejandro Leopoldo Tiraboschi",
      "photoUrl": "https://lh3.googleusercontent.com/a-/AOh14Gir321Aip7u2JtD7LMLQbY3a1oHsAD11CVed_UbeFc=s64",
      "userId": "02370857492204546552"
     },
     "user_tz": 180
    },
    "id": "VW_QnaFRn4vn",
    "outputId": "d8d9a8a4-8849-4d50-c151-72e655d8c0bf"
   },
   "outputs": [],
   "source": [
    "t3 = t1 + [4]\n",
    "print(t1)\n",
    "print(t3) "
   ]
  },
  {
   "cell_type": "markdown",
   "metadata": {
    "id": "Tgp9VO67n42J"
   },
   "source": [
    "El resultado del operador es una nueva lista y la lista original no se modifica.\n",
    "\n",
    "Esta diferencia es importante cuando se escriben funciones que se supone modifican listas. Por ejemplo, esta función *no* elimina el encabezado de una lista:"
   ]
  },
  {
   "cell_type": "code",
   "execution_count": null,
   "metadata": {
    "colab": {
     "base_uri": "https://localhost:8080/"
    },
    "executionInfo": {
     "elapsed": 261,
     "status": "ok",
     "timestamp": 1632182167041,
     "user": {
      "displayName": "Alejandro Leopoldo Tiraboschi",
      "photoUrl": "https://lh3.googleusercontent.com/a-/AOh14Gir321Aip7u2JtD7LMLQbY3a1oHsAD11CVed_UbeFc=s64",
      "userId": "02370857492204546552"
     },
     "user_tz": 180
    },
    "id": "BR1XMpFqoN2W",
    "outputId": "8114703b-a5ba-466b-e7a1-2fe78b399134"
   },
   "outputs": [],
   "source": [
    "def eliminar_encabezado_malo(lista: list):\n",
    "    lista = lista[1:] # ¡INCORRECTO! (lista es una copia del lo que ha sido ingresado como parámetro)\n",
    "\n",
    "lista = [1, 2, 3, 4]\n",
    "print(lista)\n",
    "eliminar_encabezado_malo(lista)\n",
    "print(lista)"
   ]
  },
  {
   "cell_type": "markdown",
   "metadata": {
    "id": "ZzWfiERLoOAO"
   },
   "source": [
    "El operador slice crea una nueva lista y la asignación hace que `lista` se refiera a esta nueva lista, pero eso no afecta a la lista que ingresó como parámetro. En  este caso, la función está creando una variable local llamada `lista`, pero esa variable local ya no es la misma referencia que la variable original `lista`.\n",
    "\n",
    "Una alternativa para obtener lo que queremos sin modificar la lista original es escribir una función que cree y devuelva una nueva lista. Por ejemplo, `cola` devuelve todo menos el primer elemento de una lista:"
   ]
  },
  {
   "cell_type": "code",
   "execution_count": null,
   "metadata": {
    "id": "IrGSPxQuqAem"
   },
   "outputs": [],
   "source": [
    "def cola(lista: list) -> list:\n",
    "    return lista[1:]"
   ]
  },
  {
   "cell_type": "markdown",
   "metadata": {
    "id": "9aZ3JMhbqAmN"
   },
   "source": [
    "Esta función deja la lista original sin modificar. Así es como se usa:"
   ]
  },
  {
   "cell_type": "code",
   "execution_count": null,
   "metadata": {
    "colab": {
     "base_uri": "https://localhost:8080/"
    },
    "executionInfo": {
     "elapsed": 259,
     "status": "ok",
     "timestamp": 1632182594430,
     "user": {
      "displayName": "Alejandro Leopoldo Tiraboschi",
      "photoUrl": "https://lh3.googleusercontent.com/a-/AOh14Gir321Aip7u2JtD7LMLQbY3a1oHsAD11CVed_UbeFc=s64",
      "userId": "02370857492204546552"
     },
     "user_tz": 180
    },
    "id": "ZpYxqP8sFHmR",
    "outputId": "95322dea-5c5d-45d0-e10b-96f0882c24c3"
   },
   "outputs": [],
   "source": [
    "letras = ['a', 'b', 'c']\n",
    "resto = cola(letras)\n",
    "print(resto)"
   ]
  },
  {
   "cell_type": "markdown",
   "metadata": {
    "id": "eoc3SHrh1vLO"
   },
   "source": [
    "## 7. Tuplas\n",
    "\n",
    "Una *tupla* en Python es una secuencia de elementos. A diferencia de las listas las tuplas las son un tipo de secuencia inmutable. Esto quiere decir que una tupla no puede ser modificada (no se pueden añadir ni eliminar elementos a una tupla).\n",
    "\n",
    "En  Python una tupla tiene el tipo `tuple`. Las tuplas se crean utilizando paréntesis (en vez de corchetes). Por ejemplo\n"
   ]
  },
  {
   "cell_type": "code",
   "execution_count": null,
   "metadata": {
    "id": "p5kf3SfR2ul9"
   },
   "outputs": [],
   "source": [
    "a = (1, 2, 3)\n",
    "type(a)"
   ]
  },
  {
   "cell_type": "markdown",
   "metadata": {
    "id": "60Ai6LVm231w"
   },
   "source": [
    "Los mayoría de los métodos u operaciones de listas que no  impliquen modificaciones en la lista o listas son soportados por el tipo `tuple`. Veamos algunos ejemplos :"
   ]
  },
  {
   "cell_type": "code",
   "execution_count": null,
   "metadata": {
    "colab": {
     "base_uri": "https://localhost:8080/"
    },
    "executionInfo": {
     "elapsed": 600,
     "status": "ok",
     "timestamp": 1632237259597,
     "user": {
      "displayName": "Alejandro Leopoldo Tiraboschi",
      "photoUrl": "https://lh3.googleusercontent.com/a-/AOh14Gir321Aip7u2JtD7LMLQbY3a1oHsAD11CVed_UbeFc=s64",
      "userId": "02370857492204546552"
     },
     "user_tz": 180
    },
    "id": "mPd-42Rm24C8",
    "outputId": "311f1071-8b1b-4a12-a708-0ffe32f245cb"
   },
   "outputs": [],
   "source": [
    "a, b = (1, 2, 3), (6, 8, 7)\n",
    "print(len(a))\n",
    "print(a[0], a[1], a[2])\n",
    "print(a * 2)\n",
    "print(a + b)"
   ]
  },
  {
   "cell_type": "markdown",
   "metadata": {
    "id": "8o0sgRmB3odP"
   },
   "source": [
    "La notación slice también se aplica para listas (con uso también de corchetes):"
   ]
  },
  {
   "cell_type": "code",
   "execution_count": null,
   "metadata": {
    "colab": {
     "base_uri": "https://localhost:8080/"
    },
    "executionInfo": {
     "elapsed": 390,
     "status": "ok",
     "timestamp": 1632236483840,
     "user": {
      "displayName": "Alejandro Leopoldo Tiraboschi",
      "photoUrl": "https://lh3.googleusercontent.com/a-/AOh14Gir321Aip7u2JtD7LMLQbY3a1oHsAD11CVed_UbeFc=s64",
      "userId": "02370857492204546552"
     },
     "user_tz": 180
    },
    "id": "B2U-WDH23oo0",
    "outputId": "b225ae5c-1819-47b1-960e-84a105ab9ba1"
   },
   "outputs": [],
   "source": [
    "a = (1, 2, 3, 6, 7, 8)\n",
    "print(a[2:4])\n",
    "b = a[:]\n",
    "print(b)"
   ]
  },
  {
   "cell_type": "markdown",
   "metadata": {
    "id": "2Lvrr7Ke4GaT"
   },
   "source": [
    "Obviamente,  debido a que las tuplas son inmutables, una asignación a un elemento de una tupla resultará en error. Por ejemplo, el siguiente código\n",
    "```\n",
    "a = (1, 2, 3)\n",
    "a[0] = -1\n",
    "```\n",
    "producirá un error.\n",
    "\n",
    "Las tuplas son usadas cuando queremos garantizar la inmutabilidad de una serie ordenada de datos. En las funciones cuando es necesario devolver muchos valores, los agrupamos en una tupla o los ponemos después del `return` uno tras otro separados por comas y lo que se devuelve es una tupla con esos valores. Por ejemplo:\n",
    "\n"
   ]
  },
  {
   "cell_type": "code",
   "execution_count": null,
   "metadata": {
    "colab": {
     "base_uri": "https://localhost:8080/"
    },
    "executionInfo": {
     "elapsed": 410,
     "status": "ok",
     "timestamp": 1632236909943,
     "user": {
      "displayName": "Alejandro Leopoldo Tiraboschi",
      "photoUrl": "https://lh3.googleusercontent.com/a-/AOh14Gir321Aip7u2JtD7LMLQbY3a1oHsAD11CVed_UbeFc=s64",
      "userId": "02370857492204546552"
     },
     "user_tz": 180
    },
    "id": "esOYmvxf5Vy1",
    "outputId": "ad509e22-3027-4541-9b83-ed9f401d6b31"
   },
   "outputs": [],
   "source": [
    "def devolver_varios(a, b, c: int) -> tuple:\n",
    "    return a, b, c\n",
    "\n",
    "x = devolver_varios(1, 5, 7)\n",
    "print(x, type(x))"
   ]
  },
  {
   "cell_type": "markdown",
   "metadata": {
    "id": "p4elB5Zr6AFs"
   },
   "source": [
    "Obviamente, cada valor de lo que devuelve la función se recupera con el índice correspondiente. \n",
    "\n",
    "También está permitido asignar una tupla a una serie de valores. Por  ejemplo:"
   ]
  },
  {
   "cell_type": "code",
   "execution_count": null,
   "metadata": {
    "id": "AmDlRH626fW8"
   },
   "outputs": [],
   "source": [
    "a, b, c = devolver_varios(1, 5, 7)\n",
    "print(a, b, c)"
   ]
  },
  {
   "cell_type": "markdown",
   "metadata": {
    "id": "dbrGlVC38-Zz"
   },
   "source": [
    "Como en el caso de las listas, también está permitido recorrer una tupla. Se usa la misma sintaxis que para listas."
   ]
  },
  {
   "cell_type": "code",
   "execution_count": null,
   "metadata": {},
   "outputs": [],
   "source": [
    "for x in (1, 2, 3):\n",
    "    print(x**2)"
   ]
  },
  {
   "cell_type": "markdown",
   "metadata": {
    "id": "Yd-U8rpz7Eaj"
   },
   "source": [
    "Por último, es útil conocer que podemos convertir tuplas en listas y viceversa. La primera operación se hace con la función `list()` y  la segunda con la función `tuple()`. Veamos algunos ejemplos:"
   ]
  },
  {
   "cell_type": "code",
   "execution_count": null,
   "metadata": {
    "colab": {
     "base_uri": "https://localhost:8080/"
    },
    "executionInfo": {
     "elapsed": 386,
     "status": "ok",
     "timestamp": 1632237434431,
     "user": {
      "displayName": "Alejandro Leopoldo Tiraboschi",
      "photoUrl": "https://lh3.googleusercontent.com/a-/AOh14Gir321Aip7u2JtD7LMLQbY3a1oHsAD11CVed_UbeFc=s64",
      "userId": "02370857492204546552"
     },
     "user_tz": 180
    },
    "id": "rTizAayg7aaZ",
    "outputId": "52144b1a-10ff-4312-a84a-bc9b64876a74"
   },
   "outputs": [],
   "source": [
    "a = (1, 3, 5, 7)\n",
    "b = list(a)\n",
    "print(b)\n",
    "c = [7, 8, 9]\n",
    "d = tuple(c)\n",
    "print(d)"
   ]
  },
  {
   "cell_type": "markdown",
   "metadata": {
    "id": "JkvobkPl8kJP"
   },
   "source": [
    "## 8. Igualdad de listas y tuplas\n",
    "\n",
    "Dos listas o tuplas son iguales si tienen los mismos elementos en el mismo orden. Por ejemplo "
   ]
  },
  {
   "cell_type": "code",
   "execution_count": null,
   "metadata": {
    "id": "QOXH9JUb8kVp"
   },
   "outputs": [],
   "source": [
    "lista1 = [1, 2 , 3, 4]\n",
    "lista2 = [1, 2 , 3, 4]\n",
    "print(lista1 == lista2)"
   ]
  },
  {
   "cell_type": "markdown",
   "metadata": {
    "id": "KQ1OIbhR8kfT"
   },
   "source": [
    "Observar que decir que dos listas son iguales no es lo mismo que decir que son la misma lista. En el ejemplo anterior `lista1` y `lista2` son *dos* listas diferentes, pero que tienen los mismos elementos, en el mismo orden. Se podría decir que físicamente los  elementos de `lista1` ocupan otro lugar que los elementos de `lista2`.  \n",
    "\n",
    "La comparación de listas se hace recorriendo una lista y verificando si los elementos son iguales a los de la otra lista en la misma posición. Para tuplas es análogo.\n",
    "\n",
    "Generalizando la comprobación de la igualdad, también funcionan `<`, `<=`, `>`, `>=` para listas cuyos elementos con comparables con esos operadores. En  este caso,  si `a` y `b` son listas, entonces  `a < b`  si son iguales hasta cierto punto y  cuando son distintas en el índice `i` entonces `a[i] < b[i]`. También `a < b` si son  iguales hasta cierto índice, ese índice es el último de `a` y `len(a) < len(b)`. Esto es el llamado *orden lexicográfico*, que no es otra cosa que el orden de las palabras en un diccionario. Por ejemplo: \n"
   ]
  },
  {
   "cell_type": "code",
   "execution_count": null,
   "metadata": {
    "id": "ERgEPy6g8kp0"
   },
   "outputs": [],
   "source": [
    "a = [1, 2, 3, 4, 5]\n",
    "b = [1, 3, 3, 4]\n",
    "print(a < b)\n",
    "a = [1, 2, 3]\n",
    "b = [1, 2, 3, 4]\n",
    "print(a < b)"
   ]
  }
 ],
 "metadata": {
  "colab": {
   "authorship_tag": "ABX9TyPd5tbxXlA39S5IzW5mntxq",
   "collapsed_sections": [],
   "name": "08 - Listas y tuplas.ipynb",
   "provenance": [
    {
     "file_id": "1xAQjMSDYcbbboh8m_9WXaYMH1SSGuIBd",
     "timestamp": 1632148550083
    },
    {
     "file_id": "12JEEA3IEaWpYphTR4mmvjYbFI39K_wwX",
     "timestamp": 1631719743151
    }
   ]
  },
  "kernelspec": {
   "display_name": "Python 3 (ipykernel)",
   "language": "python",
   "name": "python3"
  },
  "language_info": {
   "codemirror_mode": {
    "name": "ipython",
    "version": 3
   },
   "file_extension": ".py",
   "mimetype": "text/x-python",
   "name": "python",
   "nbconvert_exporter": "python",
   "pygments_lexer": "ipython3",
   "version": "3.9.6"
  }
 },
 "nbformat": 4,
 "nbformat_minor": 4
}
